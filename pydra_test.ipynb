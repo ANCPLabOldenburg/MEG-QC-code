{
 "cells": [
  {
   "cell_type": "code",
   "execution_count": 1,
   "metadata": {},
   "outputs": [],
   "source": [
    "import nest_asyncio\n",
    "\n",
    "nest_asyncio.apply()\n",
    "\n",
    "import pydra"
   ]
  },
  {
   "cell_type": "code",
   "execution_count": 2,
   "metadata": {},
   "outputs": [
    {
     "data": {
      "text/plain": [
       "Result(output=Output(sum_a_b=9), runtime=None, errored=False)"
      ]
     },
     "execution_count": 2,
     "metadata": {},
     "output_type": "execute_result"
    }
   ],
   "source": [
    "\n",
    "@pydra.mark.task\n",
    "def add_var(a, b) ->{'sum_a_b': int} :\n",
    "    return a + b\n",
    "\n",
    "task1 = add_var()\n",
    "\n",
    "task1.inputs.a = 3\n",
    "task1.inputs.b = 6\n",
    "\n",
    "task1()"
   ]
  },
  {
   "attachments": {},
   "cell_type": "markdown",
   "metadata": {},
   "source": [
    "\n",
    "## create workflows using pydra\n",
    "\n",
    "First we will define the functions used within the workflows\n"
   ]
  },
  {
   "cell_type": "code",
   "execution_count": 3,
   "metadata": {},
   "outputs": [],
   "source": [
    "@pydra.mark.task\n",
    "def add_var(a, b):\n",
    "    return a+b\n",
    "\n",
    "@pydra.mark.task\n",
    "def power(a, n=2):\n",
    "    return a**n\n",
    "\n",
    "@pydra.mark.task\n",
    "def mult_var(a,b):\n",
    "    return a*b\n",
    "\n",
    "@pydra.mark.task\n",
    "def add_two(a):\n",
    "    return a+2\n"
   ]
  },
  {
   "attachments": {},
   "cell_type": "markdown",
   "metadata": {},
   "source": [
    "Now, we define some workflows to get a feeling of how to connect the different task within a workflow"
   ]
  },
  {
   "cell_type": "code",
   "execution_count": 4,
   "metadata": {},
   "outputs": [
    {
     "data": {
      "text/plain": [
       "Result(output=Output(out=7), runtime=None, errored=False)"
      ]
     },
     "execution_count": 4,
     "metadata": {},
     "output_type": "execute_result"
    }
   ],
   "source": [
    "wf1 = pydra.Workflow(name= 'wf1', input_spec=['x','y'], x=3,y=4)\n",
    "\n",
    "wf1.add(add_var(name='sum_x_y', a=wf1.lzin.x, b=wf1.lzin.y))\n",
    "\n",
    "wf1.set_output([('out', wf1.sum_x_y.lzout.out)])\n",
    "\n",
    "with pydra.Submitter(plugin='cf') as sub:\n",
    "    sub(wf1)\n",
    "\n",
    "\n",
    "wf1.result()\n",
    "\n"
   ]
  },
  {
   "attachments": {},
   "cell_type": "markdown",
   "metadata": {},
   "source": [
    "Now, that we have created a simple worflow lets do something slightly more complex and interconnect different task within a workflow(output of one task should be the input of another task)"
   ]
  },
  {
   "cell_type": "code",
   "execution_count": 5,
   "metadata": {},
   "outputs": [
    {
     "data": {
      "text/plain": [
       "Result(output=Output(out_p=49, out_other=14), runtime=None, errored=False)"
      ]
     },
     "execution_count": 5,
     "metadata": {},
     "output_type": "execute_result"
    }
   ],
   "source": [
    "wf2=pydra.Workflow(name= 'wf2', input_spec=['x','y'], x=3,y=4)  \n",
    "# Adding the two numbers\n",
    "wf2.add(add_var(name='sum_x_y', a=wf2.lzin.x, b=wf2.lzin.y))\n",
    "# Multiply the two numbers\n",
    "wf2.add(mult_var(name='mult_x_y', a=wf2.lzin.x, b=wf2.lzin.y))\n",
    "# take the values of the above operations and feed both of them into the power function using a splitter\n",
    "#wf2.add(power(name='power', a=[wf2.sum_x_y.lzout.sum_a_b, wf2.mult_x_y.lzout.out]).split('a'))\n",
    "wf2.add(power(name='power', a= wf2.sum_x_y.lzout.out))\n",
    "# adding two to the given output\n",
    "wf2.add(add_two(name='add_two', a=wf2.mult_x_y.lzout.out))\n",
    "\n",
    "wf2.set_output([('out_p', wf2.power.lzout.out),('out_other', wf2.add_two.lzout.out)])\n",
    "\n",
    "\n",
    "with pydra.Submitter(plugin='cf') as sub:\n",
    "    sub(wf2)\n",
    "\n",
    "\n",
    "wf2.result()\n",
    "\n"
   ]
  },
  {
   "attachments": {},
   "cell_type": "markdown",
   "metadata": {},
   "source": [
    "### create workflows containing shell commands"
   ]
  },
  {
   "cell_type": "code",
   "execution_count": null,
   "metadata": {},
   "outputs": [],
   "source": [
    "cmd = 'pwd'\n",
    "shellCommand = pydra.ShellCommandTask(name= 'printwd', executable=cmd)\n",
    "\n",
    "with pydra.Submitter(plugin='cf') as sub:\n",
    "    sub(shellCommand)\n",
    "\n",
    "\n",
    "shellCommand.result()\n",
    "# produces weird output for working directory, Check and issue on Github!"
   ]
  },
  {
   "cell_type": "code",
   "execution_count": 6,
   "metadata": {},
   "outputs": [
    {
     "name": "stdout",
     "output_type": "stream",
     "text": [
      "cmdline = echo hail pydra\n"
     ]
    },
    {
     "data": {
      "text/plain": [
       "Result(output=Output(return_code=0, stdout='hail pydra\\n', stderr=''), runtime=None, errored=False)"
      ]
     },
     "execution_count": 6,
     "metadata": {},
     "output_type": "execute_result"
    }
   ],
   "source": [
    "cmd =['echo','hail','pydra'] \n",
    "shellCommand = pydra.ShellCommandTask(name= 'printwd', executable=cmd)\n",
    "print('cmdline =', shellCommand.cmdline)\n",
    "\n",
    "with pydra.Submitter(plugin='cf') as sub:\n",
    "    sub(shellCommand)\n",
    "\n",
    "\n",
    "shellCommand.result()"
   ]
  }
 ],
 "metadata": {
  "kernelspec": {
   "display_name": "megqc",
   "language": "python",
   "name": "megqc"
  },
  "language_info": {
   "codemirror_mode": {
    "name": "ipython",
    "version": 3
   },
   "file_extension": ".py",
   "mimetype": "text/x-python",
   "name": "python",
   "nbconvert_exporter": "python",
   "pygments_lexer": "ipython3",
   "version": "3.8.10"
  },
  "orig_nbformat": 4
 },
 "nbformat": 4,
 "nbformat_minor": 2
}
