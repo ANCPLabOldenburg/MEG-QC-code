{
 "cells": [
  {
   "cell_type": "code",
   "execution_count": 17,
   "metadata": {},
   "outputs": [],
   "source": [
    "import nest_asyncio\n",
    "\n",
    "nest_asyncio.apply()\n",
    "\n",
    "import pydra"
   ]
  },
  {
   "cell_type": "code",
   "execution_count": 6,
   "metadata": {},
   "outputs": [
    {
     "data": {
      "text/plain": [
       "Result(output=Output(sum_a_b=9), runtime=None, errored=False)"
      ]
     },
     "execution_count": 6,
     "metadata": {},
     "output_type": "execute_result"
    }
   ],
   "source": [
    "\n",
    "@pydra.mark.task\n",
    "def add_var(a, b) ->{'sum_a_b': int} :\n",
    "    return a + b\n",
    "\n",
    "task1 = add_var()\n",
    "\n",
    "task1.inputs.a = 3\n",
    "task1.inputs.b = 6\n",
    "\n",
    "task1()"
   ]
  },
  {
   "attachments": {},
   "cell_type": "markdown",
   "metadata": {},
   "source": [
    "\n",
    "## create workflows using pydra\n",
    "\n",
    "First we will define the functions used within the workflows\n"
   ]
  },
  {
   "cell_type": "code",
   "execution_count": null,
   "metadata": {},
   "outputs": [],
   "source": [
    "@pydra.mark.task\n",
    "def add_var(a, b):\n",
    "    return a+b\n",
    "\n",
    "@pydra.mark.task\n",
    "def power(a, n=2):\n",
    "    return a**n\n",
    "\n",
    "@pydra.mark.task\n",
    "def mult_var(a,b):\n",
    "    return a*b\n",
    "\n",
    "@pydra.mark.task\n",
    "def add_two(a):\n",
    "    return a+2\n"
   ]
  },
  {
   "attachments": {},
   "cell_type": "markdown",
   "metadata": {},
   "source": [
    "Now, we define some workflows to get a feeling of how to connect the different task within a workflow"
   ]
  },
  {
   "cell_type": "code",
   "execution_count": null,
   "metadata": {},
   "outputs": [],
   "source": [
    "wf1 = pydra.Workflow(name= 'wf1', input_spec=['x','y'], x=3,y=4)\n",
    "\n",
    "wf1.add(add_var(name='sum_x_y', a=wf1.lzin.x, b=wf1.lzin.y))\n",
    "\n",
    "wf1.set_output([('out', wf1.sum_x_y.lzout.out)])\n",
    "\n",
    "with pydra.Submitter(plugin='cf') as sub:\n",
    "    sub(wf1)\n",
    "\n",
    "\n",
    "wf1.result()\n",
    "\n"
   ]
  },
  {
   "attachments": {},
   "cell_type": "markdown",
   "metadata": {},
   "source": [
    "Now, that we have created a simple worflow lets do something slightly more complex and interconnect different task within a workflow(output of one task should be the input of another task)"
   ]
  },
  {
   "cell_type": "code",
   "execution_count": null,
   "metadata": {},
   "outputs": [],
   "source": [
    "wf2=pydra.Workflow(name= 'wf2', input_spec=['x','y'], x=3,y=4)  \n",
    "# Adding the two numbers\n",
    "wf2.add(add_var(name='sum_x_y', a=wf2.lzin.x, b=wf2.lzin.y))\n",
    "# Multiply the two numbers\n",
    "wf2.add(mult_var(name='mult_x_y', a=wf2.lzin.x, b=wf2.lzin.y))\n",
    "# take the values of the above operations and feed both of them into the power function using a splitter\n",
    "#wf2.add(power(name='power', a=[wf2.sum_x_y.lzout.sum_a_b, wf2.mult_x_y.lzout.out]).split('a'))\n",
    "wf2.add(power(name='power', a= wf2.sum_x_y.lzout.out))\n",
    "# adding two to the given output\n",
    "wf2.add(add_two(name='add_two', a=wf2.mult_x_y.lzout.out))\n",
    "\n",
    "wf2.set_output([('out_p', wf2.power.lzout.out),('out_other', wf2.add_two.lzout.out)])\n",
    "\n",
    "\n",
    "with pydra.Submitter(plugin='cf') as sub:\n",
    "    sub(wf2)\n",
    "\n",
    "\n",
    "wf2.result()\n",
    "\n"
   ]
  },
  {
   "attachments": {},
   "cell_type": "markdown",
   "metadata": {},
   "source": [
    "### create workflows containing shell commands"
   ]
  },
  {
   "cell_type": "code",
   "execution_count": null,
   "metadata": {},
   "outputs": [],
   "source": [
    "cmd = 'pwd'\n",
    "shellCommand = pydra.ShellCommandTask(name= 'printwd', executable=cmd)\n",
    "\n",
    "with pydra.Submitter(plugin='cf') as sub:\n",
    "    sub(shellCommand)\n",
    "\n",
    "\n",
    "shellCommand.result()\n",
    "# produces weird output for working directory, Check and issue on Github!"
   ]
  },
  {
   "cell_type": "code",
   "execution_count": null,
   "metadata": {},
   "outputs": [],
   "source": [
    "cmd =['echo','hail','pydra'] \n",
    "shellCommand = pydra.ShellCommandTask(name= 'printwd', executable=cmd)\n",
    "print('cmdline =', shellCommand.cmdline)\n",
    "\n",
    "with pydra.Submitter(plugin='cf') as sub:\n",
    "    sub(shellCommand)\n",
    "\n",
    "\n",
    "shellCommand.result()"
   ]
  },
  {
   "attachments": {},
   "cell_type": "markdown",
   "metadata": {},
   "source": [
    "### Create more specific (to the domain of neuroimaging) tasks and/or Workflows"
   ]
  },
  {
   "cell_type": "code",
   "execution_count": 3,
   "metadata": {},
   "outputs": [
    {
     "name": "stdout",
     "output_type": "stream",
     "text": [
      "Requirement already satisfied: pydra in /home/areer1/.local/lib/python3.8/site-packages (0.22)\n",
      "Requirement already satisfied: cloudpickle>=2.0.0 in /home/areer1/.local/lib/python3.8/site-packages (from pydra) (2.2.1)\n",
      "Requirement already satisfied: filelock>=3.0.0 in /home/areer1/.local/lib/python3.8/site-packages (from pydra) (3.11.0)\n",
      "Requirement already satisfied: attrs>=19.1.0 in /usr/lib/python3/dist-packages (from pydra) (19.3.0)\n",
      "Requirement already satisfied: etelemetry>=0.2.2 in /home/areer1/.local/lib/python3.8/site-packages (from pydra) (0.3.0)\n",
      "Requirement already satisfied: ci-info>=0.2 in /home/areer1/.local/lib/python3.8/site-packages (from etelemetry>=0.2.2->pydra) (0.3.0)\n",
      "Requirement already satisfied: requests in /usr/lib/python3/dist-packages (from etelemetry>=0.2.2->pydra) (2.22.0)\n",
      "Name: pydra\n",
      "Version: 0.22\n",
      "Summary: Pydra dataflow engine\n",
      "Home-page: None\n",
      "Author: None\n",
      "Author-email: Nipype developers <neuroimaging@python.org>\n",
      "License: None\n",
      "Location: /home/areer1/.local/lib/python3.8/site-packages\n",
      "Requires: etelemetry, filelock, cloudpickle, attrs\n",
      "Required-by: \n"
     ]
    }
   ],
   "source": [
    "data_path = '/data2/egapontseva/MEG_QC_stuff/data/from openneuro/ds000117/sub-01/ses-meg/meg/*run-01_meg.fif'\n",
    "!pip install pydra\n",
    "!pip show pydra"
   ]
  },
  {
   "cell_type": "code",
   "execution_count": 18,
   "metadata": {},
   "outputs": [
    {
     "name": "stdout",
     "output_type": "stream",
     "text": [
      "Opening raw data file /data2/egapontseva/MEG_QC_stuff/data/from openneuro/ds000117/sub-01/ses-meg/meg/*run-01_meg.fif...\n"
     ]
    },
    {
     "name": "stderr",
     "output_type": "stream",
     "text": [
      "Task exception was never retrieved\n",
      "future: <Task finished name='Task-2' coro=<ConcurrentFuturesWorker.exec_as_coro() done, defined at /home/areer1/.local/lib/python3.8/site-packages/pydra/engine/workers.py:169> exception=FileNotFoundError('fname does not exist: /data2/egapontseva/MEG_QC_stuff/data/from openneuro/ds000117/sub-01/ses-meg/meg/*run-01_meg.fif')>\n",
      "concurrent.futures.process._RemoteTraceback: \n",
      "\"\"\"\n",
      "Traceback (most recent call last):\n",
      "  File \"/usr/lib/python3.8/concurrent/futures/process.py\", line 239, in _process_worker\n",
      "    r = call_item.fn(*call_item.args, **call_item.kwargs)\n",
      "  File \"/home/areer1/.local/lib/python3.8/site-packages/pydra/engine/core.py\", line 510, in _run\n",
      "    self._run_task()\n",
      "  File \"/home/areer1/.local/lib/python3.8/site-packages/pydra/engine/task.py\", line 192, in _run_task\n",
      "    output = cp.loads(self.inputs._func)(**inputs)\n",
      "  File \"/tmp/ipykernel_3578638/1271586086.py\", line 17, in load_meg_data\n",
      "    raw = mne.io.read_raw_fif(data_path, preload=True)\n",
      "  File \"/home/areer1/.local/lib/python3.8/site-packages/mne/io/fiff/raw.py\", line 482, in read_raw_fif\n",
      "    return Raw(fname=fname, allow_maxshield=allow_maxshield,\n",
      "  File \"<decorator-gen-262>\", line 12, in __init__\n",
      "  File \"/home/areer1/.local/lib/python3.8/site-packages/mne/io/fiff/raw.py\", line 81, in __init__\n",
      "    self._read_raw_file(next_fname, allow_maxshield,\n",
      "  File \"<decorator-gen-263>\", line 12, in _read_raw_file\n",
      "  File \"/home/areer1/.local/lib/python3.8/site-packages/mne/io/fiff/raw.py\", line 146, in _read_raw_file\n",
      "    fname = _check_fname(fname, 'read', True, 'fname')\n",
      "  File \"<decorator-gen-0>\", line 12, in _check_fname\n",
      "  File \"/home/areer1/.local/lib/python3.8/site-packages/mne/utils/check.py\", line 245, in _check_fname\n",
      "    raise FileNotFoundError(f'{name} does not exist: {fname}')\n",
      "FileNotFoundError: fname does not exist: /data2/egapontseva/MEG_QC_stuff/data/from openneuro/ds000117/sub-01/ses-meg/meg/*run-01_meg.fif\n",
      "\"\"\"\n",
      "\n",
      "The above exception was the direct cause of the following exception:\n",
      "\n",
      "Traceback (most recent call last):\n",
      "  File \"/usr/lib/python3.8/asyncio/tasks.py\", line 282, in __step\n",
      "    result = coro.throw(exc)\n",
      "  File \"/home/areer1/.local/lib/python3.8/site-packages/pydra/engine/workers.py\", line 172, in exec_as_coro\n",
      "    res = await self.loop.run_in_executor(self.pool, runnable._run, rerun)\n",
      "  File \"/usr/lib/python3.8/asyncio/futures.py\", line 260, in __await__\n",
      "    yield self  # This tells Task to wait for completion.\n",
      "  File \"/usr/lib/python3.8/asyncio/tasks.py\", line 349, in __wakeup\n",
      "    future.result()\n",
      "  File \"/usr/lib/python3.8/asyncio/futures.py\", line 178, in result\n",
      "    raise self._exception\n",
      "FileNotFoundError: fname does not exist: /data2/egapontseva/MEG_QC_stuff/data/from openneuro/ds000117/sub-01/ses-meg/meg/*run-01_meg.fif\n",
      "/usr/lib/python3.8/ast.py:47: RuntimeWarning: coroutine 'Submitter.submit_from_call' was never awaited\n",
      "  return compile(source, filename, mode, flags,\n",
      "RuntimeWarning: Enable tracemalloc to get the object allocation traceback\n"
     ]
    },
    {
     "ename": "ValueError",
     "evalue": "Tasks ['load_meg_data'] raised an error",
     "output_type": "error",
     "traceback": [
      "\u001b[0;31m---------------------------------------------------------------------------\u001b[0m",
      "\u001b[0;31mValueError\u001b[0m                                Traceback (most recent call last)",
      "File \u001b[0;32m~/.local/lib/python3.8/site-packages/pydra/engine/core.py:1215\u001b[0m, in \u001b[0;36mWorkflow._collect_outputs\u001b[0;34m(self)\u001b[0m\n\u001b[1;32m   1214\u001b[0m \u001b[39mtry\u001b[39;00m:\n\u001b[0;32m-> 1215\u001b[0m     val_out \u001b[39m=\u001b[39m val\u001b[39m.\u001b[39;49mget_value(\u001b[39mself\u001b[39;49m)\n\u001b[1;32m   1216\u001b[0m     output_wf[name] \u001b[39m=\u001b[39m val_out\n",
      "File \u001b[0;32m~/.local/lib/python3.8/site-packages/pydra/engine/specs.py:793\u001b[0m, in \u001b[0;36mLazyField.get_value\u001b[0;34m(self, wf, state_index)\u001b[0m\n\u001b[1;32m    792\u001b[0m \u001b[39mif\u001b[39;00m result\u001b[39m.\u001b[39merrored:\n\u001b[0;32m--> 793\u001b[0m     \u001b[39mraise\u001b[39;00m \u001b[39mValueError\u001b[39;00m(\u001b[39m\"\u001b[39m\u001b[39mError from get_value\u001b[39m\u001b[39m\"\u001b[39m)\n\u001b[1;32m    794\u001b[0m \u001b[39mreturn\u001b[39;00m result\u001b[39m.\u001b[39mget_output_field(\u001b[39mself\u001b[39m\u001b[39m.\u001b[39mfield)\n",
      "\u001b[0;31mValueError\u001b[0m: Error from get_value",
      "\nDuring handling of the above exception, another exception occurred:\n",
      "\u001b[0;31mValueError\u001b[0m                                Traceback (most recent call last)",
      "Cell \u001b[0;32mIn[18], line 39\u001b[0m\n\u001b[1;32m     37\u001b[0m \u001b[39m# Submit the workflow for execution using the 'cf' plugin\u001b[39;00m\n\u001b[1;32m     38\u001b[0m \u001b[39mwith\u001b[39;00m pydra\u001b[39m.\u001b[39mSubmitter(plugin\u001b[39m=\u001b[39m\u001b[39m'\u001b[39m\u001b[39mcf\u001b[39m\u001b[39m'\u001b[39m) \u001b[39mas\u001b[39;00m sub:\n\u001b[0;32m---> 39\u001b[0m     sub(mne_filter_wf)\n\u001b[1;32m     41\u001b[0m \u001b[39m# View the output of the workflow\u001b[39;00m\n\u001b[1;32m     42\u001b[0m \u001b[39mprint\u001b[39m(mne_filter_wf\u001b[39m.\u001b[39mresult())\n",
      "File \u001b[0;32m~/.local/lib/python3.8/site-packages/pydra/engine/submitter.py:42\u001b[0m, in \u001b[0;36mSubmitter.__call__\u001b[0;34m(self, runnable, cache_locations, rerun)\u001b[0m\n\u001b[1;32m     40\u001b[0m \u001b[39mif\u001b[39;00m cache_locations \u001b[39mis\u001b[39;00m \u001b[39mnot\u001b[39;00m \u001b[39mNone\u001b[39;00m:\n\u001b[1;32m     41\u001b[0m     runnable\u001b[39m.\u001b[39mcache_locations \u001b[39m=\u001b[39m cache_locations\n\u001b[0;32m---> 42\u001b[0m \u001b[39mself\u001b[39;49m\u001b[39m.\u001b[39;49mloop\u001b[39m.\u001b[39;49mrun_until_complete(\u001b[39mself\u001b[39;49m\u001b[39m.\u001b[39;49msubmit_from_call(runnable, rerun))\n\u001b[1;32m     43\u001b[0m \u001b[39mreturn\u001b[39;00m runnable\u001b[39m.\u001b[39mresult()\n",
      "File \u001b[0;32m~/.local/lib/python3.8/site-packages/nest_asyncio.py:90\u001b[0m, in \u001b[0;36m_patch_loop.<locals>.run_until_complete\u001b[0;34m(self, future)\u001b[0m\n\u001b[1;32m     87\u001b[0m \u001b[39mif\u001b[39;00m \u001b[39mnot\u001b[39;00m f\u001b[39m.\u001b[39mdone():\n\u001b[1;32m     88\u001b[0m     \u001b[39mraise\u001b[39;00m \u001b[39mRuntimeError\u001b[39;00m(\n\u001b[1;32m     89\u001b[0m         \u001b[39m'\u001b[39m\u001b[39mEvent loop stopped before Future completed.\u001b[39m\u001b[39m'\u001b[39m)\n\u001b[0;32m---> 90\u001b[0m \u001b[39mreturn\u001b[39;00m f\u001b[39m.\u001b[39;49mresult()\n",
      "File \u001b[0;32m/usr/lib/python3.8/asyncio/futures.py:178\u001b[0m, in \u001b[0;36mFuture.result\u001b[0;34m(self)\u001b[0m\n\u001b[1;32m    176\u001b[0m \u001b[39mself\u001b[39m\u001b[39m.\u001b[39m__log_traceback \u001b[39m=\u001b[39m \u001b[39mFalse\u001b[39;00m\n\u001b[1;32m    177\u001b[0m \u001b[39mif\u001b[39;00m \u001b[39mself\u001b[39m\u001b[39m.\u001b[39m_exception \u001b[39mis\u001b[39;00m \u001b[39mnot\u001b[39;00m \u001b[39mNone\u001b[39;00m:\n\u001b[0;32m--> 178\u001b[0m     \u001b[39mraise\u001b[39;00m \u001b[39mself\u001b[39m\u001b[39m.\u001b[39m_exception\n\u001b[1;32m    179\u001b[0m \u001b[39mreturn\u001b[39;00m \u001b[39mself\u001b[39m\u001b[39m.\u001b[39m_result\n",
      "File \u001b[0;32m/usr/lib/python3.8/asyncio/tasks.py:280\u001b[0m, in \u001b[0;36mTask.__step\u001b[0;34m(***failed resolving arguments***)\u001b[0m\n\u001b[1;32m    276\u001b[0m \u001b[39mtry\u001b[39;00m:\n\u001b[1;32m    277\u001b[0m     \u001b[39mif\u001b[39;00m exc \u001b[39mis\u001b[39;00m \u001b[39mNone\u001b[39;00m:\n\u001b[1;32m    278\u001b[0m         \u001b[39m# We use the `send` method directly, because coroutines\u001b[39;00m\n\u001b[1;32m    279\u001b[0m         \u001b[39m# don't have `__iter__` and `__next__` methods.\u001b[39;00m\n\u001b[0;32m--> 280\u001b[0m         result \u001b[39m=\u001b[39m coro\u001b[39m.\u001b[39;49msend(\u001b[39mNone\u001b[39;49;00m)\n\u001b[1;32m    281\u001b[0m     \u001b[39melse\u001b[39;00m:\n\u001b[1;32m    282\u001b[0m         result \u001b[39m=\u001b[39m coro\u001b[39m.\u001b[39mthrow(exc)\n",
      "File \u001b[0;32m~/.local/lib/python3.8/site-packages/pydra/engine/submitter.py:68\u001b[0m, in \u001b[0;36mSubmitter.submit_from_call\u001b[0;34m(self, runnable, rerun)\u001b[0m\n\u001b[1;32m     66\u001b[0m \u001b[39m# 1\u001b[39;00m\n\u001b[1;32m     67\u001b[0m \u001b[39mif\u001b[39;00m runnable\u001b[39m.\u001b[39mstate \u001b[39mis\u001b[39;00m \u001b[39mNone\u001b[39;00m:\n\u001b[0;32m---> 68\u001b[0m     \u001b[39mawait\u001b[39;00m runnable\u001b[39m.\u001b[39m_run(\u001b[39mself\u001b[39m, rerun\u001b[39m=\u001b[39mrerun)\n\u001b[1;32m     69\u001b[0m \u001b[39m# 3\u001b[39;00m\n\u001b[1;32m     70\u001b[0m \u001b[39melse\u001b[39;00m:\n\u001b[1;32m     71\u001b[0m     \u001b[39mawait\u001b[39;00m \u001b[39mself\u001b[39m\u001b[39m.\u001b[39mexpand_runnable(runnable, wait\u001b[39m=\u001b[39m\u001b[39mTrue\u001b[39;00m, rerun\u001b[39m=\u001b[39mrerun)\n",
      "File \u001b[0;32m~/.local/lib/python3.8/site-packages/pydra/engine/core.py:1125\u001b[0m, in \u001b[0;36mWorkflow._run\u001b[0;34m(self, submitter, rerun, **kwargs)\u001b[0m\n\u001b[1;32m   1123\u001b[0m     \u001b[39mself\u001b[39m\u001b[39m.\u001b[39maudit\u001b[39m.\u001b[39mmonitor()\n\u001b[1;32m   1124\u001b[0m     \u001b[39mawait\u001b[39;00m \u001b[39mself\u001b[39m\u001b[39m.\u001b[39m_run_task(submitter, rerun\u001b[39m=\u001b[39mrerun)\n\u001b[0;32m-> 1125\u001b[0m     result\u001b[39m.\u001b[39moutput \u001b[39m=\u001b[39m \u001b[39mself\u001b[39;49m\u001b[39m.\u001b[39;49m_collect_outputs()\n\u001b[1;32m   1126\u001b[0m \u001b[39mexcept\u001b[39;00m \u001b[39mException\u001b[39;00m:\n\u001b[1;32m   1127\u001b[0m     etype, \u001b[39meval\u001b[39m, etr \u001b[39m=\u001b[39m sys\u001b[39m.\u001b[39mexc_info()\n",
      "File \u001b[0;32m~/.local/lib/python3.8/site-packages/pydra/engine/core.py:1221\u001b[0m, in \u001b[0;36mWorkflow._collect_outputs\u001b[0;34m(self)\u001b[0m\n\u001b[1;32m   1219\u001b[0m \u001b[39m# checking if the tasks has predecessors that raises error\u001b[39;00m\n\u001b[1;32m   1220\u001b[0m \u001b[39mif\u001b[39;00m \u001b[39misinstance\u001b[39m(\u001b[39mgetattr\u001b[39m(\u001b[39mself\u001b[39m, val\u001b[39m.\u001b[39mname)\u001b[39m.\u001b[39m_errored, \u001b[39mlist\u001b[39m):\n\u001b[0;32m-> 1221\u001b[0m     \u001b[39mraise\u001b[39;00m \u001b[39mValueError\u001b[39;00m(\n\u001b[1;32m   1222\u001b[0m         \u001b[39mf\u001b[39m\u001b[39m\"\u001b[39m\u001b[39mTasks \u001b[39m\u001b[39m{\u001b[39;00m\u001b[39mgetattr\u001b[39m(\u001b[39mself\u001b[39m,\u001b[39m \u001b[39mval\u001b[39m.\u001b[39mname)\u001b[39m.\u001b[39m_errored\u001b[39m}\u001b[39;00m\u001b[39m raised an error\u001b[39m\u001b[39m\"\u001b[39m\n\u001b[1;32m   1223\u001b[0m     )\n\u001b[1;32m   1224\u001b[0m \u001b[39melse\u001b[39;00m:\n\u001b[1;32m   1225\u001b[0m     \u001b[39mif\u001b[39;00m \u001b[39misinstance\u001b[39m(\u001b[39mgetattr\u001b[39m(\u001b[39mself\u001b[39m, val\u001b[39m.\u001b[39mname)\u001b[39m.\u001b[39moutput_dir, \u001b[39mlist\u001b[39m):\n",
      "\u001b[0;31mValueError\u001b[0m: Tasks ['load_meg_data'] raised an error"
     ]
    }
   ],
   "source": [
    "import pydra\n",
    "import mne\n",
    "from pydra.engine.task import TaskBase\n",
    "\n",
    "l_freq = 0.5\n",
    "h_freq = 100\n",
    "data_path = '/data2/egapontseva/MEG_QC_stuff/data/from openneuro/ds000117/sub-01/ses-meg/meg/*run-01_meg.fif'\n",
    "\n",
    "# Define the Pydra workflow\n",
    "workflow_name = \"mne_filter_workflow\"\n",
    "input_spec = [\"data_path\", \"l_freq\", \"h_freq\"]\n",
    "mne_filter_wf = pydra.Workflow(name=workflow_name, input_spec=input_spec)\n",
    "\n",
    "# Load MEG data from file\n",
    "@pydra.mark.task\n",
    "def load_meg_data(data_path):\n",
    "    raw = mne.io.read_raw_fif(data_path, preload=True)\n",
    "    return raw\n",
    "@pydra.mark.task\n",
    "def apply_mne_filters(raw, l_freq, h_freq):\n",
    "    filt_raw = raw.copy().filter(l_freq, h_freq, fir_design='firwin')\n",
    "    return filt_raw\n",
    "\n",
    "\n",
    "# Load data with MNE\n",
    "mne_filter_wf.add(load_meg_data(name='load_meg_data', data_path= data_path))\n",
    "\n",
    "# Apply MNE filtering methods to the data\n",
    "\n",
    "mne_filter_wf.add(apply_mne_filters(name= 'filtering' , raw= mne_filter_wf.load_meg_data.lzout.out, l_freq =l_freq, h_freq=h_freq))\n",
    "\n",
    "# Specify the output of the workflow\n",
    "mne_filter_wf.set_output([\n",
    "    (\"filtered_data\", mne_filter_wf.filtering.lzout.out)\n",
    "])\n",
    "\n",
    "# Submit the workflow for execution using the 'cf' plugin\n",
    "with pydra.Submitter(plugin='cf') as sub:\n",
    "    sub(mne_filter_wf)\n",
    "\n",
    "# View the output of the workflow\n",
    "print(mne_filter_wf.result())\n"
   ]
  }
 ],
 "metadata": {
  "kernelspec": {
   "display_name": "megqc",
   "language": "python",
   "name": "megqc"
  },
  "language_info": {
   "codemirror_mode": {
    "name": "ipython",
    "version": 3
   },
   "file_extension": ".py",
   "mimetype": "text/x-python",
   "name": "python",
   "nbconvert_exporter": "python",
   "pygments_lexer": "ipython3",
   "version": "3.8.10"
  },
  "orig_nbformat": 4
 },
 "nbformat": 4,
 "nbformat_minor": 2
}
