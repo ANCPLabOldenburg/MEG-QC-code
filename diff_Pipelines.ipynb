{
 "cells": [
  {
   "cell_type": "code",
   "execution_count": 1,
   "metadata": {},
   "outputs": [],
   "source": [
    "# This notebook checks is trying different pipeline approaches\n",
    "\n",
    "# Cropped data is used here (5 minutes only), tried on whole data - takes forever.\n",
    "\n",
    "\n",
    "#Load data, make folders\n",
    "import numpy as np\n",
    "import matplotlib.pyplot as plt\n",
    "import plotly.graph_objects as go\n",
    "import mne\n",
    "import pyprep as pp\n"
   ]
  },
  {
   "cell_type": "code",
   "execution_count": 2,
   "metadata": {},
   "outputs": [
    {
     "name": "stdout",
     "output_type": "stream",
     "text": [
      "Opening raw data file ./data/sub_HT05ND16/210811/mikado-1.fif/...\n",
      "    Read a total of 8 projection items:\n",
      "        magn8_iasoff_68deg.fif : PCA-v1 (1 x 306)  idle\n",
      "        magn8_iasoff_68deg.fif : PCA-v2 (1 x 306)  idle\n",
      "        magn8_iasoff_68deg.fif : PCA-v3 (1 x 306)  idle\n",
      "        magn8_iasoff_68deg.fif : PCA-v4 (1 x 306)  idle\n",
      "        magn8_iasoff_68deg.fif : PCA-v5 (1 x 306)  idle\n",
      "        magn8_iasoff_68deg.fif : PCA-v6 (1 x 306)  idle\n",
      "        magn8_iasoff_68deg.fif : PCA-v7 (1 x 306)  idle\n",
      "        magn8_iasoff_68deg.fif : PCA-v8 (1 x 306)  idle\n",
      "    Range : 1809000 ... 3375999 =   1809.000 ...  3375.999 secs\n",
      "Ready.\n",
      "Opening raw data file /Users/jenya/Local Storage/Job Uni Rieger lab/MEG QC code/data/sub_HT05ND16/210811/mikado-2.fif...\n",
      "    Read a total of 8 projection items:\n",
      "        magn8_iasoff_68deg.fif : PCA-v1 (1 x 306)  idle\n",
      "        magn8_iasoff_68deg.fif : PCA-v2 (1 x 306)  idle\n",
      "        magn8_iasoff_68deg.fif : PCA-v3 (1 x 306)  idle\n",
      "        magn8_iasoff_68deg.fif : PCA-v4 (1 x 306)  idle\n",
      "        magn8_iasoff_68deg.fif : PCA-v5 (1 x 306)  idle\n",
      "        magn8_iasoff_68deg.fif : PCA-v6 (1 x 306)  idle\n",
      "        magn8_iasoff_68deg.fif : PCA-v7 (1 x 306)  idle\n",
      "        magn8_iasoff_68deg.fif : PCA-v8 (1 x 306)  idle\n",
      "    Range : 3376000 ... 4942999 =   3376.000 ...  4942.999 secs\n",
      "Ready.\n",
      "Opening raw data file /Users/jenya/Local Storage/Job Uni Rieger lab/MEG QC code/data/sub_HT05ND16/210811/mikado-3.fif...\n",
      "    Read a total of 8 projection items:\n",
      "        magn8_iasoff_68deg.fif : PCA-v1 (1 x 306)  idle\n",
      "        magn8_iasoff_68deg.fif : PCA-v2 (1 x 306)  idle\n",
      "        magn8_iasoff_68deg.fif : PCA-v3 (1 x 306)  idle\n",
      "        magn8_iasoff_68deg.fif : PCA-v4 (1 x 306)  idle\n",
      "        magn8_iasoff_68deg.fif : PCA-v5 (1 x 306)  idle\n",
      "        magn8_iasoff_68deg.fif : PCA-v6 (1 x 306)  idle\n",
      "        magn8_iasoff_68deg.fif : PCA-v7 (1 x 306)  idle\n",
      "        magn8_iasoff_68deg.fif : PCA-v8 (1 x 306)  idle\n",
      "    Range : 4943000 ... 5198999 =   4943.000 ...  5198.999 secs\n",
      "Ready.\n"
     ]
    },
    {
     "name": "stderr",
     "output_type": "stream",
     "text": [
      "/Users/jenya/Local Storage/Job Uni Rieger lab/MEG QC code/Functions/data_load_and_folders.py:8: RuntimeWarning: This filename (./data/sub_HT05ND16/210811/mikado-1.fif/) does not conform to MNE naming conventions. All raw files should end with raw.fif, raw_sss.fif, raw_tsss.fif, _meg.fif, _eeg.fif, _ieeg.fif, raw.fif.gz, raw_sss.fif.gz, raw_tsss.fif.gz, _meg.fif.gz, _eeg.fif.gz or _ieeg.fif.gz\n",
      "  raw = mne.io.read_raw_fif(raw_file)\n"
     ]
    },
    {
     "data": {
      "text/html": [
       "<table class=\"table table-hover table-striped table-sm table-responsive small\">\n",
       "    <tr>\n",
       "        <th>Measurement date</th>\n",
       "        \n",
       "        <td>August 11, 2021  12:05:17 GMT</td>\n",
       "        \n",
       "    </tr>\n",
       "    <tr>\n",
       "        <th>Experimenter</th>\n",
       "        \n",
       "        <td>Meg User (meg)</td>\n",
       "        \n",
       "    </tr>\n",
       "        <th>Participant</th>\n",
       "        \n",
       "            \n",
       "        \n",
       "    </tr>\n",
       "    <tr>\n",
       "        <th>Digitized points</th>\n",
       "        \n",
       "        <td>0 points</td>\n",
       "        \n",
       "    </tr>\n",
       "    <tr>\n",
       "        <th>Good channels</th>\n",
       "        <td>11 IAS, 102 Magnetometers, 204 Gradiometers, 1 Stimulus, 1 SYST</td>\n",
       "    </tr>\n",
       "    <tr>\n",
       "        <th>Bad channels</th>\n",
       "        <td>None</td>\n",
       "    </tr>\n",
       "    <tr>\n",
       "        <th>EOG channels</th>\n",
       "        <td>Not available</td>\n",
       "    </tr>\n",
       "    <tr>\n",
       "        <th>ECG channels</th>\n",
       "        <td>Not available</td>\n",
       "    \n",
       "    <tr>\n",
       "        <th>Sampling frequency</th>\n",
       "        <td>1000.00 Hz</td>\n",
       "    </tr>\n",
       "    \n",
       "    \n",
       "    <tr>\n",
       "        <th>Highpass</th>\n",
       "        <td>0.10 Hz</td>\n",
       "    </tr>\n",
       "    \n",
       "    \n",
       "    <tr>\n",
       "        <th>Lowpass</th>\n",
       "        <td>330.00 Hz</td>\n",
       "    </tr>\n",
       "    \n",
       "    \n",
       "    <tr>\n",
       "        <th>Projections</th>\n",
       "        <td>magn8_iasoff_68deg.fif : PCA-v1 : off<br/>magn8_iasoff_68deg.fif : PCA-v2 : off<br/>magn8_iasoff_68deg.fif : PCA-v3 : off<br/>magn8_iasoff_68deg.fif : PCA-v4 : off<br/>magn8_iasoff_68deg.fif : PCA-v5 : off<br/>magn8_iasoff_68deg.fif : PCA-v6 : off<br/>magn8_iasoff_68deg.fif : PCA-v7 : off<br/>magn8_iasoff_68deg.fif : PCA-v8 : off</td>\n",
       "    </tr>\n",
       "    \n",
       "    \n",
       "    <tr>\n",
       "        <th>Filenames</th>\n",
       "        <td>mikado-1.fif</td>\n",
       "    </tr>\n",
       "    \n",
       "    <tr>\n",
       "        <th>Duration</th>\n",
       "        <td>00:15:00 (HH:MM:SS)</td>\n",
       "    </tr>\n",
       "</table>"
      ],
      "text/plain": [
       "<Raw | mikado-1.fif, 319 x 900001 (900.0 s), ~6.6 MB, data not loaded>"
      ]
     },
     "execution_count": 2,
     "metadata": {},
     "output_type": "execute_result"
    }
   ],
   "source": [
    "\n",
    "#from Functions.main_meg_qc import initial_stuff\n",
    "from Functions. data_load_and_folders import load_meg_data\n",
    "duration=15\n",
    "#n_events, df_epochs_mags, df_epochs_grads, epochs_mags, epochs_grads, mags, grads, filtered_d, filtered_d_resamp, raw_cropped, raw=initial_stuff(duration)\n",
    "\n",
    "raw_file = './data/sub_HT05ND16/210811/mikado-1.fif/'\n",
    "raw, mags, grads = load_meg_data(raw_file)\n",
    "\n",
    "#crop the data to calculate faster\n",
    "raw_cropped = raw.copy()\n",
    "raw_cropped.crop(0, duration*60) \n",
    "\n"
   ]
  },
  {
   "cell_type": "code",
   "execution_count": 3,
   "metadata": {},
   "outputs": [
    {
     "data": {
      "text/html": [
       "<table class=\"table table-hover table-striped table-sm table-responsive small\">\n",
       "    <tr>\n",
       "        <th>Measurement date</th>\n",
       "        \n",
       "        <td>August 11, 2021  12:05:17 GMT</td>\n",
       "        \n",
       "    </tr>\n",
       "    <tr>\n",
       "        <th>Experimenter</th>\n",
       "        \n",
       "        <td>Meg User (meg)</td>\n",
       "        \n",
       "    </tr>\n",
       "        <th>Participant</th>\n",
       "        \n",
       "            \n",
       "        \n",
       "    </tr>\n",
       "    <tr>\n",
       "        <th>Digitized points</th>\n",
       "        \n",
       "        <td>0 points</td>\n",
       "        \n",
       "    </tr>\n",
       "    <tr>\n",
       "        <th>Good channels</th>\n",
       "        <td>102 Magnetometers, 204 Gradiometers</td>\n",
       "    </tr>\n",
       "    <tr>\n",
       "        <th>Bad channels</th>\n",
       "        <td>None</td>\n",
       "    </tr>\n",
       "    <tr>\n",
       "        <th>EOG channels</th>\n",
       "        <td>Not available</td>\n",
       "    </tr>\n",
       "    <tr>\n",
       "        <th>ECG channels</th>\n",
       "        <td>Not available</td>\n",
       "    \n",
       "    <tr>\n",
       "        <th>Sampling frequency</th>\n",
       "        <td>1000.00 Hz</td>\n",
       "    </tr>\n",
       "    \n",
       "    \n",
       "    <tr>\n",
       "        <th>Highpass</th>\n",
       "        <td>0.10 Hz</td>\n",
       "    </tr>\n",
       "    \n",
       "    \n",
       "    <tr>\n",
       "        <th>Lowpass</th>\n",
       "        <td>330.00 Hz</td>\n",
       "    </tr>\n",
       "    \n",
       "    \n",
       "    <tr>\n",
       "        <th>Projections</th>\n",
       "        <td>magn8_iasoff_68deg.fif : PCA-v1 : off<br/>magn8_iasoff_68deg.fif : PCA-v2 : off<br/>magn8_iasoff_68deg.fif : PCA-v3 : off<br/>magn8_iasoff_68deg.fif : PCA-v4 : off<br/>magn8_iasoff_68deg.fif : PCA-v5 : off<br/>magn8_iasoff_68deg.fif : PCA-v6 : off<br/>magn8_iasoff_68deg.fif : PCA-v7 : off<br/>magn8_iasoff_68deg.fif : PCA-v8 : off</td>\n",
       "    </tr>\n",
       "    \n",
       "    \n",
       "    <tr>\n",
       "        <th>Filenames</th>\n",
       "        <td>mikado-1.fif&lt;br&gt;mikado-2.fif&lt;br&gt;mikado-3.fif</td>\n",
       "    </tr>\n",
       "    \n",
       "    <tr>\n",
       "        <th>Duration</th>\n",
       "        <td>00:56:29 (HH:MM:SS)</td>\n",
       "    </tr>\n",
       "</table>"
      ],
      "text/plain": [
       "<Raw | mikado-1.fif, 306 x 3390000 (3390.0 s), ~6.6 MB, data not loaded>"
      ]
     },
     "execution_count": 3,
     "metadata": {},
     "output_type": "execute_result"
    }
   ],
   "source": [
    "raw_new=raw.copy()\n",
    "\n",
    "types1=raw_new.pick_types(meg=True)\n",
    "types1"
   ]
  },
  {
   "cell_type": "code",
   "execution_count": 4,
   "metadata": {},
   "outputs": [
    {
     "ename": "ValueError",
     "evalue": "No channels match the selection.",
     "output_type": "error",
     "traceback": [
      "\u001b[0;31m---------------------------------------------------------------------------\u001b[0m",
      "\u001b[0;31mValueError\u001b[0m                                Traceback (most recent call last)",
      "\u001b[1;32m/Users/jenya/Local Storage/Job Uni Rieger lab/MEG QC code/diff_Pipelines.ipynb Cell 4\u001b[0m in \u001b[0;36m<cell line: 3>\u001b[0;34m()\u001b[0m\n\u001b[1;32m      <a href='vscode-notebook-cell:/Users/jenya/Local%20Storage/Job%20Uni%20Rieger%20lab/MEG%20QC%20code/diff_Pipelines.ipynb#ch0000003?line=0'>1</a>\u001b[0m \u001b[39m# https://pyprep.readthedocs.io/en/latest/generated/pyprep.NoisyChannels.html#pyprep.NoisyChannels\u001b[39;00m\n\u001b[0;32m----> <a href='vscode-notebook-cell:/Users/jenya/Local%20Storage/Job%20Uni%20Rieger%20lab/MEG%20QC%20code/diff_Pipelines.ipynb#ch0000003?line=2'>3</a>\u001b[0m noisy \u001b[39m=\u001b[39m pp\u001b[39m.\u001b[39;49mNoisyChannels(raw)\n",
      "File \u001b[0;32m~/opt/anaconda3/envs/mne_new/lib/python3.9/site-packages/pyprep/find_noisy_channels.py:58\u001b[0m, in \u001b[0;36mNoisyChannels.__init__\u001b[0;34m(self, raw, do_detrend, random_state, matlab_strict)\u001b[0m\n\u001b[1;32m     55\u001b[0m \u001b[39massert\u001b[39;00m \u001b[39misinstance\u001b[39m(raw, mne\u001b[39m.\u001b[39mio\u001b[39m.\u001b[39mBaseRaw)\n\u001b[1;32m     57\u001b[0m \u001b[39mself\u001b[39m\u001b[39m.\u001b[39mraw_mne \u001b[39m=\u001b[39m raw\u001b[39m.\u001b[39mcopy()\n\u001b[0;32m---> 58\u001b[0m \u001b[39mself\u001b[39;49m\u001b[39m.\u001b[39;49mraw_mne\u001b[39m.\u001b[39;49mpick_types(eeg\u001b[39m=\u001b[39;49m\u001b[39mTrue\u001b[39;49;00m)\n\u001b[1;32m     59\u001b[0m \u001b[39mself\u001b[39m\u001b[39m.\u001b[39msample_rate \u001b[39m=\u001b[39m raw\u001b[39m.\u001b[39minfo[\u001b[39m\"\u001b[39m\u001b[39msfreq\u001b[39m\u001b[39m\"\u001b[39m]\n\u001b[1;32m     60\u001b[0m \u001b[39mif\u001b[39;00m do_detrend:\n",
      "File \u001b[0;32m<decorator-gen-44>:12\u001b[0m, in \u001b[0;36mpick_types\u001b[0;34m(self, meg, eeg, stim, eog, ecg, emg, ref_meg, misc, resp, chpi, exci, ias, syst, seeg, dipole, gof, bio, ecog, fnirs, csd, dbs, include, exclude, selection, verbose)\u001b[0m\n",
      "File \u001b[0;32m~/opt/anaconda3/envs/mne_new/lib/python3.9/site-packages/mne/channels/channels.py:678\u001b[0m, in \u001b[0;36mUpdateChannelsMixin.pick_types\u001b[0;34m(self, meg, eeg, stim, eog, ecg, emg, ref_meg, misc, resp, chpi, exci, ias, syst, seeg, dipole, gof, bio, ecog, fnirs, csd, dbs, include, exclude, selection, verbose)\u001b[0m\n\u001b[1;32m    594\u001b[0m \u001b[39m\"\"\"Pick some channels by type and names.\u001b[39;00m\n\u001b[1;32m    595\u001b[0m \n\u001b[1;32m    596\u001b[0m \u001b[39mParameters\u001b[39;00m\n\u001b[0;32m   (...)\u001b[0m\n\u001b[1;32m    669\u001b[0m \u001b[39m.. versionadded:: 0.9.0\u001b[39;00m\n\u001b[1;32m    670\u001b[0m \u001b[39m\"\"\"\u001b[39;00m\n\u001b[1;32m    671\u001b[0m idx \u001b[39m=\u001b[39m pick_types(\n\u001b[1;32m    672\u001b[0m     \u001b[39mself\u001b[39m\u001b[39m.\u001b[39minfo, meg\u001b[39m=\u001b[39mmeg, eeg\u001b[39m=\u001b[39meeg, stim\u001b[39m=\u001b[39mstim, eog\u001b[39m=\u001b[39meog, ecg\u001b[39m=\u001b[39mecg, emg\u001b[39m=\u001b[39memg,\n\u001b[1;32m    673\u001b[0m     ref_meg\u001b[39m=\u001b[39mref_meg, misc\u001b[39m=\u001b[39mmisc, resp\u001b[39m=\u001b[39mresp, chpi\u001b[39m=\u001b[39mchpi, exci\u001b[39m=\u001b[39mexci,\n\u001b[1;32m    674\u001b[0m     ias\u001b[39m=\u001b[39mias, syst\u001b[39m=\u001b[39msyst, seeg\u001b[39m=\u001b[39mseeg, dipole\u001b[39m=\u001b[39mdipole, gof\u001b[39m=\u001b[39mgof, bio\u001b[39m=\u001b[39mbio,\n\u001b[1;32m    675\u001b[0m     ecog\u001b[39m=\u001b[39mecog, fnirs\u001b[39m=\u001b[39mfnirs, dbs\u001b[39m=\u001b[39mdbs, include\u001b[39m=\u001b[39minclude, exclude\u001b[39m=\u001b[39mexclude,\n\u001b[1;32m    676\u001b[0m     selection\u001b[39m=\u001b[39mselection)\n\u001b[0;32m--> 678\u001b[0m \u001b[39mself\u001b[39;49m\u001b[39m.\u001b[39;49m_pick_drop_channels(idx)\n\u001b[1;32m    680\u001b[0m \u001b[39m# remove dropped channel types from reject and flat\u001b[39;00m\n\u001b[1;32m    681\u001b[0m \u001b[39mif\u001b[39;00m \u001b[39mgetattr\u001b[39m(\u001b[39mself\u001b[39m, \u001b[39m'\u001b[39m\u001b[39mreject\u001b[39m\u001b[39m'\u001b[39m, \u001b[39mNone\u001b[39;00m) \u001b[39mis\u001b[39;00m \u001b[39mnot\u001b[39;00m \u001b[39mNone\u001b[39;00m:\n\u001b[1;32m    682\u001b[0m     \u001b[39m# use list(self.reject) to avoid RuntimeError for changing\u001b[39;00m\n\u001b[1;32m    683\u001b[0m     \u001b[39m# dictionary size during iteration\u001b[39;00m\n",
      "File \u001b[0;32m<decorator-gen-46>:12\u001b[0m, in \u001b[0;36m_pick_drop_channels\u001b[0;34m(self, idx, verbose)\u001b[0m\n",
      "File \u001b[0;32m~/opt/anaconda3/envs/mne_new/lib/python3.9/site-packages/mne/channels/channels.py:856\u001b[0m, in \u001b[0;36mUpdateChannelsMixin._pick_drop_channels\u001b[0;34m(self, idx, verbose)\u001b[0m\n\u001b[1;32m    853\u001b[0m \u001b[39mif\u001b[39;00m \u001b[39mhasattr\u001b[39m(\u001b[39mself\u001b[39m, \u001b[39m'\u001b[39m\u001b[39m_cals\u001b[39m\u001b[39m'\u001b[39m):\n\u001b[1;32m    854\u001b[0m     \u001b[39mself\u001b[39m\u001b[39m.\u001b[39m_cals \u001b[39m=\u001b[39m \u001b[39mself\u001b[39m\u001b[39m.\u001b[39m_cals[idx]\n\u001b[0;32m--> 856\u001b[0m pick_info(\u001b[39mself\u001b[39;49m\u001b[39m.\u001b[39;49minfo, idx, copy\u001b[39m=\u001b[39;49m\u001b[39mFalse\u001b[39;49;00m)\n\u001b[1;32m    858\u001b[0m \u001b[39mfor\u001b[39;00m key \u001b[39min\u001b[39;00m (\u001b[39m'\u001b[39m\u001b[39m_comp\u001b[39m\u001b[39m'\u001b[39m, \u001b[39m'\u001b[39m\u001b[39m_projector\u001b[39m\u001b[39m'\u001b[39m):\n\u001b[1;32m    859\u001b[0m     mat \u001b[39m=\u001b[39m \u001b[39mgetattr\u001b[39m(\u001b[39mself\u001b[39m, key, \u001b[39mNone\u001b[39;00m)\n",
      "File \u001b[0;32m<decorator-gen-9>:12\u001b[0m, in \u001b[0;36mpick_info\u001b[0;34m(info, sel, copy, verbose)\u001b[0m\n",
      "File \u001b[0;32m~/opt/anaconda3/envs/mne_new/lib/python3.9/site-packages/mne/io/pick.py:538\u001b[0m, in \u001b[0;36mpick_info\u001b[0;34m(info, sel, copy, verbose)\u001b[0m\n\u001b[1;32m    536\u001b[0m     \u001b[39mreturn\u001b[39;00m info\n\u001b[1;32m    537\u001b[0m \u001b[39melif\u001b[39;00m \u001b[39mlen\u001b[39m(sel) \u001b[39m==\u001b[39m \u001b[39m0\u001b[39m:\n\u001b[0;32m--> 538\u001b[0m     \u001b[39mraise\u001b[39;00m \u001b[39mValueError\u001b[39;00m(\u001b[39m'\u001b[39m\u001b[39mNo channels match the selection.\u001b[39m\u001b[39m'\u001b[39m)\n\u001b[1;32m    539\u001b[0m n_unique \u001b[39m=\u001b[39m \u001b[39mlen\u001b[39m(np\u001b[39m.\u001b[39munique(np\u001b[39m.\u001b[39marange(\u001b[39mlen\u001b[39m(info[\u001b[39m'\u001b[39m\u001b[39mch_names\u001b[39m\u001b[39m'\u001b[39m]))[sel]))\n\u001b[1;32m    540\u001b[0m \u001b[39mif\u001b[39;00m n_unique \u001b[39m!=\u001b[39m \u001b[39mlen\u001b[39m(sel):\n",
      "\u001b[0;31mValueError\u001b[0m: No channels match the selection."
     ]
    }
   ],
   "source": [
    "# https://pyprep.readthedocs.io/en/latest/generated/pyprep.NoisyChannels.html#pyprep.NoisyChannels\n",
    "\n",
    "noisy = pp.NoisyChannels(raw)\n",
    "\n",
    "# Doesnt work. Only EEG is supported. Tried to change channel type in just to try in:\n",
    "# opt/anaconda3/envs/mne_new/lib/python3.9/site-packages/pyprep/find_noisy_channels.py\n",
    "# to self.raw_mne.pick_types(meg=True, verbose=True)\n",
    "# no luck, it gives traceback on this line. \n",
    "# (If u explicitely call raw.pick_types(meg=True, verbose=True) - everything works fine).\n",
    "# Dont know where the issue is exactly, but in the end we d need to rewrite this whole function \n",
    "# to work with MEG if we really need it.\n",
    "#\n",
    "\n"
   ]
  },
  {
   "cell_type": "code",
   "execution_count": 5,
   "metadata": {},
   "outputs": [
    {
     "name": "stdout",
     "output_type": "stream",
     "text": [
      "Finding segments below or above PTP threshold.\n"
     ]
    },
    {
     "name": "stderr",
     "output_type": "stream",
     "text": [
      "2022-07-14 13:36:28,471 - numexpr.utils - INFO - NumExpr defaulting to 8 threads.\n"
     ]
    },
    {
     "name": "stdout",
     "output_type": "stream",
     "text": [
      "Using qt as 2D backend.\n",
      "Opening raw-browser...\n",
      "Using pyopengl with version 3.1.1a1\n"
     ]
    },
    {
     "name": "stderr",
     "output_type": "stream",
     "text": [
      "2022-07-14 13:36:29,531 - OpenGL.acceleratesupport - INFO - No OpenGL_accelerate module loaded: No module named 'OpenGL_accelerate'\n"
     ]
    },
    {
     "data": {
      "text/plain": [
       "<mne_qt_browser._pg_figure.MNEQtBrowser at 0x172891820>"
      ]
     },
     "execution_count": 5,
     "metadata": {},
     "output_type": "execute_result"
    }
   ],
   "source": [
    "# Annotate bad peak to peak amplitudes: peaks and flats\n",
    "\n",
    "# https://mne.tools/stable/generated/mne.preprocessing.annotate_amplitude.html\n",
    "# copmpare this MNE function with what I wrote myself: Funnks - > Peaks_meg_qc -> neighbour_peak_amplitude\n",
    "\n",
    "#'Creates annotations BAD_peak or BAD_flat for spans of data where consecutive samples exceed the threshold in peak or fall below the threshold \n",
    "# in flat for more than min_duration' \n",
    "# min_duration is in minutes\n",
    "#peaks abd flats are in the same scale as the data, like: x^-13\n",
    "\n",
    "# Differences with mine ACCORDING TO DOCUNMENTATION: \n",
    "# - no option to set distance between up and down peak to be concedered a pair. Maybe they calculate it differently? check code.\n",
    "# - This function need raw obj as input. So not epochs and not just a piece of data -> need to adjust it for epochs. \n",
    "# - Can set here extra: flat, percent of bad, min duration and actual heigh of peaks and flats.\n",
    "\n",
    "amplit_annot=mne.preprocessing.annotate_amplitude(raw_cropped, peak=3e-11, flat=5e-15, bad_percent=5, min_duration=0.005, verbose=True)\n",
    "\n",
    "raw_cropped.set_annotations(raw_cropped.annotations + amplit_annot[0])  \n",
    "# For some reason annotate_amplitude creates a tuple, not just annotations. \n",
    "# This whole tuple cant be added to annots, need to slice the first part like: [0]\n",
    "\n",
    "raw_cropped.plot() #plot the data with annotations\n"
   ]
  },
  {
   "cell_type": "code",
   "execution_count": null,
   "metadata": {},
   "outputs": [],
   "source": [
    "# Annotate breaks\n",
    "\n",
    "break_annots = mne.preprocessing.annotate_break(\n",
    "    raw=raw_cropped,\n",
    "    min_break_duration=20,  # consider segments of at least 20 s duration\n",
    "    t_start_after_previous=5,  # start annotation 5 s after end of previous one\n",
    "    t_stop_before_next=2  # stop annotation 2 s before beginning of next one\n",
    ")\n",
    "\n",
    "raw_cropped.set_annotations(raw_cropped.annotations + break_annots)  # add to existing\n",
    "raw_cropped.plot()"
   ]
  },
  {
   "cell_type": "code",
   "execution_count": null,
   "metadata": {},
   "outputs": [],
   "source": [
    "# Annotate movement\n",
    "\n",
    "mne.preprocessing.annotate_movement"
   ]
  }
 ],
 "metadata": {
  "kernelspec": {
   "display_name": "Python 3.9.7 ('mne_new')",
   "language": "python",
   "name": "python3"
  },
  "language_info": {
   "codemirror_mode": {
    "name": "ipython",
    "version": 3
   },
   "file_extension": ".py",
   "mimetype": "text/x-python",
   "name": "python",
   "nbconvert_exporter": "python",
   "pygments_lexer": "ipython3",
   "version": "3.9.13"
  },
  "orig_nbformat": 4,
  "vscode": {
   "interpreter": {
    "hash": "d401ab1bf6dd7bb97662b0feb1321a641d60d04842bfa92b47f7871360972b5d"
   }
  }
 },
 "nbformat": 4,
 "nbformat_minor": 2
}
