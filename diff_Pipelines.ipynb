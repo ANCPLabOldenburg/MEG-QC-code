{
 "cells": [
  {
   "cell_type": "code",
   "execution_count": 1,
   "metadata": {},
   "outputs": [],
   "source": [
    "# This notebook checks is trying different pipeline approaches\n",
    "\n",
    "# Cropped data is used here (5 minutes only), tried on whole data - takes forever.\n",
    "\n",
    "\n",
    "#Load data, make folders\n",
    "import numpy as np\n",
    "import matplotlib.pyplot as plt\n",
    "import plotly.graph_objects as go\n",
    "import mne\n",
    "import pyprep as pp\n"
   ]
  },
  {
   "cell_type": "code",
   "execution_count": 2,
   "metadata": {},
   "outputs": [
    {
     "name": "stdout",
     "output_type": "stream",
     "text": [
      "Opening raw data file ./data/sub_HT05ND16/210811/mikado-1.fif/...\n",
      "    Read a total of 8 projection items:\n",
      "        magn8_iasoff_68deg.fif : PCA-v1 (1 x 306)  idle\n",
      "        magn8_iasoff_68deg.fif : PCA-v2 (1 x 306)  idle\n",
      "        magn8_iasoff_68deg.fif : PCA-v3 (1 x 306)  idle\n",
      "        magn8_iasoff_68deg.fif : PCA-v4 (1 x 306)  idle\n",
      "        magn8_iasoff_68deg.fif : PCA-v5 (1 x 306)  idle\n",
      "        magn8_iasoff_68deg.fif : PCA-v6 (1 x 306)  idle\n",
      "        magn8_iasoff_68deg.fif : PCA-v7 (1 x 306)  idle\n",
      "        magn8_iasoff_68deg.fif : PCA-v8 (1 x 306)  idle\n",
      "    Range : 1809000 ... 3375999 =   1809.000 ...  3375.999 secs\n",
      "Ready.\n",
      "Opening raw data file /Users/jenya/Local Storage/Job Uni Rieger lab/MEG QC code/data/sub_HT05ND16/210811/mikado-2.fif...\n",
      "    Read a total of 8 projection items:\n",
      "        magn8_iasoff_68deg.fif : PCA-v1 (1 x 306)  idle\n",
      "        magn8_iasoff_68deg.fif : PCA-v2 (1 x 306)  idle\n",
      "        magn8_iasoff_68deg.fif : PCA-v3 (1 x 306)  idle\n",
      "        magn8_iasoff_68deg.fif : PCA-v4 (1 x 306)  idle\n",
      "        magn8_iasoff_68deg.fif : PCA-v5 (1 x 306)  idle\n"
     ]
    },
    {
     "name": "stderr",
     "output_type": "stream",
     "text": [
      "/Users/jenya/Local Storage/Job Uni Rieger lab/MEG QC code/Functions/data_load_and_folders.py:8: RuntimeWarning: This filename (./data/sub_HT05ND16/210811/mikado-1.fif/) does not conform to MNE naming conventions. All raw files should end with raw.fif, raw_sss.fif, raw_tsss.fif, _meg.fif, _eeg.fif, _ieeg.fif, raw.fif.gz, raw_sss.fif.gz, raw_tsss.fif.gz, _meg.fif.gz, _eeg.fif.gz or _ieeg.fif.gz\n",
      "  raw = mne.io.read_raw_fif(raw_file)\n"
     ]
    },
    {
     "name": "stdout",
     "output_type": "stream",
     "text": [
      "        magn8_iasoff_68deg.fif : PCA-v6 (1 x 306)  idle\n",
      "        magn8_iasoff_68deg.fif : PCA-v7 (1 x 306)  idle\n",
      "        magn8_iasoff_68deg.fif : PCA-v8 (1 x 306)  idle\n",
      "    Range : 3376000 ... 4942999 =   3376.000 ...  4942.999 secs\n",
      "Ready.\n",
      "Opening raw data file /Users/jenya/Local Storage/Job Uni Rieger lab/MEG QC code/data/sub_HT05ND16/210811/mikado-3.fif...\n",
      "    Read a total of 8 projection items:\n",
      "        magn8_iasoff_68deg.fif : PCA-v1 (1 x 306)  idle\n",
      "        magn8_iasoff_68deg.fif : PCA-v2 (1 x 306)  idle\n",
      "        magn8_iasoff_68deg.fif : PCA-v3 (1 x 306)  idle\n",
      "        magn8_iasoff_68deg.fif : PCA-v4 (1 x 306)  idle\n",
      "        magn8_iasoff_68deg.fif : PCA-v5 (1 x 306)  idle\n",
      "        magn8_iasoff_68deg.fif : PCA-v6 (1 x 306)  idle\n",
      "        magn8_iasoff_68deg.fif : PCA-v7 (1 x 306)  idle\n",
      "        magn8_iasoff_68deg.fif : PCA-v8 (1 x 306)  idle\n",
      "    Range : 4943000 ... 5198999 =   4943.000 ...  5198.999 secs\n",
      "Ready.\n"
     ]
    },
    {
     "data": {
      "text/html": [
       "<table class=\"table table-hover table-striped table-sm table-responsive small\">\n",
       "    <tr>\n",
       "        <th>Measurement date</th>\n",
       "        \n",
       "        <td>August 11, 2021  12:05:17 GMT</td>\n",
       "        \n",
       "    </tr>\n",
       "    <tr>\n",
       "        <th>Experimenter</th>\n",
       "        \n",
       "        <td>Meg User (meg)</td>\n",
       "        \n",
       "    </tr>\n",
       "        <th>Participant</th>\n",
       "        \n",
       "            \n",
       "        \n",
       "    </tr>\n",
       "    <tr>\n",
       "        <th>Digitized points</th>\n",
       "        \n",
       "        <td>0 points</td>\n",
       "        \n",
       "    </tr>\n",
       "    <tr>\n",
       "        <th>Good channels</th>\n",
       "        <td>11 IAS, 102 Magnetometers, 204 Gradiometers, 1 Stimulus, 1 SYST</td>\n",
       "    </tr>\n",
       "    <tr>\n",
       "        <th>Bad channels</th>\n",
       "        <td>None</td>\n",
       "    </tr>\n",
       "    <tr>\n",
       "        <th>EOG channels</th>\n",
       "        <td>Not available</td>\n",
       "    </tr>\n",
       "    <tr>\n",
       "        <th>ECG channels</th>\n",
       "        <td>Not available</td>\n",
       "    \n",
       "    <tr>\n",
       "        <th>Sampling frequency</th>\n",
       "        <td>1000.00 Hz</td>\n",
       "    </tr>\n",
       "    \n",
       "    \n",
       "    <tr>\n",
       "        <th>Highpass</th>\n",
       "        <td>0.10 Hz</td>\n",
       "    </tr>\n",
       "    \n",
       "    \n",
       "    <tr>\n",
       "        <th>Lowpass</th>\n",
       "        <td>330.00 Hz</td>\n",
       "    </tr>\n",
       "    \n",
       "    \n",
       "    <tr>\n",
       "        <th>Projections</th>\n",
       "        <td>magn8_iasoff_68deg.fif : PCA-v1 : off<br/>magn8_iasoff_68deg.fif : PCA-v2 : off<br/>magn8_iasoff_68deg.fif : PCA-v3 : off<br/>magn8_iasoff_68deg.fif : PCA-v4 : off<br/>magn8_iasoff_68deg.fif : PCA-v5 : off<br/>magn8_iasoff_68deg.fif : PCA-v6 : off<br/>magn8_iasoff_68deg.fif : PCA-v7 : off<br/>magn8_iasoff_68deg.fif : PCA-v8 : off</td>\n",
       "    </tr>\n",
       "    \n",
       "    \n",
       "    <tr>\n",
       "        <th>Filenames</th>\n",
       "        <td>mikado-1.fif</td>\n",
       "    </tr>\n",
       "    \n",
       "    <tr>\n",
       "        <th>Duration</th>\n",
       "        <td>00:05:00 (HH:MM:SS)</td>\n",
       "    </tr>\n",
       "</table>"
      ],
      "text/plain": [
       "<Raw | mikado-1.fif, 319 x 300001 (300.0 s), ~6.6 MB, data not loaded>"
      ]
     },
     "execution_count": 2,
     "metadata": {},
     "output_type": "execute_result"
    }
   ],
   "source": [
    "\n",
    "#from Functions.main_meg_qc import initial_stuff\n",
    "from Functions. data_load_and_folders import load_meg_data\n",
    "duration=5 #in minutes\n",
    "#n_events, df_epochs_mags, df_epochs_grads, epochs_mags, epochs_grads, mags, grads, filtered_d, filtered_d_resamp, raw_cropped, raw=initial_stuff(duration)\n",
    "\n",
    "raw_file = './data/sub_HT05ND16/210811/mikado-1.fif/'\n",
    "raw, mags, grads = load_meg_data(raw_file)\n",
    "\n",
    "#crop the data to calculate faster\n",
    "raw_cropped = raw.copy()\n",
    "raw_cropped.crop(0, duration*60) \n",
    "\n"
   ]
  },
  {
   "cell_type": "code",
   "execution_count": 3,
   "metadata": {},
   "outputs": [
    {
     "name": "stdout",
     "output_type": "stream",
     "text": [
      "Finding segments below or above PTP threshold.\n",
      "\n",
      "Annotations added to raw: <Annotations | 6 segments: BAD_flat (5), BAD_peak (1)>\n",
      "Channels added to bads in raw: [] \n",
      "\n"
     ]
    },
    {
     "name": "stderr",
     "output_type": "stream",
     "text": [
      "2022-07-19 22:02:41,199 - numexpr.utils - INFO - NumExpr defaulting to 8 threads.\n"
     ]
    },
    {
     "name": "stdout",
     "output_type": "stream",
     "text": [
      "Using qt as 2D backend.\n",
      "Opening raw-browser...\n",
      "Using pyopengl with version 3.1.1a1\n"
     ]
    },
    {
     "name": "stderr",
     "output_type": "stream",
     "text": [
      "2022-07-19 22:02:42,625 - OpenGL.acceleratesupport - INFO - No OpenGL_accelerate module loaded: No module named 'OpenGL_accelerate'\n"
     ]
    },
    {
     "data": {
      "text/html": [
       "<div>\n",
       "<style scoped>\n",
       "    .dataframe tbody tr th:only-of-type {\n",
       "        vertical-align: middle;\n",
       "    }\n",
       "\n",
       "    .dataframe tbody tr th {\n",
       "        vertical-align: top;\n",
       "    }\n",
       "\n",
       "    .dataframe thead th {\n",
       "        text-align: right;\n",
       "    }\n",
       "</style>\n",
       "<table border=\"1\" class=\"dataframe\">\n",
       "  <thead>\n",
       "    <tr style=\"text-align: right;\">\n",
       "      <th></th>\n",
       "      <th>onset</th>\n",
       "      <th>duration</th>\n",
       "      <th>description</th>\n",
       "    </tr>\n",
       "  </thead>\n",
       "  <tbody>\n",
       "    <tr>\n",
       "      <th>0</th>\n",
       "      <td>2021-08-11 12:36:33.114942</td>\n",
       "      <td>0.005</td>\n",
       "      <td>BAD_peak</td>\n",
       "    </tr>\n",
       "    <tr>\n",
       "      <th>1</th>\n",
       "      <td>2021-08-11 12:37:00.189942</td>\n",
       "      <td>0.005</td>\n",
       "      <td>BAD_flat</td>\n",
       "    </tr>\n",
       "    <tr>\n",
       "      <th>2</th>\n",
       "      <td>2021-08-11 12:38:19.231942</td>\n",
       "      <td>0.005</td>\n",
       "      <td>BAD_flat</td>\n",
       "    </tr>\n",
       "    <tr>\n",
       "      <th>3</th>\n",
       "      <td>2021-08-11 12:38:52.072942</td>\n",
       "      <td>0.005</td>\n",
       "      <td>BAD_flat</td>\n",
       "    </tr>\n",
       "    <tr>\n",
       "      <th>4</th>\n",
       "      <td>2021-08-11 12:43:40.273942</td>\n",
       "      <td>0.005</td>\n",
       "      <td>BAD_flat</td>\n",
       "    </tr>\n",
       "    <tr>\n",
       "      <th>5</th>\n",
       "      <td>2021-08-11 12:45:14.584942</td>\n",
       "      <td>0.005</td>\n",
       "      <td>BAD_flat</td>\n",
       "    </tr>\n",
       "  </tbody>\n",
       "</table>\n",
       "</div>"
      ],
      "text/plain": [
       "                       onset  duration description\n",
       "0 2021-08-11 12:36:33.114942     0.005    BAD_peak\n",
       "1 2021-08-11 12:37:00.189942     0.005    BAD_flat\n",
       "2 2021-08-11 12:38:19.231942     0.005    BAD_flat\n",
       "3 2021-08-11 12:38:52.072942     0.005    BAD_flat\n",
       "4 2021-08-11 12:43:40.273942     0.005    BAD_flat\n",
       "5 2021-08-11 12:45:14.584942     0.005    BAD_flat"
      ]
     },
     "execution_count": 3,
     "metadata": {},
     "output_type": "execute_result"
    }
   ],
   "source": [
    "# Annotate bad peak to peak amplitudes: peaks and flats\n",
    "\n",
    "# https://mne.tools/stable/generated/mne.preprocessing.annotate_amplitude.html\n",
    "# copmpare this MNE function with what I wrote myself: Funnks - > Peaks_meg_qc -> neighbour_peak_amplitude\n",
    "\n",
    "#'Creates annotations BAD_peak or BAD_flat for spans of data where consecutive samples exceed the threshold in peak or fall below the threshold \n",
    "# in flat for more than min_duration' \n",
    "\n",
    "amplit_annot=mne.preprocessing.annotate_amplitude(raw_cropped, peak={'mag':3.5e-11, 'grad': 4e-11}, flat=3e-15, bad_percent=5, min_duration=0.005, verbose=True)\n",
    "\n",
    "# Some input parameters:\n",
    "# * bad_percent - percent of tolerated bad segments in the channel. id some channel is over this percent - will be returned as \"bads\". \n",
    "#   While if its under, just the points will be returned as \"bad peak or \"bad flat\"\n",
    "#   However I dont see any info about which channel these points belong to! Which is totally stupid?\n",
    "# * picks can call channel types or separate channel names like: picks=['grad'] or picks=['MEG0111']\n",
    "# * alterbnatively u can specify peaks and/or flats values for types of channels like: peak={'mag':3.5e-11, 'grad': 4e-11} (but not the names of channels).\n",
    "# * min_duration is in minutes\n",
    "# * peaks and flats are in the same scale as the data, like: 1e-13\n",
    "\n",
    "# Differences with my function in Funks.Peaks_meg_gc.ipynb: \n",
    "# - no option to set distance between up and down peak to be concedered a pair. They calculate peak like: abs(a[i+1] - a[i]) ≥ peak (from docs).\n",
    "#   So we can probably adjust indexing of 'a' here to decide which peaks concider as an up+down pair.\n",
    "# - This function need raw obj as input. So not epochs and not just a piece of data -> need to adjust it for epochs. \n",
    "# - Can set here extra: flat, percent of bad, min duration and actual height of peaks and flats.\n",
    "\n",
    "# Now need to add these annotation obj to the raw:\n",
    "raw_cropped.set_annotations(raw_cropped.annotations + amplit_annot[0])  \n",
    "raw_cropped.info['bads'] = amplit_annot[1]\n",
    "# annotate_amplitude creates a tuple, not just annotations, like other functions from this series. \n",
    "# Second part of tuple is 'bads' (whole channel is bad, too many bad segments). \n",
    "# This whole tuple can't be added to annots in raw, need to slice the first part like: [0]\n",
    "\n",
    "\n",
    "print('\\nAnnotations added to raw:', raw_cropped.annotations)\n",
    "print('Channels added to bads in raw:', raw_cropped.info['bads'],\"\\n\")\n",
    "\n",
    "\n",
    "# ANNOTATIONS ARE SUMMED HERE. SO IF YOU WANT TO OVERWRITE THEM, RUN ALL CELLS ABOVE AGAIN OR JUST DELETE THE ANNOTATIONS like: \n",
    "# idx=[a for a in range(0,len(raw_cropped.annotations))] #all annotations chosen for removal\n",
    "# raw_cropped.annotations.delete(idx)\n",
    "# ONLY RERUNNING THIS ONE CELL WILL NOT REMOVE OLD ANNOTS FROM RAW. \n",
    "\n",
    "raw_cropped.plot() #plot the data with annotations\n",
    "\n",
    "#export annotation to dataframe:\n",
    "df_annot=raw_cropped.annotations.to_data_frame()\n",
    "df_annot\n"
   ]
  },
  {
   "cell_type": "code",
   "execution_count": 3,
   "metadata": {},
   "outputs": [],
   "source": [
    "# Since this function doesnt give channel names, need to loop over every channel and add its name into every annotation.\n",
    "# mne.Annotations obj doesnt allow changing, so will have to create a new object and write explicitly all info + channel name there.\n",
    "\n",
    "def get_amplitude_annots_per_channel(raw: mne.io.Raw, peak: float, flat: float, ch_type_names: list) -> tuple[mne.Annotations, list]:\n",
    "    \"\"\"Function creates amplitude (peak-to-peak annotations for every channel separately\"\"\"\n",
    "    \n",
    "    amplit_annot_with_ch_names=mne.Annotations(onset=[], duration=[], description=[], orig_time=raw.annotations.orig_time) #initialize \n",
    "    bad_channels=[]\n",
    "\n",
    "    for channel in ch_type_names:\n",
    "        #get annotation object:\n",
    "        amplit_annot=mne.preprocessing.annotate_amplitude(raw, peak=peak, flat=flat , bad_percent=5, min_duration=0.005, picks=[channel[0]], verbose=False)\n",
    "        \n",
    "        bad_channels.append(amplit_annot[1]) #Can later add these into annotation as well.\n",
    "\n",
    "        if len(amplit_annot[0])>0:\n",
    "\n",
    "            #create new annot obj and add there all data + channel name:\n",
    "            amplit_annot_with_ch_names.append(onset=amplit_annot[0][0]['onset'], duration=amplit_annot[0][0]['duration'], description=amplit_annot[0][0]['description'], ch_names=[[channel[0]]])\n",
    "\n",
    "\n",
    "    return amplit_annot_with_ch_names, bad_channels\n"
   ]
  },
  {
   "cell_type": "code",
   "execution_count": 4,
   "metadata": {},
   "outputs": [
    {
     "name": "stderr",
     "output_type": "stream",
     "text": [
      "2022-07-19 23:41:16,915 - numexpr.utils - INFO - NumExpr defaulting to 8 threads.\n"
     ]
    },
    {
     "data": {
      "text/html": [
       "<div>\n",
       "<style scoped>\n",
       "    .dataframe tbody tr th:only-of-type {\n",
       "        vertical-align: middle;\n",
       "    }\n",
       "\n",
       "    .dataframe tbody tr th {\n",
       "        vertical-align: top;\n",
       "    }\n",
       "\n",
       "    .dataframe thead th {\n",
       "        text-align: right;\n",
       "    }\n",
       "</style>\n",
       "<table border=\"1\" class=\"dataframe\">\n",
       "  <thead>\n",
       "    <tr style=\"text-align: right;\">\n",
       "      <th></th>\n",
       "      <th>onset</th>\n",
       "      <th>duration</th>\n",
       "      <th>description</th>\n",
       "      <th>ch_names</th>\n",
       "    </tr>\n",
       "  </thead>\n",
       "  <tbody>\n",
       "    <tr>\n",
       "      <th>0</th>\n",
       "      <td>2021-08-11 12:37:00.189942</td>\n",
       "      <td>0.005</td>\n",
       "      <td>BAD_flat</td>\n",
       "      <td>(MEG0231,)</td>\n",
       "    </tr>\n",
       "    <tr>\n",
       "      <th>1</th>\n",
       "      <td>2021-08-11 12:38:19.231942</td>\n",
       "      <td>0.005</td>\n",
       "      <td>BAD_flat</td>\n",
       "      <td>(MEG0411,)</td>\n",
       "    </tr>\n",
       "    <tr>\n",
       "      <th>2</th>\n",
       "      <td>2021-08-11 12:38:52.072942</td>\n",
       "      <td>0.005</td>\n",
       "      <td>BAD_flat</td>\n",
       "      <td>(MEG1611,)</td>\n",
       "    </tr>\n",
       "  </tbody>\n",
       "</table>\n",
       "</div>"
      ],
      "text/plain": [
       "                       onset  duration description    ch_names\n",
       "0 2021-08-11 12:37:00.189942     0.005    BAD_flat  (MEG0231,)\n",
       "1 2021-08-11 12:38:19.231942     0.005    BAD_flat  (MEG0411,)\n",
       "2 2021-08-11 12:38:52.072942     0.005    BAD_flat  (MEG1611,)"
      ]
     },
     "execution_count": 4,
     "metadata": {},
     "output_type": "execute_result"
    }
   ],
   "source": [
    "# # clear annotations:\n",
    "# idx=[a for a in range(0,len(raw_cropped.annotations))] #all annotations chosen for removal\n",
    "# raw_cropped.annotations.delete(idx)\n",
    "\n",
    "peak=3.5e-11 \n",
    "flat=3e-15\n",
    "\n",
    "amplit_annot_with_ch_names_mags, bad_channels=get_amplitude_annots_per_channel(raw_cropped, peak, flat, ch_type_names=mags)\n",
    "#amplit_annot_with_ch_names_grads=get_amplitude_annots_per_channel(raw_cropped, peak, flat, ch_type_names=grads)\n",
    "\n",
    "#extract annots to data frame:\n",
    "df_annot=amplit_annot_with_ch_names_mags.to_data_frame()\n",
    "df_annot\n"
   ]
  },
  {
   "cell_type": "code",
   "execution_count": 5,
   "metadata": {},
   "outputs": [
    {
     "name": "stdout",
     "output_type": "stream",
     "text": [
      "Using qt as 2D backend.\n",
      "Opening raw-browser...\n",
      "Using pyopengl with version 3.1.1a1\n"
     ]
    },
    {
     "name": "stderr",
     "output_type": "stream",
     "text": [
      "2022-07-19 23:41:30,722 - OpenGL.acceleratesupport - INFO - No OpenGL_accelerate module loaded: No module named 'OpenGL_accelerate'\n"
     ]
    },
    {
     "data": {
      "text/plain": [
       "<Annotations | 3 segments, channel-specific: BAD_flat (3)>"
      ]
     },
     "execution_count": 5,
     "metadata": {},
     "output_type": "execute_result"
    }
   ],
   "source": [
    "# add annotations to raw obj:\n",
    "raw_cropped.set_annotations(raw_cropped.annotations + amplit_annot_with_ch_names_mags)  \n",
    "\n",
    "#plot the data with annotations\n",
    "raw_cropped.plot() \n",
    "\n",
    "raw_cropped.annotations\n"
   ]
  },
  {
   "cell_type": "code",
   "execution_count": 6,
   "metadata": {},
   "outputs": [
    {
     "name": "stdout",
     "output_type": "stream",
     "text": [
      "Ignoring annotations with descriptions starting with: bad, edge\n"
     ]
    },
    {
     "ename": "IndexError",
     "evalue": "list index out of range",
     "output_type": "error",
     "traceback": [
      "\u001b[0;31m---------------------------------------------------------------------------\u001b[0m",
      "\u001b[0;31mIndexError\u001b[0m                                Traceback (most recent call last)",
      "\u001b[1;32m/Users/jenya/Local Storage/Job Uni Rieger lab/MEG QC code/diff_Pipelines.ipynb Cell 7\u001b[0m in \u001b[0;36m<cell line: 3>\u001b[0;34m()\u001b[0m\n\u001b[1;32m      <a href='vscode-notebook-cell:/Users/jenya/Local%20Storage/Job%20Uni%20Rieger%20lab/MEG%20QC%20code/diff_Pipelines.ipynb#ch0000007?line=0'>1</a>\u001b[0m \u001b[39m# Annotate breaks - doesnt work..\u001b[39;00m\n\u001b[0;32m----> <a href='vscode-notebook-cell:/Users/jenya/Local%20Storage/Job%20Uni%20Rieger%20lab/MEG%20QC%20code/diff_Pipelines.ipynb#ch0000007?line=2'>3</a>\u001b[0m break_annots \u001b[39m=\u001b[39m mne\u001b[39m.\u001b[39;49mpreprocessing\u001b[39m.\u001b[39;49mannotate_break(\n\u001b[1;32m      <a href='vscode-notebook-cell:/Users/jenya/Local%20Storage/Job%20Uni%20Rieger%20lab/MEG%20QC%20code/diff_Pipelines.ipynb#ch0000007?line=3'>4</a>\u001b[0m     raw\u001b[39m=\u001b[39;49mraw_cropped,\n\u001b[1;32m      <a href='vscode-notebook-cell:/Users/jenya/Local%20Storage/Job%20Uni%20Rieger%20lab/MEG%20QC%20code/diff_Pipelines.ipynb#ch0000007?line=4'>5</a>\u001b[0m     min_break_duration\u001b[39m=\u001b[39;49m\u001b[39m5\u001b[39;49m,  \u001b[39m# consider segments of at least 5 s duration\u001b[39;49;00m\n\u001b[1;32m      <a href='vscode-notebook-cell:/Users/jenya/Local%20Storage/Job%20Uni%20Rieger%20lab/MEG%20QC%20code/diff_Pipelines.ipynb#ch0000007?line=5'>6</a>\u001b[0m     t_start_after_previous\u001b[39m=\u001b[39;49m\u001b[39m2\u001b[39;49m,  \u001b[39m# start annotation 2 s after end of previous one\u001b[39;49;00m\n\u001b[1;32m      <a href='vscode-notebook-cell:/Users/jenya/Local%20Storage/Job%20Uni%20Rieger%20lab/MEG%20QC%20code/diff_Pipelines.ipynb#ch0000007?line=6'>7</a>\u001b[0m     t_stop_before_next\u001b[39m=\u001b[39;49m\u001b[39m2\u001b[39;49m  \u001b[39m# stop annotation 2 s before beginning of next one\u001b[39;49;00m\n\u001b[1;32m      <a href='vscode-notebook-cell:/Users/jenya/Local%20Storage/Job%20Uni%20Rieger%20lab/MEG%20QC%20code/diff_Pipelines.ipynb#ch0000007?line=7'>8</a>\u001b[0m )\n\u001b[1;32m     <a href='vscode-notebook-cell:/Users/jenya/Local%20Storage/Job%20Uni%20Rieger%20lab/MEG%20QC%20code/diff_Pipelines.ipynb#ch0000007?line=10'>11</a>\u001b[0m raw_cropped\u001b[39m.\u001b[39mset_annotations(raw_cropped\u001b[39m.\u001b[39mannotations \u001b[39m+\u001b[39m break_annots)  \u001b[39m# add to existing\u001b[39;00m\n\u001b[1;32m     <a href='vscode-notebook-cell:/Users/jenya/Local%20Storage/Job%20Uni%20Rieger%20lab/MEG%20QC%20code/diff_Pipelines.ipynb#ch0000007?line=11'>12</a>\u001b[0m raw_cropped\u001b[39m.\u001b[39mplot()\n",
      "File \u001b[0;32m<decorator-gen-452>:12\u001b[0m, in \u001b[0;36mannotate_break\u001b[0;34m(raw, events, min_break_duration, t_start_after_previous, t_stop_before_next, ignore, verbose)\u001b[0m\n",
      "File \u001b[0;32m~/opt/anaconda3/envs/mne_new/lib/python3.9/site-packages/mne/preprocessing/artifact_detection.py:491\u001b[0m, in \u001b[0;36mannotate_break\u001b[0;34m(raw, events, min_break_duration, t_start_after_previous, t_stop_before_next, ignore, verbose)\u001b[0m\n\u001b[1;32m    483\u001b[0m annotated_intervals \u001b[39m=\u001b[39m [\n\u001b[1;32m    484\u001b[0m     [onset, onset \u001b[39m+\u001b[39m duration] \u001b[39mfor\u001b[39;00m onset, duration \u001b[39min\u001b[39;00m\n\u001b[1;32m    485\u001b[0m     \u001b[39mzip\u001b[39m(annotations\u001b[39m.\u001b[39monset[keep_mask], annotations\u001b[39m.\u001b[39mduration[keep_mask])\n\u001b[1;32m    486\u001b[0m ]\n\u001b[1;32m    488\u001b[0m \u001b[39m# Merge overlapping annotation intervals\u001b[39;00m\n\u001b[1;32m    489\u001b[0m \u001b[39m# Pre-load `merged_intervals` with the first interval to simplify\u001b[39;00m\n\u001b[1;32m    490\u001b[0m \u001b[39m# processing\u001b[39;00m\n\u001b[0;32m--> 491\u001b[0m merged_intervals \u001b[39m=\u001b[39m [annotated_intervals[\u001b[39m0\u001b[39;49m]]\n\u001b[1;32m    492\u001b[0m \u001b[39mfor\u001b[39;00m interval \u001b[39min\u001b[39;00m annotated_intervals:\n\u001b[1;32m    493\u001b[0m     merged_interval_stop \u001b[39m=\u001b[39m merged_intervals[\u001b[39m-\u001b[39m\u001b[39m1\u001b[39m][\u001b[39m1\u001b[39m]\n",
      "\u001b[0;31mIndexError\u001b[0m: list index out of range"
     ]
    }
   ],
   "source": [
    "# Annotate breaks - doesnt work..\n",
    "\n",
    "break_annots = mne.preprocessing.annotate_break(\n",
    "    raw=raw_cropped,\n",
    "    min_break_duration=5,  # consider segments of at least 5 s duration\n",
    "    t_start_after_previous=2,  # start annotation 2 s after end of previous one\n",
    "    t_stop_before_next=2  # stop annotation 2 s before beginning of next one\n",
    ")\n",
    "\n",
    "\n",
    "raw_cropped.set_annotations(raw_cropped.annotations + break_annots)  # add to existing\n",
    "raw_cropped.plot()"
   ]
  },
  {
   "cell_type": "code",
   "execution_count": 7,
   "metadata": {},
   "outputs": [
    {
     "ename": "RuntimeError",
     "evalue": "Could not find all 9 cHPI channels",
     "output_type": "error",
     "traceback": [
      "\u001b[0;31m---------------------------------------------------------------------------\u001b[0m",
      "\u001b[0;31mRuntimeError\u001b[0m                              Traceback (most recent call last)",
      "\u001b[1;32m/Users/jenya/Local Storage/Job Uni Rieger lab/MEG QC code/diff_Pipelines.ipynb Cell 8\u001b[0m in \u001b[0;36m<cell line: 7>\u001b[0;34m()\u001b[0m\n\u001b[1;32m      <a href='vscode-notebook-cell:/Users/jenya/Local%20Storage/Job%20Uni%20Rieger%20lab/MEG%20QC%20code/diff_Pipelines.ipynb#ch0000014?line=3'>4</a>\u001b[0m \u001b[39mfrom\u001b[39;00m \u001b[39mmne\u001b[39;00m\u001b[39m.\u001b[39;00m\u001b[39mpreprocessing\u001b[39;00m \u001b[39mimport\u001b[39;00m annotate_movement, compute_average_dev_head_t\n\u001b[1;32m      <a href='vscode-notebook-cell:/Users/jenya/Local%20Storage/Job%20Uni%20Rieger%20lab/MEG%20QC%20code/diff_Pipelines.ipynb#ch0000014?line=5'>6</a>\u001b[0m \u001b[39m# Get cHPI time series and compute average\u001b[39;00m\n\u001b[0;32m----> <a href='vscode-notebook-cell:/Users/jenya/Local%20Storage/Job%20Uni%20Rieger%20lab/MEG%20QC%20code/diff_Pipelines.ipynb#ch0000014?line=6'>7</a>\u001b[0m chpi_locs \u001b[39m=\u001b[39m mne\u001b[39m.\u001b[39;49mchpi\u001b[39m.\u001b[39;49mextract_chpi_locs_ctf(raw_cropped)\n\u001b[1;32m      <a href='vscode-notebook-cell:/Users/jenya/Local%20Storage/Job%20Uni%20Rieger%20lab/MEG%20QC%20code/diff_Pipelines.ipynb#ch0000014?line=7'>8</a>\u001b[0m head_pos \u001b[39m=\u001b[39m mne\u001b[39m.\u001b[39mchpi\u001b[39m.\u001b[39mcompute_head_pos(raw_cropped\u001b[39m.\u001b[39minfo, chpi_locs)\n\u001b[1;32m      <a href='vscode-notebook-cell:/Users/jenya/Local%20Storage/Job%20Uni%20Rieger%20lab/MEG%20QC%20code/diff_Pipelines.ipynb#ch0000014?line=8'>9</a>\u001b[0m original_head_dev_t \u001b[39m=\u001b[39m mne\u001b[39m.\u001b[39mtransforms\u001b[39m.\u001b[39minvert_transform(\n\u001b[1;32m     <a href='vscode-notebook-cell:/Users/jenya/Local%20Storage/Job%20Uni%20Rieger%20lab/MEG%20QC%20code/diff_Pipelines.ipynb#ch0000014?line=9'>10</a>\u001b[0m     raw_cropped\u001b[39m.\u001b[39minfo[\u001b[39m'\u001b[39m\u001b[39mdev_head_t\u001b[39m\u001b[39m'\u001b[39m])\n",
      "File \u001b[0;32m<decorator-gen-511>:12\u001b[0m, in \u001b[0;36mextract_chpi_locs_ctf\u001b[0;34m(raw, verbose)\u001b[0m\n",
      "File \u001b[0;32m~/opt/anaconda3/envs/mne_new/lib/python3.9/site-packages/mne/chpi.py:185\u001b[0m, in \u001b[0;36mextract_chpi_locs_ctf\u001b[0;34m(raw, verbose)\u001b[0m\n\u001b[1;32m    183\u001b[0m \u001b[39m# make sure we get 9 channels\u001b[39;00m\n\u001b[1;32m    184\u001b[0m \u001b[39mif\u001b[39;00m \u001b[39mlen\u001b[39m(hpi_picks) \u001b[39m!=\u001b[39m \u001b[39m9\u001b[39m:\n\u001b[0;32m--> 185\u001b[0m     \u001b[39mraise\u001b[39;00m \u001b[39mRuntimeError\u001b[39;00m(\u001b[39m'\u001b[39m\u001b[39mCould not find all 9 cHPI channels\u001b[39m\u001b[39m'\u001b[39m)\n\u001b[1;32m    187\u001b[0m \u001b[39m# get indices in alphabetical order\u001b[39;00m\n\u001b[1;32m    188\u001b[0m sorted_picks \u001b[39m=\u001b[39m np\u001b[39m.\u001b[39marray(\u001b[39msorted\u001b[39m(hpi_picks,\n\u001b[1;32m    189\u001b[0m                                key\u001b[39m=\u001b[39m\u001b[39mlambda\u001b[39;00m k: raw\u001b[39m.\u001b[39minfo[\u001b[39m'\u001b[39m\u001b[39mch_names\u001b[39m\u001b[39m'\u001b[39m][k]))\n",
      "\u001b[0;31mRuntimeError\u001b[0m: Could not find all 9 cHPI channels"
     ]
    }
   ],
   "source": [
    "# Annotate movement - like in tutorial 2 from:\n",
    "# https://mne.tools/stable/generated/mne.preprocessing.annotate_movement.html\n",
    "\n",
    "from mne.preprocessing import annotate_movement, compute_average_dev_head_t\n",
    "\n",
    "# Get cHPI time series and compute average\n",
    "chpi_locs = mne.chpi.extract_chpi_locs_ctf(raw_cropped)\n",
    "head_pos = mne.chpi.compute_head_pos(raw_cropped.info, chpi_locs)\n",
    "original_head_dev_t = mne.transforms.invert_transform(\n",
    "    raw_cropped.info['dev_head_t'])\n",
    "average_head_dev_t = mne.transforms.invert_transform(\n",
    "    compute_average_dev_head_t(raw_cropped, head_pos))\n",
    "fig = mne.viz.plot_head_positions(head_pos)\n",
    "for ax, val, val_ori in zip(fig.axes[::2], average_head_dev_t['trans'][:3, 3],\n",
    "                            original_head_dev_t['trans'][:3, 3]):\n",
    "    ax.axhline(1000 * val, color='r')\n",
    "    ax.axhline(1000 * val_ori, color='g')\n",
    "\n",
    "# The green horizontal lines represent the original head position, whereas the\n",
    "# red lines are the new head position averaged over all the time points.\n",
    "\n",
    "mean_distance_limit = 0.0015  # in meters\n",
    "annotation_movement, hpi_disp = annotate_movement(\n",
    "    raw_cropped, head_pos, mean_distance_limit=mean_distance_limit)\n",
    "raw_cropped.set_annotations(annotation_movement)\n",
    "raw_cropped.plot(n_channels=100, duration=20)"
   ]
  },
  {
   "cell_type": "code",
   "execution_count": 8,
   "metadata": {},
   "outputs": [
    {
     "name": "stdout",
     "output_type": "stream",
     "text": [
      "Using 5 HPI coils: 261 278 294 311 328 Hz\n",
      "cHPI coil frequencies extracted from raw: [261.33300781 278.         294.66699219 311.33300781 328.        ] Hz\n",
      "Using 5 HPI coils: 261 278 294 311 328 Hz\n",
      "Line interference frequencies: 50 100 150 200 250 300 Hz\n",
      "Using time window: 187.5 ms\n",
      "Fitting 5 HPI coil locations at up to 29991 time points (300.0 sec duration)\n"
     ]
    },
    {
     "data": {
      "application/vnd.jupyter.widget-view+json": {
       "model_id": "c3fe390308c8443dae4f49b72d0dc6fb",
       "version_major": 2,
       "version_minor": 0
      },
      "text/plain": [
       "  0%|          | cHPI amplitudes : 0/29991 [00:00<?,       ?it/s]"
      ]
     },
     "metadata": {},
     "output_type": "display_data"
    },
    {
     "name": "stdout",
     "output_type": "stream",
     "text": [
      "Computing 4385 HPI location guesses (1 cm grid in a 10.7 cm sphere)\n",
      "HPIFIT: 5 coils digitized in order 2 1 5 3 4\n",
      "HPI consistency of isotrak and hpifit is OK.\n"
     ]
    },
    {
     "data": {
      "application/vnd.jupyter.widget-view+json": {
       "model_id": "f86bdf51d6c94c0f960503e58087246e",
       "version_major": 2,
       "version_minor": 0
      },
      "text/plain": [
       "  0%|          | cHPI locations  : 0/29991 [00:00<?,       ?it/s]"
      ]
     },
     "metadata": {},
     "output_type": "display_data"
    }
   ],
   "source": [
    "#Since we got an error, try another tutorial: \n",
    "# (takes some minutes depends how big is raw_cropped: 2-40 min):\n",
    "# https://mne.tools/stable/auto_tutorials/preprocessing/59_head_positions.html#sphx-glr-auto-tutorials-preprocessing-59-head-positions-py\n",
    "\n",
    "# cHPI - continuous head position indicator (HPI) coil channels, data in teslas\n",
    "\n",
    "# 'We can use mne.chpi.get_chpi_info to retrieve the coil frequencies, the index of \n",
    "# the channel indicating when which coil was switched on, and the respective “event codes” \n",
    "# associated with each coil’s activity.'\n",
    "chpi_freqs, ch_idx, chpi_codes = mne.chpi.get_chpi_info(info=raw_cropped.info, on_missing='warn', verbose=None)\n",
    "print(f'cHPI coil frequencies extracted from raw: {chpi_freqs} Hz')\n",
    "\n",
    "#We only got 5, not 9 HPI (see error in cell above)\n",
    "\n",
    "\n",
    "#extract the HPI coil amplitudes as a function of time:\n",
    "chpi_amplitudes=mne.chpi.compute_chpi_amplitudes(raw_cropped, t_step_min=0.01, t_window='auto', ext_order=1, tmin=0, tmax=None, verbose=None)\n",
    "\n",
    "#compute time-varying HPI coil locations from these\n",
    "chpi_locs=mne.chpi.compute_chpi_locs(raw_cropped.info, chpi_amplitudes, t_step_max=1.0, too_close='raise', adjust_dig=False, verbose=None)\n",
    "\n",
    "#compute head positions from the coil locations:\n",
    "head_pos = mne.chpi.compute_head_pos(raw_cropped.info, chpi_locs, verbose=True)\n",
    "\n"
   ]
  },
  {
   "cell_type": "code",
   "execution_count": 9,
   "metadata": {},
   "outputs": [
    {
     "ename": "IndexError",
     "evalue": "index 0 is out of bounds for axis 0 with size 0",
     "output_type": "error",
     "traceback": [
      "\u001b[0;31m---------------------------------------------------------------------------\u001b[0m",
      "\u001b[0;31mIndexError\u001b[0m                                Traceback (most recent call last)",
      "\u001b[1;32m/Users/jenya/Local Storage/Job Uni Rieger lab/MEG QC code/diff_Pipelines.ipynb Cell 10\u001b[0m in \u001b[0;36m<cell line: 4>\u001b[0;34m()\u001b[0m\n\u001b[1;32m      <a href='vscode-notebook-cell:/Users/jenya/Local%20Storage/Job%20Uni%20Rieger%20lab/MEG%20QC%20code/diff_Pipelines.ipynb#ch0000017?line=0'>1</a>\u001b[0m \u001b[39m#Visualizing continuous head position: doesnt work\u001b[39;00m\n\u001b[1;32m      <a href='vscode-notebook-cell:/Users/jenya/Local%20Storage/Job%20Uni%20Rieger%20lab/MEG%20QC%20code/diff_Pipelines.ipynb#ch0000017?line=1'>2</a>\u001b[0m \n\u001b[1;32m      <a href='vscode-notebook-cell:/Users/jenya/Local%20Storage/Job%20Uni%20Rieger%20lab/MEG%20QC%20code/diff_Pipelines.ipynb#ch0000017?line=2'>3</a>\u001b[0m \u001b[39m#mne.viz.plot_head_positions(head_pos, mode='traces')\u001b[39;00m\n\u001b[0;32m----> <a href='vscode-notebook-cell:/Users/jenya/Local%20Storage/Job%20Uni%20Rieger%20lab/MEG%20QC%20code/diff_Pipelines.ipynb#ch0000017?line=3'>4</a>\u001b[0m mne\u001b[39m.\u001b[39;49mviz\u001b[39m.\u001b[39;49mplot_head_positions(head_pos, mode\u001b[39m=\u001b[39;49m\u001b[39m'\u001b[39;49m\u001b[39mfield\u001b[39;49m\u001b[39m'\u001b[39;49m)\n",
      "File \u001b[0;32m~/opt/anaconda3/envs/mne_new/lib/python3.9/site-packages/mne/viz/_3d.py:253\u001b[0m, in \u001b[0;36mplot_head_positions\u001b[0;34m(pos, mode, cmap, direction, show, destination, info, color, axes)\u001b[0m\n\u001b[1;32m    251\u001b[0m pts \u001b[39m=\u001b[39m use_trans[:, np\u001b[39m.\u001b[39mnewaxis]\n\u001b[1;32m    252\u001b[0m segments \u001b[39m=\u001b[39m np\u001b[39m.\u001b[39mconcatenate([pts[:\u001b[39m-\u001b[39m\u001b[39m1\u001b[39m], pts[\u001b[39m1\u001b[39m:]], axis\u001b[39m=\u001b[39m\u001b[39m1\u001b[39m)\n\u001b[0;32m--> 253\u001b[0m norm \u001b[39m=\u001b[39m Normalize(t[\u001b[39m0\u001b[39;49m], t[\u001b[39m-\u001b[39m\u001b[39m2\u001b[39m])\n\u001b[1;32m    254\u001b[0m lc \u001b[39m=\u001b[39m Line3DCollection(segments, cmap\u001b[39m=\u001b[39mcmap, norm\u001b[39m=\u001b[39mnorm)\n\u001b[1;32m    255\u001b[0m lc\u001b[39m.\u001b[39mset_array(t[:\u001b[39m-\u001b[39m\u001b[39m1\u001b[39m])\n",
      "\u001b[0;31mIndexError\u001b[0m: index 0 is out of bounds for axis 0 with size 0"
     ]
    },
    {
     "data": {
      "image/png": "[encoded data removed]",
      "text/plain": [
       "<Figure size 432x288 with 1 Axes>"
      ]
     },
     "metadata": {
      "needs_background": "light"
     },
     "output_type": "display_data"
    }
   ],
   "source": [
    "#Visualizing continuous head position: doesnt work\n",
    "\n",
    "#mne.viz.plot_head_positions(head_pos, mode='traces')\n",
    "mne.viz.plot_head_positions(head_pos, mode='field')\n",
    "\n"
   ]
  },
  {
   "cell_type": "code",
   "execution_count": 10,
   "metadata": {},
   "outputs": [
    {
     "ename": "IndexError",
     "evalue": "index -1 is out of bounds for axis 0 with size 0",
     "output_type": "error",
     "traceback": [
      "\u001b[0;31m---------------------------------------------------------------------------\u001b[0m",
      "\u001b[0;31mIndexError\u001b[0m                                Traceback (most recent call last)",
      "\u001b[1;32m/Users/jenya/Local Storage/Job Uni Rieger lab/MEG QC code/diff_Pipelines.ipynb Cell 11\u001b[0m in \u001b[0;36m<cell line: 4>\u001b[0;34m()\u001b[0m\n\u001b[1;32m      <a href='vscode-notebook-cell:/Users/jenya/Local%20Storage/Job%20Uni%20Rieger%20lab/MEG%20QC%20code/diff_Pipelines.ipynb#ch0000015?line=0'>1</a>\u001b[0m \u001b[39m# Now again try to annotate movement: also error - It didnt calculate any positions!\u001b[39;00m\n\u001b[1;32m      <a href='vscode-notebook-cell:/Users/jenya/Local%20Storage/Job%20Uni%20Rieger%20lab/MEG%20QC%20code/diff_Pipelines.ipynb#ch0000015?line=2'>3</a>\u001b[0m mean_distance_limit \u001b[39m=\u001b[39m \u001b[39m0.0015\u001b[39m  \u001b[39m# in meters\u001b[39;00m\n\u001b[0;32m----> <a href='vscode-notebook-cell:/Users/jenya/Local%20Storage/Job%20Uni%20Rieger%20lab/MEG%20QC%20code/diff_Pipelines.ipynb#ch0000015?line=3'>4</a>\u001b[0m annotation_movement, hpi_disp \u001b[39m=\u001b[39m annotate_movement(\n\u001b[1;32m      <a href='vscode-notebook-cell:/Users/jenya/Local%20Storage/Job%20Uni%20Rieger%20lab/MEG%20QC%20code/diff_Pipelines.ipynb#ch0000015?line=4'>5</a>\u001b[0m     raw_cropped, head_pos, mean_distance_limit\u001b[39m=\u001b[39;49mmean_distance_limit)\n\u001b[1;32m      <a href='vscode-notebook-cell:/Users/jenya/Local%20Storage/Job%20Uni%20Rieger%20lab/MEG%20QC%20code/diff_Pipelines.ipynb#ch0000015?line=5'>6</a>\u001b[0m raw_cropped\u001b[39m.\u001b[39mset_annotations(raw_cropped\u001b[39m.\u001b[39mannotations \u001b[39m+\u001b[39m annotation_movement)\n\u001b[1;32m      <a href='vscode-notebook-cell:/Users/jenya/Local%20Storage/Job%20Uni%20Rieger%20lab/MEG%20QC%20code/diff_Pipelines.ipynb#ch0000015?line=6'>7</a>\u001b[0m raw_cropped\u001b[39m.\u001b[39mplot(n_channels\u001b[39m=\u001b[39m\u001b[39m100\u001b[39m, duration\u001b[39m=\u001b[39m\u001b[39m20\u001b[39m)\n",
      "File \u001b[0;32m~/opt/anaconda3/envs/mne_new/lib/python3.9/site-packages/mne/preprocessing/artifact_detection.py:169\u001b[0m, in \u001b[0;36mannotate_movement\u001b[0;34m(raw, pos, rotation_velocity_limit, translation_velocity_limit, mean_distance_limit, use_dev_head_trans)\u001b[0m\n\u001b[1;32m    167\u001b[0m hp_ts \u001b[39m=\u001b[39m pos[:, \u001b[39m0\u001b[39m]\u001b[39m.\u001b[39mcopy() \u001b[39m-\u001b[39m raw\u001b[39m.\u001b[39mfirst_time\n\u001b[1;32m    168\u001b[0m dt \u001b[39m=\u001b[39m np\u001b[39m.\u001b[39mdiff(hp_ts)\n\u001b[0;32m--> 169\u001b[0m hp_ts \u001b[39m=\u001b[39m np\u001b[39m.\u001b[39mconcatenate([hp_ts, [hp_ts[\u001b[39m-\u001b[39;49m\u001b[39m1\u001b[39;49m] \u001b[39m+\u001b[39m \u001b[39m1.\u001b[39m \u001b[39m/\u001b[39m sfreq]])\n\u001b[1;32m    170\u001b[0m orig_time \u001b[39m=\u001b[39m raw\u001b[39m.\u001b[39minfo[\u001b[39m'\u001b[39m\u001b[39mmeas_date\u001b[39m\u001b[39m'\u001b[39m]\n\u001b[1;32m    171\u001b[0m annot \u001b[39m=\u001b[39m Annotations([], [], [], orig_time\u001b[39m=\u001b[39morig_time)\n",
      "\u001b[0;31mIndexError\u001b[0m: index -1 is out of bounds for axis 0 with size 0"
     ]
    }
   ],
   "source": [
    "# Now again try to annotate movement: also error - It didnt calculate any positions!\n",
    "\n",
    "mean_distance_limit = 0.0015  # in meters\n",
    "annotation_movement, hpi_disp = annotate_movement(\n",
    "    raw_cropped, head_pos, mean_distance_limit=mean_distance_limit)\n",
    "raw_cropped.set_annotations(raw_cropped.annotations + annotation_movement)\n",
    "raw_cropped.plot(n_channels=100, duration=20)"
   ]
  },
  {
   "cell_type": "code",
   "execution_count": 11,
   "metadata": {},
   "outputs": [
    {
     "data": {
      "text/plain": [
       "array([], shape=(0, 10), dtype=float64)"
      ]
     },
     "execution_count": 11,
     "metadata": {},
     "output_type": "execute_result"
    }
   ],
   "source": [
    "head_pos"
   ]
  },
  {
   "cell_type": "code",
   "execution_count": 9,
   "metadata": {},
   "outputs": [
    {
     "ename": "ValueError",
     "evalue": "No channels match the selection.",
     "output_type": "error",
     "traceback": [
      "\u001b[0;31m---------------------------------------------------------------------------\u001b[0m",
      "\u001b[0;31mValueError\u001b[0m                                Traceback (most recent call last)",
      "\u001b[1;32m/Users/jenya/Local Storage/Job Uni Rieger lab/MEG QC code/diff_Pipelines.ipynb Cell 10\u001b[0m in \u001b[0;36m<cell line: 7>\u001b[0;34m()\u001b[0m\n\u001b[1;32m      <a href='vscode-notebook-cell:/Users/jenya/Local%20Storage/Job%20Uni%20Rieger%20lab/MEG%20QC%20code/diff_Pipelines.ipynb#ch0000013?line=0'>1</a>\u001b[0m \u001b[39m# https://pyprep.readthedocs.io/en/latest/generated/pyprep.NoisyChannels.html#pyprep.NoisyChannels\u001b[39;00m\n\u001b[1;32m      <a href='vscode-notebook-cell:/Users/jenya/Local%20Storage/Job%20Uni%20Rieger%20lab/MEG%20QC%20code/diff_Pipelines.ipynb#ch0000013?line=1'>2</a>\u001b[0m \n\u001b[1;32m      <a href='vscode-notebook-cell:/Users/jenya/Local%20Storage/Job%20Uni%20Rieger%20lab/MEG%20QC%20code/diff_Pipelines.ipynb#ch0000013?line=2'>3</a>\u001b[0m \u001b[39m# This class implements all of the noisy channel detection methods used in the PREP pipeline, as described in:\u001b[39;00m\n\u001b[1;32m      <a href='vscode-notebook-cell:/Users/jenya/Local%20Storage/Job%20Uni%20Rieger%20lab/MEG%20QC%20code/diff_Pipelines.ipynb#ch0000013?line=3'>4</a>\u001b[0m \u001b[39m# Bigdely-Shamlo, N., Mullen, T., Kothe, C., Su, K. M., Robbins, K. A. (2015). The PREP pipeline: \u001b[39;00m\n\u001b[1;32m      <a href='vscode-notebook-cell:/Users/jenya/Local%20Storage/Job%20Uni%20Rieger%20lab/MEG%20QC%20code/diff_Pipelines.ipynb#ch0000013?line=4'>5</a>\u001b[0m \u001b[39m# standardized preprocessing for large-scale EEG analysis. Frontiers in Neuroinformatics, 9, 16.\u001b[39;00m\n\u001b[0;32m----> <a href='vscode-notebook-cell:/Users/jenya/Local%20Storage/Job%20Uni%20Rieger%20lab/MEG%20QC%20code/diff_Pipelines.ipynb#ch0000013?line=6'>7</a>\u001b[0m noisy \u001b[39m=\u001b[39m pp\u001b[39m.\u001b[39;49mNoisyChannels(raw) \u001b[39m#first, add raw to class, then all the noisy channels finding performed on this new object.\u001b[39;00m\n\u001b[1;32m      <a href='vscode-notebook-cell:/Users/jenya/Local%20Storage/Job%20Uni%20Rieger%20lab/MEG%20QC%20code/diff_Pipelines.ipynb#ch0000013?line=8'>9</a>\u001b[0m \u001b[39m# Doesnt work. Only EEG is supported. Tried to change channel type in just to try in:\u001b[39;00m\n\u001b[1;32m     <a href='vscode-notebook-cell:/Users/jenya/Local%20Storage/Job%20Uni%20Rieger%20lab/MEG%20QC%20code/diff_Pipelines.ipynb#ch0000013?line=9'>10</a>\u001b[0m \u001b[39m# opt/anaconda3/envs/mne_new/lib/python3.9/site-packages/pyprep/find_noisy_channels.py\u001b[39;00m\n\u001b[1;32m     <a href='vscode-notebook-cell:/Users/jenya/Local%20Storage/Job%20Uni%20Rieger%20lab/MEG%20QC%20code/diff_Pipelines.ipynb#ch0000013?line=10'>11</a>\u001b[0m \u001b[39m# to self.raw_mne.pick_types(meg=True, verbose=True)\u001b[39;00m\n\u001b[0;32m   (...)\u001b[0m\n\u001b[1;32m     <a href='vscode-notebook-cell:/Users/jenya/Local%20Storage/Job%20Uni%20Rieger%20lab/MEG%20QC%20code/diff_Pipelines.ipynb#ch0000013?line=14'>15</a>\u001b[0m \u001b[39m# Dont know where the issue is exactly, but in the end we ll need to rewrite this whole function \u001b[39;00m\n\u001b[1;32m     <a href='vscode-notebook-cell:/Users/jenya/Local%20Storage/Job%20Uni%20Rieger%20lab/MEG%20QC%20code/diff_Pipelines.ipynb#ch0000013?line=15'>16</a>\u001b[0m \u001b[39m# to work with MEG if we really need it.\u001b[39;00m\n\u001b[1;32m     <a href='vscode-notebook-cell:/Users/jenya/Local%20Storage/Job%20Uni%20Rieger%20lab/MEG%20QC%20code/diff_Pipelines.ipynb#ch0000013?line=17'>18</a>\u001b[0m \u001b[39mfrom\u001b[39;00m \u001b[39mtime\u001b[39;00m \u001b[39mimport\u001b[39;00m perf_counter\n",
      "File \u001b[0;32m~/opt/anaconda3/envs/mne_new/lib/python3.9/site-packages/pyprep/find_noisy_channels.py:58\u001b[0m, in \u001b[0;36mNoisyChannels.__init__\u001b[0;34m(self, raw, do_detrend, random_state, matlab_strict)\u001b[0m\n\u001b[1;32m     55\u001b[0m \u001b[39massert\u001b[39;00m \u001b[39misinstance\u001b[39m(raw, mne\u001b[39m.\u001b[39mio\u001b[39m.\u001b[39mBaseRaw)\n\u001b[1;32m     57\u001b[0m \u001b[39mself\u001b[39m\u001b[39m.\u001b[39mraw_mne \u001b[39m=\u001b[39m raw\u001b[39m.\u001b[39mcopy()\n\u001b[0;32m---> 58\u001b[0m \u001b[39mself\u001b[39;49m\u001b[39m.\u001b[39;49mraw_mne\u001b[39m.\u001b[39;49mpick_types(eeg\u001b[39m=\u001b[39;49m\u001b[39mTrue\u001b[39;49;00m)\n\u001b[1;32m     59\u001b[0m \u001b[39mself\u001b[39m\u001b[39m.\u001b[39msample_rate \u001b[39m=\u001b[39m raw\u001b[39m.\u001b[39minfo[\u001b[39m\"\u001b[39m\u001b[39msfreq\u001b[39m\u001b[39m\"\u001b[39m]\n\u001b[1;32m     60\u001b[0m \u001b[39mif\u001b[39;00m do_detrend:\n",
      "File \u001b[0;32m<decorator-gen-44>:12\u001b[0m, in \u001b[0;36mpick_types\u001b[0;34m(self, meg, eeg, stim, eog, ecg, emg, ref_meg, misc, resp, chpi, exci, ias, syst, seeg, dipole, gof, bio, ecog, fnirs, csd, dbs, include, exclude, selection, verbose)\u001b[0m\n",
      "File \u001b[0;32m~/opt/anaconda3/envs/mne_new/lib/python3.9/site-packages/mne/channels/channels.py:678\u001b[0m, in \u001b[0;36mUpdateChannelsMixin.pick_types\u001b[0;34m(self, meg, eeg, stim, eog, ecg, emg, ref_meg, misc, resp, chpi, exci, ias, syst, seeg, dipole, gof, bio, ecog, fnirs, csd, dbs, include, exclude, selection, verbose)\u001b[0m\n\u001b[1;32m    594\u001b[0m \u001b[39m\"\"\"Pick some channels by type and names.\u001b[39;00m\n\u001b[1;32m    595\u001b[0m \n\u001b[1;32m    596\u001b[0m \u001b[39mParameters\u001b[39;00m\n\u001b[0;32m   (...)\u001b[0m\n\u001b[1;32m    669\u001b[0m \u001b[39m.. versionadded:: 0.9.0\u001b[39;00m\n\u001b[1;32m    670\u001b[0m \u001b[39m\"\"\"\u001b[39;00m\n\u001b[1;32m    671\u001b[0m idx \u001b[39m=\u001b[39m pick_types(\n\u001b[1;32m    672\u001b[0m     \u001b[39mself\u001b[39m\u001b[39m.\u001b[39minfo, meg\u001b[39m=\u001b[39mmeg, eeg\u001b[39m=\u001b[39meeg, stim\u001b[39m=\u001b[39mstim, eog\u001b[39m=\u001b[39meog, ecg\u001b[39m=\u001b[39mecg, emg\u001b[39m=\u001b[39memg,\n\u001b[1;32m    673\u001b[0m     ref_meg\u001b[39m=\u001b[39mref_meg, misc\u001b[39m=\u001b[39mmisc, resp\u001b[39m=\u001b[39mresp, chpi\u001b[39m=\u001b[39mchpi, exci\u001b[39m=\u001b[39mexci,\n\u001b[1;32m    674\u001b[0m     ias\u001b[39m=\u001b[39mias, syst\u001b[39m=\u001b[39msyst, seeg\u001b[39m=\u001b[39mseeg, dipole\u001b[39m=\u001b[39mdipole, gof\u001b[39m=\u001b[39mgof, bio\u001b[39m=\u001b[39mbio,\n\u001b[1;32m    675\u001b[0m     ecog\u001b[39m=\u001b[39mecog, fnirs\u001b[39m=\u001b[39mfnirs, dbs\u001b[39m=\u001b[39mdbs, include\u001b[39m=\u001b[39minclude, exclude\u001b[39m=\u001b[39mexclude,\n\u001b[1;32m    676\u001b[0m     selection\u001b[39m=\u001b[39mselection)\n\u001b[0;32m--> 678\u001b[0m \u001b[39mself\u001b[39;49m\u001b[39m.\u001b[39;49m_pick_drop_channels(idx)\n\u001b[1;32m    680\u001b[0m \u001b[39m# remove dropped channel types from reject and flat\u001b[39;00m\n\u001b[1;32m    681\u001b[0m \u001b[39mif\u001b[39;00m \u001b[39mgetattr\u001b[39m(\u001b[39mself\u001b[39m, \u001b[39m'\u001b[39m\u001b[39mreject\u001b[39m\u001b[39m'\u001b[39m, \u001b[39mNone\u001b[39;00m) \u001b[39mis\u001b[39;00m \u001b[39mnot\u001b[39;00m \u001b[39mNone\u001b[39;00m:\n\u001b[1;32m    682\u001b[0m     \u001b[39m# use list(self.reject) to avoid RuntimeError for changing\u001b[39;00m\n\u001b[1;32m    683\u001b[0m     \u001b[39m# dictionary size during iteration\u001b[39;00m\n",
      "File \u001b[0;32m<decorator-gen-46>:12\u001b[0m, in \u001b[0;36m_pick_drop_channels\u001b[0;34m(self, idx, verbose)\u001b[0m\n",
      "File \u001b[0;32m~/opt/anaconda3/envs/mne_new/lib/python3.9/site-packages/mne/channels/channels.py:856\u001b[0m, in \u001b[0;36mUpdateChannelsMixin._pick_drop_channels\u001b[0;34m(self, idx, verbose)\u001b[0m\n\u001b[1;32m    853\u001b[0m \u001b[39mif\u001b[39;00m \u001b[39mhasattr\u001b[39m(\u001b[39mself\u001b[39m, \u001b[39m'\u001b[39m\u001b[39m_cals\u001b[39m\u001b[39m'\u001b[39m):\n\u001b[1;32m    854\u001b[0m     \u001b[39mself\u001b[39m\u001b[39m.\u001b[39m_cals \u001b[39m=\u001b[39m \u001b[39mself\u001b[39m\u001b[39m.\u001b[39m_cals[idx]\n\u001b[0;32m--> 856\u001b[0m pick_info(\u001b[39mself\u001b[39;49m\u001b[39m.\u001b[39;49minfo, idx, copy\u001b[39m=\u001b[39;49m\u001b[39mFalse\u001b[39;49;00m)\n\u001b[1;32m    858\u001b[0m \u001b[39mfor\u001b[39;00m key \u001b[39min\u001b[39;00m (\u001b[39m'\u001b[39m\u001b[39m_comp\u001b[39m\u001b[39m'\u001b[39m, \u001b[39m'\u001b[39m\u001b[39m_projector\u001b[39m\u001b[39m'\u001b[39m):\n\u001b[1;32m    859\u001b[0m     mat \u001b[39m=\u001b[39m \u001b[39mgetattr\u001b[39m(\u001b[39mself\u001b[39m, key, \u001b[39mNone\u001b[39;00m)\n",
      "File \u001b[0;32m<decorator-gen-9>:12\u001b[0m, in \u001b[0;36mpick_info\u001b[0;34m(info, sel, copy, verbose)\u001b[0m\n",
      "File \u001b[0;32m~/opt/anaconda3/envs/mne_new/lib/python3.9/site-packages/mne/io/pick.py:538\u001b[0m, in \u001b[0;36mpick_info\u001b[0;34m(info, sel, copy, verbose)\u001b[0m\n\u001b[1;32m    536\u001b[0m     \u001b[39mreturn\u001b[39;00m info\n\u001b[1;32m    537\u001b[0m \u001b[39melif\u001b[39;00m \u001b[39mlen\u001b[39m(sel) \u001b[39m==\u001b[39m \u001b[39m0\u001b[39m:\n\u001b[0;32m--> 538\u001b[0m     \u001b[39mraise\u001b[39;00m \u001b[39mValueError\u001b[39;00m(\u001b[39m'\u001b[39m\u001b[39mNo channels match the selection.\u001b[39m\u001b[39m'\u001b[39m)\n\u001b[1;32m    539\u001b[0m n_unique \u001b[39m=\u001b[39m \u001b[39mlen\u001b[39m(np\u001b[39m.\u001b[39munique(np\u001b[39m.\u001b[39marange(\u001b[39mlen\u001b[39m(info[\u001b[39m'\u001b[39m\u001b[39mch_names\u001b[39m\u001b[39m'\u001b[39m]))[sel]))\n\u001b[1;32m    540\u001b[0m \u001b[39mif\u001b[39;00m n_unique \u001b[39m!=\u001b[39m \u001b[39mlen\u001b[39m(sel):\n",
      "\u001b[0;31mValueError\u001b[0m: No channels match the selection."
     ]
    }
   ],
   "source": [
    "# https://pyprep.readthedocs.io/en/latest/generated/pyprep.NoisyChannels.html#pyprep.NoisyChannels\n",
    "\n",
    "# This class implements all of the noisy channel detection methods used in the PREP pipeline, as described in:\n",
    "# Bigdely-Shamlo, N., Mullen, T., Kothe, C., Su, K. M., Robbins, K. A. (2015). The PREP pipeline: \n",
    "# standardized preprocessing for large-scale EEG analysis. Frontiers in Neuroinformatics, 9, 16.\n",
    "\n",
    "noisy = pp.NoisyChannels(raw) #first, add raw to class, then all the noisy channels finding performed on this new object.\n",
    "\n",
    "# Doesnt work. Only EEG is supported. Tried to change channel type in just to try in:\n",
    "# opt/anaconda3/envs/mne_new/lib/python3.9/site-packages/pyprep/find_noisy_channels.py\n",
    "# to self.raw_mne.pick_types(meg=True, verbose=True)\n",
    "# no luck, it gives traceback on this line. \n",
    "# (If u explicitely call raw.pick_types(meg=True, verbose=True) - everything works fine - see cell above).\n",
    "\n",
    "# Dont know where the issue is exactly, but in the end we ll need to rewrite this whole function \n",
    "# to work with MEG if we really need it.\n",
    "\n",
    "from time import perf_counter\n",
    "\n",
    "start_time = perf_counter()\n",
    "#noisy.find_bad_by_ransac(channel_wise=True)\n",
    "noisy.find_all_bads(ransac=True, channel_wise=False, max_chunk_size=None)\n",
    "print(\"--- %s seconds ---\" % (perf_counter() - start_time))"
   ]
  }
 ],
 "metadata": {
  "kernelspec": {
   "display_name": "Python 3.9.7 ('mne_new')",
   "language": "python",
   "name": "python3"
  },
  "language_info": {
   "codemirror_mode": {
    "name": "ipython",
    "version": 3
   },
   "file_extension": ".py",
   "mimetype": "text/x-python",
   "name": "python",
   "nbconvert_exporter": "python",
   "pygments_lexer": "ipython3",
   "version": "3.9.13"
  },
  "orig_nbformat": 4,
  "vscode": {
   "interpreter": {
    "hash": "d401ab1bf6dd7bb97662b0feb1321a641d60d04842bfa92b47f7871360972b5d"
   }
  }
 },
 "nbformat": 4,
 "nbformat_minor": 2
}
