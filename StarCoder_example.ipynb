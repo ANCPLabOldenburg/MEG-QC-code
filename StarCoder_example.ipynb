{
 "cells": [
  {
   "cell_type": "code",
   "execution_count": null,
   "metadata": {},
   "outputs": [],
   "source": [
    "//POST Request on JSON to url variable\n",
    "//Params: url, object\n",
    "function /* Good variant use Language syntax */"
   ]
  }
 ],
 "metadata": {
  "kernelspec": {
   "display_name": "megqc",
   "language": "python",
   "name": "megqc"
  },
  "language_info": {
   "name": "python",
   "version": "3.8.10"
  },
  "orig_nbformat": 4
 },
 "nbformat": 4,
 "nbformat_minor": 2
}
