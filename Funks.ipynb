{
 "cells": [
  {
   "cell_type": "code",
   "execution_count": 1,
   "metadata": {},
   "outputs": [],
   "source": [
    "import os\n",
    "\n",
    "#import matplotlib\n",
    "#matplotlib.use('MACOSX')\n",
    "#for some reason if I run these 2 lines - it doesnt plot at all any more.\n",
    "\n",
    "import numpy as np\n",
    "import mne\n",
    "import matplotlib.pyplot as plt\n",
    "from copy import deepcopy\n",
    "from mne.time_frequency import tfr_morlet, psd_multitaper, psd_welch\n",
    "\n"
   ]
  },
  {
   "cell_type": "code",
   "execution_count": 2,
   "metadata": {},
   "outputs": [
    {
     "name": "stdout",
     "output_type": "stream",
     "text": [
      "Opening raw data file Katharinas_Data/sub_HT05ND16/210811/mikado-1.fif...\n",
      "    Read a total of 8 projection items:\n",
      "        magn8_iasoff_68deg.fif : PCA-v1 (1 x 306)  idle\n",
      "        magn8_iasoff_68deg.fif : PCA-v2 (1 x 306)  idle\n",
      "        magn8_iasoff_68deg.fif : PCA-v3 (1 x 306)  idle\n",
      "        magn8_iasoff_68deg.fif : PCA-v4 (1 x 306)  idle\n",
      "        magn8_iasoff_68deg.fif : PCA-v5 (1 x 306)  idle\n",
      "        magn8_iasoff_68deg.fif : PCA-v6 (1 x 306)  idle\n",
      "        magn8_iasoff_68deg.fif : PCA-v7 (1 x 306)  idle\n",
      "        magn8_iasoff_68deg.fif : PCA-v8 (1 x 306)  idle\n"
     ]
    },
    {
     "name": "stderr",
     "output_type": "stream",
     "text": [
      "/var/folders/h2/khhmb4p510vg63hbv0qkftt80000gs/T/ipykernel_8748/931381317.py:7: RuntimeWarning: This filename (Katharinas_Data/sub_HT05ND16/210811/mikado-1.fif) does not conform to MNE naming conventions. All raw files should end with raw.fif, raw_sss.fif, raw_tsss.fif, _meg.fif, _eeg.fif, _ieeg.fif, raw.fif.gz, raw_sss.fif.gz, raw_tsss.fif.gz, _meg.fif.gz, _eeg.fif.gz or _ieeg.fif.gz\n",
      "  raw = mne.io.read_raw_fif(kath_raw_file)\n"
     ]
    },
    {
     "name": "stdout",
     "output_type": "stream",
     "text": [
      "    Range : 1809000 ... 3375999 =   1809.000 ...  3375.999 secs\n",
      "Ready.\n",
      "Opening raw data file /Users/jenya/Local Storage/Job Uni Rieger lab/MEG QC code/Katharinas_Data/sub_HT05ND16/210811/mikado-2.fif...\n",
      "    Read a total of 8 projection items:\n",
      "        magn8_iasoff_68deg.fif : PCA-v1 (1 x 306)  idle\n",
      "        magn8_iasoff_68deg.fif : PCA-v2 (1 x 306)  idle\n",
      "        magn8_iasoff_68deg.fif : PCA-v3 (1 x 306)  idle\n",
      "        magn8_iasoff_68deg.fif : PCA-v4 (1 x 306)  idle\n",
      "        magn8_iasoff_68deg.fif : PCA-v5 (1 x 306)  idle\n",
      "        magn8_iasoff_68deg.fif : PCA-v6 (1 x 306)  idle\n",
      "        magn8_iasoff_68deg.fif : PCA-v7 (1 x 306)  idle\n",
      "        magn8_iasoff_68deg.fif : PCA-v8 (1 x 306)  idle\n",
      "    Range : 3376000 ... 4942999 =   3376.000 ...  4942.999 secs\n",
      "Ready.\n",
      "Opening raw data file /Users/jenya/Local Storage/Job Uni Rieger lab/MEG QC code/Katharinas_Data/sub_HT05ND16/210811/mikado-3.fif...\n",
      "    Read a total of 8 projection items:\n",
      "        magn8_iasoff_68deg.fif : PCA-v1 (1 x 306)  idle\n",
      "        magn8_iasoff_68deg.fif : PCA-v2 (1 x 306)  idle\n",
      "        magn8_iasoff_68deg.fif : PCA-v3 (1 x 306)  idle\n",
      "        magn8_iasoff_68deg.fif : PCA-v4 (1 x 306)  idle\n",
      "        magn8_iasoff_68deg.fif : PCA-v5 (1 x 306)  idle\n",
      "        magn8_iasoff_68deg.fif : PCA-v6 (1 x 306)  idle\n",
      "        magn8_iasoff_68deg.fif : PCA-v7 (1 x 306)  idle\n",
      "        magn8_iasoff_68deg.fif : PCA-v8 (1 x 306)  idle\n",
      "    Range : 4943000 ... 5198999 =   4943.000 ...  5198.999 secs\n",
      "Ready.\n"
     ]
    }
   ],
   "source": [
    "#sample_data_folder = mne.datasets.sample.data_path()\n",
    "#kath_raw_file2 = \"/Users/jenya/Documents/Oldenburg and university/Job Uni Rieger lab/Katharinas_Data/sub_HT05ND16/210811/mikado-1.fif\"\n",
    "kath_raw_file = os.path.join('Katharinas_Data','sub_HT05ND16', '210811', 'mikado-1.fif')\n",
    "\n",
    "#print(kath_raw_file)\n",
    "#print(kath_raw_file2)                                   \n",
    "raw = mne.io.read_raw_fif(kath_raw_file)"
   ]
  },
  {
   "cell_type": "code",
   "execution_count": null,
   "metadata": {},
   "outputs": [],
   "source": [
    "#! change paths into relative"
   ]
  },
  {
   "cell_type": "code",
   "execution_count": 3,
   "metadata": {},
   "outputs": [],
   "source": [
    "def filtering_data(data=None,l_freq=None, h_freq=None, method='iir'):\n",
    "    # Filtering the data: 1-100Hz bandpass, because otherwise calculated stds are too high.\n",
    "    # But actually after filtering they are still high\n",
    "    # Upper level: No useful brain info comes over 100Hz\n",
    "    # Lower level: maybe better from 0.5 because delta frequency is 0.5-4Hz? \n",
    "    # (needed for frequency spectrum) and we cut it now. \n",
    "    # But we do 1-100Hz for now.\n",
    "    # Question: does this filtering change the magnitude of stds? from 9 to 12-13?\n",
    "\n",
    "    # I m using here the Butterworth filter similar to filtfilt in matlab, like we  \n",
    "    # did in the course with eeg data. such filter creates no time shift, since it filters forward and backward.\n",
    "    # But we might use a different filter as well. I dont know if this one is the best possible option.\n",
    "\n",
    "    #raw.crop(0, 60)\n",
    "\n",
    "\n",
    "    data.load_data(verbose=True)\n",
    "    raw_bandpass = data.copy()\n",
    "    raw_bandpass.filter(l_freq=l_freq, h_freq=h_freq, picks='meg', method=method, iir_params=None, verbose=True)\n",
    "\n",
    "    return(raw_bandpass)\n"
   ]
  },
  {
   "cell_type": "code",
   "execution_count": 4,
   "metadata": {},
   "outputs": [
    {
     "name": "stdout",
     "output_type": "stream",
     "text": [
      "Reading 0 ... 3389999  =      0.000 ...  3389.999 secs...\n",
      "Filtering raw data in 1 contiguous segment\n",
      "Setting up band-pass filter from 0.5 - 4 Hz\n",
      "\n",
      "IIR filter parameters\n",
      "---------------------\n",
      "Butterworth bandpass zero-phase (two-pass forward and reverse) non-causal filter:\n",
      "- Filter order 16 (effective, after forward-backward)\n",
      "- Cutoffs at 0.50, 4.00 Hz: -6.02, -6.02 dB\n",
      "\n"
     ]
    }
   ],
   "source": [
    "filterd_d=filtering_data(data=raw,l_freq=0.5, h_freq=4, method='iir')"
   ]
  },
  {
   "cell_type": "code",
   "execution_count": 9,
   "metadata": {},
   "outputs": [],
   "source": [
    "def RMSE_meg(data=None, std_lvl=1, min_duration_event=1, epoch_tmin=-0.2, epoch_tmax=1):\n",
    "    #give path to directory and then it should auto find the data file when bids compliant.\n",
    "\n",
    "    #Separate mags and grads:\n",
    "    mags = [(chs['ch_name'], i) for i, chs in enumerate(data.info['chs']) if str(chs['unit']).endswith('UNIT_T)')]\n",
    "    grads = [(chs['ch_name'], i) for i, chs in enumerate(data.info['chs']) if str(chs['unit']).endswith('UNIT_T_M)')]\n",
    "  \n",
    "\n",
    "    # Separate data for mags and grads in 2 arrays.\n",
    "    selected_mags = [item[1] for item in mags]\n",
    "    selected_grads = [item[1] for item in grads]\n",
    "    data_mags, times = data[selected_mags, :]  \n",
    "    data_grads, times = data[selected_grads, :]  \n",
    "\n",
    "    # %% Calculate STD or RMSE of each channel\n",
    "\n",
    "\n",
    "    #STD:\n",
    "    std_mags=np.std(data_mags, axis=1) #calculate std of all magnetometers (along second dimantion)\n",
    "    std_grads=np.std(data_grads, axis=1) #calculate std of all gradiometers (along second dimantion)\n",
    "\n",
    "    #mean_std_magn=np.mean(std_mags) #average std magnetometers\n",
    "    #mean_std_grad=np.mean(std_grads) #average std gradiometers\n",
    "\n",
    "\n",
    "    # Check if channel data is within 1 std over all channels.\n",
    "    # COMMENT: can use -3 to 3 (or other number) std istead of -1/+1 std, but this can adjusted later. \n",
    "    # find our own best value. or make it user input? 1 std is too narrow, gives way too many bad channels.\n",
    "\n",
    "    std_std_mags=np.std(std_mags)\n",
    "    std_std_grads=np.std(std_grads)\n",
    "\n",
    "    mean_std_mags=np.mean(std_mags)\n",
    "    mean_std_grads=np.mean(std_grads)\n",
    "\n",
    "    ch_large_std_mags= np.where(std_mags > mean_std_mags+std_lvl*std_std_mags) # | std_mags < mean_std_magn-std_std_mags)\n",
    "    ch_large_std_grads= np.where(std_grads > mean_std_grads+std_lvl*std_std_grads) # | std_grads < mean_std_grad-std_std_grads)\n",
    "\n",
    "    ch_small_std_mags= np.where(std_mags < mean_std_mags-std_lvl*std_std_mags)\n",
    "    ch_small_std_grads= np.where(std_grads < mean_std_grads-std_lvl*std_std_grads)\n",
    "\n",
    "\n",
    "   \n",
    "\n",
    "    magn_channel_big_std=np.array(mags)[ch_large_std_mags[0]]\n",
    "    grad_channel_big_std=np.array(grads)[ch_large_std_grads[0]]\n",
    "\n",
    "    magn_channel_small_std=np.array(mags)[ch_small_std_mags[0]]\n",
    "    grad_channel_small_std=np.array(grads)[ch_small_std_grads[0]]\n",
    "\n",
    "    print('Magnetometers with high STD: ', magn_channel_big_std)\n",
    "    print('Gradiometers with high STD: ',grad_channel_big_std)\n",
    "\n",
    "    print('Magnetometers with low STD: ', magn_channel_small_std)\n",
    "    print('Gradiometers with low STD: ',grad_channel_small_std)\n",
    "\n",
    "\n",
    "\n"
   ]
  },
  {
   "cell_type": "code",
   "execution_count": 10,
   "metadata": {},
   "outputs": [],
   "source": [
    "RMSE_meg(data=filterd_d, std_lvl=1, min_duration_event=1, epoch_tmin=-0.2, epoch_tmax=1)"
   ]
  }
 ],
 "metadata": {
  "interpreter": {
   "hash": "d401ab1bf6dd7bb97662b0feb1321a641d60d04842bfa92b47f7871360972b5d"
  },
  "kernelspec": {
   "display_name": "Python 3.9.7 ('mne_new')",
   "language": "python",
   "name": "python3"
  },
  "language_info": {
   "codemirror_mode": {
    "name": "ipython",
    "version": 3
   },
   "file_extension": ".py",
   "mimetype": "text/x-python",
   "name": "python",
   "nbconvert_exporter": "python",
   "pygments_lexer": "ipython3",
   "version": "3.9.7"
  },
  "orig_nbformat": 4
 },
 "nbformat": 4,
 "nbformat_minor": 2
}
