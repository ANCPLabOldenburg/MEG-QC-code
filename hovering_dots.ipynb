{
 "cells": [
  {
   "cell_type": "code",
   "execution_count": 1,
   "metadata": {},
   "outputs": [
    {
     "name": "stderr",
     "output_type": "stream",
     "text": [
      "qt.qpa.drawing: Layer-backing can not be explicitly controlled on 10.14 when built against the 10.14 SDK\n"
     ]
    }
   ],
   "source": [
    "#here collection if different polotting approaches\n",
    "\n",
    "#hovering dots:\n",
    "\n",
    "import matplotlib.pyplot as plt\n",
    "import numpy as np; np.random.seed(1)\n",
    "\n",
    "%matplotlib qt\n",
    "\n",
    "x = np.random.rand(15)\n",
    "y = np.random.rand(15)\n",
    "names = np.array(list(\"ABCDEFGHIJKLMNO\"))\n",
    "c = np.random.randint(1,5,size=15)\n",
    "\n",
    "norm = plt.Normalize(1,4)\n",
    "cmap = plt.cm.RdYlGn\n",
    "\n",
    "fig,ax = plt.subplots()\n",
    "sc = plt.scatter(x,y,c=c, s=100, cmap=cmap, norm=norm)\n",
    "\n",
    "annot = ax.annotate(\"\", xy=(0,0), xytext=(20,20),textcoords=\"offset points\",\n",
    "                    bbox=dict(boxstyle=\"round\", fc=\"w\"),\n",
    "                    arrowprops=dict(arrowstyle=\"->\"))\n",
    "#xytext - how far from the dot the text is, bbox - box with name inside, arrowprops - to draw arrow\n",
    "\n",
    "annot.set_visible(False)\n",
    "\n",
    "def update_annot(ind, name):\n",
    "\n",
    "    pos = sc.get_offsets()[ind[\"ind\"][0]]\n",
    "    annot.xy = pos #resets the xy values from annot above\n",
    "    text = name\n",
    "    annot.set_text(text) #resets the text from annot above\n",
    "    \n",
    "    #annot.get_bbox_patch().set_facecolor(cmap(norm(c[ind[\"ind\"][0]])))\n",
    "    #annot.get_bbox_patch().set_alpha(0.4)\n",
    "\n",
    "\n",
    "def hover(event):\n",
    "    vis = annot.get_visible()\n",
    "    if event.inaxes == ax:\n",
    "        cont, ind = sc.contains(event)\n",
    "        if cont:\n",
    "            update_annot(ind, name=\"halloo\")\n",
    "            annot.set_visible(True)\n",
    "            fig.canvas.draw_idle()\n",
    "        else:\n",
    "            if vis:\n",
    "                annot.set_visible(False)\n",
    "                fig.canvas.draw_idle()\n",
    "\n",
    "fig.canvas.mpl_connect(\"motion_notify_event\", hover)\n",
    "\n",
    "plt.show()"
   ]
  },
  {
   "cell_type": "code",
   "execution_count": 3,
   "metadata": {},
   "outputs": [],
   "source": [
    "# Save interactive plots:\n",
    "#%matplotlib qt\n",
    "\n",
    "tit='mags'\n",
    "import matplotlib.pyplot as plt\n",
    "fig,ax = plt.subplots()\n",
    "ax.plot([1,2,3],[10,-10,30])\n",
    "#Save:\n",
    "import pickle\n",
    "f_handle=open('picture_'+tit+'.fig.pickle', 'wb')\n",
    "pickle.dump(fig, f_handle) # This is for Python 3 - py2 may need `file` instead of `open`\n",
    "f_handle.close()\n",
    "plt.close('all')\n"
   ]
  },
  {
   "cell_type": "code",
   "execution_count": 5,
   "metadata": {},
   "outputs": [
    {
     "name": "stderr",
     "output_type": "stream",
     "text": [
      "qt.qpa.drawing: Layer-backing can not be explicitly controlled on 10.14 when built against the 10.14 SDK\n"
     ]
    }
   ],
   "source": [
    "\n",
    "#Reopen:\n",
    "%matplotlib qt\n",
    "figx = pickle.load(open('picture_'+tit+'.fig.pickle', 'rb'))\n",
    "figx.show() # Show the figure, edit it, etc.!"
   ]
  },
  {
   "cell_type": "code",
   "execution_count": null,
   "metadata": {},
   "outputs": [],
   "source": [
    "#STATIC BOXPLOT (REMOVED FROM FUNKS COS UGLY)\n",
    "\n",
    "def boxplot_std_static(std_data, tit='Magnetometers', channel_names=mags):\n",
    "\n",
    "    # Make std BOXPLOT for entire data - all channels.\n",
    "    # Looks horrrible\n",
    "\n",
    "    import seaborn as sns\n",
    "    from matplotlib import pyplot as plt\n",
    "    import pandas as pd\n",
    "\n",
    "    %matplotlib qt\n",
    "\n",
    "    ch_only_name_mag=[m[0] for m in channel_names] #names of channels for annotating the plot\n",
    "    #std_mags_df = pd.DataFrame(std_mags, index = ch_only_name_mag) #put all stds into a data frame with channels name as index\n",
    "\n",
    "    #Boxplot with seaborn:\n",
    "    fig, ax = plt.subplots()\n",
    "    bp=sns.boxplot(data=std_data)\n",
    "    sw=sns.swarmplot(data=std_data, color=\".25\", ax=ax) \n",
    "    plt.xlabel(\"Standard deviation\")\n",
    "\n",
    "    #Find what x values did boxplot assign to the y values of std data:\n",
    "    #my_offsets = ax.collections[0].get_offsets()\n",
    "\n",
    "    my_round =11 # rounding needed to deal with imperfect precision\n",
    "    my_dict = {y.round(my_round):x for x,y in ax.collections[0].get_offsets()} # turn array into dict\n",
    "\n",
    "    #Now annotate the dots (use std data as y and found assigned values as x for annotation):\n",
    "    for i, txt in enumerate(ch_only_name_mag):\n",
    "        std_val=str(std_mags[i])\n",
    "        this_label = txt+': '+std_val\n",
    "        this_y = std_mags[i]\n",
    "        this_x = my_dict[this_y.round(my_round)] # use y-position to get seaborn-generated x-position\n",
    "        annot = ax.annotate(xy=(this_x,this_y),text=this_label,xytext=(100,100), textcoords= \"offset points\",\n",
    "                        bbox=dict(boxstyle=\"round\", fc=\"w\"),\n",
    "                        arrowprops=dict(arrowstyle=\"->\")) # add label\n",
    "        sns.despine()\n",
    "\n",
    "    ax.set_title(tit)\n",
    "    plt.show()\n",
    "\n"
   ]
  },
  {
   "cell_type": "code",
   "execution_count": null,
   "metadata": {},
   "outputs": [],
   "source": [
    "boxplot_std_static(std_data=std_mags, tit='Magnetometers', channel_names=mags)"
   ]
  }
 ],
 "metadata": {
  "interpreter": {
   "hash": "d401ab1bf6dd7bb97662b0feb1321a641d60d04842bfa92b47f7871360972b5d"
  },
  "kernelspec": {
   "display_name": "Python 3.9.7 ('mne_new')",
   "language": "python",
   "name": "python3"
  },
  "language_info": {
   "codemirror_mode": {
    "name": "ipython",
    "version": 3
   },
   "file_extension": ".py",
   "mimetype": "text/x-python",
   "name": "python",
   "nbconvert_exporter": "python",
   "pygments_lexer": "ipython3",
   "version": "3.9.7"
  },
  "orig_nbformat": 4
 },
 "nbformat": 4,
 "nbformat_minor": 2
}
