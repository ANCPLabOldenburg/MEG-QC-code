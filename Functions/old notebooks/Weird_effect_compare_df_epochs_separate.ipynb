{
 "cells": [
  {
   "cell_type": "code",
   "execution_count": null,
   "metadata": {},
   "outputs": [],
   "source": [
    "#%% Imports:\n",
    "import matplotlib\n",
    "matplotlib.use('MACOSX')\n",
    "\n",
    "from math import sqrt\n",
    "import os\n",
    "import numpy as np\n",
    "import mne\n",
    "#import matplotlib #doesnt it import through mne already?\n",
    "from copy import deepcopy\n",
    "\n",
    "#Open data:\n",
    "#sample_data_folder = mne.datasets.sample.data_path()\n",
    "#kath_raw_file2 = \"/Users/jenya/Documents/Oldenburg and university/Job Uni Rieger lab/Katharinas_Data/sub_HT05ND16/210811/mikado-1.fif\"\n",
    "#kath_raw_file = os.path.join('Katharinas_Data','sub_HT05ND16', '210811', 'mikado-1.fif')\n",
    "kath_raw_file='/Users/jenya/Local Storage/Job Uni Rieger lab/MEG QC code/Katharinas_Data/sub_HT05ND16/210811/mikado-1.fif'\n",
    "print(kath_raw_file)\n",
    "#print(kath_raw_file2)                                   \n",
    "raw = mne.io.read_raw_fif(kath_raw_file)\n",
    "#raw.crop(0, 60).load_data()  # just use a fraction of data for speed here\n",
    "\n",
    "#Print info about the data:\n",
    "print(raw)\n",
    "print(raw.info)\n",
    "raw\n",
    "\n",
    "#crop the data to calculate faster\n",
    "\n",
    "raw_cropped = raw.copy()\n",
    "raw_cropped.crop(0, 300) #(first 5 min)"
   ]
  },
  {
   "cell_type": "code",
   "execution_count": null,
   "metadata": {},
   "outputs": [],
   "source": [
    "#%% Find magnetometers and gradiometers:\n",
    "# unit t - magenetometer. unit M_T - gradiometer. (in this set name will end with 1 for magnet, \n",
    "# with 2and3 for grad.)\n",
    "\n",
    "mags = []\n",
    "grads = []\n",
    "\n",
    "for i, chs in enumerate(raw_cropped.info['chs']):\n",
    "\n",
    "    if str(chs['unit']).endswith('UNIT_T)'):\n",
    "        mags.append((chs['ch_name'], i))\n",
    "    elif str(chs['unit']).endswith('UNIT_T_M)'):\n",
    "        grads.append((chs['ch_name'], i))"
   ]
  },
  {
   "cell_type": "code",
   "execution_count": null,
   "metadata": {},
   "outputs": [],
   "source": [
    "#epoch channels separately\n",
    "events = mne.find_events(raw_cropped, stim_channel='STI101', min_duration=1.2)\n",
    "\n",
    "picks_grad = mne.pick_types(raw_cropped.info, meg='grad', eeg=False, eog=False, stim=False)\n",
    "picks_magn = mne.pick_types(raw_cropped.info, meg='mag', eeg=False, eog=False, stim=False)\n",
    "\n",
    "epochs_mags = mne.Epochs(raw_cropped, events, picks=picks_magn, tmin=-0.2, tmax=1, preload=True, baseline = None)\n",
    "epochs_grads = mne.Epochs(raw_cropped, events, picks=picks_grad, tmin=-0.2, tmax=1, preload=True, baseline = None)\n",
    "\n",
    "#Present epochs as data frame - separately for mags and grads\n",
    "\n",
    "df_epochs_mags = epochs_mags.to_data_frame(time_format=None, scalings=dict(mag=1))\n",
    "\n",
    "df_epochs_grads = epochs_grads.to_data_frame(time_format=None, scalings=dict(grad=1))"
   ]
  },
  {
   "cell_type": "code",
   "execution_count": null,
   "metadata": {},
   "outputs": [],
   "source": [
    "df_epochs_mags"
   ]
  },
  {
   "cell_type": "code",
   "execution_count": null,
   "metadata": {},
   "outputs": [],
   "source": [
    "df_epochs_mags['MEG0111'][0]"
   ]
  }
 ],
 "metadata": {
  "interpreter": {
   "hash": "d401ab1bf6dd7bb97662b0feb1321a641d60d04842bfa92b47f7871360972b5d"
  },
  "kernelspec": {
   "display_name": "Python 3.9.7 ('mne_new')",
   "language": "python",
   "name": "python3"
  },
  "language_info": {
   "codemirror_mode": {
    "name": "ipython",
    "version": 3
   },
   "file_extension": ".py",
   "mimetype": "text/x-python",
   "name": "python",
   "nbconvert_exporter": "python",
   "pygments_lexer": "ipython3",
   "version": "3.9.13 | packaged by conda-forge | (main, May 27 2022, 17:00:52) \n[Clang 13.0.1 ]"
  },
  "orig_nbformat": 4
 },
 "nbformat": 4,
 "nbformat_minor": 2
}
