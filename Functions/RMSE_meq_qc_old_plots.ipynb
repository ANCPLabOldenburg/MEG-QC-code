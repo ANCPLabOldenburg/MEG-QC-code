{
 "cells": [
  {
   "cell_type": "code",
   "execution_count": 1,
   "metadata": {},
   "outputs": [
    {
     "name": "stdout",
     "output_type": "stream",
     "text": [
      "Opening raw data file ../data/sub_HT05ND16/210811/mikado-1.fif/...\n"
     ]
    },
    {
     "name": "stderr",
     "output_type": "stream",
     "text": [
      "/Users/jenya/Local Storage/Job Uni Rieger lab/MEG QC code/Functions/data_load_and_folders.py:8: RuntimeWarning: This filename (../data/sub_HT05ND16/210811/mikado-1.fif/) does not conform to MNE naming conventions. All raw files should end with raw.fif, raw_sss.fif, raw_tsss.fif, _meg.fif, _eeg.fif, _ieeg.fif, raw.fif.gz, raw_sss.fif.gz, raw_tsss.fif.gz, _meg.fif.gz, _eeg.fif.gz or _ieeg.fif.gz\n",
      "  raw = mne.io.read_raw_fif(raw_file)\n"
     ]
    },
    {
     "name": "stdout",
     "output_type": "stream",
     "text": [
      "    Read a total of 8 projection items:\n",
      "        magn8_iasoff_68deg.fif : PCA-v1 (1 x 306)  idle\n",
      "        magn8_iasoff_68deg.fif : PCA-v2 (1 x 306)  idle\n",
      "        magn8_iasoff_68deg.fif : PCA-v3 (1 x 306)  idle\n",
      "        magn8_iasoff_68deg.fif : PCA-v4 (1 x 306)  idle\n",
      "        magn8_iasoff_68deg.fif : PCA-v5 (1 x 306)  idle\n",
      "        magn8_iasoff_68deg.fif : PCA-v6 (1 x 306)  idle\n",
      "        magn8_iasoff_68deg.fif : PCA-v7 (1 x 306)  idle\n",
      "        magn8_iasoff_68deg.fif : PCA-v8 (1 x 306)  idle\n",
      "    Range : 1809000 ... 3375999 =   1809.000 ...  3375.999 secs\n",
      "Ready.\n",
      "Opening raw data file /Users/jenya/Local Storage/Job Uni Rieger lab/MEG QC code/Functions/../data/sub_HT05ND16/210811/mikado-2.fif...\n",
      "    Read a total of 8 projection items:\n",
      "        magn8_iasoff_68deg.fif : PCA-v1 (1 x 306)  idle\n",
      "        magn8_iasoff_68deg.fif : PCA-v2 (1 x 306)  idle\n",
      "        magn8_iasoff_68deg.fif : PCA-v3 (1 x 306)  idle\n",
      "        magn8_iasoff_68deg.fif : PCA-v4 (1 x 306)  idle\n",
      "        magn8_iasoff_68deg.fif : PCA-v5 (1 x 306)  idle\n",
      "        magn8_iasoff_68deg.fif : PCA-v6 (1 x 306)  idle\n",
      "        magn8_iasoff_68deg.fif : PCA-v7 (1 x 306)  idle\n",
      "        magn8_iasoff_68deg.fif : PCA-v8 (1 x 306)  idle\n",
      "    Range : 3376000 ... 4942999 =   3376.000 ...  4942.999 secs\n",
      "Ready.\n",
      "Opening raw data file /Users/jenya/Local Storage/Job Uni Rieger lab/MEG QC code/Functions/../data/sub_HT05ND16/210811/mikado-3.fif...\n",
      "    Read a total of 8 projection items:\n",
      "        magn8_iasoff_68deg.fif : PCA-v1 (1 x 306)  idle\n",
      "        magn8_iasoff_68deg.fif : PCA-v2 (1 x 306)  idle\n",
      "        magn8_iasoff_68deg.fif : PCA-v3 (1 x 306)  idle\n",
      "        magn8_iasoff_68deg.fif : PCA-v4 (1 x 306)  idle\n",
      "        magn8_iasoff_68deg.fif : PCA-v5 (1 x 306)  idle\n",
      "        magn8_iasoff_68deg.fif : PCA-v6 (1 x 306)  idle\n",
      "        magn8_iasoff_68deg.fif : PCA-v7 (1 x 306)  idle\n",
      "        magn8_iasoff_68deg.fif : PCA-v8 (1 x 306)  idle\n",
      "    Range : 4943000 ... 5198999 =   4943.000 ...  5198.999 secs\n",
      "Ready.\n",
      "['../derivatives', '../derivatives/sub-1', '../derivatives/sub-1/megqc', '../derivatives/sub-1/megqc/csv files', '../derivatives/sub-1/megqc/figures']\n",
      "Reading 0 ... 300000  =      0.000 ...   300.000 secs...\n",
      "Filtering raw data in 1 contiguous segment\n",
      "Setting up band-pass filter from 0.5 - 1e+02 Hz\n",
      "\n",
      "IIR filter parameters\n",
      "---------------------\n",
      "Butterworth bandpass zero-phase (two-pass forward and reverse) non-causal filter:\n",
      "- Filter order 16 (effective, after forward-backward)\n",
      "- Cutoffs at 0.50, 100.00 Hz: -6.02, -6.02 dB\n",
      "\n",
      "Trigger channel has a non-zero initial value of 18 (consider using initial_event=True to detect this event)\n",
      "301 events found\n",
      "Event IDs: [    9    19    21    23    27    31 16393 16402 16403 16405 16411 32741\n",
      " 32746 32749 32750 32759]\n"
     ]
    },
    {
     "name": "stderr",
     "output_type": "stream",
     "text": [
      "/Users/jenya/Local Storage/Job Uni Rieger lab/MEG QC code/Functions/data_load_and_folders.py:64: RuntimeWarning: Trigger channel contains negative values, using absolute value. If data were acquired on a Neuromag system with STI016 active, consider using uint_cast=True to work around an acquisition bug\n",
      "  raw_bandpass_resamp.resample(sfreq=h_freq*5)\n"
     ]
    },
    {
     "name": "stdout",
     "output_type": "stream",
     "text": [
      "Trigger channel has a non-zero initial value of 18 (consider using initial_event=True to detect this event)\n",
      "253 events found\n",
      "Event IDs: [    9    19    20    21    22    23    27    31 16393 16402 16403 16405\n",
      " 16411 32741 32746 32749 32750 32759]\n",
      "Trigger channel has a non-zero initial value of 18 (consider using initial_event=True to detect this event)\n",
      "8 events found\n",
      "Event IDs: [ 9 19 20 21 22]\n",
      "Not setting metadata\n",
      "Not setting metadata\n",
      "8 matching events found\n",
      "No baseline correction applied\n",
      "Created an SSP operator (subspace dimension = 8)\n",
      "8 projection items activated\n",
      "Loading data for 8 events and 1201 original time points ...\n",
      "0 bad epochs dropped\n",
      "Not setting metadata\n",
      "Not setting metadata\n",
      "8 matching events found\n",
      "No baseline correction applied\n",
      "8 projection items activated\n",
      "Loading data for 8 events and 1201 original time points ...\n",
      "0 bad epochs dropped\n"
     ]
    },
    {
     "name": "stderr",
     "output_type": "stream",
     "text": [
      "/Users/jenya/Local Storage/Job Uni Rieger lab/MEG QC code/Functions/data_load_and_folders.py:64: RuntimeWarning: Trigger channel contains negative values, using absolute value. If data were acquired on a Neuromag system with STI016 active, consider using uint_cast=True to work around an acquisition bug\n",
      "  raw_bandpass_resamp.resample(sfreq=h_freq*5)\n",
      "/Users/jenya/Local Storage/Job Uni Rieger lab/MEG QC code/Functions/data_load_and_folders.py:79: RuntimeWarning: Trigger channel contains negative values, using absolute value. If data were acquired on a Neuromag system with STI016 active, consider using uint_cast=True to work around an acquisition bug\n",
      "  events = mne.find_events(data, stim_channel=stim_channel, min_duration=event_dur)\n"
     ]
    }
   ],
   "source": [
    "#SINCE NOW ALL FILES ARE IN A SEPARATE FUNCTIONS FOLDER, ALL PATH WERE CHANGED SO THAT THEY GO 1 FOLDER UP.\n",
    "#example: '../derivatives/sub' instead of './derivatives/sub'\n",
    "\n",
    "\n",
    "#Load data, filter, make folders\n",
    "import numpy as np\n",
    "import matplotlib.pyplot as plt\n",
    "\n",
    "from main_meg_qc import initial_stuff\n",
    "\n",
    "n_events, df_epochs_mags, df_epochs_grads, epochs_mags, epochs_grads, mags, grads, filtered_d, filtered_d_resamp, raw_cropped, raw=initial_stuff(duration=5)"
   ]
  },
  {
   "cell_type": "code",
   "execution_count": 2,
   "metadata": {},
   "outputs": [],
   "source": [
    "#%% RMSE - general function to use in other functions\n",
    "#STD CALCULATION IS MUCH LESS COdE BUT TAKES LONGER THAN RMSE\n",
    "\n",
    "def RMSE(data_m_or_g):\n",
    "\n",
    "    data_m_or_g=np.array(data_m_or_g) #convert to numpy array if it s not\n",
    "    rmse_list=[]\n",
    "\n",
    "    data_minentions=len(data_m_or_g.shape)\n",
    "    if data_minentions==2: #if the data has raws and columns - iterate over raws. if input is 1 dimentional - juat calculate the whole thing.\n",
    "        for i, dat_raw in enumerate (data_m_or_g):\n",
    "            y_actual=dat_raw\n",
    "            y_pred=y_actual.mean()\n",
    "            rmse_data=np.sqrt(((y_pred - y_actual) ** 2).mean())\n",
    "            rmse_list.append(rmse_data)\n",
    "    elif data_minentions==1:\n",
    "        y_actual=data_m_or_g\n",
    "        y_pred=data_m_or_g.mean()\n",
    "        rmse_data=np.sqrt(((y_pred - y_actual) ** 2).mean())\n",
    "        rmse_list.append(rmse_data)\n",
    "    else:\n",
    "        print('Only 1 or 2 dimentional data is accepted, not more!')\n",
    "        return\n",
    "\n",
    "    rmse_nd=np.array(rmse_list) #conver to numpy array\n",
    "\n",
    "    return rmse_nd"
   ]
  },
  {
   "cell_type": "code",
   "execution_count": 3,
   "metadata": {},
   "outputs": [],
   "source": [
    "selected_mags = [item[1] for item in mags]\n",
    "selected_grads = [item[1] for item in grads]\n",
    "data_mags, times = filtered_d_resamp[selected_mags, :]  \n",
    "data_grads, times = filtered_d_resamp[selected_grads, :]  "
   ]
  },
  {
   "cell_type": "code",
   "execution_count": 4,
   "metadata": {},
   "outputs": [],
   "source": [
    "# Root mean squared error calculation (or STD - same result) over ALL data (not epoched):\n",
    "\n",
    "def RMSE_meg_all(data=None, mags=mags, grads=grads, std_lvl=1, plotflag=True, sid='1'): #, min_duration_event=1, epoch_tmin=-0.2, epoch_tmax=1):\n",
    "    #give path to directory and then it should auto find the data file when bids compliant.\n",
    "    ##maybe distinguish between negative and positive std_lvl\n",
    "\n",
    "    #plotflag - plot or no plot\n",
    "    #sid - subject Id. Has to be a string , like '1'\n",
    "    #mags, grads - channels like [name, index]\n",
    "  \n",
    "\n",
    "    # Separate data for mags and grads in 2 arrays.\n",
    "    selected_mags = [item[1] for item in mags]\n",
    "    selected_grads = [item[1] for item in grads]\n",
    "    data_mags, times = data[selected_mags, :]  \n",
    "    data_grads, times = data[selected_grads, :]  \n",
    "\n",
    "    # %% Calculate STD or RMSE of each channel\n",
    "\n",
    "    #Calculate RMSE for each channel (separated mags and grads) - for the entire time duration:\n",
    "    std_mags = RMSE(data_mags)\n",
    "    std_grads = RMSE(data_grads)\n",
    "\n",
    "    #STD (if wanna use insted of RMSE. it will exactly replace the RMSE function above):\n",
    "    #std_mags=np.std(data_mags, axis=1) #calculate std of all magnetometers (along second dimantion)\n",
    "    #std_grads=np.std(data_grads, axis=1) #calculate std of all gradiometers (along second dimantion)\n",
    "\n",
    "\n",
    "    # Check if channel data is within 1 std over all channels.\n",
    "    # COMMENT: can use -3 to 3 (or other number) std istead of -1/+1 std, but this can adjusted later. \n",
    "    # 1 std is too narrow, gives way too many bad channels.\n",
    "\n",
    "    std_std_mags=np.std(std_mags)\n",
    "    std_std_grads=np.std(std_grads)\n",
    "\n",
    "    mean_std_mags=np.mean(std_mags)\n",
    "    mean_std_grads=np.mean(std_grads)\n",
    "\n",
    "    ch_ind_large_std_mags= np.where(std_mags > mean_std_mags+std_lvl*std_std_mags) #find magn channels with largest std\n",
    "    ch_ind_large_std_grads= np.where(std_grads > mean_std_grads+std_lvl*std_std_grads) \n",
    "    ch_ind_small_std_mags= np.where(std_mags < mean_std_mags-std_lvl*std_std_mags) #find magn channels with smallest std\n",
    "    ch_ind_small_std_grads= np.where(std_grads < mean_std_grads-std_lvl*std_std_grads)\n",
    "\n",
    "    magn_channel_big_std=np.array(mags)[ch_ind_large_std_mags] #find the name of the magn with largest std \n",
    "    grad_channel_big_std=np.array(grads)[ch_ind_large_std_grads]\n",
    "    magn_channel_small_std=np.array(mags)[ch_ind_small_std_mags]\n",
    "    grad_channel_small_std=np.array(grads)[ch_ind_small_std_grads]\n",
    "\n",
    "\n",
    "    #This function simply makes a list of tuples. Each tuple is: name of channel, std value.\n",
    "    #Each tuple represents channel with too big or too small std, calculated over whole data.\n",
    "\n",
    "    def Channels_with_nonnormal_stds(ch_ind, all_stds_m_or_g, channels_big_std_names):\n",
    "        channel_big_std_vals=all_stds_m_or_g[ch_ind]\n",
    "        nonnormal_std_with_value=[]\n",
    "        for id, val in enumerate (ch_ind[0]):\n",
    "            new_tuple=(channels_big_std_names[id][0],  channel_big_std_vals[id])\n",
    "            nonnormal_std_with_value.append(new_tuple)\n",
    "        return(nonnormal_std_with_value)\n",
    "\n",
    "    #Apply function above:\n",
    "    m_big_std_with_value=Channels_with_nonnormal_stds(ch_ind_large_std_mags, std_mags, magn_channel_big_std)\n",
    "    g_big_std_with_value=Channels_with_nonnormal_stds(ch_ind_large_std_grads, std_grads, grad_channel_big_std)\n",
    "    m_small_std_with_value=Channels_with_nonnormal_stds(ch_ind_small_std_mags, std_mags, magn_channel_small_std)\n",
    "    g_small_std_with_value=Channels_with_nonnormal_stds(ch_ind_small_std_grads, std_grads, grad_channel_small_std)\n",
    "\n",
    "\n",
    "    #OLd STD figure:\n",
    "    if plotflag==True:\n",
    "        \n",
    "        from matplotlib import pyplot as plt\n",
    "\n",
    "        fig, (ax1, ax2) = plt.subplots(2)\n",
    "        fig.suptitle('STDs')\n",
    "        ax1.plot(list(range(1, len(std_mags)+1)), std_mags, marker='o', linestyle = 'None')\n",
    "        ax1.plot(list(range(1, len(std_mags)+1)), [mean_std_mags]*len(std_mags))\n",
    "        ax1.plot(list(range(1, len(std_mags)+1)), [mean_std_mags-std_lvl*std_std_mags]*len(std_mags))\n",
    "        ax1.plot(list(range(1, len(std_mags)+1)), [mean_std_mags+std_lvl*std_std_mags]*len(std_mags))\n",
    "        ax1.set(xlabel='Magnetometer', ylabel='STD')\n",
    "\n",
    "        ax2.plot(list(range(1, len(std_grads)+1)), std_grads, marker='o', linestyle = 'None')\n",
    "        ax2.plot(list(range(1, len(std_grads)+1)), [mean_std_grads]*len(std_grads))\n",
    "        ax2.plot(list(range(1, len(std_grads)+1)), [mean_std_grads-std_lvl*std_std_grads]*len(std_grads))\n",
    "        ax2.plot(list(range(1, len(std_grads)+1)), [mean_std_grads+std_lvl*std_std_grads]*len(std_grads))\n",
    "        ax2.set(xlabel='Gradiometer', ylabel='STD')\n",
    "\n",
    "        plt.savefig('../derivatives/sub-'+sid+'/megqc/figures/RMSE_all_channels.png')\n",
    "\n",
    "        \n",
    "    #Return the channel names with STD over the set STD level and under the set negative STD level.\n",
    "    return(m_big_std_with_value, g_big_std_with_value, m_small_std_with_value, g_small_std_with_value, std_mags, std_grads)\n",
    "\n",
    "\n",
    "    #CAN ADD OPTIONAL PLOTTING OF SOME CHANNELS WITH HIGH/LOW STD. DO WE NEED THAT?\n",
    "    #WHAT DO WE WANT TO GIVE AS OUTPUT HERE? NEED PLOTS, NEED LIST OF CHANNELS?"
   ]
  },
  {
   "cell_type": "code",
   "execution_count": 5,
   "metadata": {},
   "outputs": [
    {
     "name": "stdout",
     "output_type": "stream",
     "text": [
      "Magnetometers with high std:\n"
     ]
    },
    {
     "data": {
      "text/plain": [
       "[('MEG0621', 4.965338372879145e-13),\n",
       " ('MEG1021', 4.852992071039414e-13),\n",
       " ('MEG1031', 5.004345361972638e-13),\n",
       " ('MEG1041', 4.939759752048587e-13),\n",
       " ('MEG1421', 5.678604995893133e-13),\n",
       " ('MEG1431', 5.476084157649638e-13),\n",
       " ('MEG1741', 5.282172136198286e-13),\n",
       " ('MEG2121', 5.018134686600477e-13),\n",
       " ('MEG2131', 5.860882537731944e-13),\n",
       " ('MEG2141', 5.460444751629966e-13),\n",
       " ('MEG2331', 5.002680469283238e-13),\n",
       " ('MEG2531', 5.683082618711569e-13),\n",
       " ('MEG2541', 5.925124304516582e-13),\n",
       " ('MEG2621', 5.364787072987134e-13),\n",
       " ('MEG2631', 5.466366791474147e-13)]"
      ]
     },
     "execution_count": 5,
     "metadata": {},
     "output_type": "execute_result"
    },
    {
     "data": {
      "image/png": "[encoded data removed]",
      "text/plain": [
       "<Figure size 432x288 with 2 Axes>"
      ]
     },
     "metadata": {
      "needs_background": "light"
     },
     "output_type": "display_data"
    }
   ],
   "source": [
    "#Try: USING RESAMPLED DATA HERE\n",
    "\n",
    "m_big_std_with_value, g_big_std_with_value, m_small_std_with_value, g_small_std_with_value, rmse_mags, rmse_grads=RMSE_meg_all(data=filtered_d_resamp, \n",
    "    mags=mags, grads=grads, std_lvl=1, plotflag=True, sid='1')\n",
    "\n",
    "print('Magnetometers with high std:')\n",
    "m_big_std_with_value"
   ]
  },
  {
   "cell_type": "code",
   "execution_count": 6,
   "metadata": {},
   "outputs": [],
   "source": [
    "def add_hovering_on_scatter(Plot, Axis, sc_boxes, dots_names):\n",
    "    \n",
    "    #Set   generic annotation:\n",
    "    annot = Axis.annotate(\"\", xy=(0,0), xytext=(5,20),textcoords=\"offset points\",\n",
    "                        bbox=dict(boxstyle=\"round\", fc=\"w\"),\n",
    "                        arrowprops=dict(arrowstyle=\"->\"))\n",
    "    #xytext - how far from the dot the text is, bbox - box with name inside, arrowprops - to draw arrow\n",
    "\n",
    "    annot.set_visible(False) #hide annotations first\n",
    "\n",
    "    def update_annot(sc_box, ind):\n",
    "\n",
    "        pos = sc_box.get_offsets()[ind[\"ind\"][0]]\n",
    "        annot.xy = pos #resets the xy values from annot above\n",
    "\n",
    "        #text = \"{}, {}\".format(\" \".join(list(map(str,ind[\"ind\"]))), \n",
    "        #                       \" \".join([ch_only_name_mag[n] for n in ind[\"ind\"]]))\n",
    "        #shows both index and name of channel\n",
    "\n",
    "        text = \"{}\".format(\" \".join([dots_names[n] for n in ind[\"ind\"]]))\n",
    "        annot.set_text(text) #resets the text from annot above\n",
    "        \n",
    "\n",
    "    def hover(event):\n",
    "        vis = annot.get_visible()\n",
    "        if event.inaxes == Axis:\n",
    "            for sc_box in sc_boxes: #loop over each separat boxplot with scatter dots in it\n",
    "                cont, ind = sc_box.contains(event)\n",
    "                if cont: #if hovering takes place - set annotation to visible\n",
    "                    update_annot(sc_box, ind)\n",
    "                    annot.set_visible(True)  \n",
    "                    Plot.canvas.draw_idle()\n",
    "                else:\n",
    "                    if vis:\n",
    "                        annot.set_visible(False)\n",
    "                        Plot.canvas.draw_idle()\n",
    "\n",
    "    Plot.canvas.mpl_connect(\"motion_notify_event\", hover)"
   ]
  },
  {
   "cell_type": "code",
   "execution_count": 7,
   "metadata": {},
   "outputs": [],
   "source": [
    "def boxplot_std_hovering(std_data=rmse_mags, tit=None, channel_names=None, sid='1'):\n",
    "\n",
    "    #Boxplot with hovering annotations: https://stackoverflow.com/questions/7908636/how-to-add-hovering-annotations-in-matplotlib\n",
    "        \n",
    "    from matplotlib import pyplot as plt\n",
    "\n",
    "    #Boxplot:\n",
    "    fig, ax = plt.subplots()\n",
    "\n",
    "    #import seaborn as sns\n",
    "    #bp=sns.boxplot(data=std_data, orient='h') # DONT USE SEABORN, COS IT DOWSNT WANNA HOVER-ANNOTATE IT, ONLY PYPLOTLIB WORKS FINE\n",
    "\n",
    "    bp=plt.boxplot(std_data, vert=False)\n",
    "    sc = plt.scatter(std_data, np.ones(len(std_data)), color=\".25\") \n",
    "\n",
    "    plt.xlabel(\"Standard deviation\")\n",
    "\n",
    "    #Add hovering:\n",
    "    ch_name=[m[0] for m in channel_names] #names of channels for annotating the plot\n",
    "    sc_as_list=[sc]\n",
    "    add_hovering_on_scatter(fig, ax, sc_as_list, ch_name)\n",
    "\n",
    "    ax.set_title(tit)\n",
    "\n",
    "    #Saving interactive figure:\n",
    "    import pickle\n",
    "    fig_name='Stds_all_data_'+tit+'.fig.pickle'\n",
    "    fig_path='../derivatives/sub-'+sid+'/megqc/figures/'+fig_name\n",
    "    f_handle=open(fig_path, 'wb') # This is for Python 3 - py2 may need `file` instead of `open`, 'wb' means 'write binary' \n",
    "    pickle.dump(fig,f_handle) #save\n",
    "    f_handle.close() #close the binary file\n",
    "    \n",
    "    #plt.close('all') #close the figures\n",
    "\n",
    "    return(fig_path)"
   ]
  },
  {
   "cell_type": "code",
   "execution_count": 8,
   "metadata": {},
   "outputs": [
    {
     "name": "stderr",
     "output_type": "stream",
     "text": [
      "qt.qpa.drawing: Layer-backing can not be explicitly controlled on 10.14 when built against the 10.14 SDK\n"
     ]
    }
   ],
   "source": [
    "%matplotlib qt\n",
    "\n",
    "tit='Magnetometers'\n",
    "fig_path_mags=boxplot_std_hovering(std_data=rmse_mags, tit=tit, channel_names=mags, sid='1')"
   ]
  },
  {
   "cell_type": "code",
   "execution_count": 9,
   "metadata": {},
   "outputs": [],
   "source": [
    "#Reopen saved interactive figure:\n",
    "import pickle\n",
    "\n",
    "figx = pickle.load(open(fig_path_mags, 'rb'))\n",
    "figx.show() # Show the figure, edit it, etc.!\n",
    "\n",
    "#%matplotlib inline\n",
    "#DOESNT DO THE HOVERING, HM..."
   ]
  },
  {
   "cell_type": "code",
   "execution_count": 10,
   "metadata": {},
   "outputs": [
    {
     "data": {
      "text/plain": [
       "'../derivatives/sub-1/megqc/figures/Stds_all_data_Gradiometers.fig.pickle'"
      ]
     },
     "execution_count": 10,
     "metadata": {},
     "output_type": "execute_result"
    }
   ],
   "source": [
    "boxplot_std_hovering(std_data=rmse_grads, tit='Gradiometers', channel_names=grads)"
   ]
  },
  {
   "cell_type": "code",
   "execution_count": 11,
   "metadata": {},
   "outputs": [],
   "source": [
    "#Create a function which will loop over mags or grads (separate epochs) and calculate std (used in RMSE_meg_epoch):\n",
    "def std_mg(mg_names, df_mg, epoch_numbers):\n",
    "\n",
    "    import pandas as pd\n",
    "    \n",
    "    dict_mg = {}\n",
    "\n",
    "    for ep in epoch_numbers: #loop over each epoch\n",
    "        rows_for_ep = [row for row in df_mg.iloc if row.epoch == ep] #take all rows of 1 epoch, all channels.\n",
    "        #std_epoch = [] #list with stds\n",
    "        rmse_epoch=[]\n",
    "\n",
    "        for ch_name in mg_names: #loop over channel names\n",
    "            data_ch_epoch = [row_mg[ch_name] for row_mg in rows_for_ep] #take the data for 1 epoch for 1 channel\n",
    "            rmse_ch_ep = RMSE(data_ch_epoch)\n",
    "            rmse_ch_ep=np.float64(rmse_ch_ep) #convert from ndarray to float\n",
    "            rmse_epoch.append(rmse_ch_ep)\n",
    "\n",
    "            #std_ch_ep = np.std(data_ch_epoch) #if want to use std instead\n",
    "            \n",
    "\n",
    "        dict_mg[ep] = rmse_epoch\n",
    "\n",
    "    df_std_mg = pd.DataFrame(dict_mg, index=mg_names)\n",
    "\n",
    "    return(df_std_mg)"
   ]
  },
  {
   "cell_type": "code",
   "execution_count": 12,
   "metadata": {},
   "outputs": [],
   "source": [
    "# STD over epochs: use 2 separate data frames for mags and grads in calculations:\n",
    "\n",
    "def RMSE_meg_epoch(mags=mags, grads=grads, std_lvl=1, n_events=n_events, df_epochs_mags=df_epochs_mags, df_epochs_grads=df_epochs_grads, sid='1'):\n",
    "\n",
    "#def RMSE_meg_epoch(data=None, std_lvl=1, stim_channel='STI101',  min_duration_event=1.2, epoch_tmin=-0.2, epoch_tmax=1):\n",
    "    #stim_channel name is users input. but we can also let mne find it itself if 'None' is set? mne seems to have such function.\n",
    "\n",
    "    # 1) Loop over the epochs of each channel and check for every separate magn and grad and calculate std\n",
    "    \n",
    "    eps=list(range(0,n_events)) #list of epoch numbers\n",
    "   \n",
    "    mags_names = [mag[0] for mag in mags]\n",
    "    grads_names = [grad[0] for grad in grads]\n",
    "\n",
    "\n",
    "    #Apply function from above for mags and grads:\n",
    "    df_std_mags=std_mg(epoch_numbers=eps, df_mg=df_epochs_mags, mg_names=mags_names)\n",
    "    df_std_grads=std_mg(epoch_numbers=eps, df_mg=df_epochs_grads, mg_names=grads_names)\n",
    "\n",
    "    # 2) Check (which epochs for which channel) are over 1STD (or 2, 3, ets STDs) for (this epoch for all channels)\n",
    "\n",
    "    #Find what is 1 std over all channels per 1 epoch:\n",
    "    std_std_mags_per_epoch=[]\n",
    "    std_std_grads_per_epoch=[]\n",
    "    mean_std_mags_per_epoch=[]\n",
    "    mean_std_grads_per_epoch=[]\n",
    "\n",
    "    for ep in eps: #goes over each epoch\n",
    "        std_std_mags_per_epoch.append(np.std(df_std_mags.iloc[:, ep])) #std of stds of all channels of every single epoch\n",
    "        std_std_grads_per_epoch.append(np.std(df_std_grads.iloc[:, ep]))\n",
    "\n",
    "        mean_std_mags_per_epoch.append(np.mean(df_std_mags.iloc[:, ep])) #mean of stds of all channels of every single epoch\n",
    "        mean_std_grads_per_epoch.append(np.mean(df_std_grads.iloc[:, ep]))\n",
    "\n",
    "\n",
    "    df_ch_ep_large_std_mags=df_std_mags.copy()\n",
    "    df_ch_ep_large_std_grads=df_std_grads.copy()\n",
    "\n",
    "    df_ch_ep_small_std_mags=df_std_mags.copy()\n",
    "    df_ch_ep_small_std_grads=df_std_grads.copy()\n",
    "\n",
    "    #Now see which channles in epoch are over 1 std or under -1 std:\n",
    "    for ep in eps: #goes over each epoch   \n",
    "        df_ch_ep_large_std_mags.iloc[:,ep] = df_ch_ep_large_std_mags.iloc[:,ep] > mean_std_mags_per_epoch[ep]+std_lvl*std_std_mags_per_epoch[ep] #magnetometers\n",
    "        df_ch_ep_large_std_grads.iloc[:,ep] = df_ch_ep_large_std_grads.iloc[:,ep] > mean_std_grads_per_epoch[ep]+std_lvl*std_std_grads_per_epoch[ep] #gradiometers\n",
    "\n",
    "        df_ch_ep_small_std_mags.iloc[:,ep] = df_ch_ep_small_std_mags.iloc[:,ep] < mean_std_mags_per_epoch[ep]-std_lvl*std_std_mags_per_epoch[ep] #magnetometers\n",
    "        df_ch_ep_small_std_grads.iloc[:,ep] = df_ch_ep_small_std_grads.iloc[:,ep] < mean_std_grads_per_epoch[ep]-std_lvl*std_std_grads_per_epoch[ep] #gradiometers\n",
    "\n",
    "\n",
    "    # Create csv files  for the user:\n",
    "\n",
    "    df_std_mags.to_csv('../derivatives/sub-'+sid+'/megqc/csv files/std_mags_per_epoch.csv')\n",
    "    \n",
    "    df_std_grads.to_csv('../derivatives/sub-'+sid+'/megqc/csv files/std_grads_per_epoch.csv')\n",
    "\n",
    "    df_ch_ep_large_std_mags.to_csv('../derivatives/sub-'+sid+'/megqc/csv files/Large_std_mags_per_epoch.csv')\n",
    "\n",
    "    df_ch_ep_large_std_grads.to_csv('../derivatives/sub-'+sid+'/megqc/csv files/Large_std_grads_per_epoch.csv')\n",
    "\n",
    "    df_ch_ep_small_std_mags.to_csv('../derivatives/sub-'+sid+'/megqc/csv files/Small_std_mags_per_epoch.csv')\n",
    "\n",
    "    df_ch_ep_small_std_grads.to_csv('../derivatives/sub-'+sid+'/megqc/csv files/Small_std_grads_per_epoch.csv')\n",
    "\n",
    "    return(df_std_mags, df_std_grads)"
   ]
  },
  {
   "cell_type": "code",
   "execution_count": 13,
   "metadata": {},
   "outputs": [],
   "source": [
    "#try (will output csv files):\n",
    "# USING NON RESAMPLED DATA\n",
    "\n",
    "df_std_mags, df_std_grads=RMSE_meg_epoch(mags=mags, grads=grads, std_lvl=1, sid='1') "
   ]
  },
  {
   "cell_type": "code",
   "execution_count": 144,
   "metadata": {},
   "outputs": [],
   "source": [
    "def boxplot_std_channel_epoch_hovering_plotly(df_mg, tit, sid):\n",
    "\n",
    "  #Using plotly!\n",
    "\n",
    "  import plotly.graph_objects as go\n",
    "\n",
    "  #transpose the data to plot the boxplots on x axes\n",
    "  df_mg_transposed = df_mg.T \n",
    "\n",
    "  #collect all names of original df into a list to use as tick labels:\n",
    "  ch_names=list(df_mg_transposed) \n",
    "\n",
    "  fig = go.Figure()\n",
    "\n",
    "  for col in df_mg_transposed:\n",
    "    fig.add_trace(go.Box(y=df_mg_transposed[col].values, \n",
    "      name=df_mg_transposed[col].name, \n",
    "      opacity=0.7, \n",
    "      boxpoints=\"all\", \n",
    "      pointpos=0,\n",
    "      marker_size=3,\n",
    "      line_width=1,\n",
    "      text=df_mg_transposed[col].index))\n",
    "    fig.update_traces(hovertemplate='Epoch: %{text}'+'<br>STD: %{y: .0f}')\n",
    "      \n",
    "\n",
    "  fig.update_layout(\n",
    "      xaxis = dict(\n",
    "          tickmode = 'array',\n",
    "          tickvals = [v for v in range(0, len(ch_names))],\n",
    "          ticktext = ch_names,\n",
    "          rangeslider=dict(visible=True)\n",
    "      ),\n",
    "      yaxis = dict(\n",
    "        showexponent = 'all',\n",
    "        exponentformat = 'e'),\n",
    "      title={\n",
    "        'text': \"STDs over epochs for \"+tit,\n",
    "        'y':0.85,\n",
    "        'x':0.5,\n",
    "        'xanchor': 'center',\n",
    "        'yanchor': 'top'})\n",
    "    \n",
    "  fig.show()\n",
    "\n",
    "  fig_name='Stds_epochs_per_channel_'+tit+'.html'\n",
    "  fig_path='../derivatives/sub-'+sid+'/megqc/figures/'+fig_name\n",
    "  fig.write_html(fig_path)\n",
    "\n",
    "  return(fig)\n",
    "\n",
    "  #figure out weird y axis, hovering is too long, simple slider"
   ]
  },
  {
   "cell_type": "code",
   "execution_count": 145,
   "metadata": {},
   "outputs": [
    {
     "data": {
      "application/vnd.plotly.v1+json": {
       "config": {
        "plotlyServerURL": "https://plot.ly"
       },
       "data": [
        {
         "boxpoints": "all",
         "hovertemplate": "Epoch: %{text}<br>STD: %{y: .0f}",
         "line": {
          "width": 1
         },
         "marker": {
          "size": 3
         },
         "name": "MEG0111",
         "opacity": 0.7,
         "pointpos": 0,
         "text": [
          0,
          1,
          2,
          3,
          4,
          5,
          6,
          7
         ],
         "type": "box",
         "y": [
          1.32528280845869e-13,
          1.1630836870227407e-13,
          1.271143729912133e-13,
          1.5765947270757759e-13,
          1.6460744851676256e-13,
          1.4261713574224245e-13,
          1.2113399057446468e-13,
          1.4804860614390638e-13
         ]
        },
        {
         "boxpoints": "all",
         "hovertemplate": "Epoch: %{text}<br>STD: %{y: .0f}",
         "line": {
          "width": 1
         },
         "marker": {
          "size": 3
         },
         "name": "MEG0121",
         "opacity": 0.7,
         "pointpos": 0,
         "text": [
          0,
          1,
          2,
          3,
          4,
          5,
          6,
          7
         ],
         "type": "box",
         "y": [
          8.536337345494982e-14,
          9.04308576697243e-14,
          7.562593942697918e-14,
          1.4511991037242926e-13,
          8.870209937816291e-14,
          7.407725693798504e-14,
          8.786774525307712e-14,
          1.0667152545471412e-13
         ]
        },
        {
         "boxpoints": "all",
         "hovertemplate": "Epoch: %{text}<br>STD: %{y: .0f}",
         "line": {
          "width": 1
         },
         "marker": {
          "size": 3
         },
         "name": "MEG0131",
         "opacity": 0.7,
         "pointpos": 0,
         "text": [
          0,
          1,
          2,
          3,
          4,
          5,
          6,
          7
         ],
         "type": "box",
         "y": [
          7.684145950571286e-14,
          7.206944438785856e-14,
          7.998339010023375e-14,
          9.714822977449819e-14,
          9.026858097766963e-14,
          6.608875436372557e-14,
          9.047839293861901e-14,
          9.298711456760903e-14
         ]
        },
        {
         "boxpoints": "all",
         "hovertemplate": "Epoch: %{text}<br>STD: %{y: .0f}",
         "line": {
          "width": 1
         },
         "marker": {
          "size": 3
         },
         "name": "MEG0141",
         "opacity": 0.7,
         "pointpos": 0,
         "text": [
          0,
          1,
          2,
          3,
          4,
          5,
          6,
          7
         ],
         "type": "box",
         "y": [
          1.2027380526312693e-13,
          1.1659615292321706e-13,
          1.1463351645058504e-13,
          1.5933363387057302e-13,
          1.2557848327967177e-13,
          1.316861972345636e-13,
          1.2141428178508244e-13,
          1.4171733341894903e-13
         ]
        },
        {
         "boxpoints": "all",
         "hovertemplate": "Epoch: %{text}<br>STD: %{y: .0f}",
         "line": {
          "width": 1
         },
         "marker": {
          "size": 3
         },
         "name": "MEG0211",
         "opacity": 0.7,
         "pointpos": 0,
         "text": [
          0,
          1,
          2,
          3,
          4,
          5,
          6,
          7
         ],
         "type": "box",
         "y": [
          1.0678165118560899e-13,
          9.905669776049465e-14,
          1.1296894148970592e-13,
          9.712960470697888e-14,
          1.0153318450768074e-13,
          1.1467087712624482e-13,
          1.087693517254949e-13,
          1.5854551265143065e-13
         ]
        },
        {
         "boxpoints": "all",
         "hovertemplate": "Epoch: %{text}<br>STD: %{y: .0f}",
         "line": {
          "width": 1
         },
         "marker": {
          "size": 3
         },
         "name": "MEG0221",
         "opacity": 0.7,
         "pointpos": 0,
         "text": [
          0,
          1,
          2,
          3,
          4,
          5,
          6,
          7
         ],
         "type": "box",
         "y": [
          8.878269870024395e-14,
          8.583636314949841e-14,
          8.980550546474317e-14,
          7.982587037246769e-14,
          8.371668335222908e-14,
          1.0360406000887312e-13,
          8.63503119561481e-14,
          9.88307421906516e-14
         ]
        },
        {
         "boxpoints": "all",
         "hovertemplate": "Epoch: %{text}<br>STD: %{y: .0f}",
         "line": {
          "width": 1
         },
         "marker": {
          "size": 3
         },
         "name": "MEG0231",
         "opacity": 0.7,
         "pointpos": 0,
         "text": [
          0,
          1,
          2,
          3,
          4,
          5,
          6,
          7
         ],
         "type": "box",
         "y": [
          1.126011150532829e-13,
          9.422330022718308e-14,
          1.0036710895776835e-13,
          9.406321373593932e-14,
          1.0609891554515957e-13,
          1.0268939637172957e-13,
          1.1181973663184111e-13,
          1.3300446421905957e-13
         ]
        },
        {
         "boxpoints": "all",
         "hovertemplate": "Epoch: %{text}<br>STD: %{y: .0f}",
         "line": {
          "width": 1
         },
         "marker": {
          "size": 3
         },
         "name": "MEG0241",
         "opacity": 0.7,
         "pointpos": 0,
         "text": [
          0,
          1,
          2,
          3,
          4,
          5,
          6,
          7
         ],
         "type": "box",
         "y": [
          1.5001397064394195e-13,
          9.996268464604931e-14,
          1.1096310719592711e-13,
          1.2259875548331544e-13,
          1.3070623812163628e-13,
          1.280036918323418e-13,
          1.339498284856992e-13,
          2.0179555215086991e-13
         ]
        },
        {
         "boxpoints": "all",
         "hovertemplate": "Epoch: %{text}<br>STD: %{y: .0f}",
         "line": {
          "width": 1
         },
         "marker": {
          "size": 3
         },
         "name": "MEG0311",
         "opacity": 0.7,
         "pointpos": 0,
         "text": [
          0,
          1,
          2,
          3,
          4,
          5,
          6,
          7
         ],
         "type": "box",
         "y": [
          1.1159100683394759e-13,
          8.863800377917306e-14,
          1.141384751632673e-13,
          1.1264852488060526e-13,
          1.215948964465385e-13,
          1.2556828357550695e-13,
          9.54209337561959e-14,
          1.2323552237159006e-13
         ]
        },
        {
         "boxpoints": "all",
         "hovertemplate": "Epoch: %{text}<br>STD: %{y: .0f}",
         "line": {
          "width": 1
         },
         "marker": {
          "size": 3
         },
         "name": "MEG0321",
         "opacity": 0.7,
         "pointpos": 0,
         "text": [
          0,
          1,
          2,
          3,
          4,
          5,
          6,
          7
         ],
         "type": "box",
         "y": [
          8.183729196615636e-14,
          7.651738800071816e-14,
          8.6046991315331e-14,
          8.830505378576113e-14,
          8.095773868188226e-14,
          1.053931769668237e-13,
          8.729807455946506e-14,
          8.595308542955487e-14
         ]
        },
        {
         "boxpoints": "all",
         "hovertemplate": "Epoch: %{text}<br>STD: %{y: .0f}",
         "line": {
          "width": 1
         },
         "marker": {
          "size": 3
         },
         "name": "MEG0331",
         "opacity": 0.7,
         "pointpos": 0,
         "text": [
          0,
          1,
          2,
          3,
          4,
          5,
          6,
          7
         ],
         "type": "box",
         "y": [
          6.688048453433856e-14,
          6.300501963893282e-14,
          6.002718781333525e-14,
          7.491451572734227e-14,
          6.496245418840289e-14,
          8.132958649526336e-14,
          7.261965036141445e-14,
          9.319003732861832e-14
         ]
        },
        {
         "boxpoints": "all",
         "hovertemplate": "Epoch: %{text}<br>STD: %{y: .0f}",
         "line": {
          "width": 1
         },
         "marker": {
          "size": 3
         },
         "name": "MEG0341",
         "opacity": 0.7,
         "pointpos": 0,
         "text": [
          0,
          1,
          2,
          3,
          4,
          5,
          6,
          7
         ],
         "type": "box",
         "y": [
          8.301063192391248e-14,
          7.770189546199207e-14,
          9.759088000393463e-14,
          9.450637166596396e-14,
          7.500728926637331e-14,
          1.060004880135743e-13,
          9.260558215659434e-14,
          9.672272034831157e-14
         ]
        },
        {
         "boxpoints": "all",
         "hovertemplate": "Epoch: %{text}<br>STD: %{y: .0f}",
         "line": {
          "width": 1
         },
         "marker": {
          "size": 3
         },
         "name": "MEG0411",
         "opacity": 0.7,
         "pointpos": 0,
         "text": [
          0,
          1,
          2,
          3,
          4,
          5,
          6,
          7
         ],
         "type": "box",
         "y": [
          8.193084227547452e-14,
          8.327280757481966e-14,
          7.451236734605403e-14,
          8.005085142790062e-14,
          6.957361511234816e-14,
          9.523297865347813e-14,
          7.96434613178212e-14,
          8.538913294707815e-14
         ]
        },
        {
         "boxpoints": "all",
         "hovertemplate": "Epoch: %{text}<br>STD: %{y: .0f}",
         "line": {
          "width": 1
         },
         "marker": {
          "size": 3
         },
         "name": "MEG0421",
         "opacity": 0.7,
         "pointpos": 0,
         "text": [
          0,
          1,
          2,
          3,
          4,
          5,
          6,
          7
         ],
         "type": "box",
         "y": [
          5.681428064265987e-14,
          4.898972172835625e-14,
          5.056382870325123e-14,
          6.777840470298889e-14,
          4.785336584374184e-14,
          6.49346912433127e-14,
          6.060551077126466e-14,
          6.977003411123842e-14
         ]
        },
        {
         "boxpoints": "all",
         "hovertemplate": "Epoch: %{text}<br>STD: %{y: .0f}",
         "line": {
          "width": 1
         },
         "marker": {
          "size": 3
         },
         "name": "MEG0431",
         "opacity": 0.7,
         "pointpos": 0,
         "text": [
          0,
          1,
          2,
          3,
          4,
          5,
          6,
          7
         ],
         "type": "box",
         "y": [
          7.28597547800466e-14,
          5.475334179911457e-14,
          5.781634682202844e-14,
          6.325962627124777e-14,
          5.487391607641802e-14,
          6.805897693927217e-14,
          6.782652318835468e-14,
          8.496869742604878e-14
         ]
        },
        {
         "boxpoints": "all",
         "hovertemplate": "Epoch: %{text}<br>STD: %{y: .0f}",
         "line": {
          "width": 1
         },
         "marker": {
          "size": 3
         },
         "name": "MEG0441",
         "opacity": 0.7,
         "pointpos": 0,
         "text": [
          0,
          1,
          2,
          3,
          4,
          5,
          6,
          7
         ],
         "type": "box",
         "y": [
          7.331515232661168e-14,
          8.558426742997171e-14,
          7.140238096565009e-14,
          7.277372502106879e-14,
          7.769317000878739e-14,
          7.54892482403884e-14,
          7.051266480902107e-14,
          8.895249262594469e-14
         ]
        },
        {
         "boxpoints": "all",
         "hovertemplate": "Epoch: %{text}<br>STD: %{y: .0f}",
         "line": {
          "width": 1
         },
         "marker": {
          "size": 3
         },
         "name": "MEG0511",
         "opacity": 0.7,
         "pointpos": 0,
         "text": [
          0,
          1,
          2,
          3,
          4,
          5,
          6,
          7
         ],
         "type": "box",
         "y": [
          1.3727821336456833e-13,
          1.1955224783317604e-13,
          1.8758209908200274e-13,
          1.6970375767400243e-13,
          1.6087555534035702e-13,
          1.6313833784660387e-13,
          1.4438867873759406e-13,
          1.8438113075784075e-13
         ]
        },
        {
         "boxpoints": "all",
         "hovertemplate": "Epoch: %{text}<br>STD: %{y: .0f}",
         "line": {
          "width": 1
         },
         "marker": {
          "size": 3
         },
         "name": "MEG0521",
         "opacity": 0.7,
         "pointpos": 0,
         "text": [
          0,
          1,
          2,
          3,
          4,
          5,
          6,
          7
         ],
         "type": "box",
         "y": [
          1.458053378924497e-13,
          1.1787191213418397e-13,
          2.0080670940914382e-13,
          1.8583879769720244e-13,
          1.656322399297395e-13,
          1.7275949933538974e-13,
          1.4555514254552558e-13,
          1.8759413514429281e-13
         ]
        },
        {
         "boxpoints": "all",
         "hovertemplate": "Epoch: %{text}<br>STD: %{y: .0f}",
         "line": {
          "width": 1
         },
         "marker": {
          "size": 3
         },
         "name": "MEG0531",
         "opacity": 0.7,
         "pointpos": 0,
         "text": [
          0,
          1,
          2,
          3,
          4,
          5,
          6,
          7
         ],
         "type": "box",
         "y": [
          7.928668668310803e-14,
          6.970764350340987e-14,
          9.64754094270363e-14,
          8.784525755659022e-14,
          9.018448727657523e-14,
          7.072964189432744e-14,
          6.475511840770326e-14,
          8.676392977563255e-14
         ]
        },
        {
         "boxpoints": "all",
         "hovertemplate": "Epoch: %{text}<br>STD: %{y: .0f}",
         "line": {
          "width": 1
         },
         "marker": {
          "size": 3
         },
         "name": "MEG0541",
         "opacity": 0.7,
         "pointpos": 0,
         "text": [
          0,
          1,
          2,
          3,
          4,
          5,
          6,
          7
         ],
         "type": "box",
         "y": [
          1.0013821518628347e-13,
          8.405083223404003e-14,
          9.954590082838562e-14,
          9.459921362264077e-14,
          9.760162691824257e-14,
          8.577990286967252e-14,
          9.782068038486805e-14,
          9.875318727823019e-14
         ]
        },
        {
         "boxpoints": "all",
         "hovertemplate": "Epoch: %{text}<br>STD: %{y: .0f}",
         "line": {
          "width": 1
         },
         "marker": {
          "size": 3
         },
         "name": "MEG0611",
         "opacity": 0.7,
         "pointpos": 0,
         "text": [
          0,
          1,
          2,
          3,
          4,
          5,
          6,
          7
         ],
         "type": "box",
         "y": [
          5.958361679120158e-14,
          5.32592059112031e-14,
          5.88006171996888e-14,
          7.045561719378417e-14,
          7.13080611390202e-14,
          6.26480165625814e-14,
          7.153423875096935e-14,
          6.288812214320515e-14
         ]
        },
        {
         "boxpoints": "all",
         "hovertemplate": "Epoch: %{text}<br>STD: %{y: .0f}",
         "line": {
          "width": 1
         },
         "marker": {
          "size": 3
         },
         "name": "MEG0621",
         "opacity": 0.7,
         "pointpos": 0,
         "text": [
          0,
          1,
          2,
          3,
          4,
          5,
          6,
          7
         ],
         "type": "box",
         "y": [
          5.748080660404585e-14,
          5.0560661302494913e-14,
          6.20328995564232e-14,
          6.047413502041056e-14,
          6.208827405739412e-14,
          6.843730484810456e-14,
          5.261265914523133e-14,
          5.787727029268042e-14
         ]
        },
        {
         "boxpoints": "all",
         "hovertemplate": "Epoch: %{text}<br>STD: %{y: .0f}",
         "line": {
          "width": 1
         },
         "marker": {
          "size": 3
         },
         "name": "MEG0631",
         "opacity": 0.7,
         "pointpos": 0,
         "text": [
          0,
          1,
          2,
          3,
          4,
          5,
          6,
          7
         ],
         "type": "box",
         "y": [
          4.820391727926575e-14,
          5.720186482781814e-14,
          5.5327298649542266e-14,
          4.924793944252858e-14,
          5.1225354841905096e-14,
          5.4029261535029963e-14,
          5.815932109878714e-14,
          4.922279121544246e-14
         ]
        },
        {
         "boxpoints": "all",
         "hovertemplate": "Epoch: %{text}<br>STD: %{y: .0f}",
         "line": {
          "width": 1
         },
         "marker": {
          "size": 3
         },
         "name": "MEG0641",
         "opacity": 0.7,
         "pointpos": 0,
         "text": [
          0,
          1,
          2,
          3,
          4,
          5,
          6,
          7
         ],
         "type": "box",
         "y": [
          4.956710395489742e-14,
          5.4249123212512826e-14,
          5.754094997686408e-14,
          6.579838374914935e-14,
          6.600428207257679e-14,
          5.0022769592098275e-14,
          5.853935970696951e-14,
          6.764292248703988e-14
         ]
        },
        {
         "boxpoints": "all",
         "hovertemplate": "Epoch: %{text}<br>STD: %{y: .0f}",
         "line": {
          "width": 1
         },
         "marker": {
          "size": 3
         },
         "name": "MEG0711",
         "opacity": 0.7,
         "pointpos": 0,
         "text": [
          0,
          1,
          2,
          3,
          4,
          5,
          6,
          7
         ],
         "type": "box",
         "y": [
          7.311960727127964e-14,
          6.609683245480686e-14,
          8.188463290737183e-14,
          6.991887940447457e-14,
          6.60326388852251e-14,
          7.021485458798352e-14,
          9.564979790530781e-14,
          9.201682261643829e-14
         ]
        },
        {
         "boxpoints": "all",
         "hovertemplate": "Epoch: %{text}<br>STD: %{y: .0f}",
         "line": {
          "width": 1
         },
         "marker": {
          "size": 3
         },
         "name": "MEG0721",
         "opacity": 0.7,
         "pointpos": 0,
         "text": [
          0,
          1,
          2,
          3,
          4,
          5,
          6,
          7
         ],
         "type": "box",
         "y": [
          7.744867825314551e-14,
          8.984878479292033e-14,
          8.031480756331998e-14,
          8.63894018267764e-14,
          8.808164751041973e-14,
          9.762162524589813e-14,
          1.060536044213978e-13,
          9.447359427766524e-14
         ]
        },
        {
         "boxpoints": "all",
         "hovertemplate": "Epoch: %{text}<br>STD: %{y: .0f}",
         "line": {
          "width": 1
         },
         "marker": {
          "size": 3
         },
         "name": "MEG0731",
         "opacity": 0.7,
         "pointpos": 0,
         "text": [
          0,
          1,
          2,
          3,
          4,
          5,
          6,
          7
         ],
         "type": "box",
         "y": [
          8.007197817545774e-14,
          7.883837130936376e-14,
          9.637776465550007e-14,
          1.0369985250012638e-13,
          8.989668809784896e-14,
          9.466125311971603e-14,
          1.162632083112452e-13,
          9.886128321802194e-14
         ]
        },
        {
         "boxpoints": "all",
         "hovertemplate": "Epoch: %{text}<br>STD: %{y: .0f}",
         "line": {
          "width": 1
         },
         "marker": {
          "size": 3
         },
         "name": "MEG0741",
         "opacity": 0.7,
         "pointpos": 0,
         "text": [
          0,
          1,
          2,
          3,
          4,
          5,
          6,
          7
         ],
         "type": "box",
         "y": [
          8.958883057995508e-14,
          1.0086429892931406e-13,
          1.0382789656479817e-13,
          9.740807176703629e-14,
          1.043472434398613e-13,
          9.28943681842835e-14,
          1.1192821345357559e-13,
          1.1146982957822396e-13
         ]
        },
        {
         "boxpoints": "all",
         "hovertemplate": "Epoch: %{text}<br>STD: %{y: .0f}",
         "line": {
          "width": 1
         },
         "marker": {
          "size": 3
         },
         "name": "MEG0811",
         "opacity": 0.7,
         "pointpos": 0,
         "text": [
          0,
          1,
          2,
          3,
          4,
          5,
          6,
          7
         ],
         "type": "box",
         "y": [
          1.2822720524923437e-13,
          9.706601844236757e-14,
          1.5720680817007643e-13,
          1.5363971971446776e-13,
          1.402520167337868e-13,
          1.525647324117493e-13,
          1.2157212716304514e-13,
          1.6151351858517734e-13
         ]
        },
        {
         "boxpoints": "all",
         "hovertemplate": "Epoch: %{text}<br>STD: %{y: .0f}",
         "line": {
          "width": 1
         },
         "marker": {
          "size": 3
         },
         "name": "MEG0821",
         "opacity": 0.7,
         "pointpos": 0,
         "text": [
          0,
          1,
          2,
          3,
          4,
          5,
          6,
          7
         ],
         "type": "box",
         "y": [
          6.566647605201747e-14,
          5.484491776943054e-14,
          6.27567078244119e-14,
          6.702261967262312e-14,
          6.058663958316924e-14,
          5.946843790789184e-14,
          5.682399827257962e-14,
          6.946451446511439e-14
         ]
        },
        {
         "boxpoints": "all",
         "hovertemplate": "Epoch: %{text}<br>STD: %{y: .0f}",
         "line": {
          "width": 1
         },
         "marker": {
          "size": 3
         },
         "name": "MEG0911",
         "opacity": 0.7,
         "pointpos": 0,
         "text": [
          0,
          1,
          2,
          3,
          4,
          5,
          6,
          7
         ],
         "type": "box",
         "y": [
          1.0611641720256665e-13,
          7.571499154848251e-14,
          1.2635956432611437e-13,
          1.2845278175107656e-13,
          1.1655076562579121e-13,
          1.183991313266482e-13,
          1.0006619373318779e-13,
          1.411087730155094e-13
         ]
        },
        {
         "boxpoints": "all",
         "hovertemplate": "Epoch: %{text}<br>STD: %{y: .0f}",
         "line": {
          "width": 1
         },
         "marker": {
          "size": 3
         },
         "name": "MEG0921",
         "opacity": 0.7,
         "pointpos": 0,
         "text": [
          0,
          1,
          2,
          3,
          4,
          5,
          6,
          7
         ],
         "type": "box",
         "y": [
          7.729826570608249e-14,
          7.502044852670342e-14,
          7.684677535304628e-14,
          9.159945291778598e-14,
          9.205688785830725e-14,
          8.842174538526242e-14,
          9.097082545145215e-14,
          1.024283132231471e-13
         ]
        },
        {
         "boxpoints": "all",
         "hovertemplate": "Epoch: %{text}<br>STD: %{y: .0f}",
         "line": {
          "width": 1
         },
         "marker": {
          "size": 3
         },
         "name": "MEG0931",
         "opacity": 0.7,
         "pointpos": 0,
         "text": [
          0,
          1,
          2,
          3,
          4,
          5,
          6,
          7
         ],
         "type": "box",
         "y": [
          8.291283374997416e-14,
          6.439806133625492e-14,
          9.589280962126819e-14,
          7.687975895217155e-14,
          7.500851404791323e-14,
          6.454893342146428e-14,
          7.321520806441294e-14,
          1.0972342277408159e-13
         ]
        },
        {
         "boxpoints": "all",
         "hovertemplate": "Epoch: %{text}<br>STD: %{y: .0f}",
         "line": {
          "width": 1
         },
         "marker": {
          "size": 3
         },
         "name": "MEG0941",
         "opacity": 0.7,
         "pointpos": 0,
         "text": [
          0,
          1,
          2,
          3,
          4,
          5,
          6,
          7
         ],
         "type": "box",
         "y": [
          6.465149400564052e-14,
          5.254115345840101e-14,
          6.638907737656365e-14,
          7.192148995359999e-14,
          5.640712962423859e-14,
          6.522837174256677e-14,
          5.682219166606271e-14,
          8.805615956141019e-14
         ]
        },
        {
         "boxpoints": "all",
         "hovertemplate": "Epoch: %{text}<br>STD: %{y: .0f}",
         "line": {
          "width": 1
         },
         "marker": {
          "size": 3
         },
         "name": "MEG1011",
         "opacity": 0.7,
         "pointpos": 0,
         "text": [
          0,
          1,
          2,
          3,
          4,
          5,
          6,
          7
         ],
         "type": "box",
         "y": [
          7.424816898090216e-14,
          6.123148410892988e-14,
          7.018978957000037e-14,
          1.108516111758277e-13,
          7.723683102476495e-14,
          9.017935695926581e-14,
          8.684307374085914e-14,
          9.064635191594967e-14
         ]
        },
        {
         "boxpoints": "all",
         "hovertemplate": "Epoch: %{text}<br>STD: %{y: .0f}",
         "line": {
          "width": 1
         },
         "marker": {
          "size": 3
         },
         "name": "MEG1021",
         "opacity": 0.7,
         "pointpos": 0,
         "text": [
          0,
          1,
          2,
          3,
          4,
          5,
          6,
          7
         ],
         "type": "box",
         "y": [
          7.491828248190454e-14,
          5.878534921249124e-14,
          8.172068482615085e-14,
          8.796539659322913e-14,
          7.012673116576177e-14,
          9.07910236538127e-14,
          8.187067513709752e-14,
          8.26581183590536e-14
         ]
        },
        {
         "boxpoints": "all",
         "hovertemplate": "Epoch: %{text}<br>STD: %{y: .0f}",
         "line": {
          "width": 1
         },
         "marker": {
          "size": 3
         },
         "name": "MEG1031",
         "opacity": 0.7,
         "pointpos": 0,
         "text": [
          0,
          1,
          2,
          3,
          4,
          5,
          6,
          7
         ],
         "type": "box",
         "y": [
          8.010514928211035e-14,
          5.6803538340586716e-14,
          7.634814967950322e-14,
          8.38243616645262e-14,
          7.27481865683172e-14,
          8.383328444199126e-14,
          6.903210833490815e-14,
          8.09165262857881e-14
         ]
        },
        {
         "boxpoints": "all",
         "hovertemplate": "Epoch: %{text}<br>STD: %{y: .0f}",
         "line": {
          "width": 1
         },
         "marker": {
          "size": 3
         },
         "name": "MEG1041",
         "opacity": 0.7,
         "pointpos": 0,
         "text": [
          0,
          1,
          2,
          3,
          4,
          5,
          6,
          7
         ],
         "type": "box",
         "y": [
          6.255613058811377e-14,
          5.852832490333046e-14,
          4.5756668690810984e-14,
          6.272323016571755e-14,
          5.892512576632547e-14,
          5.84271385671796e-14,
          5.698840642772032e-14,
          6.920568868986543e-14
         ]
        },
        {
         "boxpoints": "all",
         "hovertemplate": "Epoch: %{text}<br>STD: %{y: .0f}",
         "line": {
          "width": 1
         },
         "marker": {
          "size": 3
         },
         "name": "MEG1111",
         "opacity": 0.7,
         "pointpos": 0,
         "text": [
          0,
          1,
          2,
          3,
          4,
          5,
          6,
          7
         ],
         "type": "box",
         "y": [
          8.617171466556344e-14,
          6.474037261463299e-14,
          8.017295947146958e-14,
          9.818768246683809e-14,
          7.547561706785088e-14,
          7.527030925256372e-14,
          7.46177692133474e-14,
          7.773315046159137e-14
         ]
        },
        {
         "boxpoints": "all",
         "hovertemplate": "Epoch: %{text}<br>STD: %{y: .0f}",
         "line": {
          "width": 1
         },
         "marker": {
          "size": 3
         },
         "name": "MEG1121",
         "opacity": 0.7,
         "pointpos": 0,
         "text": [
          0,
          1,
          2,
          3,
          4,
          5,
          6,
          7
         ],
         "type": "box",
         "y": [
          1.2194875659424137e-13,
          8.865553473347e-14,
          1.3031256924973379e-13,
          1.4221527164474642e-13,
          1.1982229832631946e-13,
          1.1124089160195723e-13,
          1.1310175764147415e-13,
          1.2860105323239406e-13
         ]
        },
        {
         "boxpoints": "all",
         "hovertemplate": "Epoch: %{text}<br>STD: %{y: .0f}",
         "line": {
          "width": 1
         },
         "marker": {
          "size": 3
         },
         "name": "MEG1131",
         "opacity": 0.7,
         "pointpos": 0,
         "text": [
          0,
          1,
          2,
          3,
          4,
          5,
          6,
          7
         ],
         "type": "box",
         "y": [
          1.0158149597354705e-13,
          9.272584694005677e-14,
          1.2642870163321006e-13,
          1.3909474820460032e-13,
          1.0873139179160789e-13,
          9.688440900893049e-14,
          9.512284228548365e-14,
          1.3625719499046347e-13
         ]
        },
        {
         "boxpoints": "all",
         "hovertemplate": "Epoch: %{text}<br>STD: %{y: .0f}",
         "line": {
          "width": 1
         },
         "marker": {
          "size": 3
         },
         "name": "MEG1141",
         "opacity": 0.7,
         "pointpos": 0,
         "text": [
          0,
          1,
          2,
          3,
          4,
          5,
          6,
          7
         ],
         "type": "box",
         "y": [
          7.707198037626988e-14,
          6.0242798914533e-14,
          6.914305240148362e-14,
          9.234308103569018e-14,
          6.848320741712805e-14,
          6.488484848746898e-14,
          6.80832171158454e-14,
          7.592630439653206e-14
         ]
        },
        {
         "boxpoints": "all",
         "hovertemplate": "Epoch: %{text}<br>STD: %{y: .0f}",
         "line": {
          "width": 1
         },
         "marker": {
          "size": 3
         },
         "name": "MEG1211",
         "opacity": 0.7,
         "pointpos": 0,
         "text": [
          0,
          1,
          2,
          3,
          4,
          5,
          6,
          7
         ],
         "type": "box",
         "y": [
          7.261931036445125e-14,
          8.891212612630436e-14,
          8.41574361351874e-14,
          9.668011672041373e-14,
          1.0006533871483093e-13,
          7.642876094808062e-14,
          7.677831631758647e-14,
          7.697250290102811e-14
         ]
        },
        {
         "boxpoints": "all",
         "hovertemplate": "Epoch: %{text}<br>STD: %{y: .0f}",
         "line": {
          "width": 1
         },
         "marker": {
          "size": 3
         },
         "name": "MEG1221",
         "opacity": 0.7,
         "pointpos": 0,
         "text": [
          0,
          1,
          2,
          3,
          4,
          5,
          6,
          7
         ],
         "type": "box",
         "y": [
          1.049885451593322e-13,
          9.487875854169382e-14,
          1.0025272231250507e-13,
          1.0317026470236799e-13,
          1.0585798720264557e-13,
          1.1005763024328715e-13,
          9.53453356564815e-14,
          1.0888290112005662e-13
         ]
        },
        {
         "boxpoints": "all",
         "hovertemplate": "Epoch: %{text}<br>STD: %{y: .0f}",
         "line": {
          "width": 1
         },
         "marker": {
          "size": 3
         },
         "name": "MEG1231",
         "opacity": 0.7,
         "pointpos": 0,
         "text": [
          0,
          1,
          2,
          3,
          4,
          5,
          6,
          7
         ],
         "type": "box",
         "y": [
          1.0789488286228582e-13,
          1.0401859147422063e-13,
          1.3464948206016335e-13,
          1.321916261080618e-13,
          1.2493716604786337e-13,
          1.0130428138168876e-13,
          1.0887622155313304e-13,
          1.3170444472125824e-13
         ]
        },
        {
         "boxpoints": "all",
         "hovertemplate": "Epoch: %{text}<br>STD: %{y: .0f}",
         "line": {
          "width": 1
         },
         "marker": {
          "size": 3
         },
         "name": "MEG1241",
         "opacity": 0.7,
         "pointpos": 0,
         "text": [
          0,
          1,
          2,
          3,
          4,
          5,
          6,
          7
         ],
         "type": "box",
         "y": [
          1.236523157726081e-13,
          9.59336435950982e-14,
          1.4921763732418082e-13,
          1.335439311294868e-13,
          1.2013581829346087e-13,
          1.1464033869889624e-13,
          1.1468989786607196e-13,
          1.4836337952435545e-13
         ]
        },
        {
         "boxpoints": "all",
         "hovertemplate": "Epoch: %{text}<br>STD: %{y: .0f}",
         "line": {
          "width": 1
         },
         "marker": {
          "size": 3
         },
         "name": "MEG1311",
         "opacity": 0.7,
         "pointpos": 0,
         "text": [
          0,
          1,
          2,
          3,
          4,
          5,
          6,
          7
         ],
         "type": "box",
         "y": [
          1.4236240929628785e-13,
          1.0983052263109216e-13,
          1.4941683300660954e-13,
          1.6408162276018084e-13,
          1.375077868735232e-13,
          1.5276048493041864e-13,
          1.4103884335203291e-13,
          1.6582112404122218e-13
         ]
        },
        {
         "boxpoints": "all",
         "hovertemplate": "Epoch: %{text}<br>STD: %{y: .0f}",
         "line": {
          "width": 1
         },
         "marker": {
          "size": 3
         },
         "name": "MEG1321",
         "opacity": 0.7,
         "pointpos": 0,
         "text": [
          0,
          1,
          2,
          3,
          4,
          5,
          6,
          7
         ],
         "type": "box",
         "y": [
          1.5096981395592119e-13,
          1.2383920970980176e-13,
          1.3278449245717424e-13,
          1.5984318103139387e-13,
          1.3333004523695762e-13,
          1.616074336607174e-13,
          1.1330089013371937e-13,
          2.015838228000715e-13
         ]
        },
        {
         "boxpoints": "all",
         "hovertemplate": "Epoch: %{text}<br>STD: %{y: .0f}",
         "line": {
          "width": 1
         },
         "marker": {
          "size": 3
         },
         "name": "MEG1331",
         "opacity": 0.7,
         "pointpos": 0,
         "text": [
          0,
          1,
          2,
          3,
          4,
          5,
          6,
          7
         ],
         "type": "box",
         "y": [
          1.6948783397272896e-13,
          1.6182099244460366e-13,
          1.5080557198991677e-13,
          1.903891710882028e-13,
          1.7172908338565783e-13,
          1.5635418523275565e-13,
          1.3964604762398572e-13,
          1.9245671244007892e-13
         ]
        },
        {
         "boxpoints": "all",
         "hovertemplate": "Epoch: %{text}<br>STD: %{y: .0f}",
         "line": {
          "width": 1
         },
         "marker": {
          "size": 3
         },
         "name": "MEG1341",
         "opacity": 0.7,
         "pointpos": 0,
         "text": [
          0,
          1,
          2,
          3,
          4,
          5,
          6,
          7
         ],
         "type": "box",
         "y": [
          1.382843888474331e-13,
          1.0946684782421287e-13,
          1.541182053098796e-13,
          1.7029552925621966e-13,
          1.3396994901152601e-13,
          1.37342437593808e-13,
          1.319156319606406e-13,
          1.8736267985373195e-13
         ]
        },
        {
         "boxpoints": "all",
         "hovertemplate": "Epoch: %{text}<br>STD: %{y: .0f}",
         "line": {
          "width": 1
         },
         "marker": {
          "size": 3
         },
         "name": "MEG1411",
         "opacity": 0.7,
         "pointpos": 0,
         "text": [
          0,
          1,
          2,
          3,
          4,
          5,
          6,
          7
         ],
         "type": "box",
         "y": [
          1.194387019780197e-13,
          1.3665066164655626e-13,
          1.2357141278792866e-13,
          1.500591484723344e-13,
          1.3284292719397492e-13,
          1.1223333433244865e-13,
          1.3075758019796953e-13,
          1.3190942417703055e-13
         ]
        },
        {
         "boxpoints": "all",
         "hovertemplate": "Epoch: %{text}<br>STD: %{y: .0f}",
         "line": {
          "width": 1
         },
         "marker": {
          "size": 3
         },
         "name": "MEG1421",
         "opacity": 0.7,
         "pointpos": 0,
         "text": [
          0,
          1,
          2,
          3,
          4,
          5,
          6,
          7
         ],
         "type": "box",
         "y": [
          1.653929465530057e-13,
          1.9822549873428091e-13,
          2.0133588385620652e-13,
          2.4111403610284643e-13,
          1.7984737396831608e-13,
          2.0268344797669007e-13,
          1.9229648766235385e-13,
          1.9600058118626946e-13
         ]
        },
        {
         "boxpoints": "all",
         "hovertemplate": "Epoch: %{text}<br>STD: %{y: .0f}",
         "line": {
          "width": 1
         },
         "marker": {
          "size": 3
         },
         "name": "MEG1431",
         "opacity": 0.7,
         "pointpos": 0,
         "text": [
          0,
          1,
          2,
          3,
          4,
          5,
          6,
          7
         ],
         "type": "box",
         "y": [
          1.628309304882397e-13,
          1.8526091664174306e-13,
          1.9166990484145654e-13,
          2.2383952180266687e-13,
          1.8817739852246857e-13,
          2.1479203752624877e-13,
          1.7788768082850502e-13,
          1.844362879196972e-13
         ]
        },
        {
         "boxpoints": "all",
         "hovertemplate": "Epoch: %{text}<br>STD: %{y: .0f}",
         "line": {
          "width": 1
         },
         "marker": {
          "size": 3
         },
         "name": "MEG1441",
         "opacity": 0.7,
         "pointpos": 0,
         "text": [
          0,
          1,
          2,
          3,
          4,
          5,
          6,
          7
         ],
         "type": "box",
         "y": [
          1.333682849095398e-13,
          1.3651592929327877e-13,
          1.2081175607711584e-13,
          1.3308728148671475e-13,
          1.5245175948232578e-13,
          1.3963356822963246e-13,
          1.4028456724769026e-13,
          1.577988802730069e-13
         ]
        },
        {
         "boxpoints": "all",
         "hovertemplate": "Epoch: %{text}<br>STD: %{y: .0f}",
         "line": {
          "width": 1
         },
         "marker": {
          "size": 3
         },
         "name": "MEG1511",
         "opacity": 0.7,
         "pointpos": 0,
         "text": [
          0,
          1,
          2,
          3,
          4,
          5,
          6,
          7
         ],
         "type": "box",
         "y": [
          8.67053984843497e-14,
          7.557757692861477e-14,
          8.042188514207397e-14,
          6.96712669509257e-14,
          1.0796028440968262e-13,
          8.395821969127884e-14,
          7.859874899415009e-14,
          9.259453543112189e-14
         ]
        },
        {
         "boxpoints": "all",
         "hovertemplate": "Epoch: %{text}<br>STD: %{y: .0f}",
         "line": {
          "width": 1
         },
         "marker": {
          "size": 3
         },
         "name": "MEG1521",
         "opacity": 0.7,
         "pointpos": 0,
         "text": [
          0,
          1,
          2,
          3,
          4,
          5,
          6,
          7
         ],
         "type": "box",
         "y": [
          1.282622762363831e-13,
          9.971623456269413e-14,
          1.2840822704050247e-13,
          1.2580138795190224e-13,
          1.3195223713466323e-13,
          1.2417582723558924e-13,
          1.0688941393290928e-13,
          1.461533766690224e-13
         ]
        },
        {
         "boxpoints": "all",
         "hovertemplate": "Epoch: %{text}<br>STD: %{y: .0f}",
         "line": {
          "width": 1
         },
         "marker": {
          "size": 3
         },
         "name": "MEG1531",
         "opacity": 0.7,
         "pointpos": 0,
         "text": [
          0,
          1,
          2,
          3,
          4,
          5,
          6,
          7
         ],
         "type": "box",
         "y": [
          1.5233091257899284e-13,
          1.5895219287655238e-13,
          1.4956600688841766e-13,
          1.5582589364704336e-13,
          1.1409121481844265e-13,
          1.7855394656421275e-13,
          1.8108361209430132e-13,
          2.0538498185941403e-13
         ]
        },
        {
         "boxpoints": "all",
         "hovertemplate": "Epoch: %{text}<br>STD: %{y: .0f}",
         "line": {
          "width": 1
         },
         "marker": {
          "size": 3
         },
         "name": "MEG1541",
         "opacity": 0.7,
         "pointpos": 0,
         "text": [
          0,
          1,
          2,
          3,
          4,
          5,
          6,
          7
         ],
         "type": "box",
         "y": [
          1.4366748670284522e-13,
          1.254880710726529e-13,
          1.276230586817411e-13,
          1.4342658375033255e-13,
          1.0008324887262694e-13,
          1.4923931061568369e-13,
          1.47592648261033e-13,
          1.6890285649896574e-13
         ]
        },
        {
         "boxpoints": "all",
         "hovertemplate": "Epoch: %{text}<br>STD: %{y: .0f}",
         "line": {
          "width": 1
         },
         "marker": {
          "size": 3
         },
         "name": "MEG1611",
         "opacity": 0.7,
         "pointpos": 0,
         "text": [
          0,
          1,
          2,
          3,
          4,
          5,
          6,
          7
         ],
         "type": "box",
         "y": [
          1.4345267377055517e-13,
          1.3146994839074634e-13,
          1.6107058644373885e-13,
          1.7744938279084537e-13,
          1.6324886133092852e-13,
          1.8716014058428247e-13,
          1.5536840036613325e-13,
          2.0292849070684715e-13
         ]
        },
        {
         "boxpoints": "all",
         "hovertemplate": "Epoch: %{text}<br>STD: %{y: .0f}",
         "line": {
          "width": 1
         },
         "marker": {
          "size": 3
         },
         "name": "MEG1621",
         "opacity": 0.7,
         "pointpos": 0,
         "text": [
          0,
          1,
          2,
          3,
          4,
          5,
          6,
          7
         ],
         "type": "box",
         "y": [
          1.2577985928348296e-13,
          1.2363696798459016e-13,
          1.1980033380841636e-13,
          1.4226646213027883e-13,
          1.1838035382841454e-13,
          1.2022072488830624e-13,
          1.1803909000250226e-13,
          1.293282055818811e-13
         ]
        },
        {
         "boxpoints": "all",
         "hovertemplate": "Epoch: %{text}<br>STD: %{y: .0f}",
         "line": {
          "width": 1
         },
         "marker": {
          "size": 3
         },
         "name": "MEG1631",
         "opacity": 0.7,
         "pointpos": 0,
         "text": [
          0,
          1,
          2,
          3,
          4,
          5,
          6,
          7
         ],
         "type": "box",
         "y": [
          9.31810682764466e-14,
          1.0514550897020203e-13,
          1.0812264026471443e-13,
          1.3025768445113916e-13,
          8.920901406291324e-14,
          1.0776420385567325e-13,
          1.0460298269966179e-13,
          1.1989503171219997e-13
         ]
        },
        {
         "boxpoints": "all",
         "hovertemplate": "Epoch: %{text}<br>STD: %{y: .0f}",
         "line": {
          "width": 1
         },
         "marker": {
          "size": 3
         },
         "name": "MEG1641",
         "opacity": 0.7,
         "pointpos": 0,
         "text": [
          0,
          1,
          2,
          3,
          4,
          5,
          6,
          7
         ],
         "type": "box",
         "y": [
          1.2233147944794633e-13,
          1.290518897703942e-13,
          1.407083647446613e-13,
          1.8231533032551498e-13,
          1.4047354087815246e-13,
          1.7284880489035192e-13,
          1.1235746482584902e-13,
          1.756080736841558e-13
         ]
        },
        {
         "boxpoints": "all",
         "hovertemplate": "Epoch: %{text}<br>STD: %{y: .0f}",
         "line": {
          "width": 1
         },
         "marker": {
          "size": 3
         },
         "name": "MEG1711",
         "opacity": 0.7,
         "pointpos": 0,
         "text": [
          0,
          1,
          2,
          3,
          4,
          5,
          6,
          7
         ],
         "type": "box",
         "y": [
          1.879590853498511e-13,
          1.7885522604171822e-13,
          1.9883077356714e-13,
          1.8650824155837262e-13,
          1.631770222217937e-13,
          2.0340934073744324e-13,
          1.9012370017095175e-13,
          2.1649736724723864e-13
         ]
        },
        {
         "boxpoints": "all",
         "hovertemplate": "Epoch: %{text}<br>STD: %{y: .0f}",
         "line": {
          "width": 1
         },
         "marker": {
          "size": 3
         },
         "name": "MEG1721",
         "opacity": 0.7,
         "pointpos": 0,
         "text": [
          0,
          1,
          2,
          3,
          4,
          5,
          6,
          7
         ],
         "type": "box",
         "y": [
          1.8501828172996269e-13,
          1.3057640548071848e-13,
          1.5554721743911458e-13,
          1.75023775032587e-13,
          1.52288289121014e-13,
          1.6563790843967576e-13,
          1.2794065445793898e-13,
          1.8330956266519805e-13
         ]
        },
        {
         "boxpoints": "all",
         "hovertemplate": "Epoch: %{text}<br>STD: %{y: .0f}",
         "line": {
          "width": 1
         },
         "marker": {
          "size": 3
         },
         "name": "MEG1731",
         "opacity": 0.7,
         "pointpos": 0,
         "text": [
          0,
          1,
          2,
          3,
          4,
          5,
          6,
          7
         ],
         "type": "box",
         "y": [
          2.1664831541304426e-13,
          1.5488462904665004e-13,
          1.8656650699057942e-13,
          1.8232623905661877e-13,
          1.9251271860774708e-13,
          1.913446002889207e-13,
          1.5344960876867794e-13,
          1.7116789304434641e-13
         ]
        },
        {
         "boxpoints": "all",
         "hovertemplate": "Epoch: %{text}<br>STD: %{y: .0f}",
         "line": {
          "width": 1
         },
         "marker": {
          "size": 3
         },
         "name": "MEG1741",
         "opacity": 0.7,
         "pointpos": 0,
         "text": [
          0,
          1,
          2,
          3,
          4,
          5,
          6,
          7
         ],
         "type": "box",
         "y": [
          1.9420452424764024e-13,
          2.085116421994522e-13,
          2.1354342640493408e-13,
          2.1735934379391963e-13,
          1.844967221133675e-13,
          1.953687005557939e-13,
          2.092415630275795e-13,
          2.1244611675664724e-13
         ]
        },
        {
         "boxpoints": "all",
         "hovertemplate": "Epoch: %{text}<br>STD: %{y: .0f}",
         "line": {
          "width": 1
         },
         "marker": {
          "size": 3
         },
         "name": "MEG1811",
         "opacity": 0.7,
         "pointpos": 0,
         "text": [
          0,
          1,
          2,
          3,
          4,
          5,
          6,
          7
         ],
         "type": "box",
         "y": [
          7.161297920082256e-14,
          8.563722598608398e-14,
          8.018161353608985e-14,
          9.201553349868213e-14,
          8.458034037167928e-14,
          7.53035307504419e-14,
          6.90536767841391e-14,
          9.897954851079747e-14
         ]
        },
        {
         "boxpoints": "all",
         "hovertemplate": "Epoch: %{text}<br>STD: %{y: .0f}",
         "line": {
          "width": 1
         },
         "marker": {
          "size": 3
         },
         "name": "MEG1821",
         "opacity": 0.7,
         "pointpos": 0,
         "text": [
          0,
          1,
          2,
          3,
          4,
          5,
          6,
          7
         ],
         "type": "box",
         "y": [
          1.0088633007680764e-13,
          8.719116883851966e-14,
          7.854141994883729e-14,
          8.515485241797632e-14,
          8.257212901032966e-14,
          1.0925317351013473e-13,
          7.76752083151569e-14,
          1.2059217250217631e-13
         ]
        },
        {
         "boxpoints": "all",
         "hovertemplate": "Epoch: %{text}<br>STD: %{y: .0f}",
         "line": {
          "width": 1
         },
         "marker": {
          "size": 3
         },
         "name": "MEG1831",
         "opacity": 0.7,
         "pointpos": 0,
         "text": [
          0,
          1,
          2,
          3,
          4,
          5,
          6,
          7
         ],
         "type": "box",
         "y": [
          8.629598225731904e-14,
          8.497027500705721e-14,
          9.456533998079948e-14,
          9.306283105132848e-14,
          9.988958159951001e-14,
          9.236575536830352e-14,
          9.63662527649792e-14,
          9.708818889791491e-14
         ]
        },
        {
         "boxpoints": "all",
         "hovertemplate": "Epoch: %{text}<br>STD: %{y: .0f}",
         "line": {
          "width": 1
         },
         "marker": {
          "size": 3
         },
         "name": "MEG1841",
         "opacity": 0.7,
         "pointpos": 0,
         "text": [
          0,
          1,
          2,
          3,
          4,
          5,
          6,
          7
         ],
         "type": "box",
         "y": [
          7.640542808042404e-14,
          6.390815137163299e-14,
          7.294543438915334e-14,
          6.594125195578871e-14,
          7.313560136066504e-14,
          7.40301123054376e-14,
          6.924642772334598e-14,
          7.462080180049884e-14
         ]
        },
        {
         "boxpoints": "all",
         "hovertemplate": "Epoch: %{text}<br>STD: %{y: .0f}",
         "line": {
          "width": 1
         },
         "marker": {
          "size": 3
         },
         "name": "MEG1911",
         "opacity": 0.7,
         "pointpos": 0,
         "text": [
          0,
          1,
          2,
          3,
          4,
          5,
          6,
          7
         ],
         "type": "box",
         "y": [
          1.0783386603522904e-13,
          7.67580299844173e-14,
          9.479865876779489e-14,
          1.0803471370326465e-13,
          9.708064208435475e-14,
          9.995030820617497e-14,
          1.098979568416085e-13,
          1.0794840580502474e-13
         ]
        },
        {
         "boxpoints": "all",
         "hovertemplate": "Epoch: %{text}<br>STD: %{y: .0f}",
         "line": {
          "width": 1
         },
         "marker": {
          "size": 3
         },
         "name": "MEG1921",
         "opacity": 0.7,
         "pointpos": 0,
         "text": [
          0,
          1,
          2,
          3,
          4,
          5,
          6,
          7
         ],
         "type": "box",
         "y": [
          1.151758254035825e-13,
          1.0789109671671738e-13,
          1.166267975236737e-13,
          1.1946507933044667e-13,
          1.677840660090059e-13,
          1.0911096971021837e-13,
          1.190661509094886e-13,
          1.1054364617605273e-13
         ]
        },
        {
         "boxpoints": "all",
         "hovertemplate": "Epoch: %{text}<br>STD: %{y: .0f}",
         "line": {
          "width": 1
         },
         "marker": {
          "size": 3
         },
         "name": "MEG1931",
         "opacity": 0.7,
         "pointpos": 0,
         "text": [
          0,
          1,
          2,
          3,
          4,
          5,
          6,
          7
         ],
         "type": "box",
         "y": [
          1.602059716200054e-13,
          1.4193370708762354e-13,
          1.3075539606114125e-13,
          1.4245520747853632e-13,
          1.6369968131347512e-13,
          1.4736314913225898e-13,
          1.4442568088797664e-13,
          1.5583074915052046e-13
         ]
        },
        {
         "boxpoints": "all",
         "hovertemplate": "Epoch: %{text}<br>STD: %{y: .0f}",
         "line": {
          "width": 1
         },
         "marker": {
          "size": 3
         },
         "name": "MEG1941",
         "opacity": 0.7,
         "pointpos": 0,
         "text": [
          0,
          1,
          2,
          3,
          4,
          5,
          6,
          7
         ],
         "type": "box",
         "y": [
          1.2818322716059837e-13,
          9.527933234799073e-14,
          1.2258814193875459e-13,
          1.5029696953960316e-13,
          1.3387124886227015e-13,
          1.5608447035057235e-13,
          1.1591395101896132e-13,
          1.4865354608793467e-13
         ]
        },
        {
         "boxpoints": "all",
         "hovertemplate": "Epoch: %{text}<br>STD: %{y: .0f}",
         "line": {
          "width": 1
         },
         "marker": {
          "size": 3
         },
         "name": "MEG2011",
         "opacity": 0.7,
         "pointpos": 0,
         "text": [
          0,
          1,
          2,
          3,
          4,
          5,
          6,
          7
         ],
         "type": "box",
         "y": [
          8.449910580077512e-14,
          8.309613296044293e-14,
          8.99259538834453e-14,
          9.841865916236949e-14,
          1.099610493452574e-13,
          1.000177155625096e-13,
          8.042251477029717e-14,
          1.102441135403967e-13
         ]
        },
        {
         "boxpoints": "all",
         "hovertemplate": "Epoch: %{text}<br>STD: %{y: .0f}",
         "line": {
          "width": 1
         },
         "marker": {
          "size": 3
         },
         "name": "MEG2021",
         "opacity": 0.7,
         "pointpos": 0,
         "text": [
          0,
          1,
          2,
          3,
          4,
          5,
          6,
          7
         ],
         "type": "box",
         "y": [
          8.296196049792741e-14,
          6.683071418550699e-14,
          7.87568783309702e-14,
          8.819605111024477e-14,
          7.655364534397219e-14,
          7.120534261872604e-14,
          5.770146476714096e-14,
          8.161702817239472e-14
         ]
        },
        {
         "boxpoints": "all",
         "hovertemplate": "Epoch: %{text}<br>STD: %{y: .0f}",
         "line": {
          "width": 1
         },
         "marker": {
          "size": 3
         },
         "name": "MEG2031",
         "opacity": 0.7,
         "pointpos": 0,
         "text": [
          0,
          1,
          2,
          3,
          4,
          5,
          6,
          7
         ],
         "type": "box",
         "y": [
          1.203425904612617e-13,
          8.923974631100025e-14,
          1.0889710300372257e-13,
          1.0757356772332638e-13,
          1.197141104163424e-13,
          1.1104205664072582e-13,
          9.284612794818819e-14,
          1.2692245949708657e-13
         ]
        },
        {
         "boxpoints": "all",
         "hovertemplate": "Epoch: %{text}<br>STD: %{y: .0f}",
         "line": {
          "width": 1
         },
         "marker": {
          "size": 3
         },
         "name": "MEG2041",
         "opacity": 0.7,
         "pointpos": 0,
         "text": [
          0,
          1,
          2,
          3,
          4,
          5,
          6,
          7
         ],
         "type": "box",
         "y": [
          1.087389138346228e-13,
          9.651911702756265e-14,
          1.0015067576958592e-13,
          1.2442765156055596e-13,
          1.4439011089490703e-13,
          8.976781517715014e-14,
          1.007939299541711e-13,
          1.282591629895782e-13
         ]
        },
        {
         "boxpoints": "all",
         "hovertemplate": "Epoch: %{text}<br>STD: %{y: .0f}",
         "line": {
          "width": 1
         },
         "marker": {
          "size": 3
         },
         "name": "MEG2111",
         "opacity": 0.7,
         "pointpos": 0,
         "text": [
          0,
          1,
          2,
          3,
          4,
          5,
          6,
          7
         ],
         "type": "box",
         "y": [
          1.7296432487871823e-13,
          1.308124700798212e-13,
          1.383202090332857e-13,
          1.4929571133230588e-13,
          1.9780558475556873e-13,
          1.5297411675530248e-13,
          1.2746403999325088e-13,
          1.5433188392316454e-13
         ]
        },
        {
         "boxpoints": "all",
         "hovertemplate": "Epoch: %{text}<br>STD: %{y: .0f}",
         "line": {
          "width": 1
         },
         "marker": {
          "size": 3
         },
         "name": "MEG2121",
         "opacity": 0.7,
         "pointpos": 0,
         "text": [
          0,
          1,
          2,
          3,
          4,
          5,
          6,
          7
         ],
         "type": "box",
         "y": [
          2.119879062594719e-13,
          2.0307113997606978e-13,
          2.202092144726308e-13,
          2.002109457051885e-13,
          2.169651644185584e-13,
          2.1442348691821165e-13,
          1.787594879764585e-13,
          1.8075484478830065e-13
         ]
        },
        {
         "boxpoints": "all",
         "hovertemplate": "Epoch: %{text}<br>STD: %{y: .0f}",
         "line": {
          "width": 1
         },
         "marker": {
          "size": 3
         },
         "name": "MEG2131",
         "opacity": 0.7,
         "pointpos": 0,
         "text": [
          0,
          1,
          2,
          3,
          4,
          5,
          6,
          7
         ],
         "type": "box",
         "y": [
          1.8551303011374065e-13,
          1.796836103538963e-13,
          2.158496155003474e-13,
          2.0872883939846124e-13,
          1.8093272268622666e-13,
          1.951618683121038e-13,
          1.840371090292772e-13,
          1.8145871798273264e-13
         ]
        },
        {
         "boxpoints": "all",
         "hovertemplate": "Epoch: %{text}<br>STD: %{y: .0f}",
         "line": {
          "width": 1
         },
         "marker": {
          "size": 3
         },
         "name": "MEG2141",
         "opacity": 0.7,
         "pointpos": 0,
         "text": [
          0,
          1,
          2,
          3,
          4,
          5,
          6,
          7
         ],
         "type": "box",
         "y": [
          1.4322436351800146e-13,
          1.3928775195672433e-13,
          1.3696956874362345e-13,
          1.6124987194098588e-13,
          1.4677797772168218e-13,
          1.451690147164732e-13,
          1.607119875759288e-13,
          1.5319500534124795e-13
         ]
        },
        {
         "boxpoints": "all",
         "hovertemplate": "Epoch: %{text}<br>STD: %{y: .0f}",
         "line": {
          "width": 1
         },
         "marker": {
          "size": 3
         },
         "name": "MEG2211",
         "opacity": 0.7,
         "pointpos": 0,
         "text": [
          0,
          1,
          2,
          3,
          4,
          5,
          6,
          7
         ],
         "type": "box",
         "y": [
          7.259232170082524e-14,
          6.030442061093784e-14,
          5.692708825331106e-14,
          7.682225714784902e-14,
          7.728615795256654e-14,
          7.928928694019544e-14,
          6.249050467483948e-14,
          7.367493811326239e-14
         ]
        },
        {
         "boxpoints": "all",
         "hovertemplate": "Epoch: %{text}<br>STD: %{y: .0f}",
         "line": {
          "width": 1
         },
         "marker": {
          "size": 3
         },
         "name": "MEG2221",
         "opacity": 0.7,
         "pointpos": 0,
         "text": [
          0,
          1,
          2,
          3,
          4,
          5,
          6,
          7
         ],
         "type": "box",
         "y": [
          8.325756526379157e-14,
          7.958146096961559e-14,
          7.935205278546555e-14,
          9.292507717997887e-14,
          9.649712863271525e-14,
          9.867168659882705e-14,
          7.790388518364531e-14,
          1.0562602859991699e-13
         ]
        },
        {
         "boxpoints": "all",
         "hovertemplate": "Epoch: %{text}<br>STD: %{y: .0f}",
         "line": {
          "width": 1
         },
         "marker": {
          "size": 3
         },
         "name": "MEG2231",
         "opacity": 0.7,
         "pointpos": 0,
         "text": [
          0,
          1,
          2,
          3,
          4,
          5,
          6,
          7
         ],
         "type": "box",
         "y": [
          9.377665377007872e-14,
          6.668727249564522e-14,
          7.033446496303929e-14,
          9.103100178357167e-14,
          7.589771095933334e-14,
          7.377917362566631e-14,
          6.266126056960055e-14,
          9.911449334919857e-14
         ]
        },
        {
         "boxpoints": "all",
         "hovertemplate": "Epoch: %{text}<br>STD: %{y: .0f}",
         "line": {
          "width": 1
         },
         "marker": {
          "size": 3
         },
         "name": "MEG2241",
         "opacity": 0.7,
         "pointpos": 0,
         "text": [
          0,
          1,
          2,
          3,
          4,
          5,
          6,
          7
         ],
         "type": "box",
         "y": [
          9.616898848227808e-14,
          8.131968200427683e-14,
          1.0328106394924981e-13,
          1.2123309891194405e-13,
          1.0238466480219815e-13,
          9.824840829716508e-14,
          1.0077098252534727e-13,
          1.0399006510361635e-13
         ]
        },
        {
         "boxpoints": "all",
         "hovertemplate": "Epoch: %{text}<br>STD: %{y: .0f}",
         "line": {
          "width": 1
         },
         "marker": {
          "size": 3
         },
         "name": "MEG2311",
         "opacity": 0.7,
         "pointpos": 0,
         "text": [
          0,
          1,
          2,
          3,
          4,
          5,
          6,
          7
         ],
         "type": "box",
         "y": [
          1.4885011276179691e-13,
          1.0405433338790102e-13,
          1.444604812554969e-13,
          1.3629029480246188e-13,
          1.1805362177590557e-13,
          1.3290175343652372e-13,
          1.1083090061344393e-13,
          1.2904421246595512e-13
         ]
        },
        {
         "boxpoints": "all",
         "hovertemplate": "Epoch: %{text}<br>STD: %{y: .0f}",
         "line": {
          "width": 1
         },
         "marker": {
          "size": 3
         },
         "name": "MEG2321",
         "opacity": 0.7,
         "pointpos": 0,
         "text": [
          0,
          1,
          2,
          3,
          4,
          5,
          6,
          7
         ],
         "type": "box",
         "y": [
          2.074391178121938e-13,
          1.4727359527157508e-13,
          1.7945567355104904e-13,
          1.6301151224201845e-13,
          1.8503676135403942e-13,
          1.84369999816145e-13,
          1.8414249888282202e-13,
          1.8227490851886385e-13
         ]
        },
        {
         "boxpoints": "all",
         "hovertemplate": "Epoch: %{text}<br>STD: %{y: .0f}",
         "line": {
          "width": 1
         },
         "marker": {
          "size": 3
         },
         "name": "MEG2331",
         "opacity": 0.7,
         "pointpos": 0,
         "text": [
          0,
          1,
          2,
          3,
          4,
          5,
          6,
          7
         ],
         "type": "box",
         "y": [
          2.3181803743450783e-13,
          1.688445127812186e-13,
          1.881992200462593e-13,
          1.799723036215924e-13,
          2.363286073876113e-13,
          2.2178064914546716e-13,
          1.7752542451825707e-13,
          1.8470172542237185e-13
         ]
        },
        {
         "boxpoints": "all",
         "hovertemplate": "Epoch: %{text}<br>STD: %{y: .0f}",
         "line": {
          "width": 1
         },
         "marker": {
          "size": 3
         },
         "name": "MEG2341",
         "opacity": 0.7,
         "pointpos": 0,
         "text": [
          0,
          1,
          2,
          3,
          4,
          5,
          6,
          7
         ],
         "type": "box",
         "y": [
          1.1789250085208816e-13,
          7.837062408438257e-14,
          1.1314189400541733e-13,
          1.0832821017173232e-13,
          1.1188400094912663e-13,
          1.2276391777381867e-13,
          8.35660252737235e-14,
          1.1718155752615228e-13
         ]
        },
        {
         "boxpoints": "all",
         "hovertemplate": "Epoch: %{text}<br>STD: %{y: .0f}",
         "line": {
          "width": 1
         },
         "marker": {
          "size": 3
         },
         "name": "MEG2411",
         "opacity": 0.7,
         "pointpos": 0,
         "text": [
          0,
          1,
          2,
          3,
          4,
          5,
          6,
          7
         ],
         "type": "box",
         "y": [
          1.2259684616545488e-13,
          1.0609948416911915e-13,
          1.1332032796092389e-13,
          1.4026018900824203e-13,
          1.4840987834669766e-13,
          1.3442443884510209e-13,
          1.2688820617075348e-13,
          1.4853025159286382e-13
         ]
        },
        {
         "boxpoints": "all",
         "hovertemplate": "Epoch: %{text}<br>STD: %{y: .0f}",
         "line": {
          "width": 1
         },
         "marker": {
          "size": 3
         },
         "name": "MEG2421",
         "opacity": 0.7,
         "pointpos": 0,
         "text": [
          0,
          1,
          2,
          3,
          4,
          5,
          6,
          7
         ],
         "type": "box",
         "y": [
          1.3466315168040205e-13,
          1.31447896684853e-13,
          1.0732285489325353e-13,
          1.3634797859337306e-13,
          1.4876143447455855e-13,
          1.3290049811446737e-13,
          1.230735424354027e-13,
          1.541751769682119e-13
         ]
        },
        {
         "boxpoints": "all",
         "hovertemplate": "Epoch: %{text}<br>STD: %{y: .0f}",
         "line": {
          "width": 1
         },
         "marker": {
          "size": 3
         },
         "name": "MEG2431",
         "opacity": 0.7,
         "pointpos": 0,
         "text": [
          0,
          1,
          2,
          3,
          4,
          5,
          6,
          7
         ],
         "type": "box",
         "y": [
          1.784601029455765e-13,
          1.27755908928945e-13,
          1.551328347735817e-13,
          1.4840853595916465e-13,
          1.52110442523317e-13,
          1.6204492302286655e-13,
          1.552456326752433e-13,
          1.6852867984885284e-13
         ]
        },
        {
         "boxpoints": "all",
         "hovertemplate": "Epoch: %{text}<br>STD: %{y: .0f}",
         "line": {
          "width": 1
         },
         "marker": {
          "size": 3
         },
         "name": "MEG2441",
         "opacity": 0.7,
         "pointpos": 0,
         "text": [
          0,
          1,
          2,
          3,
          4,
          5,
          6,
          7
         ],
         "type": "box",
         "y": [
          1.3707903586579853e-13,
          1.0524765021770805e-13,
          1.272687782787577e-13,
          1.3178192661631932e-13,
          1.2993070603630363e-13,
          1.285686151152425e-13,
          1.1887794449363935e-13,
          1.5751310969224366e-13
         ]
        },
        {
         "boxpoints": "all",
         "hovertemplate": "Epoch: %{text}<br>STD: %{y: .0f}",
         "line": {
          "width": 1
         },
         "marker": {
          "size": 3
         },
         "name": "MEG2511",
         "opacity": 0.7,
         "pointpos": 0,
         "text": [
          0,
          1,
          2,
          3,
          4,
          5,
          6,
          7
         ],
         "type": "box",
         "y": [
          2.0833789588190298e-13,
          1.2974980051997375e-13,
          1.5250722476322292e-13,
          1.4100069444668899e-13,
          1.8680265051764953e-13,
          1.8803291610208515e-13,
          1.6481401265491158e-13,
          2.0894848949553306e-13
         ]
        },
        {
         "boxpoints": "all",
         "hovertemplate": "Epoch: %{text}<br>STD: %{y: .0f}",
         "line": {
          "width": 1
         },
         "marker": {
          "size": 3
         },
         "name": "MEG2521",
         "opacity": 0.7,
         "pointpos": 0,
         "text": [
          0,
          1,
          2,
          3,
          4,
          5,
          6,
          7
         ],
         "type": "box",
         "y": [
          1.7882910592753595e-13,
          1.2520228526199148e-13,
          1.344820014235942e-13,
          1.3648495310754507e-13,
          1.4940967734443719e-13,
          1.7735133480259e-13,
          1.351194166432028e-13,
          1.9956361334374437e-13
         ]
        },
        {
         "boxpoints": "all",
         "hovertemplate": "Epoch: %{text}<br>STD: %{y: .0f}",
         "line": {
          "width": 1
         },
         "marker": {
          "size": 3
         },
         "name": "MEG2531",
         "opacity": 0.7,
         "pointpos": 0,
         "text": [
          0,
          1,
          2,
          3,
          4,
          5,
          6,
          7
         ],
         "type": "box",
         "y": [
          1.450988229509652e-13,
          1.4766895267495013e-13,
          1.4571317580732081e-13,
          1.7356070203960832e-13,
          1.5923177443268553e-13,
          1.623847173112951e-13,
          1.5972323244038386e-13,
          1.965911138181672e-13
         ]
        },
        {
         "boxpoints": "all",
         "hovertemplate": "Epoch: %{text}<br>STD: %{y: .0f}",
         "line": {
          "width": 1
         },
         "marker": {
          "size": 3
         },
         "name": "MEG2541",
         "opacity": 0.7,
         "pointpos": 0,
         "text": [
          0,
          1,
          2,
          3,
          4,
          5,
          6,
          7
         ],
         "type": "box",
         "y": [
          1.5208689986646538e-13,
          1.5625579188013927e-13,
          1.828188366779684e-13,
          1.8805191702402612e-13,
          1.7237790712842327e-13,
          1.716893908054778e-13,
          1.7579911981272222e-13,
          1.969232054653501e-13
         ]
        },
        {
         "boxpoints": "all",
         "hovertemplate": "Epoch: %{text}<br>STD: %{y: .0f}",
         "line": {
          "width": 1
         },
         "marker": {
          "size": 3
         },
         "name": "MEG2611",
         "opacity": 0.7,
         "pointpos": 0,
         "text": [
          0,
          1,
          2,
          3,
          4,
          5,
          6,
          7
         ],
         "type": "box",
         "y": [
          1.2407934856059465e-13,
          1.378299598020411e-13,
          1.1490818747118712e-13,
          1.0430445991095317e-13,
          1.2007041443135697e-13,
          1.0627938286492931e-13,
          1.2225096298602004e-13,
          1.2101510249714823e-13
         ]
        },
        {
         "boxpoints": "all",
         "hovertemplate": "Epoch: %{text}<br>STD: %{y: .0f}",
         "line": {
          "width": 1
         },
         "marker": {
          "size": 3
         },
         "name": "MEG2621",
         "opacity": 0.7,
         "pointpos": 0,
         "text": [
          0,
          1,
          2,
          3,
          4,
          5,
          6,
          7
         ],
         "type": "box",
         "y": [
          1.5033774761988993e-13,
          1.362064160949278e-13,
          1.4128614908569779e-13,
          1.7426810516814479e-13,
          1.6851501484118636e-13,
          1.7553806787136617e-13,
          1.5124824509567925e-13,
          1.6708059498742264e-13
         ]
        },
        {
         "boxpoints": "all",
         "hovertemplate": "Epoch: %{text}<br>STD: %{y: .0f}",
         "line": {
          "width": 1
         },
         "marker": {
          "size": 3
         },
         "name": "MEG2631",
         "opacity": 0.7,
         "pointpos": 0,
         "text": [
          0,
          1,
          2,
          3,
          4,
          5,
          6,
          7
         ],
         "type": "box",
         "y": [
          1.3890184209789645e-13,
          1.303849897211365e-13,
          1.2112483458284956e-13,
          1.5756606830689482e-13,
          1.4870579228685192e-13,
          1.5849054044198164e-13,
          1.3956153816709248e-13,
          1.64137982154063e-13
         ]
        },
        {
         "boxpoints": "all",
         "hovertemplate": "Epoch: %{text}<br>STD: %{y: .0f}",
         "line": {
          "width": 1
         },
         "marker": {
          "size": 3
         },
         "name": "MEG2641",
         "opacity": 0.7,
         "pointpos": 0,
         "text": [
          0,
          1,
          2,
          3,
          4,
          5,
          6,
          7
         ],
         "type": "box",
         "y": [
          1.2735871195990883e-13,
          1.179587544168404e-13,
          1.0995247938002067e-13,
          1.007684572748231e-13,
          1.1933951641029336e-13,
          1.0934550111433287e-13,
          1.1522477834431456e-13,
          1.1786343688575827e-13
         ]
        }
       ],
       "layout": {
        "template": {
         "data": {
          "bar": [
           {
            "error_x": {
             "color": "#2a3f5f"
            },
            "error_y": {
             "color": "#2a3f5f"
            },
            "marker": {
             "line": {
              "color": "#E5ECF6",
              "width": 0.5
             },
             "pattern": {
              "fillmode": "overlay",
              "size": 10,
              "solidity": 0.2
             }
            },
            "type": "bar"
           }
          ],
          "barpolar": [
           {
            "marker": {
             "line": {
              "color": "#E5ECF6",
              "width": 0.5
             },
             "pattern": {
              "fillmode": "overlay",
              "size": 10,
              "solidity": 0.2
             }
            },
            "type": "barpolar"
           }
          ],
          "carpet": [
           {
            "aaxis": {
             "endlinecolor": "#2a3f5f",
             "gridcolor": "white",
             "linecolor": "white",
             "minorgridcolor": "white",
             "startlinecolor": "#2a3f5f"
            },
            "baxis": {
             "endlinecolor": "#2a3f5f",
             "gridcolor": "white",
             "linecolor": "white",
             "minorgridcolor": "white",
             "startlinecolor": "#2a3f5f"
            },
            "type": "carpet"
           }
          ],
          "choropleth": [
           {
            "colorbar": {
             "outlinewidth": 0,
             "ticks": ""
            },
            "type": "choropleth"
           }
          ],
          "contour": [
           {
            "colorbar": {
             "outlinewidth": 0,
             "ticks": ""
            },
            "colorscale": [
             [
              0,
              "#0d0887"
             ],
             [
              0.1111111111111111,
              "#46039f"
             ],
             [
              0.2222222222222222,
              "#7201a8"
             ],
             [
              0.3333333333333333,
              "#9c179e"
             ],
             [
              0.4444444444444444,
              "#bd3786"
             ],
             [
              0.5555555555555556,
              "#d8576b"
             ],
             [
              0.6666666666666666,
              "#ed7953"
             ],
             [
              0.7777777777777778,
              "#fb9f3a"
             ],
             [
              0.8888888888888888,
              "#fdca26"
             ],
             [
              1,
              "#f0f921"
             ]
            ],
            "type": "contour"
           }
          ],
          "contourcarpet": [
           {
            "colorbar": {
             "outlinewidth": 0,
             "ticks": ""
            },
            "type": "contourcarpet"
           }
          ],
          "heatmap": [
           {
            "colorbar": {
             "outlinewidth": 0,
             "ticks": ""
            },
            "colorscale": [
             [
              0,
              "#0d0887"
             ],
             [
              0.1111111111111111,
              "#46039f"
             ],
             [
              0.2222222222222222,
              "#7201a8"
             ],
             [
              0.3333333333333333,
              "#9c179e"
             ],
             [
              0.4444444444444444,
              "#bd3786"
             ],
             [
              0.5555555555555556,
              "#d8576b"
             ],
             [
              0.6666666666666666,
              "#ed7953"
             ],
             [
              0.7777777777777778,
              "#fb9f3a"
             ],
             [
              0.8888888888888888,
              "#fdca26"
             ],
             [
              1,
              "#f0f921"
             ]
            ],
            "type": "heatmap"
           }
          ],
          "heatmapgl": [
           {
            "colorbar": {
             "outlinewidth": 0,
             "ticks": ""
            },
            "colorscale": [
             [
              0,
              "#0d0887"
             ],
             [
              0.1111111111111111,
              "#46039f"
             ],
             [
              0.2222222222222222,
              "#7201a8"
             ],
             [
              0.3333333333333333,
              "#9c179e"
             ],
             [
              0.4444444444444444,
              "#bd3786"
             ],
             [
              0.5555555555555556,
              "#d8576b"
             ],
             [
              0.6666666666666666,
              "#ed7953"
             ],
             [
              0.7777777777777778,
              "#fb9f3a"
             ],
             [
              0.8888888888888888,
              "#fdca26"
             ],
             [
              1,
              "#f0f921"
             ]
            ],
            "type": "heatmapgl"
           }
          ],
          "histogram": [
           {
            "marker": {
             "pattern": {
              "fillmode": "overlay",
              "size": 10,
              "solidity": 0.2
             }
            },
            "type": "histogram"
           }
          ],
          "histogram2d": [
           {
            "colorbar": {
             "outlinewidth": 0,
             "ticks": ""
            },
            "colorscale": [
             [
              0,
              "#0d0887"
             ],
             [
              0.1111111111111111,
              "#46039f"
             ],
             [
              0.2222222222222222,
              "#7201a8"
             ],
             [
              0.3333333333333333,
              "#9c179e"
             ],
             [
              0.4444444444444444,
              "#bd3786"
             ],
             [
              0.5555555555555556,
              "#d8576b"
             ],
             [
              0.6666666666666666,
              "#ed7953"
             ],
             [
              0.7777777777777778,
              "#fb9f3a"
             ],
             [
              0.8888888888888888,
              "#fdca26"
             ],
             [
              1,
              "#f0f921"
             ]
            ],
            "type": "histogram2d"
           }
          ],
          "histogram2dcontour": [
           {
            "colorbar": {
             "outlinewidth": 0,
             "ticks": ""
            },
            "colorscale": [
             [
              0,
              "#0d0887"
             ],
             [
              0.1111111111111111,
              "#46039f"
             ],
             [
              0.2222222222222222,
              "#7201a8"
             ],
             [
              0.3333333333333333,
              "#9c179e"
             ],
             [
              0.4444444444444444,
              "#bd3786"
             ],
             [
              0.5555555555555556,
              "#d8576b"
             ],
             [
              0.6666666666666666,
              "#ed7953"
             ],
             [
              0.7777777777777778,
              "#fb9f3a"
             ],
             [
              0.8888888888888888,
              "#fdca26"
             ],
             [
              1,
              "#f0f921"
             ]
            ],
            "type": "histogram2dcontour"
           }
          ],
          "mesh3d": [
           {
            "colorbar": {
             "outlinewidth": 0,
             "ticks": ""
            },
            "type": "mesh3d"
           }
          ],
          "parcoords": [
           {
            "line": {
             "colorbar": {
              "outlinewidth": 0,
              "ticks": ""
             }
            },
            "type": "parcoords"
           }
          ],
          "pie": [
           {
            "automargin": true,
            "type": "pie"
           }
          ],
          "scatter": [
           {
            "marker": {
             "colorbar": {
              "outlinewidth": 0,
              "ticks": ""
             }
            },
            "type": "scatter"
           }
          ],
          "scatter3d": [
           {
            "line": {
             "colorbar": {
              "outlinewidth": 0,
              "ticks": ""
             }
            },
            "marker": {
             "colorbar": {
              "outlinewidth": 0,
              "ticks": ""
             }
            },
            "type": "scatter3d"
           }
          ],
          "scattercarpet": [
           {
            "marker": {
             "colorbar": {
              "outlinewidth": 0,
              "ticks": ""
             }
            },
            "type": "scattercarpet"
           }
          ],
          "scattergeo": [
           {
            "marker": {
             "colorbar": {
              "outlinewidth": 0,
              "ticks": ""
             }
            },
            "type": "scattergeo"
           }
          ],
          "scattergl": [
           {
            "marker": {
             "colorbar": {
              "outlinewidth": 0,
              "ticks": ""
             }
            },
            "type": "scattergl"
           }
          ],
          "scattermapbox": [
           {
            "marker": {
             "colorbar": {
              "outlinewidth": 0,
              "ticks": ""
             }
            },
            "type": "scattermapbox"
           }
          ],
          "scatterpolar": [
           {
            "marker": {
             "colorbar": {
              "outlinewidth": 0,
              "ticks": ""
             }
            },
            "type": "scatterpolar"
           }
          ],
          "scatterpolargl": [
           {
            "marker": {
             "colorbar": {
              "outlinewidth": 0,
              "ticks": ""
             }
            },
            "type": "scatterpolargl"
           }
          ],
          "scatterternary": [
           {
            "marker": {
             "colorbar": {
              "outlinewidth": 0,
              "ticks": ""
             }
            },
            "type": "scatterternary"
           }
          ],
          "surface": [
           {
            "colorbar": {
             "outlinewidth": 0,
             "ticks": ""
            },
            "colorscale": [
             [
              0,
              "#0d0887"
             ],
             [
              0.1111111111111111,
              "#46039f"
             ],
             [
              0.2222222222222222,
              "#7201a8"
             ],
             [
              0.3333333333333333,
              "#9c179e"
             ],
             [
              0.4444444444444444,
              "#bd3786"
             ],
             [
              0.5555555555555556,
              "#d8576b"
             ],
             [
              0.6666666666666666,
              "#ed7953"
             ],
             [
              0.7777777777777778,
              "#fb9f3a"
             ],
             [
              0.8888888888888888,
              "#fdca26"
             ],
             [
              1,
              "#f0f921"
             ]
            ],
            "type": "surface"
           }
          ],
          "table": [
           {
            "cells": {
             "fill": {
              "color": "#EBF0F8"
             },
             "line": {
              "color": "white"
             }
            },
            "header": {
             "fill": {
              "color": "#C8D4E3"
             },
             "line": {
              "color": "white"
             }
            },
            "type": "table"
           }
          ]
         },
         "layout": {
          "annotationdefaults": {
           "arrowcolor": "#2a3f5f",
           "arrowhead": 0,
           "arrowwidth": 1
          },
          "autotypenumbers": "strict",
          "coloraxis": {
           "colorbar": {
            "outlinewidth": 0,
            "ticks": ""
           }
          },
          "colorscale": {
           "diverging": [
            [
             0,
             "#8e0152"
            ],
            [
             0.1,
             "#c51b7d"
            ],
            [
             0.2,
             "#de77ae"
            ],
            [
             0.3,
             "#f1b6da"
            ],
            [
             0.4,
             "#fde0ef"
            ],
            [
             0.5,
             "#f7f7f7"
            ],
            [
             0.6,
             "#e6f5d0"
            ],
            [
             0.7,
             "#b8e186"
            ],
            [
             0.8,
             "#7fbc41"
            ],
            [
             0.9,
             "#4d9221"
            ],
            [
             1,
             "#276419"
            ]
           ],
           "sequential": [
            [
             0,
             "#0d0887"
            ],
            [
             0.1111111111111111,
             "#46039f"
            ],
            [
             0.2222222222222222,
             "#7201a8"
            ],
            [
             0.3333333333333333,
             "#9c179e"
            ],
            [
             0.4444444444444444,
             "#bd3786"
            ],
            [
             0.5555555555555556,
             "#d8576b"
            ],
            [
             0.6666666666666666,
             "#ed7953"
            ],
            [
             0.7777777777777778,
             "#fb9f3a"
            ],
            [
             0.8888888888888888,
             "#fdca26"
            ],
            [
             1,
             "#f0f921"
            ]
           ],
           "sequentialminus": [
            [
             0,
             "#0d0887"
            ],
            [
             0.1111111111111111,
             "#46039f"
            ],
            [
             0.2222222222222222,
             "#7201a8"
            ],
            [
             0.3333333333333333,
             "#9c179e"
            ],
            [
             0.4444444444444444,
             "#bd3786"
            ],
            [
             0.5555555555555556,
             "#d8576b"
            ],
            [
             0.6666666666666666,
             "#ed7953"
            ],
            [
             0.7777777777777778,
             "#fb9f3a"
            ],
            [
             0.8888888888888888,
             "#fdca26"
            ],
            [
             1,
             "#f0f921"
            ]
           ]
          },
          "colorway": [
           "#636efa",
           "#EF553B",
           "#00cc96",
           "#ab63fa",
           "#FFA15A",
           "#19d3f3",
           "#FF6692",
           "#B6E880",
           "#FF97FF",
           "#FECB52"
          ],
          "font": {
           "color": "#2a3f5f"
          },
          "geo": {
           "bgcolor": "white",
           "lakecolor": "white",
           "landcolor": "#E5ECF6",
           "showlakes": true,
           "showland": true,
           "subunitcolor": "white"
          },
          "hoverlabel": {
           "align": "left"
          },
          "hovermode": "closest",
          "mapbox": {
           "style": "light"
          },
          "paper_bgcolor": "white",
          "plot_bgcolor": "#E5ECF6",
          "polar": {
           "angularaxis": {
            "gridcolor": "white",
            "linecolor": "white",
            "ticks": ""
           },
           "bgcolor": "#E5ECF6",
           "radialaxis": {
            "gridcolor": "white",
            "linecolor": "white",
            "ticks": ""
           }
          },
          "scene": {
           "xaxis": {
            "backgroundcolor": "#E5ECF6",
            "gridcolor": "white",
            "gridwidth": 2,
            "linecolor": "white",
            "showbackground": true,
            "ticks": "",
            "zerolinecolor": "white"
           },
           "yaxis": {
            "backgroundcolor": "#E5ECF6",
            "gridcolor": "white",
            "gridwidth": 2,
            "linecolor": "white",
            "showbackground": true,
            "ticks": "",
            "zerolinecolor": "white"
           },
           "zaxis": {
            "backgroundcolor": "#E5ECF6",
            "gridcolor": "white",
            "gridwidth": 2,
            "linecolor": "white",
            "showbackground": true,
            "ticks": "",
            "zerolinecolor": "white"
           }
          },
          "shapedefaults": {
           "line": {
            "color": "#2a3f5f"
           }
          },
          "ternary": {
           "aaxis": {
            "gridcolor": "white",
            "linecolor": "white",
            "ticks": ""
           },
           "baxis": {
            "gridcolor": "white",
            "linecolor": "white",
            "ticks": ""
           },
           "bgcolor": "#E5ECF6",
           "caxis": {
            "gridcolor": "white",
            "linecolor": "white",
            "ticks": ""
           }
          },
          "title": {
           "x": 0.05
          },
          "xaxis": {
           "automargin": true,
           "gridcolor": "white",
           "linecolor": "white",
           "ticks": "",
           "title": {
            "standoff": 15
           },
           "zerolinecolor": "white",
           "zerolinewidth": 2
          },
          "yaxis": {
           "automargin": true,
           "gridcolor": "white",
           "linecolor": "white",
           "ticks": "",
           "title": {
            "standoff": 15
           },
           "zerolinecolor": "white",
           "zerolinewidth": 2
          }
         }
        },
        "title": {
         "text": "STDs over epochs for Magnetometers",
         "x": 0.5,
         "xanchor": "center",
         "y": 0.85,
         "yanchor": "top"
        },
        "xaxis": {
         "rangeslider": {
          "visible": true
         },
         "tickmode": "array",
         "ticktext": [
          "MEG0111",
          "MEG0121",
          "MEG0131",
          "MEG0141",
          "MEG0211",
          "MEG0221",
          "MEG0231",
          "MEG0241",
          "MEG0311",
          "MEG0321",
          "MEG0331",
          "MEG0341",
          "MEG0411",
          "MEG0421",
          "MEG0431",
          "MEG0441",
          "MEG0511",
          "MEG0521",
          "MEG0531",
          "MEG0541",
          "MEG0611",
          "MEG0621",
          "MEG0631",
          "MEG0641",
          "MEG0711",
          "MEG0721",
          "MEG0731",
          "MEG0741",
          "MEG0811",
          "MEG0821",
          "MEG0911",
          "MEG0921",
          "MEG0931",
          "MEG0941",
          "MEG1011",
          "MEG1021",
          "MEG1031",
          "MEG1041",
          "MEG1111",
          "MEG1121",
          "MEG1131",
          "MEG1141",
          "MEG1211",
          "MEG1221",
          "MEG1231",
          "MEG1241",
          "MEG1311",
          "MEG1321",
          "MEG1331",
          "MEG1341",
          "MEG1411",
          "MEG1421",
          "MEG1431",
          "MEG1441",
          "MEG1511",
          "MEG1521",
          "MEG1531",
          "MEG1541",
          "MEG1611",
          "MEG1621",
          "MEG1631",
          "MEG1641",
          "MEG1711",
          "MEG1721",
          "MEG1731",
          "MEG1741",
          "MEG1811",
          "MEG1821",
          "MEG1831",
          "MEG1841",
          "MEG1911",
          "MEG1921",
          "MEG1931",
          "MEG1941",
          "MEG2011",
          "MEG2021",
          "MEG2031",
          "MEG2041",
          "MEG2111",
          "MEG2121",
          "MEG2131",
          "MEG2141",
          "MEG2211",
          "MEG2221",
          "MEG2231",
          "MEG2241",
          "MEG2311",
          "MEG2321",
          "MEG2331",
          "MEG2341",
          "MEG2411",
          "MEG2421",
          "MEG2431",
          "MEG2441",
          "MEG2511",
          "MEG2521",
          "MEG2531",
          "MEG2541",
          "MEG2611",
          "MEG2621",
          "MEG2631",
          "MEG2641"
         ],
         "tickvals": [
          0,
          1,
          2,
          3,
          4,
          5,
          6,
          7,
          8,
          9,
          10,
          11,
          12,
          13,
          14,
          15,
          16,
          17,
          18,
          19,
          20,
          21,
          22,
          23,
          24,
          25,
          26,
          27,
          28,
          29,
          30,
          31,
          32,
          33,
          34,
          35,
          36,
          37,
          38,
          39,
          40,
          41,
          42,
          43,
          44,
          45,
          46,
          47,
          48,
          49,
          50,
          51,
          52,
          53,
          54,
          55,
          56,
          57,
          58,
          59,
          60,
          61,
          62,
          63,
          64,
          65,
          66,
          67,
          68,
          69,
          70,
          71,
          72,
          73,
          74,
          75,
          76,
          77,
          78,
          79,
          80,
          81,
          82,
          83,
          84,
          85,
          86,
          87,
          88,
          89,
          90,
          91,
          92,
          93,
          94,
          95,
          96,
          97,
          98,
          99,
          100,
          101
         ]
        },
        "yaxis": {
         "exponentformat": "e",
         "showexponent": "all"
        }
       }
      }
     },
     "metadata": {},
     "output_type": "display_data"
    }
   ],
   "source": [
    "fig_mags_std_epoch=boxplot_std_channel_epoch_hovering_plotly(df_mg=df_std_mags, tit='Magnetometers', sid='1')"
   ]
  },
  {
   "cell_type": "code",
   "execution_count": 15,
   "metadata": {},
   "outputs": [],
   "source": [
    "def add_plot_slider(Fig, Axis, ylim_min, ylim_max, x_ax_list):\n",
    "\n",
    "    from matplotlib.widgets import Slider\n",
    "\n",
    "    # Choose the Slider color\n",
    "    slider_color = 'White'\n",
    "    \n",
    "    # Set the axis and slider position in the plot\n",
    "    axis_position = plt.axes([0.2, 0.11, 0.65, 0.03],facecolor = slider_color)\n",
    "    #slider_position = Slider(axis_position,'Pos', 0.1, 90.0)\n",
    "    slider_object = Slider(axis_position,label=' ', valmin=-1, valmax=len(x_ax_list)-1)\n",
    "    \n",
    "    # update_slider() function to change the graph when the slider is in use\n",
    "    def update_slider(val):\n",
    "        pos = slider_object.val\n",
    "        Axis.axis([pos, pos+15, ylim_min*0.8, ylim_max*1.05]) #0.4e-13, 2.5e-13])\n",
    "        #arguments: starting position, how many elements on x axis in 1 window, ylimit bottom, ylimit top\n",
    "        #ylimits are set so that they will be slightly under the minimum of the whole data and over the maxinum.\n",
    "       \n",
    "        #arguments: starting position, how many elements on x axis in 1 window, ylimit bottom, ylimit top\n",
    "        #ylimits are set so that they will be slightly under the minimum of the whole data and over the maxinum.\n",
    "\n",
    "        Fig.canvas.draw_idle()\n",
    "    \n",
    "    # update function called using on_changed() function\n",
    "    slider_object.on_changed(update_slider)\n",
    "\n",
    "    return slider_object"
   ]
  },
  {
   "cell_type": "code",
   "execution_count": 16,
   "metadata": {},
   "outputs": [],
   "source": [
    "def boxplot_std_channel_epoch_hovering(df_mg, tit, sid):\n",
    "\n",
    "#note: no hovering labels yet - need to do. BUT do we even want such a messy plot? How can we even hover over it?\n",
    "\n",
    "\n",
    "#This function creates a plot of multiple boxplots: each boxplot is 1 channel. \n",
    "#insode of each box: the dots are the stds of epochs for this particular channel. \n",
    "#The dots by hoverig over them will show the epoch number.\n",
    "# data for each epoch and channel is created by RMSE_meg_epoch func and  stored in df_std_mags, df_std_grads \n",
    "# and also exported as std_mags_per_epoch.csv and std_grads_per_epoch.csv in derovatives folder\n",
    "\n",
    "    from matplotlib import pyplot as plt\n",
    "\n",
    "    #transpose the data to plot the boxplots on x axes\n",
    "    df_mg_transposed = df_mg.T \n",
    "\n",
    "    #exchange the names of columns into numbers for plottings:\n",
    "    df_mg_transposed_new=df_mg_transposed.copy()\n",
    "    new_cols=[*range(0, df_mg_transposed.shape[1])]\n",
    "    df_mg_transposed_new.columns = new_cols\n",
    "\n",
    "    #collect all names of original df into a list to use as tick labels:\n",
    "    ch_names=list(df_mg_transposed) \n",
    "\n",
    "    #find overall min and max of STDs for this data set to use in slider:\n",
    "    ylim_min=df_mg_transposed_new.to_numpy().min()\n",
    "    ylim_max=df_mg_transposed_new.to_numpy().max()\n",
    "\n",
    "\n",
    "    #plot boxplot and scatter on the loop: one iteration - 1 channel (df column):\n",
    "    # Setting Plot and Axis variables as subplots()\n",
    "    # function returns tuple(fig, ax)\n",
    "    fig, ax = plt.subplots()\n",
    "    sc_boxes=[] #collect all scatter dots (as plot object, not just values!) in each boxplot here\n",
    "    for i in range(df_mg_transposed_new.shape[1]):\n",
    "        bp=plt.boxplot(df_mg_transposed_new.iloc[:,i].values, positions = [i], showfliers=False)\n",
    "\n",
    "        sc_x=[i]*len(df_mg_transposed_new.iloc[:,i].values)\n",
    "        sc_y=df_mg_transposed_new.iloc[:,i].values\n",
    "        sc_box = plt.scatter(sc_x, sc_y, color=\".25\", s=3) \n",
    "        sc_boxes.append(sc_box)\n",
    "        #sc_x: list of integers, which number is equal to number of data points and value is equal to position on x axis \n",
    "        #(example: 200 zeros for first channel, 200 ones for next channel, etc..),\n",
    "        #sc_y:data values themselves\n",
    "\n",
    "\n",
    "    #ax.set_xticks(new_cols, labels=ch_names, rotation=90, fontsize=7) #one liner doesnt work in all matplotlib versions it seems\n",
    "    ax.set_xticks(new_cols)\n",
    "    ax.set_xticklabels(ch_names, rotation=90, fontsize=7)\n",
    "    #ax.set_xlim(-0.5, 9.5) #can limit some boxplots here\n",
    "    ax.set_title('STDs over epochs for '+tit)\n",
    "    plt.ylabel(\"Standard deviation\")\n",
    "\n",
    "\n",
    "    #SLIDER: need to return slider object, otherwise it doesnt work.\n",
    "    slider=add_plot_slider(fig, ax, ylim_min, ylim_max, ch_names)\n",
    "\n",
    "    #HOVERING:\n",
    "    #collect epoch numbers here to use as name of dots on scatter\n",
    "    dots_names=list(str(x) for x in df_std_mags) \n",
    "    add_hovering_on_scatter(fig, ax, sc_boxes, dots_names)\n",
    "\n",
    "    plt.show() \n",
    "\n",
    "    ax.set_title(tit)\n",
    "\n",
    "    #Saving interactive figure:..\n",
    "    import pickle\n",
    "    fig_name='Stds_epochs_per_channel_'+tit+'.fig.pickle'\n",
    "    fig_path='../derivatives/sub-'+sid+'/megqc/figures/'+fig_name\n",
    "    f_handle=open(fig_path, 'wb') # This is for Python 3 - py2 may need `file` instead of `open`, 'wb' means 'write binary' \n",
    "    pickle.dump(fig,f_handle) #save\n",
    "    f_handle.close() #close the binary file\n",
    "    \n",
    "    #plt.close('all') #close the figures\n",
    "\n",
    "    return(fig_path)"
   ]
  },
  {
   "cell_type": "code",
   "execution_count": 17,
   "metadata": {},
   "outputs": [],
   "source": [
    "#run interactive plot for magnetometers only:\n",
    "\n",
    "fig_path_ch_ep=boxplot_std_channel_epoch_hovering(df_mg=df_std_mags, tit='Magnetometers', sid='1')"
   ]
  },
  {
   "cell_type": "code",
   "execution_count": 18,
   "metadata": {},
   "outputs": [],
   "source": [
    "# Reopen saved interactive figure with pickle: interactive doesnt work any more when reopen!\n",
    "import pickle\n",
    "figx = pickle.load(open(fig_path_ch_ep, 'rb'))\n",
    "figx.show() "
   ]
  },
  {
   "cell_type": "code",
   "execution_count": 19,
   "metadata": {},
   "outputs": [],
   "source": [
    "def boxplot_std_channel_epoch_hovering_html(df_mg, tit, sid):\n",
    "\n",
    "#note: no hovering labels yet - need to do. BUT do we even want such a messy plot? How can we even hover over it?\n",
    "\n",
    "\n",
    "#This function creates a plot of multiple boxplots: each boxplot is 1 channel. \n",
    "#insode of each box: the dots are the stds of epochs for this particular channel. \n",
    "#The dots by hoverig over them will show the epoch number.\n",
    "# data for each epoch and channel is created by RMSE_meg_epoch func and  stored in df_std_mags, df_std_grads \n",
    "# and also exported as std_mags_per_epoch.csv and std_grads_per_epoch.csv in derovatives folder\n",
    "\n",
    "    from matplotlib import pyplot as plt\n",
    "\n",
    "    #transpose the data to plot the boxplots on x axes\n",
    "    df_mg_transposed = df_mg.T \n",
    "\n",
    "    #exchange the names of columns into numbers for plottings:\n",
    "    df_mg_transposed_new=df_mg_transposed.copy()\n",
    "    new_cols=[*range(0, df_mg_transposed.shape[1])]\n",
    "    df_mg_transposed_new.columns = new_cols\n",
    "\n",
    "    #collect all names of original df into a list to use as tick labels:\n",
    "    ch_names=list(df_mg_transposed) \n",
    "\n",
    "    #find overall min and max of STDs for this data set to use in slider:\n",
    "    ylim_min=df_mg_transposed_new.to_numpy().min()\n",
    "    ylim_max=df_mg_transposed_new.to_numpy().max()\n",
    "\n",
    "\n",
    "    #plot boxplot and scatter on the loop: one iteration - 1 channel (df column):\n",
    "    # Setting Plot and Axis variables as subplots()\n",
    "    # function returns tuple(fig, ax)\n",
    "\n",
    "    import mpld3 \n",
    "    dots_names=list(str(x) for x in df_std_mags) \n",
    "    labels = dots_names\n",
    "\n",
    "    fig, ax = plt.subplots()\n",
    "    #sc_boxes=[] #collect all scatter dots (as plot object, not just values!) in each boxplot here\n",
    "    for i in range(df_mg_transposed_new.shape[1]):\n",
    "        bp=plt.boxplot(df_mg_transposed_new.iloc[:,i].values, positions = [i], showfliers=False)\n",
    "\n",
    "        sc_x=[i]*len(df_mg_transposed_new.iloc[:,i].values)\n",
    "        sc_y=df_mg_transposed_new.iloc[:,i].values\n",
    "        sc_box = plt.scatter(sc_x, sc_y, s=2) #, color=\".25\") \n",
    "        tooltip = mpld3.plugins.PointLabelTooltip(sc_box, labels, hoffset=13, voffset=12)\n",
    "        mpld3.plugins.connect(fig, tooltip)\n",
    "        #sc_boxes.append(sc_box)\n",
    "        #sc_x: list of integers, which number is equal to number of data points and value is equal to position on x axis \n",
    "        #(example: 200 zeros for first channel, 200 ones for next channel, etc..),\n",
    "        #sc_y:data values themselves\n",
    "    \n",
    "    ind = range(1, len(df_mg)+1)\n",
    "    ax.set_xticks(ind)\n",
    "    ax.set_xticklabels(ch_names, rotation=90, fontsize=7)\n",
    "\n",
    "    #ax.set_xticks(new_cols)\n",
    "    #ax.set_xticklabels(ch_names, rotation=90, fontsize=7)\n",
    "    #ax.set_xlim(-0.5, 9.5) #can limit some boxplots here\n",
    "    ax.set_title('STDs over epochs for '+tit, fontsize = 25)\n",
    "    plt.ylabel(\"Standard deviation\", fontsize = 18)\n",
    "\n",
    "    # #SLIDER: need to return slider object, otherwise it doesnt work.\n",
    "    # slider=add_plot_slider(fig, ax, ylim_min, ylim_max, ch_names)\n",
    "\n",
    "    # #HOVERING:\n",
    "    # #collect epoch numbers here to use as name of dots on scatter\n",
    "    # dots_names=list(str(x) for x in df_std_mags) \n",
    "    # add_hovering_on_scatter(fig, ax, sc_boxes, dots_names)\n",
    "\n",
    "    fig_name='Stds_epochs_per_channel_'+tit+'.html'\n",
    "    fig_path='../derivatives/sub-'+sid+'/megqc/figures/'+fig_name\n",
    "    mpld3.save_html(fig, fig_path)\n",
    "\n",
    "\n",
    "    return(fig_path)"
   ]
  },
  {
   "cell_type": "code",
   "execution_count": 20,
   "metadata": {},
   "outputs": [],
   "source": [
    "fig_path_html=boxplot_std_channel_epoch_hovering_html(df_mg=df_std_mags, tit='Magnetometers', sid='1')\n",
    "\n",
    "#THIS WILL CREATE THE FIGURE AND SAVE IN DERIVATIVES/FIGURES AS HTML. JUST OPEN IT THERE\n",
    "\n",
    "# https://stackoverflow.com/questions/35446525/setting-tick-labels-in-mpld3\n",
    "# mpld3 does not support ticks! as well as ticks rotation. which we really need, since channel names serve as ticks. :(\n",
    "# Besides, this package doesnt just export my figures inti html, it needs to write the whole hovering and slider things \n",
    "# from the start using their way"
   ]
  },
  {
   "cell_type": "code",
   "execution_count": 26,
   "metadata": {},
   "outputs": [
    {
     "data": {
      "application/vnd.plotly.v1+json": {
       "config": {
        "plotlyServerURL": "https://plot.ly"
       },
       "data": [
        {
         "boxpoints": "all",
         "name": "MEG0111",
         "pointpos": 0,
         "type": "box",
         "y": [
          1.32528280845869e-13,
          1.1630836870227407e-13,
          1.271143729912133e-13,
          1.5765947270757759e-13,
          1.6460744851676256e-13,
          1.4261713574224245e-13,
          1.2113399057446468e-13,
          1.4804860614390638e-13
         ]
        },
        {
         "boxpoints": "all",
         "name": "MEG0121",
         "pointpos": 0,
         "type": "box",
         "y": [
          8.536337345494982e-14,
          9.04308576697243e-14,
          7.562593942697918e-14,
          1.4511991037242926e-13,
          8.870209937816291e-14,
          7.407725693798504e-14,
          8.786774525307712e-14,
          1.0667152545471412e-13
         ]
        },
        {
         "boxpoints": "all",
         "name": "MEG0131",
         "pointpos": 0,
         "type": "box",
         "y": [
          7.684145950571286e-14,
          7.206944438785856e-14,
          7.998339010023375e-14,
          9.714822977449819e-14,
          9.026858097766963e-14,
          6.608875436372557e-14,
          9.047839293861901e-14,
          9.298711456760903e-14
         ]
        },
        {
         "boxpoints": "all",
         "name": "MEG0141",
         "pointpos": 0,
         "type": "box",
         "y": [
          1.2027380526312693e-13,
          1.1659615292321706e-13,
          1.1463351645058504e-13,
          1.5933363387057302e-13,
          1.2557848327967177e-13,
          1.316861972345636e-13,
          1.2141428178508244e-13,
          1.4171733341894903e-13
         ]
        },
        {
         "boxpoints": "all",
         "name": "MEG0211",
         "pointpos": 0,
         "type": "box",
         "y": [
          1.0678165118560899e-13,
          9.905669776049465e-14,
          1.1296894148970592e-13,
          9.712960470697888e-14,
          1.0153318450768074e-13,
          1.1467087712624482e-13,
          1.087693517254949e-13,
          1.5854551265143065e-13
         ]
        },
        {
         "boxpoints": "all",
         "name": "MEG0221",
         "pointpos": 0,
         "type": "box",
         "y": [
          8.878269870024395e-14,
          8.583636314949841e-14,
          8.980550546474317e-14,
          7.982587037246769e-14,
          8.371668335222908e-14,
          1.0360406000887312e-13,
          8.63503119561481e-14,
          9.88307421906516e-14
         ]
        },
        {
         "boxpoints": "all",
         "name": "MEG0231",
         "pointpos": 0,
         "type": "box",
         "y": [
          1.126011150532829e-13,
          9.422330022718308e-14,
          1.0036710895776835e-13,
          9.406321373593932e-14,
          1.0609891554515957e-13,
          1.0268939637172957e-13,
          1.1181973663184111e-13,
          1.3300446421905957e-13
         ]
        },
        {
         "boxpoints": "all",
         "name": "MEG0241",
         "pointpos": 0,
         "type": "box",
         "y": [
          1.5001397064394195e-13,
          9.996268464604931e-14,
          1.1096310719592711e-13,
          1.2259875548331544e-13,
          1.3070623812163628e-13,
          1.280036918323418e-13,
          1.339498284856992e-13,
          2.0179555215086991e-13
         ]
        },
        {
         "boxpoints": "all",
         "name": "MEG0311",
         "pointpos": 0,
         "type": "box",
         "y": [
          1.1159100683394759e-13,
          8.863800377917306e-14,
          1.141384751632673e-13,
          1.1264852488060526e-13,
          1.215948964465385e-13,
          1.2556828357550695e-13,
          9.54209337561959e-14,
          1.2323552237159006e-13
         ]
        },
        {
         "boxpoints": "all",
         "name": "MEG0321",
         "pointpos": 0,
         "type": "box",
         "y": [
          8.183729196615636e-14,
          7.651738800071816e-14,
          8.6046991315331e-14,
          8.830505378576113e-14,
          8.095773868188226e-14,
          1.053931769668237e-13,
          8.729807455946506e-14,
          8.595308542955487e-14
         ]
        },
        {
         "boxpoints": "all",
         "name": "MEG0331",
         "pointpos": 0,
         "type": "box",
         "y": [
          6.688048453433856e-14,
          6.300501963893282e-14,
          6.002718781333525e-14,
          7.491451572734227e-14,
          6.496245418840289e-14,
          8.132958649526336e-14,
          7.261965036141445e-14,
          9.319003732861832e-14
         ]
        },
        {
         "boxpoints": "all",
         "name": "MEG0341",
         "pointpos": 0,
         "type": "box",
         "y": [
          8.301063192391248e-14,
          7.770189546199207e-14,
          9.759088000393463e-14,
          9.450637166596396e-14,
          7.500728926637331e-14,
          1.060004880135743e-13,
          9.260558215659434e-14,
          9.672272034831157e-14
         ]
        },
        {
         "boxpoints": "all",
         "name": "MEG0411",
         "pointpos": 0,
         "type": "box",
         "y": [
          8.193084227547452e-14,
          8.327280757481966e-14,
          7.451236734605403e-14,
          8.005085142790062e-14,
          6.957361511234816e-14,
          9.523297865347813e-14,
          7.96434613178212e-14,
          8.538913294707815e-14
         ]
        },
        {
         "boxpoints": "all",
         "name": "MEG0421",
         "pointpos": 0,
         "type": "box",
         "y": [
          5.681428064265987e-14,
          4.898972172835625e-14,
          5.056382870325123e-14,
          6.777840470298889e-14,
          4.785336584374184e-14,
          6.49346912433127e-14,
          6.060551077126466e-14,
          6.977003411123842e-14
         ]
        },
        {
         "boxpoints": "all",
         "name": "MEG0431",
         "pointpos": 0,
         "type": "box",
         "y": [
          7.28597547800466e-14,
          5.475334179911457e-14,
          5.781634682202844e-14,
          6.325962627124777e-14,
          5.487391607641802e-14,
          6.805897693927217e-14,
          6.782652318835468e-14,
          8.496869742604878e-14
         ]
        },
        {
         "boxpoints": "all",
         "name": "MEG0441",
         "pointpos": 0,
         "type": "box",
         "y": [
          7.331515232661168e-14,
          8.558426742997171e-14,
          7.140238096565009e-14,
          7.277372502106879e-14,
          7.769317000878739e-14,
          7.54892482403884e-14,
          7.051266480902107e-14,
          8.895249262594469e-14
         ]
        },
        {
         "boxpoints": "all",
         "name": "MEG0511",
         "pointpos": 0,
         "type": "box",
         "y": [
          1.3727821336456833e-13,
          1.1955224783317604e-13,
          1.8758209908200274e-13,
          1.6970375767400243e-13,
          1.6087555534035702e-13,
          1.6313833784660387e-13,
          1.4438867873759406e-13,
          1.8438113075784075e-13
         ]
        },
        {
         "boxpoints": "all",
         "name": "MEG0521",
         "pointpos": 0,
         "type": "box",
         "y": [
          1.458053378924497e-13,
          1.1787191213418397e-13,
          2.0080670940914382e-13,
          1.8583879769720244e-13,
          1.656322399297395e-13,
          1.7275949933538974e-13,
          1.4555514254552558e-13,
          1.8759413514429281e-13
         ]
        },
        {
         "boxpoints": "all",
         "name": "MEG0531",
         "pointpos": 0,
         "type": "box",
         "y": [
          7.928668668310803e-14,
          6.970764350340987e-14,
          9.64754094270363e-14,
          8.784525755659022e-14,
          9.018448727657523e-14,
          7.072964189432744e-14,
          6.475511840770326e-14,
          8.676392977563255e-14
         ]
        },
        {
         "boxpoints": "all",
         "name": "MEG0541",
         "pointpos": 0,
         "type": "box",
         "y": [
          1.0013821518628347e-13,
          8.405083223404003e-14,
          9.954590082838562e-14,
          9.459921362264077e-14,
          9.760162691824257e-14,
          8.577990286967252e-14,
          9.782068038486805e-14,
          9.875318727823019e-14
         ]
        },
        {
         "boxpoints": "all",
         "name": "MEG0611",
         "pointpos": 0,
         "type": "box",
         "y": [
          5.958361679120158e-14,
          5.32592059112031e-14,
          5.88006171996888e-14,
          7.045561719378417e-14,
          7.13080611390202e-14,
          6.26480165625814e-14,
          7.153423875096935e-14,
          6.288812214320515e-14
         ]
        },
        {
         "boxpoints": "all",
         "name": "MEG0621",
         "pointpos": 0,
         "type": "box",
         "y": [
          5.748080660404585e-14,
          5.0560661302494913e-14,
          6.20328995564232e-14,
          6.047413502041056e-14,
          6.208827405739412e-14,
          6.843730484810456e-14,
          5.261265914523133e-14,
          5.787727029268042e-14
         ]
        },
        {
         "boxpoints": "all",
         "name": "MEG0631",
         "pointpos": 0,
         "type": "box",
         "y": [
          4.820391727926575e-14,
          5.720186482781814e-14,
          5.5327298649542266e-14,
          4.924793944252858e-14,
          5.1225354841905096e-14,
          5.4029261535029963e-14,
          5.815932109878714e-14,
          4.922279121544246e-14
         ]
        },
        {
         "boxpoints": "all",
         "name": "MEG0641",
         "pointpos": 0,
         "type": "box",
         "y": [
          4.956710395489742e-14,
          5.4249123212512826e-14,
          5.754094997686408e-14,
          6.579838374914935e-14,
          6.600428207257679e-14,
          5.0022769592098275e-14,
          5.853935970696951e-14,
          6.764292248703988e-14
         ]
        },
        {
         "boxpoints": "all",
         "name": "MEG0711",
         "pointpos": 0,
         "type": "box",
         "y": [
          7.311960727127964e-14,
          6.609683245480686e-14,
          8.188463290737183e-14,
          6.991887940447457e-14,
          6.60326388852251e-14,
          7.021485458798352e-14,
          9.564979790530781e-14,
          9.201682261643829e-14
         ]
        },
        {
         "boxpoints": "all",
         "name": "MEG0721",
         "pointpos": 0,
         "type": "box",
         "y": [
          7.744867825314551e-14,
          8.984878479292033e-14,
          8.031480756331998e-14,
          8.63894018267764e-14,
          8.808164751041973e-14,
          9.762162524589813e-14,
          1.060536044213978e-13,
          9.447359427766524e-14
         ]
        },
        {
         "boxpoints": "all",
         "name": "MEG0731",
         "pointpos": 0,
         "type": "box",
         "y": [
          8.007197817545774e-14,
          7.883837130936376e-14,
          9.637776465550007e-14,
          1.0369985250012638e-13,
          8.989668809784896e-14,
          9.466125311971603e-14,
          1.162632083112452e-13,
          9.886128321802194e-14
         ]
        },
        {
         "boxpoints": "all",
         "name": "MEG0741",
         "pointpos": 0,
         "type": "box",
         "y": [
          8.958883057995508e-14,
          1.0086429892931406e-13,
          1.0382789656479817e-13,
          9.740807176703629e-14,
          1.043472434398613e-13,
          9.28943681842835e-14,
          1.1192821345357559e-13,
          1.1146982957822396e-13
         ]
        },
        {
         "boxpoints": "all",
         "name": "MEG0811",
         "pointpos": 0,
         "type": "box",
         "y": [
          1.2822720524923437e-13,
          9.706601844236757e-14,
          1.5720680817007643e-13,
          1.5363971971446776e-13,
          1.402520167337868e-13,
          1.525647324117493e-13,
          1.2157212716304514e-13,
          1.6151351858517734e-13
         ]
        },
        {
         "boxpoints": "all",
         "name": "MEG0821",
         "pointpos": 0,
         "type": "box",
         "y": [
          6.566647605201747e-14,
          5.484491776943054e-14,
          6.27567078244119e-14,
          6.702261967262312e-14,
          6.058663958316924e-14,
          5.946843790789184e-14,
          5.682399827257962e-14,
          6.946451446511439e-14
         ]
        },
        {
         "boxpoints": "all",
         "name": "MEG0911",
         "pointpos": 0,
         "type": "box",
         "y": [
          1.0611641720256665e-13,
          7.571499154848251e-14,
          1.2635956432611437e-13,
          1.2845278175107656e-13,
          1.1655076562579121e-13,
          1.183991313266482e-13,
          1.0006619373318779e-13,
          1.411087730155094e-13
         ]
        },
        {
         "boxpoints": "all",
         "name": "MEG0921",
         "pointpos": 0,
         "type": "box",
         "y": [
          7.729826570608249e-14,
          7.502044852670342e-14,
          7.684677535304628e-14,
          9.159945291778598e-14,
          9.205688785830725e-14,
          8.842174538526242e-14,
          9.097082545145215e-14,
          1.024283132231471e-13
         ]
        },
        {
         "boxpoints": "all",
         "name": "MEG0931",
         "pointpos": 0,
         "type": "box",
         "y": [
          8.291283374997416e-14,
          6.439806133625492e-14,
          9.589280962126819e-14,
          7.687975895217155e-14,
          7.500851404791323e-14,
          6.454893342146428e-14,
          7.321520806441294e-14,
          1.0972342277408159e-13
         ]
        },
        {
         "boxpoints": "all",
         "name": "MEG0941",
         "pointpos": 0,
         "type": "box",
         "y": [
          6.465149400564052e-14,
          5.254115345840101e-14,
          6.638907737656365e-14,
          7.192148995359999e-14,
          5.640712962423859e-14,
          6.522837174256677e-14,
          5.682219166606271e-14,
          8.805615956141019e-14
         ]
        },
        {
         "boxpoints": "all",
         "name": "MEG1011",
         "pointpos": 0,
         "type": "box",
         "y": [
          7.424816898090216e-14,
          6.123148410892988e-14,
          7.018978957000037e-14,
          1.108516111758277e-13,
          7.723683102476495e-14,
          9.017935695926581e-14,
          8.684307374085914e-14,
          9.064635191594967e-14
         ]
        },
        {
         "boxpoints": "all",
         "name": "MEG1021",
         "pointpos": 0,
         "type": "box",
         "y": [
          7.491828248190454e-14,
          5.878534921249124e-14,
          8.172068482615085e-14,
          8.796539659322913e-14,
          7.012673116576177e-14,
          9.07910236538127e-14,
          8.187067513709752e-14,
          8.26581183590536e-14
         ]
        },
        {
         "boxpoints": "all",
         "name": "MEG1031",
         "pointpos": 0,
         "type": "box",
         "y": [
          8.010514928211035e-14,
          5.6803538340586716e-14,
          7.634814967950322e-14,
          8.38243616645262e-14,
          7.27481865683172e-14,
          8.383328444199126e-14,
          6.903210833490815e-14,
          8.09165262857881e-14
         ]
        },
        {
         "boxpoints": "all",
         "name": "MEG1041",
         "pointpos": 0,
         "type": "box",
         "y": [
          6.255613058811377e-14,
          5.852832490333046e-14,
          4.5756668690810984e-14,
          6.272323016571755e-14,
          5.892512576632547e-14,
          5.84271385671796e-14,
          5.698840642772032e-14,
          6.920568868986543e-14
         ]
        },
        {
         "boxpoints": "all",
         "name": "MEG1111",
         "pointpos": 0,
         "type": "box",
         "y": [
          8.617171466556344e-14,
          6.474037261463299e-14,
          8.017295947146958e-14,
          9.818768246683809e-14,
          7.547561706785088e-14,
          7.527030925256372e-14,
          7.46177692133474e-14,
          7.773315046159137e-14
         ]
        },
        {
         "boxpoints": "all",
         "name": "MEG1121",
         "pointpos": 0,
         "type": "box",
         "y": [
          1.2194875659424137e-13,
          8.865553473347e-14,
          1.3031256924973379e-13,
          1.4221527164474642e-13,
          1.1982229832631946e-13,
          1.1124089160195723e-13,
          1.1310175764147415e-13,
          1.2860105323239406e-13
         ]
        },
        {
         "boxpoints": "all",
         "name": "MEG1131",
         "pointpos": 0,
         "type": "box",
         "y": [
          1.0158149597354705e-13,
          9.272584694005677e-14,
          1.2642870163321006e-13,
          1.3909474820460032e-13,
          1.0873139179160789e-13,
          9.688440900893049e-14,
          9.512284228548365e-14,
          1.3625719499046347e-13
         ]
        },
        {
         "boxpoints": "all",
         "name": "MEG1141",
         "pointpos": 0,
         "type": "box",
         "y": [
          7.707198037626988e-14,
          6.0242798914533e-14,
          6.914305240148362e-14,
          9.234308103569018e-14,
          6.848320741712805e-14,
          6.488484848746898e-14,
          6.80832171158454e-14,
          7.592630439653206e-14
         ]
        },
        {
         "boxpoints": "all",
         "name": "MEG1211",
         "pointpos": 0,
         "type": "box",
         "y": [
          7.261931036445125e-14,
          8.891212612630436e-14,
          8.41574361351874e-14,
          9.668011672041373e-14,
          1.0006533871483093e-13,
          7.642876094808062e-14,
          7.677831631758647e-14,
          7.697250290102811e-14
         ]
        },
        {
         "boxpoints": "all",
         "name": "MEG1221",
         "pointpos": 0,
         "type": "box",
         "y": [
          1.049885451593322e-13,
          9.487875854169382e-14,
          1.0025272231250507e-13,
          1.0317026470236799e-13,
          1.0585798720264557e-13,
          1.1005763024328715e-13,
          9.53453356564815e-14,
          1.0888290112005662e-13
         ]
        },
        {
         "boxpoints": "all",
         "name": "MEG1231",
         "pointpos": 0,
         "type": "box",
         "y": [
          1.0789488286228582e-13,
          1.0401859147422063e-13,
          1.3464948206016335e-13,
          1.321916261080618e-13,
          1.2493716604786337e-13,
          1.0130428138168876e-13,
          1.0887622155313304e-13,
          1.3170444472125824e-13
         ]
        },
        {
         "boxpoints": "all",
         "name": "MEG1241",
         "pointpos": 0,
         "type": "box",
         "y": [
          1.236523157726081e-13,
          9.59336435950982e-14,
          1.4921763732418082e-13,
          1.335439311294868e-13,
          1.2013581829346087e-13,
          1.1464033869889624e-13,
          1.1468989786607196e-13,
          1.4836337952435545e-13
         ]
        },
        {
         "boxpoints": "all",
         "name": "MEG1311",
         "pointpos": 0,
         "type": "box",
         "y": [
          1.4236240929628785e-13,
          1.0983052263109216e-13,
          1.4941683300660954e-13,
          1.6408162276018084e-13,
          1.375077868735232e-13,
          1.5276048493041864e-13,
          1.4103884335203291e-13,
          1.6582112404122218e-13
         ]
        },
        {
         "boxpoints": "all",
         "name": "MEG1321",
         "pointpos": 0,
         "type": "box",
         "y": [
          1.5096981395592119e-13,
          1.2383920970980176e-13,
          1.3278449245717424e-13,
          1.5984318103139387e-13,
          1.3333004523695762e-13,
          1.616074336607174e-13,
          1.1330089013371937e-13,
          2.015838228000715e-13
         ]
        },
        {
         "boxpoints": "all",
         "name": "MEG1331",
         "pointpos": 0,
         "type": "box",
         "y": [
          1.6948783397272896e-13,
          1.6182099244460366e-13,
          1.5080557198991677e-13,
          1.903891710882028e-13,
          1.7172908338565783e-13,
          1.5635418523275565e-13,
          1.3964604762398572e-13,
          1.9245671244007892e-13
         ]
        },
        {
         "boxpoints": "all",
         "name": "MEG1341",
         "pointpos": 0,
         "type": "box",
         "y": [
          1.382843888474331e-13,
          1.0946684782421287e-13,
          1.541182053098796e-13,
          1.7029552925621966e-13,
          1.3396994901152601e-13,
          1.37342437593808e-13,
          1.319156319606406e-13,
          1.8736267985373195e-13
         ]
        },
        {
         "boxpoints": "all",
         "name": "MEG1411",
         "pointpos": 0,
         "type": "box",
         "y": [
          1.194387019780197e-13,
          1.3665066164655626e-13,
          1.2357141278792866e-13,
          1.500591484723344e-13,
          1.3284292719397492e-13,
          1.1223333433244865e-13,
          1.3075758019796953e-13,
          1.3190942417703055e-13
         ]
        },
        {
         "boxpoints": "all",
         "name": "MEG1421",
         "pointpos": 0,
         "type": "box",
         "y": [
          1.653929465530057e-13,
          1.9822549873428091e-13,
          2.0133588385620652e-13,
          2.4111403610284643e-13,
          1.7984737396831608e-13,
          2.0268344797669007e-13,
          1.9229648766235385e-13,
          1.9600058118626946e-13
         ]
        },
        {
         "boxpoints": "all",
         "name": "MEG1431",
         "pointpos": 0,
         "type": "box",
         "y": [
          1.628309304882397e-13,
          1.8526091664174306e-13,
          1.9166990484145654e-13,
          2.2383952180266687e-13,
          1.8817739852246857e-13,
          2.1479203752624877e-13,
          1.7788768082850502e-13,
          1.844362879196972e-13
         ]
        },
        {
         "boxpoints": "all",
         "name": "MEG1441",
         "pointpos": 0,
         "type": "box",
         "y": [
          1.333682849095398e-13,
          1.3651592929327877e-13,
          1.2081175607711584e-13,
          1.3308728148671475e-13,
          1.5245175948232578e-13,
          1.3963356822963246e-13,
          1.4028456724769026e-13,
          1.577988802730069e-13
         ]
        },
        {
         "boxpoints": "all",
         "name": "MEG1511",
         "pointpos": 0,
         "type": "box",
         "y": [
          8.67053984843497e-14,
          7.557757692861477e-14,
          8.042188514207397e-14,
          6.96712669509257e-14,
          1.0796028440968262e-13,
          8.395821969127884e-14,
          7.859874899415009e-14,
          9.259453543112189e-14
         ]
        },
        {
         "boxpoints": "all",
         "name": "MEG1521",
         "pointpos": 0,
         "type": "box",
         "y": [
          1.282622762363831e-13,
          9.971623456269413e-14,
          1.2840822704050247e-13,
          1.2580138795190224e-13,
          1.3195223713466323e-13,
          1.2417582723558924e-13,
          1.0688941393290928e-13,
          1.461533766690224e-13
         ]
        },
        {
         "boxpoints": "all",
         "name": "MEG1531",
         "pointpos": 0,
         "type": "box",
         "y": [
          1.5233091257899284e-13,
          1.5895219287655238e-13,
          1.4956600688841766e-13,
          1.5582589364704336e-13,
          1.1409121481844265e-13,
          1.7855394656421275e-13,
          1.8108361209430132e-13,
          2.0538498185941403e-13
         ]
        },
        {
         "boxpoints": "all",
         "name": "MEG1541",
         "pointpos": 0,
         "type": "box",
         "y": [
          1.4366748670284522e-13,
          1.254880710726529e-13,
          1.276230586817411e-13,
          1.4342658375033255e-13,
          1.0008324887262694e-13,
          1.4923931061568369e-13,
          1.47592648261033e-13,
          1.6890285649896574e-13
         ]
        },
        {
         "boxpoints": "all",
         "name": "MEG1611",
         "pointpos": 0,
         "type": "box",
         "y": [
          1.4345267377055517e-13,
          1.3146994839074634e-13,
          1.6107058644373885e-13,
          1.7744938279084537e-13,
          1.6324886133092852e-13,
          1.8716014058428247e-13,
          1.5536840036613325e-13,
          2.0292849070684715e-13
         ]
        },
        {
         "boxpoints": "all",
         "name": "MEG1621",
         "pointpos": 0,
         "type": "box",
         "y": [
          1.2577985928348296e-13,
          1.2363696798459016e-13,
          1.1980033380841636e-13,
          1.4226646213027883e-13,
          1.1838035382841454e-13,
          1.2022072488830624e-13,
          1.1803909000250226e-13,
          1.293282055818811e-13
         ]
        },
        {
         "boxpoints": "all",
         "name": "MEG1631",
         "pointpos": 0,
         "type": "box",
         "y": [
          9.31810682764466e-14,
          1.0514550897020203e-13,
          1.0812264026471443e-13,
          1.3025768445113916e-13,
          8.920901406291324e-14,
          1.0776420385567325e-13,
          1.0460298269966179e-13,
          1.1989503171219997e-13
         ]
        },
        {
         "boxpoints": "all",
         "name": "MEG1641",
         "pointpos": 0,
         "type": "box",
         "y": [
          1.2233147944794633e-13,
          1.290518897703942e-13,
          1.407083647446613e-13,
          1.8231533032551498e-13,
          1.4047354087815246e-13,
          1.7284880489035192e-13,
          1.1235746482584902e-13,
          1.756080736841558e-13
         ]
        },
        {
         "boxpoints": "all",
         "name": "MEG1711",
         "pointpos": 0,
         "type": "box",
         "y": [
          1.879590853498511e-13,
          1.7885522604171822e-13,
          1.9883077356714e-13,
          1.8650824155837262e-13,
          1.631770222217937e-13,
          2.0340934073744324e-13,
          1.9012370017095175e-13,
          2.1649736724723864e-13
         ]
        },
        {
         "boxpoints": "all",
         "name": "MEG1721",
         "pointpos": 0,
         "type": "box",
         "y": [
          1.8501828172996269e-13,
          1.3057640548071848e-13,
          1.5554721743911458e-13,
          1.75023775032587e-13,
          1.52288289121014e-13,
          1.6563790843967576e-13,
          1.2794065445793898e-13,
          1.8330956266519805e-13
         ]
        },
        {
         "boxpoints": "all",
         "name": "MEG1731",
         "pointpos": 0,
         "type": "box",
         "y": [
          2.1664831541304426e-13,
          1.5488462904665004e-13,
          1.8656650699057942e-13,
          1.8232623905661877e-13,
          1.9251271860774708e-13,
          1.913446002889207e-13,
          1.5344960876867794e-13,
          1.7116789304434641e-13
         ]
        },
        {
         "boxpoints": "all",
         "name": "MEG1741",
         "pointpos": 0,
         "type": "box",
         "y": [
          1.9420452424764024e-13,
          2.085116421994522e-13,
          2.1354342640493408e-13,
          2.1735934379391963e-13,
          1.844967221133675e-13,
          1.953687005557939e-13,
          2.092415630275795e-13,
          2.1244611675664724e-13
         ]
        },
        {
         "boxpoints": "all",
         "name": "MEG1811",
         "pointpos": 0,
         "type": "box",
         "y": [
          7.161297920082256e-14,
          8.563722598608398e-14,
          8.018161353608985e-14,
          9.201553349868213e-14,
          8.458034037167928e-14,
          7.53035307504419e-14,
          6.90536767841391e-14,
          9.897954851079747e-14
         ]
        },
        {
         "boxpoints": "all",
         "name": "MEG1821",
         "pointpos": 0,
         "type": "box",
         "y": [
          1.0088633007680764e-13,
          8.719116883851966e-14,
          7.854141994883729e-14,
          8.515485241797632e-14,
          8.257212901032966e-14,
          1.0925317351013473e-13,
          7.76752083151569e-14,
          1.2059217250217631e-13
         ]
        },
        {
         "boxpoints": "all",
         "name": "MEG1831",
         "pointpos": 0,
         "type": "box",
         "y": [
          8.629598225731904e-14,
          8.497027500705721e-14,
          9.456533998079948e-14,
          9.306283105132848e-14,
          9.988958159951001e-14,
          9.236575536830352e-14,
          9.63662527649792e-14,
          9.708818889791491e-14
         ]
        },
        {
         "boxpoints": "all",
         "name": "MEG1841",
         "pointpos": 0,
         "type": "box",
         "y": [
          7.640542808042404e-14,
          6.390815137163299e-14,
          7.294543438915334e-14,
          6.594125195578871e-14,
          7.313560136066504e-14,
          7.40301123054376e-14,
          6.924642772334598e-14,
          7.462080180049884e-14
         ]
        },
        {
         "boxpoints": "all",
         "name": "MEG1911",
         "pointpos": 0,
         "type": "box",
         "y": [
          1.0783386603522904e-13,
          7.67580299844173e-14,
          9.479865876779489e-14,
          1.0803471370326465e-13,
          9.708064208435475e-14,
          9.995030820617497e-14,
          1.098979568416085e-13,
          1.0794840580502474e-13
         ]
        },
        {
         "boxpoints": "all",
         "name": "MEG1921",
         "pointpos": 0,
         "type": "box",
         "y": [
          1.151758254035825e-13,
          1.0789109671671738e-13,
          1.166267975236737e-13,
          1.1946507933044667e-13,
          1.677840660090059e-13,
          1.0911096971021837e-13,
          1.190661509094886e-13,
          1.1054364617605273e-13
         ]
        },
        {
         "boxpoints": "all",
         "name": "MEG1931",
         "pointpos": 0,
         "type": "box",
         "y": [
          1.602059716200054e-13,
          1.4193370708762354e-13,
          1.3075539606114125e-13,
          1.4245520747853632e-13,
          1.6369968131347512e-13,
          1.4736314913225898e-13,
          1.4442568088797664e-13,
          1.5583074915052046e-13
         ]
        },
        {
         "boxpoints": "all",
         "name": "MEG1941",
         "pointpos": 0,
         "type": "box",
         "y": [
          1.2818322716059837e-13,
          9.527933234799073e-14,
          1.2258814193875459e-13,
          1.5029696953960316e-13,
          1.3387124886227015e-13,
          1.5608447035057235e-13,
          1.1591395101896132e-13,
          1.4865354608793467e-13
         ]
        },
        {
         "boxpoints": "all",
         "name": "MEG2011",
         "pointpos": 0,
         "type": "box",
         "y": [
          8.449910580077512e-14,
          8.309613296044293e-14,
          8.99259538834453e-14,
          9.841865916236949e-14,
          1.099610493452574e-13,
          1.000177155625096e-13,
          8.042251477029717e-14,
          1.102441135403967e-13
         ]
        },
        {
         "boxpoints": "all",
         "name": "MEG2021",
         "pointpos": 0,
         "type": "box",
         "y": [
          8.296196049792741e-14,
          6.683071418550699e-14,
          7.87568783309702e-14,
          8.819605111024477e-14,
          7.655364534397219e-14,
          7.120534261872604e-14,
          5.770146476714096e-14,
          8.161702817239472e-14
         ]
        },
        {
         "boxpoints": "all",
         "name": "MEG2031",
         "pointpos": 0,
         "type": "box",
         "y": [
          1.203425904612617e-13,
          8.923974631100025e-14,
          1.0889710300372257e-13,
          1.0757356772332638e-13,
          1.197141104163424e-13,
          1.1104205664072582e-13,
          9.284612794818819e-14,
          1.2692245949708657e-13
         ]
        },
        {
         "boxpoints": "all",
         "name": "MEG2041",
         "pointpos": 0,
         "type": "box",
         "y": [
          1.087389138346228e-13,
          9.651911702756265e-14,
          1.0015067576958592e-13,
          1.2442765156055596e-13,
          1.4439011089490703e-13,
          8.976781517715014e-14,
          1.007939299541711e-13,
          1.282591629895782e-13
         ]
        },
        {
         "boxpoints": "all",
         "name": "MEG2111",
         "pointpos": 0,
         "type": "box",
         "y": [
          1.7296432487871823e-13,
          1.308124700798212e-13,
          1.383202090332857e-13,
          1.4929571133230588e-13,
          1.9780558475556873e-13,
          1.5297411675530248e-13,
          1.2746403999325088e-13,
          1.5433188392316454e-13
         ]
        },
        {
         "boxpoints": "all",
         "name": "MEG2121",
         "pointpos": 0,
         "type": "box",
         "y": [
          2.119879062594719e-13,
          2.0307113997606978e-13,
          2.202092144726308e-13,
          2.002109457051885e-13,
          2.169651644185584e-13,
          2.1442348691821165e-13,
          1.787594879764585e-13,
          1.8075484478830065e-13
         ]
        },
        {
         "boxpoints": "all",
         "name": "MEG2131",
         "pointpos": 0,
         "type": "box",
         "y": [
          1.8551303011374065e-13,
          1.796836103538963e-13,
          2.158496155003474e-13,
          2.0872883939846124e-13,
          1.8093272268622666e-13,
          1.951618683121038e-13,
          1.840371090292772e-13,
          1.8145871798273264e-13
         ]
        },
        {
         "boxpoints": "all",
         "name": "MEG2141",
         "pointpos": 0,
         "type": "box",
         "y": [
          1.4322436351800146e-13,
          1.3928775195672433e-13,
          1.3696956874362345e-13,
          1.6124987194098588e-13,
          1.4677797772168218e-13,
          1.451690147164732e-13,
          1.607119875759288e-13,
          1.5319500534124795e-13
         ]
        },
        {
         "boxpoints": "all",
         "name": "MEG2211",
         "pointpos": 0,
         "type": "box",
         "y": [
          7.259232170082524e-14,
          6.030442061093784e-14,
          5.692708825331106e-14,
          7.682225714784902e-14,
          7.728615795256654e-14,
          7.928928694019544e-14,
          6.249050467483948e-14,
          7.367493811326239e-14
         ]
        },
        {
         "boxpoints": "all",
         "name": "MEG2221",
         "pointpos": 0,
         "type": "box",
         "y": [
          8.325756526379157e-14,
          7.958146096961559e-14,
          7.935205278546555e-14,
          9.292507717997887e-14,
          9.649712863271525e-14,
          9.867168659882705e-14,
          7.790388518364531e-14,
          1.0562602859991699e-13
         ]
        },
        {
         "boxpoints": "all",
         "name": "MEG2231",
         "pointpos": 0,
         "type": "box",
         "y": [
          9.377665377007872e-14,
          6.668727249564522e-14,
          7.033446496303929e-14,
          9.103100178357167e-14,
          7.589771095933334e-14,
          7.377917362566631e-14,
          6.266126056960055e-14,
          9.911449334919857e-14
         ]
        },
        {
         "boxpoints": "all",
         "name": "MEG2241",
         "pointpos": 0,
         "type": "box",
         "y": [
          9.616898848227808e-14,
          8.131968200427683e-14,
          1.0328106394924981e-13,
          1.2123309891194405e-13,
          1.0238466480219815e-13,
          9.824840829716508e-14,
          1.0077098252534727e-13,
          1.0399006510361635e-13
         ]
        },
        {
         "boxpoints": "all",
         "name": "MEG2311",
         "pointpos": 0,
         "type": "box",
         "y": [
          1.4885011276179691e-13,
          1.0405433338790102e-13,
          1.444604812554969e-13,
          1.3629029480246188e-13,
          1.1805362177590557e-13,
          1.3290175343652372e-13,
          1.1083090061344393e-13,
          1.2904421246595512e-13
         ]
        },
        {
         "boxpoints": "all",
         "name": "MEG2321",
         "pointpos": 0,
         "type": "box",
         "y": [
          2.074391178121938e-13,
          1.4727359527157508e-13,
          1.7945567355104904e-13,
          1.6301151224201845e-13,
          1.8503676135403942e-13,
          1.84369999816145e-13,
          1.8414249888282202e-13,
          1.8227490851886385e-13
         ]
        },
        {
         "boxpoints": "all",
         "name": "MEG2331",
         "pointpos": 0,
         "type": "box",
         "y": [
          2.3181803743450783e-13,
          1.688445127812186e-13,
          1.881992200462593e-13,
          1.799723036215924e-13,
          2.363286073876113e-13,
          2.2178064914546716e-13,
          1.7752542451825707e-13,
          1.8470172542237185e-13
         ]
        },
        {
         "boxpoints": "all",
         "name": "MEG2341",
         "pointpos": 0,
         "type": "box",
         "y": [
          1.1789250085208816e-13,
          7.837062408438257e-14,
          1.1314189400541733e-13,
          1.0832821017173232e-13,
          1.1188400094912663e-13,
          1.2276391777381867e-13,
          8.35660252737235e-14,
          1.1718155752615228e-13
         ]
        },
        {
         "boxpoints": "all",
         "name": "MEG2411",
         "pointpos": 0,
         "type": "box",
         "y": [
          1.2259684616545488e-13,
          1.0609948416911915e-13,
          1.1332032796092389e-13,
          1.4026018900824203e-13,
          1.4840987834669766e-13,
          1.3442443884510209e-13,
          1.2688820617075348e-13,
          1.4853025159286382e-13
         ]
        },
        {
         "boxpoints": "all",
         "name": "MEG2421",
         "pointpos": 0,
         "type": "box",
         "y": [
          1.3466315168040205e-13,
          1.31447896684853e-13,
          1.0732285489325353e-13,
          1.3634797859337306e-13,
          1.4876143447455855e-13,
          1.3290049811446737e-13,
          1.230735424354027e-13,
          1.541751769682119e-13
         ]
        },
        {
         "boxpoints": "all",
         "name": "MEG2431",
         "pointpos": 0,
         "type": "box",
         "y": [
          1.784601029455765e-13,
          1.27755908928945e-13,
          1.551328347735817e-13,
          1.4840853595916465e-13,
          1.52110442523317e-13,
          1.6204492302286655e-13,
          1.552456326752433e-13,
          1.6852867984885284e-13
         ]
        },
        {
         "boxpoints": "all",
         "name": "MEG2441",
         "pointpos": 0,
         "type": "box",
         "y": [
          1.3707903586579853e-13,
          1.0524765021770805e-13,
          1.272687782787577e-13,
          1.3178192661631932e-13,
          1.2993070603630363e-13,
          1.285686151152425e-13,
          1.1887794449363935e-13,
          1.5751310969224366e-13
         ]
        },
        {
         "boxpoints": "all",
         "name": "MEG2511",
         "pointpos": 0,
         "type": "box",
         "y": [
          2.0833789588190298e-13,
          1.2974980051997375e-13,
          1.5250722476322292e-13,
          1.4100069444668899e-13,
          1.8680265051764953e-13,
          1.8803291610208515e-13,
          1.6481401265491158e-13,
          2.0894848949553306e-13
         ]
        },
        {
         "boxpoints": "all",
         "name": "MEG2521",
         "pointpos": 0,
         "type": "box",
         "y": [
          1.7882910592753595e-13,
          1.2520228526199148e-13,
          1.344820014235942e-13,
          1.3648495310754507e-13,
          1.4940967734443719e-13,
          1.7735133480259e-13,
          1.351194166432028e-13,
          1.9956361334374437e-13
         ]
        },
        {
         "boxpoints": "all",
         "name": "MEG2531",
         "pointpos": 0,
         "type": "box",
         "y": [
          1.450988229509652e-13,
          1.4766895267495013e-13,
          1.4571317580732081e-13,
          1.7356070203960832e-13,
          1.5923177443268553e-13,
          1.623847173112951e-13,
          1.5972323244038386e-13,
          1.965911138181672e-13
         ]
        },
        {
         "boxpoints": "all",
         "name": "MEG2541",
         "pointpos": 0,
         "type": "box",
         "y": [
          1.5208689986646538e-13,
          1.5625579188013927e-13,
          1.828188366779684e-13,
          1.8805191702402612e-13,
          1.7237790712842327e-13,
          1.716893908054778e-13,
          1.7579911981272222e-13,
          1.969232054653501e-13
         ]
        },
        {
         "boxpoints": "all",
         "name": "MEG2611",
         "pointpos": 0,
         "type": "box",
         "y": [
          1.2407934856059465e-13,
          1.378299598020411e-13,
          1.1490818747118712e-13,
          1.0430445991095317e-13,
          1.2007041443135697e-13,
          1.0627938286492931e-13,
          1.2225096298602004e-13,
          1.2101510249714823e-13
         ]
        },
        {
         "boxpoints": "all",
         "name": "MEG2621",
         "pointpos": 0,
         "type": "box",
         "y": [
          1.5033774761988993e-13,
          1.362064160949278e-13,
          1.4128614908569779e-13,
          1.7426810516814479e-13,
          1.6851501484118636e-13,
          1.7553806787136617e-13,
          1.5124824509567925e-13,
          1.6708059498742264e-13
         ]
        },
        {
         "boxpoints": "all",
         "name": "MEG2631",
         "pointpos": 0,
         "type": "box",
         "y": [
          1.3890184209789645e-13,
          1.303849897211365e-13,
          1.2112483458284956e-13,
          1.5756606830689482e-13,
          1.4870579228685192e-13,
          1.5849054044198164e-13,
          1.3956153816709248e-13,
          1.64137982154063e-13
         ]
        },
        {
         "boxpoints": "all",
         "name": "MEG2641",
         "pointpos": 0,
         "type": "box",
         "y": [
          1.2735871195990883e-13,
          1.179587544168404e-13,
          1.0995247938002067e-13,
          1.007684572748231e-13,
          1.1933951641029336e-13,
          1.0934550111433287e-13,
          1.1522477834431456e-13,
          1.1786343688575827e-13
         ]
        }
       ],
       "layout": {
        "template": {
         "data": {
          "bar": [
           {
            "error_x": {
             "color": "#2a3f5f"
            },
            "error_y": {
             "color": "#2a3f5f"
            },
            "marker": {
             "line": {
              "color": "#E5ECF6",
              "width": 0.5
             },
             "pattern": {
              "fillmode": "overlay",
              "size": 10,
              "solidity": 0.2
             }
            },
            "type": "bar"
           }
          ],
          "barpolar": [
           {
            "marker": {
             "line": {
              "color": "#E5ECF6",
              "width": 0.5
             },
             "pattern": {
              "fillmode": "overlay",
              "size": 10,
              "solidity": 0.2
             }
            },
            "type": "barpolar"
           }
          ],
          "carpet": [
           {
            "aaxis": {
             "endlinecolor": "#2a3f5f",
             "gridcolor": "white",
             "linecolor": "white",
             "minorgridcolor": "white",
             "startlinecolor": "#2a3f5f"
            },
            "baxis": {
             "endlinecolor": "#2a3f5f",
             "gridcolor": "white",
             "linecolor": "white",
             "minorgridcolor": "white",
             "startlinecolor": "#2a3f5f"
            },
            "type": "carpet"
           }
          ],
          "choropleth": [
           {
            "colorbar": {
             "outlinewidth": 0,
             "ticks": ""
            },
            "type": "choropleth"
           }
          ],
          "contour": [
           {
            "colorbar": {
             "outlinewidth": 0,
             "ticks": ""
            },
            "colorscale": [
             [
              0,
              "#0d0887"
             ],
             [
              0.1111111111111111,
              "#46039f"
             ],
             [
              0.2222222222222222,
              "#7201a8"
             ],
             [
              0.3333333333333333,
              "#9c179e"
             ],
             [
              0.4444444444444444,
              "#bd3786"
             ],
             [
              0.5555555555555556,
              "#d8576b"
             ],
             [
              0.6666666666666666,
              "#ed7953"
             ],
             [
              0.7777777777777778,
              "#fb9f3a"
             ],
             [
              0.8888888888888888,
              "#fdca26"
             ],
             [
              1,
              "#f0f921"
             ]
            ],
            "type": "contour"
           }
          ],
          "contourcarpet": [
           {
            "colorbar": {
             "outlinewidth": 0,
             "ticks": ""
            },
            "type": "contourcarpet"
           }
          ],
          "heatmap": [
           {
            "colorbar": {
             "outlinewidth": 0,
             "ticks": ""
            },
            "colorscale": [
             [
              0,
              "#0d0887"
             ],
             [
              0.1111111111111111,
              "#46039f"
             ],
             [
              0.2222222222222222,
              "#7201a8"
             ],
             [
              0.3333333333333333,
              "#9c179e"
             ],
             [
              0.4444444444444444,
              "#bd3786"
             ],
             [
              0.5555555555555556,
              "#d8576b"
             ],
             [
              0.6666666666666666,
              "#ed7953"
             ],
             [
              0.7777777777777778,
              "#fb9f3a"
             ],
             [
              0.8888888888888888,
              "#fdca26"
             ],
             [
              1,
              "#f0f921"
             ]
            ],
            "type": "heatmap"
           }
          ],
          "heatmapgl": [
           {
            "colorbar": {
             "outlinewidth": 0,
             "ticks": ""
            },
            "colorscale": [
             [
              0,
              "#0d0887"
             ],
             [
              0.1111111111111111,
              "#46039f"
             ],
             [
              0.2222222222222222,
              "#7201a8"
             ],
             [
              0.3333333333333333,
              "#9c179e"
             ],
             [
              0.4444444444444444,
              "#bd3786"
             ],
             [
              0.5555555555555556,
              "#d8576b"
             ],
             [
              0.6666666666666666,
              "#ed7953"
             ],
             [
              0.7777777777777778,
              "#fb9f3a"
             ],
             [
              0.8888888888888888,
              "#fdca26"
             ],
             [
              1,
              "#f0f921"
             ]
            ],
            "type": "heatmapgl"
           }
          ],
          "histogram": [
           {
            "marker": {
             "pattern": {
              "fillmode": "overlay",
              "size": 10,
              "solidity": 0.2
             }
            },
            "type": "histogram"
           }
          ],
          "histogram2d": [
           {
            "colorbar": {
             "outlinewidth": 0,
             "ticks": ""
            },
            "colorscale": [
             [
              0,
              "#0d0887"
             ],
             [
              0.1111111111111111,
              "#46039f"
             ],
             [
              0.2222222222222222,
              "#7201a8"
             ],
             [
              0.3333333333333333,
              "#9c179e"
             ],
             [
              0.4444444444444444,
              "#bd3786"
             ],
             [
              0.5555555555555556,
              "#d8576b"
             ],
             [
              0.6666666666666666,
              "#ed7953"
             ],
             [
              0.7777777777777778,
              "#fb9f3a"
             ],
             [
              0.8888888888888888,
              "#fdca26"
             ],
             [
              1,
              "#f0f921"
             ]
            ],
            "type": "histogram2d"
           }
          ],
          "histogram2dcontour": [
           {
            "colorbar": {
             "outlinewidth": 0,
             "ticks": ""
            },
            "colorscale": [
             [
              0,
              "#0d0887"
             ],
             [
              0.1111111111111111,
              "#46039f"
             ],
             [
              0.2222222222222222,
              "#7201a8"
             ],
             [
              0.3333333333333333,
              "#9c179e"
             ],
             [
              0.4444444444444444,
              "#bd3786"
             ],
             [
              0.5555555555555556,
              "#d8576b"
             ],
             [
              0.6666666666666666,
              "#ed7953"
             ],
             [
              0.7777777777777778,
              "#fb9f3a"
             ],
             [
              0.8888888888888888,
              "#fdca26"
             ],
             [
              1,
              "#f0f921"
             ]
            ],
            "type": "histogram2dcontour"
           }
          ],
          "mesh3d": [
           {
            "colorbar": {
             "outlinewidth": 0,
             "ticks": ""
            },
            "type": "mesh3d"
           }
          ],
          "parcoords": [
           {
            "line": {
             "colorbar": {
              "outlinewidth": 0,
              "ticks": ""
             }
            },
            "type": "parcoords"
           }
          ],
          "pie": [
           {
            "automargin": true,
            "type": "pie"
           }
          ],
          "scatter": [
           {
            "marker": {
             "colorbar": {
              "outlinewidth": 0,
              "ticks": ""
             }
            },
            "type": "scatter"
           }
          ],
          "scatter3d": [
           {
            "line": {
             "colorbar": {
              "outlinewidth": 0,
              "ticks": ""
             }
            },
            "marker": {
             "colorbar": {
              "outlinewidth": 0,
              "ticks": ""
             }
            },
            "type": "scatter3d"
           }
          ],
          "scattercarpet": [
           {
            "marker": {
             "colorbar": {
              "outlinewidth": 0,
              "ticks": ""
             }
            },
            "type": "scattercarpet"
           }
          ],
          "scattergeo": [
           {
            "marker": {
             "colorbar": {
              "outlinewidth": 0,
              "ticks": ""
             }
            },
            "type": "scattergeo"
           }
          ],
          "scattergl": [
           {
            "marker": {
             "colorbar": {
              "outlinewidth": 0,
              "ticks": ""
             }
            },
            "type": "scattergl"
           }
          ],
          "scattermapbox": [
           {
            "marker": {
             "colorbar": {
              "outlinewidth": 0,
              "ticks": ""
             }
            },
            "type": "scattermapbox"
           }
          ],
          "scatterpolar": [
           {
            "marker": {
             "colorbar": {
              "outlinewidth": 0,
              "ticks": ""
             }
            },
            "type": "scatterpolar"
           }
          ],
          "scatterpolargl": [
           {
            "marker": {
             "colorbar": {
              "outlinewidth": 0,
              "ticks": ""
             }
            },
            "type": "scatterpolargl"
           }
          ],
          "scatterternary": [
           {
            "marker": {
             "colorbar": {
              "outlinewidth": 0,
              "ticks": ""
             }
            },
            "type": "scatterternary"
           }
          ],
          "surface": [
           {
            "colorbar": {
             "outlinewidth": 0,
             "ticks": ""
            },
            "colorscale": [
             [
              0,
              "#0d0887"
             ],
             [
              0.1111111111111111,
              "#46039f"
             ],
             [
              0.2222222222222222,
              "#7201a8"
             ],
             [
              0.3333333333333333,
              "#9c179e"
             ],
             [
              0.4444444444444444,
              "#bd3786"
             ],
             [
              0.5555555555555556,
              "#d8576b"
             ],
             [
              0.6666666666666666,
              "#ed7953"
             ],
             [
              0.7777777777777778,
              "#fb9f3a"
             ],
             [
              0.8888888888888888,
              "#fdca26"
             ],
             [
              1,
              "#f0f921"
             ]
            ],
            "type": "surface"
           }
          ],
          "table": [
           {
            "cells": {
             "fill": {
              "color": "#EBF0F8"
             },
             "line": {
              "color": "white"
             }
            },
            "header": {
             "fill": {
              "color": "#C8D4E3"
             },
             "line": {
              "color": "white"
             }
            },
            "type": "table"
           }
          ]
         },
         "layout": {
          "annotationdefaults": {
           "arrowcolor": "#2a3f5f",
           "arrowhead": 0,
           "arrowwidth": 1
          },
          "autotypenumbers": "strict",
          "coloraxis": {
           "colorbar": {
            "outlinewidth": 0,
            "ticks": ""
           }
          },
          "colorscale": {
           "diverging": [
            [
             0,
             "#8e0152"
            ],
            [
             0.1,
             "#c51b7d"
            ],
            [
             0.2,
             "#de77ae"
            ],
            [
             0.3,
             "#f1b6da"
            ],
            [
             0.4,
             "#fde0ef"
            ],
            [
             0.5,
             "#f7f7f7"
            ],
            [
             0.6,
             "#e6f5d0"
            ],
            [
             0.7,
             "#b8e186"
            ],
            [
             0.8,
             "#7fbc41"
            ],
            [
             0.9,
             "#4d9221"
            ],
            [
             1,
             "#276419"
            ]
           ],
           "sequential": [
            [
             0,
             "#0d0887"
            ],
            [
             0.1111111111111111,
             "#46039f"
            ],
            [
             0.2222222222222222,
             "#7201a8"
            ],
            [
             0.3333333333333333,
             "#9c179e"
            ],
            [
             0.4444444444444444,
             "#bd3786"
            ],
            [
             0.5555555555555556,
             "#d8576b"
            ],
            [
             0.6666666666666666,
             "#ed7953"
            ],
            [
             0.7777777777777778,
             "#fb9f3a"
            ],
            [
             0.8888888888888888,
             "#fdca26"
            ],
            [
             1,
             "#f0f921"
            ]
           ],
           "sequentialminus": [
            [
             0,
             "#0d0887"
            ],
            [
             0.1111111111111111,
             "#46039f"
            ],
            [
             0.2222222222222222,
             "#7201a8"
            ],
            [
             0.3333333333333333,
             "#9c179e"
            ],
            [
             0.4444444444444444,
             "#bd3786"
            ],
            [
             0.5555555555555556,
             "#d8576b"
            ],
            [
             0.6666666666666666,
             "#ed7953"
            ],
            [
             0.7777777777777778,
             "#fb9f3a"
            ],
            [
             0.8888888888888888,
             "#fdca26"
            ],
            [
             1,
             "#f0f921"
            ]
           ]
          },
          "colorway": [
           "#636efa",
           "#EF553B",
           "#00cc96",
           "#ab63fa",
           "#FFA15A",
           "#19d3f3",
           "#FF6692",
           "#B6E880",
           "#FF97FF",
           "#FECB52"
          ],
          "font": {
           "color": "#2a3f5f"
          },
          "geo": {
           "bgcolor": "white",
           "lakecolor": "white",
           "landcolor": "#E5ECF6",
           "showlakes": true,
           "showland": true,
           "subunitcolor": "white"
          },
          "hoverlabel": {
           "align": "left"
          },
          "hovermode": "closest",
          "mapbox": {
           "style": "light"
          },
          "paper_bgcolor": "white",
          "plot_bgcolor": "#E5ECF6",
          "polar": {
           "angularaxis": {
            "gridcolor": "white",
            "linecolor": "white",
            "ticks": ""
           },
           "bgcolor": "#E5ECF6",
           "radialaxis": {
            "gridcolor": "white",
            "linecolor": "white",
            "ticks": ""
           }
          },
          "scene": {
           "xaxis": {
            "backgroundcolor": "#E5ECF6",
            "gridcolor": "white",
            "gridwidth": 2,
            "linecolor": "white",
            "showbackground": true,
            "ticks": "",
            "zerolinecolor": "white"
           },
           "yaxis": {
            "backgroundcolor": "#E5ECF6",
            "gridcolor": "white",
            "gridwidth": 2,
            "linecolor": "white",
            "showbackground": true,
            "ticks": "",
            "zerolinecolor": "white"
           },
           "zaxis": {
            "backgroundcolor": "#E5ECF6",
            "gridcolor": "white",
            "gridwidth": 2,
            "linecolor": "white",
            "showbackground": true,
            "ticks": "",
            "zerolinecolor": "white"
           }
          },
          "shapedefaults": {
           "line": {
            "color": "#2a3f5f"
           }
          },
          "ternary": {
           "aaxis": {
            "gridcolor": "white",
            "linecolor": "white",
            "ticks": ""
           },
           "baxis": {
            "gridcolor": "white",
            "linecolor": "white",
            "ticks": ""
           },
           "bgcolor": "#E5ECF6",
           "caxis": {
            "gridcolor": "white",
            "linecolor": "white",
            "ticks": ""
           }
          },
          "title": {
           "x": 0.05
          },
          "xaxis": {
           "automargin": true,
           "gridcolor": "white",
           "linecolor": "white",
           "ticks": "",
           "title": {
            "standoff": 15
           },
           "zerolinecolor": "white",
           "zerolinewidth": 2
          },
          "yaxis": {
           "automargin": true,
           "gridcolor": "white",
           "linecolor": "white",
           "ticks": "",
           "title": {
            "standoff": 15
           },
           "zerolinecolor": "white",
           "zerolinewidth": 2
          }
         }
        },
        "xaxis": {
         "rangeslider": {
          "visible": true
         },
         "tickmode": "array",
         "ticktext": [
          "MEG0111",
          "MEG0121",
          "MEG0131",
          "MEG0141",
          "MEG0211",
          "MEG0221",
          "MEG0231",
          "MEG0241",
          "MEG0311",
          "MEG0321",
          "MEG0331",
          "MEG0341",
          "MEG0411",
          "MEG0421",
          "MEG0431",
          "MEG0441",
          "MEG0511",
          "MEG0521",
          "MEG0531",
          "MEG0541",
          "MEG0611",
          "MEG0621",
          "MEG0631",
          "MEG0641",
          "MEG0711",
          "MEG0721",
          "MEG0731",
          "MEG0741",
          "MEG0811",
          "MEG0821",
          "MEG0911",
          "MEG0921",
          "MEG0931",
          "MEG0941",
          "MEG1011",
          "MEG1021",
          "MEG1031",
          "MEG1041",
          "MEG1111",
          "MEG1121",
          "MEG1131",
          "MEG1141",
          "MEG1211",
          "MEG1221",
          "MEG1231",
          "MEG1241",
          "MEG1311",
          "MEG1321",
          "MEG1331",
          "MEG1341",
          "MEG1411",
          "MEG1421",
          "MEG1431",
          "MEG1441",
          "MEG1511",
          "MEG1521",
          "MEG1531",
          "MEG1541",
          "MEG1611",
          "MEG1621",
          "MEG1631",
          "MEG1641",
          "MEG1711",
          "MEG1721",
          "MEG1731",
          "MEG1741",
          "MEG1811",
          "MEG1821",
          "MEG1831",
          "MEG1841",
          "MEG1911",
          "MEG1921",
          "MEG1931",
          "MEG1941",
          "MEG2011",
          "MEG2021",
          "MEG2031",
          "MEG2041",
          "MEG2111",
          "MEG2121",
          "MEG2131",
          "MEG2141",
          "MEG2211",
          "MEG2221",
          "MEG2231",
          "MEG2241",
          "MEG2311",
          "MEG2321",
          "MEG2331",
          "MEG2341",
          "MEG2411",
          "MEG2421",
          "MEG2431",
          "MEG2441",
          "MEG2511",
          "MEG2521",
          "MEG2531",
          "MEG2541",
          "MEG2611",
          "MEG2621",
          "MEG2631",
          "MEG2641"
         ],
         "tickvals": [
          0,
          1,
          2,
          3,
          4,
          5,
          6,
          7,
          8,
          9,
          10,
          11,
          12,
          13,
          14,
          15,
          16,
          17,
          18,
          19,
          20,
          21,
          22,
          23,
          24,
          25,
          26,
          27,
          28,
          29,
          30,
          31,
          32,
          33,
          34,
          35,
          36,
          37,
          38,
          39,
          40,
          41,
          42,
          43,
          44,
          45,
          46,
          47,
          48,
          49,
          50,
          51,
          52,
          53,
          54,
          55,
          56,
          57,
          58,
          59,
          60,
          61,
          62,
          63,
          64,
          65,
          66,
          67,
          68,
          69,
          70,
          71,
          72,
          73,
          74,
          75,
          76,
          77,
          78,
          79,
          80,
          81,
          82,
          83,
          84,
          85,
          86,
          87,
          88,
          89,
          90,
          91,
          92,
          93,
          94,
          95,
          96,
          97,
          98,
          99,
          100,
          101
         ]
        }
       }
      }
     },
     "metadata": {},
     "output_type": "display_data"
    }
   ],
   "source": [
    "\n",
    "\n"
   ]
  },
  {
   "cell_type": "code",
   "execution_count": 36,
   "metadata": {},
   "outputs": [
    {
     "data": {
      "text/html": [
       "<div>\n",
       "<style scoped>\n",
       "    .dataframe tbody tr th:only-of-type {\n",
       "        vertical-align: middle;\n",
       "    }\n",
       "\n",
       "    .dataframe tbody tr th {\n",
       "        vertical-align: top;\n",
       "    }\n",
       "\n",
       "    .dataframe thead th {\n",
       "        text-align: right;\n",
       "    }\n",
       "</style>\n",
       "<table border=\"1\" class=\"dataframe\">\n",
       "  <thead>\n",
       "    <tr style=\"text-align: right;\">\n",
       "      <th></th>\n",
       "      <th>MEG0111</th>\n",
       "      <th>MEG0121</th>\n",
       "      <th>MEG0131</th>\n",
       "      <th>MEG0141</th>\n",
       "      <th>MEG0211</th>\n",
       "      <th>MEG0221</th>\n",
       "      <th>MEG0231</th>\n",
       "      <th>MEG0241</th>\n",
       "      <th>MEG0311</th>\n",
       "      <th>MEG0321</th>\n",
       "      <th>...</th>\n",
       "      <th>MEG2431</th>\n",
       "      <th>MEG2441</th>\n",
       "      <th>MEG2511</th>\n",
       "      <th>MEG2521</th>\n",
       "      <th>MEG2531</th>\n",
       "      <th>MEG2541</th>\n",
       "      <th>MEG2611</th>\n",
       "      <th>MEG2621</th>\n",
       "      <th>MEG2631</th>\n",
       "      <th>MEG2641</th>\n",
       "    </tr>\n",
       "  </thead>\n",
       "  <tbody>\n",
       "    <tr>\n",
       "      <th>0</th>\n",
       "      <td>1.325283e-13</td>\n",
       "      <td>8.536337e-14</td>\n",
       "      <td>7.684146e-14</td>\n",
       "      <td>1.202738e-13</td>\n",
       "      <td>1.067817e-13</td>\n",
       "      <td>8.878270e-14</td>\n",
       "      <td>1.126011e-13</td>\n",
       "      <td>1.500140e-13</td>\n",
       "      <td>1.115910e-13</td>\n",
       "      <td>8.183729e-14</td>\n",
       "      <td>...</td>\n",
       "      <td>1.784601e-13</td>\n",
       "      <td>1.370790e-13</td>\n",
       "      <td>2.083379e-13</td>\n",
       "      <td>1.788291e-13</td>\n",
       "      <td>1.450988e-13</td>\n",
       "      <td>1.520869e-13</td>\n",
       "      <td>1.240793e-13</td>\n",
       "      <td>1.503377e-13</td>\n",
       "      <td>1.389018e-13</td>\n",
       "      <td>1.273587e-13</td>\n",
       "    </tr>\n",
       "    <tr>\n",
       "      <th>1</th>\n",
       "      <td>1.163084e-13</td>\n",
       "      <td>9.043086e-14</td>\n",
       "      <td>7.206944e-14</td>\n",
       "      <td>1.165962e-13</td>\n",
       "      <td>9.905670e-14</td>\n",
       "      <td>8.583636e-14</td>\n",
       "      <td>9.422330e-14</td>\n",
       "      <td>9.996268e-14</td>\n",
       "      <td>8.863800e-14</td>\n",
       "      <td>7.651739e-14</td>\n",
       "      <td>...</td>\n",
       "      <td>1.277559e-13</td>\n",
       "      <td>1.052477e-13</td>\n",
       "      <td>1.297498e-13</td>\n",
       "      <td>1.252023e-13</td>\n",
       "      <td>1.476690e-13</td>\n",
       "      <td>1.562558e-13</td>\n",
       "      <td>1.378300e-13</td>\n",
       "      <td>1.362064e-13</td>\n",
       "      <td>1.303850e-13</td>\n",
       "      <td>1.179588e-13</td>\n",
       "    </tr>\n",
       "    <tr>\n",
       "      <th>2</th>\n",
       "      <td>1.271144e-13</td>\n",
       "      <td>7.562594e-14</td>\n",
       "      <td>7.998339e-14</td>\n",
       "      <td>1.146335e-13</td>\n",
       "      <td>1.129689e-13</td>\n",
       "      <td>8.980551e-14</td>\n",
       "      <td>1.003671e-13</td>\n",
       "      <td>1.109631e-13</td>\n",
       "      <td>1.141385e-13</td>\n",
       "      <td>8.604699e-14</td>\n",
       "      <td>...</td>\n",
       "      <td>1.551328e-13</td>\n",
       "      <td>1.272688e-13</td>\n",
       "      <td>1.525072e-13</td>\n",
       "      <td>1.344820e-13</td>\n",
       "      <td>1.457132e-13</td>\n",
       "      <td>1.828188e-13</td>\n",
       "      <td>1.149082e-13</td>\n",
       "      <td>1.412861e-13</td>\n",
       "      <td>1.211248e-13</td>\n",
       "      <td>1.099525e-13</td>\n",
       "    </tr>\n",
       "    <tr>\n",
       "      <th>3</th>\n",
       "      <td>1.576595e-13</td>\n",
       "      <td>1.451199e-13</td>\n",
       "      <td>9.714823e-14</td>\n",
       "      <td>1.593336e-13</td>\n",
       "      <td>9.712960e-14</td>\n",
       "      <td>7.982587e-14</td>\n",
       "      <td>9.406321e-14</td>\n",
       "      <td>1.225988e-13</td>\n",
       "      <td>1.126485e-13</td>\n",
       "      <td>8.830505e-14</td>\n",
       "      <td>...</td>\n",
       "      <td>1.484085e-13</td>\n",
       "      <td>1.317819e-13</td>\n",
       "      <td>1.410007e-13</td>\n",
       "      <td>1.364850e-13</td>\n",
       "      <td>1.735607e-13</td>\n",
       "      <td>1.880519e-13</td>\n",
       "      <td>1.043045e-13</td>\n",
       "      <td>1.742681e-13</td>\n",
       "      <td>1.575661e-13</td>\n",
       "      <td>1.007685e-13</td>\n",
       "    </tr>\n",
       "    <tr>\n",
       "      <th>4</th>\n",
       "      <td>1.646074e-13</td>\n",
       "      <td>8.870210e-14</td>\n",
       "      <td>9.026858e-14</td>\n",
       "      <td>1.255785e-13</td>\n",
       "      <td>1.015332e-13</td>\n",
       "      <td>8.371668e-14</td>\n",
       "      <td>1.060989e-13</td>\n",
       "      <td>1.307062e-13</td>\n",
       "      <td>1.215949e-13</td>\n",
       "      <td>8.095774e-14</td>\n",
       "      <td>...</td>\n",
       "      <td>1.521104e-13</td>\n",
       "      <td>1.299307e-13</td>\n",
       "      <td>1.868027e-13</td>\n",
       "      <td>1.494097e-13</td>\n",
       "      <td>1.592318e-13</td>\n",
       "      <td>1.723779e-13</td>\n",
       "      <td>1.200704e-13</td>\n",
       "      <td>1.685150e-13</td>\n",
       "      <td>1.487058e-13</td>\n",
       "      <td>1.193395e-13</td>\n",
       "    </tr>\n",
       "    <tr>\n",
       "      <th>5</th>\n",
       "      <td>1.426171e-13</td>\n",
       "      <td>7.407726e-14</td>\n",
       "      <td>6.608875e-14</td>\n",
       "      <td>1.316862e-13</td>\n",
       "      <td>1.146709e-13</td>\n",
       "      <td>1.036041e-13</td>\n",
       "      <td>1.026894e-13</td>\n",
       "      <td>1.280037e-13</td>\n",
       "      <td>1.255683e-13</td>\n",
       "      <td>1.053932e-13</td>\n",
       "      <td>...</td>\n",
       "      <td>1.620449e-13</td>\n",
       "      <td>1.285686e-13</td>\n",
       "      <td>1.880329e-13</td>\n",
       "      <td>1.773513e-13</td>\n",
       "      <td>1.623847e-13</td>\n",
       "      <td>1.716894e-13</td>\n",
       "      <td>1.062794e-13</td>\n",
       "      <td>1.755381e-13</td>\n",
       "      <td>1.584905e-13</td>\n",
       "      <td>1.093455e-13</td>\n",
       "    </tr>\n",
       "    <tr>\n",
       "      <th>6</th>\n",
       "      <td>1.211340e-13</td>\n",
       "      <td>8.786775e-14</td>\n",
       "      <td>9.047839e-14</td>\n",
       "      <td>1.214143e-13</td>\n",
       "      <td>1.087694e-13</td>\n",
       "      <td>8.635031e-14</td>\n",
       "      <td>1.118197e-13</td>\n",
       "      <td>1.339498e-13</td>\n",
       "      <td>9.542093e-14</td>\n",
       "      <td>8.729807e-14</td>\n",
       "      <td>...</td>\n",
       "      <td>1.552456e-13</td>\n",
       "      <td>1.188779e-13</td>\n",
       "      <td>1.648140e-13</td>\n",
       "      <td>1.351194e-13</td>\n",
       "      <td>1.597232e-13</td>\n",
       "      <td>1.757991e-13</td>\n",
       "      <td>1.222510e-13</td>\n",
       "      <td>1.512482e-13</td>\n",
       "      <td>1.395615e-13</td>\n",
       "      <td>1.152248e-13</td>\n",
       "    </tr>\n",
       "    <tr>\n",
       "      <th>7</th>\n",
       "      <td>1.480486e-13</td>\n",
       "      <td>1.066715e-13</td>\n",
       "      <td>9.298711e-14</td>\n",
       "      <td>1.417173e-13</td>\n",
       "      <td>1.585455e-13</td>\n",
       "      <td>9.883074e-14</td>\n",
       "      <td>1.330045e-13</td>\n",
       "      <td>2.017956e-13</td>\n",
       "      <td>1.232355e-13</td>\n",
       "      <td>8.595309e-14</td>\n",
       "      <td>...</td>\n",
       "      <td>1.685287e-13</td>\n",
       "      <td>1.575131e-13</td>\n",
       "      <td>2.089485e-13</td>\n",
       "      <td>1.995636e-13</td>\n",
       "      <td>1.965911e-13</td>\n",
       "      <td>1.969232e-13</td>\n",
       "      <td>1.210151e-13</td>\n",
       "      <td>1.670806e-13</td>\n",
       "      <td>1.641380e-13</td>\n",
       "      <td>1.178634e-13</td>\n",
       "    </tr>\n",
       "  </tbody>\n",
       "</table>\n",
       "<p>8 rows × 102 columns</p>\n",
       "</div>"
      ],
      "text/plain": [
       "        MEG0111       MEG0121       MEG0131       MEG0141       MEG0211  \\\n",
       "0  1.325283e-13  8.536337e-14  7.684146e-14  1.202738e-13  1.067817e-13   \n",
       "1  1.163084e-13  9.043086e-14  7.206944e-14  1.165962e-13  9.905670e-14   \n",
       "2  1.271144e-13  7.562594e-14  7.998339e-14  1.146335e-13  1.129689e-13   \n",
       "3  1.576595e-13  1.451199e-13  9.714823e-14  1.593336e-13  9.712960e-14   \n",
       "4  1.646074e-13  8.870210e-14  9.026858e-14  1.255785e-13  1.015332e-13   \n",
       "5  1.426171e-13  7.407726e-14  6.608875e-14  1.316862e-13  1.146709e-13   \n",
       "6  1.211340e-13  8.786775e-14  9.047839e-14  1.214143e-13  1.087694e-13   \n",
       "7  1.480486e-13  1.066715e-13  9.298711e-14  1.417173e-13  1.585455e-13   \n",
       "\n",
       "        MEG0221       MEG0231       MEG0241       MEG0311       MEG0321  ...  \\\n",
       "0  8.878270e-14  1.126011e-13  1.500140e-13  1.115910e-13  8.183729e-14  ...   \n",
       "1  8.583636e-14  9.422330e-14  9.996268e-14  8.863800e-14  7.651739e-14  ...   \n",
       "2  8.980551e-14  1.003671e-13  1.109631e-13  1.141385e-13  8.604699e-14  ...   \n",
       "3  7.982587e-14  9.406321e-14  1.225988e-13  1.126485e-13  8.830505e-14  ...   \n",
       "4  8.371668e-14  1.060989e-13  1.307062e-13  1.215949e-13  8.095774e-14  ...   \n",
       "5  1.036041e-13  1.026894e-13  1.280037e-13  1.255683e-13  1.053932e-13  ...   \n",
       "6  8.635031e-14  1.118197e-13  1.339498e-13  9.542093e-14  8.729807e-14  ...   \n",
       "7  9.883074e-14  1.330045e-13  2.017956e-13  1.232355e-13  8.595309e-14  ...   \n",
       "\n",
       "        MEG2431       MEG2441       MEG2511       MEG2521       MEG2531  \\\n",
       "0  1.784601e-13  1.370790e-13  2.083379e-13  1.788291e-13  1.450988e-13   \n",
       "1  1.277559e-13  1.052477e-13  1.297498e-13  1.252023e-13  1.476690e-13   \n",
       "2  1.551328e-13  1.272688e-13  1.525072e-13  1.344820e-13  1.457132e-13   \n",
       "3  1.484085e-13  1.317819e-13  1.410007e-13  1.364850e-13  1.735607e-13   \n",
       "4  1.521104e-13  1.299307e-13  1.868027e-13  1.494097e-13  1.592318e-13   \n",
       "5  1.620449e-13  1.285686e-13  1.880329e-13  1.773513e-13  1.623847e-13   \n",
       "6  1.552456e-13  1.188779e-13  1.648140e-13  1.351194e-13  1.597232e-13   \n",
       "7  1.685287e-13  1.575131e-13  2.089485e-13  1.995636e-13  1.965911e-13   \n",
       "\n",
       "        MEG2541       MEG2611       MEG2621       MEG2631       MEG2641  \n",
       "0  1.520869e-13  1.240793e-13  1.503377e-13  1.389018e-13  1.273587e-13  \n",
       "1  1.562558e-13  1.378300e-13  1.362064e-13  1.303850e-13  1.179588e-13  \n",
       "2  1.828188e-13  1.149082e-13  1.412861e-13  1.211248e-13  1.099525e-13  \n",
       "3  1.880519e-13  1.043045e-13  1.742681e-13  1.575661e-13  1.007685e-13  \n",
       "4  1.723779e-13  1.200704e-13  1.685150e-13  1.487058e-13  1.193395e-13  \n",
       "5  1.716894e-13  1.062794e-13  1.755381e-13  1.584905e-13  1.093455e-13  \n",
       "6  1.757991e-13  1.222510e-13  1.512482e-13  1.395615e-13  1.152248e-13  \n",
       "7  1.969232e-13  1.210151e-13  1.670806e-13  1.641380e-13  1.178634e-13  \n",
       "\n",
       "[8 rows x 102 columns]"
      ]
     },
     "execution_count": 36,
     "metadata": {},
     "output_type": "execute_result"
    }
   ],
   "source": [
    "df_mg_transposed"
   ]
  }
 ],
 "metadata": {
  "interpreter": {
   "hash": "d401ab1bf6dd7bb97662b0feb1321a641d60d04842bfa92b47f7871360972b5d"
  },
  "kernelspec": {
   "display_name": "Python 3.9.7 ('mne_new')",
   "language": "python",
   "name": "python3"
  },
  "language_info": {
   "codemirror_mode": {
    "name": "ipython",
    "version": 3
   },
   "file_extension": ".py",
   "mimetype": "text/x-python",
   "name": "python",
   "nbconvert_exporter": "python",
   "pygments_lexer": "ipython3",
   "version": "3.9.13"
  },
  "orig_nbformat": 4
 },
 "nbformat": 4,
 "nbformat_minor": 2
}
