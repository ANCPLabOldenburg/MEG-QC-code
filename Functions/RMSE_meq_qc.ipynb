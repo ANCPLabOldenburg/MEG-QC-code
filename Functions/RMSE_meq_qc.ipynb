{
 "cells": [
  {
   "cell_type": "code",
   "execution_count": 3,
   "metadata": {},
   "outputs": [],
   "source": [
    "#SINCE NOW ALL FILES ARE IN THE SEPARATE FUNCTIONS FOLDER, ALL PATH WERE CHANGED SO THAT THEY GO 1 FOLDER UP.\n",
    "#example: '../derivatives/sub' instead of './derivatives/sub'\n",
    "\n",
    "\n",
    "#Load data, filter, make folders\n",
    "import numpy as np\n",
    "import plotly.graph_objects as go\n",
    "import pandas as pd\n",
    "\n",
    "from main_meg_qc import initial_stuff\n"
   ]
  },
  {
   "cell_type": "code",
   "execution_count": 4,
   "metadata": {},
   "outputs": [
    {
     "name": "stdout",
     "output_type": "stream",
     "text": [
      "Opening raw data file ../data/sub_HT05ND16/210811/mikado-1.fif/...\n",
      "    Read a total of 8 projection items:\n",
      "        magn8_iasoff_68deg.fif : PCA-v1 (1 x 306)  idle\n",
      "        magn8_iasoff_68deg.fif : PCA-v2 (1 x 306)  idle\n",
      "        magn8_iasoff_68deg.fif : PCA-v3 (1 x 306)  idle\n",
      "        magn8_iasoff_68deg.fif : PCA-v4 (1 x 306)  idle\n",
      "        magn8_iasoff_68deg.fif : PCA-v5 (1 x 306)  idle\n",
      "        magn8_iasoff_68deg.fif : PCA-v6 (1 x 306)  idle\n",
      "        magn8_iasoff_68deg.fif : PCA-v7 (1 x 306)  idle\n",
      "        magn8_iasoff_68deg.fif : PCA-v8 (1 x 306)  idle\n",
      "    Range : 1809000 ... 3375999 =   1809.000 ...  3375.999 secs\n",
      "Ready.\n",
      "Opening raw data file /Users/jenya/Local Storage/Job Uni Rieger lab/MEG QC code/Functions/../data/sub_HT05ND16/210811/mikado-2.fif...\n",
      "    Read a total of 8 projection items:\n",
      "        magn8_iasoff_68deg.fif : PCA-v1 (1 x 306)  idle\n",
      "        magn8_iasoff_68deg.fif : PCA-v2 (1 x 306)  idle\n",
      "        magn8_iasoff_68deg.fif : PCA-v3 (1 x 306)  idle\n",
      "        magn8_iasoff_68deg.fif : PCA-v4 (1 x 306)  idle\n",
      "        magn8_iasoff_68deg.fif : PCA-v5 (1 x 306)  idle\n",
      "        magn8_iasoff_68deg.fif : PCA-v6 (1 x 306)  idle\n",
      "        magn8_iasoff_68deg.fif : PCA-v7 (1 x 306)  idle\n",
      "        magn8_iasoff_68deg.fif : PCA-v8 (1 x 306)  idle\n",
      "    Range : 3376000 ... 4942999 =   3376.000 ...  4942.999 secs\n",
      "Ready.\n",
      "Opening raw data file /Users/jenya/Local Storage/Job Uni Rieger lab/MEG QC code/Functions/../data/sub_HT05ND16/210811/mikado-3.fif...\n",
      "    Read a total of 8 projection items:\n",
      "        magn8_iasoff_68deg.fif : PCA-v1 (1 x 306)  idle\n",
      "        magn8_iasoff_68deg.fif : PCA-v2 (1 x 306)  idle\n",
      "        magn8_iasoff_68deg.fif : PCA-v3 (1 x 306)  idle\n",
      "        magn8_iasoff_68deg.fif : PCA-v4 (1 x 306)  idle\n",
      "        magn8_iasoff_68deg.fif : PCA-v5 (1 x 306)  idle\n",
      "        magn8_iasoff_68deg.fif : PCA-v6 (1 x 306)  idle\n",
      "        magn8_iasoff_68deg.fif : PCA-v7 (1 x 306)  idle\n",
      "        magn8_iasoff_68deg.fif : PCA-v8 (1 x 306)  idle\n",
      "    Range : 4943000 ... 5198999 =   4943.000 ...  5198.999 secs\n",
      "Ready.\n"
     ]
    },
    {
     "name": "stderr",
     "output_type": "stream",
     "text": [
      "/Users/jenya/Local Storage/Job Uni Rieger lab/MEG QC code/Functions/data_load_and_folders.py:8: RuntimeWarning: This filename (../data/sub_HT05ND16/210811/mikado-1.fif/) does not conform to MNE naming conventions. All raw files should end with raw.fif, raw_sss.fif, raw_tsss.fif, _meg.fif, _eeg.fif, _ieeg.fif, raw.fif.gz, raw_sss.fif.gz, raw_tsss.fif.gz, _meg.fif.gz, _eeg.fif.gz or _ieeg.fif.gz\n",
      "  raw = mne.io.read_raw_fif(raw_file)\n"
     ]
    },
    {
     "name": "stdout",
     "output_type": "stream",
     "text": [
      "['../derivatives', '../derivatives/sub-1', '../derivatives/sub-1/megqc', '../derivatives/sub-1/megqc/csv files', '../derivatives/sub-1/megqc/figures', '../derivatives/sub-1/megqc/reports']\n",
      "Reading 0 ... 300000  =      0.000 ...   300.000 secs...\n",
      "Filtering raw data in 1 contiguous segment\n",
      "Setting up band-pass filter from 0.5 - 1e+02 Hz\n",
      "\n",
      "IIR filter parameters\n",
      "---------------------\n",
      "Butterworth bandpass zero-phase (two-pass forward and reverse) non-causal filter:\n",
      "- Filter order 16 (effective, after forward-backward)\n",
      "- Cutoffs at 0.50, 100.00 Hz: -6.02, -6.02 dB\n",
      "\n",
      "Trigger channel has a non-zero initial value of 18 (consider using initial_event=True to detect this event)\n",
      "301 events found\n",
      "Event IDs: [    9    19    21    23    27    31 16393 16402 16403 16405 16411 32741\n",
      " 32746 32749 32750 32759]\n"
     ]
    },
    {
     "name": "stderr",
     "output_type": "stream",
     "text": [
      "/Users/jenya/Local Storage/Job Uni Rieger lab/MEG QC code/Functions/data_load_and_folders.py:65: RuntimeWarning: Trigger channel contains negative values, using absolute value. If data were acquired on a Neuromag system with STI016 active, consider using uint_cast=True to work around an acquisition bug\n",
      "  raw_bandpass_resamp.resample(sfreq=h_freq*5)\n"
     ]
    },
    {
     "name": "stdout",
     "output_type": "stream",
     "text": [
      "Trigger channel has a non-zero initial value of 18 (consider using initial_event=True to detect this event)\n",
      "253 events found\n",
      "Event IDs: [    9    19    20    21    22    23    27    31 16393 16402 16403 16405\n",
      " 16411 32741 32746 32749 32750 32759]\n",
      "Trigger channel has a non-zero initial value of 18 (consider using initial_event=True to detect this event)\n",
      "8 events found\n",
      "Event IDs: [ 9 19 20 21 22]\n",
      "Not setting metadata\n",
      "Not setting metadata\n",
      "8 matching events found\n",
      "No baseline correction applied\n",
      "Created an SSP operator (subspace dimension = 8)\n",
      "8 projection items activated\n",
      "Loading data for 8 events and 1201 original time points ...\n",
      "0 bad epochs dropped\n",
      "Not setting metadata\n",
      "Not setting metadata\n",
      "8 matching events found\n",
      "No baseline correction applied\n",
      "8 projection items activated\n",
      "Loading data for 8 events and 1201 original time points ...\n",
      "0 bad epochs dropped\n"
     ]
    },
    {
     "name": "stderr",
     "output_type": "stream",
     "text": [
      "/Users/jenya/Local Storage/Job Uni Rieger lab/MEG QC code/Functions/data_load_and_folders.py:65: RuntimeWarning: Trigger channel contains negative values, using absolute value. If data were acquired on a Neuromag system with STI016 active, consider using uint_cast=True to work around an acquisition bug\n",
      "  raw_bandpass_resamp.resample(sfreq=h_freq*5)\n",
      "/Users/jenya/Local Storage/Job Uni Rieger lab/MEG QC code/Functions/data_load_and_folders.py:80: RuntimeWarning: Trigger channel contains negative values, using absolute value. If data were acquired on a Neuromag system with STI016 active, consider using uint_cast=True to work around an acquisition bug\n",
      "  events = mne.find_events(data, stim_channel=stim_channel, min_duration=event_dur)\n"
     ]
    }
   ],
   "source": [
    "\n",
    "n_events, df_epochs_mags, df_epochs_grads, epochs_mags, epochs_grads, mags, grads, filtered_d, filtered_d_resamp, raw_cropped, raw=initial_stuff()"
   ]
  },
  {
   "cell_type": "code",
   "execution_count": 5,
   "metadata": {},
   "outputs": [],
   "source": [
    "#%% RMSE - general function to use in other functions\n",
    "#STD CALCULATION IS MUCH LESS COdE BUT TAKES LONGER THAN RMSE\n",
    "\n",
    "def RMSE(data_m_or_g: np.array or list) -> np.array:\n",
    "\n",
    "    data_m_or_g=np.array(data_m_or_g) #convert to numpy array if it s not\n",
    "    rmse_list=[]\n",
    "\n",
    "    data_minentions=len(data_m_or_g.shape)\n",
    "    if data_minentions==2: #if the data has raws and columns - iterate over raws. if input is 1 dimentional - juat calculate the whole thing.\n",
    "        for i, dat_raw in enumerate (data_m_or_g):\n",
    "            y_actual=dat_raw\n",
    "            y_pred=y_actual.mean()\n",
    "            rmse_data=np.sqrt(((y_pred - y_actual) ** 2).mean())\n",
    "            rmse_list.append(rmse_data)\n",
    "    elif data_minentions==1:\n",
    "        y_actual=data_m_or_g\n",
    "        y_pred=data_m_or_g.mean()\n",
    "        rmse_data=np.sqrt(((y_pred - y_actual) ** 2).mean())\n",
    "        rmse_list.append(rmse_data)\n",
    "    else:\n",
    "        print('Only 1 or 2 dimentional data is accepted, not more!')\n",
    "        return\n",
    "\n",
    "    rmse_nd=np.array(rmse_list) #conver to numpy array\n",
    "\n",
    "    return rmse_nd"
   ]
  },
  {
   "cell_type": "code",
   "execution_count": 6,
   "metadata": {},
   "outputs": [],
   "source": [
    "selected_mags = [item[1] for item in mags]\n",
    "selected_grads = [item[1] for item in grads]\n",
    "data_mags, times = filtered_d_resamp[selected_mags, :]  \n",
    "data_grads, times = filtered_d_resamp[selected_grads, :]  "
   ]
  },
  {
   "cell_type": "code",
   "execution_count": 7,
   "metadata": {},
   "outputs": [],
   "source": [
    "# Root mean squared error calculation (or STD - same result) over ALL data (not epoched):\n",
    "\n",
    "def RMSE_meg_all(data, mags: list, grads: list, std_lvl: int): #, min_duration_event=1, epoch_tmin=-0.2, epoch_tmax=1):\n",
    "    #give path to directory and then it should auto find the data file when bids compliant.\n",
    "    ##maybe distinguish between negative and positive std_lvl\n",
    "\n",
    "    #sid - subject Id. Has to be a string , like '1'\n",
    "    #mags, grads - channels like [name, index]\n",
    "  \n",
    "\n",
    "    # Separate data for mags and grads in 2 arrays.\n",
    "    selected_mags = [item[1] for item in mags]\n",
    "    selected_grads = [item[1] for item in grads]\n",
    "    data_mags, times = data[selected_mags, :]  \n",
    "    data_grads, times = data[selected_grads, :]  \n",
    "\n",
    "    # %% Calculate STD or RMSE of each channel\n",
    "\n",
    "    #Calculate RMSE for each channel (separated mags and grads) - for the entire time duration:\n",
    "    std_mags = RMSE(data_mags)\n",
    "    std_grads = RMSE(data_grads)\n",
    "\n",
    "    #STD (if wanna use insted of RMSE. it will exactly replace the RMSE function above):\n",
    "    #std_mags=np.std(data_mags, axis=1) #calculate std of all magnetometers (along second dimantion)\n",
    "    #std_grads=np.std(data_grads, axis=1) #calculate std of all gradiometers (along second dimantion)\n",
    "\n",
    "\n",
    "    # Check if channel data is within 1 std over all channels.\n",
    "    # COMMENT: can use -3 to 3 (or other number) std istead of -1/+1 std, but this can adjusted later. \n",
    "    # 1 std is too narrow, gives way too many bad channels.\n",
    "\n",
    "    std_std_mags=np.std(std_mags)\n",
    "    std_std_grads=np.std(std_grads)\n",
    "\n",
    "    mean_std_mags=np.mean(std_mags)\n",
    "    mean_std_grads=np.mean(std_grads)\n",
    "\n",
    "    ch_ind_large_std_mags= np.where(std_mags > mean_std_mags+std_lvl*std_std_mags) #find magn channels with largest std\n",
    "    ch_ind_large_std_grads= np.where(std_grads > mean_std_grads+std_lvl*std_std_grads) \n",
    "    ch_ind_small_std_mags= np.where(std_mags < mean_std_mags-std_lvl*std_std_mags) #find magn channels with smallest std\n",
    "    ch_ind_small_std_grads= np.where(std_grads < mean_std_grads-std_lvl*std_std_grads)\n",
    "\n",
    "    magn_channel_big_std=np.array(mags)[ch_ind_large_std_mags] #find the name of the magn with largest std \n",
    "    grad_channel_big_std=np.array(grads)[ch_ind_large_std_grads]\n",
    "    magn_channel_small_std=np.array(mags)[ch_ind_small_std_mags]\n",
    "    grad_channel_small_std=np.array(grads)[ch_ind_small_std_grads]\n",
    "\n",
    "\n",
    "    #This function simply makes a list of tuples. Each tuple is: name of channel, std value.\n",
    "    #Each tuple represents channel with too big or too small std, calculated over whole data.\n",
    "\n",
    "    def Channels_with_nonnormal_stds(ch_ind, all_stds_m_or_g, channels_big_std_names):\n",
    "        channel_big_std_vals=all_stds_m_or_g[ch_ind]\n",
    "        nonnormal_std_with_value=[]\n",
    "        for id, val in enumerate (ch_ind[0]):\n",
    "            new_tuple=(channels_big_std_names[id][0],  channel_big_std_vals[id])\n",
    "            nonnormal_std_with_value.append(new_tuple)\n",
    "        return(nonnormal_std_with_value)\n",
    "\n",
    "    #Apply function above:\n",
    "    m_big_std_with_value=Channels_with_nonnormal_stds(ch_ind_large_std_mags, std_mags, magn_channel_big_std)\n",
    "    g_big_std_with_value=Channels_with_nonnormal_stds(ch_ind_large_std_grads, std_grads, grad_channel_big_std)\n",
    "    m_small_std_with_value=Channels_with_nonnormal_stds(ch_ind_small_std_mags, std_mags, magn_channel_small_std)\n",
    "    g_small_std_with_value=Channels_with_nonnormal_stds(ch_ind_small_std_grads, std_grads, grad_channel_small_std)\n",
    "        \n",
    "    #Return the channel names with STD over the set STD level and under the set negative STD level.\n",
    "    return(m_big_std_with_value, g_big_std_with_value, m_small_std_with_value, g_small_std_with_value, std_mags, std_grads)\n"
   ]
  },
  {
   "cell_type": "code",
   "execution_count": 8,
   "metadata": {},
   "outputs": [
    {
     "name": "stdout",
     "output_type": "stream",
     "text": [
      "Magnetometers with high std:\n",
      "[('MEG0621', 4.965338372879145e-13), ('MEG1021', 4.852992071039414e-13), ('MEG1031', 5.004345361972638e-13), ('MEG1041', 4.939759752048587e-13), ('MEG1421', 5.678604995893133e-13), ('MEG1431', 5.476084157649638e-13), ('MEG1741', 5.282172136198286e-13), ('MEG2121', 5.018134686600477e-13), ('MEG2131', 5.860882537731944e-13), ('MEG2141', 5.460444751629966e-13), ('MEG2331', 5.002680469283238e-13), ('MEG2531', 5.683082618711569e-13), ('MEG2541', 5.925124304516582e-13), ('MEG2621', 5.364787072987134e-13), ('MEG2631', 5.466366791474147e-13)]\n",
      "Gradiometers with high std:\n",
      "[('MEG1023', 7.179247707983359e-12), ('MEG1323', 6.757557360268088e-12), ('MEG1412', 6.777417001822614e-12), ('MEG1442', 6.795936392344075e-12), ('MEG1713', 7.471548646598566e-12), ('MEG1742', 7.777625918922468e-12), ('MEG1743', 8.688099976270316e-12), ('MEG1813', 7.323041849074902e-12), ('MEG1922', 7.254700915844952e-12), ('MEG1923', 6.853831580367702e-12), ('MEG1932', 6.896523110045817e-12), ('MEG1933', 9.854347047499332e-12), ('MEG2112', 7.33556825323922e-12), ('MEG2113', 6.906380096725283e-12), ('MEG2122', 7.485778276978664e-12), ('MEG2123', 7.851505509055003e-12), ('MEG2132', 7.733216376877372e-12), ('MEG2133', 9.852350676783212e-12), ('MEG2142', 1.1011465778506496e-11), ('MEG2143', 7.914098875748662e-12), ('MEG2323', 6.9919399404040855e-12), ('MEG2332', 7.310619195440329e-12), ('MEG2333', 8.879327559451373e-12), ('MEG2342', 6.77302923469043e-12), ('MEG2512', 7.323985870256048e-12), ('MEG2513', 8.418419866965335e-12), ('MEG2522', 7.245823122411884e-12), ('MEG2533', 8.487226203982444e-12), ('MEG2542', 7.2267061777520435e-12), ('MEG2543', 8.861947868363884e-12), ('MEG2612', 7.044881351854446e-12), ('MEG2613', 6.78888195557843e-12), ('MEG2623', 6.9611438305888246e-12), ('MEG2633', 7.538998586842464e-12)]\n"
     ]
    }
   ],
   "source": [
    "#Try: USING RESAMPLED DATA HERE\n",
    "\n",
    "m_big_std_with_value, g_big_std_with_value, m_small_std_with_value, g_small_std_with_value, rmse_mags, rmse_grads=RMSE_meg_all(data=filtered_d_resamp, \n",
    "    mags=mags, grads=grads, std_lvl=1)\n",
    "\n",
    "print('Magnetometers with high std:')\n",
    "print(m_big_std_with_value)\n",
    "\n",
    "print('Gradiometers with high std:')\n",
    "print(g_big_std_with_value)"
   ]
  },
  {
   "cell_type": "code",
   "execution_count": 9,
   "metadata": {},
   "outputs": [],
   "source": [
    "def boxplot_std_hovering_plotly(std_data: list, tit: str, channel_names: list, sid: str):\n",
    "\n",
    "  #Using plotly! https://plotly.github.io/plotly.py-docs/generated/plotly.graph_objects.Box.html\n",
    "\n",
    "  unit='?'\n",
    "  if tit=='Magnetometers':\n",
    "    unit='T'\n",
    "  elif tit=='Gradiometers':\n",
    "    unit='T/m'\n",
    "  else:\n",
    "    print('Please check tit input. Has to be \"Magnetoneters\" or \"Gradiometers\"')\n",
    "\n",
    "  ch_names=[m[0] for m in channel_names] #names of channels for annotating the plot\n",
    "  df = pd.DataFrame (std_data, index=ch_names, columns=['std'])\n",
    "\n",
    "  fig = go.Figure()\n",
    "\n",
    "  fig.add_trace(go.Box(x=df['std'],\n",
    "  name=\"\",\n",
    "  text=df['std'].index, \n",
    "  opacity=0.7, \n",
    "  boxpoints=\"all\", \n",
    "  pointpos=0,\n",
    "  marker_size=5,\n",
    "  line_width=1))\n",
    "  fig.update_traces(hovertemplate='%{text}'+'<br>STD: %{x: .0f}')\n",
    "      \n",
    "\n",
    "  fig.update_layout(\n",
    "      yaxis={'visible': False, 'showticklabels': False},\n",
    "      xaxis = dict(\n",
    "      showexponent = 'all',\n",
    "      exponentformat = 'e'),\n",
    "      xaxis_title=\"standard deviation in \"+unit,\n",
    "      title={\n",
    "      'text': \"Standard deviation of the data for \"+tit,\n",
    "      'y':0.85,\n",
    "      'x':0.5,\n",
    "      'xanchor': 'center',\n",
    "      'yanchor': 'top'})\n",
    "      \n",
    "  fig.show()\n",
    "\n",
    "  fig_name='Stds_all_data_'+tit+'.html'\n",
    "  fig_path='../derivatives/sub-'+sid+'/megqc/figures/'+fig_name\n",
    "  fig.write_html(fig_path)\n",
    "\n",
    "  return(fig, fig_path)"
   ]
  },
  {
   "cell_type": "code",
   "execution_count": 10,
   "metadata": {},
   "outputs": [
    {
     "data": {
      "application/vnd.plotly.v1+json": {
       "config": {
        "plotlyServerURL": "https://plot.ly"
       },
       "data": [
        {
         "boxpoints": "all",
         "hovertemplate": "%{text}<br>STD: %{x: .0f}",
         "line": {
          "width": 1
         },
         "marker": {
          "size": 5
         },
         "name": "",
         "opacity": 0.7,
         "pointpos": 0,
         "text": [
          "MEG0111",
          "MEG0121",
          "MEG0131",
          "MEG0141",
          "MEG0211",
          "MEG0221",
          "MEG0231",
          "MEG0241",
          "MEG0311",
          "MEG0321",
          "MEG0331",
          "MEG0341",
          "MEG0411",
          "MEG0421",
          "MEG0431",
          "MEG0441",
          "MEG0511",
          "MEG0521",
          "MEG0531",
          "MEG0541",
          "MEG0611",
          "MEG0621",
          "MEG0631",
          "MEG0641",
          "MEG0711",
          "MEG0721",
          "MEG0731",
          "MEG0741",
          "MEG0811",
          "MEG0821",
          "MEG0911",
          "MEG0921",
          "MEG0931",
          "MEG0941",
          "MEG1011",
          "MEG1021",
          "MEG1031",
          "MEG1041",
          "MEG1111",
          "MEG1121",
          "MEG1131",
          "MEG1141",
          "MEG1211",
          "MEG1221",
          "MEG1231",
          "MEG1241",
          "MEG1311",
          "MEG1321",
          "MEG1331",
          "MEG1341",
          "MEG1411",
          "MEG1421",
          "MEG1431",
          "MEG1441",
          "MEG1511",
          "MEG1521",
          "MEG1531",
          "MEG1541",
          "MEG1611",
          "MEG1621",
          "MEG1631",
          "MEG1641",
          "MEG1711",
          "MEG1721",
          "MEG1731",
          "MEG1741",
          "MEG1811",
          "MEG1821",
          "MEG1831",
          "MEG1841",
          "MEG1911",
          "MEG1921",
          "MEG1931",
          "MEG1941",
          "MEG2011",
          "MEG2021",
          "MEG2031",
          "MEG2041",
          "MEG2111",
          "MEG2121",
          "MEG2131",
          "MEG2141",
          "MEG2211",
          "MEG2221",
          "MEG2231",
          "MEG2241",
          "MEG2311",
          "MEG2321",
          "MEG2331",
          "MEG2341",
          "MEG2411",
          "MEG2421",
          "MEG2431",
          "MEG2441",
          "MEG2511",
          "MEG2521",
          "MEG2531",
          "MEG2541",
          "MEG2611",
          "MEG2621",
          "MEG2631",
          "MEG2641"
         ],
         "type": "box",
         "x": [
          4.658303567531248e-13,
          4.1372879550425414e-13,
          3.804575272018108e-13,
          4.3649047670223144e-13,
          3.259531704938498e-13,
          3.223278340466069e-13,
          3.214306107185603e-13,
          3.2786604738122326e-13,
          3.030841549760009e-13,
          3.287337503418714e-13,
          3.7244815481937774e-13,
          3.229885929401538e-13,
          3.638773228152705e-13,
          4.233607178530863e-13,
          4.090636323271209e-13,
          3.542025474579279e-13,
          3.1533268543863847e-13,
          3.4037247299176295e-13,
          3.960703244968144e-13,
          3.418153778624029e-13,
          4.503083181929387e-13,
          4.965338372879145e-13,
          4.76605610577983e-13,
          4.58258047286142e-13,
          4.55879274498085e-13,
          4.805540934762329e-13,
          4.437423890001509e-13,
          4.3414769689874237e-13,
          3.6930731145443566e-13,
          4.2374815100377583e-13,
          3.7226055611616753e-13,
          3.6708023755816293e-13,
          4.0909808551964535e-13,
          4.2437014450187726e-13,
          4.768263658346185e-13,
          4.852992071039414e-13,
          5.004345361972638e-13,
          4.939759752048587e-13,
          4.841883504489699e-13,
          4.4495734850079763e-13,
          4.313379921560274e-13,
          4.656462158732624e-13,
          3.701525841748357e-13,
          3.844341757458561e-13,
          3.99814162245282e-13,
          4.593061113401454e-13,
          3.9897285192751666e-13,
          3.9688936408865184e-13,
          3.9117024725898283e-13,
          3.9531324293490243e-13,
          4.804827832879886e-13,
          5.678604995893133e-13,
          5.476084157649638e-13,
          4.623498928035262e-13,
          3.528368698256824e-13,
          3.6479439473481463e-13,
          4.416628394884404e-13,
          4.262978702378176e-13,
          3.398016977193075e-13,
          3.217503596845818e-13,
          3.293712463366372e-13,
          3.592225318050652e-13,
          4.707735873141388e-13,
          3.97431626681979e-13,
          4.358191841456755e-13,
          5.282172136198286e-13,
          3.3799234628916074e-13,
          3.8201398139858467e-13,
          3.8923920385643755e-13,
          3.439756054475484e-13,
          3.5968695559263397e-13,
          4.1143600910359563e-13,
          4.570145511795057e-13,
          3.8677915173625545e-13,
          3.6838015956775114e-13,
          3.6758058729074685e-13,
          3.752126504444332e-13,
          3.806321226135802e-13,
          4.2413245347062077e-13,
          5.018134686600477e-13,
          5.860882537731944e-13,
          5.460444751629966e-13,
          4.3259187922731904e-13,
          4.0362388794567493e-13,
          3.827486793066777e-13,
          3.977622133350401e-13,
          3.803028961562175e-13,
          4.2009842749897907e-13,
          5.002680469283238e-13,
          4.3051670452864733e-13,
          3.7824162198949534e-13,
          3.931315101350028e-13,
          4.04740460600092e-13,
          3.770497861915173e-13,
          4.768280635435192e-13,
          4.611603218289254e-13,
          5.683082618711569e-13,
          5.925124304516582e-13,
          4.4638125637302603e-13,
          5.364787072987134e-13,
          5.466366791474147e-13,
          4.45389731503784e-13
         ]
        }
       ],
       "layout": {
        "template": {
         "data": {
          "bar": [
           {
            "error_x": {
             "color": "#2a3f5f"
            },
            "error_y": {
             "color": "#2a3f5f"
            },
            "marker": {
             "line": {
              "color": "#E5ECF6",
              "width": 0.5
             },
             "pattern": {
              "fillmode": "overlay",
              "size": 10,
              "solidity": 0.2
             }
            },
            "type": "bar"
           }
          ],
          "barpolar": [
           {
            "marker": {
             "line": {
              "color": "#E5ECF6",
              "width": 0.5
             },
             "pattern": {
              "fillmode": "overlay",
              "size": 10,
              "solidity": 0.2
             }
            },
            "type": "barpolar"
           }
          ],
          "carpet": [
           {
            "aaxis": {
             "endlinecolor": "#2a3f5f",
             "gridcolor": "white",
             "linecolor": "white",
             "minorgridcolor": "white",
             "startlinecolor": "#2a3f5f"
            },
            "baxis": {
             "endlinecolor": "#2a3f5f",
             "gridcolor": "white",
             "linecolor": "white",
             "minorgridcolor": "white",
             "startlinecolor": "#2a3f5f"
            },
            "type": "carpet"
           }
          ],
          "choropleth": [
           {
            "colorbar": {
             "outlinewidth": 0,
             "ticks": ""
            },
            "type": "choropleth"
           }
          ],
          "contour": [
           {
            "colorbar": {
             "outlinewidth": 0,
             "ticks": ""
            },
            "colorscale": [
             [
              0,
              "#0d0887"
             ],
             [
              0.1111111111111111,
              "#46039f"
             ],
             [
              0.2222222222222222,
              "#7201a8"
             ],
             [
              0.3333333333333333,
              "#9c179e"
             ],
             [
              0.4444444444444444,
              "#bd3786"
             ],
             [
              0.5555555555555556,
              "#d8576b"
             ],
             [
              0.6666666666666666,
              "#ed7953"
             ],
             [
              0.7777777777777778,
              "#fb9f3a"
             ],
             [
              0.8888888888888888,
              "#fdca26"
             ],
             [
              1,
              "#f0f921"
             ]
            ],
            "type": "contour"
           }
          ],
          "contourcarpet": [
           {
            "colorbar": {
             "outlinewidth": 0,
             "ticks": ""
            },
            "type": "contourcarpet"
           }
          ],
          "heatmap": [
           {
            "colorbar": {
             "outlinewidth": 0,
             "ticks": ""
            },
            "colorscale": [
             [
              0,
              "#0d0887"
             ],
             [
              0.1111111111111111,
              "#46039f"
             ],
             [
              0.2222222222222222,
              "#7201a8"
             ],
             [
              0.3333333333333333,
              "#9c179e"
             ],
             [
              0.4444444444444444,
              "#bd3786"
             ],
             [
              0.5555555555555556,
              "#d8576b"
             ],
             [
              0.6666666666666666,
              "#ed7953"
             ],
             [
              0.7777777777777778,
              "#fb9f3a"
             ],
             [
              0.8888888888888888,
              "#fdca26"
             ],
             [
              1,
              "#f0f921"
             ]
            ],
            "type": "heatmap"
           }
          ],
          "heatmapgl": [
           {
            "colorbar": {
             "outlinewidth": 0,
             "ticks": ""
            },
            "colorscale": [
             [
              0,
              "#0d0887"
             ],
             [
              0.1111111111111111,
              "#46039f"
             ],
             [
              0.2222222222222222,
              "#7201a8"
             ],
             [
              0.3333333333333333,
              "#9c179e"
             ],
             [
              0.4444444444444444,
              "#bd3786"
             ],
             [
              0.5555555555555556,
              "#d8576b"
             ],
             [
              0.6666666666666666,
              "#ed7953"
             ],
             [
              0.7777777777777778,
              "#fb9f3a"
             ],
             [
              0.8888888888888888,
              "#fdca26"
             ],
             [
              1,
              "#f0f921"
             ]
            ],
            "type": "heatmapgl"
           }
          ],
          "histogram": [
           {
            "marker": {
             "pattern": {
              "fillmode": "overlay",
              "size": 10,
              "solidity": 0.2
             }
            },
            "type": "histogram"
           }
          ],
          "histogram2d": [
           {
            "colorbar": {
             "outlinewidth": 0,
             "ticks": ""
            },
            "colorscale": [
             [
              0,
              "#0d0887"
             ],
             [
              0.1111111111111111,
              "#46039f"
             ],
             [
              0.2222222222222222,
              "#7201a8"
             ],
             [
              0.3333333333333333,
              "#9c179e"
             ],
             [
              0.4444444444444444,
              "#bd3786"
             ],
             [
              0.5555555555555556,
              "#d8576b"
             ],
             [
              0.6666666666666666,
              "#ed7953"
             ],
             [
              0.7777777777777778,
              "#fb9f3a"
             ],
             [
              0.8888888888888888,
              "#fdca26"
             ],
             [
              1,
              "#f0f921"
             ]
            ],
            "type": "histogram2d"
           }
          ],
          "histogram2dcontour": [
           {
            "colorbar": {
             "outlinewidth": 0,
             "ticks": ""
            },
            "colorscale": [
             [
              0,
              "#0d0887"
             ],
             [
              0.1111111111111111,
              "#46039f"
             ],
             [
              0.2222222222222222,
              "#7201a8"
             ],
             [
              0.3333333333333333,
              "#9c179e"
             ],
             [
              0.4444444444444444,
              "#bd3786"
             ],
             [
              0.5555555555555556,
              "#d8576b"
             ],
             [
              0.6666666666666666,
              "#ed7953"
             ],
             [
              0.7777777777777778,
              "#fb9f3a"
             ],
             [
              0.8888888888888888,
              "#fdca26"
             ],
             [
              1,
              "#f0f921"
             ]
            ],
            "type": "histogram2dcontour"
           }
          ],
          "mesh3d": [
           {
            "colorbar": {
             "outlinewidth": 0,
             "ticks": ""
            },
            "type": "mesh3d"
           }
          ],
          "parcoords": [
           {
            "line": {
             "colorbar": {
              "outlinewidth": 0,
              "ticks": ""
             }
            },
            "type": "parcoords"
           }
          ],
          "pie": [
           {
            "automargin": true,
            "type": "pie"
           }
          ],
          "scatter": [
           {
            "marker": {
             "colorbar": {
              "outlinewidth": 0,
              "ticks": ""
             }
            },
            "type": "scatter"
           }
          ],
          "scatter3d": [
           {
            "line": {
             "colorbar": {
              "outlinewidth": 0,
              "ticks": ""
             }
            },
            "marker": {
             "colorbar": {
              "outlinewidth": 0,
              "ticks": ""
             }
            },
            "type": "scatter3d"
           }
          ],
          "scattercarpet": [
           {
            "marker": {
             "colorbar": {
              "outlinewidth": 0,
              "ticks": ""
             }
            },
            "type": "scattercarpet"
           }
          ],
          "scattergeo": [
           {
            "marker": {
             "colorbar": {
              "outlinewidth": 0,
              "ticks": ""
             }
            },
            "type": "scattergeo"
           }
          ],
          "scattergl": [
           {
            "marker": {
             "colorbar": {
              "outlinewidth": 0,
              "ticks": ""
             }
            },
            "type": "scattergl"
           }
          ],
          "scattermapbox": [
           {
            "marker": {
             "colorbar": {
              "outlinewidth": 0,
              "ticks": ""
             }
            },
            "type": "scattermapbox"
           }
          ],
          "scatterpolar": [
           {
            "marker": {
             "colorbar": {
              "outlinewidth": 0,
              "ticks": ""
             }
            },
            "type": "scatterpolar"
           }
          ],
          "scatterpolargl": [
           {
            "marker": {
             "colorbar": {
              "outlinewidth": 0,
              "ticks": ""
             }
            },
            "type": "scatterpolargl"
           }
          ],
          "scatterternary": [
           {
            "marker": {
             "colorbar": {
              "outlinewidth": 0,
              "ticks": ""
             }
            },
            "type": "scatterternary"
           }
          ],
          "surface": [
           {
            "colorbar": {
             "outlinewidth": 0,
             "ticks": ""
            },
            "colorscale": [
             [
              0,
              "#0d0887"
             ],
             [
              0.1111111111111111,
              "#46039f"
             ],
             [
              0.2222222222222222,
              "#7201a8"
             ],
             [
              0.3333333333333333,
              "#9c179e"
             ],
             [
              0.4444444444444444,
              "#bd3786"
             ],
             [
              0.5555555555555556,
              "#d8576b"
             ],
             [
              0.6666666666666666,
              "#ed7953"
             ],
             [
              0.7777777777777778,
              "#fb9f3a"
             ],
             [
              0.8888888888888888,
              "#fdca26"
             ],
             [
              1,
              "#f0f921"
             ]
            ],
            "type": "surface"
           }
          ],
          "table": [
           {
            "cells": {
             "fill": {
              "color": "#EBF0F8"
             },
             "line": {
              "color": "white"
             }
            },
            "header": {
             "fill": {
              "color": "#C8D4E3"
             },
             "line": {
              "color": "white"
             }
            },
            "type": "table"
           }
          ]
         },
         "layout": {
          "annotationdefaults": {
           "arrowcolor": "#2a3f5f",
           "arrowhead": 0,
           "arrowwidth": 1
          },
          "autotypenumbers": "strict",
          "coloraxis": {
           "colorbar": {
            "outlinewidth": 0,
            "ticks": ""
           }
          },
          "colorscale": {
           "diverging": [
            [
             0,
             "#8e0152"
            ],
            [
             0.1,
             "#c51b7d"
            ],
            [
             0.2,
             "#de77ae"
            ],
            [
             0.3,
             "#f1b6da"
            ],
            [
             0.4,
             "#fde0ef"
            ],
            [
             0.5,
             "#f7f7f7"
            ],
            [
             0.6,
             "#e6f5d0"
            ],
            [
             0.7,
             "#b8e186"
            ],
            [
             0.8,
             "#7fbc41"
            ],
            [
             0.9,
             "#4d9221"
            ],
            [
             1,
             "#276419"
            ]
           ],
           "sequential": [
            [
             0,
             "#0d0887"
            ],
            [
             0.1111111111111111,
             "#46039f"
            ],
            [
             0.2222222222222222,
             "#7201a8"
            ],
            [
             0.3333333333333333,
             "#9c179e"
            ],
            [
             0.4444444444444444,
             "#bd3786"
            ],
            [
             0.5555555555555556,
             "#d8576b"
            ],
            [
             0.6666666666666666,
             "#ed7953"
            ],
            [
             0.7777777777777778,
             "#fb9f3a"
            ],
            [
             0.8888888888888888,
             "#fdca26"
            ],
            [
             1,
             "#f0f921"
            ]
           ],
           "sequentialminus": [
            [
             0,
             "#0d0887"
            ],
            [
             0.1111111111111111,
             "#46039f"
            ],
            [
             0.2222222222222222,
             "#7201a8"
            ],
            [
             0.3333333333333333,
             "#9c179e"
            ],
            [
             0.4444444444444444,
             "#bd3786"
            ],
            [
             0.5555555555555556,
             "#d8576b"
            ],
            [
             0.6666666666666666,
             "#ed7953"
            ],
            [
             0.7777777777777778,
             "#fb9f3a"
            ],
            [
             0.8888888888888888,
             "#fdca26"
            ],
            [
             1,
             "#f0f921"
            ]
           ]
          },
          "colorway": [
           "#636efa",
           "#EF553B",
           "#00cc96",
           "#ab63fa",
           "#FFA15A",
           "#19d3f3",
           "#FF6692",
           "#B6E880",
           "#FF97FF",
           "#FECB52"
          ],
          "font": {
           "color": "#2a3f5f"
          },
          "geo": {
           "bgcolor": "white",
           "lakecolor": "white",
           "landcolor": "#E5ECF6",
           "showlakes": true,
           "showland": true,
           "subunitcolor": "white"
          },
          "hoverlabel": {
           "align": "left"
          },
          "hovermode": "closest",
          "mapbox": {
           "style": "light"
          },
          "paper_bgcolor": "white",
          "plot_bgcolor": "#E5ECF6",
          "polar": {
           "angularaxis": {
            "gridcolor": "white",
            "linecolor": "white",
            "ticks": ""
           },
           "bgcolor": "#E5ECF6",
           "radialaxis": {
            "gridcolor": "white",
            "linecolor": "white",
            "ticks": ""
           }
          },
          "scene": {
           "xaxis": {
            "backgroundcolor": "#E5ECF6",
            "gridcolor": "white",
            "gridwidth": 2,
            "linecolor": "white",
            "showbackground": true,
            "ticks": "",
            "zerolinecolor": "white"
           },
           "yaxis": {
            "backgroundcolor": "#E5ECF6",
            "gridcolor": "white",
            "gridwidth": 2,
            "linecolor": "white",
            "showbackground": true,
            "ticks": "",
            "zerolinecolor": "white"
           },
           "zaxis": {
            "backgroundcolor": "#E5ECF6",
            "gridcolor": "white",
            "gridwidth": 2,
            "linecolor": "white",
            "showbackground": true,
            "ticks": "",
            "zerolinecolor": "white"
           }
          },
          "shapedefaults": {
           "line": {
            "color": "#2a3f5f"
           }
          },
          "ternary": {
           "aaxis": {
            "gridcolor": "white",
            "linecolor": "white",
            "ticks": ""
           },
           "baxis": {
            "gridcolor": "white",
            "linecolor": "white",
            "ticks": ""
           },
           "bgcolor": "#E5ECF6",
           "caxis": {
            "gridcolor": "white",
            "linecolor": "white",
            "ticks": ""
           }
          },
          "title": {
           "x": 0.05
          },
          "xaxis": {
           "automargin": true,
           "gridcolor": "white",
           "linecolor": "white",
           "ticks": "",
           "title": {
            "standoff": 15
           },
           "zerolinecolor": "white",
           "zerolinewidth": 2
          },
          "yaxis": {
           "automargin": true,
           "gridcolor": "white",
           "linecolor": "white",
           "ticks": "",
           "title": {
            "standoff": 15
           },
           "zerolinecolor": "white",
           "zerolinewidth": 2
          }
         }
        },
        "title": {
         "text": "Standard deviation of the data for Magnetometers",
         "x": 0.5,
         "xanchor": "center",
         "y": 0.85,
         "yanchor": "top"
        },
        "xaxis": {
         "exponentformat": "e",
         "showexponent": "all",
         "title": {
          "text": "standard deviation in T"
         }
        },
        "yaxis": {
         "showticklabels": false,
         "visible": false
        }
       }
      }
     },
     "metadata": {},
     "output_type": "display_data"
    }
   ],
   "source": [
    "fig_m, fig_path_m=boxplot_std_hovering_plotly(std_data=rmse_mags, tit='Magnetometers', channel_names=mags, sid='1')"
   ]
  },
  {
   "cell_type": "code",
   "execution_count": 11,
   "metadata": {},
   "outputs": [
    {
     "data": {
      "application/vnd.plotly.v1+json": {
       "config": {
        "plotlyServerURL": "https://plot.ly"
       },
       "data": [
        {
         "boxpoints": "all",
         "hovertemplate": "%{text}<br>STD: %{x: .0f}",
         "line": {
          "width": 1
         },
         "marker": {
          "size": 5
         },
         "name": "",
         "opacity": 0.7,
         "pointpos": 0,
         "text": [
          "MEG0112",
          "MEG0113",
          "MEG0122",
          "MEG0123",
          "MEG0132",
          "MEG0133",
          "MEG0142",
          "MEG0143",
          "MEG0212",
          "MEG0213",
          "MEG0222",
          "MEG0223",
          "MEG0232",
          "MEG0233",
          "MEG0242",
          "MEG0243",
          "MEG0312",
          "MEG0313",
          "MEG0322",
          "MEG0323",
          "MEG0332",
          "MEG0333",
          "MEG0342",
          "MEG0343",
          "MEG0412",
          "MEG0413",
          "MEG0422",
          "MEG0423",
          "MEG0432",
          "MEG0433",
          "MEG0442",
          "MEG0443",
          "MEG0512",
          "MEG0513",
          "MEG0522",
          "MEG0523",
          "MEG0532",
          "MEG0533",
          "MEG0542",
          "MEG0543",
          "MEG0612",
          "MEG0613",
          "MEG0622",
          "MEG0623",
          "MEG0632",
          "MEG0633",
          "MEG0642",
          "MEG0643",
          "MEG0712",
          "MEG0713",
          "MEG0722",
          "MEG0723",
          "MEG0732",
          "MEG0733",
          "MEG0742",
          "MEG0743",
          "MEG0812",
          "MEG0813",
          "MEG0822",
          "MEG0823",
          "MEG0912",
          "MEG0913",
          "MEG0922",
          "MEG0923",
          "MEG0932",
          "MEG0933",
          "MEG0942",
          "MEG0943",
          "MEG1012",
          "MEG1013",
          "MEG1022",
          "MEG1023",
          "MEG1032",
          "MEG1033",
          "MEG1042",
          "MEG1043",
          "MEG1112",
          "MEG1113",
          "MEG1122",
          "MEG1123",
          "MEG1132",
          "MEG1133",
          "MEG1142",
          "MEG1143",
          "MEG1212",
          "MEG1213",
          "MEG1222",
          "MEG1223",
          "MEG1232",
          "MEG1233",
          "MEG1242",
          "MEG1243",
          "MEG1312",
          "MEG1313",
          "MEG1322",
          "MEG1323",
          "MEG1332",
          "MEG1333",
          "MEG1342",
          "MEG1343",
          "MEG1412",
          "MEG1413",
          "MEG1422",
          "MEG1423",
          "MEG1432",
          "MEG1433",
          "MEG1442",
          "MEG1443",
          "MEG1512",
          "MEG1513",
          "MEG1522",
          "MEG1523",
          "MEG1532",
          "MEG1533",
          "MEG1542",
          "MEG1543",
          "MEG1612",
          "MEG1613",
          "MEG1622",
          "MEG1623",
          "MEG1632",
          "MEG1633",
          "MEG1642",
          "MEG1643",
          "MEG1712",
          "MEG1713",
          "MEG1722",
          "MEG1723",
          "MEG1732",
          "MEG1733",
          "MEG1742",
          "MEG1743",
          "MEG1812",
          "MEG1813",
          "MEG1822",
          "MEG1823",
          "MEG1832",
          "MEG1833",
          "MEG1842",
          "MEG1843",
          "MEG1912",
          "MEG1913",
          "MEG1922",
          "MEG1923",
          "MEG1932",
          "MEG1933",
          "MEG1942",
          "MEG1943",
          "MEG2012",
          "MEG2013",
          "MEG2022",
          "MEG2023",
          "MEG2032",
          "MEG2033",
          "MEG2042",
          "MEG2043",
          "MEG2112",
          "MEG2113",
          "MEG2122",
          "MEG2123",
          "MEG2132",
          "MEG2133",
          "MEG2142",
          "MEG2143",
          "MEG2212",
          "MEG2213",
          "MEG2222",
          "MEG2223",
          "MEG2232",
          "MEG2233",
          "MEG2242",
          "MEG2243",
          "MEG2312",
          "MEG2313",
          "MEG2322",
          "MEG2323",
          "MEG2332",
          "MEG2333",
          "MEG2342",
          "MEG2343",
          "MEG2412",
          "MEG2413",
          "MEG2422",
          "MEG2423",
          "MEG2432",
          "MEG2433",
          "MEG2442",
          "MEG2443",
          "MEG2512",
          "MEG2513",
          "MEG2522",
          "MEG2523",
          "MEG2532",
          "MEG2533",
          "MEG2542",
          "MEG2543",
          "MEG2612",
          "MEG2613",
          "MEG2622",
          "MEG2623",
          "MEG2632",
          "MEG2633",
          "MEG2642",
          "MEG2643"
         ],
         "type": "box",
         "x": [
          5.654446455602657e-12,
          6.6983714822326075e-12,
          6.2807948649252664e-12,
          4.836208107090287e-12,
          6.043866602895014e-12,
          5.213135140659751e-12,
          4.874623250390305e-12,
          6.5098651660033575e-12,
          4.569783348589936e-12,
          5.283006756446164e-12,
          4.972430563670774e-12,
          6.34500140782618e-12,
          4.95772999132874e-12,
          4.1890646676238925e-12,
          5.272791564636197e-12,
          4.8825594917836225e-12,
          4.823310275367616e-12,
          5.156491596941798e-12,
          4.642734421597768e-12,
          3.739980439737144e-12,
          3.490125189759866e-12,
          4.018262945515667e-12,
          4.17750629856248e-12,
          5.664596189063058e-12,
          3.7172381088672596e-12,
          4.219746430149117e-12,
          4.5446225115899886e-12,
          3.832833529569504e-12,
          4.424870476129204e-12,
          3.734288018335157e-12,
          4.115678297944214e-12,
          4.544513593969784e-12,
          4.167461643702585e-12,
          3.9166680918787305e-12,
          4.32356569227697e-12,
          4.305187598430688e-12,
          3.795161368690915e-12,
          3.712705826426946e-12,
          4.262593688521634e-12,
          3.872268479225214e-12,
          3.689460400202146e-12,
          3.2534734054981853e-12,
          3.4594014052567623e-12,
          3.799779692930281e-12,
          3.541860671355439e-12,
          3.532891996721086e-12,
          3.5672175142263183e-12,
          3.790242519431097e-12,
          3.56475819662264e-12,
          3.9327068036285375e-12,
          4.125286157466622e-12,
          4.247916974534261e-12,
          3.692470284254447e-12,
          3.4431010294028574e-12,
          3.693504673475704e-12,
          3.5823256795837035e-12,
          3.98948350149382e-12,
          5.159110250032495e-12,
          4.816197311209315e-12,
          3.81291617707697e-12,
          3.884223346827571e-12,
          4.1899676520224174e-12,
          4.332112653421734e-12,
          4.466676779848809e-12,
          3.954508231312504e-12,
          3.672307025101567e-12,
          3.5364925047212224e-12,
          3.95882486347569e-12,
          3.913137953914536e-12,
          3.854999182126226e-12,
          3.6286204771419828e-12,
          7.179247707983359e-12,
          3.821153149675178e-12,
          4.0694317436614646e-12,
          4.4281413390673406e-12,
          4.137376733991288e-12,
          4.29935842738784e-12,
          6.142174789289679e-12,
          4.325426313033707e-12,
          4.61041078116649e-12,
          4.749123561210383e-12,
          4.861703084309156e-12,
          4.349910909845728e-12,
          3.4982382818054468e-12,
          4.434241366164913e-12,
          5.4310871820412045e-12,
          5.089416432418534e-12,
          6.155174491883253e-12,
          4.623823339830842e-12,
          4.245494570170193e-12,
          3.836522003062451e-12,
          4.369255513953562e-12,
          5.690347456490431e-12,
          4.441999142087127e-12,
          6.426603801427301e-12,
          6.757557360268088e-12,
          6.142161460518508e-12,
          6.443204164505866e-12,
          5.6897354457213075e-12,
          4.64939812554911e-12,
          6.777417001822614e-12,
          5.123151222452619e-12,
          4.987110415226251e-12,
          6.246322190220187e-12,
          5.024049016654044e-12,
          6.608249180948464e-12,
          6.795936392344075e-12,
          6.443887701361362e-12,
          5.757063827293313e-12,
          5.858286508765787e-12,
          5.91471425034197e-12,
          5.209144756814918e-12,
          4.880303643109385e-12,
          6.755021734017031e-12,
          4.247879511872677e-12,
          6.721062078042034e-12,
          4.919047645615963e-12,
          5.121666164056167e-12,
          5.083867092150277e-12,
          4.7510556666746154e-12,
          5.09407692595191e-12,
          4.5480989796710415e-12,
          4.862754109154926e-12,
          5.628197654998284e-12,
          5.547693102252039e-12,
          7.471548646598566e-12,
          5.859653985652801e-12,
          4.934875238453857e-12,
          6.691892290818831e-12,
          6.239385627201466e-12,
          7.777625918922468e-12,
          8.688099976270316e-12,
          3.83992872404088e-12,
          7.323041849074902e-12,
          4.157635496953024e-12,
          3.749523030025184e-12,
          4.110544123038221e-12,
          4.32650003251166e-12,
          4.451396755476497e-12,
          4.102066428550547e-12,
          5.342289947677324e-12,
          5.178309557950457e-12,
          7.254700915844952e-12,
          6.853831580367702e-12,
          6.896523110045817e-12,
          9.854347047499332e-12,
          5.712012020671314e-12,
          6.240568390122287e-12,
          4.742193358025055e-12,
          4.549934340884007e-12,
          5.201700014738587e-12,
          4.642269962049434e-12,
          5.727366050512176e-12,
          6.334991477754901e-12,
          5.375127299460747e-12,
          5.741092353925998e-12,
          7.33556825323922e-12,
          6.906380096725283e-12,
          7.485778276978664e-12,
          7.851505509055003e-12,
          7.733216376877372e-12,
          9.852350676783212e-12,
          1.1011465778506496e-11,
          7.914098875748662e-12,
          5.52837904037983e-12,
          4.038258375561849e-12,
          4.339585853810939e-12,
          4.8393296757874416e-12,
          4.180390636108691e-12,
          4.73634551413825e-12,
          3.432198779066917e-12,
          4.271148132887603e-12,
          5.991767811005969e-12,
          5.432960097085008e-12,
          6.4109774946053025e-12,
          6.9919399404040855e-12,
          7.310619195440329e-12,
          8.879327559451373e-12,
          6.77302923469043e-12,
          6.732651241531052e-12,
          5.848551507551924e-12,
          4.984952806201455e-12,
          6.488077792602841e-12,
          6.250668361609481e-12,
          6.469168742976848e-12,
          6.595572814758267e-12,
          5.822210034938102e-12,
          4.826795098066329e-12,
          7.323985870256048e-12,
          8.418419866965335e-12,
          7.245823122411884e-12,
          6.147068225109211e-12,
          5.6187107579959854e-12,
          8.487226203982444e-12,
          7.2267061777520435e-12,
          8.861947868363884e-12,
          7.044881351854446e-12,
          6.78888195557843e-12,
          6.6828952205997156e-12,
          6.9611438305888246e-12,
          4.877872625178548e-12,
          7.538998586842464e-12,
          6.6484634841459746e-12,
          5.933038497159201e-12
         ]
        }
       ],
       "layout": {
        "template": {
         "data": {
          "bar": [
           {
            "error_x": {
             "color": "#2a3f5f"
            },
            "error_y": {
             "color": "#2a3f5f"
            },
            "marker": {
             "line": {
              "color": "#E5ECF6",
              "width": 0.5
             },
             "pattern": {
              "fillmode": "overlay",
              "size": 10,
              "solidity": 0.2
             }
            },
            "type": "bar"
           }
          ],
          "barpolar": [
           {
            "marker": {
             "line": {
              "color": "#E5ECF6",
              "width": 0.5
             },
             "pattern": {
              "fillmode": "overlay",
              "size": 10,
              "solidity": 0.2
             }
            },
            "type": "barpolar"
           }
          ],
          "carpet": [
           {
            "aaxis": {
             "endlinecolor": "#2a3f5f",
             "gridcolor": "white",
             "linecolor": "white",
             "minorgridcolor": "white",
             "startlinecolor": "#2a3f5f"
            },
            "baxis": {
             "endlinecolor": "#2a3f5f",
             "gridcolor": "white",
             "linecolor": "white",
             "minorgridcolor": "white",
             "startlinecolor": "#2a3f5f"
            },
            "type": "carpet"
           }
          ],
          "choropleth": [
           {
            "colorbar": {
             "outlinewidth": 0,
             "ticks": ""
            },
            "type": "choropleth"
           }
          ],
          "contour": [
           {
            "colorbar": {
             "outlinewidth": 0,
             "ticks": ""
            },
            "colorscale": [
             [
              0,
              "#0d0887"
             ],
             [
              0.1111111111111111,
              "#46039f"
             ],
             [
              0.2222222222222222,
              "#7201a8"
             ],
             [
              0.3333333333333333,
              "#9c179e"
             ],
             [
              0.4444444444444444,
              "#bd3786"
             ],
             [
              0.5555555555555556,
              "#d8576b"
             ],
             [
              0.6666666666666666,
              "#ed7953"
             ],
             [
              0.7777777777777778,
              "#fb9f3a"
             ],
             [
              0.8888888888888888,
              "#fdca26"
             ],
             [
              1,
              "#f0f921"
             ]
            ],
            "type": "contour"
           }
          ],
          "contourcarpet": [
           {
            "colorbar": {
             "outlinewidth": 0,
             "ticks": ""
            },
            "type": "contourcarpet"
           }
          ],
          "heatmap": [
           {
            "colorbar": {
             "outlinewidth": 0,
             "ticks": ""
            },
            "colorscale": [
             [
              0,
              "#0d0887"
             ],
             [
              0.1111111111111111,
              "#46039f"
             ],
             [
              0.2222222222222222,
              "#7201a8"
             ],
             [
              0.3333333333333333,
              "#9c179e"
             ],
             [
              0.4444444444444444,
              "#bd3786"
             ],
             [
              0.5555555555555556,
              "#d8576b"
             ],
             [
              0.6666666666666666,
              "#ed7953"
             ],
             [
              0.7777777777777778,
              "#fb9f3a"
             ],
             [
              0.8888888888888888,
              "#fdca26"
             ],
             [
              1,
              "#f0f921"
             ]
            ],
            "type": "heatmap"
           }
          ],
          "heatmapgl": [
           {
            "colorbar": {
             "outlinewidth": 0,
             "ticks": ""
            },
            "colorscale": [
             [
              0,
              "#0d0887"
             ],
             [
              0.1111111111111111,
              "#46039f"
             ],
             [
              0.2222222222222222,
              "#7201a8"
             ],
             [
              0.3333333333333333,
              "#9c179e"
             ],
             [
              0.4444444444444444,
              "#bd3786"
             ],
             [
              0.5555555555555556,
              "#d8576b"
             ],
             [
              0.6666666666666666,
              "#ed7953"
             ],
             [
              0.7777777777777778,
              "#fb9f3a"
             ],
             [
              0.8888888888888888,
              "#fdca26"
             ],
             [
              1,
              "#f0f921"
             ]
            ],
            "type": "heatmapgl"
           }
          ],
          "histogram": [
           {
            "marker": {
             "pattern": {
              "fillmode": "overlay",
              "size": 10,
              "solidity": 0.2
             }
            },
            "type": "histogram"
           }
          ],
          "histogram2d": [
           {
            "colorbar": {
             "outlinewidth": 0,
             "ticks": ""
            },
            "colorscale": [
             [
              0,
              "#0d0887"
             ],
             [
              0.1111111111111111,
              "#46039f"
             ],
             [
              0.2222222222222222,
              "#7201a8"
             ],
             [
              0.3333333333333333,
              "#9c179e"
             ],
             [
              0.4444444444444444,
              "#bd3786"
             ],
             [
              0.5555555555555556,
              "#d8576b"
             ],
             [
              0.6666666666666666,
              "#ed7953"
             ],
             [
              0.7777777777777778,
              "#fb9f3a"
             ],
             [
              0.8888888888888888,
              "#fdca26"
             ],
             [
              1,
              "#f0f921"
             ]
            ],
            "type": "histogram2d"
           }
          ],
          "histogram2dcontour": [
           {
            "colorbar": {
             "outlinewidth": 0,
             "ticks": ""
            },
            "colorscale": [
             [
              0,
              "#0d0887"
             ],
             [
              0.1111111111111111,
              "#46039f"
             ],
             [
              0.2222222222222222,
              "#7201a8"
             ],
             [
              0.3333333333333333,
              "#9c179e"
             ],
             [
              0.4444444444444444,
              "#bd3786"
             ],
             [
              0.5555555555555556,
              "#d8576b"
             ],
             [
              0.6666666666666666,
              "#ed7953"
             ],
             [
              0.7777777777777778,
              "#fb9f3a"
             ],
             [
              0.8888888888888888,
              "#fdca26"
             ],
             [
              1,
              "#f0f921"
             ]
            ],
            "type": "histogram2dcontour"
           }
          ],
          "mesh3d": [
           {
            "colorbar": {
             "outlinewidth": 0,
             "ticks": ""
            },
            "type": "mesh3d"
           }
          ],
          "parcoords": [
           {
            "line": {
             "colorbar": {
              "outlinewidth": 0,
              "ticks": ""
             }
            },
            "type": "parcoords"
           }
          ],
          "pie": [
           {
            "automargin": true,
            "type": "pie"
           }
          ],
          "scatter": [
           {
            "marker": {
             "colorbar": {
              "outlinewidth": 0,
              "ticks": ""
             }
            },
            "type": "scatter"
           }
          ],
          "scatter3d": [
           {
            "line": {
             "colorbar": {
              "outlinewidth": 0,
              "ticks": ""
             }
            },
            "marker": {
             "colorbar": {
              "outlinewidth": 0,
              "ticks": ""
             }
            },
            "type": "scatter3d"
           }
          ],
          "scattercarpet": [
           {
            "marker": {
             "colorbar": {
              "outlinewidth": 0,
              "ticks": ""
             }
            },
            "type": "scattercarpet"
           }
          ],
          "scattergeo": [
           {
            "marker": {
             "colorbar": {
              "outlinewidth": 0,
              "ticks": ""
             }
            },
            "type": "scattergeo"
           }
          ],
          "scattergl": [
           {
            "marker": {
             "colorbar": {
              "outlinewidth": 0,
              "ticks": ""
             }
            },
            "type": "scattergl"
           }
          ],
          "scattermapbox": [
           {
            "marker": {
             "colorbar": {
              "outlinewidth": 0,
              "ticks": ""
             }
            },
            "type": "scattermapbox"
           }
          ],
          "scatterpolar": [
           {
            "marker": {
             "colorbar": {
              "outlinewidth": 0,
              "ticks": ""
             }
            },
            "type": "scatterpolar"
           }
          ],
          "scatterpolargl": [
           {
            "marker": {
             "colorbar": {
              "outlinewidth": 0,
              "ticks": ""
             }
            },
            "type": "scatterpolargl"
           }
          ],
          "scatterternary": [
           {
            "marker": {
             "colorbar": {
              "outlinewidth": 0,
              "ticks": ""
             }
            },
            "type": "scatterternary"
           }
          ],
          "surface": [
           {
            "colorbar": {
             "outlinewidth": 0,
             "ticks": ""
            },
            "colorscale": [
             [
              0,
              "#0d0887"
             ],
             [
              0.1111111111111111,
              "#46039f"
             ],
             [
              0.2222222222222222,
              "#7201a8"
             ],
             [
              0.3333333333333333,
              "#9c179e"
             ],
             [
              0.4444444444444444,
              "#bd3786"
             ],
             [
              0.5555555555555556,
              "#d8576b"
             ],
             [
              0.6666666666666666,
              "#ed7953"
             ],
             [
              0.7777777777777778,
              "#fb9f3a"
             ],
             [
              0.8888888888888888,
              "#fdca26"
             ],
             [
              1,
              "#f0f921"
             ]
            ],
            "type": "surface"
           }
          ],
          "table": [
           {
            "cells": {
             "fill": {
              "color": "#EBF0F8"
             },
             "line": {
              "color": "white"
             }
            },
            "header": {
             "fill": {
              "color": "#C8D4E3"
             },
             "line": {
              "color": "white"
             }
            },
            "type": "table"
           }
          ]
         },
         "layout": {
          "annotationdefaults": {
           "arrowcolor": "#2a3f5f",
           "arrowhead": 0,
           "arrowwidth": 1
          },
          "autotypenumbers": "strict",
          "coloraxis": {
           "colorbar": {
            "outlinewidth": 0,
            "ticks": ""
           }
          },
          "colorscale": {
           "diverging": [
            [
             0,
             "#8e0152"
            ],
            [
             0.1,
             "#c51b7d"
            ],
            [
             0.2,
             "#de77ae"
            ],
            [
             0.3,
             "#f1b6da"
            ],
            [
             0.4,
             "#fde0ef"
            ],
            [
             0.5,
             "#f7f7f7"
            ],
            [
             0.6,
             "#e6f5d0"
            ],
            [
             0.7,
             "#b8e186"
            ],
            [
             0.8,
             "#7fbc41"
            ],
            [
             0.9,
             "#4d9221"
            ],
            [
             1,
             "#276419"
            ]
           ],
           "sequential": [
            [
             0,
             "#0d0887"
            ],
            [
             0.1111111111111111,
             "#46039f"
            ],
            [
             0.2222222222222222,
             "#7201a8"
            ],
            [
             0.3333333333333333,
             "#9c179e"
            ],
            [
             0.4444444444444444,
             "#bd3786"
            ],
            [
             0.5555555555555556,
             "#d8576b"
            ],
            [
             0.6666666666666666,
             "#ed7953"
            ],
            [
             0.7777777777777778,
             "#fb9f3a"
            ],
            [
             0.8888888888888888,
             "#fdca26"
            ],
            [
             1,
             "#f0f921"
            ]
           ],
           "sequentialminus": [
            [
             0,
             "#0d0887"
            ],
            [
             0.1111111111111111,
             "#46039f"
            ],
            [
             0.2222222222222222,
             "#7201a8"
            ],
            [
             0.3333333333333333,
             "#9c179e"
            ],
            [
             0.4444444444444444,
             "#bd3786"
            ],
            [
             0.5555555555555556,
             "#d8576b"
            ],
            [
             0.6666666666666666,
             "#ed7953"
            ],
            [
             0.7777777777777778,
             "#fb9f3a"
            ],
            [
             0.8888888888888888,
             "#fdca26"
            ],
            [
             1,
             "#f0f921"
            ]
           ]
          },
          "colorway": [
           "#636efa",
           "#EF553B",
           "#00cc96",
           "#ab63fa",
           "#FFA15A",
           "#19d3f3",
           "#FF6692",
           "#B6E880",
           "#FF97FF",
           "#FECB52"
          ],
          "font": {
           "color": "#2a3f5f"
          },
          "geo": {
           "bgcolor": "white",
           "lakecolor": "white",
           "landcolor": "#E5ECF6",
           "showlakes": true,
           "showland": true,
           "subunitcolor": "white"
          },
          "hoverlabel": {
           "align": "left"
          },
          "hovermode": "closest",
          "mapbox": {
           "style": "light"
          },
          "paper_bgcolor": "white",
          "plot_bgcolor": "#E5ECF6",
          "polar": {
           "angularaxis": {
            "gridcolor": "white",
            "linecolor": "white",
            "ticks": ""
           },
           "bgcolor": "#E5ECF6",
           "radialaxis": {
            "gridcolor": "white",
            "linecolor": "white",
            "ticks": ""
           }
          },
          "scene": {
           "xaxis": {
            "backgroundcolor": "#E5ECF6",
            "gridcolor": "white",
            "gridwidth": 2,
            "linecolor": "white",
            "showbackground": true,
            "ticks": "",
            "zerolinecolor": "white"
           },
           "yaxis": {
            "backgroundcolor": "#E5ECF6",
            "gridcolor": "white",
            "gridwidth": 2,
            "linecolor": "white",
            "showbackground": true,
            "ticks": "",
            "zerolinecolor": "white"
           },
           "zaxis": {
            "backgroundcolor": "#E5ECF6",
            "gridcolor": "white",
            "gridwidth": 2,
            "linecolor": "white",
            "showbackground": true,
            "ticks": "",
            "zerolinecolor": "white"
           }
          },
          "shapedefaults": {
           "line": {
            "color": "#2a3f5f"
           }
          },
          "ternary": {
           "aaxis": {
            "gridcolor": "white",
            "linecolor": "white",
            "ticks": ""
           },
           "baxis": {
            "gridcolor": "white",
            "linecolor": "white",
            "ticks": ""
           },
           "bgcolor": "#E5ECF6",
           "caxis": {
            "gridcolor": "white",
            "linecolor": "white",
            "ticks": ""
           }
          },
          "title": {
           "x": 0.05
          },
          "xaxis": {
           "automargin": true,
           "gridcolor": "white",
           "linecolor": "white",
           "ticks": "",
           "title": {
            "standoff": 15
           },
           "zerolinecolor": "white",
           "zerolinewidth": 2
          },
          "yaxis": {
           "automargin": true,
           "gridcolor": "white",
           "linecolor": "white",
           "ticks": "",
           "title": {
            "standoff": 15
           },
           "zerolinecolor": "white",
           "zerolinewidth": 2
          }
         }
        },
        "title": {
         "text": "Standard deviation of the data for Gradiometers",
         "x": 0.5,
         "xanchor": "center",
         "y": 0.85,
         "yanchor": "top"
        },
        "xaxis": {
         "exponentformat": "e",
         "showexponent": "all",
         "title": {
          "text": "standard deviation in T/m"
         }
        },
        "yaxis": {
         "showticklabels": false,
         "visible": false
        }
       }
      }
     },
     "metadata": {},
     "output_type": "display_data"
    }
   ],
   "source": [
    "fig_g, fig_path_g=boxplot_std_hovering_plotly(std_data=rmse_grads, tit='Gradiometers', channel_names=grads, sid='1')\n",
    "\n"
   ]
  },
  {
   "cell_type": "code",
   "execution_count": 12,
   "metadata": {},
   "outputs": [],
   "source": [
    "#Create a function which will loop over mags or grads (separate epochs) and calculate std (used in RMSE_meg_epoch):\n",
    "def std_mg(mg_names: list, df_mg: pd.DataFrame, epoch_numbers: list) -> pd.DataFrame:\n",
    "\n",
    "    import pandas as pd\n",
    "    \n",
    "    dict_mg = {}\n",
    "\n",
    "    for ep in epoch_numbers: #loop over each epoch\n",
    "        rows_for_ep = [row for row in df_mg.iloc if row.epoch == ep] #take all rows of 1 epoch, all channels.\n",
    "        #std_epoch = [] #list with stds\n",
    "        rmse_epoch=[]\n",
    "\n",
    "        for ch_name in mg_names: #loop over channel names\n",
    "            data_ch_epoch = [row_mg[ch_name] for row_mg in rows_for_ep] #take the data for 1 epoch for 1 channel\n",
    "            rmse_ch_ep = RMSE(data_ch_epoch)\n",
    "            rmse_ch_ep=np.float64(rmse_ch_ep) #convert from ndarray to float\n",
    "            rmse_epoch.append(rmse_ch_ep)\n",
    "\n",
    "            #std_ch_ep = np.std(data_ch_epoch) #if want to use std instead\n",
    "            \n",
    "\n",
    "        dict_mg[ep] = rmse_epoch\n",
    "\n",
    "    df_std_mg = pd.DataFrame(dict_mg, index=mg_names)\n",
    "\n",
    "    return(df_std_mg)"
   ]
  },
  {
   "cell_type": "code",
   "execution_count": 13,
   "metadata": {},
   "outputs": [],
   "source": [
    "# STD over epochs: use 2 separate data frames for mags and grads in calculations:\n",
    "\n",
    "def RMSE_meg_epoch(mags: list, grads: list, std_lvl: int, n_events: int, df_epochs_mags: pd.DataFrame, df_epochs_grads:pd.DataFrame, sid: str):\n",
    "\n",
    "#def RMSE_meg_epoch(data=None, std_lvl=1, stim_channel='STI101',  min_duration_event=1.2, epoch_tmin=-0.2, epoch_tmax=1):\n",
    "    #stim_channel name is users input. but we can also let mne find it itself if 'None' is set? mne seems to have such function.\n",
    "\n",
    "    # 1) Loop over the epochs of each channel and check for every separate magn and grad and calculate std\n",
    "    \n",
    "    eps=list(range(0,n_events)) #list of epoch numbers\n",
    "   \n",
    "    mags_names = [mag[0] for mag in mags]\n",
    "    grads_names = [grad[0] for grad in grads]\n",
    "\n",
    "\n",
    "    #Apply function from above for mags and grads:\n",
    "    df_std_mags=std_mg(epoch_numbers=eps, df_mg=df_epochs_mags, mg_names=mags_names)\n",
    "    df_std_grads=std_mg(epoch_numbers=eps, df_mg=df_epochs_grads, mg_names=grads_names)\n",
    "\n",
    "    # 2) Check (which epochs for which channel) are over 1STD (or 2, 3, ets STDs) for (this epoch for all channels)\n",
    "\n",
    "    #Find what is 1 std over all channels per 1 epoch:\n",
    "    std_std_mags_per_epoch=[]\n",
    "    std_std_grads_per_epoch=[]\n",
    "    mean_std_mags_per_epoch=[]\n",
    "    mean_std_grads_per_epoch=[]\n",
    "\n",
    "    for ep in eps: #goes over each epoch\n",
    "        std_std_mags_per_epoch.append(np.std(df_std_mags.iloc[:, ep])) #std of stds of all channels of every single epoch\n",
    "        std_std_grads_per_epoch.append(np.std(df_std_grads.iloc[:, ep]))\n",
    "\n",
    "        mean_std_mags_per_epoch.append(np.mean(df_std_mags.iloc[:, ep])) #mean of stds of all channels of every single epoch\n",
    "        mean_std_grads_per_epoch.append(np.mean(df_std_grads.iloc[:, ep]))\n",
    "\n",
    "\n",
    "    df_ch_ep_large_std_mags=df_std_mags.copy()\n",
    "    df_ch_ep_large_std_grads=df_std_grads.copy()\n",
    "\n",
    "    df_ch_ep_small_std_mags=df_std_mags.copy()\n",
    "    df_ch_ep_small_std_grads=df_std_grads.copy()\n",
    "\n",
    "    #Now see which channles in epoch are over 1 std or under -1 std:\n",
    "    for ep in eps: #goes over each epoch   \n",
    "        df_ch_ep_large_std_mags.iloc[:,ep] = df_ch_ep_large_std_mags.iloc[:,ep] > mean_std_mags_per_epoch[ep]+std_lvl*std_std_mags_per_epoch[ep] #magnetometers\n",
    "        df_ch_ep_large_std_grads.iloc[:,ep] = df_ch_ep_large_std_grads.iloc[:,ep] > mean_std_grads_per_epoch[ep]+std_lvl*std_std_grads_per_epoch[ep] #gradiometers\n",
    "\n",
    "        df_ch_ep_small_std_mags.iloc[:,ep] = df_ch_ep_small_std_mags.iloc[:,ep] < mean_std_mags_per_epoch[ep]-std_lvl*std_std_mags_per_epoch[ep] #magnetometers\n",
    "        df_ch_ep_small_std_grads.iloc[:,ep] = df_ch_ep_small_std_grads.iloc[:,ep] < mean_std_grads_per_epoch[ep]-std_lvl*std_std_grads_per_epoch[ep] #gradiometers\n",
    "\n",
    "\n",
    "    # Create csv files  for the user:\n",
    "\n",
    "    df_std_mags.to_csv('../derivatives/sub-'+sid+'/megqc/csv files/std_mags_per_epoch.csv')\n",
    "    \n",
    "    df_std_grads.to_csv('../derivatives/sub-'+sid+'/megqc/csv files/std_grads_per_epoch.csv')\n",
    "\n",
    "    df_ch_ep_large_std_mags.to_csv('../derivatives/sub-'+sid+'/megqc/csv files/Large_std_mags_per_epoch.csv')\n",
    "\n",
    "    df_ch_ep_large_std_grads.to_csv('../derivatives/sub-'+sid+'/megqc/csv files/Large_std_grads_per_epoch.csv')\n",
    "\n",
    "    df_ch_ep_small_std_mags.to_csv('../derivatives/sub-'+sid+'/megqc/csv files/Small_std_mags_per_epoch.csv')\n",
    "\n",
    "    df_ch_ep_small_std_grads.to_csv('../derivatives/sub-'+sid+'/megqc/csv files/Small_std_grads_per_epoch.csv')\n",
    "\n",
    "    return(df_std_mags, df_std_grads)"
   ]
  },
  {
   "cell_type": "code",
   "execution_count": 14,
   "metadata": {},
   "outputs": [],
   "source": [
    "#try (will output csv files):\n",
    "# USING NON RESAMPLED DATA\n",
    "\n",
    "df_std_mags, df_std_grads=RMSE_meg_epoch(mags=mags, grads=grads, std_lvl=1, n_events=n_events, df_epochs_mags=df_epochs_mags, df_epochs_grads=df_epochs_grads, sid='1') "
   ]
  },
  {
   "cell_type": "code",
   "execution_count": 15,
   "metadata": {},
   "outputs": [],
   "source": [
    "def boxplot_std_channel_epoch_hovering_plotly(df_mg: pd.DataFrame, tit: str, sid: str):\n",
    "\n",
    "  unit='?'\n",
    "  if tit=='Magnetometers':\n",
    "    unit='T'\n",
    "  elif tit=='Gradiometers':\n",
    "    unit='T/m'\n",
    "  else:\n",
    "    print('Please check tit input. Has to be \"Magnetoneters\" or \"Gradiometers\"')\n",
    "\n",
    "  #transpose the data to plot the boxplots on x axes\n",
    "  df_mg_transposed = df_mg.T \n",
    "\n",
    "  #collect all names of original df into a list to use as tick labels:\n",
    "  ch_names=list(df_mg_transposed) \n",
    "\n",
    "  fig = go.Figure()\n",
    "\n",
    "  for col in df_mg_transposed:\n",
    "    fig.add_trace(go.Box(y=df_mg_transposed[col].values, \n",
    "      name=df_mg_transposed[col].name, \n",
    "      opacity=0.7, \n",
    "      boxpoints=\"all\", \n",
    "      pointpos=0,\n",
    "      marker_size=3,\n",
    "      line_width=1,\n",
    "      text=df_mg_transposed[col].index))\n",
    "    fig.update_traces(hovertemplate='Epoch: %{text}'+'<br>STD: %{y: .0f}')\n",
    "      \n",
    "\n",
    "  fig.update_layout(\n",
    "      xaxis = dict(\n",
    "          tickmode = 'array',\n",
    "          tickvals = [v for v in range(0, len(ch_names))],\n",
    "          ticktext = ch_names,\n",
    "          rangeslider=dict(visible=True)\n",
    "      ),\n",
    "      yaxis = dict(\n",
    "        showexponent = 'all',\n",
    "        exponentformat = 'e'),\n",
    "      yaxis_title=\"standard deviation in \"+unit,\n",
    "      title={\n",
    "        'text': \"STDs over epochs for \"+tit,\n",
    "        'y':0.85,\n",
    "        'x':0.5,\n",
    "        'xanchor': 'center',\n",
    "        'yanchor': 'top'})\n",
    "    \n",
    "  fig.show()\n",
    "\n",
    "  fig_name='Stds_epochs_per_channel_'+tit+'.html'\n",
    "  fig_path='../derivatives/sub-'+sid+'/megqc/figures/'+fig_name\n",
    "  fig.write_html(fig_path)\n",
    "\n",
    "  return(fig, fig_path)\n",
    "\n",
    "  #figure out weird y axis, hovering is too long, simple slider"
   ]
  },
  {
   "cell_type": "code",
   "execution_count": 16,
   "metadata": {},
   "outputs": [
    {
     "data": {
      "application/vnd.plotly.v1+json": {
       "config": {
        "plotlyServerURL": "https://plot.ly"
       },
       "data": [
        {
         "boxpoints": "all",
         "hovertemplate": "Epoch: %{text}<br>STD: %{y: .0f}",
         "line": {
          "width": 1
         },
         "marker": {
          "size": 3
         },
         "name": "MEG0111",
         "opacity": 0.7,
         "pointpos": 0,
         "text": [
          0,
          1,
          2,
          3,
          4,
          5,
          6,
          7
         ],
         "type": "box",
         "y": [
          1.32528280845869e-13,
          1.1630836870227407e-13,
          1.271143729912133e-13,
          1.5765947270757759e-13,
          1.6460744851676256e-13,
          1.4261713574224245e-13,
          1.2113399057446468e-13,
          1.4804860614390638e-13
         ]
        },
        {
         "boxpoints": "all",
         "hovertemplate": "Epoch: %{text}<br>STD: %{y: .0f}",
         "line": {
          "width": 1
         },
         "marker": {
          "size": 3
         },
         "name": "MEG0121",
         "opacity": 0.7,
         "pointpos": 0,
         "text": [
          0,
          1,
          2,
          3,
          4,
          5,
          6,
          7
         ],
         "type": "box",
         "y": [
          8.536337345494982e-14,
          9.04308576697243e-14,
          7.562593942697918e-14,
          1.4511991037242926e-13,
          8.870209937816291e-14,
          7.407725693798504e-14,
          8.786774525307712e-14,
          1.0667152545471412e-13
         ]
        },
        {
         "boxpoints": "all",
         "hovertemplate": "Epoch: %{text}<br>STD: %{y: .0f}",
         "line": {
          "width": 1
         },
         "marker": {
          "size": 3
         },
         "name": "MEG0131",
         "opacity": 0.7,
         "pointpos": 0,
         "text": [
          0,
          1,
          2,
          3,
          4,
          5,
          6,
          7
         ],
         "type": "box",
         "y": [
          7.684145950571286e-14,
          7.206944438785856e-14,
          7.998339010023375e-14,
          9.714822977449819e-14,
          9.026858097766963e-14,
          6.608875436372557e-14,
          9.047839293861901e-14,
          9.298711456760903e-14
         ]
        },
        {
         "boxpoints": "all",
         "hovertemplate": "Epoch: %{text}<br>STD: %{y: .0f}",
         "line": {
          "width": 1
         },
         "marker": {
          "size": 3
         },
         "name": "MEG0141",
         "opacity": 0.7,
         "pointpos": 0,
         "text": [
          0,
          1,
          2,
          3,
          4,
          5,
          6,
          7
         ],
         "type": "box",
         "y": [
          1.2027380526312693e-13,
          1.1659615292321706e-13,
          1.1463351645058504e-13,
          1.5933363387057302e-13,
          1.2557848327967177e-13,
          1.316861972345636e-13,
          1.2141428178508244e-13,
          1.4171733341894903e-13
         ]
        },
        {
         "boxpoints": "all",
         "hovertemplate": "Epoch: %{text}<br>STD: %{y: .0f}",
         "line": {
          "width": 1
         },
         "marker": {
          "size": 3
         },
         "name": "MEG0211",
         "opacity": 0.7,
         "pointpos": 0,
         "text": [
          0,
          1,
          2,
          3,
          4,
          5,
          6,
          7
         ],
         "type": "box",
         "y": [
          1.0678165118560899e-13,
          9.905669776049465e-14,
          1.1296894148970592e-13,
          9.712960470697888e-14,
          1.0153318450768074e-13,
          1.1467087712624482e-13,
          1.087693517254949e-13,
          1.5854551265143065e-13
         ]
        },
        {
         "boxpoints": "all",
         "hovertemplate": "Epoch: %{text}<br>STD: %{y: .0f}",
         "line": {
          "width": 1
         },
         "marker": {
          "size": 3
         },
         "name": "MEG0221",
         "opacity": 0.7,
         "pointpos": 0,
         "text": [
          0,
          1,
          2,
          3,
          4,
          5,
          6,
          7
         ],
         "type": "box",
         "y": [
          8.878269870024395e-14,
          8.583636314949841e-14,
          8.980550546474317e-14,
          7.982587037246769e-14,
          8.371668335222908e-14,
          1.0360406000887312e-13,
          8.63503119561481e-14,
          9.88307421906516e-14
         ]
        },
        {
         "boxpoints": "all",
         "hovertemplate": "Epoch: %{text}<br>STD: %{y: .0f}",
         "line": {
          "width": 1
         },
         "marker": {
          "size": 3
         },
         "name": "MEG0231",
         "opacity": 0.7,
         "pointpos": 0,
         "text": [
          0,
          1,
          2,
          3,
          4,
          5,
          6,
          7
         ],
         "type": "box",
         "y": [
          1.126011150532829e-13,
          9.422330022718308e-14,
          1.0036710895776835e-13,
          9.406321373593932e-14,
          1.0609891554515957e-13,
          1.0268939637172957e-13,
          1.1181973663184111e-13,
          1.3300446421905957e-13
         ]
        },
        {
         "boxpoints": "all",
         "hovertemplate": "Epoch: %{text}<br>STD: %{y: .0f}",
         "line": {
          "width": 1
         },
         "marker": {
          "size": 3
         },
         "name": "MEG0241",
         "opacity": 0.7,
         "pointpos": 0,
         "text": [
          0,
          1,
          2,
          3,
          4,
          5,
          6,
          7
         ],
         "type": "box",
         "y": [
          1.5001397064394195e-13,
          9.996268464604931e-14,
          1.1096310719592711e-13,
          1.2259875548331544e-13,
          1.3070623812163628e-13,
          1.280036918323418e-13,
          1.339498284856992e-13,
          2.0179555215086991e-13
         ]
        },
        {
         "boxpoints": "all",
         "hovertemplate": "Epoch: %{text}<br>STD: %{y: .0f}",
         "line": {
          "width": 1
         },
         "marker": {
          "size": 3
         },
         "name": "MEG0311",
         "opacity": 0.7,
         "pointpos": 0,
         "text": [
          0,
          1,
          2,
          3,
          4,
          5,
          6,
          7
         ],
         "type": "box",
         "y": [
          1.1159100683394759e-13,
          8.863800377917306e-14,
          1.141384751632673e-13,
          1.1264852488060526e-13,
          1.215948964465385e-13,
          1.2556828357550695e-13,
          9.54209337561959e-14,
          1.2323552237159006e-13
         ]
        },
        {
         "boxpoints": "all",
         "hovertemplate": "Epoch: %{text}<br>STD: %{y: .0f}",
         "line": {
          "width": 1
         },
         "marker": {
          "size": 3
         },
         "name": "MEG0321",
         "opacity": 0.7,
         "pointpos": 0,
         "text": [
          0,
          1,
          2,
          3,
          4,
          5,
          6,
          7
         ],
         "type": "box",
         "y": [
          8.183729196615636e-14,
          7.651738800071816e-14,
          8.6046991315331e-14,
          8.830505378576113e-14,
          8.095773868188226e-14,
          1.053931769668237e-13,
          8.729807455946506e-14,
          8.595308542955487e-14
         ]
        },
        {
         "boxpoints": "all",
         "hovertemplate": "Epoch: %{text}<br>STD: %{y: .0f}",
         "line": {
          "width": 1
         },
         "marker": {
          "size": 3
         },
         "name": "MEG0331",
         "opacity": 0.7,
         "pointpos": 0,
         "text": [
          0,
          1,
          2,
          3,
          4,
          5,
          6,
          7
         ],
         "type": "box",
         "y": [
          6.688048453433856e-14,
          6.300501963893282e-14,
          6.002718781333525e-14,
          7.491451572734227e-14,
          6.496245418840289e-14,
          8.132958649526336e-14,
          7.261965036141445e-14,
          9.319003732861832e-14
         ]
        },
        {
         "boxpoints": "all",
         "hovertemplate": "Epoch: %{text}<br>STD: %{y: .0f}",
         "line": {
          "width": 1
         },
         "marker": {
          "size": 3
         },
         "name": "MEG0341",
         "opacity": 0.7,
         "pointpos": 0,
         "text": [
          0,
          1,
          2,
          3,
          4,
          5,
          6,
          7
         ],
         "type": "box",
         "y": [
          8.301063192391248e-14,
          7.770189546199207e-14,
          9.759088000393463e-14,
          9.450637166596396e-14,
          7.500728926637331e-14,
          1.060004880135743e-13,
          9.260558215659434e-14,
          9.672272034831157e-14
         ]
        },
        {
         "boxpoints": "all",
         "hovertemplate": "Epoch: %{text}<br>STD: %{y: .0f}",
         "line": {
          "width": 1
         },
         "marker": {
          "size": 3
         },
         "name": "MEG0411",
         "opacity": 0.7,
         "pointpos": 0,
         "text": [
          0,
          1,
          2,
          3,
          4,
          5,
          6,
          7
         ],
         "type": "box",
         "y": [
          8.193084227547452e-14,
          8.327280757481966e-14,
          7.451236734605403e-14,
          8.005085142790062e-14,
          6.957361511234816e-14,
          9.523297865347813e-14,
          7.96434613178212e-14,
          8.538913294707815e-14
         ]
        },
        {
         "boxpoints": "all",
         "hovertemplate": "Epoch: %{text}<br>STD: %{y: .0f}",
         "line": {
          "width": 1
         },
         "marker": {
          "size": 3
         },
         "name": "MEG0421",
         "opacity": 0.7,
         "pointpos": 0,
         "text": [
          0,
          1,
          2,
          3,
          4,
          5,
          6,
          7
         ],
         "type": "box",
         "y": [
          5.681428064265987e-14,
          4.898972172835625e-14,
          5.056382870325123e-14,
          6.777840470298889e-14,
          4.785336584374184e-14,
          6.49346912433127e-14,
          6.060551077126466e-14,
          6.977003411123842e-14
         ]
        },
        {
         "boxpoints": "all",
         "hovertemplate": "Epoch: %{text}<br>STD: %{y: .0f}",
         "line": {
          "width": 1
         },
         "marker": {
          "size": 3
         },
         "name": "MEG0431",
         "opacity": 0.7,
         "pointpos": 0,
         "text": [
          0,
          1,
          2,
          3,
          4,
          5,
          6,
          7
         ],
         "type": "box",
         "y": [
          7.28597547800466e-14,
          5.475334179911457e-14,
          5.781634682202844e-14,
          6.325962627124777e-14,
          5.487391607641802e-14,
          6.805897693927217e-14,
          6.782652318835468e-14,
          8.496869742604878e-14
         ]
        },
        {
         "boxpoints": "all",
         "hovertemplate": "Epoch: %{text}<br>STD: %{y: .0f}",
         "line": {
          "width": 1
         },
         "marker": {
          "size": 3
         },
         "name": "MEG0441",
         "opacity": 0.7,
         "pointpos": 0,
         "text": [
          0,
          1,
          2,
          3,
          4,
          5,
          6,
          7
         ],
         "type": "box",
         "y": [
          7.331515232661168e-14,
          8.558426742997171e-14,
          7.140238096565009e-14,
          7.277372502106879e-14,
          7.769317000878739e-14,
          7.54892482403884e-14,
          7.051266480902107e-14,
          8.895249262594469e-14
         ]
        },
        {
         "boxpoints": "all",
         "hovertemplate": "Epoch: %{text}<br>STD: %{y: .0f}",
         "line": {
          "width": 1
         },
         "marker": {
          "size": 3
         },
         "name": "MEG0511",
         "opacity": 0.7,
         "pointpos": 0,
         "text": [
          0,
          1,
          2,
          3,
          4,
          5,
          6,
          7
         ],
         "type": "box",
         "y": [
          1.3727821336456833e-13,
          1.1955224783317604e-13,
          1.8758209908200274e-13,
          1.6970375767400243e-13,
          1.6087555534035702e-13,
          1.6313833784660387e-13,
          1.4438867873759406e-13,
          1.8438113075784075e-13
         ]
        },
        {
         "boxpoints": "all",
         "hovertemplate": "Epoch: %{text}<br>STD: %{y: .0f}",
         "line": {
          "width": 1
         },
         "marker": {
          "size": 3
         },
         "name": "MEG0521",
         "opacity": 0.7,
         "pointpos": 0,
         "text": [
          0,
          1,
          2,
          3,
          4,
          5,
          6,
          7
         ],
         "type": "box",
         "y": [
          1.458053378924497e-13,
          1.1787191213418397e-13,
          2.0080670940914382e-13,
          1.8583879769720244e-13,
          1.656322399297395e-13,
          1.7275949933538974e-13,
          1.4555514254552558e-13,
          1.8759413514429281e-13
         ]
        },
        {
         "boxpoints": "all",
         "hovertemplate": "Epoch: %{text}<br>STD: %{y: .0f}",
         "line": {
          "width": 1
         },
         "marker": {
          "size": 3
         },
         "name": "MEG0531",
         "opacity": 0.7,
         "pointpos": 0,
         "text": [
          0,
          1,
          2,
          3,
          4,
          5,
          6,
          7
         ],
         "type": "box",
         "y": [
          7.928668668310803e-14,
          6.970764350340987e-14,
          9.64754094270363e-14,
          8.784525755659022e-14,
          9.018448727657523e-14,
          7.072964189432744e-14,
          6.475511840770326e-14,
          8.676392977563255e-14
         ]
        },
        {
         "boxpoints": "all",
         "hovertemplate": "Epoch: %{text}<br>STD: %{y: .0f}",
         "line": {
          "width": 1
         },
         "marker": {
          "size": 3
         },
         "name": "MEG0541",
         "opacity": 0.7,
         "pointpos": 0,
         "text": [
          0,
          1,
          2,
          3,
          4,
          5,
          6,
          7
         ],
         "type": "box",
         "y": [
          1.0013821518628347e-13,
          8.405083223404003e-14,
          9.954590082838562e-14,
          9.459921362264077e-14,
          9.760162691824257e-14,
          8.577990286967252e-14,
          9.782068038486805e-14,
          9.875318727823019e-14
         ]
        },
        {
         "boxpoints": "all",
         "hovertemplate": "Epoch: %{text}<br>STD: %{y: .0f}",
         "line": {
          "width": 1
         },
         "marker": {
          "size": 3
         },
         "name": "MEG0611",
         "opacity": 0.7,
         "pointpos": 0,
         "text": [
          0,
          1,
          2,
          3,
          4,
          5,
          6,
          7
         ],
         "type": "box",
         "y": [
          5.958361679120158e-14,
          5.32592059112031e-14,
          5.88006171996888e-14,
          7.045561719378417e-14,
          7.13080611390202e-14,
          6.26480165625814e-14,
          7.153423875096935e-14,
          6.288812214320515e-14
         ]
        },
        {
         "boxpoints": "all",
         "hovertemplate": "Epoch: %{text}<br>STD: %{y: .0f}",
         "line": {
          "width": 1
         },
         "marker": {
          "size": 3
         },
         "name": "MEG0621",
         "opacity": 0.7,
         "pointpos": 0,
         "text": [
          0,
          1,
          2,
          3,
          4,
          5,
          6,
          7
         ],
         "type": "box",
         "y": [
          5.748080660404585e-14,
          5.0560661302494913e-14,
          6.20328995564232e-14,
          6.047413502041056e-14,
          6.208827405739412e-14,
          6.843730484810456e-14,
          5.261265914523133e-14,
          5.787727029268042e-14
         ]
        },
        {
         "boxpoints": "all",
         "hovertemplate": "Epoch: %{text}<br>STD: %{y: .0f}",
         "line": {
          "width": 1
         },
         "marker": {
          "size": 3
         },
         "name": "MEG0631",
         "opacity": 0.7,
         "pointpos": 0,
         "text": [
          0,
          1,
          2,
          3,
          4,
          5,
          6,
          7
         ],
         "type": "box",
         "y": [
          4.820391727926575e-14,
          5.720186482781814e-14,
          5.5327298649542266e-14,
          4.924793944252858e-14,
          5.1225354841905096e-14,
          5.4029261535029963e-14,
          5.815932109878714e-14,
          4.922279121544246e-14
         ]
        },
        {
         "boxpoints": "all",
         "hovertemplate": "Epoch: %{text}<br>STD: %{y: .0f}",
         "line": {
          "width": 1
         },
         "marker": {
          "size": 3
         },
         "name": "MEG0641",
         "opacity": 0.7,
         "pointpos": 0,
         "text": [
          0,
          1,
          2,
          3,
          4,
          5,
          6,
          7
         ],
         "type": "box",
         "y": [
          4.956710395489742e-14,
          5.4249123212512826e-14,
          5.754094997686408e-14,
          6.579838374914935e-14,
          6.600428207257679e-14,
          5.0022769592098275e-14,
          5.853935970696951e-14,
          6.764292248703988e-14
         ]
        },
        {
         "boxpoints": "all",
         "hovertemplate": "Epoch: %{text}<br>STD: %{y: .0f}",
         "line": {
          "width": 1
         },
         "marker": {
          "size": 3
         },
         "name": "MEG0711",
         "opacity": 0.7,
         "pointpos": 0,
         "text": [
          0,
          1,
          2,
          3,
          4,
          5,
          6,
          7
         ],
         "type": "box",
         "y": [
          7.311960727127964e-14,
          6.609683245480686e-14,
          8.188463290737183e-14,
          6.991887940447457e-14,
          6.60326388852251e-14,
          7.021485458798352e-14,
          9.564979790530781e-14,
          9.201682261643829e-14
         ]
        },
        {
         "boxpoints": "all",
         "hovertemplate": "Epoch: %{text}<br>STD: %{y: .0f}",
         "line": {
          "width": 1
         },
         "marker": {
          "size": 3
         },
         "name": "MEG0721",
         "opacity": 0.7,
         "pointpos": 0,
         "text": [
          0,
          1,
          2,
          3,
          4,
          5,
          6,
          7
         ],
         "type": "box",
         "y": [
          7.744867825314551e-14,
          8.984878479292033e-14,
          8.031480756331998e-14,
          8.63894018267764e-14,
          8.808164751041973e-14,
          9.762162524589813e-14,
          1.060536044213978e-13,
          9.447359427766524e-14
         ]
        },
        {
         "boxpoints": "all",
         "hovertemplate": "Epoch: %{text}<br>STD: %{y: .0f}",
         "line": {
          "width": 1
         },
         "marker": {
          "size": 3
         },
         "name": "MEG0731",
         "opacity": 0.7,
         "pointpos": 0,
         "text": [
          0,
          1,
          2,
          3,
          4,
          5,
          6,
          7
         ],
         "type": "box",
         "y": [
          8.007197817545774e-14,
          7.883837130936376e-14,
          9.637776465550007e-14,
          1.0369985250012638e-13,
          8.989668809784896e-14,
          9.466125311971603e-14,
          1.162632083112452e-13,
          9.886128321802194e-14
         ]
        },
        {
         "boxpoints": "all",
         "hovertemplate": "Epoch: %{text}<br>STD: %{y: .0f}",
         "line": {
          "width": 1
         },
         "marker": {
          "size": 3
         },
         "name": "MEG0741",
         "opacity": 0.7,
         "pointpos": 0,
         "text": [
          0,
          1,
          2,
          3,
          4,
          5,
          6,
          7
         ],
         "type": "box",
         "y": [
          8.958883057995508e-14,
          1.0086429892931406e-13,
          1.0382789656479817e-13,
          9.740807176703629e-14,
          1.043472434398613e-13,
          9.28943681842835e-14,
          1.1192821345357559e-13,
          1.1146982957822396e-13
         ]
        },
        {
         "boxpoints": "all",
         "hovertemplate": "Epoch: %{text}<br>STD: %{y: .0f}",
         "line": {
          "width": 1
         },
         "marker": {
          "size": 3
         },
         "name": "MEG0811",
         "opacity": 0.7,
         "pointpos": 0,
         "text": [
          0,
          1,
          2,
          3,
          4,
          5,
          6,
          7
         ],
         "type": "box",
         "y": [
          1.2822720524923437e-13,
          9.706601844236757e-14,
          1.5720680817007643e-13,
          1.5363971971446776e-13,
          1.402520167337868e-13,
          1.525647324117493e-13,
          1.2157212716304514e-13,
          1.6151351858517734e-13
         ]
        },
        {
         "boxpoints": "all",
         "hovertemplate": "Epoch: %{text}<br>STD: %{y: .0f}",
         "line": {
          "width": 1
         },
         "marker": {
          "size": 3
         },
         "name": "MEG0821",
         "opacity": 0.7,
         "pointpos": 0,
         "text": [
          0,
          1,
          2,
          3,
          4,
          5,
          6,
          7
         ],
         "type": "box",
         "y": [
          6.566647605201747e-14,
          5.484491776943054e-14,
          6.27567078244119e-14,
          6.702261967262312e-14,
          6.058663958316924e-14,
          5.946843790789184e-14,
          5.682399827257962e-14,
          6.946451446511439e-14
         ]
        },
        {
         "boxpoints": "all",
         "hovertemplate": "Epoch: %{text}<br>STD: %{y: .0f}",
         "line": {
          "width": 1
         },
         "marker": {
          "size": 3
         },
         "name": "MEG0911",
         "opacity": 0.7,
         "pointpos": 0,
         "text": [
          0,
          1,
          2,
          3,
          4,
          5,
          6,
          7
         ],
         "type": "box",
         "y": [
          1.0611641720256665e-13,
          7.571499154848251e-14,
          1.2635956432611437e-13,
          1.2845278175107656e-13,
          1.1655076562579121e-13,
          1.183991313266482e-13,
          1.0006619373318779e-13,
          1.411087730155094e-13
         ]
        },
        {
         "boxpoints": "all",
         "hovertemplate": "Epoch: %{text}<br>STD: %{y: .0f}",
         "line": {
          "width": 1
         },
         "marker": {
          "size": 3
         },
         "name": "MEG0921",
         "opacity": 0.7,
         "pointpos": 0,
         "text": [
          0,
          1,
          2,
          3,
          4,
          5,
          6,
          7
         ],
         "type": "box",
         "y": [
          7.729826570608249e-14,
          7.502044852670342e-14,
          7.684677535304628e-14,
          9.159945291778598e-14,
          9.205688785830725e-14,
          8.842174538526242e-14,
          9.097082545145215e-14,
          1.024283132231471e-13
         ]
        },
        {
         "boxpoints": "all",
         "hovertemplate": "Epoch: %{text}<br>STD: %{y: .0f}",
         "line": {
          "width": 1
         },
         "marker": {
          "size": 3
         },
         "name": "MEG0931",
         "opacity": 0.7,
         "pointpos": 0,
         "text": [
          0,
          1,
          2,
          3,
          4,
          5,
          6,
          7
         ],
         "type": "box",
         "y": [
          8.291283374997416e-14,
          6.439806133625492e-14,
          9.589280962126819e-14,
          7.687975895217155e-14,
          7.500851404791323e-14,
          6.454893342146428e-14,
          7.321520806441294e-14,
          1.0972342277408159e-13
         ]
        },
        {
         "boxpoints": "all",
         "hovertemplate": "Epoch: %{text}<br>STD: %{y: .0f}",
         "line": {
          "width": 1
         },
         "marker": {
          "size": 3
         },
         "name": "MEG0941",
         "opacity": 0.7,
         "pointpos": 0,
         "text": [
          0,
          1,
          2,
          3,
          4,
          5,
          6,
          7
         ],
         "type": "box",
         "y": [
          6.465149400564052e-14,
          5.254115345840101e-14,
          6.638907737656365e-14,
          7.192148995359999e-14,
          5.640712962423859e-14,
          6.522837174256677e-14,
          5.682219166606271e-14,
          8.805615956141019e-14
         ]
        },
        {
         "boxpoints": "all",
         "hovertemplate": "Epoch: %{text}<br>STD: %{y: .0f}",
         "line": {
          "width": 1
         },
         "marker": {
          "size": 3
         },
         "name": "MEG1011",
         "opacity": 0.7,
         "pointpos": 0,
         "text": [
          0,
          1,
          2,
          3,
          4,
          5,
          6,
          7
         ],
         "type": "box",
         "y": [
          7.424816898090216e-14,
          6.123148410892988e-14,
          7.018978957000037e-14,
          1.108516111758277e-13,
          7.723683102476495e-14,
          9.017935695926581e-14,
          8.684307374085914e-14,
          9.064635191594967e-14
         ]
        },
        {
         "boxpoints": "all",
         "hovertemplate": "Epoch: %{text}<br>STD: %{y: .0f}",
         "line": {
          "width": 1
         },
         "marker": {
          "size": 3
         },
         "name": "MEG1021",
         "opacity": 0.7,
         "pointpos": 0,
         "text": [
          0,
          1,
          2,
          3,
          4,
          5,
          6,
          7
         ],
         "type": "box",
         "y": [
          7.491828248190454e-14,
          5.878534921249124e-14,
          8.172068482615085e-14,
          8.796539659322913e-14,
          7.012673116576177e-14,
          9.07910236538127e-14,
          8.187067513709752e-14,
          8.26581183590536e-14
         ]
        },
        {
         "boxpoints": "all",
         "hovertemplate": "Epoch: %{text}<br>STD: %{y: .0f}",
         "line": {
          "width": 1
         },
         "marker": {
          "size": 3
         },
         "name": "MEG1031",
         "opacity": 0.7,
         "pointpos": 0,
         "text": [
          0,
          1,
          2,
          3,
          4,
          5,
          6,
          7
         ],
         "type": "box",
         "y": [
          8.010514928211035e-14,
          5.6803538340586716e-14,
          7.634814967950322e-14,
          8.38243616645262e-14,
          7.27481865683172e-14,
          8.383328444199126e-14,
          6.903210833490815e-14,
          8.09165262857881e-14
         ]
        },
        {
         "boxpoints": "all",
         "hovertemplate": "Epoch: %{text}<br>STD: %{y: .0f}",
         "line": {
          "width": 1
         },
         "marker": {
          "size": 3
         },
         "name": "MEG1041",
         "opacity": 0.7,
         "pointpos": 0,
         "text": [
          0,
          1,
          2,
          3,
          4,
          5,
          6,
          7
         ],
         "type": "box",
         "y": [
          6.255613058811377e-14,
          5.852832490333046e-14,
          4.5756668690810984e-14,
          6.272323016571755e-14,
          5.892512576632547e-14,
          5.84271385671796e-14,
          5.698840642772032e-14,
          6.920568868986543e-14
         ]
        },
        {
         "boxpoints": "all",
         "hovertemplate": "Epoch: %{text}<br>STD: %{y: .0f}",
         "line": {
          "width": 1
         },
         "marker": {
          "size": 3
         },
         "name": "MEG1111",
         "opacity": 0.7,
         "pointpos": 0,
         "text": [
          0,
          1,
          2,
          3,
          4,
          5,
          6,
          7
         ],
         "type": "box",
         "y": [
          8.617171466556344e-14,
          6.474037261463299e-14,
          8.017295947146958e-14,
          9.818768246683809e-14,
          7.547561706785088e-14,
          7.527030925256372e-14,
          7.46177692133474e-14,
          7.773315046159137e-14
         ]
        },
        {
         "boxpoints": "all",
         "hovertemplate": "Epoch: %{text}<br>STD: %{y: .0f}",
         "line": {
          "width": 1
         },
         "marker": {
          "size": 3
         },
         "name": "MEG1121",
         "opacity": 0.7,
         "pointpos": 0,
         "text": [
          0,
          1,
          2,
          3,
          4,
          5,
          6,
          7
         ],
         "type": "box",
         "y": [
          1.2194875659424137e-13,
          8.865553473347e-14,
          1.3031256924973379e-13,
          1.4221527164474642e-13,
          1.1982229832631946e-13,
          1.1124089160195723e-13,
          1.1310175764147415e-13,
          1.2860105323239406e-13
         ]
        },
        {
         "boxpoints": "all",
         "hovertemplate": "Epoch: %{text}<br>STD: %{y: .0f}",
         "line": {
          "width": 1
         },
         "marker": {
          "size": 3
         },
         "name": "MEG1131",
         "opacity": 0.7,
         "pointpos": 0,
         "text": [
          0,
          1,
          2,
          3,
          4,
          5,
          6,
          7
         ],
         "type": "box",
         "y": [
          1.0158149597354705e-13,
          9.272584694005677e-14,
          1.2642870163321006e-13,
          1.3909474820460032e-13,
          1.0873139179160789e-13,
          9.688440900893049e-14,
          9.512284228548365e-14,
          1.3625719499046347e-13
         ]
        },
        {
         "boxpoints": "all",
         "hovertemplate": "Epoch: %{text}<br>STD: %{y: .0f}",
         "line": {
          "width": 1
         },
         "marker": {
          "size": 3
         },
         "name": "MEG1141",
         "opacity": 0.7,
         "pointpos": 0,
         "text": [
          0,
          1,
          2,
          3,
          4,
          5,
          6,
          7
         ],
         "type": "box",
         "y": [
          7.707198037626988e-14,
          6.0242798914533e-14,
          6.914305240148362e-14,
          9.234308103569018e-14,
          6.848320741712805e-14,
          6.488484848746898e-14,
          6.80832171158454e-14,
          7.592630439653206e-14
         ]
        },
        {
         "boxpoints": "all",
         "hovertemplate": "Epoch: %{text}<br>STD: %{y: .0f}",
         "line": {
          "width": 1
         },
         "marker": {
          "size": 3
         },
         "name": "MEG1211",
         "opacity": 0.7,
         "pointpos": 0,
         "text": [
          0,
          1,
          2,
          3,
          4,
          5,
          6,
          7
         ],
         "type": "box",
         "y": [
          7.261931036445125e-14,
          8.891212612630436e-14,
          8.41574361351874e-14,
          9.668011672041373e-14,
          1.0006533871483093e-13,
          7.642876094808062e-14,
          7.677831631758647e-14,
          7.697250290102811e-14
         ]
        },
        {
         "boxpoints": "all",
         "hovertemplate": "Epoch: %{text}<br>STD: %{y: .0f}",
         "line": {
          "width": 1
         },
         "marker": {
          "size": 3
         },
         "name": "MEG1221",
         "opacity": 0.7,
         "pointpos": 0,
         "text": [
          0,
          1,
          2,
          3,
          4,
          5,
          6,
          7
         ],
         "type": "box",
         "y": [
          1.049885451593322e-13,
          9.487875854169382e-14,
          1.0025272231250507e-13,
          1.0317026470236799e-13,
          1.0585798720264557e-13,
          1.1005763024328715e-13,
          9.53453356564815e-14,
          1.0888290112005662e-13
         ]
        },
        {
         "boxpoints": "all",
         "hovertemplate": "Epoch: %{text}<br>STD: %{y: .0f}",
         "line": {
          "width": 1
         },
         "marker": {
          "size": 3
         },
         "name": "MEG1231",
         "opacity": 0.7,
         "pointpos": 0,
         "text": [
          0,
          1,
          2,
          3,
          4,
          5,
          6,
          7
         ],
         "type": "box",
         "y": [
          1.0789488286228582e-13,
          1.0401859147422063e-13,
          1.3464948206016335e-13,
          1.321916261080618e-13,
          1.2493716604786337e-13,
          1.0130428138168876e-13,
          1.0887622155313304e-13,
          1.3170444472125824e-13
         ]
        },
        {
         "boxpoints": "all",
         "hovertemplate": "Epoch: %{text}<br>STD: %{y: .0f}",
         "line": {
          "width": 1
         },
         "marker": {
          "size": 3
         },
         "name": "MEG1241",
         "opacity": 0.7,
         "pointpos": 0,
         "text": [
          0,
          1,
          2,
          3,
          4,
          5,
          6,
          7
         ],
         "type": "box",
         "y": [
          1.236523157726081e-13,
          9.59336435950982e-14,
          1.4921763732418082e-13,
          1.335439311294868e-13,
          1.2013581829346087e-13,
          1.1464033869889624e-13,
          1.1468989786607196e-13,
          1.4836337952435545e-13
         ]
        },
        {
         "boxpoints": "all",
         "hovertemplate": "Epoch: %{text}<br>STD: %{y: .0f}",
         "line": {
          "width": 1
         },
         "marker": {
          "size": 3
         },
         "name": "MEG1311",
         "opacity": 0.7,
         "pointpos": 0,
         "text": [
          0,
          1,
          2,
          3,
          4,
          5,
          6,
          7
         ],
         "type": "box",
         "y": [
          1.4236240929628785e-13,
          1.0983052263109216e-13,
          1.4941683300660954e-13,
          1.6408162276018084e-13,
          1.375077868735232e-13,
          1.5276048493041864e-13,
          1.4103884335203291e-13,
          1.6582112404122218e-13
         ]
        },
        {
         "boxpoints": "all",
         "hovertemplate": "Epoch: %{text}<br>STD: %{y: .0f}",
         "line": {
          "width": 1
         },
         "marker": {
          "size": 3
         },
         "name": "MEG1321",
         "opacity": 0.7,
         "pointpos": 0,
         "text": [
          0,
          1,
          2,
          3,
          4,
          5,
          6,
          7
         ],
         "type": "box",
         "y": [
          1.5096981395592119e-13,
          1.2383920970980176e-13,
          1.3278449245717424e-13,
          1.5984318103139387e-13,
          1.3333004523695762e-13,
          1.616074336607174e-13,
          1.1330089013371937e-13,
          2.015838228000715e-13
         ]
        },
        {
         "boxpoints": "all",
         "hovertemplate": "Epoch: %{text}<br>STD: %{y: .0f}",
         "line": {
          "width": 1
         },
         "marker": {
          "size": 3
         },
         "name": "MEG1331",
         "opacity": 0.7,
         "pointpos": 0,
         "text": [
          0,
          1,
          2,
          3,
          4,
          5,
          6,
          7
         ],
         "type": "box",
         "y": [
          1.6948783397272896e-13,
          1.6182099244460366e-13,
          1.5080557198991677e-13,
          1.903891710882028e-13,
          1.7172908338565783e-13,
          1.5635418523275565e-13,
          1.3964604762398572e-13,
          1.9245671244007892e-13
         ]
        },
        {
         "boxpoints": "all",
         "hovertemplate": "Epoch: %{text}<br>STD: %{y: .0f}",
         "line": {
          "width": 1
         },
         "marker": {
          "size": 3
         },
         "name": "MEG1341",
         "opacity": 0.7,
         "pointpos": 0,
         "text": [
          0,
          1,
          2,
          3,
          4,
          5,
          6,
          7
         ],
         "type": "box",
         "y": [
          1.382843888474331e-13,
          1.0946684782421287e-13,
          1.541182053098796e-13,
          1.7029552925621966e-13,
          1.3396994901152601e-13,
          1.37342437593808e-13,
          1.319156319606406e-13,
          1.8736267985373195e-13
         ]
        },
        {
         "boxpoints": "all",
         "hovertemplate": "Epoch: %{text}<br>STD: %{y: .0f}",
         "line": {
          "width": 1
         },
         "marker": {
          "size": 3
         },
         "name": "MEG1411",
         "opacity": 0.7,
         "pointpos": 0,
         "text": [
          0,
          1,
          2,
          3,
          4,
          5,
          6,
          7
         ],
         "type": "box",
         "y": [
          1.194387019780197e-13,
          1.3665066164655626e-13,
          1.2357141278792866e-13,
          1.500591484723344e-13,
          1.3284292719397492e-13,
          1.1223333433244865e-13,
          1.3075758019796953e-13,
          1.3190942417703055e-13
         ]
        },
        {
         "boxpoints": "all",
         "hovertemplate": "Epoch: %{text}<br>STD: %{y: .0f}",
         "line": {
          "width": 1
         },
         "marker": {
          "size": 3
         },
         "name": "MEG1421",
         "opacity": 0.7,
         "pointpos": 0,
         "text": [
          0,
          1,
          2,
          3,
          4,
          5,
          6,
          7
         ],
         "type": "box",
         "y": [
          1.653929465530057e-13,
          1.9822549873428091e-13,
          2.0133588385620652e-13,
          2.4111403610284643e-13,
          1.7984737396831608e-13,
          2.0268344797669007e-13,
          1.9229648766235385e-13,
          1.9600058118626946e-13
         ]
        },
        {
         "boxpoints": "all",
         "hovertemplate": "Epoch: %{text}<br>STD: %{y: .0f}",
         "line": {
          "width": 1
         },
         "marker": {
          "size": 3
         },
         "name": "MEG1431",
         "opacity": 0.7,
         "pointpos": 0,
         "text": [
          0,
          1,
          2,
          3,
          4,
          5,
          6,
          7
         ],
         "type": "box",
         "y": [
          1.628309304882397e-13,
          1.8526091664174306e-13,
          1.9166990484145654e-13,
          2.2383952180266687e-13,
          1.8817739852246857e-13,
          2.1479203752624877e-13,
          1.7788768082850502e-13,
          1.844362879196972e-13
         ]
        },
        {
         "boxpoints": "all",
         "hovertemplate": "Epoch: %{text}<br>STD: %{y: .0f}",
         "line": {
          "width": 1
         },
         "marker": {
          "size": 3
         },
         "name": "MEG1441",
         "opacity": 0.7,
         "pointpos": 0,
         "text": [
          0,
          1,
          2,
          3,
          4,
          5,
          6,
          7
         ],
         "type": "box",
         "y": [
          1.333682849095398e-13,
          1.3651592929327877e-13,
          1.2081175607711584e-13,
          1.3308728148671475e-13,
          1.5245175948232578e-13,
          1.3963356822963246e-13,
          1.4028456724769026e-13,
          1.577988802730069e-13
         ]
        },
        {
         "boxpoints": "all",
         "hovertemplate": "Epoch: %{text}<br>STD: %{y: .0f}",
         "line": {
          "width": 1
         },
         "marker": {
          "size": 3
         },
         "name": "MEG1511",
         "opacity": 0.7,
         "pointpos": 0,
         "text": [
          0,
          1,
          2,
          3,
          4,
          5,
          6,
          7
         ],
         "type": "box",
         "y": [
          8.67053984843497e-14,
          7.557757692861477e-14,
          8.042188514207397e-14,
          6.96712669509257e-14,
          1.0796028440968262e-13,
          8.395821969127884e-14,
          7.859874899415009e-14,
          9.259453543112189e-14
         ]
        },
        {
         "boxpoints": "all",
         "hovertemplate": "Epoch: %{text}<br>STD: %{y: .0f}",
         "line": {
          "width": 1
         },
         "marker": {
          "size": 3
         },
         "name": "MEG1521",
         "opacity": 0.7,
         "pointpos": 0,
         "text": [
          0,
          1,
          2,
          3,
          4,
          5,
          6,
          7
         ],
         "type": "box",
         "y": [
          1.282622762363831e-13,
          9.971623456269413e-14,
          1.2840822704050247e-13,
          1.2580138795190224e-13,
          1.3195223713466323e-13,
          1.2417582723558924e-13,
          1.0688941393290928e-13,
          1.461533766690224e-13
         ]
        },
        {
         "boxpoints": "all",
         "hovertemplate": "Epoch: %{text}<br>STD: %{y: .0f}",
         "line": {
          "width": 1
         },
         "marker": {
          "size": 3
         },
         "name": "MEG1531",
         "opacity": 0.7,
         "pointpos": 0,
         "text": [
          0,
          1,
          2,
          3,
          4,
          5,
          6,
          7
         ],
         "type": "box",
         "y": [
          1.5233091257899284e-13,
          1.5895219287655238e-13,
          1.4956600688841766e-13,
          1.5582589364704336e-13,
          1.1409121481844265e-13,
          1.7855394656421275e-13,
          1.8108361209430132e-13,
          2.0538498185941403e-13
         ]
        },
        {
         "boxpoints": "all",
         "hovertemplate": "Epoch: %{text}<br>STD: %{y: .0f}",
         "line": {
          "width": 1
         },
         "marker": {
          "size": 3
         },
         "name": "MEG1541",
         "opacity": 0.7,
         "pointpos": 0,
         "text": [
          0,
          1,
          2,
          3,
          4,
          5,
          6,
          7
         ],
         "type": "box",
         "y": [
          1.4366748670284522e-13,
          1.254880710726529e-13,
          1.276230586817411e-13,
          1.4342658375033255e-13,
          1.0008324887262694e-13,
          1.4923931061568369e-13,
          1.47592648261033e-13,
          1.6890285649896574e-13
         ]
        },
        {
         "boxpoints": "all",
         "hovertemplate": "Epoch: %{text}<br>STD: %{y: .0f}",
         "line": {
          "width": 1
         },
         "marker": {
          "size": 3
         },
         "name": "MEG1611",
         "opacity": 0.7,
         "pointpos": 0,
         "text": [
          0,
          1,
          2,
          3,
          4,
          5,
          6,
          7
         ],
         "type": "box",
         "y": [
          1.4345267377055517e-13,
          1.3146994839074634e-13,
          1.6107058644373885e-13,
          1.7744938279084537e-13,
          1.6324886133092852e-13,
          1.8716014058428247e-13,
          1.5536840036613325e-13,
          2.0292849070684715e-13
         ]
        },
        {
         "boxpoints": "all",
         "hovertemplate": "Epoch: %{text}<br>STD: %{y: .0f}",
         "line": {
          "width": 1
         },
         "marker": {
          "size": 3
         },
         "name": "MEG1621",
         "opacity": 0.7,
         "pointpos": 0,
         "text": [
          0,
          1,
          2,
          3,
          4,
          5,
          6,
          7
         ],
         "type": "box",
         "y": [
          1.2577985928348296e-13,
          1.2363696798459016e-13,
          1.1980033380841636e-13,
          1.4226646213027883e-13,
          1.1838035382841454e-13,
          1.2022072488830624e-13,
          1.1803909000250226e-13,
          1.293282055818811e-13
         ]
        },
        {
         "boxpoints": "all",
         "hovertemplate": "Epoch: %{text}<br>STD: %{y: .0f}",
         "line": {
          "width": 1
         },
         "marker": {
          "size": 3
         },
         "name": "MEG1631",
         "opacity": 0.7,
         "pointpos": 0,
         "text": [
          0,
          1,
          2,
          3,
          4,
          5,
          6,
          7
         ],
         "type": "box",
         "y": [
          9.31810682764466e-14,
          1.0514550897020203e-13,
          1.0812264026471443e-13,
          1.3025768445113916e-13,
          8.920901406291324e-14,
          1.0776420385567325e-13,
          1.0460298269966179e-13,
          1.1989503171219997e-13
         ]
        },
        {
         "boxpoints": "all",
         "hovertemplate": "Epoch: %{text}<br>STD: %{y: .0f}",
         "line": {
          "width": 1
         },
         "marker": {
          "size": 3
         },
         "name": "MEG1641",
         "opacity": 0.7,
         "pointpos": 0,
         "text": [
          0,
          1,
          2,
          3,
          4,
          5,
          6,
          7
         ],
         "type": "box",
         "y": [
          1.2233147944794633e-13,
          1.290518897703942e-13,
          1.407083647446613e-13,
          1.8231533032551498e-13,
          1.4047354087815246e-13,
          1.7284880489035192e-13,
          1.1235746482584902e-13,
          1.756080736841558e-13
         ]
        },
        {
         "boxpoints": "all",
         "hovertemplate": "Epoch: %{text}<br>STD: %{y: .0f}",
         "line": {
          "width": 1
         },
         "marker": {
          "size": 3
         },
         "name": "MEG1711",
         "opacity": 0.7,
         "pointpos": 0,
         "text": [
          0,
          1,
          2,
          3,
          4,
          5,
          6,
          7
         ],
         "type": "box",
         "y": [
          1.879590853498511e-13,
          1.7885522604171822e-13,
          1.9883077356714e-13,
          1.8650824155837262e-13,
          1.631770222217937e-13,
          2.0340934073744324e-13,
          1.9012370017095175e-13,
          2.1649736724723864e-13
         ]
        },
        {
         "boxpoints": "all",
         "hovertemplate": "Epoch: %{text}<br>STD: %{y: .0f}",
         "line": {
          "width": 1
         },
         "marker": {
          "size": 3
         },
         "name": "MEG1721",
         "opacity": 0.7,
         "pointpos": 0,
         "text": [
          0,
          1,
          2,
          3,
          4,
          5,
          6,
          7
         ],
         "type": "box",
         "y": [
          1.8501828172996269e-13,
          1.3057640548071848e-13,
          1.5554721743911458e-13,
          1.75023775032587e-13,
          1.52288289121014e-13,
          1.6563790843967576e-13,
          1.2794065445793898e-13,
          1.8330956266519805e-13
         ]
        },
        {
         "boxpoints": "all",
         "hovertemplate": "Epoch: %{text}<br>STD: %{y: .0f}",
         "line": {
          "width": 1
         },
         "marker": {
          "size": 3
         },
         "name": "MEG1731",
         "opacity": 0.7,
         "pointpos": 0,
         "text": [
          0,
          1,
          2,
          3,
          4,
          5,
          6,
          7
         ],
         "type": "box",
         "y": [
          2.1664831541304426e-13,
          1.5488462904665004e-13,
          1.8656650699057942e-13,
          1.8232623905661877e-13,
          1.9251271860774708e-13,
          1.913446002889207e-13,
          1.5344960876867794e-13,
          1.7116789304434641e-13
         ]
        },
        {
         "boxpoints": "all",
         "hovertemplate": "Epoch: %{text}<br>STD: %{y: .0f}",
         "line": {
          "width": 1
         },
         "marker": {
          "size": 3
         },
         "name": "MEG1741",
         "opacity": 0.7,
         "pointpos": 0,
         "text": [
          0,
          1,
          2,
          3,
          4,
          5,
          6,
          7
         ],
         "type": "box",
         "y": [
          1.9420452424764024e-13,
          2.085116421994522e-13,
          2.1354342640493408e-13,
          2.1735934379391963e-13,
          1.844967221133675e-13,
          1.953687005557939e-13,
          2.092415630275795e-13,
          2.1244611675664724e-13
         ]
        },
        {
         "boxpoints": "all",
         "hovertemplate": "Epoch: %{text}<br>STD: %{y: .0f}",
         "line": {
          "width": 1
         },
         "marker": {
          "size": 3
         },
         "name": "MEG1811",
         "opacity": 0.7,
         "pointpos": 0,
         "text": [
          0,
          1,
          2,
          3,
          4,
          5,
          6,
          7
         ],
         "type": "box",
         "y": [
          7.161297920082256e-14,
          8.563722598608398e-14,
          8.018161353608985e-14,
          9.201553349868213e-14,
          8.458034037167928e-14,
          7.53035307504419e-14,
          6.90536767841391e-14,
          9.897954851079747e-14
         ]
        },
        {
         "boxpoints": "all",
         "hovertemplate": "Epoch: %{text}<br>STD: %{y: .0f}",
         "line": {
          "width": 1
         },
         "marker": {
          "size": 3
         },
         "name": "MEG1821",
         "opacity": 0.7,
         "pointpos": 0,
         "text": [
          0,
          1,
          2,
          3,
          4,
          5,
          6,
          7
         ],
         "type": "box",
         "y": [
          1.0088633007680764e-13,
          8.719116883851966e-14,
          7.854141994883729e-14,
          8.515485241797632e-14,
          8.257212901032966e-14,
          1.0925317351013473e-13,
          7.76752083151569e-14,
          1.2059217250217631e-13
         ]
        },
        {
         "boxpoints": "all",
         "hovertemplate": "Epoch: %{text}<br>STD: %{y: .0f}",
         "line": {
          "width": 1
         },
         "marker": {
          "size": 3
         },
         "name": "MEG1831",
         "opacity": 0.7,
         "pointpos": 0,
         "text": [
          0,
          1,
          2,
          3,
          4,
          5,
          6,
          7
         ],
         "type": "box",
         "y": [
          8.629598225731904e-14,
          8.497027500705721e-14,
          9.456533998079948e-14,
          9.306283105132848e-14,
          9.988958159951001e-14,
          9.236575536830352e-14,
          9.63662527649792e-14,
          9.708818889791491e-14
         ]
        },
        {
         "boxpoints": "all",
         "hovertemplate": "Epoch: %{text}<br>STD: %{y: .0f}",
         "line": {
          "width": 1
         },
         "marker": {
          "size": 3
         },
         "name": "MEG1841",
         "opacity": 0.7,
         "pointpos": 0,
         "text": [
          0,
          1,
          2,
          3,
          4,
          5,
          6,
          7
         ],
         "type": "box",
         "y": [
          7.640542808042404e-14,
          6.390815137163299e-14,
          7.294543438915334e-14,
          6.594125195578871e-14,
          7.313560136066504e-14,
          7.40301123054376e-14,
          6.924642772334598e-14,
          7.462080180049884e-14
         ]
        },
        {
         "boxpoints": "all",
         "hovertemplate": "Epoch: %{text}<br>STD: %{y: .0f}",
         "line": {
          "width": 1
         },
         "marker": {
          "size": 3
         },
         "name": "MEG1911",
         "opacity": 0.7,
         "pointpos": 0,
         "text": [
          0,
          1,
          2,
          3,
          4,
          5,
          6,
          7
         ],
         "type": "box",
         "y": [
          1.0783386603522904e-13,
          7.67580299844173e-14,
          9.479865876779489e-14,
          1.0803471370326465e-13,
          9.708064208435475e-14,
          9.995030820617497e-14,
          1.098979568416085e-13,
          1.0794840580502474e-13
         ]
        },
        {
         "boxpoints": "all",
         "hovertemplate": "Epoch: %{text}<br>STD: %{y: .0f}",
         "line": {
          "width": 1
         },
         "marker": {
          "size": 3
         },
         "name": "MEG1921",
         "opacity": 0.7,
         "pointpos": 0,
         "text": [
          0,
          1,
          2,
          3,
          4,
          5,
          6,
          7
         ],
         "type": "box",
         "y": [
          1.151758254035825e-13,
          1.0789109671671738e-13,
          1.166267975236737e-13,
          1.1946507933044667e-13,
          1.677840660090059e-13,
          1.0911096971021837e-13,
          1.190661509094886e-13,
          1.1054364617605273e-13
         ]
        },
        {
         "boxpoints": "all",
         "hovertemplate": "Epoch: %{text}<br>STD: %{y: .0f}",
         "line": {
          "width": 1
         },
         "marker": {
          "size": 3
         },
         "name": "MEG1931",
         "opacity": 0.7,
         "pointpos": 0,
         "text": [
          0,
          1,
          2,
          3,
          4,
          5,
          6,
          7
         ],
         "type": "box",
         "y": [
          1.602059716200054e-13,
          1.4193370708762354e-13,
          1.3075539606114125e-13,
          1.4245520747853632e-13,
          1.6369968131347512e-13,
          1.4736314913225898e-13,
          1.4442568088797664e-13,
          1.5583074915052046e-13
         ]
        },
        {
         "boxpoints": "all",
         "hovertemplate": "Epoch: %{text}<br>STD: %{y: .0f}",
         "line": {
          "width": 1
         },
         "marker": {
          "size": 3
         },
         "name": "MEG1941",
         "opacity": 0.7,
         "pointpos": 0,
         "text": [
          0,
          1,
          2,
          3,
          4,
          5,
          6,
          7
         ],
         "type": "box",
         "y": [
          1.2818322716059837e-13,
          9.527933234799073e-14,
          1.2258814193875459e-13,
          1.5029696953960316e-13,
          1.3387124886227015e-13,
          1.5608447035057235e-13,
          1.1591395101896132e-13,
          1.4865354608793467e-13
         ]
        },
        {
         "boxpoints": "all",
         "hovertemplate": "Epoch: %{text}<br>STD: %{y: .0f}",
         "line": {
          "width": 1
         },
         "marker": {
          "size": 3
         },
         "name": "MEG2011",
         "opacity": 0.7,
         "pointpos": 0,
         "text": [
          0,
          1,
          2,
          3,
          4,
          5,
          6,
          7
         ],
         "type": "box",
         "y": [
          8.449910580077512e-14,
          8.309613296044293e-14,
          8.99259538834453e-14,
          9.841865916236949e-14,
          1.099610493452574e-13,
          1.000177155625096e-13,
          8.042251477029717e-14,
          1.102441135403967e-13
         ]
        },
        {
         "boxpoints": "all",
         "hovertemplate": "Epoch: %{text}<br>STD: %{y: .0f}",
         "line": {
          "width": 1
         },
         "marker": {
          "size": 3
         },
         "name": "MEG2021",
         "opacity": 0.7,
         "pointpos": 0,
         "text": [
          0,
          1,
          2,
          3,
          4,
          5,
          6,
          7
         ],
         "type": "box",
         "y": [
          8.296196049792741e-14,
          6.683071418550699e-14,
          7.87568783309702e-14,
          8.819605111024477e-14,
          7.655364534397219e-14,
          7.120534261872604e-14,
          5.770146476714096e-14,
          8.161702817239472e-14
         ]
        },
        {
         "boxpoints": "all",
         "hovertemplate": "Epoch: %{text}<br>STD: %{y: .0f}",
         "line": {
          "width": 1
         },
         "marker": {
          "size": 3
         },
         "name": "MEG2031",
         "opacity": 0.7,
         "pointpos": 0,
         "text": [
          0,
          1,
          2,
          3,
          4,
          5,
          6,
          7
         ],
         "type": "box",
         "y": [
          1.203425904612617e-13,
          8.923974631100025e-14,
          1.0889710300372257e-13,
          1.0757356772332638e-13,
          1.197141104163424e-13,
          1.1104205664072582e-13,
          9.284612794818819e-14,
          1.2692245949708657e-13
         ]
        },
        {
         "boxpoints": "all",
         "hovertemplate": "Epoch: %{text}<br>STD: %{y: .0f}",
         "line": {
          "width": 1
         },
         "marker": {
          "size": 3
         },
         "name": "MEG2041",
         "opacity": 0.7,
         "pointpos": 0,
         "text": [
          0,
          1,
          2,
          3,
          4,
          5,
          6,
          7
         ],
         "type": "box",
         "y": [
          1.087389138346228e-13,
          9.651911702756265e-14,
          1.0015067576958592e-13,
          1.2442765156055596e-13,
          1.4439011089490703e-13,
          8.976781517715014e-14,
          1.007939299541711e-13,
          1.282591629895782e-13
         ]
        },
        {
         "boxpoints": "all",
         "hovertemplate": "Epoch: %{text}<br>STD: %{y: .0f}",
         "line": {
          "width": 1
         },
         "marker": {
          "size": 3
         },
         "name": "MEG2111",
         "opacity": 0.7,
         "pointpos": 0,
         "text": [
          0,
          1,
          2,
          3,
          4,
          5,
          6,
          7
         ],
         "type": "box",
         "y": [
          1.7296432487871823e-13,
          1.308124700798212e-13,
          1.383202090332857e-13,
          1.4929571133230588e-13,
          1.9780558475556873e-13,
          1.5297411675530248e-13,
          1.2746403999325088e-13,
          1.5433188392316454e-13
         ]
        },
        {
         "boxpoints": "all",
         "hovertemplate": "Epoch: %{text}<br>STD: %{y: .0f}",
         "line": {
          "width": 1
         },
         "marker": {
          "size": 3
         },
         "name": "MEG2121",
         "opacity": 0.7,
         "pointpos": 0,
         "text": [
          0,
          1,
          2,
          3,
          4,
          5,
          6,
          7
         ],
         "type": "box",
         "y": [
          2.119879062594719e-13,
          2.0307113997606978e-13,
          2.202092144726308e-13,
          2.002109457051885e-13,
          2.169651644185584e-13,
          2.1442348691821165e-13,
          1.787594879764585e-13,
          1.8075484478830065e-13
         ]
        },
        {
         "boxpoints": "all",
         "hovertemplate": "Epoch: %{text}<br>STD: %{y: .0f}",
         "line": {
          "width": 1
         },
         "marker": {
          "size": 3
         },
         "name": "MEG2131",
         "opacity": 0.7,
         "pointpos": 0,
         "text": [
          0,
          1,
          2,
          3,
          4,
          5,
          6,
          7
         ],
         "type": "box",
         "y": [
          1.8551303011374065e-13,
          1.796836103538963e-13,
          2.158496155003474e-13,
          2.0872883939846124e-13,
          1.8093272268622666e-13,
          1.951618683121038e-13,
          1.840371090292772e-13,
          1.8145871798273264e-13
         ]
        },
        {
         "boxpoints": "all",
         "hovertemplate": "Epoch: %{text}<br>STD: %{y: .0f}",
         "line": {
          "width": 1
         },
         "marker": {
          "size": 3
         },
         "name": "MEG2141",
         "opacity": 0.7,
         "pointpos": 0,
         "text": [
          0,
          1,
          2,
          3,
          4,
          5,
          6,
          7
         ],
         "type": "box",
         "y": [
          1.4322436351800146e-13,
          1.3928775195672433e-13,
          1.3696956874362345e-13,
          1.6124987194098588e-13,
          1.4677797772168218e-13,
          1.451690147164732e-13,
          1.607119875759288e-13,
          1.5319500534124795e-13
         ]
        },
        {
         "boxpoints": "all",
         "hovertemplate": "Epoch: %{text}<br>STD: %{y: .0f}",
         "line": {
          "width": 1
         },
         "marker": {
          "size": 3
         },
         "name": "MEG2211",
         "opacity": 0.7,
         "pointpos": 0,
         "text": [
          0,
          1,
          2,
          3,
          4,
          5,
          6,
          7
         ],
         "type": "box",
         "y": [
          7.259232170082524e-14,
          6.030442061093784e-14,
          5.692708825331106e-14,
          7.682225714784902e-14,
          7.728615795256654e-14,
          7.928928694019544e-14,
          6.249050467483948e-14,
          7.367493811326239e-14
         ]
        },
        {
         "boxpoints": "all",
         "hovertemplate": "Epoch: %{text}<br>STD: %{y: .0f}",
         "line": {
          "width": 1
         },
         "marker": {
          "size": 3
         },
         "name": "MEG2221",
         "opacity": 0.7,
         "pointpos": 0,
         "text": [
          0,
          1,
          2,
          3,
          4,
          5,
          6,
          7
         ],
         "type": "box",
         "y": [
          8.325756526379157e-14,
          7.958146096961559e-14,
          7.935205278546555e-14,
          9.292507717997887e-14,
          9.649712863271525e-14,
          9.867168659882705e-14,
          7.790388518364531e-14,
          1.0562602859991699e-13
         ]
        },
        {
         "boxpoints": "all",
         "hovertemplate": "Epoch: %{text}<br>STD: %{y: .0f}",
         "line": {
          "width": 1
         },
         "marker": {
          "size": 3
         },
         "name": "MEG2231",
         "opacity": 0.7,
         "pointpos": 0,
         "text": [
          0,
          1,
          2,
          3,
          4,
          5,
          6,
          7
         ],
         "type": "box",
         "y": [
          9.377665377007872e-14,
          6.668727249564522e-14,
          7.033446496303929e-14,
          9.103100178357167e-14,
          7.589771095933334e-14,
          7.377917362566631e-14,
          6.266126056960055e-14,
          9.911449334919857e-14
         ]
        },
        {
         "boxpoints": "all",
         "hovertemplate": "Epoch: %{text}<br>STD: %{y: .0f}",
         "line": {
          "width": 1
         },
         "marker": {
          "size": 3
         },
         "name": "MEG2241",
         "opacity": 0.7,
         "pointpos": 0,
         "text": [
          0,
          1,
          2,
          3,
          4,
          5,
          6,
          7
         ],
         "type": "box",
         "y": [
          9.616898848227808e-14,
          8.131968200427683e-14,
          1.0328106394924981e-13,
          1.2123309891194405e-13,
          1.0238466480219815e-13,
          9.824840829716508e-14,
          1.0077098252534727e-13,
          1.0399006510361635e-13
         ]
        },
        {
         "boxpoints": "all",
         "hovertemplate": "Epoch: %{text}<br>STD: %{y: .0f}",
         "line": {
          "width": 1
         },
         "marker": {
          "size": 3
         },
         "name": "MEG2311",
         "opacity": 0.7,
         "pointpos": 0,
         "text": [
          0,
          1,
          2,
          3,
          4,
          5,
          6,
          7
         ],
         "type": "box",
         "y": [
          1.4885011276179691e-13,
          1.0405433338790102e-13,
          1.444604812554969e-13,
          1.3629029480246188e-13,
          1.1805362177590557e-13,
          1.3290175343652372e-13,
          1.1083090061344393e-13,
          1.2904421246595512e-13
         ]
        },
        {
         "boxpoints": "all",
         "hovertemplate": "Epoch: %{text}<br>STD: %{y: .0f}",
         "line": {
          "width": 1
         },
         "marker": {
          "size": 3
         },
         "name": "MEG2321",
         "opacity": 0.7,
         "pointpos": 0,
         "text": [
          0,
          1,
          2,
          3,
          4,
          5,
          6,
          7
         ],
         "type": "box",
         "y": [
          2.074391178121938e-13,
          1.4727359527157508e-13,
          1.7945567355104904e-13,
          1.6301151224201845e-13,
          1.8503676135403942e-13,
          1.84369999816145e-13,
          1.8414249888282202e-13,
          1.8227490851886385e-13
         ]
        },
        {
         "boxpoints": "all",
         "hovertemplate": "Epoch: %{text}<br>STD: %{y: .0f}",
         "line": {
          "width": 1
         },
         "marker": {
          "size": 3
         },
         "name": "MEG2331",
         "opacity": 0.7,
         "pointpos": 0,
         "text": [
          0,
          1,
          2,
          3,
          4,
          5,
          6,
          7
         ],
         "type": "box",
         "y": [
          2.3181803743450783e-13,
          1.688445127812186e-13,
          1.881992200462593e-13,
          1.799723036215924e-13,
          2.363286073876113e-13,
          2.2178064914546716e-13,
          1.7752542451825707e-13,
          1.8470172542237185e-13
         ]
        },
        {
         "boxpoints": "all",
         "hovertemplate": "Epoch: %{text}<br>STD: %{y: .0f}",
         "line": {
          "width": 1
         },
         "marker": {
          "size": 3
         },
         "name": "MEG2341",
         "opacity": 0.7,
         "pointpos": 0,
         "text": [
          0,
          1,
          2,
          3,
          4,
          5,
          6,
          7
         ],
         "type": "box",
         "y": [
          1.1789250085208816e-13,
          7.837062408438257e-14,
          1.1314189400541733e-13,
          1.0832821017173232e-13,
          1.1188400094912663e-13,
          1.2276391777381867e-13,
          8.35660252737235e-14,
          1.1718155752615228e-13
         ]
        },
        {
         "boxpoints": "all",
         "hovertemplate": "Epoch: %{text}<br>STD: %{y: .0f}",
         "line": {
          "width": 1
         },
         "marker": {
          "size": 3
         },
         "name": "MEG2411",
         "opacity": 0.7,
         "pointpos": 0,
         "text": [
          0,
          1,
          2,
          3,
          4,
          5,
          6,
          7
         ],
         "type": "box",
         "y": [
          1.2259684616545488e-13,
          1.0609948416911915e-13,
          1.1332032796092389e-13,
          1.4026018900824203e-13,
          1.4840987834669766e-13,
          1.3442443884510209e-13,
          1.2688820617075348e-13,
          1.4853025159286382e-13
         ]
        },
        {
         "boxpoints": "all",
         "hovertemplate": "Epoch: %{text}<br>STD: %{y: .0f}",
         "line": {
          "width": 1
         },
         "marker": {
          "size": 3
         },
         "name": "MEG2421",
         "opacity": 0.7,
         "pointpos": 0,
         "text": [
          0,
          1,
          2,
          3,
          4,
          5,
          6,
          7
         ],
         "type": "box",
         "y": [
          1.3466315168040205e-13,
          1.31447896684853e-13,
          1.0732285489325353e-13,
          1.3634797859337306e-13,
          1.4876143447455855e-13,
          1.3290049811446737e-13,
          1.230735424354027e-13,
          1.541751769682119e-13
         ]
        },
        {
         "boxpoints": "all",
         "hovertemplate": "Epoch: %{text}<br>STD: %{y: .0f}",
         "line": {
          "width": 1
         },
         "marker": {
          "size": 3
         },
         "name": "MEG2431",
         "opacity": 0.7,
         "pointpos": 0,
         "text": [
          0,
          1,
          2,
          3,
          4,
          5,
          6,
          7
         ],
         "type": "box",
         "y": [
          1.784601029455765e-13,
          1.27755908928945e-13,
          1.551328347735817e-13,
          1.4840853595916465e-13,
          1.52110442523317e-13,
          1.6204492302286655e-13,
          1.552456326752433e-13,
          1.6852867984885284e-13
         ]
        },
        {
         "boxpoints": "all",
         "hovertemplate": "Epoch: %{text}<br>STD: %{y: .0f}",
         "line": {
          "width": 1
         },
         "marker": {
          "size": 3
         },
         "name": "MEG2441",
         "opacity": 0.7,
         "pointpos": 0,
         "text": [
          0,
          1,
          2,
          3,
          4,
          5,
          6,
          7
         ],
         "type": "box",
         "y": [
          1.3707903586579853e-13,
          1.0524765021770805e-13,
          1.272687782787577e-13,
          1.3178192661631932e-13,
          1.2993070603630363e-13,
          1.285686151152425e-13,
          1.1887794449363935e-13,
          1.5751310969224366e-13
         ]
        },
        {
         "boxpoints": "all",
         "hovertemplate": "Epoch: %{text}<br>STD: %{y: .0f}",
         "line": {
          "width": 1
         },
         "marker": {
          "size": 3
         },
         "name": "MEG2511",
         "opacity": 0.7,
         "pointpos": 0,
         "text": [
          0,
          1,
          2,
          3,
          4,
          5,
          6,
          7
         ],
         "type": "box",
         "y": [
          2.0833789588190298e-13,
          1.2974980051997375e-13,
          1.5250722476322292e-13,
          1.4100069444668899e-13,
          1.8680265051764953e-13,
          1.8803291610208515e-13,
          1.6481401265491158e-13,
          2.0894848949553306e-13
         ]
        },
        {
         "boxpoints": "all",
         "hovertemplate": "Epoch: %{text}<br>STD: %{y: .0f}",
         "line": {
          "width": 1
         },
         "marker": {
          "size": 3
         },
         "name": "MEG2521",
         "opacity": 0.7,
         "pointpos": 0,
         "text": [
          0,
          1,
          2,
          3,
          4,
          5,
          6,
          7
         ],
         "type": "box",
         "y": [
          1.7882910592753595e-13,
          1.2520228526199148e-13,
          1.344820014235942e-13,
          1.3648495310754507e-13,
          1.4940967734443719e-13,
          1.7735133480259e-13,
          1.351194166432028e-13,
          1.9956361334374437e-13
         ]
        },
        {
         "boxpoints": "all",
         "hovertemplate": "Epoch: %{text}<br>STD: %{y: .0f}",
         "line": {
          "width": 1
         },
         "marker": {
          "size": 3
         },
         "name": "MEG2531",
         "opacity": 0.7,
         "pointpos": 0,
         "text": [
          0,
          1,
          2,
          3,
          4,
          5,
          6,
          7
         ],
         "type": "box",
         "y": [
          1.450988229509652e-13,
          1.4766895267495013e-13,
          1.4571317580732081e-13,
          1.7356070203960832e-13,
          1.5923177443268553e-13,
          1.623847173112951e-13,
          1.5972323244038386e-13,
          1.965911138181672e-13
         ]
        },
        {
         "boxpoints": "all",
         "hovertemplate": "Epoch: %{text}<br>STD: %{y: .0f}",
         "line": {
          "width": 1
         },
         "marker": {
          "size": 3
         },
         "name": "MEG2541",
         "opacity": 0.7,
         "pointpos": 0,
         "text": [
          0,
          1,
          2,
          3,
          4,
          5,
          6,
          7
         ],
         "type": "box",
         "y": [
          1.5208689986646538e-13,
          1.5625579188013927e-13,
          1.828188366779684e-13,
          1.8805191702402612e-13,
          1.7237790712842327e-13,
          1.716893908054778e-13,
          1.7579911981272222e-13,
          1.969232054653501e-13
         ]
        },
        {
         "boxpoints": "all",
         "hovertemplate": "Epoch: %{text}<br>STD: %{y: .0f}",
         "line": {
          "width": 1
         },
         "marker": {
          "size": 3
         },
         "name": "MEG2611",
         "opacity": 0.7,
         "pointpos": 0,
         "text": [
          0,
          1,
          2,
          3,
          4,
          5,
          6,
          7
         ],
         "type": "box",
         "y": [
          1.2407934856059465e-13,
          1.378299598020411e-13,
          1.1490818747118712e-13,
          1.0430445991095317e-13,
          1.2007041443135697e-13,
          1.0627938286492931e-13,
          1.2225096298602004e-13,
          1.2101510249714823e-13
         ]
        },
        {
         "boxpoints": "all",
         "hovertemplate": "Epoch: %{text}<br>STD: %{y: .0f}",
         "line": {
          "width": 1
         },
         "marker": {
          "size": 3
         },
         "name": "MEG2621",
         "opacity": 0.7,
         "pointpos": 0,
         "text": [
          0,
          1,
          2,
          3,
          4,
          5,
          6,
          7
         ],
         "type": "box",
         "y": [
          1.5033774761988993e-13,
          1.362064160949278e-13,
          1.4128614908569779e-13,
          1.7426810516814479e-13,
          1.6851501484118636e-13,
          1.7553806787136617e-13,
          1.5124824509567925e-13,
          1.6708059498742264e-13
         ]
        },
        {
         "boxpoints": "all",
         "hovertemplate": "Epoch: %{text}<br>STD: %{y: .0f}",
         "line": {
          "width": 1
         },
         "marker": {
          "size": 3
         },
         "name": "MEG2631",
         "opacity": 0.7,
         "pointpos": 0,
         "text": [
          0,
          1,
          2,
          3,
          4,
          5,
          6,
          7
         ],
         "type": "box",
         "y": [
          1.3890184209789645e-13,
          1.303849897211365e-13,
          1.2112483458284956e-13,
          1.5756606830689482e-13,
          1.4870579228685192e-13,
          1.5849054044198164e-13,
          1.3956153816709248e-13,
          1.64137982154063e-13
         ]
        },
        {
         "boxpoints": "all",
         "hovertemplate": "Epoch: %{text}<br>STD: %{y: .0f}",
         "line": {
          "width": 1
         },
         "marker": {
          "size": 3
         },
         "name": "MEG2641",
         "opacity": 0.7,
         "pointpos": 0,
         "text": [
          0,
          1,
          2,
          3,
          4,
          5,
          6,
          7
         ],
         "type": "box",
         "y": [
          1.2735871195990883e-13,
          1.179587544168404e-13,
          1.0995247938002067e-13,
          1.007684572748231e-13,
          1.1933951641029336e-13,
          1.0934550111433287e-13,
          1.1522477834431456e-13,
          1.1786343688575827e-13
         ]
        }
       ],
       "layout": {
        "template": {
         "data": {
          "bar": [
           {
            "error_x": {
             "color": "#2a3f5f"
            },
            "error_y": {
             "color": "#2a3f5f"
            },
            "marker": {
             "line": {
              "color": "#E5ECF6",
              "width": 0.5
             },
             "pattern": {
              "fillmode": "overlay",
              "size": 10,
              "solidity": 0.2
             }
            },
            "type": "bar"
           }
          ],
          "barpolar": [
           {
            "marker": {
             "line": {
              "color": "#E5ECF6",
              "width": 0.5
             },
             "pattern": {
              "fillmode": "overlay",
              "size": 10,
              "solidity": 0.2
             }
            },
            "type": "barpolar"
           }
          ],
          "carpet": [
           {
            "aaxis": {
             "endlinecolor": "#2a3f5f",
             "gridcolor": "white",
             "linecolor": "white",
             "minorgridcolor": "white",
             "startlinecolor": "#2a3f5f"
            },
            "baxis": {
             "endlinecolor": "#2a3f5f",
             "gridcolor": "white",
             "linecolor": "white",
             "minorgridcolor": "white",
             "startlinecolor": "#2a3f5f"
            },
            "type": "carpet"
           }
          ],
          "choropleth": [
           {
            "colorbar": {
             "outlinewidth": 0,
             "ticks": ""
            },
            "type": "choropleth"
           }
          ],
          "contour": [
           {
            "colorbar": {
             "outlinewidth": 0,
             "ticks": ""
            },
            "colorscale": [
             [
              0,
              "#0d0887"
             ],
             [
              0.1111111111111111,
              "#46039f"
             ],
             [
              0.2222222222222222,
              "#7201a8"
             ],
             [
              0.3333333333333333,
              "#9c179e"
             ],
             [
              0.4444444444444444,
              "#bd3786"
             ],
             [
              0.5555555555555556,
              "#d8576b"
             ],
             [
              0.6666666666666666,
              "#ed7953"
             ],
             [
              0.7777777777777778,
              "#fb9f3a"
             ],
             [
              0.8888888888888888,
              "#fdca26"
             ],
             [
              1,
              "#f0f921"
             ]
            ],
            "type": "contour"
           }
          ],
          "contourcarpet": [
           {
            "colorbar": {
             "outlinewidth": 0,
             "ticks": ""
            },
            "type": "contourcarpet"
           }
          ],
          "heatmap": [
           {
            "colorbar": {
             "outlinewidth": 0,
             "ticks": ""
            },
            "colorscale": [
             [
              0,
              "#0d0887"
             ],
             [
              0.1111111111111111,
              "#46039f"
             ],
             [
              0.2222222222222222,
              "#7201a8"
             ],
             [
              0.3333333333333333,
              "#9c179e"
             ],
             [
              0.4444444444444444,
              "#bd3786"
             ],
             [
              0.5555555555555556,
              "#d8576b"
             ],
             [
              0.6666666666666666,
              "#ed7953"
             ],
             [
              0.7777777777777778,
              "#fb9f3a"
             ],
             [
              0.8888888888888888,
              "#fdca26"
             ],
             [
              1,
              "#f0f921"
             ]
            ],
            "type": "heatmap"
           }
          ],
          "heatmapgl": [
           {
            "colorbar": {
             "outlinewidth": 0,
             "ticks": ""
            },
            "colorscale": [
             [
              0,
              "#0d0887"
             ],
             [
              0.1111111111111111,
              "#46039f"
             ],
             [
              0.2222222222222222,
              "#7201a8"
             ],
             [
              0.3333333333333333,
              "#9c179e"
             ],
             [
              0.4444444444444444,
              "#bd3786"
             ],
             [
              0.5555555555555556,
              "#d8576b"
             ],
             [
              0.6666666666666666,
              "#ed7953"
             ],
             [
              0.7777777777777778,
              "#fb9f3a"
             ],
             [
              0.8888888888888888,
              "#fdca26"
             ],
             [
              1,
              "#f0f921"
             ]
            ],
            "type": "heatmapgl"
           }
          ],
          "histogram": [
           {
            "marker": {
             "pattern": {
              "fillmode": "overlay",
              "size": 10,
              "solidity": 0.2
             }
            },
            "type": "histogram"
           }
          ],
          "histogram2d": [
           {
            "colorbar": {
             "outlinewidth": 0,
             "ticks": ""
            },
            "colorscale": [
             [
              0,
              "#0d0887"
             ],
             [
              0.1111111111111111,
              "#46039f"
             ],
             [
              0.2222222222222222,
              "#7201a8"
             ],
             [
              0.3333333333333333,
              "#9c179e"
             ],
             [
              0.4444444444444444,
              "#bd3786"
             ],
             [
              0.5555555555555556,
              "#d8576b"
             ],
             [
              0.6666666666666666,
              "#ed7953"
             ],
             [
              0.7777777777777778,
              "#fb9f3a"
             ],
             [
              0.8888888888888888,
              "#fdca26"
             ],
             [
              1,
              "#f0f921"
             ]
            ],
            "type": "histogram2d"
           }
          ],
          "histogram2dcontour": [
           {
            "colorbar": {
             "outlinewidth": 0,
             "ticks": ""
            },
            "colorscale": [
             [
              0,
              "#0d0887"
             ],
             [
              0.1111111111111111,
              "#46039f"
             ],
             [
              0.2222222222222222,
              "#7201a8"
             ],
             [
              0.3333333333333333,
              "#9c179e"
             ],
             [
              0.4444444444444444,
              "#bd3786"
             ],
             [
              0.5555555555555556,
              "#d8576b"
             ],
             [
              0.6666666666666666,
              "#ed7953"
             ],
             [
              0.7777777777777778,
              "#fb9f3a"
             ],
             [
              0.8888888888888888,
              "#fdca26"
             ],
             [
              1,
              "#f0f921"
             ]
            ],
            "type": "histogram2dcontour"
           }
          ],
          "mesh3d": [
           {
            "colorbar": {
             "outlinewidth": 0,
             "ticks": ""
            },
            "type": "mesh3d"
           }
          ],
          "parcoords": [
           {
            "line": {
             "colorbar": {
              "outlinewidth": 0,
              "ticks": ""
             }
            },
            "type": "parcoords"
           }
          ],
          "pie": [
           {
            "automargin": true,
            "type": "pie"
           }
          ],
          "scatter": [
           {
            "marker": {
             "colorbar": {
              "outlinewidth": 0,
              "ticks": ""
             }
            },
            "type": "scatter"
           }
          ],
          "scatter3d": [
           {
            "line": {
             "colorbar": {
              "outlinewidth": 0,
              "ticks": ""
             }
            },
            "marker": {
             "colorbar": {
              "outlinewidth": 0,
              "ticks": ""
             }
            },
            "type": "scatter3d"
           }
          ],
          "scattercarpet": [
           {
            "marker": {
             "colorbar": {
              "outlinewidth": 0,
              "ticks": ""
             }
            },
            "type": "scattercarpet"
           }
          ],
          "scattergeo": [
           {
            "marker": {
             "colorbar": {
              "outlinewidth": 0,
              "ticks": ""
             }
            },
            "type": "scattergeo"
           }
          ],
          "scattergl": [
           {
            "marker": {
             "colorbar": {
              "outlinewidth": 0,
              "ticks": ""
             }
            },
            "type": "scattergl"
           }
          ],
          "scattermapbox": [
           {
            "marker": {
             "colorbar": {
              "outlinewidth": 0,
              "ticks": ""
             }
            },
            "type": "scattermapbox"
           }
          ],
          "scatterpolar": [
           {
            "marker": {
             "colorbar": {
              "outlinewidth": 0,
              "ticks": ""
             }
            },
            "type": "scatterpolar"
           }
          ],
          "scatterpolargl": [
           {
            "marker": {
             "colorbar": {
              "outlinewidth": 0,
              "ticks": ""
             }
            },
            "type": "scatterpolargl"
           }
          ],
          "scatterternary": [
           {
            "marker": {
             "colorbar": {
              "outlinewidth": 0,
              "ticks": ""
             }
            },
            "type": "scatterternary"
           }
          ],
          "surface": [
           {
            "colorbar": {
             "outlinewidth": 0,
             "ticks": ""
            },
            "colorscale": [
             [
              0,
              "#0d0887"
             ],
             [
              0.1111111111111111,
              "#46039f"
             ],
             [
              0.2222222222222222,
              "#7201a8"
             ],
             [
              0.3333333333333333,
              "#9c179e"
             ],
             [
              0.4444444444444444,
              "#bd3786"
             ],
             [
              0.5555555555555556,
              "#d8576b"
             ],
             [
              0.6666666666666666,
              "#ed7953"
             ],
             [
              0.7777777777777778,
              "#fb9f3a"
             ],
             [
              0.8888888888888888,
              "#fdca26"
             ],
             [
              1,
              "#f0f921"
             ]
            ],
            "type": "surface"
           }
          ],
          "table": [
           {
            "cells": {
             "fill": {
              "color": "#EBF0F8"
             },
             "line": {
              "color": "white"
             }
            },
            "header": {
             "fill": {
              "color": "#C8D4E3"
             },
             "line": {
              "color": "white"
             }
            },
            "type": "table"
           }
          ]
         },
         "layout": {
          "annotationdefaults": {
           "arrowcolor": "#2a3f5f",
           "arrowhead": 0,
           "arrowwidth": 1
          },
          "autotypenumbers": "strict",
          "coloraxis": {
           "colorbar": {
            "outlinewidth": 0,
            "ticks": ""
           }
          },
          "colorscale": {
           "diverging": [
            [
             0,
             "#8e0152"
            ],
            [
             0.1,
             "#c51b7d"
            ],
            [
             0.2,
             "#de77ae"
            ],
            [
             0.3,
             "#f1b6da"
            ],
            [
             0.4,
             "#fde0ef"
            ],
            [
             0.5,
             "#f7f7f7"
            ],
            [
             0.6,
             "#e6f5d0"
            ],
            [
             0.7,
             "#b8e186"
            ],
            [
             0.8,
             "#7fbc41"
            ],
            [
             0.9,
             "#4d9221"
            ],
            [
             1,
             "#276419"
            ]
           ],
           "sequential": [
            [
             0,
             "#0d0887"
            ],
            [
             0.1111111111111111,
             "#46039f"
            ],
            [
             0.2222222222222222,
             "#7201a8"
            ],
            [
             0.3333333333333333,
             "#9c179e"
            ],
            [
             0.4444444444444444,
             "#bd3786"
            ],
            [
             0.5555555555555556,
             "#d8576b"
            ],
            [
             0.6666666666666666,
             "#ed7953"
            ],
            [
             0.7777777777777778,
             "#fb9f3a"
            ],
            [
             0.8888888888888888,
             "#fdca26"
            ],
            [
             1,
             "#f0f921"
            ]
           ],
           "sequentialminus": [
            [
             0,
             "#0d0887"
            ],
            [
             0.1111111111111111,
             "#46039f"
            ],
            [
             0.2222222222222222,
             "#7201a8"
            ],
            [
             0.3333333333333333,
             "#9c179e"
            ],
            [
             0.4444444444444444,
             "#bd3786"
            ],
            [
             0.5555555555555556,
             "#d8576b"
            ],
            [
             0.6666666666666666,
             "#ed7953"
            ],
            [
             0.7777777777777778,
             "#fb9f3a"
            ],
            [
             0.8888888888888888,
             "#fdca26"
            ],
            [
             1,
             "#f0f921"
            ]
           ]
          },
          "colorway": [
           "#636efa",
           "#EF553B",
           "#00cc96",
           "#ab63fa",
           "#FFA15A",
           "#19d3f3",
           "#FF6692",
           "#B6E880",
           "#FF97FF",
           "#FECB52"
          ],
          "font": {
           "color": "#2a3f5f"
          },
          "geo": {
           "bgcolor": "white",
           "lakecolor": "white",
           "landcolor": "#E5ECF6",
           "showlakes": true,
           "showland": true,
           "subunitcolor": "white"
          },
          "hoverlabel": {
           "align": "left"
          },
          "hovermode": "closest",
          "mapbox": {
           "style": "light"
          },
          "paper_bgcolor": "white",
          "plot_bgcolor": "#E5ECF6",
          "polar": {
           "angularaxis": {
            "gridcolor": "white",
            "linecolor": "white",
            "ticks": ""
           },
           "bgcolor": "#E5ECF6",
           "radialaxis": {
            "gridcolor": "white",
            "linecolor": "white",
            "ticks": ""
           }
          },
          "scene": {
           "xaxis": {
            "backgroundcolor": "#E5ECF6",
            "gridcolor": "white",
            "gridwidth": 2,
            "linecolor": "white",
            "showbackground": true,
            "ticks": "",
            "zerolinecolor": "white"
           },
           "yaxis": {
            "backgroundcolor": "#E5ECF6",
            "gridcolor": "white",
            "gridwidth": 2,
            "linecolor": "white",
            "showbackground": true,
            "ticks": "",
            "zerolinecolor": "white"
           },
           "zaxis": {
            "backgroundcolor": "#E5ECF6",
            "gridcolor": "white",
            "gridwidth": 2,
            "linecolor": "white",
            "showbackground": true,
            "ticks": "",
            "zerolinecolor": "white"
           }
          },
          "shapedefaults": {
           "line": {
            "color": "#2a3f5f"
           }
          },
          "ternary": {
           "aaxis": {
            "gridcolor": "white",
            "linecolor": "white",
            "ticks": ""
           },
           "baxis": {
            "gridcolor": "white",
            "linecolor": "white",
            "ticks": ""
           },
           "bgcolor": "#E5ECF6",
           "caxis": {
            "gridcolor": "white",
            "linecolor": "white",
            "ticks": ""
           }
          },
          "title": {
           "x": 0.05
          },
          "xaxis": {
           "automargin": true,
           "gridcolor": "white",
           "linecolor": "white",
           "ticks": "",
           "title": {
            "standoff": 15
           },
           "zerolinecolor": "white",
           "zerolinewidth": 2
          },
          "yaxis": {
           "automargin": true,
           "gridcolor": "white",
           "linecolor": "white",
           "ticks": "",
           "title": {
            "standoff": 15
           },
           "zerolinecolor": "white",
           "zerolinewidth": 2
          }
         }
        },
        "title": {
         "text": "STDs over epochs for Magnetometers",
         "x": 0.5,
         "xanchor": "center",
         "y": 0.85,
         "yanchor": "top"
        },
        "xaxis": {
         "rangeslider": {
          "visible": true
         },
         "tickmode": "array",
         "ticktext": [
          "MEG0111",
          "MEG0121",
          "MEG0131",
          "MEG0141",
          "MEG0211",
          "MEG0221",
          "MEG0231",
          "MEG0241",
          "MEG0311",
          "MEG0321",
          "MEG0331",
          "MEG0341",
          "MEG0411",
          "MEG0421",
          "MEG0431",
          "MEG0441",
          "MEG0511",
          "MEG0521",
          "MEG0531",
          "MEG0541",
          "MEG0611",
          "MEG0621",
          "MEG0631",
          "MEG0641",
          "MEG0711",
          "MEG0721",
          "MEG0731",
          "MEG0741",
          "MEG0811",
          "MEG0821",
          "MEG0911",
          "MEG0921",
          "MEG0931",
          "MEG0941",
          "MEG1011",
          "MEG1021",
          "MEG1031",
          "MEG1041",
          "MEG1111",
          "MEG1121",
          "MEG1131",
          "MEG1141",
          "MEG1211",
          "MEG1221",
          "MEG1231",
          "MEG1241",
          "MEG1311",
          "MEG1321",
          "MEG1331",
          "MEG1341",
          "MEG1411",
          "MEG1421",
          "MEG1431",
          "MEG1441",
          "MEG1511",
          "MEG1521",
          "MEG1531",
          "MEG1541",
          "MEG1611",
          "MEG1621",
          "MEG1631",
          "MEG1641",
          "MEG1711",
          "MEG1721",
          "MEG1731",
          "MEG1741",
          "MEG1811",
          "MEG1821",
          "MEG1831",
          "MEG1841",
          "MEG1911",
          "MEG1921",
          "MEG1931",
          "MEG1941",
          "MEG2011",
          "MEG2021",
          "MEG2031",
          "MEG2041",
          "MEG2111",
          "MEG2121",
          "MEG2131",
          "MEG2141",
          "MEG2211",
          "MEG2221",
          "MEG2231",
          "MEG2241",
          "MEG2311",
          "MEG2321",
          "MEG2331",
          "MEG2341",
          "MEG2411",
          "MEG2421",
          "MEG2431",
          "MEG2441",
          "MEG2511",
          "MEG2521",
          "MEG2531",
          "MEG2541",
          "MEG2611",
          "MEG2621",
          "MEG2631",
          "MEG2641"
         ],
         "tickvals": [
          0,
          1,
          2,
          3,
          4,
          5,
          6,
          7,
          8,
          9,
          10,
          11,
          12,
          13,
          14,
          15,
          16,
          17,
          18,
          19,
          20,
          21,
          22,
          23,
          24,
          25,
          26,
          27,
          28,
          29,
          30,
          31,
          32,
          33,
          34,
          35,
          36,
          37,
          38,
          39,
          40,
          41,
          42,
          43,
          44,
          45,
          46,
          47,
          48,
          49,
          50,
          51,
          52,
          53,
          54,
          55,
          56,
          57,
          58,
          59,
          60,
          61,
          62,
          63,
          64,
          65,
          66,
          67,
          68,
          69,
          70,
          71,
          72,
          73,
          74,
          75,
          76,
          77,
          78,
          79,
          80,
          81,
          82,
          83,
          84,
          85,
          86,
          87,
          88,
          89,
          90,
          91,
          92,
          93,
          94,
          95,
          96,
          97,
          98,
          99,
          100,
          101
         ]
        },
        "yaxis": {
         "exponentformat": "e",
         "showexponent": "all",
         "title": {
          "text": "standard deviation in T"
         }
        }
       }
      }
     },
     "metadata": {},
     "output_type": "display_data"
    }
   ],
   "source": [
    "fig_m_std_epoch, fig_path_m_std_epoch=boxplot_std_channel_epoch_hovering_plotly(df_mg=df_std_mags, tit='Magnetometers', sid='1')"
   ]
  },
  {
   "cell_type": "code",
   "execution_count": 17,
   "metadata": {},
   "outputs": [
    {
     "data": {
      "application/vnd.plotly.v1+json": {
       "config": {
        "plotlyServerURL": "https://plot.ly"
       },
       "data": [
        {
         "boxpoints": "all",
         "hovertemplate": "Epoch: %{text}<br>STD: %{y: .0f}",
         "line": {
          "width": 1
         },
         "marker": {
          "size": 3
         },
         "name": "MEG0112",
         "opacity": 0.7,
         "pointpos": 0,
         "text": [
          0,
          1,
          2,
          3,
          4,
          5,
          6,
          7
         ],
         "type": "box",
         "y": [
          4.298568019234393e-12,
          4.5242190789410586e-12,
          4.9291208604024085e-12,
          5.878065400208079e-12,
          4.24887893559818e-12,
          3.985586615448564e-12,
          4.150631518397512e-12,
          4.717059679060806e-12
         ]
        },
        {
         "boxpoints": "all",
         "hovertemplate": "Epoch: %{text}<br>STD: %{y: .0f}",
         "line": {
          "width": 1
         },
         "marker": {
          "size": 3
         },
         "name": "MEG0113",
         "opacity": 0.7,
         "pointpos": 0,
         "text": [
          0,
          1,
          2,
          3,
          4,
          5,
          6,
          7
         ],
         "type": "box",
         "y": [
          5.986108046997823e-12,
          6.038682967832139e-12,
          6.5045731017203065e-12,
          7.716663840521328e-12,
          6.216829755952889e-12,
          6.530338241604687e-12,
          6.479605502996537e-12,
          7.612855379444683e-12
         ]
        },
        {
         "boxpoints": "all",
         "hovertemplate": "Epoch: %{text}<br>STD: %{y: .0f}",
         "line": {
          "width": 1
         },
         "marker": {
          "size": 3
         },
         "name": "MEG0122",
         "opacity": 0.7,
         "pointpos": 0,
         "text": [
          0,
          1,
          2,
          3,
          4,
          5,
          6,
          7
         ],
         "type": "box",
         "y": [
          4.103312344628729e-12,
          4.372424973550969e-12,
          4.541781194024493e-12,
          7.03188247458207e-12,
          4.693574565953316e-12,
          5.986956950966415e-12,
          4.891316524282691e-12,
          6.5354826959702e-12
         ]
        },
        {
         "boxpoints": "all",
         "hovertemplate": "Epoch: %{text}<br>STD: %{y: .0f}",
         "line": {
          "width": 1
         },
         "marker": {
          "size": 3
         },
         "name": "MEG0123",
         "opacity": 0.7,
         "pointpos": 0,
         "text": [
          0,
          1,
          2,
          3,
          4,
          5,
          6,
          7
         ],
         "type": "box",
         "y": [
          4.4161374940293295e-12,
          3.991563818182097e-12,
          4.02934546919161e-12,
          5.038636326700092e-12,
          4.606208643610192e-12,
          4.292865527740044e-12,
          4.2276956724129456e-12,
          4.808356271499042e-12
         ]
        },
        {
         "boxpoints": "all",
         "hovertemplate": "Epoch: %{text}<br>STD: %{y: .0f}",
         "line": {
          "width": 1
         },
         "marker": {
          "size": 3
         },
         "name": "MEG0132",
         "opacity": 0.7,
         "pointpos": 0,
         "text": [
          0,
          1,
          2,
          3,
          4,
          5,
          6,
          7
         ],
         "type": "box",
         "y": [
          5.4601012457133e-12,
          5.618849881188005e-12,
          4.916558965386997e-12,
          6.654558357426903e-12,
          5.245814596811212e-12,
          6.873577949730126e-12,
          5.886729941280071e-12,
          7.932618403316677e-12
         ]
        },
        {
         "boxpoints": "all",
         "hovertemplate": "Epoch: %{text}<br>STD: %{y: .0f}",
         "line": {
          "width": 1
         },
         "marker": {
          "size": 3
         },
         "name": "MEG0133",
         "opacity": 0.7,
         "pointpos": 0,
         "text": [
          0,
          1,
          2,
          3,
          4,
          5,
          6,
          7
         ],
         "type": "box",
         "y": [
          4.414242201326996e-12,
          4.240771948375546e-12,
          3.9748719353187275e-12,
          5.282924718531335e-12,
          4.51607601232111e-12,
          4.426845803750831e-12,
          4.579222507655259e-12,
          4.195359048850111e-12
         ]
        },
        {
         "boxpoints": "all",
         "hovertemplate": "Epoch: %{text}<br>STD: %{y: .0f}",
         "line": {
          "width": 1
         },
         "marker": {
          "size": 3
         },
         "name": "MEG0142",
         "opacity": 0.7,
         "pointpos": 0,
         "text": [
          0,
          1,
          2,
          3,
          4,
          5,
          6,
          7
         ],
         "type": "box",
         "y": [
          4.043611778568052e-12,
          3.59620610015757e-12,
          3.985902829349133e-12,
          5.171683409873231e-12,
          3.498089072938306e-12,
          3.6606785752197846e-12,
          4.210934690644536e-12,
          4.359632058098429e-12
         ]
        },
        {
         "boxpoints": "all",
         "hovertemplate": "Epoch: %{text}<br>STD: %{y: .0f}",
         "line": {
          "width": 1
         },
         "marker": {
          "size": 3
         },
         "name": "MEG0143",
         "opacity": 0.7,
         "pointpos": 0,
         "text": [
          0,
          1,
          2,
          3,
          4,
          5,
          6,
          7
         ],
         "type": "box",
         "y": [
          5.668053272468168e-12,
          6.042898189171674e-12,
          6.545769930963439e-12,
          6.553430176295382e-12,
          5.9452411562870295e-12,
          6.907110512716394e-12,
          6.884813852672211e-12,
          7.415795426813794e-12
         ]
        },
        {
         "boxpoints": "all",
         "hovertemplate": "Epoch: %{text}<br>STD: %{y: .0f}",
         "line": {
          "width": 1
         },
         "marker": {
          "size": 3
         },
         "name": "MEG0212",
         "opacity": 0.7,
         "pointpos": 0,
         "text": [
          0,
          1,
          2,
          3,
          4,
          5,
          6,
          7
         ],
         "type": "box",
         "y": [
          4.354378336106936e-12,
          4.149590077502119e-12,
          3.837058419741347e-12,
          4.55218660509286e-12,
          4.178022694800123e-12,
          4.369517748067924e-12,
          4.7206613184828335e-12,
          5.537719778143985e-12
         ]
        },
        {
         "boxpoints": "all",
         "hovertemplate": "Epoch: %{text}<br>STD: %{y: .0f}",
         "line": {
          "width": 1
         },
         "marker": {
          "size": 3
         },
         "name": "MEG0213",
         "opacity": 0.7,
         "pointpos": 0,
         "text": [
          0,
          1,
          2,
          3,
          4,
          5,
          6,
          7
         ],
         "type": "box",
         "y": [
          4.673088724133008e-12,
          4.314142044765385e-12,
          3.965390781191176e-12,
          6.669908215565896e-12,
          5.313048932498505e-12,
          4.1885396270245666e-12,
          5.056086239099304e-12,
          4.278449484923575e-12
         ]
        },
        {
         "boxpoints": "all",
         "hovertemplate": "Epoch: %{text}<br>STD: %{y: .0f}",
         "line": {
          "width": 1
         },
         "marker": {
          "size": 3
         },
         "name": "MEG0222",
         "opacity": 0.7,
         "pointpos": 0,
         "text": [
          0,
          1,
          2,
          3,
          4,
          5,
          6,
          7
         ],
         "type": "box",
         "y": [
          4.086858028211448e-12,
          4.538141148745102e-12,
          3.843268329236977e-12,
          6.607990534442834e-12,
          4.590978127406346e-12,
          4.798847200354727e-12,
          4.416581382596788e-12,
          4.628336164091847e-12
         ]
        },
        {
         "boxpoints": "all",
         "hovertemplate": "Epoch: %{text}<br>STD: %{y: .0f}",
         "line": {
          "width": 1
         },
         "marker": {
          "size": 3
         },
         "name": "MEG0223",
         "opacity": 0.7,
         "pointpos": 0,
         "text": [
          0,
          1,
          2,
          3,
          4,
          5,
          6,
          7
         ],
         "type": "box",
         "y": [
          6.316377391034264e-12,
          6.7700629779672685e-12,
          6.112082204784222e-12,
          6.1331839607900115e-12,
          6.408315386074501e-12,
          6.506587088333943e-12,
          6.472343136748367e-12,
          7.05645213662607e-12
         ]
        },
        {
         "boxpoints": "all",
         "hovertemplate": "Epoch: %{text}<br>STD: %{y: .0f}",
         "line": {
          "width": 1
         },
         "marker": {
          "size": 3
         },
         "name": "MEG0232",
         "opacity": 0.7,
         "pointpos": 0,
         "text": [
          0,
          1,
          2,
          3,
          4,
          5,
          6,
          7
         ],
         "type": "box",
         "y": [
          4.954121617047054e-12,
          5.508342537123844e-12,
          4.219246774848588e-12,
          5.880683679372051e-12,
          5.074884947478828e-12,
          4.288516823369129e-12,
          4.3048861073105815e-12,
          5.67861395334472e-12
         ]
        },
        {
         "boxpoints": "all",
         "hovertemplate": "Epoch: %{text}<br>STD: %{y: .0f}",
         "line": {
          "width": 1
         },
         "marker": {
          "size": 3
         },
         "name": "MEG0233",
         "opacity": 0.7,
         "pointpos": 0,
         "text": [
          0,
          1,
          2,
          3,
          4,
          5,
          6,
          7
         ],
         "type": "box",
         "y": [
          3.997842355829844e-12,
          4.5041280430968666e-12,
          3.936765522558356e-12,
          4.748023812489703e-12,
          3.702646212931293e-12,
          4.174289547270713e-12,
          3.901899116766971e-12,
          3.464259623730862e-12
         ]
        },
        {
         "boxpoints": "all",
         "hovertemplate": "Epoch: %{text}<br>STD: %{y: .0f}",
         "line": {
          "width": 1
         },
         "marker": {
          "size": 3
         },
         "name": "MEG0242",
         "opacity": 0.7,
         "pointpos": 0,
         "text": [
          0,
          1,
          2,
          3,
          4,
          5,
          6,
          7
         ],
         "type": "box",
         "y": [
          3.930067511516751e-12,
          6.59500819638491e-12,
          5.176370000456985e-12,
          5.440124274605978e-12,
          4.6852204522263445e-12,
          5.739963696031152e-12,
          4.253507870401568e-12,
          5.386392076067278e-12
         ]
        },
        {
         "boxpoints": "all",
         "hovertemplate": "Epoch: %{text}<br>STD: %{y: .0f}",
         "line": {
          "width": 1
         },
         "marker": {
          "size": 3
         },
         "name": "MEG0243",
         "opacity": 0.7,
         "pointpos": 0,
         "text": [
          0,
          1,
          2,
          3,
          4,
          5,
          6,
          7
         ],
         "type": "box",
         "y": [
          4.356954593878898e-12,
          4.178105066267192e-12,
          4.074993637708673e-12,
          6.102028822641204e-12,
          5.0644199488756704e-12,
          4.95710442024578e-12,
          4.6017433175491145e-12,
          5.281872782217813e-12
         ]
        },
        {
         "boxpoints": "all",
         "hovertemplate": "Epoch: %{text}<br>STD: %{y: .0f}",
         "line": {
          "width": 1
         },
         "marker": {
          "size": 3
         },
         "name": "MEG0312",
         "opacity": 0.7,
         "pointpos": 0,
         "text": [
          0,
          1,
          2,
          3,
          4,
          5,
          6,
          7
         ],
         "type": "box",
         "y": [
          4.173537512929251e-12,
          4.2958731902269335e-12,
          3.766436894963154e-12,
          5.57652439239111e-12,
          5.381508251609457e-12,
          3.8758826713784984e-12,
          4.312946807961991e-12,
          4.743424196850071e-12
         ]
        },
        {
         "boxpoints": "all",
         "hovertemplate": "Epoch: %{text}<br>STD: %{y: .0f}",
         "line": {
          "width": 1
         },
         "marker": {
          "size": 3
         },
         "name": "MEG0313",
         "opacity": 0.7,
         "pointpos": 0,
         "text": [
          0,
          1,
          2,
          3,
          4,
          5,
          6,
          7
         ],
         "type": "box",
         "y": [
          3.757738981888412e-12,
          4.006336436967497e-12,
          3.817467798960055e-12,
          5.8947180339926026e-12,
          4.297591610515083e-12,
          3.929916466946647e-12,
          4.032072138602333e-12,
          4.853509530770829e-12
         ]
        },
        {
         "boxpoints": "all",
         "hovertemplate": "Epoch: %{text}<br>STD: %{y: .0f}",
         "line": {
          "width": 1
         },
         "marker": {
          "size": 3
         },
         "name": "MEG0322",
         "opacity": 0.7,
         "pointpos": 0,
         "text": [
          0,
          1,
          2,
          3,
          4,
          5,
          6,
          7
         ],
         "type": "box",
         "y": [
          3.678947374063503e-12,
          4.212835213506533e-12,
          3.9605183278904e-12,
          5.92641324595938e-12,
          4.044053117505842e-12,
          4.0185093014479344e-12,
          4.0304913315651335e-12,
          3.957657193266181e-12
         ]
        },
        {
         "boxpoints": "all",
         "hovertemplate": "Epoch: %{text}<br>STD: %{y: .0f}",
         "line": {
          "width": 1
         },
         "marker": {
          "size": 3
         },
         "name": "MEG0323",
         "opacity": 0.7,
         "pointpos": 0,
         "text": [
          0,
          1,
          2,
          3,
          4,
          5,
          6,
          7
         ],
         "type": "box",
         "y": [
          4.100894923159127e-12,
          3.582431563387086e-12,
          3.5786632138307295e-12,
          3.7291839355493166e-12,
          3.8016474696403125e-12,
          3.916385176880903e-12,
          3.682362801581977e-12,
          4.3680429757358706e-12
         ]
        },
        {
         "boxpoints": "all",
         "hovertemplate": "Epoch: %{text}<br>STD: %{y: .0f}",
         "line": {
          "width": 1
         },
         "marker": {
          "size": 3
         },
         "name": "MEG0332",
         "opacity": 0.7,
         "pointpos": 0,
         "text": [
          0,
          1,
          2,
          3,
          4,
          5,
          6,
          7
         ],
         "type": "box",
         "y": [
          3.1151235693430004e-12,
          3.765110958272301e-12,
          3.5136355322975637e-12,
          3.5663542457723575e-12,
          3.3789484242712447e-12,
          3.801540298174689e-12,
          3.4765774479602924e-12,
          3.656741744362511e-12
         ]
        },
        {
         "boxpoints": "all",
         "hovertemplate": "Epoch: %{text}<br>STD: %{y: .0f}",
         "line": {
          "width": 1
         },
         "marker": {
          "size": 3
         },
         "name": "MEG0333",
         "opacity": 0.7,
         "pointpos": 0,
         "text": [
          0,
          1,
          2,
          3,
          4,
          5,
          6,
          7
         ],
         "type": "box",
         "y": [
          3.3692669227077574e-12,
          3.684267931671205e-12,
          3.632790845735355e-12,
          4.7713890459400834e-12,
          3.6954583824972876e-12,
          4.376503165456551e-12,
          3.604928337943592e-12,
          3.67516916414833e-12
         ]
        },
        {
         "boxpoints": "all",
         "hovertemplate": "Epoch: %{text}<br>STD: %{y: .0f}",
         "line": {
          "width": 1
         },
         "marker": {
          "size": 3
         },
         "name": "MEG0342",
         "opacity": 0.7,
         "pointpos": 0,
         "text": [
          0,
          1,
          2,
          3,
          4,
          5,
          6,
          7
         ],
         "type": "box",
         "y": [
          4.0367287558188464e-12,
          4.249851690167682e-12,
          3.904699046662565e-12,
          4.211235131655603e-12,
          4.294094419023388e-12,
          3.98467940986275e-12,
          3.780564412475067e-12,
          5.2994803495612325e-12
         ]
        },
        {
         "boxpoints": "all",
         "hovertemplate": "Epoch: %{text}<br>STD: %{y: .0f}",
         "line": {
          "width": 1
         },
         "marker": {
          "size": 3
         },
         "name": "MEG0343",
         "opacity": 0.7,
         "pointpos": 0,
         "text": [
          0,
          1,
          2,
          3,
          4,
          5,
          6,
          7
         ],
         "type": "box",
         "y": [
          4.18478031608951e-12,
          4.7163645542445765e-12,
          3.778776661375894e-12,
          6.916219357037706e-12,
          4.271203437131482e-12,
          4.3415695243088334e-12,
          4.4057464297060295e-12,
          4.773920968491809e-12
         ]
        },
        {
         "boxpoints": "all",
         "hovertemplate": "Epoch: %{text}<br>STD: %{y: .0f}",
         "line": {
          "width": 1
         },
         "marker": {
          "size": 3
         },
         "name": "MEG0412",
         "opacity": 0.7,
         "pointpos": 0,
         "text": [
          0,
          1,
          2,
          3,
          4,
          5,
          6,
          7
         ],
         "type": "box",
         "y": [
          3.215457795133682e-12,
          3.5271694430422247e-12,
          3.3094965697454644e-12,
          4.221557218959799e-12,
          3.3687091367483432e-12,
          3.888633904938278e-12,
          3.863125296699026e-12,
          4.384778676743885e-12
         ]
        },
        {
         "boxpoints": "all",
         "hovertemplate": "Epoch: %{text}<br>STD: %{y: .0f}",
         "line": {
          "width": 1
         },
         "marker": {
          "size": 3
         },
         "name": "MEG0413",
         "opacity": 0.7,
         "pointpos": 0,
         "text": [
          0,
          1,
          2,
          3,
          4,
          5,
          6,
          7
         ],
         "type": "box",
         "y": [
          3.832705385396751e-12,
          4.213360656474368e-12,
          3.412974444307681e-12,
          5.830228000220627e-12,
          4.483535806933876e-12,
          4.388358038958804e-12,
          3.790642053042694e-12,
          4.390277023581612e-12
         ]
        },
        {
         "boxpoints": "all",
         "hovertemplate": "Epoch: %{text}<br>STD: %{y: .0f}",
         "line": {
          "width": 1
         },
         "marker": {
          "size": 3
         },
         "name": "MEG0422",
         "opacity": 0.7,
         "pointpos": 0,
         "text": [
          0,
          1,
          2,
          3,
          4,
          5,
          6,
          7
         ],
         "type": "box",
         "y": [
          4.157352210857267e-12,
          4.186792789611438e-12,
          4.2015752500173115e-12,
          5.048412891202778e-12,
          4.450760485282728e-12,
          4.690678751397714e-12,
          4.216992743116318e-12,
          4.137097822234375e-12
         ]
        },
        {
         "boxpoints": "all",
         "hovertemplate": "Epoch: %{text}<br>STD: %{y: .0f}",
         "line": {
          "width": 1
         },
         "marker": {
          "size": 3
         },
         "name": "MEG0423",
         "opacity": 0.7,
         "pointpos": 0,
         "text": [
          0,
          1,
          2,
          3,
          4,
          5,
          6,
          7
         ],
         "type": "box",
         "y": [
          3.5244092311302e-12,
          3.889451070177672e-12,
          3.695066837513535e-12,
          4.2986382154090045e-12,
          3.627577471821606e-12,
          3.79822495254516e-12,
          3.9524475782699306e-12,
          4.109484604870429e-12
         ]
        },
        {
         "boxpoints": "all",
         "hovertemplate": "Epoch: %{text}<br>STD: %{y: .0f}",
         "line": {
          "width": 1
         },
         "marker": {
          "size": 3
         },
         "name": "MEG0432",
         "opacity": 0.7,
         "pointpos": 0,
         "text": [
          0,
          1,
          2,
          3,
          4,
          5,
          6,
          7
         ],
         "type": "box",
         "y": [
          4.121464504025106e-12,
          4.2386417219309685e-12,
          4.18577663562e-12,
          5.1158628014583505e-12,
          4.770715558112583e-12,
          5.205166707534952e-12,
          4.04575342918381e-12,
          4.480359012984833e-12
         ]
        },
        {
         "boxpoints": "all",
         "hovertemplate": "Epoch: %{text}<br>STD: %{y: .0f}",
         "line": {
          "width": 1
         },
         "marker": {
          "size": 3
         },
         "name": "MEG0433",
         "opacity": 0.7,
         "pointpos": 0,
         "text": [
          0,
          1,
          2,
          3,
          4,
          5,
          6,
          7
         ],
         "type": "box",
         "y": [
          3.946902105953049e-12,
          3.551324146144682e-12,
          3.4228264828585335e-12,
          4.250716818882862e-12,
          3.4004557407711958e-12,
          4.040114404064437e-12,
          3.71504666833901e-12,
          3.6083616018209718e-12
         ]
        },
        {
         "boxpoints": "all",
         "hovertemplate": "Epoch: %{text}<br>STD: %{y: .0f}",
         "line": {
          "width": 1
         },
         "marker": {
          "size": 3
         },
         "name": "MEG0442",
         "opacity": 0.7,
         "pointpos": 0,
         "text": [
          0,
          1,
          2,
          3,
          4,
          5,
          6,
          7
         ],
         "type": "box",
         "y": [
          4.424318931060953e-12,
          3.885739775810848e-12,
          3.966092936307043e-12,
          5.139714256442153e-12,
          3.892148044352793e-12,
          4.2228157545459556e-12,
          3.919374590517934e-12,
          4.0473714806120355e-12
         ]
        },
        {
         "boxpoints": "all",
         "hovertemplate": "Epoch: %{text}<br>STD: %{y: .0f}",
         "line": {
          "width": 1
         },
         "marker": {
          "size": 3
         },
         "name": "MEG0443",
         "opacity": 0.7,
         "pointpos": 0,
         "text": [
          0,
          1,
          2,
          3,
          4,
          5,
          6,
          7
         ],
         "type": "box",
         "y": [
          4.8843552223355855e-12,
          4.451116769395137e-12,
          3.726373041728317e-12,
          5.074731257783876e-12,
          5.070317332831631e-12,
          4.508082523492059e-12,
          3.702799795413849e-12,
          4.911787669076373e-12
         ]
        },
        {
         "boxpoints": "all",
         "hovertemplate": "Epoch: %{text}<br>STD: %{y: .0f}",
         "line": {
          "width": 1
         },
         "marker": {
          "size": 3
         },
         "name": "MEG0512",
         "opacity": 0.7,
         "pointpos": 0,
         "text": [
          0,
          1,
          2,
          3,
          4,
          5,
          6,
          7
         ],
         "type": "box",
         "y": [
          3.649099056702936e-12,
          3.577192444436422e-12,
          3.602881647361127e-12,
          5.483107276631912e-12,
          3.3513209950004906e-12,
          3.503229571701606e-12,
          3.3807018334615295e-12,
          3.6330286491851535e-12
         ]
        },
        {
         "boxpoints": "all",
         "hovertemplate": "Epoch: %{text}<br>STD: %{y: .0f}",
         "line": {
          "width": 1
         },
         "marker": {
          "size": 3
         },
         "name": "MEG0513",
         "opacity": 0.7,
         "pointpos": 0,
         "text": [
          0,
          1,
          2,
          3,
          4,
          5,
          6,
          7
         ],
         "type": "box",
         "y": [
          3.02667046120949e-12,
          3.5877565840547674e-12,
          3.4308121529021846e-12,
          4.859669831265616e-12,
          3.644937450688099e-12,
          3.2117444412271425e-12,
          3.702304897796678e-12,
          4.370286896452506e-12
         ]
        },
        {
         "boxpoints": "all",
         "hovertemplate": "Epoch: %{text}<br>STD: %{y: .0f}",
         "line": {
          "width": 1
         },
         "marker": {
          "size": 3
         },
         "name": "MEG0522",
         "opacity": 0.7,
         "pointpos": 0,
         "text": [
          0,
          1,
          2,
          3,
          4,
          5,
          6,
          7
         ],
         "type": "box",
         "y": [
          3.98131012822301e-12,
          3.915086756745046e-12,
          3.5384099575911795e-12,
          4.6763748627144056e-12,
          4.430228103765e-12,
          3.3935582009943076e-12,
          3.572953915815345e-12,
          4.120568249864406e-12
         ]
        },
        {
         "boxpoints": "all",
         "hovertemplate": "Epoch: %{text}<br>STD: %{y: .0f}",
         "line": {
          "width": 1
         },
         "marker": {
          "size": 3
         },
         "name": "MEG0523",
         "opacity": 0.7,
         "pointpos": 0,
         "text": [
          0,
          1,
          2,
          3,
          4,
          5,
          6,
          7
         ],
         "type": "box",
         "y": [
          3.819796524262056e-12,
          4.31018291632509e-12,
          4.950957779170305e-12,
          4.392646871077528e-12,
          3.641551475861266e-12,
          4.107506141537342e-12,
          4.311708341942062e-12,
          4.871411201077316e-12
         ]
        },
        {
         "boxpoints": "all",
         "hovertemplate": "Epoch: %{text}<br>STD: %{y: .0f}",
         "line": {
          "width": 1
         },
         "marker": {
          "size": 3
         },
         "name": "MEG0532",
         "opacity": 0.7,
         "pointpos": 0,
         "text": [
          0,
          1,
          2,
          3,
          4,
          5,
          6,
          7
         ],
         "type": "box",
         "y": [
          3.1455766132262764e-12,
          3.5659850518660542e-12,
          3.901369219578414e-12,
          4.061061761922407e-12,
          3.2365067713392384e-12,
          4.135189986521162e-12,
          3.4645800089312752e-12,
          3.787540577928427e-12
         ]
        },
        {
         "boxpoints": "all",
         "hovertemplate": "Epoch: %{text}<br>STD: %{y: .0f}",
         "line": {
          "width": 1
         },
         "marker": {
          "size": 3
         },
         "name": "MEG0533",
         "opacity": 0.7,
         "pointpos": 0,
         "text": [
          0,
          1,
          2,
          3,
          4,
          5,
          6,
          7
         ],
         "type": "box",
         "y": [
          3.1666074483045755e-12,
          3.3317326185448266e-12,
          3.5992594027305905e-12,
          3.777630048583289e-12,
          3.859701827073619e-12,
          3.348100219644761e-12,
          3.251658407605071e-12,
          3.7402860207632796e-12
         ]
        },
        {
         "boxpoints": "all",
         "hovertemplate": "Epoch: %{text}<br>STD: %{y: .0f}",
         "line": {
          "width": 1
         },
         "marker": {
          "size": 3
         },
         "name": "MEG0542",
         "opacity": 0.7,
         "pointpos": 0,
         "text": [
          0,
          1,
          2,
          3,
          4,
          5,
          6,
          7
         ],
         "type": "box",
         "y": [
          3.1007275825401597e-12,
          3.630474865591614e-12,
          3.8681711436902375e-12,
          4.820920743539176e-12,
          4.0986059868418116e-12,
          4.1378662825556906e-12,
          4.43973681931114e-12,
          4.222016700297127e-12
         ]
        },
        {
         "boxpoints": "all",
         "hovertemplate": "Epoch: %{text}<br>STD: %{y: .0f}",
         "line": {
          "width": 1
         },
         "marker": {
          "size": 3
         },
         "name": "MEG0543",
         "opacity": 0.7,
         "pointpos": 0,
         "text": [
          0,
          1,
          2,
          3,
          4,
          5,
          6,
          7
         ],
         "type": "box",
         "y": [
          3.626620965887327e-12,
          3.9362825957965615e-12,
          3.4500961401507086e-12,
          4.2748800047789056e-12,
          4.206341967467924e-12,
          3.353343141832771e-12,
          3.5219395528253666e-12,
          3.6758973350086736e-12
         ]
        },
        {
         "boxpoints": "all",
         "hovertemplate": "Epoch: %{text}<br>STD: %{y: .0f}",
         "line": {
          "width": 1
         },
         "marker": {
          "size": 3
         },
         "name": "MEG0612",
         "opacity": 0.7,
         "pointpos": 0,
         "text": [
          0,
          1,
          2,
          3,
          4,
          5,
          6,
          7
         ],
         "type": "box",
         "y": [
          3.2178233481423155e-12,
          3.659914452893212e-12,
          3.50470342667531e-12,
          4.307712643203018e-12,
          3.6309396876827404e-12,
          3.6442716690557246e-12,
          3.2186104071299685e-12,
          3.592950316176337e-12
         ]
        },
        {
         "boxpoints": "all",
         "hovertemplate": "Epoch: %{text}<br>STD: %{y: .0f}",
         "line": {
          "width": 1
         },
         "marker": {
          "size": 3
         },
         "name": "MEG0613",
         "opacity": 0.7,
         "pointpos": 0,
         "text": [
          0,
          1,
          2,
          3,
          4,
          5,
          6,
          7
         ],
         "type": "box",
         "y": [
          2.661347252178449e-12,
          3.2244965784674364e-12,
          3.0301652104500375e-12,
          2.9127127771018215e-12,
          2.8883660006984824e-12,
          2.9889263231493015e-12,
          3.0155174414967826e-12,
          3.2119814886371535e-12
         ]
        },
        {
         "boxpoints": "all",
         "hovertemplate": "Epoch: %{text}<br>STD: %{y: .0f}",
         "line": {
          "width": 1
         },
         "marker": {
          "size": 3
         },
         "name": "MEG0622",
         "opacity": 0.7,
         "pointpos": 0,
         "text": [
          0,
          1,
          2,
          3,
          4,
          5,
          6,
          7
         ],
         "type": "box",
         "y": [
          3.4758421658715247e-12,
          3.5175623968800027e-12,
          3.624250135817505e-12,
          3.5008819068686184e-12,
          3.595746476154212e-12,
          3.5885828701196716e-12,
          3.3304658875600818e-12,
          3.625479539353685e-12
         ]
        },
        {
         "boxpoints": "all",
         "hovertemplate": "Epoch: %{text}<br>STD: %{y: .0f}",
         "line": {
          "width": 1
         },
         "marker": {
          "size": 3
         },
         "name": "MEG0623",
         "opacity": 0.7,
         "pointpos": 0,
         "text": [
          0,
          1,
          2,
          3,
          4,
          5,
          6,
          7
         ],
         "type": "box",
         "y": [
          3.652010281323016e-12,
          3.700163137001779e-12,
          3.4927458951791693e-12,
          3.854754295693837e-12,
          3.659000689715941e-12,
          3.82913599696574e-12,
          3.759955284654428e-12,
          3.6979565571545345e-12
         ]
        },
        {
         "boxpoints": "all",
         "hovertemplate": "Epoch: %{text}<br>STD: %{y: .0f}",
         "line": {
          "width": 1
         },
         "marker": {
          "size": 3
         },
         "name": "MEG0632",
         "opacity": 0.7,
         "pointpos": 0,
         "text": [
          0,
          1,
          2,
          3,
          4,
          5,
          6,
          7
         ],
         "type": "box",
         "y": [
          3.317602161977185e-12,
          3.335128109546212e-12,
          3.228407031419865e-12,
          4.675300331570832e-12,
          3.723399382142456e-12,
          3.5213336325764166e-12,
          3.1346222879360376e-12,
          3.523685379014672e-12
         ]
        },
        {
         "boxpoints": "all",
         "hovertemplate": "Epoch: %{text}<br>STD: %{y: .0f}",
         "line": {
          "width": 1
         },
         "marker": {
          "size": 3
         },
         "name": "MEG0633",
         "opacity": 0.7,
         "pointpos": 0,
         "text": [
          0,
          1,
          2,
          3,
          4,
          5,
          6,
          7
         ],
         "type": "box",
         "y": [
          3.3426640501311854e-12,
          3.398655451872425e-12,
          3.1998815083615616e-12,
          3.885367213621134e-12,
          3.453625150557221e-12,
          3.4129682954558534e-12,
          3.62903717084185e-12,
          3.805125509128185e-12
         ]
        },
        {
         "boxpoints": "all",
         "hovertemplate": "Epoch: %{text}<br>STD: %{y: .0f}",
         "line": {
          "width": 1
         },
         "marker": {
          "size": 3
         },
         "name": "MEG0642",
         "opacity": 0.7,
         "pointpos": 0,
         "text": [
          0,
          1,
          2,
          3,
          4,
          5,
          6,
          7
         ],
         "type": "box",
         "y": [
          3.136749456330006e-12,
          3.358273532241828e-12,
          3.6351157271697964e-12,
          4.116323051817128e-12,
          3.3939830206604083e-12,
          3.7065012892406735e-12,
          3.812142496760873e-12,
          4.134290035137964e-12
         ]
        },
        {
         "boxpoints": "all",
         "hovertemplate": "Epoch: %{text}<br>STD: %{y: .0f}",
         "line": {
          "width": 1
         },
         "marker": {
          "size": 3
         },
         "name": "MEG0643",
         "opacity": 0.7,
         "pointpos": 0,
         "text": [
          0,
          1,
          2,
          3,
          4,
          5,
          6,
          7
         ],
         "type": "box",
         "y": [
          3.4664715411405236e-12,
          3.712734902501675e-12,
          3.5411653567566165e-12,
          4.5658253561272345e-12,
          3.4741356936093802e-12,
          4.149900051390928e-12,
          3.404730602410678e-12,
          3.8519945049302875e-12
         ]
        },
        {
         "boxpoints": "all",
         "hovertemplate": "Epoch: %{text}<br>STD: %{y: .0f}",
         "line": {
          "width": 1
         },
         "marker": {
          "size": 3
         },
         "name": "MEG0712",
         "opacity": 0.7,
         "pointpos": 0,
         "text": [
          0,
          1,
          2,
          3,
          4,
          5,
          6,
          7
         ],
         "type": "box",
         "y": [
          3.7616557922431045e-12,
          3.479989318023845e-12,
          3.2844874183681275e-12,
          3.3719610581716966e-12,
          3.4787724627678913e-12,
          3.6169700621838095e-12,
          3.1712750077814323e-12,
          3.6297861440967414e-12
         ]
        },
        {
         "boxpoints": "all",
         "hovertemplate": "Epoch: %{text}<br>STD: %{y: .0f}",
         "line": {
          "width": 1
         },
         "marker": {
          "size": 3
         },
         "name": "MEG0713",
         "opacity": 0.7,
         "pointpos": 0,
         "text": [
          0,
          1,
          2,
          3,
          4,
          5,
          6,
          7
         ],
         "type": "box",
         "y": [
          4.076717662212432e-12,
          3.752468747637425e-12,
          3.655064982127459e-12,
          4.515033150482152e-12,
          3.8385505976946e-12,
          3.819270151397763e-12,
          3.912688714340791e-12,
          4.325946287326237e-12
         ]
        },
        {
         "boxpoints": "all",
         "hovertemplate": "Epoch: %{text}<br>STD: %{y: .0f}",
         "line": {
          "width": 1
         },
         "marker": {
          "size": 3
         },
         "name": "MEG0722",
         "opacity": 0.7,
         "pointpos": 0,
         "text": [
          0,
          1,
          2,
          3,
          4,
          5,
          6,
          7
         ],
         "type": "box",
         "y": [
          3.990101732433468e-12,
          3.792587162048265e-12,
          3.6184259446852786e-12,
          4.3817548215757335e-12,
          3.8866042136873075e-12,
          4.37468947765502e-12,
          3.980393059049169e-12,
          4.4271431311708375e-12
         ]
        },
        {
         "boxpoints": "all",
         "hovertemplate": "Epoch: %{text}<br>STD: %{y: .0f}",
         "line": {
          "width": 1
         },
         "marker": {
          "size": 3
         },
         "name": "MEG0723",
         "opacity": 0.7,
         "pointpos": 0,
         "text": [
          0,
          1,
          2,
          3,
          4,
          5,
          6,
          7
         ],
         "type": "box",
         "y": [
          3.9270589001367835e-12,
          3.5035838007869566e-12,
          3.9372987603516e-12,
          5.07736571227156e-12,
          4.199164667573365e-12,
          4.283073259166934e-12,
          3.720378325584869e-12,
          5.121025211661797e-12
         ]
        },
        {
         "boxpoints": "all",
         "hovertemplate": "Epoch: %{text}<br>STD: %{y: .0f}",
         "line": {
          "width": 1
         },
         "marker": {
          "size": 3
         },
         "name": "MEG0732",
         "opacity": 0.7,
         "pointpos": 0,
         "text": [
          0,
          1,
          2,
          3,
          4,
          5,
          6,
          7
         ],
         "type": "box",
         "y": [
          3.536055620633338e-12,
          3.663797878137781e-12,
          3.602935679613706e-12,
          4.0524361427287454e-12,
          3.259374219570969e-12,
          3.7811860704532104e-12,
          3.5801937070137553e-12,
          4.235159192239571e-12
         ]
        },
        {
         "boxpoints": "all",
         "hovertemplate": "Epoch: %{text}<br>STD: %{y: .0f}",
         "line": {
          "width": 1
         },
         "marker": {
          "size": 3
         },
         "name": "MEG0733",
         "opacity": 0.7,
         "pointpos": 0,
         "text": [
          0,
          1,
          2,
          3,
          4,
          5,
          6,
          7
         ],
         "type": "box",
         "y": [
          3.473246347944487e-12,
          3.161827432676886e-12,
          2.9957099076412028e-12,
          3.899169954897891e-12,
          3.647934416666198e-12,
          3.584413020211853e-12,
          3.3621231025284302e-12,
          3.5940502016481878e-12
         ]
        },
        {
         "boxpoints": "all",
         "hovertemplate": "Epoch: %{text}<br>STD: %{y: .0f}",
         "line": {
          "width": 1
         },
         "marker": {
          "size": 3
         },
         "name": "MEG0742",
         "opacity": 0.7,
         "pointpos": 0,
         "text": [
          0,
          1,
          2,
          3,
          4,
          5,
          6,
          7
         ],
         "type": "box",
         "y": [
          3.097756485263729e-12,
          3.9991939119711225e-12,
          3.238414559488977e-12,
          4.422104269977464e-12,
          3.84716760820752e-12,
          3.845595644139604e-12,
          3.324007295848767e-12,
          4.080323379616671e-12
         ]
        },
        {
         "boxpoints": "all",
         "hovertemplate": "Epoch: %{text}<br>STD: %{y: .0f}",
         "line": {
          "width": 1
         },
         "marker": {
          "size": 3
         },
         "name": "MEG0743",
         "opacity": 0.7,
         "pointpos": 0,
         "text": [
          0,
          1,
          2,
          3,
          4,
          5,
          6,
          7
         ],
         "type": "box",
         "y": [
          3.754466441208776e-12,
          3.3206117182551714e-12,
          3.311197586732204e-12,
          3.800333655313417e-12,
          3.062003766377558e-12,
          3.9002172534740925e-12,
          3.4878521069775968e-12,
          3.659318295320471e-12
         ]
        },
        {
         "boxpoints": "all",
         "hovertemplate": "Epoch: %{text}<br>STD: %{y: .0f}",
         "line": {
          "width": 1
         },
         "marker": {
          "size": 3
         },
         "name": "MEG0812",
         "opacity": 0.7,
         "pointpos": 0,
         "text": [
          0,
          1,
          2,
          3,
          4,
          5,
          6,
          7
         ],
         "type": "box",
         "y": [
          3.246697934017482e-12,
          3.1052444345195313e-12,
          3.8086352042389604e-12,
          4.925682706465213e-12,
          3.23094201015168e-12,
          3.6286463676331854e-12,
          3.4968068741135412e-12,
          3.536900870366171e-12
         ]
        },
        {
         "boxpoints": "all",
         "hovertemplate": "Epoch: %{text}<br>STD: %{y: .0f}",
         "line": {
          "width": 1
         },
         "marker": {
          "size": 3
         },
         "name": "MEG0813",
         "opacity": 0.7,
         "pointpos": 0,
         "text": [
          0,
          1,
          2,
          3,
          4,
          5,
          6,
          7
         ],
         "type": "box",
         "y": [
          5.336456281701314e-12,
          4.701934448416664e-12,
          5.649428762006666e-12,
          4.6315615168673026e-12,
          4.465417777991115e-12,
          4.643704035329534e-12,
          4.69961088010119e-12,
          5.7407081468027775e-12
         ]
        },
        {
         "boxpoints": "all",
         "hovertemplate": "Epoch: %{text}<br>STD: %{y: .0f}",
         "line": {
          "width": 1
         },
         "marker": {
          "size": 3
         },
         "name": "MEG0822",
         "opacity": 0.7,
         "pointpos": 0,
         "text": [
          0,
          1,
          2,
          3,
          4,
          5,
          6,
          7
         ],
         "type": "box",
         "y": [
          4.5071970767005476e-12,
          5.006545086021008e-12,
          4.769968814629101e-12,
          5.702064651882647e-12,
          4.381059648222891e-12,
          4.866235112236943e-12,
          4.705634997006909e-12,
          4.25519433496996e-12
         ]
        },
        {
         "boxpoints": "all",
         "hovertemplate": "Epoch: %{text}<br>STD: %{y: .0f}",
         "line": {
          "width": 1
         },
         "marker": {
          "size": 3
         },
         "name": "MEG0823",
         "opacity": 0.7,
         "pointpos": 0,
         "text": [
          0,
          1,
          2,
          3,
          4,
          5,
          6,
          7
         ],
         "type": "box",
         "y": [
          3.6465762384937184e-12,
          3.479994867199489e-12,
          3.1982909342245258e-12,
          4.340894679187664e-12,
          3.8449023209233284e-12,
          3.657490793236886e-12,
          3.1694411255678366e-12,
          3.814707095354587e-12
         ]
        },
        {
         "boxpoints": "all",
         "hovertemplate": "Epoch: %{text}<br>STD: %{y: .0f}",
         "line": {
          "width": 1
         },
         "marker": {
          "size": 3
         },
         "name": "MEG0912",
         "opacity": 0.7,
         "pointpos": 0,
         "text": [
          0,
          1,
          2,
          3,
          4,
          5,
          6,
          7
         ],
         "type": "box",
         "y": [
          3.2474683076472714e-12,
          3.16200474371047e-12,
          3.592702985939464e-12,
          4.668305962603218e-12,
          3.5523217953385034e-12,
          3.2819242214876698e-12,
          3.1596441818777823e-12,
          2.926741960403561e-12
         ]
        },
        {
         "boxpoints": "all",
         "hovertemplate": "Epoch: %{text}<br>STD: %{y: .0f}",
         "line": {
          "width": 1
         },
         "marker": {
          "size": 3
         },
         "name": "MEG0913",
         "opacity": 0.7,
         "pointpos": 0,
         "text": [
          0,
          1,
          2,
          3,
          4,
          5,
          6,
          7
         ],
         "type": "box",
         "y": [
          3.8755105235904255e-12,
          3.6789759964874186e-12,
          4.807251899788011e-12,
          5.084586520539561e-12,
          4.116948300561665e-12,
          4.7263575822654725e-12,
          4.3401457645430095e-12,
          4.856937774216126e-12
         ]
        },
        {
         "boxpoints": "all",
         "hovertemplate": "Epoch: %{text}<br>STD: %{y: .0f}",
         "line": {
          "width": 1
         },
         "marker": {
          "size": 3
         },
         "name": "MEG0922",
         "opacity": 0.7,
         "pointpos": 0,
         "text": [
          0,
          1,
          2,
          3,
          4,
          5,
          6,
          7
         ],
         "type": "box",
         "y": [
          3.580286232561462e-12,
          3.58406626697873e-12,
          3.720733653359439e-12,
          5.426213610490484e-12,
          4.0847168663577755e-12,
          3.60850235783566e-12,
          3.5707476868258427e-12,
          4.292003342116416e-12
         ]
        },
        {
         "boxpoints": "all",
         "hovertemplate": "Epoch: %{text}<br>STD: %{y: .0f}",
         "line": {
          "width": 1
         },
         "marker": {
          "size": 3
         },
         "name": "MEG0923",
         "opacity": 0.7,
         "pointpos": 0,
         "text": [
          0,
          1,
          2,
          3,
          4,
          5,
          6,
          7
         ],
         "type": "box",
         "y": [
          3.931365954132073e-12,
          3.8459319974470766e-12,
          4.6349092113917864e-12,
          4.896645304080802e-12,
          3.8035200420259906e-12,
          3.9567527982543424e-12,
          4.499231599656597e-12,
          4.674317201813572e-12
         ]
        },
        {
         "boxpoints": "all",
         "hovertemplate": "Epoch: %{text}<br>STD: %{y: .0f}",
         "line": {
          "width": 1
         },
         "marker": {
          "size": 3
         },
         "name": "MEG0932",
         "opacity": 0.7,
         "pointpos": 0,
         "text": [
          0,
          1,
          2,
          3,
          4,
          5,
          6,
          7
         ],
         "type": "box",
         "y": [
          3.4525999496714663e-12,
          3.4085807538998133e-12,
          3.7266275146141525e-12,
          3.955189796754716e-12,
          3.5140526253407825e-12,
          3.8278970678923236e-12,
          3.738922303747889e-12,
          3.685930452453058e-12
         ]
        },
        {
         "boxpoints": "all",
         "hovertemplate": "Epoch: %{text}<br>STD: %{y: .0f}",
         "line": {
          "width": 1
         },
         "marker": {
          "size": 3
         },
         "name": "MEG0933",
         "opacity": 0.7,
         "pointpos": 0,
         "text": [
          0,
          1,
          2,
          3,
          4,
          5,
          6,
          7
         ],
         "type": "box",
         "y": [
          3.2357398919103833e-12,
          3.1961695612936846e-12,
          3.3992011097125073e-12,
          3.99138691672349e-12,
          3.0998355858623065e-12,
          3.858117490407359e-12,
          3.1508302494074438e-12,
          3.669248499510294e-12
         ]
        },
        {
         "boxpoints": "all",
         "hovertemplate": "Epoch: %{text}<br>STD: %{y: .0f}",
         "line": {
          "width": 1
         },
         "marker": {
          "size": 3
         },
         "name": "MEG0942",
         "opacity": 0.7,
         "pointpos": 0,
         "text": [
          0,
          1,
          2,
          3,
          4,
          5,
          6,
          7
         ],
         "type": "box",
         "y": [
          3.4114938302321595e-12,
          3.0339741079481424e-12,
          3.39369603138123e-12,
          3.5244159339895413e-12,
          3.4282109574853207e-12,
          3.860430941490933e-12,
          3.4321587952578466e-12,
          3.829038083375004e-12
         ]
        },
        {
         "boxpoints": "all",
         "hovertemplate": "Epoch: %{text}<br>STD: %{y: .0f}",
         "line": {
          "width": 1
         },
         "marker": {
          "size": 3
         },
         "name": "MEG0943",
         "opacity": 0.7,
         "pointpos": 0,
         "text": [
          0,
          1,
          2,
          3,
          4,
          5,
          6,
          7
         ],
         "type": "box",
         "y": [
          3.553403244194595e-12,
          3.477174988274767e-12,
          3.5612946632273243e-12,
          4.852291285579515e-12,
          3.691157794452349e-12,
          3.4349127178735796e-12,
          3.2520520765653036e-12,
          3.665991861670731e-12
         ]
        },
        {
         "boxpoints": "all",
         "hovertemplate": "Epoch: %{text}<br>STD: %{y: .0f}",
         "line": {
          "width": 1
         },
         "marker": {
          "size": 3
         },
         "name": "MEG1012",
         "opacity": 0.7,
         "pointpos": 0,
         "text": [
          0,
          1,
          2,
          3,
          4,
          5,
          6,
          7
         ],
         "type": "box",
         "y": [
          4.12920248687796e-12,
          3.7280876145356975e-12,
          3.514817960263596e-12,
          4.065595227331941e-12,
          3.742386265664864e-12,
          4.277391887277014e-12,
          3.707741386177917e-12,
          3.69966355088971e-12
         ]
        },
        {
         "boxpoints": "all",
         "hovertemplate": "Epoch: %{text}<br>STD: %{y: .0f}",
         "line": {
          "width": 1
         },
         "marker": {
          "size": 3
         },
         "name": "MEG1013",
         "opacity": 0.7,
         "pointpos": 0,
         "text": [
          0,
          1,
          2,
          3,
          4,
          5,
          6,
          7
         ],
         "type": "box",
         "y": [
          4.3077545727148226e-12,
          4.2223269664085775e-12,
          4.0755293776319455e-12,
          3.649675119628405e-12,
          3.2245747749585923e-12,
          4.456782320718863e-12,
          3.816613048755428e-12,
          3.7419203548889485e-12
         ]
        },
        {
         "boxpoints": "all",
         "hovertemplate": "Epoch: %{text}<br>STD: %{y: .0f}",
         "line": {
          "width": 1
         },
         "marker": {
          "size": 3
         },
         "name": "MEG1022",
         "opacity": 0.7,
         "pointpos": 0,
         "text": [
          0,
          1,
          2,
          3,
          4,
          5,
          6,
          7
         ],
         "type": "box",
         "y": [
          3.3938752818345622e-12,
          3.432058148806331e-12,
          3.071267683751517e-12,
          4.237248825844786e-12,
          3.2739214383719694e-12,
          3.836241958790691e-12,
          3.694316223127936e-12,
          3.738412412020262e-12
         ]
        },
        {
         "boxpoints": "all",
         "hovertemplate": "Epoch: %{text}<br>STD: %{y: .0f}",
         "line": {
          "width": 1
         },
         "marker": {
          "size": 3
         },
         "name": "MEG1023",
         "opacity": 0.7,
         "pointpos": 0,
         "text": [
          0,
          1,
          2,
          3,
          4,
          5,
          6,
          7
         ],
         "type": "box",
         "y": [
          8.32962230414707e-12,
          6.1564707770083925e-12,
          4.720861842369809e-12,
          5.558165341369726e-12,
          9.022714902914191e-12,
          6.797581570310397e-12,
          9.552437926416535e-12,
          6.675582299634771e-12
         ]
        },
        {
         "boxpoints": "all",
         "hovertemplate": "Epoch: %{text}<br>STD: %{y: .0f}",
         "line": {
          "width": 1
         },
         "marker": {
          "size": 3
         },
         "name": "MEG1032",
         "opacity": 0.7,
         "pointpos": 0,
         "text": [
          0,
          1,
          2,
          3,
          4,
          5,
          6,
          7
         ],
         "type": "box",
         "y": [
          3.1420879876538726e-12,
          3.6606216382498836e-12,
          3.5037623552695268e-12,
          3.8426124643007505e-12,
          4.040807532951872e-12,
          3.946061788890075e-12,
          3.410015117813628e-12,
          3.6361996048626454e-12
         ]
        },
        {
         "boxpoints": "all",
         "hovertemplate": "Epoch: %{text}<br>STD: %{y: .0f}",
         "line": {
          "width": 1
         },
         "marker": {
          "size": 3
         },
         "name": "MEG1033",
         "opacity": 0.7,
         "pointpos": 0,
         "text": [
          0,
          1,
          2,
          3,
          4,
          5,
          6,
          7
         ],
         "type": "box",
         "y": [
          4.077362797429874e-12,
          3.664522523003572e-12,
          3.9995064256855414e-12,
          4.19947224857689e-12,
          4.483330285625531e-12,
          4.827753269818247e-12,
          3.5957868850352197e-12,
          4.323319806384102e-12
         ]
        },
        {
         "boxpoints": "all",
         "hovertemplate": "Epoch: %{text}<br>STD: %{y: .0f}",
         "line": {
          "width": 1
         },
         "marker": {
          "size": 3
         },
         "name": "MEG1042",
         "opacity": 0.7,
         "pointpos": 0,
         "text": [
          0,
          1,
          2,
          3,
          4,
          5,
          6,
          7
         ],
         "type": "box",
         "y": [
          4.206683743088695e-12,
          4.573762098176342e-12,
          4.431625461178488e-12,
          5.1939680202919085e-12,
          3.864025182189701e-12,
          4.876917724953989e-12,
          4.226409505739707e-12,
          5.160111749659589e-12
         ]
        },
        {
         "boxpoints": "all",
         "hovertemplate": "Epoch: %{text}<br>STD: %{y: .0f}",
         "line": {
          "width": 1
         },
         "marker": {
          "size": 3
         },
         "name": "MEG1043",
         "opacity": 0.7,
         "pointpos": 0,
         "text": [
          0,
          1,
          2,
          3,
          4,
          5,
          6,
          7
         ],
         "type": "box",
         "y": [
          3.877847235717835e-12,
          4.159698099518986e-12,
          4.146998581130783e-12,
          4.337939210448012e-12,
          4.18485408463091e-12,
          4.019096928835819e-12,
          4.208151402643813e-12,
          4.290554903891994e-12
         ]
        },
        {
         "boxpoints": "all",
         "hovertemplate": "Epoch: %{text}<br>STD: %{y: .0f}",
         "line": {
          "width": 1
         },
         "marker": {
          "size": 3
         },
         "name": "MEG1112",
         "opacity": 0.7,
         "pointpos": 0,
         "text": [
          0,
          1,
          2,
          3,
          4,
          5,
          6,
          7
         ],
         "type": "box",
         "y": [
          4.053689829354155e-12,
          4.6215180163868e-12,
          4.0667638538886695e-12,
          4.3064041251804315e-12,
          4.062453140463119e-12,
          4.483363318638446e-12,
          4.347438923037076e-12,
          4.465153675531385e-12
         ]
        },
        {
         "boxpoints": "all",
         "hovertemplate": "Epoch: %{text}<br>STD: %{y: .0f}",
         "line": {
          "width": 1
         },
         "marker": {
          "size": 3
         },
         "name": "MEG1113",
         "opacity": 0.7,
         "pointpos": 0,
         "text": [
          0,
          1,
          2,
          3,
          4,
          5,
          6,
          7
         ],
         "type": "box",
         "y": [
          6.087747816366365e-12,
          5.621124340566861e-12,
          5.492147263361468e-12,
          6.2872440936222506e-12,
          6.044409842272883e-12,
          6.3663376354789425e-12,
          6.702825119974302e-12,
          5.992661461255119e-12
         ]
        },
        {
         "boxpoints": "all",
         "hovertemplate": "Epoch: %{text}<br>STD: %{y: .0f}",
         "line": {
          "width": 1
         },
         "marker": {
          "size": 3
         },
         "name": "MEG1122",
         "opacity": 0.7,
         "pointpos": 0,
         "text": [
          0,
          1,
          2,
          3,
          4,
          5,
          6,
          7
         ],
         "type": "box",
         "y": [
          4.2028847253551556e-12,
          4.29688428000657e-12,
          4.266328275198457e-12,
          4.380712664870601e-12,
          4.478813166852062e-12,
          4.0188833690927424e-12,
          3.958229755434453e-12,
          4.669991287097729e-12
         ]
        },
        {
         "boxpoints": "all",
         "hovertemplate": "Epoch: %{text}<br>STD: %{y: .0f}",
         "line": {
          "width": 1
         },
         "marker": {
          "size": 3
         },
         "name": "MEG1123",
         "opacity": 0.7,
         "pointpos": 0,
         "text": [
          0,
          1,
          2,
          3,
          4,
          5,
          6,
          7
         ],
         "type": "box",
         "y": [
          4.258504306561948e-12,
          4.4268171082894256e-12,
          3.9849306312403766e-12,
          4.1963233686379935e-12,
          4.327337425029881e-12,
          5.327843310785802e-12,
          4.15361462626627e-12,
          5.763032369349081e-12
         ]
        },
        {
         "boxpoints": "all",
         "hovertemplate": "Epoch: %{text}<br>STD: %{y: .0f}",
         "line": {
          "width": 1
         },
         "marker": {
          "size": 3
         },
         "name": "MEG1132",
         "opacity": 0.7,
         "pointpos": 0,
         "text": [
          0,
          1,
          2,
          3,
          4,
          5,
          6,
          7
         ],
         "type": "box",
         "y": [
          5.543080110959959e-12,
          4.717300674611355e-12,
          4.007748832496612e-12,
          4.865372698486905e-12,
          5.3797424342717375e-12,
          5.708341049839214e-12,
          4.2270188991308174e-12,
          5.0211012145219166e-12
         ]
        },
        {
         "boxpoints": "all",
         "hovertemplate": "Epoch: %{text}<br>STD: %{y: .0f}",
         "line": {
          "width": 1
         },
         "marker": {
          "size": 3
         },
         "name": "MEG1133",
         "opacity": 0.7,
         "pointpos": 0,
         "text": [
          0,
          1,
          2,
          3,
          4,
          5,
          6,
          7
         ],
         "type": "box",
         "y": [
          5.318756209827009e-12,
          4.395171292135731e-12,
          4.458066974040833e-12,
          4.703761796448245e-12,
          4.31002729150462e-12,
          5.3221482969979315e-12,
          4.548624941856487e-12,
          6.378976172101539e-12
         ]
        },
        {
         "boxpoints": "all",
         "hovertemplate": "Epoch: %{text}<br>STD: %{y: .0f}",
         "line": {
          "width": 1
         },
         "marker": {
          "size": 3
         },
         "name": "MEG1142",
         "opacity": 0.7,
         "pointpos": 0,
         "text": [
          0,
          1,
          2,
          3,
          4,
          5,
          6,
          7
         ],
         "type": "box",
         "y": [
          4.016149824564464e-12,
          4.557450615308961e-12,
          3.795974219299776e-12,
          4.721033729415231e-12,
          4.331639857468367e-12,
          4.869231189640686e-12,
          4.455768705519579e-12,
          5.571139495776572e-12
         ]
        },
        {
         "boxpoints": "all",
         "hovertemplate": "Epoch: %{text}<br>STD: %{y: .0f}",
         "line": {
          "width": 1
         },
         "marker": {
          "size": 3
         },
         "name": "MEG1143",
         "opacity": 0.7,
         "pointpos": 0,
         "text": [
          0,
          1,
          2,
          3,
          4,
          5,
          6,
          7
         ],
         "type": "box",
         "y": [
          3.6339450064486078e-12,
          3.40156529317774e-12,
          3.0151053848969456e-12,
          3.790856782959169e-12,
          3.764890189337182e-12,
          3.6190212600618003e-12,
          3.4563277333239217e-12,
          3.816883164340009e-12
         ]
        },
        {
         "boxpoints": "all",
         "hovertemplate": "Epoch: %{text}<br>STD: %{y: .0f}",
         "line": {
          "width": 1
         },
         "marker": {
          "size": 3
         },
         "name": "MEG1212",
         "opacity": 0.7,
         "pointpos": 0,
         "text": [
          0,
          1,
          2,
          3,
          4,
          5,
          6,
          7
         ],
         "type": "box",
         "y": [
          3.648773245956494e-12,
          3.94854160291279e-12,
          3.466000857178981e-12,
          5.499176065759174e-12,
          4.62741492675392e-12,
          4.070805217555245e-12,
          3.954957563300511e-12,
          3.968778490938652e-12
         ]
        },
        {
         "boxpoints": "all",
         "hovertemplate": "Epoch: %{text}<br>STD: %{y: .0f}",
         "line": {
          "width": 1
         },
         "marker": {
          "size": 3
         },
         "name": "MEG1213",
         "opacity": 0.7,
         "pointpos": 0,
         "text": [
          0,
          1,
          2,
          3,
          4,
          5,
          6,
          7
         ],
         "type": "box",
         "y": [
          4.143859622897011e-12,
          3.9623214992964385e-12,
          4.6637287102920256e-12,
          5.88789593964638e-12,
          4.296247665787935e-12,
          3.69365247278311e-12,
          4.7347225226179526e-12,
          5.1076726500198876e-12
         ]
        },
        {
         "boxpoints": "all",
         "hovertemplate": "Epoch: %{text}<br>STD: %{y: .0f}",
         "line": {
          "width": 1
         },
         "marker": {
          "size": 3
         },
         "name": "MEG1222",
         "opacity": 0.7,
         "pointpos": 0,
         "text": [
          0,
          1,
          2,
          3,
          4,
          5,
          6,
          7
         ],
         "type": "box",
         "y": [
          4.818874378484157e-12,
          5.18756274218036e-12,
          5.103653979722768e-12,
          5.08817536264642e-12,
          5.4642400020966174e-12,
          5.530845045572469e-12,
          5.1264505647301615e-12,
          5.5695035332502785e-12
         ]
        },
        {
         "boxpoints": "all",
         "hovertemplate": "Epoch: %{text}<br>STD: %{y: .0f}",
         "line": {
          "width": 1
         },
         "marker": {
          "size": 3
         },
         "name": "MEG1223",
         "opacity": 0.7,
         "pointpos": 0,
         "text": [
          0,
          1,
          2,
          3,
          4,
          5,
          6,
          7
         ],
         "type": "box",
         "y": [
          4.86827789013501e-12,
          4.503659276017533e-12,
          4.769645076608903e-12,
          7.766368217709648e-12,
          5.377188271132655e-12,
          4.209968092714163e-12,
          5.4908168704637335e-12,
          4.751584693123932e-12
         ]
        },
        {
         "boxpoints": "all",
         "hovertemplate": "Epoch: %{text}<br>STD: %{y: .0f}",
         "line": {
          "width": 1
         },
         "marker": {
          "size": 3
         },
         "name": "MEG1232",
         "opacity": 0.7,
         "pointpos": 0,
         "text": [
          0,
          1,
          2,
          3,
          4,
          5,
          6,
          7
         ],
         "type": "box",
         "y": [
          3.789061297499827e-12,
          3.7591294167276705e-12,
          4.22440562799153e-12,
          5.00390136146028e-12,
          3.938645933212363e-12,
          3.822028420971786e-12,
          4.248696113115586e-12,
          3.931866656775445e-12
         ]
        },
        {
         "boxpoints": "all",
         "hovertemplate": "Epoch: %{text}<br>STD: %{y: .0f}",
         "line": {
          "width": 1
         },
         "marker": {
          "size": 3
         },
         "name": "MEG1233",
         "opacity": 0.7,
         "pointpos": 0,
         "text": [
          0,
          1,
          2,
          3,
          4,
          5,
          6,
          7
         ],
         "type": "box",
         "y": [
          4.176466064909995e-12,
          4.369878220576877e-12,
          4.193827912336809e-12,
          4.555086834702549e-12,
          4.404628308160019e-12,
          4.537225974434428e-12,
          3.672932031218022e-12,
          5.438041315606198e-12
         ]
        },
        {
         "boxpoints": "all",
         "hovertemplate": "Epoch: %{text}<br>STD: %{y: .0f}",
         "line": {
          "width": 1
         },
         "marker": {
          "size": 3
         },
         "name": "MEG1242",
         "opacity": 0.7,
         "pointpos": 0,
         "text": [
          0,
          1,
          2,
          3,
          4,
          5,
          6,
          7
         ],
         "type": "box",
         "y": [
          3.652470398566455e-12,
          3.430706066377212e-12,
          3.994368433071088e-12,
          3.770620418130005e-12,
          3.478352077765693e-12,
          3.834779664521325e-12,
          3.727598917816529e-12,
          4.096807799176283e-12
         ]
        },
        {
         "boxpoints": "all",
         "hovertemplate": "Epoch: %{text}<br>STD: %{y: .0f}",
         "line": {
          "width": 1
         },
         "marker": {
          "size": 3
         },
         "name": "MEG1243",
         "opacity": 0.7,
         "pointpos": 0,
         "text": [
          0,
          1,
          2,
          3,
          4,
          5,
          6,
          7
         ],
         "type": "box",
         "y": [
          3.697157335529975e-12,
          3.9875116377915335e-12,
          4.160846279521996e-12,
          4.296637807473777e-12,
          3.797203300122282e-12,
          4.5562357437589045e-12,
          4.380783233398941e-12,
          4.396486644826908e-12
         ]
        },
        {
         "boxpoints": "all",
         "hovertemplate": "Epoch: %{text}<br>STD: %{y: .0f}",
         "line": {
          "width": 1
         },
         "marker": {
          "size": 3
         },
         "name": "MEG1312",
         "opacity": 0.7,
         "pointpos": 0,
         "text": [
          0,
          1,
          2,
          3,
          4,
          5,
          6,
          7
         ],
         "type": "box",
         "y": [
          4.788549803898568e-12,
          4.783659549299722e-12,
          4.99591293091121e-12,
          6.6019051772666725e-12,
          4.856254417487745e-12,
          4.919793912912026e-12,
          5.3739439271848016e-12,
          5.838891946197398e-12
         ]
        },
        {
         "boxpoints": "all",
         "hovertemplate": "Epoch: %{text}<br>STD: %{y: .0f}",
         "line": {
          "width": 1
         },
         "marker": {
          "size": 3
         },
         "name": "MEG1313",
         "opacity": 0.7,
         "pointpos": 0,
         "text": [
          0,
          1,
          2,
          3,
          4,
          5,
          6,
          7
         ],
         "type": "box",
         "y": [
          4.236347444064687e-12,
          4.1848863589508934e-12,
          4.36692494844347e-12,
          5.086317930939778e-12,
          4.759039734774269e-12,
          4.59740277513144e-12,
          4.368279530638719e-12,
          4.91445346654524e-12
         ]
        },
        {
         "boxpoints": "all",
         "hovertemplate": "Epoch: %{text}<br>STD: %{y: .0f}",
         "line": {
          "width": 1
         },
         "marker": {
          "size": 3
         },
         "name": "MEG1322",
         "opacity": 0.7,
         "pointpos": 0,
         "text": [
          0,
          1,
          2,
          3,
          4,
          5,
          6,
          7
         ],
         "type": "box",
         "y": [
          5.968538423068857e-12,
          6.36641967671277e-12,
          5.892155896978466e-12,
          6.459640107847831e-12,
          6.877258600121719e-12,
          5.598414438319716e-12,
          5.6867049051184785e-12,
          6.704247345182034e-12
         ]
        },
        {
         "boxpoints": "all",
         "hovertemplate": "Epoch: %{text}<br>STD: %{y: .0f}",
         "line": {
          "width": 1
         },
         "marker": {
          "size": 3
         },
         "name": "MEG1323",
         "opacity": 0.7,
         "pointpos": 0,
         "text": [
          0,
          1,
          2,
          3,
          4,
          5,
          6,
          7
         ],
         "type": "box",
         "y": [
          5.786938218791231e-12,
          5.623102661908475e-12,
          5.872130783909242e-12,
          7.734236155802858e-12,
          6.452021362618823e-12,
          5.541239640236484e-12,
          6.312495881548002e-12,
          5.443585759378464e-12
         ]
        },
        {
         "boxpoints": "all",
         "hovertemplate": "Epoch: %{text}<br>STD: %{y: .0f}",
         "line": {
          "width": 1
         },
         "marker": {
          "size": 3
         },
         "name": "MEG1332",
         "opacity": 0.7,
         "pointpos": 0,
         "text": [
          0,
          1,
          2,
          3,
          4,
          5,
          6,
          7
         ],
         "type": "box",
         "y": [
          6.348521128902659e-12,
          5.475639049172678e-12,
          5.791653942488059e-12,
          5.6529761393225024e-12,
          6.224182274340363e-12,
          7.0882682695071405e-12,
          5.200794333393353e-12,
          6.899571753773848e-12
         ]
        },
        {
         "boxpoints": "all",
         "hovertemplate": "Epoch: %{text}<br>STD: %{y: .0f}",
         "line": {
          "width": 1
         },
         "marker": {
          "size": 3
         },
         "name": "MEG1333",
         "opacity": 0.7,
         "pointpos": 0,
         "text": [
          0,
          1,
          2,
          3,
          4,
          5,
          6,
          7
         ],
         "type": "box",
         "y": [
          6.201327372766728e-12,
          5.205394426617981e-12,
          6.140579564794076e-12,
          7.230280449986439e-12,
          6.015755667482608e-12,
          5.612641813099306e-12,
          6.1410011468070906e-12,
          6.909389648335802e-12
         ]
        },
        {
         "boxpoints": "all",
         "hovertemplate": "Epoch: %{text}<br>STD: %{y: .0f}",
         "line": {
          "width": 1
         },
         "marker": {
          "size": 3
         },
         "name": "MEG1342",
         "opacity": 0.7,
         "pointpos": 0,
         "text": [
          0,
          1,
          2,
          3,
          4,
          5,
          6,
          7
         ],
         "type": "box",
         "y": [
          4.874435678969775e-12,
          4.7651270080770655e-12,
          4.790726984464052e-12,
          6.131331198558727e-12,
          5.7351163627673666e-12,
          5.6049399902779085e-12,
          5.236017484114454e-12,
          7.17914724147116e-12
         ]
        },
        {
         "boxpoints": "all",
         "hovertemplate": "Epoch: %{text}<br>STD: %{y: .0f}",
         "line": {
          "width": 1
         },
         "marker": {
          "size": 3
         },
         "name": "MEG1343",
         "opacity": 0.7,
         "pointpos": 0,
         "text": [
          0,
          1,
          2,
          3,
          4,
          5,
          6,
          7
         ],
         "type": "box",
         "y": [
          4.967298975529887e-12,
          3.946951100170342e-12,
          3.9242857017859265e-12,
          4.675972734057473e-12,
          4.941471099492628e-12,
          6.2203720733943435e-12,
          4.172079985661327e-12,
          5.865134181315266e-12
         ]
        },
        {
         "boxpoints": "all",
         "hovertemplate": "Epoch: %{text}<br>STD: %{y: .0f}",
         "line": {
          "width": 1
         },
         "marker": {
          "size": 3
         },
         "name": "MEG1412",
         "opacity": 0.7,
         "pointpos": 0,
         "text": [
          0,
          1,
          2,
          3,
          4,
          5,
          6,
          7
         ],
         "type": "box",
         "y": [
          5.3350138200339486e-12,
          5.092971331192756e-12,
          5.74002533766048e-12,
          8.223764110867076e-12,
          5.341787343486378e-12,
          5.865982173748183e-12,
          5.188976182212369e-12,
          5.970702749714914e-12
         ]
        },
        {
         "boxpoints": "all",
         "hovertemplate": "Epoch: %{text}<br>STD: %{y: .0f}",
         "line": {
          "width": 1
         },
         "marker": {
          "size": 3
         },
         "name": "MEG1413",
         "opacity": 0.7,
         "pointpos": 0,
         "text": [
          0,
          1,
          2,
          3,
          4,
          5,
          6,
          7
         ],
         "type": "box",
         "y": [
          4.481690388271743e-12,
          4.7669504993734316e-12,
          4.179054894076605e-12,
          4.8245616441276024e-12,
          5.719482846884485e-12,
          5.11138836211972e-12,
          5.377925425601473e-12,
          6.164444825377896e-12
         ]
        },
        {
         "boxpoints": "all",
         "hovertemplate": "Epoch: %{text}<br>STD: %{y: .0f}",
         "line": {
          "width": 1
         },
         "marker": {
          "size": 3
         },
         "name": "MEG1422",
         "opacity": 0.7,
         "pointpos": 0,
         "text": [
          0,
          1,
          2,
          3,
          4,
          5,
          6,
          7
         ],
         "type": "box",
         "y": [
          3.680463434826862e-12,
          3.51277730607794e-12,
          3.59419060495802e-12,
          5.031047246592275e-12,
          3.7901927298571605e-12,
          3.828333831438571e-12,
          3.903938453388835e-12,
          4.336395147472115e-12
         ]
        },
        {
         "boxpoints": "all",
         "hovertemplate": "Epoch: %{text}<br>STD: %{y: .0f}",
         "line": {
          "width": 1
         },
         "marker": {
          "size": 3
         },
         "name": "MEG1423",
         "opacity": 0.7,
         "pointpos": 0,
         "text": [
          0,
          1,
          2,
          3,
          4,
          5,
          6,
          7
         ],
         "type": "box",
         "y": [
          5.554500777220533e-12,
          5.366536654513254e-12,
          6.681560677774524e-12,
          6.437900583137173e-12,
          7.2450593756699794e-12,
          6.2215651208942076e-12,
          5.820760651465966e-12,
          6.94216400710605e-12
         ]
        },
        {
         "boxpoints": "all",
         "hovertemplate": "Epoch: %{text}<br>STD: %{y: .0f}",
         "line": {
          "width": 1
         },
         "marker": {
          "size": 3
         },
         "name": "MEG1432",
         "opacity": 0.7,
         "pointpos": 0,
         "text": [
          0,
          1,
          2,
          3,
          4,
          5,
          6,
          7
         ],
         "type": "box",
         "y": [
          4.3003375418436704e-12,
          4.4406297609239125e-12,
          4.05921640261516e-12,
          4.887788424349832e-12,
          4.774047946179892e-12,
          3.9272663504175525e-12,
          4.01583992695187e-12,
          4.345422422726868e-12
         ]
        },
        {
         "boxpoints": "all",
         "hovertemplate": "Epoch: %{text}<br>STD: %{y: .0f}",
         "line": {
          "width": 1
         },
         "marker": {
          "size": 3
         },
         "name": "MEG1433",
         "opacity": 0.7,
         "pointpos": 0,
         "text": [
          0,
          1,
          2,
          3,
          4,
          5,
          6,
          7
         ],
         "type": "box",
         "y": [
          5.6190885733091415e-12,
          6.542515116711046e-12,
          7.224035685730623e-12,
          7.276711367946937e-12,
          6.811960066799986e-12,
          7.353638110764131e-12,
          6.50986889203279e-12,
          6.948173817631583e-12
         ]
        },
        {
         "boxpoints": "all",
         "hovertemplate": "Epoch: %{text}<br>STD: %{y: .0f}",
         "line": {
          "width": 1
         },
         "marker": {
          "size": 3
         },
         "name": "MEG1442",
         "opacity": 0.7,
         "pointpos": 0,
         "text": [
          0,
          1,
          2,
          3,
          4,
          5,
          6,
          7
         ],
         "type": "box",
         "y": [
          6.165352462089128e-12,
          5.793502326879088e-12,
          5.913163889382572e-12,
          8.118187434814936e-12,
          6.97163494938307e-12,
          6.840001294925667e-12,
          5.7618869887277255e-12,
          7.10867389743471e-12
         ]
        },
        {
         "boxpoints": "all",
         "hovertemplate": "Epoch: %{text}<br>STD: %{y: .0f}",
         "line": {
          "width": 1
         },
         "marker": {
          "size": 3
         },
         "name": "MEG1443",
         "opacity": 0.7,
         "pointpos": 0,
         "text": [
          0,
          1,
          2,
          3,
          4,
          5,
          6,
          7
         ],
         "type": "box",
         "y": [
          5.929655886879581e-12,
          6.3531513573708814e-12,
          6.114540644228764e-12,
          6.055028001379107e-12,
          6.487651881486926e-12,
          5.649757882112109e-12,
          5.787898277994333e-12,
          5.502187979448511e-12
         ]
        },
        {
         "boxpoints": "all",
         "hovertemplate": "Epoch: %{text}<br>STD: %{y: .0f}",
         "line": {
          "width": 1
         },
         "marker": {
          "size": 3
         },
         "name": "MEG1512",
         "opacity": 0.7,
         "pointpos": 0,
         "text": [
          0,
          1,
          2,
          3,
          4,
          5,
          6,
          7
         ],
         "type": "box",
         "y": [
          5.78221605384906e-12,
          5.127956831843026e-12,
          5.2659857465690925e-12,
          6.8621574825674256e-12,
          4.8843454601594966e-12,
          6.896230037997996e-12,
          5.5263547116695645e-12,
          9.004041705309763e-12
         ]
        },
        {
         "boxpoints": "all",
         "hovertemplate": "Epoch: %{text}<br>STD: %{y: .0f}",
         "line": {
          "width": 1
         },
         "marker": {
          "size": 3
         },
         "name": "MEG1513",
         "opacity": 0.7,
         "pointpos": 0,
         "text": [
          0,
          1,
          2,
          3,
          4,
          5,
          6,
          7
         ],
         "type": "box",
         "y": [
          4.897721812849222e-12,
          5.477573553996282e-12,
          5.065440911249902e-12,
          6.100448533851501e-12,
          5.3789365664748005e-12,
          5.224759239596184e-12,
          5.060039711527988e-12,
          5.488031408447678e-12
         ]
        },
        {
         "boxpoints": "all",
         "hovertemplate": "Epoch: %{text}<br>STD: %{y: .0f}",
         "line": {
          "width": 1
         },
         "marker": {
          "size": 3
         },
         "name": "MEG1522",
         "opacity": 0.7,
         "pointpos": 0,
         "text": [
          0,
          1,
          2,
          3,
          4,
          5,
          6,
          7
         ],
         "type": "box",
         "y": [
          5.543758492872435e-12,
          5.123720561525223e-12,
          5.505302545462733e-12,
          6.733876425061673e-12,
          5.305709819481937e-12,
          7.490996262196891e-12,
          6.169189303392051e-12,
          8.517638391815995e-12
         ]
        },
        {
         "boxpoints": "all",
         "hovertemplate": "Epoch: %{text}<br>STD: %{y: .0f}",
         "line": {
          "width": 1
         },
         "marker": {
          "size": 3
         },
         "name": "MEG1523",
         "opacity": 0.7,
         "pointpos": 0,
         "text": [
          0,
          1,
          2,
          3,
          4,
          5,
          6,
          7
         ],
         "type": "box",
         "y": [
          5.283633182061617e-12,
          4.829364595220805e-12,
          4.676234165706852e-12,
          5.796200430761247e-12,
          5.106500307084412e-12,
          5.076523920548953e-12,
          4.562540794837257e-12,
          5.298444354977777e-12
         ]
        },
        {
         "boxpoints": "all",
         "hovertemplate": "Epoch: %{text}<br>STD: %{y: .0f}",
         "line": {
          "width": 1
         },
         "marker": {
          "size": 3
         },
         "name": "MEG1532",
         "opacity": 0.7,
         "pointpos": 0,
         "text": [
          0,
          1,
          2,
          3,
          4,
          5,
          6,
          7
         ],
         "type": "box",
         "y": [
          4.377462073334011e-12,
          4.376988831102294e-12,
          4.655396477103489e-12,
          5.286339545726182e-12,
          4.912985345293134e-12,
          4.808738773940818e-12,
          4.053064105695769e-12,
          4.561865119930482e-12
         ]
        },
        {
         "boxpoints": "all",
         "hovertemplate": "Epoch: %{text}<br>STD: %{y: .0f}",
         "line": {
          "width": 1
         },
         "marker": {
          "size": 3
         },
         "name": "MEG1533",
         "opacity": 0.7,
         "pointpos": 0,
         "text": [
          0,
          1,
          2,
          3,
          4,
          5,
          6,
          7
         ],
         "type": "box",
         "y": [
          7.043354489772613e-12,
          6.244059788430493e-12,
          6.855139138848894e-12,
          6.648599484784018e-12,
          6.626080245554528e-12,
          6.888459827985499e-12,
          6.764942378825632e-12,
          7.251883171797812e-12
         ]
        },
        {
         "boxpoints": "all",
         "hovertemplate": "Epoch: %{text}<br>STD: %{y: .0f}",
         "line": {
          "width": 1
         },
         "marker": {
          "size": 3
         },
         "name": "MEG1542",
         "opacity": 0.7,
         "pointpos": 0,
         "text": [
          0,
          1,
          2,
          3,
          4,
          5,
          6,
          7
         ],
         "type": "box",
         "y": [
          3.6203691547330287e-12,
          3.514901411773257e-12,
          3.343389061270437e-12,
          5.151441889955372e-12,
          3.908150045028353e-12,
          3.877096262303348e-12,
          3.697976383931562e-12,
          3.948877944675508e-12
         ]
        },
        {
         "boxpoints": "all",
         "hovertemplate": "Epoch: %{text}<br>STD: %{y: .0f}",
         "line": {
          "width": 1
         },
         "marker": {
          "size": 3
         },
         "name": "MEG1543",
         "opacity": 0.7,
         "pointpos": 0,
         "text": [
          0,
          1,
          2,
          3,
          4,
          5,
          6,
          7
         ],
         "type": "box",
         "y": [
          6.6794351106869635e-12,
          6.344380604671619e-12,
          6.517191408429066e-12,
          6.7917640507956295e-12,
          6.2029233856005485e-12,
          7.282125583378136e-12,
          6.958262571940259e-12,
          7.671942001043349e-12
         ]
        },
        {
         "boxpoints": "all",
         "hovertemplate": "Epoch: %{text}<br>STD: %{y: .0f}",
         "line": {
          "width": 1
         },
         "marker": {
          "size": 3
         },
         "name": "MEG1612",
         "opacity": 0.7,
         "pointpos": 0,
         "text": [
          0,
          1,
          2,
          3,
          4,
          5,
          6,
          7
         ],
         "type": "box",
         "y": [
          5.008107585948957e-12,
          4.6593128154074965e-12,
          4.287956951858376e-12,
          5.558645209762288e-12,
          5.731096750333154e-12,
          4.830827685340681e-12,
          4.34146662995222e-12,
          5.603878876890279e-12
         ]
        },
        {
         "boxpoints": "all",
         "hovertemplate": "Epoch: %{text}<br>STD: %{y: .0f}",
         "line": {
          "width": 1
         },
         "marker": {
          "size": 3
         },
         "name": "MEG1613",
         "opacity": 0.7,
         "pointpos": 0,
         "text": [
          0,
          1,
          2,
          3,
          4,
          5,
          6,
          7
         ],
         "type": "box",
         "y": [
          6.052845001419257e-12,
          5.276472234611011e-12,
          5.203833588178447e-12,
          5.9915272481877576e-12,
          5.1500713289412955e-12,
          5.531181419842224e-12,
          5.075102696588948e-12,
          6.436338694136996e-12
         ]
        },
        {
         "boxpoints": "all",
         "hovertemplate": "Epoch: %{text}<br>STD: %{y: .0f}",
         "line": {
          "width": 1
         },
         "marker": {
          "size": 3
         },
         "name": "MEG1622",
         "opacity": 0.7,
         "pointpos": 0,
         "text": [
          0,
          1,
          2,
          3,
          4,
          5,
          6,
          7
         ],
         "type": "box",
         "y": [
          5.751921103726663e-12,
          4.491845929712175e-12,
          4.770363589061351e-12,
          5.94189243344785e-12,
          5.76047879843639e-12,
          4.99263186713567e-12,
          4.429503101629811e-12,
          6.354215151842731e-12
         ]
        },
        {
         "boxpoints": "all",
         "hovertemplate": "Epoch: %{text}<br>STD: %{y: .0f}",
         "line": {
          "width": 1
         },
         "marker": {
          "size": 3
         },
         "name": "MEG1623",
         "opacity": 0.7,
         "pointpos": 0,
         "text": [
          0,
          1,
          2,
          3,
          4,
          5,
          6,
          7
         ],
         "type": "box",
         "y": [
          5.1550150604550164e-12,
          4.631454462439079e-12,
          4.0378791801347334e-12,
          5.631158190380668e-12,
          5.046237172946425e-12,
          5.2724060038823345e-12,
          4.0470962386597285e-12,
          5.274699566719462e-12
         ]
        },
        {
         "boxpoints": "all",
         "hovertemplate": "Epoch: %{text}<br>STD: %{y: .0f}",
         "line": {
          "width": 1
         },
         "marker": {
          "size": 3
         },
         "name": "MEG1632",
         "opacity": 0.7,
         "pointpos": 0,
         "text": [
          0,
          1,
          2,
          3,
          4,
          5,
          6,
          7
         ],
         "type": "box",
         "y": [
          5.7845653853179065e-12,
          5.106158924520659e-12,
          5.000492370864519e-12,
          5.712740475881957e-12,
          4.707573635422821e-12,
          5.2803202452988095e-12,
          4.385361049657397e-12,
          5.8921848926220704e-12
         ]
        },
        {
         "boxpoints": "all",
         "hovertemplate": "Epoch: %{text}<br>STD: %{y: .0f}",
         "line": {
          "width": 1
         },
         "marker": {
          "size": 3
         },
         "name": "MEG1633",
         "opacity": 0.7,
         "pointpos": 0,
         "text": [
          0,
          1,
          2,
          3,
          4,
          5,
          6,
          7
         ],
         "type": "box",
         "y": [
          5.9968525563438405e-12,
          3.7417031881968515e-12,
          4.479405758093373e-12,
          4.8078832412723796e-12,
          5.386818122242627e-12,
          4.577619479112683e-12,
          4.331170780017214e-12,
          4.529138214162489e-12
         ]
        },
        {
         "boxpoints": "all",
         "hovertemplate": "Epoch: %{text}<br>STD: %{y: .0f}",
         "line": {
          "width": 1
         },
         "marker": {
          "size": 3
         },
         "name": "MEG1642",
         "opacity": 0.7,
         "pointpos": 0,
         "text": [
          0,
          1,
          2,
          3,
          4,
          5,
          6,
          7
         ],
         "type": "box",
         "y": [
          5.380029442423666e-12,
          4.151790301413755e-12,
          4.544050249047347e-12,
          5.5294311313857984e-12,
          5.367682696532159e-12,
          5.000355412883979e-12,
          5.125514134703664e-12,
          5.6126275399770124e-12
         ]
        },
        {
         "boxpoints": "all",
         "hovertemplate": "Epoch: %{text}<br>STD: %{y: .0f}",
         "line": {
          "width": 1
         },
         "marker": {
          "size": 3
         },
         "name": "MEG1643",
         "opacity": 0.7,
         "pointpos": 0,
         "text": [
          0,
          1,
          2,
          3,
          4,
          5,
          6,
          7
         ],
         "type": "box",
         "y": [
          7.55991123075179e-12,
          5.686352995241143e-12,
          4.9366729602686515e-12,
          6.715395924260218e-12,
          5.310975266693689e-12,
          5.399219245568653e-12,
          5.786281920284402e-12,
          7.0684723686108285e-12
         ]
        },
        {
         "boxpoints": "all",
         "hovertemplate": "Epoch: %{text}<br>STD: %{y: .0f}",
         "line": {
          "width": 1
         },
         "marker": {
          "size": 3
         },
         "name": "MEG1712",
         "opacity": 0.7,
         "pointpos": 0,
         "text": [
          0,
          1,
          2,
          3,
          4,
          5,
          6,
          7
         ],
         "type": "box",
         "y": [
          5.201886292749019e-12,
          5.7003154435182385e-12,
          5.7455976324526585e-12,
          5.970631361105701e-12,
          5.123033476053143e-12,
          6.14675034420142e-12,
          4.833936410079899e-12,
          6.162420643682373e-12
         ]
        },
        {
         "boxpoints": "all",
         "hovertemplate": "Epoch: %{text}<br>STD: %{y: .0f}",
         "line": {
          "width": 1
         },
         "marker": {
          "size": 3
         },
         "name": "MEG1713",
         "opacity": 0.7,
         "pointpos": 0,
         "text": [
          0,
          1,
          2,
          3,
          4,
          5,
          6,
          7
         ],
         "type": "box",
         "y": [
          7.659196245641583e-12,
          7.284259913976722e-12,
          7.675454279207424e-12,
          7.57970282238342e-12,
          7.546356131246787e-12,
          7.95341056348931e-12,
          7.485057408043504e-12,
          8.17654826687832e-12
         ]
        },
        {
         "boxpoints": "all",
         "hovertemplate": "Epoch: %{text}<br>STD: %{y: .0f}",
         "line": {
          "width": 1
         },
         "marker": {
          "size": 3
         },
         "name": "MEG1722",
         "opacity": 0.7,
         "pointpos": 0,
         "text": [
          0,
          1,
          2,
          3,
          4,
          5,
          6,
          7
         ],
         "type": "box",
         "y": [
          4.979679546717167e-12,
          5.373508741889712e-12,
          6.4451820642611675e-12,
          7.658441751811175e-12,
          5.8001179303214925e-12,
          7.607821769254317e-12,
          6.156710282312333e-12,
          7.33967101872415e-12
         ]
        },
        {
         "boxpoints": "all",
         "hovertemplate": "Epoch: %{text}<br>STD: %{y: .0f}",
         "line": {
          "width": 1
         },
         "marker": {
          "size": 3
         },
         "name": "MEG1723",
         "opacity": 0.7,
         "pointpos": 0,
         "text": [
          0,
          1,
          2,
          3,
          4,
          5,
          6,
          7
         ],
         "type": "box",
         "y": [
          4.814261864102499e-12,
          4.398165847723581e-12,
          4.682498340169062e-12,
          5.154578188634965e-12,
          5.360679563376373e-12,
          5.058206718247436e-12,
          4.640047789101613e-12,
          4.690059812626815e-12
         ]
        },
        {
         "boxpoints": "all",
         "hovertemplate": "Epoch: %{text}<br>STD: %{y: .0f}",
         "line": {
          "width": 1
         },
         "marker": {
          "size": 3
         },
         "name": "MEG1732",
         "opacity": 0.7,
         "pointpos": 0,
         "text": [
          0,
          1,
          2,
          3,
          4,
          5,
          6,
          7
         ],
         "type": "box",
         "y": [
          6.027743774978543e-12,
          6.044003745912214e-12,
          6.550194389401872e-12,
          7.874228395302038e-12,
          6.819614966302906e-12,
          7.431514478323051e-12,
          7.074609458625202e-12,
          7.93860557284082e-12
         ]
        },
        {
         "boxpoints": "all",
         "hovertemplate": "Epoch: %{text}<br>STD: %{y: .0f}",
         "line": {
          "width": 1
         },
         "marker": {
          "size": 3
         },
         "name": "MEG1733",
         "opacity": 0.7,
         "pointpos": 0,
         "text": [
          0,
          1,
          2,
          3,
          4,
          5,
          6,
          7
         ],
         "type": "box",
         "y": [
          6.603109381190156e-12,
          6.110812156784504e-12,
          5.738830723601608e-12,
          6.864979802204165e-12,
          5.989951979392853e-12,
          6.098803509521101e-12,
          5.584939826152369e-12,
          6.9385676172649455e-12
         ]
        },
        {
         "boxpoints": "all",
         "hovertemplate": "Epoch: %{text}<br>STD: %{y: .0f}",
         "line": {
          "width": 1
         },
         "marker": {
          "size": 3
         },
         "name": "MEG1742",
         "opacity": 0.7,
         "pointpos": 0,
         "text": [
          0,
          1,
          2,
          3,
          4,
          5,
          6,
          7
         ],
         "type": "box",
         "y": [
          8.551302470945822e-12,
          8.495911281349822e-12,
          8.196377264881571e-12,
          8.817398037193282e-12,
          7.113887115450947e-12,
          8.736226681827955e-12,
          7.077656593548203e-12,
          8.1264272641638e-12
         ]
        },
        {
         "boxpoints": "all",
         "hovertemplate": "Epoch: %{text}<br>STD: %{y: .0f}",
         "line": {
          "width": 1
         },
         "marker": {
          "size": 3
         },
         "name": "MEG1743",
         "opacity": 0.7,
         "pointpos": 0,
         "text": [
          0,
          1,
          2,
          3,
          4,
          5,
          6,
          7
         ],
         "type": "box",
         "y": [
          9.08939893043278e-12,
          8.306648309260837e-12,
          9.38413272915444e-12,
          9.048772394320243e-12,
          8.858796475952253e-12,
          1.0143524502681045e-11,
          8.31239422723557e-12,
          8.664458826129449e-12
         ]
        },
        {
         "boxpoints": "all",
         "hovertemplate": "Epoch: %{text}<br>STD: %{y: .0f}",
         "line": {
          "width": 1
         },
         "marker": {
          "size": 3
         },
         "name": "MEG1812",
         "opacity": 0.7,
         "pointpos": 0,
         "text": [
          0,
          1,
          2,
          3,
          4,
          5,
          6,
          7
         ],
         "type": "box",
         "y": [
          4.234894716276748e-12,
          3.486552765430848e-12,
          3.523532616453999e-12,
          4.530803657676681e-12,
          3.783203435053034e-12,
          4.156976048897962e-12,
          3.2621665247827973e-12,
          4.764250287845945e-12
         ]
        },
        {
         "boxpoints": "all",
         "hovertemplate": "Epoch: %{text}<br>STD: %{y: .0f}",
         "line": {
          "width": 1
         },
         "marker": {
          "size": 3
         },
         "name": "MEG1813",
         "opacity": 0.7,
         "pointpos": 0,
         "text": [
          0,
          1,
          2,
          3,
          4,
          5,
          6,
          7
         ],
         "type": "box",
         "y": [
          5.254601169297249e-12,
          8.562012415805621e-12,
          5.125456541966198e-12,
          7.919401926244102e-12,
          7.932414367166754e-12,
          5.374544356825912e-12,
          7.288414041192496e-12,
          7.569258610514325e-12
         ]
        },
        {
         "boxpoints": "all",
         "hovertemplate": "Epoch: %{text}<br>STD: %{y: .0f}",
         "line": {
          "width": 1
         },
         "marker": {
          "size": 3
         },
         "name": "MEG1822",
         "opacity": 0.7,
         "pointpos": 0,
         "text": [
          0,
          1,
          2,
          3,
          4,
          5,
          6,
          7
         ],
         "type": "box",
         "y": [
          3.9104591854719226e-12,
          4.271570233331219e-12,
          4.376297101551205e-12,
          5.097313126761152e-12,
          4.085598212482429e-12,
          4.904019437677618e-12,
          3.7618837639487364e-12,
          4.659602692530515e-12
         ]
        },
        {
         "boxpoints": "all",
         "hovertemplate": "Epoch: %{text}<br>STD: %{y: .0f}",
         "line": {
          "width": 1
         },
         "marker": {
          "size": 3
         },
         "name": "MEG1823",
         "opacity": 0.7,
         "pointpos": 0,
         "text": [
          0,
          1,
          2,
          3,
          4,
          5,
          6,
          7
         ],
         "type": "box",
         "y": [
          3.5054977502428065e-12,
          3.303915917728886e-12,
          3.3930386171140525e-12,
          4.1967684137687965e-12,
          3.8565004748831e-12,
          3.5177447460062123e-12,
          3.260308517932104e-12,
          4.410833873763666e-12
         ]
        },
        {
         "boxpoints": "all",
         "hovertemplate": "Epoch: %{text}<br>STD: %{y: .0f}",
         "line": {
          "width": 1
         },
         "marker": {
          "size": 3
         },
         "name": "MEG1832",
         "opacity": 0.7,
         "pointpos": 0,
         "text": [
          0,
          1,
          2,
          3,
          4,
          5,
          6,
          7
         ],
         "type": "box",
         "y": [
          4.0284056496697935e-12,
          3.733633132592208e-12,
          4.051640083965449e-12,
          3.9950134485943264e-12,
          4.150815240172832e-12,
          4.160307916201699e-12,
          3.9166859621976716e-12,
          4.647088091479493e-12
         ]
        },
        {
         "boxpoints": "all",
         "hovertemplate": "Epoch: %{text}<br>STD: %{y: .0f}",
         "line": {
          "width": 1
         },
         "marker": {
          "size": 3
         },
         "name": "MEG1833",
         "opacity": 0.7,
         "pointpos": 0,
         "text": [
          0,
          1,
          2,
          3,
          4,
          5,
          6,
          7
         ],
         "type": "box",
         "y": [
          3.852834786504446e-12,
          4.11778702472624e-12,
          4.26733110295853e-12,
          4.911438991703749e-12,
          3.769902964928672e-12,
          4.466254661236095e-12,
          4.2890633664409354e-12,
          4.332251867174888e-12
         ]
        },
        {
         "boxpoints": "all",
         "hovertemplate": "Epoch: %{text}<br>STD: %{y: .0f}",
         "line": {
          "width": 1
         },
         "marker": {
          "size": 3
         },
         "name": "MEG1842",
         "opacity": 0.7,
         "pointpos": 0,
         "text": [
          0,
          1,
          2,
          3,
          4,
          5,
          6,
          7
         ],
         "type": "box",
         "y": [
          4.9913771969602176e-12,
          4.448678134201923e-12,
          3.994102107387239e-12,
          4.762197935888839e-12,
          4.705345934303139e-12,
          4.197142971589638e-12,
          3.978218970720646e-12,
          4.334343477433817e-12
         ]
        },
        {
         "boxpoints": "all",
         "hovertemplate": "Epoch: %{text}<br>STD: %{y: .0f}",
         "line": {
          "width": 1
         },
         "marker": {
          "size": 3
         },
         "name": "MEG1843",
         "opacity": 0.7,
         "pointpos": 0,
         "text": [
          0,
          1,
          2,
          3,
          4,
          5,
          6,
          7
         ],
         "type": "box",
         "y": [
          4.291889235853487e-12,
          3.597762063872509e-12,
          4.1439570856268535e-12,
          4.612197795239056e-12,
          4.099721415085361e-12,
          4.251604255527036e-12,
          4.261864394457139e-12,
          4.678940753019174e-12
         ]
        },
        {
         "boxpoints": "all",
         "hovertemplate": "Epoch: %{text}<br>STD: %{y: .0f}",
         "line": {
          "width": 1
         },
         "marker": {
          "size": 3
         },
         "name": "MEG1912",
         "opacity": 0.7,
         "pointpos": 0,
         "text": [
          0,
          1,
          2,
          3,
          4,
          5,
          6,
          7
         ],
         "type": "box",
         "y": [
          5.512643593941916e-12,
          4.577487023670657e-12,
          4.600894210503697e-12,
          5.901478472168331e-12,
          5.651044073760541e-12,
          6.293286905104827e-12,
          5.015854238048737e-12,
          5.596136276136632e-12
         ]
        },
        {
         "boxpoints": "all",
         "hovertemplate": "Epoch: %{text}<br>STD: %{y: .0f}",
         "line": {
          "width": 1
         },
         "marker": {
          "size": 3
         },
         "name": "MEG1913",
         "opacity": 0.7,
         "pointpos": 0,
         "text": [
          0,
          1,
          2,
          3,
          4,
          5,
          6,
          7
         ],
         "type": "box",
         "y": [
          5.355080634352041e-12,
          4.635605206511564e-12,
          4.534328470831793e-12,
          5.5304602722823385e-12,
          5.842096743617896e-12,
          4.589934641821806e-12,
          5.172709626450941e-12,
          6.16400362806714e-12
         ]
        },
        {
         "boxpoints": "all",
         "hovertemplate": "Epoch: %{text}<br>STD: %{y: .0f}",
         "line": {
          "width": 1
         },
         "marker": {
          "size": 3
         },
         "name": "MEG1922",
         "opacity": 0.7,
         "pointpos": 0,
         "text": [
          0,
          1,
          2,
          3,
          4,
          5,
          6,
          7
         ],
         "type": "box",
         "y": [
          8.86461291129164e-12,
          7.044577314646063e-12,
          7.551566154583256e-12,
          7.647112373121473e-12,
          8.84160845736199e-12,
          8.89562031568842e-12,
          6.253519246005932e-12,
          8.12917916787372e-12
         ]
        },
        {
         "boxpoints": "all",
         "hovertemplate": "Epoch: %{text}<br>STD: %{y: .0f}",
         "line": {
          "width": 1
         },
         "marker": {
          "size": 3
         },
         "name": "MEG1923",
         "opacity": 0.7,
         "pointpos": 0,
         "text": [
          0,
          1,
          2,
          3,
          4,
          5,
          6,
          7
         ],
         "type": "box",
         "y": [
          8.175791535390662e-12,
          6.2431942915382855e-12,
          5.703621045157542e-12,
          8.866775662502117e-12,
          6.985424675494288e-12,
          7.016379465760723e-12,
          7.563382792151404e-12,
          8.00009476370998e-12
         ]
        },
        {
         "boxpoints": "all",
         "hovertemplate": "Epoch: %{text}<br>STD: %{y: .0f}",
         "line": {
          "width": 1
         },
         "marker": {
          "size": 3
         },
         "name": "MEG1932",
         "opacity": 0.7,
         "pointpos": 0,
         "text": [
          0,
          1,
          2,
          3,
          4,
          5,
          6,
          7
         ],
         "type": "box",
         "y": [
          5.415075672721457e-12,
          6.191905411626899e-12,
          5.976541041887681e-12,
          7.207147324535312e-12,
          7.861308211800298e-12,
          6.642458151331826e-12,
          7.574235549595338e-12,
          6.846169740154836e-12
         ]
        },
        {
         "boxpoints": "all",
         "hovertemplate": "Epoch: %{text}<br>STD: %{y: .0f}",
         "line": {
          "width": 1
         },
         "marker": {
          "size": 3
         },
         "name": "MEG1933",
         "opacity": 0.7,
         "pointpos": 0,
         "text": [
          0,
          1,
          2,
          3,
          4,
          5,
          6,
          7
         ],
         "type": "box",
         "y": [
          1.2203402723920424e-11,
          1.0586970395528226e-11,
          1.1673627614414849e-11,
          1.0801379186205311e-11,
          1.1931906403290768e-11,
          1.1964388693409458e-11,
          8.79112400433166e-12,
          9.624688957648432e-12
         ]
        },
        {
         "boxpoints": "all",
         "hovertemplate": "Epoch: %{text}<br>STD: %{y: .0f}",
         "line": {
          "width": 1
         },
         "marker": {
          "size": 3
         },
         "name": "MEG1942",
         "opacity": 0.7,
         "pointpos": 0,
         "text": [
          0,
          1,
          2,
          3,
          4,
          5,
          6,
          7
         ],
         "type": "box",
         "y": [
          6.550807584870647e-12,
          5.025480900914881e-12,
          4.72128469917905e-12,
          5.375830187360282e-12,
          5.874989942260619e-12,
          5.085555287944449e-12,
          5.94060649099341e-12,
          6.296314429009577e-12
         ]
        },
        {
         "boxpoints": "all",
         "hovertemplate": "Epoch: %{text}<br>STD: %{y: .0f}",
         "line": {
          "width": 1
         },
         "marker": {
          "size": 3
         },
         "name": "MEG1943",
         "opacity": 0.7,
         "pointpos": 0,
         "text": [
          0,
          1,
          2,
          3,
          4,
          5,
          6,
          7
         ],
         "type": "box",
         "y": [
          8.381424245414713e-12,
          6.002116299414896e-12,
          5.348744210675652e-12,
          6.8479246757939294e-12,
          7.011969733778532e-12,
          6.799353480095494e-12,
          6.845488288113649e-12,
          7.301191990959394e-12
         ]
        },
        {
         "boxpoints": "all",
         "hovertemplate": "Epoch: %{text}<br>STD: %{y: .0f}",
         "line": {
          "width": 1
         },
         "marker": {
          "size": 3
         },
         "name": "MEG2012",
         "opacity": 0.7,
         "pointpos": 0,
         "text": [
          0,
          1,
          2,
          3,
          4,
          5,
          6,
          7
         ],
         "type": "box",
         "y": [
          4.6567660426999856e-12,
          5.065823335896416e-12,
          4.742187470089893e-12,
          5.406908154483391e-12,
          4.3830979214144735e-12,
          4.7801653789217485e-12,
          4.431964306234722e-12,
          4.458140634341613e-12
         ]
        },
        {
         "boxpoints": "all",
         "hovertemplate": "Epoch: %{text}<br>STD: %{y: .0f}",
         "line": {
          "width": 1
         },
         "marker": {
          "size": 3
         },
         "name": "MEG2013",
         "opacity": 0.7,
         "pointpos": 0,
         "text": [
          0,
          1,
          2,
          3,
          4,
          5,
          6,
          7
         ],
         "type": "box",
         "y": [
          4.677759483728063e-12,
          4.446325181283333e-12,
          4.255902358533145e-12,
          4.982971514273637e-12,
          5.419876036278089e-12,
          4.651435497841042e-12,
          4.527537691382497e-12,
          6.123327409725728e-12
         ]
        },
        {
         "boxpoints": "all",
         "hovertemplate": "Epoch: %{text}<br>STD: %{y: .0f}",
         "line": {
          "width": 1
         },
         "marker": {
          "size": 3
         },
         "name": "MEG2022",
         "opacity": 0.7,
         "pointpos": 0,
         "text": [
          0,
          1,
          2,
          3,
          4,
          5,
          6,
          7
         ],
         "type": "box",
         "y": [
          4.726616445906607e-12,
          4.801021502856755e-12,
          4.921420306479265e-12,
          6.289068088484565e-12,
          5.276682548508758e-12,
          5.9110633115586894e-12,
          4.579514819589361e-12,
          4.994961454684646e-12
         ]
        },
        {
         "boxpoints": "all",
         "hovertemplate": "Epoch: %{text}<br>STD: %{y: .0f}",
         "line": {
          "width": 1
         },
         "marker": {
          "size": 3
         },
         "name": "MEG2023",
         "opacity": 0.7,
         "pointpos": 0,
         "text": [
          0,
          1,
          2,
          3,
          4,
          5,
          6,
          7
         ],
         "type": "box",
         "y": [
          5.014337902298128e-12,
          4.1979588876470546e-12,
          4.819761874261362e-12,
          4.550725309027219e-12,
          4.49661259887991e-12,
          4.548505883448074e-12,
          4.947727338191918e-12,
          5.992101948137763e-12
         ]
        },
        {
         "boxpoints": "all",
         "hovertemplate": "Epoch: %{text}<br>STD: %{y: .0f}",
         "line": {
          "width": 1
         },
         "marker": {
          "size": 3
         },
         "name": "MEG2032",
         "opacity": 0.7,
         "pointpos": 0,
         "text": [
          0,
          1,
          2,
          3,
          4,
          5,
          6,
          7
         ],
         "type": "box",
         "y": [
          6.002499325429051e-12,
          4.4950822406435125e-12,
          5.734210812260685e-12,
          6.47704560476137e-12,
          6.0758687121289676e-12,
          5.881231818858876e-12,
          5.617146765380915e-12,
          7.754538598329412e-12
         ]
        },
        {
         "boxpoints": "all",
         "hovertemplate": "Epoch: %{text}<br>STD: %{y: .0f}",
         "line": {
          "width": 1
         },
         "marker": {
          "size": 3
         },
         "name": "MEG2033",
         "opacity": 0.7,
         "pointpos": 0,
         "text": [
          0,
          1,
          2,
          3,
          4,
          5,
          6,
          7
         ],
         "type": "box",
         "y": [
          5.647105111030027e-12,
          5.562493239711286e-12,
          5.495231630987133e-12,
          7.118215709880187e-12,
          6.948874792424124e-12,
          6.949354898965196e-12,
          5.2359434491348575e-12,
          5.713900976334575e-12
         ]
        },
        {
         "boxpoints": "all",
         "hovertemplate": "Epoch: %{text}<br>STD: %{y: .0f}",
         "line": {
          "width": 1
         },
         "marker": {
          "size": 3
         },
         "name": "MEG2042",
         "opacity": 0.7,
         "pointpos": 0,
         "text": [
          0,
          1,
          2,
          3,
          4,
          5,
          6,
          7
         ],
         "type": "box",
         "y": [
          6.102871886764066e-12,
          4.39553157934551e-12,
          5.3539500516691506e-12,
          5.725388801122613e-12,
          6.114342262839373e-12,
          5.3041823912133405e-12,
          5.407385284221899e-12,
          7.1330271229488416e-12
         ]
        },
        {
         "boxpoints": "all",
         "hovertemplate": "Epoch: %{text}<br>STD: %{y: .0f}",
         "line": {
          "width": 1
         },
         "marker": {
          "size": 3
         },
         "name": "MEG2043",
         "opacity": 0.7,
         "pointpos": 0,
         "text": [
          0,
          1,
          2,
          3,
          4,
          5,
          6,
          7
         ],
         "type": "box",
         "y": [
          6.206085987965498e-12,
          5.590484705692288e-12,
          5.3159579402497236e-12,
          5.838775944418597e-12,
          6.472000587094571e-12,
          6.8682842908090665e-12,
          4.952244483147583e-12,
          6.583453812969545e-12
         ]
        },
        {
         "boxpoints": "all",
         "hovertemplate": "Epoch: %{text}<br>STD: %{y: .0f}",
         "line": {
          "width": 1
         },
         "marker": {
          "size": 3
         },
         "name": "MEG2112",
         "opacity": 0.7,
         "pointpos": 0,
         "text": [
          0,
          1,
          2,
          3,
          4,
          5,
          6,
          7
         ],
         "type": "box",
         "y": [
          7.785903992475137e-12,
          7.403147859337041e-12,
          6.739778700056941e-12,
          7.878807157077424e-12,
          9.497990227283944e-12,
          9.190894582112208e-12,
          6.366372483830492e-12,
          7.311739425349723e-12
         ]
        },
        {
         "boxpoints": "all",
         "hovertemplate": "Epoch: %{text}<br>STD: %{y: .0f}",
         "line": {
          "width": 1
         },
         "marker": {
          "size": 3
         },
         "name": "MEG2113",
         "opacity": 0.7,
         "pointpos": 0,
         "text": [
          0,
          1,
          2,
          3,
          4,
          5,
          6,
          7
         ],
         "type": "box",
         "y": [
          6.7727443021894596e-12,
          6.435524268982903e-12,
          6.656303940300113e-12,
          7.301643176236681e-12,
          7.354392389985105e-12,
          6.950938890754378e-12,
          7.188630052067323e-12,
          6.789022872519519e-12
         ]
        },
        {
         "boxpoints": "all",
         "hovertemplate": "Epoch: %{text}<br>STD: %{y: .0f}",
         "line": {
          "width": 1
         },
         "marker": {
          "size": 3
         },
         "name": "MEG2122",
         "opacity": 0.7,
         "pointpos": 0,
         "text": [
          0,
          1,
          2,
          3,
          4,
          5,
          6,
          7
         ],
         "type": "box",
         "y": [
          6.376624738838904e-12,
          6.092003857219953e-12,
          7.462808481597316e-12,
          7.882575421953015e-12,
          9.066814287365902e-12,
          6.872411986188261e-12,
          7.502476611525996e-12,
          7.192270998591033e-12
         ]
        },
        {
         "boxpoints": "all",
         "hovertemplate": "Epoch: %{text}<br>STD: %{y: .0f}",
         "line": {
          "width": 1
         },
         "marker": {
          "size": 3
         },
         "name": "MEG2123",
         "opacity": 0.7,
         "pointpos": 0,
         "text": [
          0,
          1,
          2,
          3,
          4,
          5,
          6,
          7
         ],
         "type": "box",
         "y": [
          8.604738355936239e-12,
          8.074753401827455e-12,
          7.422323117850474e-12,
          9.155457177015388e-12,
          9.620582516578089e-12,
          9.853091339880107e-12,
          7.69845629973846e-12,
          8.336743167382087e-12
         ]
        },
        {
         "boxpoints": "all",
         "hovertemplate": "Epoch: %{text}<br>STD: %{y: .0f}",
         "line": {
          "width": 1
         },
         "marker": {
          "size": 3
         },
         "name": "MEG2132",
         "opacity": 0.7,
         "pointpos": 0,
         "text": [
          0,
          1,
          2,
          3,
          4,
          5,
          6,
          7
         ],
         "type": "box",
         "y": [
          7.234910336258763e-12,
          7.966411322473874e-12,
          7.624397807943289e-12,
          9.331947688580289e-12,
          7.146923108978928e-12,
          7.383029473360064e-12,
          7.922797329640104e-12,
          8.350897348856594e-12
         ]
        },
        {
         "boxpoints": "all",
         "hovertemplate": "Epoch: %{text}<br>STD: %{y: .0f}",
         "line": {
          "width": 1
         },
         "marker": {
          "size": 3
         },
         "name": "MEG2133",
         "opacity": 0.7,
         "pointpos": 0,
         "text": [
          0,
          1,
          2,
          3,
          4,
          5,
          6,
          7
         ],
         "type": "box",
         "y": [
          1.0035407660218114e-11,
          1.0483299458825499e-11,
          1.0394493025803458e-11,
          1.0335312030656254e-11,
          1.0299134433722333e-11,
          1.0530224609818723e-11,
          1.0079271728639227e-11,
          8.753061146026153e-12
         ]
        },
        {
         "boxpoints": "all",
         "hovertemplate": "Epoch: %{text}<br>STD: %{y: .0f}",
         "line": {
          "width": 1
         },
         "marker": {
          "size": 3
         },
         "name": "MEG2142",
         "opacity": 0.7,
         "pointpos": 0,
         "text": [
          0,
          1,
          2,
          3,
          4,
          5,
          6,
          7
         ],
         "type": "box",
         "y": [
          1.1010530463724602e-11,
          1.1483578411668495e-11,
          1.278079972144101e-11,
          1.2605773030280074e-11,
          1.073124832247182e-11,
          1.1725912356220028e-11,
          1.076235892963521e-11,
          1.1774412792375005e-11
         ]
        },
        {
         "boxpoints": "all",
         "hovertemplate": "Epoch: %{text}<br>STD: %{y: .0f}",
         "line": {
          "width": 1
         },
         "marker": {
          "size": 3
         },
         "name": "MEG2143",
         "opacity": 0.7,
         "pointpos": 0,
         "text": [
          0,
          1,
          2,
          3,
          4,
          5,
          6,
          7
         ],
         "type": "box",
         "y": [
          8.316422580251237e-12,
          7.82005252950506e-12,
          7.79781840394617e-12,
          8.069488901839729e-12,
          7.583907675631766e-12,
          8.118427987038122e-12,
          8.302062413608546e-12,
          7.773848278786588e-12
         ]
        },
        {
         "boxpoints": "all",
         "hovertemplate": "Epoch: %{text}<br>STD: %{y: .0f}",
         "line": {
          "width": 1
         },
         "marker": {
          "size": 3
         },
         "name": "MEG2212",
         "opacity": 0.7,
         "pointpos": 0,
         "text": [
          0,
          1,
          2,
          3,
          4,
          5,
          6,
          7
         ],
         "type": "box",
         "y": [
          5.24535430635169e-12,
          4.648017779838977e-12,
          5.092993167365948e-12,
          5.626270149221392e-12,
          5.649057436654029e-12,
          5.333738675531349e-12,
          4.89817387807413e-12,
          6.4344466307797375e-12
         ]
        },
        {
         "boxpoints": "all",
         "hovertemplate": "Epoch: %{text}<br>STD: %{y: .0f}",
         "line": {
          "width": 1
         },
         "marker": {
          "size": 3
         },
         "name": "MEG2213",
         "opacity": 0.7,
         "pointpos": 0,
         "text": [
          0,
          1,
          2,
          3,
          4,
          5,
          6,
          7
         ],
         "type": "box",
         "y": [
          4.428006269233964e-12,
          3.781835284108913e-12,
          3.7698306685536024e-12,
          4.3401392352321516e-12,
          3.680381114606732e-12,
          4.208531515699797e-12,
          3.940251157609071e-12,
          4.760313287338856e-12
         ]
        },
        {
         "boxpoints": "all",
         "hovertemplate": "Epoch: %{text}<br>STD: %{y: .0f}",
         "line": {
          "width": 1
         },
         "marker": {
          "size": 3
         },
         "name": "MEG2222",
         "opacity": 0.7,
         "pointpos": 0,
         "text": [
          0,
          1,
          2,
          3,
          4,
          5,
          6,
          7
         ],
         "type": "box",
         "y": [
          4.752620071150207e-12,
          3.914236511039041e-12,
          4.710046463218654e-12,
          5.3923941288086305e-12,
          3.693416820813247e-12,
          4.2292834628052716e-12,
          4.133467197709052e-12,
          5.816096015664287e-12
         ]
        },
        {
         "boxpoints": "all",
         "hovertemplate": "Epoch: %{text}<br>STD: %{y: .0f}",
         "line": {
          "width": 1
         },
         "marker": {
          "size": 3
         },
         "name": "MEG2223",
         "opacity": 0.7,
         "pointpos": 0,
         "text": [
          0,
          1,
          2,
          3,
          4,
          5,
          6,
          7
         ],
         "type": "box",
         "y": [
          4.467471197262581e-12,
          3.999063533914542e-12,
          4.125747847012359e-12,
          5.390587306023882e-12,
          4.74706787710149e-12,
          4.448401516490387e-12,
          4.6094214666477615e-12,
          6.643524069037341e-12
         ]
        },
        {
         "boxpoints": "all",
         "hovertemplate": "Epoch: %{text}<br>STD: %{y: .0f}",
         "line": {
          "width": 1
         },
         "marker": {
          "size": 3
         },
         "name": "MEG2232",
         "opacity": 0.7,
         "pointpos": 0,
         "text": [
          0,
          1,
          2,
          3,
          4,
          5,
          6,
          7
         ],
         "type": "box",
         "y": [
          4.099063421089327e-12,
          3.4483075292247087e-12,
          4.082748057661085e-12,
          4.411348895872748e-12,
          3.9745369670423355e-12,
          3.614066011005699e-12,
          4.1516929307422665e-12,
          4.833780946874746e-12
         ]
        },
        {
         "boxpoints": "all",
         "hovertemplate": "Epoch: %{text}<br>STD: %{y: .0f}",
         "line": {
          "width": 1
         },
         "marker": {
          "size": 3
         },
         "name": "MEG2233",
         "opacity": 0.7,
         "pointpos": 0,
         "text": [
          0,
          1,
          2,
          3,
          4,
          5,
          6,
          7
         ],
         "type": "box",
         "y": [
          5.153538610116423e-12,
          3.8254350240092415e-12,
          5.105181291292624e-12,
          5.683337856752748e-12,
          4.70671564704312e-12,
          4.4141178989712456e-12,
          5.053724324491737e-12,
          6.319624856186973e-12
         ]
        },
        {
         "boxpoints": "all",
         "hovertemplate": "Epoch: %{text}<br>STD: %{y: .0f}",
         "line": {
          "width": 1
         },
         "marker": {
          "size": 3
         },
         "name": "MEG2242",
         "opacity": 0.7,
         "pointpos": 0,
         "text": [
          0,
          1,
          2,
          3,
          4,
          5,
          6,
          7
         ],
         "type": "box",
         "y": [
          3.9921908320708435e-12,
          2.8751196954767945e-12,
          3.3636060054508373e-12,
          3.668954742984647e-12,
          4.628342021991195e-12,
          3.1905971186504797e-12,
          3.1900601140294254e-12,
          3.8853073958791456e-12
         ]
        },
        {
         "boxpoints": "all",
         "hovertemplate": "Epoch: %{text}<br>STD: %{y: .0f}",
         "line": {
          "width": 1
         },
         "marker": {
          "size": 3
         },
         "name": "MEG2243",
         "opacity": 0.7,
         "pointpos": 0,
         "text": [
          0,
          1,
          2,
          3,
          4,
          5,
          6,
          7
         ],
         "type": "box",
         "y": [
          4.119493217925877e-12,
          3.756879390255177e-12,
          4.040965526687051e-12,
          4.489031804388792e-12,
          3.870996994900762e-12,
          4.907663804525431e-12,
          3.964704807815625e-12,
          4.3670962790920545e-12
         ]
        },
        {
         "boxpoints": "all",
         "hovertemplate": "Epoch: %{text}<br>STD: %{y: .0f}",
         "line": {
          "width": 1
         },
         "marker": {
          "size": 3
         },
         "name": "MEG2312",
         "opacity": 0.7,
         "pointpos": 0,
         "text": [
          0,
          1,
          2,
          3,
          4,
          5,
          6,
          7
         ],
         "type": "box",
         "y": [
          6.687077362985022e-12,
          4.684966737263352e-12,
          6.87685240284229e-12,
          6.7322474700680106e-12,
          6.362093964819049e-12,
          7.0271572670379045e-12,
          5.943045201734164e-12,
          7.985147353914498e-12
         ]
        },
        {
         "boxpoints": "all",
         "hovertemplate": "Epoch: %{text}<br>STD: %{y: .0f}",
         "line": {
          "width": 1
         },
         "marker": {
          "size": 3
         },
         "name": "MEG2313",
         "opacity": 0.7,
         "pointpos": 0,
         "text": [
          0,
          1,
          2,
          3,
          4,
          5,
          6,
          7
         ],
         "type": "box",
         "y": [
          5.070141742428018e-12,
          5.23400075561613e-12,
          5.053208867467541e-12,
          5.969851216862073e-12,
          6.127239159818041e-12,
          5.7305821834396794e-12,
          5.135903662518546e-12,
          5.754321354178659e-12
         ]
        },
        {
         "boxpoints": "all",
         "hovertemplate": "Epoch: %{text}<br>STD: %{y: .0f}",
         "line": {
          "width": 1
         },
         "marker": {
          "size": 3
         },
         "name": "MEG2322",
         "opacity": 0.7,
         "pointpos": 0,
         "text": [
          0,
          1,
          2,
          3,
          4,
          5,
          6,
          7
         ],
         "type": "box",
         "y": [
          6.94613851403883e-12,
          5.744107132430639e-12,
          5.592831455419603e-12,
          6.873175820248968e-12,
          6.439351420886758e-12,
          6.234279507576128e-12,
          5.958807645403674e-12,
          6.836672020263941e-12
         ]
        },
        {
         "boxpoints": "all",
         "hovertemplate": "Epoch: %{text}<br>STD: %{y: .0f}",
         "line": {
          "width": 1
         },
         "marker": {
          "size": 3
         },
         "name": "MEG2323",
         "opacity": 0.7,
         "pointpos": 0,
         "text": [
          0,
          1,
          2,
          3,
          4,
          5,
          6,
          7
         ],
         "type": "box",
         "y": [
          6.6092290066697555e-12,
          5.1466895478615005e-12,
          5.994104034595684e-12,
          7.521511362920668e-12,
          6.686253162333712e-12,
          7.150479950353559e-12,
          6.266375888983648e-12,
          9.401495535394501e-12
         ]
        },
        {
         "boxpoints": "all",
         "hovertemplate": "Epoch: %{text}<br>STD: %{y: .0f}",
         "line": {
          "width": 1
         },
         "marker": {
          "size": 3
         },
         "name": "MEG2332",
         "opacity": 0.7,
         "pointpos": 0,
         "text": [
          0,
          1,
          2,
          3,
          4,
          5,
          6,
          7
         ],
         "type": "box",
         "y": [
          6.665316315622737e-12,
          7.236245123703753e-12,
          6.865195435123304e-12,
          7.252524962115369e-12,
          7.625892270745836e-12,
          6.838270683358988e-12,
          7.587714582262597e-12,
          6.466925567061794e-12
         ]
        },
        {
         "boxpoints": "all",
         "hovertemplate": "Epoch: %{text}<br>STD: %{y: .0f}",
         "line": {
          "width": 1
         },
         "marker": {
          "size": 3
         },
         "name": "MEG2333",
         "opacity": 0.7,
         "pointpos": 0,
         "text": [
          0,
          1,
          2,
          3,
          4,
          5,
          6,
          7
         ],
         "type": "box",
         "y": [
          8.325417089235875e-12,
          8.155157979505413e-12,
          8.613586567047775e-12,
          9.375926126000842e-12,
          8.737528440373954e-12,
          8.983241069604319e-12,
          9.045960935757835e-12,
          9.628535357078018e-12
         ]
        },
        {
         "boxpoints": "all",
         "hovertemplate": "Epoch: %{text}<br>STD: %{y: .0f}",
         "line": {
          "width": 1
         },
         "marker": {
          "size": 3
         },
         "name": "MEG2342",
         "opacity": 0.7,
         "pointpos": 0,
         "text": [
          0,
          1,
          2,
          3,
          4,
          5,
          6,
          7
         ],
         "type": "box",
         "y": [
          6.5895085593130284e-12,
          5.774000406194747e-12,
          6.7251727799133035e-12,
          8.046767229716412e-12,
          7.085861494868056e-12,
          6.4894147455572014e-12,
          5.870268759025323e-12,
          5.773817679827101e-12
         ]
        },
        {
         "boxpoints": "all",
         "hovertemplate": "Epoch: %{text}<br>STD: %{y: .0f}",
         "line": {
          "width": 1
         },
         "marker": {
          "size": 3
         },
         "name": "MEG2343",
         "opacity": 0.7,
         "pointpos": 0,
         "text": [
          0,
          1,
          2,
          3,
          4,
          5,
          6,
          7
         ],
         "type": "box",
         "y": [
          6.504352209134318e-12,
          5.6037280403654e-12,
          6.198764340283274e-12,
          6.9602116423454455e-12,
          6.603169553687899e-12,
          7.3766873618966e-12,
          6.5249643206170294e-12,
          7.1419065924032034e-12
         ]
        },
        {
         "boxpoints": "all",
         "hovertemplate": "Epoch: %{text}<br>STD: %{y: .0f}",
         "line": {
          "width": 1
         },
         "marker": {
          "size": 3
         },
         "name": "MEG2412",
         "opacity": 0.7,
         "pointpos": 0,
         "text": [
          0,
          1,
          2,
          3,
          4,
          5,
          6,
          7
         ],
         "type": "box",
         "y": [
          4.696158471033669e-12,
          4.6469581920019915e-12,
          5.60224507800386e-12,
          6.989179811044823e-12,
          5.232839121832655e-12,
          5.568046858260406e-12,
          5.250502054265845e-12,
          6.60529949455708e-12
         ]
        },
        {
         "boxpoints": "all",
         "hovertemplate": "Epoch: %{text}<br>STD: %{y: .0f}",
         "line": {
          "width": 1
         },
         "marker": {
          "size": 3
         },
         "name": "MEG2413",
         "opacity": 0.7,
         "pointpos": 0,
         "text": [
          0,
          1,
          2,
          3,
          4,
          5,
          6,
          7
         ],
         "type": "box",
         "y": [
          5.961109174205939e-12,
          3.844688434448602e-12,
          5.0485592548966774e-12,
          5.316693234902297e-12,
          4.5482085627415255e-12,
          4.7966565884154885e-12,
          4.1375729673597e-12,
          5.722091611305662e-12
         ]
        },
        {
         "boxpoints": "all",
         "hovertemplate": "Epoch: %{text}<br>STD: %{y: .0f}",
         "line": {
          "width": 1
         },
         "marker": {
          "size": 3
         },
         "name": "MEG2422",
         "opacity": 0.7,
         "pointpos": 0,
         "text": [
          0,
          1,
          2,
          3,
          4,
          5,
          6,
          7
         ],
         "type": "box",
         "y": [
          7.77045502471024e-12,
          5.891468869448914e-12,
          6.644848744056311e-12,
          6.263343459131673e-12,
          5.736571785695562e-12,
          6.648212969553478e-12,
          5.1794981397221085e-12,
          7.733361582515288e-12
         ]
        },
        {
         "boxpoints": "all",
         "hovertemplate": "Epoch: %{text}<br>STD: %{y: .0f}",
         "line": {
          "width": 1
         },
         "marker": {
          "size": 3
         },
         "name": "MEG2423",
         "opacity": 0.7,
         "pointpos": 0,
         "text": [
          0,
          1,
          2,
          3,
          4,
          5,
          6,
          7
         ],
         "type": "box",
         "y": [
          5.788155742265204e-12,
          4.523819881176886e-12,
          5.641680048051524e-12,
          7.573584280177556e-12,
          6.580293814758628e-12,
          6.221683450110864e-12,
          5.674279205484409e-12,
          7.285916558479183e-12
         ]
        },
        {
         "boxpoints": "all",
         "hovertemplate": "Epoch: %{text}<br>STD: %{y: .0f}",
         "line": {
          "width": 1
         },
         "marker": {
          "size": 3
         },
         "name": "MEG2432",
         "opacity": 0.7,
         "pointpos": 0,
         "text": [
          0,
          1,
          2,
          3,
          4,
          5,
          6,
          7
         ],
         "type": "box",
         "y": [
          8.047236862933862e-12,
          5.636777337615888e-12,
          5.599222794912068e-12,
          6.350861910722835e-12,
          6.44029323002321e-12,
          5.5458975516150885e-12,
          6.054185942638814e-12,
          6.07483227109468e-12
         ]
        },
        {
         "boxpoints": "all",
         "hovertemplate": "Epoch: %{text}<br>STD: %{y: .0f}",
         "line": {
          "width": 1
         },
         "marker": {
          "size": 3
         },
         "name": "MEG2433",
         "opacity": 0.7,
         "pointpos": 0,
         "text": [
          0,
          1,
          2,
          3,
          4,
          5,
          6,
          7
         ],
         "type": "box",
         "y": [
          6.550671090323041e-12,
          4.623400010041868e-12,
          5.99264400811178e-12,
          7.443909679019304e-12,
          6.91430226125446e-12,
          7.29888384926693e-12,
          6.186933360657104e-12,
          8.993955798204975e-12
         ]
        },
        {
         "boxpoints": "all",
         "hovertemplate": "Epoch: %{text}<br>STD: %{y: .0f}",
         "line": {
          "width": 1
         },
         "marker": {
          "size": 3
         },
         "name": "MEG2442",
         "opacity": 0.7,
         "pointpos": 0,
         "text": [
          0,
          1,
          2,
          3,
          4,
          5,
          6,
          7
         ],
         "type": "box",
         "y": [
          6.0706713802479234e-12,
          4.630535593375516e-12,
          6.029804316509611e-12,
          6.7041749262673705e-12,
          6.211224580020606e-12,
          5.937012358785177e-12,
          5.862021915350419e-12,
          8.44638680664072e-12
         ]
        },
        {
         "boxpoints": "all",
         "hovertemplate": "Epoch: %{text}<br>STD: %{y: .0f}",
         "line": {
          "width": 1
         },
         "marker": {
          "size": 3
         },
         "name": "MEG2443",
         "opacity": 0.7,
         "pointpos": 0,
         "text": [
          0,
          1,
          2,
          3,
          4,
          5,
          6,
          7
         ],
         "type": "box",
         "y": [
          5.26619229933188e-12,
          4.591306543255528e-12,
          4.5499414975894446e-12,
          4.4222297659150476e-12,
          4.692541991954161e-12,
          4.094014474510928e-12,
          4.54260729980226e-12,
          5.4763605342281095e-12
         ]
        },
        {
         "boxpoints": "all",
         "hovertemplate": "Epoch: %{text}<br>STD: %{y: .0f}",
         "line": {
          "width": 1
         },
         "marker": {
          "size": 3
         },
         "name": "MEG2512",
         "opacity": 0.7,
         "pointpos": 0,
         "text": [
          0,
          1,
          2,
          3,
          4,
          5,
          6,
          7
         ],
         "type": "box",
         "y": [
          6.557371884448562e-12,
          7.034904712542598e-12,
          7.043273214457149e-12,
          7.1612921049389e-12,
          7.068753041483373e-12,
          6.141966348536225e-12,
          7.1700327000377674e-12,
          6.460827591285754e-12
         ]
        },
        {
         "boxpoints": "all",
         "hovertemplate": "Epoch: %{text}<br>STD: %{y: .0f}",
         "line": {
          "width": 1
         },
         "marker": {
          "size": 3
         },
         "name": "MEG2513",
         "opacity": 0.7,
         "pointpos": 0,
         "text": [
          0,
          1,
          2,
          3,
          4,
          5,
          6,
          7
         ],
         "type": "box",
         "y": [
          9.273364079574866e-12,
          7.68219316887504e-12,
          7.8395846889236e-12,
          9.135958936257915e-12,
          8.653503968848088e-12,
          7.760902143773889e-12,
          8.199005741168152e-12,
          8.233609803921017e-12
         ]
        },
        {
         "boxpoints": "all",
         "hovertemplate": "Epoch: %{text}<br>STD: %{y: .0f}",
         "line": {
          "width": 1
         },
         "marker": {
          "size": 3
         },
         "name": "MEG2522",
         "opacity": 0.7,
         "pointpos": 0,
         "text": [
          0,
          1,
          2,
          3,
          4,
          5,
          6,
          7
         ],
         "type": "box",
         "y": [
          7.1932792711894465e-12,
          6.275720397619526e-12,
          5.834249054217229e-12,
          7.011324976612848e-12,
          7.111747664043305e-12,
          6.63468393059196e-12,
          6.598150351319778e-12,
          7.080886194321739e-12
         ]
        },
        {
         "boxpoints": "all",
         "hovertemplate": "Epoch: %{text}<br>STD: %{y: .0f}",
         "line": {
          "width": 1
         },
         "marker": {
          "size": 3
         },
         "name": "MEG2523",
         "opacity": 0.7,
         "pointpos": 0,
         "text": [
          0,
          1,
          2,
          3,
          4,
          5,
          6,
          7
         ],
         "type": "box",
         "y": [
          7.704057489425032e-12,
          4.7887489413138285e-12,
          5.3946829873568245e-12,
          6.247956777516871e-12,
          5.834768118749587e-12,
          4.8279007000729454e-12,
          6.200529137220916e-12,
          7.164015691554044e-12
         ]
        },
        {
         "boxpoints": "all",
         "hovertemplate": "Epoch: %{text}<br>STD: %{y: .0f}",
         "line": {
          "width": 1
         },
         "marker": {
          "size": 3
         },
         "name": "MEG2532",
         "opacity": 0.7,
         "pointpos": 0,
         "text": [
          0,
          1,
          2,
          3,
          4,
          5,
          6,
          7
         ],
         "type": "box",
         "y": [
          5.577723888628583e-12,
          5.266091792139293e-12,
          5.433668873898682e-12,
          6.199656638687533e-12,
          4.8490159802369745e-12,
          4.806737747365198e-12,
          5.293286387426476e-12,
          5.583758378817885e-12
         ]
        },
        {
         "boxpoints": "all",
         "hovertemplate": "Epoch: %{text}<br>STD: %{y: .0f}",
         "line": {
          "width": 1
         },
         "marker": {
          "size": 3
         },
         "name": "MEG2533",
         "opacity": 0.7,
         "pointpos": 0,
         "text": [
          0,
          1,
          2,
          3,
          4,
          5,
          6,
          7
         ],
         "type": "box",
         "y": [
          8.317150104910979e-12,
          8.17806690181432e-12,
          9.3926399653805e-12,
          9.144083052362651e-12,
          8.24899979612818e-12,
          1.003905748000918e-11,
          9.684632621565391e-12,
          9.182468991240456e-12
         ]
        },
        {
         "boxpoints": "all",
         "hovertemplate": "Epoch: %{text}<br>STD: %{y: .0f}",
         "line": {
          "width": 1
         },
         "marker": {
          "size": 3
         },
         "name": "MEG2542",
         "opacity": 0.7,
         "pointpos": 0,
         "text": [
          0,
          1,
          2,
          3,
          4,
          5,
          6,
          7
         ],
         "type": "box",
         "y": [
          6.143307311772066e-12,
          6.651182657319288e-12,
          6.4006552763297215e-12,
          7.518865540320872e-12,
          5.856409149783398e-12,
          6.087140386202406e-12,
          6.438440169818689e-12,
          7.765745174967037e-12
         ]
        },
        {
         "boxpoints": "all",
         "hovertemplate": "Epoch: %{text}<br>STD: %{y: .0f}",
         "line": {
          "width": 1
         },
         "marker": {
          "size": 3
         },
         "name": "MEG2543",
         "opacity": 0.7,
         "pointpos": 0,
         "text": [
          0,
          1,
          2,
          3,
          4,
          5,
          6,
          7
         ],
         "type": "box",
         "y": [
          9.189418653538958e-12,
          8.647273030482664e-12,
          9.031983768905172e-12,
          9.475358797938715e-12,
          9.088992035457742e-12,
          9.533776887004115e-12,
          9.686203031582977e-12,
          9.319886145931246e-12
         ]
        },
        {
         "boxpoints": "all",
         "hovertemplate": "Epoch: %{text}<br>STD: %{y: .0f}",
         "line": {
          "width": 1
         },
         "marker": {
          "size": 3
         },
         "name": "MEG2612",
         "opacity": 0.7,
         "pointpos": 0,
         "text": [
          0,
          1,
          2,
          3,
          4,
          5,
          6,
          7
         ],
         "type": "box",
         "y": [
          6.9389086308748645e-12,
          6.883584109607675e-12,
          6.331900903506468e-12,
          7.973780676003536e-12,
          6.735791924619164e-12,
          6.622327076604543e-12,
          5.824164568813496e-12,
          7.822795650233309e-12
         ]
        },
        {
         "boxpoints": "all",
         "hovertemplate": "Epoch: %{text}<br>STD: %{y: .0f}",
         "line": {
          "width": 1
         },
         "marker": {
          "size": 3
         },
         "name": "MEG2613",
         "opacity": 0.7,
         "pointpos": 0,
         "text": [
          0,
          1,
          2,
          3,
          4,
          5,
          6,
          7
         ],
         "type": "box",
         "y": [
          5.983739706907046e-12,
          5.687883534416606e-12,
          6.112738646363602e-12,
          5.941007829428871e-12,
          7.779154803912872e-12,
          6.681782770193774e-12,
          5.869061398072259e-12,
          6.760440096109007e-12
         ]
        },
        {
         "boxpoints": "all",
         "hovertemplate": "Epoch: %{text}<br>STD: %{y: .0f}",
         "line": {
          "width": 1
         },
         "marker": {
          "size": 3
         },
         "name": "MEG2622",
         "opacity": 0.7,
         "pointpos": 0,
         "text": [
          0,
          1,
          2,
          3,
          4,
          5,
          6,
          7
         ],
         "type": "box",
         "y": [
          6.778682682941379e-12,
          6.219945557423742e-12,
          5.768431376580451e-12,
          5.987522908304718e-12,
          6.757390213972752e-12,
          6.3896789363488046e-12,
          6.350496771844827e-12,
          6.174837999688788e-12
         ]
        },
        {
         "boxpoints": "all",
         "hovertemplate": "Epoch: %{text}<br>STD: %{y: .0f}",
         "line": {
          "width": 1
         },
         "marker": {
          "size": 3
         },
         "name": "MEG2623",
         "opacity": 0.7,
         "pointpos": 0,
         "text": [
          0,
          1,
          2,
          3,
          4,
          5,
          6,
          7
         ],
         "type": "box",
         "y": [
          6.321378096091109e-12,
          6.903256219378204e-12,
          7.56572105736001e-12,
          8.132101883688773e-12,
          6.453238822548501e-12,
          7.824230865904208e-12,
          6.7668503282885314e-12,
          7.560666684649919e-12
         ]
        },
        {
         "boxpoints": "all",
         "hovertemplate": "Epoch: %{text}<br>STD: %{y: .0f}",
         "line": {
          "width": 1
         },
         "marker": {
          "size": 3
         },
         "name": "MEG2632",
         "opacity": 0.7,
         "pointpos": 0,
         "text": [
          0,
          1,
          2,
          3,
          4,
          5,
          6,
          7
         ],
         "type": "box",
         "y": [
          4.88785432038752e-12,
          4.468490802151579e-12,
          4.3808578233044465e-12,
          4.759283205729808e-12,
          4.719704553376264e-12,
          4.686163076272161e-12,
          4.547636576629833e-12,
          5.462095972026037e-12
         ]
        },
        {
         "boxpoints": "all",
         "hovertemplate": "Epoch: %{text}<br>STD: %{y: .0f}",
         "line": {
          "width": 1
         },
         "marker": {
          "size": 3
         },
         "name": "MEG2633",
         "opacity": 0.7,
         "pointpos": 0,
         "text": [
          0,
          1,
          2,
          3,
          4,
          5,
          6,
          7
         ],
         "type": "box",
         "y": [
          7.224347784831984e-12,
          7.824790240505834e-12,
          8.149027150929112e-12,
          8.513326170311656e-12,
          7.188575853259937e-12,
          8.68301213904234e-12,
          7.29919052153223e-12,
          7.843467021084782e-12
         ]
        },
        {
         "boxpoints": "all",
         "hovertemplate": "Epoch: %{text}<br>STD: %{y: .0f}",
         "line": {
          "width": 1
         },
         "marker": {
          "size": 3
         },
         "name": "MEG2642",
         "opacity": 0.7,
         "pointpos": 0,
         "text": [
          0,
          1,
          2,
          3,
          4,
          5,
          6,
          7
         ],
         "type": "box",
         "y": [
          6.595326099790017e-12,
          5.735145440939739e-12,
          4.930615138051453e-12,
          6.806944188479763e-12,
          6.439749219875205e-12,
          6.8981584779405205e-12,
          5.551248803504656e-12,
          7.339646815998316e-12
         ]
        },
        {
         "boxpoints": "all",
         "hovertemplate": "Epoch: %{text}<br>STD: %{y: .0f}",
         "line": {
          "width": 1
         },
         "marker": {
          "size": 3
         },
         "name": "MEG2643",
         "opacity": 0.7,
         "pointpos": 0,
         "text": [
          0,
          1,
          2,
          3,
          4,
          5,
          6,
          7
         ],
         "type": "box",
         "y": [
          7.57035445819507e-12,
          5.98356782506778e-12,
          5.5915118523219e-12,
          5.763566344887125e-12,
          5.938916766818636e-12,
          5.706282216536297e-12,
          4.795689810362311e-12,
          7.521679104625648e-12
         ]
        }
       ],
       "layout": {
        "template": {
         "data": {
          "bar": [
           {
            "error_x": {
             "color": "#2a3f5f"
            },
            "error_y": {
             "color": "#2a3f5f"
            },
            "marker": {
             "line": {
              "color": "#E5ECF6",
              "width": 0.5
             },
             "pattern": {
              "fillmode": "overlay",
              "size": 10,
              "solidity": 0.2
             }
            },
            "type": "bar"
           }
          ],
          "barpolar": [
           {
            "marker": {
             "line": {
              "color": "#E5ECF6",
              "width": 0.5
             },
             "pattern": {
              "fillmode": "overlay",
              "size": 10,
              "solidity": 0.2
             }
            },
            "type": "barpolar"
           }
          ],
          "carpet": [
           {
            "aaxis": {
             "endlinecolor": "#2a3f5f",
             "gridcolor": "white",
             "linecolor": "white",
             "minorgridcolor": "white",
             "startlinecolor": "#2a3f5f"
            },
            "baxis": {
             "endlinecolor": "#2a3f5f",
             "gridcolor": "white",
             "linecolor": "white",
             "minorgridcolor": "white",
             "startlinecolor": "#2a3f5f"
            },
            "type": "carpet"
           }
          ],
          "choropleth": [
           {
            "colorbar": {
             "outlinewidth": 0,
             "ticks": ""
            },
            "type": "choropleth"
           }
          ],
          "contour": [
           {
            "colorbar": {
             "outlinewidth": 0,
             "ticks": ""
            },
            "colorscale": [
             [
              0,
              "#0d0887"
             ],
             [
              0.1111111111111111,
              "#46039f"
             ],
             [
              0.2222222222222222,
              "#7201a8"
             ],
             [
              0.3333333333333333,
              "#9c179e"
             ],
             [
              0.4444444444444444,
              "#bd3786"
             ],
             [
              0.5555555555555556,
              "#d8576b"
             ],
             [
              0.6666666666666666,
              "#ed7953"
             ],
             [
              0.7777777777777778,
              "#fb9f3a"
             ],
             [
              0.8888888888888888,
              "#fdca26"
             ],
             [
              1,
              "#f0f921"
             ]
            ],
            "type": "contour"
           }
          ],
          "contourcarpet": [
           {
            "colorbar": {
             "outlinewidth": 0,
             "ticks": ""
            },
            "type": "contourcarpet"
           }
          ],
          "heatmap": [
           {
            "colorbar": {
             "outlinewidth": 0,
             "ticks": ""
            },
            "colorscale": [
             [
              0,
              "#0d0887"
             ],
             [
              0.1111111111111111,
              "#46039f"
             ],
             [
              0.2222222222222222,
              "#7201a8"
             ],
             [
              0.3333333333333333,
              "#9c179e"
             ],
             [
              0.4444444444444444,
              "#bd3786"
             ],
             [
              0.5555555555555556,
              "#d8576b"
             ],
             [
              0.6666666666666666,
              "#ed7953"
             ],
             [
              0.7777777777777778,
              "#fb9f3a"
             ],
             [
              0.8888888888888888,
              "#fdca26"
             ],
             [
              1,
              "#f0f921"
             ]
            ],
            "type": "heatmap"
           }
          ],
          "heatmapgl": [
           {
            "colorbar": {
             "outlinewidth": 0,
             "ticks": ""
            },
            "colorscale": [
             [
              0,
              "#0d0887"
             ],
             [
              0.1111111111111111,
              "#46039f"
             ],
             [
              0.2222222222222222,
              "#7201a8"
             ],
             [
              0.3333333333333333,
              "#9c179e"
             ],
             [
              0.4444444444444444,
              "#bd3786"
             ],
             [
              0.5555555555555556,
              "#d8576b"
             ],
             [
              0.6666666666666666,
              "#ed7953"
             ],
             [
              0.7777777777777778,
              "#fb9f3a"
             ],
             [
              0.8888888888888888,
              "#fdca26"
             ],
             [
              1,
              "#f0f921"
             ]
            ],
            "type": "heatmapgl"
           }
          ],
          "histogram": [
           {
            "marker": {
             "pattern": {
              "fillmode": "overlay",
              "size": 10,
              "solidity": 0.2
             }
            },
            "type": "histogram"
           }
          ],
          "histogram2d": [
           {
            "colorbar": {
             "outlinewidth": 0,
             "ticks": ""
            },
            "colorscale": [
             [
              0,
              "#0d0887"
             ],
             [
              0.1111111111111111,
              "#46039f"
             ],
             [
              0.2222222222222222,
              "#7201a8"
             ],
             [
              0.3333333333333333,
              "#9c179e"
             ],
             [
              0.4444444444444444,
              "#bd3786"
             ],
             [
              0.5555555555555556,
              "#d8576b"
             ],
             [
              0.6666666666666666,
              "#ed7953"
             ],
             [
              0.7777777777777778,
              "#fb9f3a"
             ],
             [
              0.8888888888888888,
              "#fdca26"
             ],
             [
              1,
              "#f0f921"
             ]
            ],
            "type": "histogram2d"
           }
          ],
          "histogram2dcontour": [
           {
            "colorbar": {
             "outlinewidth": 0,
             "ticks": ""
            },
            "colorscale": [
             [
              0,
              "#0d0887"
             ],
             [
              0.1111111111111111,
              "#46039f"
             ],
             [
              0.2222222222222222,
              "#7201a8"
             ],
             [
              0.3333333333333333,
              "#9c179e"
             ],
             [
              0.4444444444444444,
              "#bd3786"
             ],
             [
              0.5555555555555556,
              "#d8576b"
             ],
             [
              0.6666666666666666,
              "#ed7953"
             ],
             [
              0.7777777777777778,
              "#fb9f3a"
             ],
             [
              0.8888888888888888,
              "#fdca26"
             ],
             [
              1,
              "#f0f921"
             ]
            ],
            "type": "histogram2dcontour"
           }
          ],
          "mesh3d": [
           {
            "colorbar": {
             "outlinewidth": 0,
             "ticks": ""
            },
            "type": "mesh3d"
           }
          ],
          "parcoords": [
           {
            "line": {
             "colorbar": {
              "outlinewidth": 0,
              "ticks": ""
             }
            },
            "type": "parcoords"
           }
          ],
          "pie": [
           {
            "automargin": true,
            "type": "pie"
           }
          ],
          "scatter": [
           {
            "marker": {
             "colorbar": {
              "outlinewidth": 0,
              "ticks": ""
             }
            },
            "type": "scatter"
           }
          ],
          "scatter3d": [
           {
            "line": {
             "colorbar": {
              "outlinewidth": 0,
              "ticks": ""
             }
            },
            "marker": {
             "colorbar": {
              "outlinewidth": 0,
              "ticks": ""
             }
            },
            "type": "scatter3d"
           }
          ],
          "scattercarpet": [
           {
            "marker": {
             "colorbar": {
              "outlinewidth": 0,
              "ticks": ""
             }
            },
            "type": "scattercarpet"
           }
          ],
          "scattergeo": [
           {
            "marker": {
             "colorbar": {
              "outlinewidth": 0,
              "ticks": ""
             }
            },
            "type": "scattergeo"
           }
          ],
          "scattergl": [
           {
            "marker": {
             "colorbar": {
              "outlinewidth": 0,
              "ticks": ""
             }
            },
            "type": "scattergl"
           }
          ],
          "scattermapbox": [
           {
            "marker": {
             "colorbar": {
              "outlinewidth": 0,
              "ticks": ""
             }
            },
            "type": "scattermapbox"
           }
          ],
          "scatterpolar": [
           {
            "marker": {
             "colorbar": {
              "outlinewidth": 0,
              "ticks": ""
             }
            },
            "type": "scatterpolar"
           }
          ],
          "scatterpolargl": [
           {
            "marker": {
             "colorbar": {
              "outlinewidth": 0,
              "ticks": ""
             }
            },
            "type": "scatterpolargl"
           }
          ],
          "scatterternary": [
           {
            "marker": {
             "colorbar": {
              "outlinewidth": 0,
              "ticks": ""
             }
            },
            "type": "scatterternary"
           }
          ],
          "surface": [
           {
            "colorbar": {
             "outlinewidth": 0,
             "ticks": ""
            },
            "colorscale": [
             [
              0,
              "#0d0887"
             ],
             [
              0.1111111111111111,
              "#46039f"
             ],
             [
              0.2222222222222222,
              "#7201a8"
             ],
             [
              0.3333333333333333,
              "#9c179e"
             ],
             [
              0.4444444444444444,
              "#bd3786"
             ],
             [
              0.5555555555555556,
              "#d8576b"
             ],
             [
              0.6666666666666666,
              "#ed7953"
             ],
             [
              0.7777777777777778,
              "#fb9f3a"
             ],
             [
              0.8888888888888888,
              "#fdca26"
             ],
             [
              1,
              "#f0f921"
             ]
            ],
            "type": "surface"
           }
          ],
          "table": [
           {
            "cells": {
             "fill": {
              "color": "#EBF0F8"
             },
             "line": {
              "color": "white"
             }
            },
            "header": {
             "fill": {
              "color": "#C8D4E3"
             },
             "line": {
              "color": "white"
             }
            },
            "type": "table"
           }
          ]
         },
         "layout": {
          "annotationdefaults": {
           "arrowcolor": "#2a3f5f",
           "arrowhead": 0,
           "arrowwidth": 1
          },
          "autotypenumbers": "strict",
          "coloraxis": {
           "colorbar": {
            "outlinewidth": 0,
            "ticks": ""
           }
          },
          "colorscale": {
           "diverging": [
            [
             0,
             "#8e0152"
            ],
            [
             0.1,
             "#c51b7d"
            ],
            [
             0.2,
             "#de77ae"
            ],
            [
             0.3,
             "#f1b6da"
            ],
            [
             0.4,
             "#fde0ef"
            ],
            [
             0.5,
             "#f7f7f7"
            ],
            [
             0.6,
             "#e6f5d0"
            ],
            [
             0.7,
             "#b8e186"
            ],
            [
             0.8,
             "#7fbc41"
            ],
            [
             0.9,
             "#4d9221"
            ],
            [
             1,
             "#276419"
            ]
           ],
           "sequential": [
            [
             0,
             "#0d0887"
            ],
            [
             0.1111111111111111,
             "#46039f"
            ],
            [
             0.2222222222222222,
             "#7201a8"
            ],
            [
             0.3333333333333333,
             "#9c179e"
            ],
            [
             0.4444444444444444,
             "#bd3786"
            ],
            [
             0.5555555555555556,
             "#d8576b"
            ],
            [
             0.6666666666666666,
             "#ed7953"
            ],
            [
             0.7777777777777778,
             "#fb9f3a"
            ],
            [
             0.8888888888888888,
             "#fdca26"
            ],
            [
             1,
             "#f0f921"
            ]
           ],
           "sequentialminus": [
            [
             0,
             "#0d0887"
            ],
            [
             0.1111111111111111,
             "#46039f"
            ],
            [
             0.2222222222222222,
             "#7201a8"
            ],
            [
             0.3333333333333333,
             "#9c179e"
            ],
            [
             0.4444444444444444,
             "#bd3786"
            ],
            [
             0.5555555555555556,
             "#d8576b"
            ],
            [
             0.6666666666666666,
             "#ed7953"
            ],
            [
             0.7777777777777778,
             "#fb9f3a"
            ],
            [
             0.8888888888888888,
             "#fdca26"
            ],
            [
             1,
             "#f0f921"
            ]
           ]
          },
          "colorway": [
           "#636efa",
           "#EF553B",
           "#00cc96",
           "#ab63fa",
           "#FFA15A",
           "#19d3f3",
           "#FF6692",
           "#B6E880",
           "#FF97FF",
           "#FECB52"
          ],
          "font": {
           "color": "#2a3f5f"
          },
          "geo": {
           "bgcolor": "white",
           "lakecolor": "white",
           "landcolor": "#E5ECF6",
           "showlakes": true,
           "showland": true,
           "subunitcolor": "white"
          },
          "hoverlabel": {
           "align": "left"
          },
          "hovermode": "closest",
          "mapbox": {
           "style": "light"
          },
          "paper_bgcolor": "white",
          "plot_bgcolor": "#E5ECF6",
          "polar": {
           "angularaxis": {
            "gridcolor": "white",
            "linecolor": "white",
            "ticks": ""
           },
           "bgcolor": "#E5ECF6",
           "radialaxis": {
            "gridcolor": "white",
            "linecolor": "white",
            "ticks": ""
           }
          },
          "scene": {
           "xaxis": {
            "backgroundcolor": "#E5ECF6",
            "gridcolor": "white",
            "gridwidth": 2,
            "linecolor": "white",
            "showbackground": true,
            "ticks": "",
            "zerolinecolor": "white"
           },
           "yaxis": {
            "backgroundcolor": "#E5ECF6",
            "gridcolor": "white",
            "gridwidth": 2,
            "linecolor": "white",
            "showbackground": true,
            "ticks": "",
            "zerolinecolor": "white"
           },
           "zaxis": {
            "backgroundcolor": "#E5ECF6",
            "gridcolor": "white",
            "gridwidth": 2,
            "linecolor": "white",
            "showbackground": true,
            "ticks": "",
            "zerolinecolor": "white"
           }
          },
          "shapedefaults": {
           "line": {
            "color": "#2a3f5f"
           }
          },
          "ternary": {
           "aaxis": {
            "gridcolor": "white",
            "linecolor": "white",
            "ticks": ""
           },
           "baxis": {
            "gridcolor": "white",
            "linecolor": "white",
            "ticks": ""
           },
           "bgcolor": "#E5ECF6",
           "caxis": {
            "gridcolor": "white",
            "linecolor": "white",
            "ticks": ""
           }
          },
          "title": {
           "x": 0.05
          },
          "xaxis": {
           "automargin": true,
           "gridcolor": "white",
           "linecolor": "white",
           "ticks": "",
           "title": {
            "standoff": 15
           },
           "zerolinecolor": "white",
           "zerolinewidth": 2
          },
          "yaxis": {
           "automargin": true,
           "gridcolor": "white",
           "linecolor": "white",
           "ticks": "",
           "title": {
            "standoff": 15
           },
           "zerolinecolor": "white",
           "zerolinewidth": 2
          }
         }
        },
        "title": {
         "text": "STDs over epochs for Gradiometers",
         "x": 0.5,
         "xanchor": "center",
         "y": 0.85,
         "yanchor": "top"
        },
        "xaxis": {
         "rangeslider": {
          "visible": true
         },
         "tickmode": "array",
         "ticktext": [
          "MEG0112",
          "MEG0113",
          "MEG0122",
          "MEG0123",
          "MEG0132",
          "MEG0133",
          "MEG0142",
          "MEG0143",
          "MEG0212",
          "MEG0213",
          "MEG0222",
          "MEG0223",
          "MEG0232",
          "MEG0233",
          "MEG0242",
          "MEG0243",
          "MEG0312",
          "MEG0313",
          "MEG0322",
          "MEG0323",
          "MEG0332",
          "MEG0333",
          "MEG0342",
          "MEG0343",
          "MEG0412",
          "MEG0413",
          "MEG0422",
          "MEG0423",
          "MEG0432",
          "MEG0433",
          "MEG0442",
          "MEG0443",
          "MEG0512",
          "MEG0513",
          "MEG0522",
          "MEG0523",
          "MEG0532",
          "MEG0533",
          "MEG0542",
          "MEG0543",
          "MEG0612",
          "MEG0613",
          "MEG0622",
          "MEG0623",
          "MEG0632",
          "MEG0633",
          "MEG0642",
          "MEG0643",
          "MEG0712",
          "MEG0713",
          "MEG0722",
          "MEG0723",
          "MEG0732",
          "MEG0733",
          "MEG0742",
          "MEG0743",
          "MEG0812",
          "MEG0813",
          "MEG0822",
          "MEG0823",
          "MEG0912",
          "MEG0913",
          "MEG0922",
          "MEG0923",
          "MEG0932",
          "MEG0933",
          "MEG0942",
          "MEG0943",
          "MEG1012",
          "MEG1013",
          "MEG1022",
          "MEG1023",
          "MEG1032",
          "MEG1033",
          "MEG1042",
          "MEG1043",
          "MEG1112",
          "MEG1113",
          "MEG1122",
          "MEG1123",
          "MEG1132",
          "MEG1133",
          "MEG1142",
          "MEG1143",
          "MEG1212",
          "MEG1213",
          "MEG1222",
          "MEG1223",
          "MEG1232",
          "MEG1233",
          "MEG1242",
          "MEG1243",
          "MEG1312",
          "MEG1313",
          "MEG1322",
          "MEG1323",
          "MEG1332",
          "MEG1333",
          "MEG1342",
          "MEG1343",
          "MEG1412",
          "MEG1413",
          "MEG1422",
          "MEG1423",
          "MEG1432",
          "MEG1433",
          "MEG1442",
          "MEG1443",
          "MEG1512",
          "MEG1513",
          "MEG1522",
          "MEG1523",
          "MEG1532",
          "MEG1533",
          "MEG1542",
          "MEG1543",
          "MEG1612",
          "MEG1613",
          "MEG1622",
          "MEG1623",
          "MEG1632",
          "MEG1633",
          "MEG1642",
          "MEG1643",
          "MEG1712",
          "MEG1713",
          "MEG1722",
          "MEG1723",
          "MEG1732",
          "MEG1733",
          "MEG1742",
          "MEG1743",
          "MEG1812",
          "MEG1813",
          "MEG1822",
          "MEG1823",
          "MEG1832",
          "MEG1833",
          "MEG1842",
          "MEG1843",
          "MEG1912",
          "MEG1913",
          "MEG1922",
          "MEG1923",
          "MEG1932",
          "MEG1933",
          "MEG1942",
          "MEG1943",
          "MEG2012",
          "MEG2013",
          "MEG2022",
          "MEG2023",
          "MEG2032",
          "MEG2033",
          "MEG2042",
          "MEG2043",
          "MEG2112",
          "MEG2113",
          "MEG2122",
          "MEG2123",
          "MEG2132",
          "MEG2133",
          "MEG2142",
          "MEG2143",
          "MEG2212",
          "MEG2213",
          "MEG2222",
          "MEG2223",
          "MEG2232",
          "MEG2233",
          "MEG2242",
          "MEG2243",
          "MEG2312",
          "MEG2313",
          "MEG2322",
          "MEG2323",
          "MEG2332",
          "MEG2333",
          "MEG2342",
          "MEG2343",
          "MEG2412",
          "MEG2413",
          "MEG2422",
          "MEG2423",
          "MEG2432",
          "MEG2433",
          "MEG2442",
          "MEG2443",
          "MEG2512",
          "MEG2513",
          "MEG2522",
          "MEG2523",
          "MEG2532",
          "MEG2533",
          "MEG2542",
          "MEG2543",
          "MEG2612",
          "MEG2613",
          "MEG2622",
          "MEG2623",
          "MEG2632",
          "MEG2633",
          "MEG2642",
          "MEG2643"
         ],
         "tickvals": [
          0,
          1,
          2,
          3,
          4,
          5,
          6,
          7,
          8,
          9,
          10,
          11,
          12,
          13,
          14,
          15,
          16,
          17,
          18,
          19,
          20,
          21,
          22,
          23,
          24,
          25,
          26,
          27,
          28,
          29,
          30,
          31,
          32,
          33,
          34,
          35,
          36,
          37,
          38,
          39,
          40,
          41,
          42,
          43,
          44,
          45,
          46,
          47,
          48,
          49,
          50,
          51,
          52,
          53,
          54,
          55,
          56,
          57,
          58,
          59,
          60,
          61,
          62,
          63,
          64,
          65,
          66,
          67,
          68,
          69,
          70,
          71,
          72,
          73,
          74,
          75,
          76,
          77,
          78,
          79,
          80,
          81,
          82,
          83,
          84,
          85,
          86,
          87,
          88,
          89,
          90,
          91,
          92,
          93,
          94,
          95,
          96,
          97,
          98,
          99,
          100,
          101,
          102,
          103,
          104,
          105,
          106,
          107,
          108,
          109,
          110,
          111,
          112,
          113,
          114,
          115,
          116,
          117,
          118,
          119,
          120,
          121,
          122,
          123,
          124,
          125,
          126,
          127,
          128,
          129,
          130,
          131,
          132,
          133,
          134,
          135,
          136,
          137,
          138,
          139,
          140,
          141,
          142,
          143,
          144,
          145,
          146,
          147,
          148,
          149,
          150,
          151,
          152,
          153,
          154,
          155,
          156,
          157,
          158,
          159,
          160,
          161,
          162,
          163,
          164,
          165,
          166,
          167,
          168,
          169,
          170,
          171,
          172,
          173,
          174,
          175,
          176,
          177,
          178,
          179,
          180,
          181,
          182,
          183,
          184,
          185,
          186,
          187,
          188,
          189,
          190,
          191,
          192,
          193,
          194,
          195,
          196,
          197,
          198,
          199,
          200,
          201,
          202,
          203
         ]
        },
        "yaxis": {
         "exponentformat": "e",
         "showexponent": "all",
         "title": {
          "text": "standard deviation in T/m"
         }
        }
       }
      }
     },
     "metadata": {},
     "output_type": "display_data"
    }
   ],
   "source": [
    "fig_g_std_epoch, fig_path_g_std_epoch=boxplot_std_channel_epoch_hovering_plotly(df_mg=df_std_grads, tit='Gradiometers', sid='1')"
   ]
  },
  {
   "cell_type": "code",
   "execution_count": 18,
   "metadata": {},
   "outputs": [],
   "source": [
    "# Create an html report:\n",
    "# The actual plotly tutorial was outdated. \n",
    "# better version here: https://towardsdatascience.com/automated-interactive-reports-with-plotly-and-python-88dbe3aae5\n",
    "\n",
    "sid='1'\n",
    "\n",
    "with open(fig_path_m, 'r') as f1m:\n",
    "    fig1m = f1m.read()\n",
    "\n",
    "with open(fig_path_g, 'r') as f1g:\n",
    "    fig1g = f1g.read()\n",
    "    \n",
    "with open(fig_path_m_std_epoch, 'r') as f2m:\n",
    "    fig2m = f2m.read()\n",
    "\n",
    "with open(fig_path_g_std_epoch, 'r') as f2g:\n",
    "    fig2g = f2g.read()\n",
    "    \n",
    "html_string = '''\n",
    "<!doctype html>\n",
    "<html>\n",
    "    <head>\n",
    "        <meta charset=\"UTF-8\">\n",
    "        <title>MEG QC: RMSE Report</title>\n",
    "        <style>body{ margin:0 100;}</style>\n",
    "    </head>\n",
    "    \n",
    "    <body style=\"font-family: Arial\">\n",
    "        <center>\n",
    "        <h1>MEG data quality analysis report</h1>\n",
    "        <br></br>\n",
    "        <!-- *** Section 1 *** --->\n",
    "        <h2>Standard deviation over the entire data</h2>\n",
    "        ''' + fig1m + '''\n",
    "        <p>graph description...</p>\n",
    "\n",
    "        <br></br>\n",
    "        ''' + fig1g + '''\n",
    "        <p>graph description...</p>\n",
    "         \n",
    "        <!-- *** Section 2 *** --->\n",
    "        <br></br>\n",
    "        <br></br>\n",
    "        <br></br>\n",
    "        <h2>Standard deviation over epochs</h2>\n",
    "        ''' + fig2m + '''\n",
    "        <p>graph description...</p>\n",
    "        <br></br>\n",
    "        ''' + fig2g + '''\n",
    "        <p>graph description...</p>\n",
    "        </center>\n",
    "    \n",
    "    </body>\n",
    "</html>'''\n",
    "\n",
    "with open('../derivatives/sub-'+sid+'/megqc/reports/report_RMSE.html', 'w', encoding = 'utf8') as f:\n",
    "    f.write(html_string)"
   ]
  }
 ],
 "metadata": {
  "interpreter": {
   "hash": "d401ab1bf6dd7bb97662b0feb1321a641d60d04842bfa92b47f7871360972b5d"
  },
  "kernelspec": {
   "display_name": "Python 3.9.7 ('mne_new')",
   "language": "python",
   "name": "python3"
  },
  "language_info": {
   "codemirror_mode": {
    "name": "ipython",
    "version": 3
   },
   "file_extension": ".py",
   "mimetype": "text/x-python",
   "name": "python",
   "nbconvert_exporter": "python",
   "pygments_lexer": "ipython3",
   "version": "3.9.7"
  },
  "orig_nbformat": 4
 },
 "nbformat": 4,
 "nbformat_minor": 2
}
