{
 "cells": [
  {
   "cell_type": "code",
   "execution_count": 17,
   "metadata": {},
   "outputs": [],
   "source": [
    "#SINCE NOW ALL FILES ARE IN THE SEPARATE FUNCTIONS FOLDER, ALL PATH WERE CHANGED SO THAT THEY GO 1 FOLDER UP.\n",
    "#example: '../derivatives/sub' instead of './derivatives/sub'\n",
    "\n",
    "\n",
    "#Load data, filter, make folders\n",
    "import numpy as np\n",
    "import plotly as plotly\n",
    "import plotly.graph_objects as go\n",
    "import pandas as pd\n",
    "import chart_studio.plotly as py\n",
    "\n",
    "from main_meg_qc import initial_stuff\n"
   ]
  },
  {
   "cell_type": "code",
   "execution_count": 18,
   "metadata": {},
   "outputs": [
    {
     "name": "stdout",
     "output_type": "stream",
     "text": [
      "Opening raw data file ../data/sub_HT05ND16/210811/mikado-1.fif/...\n",
      "    Read a total of 8 projection items:\n",
      "        magn8_iasoff_68deg.fif : PCA-v1 (1 x 306)  idle\n",
      "        magn8_iasoff_68deg.fif : PCA-v2 (1 x 306)  idle\n",
      "        magn8_iasoff_68deg.fif : PCA-v3 (1 x 306)  idle\n",
      "        magn8_iasoff_68deg.fif : PCA-v4 (1 x 306)  idle\n",
      "        magn8_iasoff_68deg.fif : PCA-v5 (1 x 306)  idle\n",
      "        magn8_iasoff_68deg.fif : PCA-v6 (1 x 306)  idle\n",
      "        magn8_iasoff_68deg.fif : PCA-v7 (1 x 306)  idle\n",
      "        magn8_iasoff_68deg.fif : PCA-v8 (1 x 306)  idle\n",
      "    Range : 1809000 ... 3375999 =   1809.000 ...  3375.999 secs\n",
      "Ready.\n",
      "Opening raw data file /Users/jenya/Local Storage/Job Uni Rieger lab/MEG QC code/Functions/../data/sub_HT05ND16/210811/mikado-2.fif...\n",
      "    Read a total of 8 projection items:\n",
      "        magn8_iasoff_68deg.fif : PCA-v1 (1 x 306)  idle\n",
      "        magn8_iasoff_68deg.fif : PCA-v2 (1 x 306)  idle\n",
      "        magn8_iasoff_68deg.fif : PCA-v3 (1 x 306)  idle\n",
      "        magn8_iasoff_68deg.fif : PCA-v4 (1 x 306)  idle\n",
      "        magn8_iasoff_68deg.fif : PCA-v5 (1 x 306)  idle\n",
      "        magn8_iasoff_68deg.fif : PCA-v6 (1 x 306)  idle\n",
      "        magn8_iasoff_68deg.fif : PCA-v7 (1 x 306)  idle\n",
      "        magn8_iasoff_68deg.fif : PCA-v8 (1 x 306)  idle\n",
      "    Range : 3376000 ... 4942999 =   3376.000 ...  4942.999 secs\n",
      "Ready.\n",
      "Opening raw data file /Users/jenya/Local Storage/Job Uni Rieger lab/MEG QC code/Functions/../data/sub_HT05ND16/210811/mikado-3.fif...\n",
      "    Read a total of 8 projection items:\n",
      "        magn8_iasoff_68deg.fif : PCA-v1 (1 x 306)  idle\n",
      "        magn8_iasoff_68deg.fif : PCA-v2 (1 x 306)  idle\n",
      "        magn8_iasoff_68deg.fif : PCA-v3 (1 x 306)  idle\n",
      "        magn8_iasoff_68deg.fif : PCA-v4 (1 x 306)  idle\n",
      "        magn8_iasoff_68deg.fif : PCA-v5 (1 x 306)  idle\n",
      "        magn8_iasoff_68deg.fif : PCA-v6 (1 x 306)  idle\n",
      "        magn8_iasoff_68deg.fif : PCA-v7 (1 x 306)  idle\n",
      "        magn8_iasoff_68deg.fif : PCA-v8 (1 x 306)  idle\n",
      "    Range : 4943000 ... 5198999 =   4943.000 ...  5198.999 secs\n",
      "Ready.\n",
      "['../derivatives', '../derivatives/sub-1', '../derivatives/sub-1/megqc', '../derivatives/sub-1/megqc/csv files', '../derivatives/sub-1/megqc/figures']\n"
     ]
    },
    {
     "name": "stderr",
     "output_type": "stream",
     "text": [
      "/Users/jenya/Local Storage/Job Uni Rieger lab/MEG QC code/Functions/data_load_and_folders.py:8: RuntimeWarning:\n",
      "\n",
      "This filename (../data/sub_HT05ND16/210811/mikado-1.fif/) does not conform to MNE naming conventions. All raw files should end with raw.fif, raw_sss.fif, raw_tsss.fif, _meg.fif, _eeg.fif, _ieeg.fif, raw.fif.gz, raw_sss.fif.gz, raw_tsss.fif.gz, _meg.fif.gz, _eeg.fif.gz or _ieeg.fif.gz\n",
      "\n"
     ]
    },
    {
     "name": "stdout",
     "output_type": "stream",
     "text": [
      "Reading 0 ... 300000  =      0.000 ...   300.000 secs...\n",
      "Filtering raw data in 1 contiguous segment\n",
      "Setting up band-pass filter from 0.5 - 1e+02 Hz\n",
      "\n",
      "IIR filter parameters\n",
      "---------------------\n",
      "Butterworth bandpass zero-phase (two-pass forward and reverse) non-causal filter:\n",
      "- Filter order 16 (effective, after forward-backward)\n",
      "- Cutoffs at 0.50, 100.00 Hz: -6.02, -6.02 dB\n",
      "\n",
      "Trigger channel has a non-zero initial value of 18 (consider using initial_event=True to detect this event)\n",
      "301 events found\n",
      "Event IDs: [    9    19    21    23    27    31 16393 16402 16403 16405 16411 32741\n",
      " 32746 32749 32750 32759]\n"
     ]
    },
    {
     "name": "stderr",
     "output_type": "stream",
     "text": [
      "/Users/jenya/Local Storage/Job Uni Rieger lab/MEG QC code/Functions/data_load_and_folders.py:64: RuntimeWarning:\n",
      "\n",
      "Trigger channel contains negative values, using absolute value. If data were acquired on a Neuromag system with STI016 active, consider using uint_cast=True to work around an acquisition bug\n",
      "\n"
     ]
    },
    {
     "name": "stdout",
     "output_type": "stream",
     "text": [
      "Trigger channel has a non-zero initial value of 18 (consider using initial_event=True to detect this event)\n",
      "253 events found\n",
      "Event IDs: [    9    19    20    21    22    23    27    31 16393 16402 16403 16405\n",
      " 16411 32741 32746 32749 32750 32759]\n",
      "Trigger channel has a non-zero initial value of 18 (consider using initial_event=True to detect this event)\n",
      "8 events found\n",
      "Event IDs: [ 9 19 20 21 22]\n",
      "Not setting metadata\n",
      "Not setting metadata\n",
      "8 matching events found\n",
      "No baseline correction applied\n",
      "Created an SSP operator (subspace dimension = 8)\n",
      "8 projection items activated\n",
      "Loading data for 8 events and 1201 original time points ...\n",
      "0 bad epochs dropped\n",
      "Not setting metadata\n",
      "Not setting metadata\n",
      "8 matching events found\n",
      "No baseline correction applied\n",
      "8 projection items activated\n",
      "Loading data for 8 events and 1201 original time points ...\n",
      "0 bad epochs dropped\n"
     ]
    },
    {
     "name": "stderr",
     "output_type": "stream",
     "text": [
      "/Users/jenya/Local Storage/Job Uni Rieger lab/MEG QC code/Functions/data_load_and_folders.py:64: RuntimeWarning:\n",
      "\n",
      "Trigger channel contains negative values, using absolute value. If data were acquired on a Neuromag system with STI016 active, consider using uint_cast=True to work around an acquisition bug\n",
      "\n",
      "/Users/jenya/Local Storage/Job Uni Rieger lab/MEG QC code/Functions/data_load_and_folders.py:79: RuntimeWarning:\n",
      "\n",
      "Trigger channel contains negative values, using absolute value. If data were acquired on a Neuromag system with STI016 active, consider using uint_cast=True to work around an acquisition bug\n",
      "\n"
     ]
    }
   ],
   "source": [
    "\n",
    "n_events, df_epochs_mags, df_epochs_grads, epochs_mags, epochs_grads, mags, grads, filtered_d, filtered_d_resamp, raw_cropped, raw=initial_stuff()"
   ]
  },
  {
   "cell_type": "code",
   "execution_count": 19,
   "metadata": {},
   "outputs": [],
   "source": [
    "#%% RMSE - general function to use in other functions\n",
    "#STD CALCULATION IS MUCH LESS COdE BUT TAKES LONGER THAN RMSE\n",
    "\n",
    "def RMSE(data_m_or_g: np.array or list) -> np.array:\n",
    "\n",
    "    data_m_or_g=np.array(data_m_or_g) #convert to numpy array if it s not\n",
    "    rmse_list=[]\n",
    "\n",
    "    data_minentions=len(data_m_or_g.shape)\n",
    "    if data_minentions==2: #if the data has raws and columns - iterate over raws. if input is 1 dimentional - juat calculate the whole thing.\n",
    "        for i, dat_raw in enumerate (data_m_or_g):\n",
    "            y_actual=dat_raw\n",
    "            y_pred=y_actual.mean()\n",
    "            rmse_data=np.sqrt(((y_pred - y_actual) ** 2).mean())\n",
    "            rmse_list.append(rmse_data)\n",
    "    elif data_minentions==1:\n",
    "        y_actual=data_m_or_g\n",
    "        y_pred=data_m_or_g.mean()\n",
    "        rmse_data=np.sqrt(((y_pred - y_actual) ** 2).mean())\n",
    "        rmse_list.append(rmse_data)\n",
    "    else:\n",
    "        print('Only 1 or 2 dimentional data is accepted, not more!')\n",
    "        return\n",
    "\n",
    "    rmse_nd=np.array(rmse_list) #conver to numpy array\n",
    "\n",
    "    return rmse_nd"
   ]
  },
  {
   "cell_type": "code",
   "execution_count": 20,
   "metadata": {},
   "outputs": [],
   "source": [
    "selected_mags = [item[1] for item in mags]\n",
    "selected_grads = [item[1] for item in grads]\n",
    "data_mags, times = filtered_d_resamp[selected_mags, :]  \n",
    "data_grads, times = filtered_d_resamp[selected_grads, :]  "
   ]
  },
  {
   "cell_type": "code",
   "execution_count": 21,
   "metadata": {},
   "outputs": [],
   "source": [
    "# Root mean squared error calculation (or STD - same result) over ALL data (not epoched):\n",
    "\n",
    "def RMSE_meg_all(data, mags: list, grads: list, std_lvl: int): #, min_duration_event=1, epoch_tmin=-0.2, epoch_tmax=1):\n",
    "    #give path to directory and then it should auto find the data file when bids compliant.\n",
    "    ##maybe distinguish between negative and positive std_lvl\n",
    "\n",
    "    #sid - subject Id. Has to be a string , like '1'\n",
    "    #mags, grads - channels like [name, index]\n",
    "  \n",
    "\n",
    "    # Separate data for mags and grads in 2 arrays.\n",
    "    selected_mags = [item[1] for item in mags]\n",
    "    selected_grads = [item[1] for item in grads]\n",
    "    data_mags, times = data[selected_mags, :]  \n",
    "    data_grads, times = data[selected_grads, :]  \n",
    "\n",
    "    # %% Calculate STD or RMSE of each channel\n",
    "\n",
    "    #Calculate RMSE for each channel (separated mags and grads) - for the entire time duration:\n",
    "    std_mags = RMSE(data_mags)\n",
    "    std_grads = RMSE(data_grads)\n",
    "\n",
    "    #STD (if wanna use insted of RMSE. it will exactly replace the RMSE function above):\n",
    "    #std_mags=np.std(data_mags, axis=1) #calculate std of all magnetometers (along second dimantion)\n",
    "    #std_grads=np.std(data_grads, axis=1) #calculate std of all gradiometers (along second dimantion)\n",
    "\n",
    "\n",
    "    # Check if channel data is within 1 std over all channels.\n",
    "    # COMMENT: can use -3 to 3 (or other number) std istead of -1/+1 std, but this can adjusted later. \n",
    "    # 1 std is too narrow, gives way too many bad channels.\n",
    "\n",
    "    std_std_mags=np.std(std_mags)\n",
    "    std_std_grads=np.std(std_grads)\n",
    "\n",
    "    mean_std_mags=np.mean(std_mags)\n",
    "    mean_std_grads=np.mean(std_grads)\n",
    "\n",
    "    ch_ind_large_std_mags= np.where(std_mags > mean_std_mags+std_lvl*std_std_mags) #find magn channels with largest std\n",
    "    ch_ind_large_std_grads= np.where(std_grads > mean_std_grads+std_lvl*std_std_grads) \n",
    "    ch_ind_small_std_mags= np.where(std_mags < mean_std_mags-std_lvl*std_std_mags) #find magn channels with smallest std\n",
    "    ch_ind_small_std_grads= np.where(std_grads < mean_std_grads-std_lvl*std_std_grads)\n",
    "\n",
    "    magn_channel_big_std=np.array(mags)[ch_ind_large_std_mags] #find the name of the magn with largest std \n",
    "    grad_channel_big_std=np.array(grads)[ch_ind_large_std_grads]\n",
    "    magn_channel_small_std=np.array(mags)[ch_ind_small_std_mags]\n",
    "    grad_channel_small_std=np.array(grads)[ch_ind_small_std_grads]\n",
    "\n",
    "\n",
    "    #This function simply makes a list of tuples. Each tuple is: name of channel, std value.\n",
    "    #Each tuple represents channel with too big or too small std, calculated over whole data.\n",
    "\n",
    "    def Channels_with_nonnormal_stds(ch_ind, all_stds_m_or_g, channels_big_std_names):\n",
    "        channel_big_std_vals=all_stds_m_or_g[ch_ind]\n",
    "        nonnormal_std_with_value=[]\n",
    "        for id, val in enumerate (ch_ind[0]):\n",
    "            new_tuple=(channels_big_std_names[id][0],  channel_big_std_vals[id])\n",
    "            nonnormal_std_with_value.append(new_tuple)\n",
    "        return(nonnormal_std_with_value)\n",
    "\n",
    "    #Apply function above:\n",
    "    m_big_std_with_value=Channels_with_nonnormal_stds(ch_ind_large_std_mags, std_mags, magn_channel_big_std)\n",
    "    g_big_std_with_value=Channels_with_nonnormal_stds(ch_ind_large_std_grads, std_grads, grad_channel_big_std)\n",
    "    m_small_std_with_value=Channels_with_nonnormal_stds(ch_ind_small_std_mags, std_mags, magn_channel_small_std)\n",
    "    g_small_std_with_value=Channels_with_nonnormal_stds(ch_ind_small_std_grads, std_grads, grad_channel_small_std)\n",
    "        \n",
    "    #Return the channel names with STD over the set STD level and under the set negative STD level.\n",
    "    return(m_big_std_with_value, g_big_std_with_value, m_small_std_with_value, g_small_std_with_value, std_mags, std_grads)\n"
   ]
  },
  {
   "cell_type": "code",
   "execution_count": 22,
   "metadata": {},
   "outputs": [
    {
     "name": "stdout",
     "output_type": "stream",
     "text": [
      "Magnetometers with high std:\n",
      "[('MEG0621', 4.965338372879145e-13), ('MEG1021', 4.852992071039414e-13), ('MEG1031', 5.004345361972638e-13), ('MEG1041', 4.939759752048587e-13), ('MEG1421', 5.678604995893133e-13), ('MEG1431', 5.476084157649638e-13), ('MEG1741', 5.282172136198286e-13), ('MEG2121', 5.018134686600477e-13), ('MEG2131', 5.860882537731944e-13), ('MEG2141', 5.460444751629966e-13), ('MEG2331', 5.002680469283238e-13), ('MEG2531', 5.683082618711569e-13), ('MEG2541', 5.925124304516582e-13), ('MEG2621', 5.364787072987134e-13), ('MEG2631', 5.466366791474147e-13)]\n",
      "Gradiometers with high std:\n",
      "[('MEG1023', 7.179247707983359e-12), ('MEG1323', 6.757557360268088e-12), ('MEG1412', 6.777417001822614e-12), ('MEG1442', 6.795936392344075e-12), ('MEG1713', 7.471548646598566e-12), ('MEG1742', 7.777625918922468e-12), ('MEG1743', 8.688099976270316e-12), ('MEG1813', 7.323041849074902e-12), ('MEG1922', 7.254700915844952e-12), ('MEG1923', 6.853831580367702e-12), ('MEG1932', 6.896523110045817e-12), ('MEG1933', 9.854347047499332e-12), ('MEG2112', 7.33556825323922e-12), ('MEG2113', 6.906380096725283e-12), ('MEG2122', 7.485778276978664e-12), ('MEG2123', 7.851505509055003e-12), ('MEG2132', 7.733216376877372e-12), ('MEG2133', 9.852350676783212e-12), ('MEG2142', 1.1011465778506496e-11), ('MEG2143', 7.914098875748662e-12), ('MEG2323', 6.9919399404040855e-12), ('MEG2332', 7.310619195440329e-12), ('MEG2333', 8.879327559451373e-12), ('MEG2342', 6.77302923469043e-12), ('MEG2512', 7.323985870256048e-12), ('MEG2513', 8.418419866965335e-12), ('MEG2522', 7.245823122411884e-12), ('MEG2533', 8.487226203982444e-12), ('MEG2542', 7.2267061777520435e-12), ('MEG2543', 8.861947868363884e-12), ('MEG2612', 7.044881351854446e-12), ('MEG2613', 6.78888195557843e-12), ('MEG2623', 6.9611438305888246e-12), ('MEG2633', 7.538998586842464e-12)]\n"
     ]
    }
   ],
   "source": [
    "#Try: USING RESAMPLED DATA HERE\n",
    "\n",
    "m_big_std_with_value, g_big_std_with_value, m_small_std_with_value, g_small_std_with_value, rmse_mags, rmse_grads=RMSE_meg_all(data=filtered_d_resamp, \n",
    "    mags=mags, grads=grads, std_lvl=1)\n",
    "\n",
    "print('Magnetometers with high std:')\n",
    "print(m_big_std_with_value)\n",
    "\n",
    "print('Gradiometers with high std:')\n",
    "print(g_big_std_with_value)"
   ]
  },
  {
   "cell_type": "code",
   "execution_count": 23,
   "metadata": {},
   "outputs": [],
   "source": [
    "def boxplot_std_hovering_plotly(std_data: list, tit: str, channel_names: list, sid: str):\n",
    "\n",
    "  #Using plotly! https://plotly.github.io/plotly.py-docs/generated/plotly.graph_objects.Box.html\n",
    "\n",
    "  unit='?'\n",
    "  if tit=='Magnetometers':\n",
    "    unit='T'\n",
    "  elif tit=='Gradiometers':\n",
    "    unit='T/m'\n",
    "  else:\n",
    "    print('Please check tit input. Has to be \"Magnetoneters\" or \"Gradiometers\"')\n",
    "\n",
    "  ch_names=[m[0] for m in channel_names] #names of channels for annotating the plot\n",
    "  df = pd.DataFrame (std_data, index=ch_names, columns=['std'])\n",
    "\n",
    "  fig = go.Figure()\n",
    "\n",
    "  fig.add_trace(go.Box(x=df['std'],\n",
    "  name=\"\",\n",
    "  text=df['std'].index, \n",
    "  opacity=0.7, \n",
    "  boxpoints=\"all\", \n",
    "  pointpos=0,\n",
    "  marker_size=5,\n",
    "  line_width=1))\n",
    "  fig.update_traces(hovertemplate='%{text}'+'<br>STD: %{x: .0f}')\n",
    "      \n",
    "\n",
    "  fig.update_layout(\n",
    "      yaxis={'visible': False, 'showticklabels': False},\n",
    "      xaxis = dict(\n",
    "      showexponent = 'all',\n",
    "      exponentformat = 'e'),\n",
    "      xaxis_title=\"standard deviation in \"+unit,\n",
    "      title={\n",
    "      'text': \"Standard deviation of the data for \"+tit,\n",
    "      'y':0.85,\n",
    "      'x':0.5,\n",
    "      'xanchor': 'center',\n",
    "      'yanchor': 'top'})\n",
    "      \n",
    "  fig.show()\n",
    "\n",
    "  fig_name='Stds_all_data_'+tit+'.html'\n",
    "  fig_path='../derivatives/sub-'+sid+'/megqc/figures/'+fig_name\n",
    "  fig.write_html(fig_path)\n",
    "\n",
    "  return(fig, fig_path)"
   ]
  },
  {
   "cell_type": "code",
   "execution_count": 24,
   "metadata": {},
   "outputs": [
    {
     "data": {
      "application/vnd.plotly.v1+json": {
       "config": {
        "plotlyServerURL": "https://plot.ly"
       },
       "data": [
        {
         "boxpoints": "all",
         "hovertemplate": "%{text}<br>STD: %{x: .0f}",
         "line": {
          "width": 1
         },
         "marker": {
          "size": 5
         },
         "name": "",
         "opacity": 0.7,
         "pointpos": 0,
         "text": [
          "MEG0112",
          "MEG0113",
          "MEG0122",
          "MEG0123",
          "MEG0132",
          "MEG0133",
          "MEG0142",
          "MEG0143",
          "MEG0212",
          "MEG0213",
          "MEG0222",
          "MEG0223",
          "MEG0232",
          "MEG0233",
          "MEG0242",
          "MEG0243",
          "MEG0312",
          "MEG0313",
          "MEG0322",
          "MEG0323",
          "MEG0332",
          "MEG0333",
          "MEG0342",
          "MEG0343",
          "MEG0412",
          "MEG0413",
          "MEG0422",
          "MEG0423",
          "MEG0432",
          "MEG0433",
          "MEG0442",
          "MEG0443",
          "MEG0512",
          "MEG0513",
          "MEG0522",
          "MEG0523",
          "MEG0532",
          "MEG0533",
          "MEG0542",
          "MEG0543",
          "MEG0612",
          "MEG0613",
          "MEG0622",
          "MEG0623",
          "MEG0632",
          "MEG0633",
          "MEG0642",
          "MEG0643",
          "MEG0712",
          "MEG0713",
          "MEG0722",
          "MEG0723",
          "MEG0732",
          "MEG0733",
          "MEG0742",
          "MEG0743",
          "MEG0812",
          "MEG0813",
          "MEG0822",
          "MEG0823",
          "MEG0912",
          "MEG0913",
          "MEG0922",
          "MEG0923",
          "MEG0932",
          "MEG0933",
          "MEG0942",
          "MEG0943",
          "MEG1012",
          "MEG1013",
          "MEG1022",
          "MEG1023",
          "MEG1032",
          "MEG1033",
          "MEG1042",
          "MEG1043",
          "MEG1112",
          "MEG1113",
          "MEG1122",
          "MEG1123",
          "MEG1132",
          "MEG1133",
          "MEG1142",
          "MEG1143",
          "MEG1212",
          "MEG1213",
          "MEG1222",
          "MEG1223",
          "MEG1232",
          "MEG1233",
          "MEG1242",
          "MEG1243",
          "MEG1312",
          "MEG1313",
          "MEG1322",
          "MEG1323",
          "MEG1332",
          "MEG1333",
          "MEG1342",
          "MEG1343",
          "MEG1412",
          "MEG1413",
          "MEG1422",
          "MEG1423",
          "MEG1432",
          "MEG1433",
          "MEG1442",
          "MEG1443",
          "MEG1512",
          "MEG1513",
          "MEG1522",
          "MEG1523",
          "MEG1532",
          "MEG1533",
          "MEG1542",
          "MEG1543",
          "MEG1612",
          "MEG1613",
          "MEG1622",
          "MEG1623",
          "MEG1632",
          "MEG1633",
          "MEG1642",
          "MEG1643",
          "MEG1712",
          "MEG1713",
          "MEG1722",
          "MEG1723",
          "MEG1732",
          "MEG1733",
          "MEG1742",
          "MEG1743",
          "MEG1812",
          "MEG1813",
          "MEG1822",
          "MEG1823",
          "MEG1832",
          "MEG1833",
          "MEG1842",
          "MEG1843",
          "MEG1912",
          "MEG1913",
          "MEG1922",
          "MEG1923",
          "MEG1932",
          "MEG1933",
          "MEG1942",
          "MEG1943",
          "MEG2012",
          "MEG2013",
          "MEG2022",
          "MEG2023",
          "MEG2032",
          "MEG2033",
          "MEG2042",
          "MEG2043",
          "MEG2112",
          "MEG2113",
          "MEG2122",
          "MEG2123",
          "MEG2132",
          "MEG2133",
          "MEG2142",
          "MEG2143",
          "MEG2212",
          "MEG2213",
          "MEG2222",
          "MEG2223",
          "MEG2232",
          "MEG2233",
          "MEG2242",
          "MEG2243",
          "MEG2312",
          "MEG2313",
          "MEG2322",
          "MEG2323",
          "MEG2332",
          "MEG2333",
          "MEG2342",
          "MEG2343",
          "MEG2412",
          "MEG2413",
          "MEG2422",
          "MEG2423",
          "MEG2432",
          "MEG2433",
          "MEG2442",
          "MEG2443",
          "MEG2512",
          "MEG2513",
          "MEG2522",
          "MEG2523",
          "MEG2532",
          "MEG2533",
          "MEG2542",
          "MEG2543",
          "MEG2612",
          "MEG2613",
          "MEG2622",
          "MEG2623",
          "MEG2632",
          "MEG2633",
          "MEG2642",
          "MEG2643"
         ],
         "type": "box",
         "x": [
          5.654446455602657e-12,
          6.6983714822326075e-12,
          6.2807948649252664e-12,
          4.836208107090287e-12,
          6.043866602895014e-12,
          5.213135140659751e-12,
          4.874623250390305e-12,
          6.5098651660033575e-12,
          4.569783348589936e-12,
          5.283006756446164e-12,
          4.972430563670774e-12,
          6.34500140782618e-12,
          4.95772999132874e-12,
          4.1890646676238925e-12,
          5.272791564636197e-12,
          4.8825594917836225e-12,
          4.823310275367616e-12,
          5.156491596941798e-12,
          4.642734421597768e-12,
          3.739980439737144e-12,
          3.490125189759866e-12,
          4.018262945515667e-12,
          4.17750629856248e-12,
          5.664596189063058e-12,
          3.7172381088672596e-12,
          4.219746430149117e-12,
          4.5446225115899886e-12,
          3.832833529569504e-12,
          4.424870476129204e-12,
          3.734288018335157e-12,
          4.115678297944214e-12,
          4.544513593969784e-12,
          4.167461643702585e-12,
          3.9166680918787305e-12,
          4.32356569227697e-12,
          4.305187598430688e-12,
          3.795161368690915e-12,
          3.712705826426946e-12,
          4.262593688521634e-12,
          3.872268479225214e-12,
          3.689460400202146e-12,
          3.2534734054981853e-12,
          3.4594014052567623e-12,
          3.799779692930281e-12,
          3.541860671355439e-12,
          3.532891996721086e-12,
          3.5672175142263183e-12,
          3.790242519431097e-12,
          3.56475819662264e-12,
          3.9327068036285375e-12,
          4.125286157466622e-12,
          4.247916974534261e-12,
          3.692470284254447e-12,
          3.4431010294028574e-12,
          3.693504673475704e-12,
          3.5823256795837035e-12,
          3.98948350149382e-12,
          5.159110250032495e-12,
          4.816197311209315e-12,
          3.81291617707697e-12,
          3.884223346827571e-12,
          4.1899676520224174e-12,
          4.332112653421734e-12,
          4.466676779848809e-12,
          3.954508231312504e-12,
          3.672307025101567e-12,
          3.5364925047212224e-12,
          3.95882486347569e-12,
          3.913137953914536e-12,
          3.854999182126226e-12,
          3.6286204771419828e-12,
          7.179247707983359e-12,
          3.821153149675178e-12,
          4.0694317436614646e-12,
          4.4281413390673406e-12,
          4.137376733991288e-12,
          4.29935842738784e-12,
          6.142174789289679e-12,
          4.325426313033707e-12,
          4.61041078116649e-12,
          4.749123561210383e-12,
          4.861703084309156e-12,
          4.349910909845728e-12,
          3.4982382818054468e-12,
          4.434241366164913e-12,
          5.4310871820412045e-12,
          5.089416432418534e-12,
          6.155174491883253e-12,
          4.623823339830842e-12,
          4.245494570170193e-12,
          3.836522003062451e-12,
          4.369255513953562e-12,
          5.690347456490431e-12,
          4.441999142087127e-12,
          6.426603801427301e-12,
          6.757557360268088e-12,
          6.142161460518508e-12,
          6.443204164505866e-12,
          5.6897354457213075e-12,
          4.64939812554911e-12,
          6.777417001822614e-12,
          5.123151222452619e-12,
          4.987110415226251e-12,
          6.246322190220187e-12,
          5.024049016654044e-12,
          6.608249180948464e-12,
          6.795936392344075e-12,
          6.443887701361362e-12,
          5.757063827293313e-12,
          5.858286508765787e-12,
          5.91471425034197e-12,
          5.209144756814918e-12,
          4.880303643109385e-12,
          6.755021734017031e-12,
          4.247879511872677e-12,
          6.721062078042034e-12,
          4.919047645615963e-12,
          5.121666164056167e-12,
          5.083867092150277e-12,
          4.7510556666746154e-12,
          5.09407692595191e-12,
          4.5480989796710415e-12,
          4.862754109154926e-12,
          5.628197654998284e-12,
          5.547693102252039e-12,
          7.471548646598566e-12,
          5.859653985652801e-12,
          4.934875238453857e-12,
          6.691892290818831e-12,
          6.239385627201466e-12,
          7.777625918922468e-12,
          8.688099976270316e-12,
          3.83992872404088e-12,
          7.323041849074902e-12,
          4.157635496953024e-12,
          3.749523030025184e-12,
          4.110544123038221e-12,
          4.32650003251166e-12,
          4.451396755476497e-12,
          4.102066428550547e-12,
          5.342289947677324e-12,
          5.178309557950457e-12,
          7.254700915844952e-12,
          6.853831580367702e-12,
          6.896523110045817e-12,
          9.854347047499332e-12,
          5.712012020671314e-12,
          6.240568390122287e-12,
          4.742193358025055e-12,
          4.549934340884007e-12,
          5.201700014738587e-12,
          4.642269962049434e-12,
          5.727366050512176e-12,
          6.334991477754901e-12,
          5.375127299460747e-12,
          5.741092353925998e-12,
          7.33556825323922e-12,
          6.906380096725283e-12,
          7.485778276978664e-12,
          7.851505509055003e-12,
          7.733216376877372e-12,
          9.852350676783212e-12,
          1.1011465778506496e-11,
          7.914098875748662e-12,
          5.52837904037983e-12,
          4.038258375561849e-12,
          4.339585853810939e-12,
          4.8393296757874416e-12,
          4.180390636108691e-12,
          4.73634551413825e-12,
          3.432198779066917e-12,
          4.271148132887603e-12,
          5.991767811005969e-12,
          5.432960097085008e-12,
          6.4109774946053025e-12,
          6.9919399404040855e-12,
          7.310619195440329e-12,
          8.879327559451373e-12,
          6.77302923469043e-12,
          6.732651241531052e-12,
          5.848551507551924e-12,
          4.984952806201455e-12,
          6.488077792602841e-12,
          6.250668361609481e-12,
          6.469168742976848e-12,
          6.595572814758267e-12,
          5.822210034938102e-12,
          4.826795098066329e-12,
          7.323985870256048e-12,
          8.418419866965335e-12,
          7.245823122411884e-12,
          6.147068225109211e-12,
          5.6187107579959854e-12,
          8.487226203982444e-12,
          7.2267061777520435e-12,
          8.861947868363884e-12,
          7.044881351854446e-12,
          6.78888195557843e-12,
          6.6828952205997156e-12,
          6.9611438305888246e-12,
          4.877872625178548e-12,
          7.538998586842464e-12,
          6.6484634841459746e-12,
          5.933038497159201e-12
         ]
        }
       ],
       "layout": {
        "template": {
         "data": {
          "bar": [
           {
            "error_x": {
             "color": "#2a3f5f"
            },
            "error_y": {
             "color": "#2a3f5f"
            },
            "marker": {
             "line": {
              "color": "#E5ECF6",
              "width": 0.5
             },
             "pattern": {
              "fillmode": "overlay",
              "size": 10,
              "solidity": 0.2
             }
            },
            "type": "bar"
           }
          ],
          "barpolar": [
           {
            "marker": {
             "line": {
              "color": "#E5ECF6",
              "width": 0.5
             },
             "pattern": {
              "fillmode": "overlay",
              "size": 10,
              "solidity": 0.2
             }
            },
            "type": "barpolar"
           }
          ],
          "carpet": [
           {
            "aaxis": {
             "endlinecolor": "#2a3f5f",
             "gridcolor": "white",
             "linecolor": "white",
             "minorgridcolor": "white",
             "startlinecolor": "#2a3f5f"
            },
            "baxis": {
             "endlinecolor": "#2a3f5f",
             "gridcolor": "white",
             "linecolor": "white",
             "minorgridcolor": "white",
             "startlinecolor": "#2a3f5f"
            },
            "type": "carpet"
           }
          ],
          "choropleth": [
           {
            "colorbar": {
             "outlinewidth": 0,
             "ticks": ""
            },
            "type": "choropleth"
           }
          ],
          "contour": [
           {
            "colorbar": {
             "outlinewidth": 0,
             "ticks": ""
            },
            "colorscale": [
             [
              0,
              "#0d0887"
             ],
             [
              0.1111111111111111,
              "#46039f"
             ],
             [
              0.2222222222222222,
              "#7201a8"
             ],
             [
              0.3333333333333333,
              "#9c179e"
             ],
             [
              0.4444444444444444,
              "#bd3786"
             ],
             [
              0.5555555555555556,
              "#d8576b"
             ],
             [
              0.6666666666666666,
              "#ed7953"
             ],
             [
              0.7777777777777778,
              "#fb9f3a"
             ],
             [
              0.8888888888888888,
              "#fdca26"
             ],
             [
              1,
              "#f0f921"
             ]
            ],
            "type": "contour"
           }
          ],
          "contourcarpet": [
           {
            "colorbar": {
             "outlinewidth": 0,
             "ticks": ""
            },
            "type": "contourcarpet"
           }
          ],
          "heatmap": [
           {
            "colorbar": {
             "outlinewidth": 0,
             "ticks": ""
            },
            "colorscale": [
             [
              0,
              "#0d0887"
             ],
             [
              0.1111111111111111,
              "#46039f"
             ],
             [
              0.2222222222222222,
              "#7201a8"
             ],
             [
              0.3333333333333333,
              "#9c179e"
             ],
             [
              0.4444444444444444,
              "#bd3786"
             ],
             [
              0.5555555555555556,
              "#d8576b"
             ],
             [
              0.6666666666666666,
              "#ed7953"
             ],
             [
              0.7777777777777778,
              "#fb9f3a"
             ],
             [
              0.8888888888888888,
              "#fdca26"
             ],
             [
              1,
              "#f0f921"
             ]
            ],
            "type": "heatmap"
           }
          ],
          "heatmapgl": [
           {
            "colorbar": {
             "outlinewidth": 0,
             "ticks": ""
            },
            "colorscale": [
             [
              0,
              "#0d0887"
             ],
             [
              0.1111111111111111,
              "#46039f"
             ],
             [
              0.2222222222222222,
              "#7201a8"
             ],
             [
              0.3333333333333333,
              "#9c179e"
             ],
             [
              0.4444444444444444,
              "#bd3786"
             ],
             [
              0.5555555555555556,
              "#d8576b"
             ],
             [
              0.6666666666666666,
              "#ed7953"
             ],
             [
              0.7777777777777778,
              "#fb9f3a"
             ],
             [
              0.8888888888888888,
              "#fdca26"
             ],
             [
              1,
              "#f0f921"
             ]
            ],
            "type": "heatmapgl"
           }
          ],
          "histogram": [
           {
            "marker": {
             "pattern": {
              "fillmode": "overlay",
              "size": 10,
              "solidity": 0.2
             }
            },
            "type": "histogram"
           }
          ],
          "histogram2d": [
           {
            "colorbar": {
             "outlinewidth": 0,
             "ticks": ""
            },
            "colorscale": [
             [
              0,
              "#0d0887"
             ],
             [
              0.1111111111111111,
              "#46039f"
             ],
             [
              0.2222222222222222,
              "#7201a8"
             ],
             [
              0.3333333333333333,
              "#9c179e"
             ],
             [
              0.4444444444444444,
              "#bd3786"
             ],
             [
              0.5555555555555556,
              "#d8576b"
             ],
             [
              0.6666666666666666,
              "#ed7953"
             ],
             [
              0.7777777777777778,
              "#fb9f3a"
             ],
             [
              0.8888888888888888,
              "#fdca26"
             ],
             [
              1,
              "#f0f921"
             ]
            ],
            "type": "histogram2d"
           }
          ],
          "histogram2dcontour": [
           {
            "colorbar": {
             "outlinewidth": 0,
             "ticks": ""
            },
            "colorscale": [
             [
              0,
              "#0d0887"
             ],
             [
              0.1111111111111111,
              "#46039f"
             ],
             [
              0.2222222222222222,
              "#7201a8"
             ],
             [
              0.3333333333333333,
              "#9c179e"
             ],
             [
              0.4444444444444444,
              "#bd3786"
             ],
             [
              0.5555555555555556,
              "#d8576b"
             ],
             [
              0.6666666666666666,
              "#ed7953"
             ],
             [
              0.7777777777777778,
              "#fb9f3a"
             ],
             [
              0.8888888888888888,
              "#fdca26"
             ],
             [
              1,
              "#f0f921"
             ]
            ],
            "type": "histogram2dcontour"
           }
          ],
          "mesh3d": [
           {
            "colorbar": {
             "outlinewidth": 0,
             "ticks": ""
            },
            "type": "mesh3d"
           }
          ],
          "parcoords": [
           {
            "line": {
             "colorbar": {
              "outlinewidth": 0,
              "ticks": ""
             }
            },
            "type": "parcoords"
           }
          ],
          "pie": [
           {
            "automargin": true,
            "type": "pie"
           }
          ],
          "scatter": [
           {
            "marker": {
             "colorbar": {
              "outlinewidth": 0,
              "ticks": ""
             }
            },
            "type": "scatter"
           }
          ],
          "scatter3d": [
           {
            "line": {
             "colorbar": {
              "outlinewidth": 0,
              "ticks": ""
             }
            },
            "marker": {
             "colorbar": {
              "outlinewidth": 0,
              "ticks": ""
             }
            },
            "type": "scatter3d"
           }
          ],
          "scattercarpet": [
           {
            "marker": {
             "colorbar": {
              "outlinewidth": 0,
              "ticks": ""
             }
            },
            "type": "scattercarpet"
           }
          ],
          "scattergeo": [
           {
            "marker": {
             "colorbar": {
              "outlinewidth": 0,
              "ticks": ""
             }
            },
            "type": "scattergeo"
           }
          ],
          "scattergl": [
           {
            "marker": {
             "colorbar": {
              "outlinewidth": 0,
              "ticks": ""
             }
            },
            "type": "scattergl"
           }
          ],
          "scattermapbox": [
           {
            "marker": {
             "colorbar": {
              "outlinewidth": 0,
              "ticks": ""
             }
            },
            "type": "scattermapbox"
           }
          ],
          "scatterpolar": [
           {
            "marker": {
             "colorbar": {
              "outlinewidth": 0,
              "ticks": ""
             }
            },
            "type": "scatterpolar"
           }
          ],
          "scatterpolargl": [
           {
            "marker": {
             "colorbar": {
              "outlinewidth": 0,
              "ticks": ""
             }
            },
            "type": "scatterpolargl"
           }
          ],
          "scatterternary": [
           {
            "marker": {
             "colorbar": {
              "outlinewidth": 0,
              "ticks": ""
             }
            },
            "type": "scatterternary"
           }
          ],
          "surface": [
           {
            "colorbar": {
             "outlinewidth": 0,
             "ticks": ""
            },
            "colorscale": [
             [
              0,
              "#0d0887"
             ],
             [
              0.1111111111111111,
              "#46039f"
             ],
             [
              0.2222222222222222,
              "#7201a8"
             ],
             [
              0.3333333333333333,
              "#9c179e"
             ],
             [
              0.4444444444444444,
              "#bd3786"
             ],
             [
              0.5555555555555556,
              "#d8576b"
             ],
             [
              0.6666666666666666,
              "#ed7953"
             ],
             [
              0.7777777777777778,
              "#fb9f3a"
             ],
             [
              0.8888888888888888,
              "#fdca26"
             ],
             [
              1,
              "#f0f921"
             ]
            ],
            "type": "surface"
           }
          ],
          "table": [
           {
            "cells": {
             "fill": {
              "color": "#EBF0F8"
             },
             "line": {
              "color": "white"
             }
            },
            "header": {
             "fill": {
              "color": "#C8D4E3"
             },
             "line": {
              "color": "white"
             }
            },
            "type": "table"
           }
          ]
         },
         "layout": {
          "annotationdefaults": {
           "arrowcolor": "#2a3f5f",
           "arrowhead": 0,
           "arrowwidth": 1
          },
          "autotypenumbers": "strict",
          "coloraxis": {
           "colorbar": {
            "outlinewidth": 0,
            "ticks": ""
           }
          },
          "colorscale": {
           "diverging": [
            [
             0,
             "#8e0152"
            ],
            [
             0.1,
             "#c51b7d"
            ],
            [
             0.2,
             "#de77ae"
            ],
            [
             0.3,
             "#f1b6da"
            ],
            [
             0.4,
             "#fde0ef"
            ],
            [
             0.5,
             "#f7f7f7"
            ],
            [
             0.6,
             "#e6f5d0"
            ],
            [
             0.7,
             "#b8e186"
            ],
            [
             0.8,
             "#7fbc41"
            ],
            [
             0.9,
             "#4d9221"
            ],
            [
             1,
             "#276419"
            ]
           ],
           "sequential": [
            [
             0,
             "#0d0887"
            ],
            [
             0.1111111111111111,
             "#46039f"
            ],
            [
             0.2222222222222222,
             "#7201a8"
            ],
            [
             0.3333333333333333,
             "#9c179e"
            ],
            [
             0.4444444444444444,
             "#bd3786"
            ],
            [
             0.5555555555555556,
             "#d8576b"
            ],
            [
             0.6666666666666666,
             "#ed7953"
            ],
            [
             0.7777777777777778,
             "#fb9f3a"
            ],
            [
             0.8888888888888888,
             "#fdca26"
            ],
            [
             1,
             "#f0f921"
            ]
           ],
           "sequentialminus": [
            [
             0,
             "#0d0887"
            ],
            [
             0.1111111111111111,
             "#46039f"
            ],
            [
             0.2222222222222222,
             "#7201a8"
            ],
            [
             0.3333333333333333,
             "#9c179e"
            ],
            [
             0.4444444444444444,
             "#bd3786"
            ],
            [
             0.5555555555555556,
             "#d8576b"
            ],
            [
             0.6666666666666666,
             "#ed7953"
            ],
            [
             0.7777777777777778,
             "#fb9f3a"
            ],
            [
             0.8888888888888888,
             "#fdca26"
            ],
            [
             1,
             "#f0f921"
            ]
           ]
          },
          "colorway": [
           "#636efa",
           "#EF553B",
           "#00cc96",
           "#ab63fa",
           "#FFA15A",
           "#19d3f3",
           "#FF6692",
           "#B6E880",
           "#FF97FF",
           "#FECB52"
          ],
          "font": {
           "color": "#2a3f5f"
          },
          "geo": {
           "bgcolor": "white",
           "lakecolor": "white",
           "landcolor": "#E5ECF6",
           "showlakes": true,
           "showland": true,
           "subunitcolor": "white"
          },
          "hoverlabel": {
           "align": "left"
          },
          "hovermode": "closest",
          "mapbox": {
           "style": "light"
          },
          "paper_bgcolor": "white",
          "plot_bgcolor": "#E5ECF6",
          "polar": {
           "angularaxis": {
            "gridcolor": "white",
            "linecolor": "white",
            "ticks": ""
           },
           "bgcolor": "#E5ECF6",
           "radialaxis": {
            "gridcolor": "white",
            "linecolor": "white",
            "ticks": ""
           }
          },
          "scene": {
           "xaxis": {
            "backgroundcolor": "#E5ECF6",
            "gridcolor": "white",
            "gridwidth": 2,
            "linecolor": "white",
            "showbackground": true,
            "ticks": "",
            "zerolinecolor": "white"
           },
           "yaxis": {
            "backgroundcolor": "#E5ECF6",
            "gridcolor": "white",
            "gridwidth": 2,
            "linecolor": "white",
            "showbackground": true,
            "ticks": "",
            "zerolinecolor": "white"
           },
           "zaxis": {
            "backgroundcolor": "#E5ECF6",
            "gridcolor": "white",
            "gridwidth": 2,
            "linecolor": "white",
            "showbackground": true,
            "ticks": "",
            "zerolinecolor": "white"
           }
          },
          "shapedefaults": {
           "line": {
            "color": "#2a3f5f"
           }
          },
          "ternary": {
           "aaxis": {
            "gridcolor": "white",
            "linecolor": "white",
            "ticks": ""
           },
           "baxis": {
            "gridcolor": "white",
            "linecolor": "white",
            "ticks": ""
           },
           "bgcolor": "#E5ECF6",
           "caxis": {
            "gridcolor": "white",
            "linecolor": "white",
            "ticks": ""
           }
          },
          "title": {
           "x": 0.05
          },
          "xaxis": {
           "automargin": true,
           "gridcolor": "white",
           "linecolor": "white",
           "ticks": "",
           "title": {
            "standoff": 15
           },
           "zerolinecolor": "white",
           "zerolinewidth": 2
          },
          "yaxis": {
           "automargin": true,
           "gridcolor": "white",
           "linecolor": "white",
           "ticks": "",
           "title": {
            "standoff": 15
           },
           "zerolinecolor": "white",
           "zerolinewidth": 2
          }
         }
        },
        "title": {
         "text": "Standard deviation of the data for Gradiometers",
         "x": 0.5,
         "xanchor": "center",
         "y": 0.85,
         "yanchor": "top"
        },
        "xaxis": {
         "exponentformat": "e",
         "showexponent": "all",
         "title": {
          "text": "standard deviation in T/m"
         }
        },
        "yaxis": {
         "showticklabels": false,
         "visible": false
        }
       }
      }
     },
     "metadata": {},
     "output_type": "display_data"
    }
   ],
   "source": [
    "fig_m, fig_path_m=boxplot_std_hovering_plotly(std_data=rmse_grads, tit='Gradiometers', channel_names=grads, sid='1')\n",
    "\n"
   ]
  },
  {
   "cell_type": "code",
   "execution_count": 25,
   "metadata": {},
   "outputs": [],
   "source": [
    "#Create a function which will loop over mags or grads (separate epochs) and calculate std (used in RMSE_meg_epoch):\n",
    "def std_mg(mg_names: list, df_mg: pd.DataFrame, epoch_numbers: list) -> pd.DataFrame:\n",
    "\n",
    "    import pandas as pd\n",
    "    \n",
    "    dict_mg = {}\n",
    "\n",
    "    for ep in epoch_numbers: #loop over each epoch\n",
    "        rows_for_ep = [row for row in df_mg.iloc if row.epoch == ep] #take all rows of 1 epoch, all channels.\n",
    "        #std_epoch = [] #list with stds\n",
    "        rmse_epoch=[]\n",
    "\n",
    "        for ch_name in mg_names: #loop over channel names\n",
    "            data_ch_epoch = [row_mg[ch_name] for row_mg in rows_for_ep] #take the data for 1 epoch for 1 channel\n",
    "            rmse_ch_ep = RMSE(data_ch_epoch)\n",
    "            rmse_ch_ep=np.float64(rmse_ch_ep) #convert from ndarray to float\n",
    "            rmse_epoch.append(rmse_ch_ep)\n",
    "\n",
    "            #std_ch_ep = np.std(data_ch_epoch) #if want to use std instead\n",
    "            \n",
    "\n",
    "        dict_mg[ep] = rmse_epoch\n",
    "\n",
    "    df_std_mg = pd.DataFrame(dict_mg, index=mg_names)\n",
    "\n",
    "    return(df_std_mg)"
   ]
  },
  {
   "cell_type": "code",
   "execution_count": 26,
   "metadata": {},
   "outputs": [],
   "source": [
    "# STD over epochs: use 2 separate data frames for mags and grads in calculations:\n",
    "\n",
    "def RMSE_meg_epoch(mags: list, grads: list, std_lvl: int, n_events: int, df_epochs_mags: pd.DataFrame, df_epochs_grads:pd.DataFrame, sid: str):\n",
    "\n",
    "#def RMSE_meg_epoch(data=None, std_lvl=1, stim_channel='STI101',  min_duration_event=1.2, epoch_tmin=-0.2, epoch_tmax=1):\n",
    "    #stim_channel name is users input. but we can also let mne find it itself if 'None' is set? mne seems to have such function.\n",
    "\n",
    "    # 1) Loop over the epochs of each channel and check for every separate magn and grad and calculate std\n",
    "    \n",
    "    eps=list(range(0,n_events)) #list of epoch numbers\n",
    "   \n",
    "    mags_names = [mag[0] for mag in mags]\n",
    "    grads_names = [grad[0] for grad in grads]\n",
    "\n",
    "\n",
    "    #Apply function from above for mags and grads:\n",
    "    df_std_mags=std_mg(epoch_numbers=eps, df_mg=df_epochs_mags, mg_names=mags_names)\n",
    "    df_std_grads=std_mg(epoch_numbers=eps, df_mg=df_epochs_grads, mg_names=grads_names)\n",
    "\n",
    "    # 2) Check (which epochs for which channel) are over 1STD (or 2, 3, ets STDs) for (this epoch for all channels)\n",
    "\n",
    "    #Find what is 1 std over all channels per 1 epoch:\n",
    "    std_std_mags_per_epoch=[]\n",
    "    std_std_grads_per_epoch=[]\n",
    "    mean_std_mags_per_epoch=[]\n",
    "    mean_std_grads_per_epoch=[]\n",
    "\n",
    "    for ep in eps: #goes over each epoch\n",
    "        std_std_mags_per_epoch.append(np.std(df_std_mags.iloc[:, ep])) #std of stds of all channels of every single epoch\n",
    "        std_std_grads_per_epoch.append(np.std(df_std_grads.iloc[:, ep]))\n",
    "\n",
    "        mean_std_mags_per_epoch.append(np.mean(df_std_mags.iloc[:, ep])) #mean of stds of all channels of every single epoch\n",
    "        mean_std_grads_per_epoch.append(np.mean(df_std_grads.iloc[:, ep]))\n",
    "\n",
    "\n",
    "    df_ch_ep_large_std_mags=df_std_mags.copy()\n",
    "    df_ch_ep_large_std_grads=df_std_grads.copy()\n",
    "\n",
    "    df_ch_ep_small_std_mags=df_std_mags.copy()\n",
    "    df_ch_ep_small_std_grads=df_std_grads.copy()\n",
    "\n",
    "    #Now see which channles in epoch are over 1 std or under -1 std:\n",
    "    for ep in eps: #goes over each epoch   \n",
    "        df_ch_ep_large_std_mags.iloc[:,ep] = df_ch_ep_large_std_mags.iloc[:,ep] > mean_std_mags_per_epoch[ep]+std_lvl*std_std_mags_per_epoch[ep] #magnetometers\n",
    "        df_ch_ep_large_std_grads.iloc[:,ep] = df_ch_ep_large_std_grads.iloc[:,ep] > mean_std_grads_per_epoch[ep]+std_lvl*std_std_grads_per_epoch[ep] #gradiometers\n",
    "\n",
    "        df_ch_ep_small_std_mags.iloc[:,ep] = df_ch_ep_small_std_mags.iloc[:,ep] < mean_std_mags_per_epoch[ep]-std_lvl*std_std_mags_per_epoch[ep] #magnetometers\n",
    "        df_ch_ep_small_std_grads.iloc[:,ep] = df_ch_ep_small_std_grads.iloc[:,ep] < mean_std_grads_per_epoch[ep]-std_lvl*std_std_grads_per_epoch[ep] #gradiometers\n",
    "\n",
    "\n",
    "    # Create csv files  for the user:\n",
    "\n",
    "    df_std_mags.to_csv('../derivatives/sub-'+sid+'/megqc/csv files/std_mags_per_epoch.csv')\n",
    "    \n",
    "    df_std_grads.to_csv('../derivatives/sub-'+sid+'/megqc/csv files/std_grads_per_epoch.csv')\n",
    "\n",
    "    df_ch_ep_large_std_mags.to_csv('../derivatives/sub-'+sid+'/megqc/csv files/Large_std_mags_per_epoch.csv')\n",
    "\n",
    "    df_ch_ep_large_std_grads.to_csv('../derivatives/sub-'+sid+'/megqc/csv files/Large_std_grads_per_epoch.csv')\n",
    "\n",
    "    df_ch_ep_small_std_mags.to_csv('../derivatives/sub-'+sid+'/megqc/csv files/Small_std_mags_per_epoch.csv')\n",
    "\n",
    "    df_ch_ep_small_std_grads.to_csv('../derivatives/sub-'+sid+'/megqc/csv files/Small_std_grads_per_epoch.csv')\n",
    "\n",
    "    return(df_std_mags, df_std_grads)"
   ]
  },
  {
   "cell_type": "code",
   "execution_count": 29,
   "metadata": {},
   "outputs": [],
   "source": [
    "#try (will output csv files):\n",
    "# USING NON RESAMPLED DATA\n",
    "\n",
    "df_std_mags, df_std_grads=RMSE_meg_epoch(mags=mags, grads=grads, std_lvl=1, n_events=n_events, df_epochs_mags=df_epochs_mags, df_epochs_grads=df_epochs_grads, sid='1') "
   ]
  },
  {
   "cell_type": "code",
   "execution_count": 30,
   "metadata": {},
   "outputs": [],
   "source": [
    "def boxplot_std_channel_epoch_hovering_plotly(df_mg: pd.DataFrame, tit: str, sid: str):\n",
    "\n",
    "  unit='?'\n",
    "  if tit=='Magnetometers':\n",
    "    unit='T'\n",
    "  elif tit=='Gradiometers':\n",
    "    unit='T/m'\n",
    "  else:\n",
    "    print('Please check tit input. Has to be \"Magnetoneters\" or \"Gradiometers\"')\n",
    "\n",
    "  #transpose the data to plot the boxplots on x axes\n",
    "  df_mg_transposed = df_mg.T \n",
    "\n",
    "  #collect all names of original df into a list to use as tick labels:\n",
    "  ch_names=list(df_mg_transposed) \n",
    "\n",
    "  fig = go.Figure()\n",
    "\n",
    "  for col in df_mg_transposed:\n",
    "    fig.add_trace(go.Box(y=df_mg_transposed[col].values, \n",
    "      name=df_mg_transposed[col].name, \n",
    "      opacity=0.7, \n",
    "      boxpoints=\"all\", \n",
    "      pointpos=0,\n",
    "      marker_size=3,\n",
    "      line_width=1,\n",
    "      text=df_mg_transposed[col].index))\n",
    "    fig.update_traces(hovertemplate='Epoch: %{text}'+'<br>STD: %{y: .0f}')\n",
    "      \n",
    "\n",
    "  fig.update_layout(\n",
    "      xaxis = dict(\n",
    "          tickmode = 'array',\n",
    "          tickvals = [v for v in range(0, len(ch_names))],\n",
    "          ticktext = ch_names,\n",
    "          rangeslider=dict(visible=True)\n",
    "      ),\n",
    "      yaxis = dict(\n",
    "        showexponent = 'all',\n",
    "        exponentformat = 'e'),\n",
    "      yaxis_title=\"standard deviation in \"+unit,\n",
    "      title={\n",
    "        'text': \"STDs over epochs for \"+tit,\n",
    "        'y':0.85,\n",
    "        'x':0.5,\n",
    "        'xanchor': 'center',\n",
    "        'yanchor': 'top'})\n",
    "    \n",
    "  fig.show()\n",
    "\n",
    "  fig_name='Stds_epochs_per_channel_'+tit+'.html'\n",
    "  fig_path='../derivatives/sub-'+sid+'/megqc/figures/'+fig_name\n",
    "  fig.write_html(fig_path)\n",
    "\n",
    "  return(fig, fig_path)\n",
    "\n",
    "  #figure out weird y axis, hovering is too long, simple slider"
   ]
  },
  {
   "cell_type": "code",
   "execution_count": 31,
   "metadata": {},
   "outputs": [
    {
     "data": {
      "application/vnd.plotly.v1+json": {
       "config": {
        "plotlyServerURL": "https://plot.ly"
       },
       "data": [
        {
         "boxpoints": "all",
         "hovertemplate": "Epoch: %{text}<br>STD: %{y: .0f}",
         "line": {
          "width": 1
         },
         "marker": {
          "size": 3
         },
         "name": "MEG0111",
         "opacity": 0.7,
         "pointpos": 0,
         "text": [
          0,
          1,
          2,
          3,
          4,
          5,
          6,
          7
         ],
         "type": "box",
         "y": [
          1.32528280845869e-13,
          1.1630836870227407e-13,
          1.271143729912133e-13,
          1.5765947270757759e-13,
          1.6460744851676256e-13,
          1.4261713574224245e-13,
          1.2113399057446468e-13,
          1.4804860614390638e-13
         ]
        },
        {
         "boxpoints": "all",
         "hovertemplate": "Epoch: %{text}<br>STD: %{y: .0f}",
         "line": {
          "width": 1
         },
         "marker": {
          "size": 3
         },
         "name": "MEG0121",
         "opacity": 0.7,
         "pointpos": 0,
         "text": [
          0,
          1,
          2,
          3,
          4,
          5,
          6,
          7
         ],
         "type": "box",
         "y": [
          8.536337345494982e-14,
          9.04308576697243e-14,
          7.562593942697918e-14,
          1.4511991037242926e-13,
          8.870209937816291e-14,
          7.407725693798504e-14,
          8.786774525307712e-14,
          1.0667152545471412e-13
         ]
        },
        {
         "boxpoints": "all",
         "hovertemplate": "Epoch: %{text}<br>STD: %{y: .0f}",
         "line": {
          "width": 1
         },
         "marker": {
          "size": 3
         },
         "name": "MEG0131",
         "opacity": 0.7,
         "pointpos": 0,
         "text": [
          0,
          1,
          2,
          3,
          4,
          5,
          6,
          7
         ],
         "type": "box",
         "y": [
          7.684145950571286e-14,
          7.206944438785856e-14,
          7.998339010023375e-14,
          9.714822977449819e-14,
          9.026858097766963e-14,
          6.608875436372557e-14,
          9.047839293861901e-14,
          9.298711456760903e-14
         ]
        },
        {
         "boxpoints": "all",
         "hovertemplate": "Epoch: %{text}<br>STD: %{y: .0f}",
         "line": {
          "width": 1
         },
         "marker": {
          "size": 3
         },
         "name": "MEG0141",
         "opacity": 0.7,
         "pointpos": 0,
         "text": [
          0,
          1,
          2,
          3,
          4,
          5,
          6,
          7
         ],
         "type": "box",
         "y": [
          1.2027380526312693e-13,
          1.1659615292321706e-13,
          1.1463351645058504e-13,
          1.5933363387057302e-13,
          1.2557848327967177e-13,
          1.316861972345636e-13,
          1.2141428178508244e-13,
          1.4171733341894903e-13
         ]
        },
        {
         "boxpoints": "all",
         "hovertemplate": "Epoch: %{text}<br>STD: %{y: .0f}",
         "line": {
          "width": 1
         },
         "marker": {
          "size": 3
         },
         "name": "MEG0211",
         "opacity": 0.7,
         "pointpos": 0,
         "text": [
          0,
          1,
          2,
          3,
          4,
          5,
          6,
          7
         ],
         "type": "box",
         "y": [
          1.0678165118560899e-13,
          9.905669776049465e-14,
          1.1296894148970592e-13,
          9.712960470697888e-14,
          1.0153318450768074e-13,
          1.1467087712624482e-13,
          1.087693517254949e-13,
          1.5854551265143065e-13
         ]
        },
        {
         "boxpoints": "all",
         "hovertemplate": "Epoch: %{text}<br>STD: %{y: .0f}",
         "line": {
          "width": 1
         },
         "marker": {
          "size": 3
         },
         "name": "MEG0221",
         "opacity": 0.7,
         "pointpos": 0,
         "text": [
          0,
          1,
          2,
          3,
          4,
          5,
          6,
          7
         ],
         "type": "box",
         "y": [
          8.878269870024395e-14,
          8.583636314949841e-14,
          8.980550546474317e-14,
          7.982587037246769e-14,
          8.371668335222908e-14,
          1.0360406000887312e-13,
          8.63503119561481e-14,
          9.88307421906516e-14
         ]
        },
        {
         "boxpoints": "all",
         "hovertemplate": "Epoch: %{text}<br>STD: %{y: .0f}",
         "line": {
          "width": 1
         },
         "marker": {
          "size": 3
         },
         "name": "MEG0231",
         "opacity": 0.7,
         "pointpos": 0,
         "text": [
          0,
          1,
          2,
          3,
          4,
          5,
          6,
          7
         ],
         "type": "box",
         "y": [
          1.126011150532829e-13,
          9.422330022718308e-14,
          1.0036710895776835e-13,
          9.406321373593932e-14,
          1.0609891554515957e-13,
          1.0268939637172957e-13,
          1.1181973663184111e-13,
          1.3300446421905957e-13
         ]
        },
        {
         "boxpoints": "all",
         "hovertemplate": "Epoch: %{text}<br>STD: %{y: .0f}",
         "line": {
          "width": 1
         },
         "marker": {
          "size": 3
         },
         "name": "MEG0241",
         "opacity": 0.7,
         "pointpos": 0,
         "text": [
          0,
          1,
          2,
          3,
          4,
          5,
          6,
          7
         ],
         "type": "box",
         "y": [
          1.5001397064394195e-13,
          9.996268464604931e-14,
          1.1096310719592711e-13,
          1.2259875548331544e-13,
          1.3070623812163628e-13,
          1.280036918323418e-13,
          1.339498284856992e-13,
          2.0179555215086991e-13
         ]
        },
        {
         "boxpoints": "all",
         "hovertemplate": "Epoch: %{text}<br>STD: %{y: .0f}",
         "line": {
          "width": 1
         },
         "marker": {
          "size": 3
         },
         "name": "MEG0311",
         "opacity": 0.7,
         "pointpos": 0,
         "text": [
          0,
          1,
          2,
          3,
          4,
          5,
          6,
          7
         ],
         "type": "box",
         "y": [
          1.1159100683394759e-13,
          8.863800377917306e-14,
          1.141384751632673e-13,
          1.1264852488060526e-13,
          1.215948964465385e-13,
          1.2556828357550695e-13,
          9.54209337561959e-14,
          1.2323552237159006e-13
         ]
        },
        {
         "boxpoints": "all",
         "hovertemplate": "Epoch: %{text}<br>STD: %{y: .0f}",
         "line": {
          "width": 1
         },
         "marker": {
          "size": 3
         },
         "name": "MEG0321",
         "opacity": 0.7,
         "pointpos": 0,
         "text": [
          0,
          1,
          2,
          3,
          4,
          5,
          6,
          7
         ],
         "type": "box",
         "y": [
          8.183729196615636e-14,
          7.651738800071816e-14,
          8.6046991315331e-14,
          8.830505378576113e-14,
          8.095773868188226e-14,
          1.053931769668237e-13,
          8.729807455946506e-14,
          8.595308542955487e-14
         ]
        },
        {
         "boxpoints": "all",
         "hovertemplate": "Epoch: %{text}<br>STD: %{y: .0f}",
         "line": {
          "width": 1
         },
         "marker": {
          "size": 3
         },
         "name": "MEG0331",
         "opacity": 0.7,
         "pointpos": 0,
         "text": [
          0,
          1,
          2,
          3,
          4,
          5,
          6,
          7
         ],
         "type": "box",
         "y": [
          6.688048453433856e-14,
          6.300501963893282e-14,
          6.002718781333525e-14,
          7.491451572734227e-14,
          6.496245418840289e-14,
          8.132958649526336e-14,
          7.261965036141445e-14,
          9.319003732861832e-14
         ]
        },
        {
         "boxpoints": "all",
         "hovertemplate": "Epoch: %{text}<br>STD: %{y: .0f}",
         "line": {
          "width": 1
         },
         "marker": {
          "size": 3
         },
         "name": "MEG0341",
         "opacity": 0.7,
         "pointpos": 0,
         "text": [
          0,
          1,
          2,
          3,
          4,
          5,
          6,
          7
         ],
         "type": "box",
         "y": [
          8.301063192391248e-14,
          7.770189546199207e-14,
          9.759088000393463e-14,
          9.450637166596396e-14,
          7.500728926637331e-14,
          1.060004880135743e-13,
          9.260558215659434e-14,
          9.672272034831157e-14
         ]
        },
        {
         "boxpoints": "all",
         "hovertemplate": "Epoch: %{text}<br>STD: %{y: .0f}",
         "line": {
          "width": 1
         },
         "marker": {
          "size": 3
         },
         "name": "MEG0411",
         "opacity": 0.7,
         "pointpos": 0,
         "text": [
          0,
          1,
          2,
          3,
          4,
          5,
          6,
          7
         ],
         "type": "box",
         "y": [
          8.193084227547452e-14,
          8.327280757481966e-14,
          7.451236734605403e-14,
          8.005085142790062e-14,
          6.957361511234816e-14,
          9.523297865347813e-14,
          7.96434613178212e-14,
          8.538913294707815e-14
         ]
        },
        {
         "boxpoints": "all",
         "hovertemplate": "Epoch: %{text}<br>STD: %{y: .0f}",
         "line": {
          "width": 1
         },
         "marker": {
          "size": 3
         },
         "name": "MEG0421",
         "opacity": 0.7,
         "pointpos": 0,
         "text": [
          0,
          1,
          2,
          3,
          4,
          5,
          6,
          7
         ],
         "type": "box",
         "y": [
          5.681428064265987e-14,
          4.898972172835625e-14,
          5.056382870325123e-14,
          6.777840470298889e-14,
          4.785336584374184e-14,
          6.49346912433127e-14,
          6.060551077126466e-14,
          6.977003411123842e-14
         ]
        },
        {
         "boxpoints": "all",
         "hovertemplate": "Epoch: %{text}<br>STD: %{y: .0f}",
         "line": {
          "width": 1
         },
         "marker": {
          "size": 3
         },
         "name": "MEG0431",
         "opacity": 0.7,
         "pointpos": 0,
         "text": [
          0,
          1,
          2,
          3,
          4,
          5,
          6,
          7
         ],
         "type": "box",
         "y": [
          7.28597547800466e-14,
          5.475334179911457e-14,
          5.781634682202844e-14,
          6.325962627124777e-14,
          5.487391607641802e-14,
          6.805897693927217e-14,
          6.782652318835468e-14,
          8.496869742604878e-14
         ]
        },
        {
         "boxpoints": "all",
         "hovertemplate": "Epoch: %{text}<br>STD: %{y: .0f}",
         "line": {
          "width": 1
         },
         "marker": {
          "size": 3
         },
         "name": "MEG0441",
         "opacity": 0.7,
         "pointpos": 0,
         "text": [
          0,
          1,
          2,
          3,
          4,
          5,
          6,
          7
         ],
         "type": "box",
         "y": [
          7.331515232661168e-14,
          8.558426742997171e-14,
          7.140238096565009e-14,
          7.277372502106879e-14,
          7.769317000878739e-14,
          7.54892482403884e-14,
          7.051266480902107e-14,
          8.895249262594469e-14
         ]
        },
        {
         "boxpoints": "all",
         "hovertemplate": "Epoch: %{text}<br>STD: %{y: .0f}",
         "line": {
          "width": 1
         },
         "marker": {
          "size": 3
         },
         "name": "MEG0511",
         "opacity": 0.7,
         "pointpos": 0,
         "text": [
          0,
          1,
          2,
          3,
          4,
          5,
          6,
          7
         ],
         "type": "box",
         "y": [
          1.3727821336456833e-13,
          1.1955224783317604e-13,
          1.8758209908200274e-13,
          1.6970375767400243e-13,
          1.6087555534035702e-13,
          1.6313833784660387e-13,
          1.4438867873759406e-13,
          1.8438113075784075e-13
         ]
        },
        {
         "boxpoints": "all",
         "hovertemplate": "Epoch: %{text}<br>STD: %{y: .0f}",
         "line": {
          "width": 1
         },
         "marker": {
          "size": 3
         },
         "name": "MEG0521",
         "opacity": 0.7,
         "pointpos": 0,
         "text": [
          0,
          1,
          2,
          3,
          4,
          5,
          6,
          7
         ],
         "type": "box",
         "y": [
          1.458053378924497e-13,
          1.1787191213418397e-13,
          2.0080670940914382e-13,
          1.8583879769720244e-13,
          1.656322399297395e-13,
          1.7275949933538974e-13,
          1.4555514254552558e-13,
          1.8759413514429281e-13
         ]
        },
        {
         "boxpoints": "all",
         "hovertemplate": "Epoch: %{text}<br>STD: %{y: .0f}",
         "line": {
          "width": 1
         },
         "marker": {
          "size": 3
         },
         "name": "MEG0531",
         "opacity": 0.7,
         "pointpos": 0,
         "text": [
          0,
          1,
          2,
          3,
          4,
          5,
          6,
          7
         ],
         "type": "box",
         "y": [
          7.928668668310803e-14,
          6.970764350340987e-14,
          9.64754094270363e-14,
          8.784525755659022e-14,
          9.018448727657523e-14,
          7.072964189432744e-14,
          6.475511840770326e-14,
          8.676392977563255e-14
         ]
        },
        {
         "boxpoints": "all",
         "hovertemplate": "Epoch: %{text}<br>STD: %{y: .0f}",
         "line": {
          "width": 1
         },
         "marker": {
          "size": 3
         },
         "name": "MEG0541",
         "opacity": 0.7,
         "pointpos": 0,
         "text": [
          0,
          1,
          2,
          3,
          4,
          5,
          6,
          7
         ],
         "type": "box",
         "y": [
          1.0013821518628347e-13,
          8.405083223404003e-14,
          9.954590082838562e-14,
          9.459921362264077e-14,
          9.760162691824257e-14,
          8.577990286967252e-14,
          9.782068038486805e-14,
          9.875318727823019e-14
         ]
        },
        {
         "boxpoints": "all",
         "hovertemplate": "Epoch: %{text}<br>STD: %{y: .0f}",
         "line": {
          "width": 1
         },
         "marker": {
          "size": 3
         },
         "name": "MEG0611",
         "opacity": 0.7,
         "pointpos": 0,
         "text": [
          0,
          1,
          2,
          3,
          4,
          5,
          6,
          7
         ],
         "type": "box",
         "y": [
          5.958361679120158e-14,
          5.32592059112031e-14,
          5.88006171996888e-14,
          7.045561719378417e-14,
          7.13080611390202e-14,
          6.26480165625814e-14,
          7.153423875096935e-14,
          6.288812214320515e-14
         ]
        },
        {
         "boxpoints": "all",
         "hovertemplate": "Epoch: %{text}<br>STD: %{y: .0f}",
         "line": {
          "width": 1
         },
         "marker": {
          "size": 3
         },
         "name": "MEG0621",
         "opacity": 0.7,
         "pointpos": 0,
         "text": [
          0,
          1,
          2,
          3,
          4,
          5,
          6,
          7
         ],
         "type": "box",
         "y": [
          5.748080660404585e-14,
          5.0560661302494913e-14,
          6.20328995564232e-14,
          6.047413502041056e-14,
          6.208827405739412e-14,
          6.843730484810456e-14,
          5.261265914523133e-14,
          5.787727029268042e-14
         ]
        },
        {
         "boxpoints": "all",
         "hovertemplate": "Epoch: %{text}<br>STD: %{y: .0f}",
         "line": {
          "width": 1
         },
         "marker": {
          "size": 3
         },
         "name": "MEG0631",
         "opacity": 0.7,
         "pointpos": 0,
         "text": [
          0,
          1,
          2,
          3,
          4,
          5,
          6,
          7
         ],
         "type": "box",
         "y": [
          4.820391727926575e-14,
          5.720186482781814e-14,
          5.5327298649542266e-14,
          4.924793944252858e-14,
          5.1225354841905096e-14,
          5.4029261535029963e-14,
          5.815932109878714e-14,
          4.922279121544246e-14
         ]
        },
        {
         "boxpoints": "all",
         "hovertemplate": "Epoch: %{text}<br>STD: %{y: .0f}",
         "line": {
          "width": 1
         },
         "marker": {
          "size": 3
         },
         "name": "MEG0641",
         "opacity": 0.7,
         "pointpos": 0,
         "text": [
          0,
          1,
          2,
          3,
          4,
          5,
          6,
          7
         ],
         "type": "box",
         "y": [
          4.956710395489742e-14,
          5.4249123212512826e-14,
          5.754094997686408e-14,
          6.579838374914935e-14,
          6.600428207257679e-14,
          5.0022769592098275e-14,
          5.853935970696951e-14,
          6.764292248703988e-14
         ]
        },
        {
         "boxpoints": "all",
         "hovertemplate": "Epoch: %{text}<br>STD: %{y: .0f}",
         "line": {
          "width": 1
         },
         "marker": {
          "size": 3
         },
         "name": "MEG0711",
         "opacity": 0.7,
         "pointpos": 0,
         "text": [
          0,
          1,
          2,
          3,
          4,
          5,
          6,
          7
         ],
         "type": "box",
         "y": [
          7.311960727127964e-14,
          6.609683245480686e-14,
          8.188463290737183e-14,
          6.991887940447457e-14,
          6.60326388852251e-14,
          7.021485458798352e-14,
          9.564979790530781e-14,
          9.201682261643829e-14
         ]
        },
        {
         "boxpoints": "all",
         "hovertemplate": "Epoch: %{text}<br>STD: %{y: .0f}",
         "line": {
          "width": 1
         },
         "marker": {
          "size": 3
         },
         "name": "MEG0721",
         "opacity": 0.7,
         "pointpos": 0,
         "text": [
          0,
          1,
          2,
          3,
          4,
          5,
          6,
          7
         ],
         "type": "box",
         "y": [
          7.744867825314551e-14,
          8.984878479292033e-14,
          8.031480756331998e-14,
          8.63894018267764e-14,
          8.808164751041973e-14,
          9.762162524589813e-14,
          1.060536044213978e-13,
          9.447359427766524e-14
         ]
        },
        {
         "boxpoints": "all",
         "hovertemplate": "Epoch: %{text}<br>STD: %{y: .0f}",
         "line": {
          "width": 1
         },
         "marker": {
          "size": 3
         },
         "name": "MEG0731",
         "opacity": 0.7,
         "pointpos": 0,
         "text": [
          0,
          1,
          2,
          3,
          4,
          5,
          6,
          7
         ],
         "type": "box",
         "y": [
          8.007197817545774e-14,
          7.883837130936376e-14,
          9.637776465550007e-14,
          1.0369985250012638e-13,
          8.989668809784896e-14,
          9.466125311971603e-14,
          1.162632083112452e-13,
          9.886128321802194e-14
         ]
        },
        {
         "boxpoints": "all",
         "hovertemplate": "Epoch: %{text}<br>STD: %{y: .0f}",
         "line": {
          "width": 1
         },
         "marker": {
          "size": 3
         },
         "name": "MEG0741",
         "opacity": 0.7,
         "pointpos": 0,
         "text": [
          0,
          1,
          2,
          3,
          4,
          5,
          6,
          7
         ],
         "type": "box",
         "y": [
          8.958883057995508e-14,
          1.0086429892931406e-13,
          1.0382789656479817e-13,
          9.740807176703629e-14,
          1.043472434398613e-13,
          9.28943681842835e-14,
          1.1192821345357559e-13,
          1.1146982957822396e-13
         ]
        },
        {
         "boxpoints": "all",
         "hovertemplate": "Epoch: %{text}<br>STD: %{y: .0f}",
         "line": {
          "width": 1
         },
         "marker": {
          "size": 3
         },
         "name": "MEG0811",
         "opacity": 0.7,
         "pointpos": 0,
         "text": [
          0,
          1,
          2,
          3,
          4,
          5,
          6,
          7
         ],
         "type": "box",
         "y": [
          1.2822720524923437e-13,
          9.706601844236757e-14,
          1.5720680817007643e-13,
          1.5363971971446776e-13,
          1.402520167337868e-13,
          1.525647324117493e-13,
          1.2157212716304514e-13,
          1.6151351858517734e-13
         ]
        },
        {
         "boxpoints": "all",
         "hovertemplate": "Epoch: %{text}<br>STD: %{y: .0f}",
         "line": {
          "width": 1
         },
         "marker": {
          "size": 3
         },
         "name": "MEG0821",
         "opacity": 0.7,
         "pointpos": 0,
         "text": [
          0,
          1,
          2,
          3,
          4,
          5,
          6,
          7
         ],
         "type": "box",
         "y": [
          6.566647605201747e-14,
          5.484491776943054e-14,
          6.27567078244119e-14,
          6.702261967262312e-14,
          6.058663958316924e-14,
          5.946843790789184e-14,
          5.682399827257962e-14,
          6.946451446511439e-14
         ]
        },
        {
         "boxpoints": "all",
         "hovertemplate": "Epoch: %{text}<br>STD: %{y: .0f}",
         "line": {
          "width": 1
         },
         "marker": {
          "size": 3
         },
         "name": "MEG0911",
         "opacity": 0.7,
         "pointpos": 0,
         "text": [
          0,
          1,
          2,
          3,
          4,
          5,
          6,
          7
         ],
         "type": "box",
         "y": [
          1.0611641720256665e-13,
          7.571499154848251e-14,
          1.2635956432611437e-13,
          1.2845278175107656e-13,
          1.1655076562579121e-13,
          1.183991313266482e-13,
          1.0006619373318779e-13,
          1.411087730155094e-13
         ]
        },
        {
         "boxpoints": "all",
         "hovertemplate": "Epoch: %{text}<br>STD: %{y: .0f}",
         "line": {
          "width": 1
         },
         "marker": {
          "size": 3
         },
         "name": "MEG0921",
         "opacity": 0.7,
         "pointpos": 0,
         "text": [
          0,
          1,
          2,
          3,
          4,
          5,
          6,
          7
         ],
         "type": "box",
         "y": [
          7.729826570608249e-14,
          7.502044852670342e-14,
          7.684677535304628e-14,
          9.159945291778598e-14,
          9.205688785830725e-14,
          8.842174538526242e-14,
          9.097082545145215e-14,
          1.024283132231471e-13
         ]
        },
        {
         "boxpoints": "all",
         "hovertemplate": "Epoch: %{text}<br>STD: %{y: .0f}",
         "line": {
          "width": 1
         },
         "marker": {
          "size": 3
         },
         "name": "MEG0931",
         "opacity": 0.7,
         "pointpos": 0,
         "text": [
          0,
          1,
          2,
          3,
          4,
          5,
          6,
          7
         ],
         "type": "box",
         "y": [
          8.291283374997416e-14,
          6.439806133625492e-14,
          9.589280962126819e-14,
          7.687975895217155e-14,
          7.500851404791323e-14,
          6.454893342146428e-14,
          7.321520806441294e-14,
          1.0972342277408159e-13
         ]
        },
        {
         "boxpoints": "all",
         "hovertemplate": "Epoch: %{text}<br>STD: %{y: .0f}",
         "line": {
          "width": 1
         },
         "marker": {
          "size": 3
         },
         "name": "MEG0941",
         "opacity": 0.7,
         "pointpos": 0,
         "text": [
          0,
          1,
          2,
          3,
          4,
          5,
          6,
          7
         ],
         "type": "box",
         "y": [
          6.465149400564052e-14,
          5.254115345840101e-14,
          6.638907737656365e-14,
          7.192148995359999e-14,
          5.640712962423859e-14,
          6.522837174256677e-14,
          5.682219166606271e-14,
          8.805615956141019e-14
         ]
        },
        {
         "boxpoints": "all",
         "hovertemplate": "Epoch: %{text}<br>STD: %{y: .0f}",
         "line": {
          "width": 1
         },
         "marker": {
          "size": 3
         },
         "name": "MEG1011",
         "opacity": 0.7,
         "pointpos": 0,
         "text": [
          0,
          1,
          2,
          3,
          4,
          5,
          6,
          7
         ],
         "type": "box",
         "y": [
          7.424816898090216e-14,
          6.123148410892988e-14,
          7.018978957000037e-14,
          1.108516111758277e-13,
          7.723683102476495e-14,
          9.017935695926581e-14,
          8.684307374085914e-14,
          9.064635191594967e-14
         ]
        },
        {
         "boxpoints": "all",
         "hovertemplate": "Epoch: %{text}<br>STD: %{y: .0f}",
         "line": {
          "width": 1
         },
         "marker": {
          "size": 3
         },
         "name": "MEG1021",
         "opacity": 0.7,
         "pointpos": 0,
         "text": [
          0,
          1,
          2,
          3,
          4,
          5,
          6,
          7
         ],
         "type": "box",
         "y": [
          7.491828248190454e-14,
          5.878534921249124e-14,
          8.172068482615085e-14,
          8.796539659322913e-14,
          7.012673116576177e-14,
          9.07910236538127e-14,
          8.187067513709752e-14,
          8.26581183590536e-14
         ]
        },
        {
         "boxpoints": "all",
         "hovertemplate": "Epoch: %{text}<br>STD: %{y: .0f}",
         "line": {
          "width": 1
         },
         "marker": {
          "size": 3
         },
         "name": "MEG1031",
         "opacity": 0.7,
         "pointpos": 0,
         "text": [
          0,
          1,
          2,
          3,
          4,
          5,
          6,
          7
         ],
         "type": "box",
         "y": [
          8.010514928211035e-14,
          5.6803538340586716e-14,
          7.634814967950322e-14,
          8.38243616645262e-14,
          7.27481865683172e-14,
          8.383328444199126e-14,
          6.903210833490815e-14,
          8.09165262857881e-14
         ]
        },
        {
         "boxpoints": "all",
         "hovertemplate": "Epoch: %{text}<br>STD: %{y: .0f}",
         "line": {
          "width": 1
         },
         "marker": {
          "size": 3
         },
         "name": "MEG1041",
         "opacity": 0.7,
         "pointpos": 0,
         "text": [
          0,
          1,
          2,
          3,
          4,
          5,
          6,
          7
         ],
         "type": "box",
         "y": [
          6.255613058811377e-14,
          5.852832490333046e-14,
          4.5756668690810984e-14,
          6.272323016571755e-14,
          5.892512576632547e-14,
          5.84271385671796e-14,
          5.698840642772032e-14,
          6.920568868986543e-14
         ]
        },
        {
         "boxpoints": "all",
         "hovertemplate": "Epoch: %{text}<br>STD: %{y: .0f}",
         "line": {
          "width": 1
         },
         "marker": {
          "size": 3
         },
         "name": "MEG1111",
         "opacity": 0.7,
         "pointpos": 0,
         "text": [
          0,
          1,
          2,
          3,
          4,
          5,
          6,
          7
         ],
         "type": "box",
         "y": [
          8.617171466556344e-14,
          6.474037261463299e-14,
          8.017295947146958e-14,
          9.818768246683809e-14,
          7.547561706785088e-14,
          7.527030925256372e-14,
          7.46177692133474e-14,
          7.773315046159137e-14
         ]
        },
        {
         "boxpoints": "all",
         "hovertemplate": "Epoch: %{text}<br>STD: %{y: .0f}",
         "line": {
          "width": 1
         },
         "marker": {
          "size": 3
         },
         "name": "MEG1121",
         "opacity": 0.7,
         "pointpos": 0,
         "text": [
          0,
          1,
          2,
          3,
          4,
          5,
          6,
          7
         ],
         "type": "box",
         "y": [
          1.2194875659424137e-13,
          8.865553473347e-14,
          1.3031256924973379e-13,
          1.4221527164474642e-13,
          1.1982229832631946e-13,
          1.1124089160195723e-13,
          1.1310175764147415e-13,
          1.2860105323239406e-13
         ]
        },
        {
         "boxpoints": "all",
         "hovertemplate": "Epoch: %{text}<br>STD: %{y: .0f}",
         "line": {
          "width": 1
         },
         "marker": {
          "size": 3
         },
         "name": "MEG1131",
         "opacity": 0.7,
         "pointpos": 0,
         "text": [
          0,
          1,
          2,
          3,
          4,
          5,
          6,
          7
         ],
         "type": "box",
         "y": [
          1.0158149597354705e-13,
          9.272584694005677e-14,
          1.2642870163321006e-13,
          1.3909474820460032e-13,
          1.0873139179160789e-13,
          9.688440900893049e-14,
          9.512284228548365e-14,
          1.3625719499046347e-13
         ]
        },
        {
         "boxpoints": "all",
         "hovertemplate": "Epoch: %{text}<br>STD: %{y: .0f}",
         "line": {
          "width": 1
         },
         "marker": {
          "size": 3
         },
         "name": "MEG1141",
         "opacity": 0.7,
         "pointpos": 0,
         "text": [
          0,
          1,
          2,
          3,
          4,
          5,
          6,
          7
         ],
         "type": "box",
         "y": [
          7.707198037626988e-14,
          6.0242798914533e-14,
          6.914305240148362e-14,
          9.234308103569018e-14,
          6.848320741712805e-14,
          6.488484848746898e-14,
          6.80832171158454e-14,
          7.592630439653206e-14
         ]
        },
        {
         "boxpoints": "all",
         "hovertemplate": "Epoch: %{text}<br>STD: %{y: .0f}",
         "line": {
          "width": 1
         },
         "marker": {
          "size": 3
         },
         "name": "MEG1211",
         "opacity": 0.7,
         "pointpos": 0,
         "text": [
          0,
          1,
          2,
          3,
          4,
          5,
          6,
          7
         ],
         "type": "box",
         "y": [
          7.261931036445125e-14,
          8.891212612630436e-14,
          8.41574361351874e-14,
          9.668011672041373e-14,
          1.0006533871483093e-13,
          7.642876094808062e-14,
          7.677831631758647e-14,
          7.697250290102811e-14
         ]
        },
        {
         "boxpoints": "all",
         "hovertemplate": "Epoch: %{text}<br>STD: %{y: .0f}",
         "line": {
          "width": 1
         },
         "marker": {
          "size": 3
         },
         "name": "MEG1221",
         "opacity": 0.7,
         "pointpos": 0,
         "text": [
          0,
          1,
          2,
          3,
          4,
          5,
          6,
          7
         ],
         "type": "box",
         "y": [
          1.049885451593322e-13,
          9.487875854169382e-14,
          1.0025272231250507e-13,
          1.0317026470236799e-13,
          1.0585798720264557e-13,
          1.1005763024328715e-13,
          9.53453356564815e-14,
          1.0888290112005662e-13
         ]
        },
        {
         "boxpoints": "all",
         "hovertemplate": "Epoch: %{text}<br>STD: %{y: .0f}",
         "line": {
          "width": 1
         },
         "marker": {
          "size": 3
         },
         "name": "MEG1231",
         "opacity": 0.7,
         "pointpos": 0,
         "text": [
          0,
          1,
          2,
          3,
          4,
          5,
          6,
          7
         ],
         "type": "box",
         "y": [
          1.0789488286228582e-13,
          1.0401859147422063e-13,
          1.3464948206016335e-13,
          1.321916261080618e-13,
          1.2493716604786337e-13,
          1.0130428138168876e-13,
          1.0887622155313304e-13,
          1.3170444472125824e-13
         ]
        },
        {
         "boxpoints": "all",
         "hovertemplate": "Epoch: %{text}<br>STD: %{y: .0f}",
         "line": {
          "width": 1
         },
         "marker": {
          "size": 3
         },
         "name": "MEG1241",
         "opacity": 0.7,
         "pointpos": 0,
         "text": [
          0,
          1,
          2,
          3,
          4,
          5,
          6,
          7
         ],
         "type": "box",
         "y": [
          1.236523157726081e-13,
          9.59336435950982e-14,
          1.4921763732418082e-13,
          1.335439311294868e-13,
          1.2013581829346087e-13,
          1.1464033869889624e-13,
          1.1468989786607196e-13,
          1.4836337952435545e-13
         ]
        },
        {
         "boxpoints": "all",
         "hovertemplate": "Epoch: %{text}<br>STD: %{y: .0f}",
         "line": {
          "width": 1
         },
         "marker": {
          "size": 3
         },
         "name": "MEG1311",
         "opacity": 0.7,
         "pointpos": 0,
         "text": [
          0,
          1,
          2,
          3,
          4,
          5,
          6,
          7
         ],
         "type": "box",
         "y": [
          1.4236240929628785e-13,
          1.0983052263109216e-13,
          1.4941683300660954e-13,
          1.6408162276018084e-13,
          1.375077868735232e-13,
          1.5276048493041864e-13,
          1.4103884335203291e-13,
          1.6582112404122218e-13
         ]
        },
        {
         "boxpoints": "all",
         "hovertemplate": "Epoch: %{text}<br>STD: %{y: .0f}",
         "line": {
          "width": 1
         },
         "marker": {
          "size": 3
         },
         "name": "MEG1321",
         "opacity": 0.7,
         "pointpos": 0,
         "text": [
          0,
          1,
          2,
          3,
          4,
          5,
          6,
          7
         ],
         "type": "box",
         "y": [
          1.5096981395592119e-13,
          1.2383920970980176e-13,
          1.3278449245717424e-13,
          1.5984318103139387e-13,
          1.3333004523695762e-13,
          1.616074336607174e-13,
          1.1330089013371937e-13,
          2.015838228000715e-13
         ]
        },
        {
         "boxpoints": "all",
         "hovertemplate": "Epoch: %{text}<br>STD: %{y: .0f}",
         "line": {
          "width": 1
         },
         "marker": {
          "size": 3
         },
         "name": "MEG1331",
         "opacity": 0.7,
         "pointpos": 0,
         "text": [
          0,
          1,
          2,
          3,
          4,
          5,
          6,
          7
         ],
         "type": "box",
         "y": [
          1.6948783397272896e-13,
          1.6182099244460366e-13,
          1.5080557198991677e-13,
          1.903891710882028e-13,
          1.7172908338565783e-13,
          1.5635418523275565e-13,
          1.3964604762398572e-13,
          1.9245671244007892e-13
         ]
        },
        {
         "boxpoints": "all",
         "hovertemplate": "Epoch: %{text}<br>STD: %{y: .0f}",
         "line": {
          "width": 1
         },
         "marker": {
          "size": 3
         },
         "name": "MEG1341",
         "opacity": 0.7,
         "pointpos": 0,
         "text": [
          0,
          1,
          2,
          3,
          4,
          5,
          6,
          7
         ],
         "type": "box",
         "y": [
          1.382843888474331e-13,
          1.0946684782421287e-13,
          1.541182053098796e-13,
          1.7029552925621966e-13,
          1.3396994901152601e-13,
          1.37342437593808e-13,
          1.319156319606406e-13,
          1.8736267985373195e-13
         ]
        },
        {
         "boxpoints": "all",
         "hovertemplate": "Epoch: %{text}<br>STD: %{y: .0f}",
         "line": {
          "width": 1
         },
         "marker": {
          "size": 3
         },
         "name": "MEG1411",
         "opacity": 0.7,
         "pointpos": 0,
         "text": [
          0,
          1,
          2,
          3,
          4,
          5,
          6,
          7
         ],
         "type": "box",
         "y": [
          1.194387019780197e-13,
          1.3665066164655626e-13,
          1.2357141278792866e-13,
          1.500591484723344e-13,
          1.3284292719397492e-13,
          1.1223333433244865e-13,
          1.3075758019796953e-13,
          1.3190942417703055e-13
         ]
        },
        {
         "boxpoints": "all",
         "hovertemplate": "Epoch: %{text}<br>STD: %{y: .0f}",
         "line": {
          "width": 1
         },
         "marker": {
          "size": 3
         },
         "name": "MEG1421",
         "opacity": 0.7,
         "pointpos": 0,
         "text": [
          0,
          1,
          2,
          3,
          4,
          5,
          6,
          7
         ],
         "type": "box",
         "y": [
          1.653929465530057e-13,
          1.9822549873428091e-13,
          2.0133588385620652e-13,
          2.4111403610284643e-13,
          1.7984737396831608e-13,
          2.0268344797669007e-13,
          1.9229648766235385e-13,
          1.9600058118626946e-13
         ]
        },
        {
         "boxpoints": "all",
         "hovertemplate": "Epoch: %{text}<br>STD: %{y: .0f}",
         "line": {
          "width": 1
         },
         "marker": {
          "size": 3
         },
         "name": "MEG1431",
         "opacity": 0.7,
         "pointpos": 0,
         "text": [
          0,
          1,
          2,
          3,
          4,
          5,
          6,
          7
         ],
         "type": "box",
         "y": [
          1.628309304882397e-13,
          1.8526091664174306e-13,
          1.9166990484145654e-13,
          2.2383952180266687e-13,
          1.8817739852246857e-13,
          2.1479203752624877e-13,
          1.7788768082850502e-13,
          1.844362879196972e-13
         ]
        },
        {
         "boxpoints": "all",
         "hovertemplate": "Epoch: %{text}<br>STD: %{y: .0f}",
         "line": {
          "width": 1
         },
         "marker": {
          "size": 3
         },
         "name": "MEG1441",
         "opacity": 0.7,
         "pointpos": 0,
         "text": [
          0,
          1,
          2,
          3,
          4,
          5,
          6,
          7
         ],
         "type": "box",
         "y": [
          1.333682849095398e-13,
          1.3651592929327877e-13,
          1.2081175607711584e-13,
          1.3308728148671475e-13,
          1.5245175948232578e-13,
          1.3963356822963246e-13,
          1.4028456724769026e-13,
          1.577988802730069e-13
         ]
        },
        {
         "boxpoints": "all",
         "hovertemplate": "Epoch: %{text}<br>STD: %{y: .0f}",
         "line": {
          "width": 1
         },
         "marker": {
          "size": 3
         },
         "name": "MEG1511",
         "opacity": 0.7,
         "pointpos": 0,
         "text": [
          0,
          1,
          2,
          3,
          4,
          5,
          6,
          7
         ],
         "type": "box",
         "y": [
          8.67053984843497e-14,
          7.557757692861477e-14,
          8.042188514207397e-14,
          6.96712669509257e-14,
          1.0796028440968262e-13,
          8.395821969127884e-14,
          7.859874899415009e-14,
          9.259453543112189e-14
         ]
        },
        {
         "boxpoints": "all",
         "hovertemplate": "Epoch: %{text}<br>STD: %{y: .0f}",
         "line": {
          "width": 1
         },
         "marker": {
          "size": 3
         },
         "name": "MEG1521",
         "opacity": 0.7,
         "pointpos": 0,
         "text": [
          0,
          1,
          2,
          3,
          4,
          5,
          6,
          7
         ],
         "type": "box",
         "y": [
          1.282622762363831e-13,
          9.971623456269413e-14,
          1.2840822704050247e-13,
          1.2580138795190224e-13,
          1.3195223713466323e-13,
          1.2417582723558924e-13,
          1.0688941393290928e-13,
          1.461533766690224e-13
         ]
        },
        {
         "boxpoints": "all",
         "hovertemplate": "Epoch: %{text}<br>STD: %{y: .0f}",
         "line": {
          "width": 1
         },
         "marker": {
          "size": 3
         },
         "name": "MEG1531",
         "opacity": 0.7,
         "pointpos": 0,
         "text": [
          0,
          1,
          2,
          3,
          4,
          5,
          6,
          7
         ],
         "type": "box",
         "y": [
          1.5233091257899284e-13,
          1.5895219287655238e-13,
          1.4956600688841766e-13,
          1.5582589364704336e-13,
          1.1409121481844265e-13,
          1.7855394656421275e-13,
          1.8108361209430132e-13,
          2.0538498185941403e-13
         ]
        },
        {
         "boxpoints": "all",
         "hovertemplate": "Epoch: %{text}<br>STD: %{y: .0f}",
         "line": {
          "width": 1
         },
         "marker": {
          "size": 3
         },
         "name": "MEG1541",
         "opacity": 0.7,
         "pointpos": 0,
         "text": [
          0,
          1,
          2,
          3,
          4,
          5,
          6,
          7
         ],
         "type": "box",
         "y": [
          1.4366748670284522e-13,
          1.254880710726529e-13,
          1.276230586817411e-13,
          1.4342658375033255e-13,
          1.0008324887262694e-13,
          1.4923931061568369e-13,
          1.47592648261033e-13,
          1.6890285649896574e-13
         ]
        },
        {
         "boxpoints": "all",
         "hovertemplate": "Epoch: %{text}<br>STD: %{y: .0f}",
         "line": {
          "width": 1
         },
         "marker": {
          "size": 3
         },
         "name": "MEG1611",
         "opacity": 0.7,
         "pointpos": 0,
         "text": [
          0,
          1,
          2,
          3,
          4,
          5,
          6,
          7
         ],
         "type": "box",
         "y": [
          1.4345267377055517e-13,
          1.3146994839074634e-13,
          1.6107058644373885e-13,
          1.7744938279084537e-13,
          1.6324886133092852e-13,
          1.8716014058428247e-13,
          1.5536840036613325e-13,
          2.0292849070684715e-13
         ]
        },
        {
         "boxpoints": "all",
         "hovertemplate": "Epoch: %{text}<br>STD: %{y: .0f}",
         "line": {
          "width": 1
         },
         "marker": {
          "size": 3
         },
         "name": "MEG1621",
         "opacity": 0.7,
         "pointpos": 0,
         "text": [
          0,
          1,
          2,
          3,
          4,
          5,
          6,
          7
         ],
         "type": "box",
         "y": [
          1.2577985928348296e-13,
          1.2363696798459016e-13,
          1.1980033380841636e-13,
          1.4226646213027883e-13,
          1.1838035382841454e-13,
          1.2022072488830624e-13,
          1.1803909000250226e-13,
          1.293282055818811e-13
         ]
        },
        {
         "boxpoints": "all",
         "hovertemplate": "Epoch: %{text}<br>STD: %{y: .0f}",
         "line": {
          "width": 1
         },
         "marker": {
          "size": 3
         },
         "name": "MEG1631",
         "opacity": 0.7,
         "pointpos": 0,
         "text": [
          0,
          1,
          2,
          3,
          4,
          5,
          6,
          7
         ],
         "type": "box",
         "y": [
          9.31810682764466e-14,
          1.0514550897020203e-13,
          1.0812264026471443e-13,
          1.3025768445113916e-13,
          8.920901406291324e-14,
          1.0776420385567325e-13,
          1.0460298269966179e-13,
          1.1989503171219997e-13
         ]
        },
        {
         "boxpoints": "all",
         "hovertemplate": "Epoch: %{text}<br>STD: %{y: .0f}",
         "line": {
          "width": 1
         },
         "marker": {
          "size": 3
         },
         "name": "MEG1641",
         "opacity": 0.7,
         "pointpos": 0,
         "text": [
          0,
          1,
          2,
          3,
          4,
          5,
          6,
          7
         ],
         "type": "box",
         "y": [
          1.2233147944794633e-13,
          1.290518897703942e-13,
          1.407083647446613e-13,
          1.8231533032551498e-13,
          1.4047354087815246e-13,
          1.7284880489035192e-13,
          1.1235746482584902e-13,
          1.756080736841558e-13
         ]
        },
        {
         "boxpoints": "all",
         "hovertemplate": "Epoch: %{text}<br>STD: %{y: .0f}",
         "line": {
          "width": 1
         },
         "marker": {
          "size": 3
         },
         "name": "MEG1711",
         "opacity": 0.7,
         "pointpos": 0,
         "text": [
          0,
          1,
          2,
          3,
          4,
          5,
          6,
          7
         ],
         "type": "box",
         "y": [
          1.879590853498511e-13,
          1.7885522604171822e-13,
          1.9883077356714e-13,
          1.8650824155837262e-13,
          1.631770222217937e-13,
          2.0340934073744324e-13,
          1.9012370017095175e-13,
          2.1649736724723864e-13
         ]
        },
        {
         "boxpoints": "all",
         "hovertemplate": "Epoch: %{text}<br>STD: %{y: .0f}",
         "line": {
          "width": 1
         },
         "marker": {
          "size": 3
         },
         "name": "MEG1721",
         "opacity": 0.7,
         "pointpos": 0,
         "text": [
          0,
          1,
          2,
          3,
          4,
          5,
          6,
          7
         ],
         "type": "box",
         "y": [
          1.8501828172996269e-13,
          1.3057640548071848e-13,
          1.5554721743911458e-13,
          1.75023775032587e-13,
          1.52288289121014e-13,
          1.6563790843967576e-13,
          1.2794065445793898e-13,
          1.8330956266519805e-13
         ]
        },
        {
         "boxpoints": "all",
         "hovertemplate": "Epoch: %{text}<br>STD: %{y: .0f}",
         "line": {
          "width": 1
         },
         "marker": {
          "size": 3
         },
         "name": "MEG1731",
         "opacity": 0.7,
         "pointpos": 0,
         "text": [
          0,
          1,
          2,
          3,
          4,
          5,
          6,
          7
         ],
         "type": "box",
         "y": [
          2.1664831541304426e-13,
          1.5488462904665004e-13,
          1.8656650699057942e-13,
          1.8232623905661877e-13,
          1.9251271860774708e-13,
          1.913446002889207e-13,
          1.5344960876867794e-13,
          1.7116789304434641e-13
         ]
        },
        {
         "boxpoints": "all",
         "hovertemplate": "Epoch: %{text}<br>STD: %{y: .0f}",
         "line": {
          "width": 1
         },
         "marker": {
          "size": 3
         },
         "name": "MEG1741",
         "opacity": 0.7,
         "pointpos": 0,
         "text": [
          0,
          1,
          2,
          3,
          4,
          5,
          6,
          7
         ],
         "type": "box",
         "y": [
          1.9420452424764024e-13,
          2.085116421994522e-13,
          2.1354342640493408e-13,
          2.1735934379391963e-13,
          1.844967221133675e-13,
          1.953687005557939e-13,
          2.092415630275795e-13,
          2.1244611675664724e-13
         ]
        },
        {
         "boxpoints": "all",
         "hovertemplate": "Epoch: %{text}<br>STD: %{y: .0f}",
         "line": {
          "width": 1
         },
         "marker": {
          "size": 3
         },
         "name": "MEG1811",
         "opacity": 0.7,
         "pointpos": 0,
         "text": [
          0,
          1,
          2,
          3,
          4,
          5,
          6,
          7
         ],
         "type": "box",
         "y": [
          7.161297920082256e-14,
          8.563722598608398e-14,
          8.018161353608985e-14,
          9.201553349868213e-14,
          8.458034037167928e-14,
          7.53035307504419e-14,
          6.90536767841391e-14,
          9.897954851079747e-14
         ]
        },
        {
         "boxpoints": "all",
         "hovertemplate": "Epoch: %{text}<br>STD: %{y: .0f}",
         "line": {
          "width": 1
         },
         "marker": {
          "size": 3
         },
         "name": "MEG1821",
         "opacity": 0.7,
         "pointpos": 0,
         "text": [
          0,
          1,
          2,
          3,
          4,
          5,
          6,
          7
         ],
         "type": "box",
         "y": [
          1.0088633007680764e-13,
          8.719116883851966e-14,
          7.854141994883729e-14,
          8.515485241797632e-14,
          8.257212901032966e-14,
          1.0925317351013473e-13,
          7.76752083151569e-14,
          1.2059217250217631e-13
         ]
        },
        {
         "boxpoints": "all",
         "hovertemplate": "Epoch: %{text}<br>STD: %{y: .0f}",
         "line": {
          "width": 1
         },
         "marker": {
          "size": 3
         },
         "name": "MEG1831",
         "opacity": 0.7,
         "pointpos": 0,
         "text": [
          0,
          1,
          2,
          3,
          4,
          5,
          6,
          7
         ],
         "type": "box",
         "y": [
          8.629598225731904e-14,
          8.497027500705721e-14,
          9.456533998079948e-14,
          9.306283105132848e-14,
          9.988958159951001e-14,
          9.236575536830352e-14,
          9.63662527649792e-14,
          9.708818889791491e-14
         ]
        },
        {
         "boxpoints": "all",
         "hovertemplate": "Epoch: %{text}<br>STD: %{y: .0f}",
         "line": {
          "width": 1
         },
         "marker": {
          "size": 3
         },
         "name": "MEG1841",
         "opacity": 0.7,
         "pointpos": 0,
         "text": [
          0,
          1,
          2,
          3,
          4,
          5,
          6,
          7
         ],
         "type": "box",
         "y": [
          7.640542808042404e-14,
          6.390815137163299e-14,
          7.294543438915334e-14,
          6.594125195578871e-14,
          7.313560136066504e-14,
          7.40301123054376e-14,
          6.924642772334598e-14,
          7.462080180049884e-14
         ]
        },
        {
         "boxpoints": "all",
         "hovertemplate": "Epoch: %{text}<br>STD: %{y: .0f}",
         "line": {
          "width": 1
         },
         "marker": {
          "size": 3
         },
         "name": "MEG1911",
         "opacity": 0.7,
         "pointpos": 0,
         "text": [
          0,
          1,
          2,
          3,
          4,
          5,
          6,
          7
         ],
         "type": "box",
         "y": [
          1.0783386603522904e-13,
          7.67580299844173e-14,
          9.479865876779489e-14,
          1.0803471370326465e-13,
          9.708064208435475e-14,
          9.995030820617497e-14,
          1.098979568416085e-13,
          1.0794840580502474e-13
         ]
        },
        {
         "boxpoints": "all",
         "hovertemplate": "Epoch: %{text}<br>STD: %{y: .0f}",
         "line": {
          "width": 1
         },
         "marker": {
          "size": 3
         },
         "name": "MEG1921",
         "opacity": 0.7,
         "pointpos": 0,
         "text": [
          0,
          1,
          2,
          3,
          4,
          5,
          6,
          7
         ],
         "type": "box",
         "y": [
          1.151758254035825e-13,
          1.0789109671671738e-13,
          1.166267975236737e-13,
          1.1946507933044667e-13,
          1.677840660090059e-13,
          1.0911096971021837e-13,
          1.190661509094886e-13,
          1.1054364617605273e-13
         ]
        },
        {
         "boxpoints": "all",
         "hovertemplate": "Epoch: %{text}<br>STD: %{y: .0f}",
         "line": {
          "width": 1
         },
         "marker": {
          "size": 3
         },
         "name": "MEG1931",
         "opacity": 0.7,
         "pointpos": 0,
         "text": [
          0,
          1,
          2,
          3,
          4,
          5,
          6,
          7
         ],
         "type": "box",
         "y": [
          1.602059716200054e-13,
          1.4193370708762354e-13,
          1.3075539606114125e-13,
          1.4245520747853632e-13,
          1.6369968131347512e-13,
          1.4736314913225898e-13,
          1.4442568088797664e-13,
          1.5583074915052046e-13
         ]
        },
        {
         "boxpoints": "all",
         "hovertemplate": "Epoch: %{text}<br>STD: %{y: .0f}",
         "line": {
          "width": 1
         },
         "marker": {
          "size": 3
         },
         "name": "MEG1941",
         "opacity": 0.7,
         "pointpos": 0,
         "text": [
          0,
          1,
          2,
          3,
          4,
          5,
          6,
          7
         ],
         "type": "box",
         "y": [
          1.2818322716059837e-13,
          9.527933234799073e-14,
          1.2258814193875459e-13,
          1.5029696953960316e-13,
          1.3387124886227015e-13,
          1.5608447035057235e-13,
          1.1591395101896132e-13,
          1.4865354608793467e-13
         ]
        },
        {
         "boxpoints": "all",
         "hovertemplate": "Epoch: %{text}<br>STD: %{y: .0f}",
         "line": {
          "width": 1
         },
         "marker": {
          "size": 3
         },
         "name": "MEG2011",
         "opacity": 0.7,
         "pointpos": 0,
         "text": [
          0,
          1,
          2,
          3,
          4,
          5,
          6,
          7
         ],
         "type": "box",
         "y": [
          8.449910580077512e-14,
          8.309613296044293e-14,
          8.99259538834453e-14,
          9.841865916236949e-14,
          1.099610493452574e-13,
          1.000177155625096e-13,
          8.042251477029717e-14,
          1.102441135403967e-13
         ]
        },
        {
         "boxpoints": "all",
         "hovertemplate": "Epoch: %{text}<br>STD: %{y: .0f}",
         "line": {
          "width": 1
         },
         "marker": {
          "size": 3
         },
         "name": "MEG2021",
         "opacity": 0.7,
         "pointpos": 0,
         "text": [
          0,
          1,
          2,
          3,
          4,
          5,
          6,
          7
         ],
         "type": "box",
         "y": [
          8.296196049792741e-14,
          6.683071418550699e-14,
          7.87568783309702e-14,
          8.819605111024477e-14,
          7.655364534397219e-14,
          7.120534261872604e-14,
          5.770146476714096e-14,
          8.161702817239472e-14
         ]
        },
        {
         "boxpoints": "all",
         "hovertemplate": "Epoch: %{text}<br>STD: %{y: .0f}",
         "line": {
          "width": 1
         },
         "marker": {
          "size": 3
         },
         "name": "MEG2031",
         "opacity": 0.7,
         "pointpos": 0,
         "text": [
          0,
          1,
          2,
          3,
          4,
          5,
          6,
          7
         ],
         "type": "box",
         "y": [
          1.203425904612617e-13,
          8.923974631100025e-14,
          1.0889710300372257e-13,
          1.0757356772332638e-13,
          1.197141104163424e-13,
          1.1104205664072582e-13,
          9.284612794818819e-14,
          1.2692245949708657e-13
         ]
        },
        {
         "boxpoints": "all",
         "hovertemplate": "Epoch: %{text}<br>STD: %{y: .0f}",
         "line": {
          "width": 1
         },
         "marker": {
          "size": 3
         },
         "name": "MEG2041",
         "opacity": 0.7,
         "pointpos": 0,
         "text": [
          0,
          1,
          2,
          3,
          4,
          5,
          6,
          7
         ],
         "type": "box",
         "y": [
          1.087389138346228e-13,
          9.651911702756265e-14,
          1.0015067576958592e-13,
          1.2442765156055596e-13,
          1.4439011089490703e-13,
          8.976781517715014e-14,
          1.007939299541711e-13,
          1.282591629895782e-13
         ]
        },
        {
         "boxpoints": "all",
         "hovertemplate": "Epoch: %{text}<br>STD: %{y: .0f}",
         "line": {
          "width": 1
         },
         "marker": {
          "size": 3
         },
         "name": "MEG2111",
         "opacity": 0.7,
         "pointpos": 0,
         "text": [
          0,
          1,
          2,
          3,
          4,
          5,
          6,
          7
         ],
         "type": "box",
         "y": [
          1.7296432487871823e-13,
          1.308124700798212e-13,
          1.383202090332857e-13,
          1.4929571133230588e-13,
          1.9780558475556873e-13,
          1.5297411675530248e-13,
          1.2746403999325088e-13,
          1.5433188392316454e-13
         ]
        },
        {
         "boxpoints": "all",
         "hovertemplate": "Epoch: %{text}<br>STD: %{y: .0f}",
         "line": {
          "width": 1
         },
         "marker": {
          "size": 3
         },
         "name": "MEG2121",
         "opacity": 0.7,
         "pointpos": 0,
         "text": [
          0,
          1,
          2,
          3,
          4,
          5,
          6,
          7
         ],
         "type": "box",
         "y": [
          2.119879062594719e-13,
          2.0307113997606978e-13,
          2.202092144726308e-13,
          2.002109457051885e-13,
          2.169651644185584e-13,
          2.1442348691821165e-13,
          1.787594879764585e-13,
          1.8075484478830065e-13
         ]
        },
        {
         "boxpoints": "all",
         "hovertemplate": "Epoch: %{text}<br>STD: %{y: .0f}",
         "line": {
          "width": 1
         },
         "marker": {
          "size": 3
         },
         "name": "MEG2131",
         "opacity": 0.7,
         "pointpos": 0,
         "text": [
          0,
          1,
          2,
          3,
          4,
          5,
          6,
          7
         ],
         "type": "box",
         "y": [
          1.8551303011374065e-13,
          1.796836103538963e-13,
          2.158496155003474e-13,
          2.0872883939846124e-13,
          1.8093272268622666e-13,
          1.951618683121038e-13,
          1.840371090292772e-13,
          1.8145871798273264e-13
         ]
        },
        {
         "boxpoints": "all",
         "hovertemplate": "Epoch: %{text}<br>STD: %{y: .0f}",
         "line": {
          "width": 1
         },
         "marker": {
          "size": 3
         },
         "name": "MEG2141",
         "opacity": 0.7,
         "pointpos": 0,
         "text": [
          0,
          1,
          2,
          3,
          4,
          5,
          6,
          7
         ],
         "type": "box",
         "y": [
          1.4322436351800146e-13,
          1.3928775195672433e-13,
          1.3696956874362345e-13,
          1.6124987194098588e-13,
          1.4677797772168218e-13,
          1.451690147164732e-13,
          1.607119875759288e-13,
          1.5319500534124795e-13
         ]
        },
        {
         "boxpoints": "all",
         "hovertemplate": "Epoch: %{text}<br>STD: %{y: .0f}",
         "line": {
          "width": 1
         },
         "marker": {
          "size": 3
         },
         "name": "MEG2211",
         "opacity": 0.7,
         "pointpos": 0,
         "text": [
          0,
          1,
          2,
          3,
          4,
          5,
          6,
          7
         ],
         "type": "box",
         "y": [
          7.259232170082524e-14,
          6.030442061093784e-14,
          5.692708825331106e-14,
          7.682225714784902e-14,
          7.728615795256654e-14,
          7.928928694019544e-14,
          6.249050467483948e-14,
          7.367493811326239e-14
         ]
        },
        {
         "boxpoints": "all",
         "hovertemplate": "Epoch: %{text}<br>STD: %{y: .0f}",
         "line": {
          "width": 1
         },
         "marker": {
          "size": 3
         },
         "name": "MEG2221",
         "opacity": 0.7,
         "pointpos": 0,
         "text": [
          0,
          1,
          2,
          3,
          4,
          5,
          6,
          7
         ],
         "type": "box",
         "y": [
          8.325756526379157e-14,
          7.958146096961559e-14,
          7.935205278546555e-14,
          9.292507717997887e-14,
          9.649712863271525e-14,
          9.867168659882705e-14,
          7.790388518364531e-14,
          1.0562602859991699e-13
         ]
        },
        {
         "boxpoints": "all",
         "hovertemplate": "Epoch: %{text}<br>STD: %{y: .0f}",
         "line": {
          "width": 1
         },
         "marker": {
          "size": 3
         },
         "name": "MEG2231",
         "opacity": 0.7,
         "pointpos": 0,
         "text": [
          0,
          1,
          2,
          3,
          4,
          5,
          6,
          7
         ],
         "type": "box",
         "y": [
          9.377665377007872e-14,
          6.668727249564522e-14,
          7.033446496303929e-14,
          9.103100178357167e-14,
          7.589771095933334e-14,
          7.377917362566631e-14,
          6.266126056960055e-14,
          9.911449334919857e-14
         ]
        },
        {
         "boxpoints": "all",
         "hovertemplate": "Epoch: %{text}<br>STD: %{y: .0f}",
         "line": {
          "width": 1
         },
         "marker": {
          "size": 3
         },
         "name": "MEG2241",
         "opacity": 0.7,
         "pointpos": 0,
         "text": [
          0,
          1,
          2,
          3,
          4,
          5,
          6,
          7
         ],
         "type": "box",
         "y": [
          9.616898848227808e-14,
          8.131968200427683e-14,
          1.0328106394924981e-13,
          1.2123309891194405e-13,
          1.0238466480219815e-13,
          9.824840829716508e-14,
          1.0077098252534727e-13,
          1.0399006510361635e-13
         ]
        },
        {
         "boxpoints": "all",
         "hovertemplate": "Epoch: %{text}<br>STD: %{y: .0f}",
         "line": {
          "width": 1
         },
         "marker": {
          "size": 3
         },
         "name": "MEG2311",
         "opacity": 0.7,
         "pointpos": 0,
         "text": [
          0,
          1,
          2,
          3,
          4,
          5,
          6,
          7
         ],
         "type": "box",
         "y": [
          1.4885011276179691e-13,
          1.0405433338790102e-13,
          1.444604812554969e-13,
          1.3629029480246188e-13,
          1.1805362177590557e-13,
          1.3290175343652372e-13,
          1.1083090061344393e-13,
          1.2904421246595512e-13
         ]
        },
        {
         "boxpoints": "all",
         "hovertemplate": "Epoch: %{text}<br>STD: %{y: .0f}",
         "line": {
          "width": 1
         },
         "marker": {
          "size": 3
         },
         "name": "MEG2321",
         "opacity": 0.7,
         "pointpos": 0,
         "text": [
          0,
          1,
          2,
          3,
          4,
          5,
          6,
          7
         ],
         "type": "box",
         "y": [
          2.074391178121938e-13,
          1.4727359527157508e-13,
          1.7945567355104904e-13,
          1.6301151224201845e-13,
          1.8503676135403942e-13,
          1.84369999816145e-13,
          1.8414249888282202e-13,
          1.8227490851886385e-13
         ]
        },
        {
         "boxpoints": "all",
         "hovertemplate": "Epoch: %{text}<br>STD: %{y: .0f}",
         "line": {
          "width": 1
         },
         "marker": {
          "size": 3
         },
         "name": "MEG2331",
         "opacity": 0.7,
         "pointpos": 0,
         "text": [
          0,
          1,
          2,
          3,
          4,
          5,
          6,
          7
         ],
         "type": "box",
         "y": [
          2.3181803743450783e-13,
          1.688445127812186e-13,
          1.881992200462593e-13,
          1.799723036215924e-13,
          2.363286073876113e-13,
          2.2178064914546716e-13,
          1.7752542451825707e-13,
          1.8470172542237185e-13
         ]
        },
        {
         "boxpoints": "all",
         "hovertemplate": "Epoch: %{text}<br>STD: %{y: .0f}",
         "line": {
          "width": 1
         },
         "marker": {
          "size": 3
         },
         "name": "MEG2341",
         "opacity": 0.7,
         "pointpos": 0,
         "text": [
          0,
          1,
          2,
          3,
          4,
          5,
          6,
          7
         ],
         "type": "box",
         "y": [
          1.1789250085208816e-13,
          7.837062408438257e-14,
          1.1314189400541733e-13,
          1.0832821017173232e-13,
          1.1188400094912663e-13,
          1.2276391777381867e-13,
          8.35660252737235e-14,
          1.1718155752615228e-13
         ]
        },
        {
         "boxpoints": "all",
         "hovertemplate": "Epoch: %{text}<br>STD: %{y: .0f}",
         "line": {
          "width": 1
         },
         "marker": {
          "size": 3
         },
         "name": "MEG2411",
         "opacity": 0.7,
         "pointpos": 0,
         "text": [
          0,
          1,
          2,
          3,
          4,
          5,
          6,
          7
         ],
         "type": "box",
         "y": [
          1.2259684616545488e-13,
          1.0609948416911915e-13,
          1.1332032796092389e-13,
          1.4026018900824203e-13,
          1.4840987834669766e-13,
          1.3442443884510209e-13,
          1.2688820617075348e-13,
          1.4853025159286382e-13
         ]
        },
        {
         "boxpoints": "all",
         "hovertemplate": "Epoch: %{text}<br>STD: %{y: .0f}",
         "line": {
          "width": 1
         },
         "marker": {
          "size": 3
         },
         "name": "MEG2421",
         "opacity": 0.7,
         "pointpos": 0,
         "text": [
          0,
          1,
          2,
          3,
          4,
          5,
          6,
          7
         ],
         "type": "box",
         "y": [
          1.3466315168040205e-13,
          1.31447896684853e-13,
          1.0732285489325353e-13,
          1.3634797859337306e-13,
          1.4876143447455855e-13,
          1.3290049811446737e-13,
          1.230735424354027e-13,
          1.541751769682119e-13
         ]
        },
        {
         "boxpoints": "all",
         "hovertemplate": "Epoch: %{text}<br>STD: %{y: .0f}",
         "line": {
          "width": 1
         },
         "marker": {
          "size": 3
         },
         "name": "MEG2431",
         "opacity": 0.7,
         "pointpos": 0,
         "text": [
          0,
          1,
          2,
          3,
          4,
          5,
          6,
          7
         ],
         "type": "box",
         "y": [
          1.784601029455765e-13,
          1.27755908928945e-13,
          1.551328347735817e-13,
          1.4840853595916465e-13,
          1.52110442523317e-13,
          1.6204492302286655e-13,
          1.552456326752433e-13,
          1.6852867984885284e-13
         ]
        },
        {
         "boxpoints": "all",
         "hovertemplate": "Epoch: %{text}<br>STD: %{y: .0f}",
         "line": {
          "width": 1
         },
         "marker": {
          "size": 3
         },
         "name": "MEG2441",
         "opacity": 0.7,
         "pointpos": 0,
         "text": [
          0,
          1,
          2,
          3,
          4,
          5,
          6,
          7
         ],
         "type": "box",
         "y": [
          1.3707903586579853e-13,
          1.0524765021770805e-13,
          1.272687782787577e-13,
          1.3178192661631932e-13,
          1.2993070603630363e-13,
          1.285686151152425e-13,
          1.1887794449363935e-13,
          1.5751310969224366e-13
         ]
        },
        {
         "boxpoints": "all",
         "hovertemplate": "Epoch: %{text}<br>STD: %{y: .0f}",
         "line": {
          "width": 1
         },
         "marker": {
          "size": 3
         },
         "name": "MEG2511",
         "opacity": 0.7,
         "pointpos": 0,
         "text": [
          0,
          1,
          2,
          3,
          4,
          5,
          6,
          7
         ],
         "type": "box",
         "y": [
          2.0833789588190298e-13,
          1.2974980051997375e-13,
          1.5250722476322292e-13,
          1.4100069444668899e-13,
          1.8680265051764953e-13,
          1.8803291610208515e-13,
          1.6481401265491158e-13,
          2.0894848949553306e-13
         ]
        },
        {
         "boxpoints": "all",
         "hovertemplate": "Epoch: %{text}<br>STD: %{y: .0f}",
         "line": {
          "width": 1
         },
         "marker": {
          "size": 3
         },
         "name": "MEG2521",
         "opacity": 0.7,
         "pointpos": 0,
         "text": [
          0,
          1,
          2,
          3,
          4,
          5,
          6,
          7
         ],
         "type": "box",
         "y": [
          1.7882910592753595e-13,
          1.2520228526199148e-13,
          1.344820014235942e-13,
          1.3648495310754507e-13,
          1.4940967734443719e-13,
          1.7735133480259e-13,
          1.351194166432028e-13,
          1.9956361334374437e-13
         ]
        },
        {
         "boxpoints": "all",
         "hovertemplate": "Epoch: %{text}<br>STD: %{y: .0f}",
         "line": {
          "width": 1
         },
         "marker": {
          "size": 3
         },
         "name": "MEG2531",
         "opacity": 0.7,
         "pointpos": 0,
         "text": [
          0,
          1,
          2,
          3,
          4,
          5,
          6,
          7
         ],
         "type": "box",
         "y": [
          1.450988229509652e-13,
          1.4766895267495013e-13,
          1.4571317580732081e-13,
          1.7356070203960832e-13,
          1.5923177443268553e-13,
          1.623847173112951e-13,
          1.5972323244038386e-13,
          1.965911138181672e-13
         ]
        },
        {
         "boxpoints": "all",
         "hovertemplate": "Epoch: %{text}<br>STD: %{y: .0f}",
         "line": {
          "width": 1
         },
         "marker": {
          "size": 3
         },
         "name": "MEG2541",
         "opacity": 0.7,
         "pointpos": 0,
         "text": [
          0,
          1,
          2,
          3,
          4,
          5,
          6,
          7
         ],
         "type": "box",
         "y": [
          1.5208689986646538e-13,
          1.5625579188013927e-13,
          1.828188366779684e-13,
          1.8805191702402612e-13,
          1.7237790712842327e-13,
          1.716893908054778e-13,
          1.7579911981272222e-13,
          1.969232054653501e-13
         ]
        },
        {
         "boxpoints": "all",
         "hovertemplate": "Epoch: %{text}<br>STD: %{y: .0f}",
         "line": {
          "width": 1
         },
         "marker": {
          "size": 3
         },
         "name": "MEG2611",
         "opacity": 0.7,
         "pointpos": 0,
         "text": [
          0,
          1,
          2,
          3,
          4,
          5,
          6,
          7
         ],
         "type": "box",
         "y": [
          1.2407934856059465e-13,
          1.378299598020411e-13,
          1.1490818747118712e-13,
          1.0430445991095317e-13,
          1.2007041443135697e-13,
          1.0627938286492931e-13,
          1.2225096298602004e-13,
          1.2101510249714823e-13
         ]
        },
        {
         "boxpoints": "all",
         "hovertemplate": "Epoch: %{text}<br>STD: %{y: .0f}",
         "line": {
          "width": 1
         },
         "marker": {
          "size": 3
         },
         "name": "MEG2621",
         "opacity": 0.7,
         "pointpos": 0,
         "text": [
          0,
          1,
          2,
          3,
          4,
          5,
          6,
          7
         ],
         "type": "box",
         "y": [
          1.5033774761988993e-13,
          1.362064160949278e-13,
          1.4128614908569779e-13,
          1.7426810516814479e-13,
          1.6851501484118636e-13,
          1.7553806787136617e-13,
          1.5124824509567925e-13,
          1.6708059498742264e-13
         ]
        },
        {
         "boxpoints": "all",
         "hovertemplate": "Epoch: %{text}<br>STD: %{y: .0f}",
         "line": {
          "width": 1
         },
         "marker": {
          "size": 3
         },
         "name": "MEG2631",
         "opacity": 0.7,
         "pointpos": 0,
         "text": [
          0,
          1,
          2,
          3,
          4,
          5,
          6,
          7
         ],
         "type": "box",
         "y": [
          1.3890184209789645e-13,
          1.303849897211365e-13,
          1.2112483458284956e-13,
          1.5756606830689482e-13,
          1.4870579228685192e-13,
          1.5849054044198164e-13,
          1.3956153816709248e-13,
          1.64137982154063e-13
         ]
        },
        {
         "boxpoints": "all",
         "hovertemplate": "Epoch: %{text}<br>STD: %{y: .0f}",
         "line": {
          "width": 1
         },
         "marker": {
          "size": 3
         },
         "name": "MEG2641",
         "opacity": 0.7,
         "pointpos": 0,
         "text": [
          0,
          1,
          2,
          3,
          4,
          5,
          6,
          7
         ],
         "type": "box",
         "y": [
          1.2735871195990883e-13,
          1.179587544168404e-13,
          1.0995247938002067e-13,
          1.007684572748231e-13,
          1.1933951641029336e-13,
          1.0934550111433287e-13,
          1.1522477834431456e-13,
          1.1786343688575827e-13
         ]
        }
       ],
       "layout": {
        "template": {
         "data": {
          "bar": [
           {
            "error_x": {
             "color": "#2a3f5f"
            },
            "error_y": {
             "color": "#2a3f5f"
            },
            "marker": {
             "line": {
              "color": "#E5ECF6",
              "width": 0.5
             },
             "pattern": {
              "fillmode": "overlay",
              "size": 10,
              "solidity": 0.2
             }
            },
            "type": "bar"
           }
          ],
          "barpolar": [
           {
            "marker": {
             "line": {
              "color": "#E5ECF6",
              "width": 0.5
             },
             "pattern": {
              "fillmode": "overlay",
              "size": 10,
              "solidity": 0.2
             }
            },
            "type": "barpolar"
           }
          ],
          "carpet": [
           {
            "aaxis": {
             "endlinecolor": "#2a3f5f",
             "gridcolor": "white",
             "linecolor": "white",
             "minorgridcolor": "white",
             "startlinecolor": "#2a3f5f"
            },
            "baxis": {
             "endlinecolor": "#2a3f5f",
             "gridcolor": "white",
             "linecolor": "white",
             "minorgridcolor": "white",
             "startlinecolor": "#2a3f5f"
            },
            "type": "carpet"
           }
          ],
          "choropleth": [
           {
            "colorbar": {
             "outlinewidth": 0,
             "ticks": ""
            },
            "type": "choropleth"
           }
          ],
          "contour": [
           {
            "colorbar": {
             "outlinewidth": 0,
             "ticks": ""
            },
            "colorscale": [
             [
              0,
              "#0d0887"
             ],
             [
              0.1111111111111111,
              "#46039f"
             ],
             [
              0.2222222222222222,
              "#7201a8"
             ],
             [
              0.3333333333333333,
              "#9c179e"
             ],
             [
              0.4444444444444444,
              "#bd3786"
             ],
             [
              0.5555555555555556,
              "#d8576b"
             ],
             [
              0.6666666666666666,
              "#ed7953"
             ],
             [
              0.7777777777777778,
              "#fb9f3a"
             ],
             [
              0.8888888888888888,
              "#fdca26"
             ],
             [
              1,
              "#f0f921"
             ]
            ],
            "type": "contour"
           }
          ],
          "contourcarpet": [
           {
            "colorbar": {
             "outlinewidth": 0,
             "ticks": ""
            },
            "type": "contourcarpet"
           }
          ],
          "heatmap": [
           {
            "colorbar": {
             "outlinewidth": 0,
             "ticks": ""
            },
            "colorscale": [
             [
              0,
              "#0d0887"
             ],
             [
              0.1111111111111111,
              "#46039f"
             ],
             [
              0.2222222222222222,
              "#7201a8"
             ],
             [
              0.3333333333333333,
              "#9c179e"
             ],
             [
              0.4444444444444444,
              "#bd3786"
             ],
             [
              0.5555555555555556,
              "#d8576b"
             ],
             [
              0.6666666666666666,
              "#ed7953"
             ],
             [
              0.7777777777777778,
              "#fb9f3a"
             ],
             [
              0.8888888888888888,
              "#fdca26"
             ],
             [
              1,
              "#f0f921"
             ]
            ],
            "type": "heatmap"
           }
          ],
          "heatmapgl": [
           {
            "colorbar": {
             "outlinewidth": 0,
             "ticks": ""
            },
            "colorscale": [
             [
              0,
              "#0d0887"
             ],
             [
              0.1111111111111111,
              "#46039f"
             ],
             [
              0.2222222222222222,
              "#7201a8"
             ],
             [
              0.3333333333333333,
              "#9c179e"
             ],
             [
              0.4444444444444444,
              "#bd3786"
             ],
             [
              0.5555555555555556,
              "#d8576b"
             ],
             [
              0.6666666666666666,
              "#ed7953"
             ],
             [
              0.7777777777777778,
              "#fb9f3a"
             ],
             [
              0.8888888888888888,
              "#fdca26"
             ],
             [
              1,
              "#f0f921"
             ]
            ],
            "type": "heatmapgl"
           }
          ],
          "histogram": [
           {
            "marker": {
             "pattern": {
              "fillmode": "overlay",
              "size": 10,
              "solidity": 0.2
             }
            },
            "type": "histogram"
           }
          ],
          "histogram2d": [
           {
            "colorbar": {
             "outlinewidth": 0,
             "ticks": ""
            },
            "colorscale": [
             [
              0,
              "#0d0887"
             ],
             [
              0.1111111111111111,
              "#46039f"
             ],
             [
              0.2222222222222222,
              "#7201a8"
             ],
             [
              0.3333333333333333,
              "#9c179e"
             ],
             [
              0.4444444444444444,
              "#bd3786"
             ],
             [
              0.5555555555555556,
              "#d8576b"
             ],
             [
              0.6666666666666666,
              "#ed7953"
             ],
             [
              0.7777777777777778,
              "#fb9f3a"
             ],
             [
              0.8888888888888888,
              "#fdca26"
             ],
             [
              1,
              "#f0f921"
             ]
            ],
            "type": "histogram2d"
           }
          ],
          "histogram2dcontour": [
           {
            "colorbar": {
             "outlinewidth": 0,
             "ticks": ""
            },
            "colorscale": [
             [
              0,
              "#0d0887"
             ],
             [
              0.1111111111111111,
              "#46039f"
             ],
             [
              0.2222222222222222,
              "#7201a8"
             ],
             [
              0.3333333333333333,
              "#9c179e"
             ],
             [
              0.4444444444444444,
              "#bd3786"
             ],
             [
              0.5555555555555556,
              "#d8576b"
             ],
             [
              0.6666666666666666,
              "#ed7953"
             ],
             [
              0.7777777777777778,
              "#fb9f3a"
             ],
             [
              0.8888888888888888,
              "#fdca26"
             ],
             [
              1,
              "#f0f921"
             ]
            ],
            "type": "histogram2dcontour"
           }
          ],
          "mesh3d": [
           {
            "colorbar": {
             "outlinewidth": 0,
             "ticks": ""
            },
            "type": "mesh3d"
           }
          ],
          "parcoords": [
           {
            "line": {
             "colorbar": {
              "outlinewidth": 0,
              "ticks": ""
             }
            },
            "type": "parcoords"
           }
          ],
          "pie": [
           {
            "automargin": true,
            "type": "pie"
           }
          ],
          "scatter": [
           {
            "marker": {
             "colorbar": {
              "outlinewidth": 0,
              "ticks": ""
             }
            },
            "type": "scatter"
           }
          ],
          "scatter3d": [
           {
            "line": {
             "colorbar": {
              "outlinewidth": 0,
              "ticks": ""
             }
            },
            "marker": {
             "colorbar": {
              "outlinewidth": 0,
              "ticks": ""
             }
            },
            "type": "scatter3d"
           }
          ],
          "scattercarpet": [
           {
            "marker": {
             "colorbar": {
              "outlinewidth": 0,
              "ticks": ""
             }
            },
            "type": "scattercarpet"
           }
          ],
          "scattergeo": [
           {
            "marker": {
             "colorbar": {
              "outlinewidth": 0,
              "ticks": ""
             }
            },
            "type": "scattergeo"
           }
          ],
          "scattergl": [
           {
            "marker": {
             "colorbar": {
              "outlinewidth": 0,
              "ticks": ""
             }
            },
            "type": "scattergl"
           }
          ],
          "scattermapbox": [
           {
            "marker": {
             "colorbar": {
              "outlinewidth": 0,
              "ticks": ""
             }
            },
            "type": "scattermapbox"
           }
          ],
          "scatterpolar": [
           {
            "marker": {
             "colorbar": {
              "outlinewidth": 0,
              "ticks": ""
             }
            },
            "type": "scatterpolar"
           }
          ],
          "scatterpolargl": [
           {
            "marker": {
             "colorbar": {
              "outlinewidth": 0,
              "ticks": ""
             }
            },
            "type": "scatterpolargl"
           }
          ],
          "scatterternary": [
           {
            "marker": {
             "colorbar": {
              "outlinewidth": 0,
              "ticks": ""
             }
            },
            "type": "scatterternary"
           }
          ],
          "surface": [
           {
            "colorbar": {
             "outlinewidth": 0,
             "ticks": ""
            },
            "colorscale": [
             [
              0,
              "#0d0887"
             ],
             [
              0.1111111111111111,
              "#46039f"
             ],
             [
              0.2222222222222222,
              "#7201a8"
             ],
             [
              0.3333333333333333,
              "#9c179e"
             ],
             [
              0.4444444444444444,
              "#bd3786"
             ],
             [
              0.5555555555555556,
              "#d8576b"
             ],
             [
              0.6666666666666666,
              "#ed7953"
             ],
             [
              0.7777777777777778,
              "#fb9f3a"
             ],
             [
              0.8888888888888888,
              "#fdca26"
             ],
             [
              1,
              "#f0f921"
             ]
            ],
            "type": "surface"
           }
          ],
          "table": [
           {
            "cells": {
             "fill": {
              "color": "#EBF0F8"
             },
             "line": {
              "color": "white"
             }
            },
            "header": {
             "fill": {
              "color": "#C8D4E3"
             },
             "line": {
              "color": "white"
             }
            },
            "type": "table"
           }
          ]
         },
         "layout": {
          "annotationdefaults": {
           "arrowcolor": "#2a3f5f",
           "arrowhead": 0,
           "arrowwidth": 1
          },
          "autotypenumbers": "strict",
          "coloraxis": {
           "colorbar": {
            "outlinewidth": 0,
            "ticks": ""
           }
          },
          "colorscale": {
           "diverging": [
            [
             0,
             "#8e0152"
            ],
            [
             0.1,
             "#c51b7d"
            ],
            [
             0.2,
             "#de77ae"
            ],
            [
             0.3,
             "#f1b6da"
            ],
            [
             0.4,
             "#fde0ef"
            ],
            [
             0.5,
             "#f7f7f7"
            ],
            [
             0.6,
             "#e6f5d0"
            ],
            [
             0.7,
             "#b8e186"
            ],
            [
             0.8,
             "#7fbc41"
            ],
            [
             0.9,
             "#4d9221"
            ],
            [
             1,
             "#276419"
            ]
           ],
           "sequential": [
            [
             0,
             "#0d0887"
            ],
            [
             0.1111111111111111,
             "#46039f"
            ],
            [
             0.2222222222222222,
             "#7201a8"
            ],
            [
             0.3333333333333333,
             "#9c179e"
            ],
            [
             0.4444444444444444,
             "#bd3786"
            ],
            [
             0.5555555555555556,
             "#d8576b"
            ],
            [
             0.6666666666666666,
             "#ed7953"
            ],
            [
             0.7777777777777778,
             "#fb9f3a"
            ],
            [
             0.8888888888888888,
             "#fdca26"
            ],
            [
             1,
             "#f0f921"
            ]
           ],
           "sequentialminus": [
            [
             0,
             "#0d0887"
            ],
            [
             0.1111111111111111,
             "#46039f"
            ],
            [
             0.2222222222222222,
             "#7201a8"
            ],
            [
             0.3333333333333333,
             "#9c179e"
            ],
            [
             0.4444444444444444,
             "#bd3786"
            ],
            [
             0.5555555555555556,
             "#d8576b"
            ],
            [
             0.6666666666666666,
             "#ed7953"
            ],
            [
             0.7777777777777778,
             "#fb9f3a"
            ],
            [
             0.8888888888888888,
             "#fdca26"
            ],
            [
             1,
             "#f0f921"
            ]
           ]
          },
          "colorway": [
           "#636efa",
           "#EF553B",
           "#00cc96",
           "#ab63fa",
           "#FFA15A",
           "#19d3f3",
           "#FF6692",
           "#B6E880",
           "#FF97FF",
           "#FECB52"
          ],
          "font": {
           "color": "#2a3f5f"
          },
          "geo": {
           "bgcolor": "white",
           "lakecolor": "white",
           "landcolor": "#E5ECF6",
           "showlakes": true,
           "showland": true,
           "subunitcolor": "white"
          },
          "hoverlabel": {
           "align": "left"
          },
          "hovermode": "closest",
          "mapbox": {
           "style": "light"
          },
          "paper_bgcolor": "white",
          "plot_bgcolor": "#E5ECF6",
          "polar": {
           "angularaxis": {
            "gridcolor": "white",
            "linecolor": "white",
            "ticks": ""
           },
           "bgcolor": "#E5ECF6",
           "radialaxis": {
            "gridcolor": "white",
            "linecolor": "white",
            "ticks": ""
           }
          },
          "scene": {
           "xaxis": {
            "backgroundcolor": "#E5ECF6",
            "gridcolor": "white",
            "gridwidth": 2,
            "linecolor": "white",
            "showbackground": true,
            "ticks": "",
            "zerolinecolor": "white"
           },
           "yaxis": {
            "backgroundcolor": "#E5ECF6",
            "gridcolor": "white",
            "gridwidth": 2,
            "linecolor": "white",
            "showbackground": true,
            "ticks": "",
            "zerolinecolor": "white"
           },
           "zaxis": {
            "backgroundcolor": "#E5ECF6",
            "gridcolor": "white",
            "gridwidth": 2,
            "linecolor": "white",
            "showbackground": true,
            "ticks": "",
            "zerolinecolor": "white"
           }
          },
          "shapedefaults": {
           "line": {
            "color": "#2a3f5f"
           }
          },
          "ternary": {
           "aaxis": {
            "gridcolor": "white",
            "linecolor": "white",
            "ticks": ""
           },
           "baxis": {
            "gridcolor": "white",
            "linecolor": "white",
            "ticks": ""
           },
           "bgcolor": "#E5ECF6",
           "caxis": {
            "gridcolor": "white",
            "linecolor": "white",
            "ticks": ""
           }
          },
          "title": {
           "x": 0.05
          },
          "xaxis": {
           "automargin": true,
           "gridcolor": "white",
           "linecolor": "white",
           "ticks": "",
           "title": {
            "standoff": 15
           },
           "zerolinecolor": "white",
           "zerolinewidth": 2
          },
          "yaxis": {
           "automargin": true,
           "gridcolor": "white",
           "linecolor": "white",
           "ticks": "",
           "title": {
            "standoff": 15
           },
           "zerolinecolor": "white",
           "zerolinewidth": 2
          }
         }
        },
        "title": {
         "text": "STDs over epochs for Magnetometers",
         "x": 0.5,
         "xanchor": "center",
         "y": 0.85,
         "yanchor": "top"
        },
        "xaxis": {
         "rangeslider": {
          "visible": true
         },
         "tickmode": "array",
         "ticktext": [
          "MEG0111",
          "MEG0121",
          "MEG0131",
          "MEG0141",
          "MEG0211",
          "MEG0221",
          "MEG0231",
          "MEG0241",
          "MEG0311",
          "MEG0321",
          "MEG0331",
          "MEG0341",
          "MEG0411",
          "MEG0421",
          "MEG0431",
          "MEG0441",
          "MEG0511",
          "MEG0521",
          "MEG0531",
          "MEG0541",
          "MEG0611",
          "MEG0621",
          "MEG0631",
          "MEG0641",
          "MEG0711",
          "MEG0721",
          "MEG0731",
          "MEG0741",
          "MEG0811",
          "MEG0821",
          "MEG0911",
          "MEG0921",
          "MEG0931",
          "MEG0941",
          "MEG1011",
          "MEG1021",
          "MEG1031",
          "MEG1041",
          "MEG1111",
          "MEG1121",
          "MEG1131",
          "MEG1141",
          "MEG1211",
          "MEG1221",
          "MEG1231",
          "MEG1241",
          "MEG1311",
          "MEG1321",
          "MEG1331",
          "MEG1341",
          "MEG1411",
          "MEG1421",
          "MEG1431",
          "MEG1441",
          "MEG1511",
          "MEG1521",
          "MEG1531",
          "MEG1541",
          "MEG1611",
          "MEG1621",
          "MEG1631",
          "MEG1641",
          "MEG1711",
          "MEG1721",
          "MEG1731",
          "MEG1741",
          "MEG1811",
          "MEG1821",
          "MEG1831",
          "MEG1841",
          "MEG1911",
          "MEG1921",
          "MEG1931",
          "MEG1941",
          "MEG2011",
          "MEG2021",
          "MEG2031",
          "MEG2041",
          "MEG2111",
          "MEG2121",
          "MEG2131",
          "MEG2141",
          "MEG2211",
          "MEG2221",
          "MEG2231",
          "MEG2241",
          "MEG2311",
          "MEG2321",
          "MEG2331",
          "MEG2341",
          "MEG2411",
          "MEG2421",
          "MEG2431",
          "MEG2441",
          "MEG2511",
          "MEG2521",
          "MEG2531",
          "MEG2541",
          "MEG2611",
          "MEG2621",
          "MEG2631",
          "MEG2641"
         ],
         "tickvals": [
          0,
          1,
          2,
          3,
          4,
          5,
          6,
          7,
          8,
          9,
          10,
          11,
          12,
          13,
          14,
          15,
          16,
          17,
          18,
          19,
          20,
          21,
          22,
          23,
          24,
          25,
          26,
          27,
          28,
          29,
          30,
          31,
          32,
          33,
          34,
          35,
          36,
          37,
          38,
          39,
          40,
          41,
          42,
          43,
          44,
          45,
          46,
          47,
          48,
          49,
          50,
          51,
          52,
          53,
          54,
          55,
          56,
          57,
          58,
          59,
          60,
          61,
          62,
          63,
          64,
          65,
          66,
          67,
          68,
          69,
          70,
          71,
          72,
          73,
          74,
          75,
          76,
          77,
          78,
          79,
          80,
          81,
          82,
          83,
          84,
          85,
          86,
          87,
          88,
          89,
          90,
          91,
          92,
          93,
          94,
          95,
          96,
          97,
          98,
          99,
          100,
          101
         ]
        },
        "yaxis": {
         "exponentformat": "e",
         "showexponent": "all",
         "title": {
          "text": "standard deviation in T"
         }
        }
       }
      }
     },
     "metadata": {},
     "output_type": "display_data"
    }
   ],
   "source": [
    "fig_mags_std_epoch, fig_path_std_epoch=boxplot_std_channel_epoch_hovering_plotly(df_mg=df_std_mags, tit='Magnetometers', sid='1')"
   ]
  },
  {
   "cell_type": "code",
   "execution_count": 51,
   "metadata": {},
   "outputs": [],
   "source": [
    "# Create an html report:\n",
    "# The actual plotly tutorial was outdated. \n",
    "# better version here: https://towardsdatascience.com/automated-interactive-reports-with-plotly-and-python-88dbe3aae5\n",
    "\n",
    "sid='1'\n",
    "\n",
    "with open(fig_path_m, 'r') as f1:\n",
    "    fig1 = f1.read()\n",
    "    \n",
    "with open(fig_path_std_epoch, 'r') as f2:\n",
    "    fig2 = f2.read()\n",
    "    \n",
    "html_string = '''\n",
    "<!doctype html>\n",
    "<html>\n",
    "    <head>\n",
    "        <meta charset=\"UTF-8\">\n",
    "        <title>MEG QC: RMSE Report</title>\n",
    "        <style>body{ margin:0 100;}</style>\n",
    "    </head>\n",
    "    \n",
    "    <body style=\"font-family: Arial\">\n",
    "        <center>\n",
    "        <h1>MEG data quality analysis report</h1>\n",
    "        <br></br>\n",
    "        <!-- *** Section 1 *** --->\n",
    "        <h2>Standard deviation over the entire data</h2>\n",
    "        ''' + fig1 + '''\n",
    "        <p>graph description...</p>\n",
    "         \n",
    "        <!-- *** Section 2 *** --->\n",
    "        <br></br>\n",
    "        <br></br>\n",
    "        <br></br>\n",
    "        <h2>Standard deviation over epochs</h2>\n",
    "        ''' + fig2 + '''\n",
    "        <p>graph description...</p>\n",
    "        </center>\n",
    "    \n",
    "    </body>\n",
    "</html>'''\n",
    "\n",
    "with open('../derivatives/sub-'+sid+'/megqc/figures/report_RMSE.html', 'w', encoding = 'utf8') as f:\n",
    "    f.write(html_string)"
   ]
  }
 ],
 "metadata": {
  "interpreter": {
   "hash": "d401ab1bf6dd7bb97662b0feb1321a641d60d04842bfa92b47f7871360972b5d"
  },
  "kernelspec": {
   "display_name": "Python 3.9.7 ('mne_new')",
   "language": "python",
   "name": "python3"
  },
  "language_info": {
   "codemirror_mode": {
    "name": "ipython",
    "version": 3
   },
   "file_extension": ".py",
   "mimetype": "text/x-python",
   "name": "python",
   "nbconvert_exporter": "python",
   "pygments_lexer": "ipython3",
   "version": "3.9.7"
  },
  "orig_nbformat": 4
 },
 "nbformat": 4,
 "nbformat_minor": 2
}
