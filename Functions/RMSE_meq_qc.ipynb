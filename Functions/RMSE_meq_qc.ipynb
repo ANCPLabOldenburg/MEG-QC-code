{
 "cells": [
  {
   "cell_type": "code",
   "execution_count": 1,
   "metadata": {},
   "outputs": [],
   "source": [
    "import numpy as np\n",
    "import plotly.graph_objects as go\n",
    "import pandas as pd\n",
    "import mne\n",
    "\n",
    "#Load data, filter, make folders\n",
    "\n",
    "from main_meg_qc import initial_stuff"
   ]
  },
  {
   "cell_type": "code",
   "execution_count": 2,
   "metadata": {},
   "outputs": [
    {
     "name": "stdout",
     "output_type": "stream",
     "text": [
      "Opening raw data file ../data/sub_HT05ND16/210811/mikado-1.fif/...\n",
      "    Read a total of 8 projection items:\n",
      "        magn8_iasoff_68deg.fif : PCA-v1 (1 x 306)  idle\n",
      "        magn8_iasoff_68deg.fif : PCA-v2 (1 x 306)  idle\n",
      "        magn8_iasoff_68deg.fif : PCA-v3 (1 x 306)  idle\n",
      "        magn8_iasoff_68deg.fif : PCA-v4 (1 x 306)  idle\n",
      "        magn8_iasoff_68deg.fif : PCA-v5 (1 x 306)  idle\n",
      "        magn8_iasoff_68deg.fif : PCA-v6 (1 x 306)  idle\n",
      "        magn8_iasoff_68deg.fif : PCA-v7 (1 x 306)  idle\n",
      "        magn8_iasoff_68deg.fif : PCA-v8 (1 x 306)  idle\n",
      "    Range : 1809000 ... 3375999 =   1809.000 ...  3375.999 secs\n",
      "Ready.\n",
      "Opening raw data file /Users/jenya/Local Storage/Job Uni Rieger lab/MEG QC code/Functions/../data/sub_HT05ND16/210811/mikado-2.fif...\n"
     ]
    },
    {
     "name": "stderr",
     "output_type": "stream",
     "text": [
      "/Users/jenya/Local Storage/Job Uni Rieger lab/MEG QC code/Functions/data_load_and_folders.py:17: RuntimeWarning: This filename (../data/sub_HT05ND16/210811/mikado-1.fif/) does not conform to MNE naming conventions. All raw files should end with raw.fif, raw_sss.fif, raw_tsss.fif, _meg.fif, _eeg.fif, _ieeg.fif, raw.fif.gz, raw_sss.fif.gz, raw_tsss.fif.gz, _meg.fif.gz, _eeg.fif.gz or _ieeg.fif.gz\n",
      "  raw = mne.io.read_raw_fif(data_file)\n"
     ]
    },
    {
     "name": "stdout",
     "output_type": "stream",
     "text": [
      "    Read a total of 8 projection items:\n",
      "        magn8_iasoff_68deg.fif : PCA-v1 (1 x 306)  idle\n",
      "        magn8_iasoff_68deg.fif : PCA-v2 (1 x 306)  idle\n",
      "        magn8_iasoff_68deg.fif : PCA-v3 (1 x 306)  idle\n",
      "        magn8_iasoff_68deg.fif : PCA-v4 (1 x 306)  idle\n",
      "        magn8_iasoff_68deg.fif : PCA-v5 (1 x 306)  idle\n",
      "        magn8_iasoff_68deg.fif : PCA-v6 (1 x 306)  idle\n",
      "        magn8_iasoff_68deg.fif : PCA-v7 (1 x 306)  idle\n",
      "        magn8_iasoff_68deg.fif : PCA-v8 (1 x 306)  idle\n",
      "    Range : 3376000 ... 4942999 =   3376.000 ...  4942.999 secs\n",
      "Ready.\n",
      "Opening raw data file /Users/jenya/Local Storage/Job Uni Rieger lab/MEG QC code/Functions/../data/sub_HT05ND16/210811/mikado-3.fif...\n",
      "    Read a total of 8 projection items:\n",
      "        magn8_iasoff_68deg.fif : PCA-v1 (1 x 306)  idle\n",
      "        magn8_iasoff_68deg.fif : PCA-v2 (1 x 306)  idle\n",
      "        magn8_iasoff_68deg.fif : PCA-v3 (1 x 306)  idle\n",
      "        magn8_iasoff_68deg.fif : PCA-v4 (1 x 306)  idle\n",
      "        magn8_iasoff_68deg.fif : PCA-v5 (1 x 306)  idle\n",
      "        magn8_iasoff_68deg.fif : PCA-v6 (1 x 306)  idle\n",
      "        magn8_iasoff_68deg.fif : PCA-v7 (1 x 306)  idle\n",
      "        magn8_iasoff_68deg.fif : PCA-v8 (1 x 306)  idle\n",
      "    Range : 4943000 ... 5198999 =   4943.000 ...  5198.999 secs\n",
      "Ready.\n",
      "Reading 0 ... 60000  =      0.000 ...    60.000 secs...\n",
      "Filtering raw data in 1 contiguous segment\n",
      "Setting up band-pass filter from 0.5 - 1e+02 Hz\n",
      "\n",
      "IIR filter parameters\n",
      "---------------------\n",
      "Butterworth bandpass zero-phase (two-pass forward and reverse) non-causal filter:\n",
      "- Filter order 16 (effective, after forward-backward)\n",
      "- Cutoffs at 0.50, 100.00 Hz: -6.02, -6.02 dB\n",
      "\n",
      "Trigger channel has a non-zero initial value of 18 (consider using initial_event=True to detect this event)\n",
      "50 events found\n",
      "Event IDs: [    9    19    21    23    27    31 16393 16403 16405 16411 32749 32750\n",
      " 32759]\n"
     ]
    },
    {
     "name": "stderr",
     "output_type": "stream",
     "text": [
      "/Users/jenya/Local Storage/Job Uni Rieger lab/MEG QC code/Functions/data_load_and_folders.py:84: RuntimeWarning: Trigger channel contains negative values, using absolute value. If data were acquired on a Neuromag system with STI016 active, consider using uint_cast=True to work around an acquisition bug\n",
      "  raw_bandpass_resamp.resample(sfreq=h_freq*5)\n"
     ]
    },
    {
     "name": "stdout",
     "output_type": "stream",
     "text": [
      "Trigger channel has a non-zero initial value of 18 (consider using initial_event=True to detect this event)\n",
      "42 events found\n",
      "Event IDs: [    9    19    20    21    22    23    27    31 16393 16402 16403 16405\n",
      " 16411 32741 32749 32750 32759]\n",
      "Trigger channel has a non-zero initial value of 18 (consider using initial_event=True to detect this event)\n",
      "5 events found\n",
      "Event IDs: [ 9 19 20 21]\n",
      "Not setting metadata\n",
      "5 matching events found\n",
      "No baseline correction applied\n",
      "Created an SSP operator (subspace dimension = 8)\n",
      "8 projection items activated\n",
      "Using data from preloaded Raw for 5 events and 1201 original time points ...\n",
      "0 bad epochs dropped\n",
      "Not setting metadata\n",
      "5 matching events found\n",
      "No baseline correction applied\n",
      "8 projection items activated\n",
      "Using data from preloaded Raw for 5 events and 1201 original time points ...\n",
      "0 bad epochs dropped\n"
     ]
    },
    {
     "name": "stderr",
     "output_type": "stream",
     "text": [
      "/Users/jenya/Local Storage/Job Uni Rieger lab/MEG QC code/Functions/data_load_and_folders.py:84: RuntimeWarning: Trigger channel contains negative values, using absolute value. If data were acquired on a Neuromag system with STI016 active, consider using uint_cast=True to work around an acquisition bug\n",
      "  raw_bandpass_resamp.resample(sfreq=h_freq*5)\n",
      "/Users/jenya/Local Storage/Job Uni Rieger lab/MEG QC code/Functions/data_load_and_folders.py:112: RuntimeWarning: Trigger channel contains negative values, using absolute value. If data were acquired on a Neuromag system with STI016 active, consider using uint_cast=True to work around an acquisition bug\n",
      "  events = mne.find_events(data, stim_channel=stim_channel, min_duration=event_dur)\n"
     ]
    }
   ],
   "source": [
    "\n",
    "#Passing the whole config:\n",
    "#n_events, df_epochs_mags, df_epochs_grads, epochs_mags, epochs_grads, mags, grads, filtered_d, filtered_d_resamp, raw_cropped, raw=initial_stuff(duration, config=config)\n",
    "#Passing separate parameters from config:\n",
    "#n_events, df_epochs_mags, df_epochs_grads, epochs_mags, epochs_grads, mags, grads, filtered_d, filtered_d_resamp, raw_cropped, raw=initial_stuff(duration, data_file)\n",
    "\n",
    "n_events, df_epochs_mags, df_epochs_grads, epochs_mags, epochs_grads, mags, grads, filtered_d, filtered_d_resamp, raw_cropped, raw=initial_stuff()"
   ]
  },
  {
   "cell_type": "code",
   "execution_count": 2,
   "metadata": {},
   "outputs": [],
   "source": [
    "def RMSE(data_m_or_g: np.array or list) -> np.array:\n",
    "    ''' RMSE - general root means squared error function to use in other functions of this module.\n",
    "    Alternatively std could be used, but the calculation time of std is lower, result is the same.\n",
    "    \n",
    "    Args:\n",
    "    data_m_or_g (np.array or list): data for magnetometer or gradiometer given as np array or list \n",
    "        (it can be 1 channel or several as 2 dimentional array or list of lists\n",
    "        \n",
    "    Returns:\n",
    "    rmse_np (np.array): rmse as numpy array (1 if 1 channel was given, more if more channels)'''\n",
    "\n",
    "    data_m_or_g=np.array(data_m_or_g) #convert to numpy array if it s not\n",
    "    rmse_list=[]\n",
    "\n",
    "    data_minentions=len(data_m_or_g.shape)\n",
    "    if data_minentions==2: #if the data has raws and columns - iterate over raws. if input is 1 dimentional - juat calculate the whole thing.\n",
    "        for i, dat_raw in enumerate (data_m_or_g):\n",
    "            y_actual=dat_raw\n",
    "            y_pred=y_actual.mean()\n",
    "            rmse_data=np.sqrt(((y_pred - y_actual) ** 2).mean())\n",
    "            rmse_list.append(rmse_data)\n",
    "    elif data_minentions==1:\n",
    "        y_actual=data_m_or_g\n",
    "        y_pred=data_m_or_g.mean()\n",
    "        rmse_data=np.sqrt(((y_pred - y_actual) ** 2).mean())\n",
    "        rmse_list.append(rmse_data)\n",
    "    else:\n",
    "        print('Only 1 or 2 dimentional data is accepted, not more!')\n",
    "        return\n",
    "\n",
    "    rmse_np=np.array(rmse_list) #conver to numpy array\n",
    "\n",
    "    return rmse_np"
   ]
  },
  {
   "cell_type": "code",
   "execution_count": 3,
   "metadata": {},
   "outputs": [],
   "source": [
    "def RMSE_meg_all(data: mne.io.Raw, mags: list, grads: list, std_lvl: int) -> list: \n",
    "\n",
    "    '''Root mean squared error calculated over ALL data (not epoched)\n",
    "    \n",
    "    Args:\n",
    "    data (mne.raw): data in raw format\n",
    "    mags (list of tuples): magnetometer channel name + its index\n",
    "    grads (list of tuples): gradiometer channel name + its index\n",
    "    std_lvl (int): how many standard deviations from the mean are acceptable in the data. \n",
    "        data variability over this setting will be concedered as too too noisy, under -std_lvl as too flat \n",
    "    \n",
    "    Returns:\n",
    "    m_big_std_with_value (list of tuples): list of magnetometers with too high std value, \n",
    "    g_big_std_with_value (list of tuples): list of gradiometers with too high std value, \n",
    "    m_small_std_with_value (list of tuples): list of magnetometers with too low std value\n",
    "    g_small_std_with_value (list of tuples): list of gradiometers with too high std value\n",
    "    std_mags (np.array): std values for magnetometers\n",
    "    std_grads (np.array): std values for gradiometers\n",
    "    '''\n",
    "\n",
    "    # Separate data for mags and grads in 2 arrays.\n",
    "    selected_mags = [item[1] for item in mags]\n",
    "    selected_grads = [item[1] for item in grads]\n",
    "    data_mags, _ = data[selected_mags, :]  \n",
    "    data_grads, _ = data[selected_grads, :]  \n",
    "\n",
    "    # %% Calculate STD or RMSE of each channel\n",
    "\n",
    "    #Calculate RMSE for each channel (separated mags and grads) - for the entire time duration:\n",
    "    std_mags = RMSE(data_mags)\n",
    "    std_grads = RMSE(data_grads)\n",
    "\n",
    "    #STD (if wanna use insted of RMSE. it will exactly replace the RMSE function above):\n",
    "    #std_mags=np.std(data_mags, axis=1) #calculate std of all magnetometers (along second dimantion)\n",
    "    #std_grads=np.std(data_grads, axis=1) #calculate std of all gradiometers (along second dimantion)\n",
    "\n",
    "\n",
    "    # Check if channel data is within std_lvl over all channels.\n",
    "\n",
    "    std_std_mags=np.std(std_mags)\n",
    "    std_std_grads=np.std(std_grads)\n",
    "\n",
    "    mean_std_mags=np.mean(std_mags)\n",
    "    mean_std_grads=np.mean(std_grads)\n",
    "\n",
    "    ch_ind_large_std_mags= np.where(std_mags > mean_std_mags+std_lvl*std_std_mags) #find magn channels with largest std\n",
    "    ch_ind_large_std_grads= np.where(std_grads > mean_std_grads+std_lvl*std_std_grads) \n",
    "    ch_ind_small_std_mags= np.where(std_mags < mean_std_mags-std_lvl*std_std_mags) #find magn channels with smallest std\n",
    "    ch_ind_small_std_grads= np.where(std_grads < mean_std_grads-std_lvl*std_std_grads)\n",
    "\n",
    "    magn_channel_big_std=np.array(mags)[ch_ind_large_std_mags] #find the name of the magn with largest std \n",
    "    grad_channel_big_std=np.array(grads)[ch_ind_large_std_grads]\n",
    "    magn_channel_small_std=np.array(mags)[ch_ind_small_std_mags]\n",
    "    grad_channel_small_std=np.array(grads)[ch_ind_small_std_grads]\n",
    "\n",
    "\n",
    "    #This function simply makes a list of tuples. Each tuple is: name of channel, std value.\n",
    "    #Each tuple represents channel with too big or too small std, calculated over whole data.\n",
    "\n",
    "    def Channels_with_nonnormal_stds(ch_ind, all_stds_m_or_g, channels_big_std_names):\n",
    "        channel_big_std_vals=all_stds_m_or_g[ch_ind]\n",
    "        nonnormal_std_with_value=[]\n",
    "        for id, val in enumerate (ch_ind[0]):\n",
    "            new_tuple=(channels_big_std_names[id][0],  channel_big_std_vals[id])\n",
    "            nonnormal_std_with_value.append(new_tuple)\n",
    "        return(nonnormal_std_with_value)\n",
    "\n",
    "    m_big_std_with_value=Channels_with_nonnormal_stds(ch_ind_large_std_mags, std_mags, magn_channel_big_std)\n",
    "    g_big_std_with_value=Channels_with_nonnormal_stds(ch_ind_large_std_grads, std_grads, grad_channel_big_std)\n",
    "    m_small_std_with_value=Channels_with_nonnormal_stds(ch_ind_small_std_mags, std_mags, magn_channel_small_std)\n",
    "    g_small_std_with_value=Channels_with_nonnormal_stds(ch_ind_small_std_grads, std_grads, grad_channel_small_std)\n",
    "        \n",
    "    #Return the channel names with STD over the set STD level and under the set negative STD level.\n",
    "    return(m_big_std_with_value, g_big_std_with_value, m_small_std_with_value, g_small_std_with_value, std_mags, std_grads)\n"
   ]
  },
  {
   "cell_type": "code",
   "execution_count": 4,
   "metadata": {},
   "outputs": [
    {
     "name": "stdout",
     "output_type": "stream",
     "text": [
      "Magnetometers with high std:\n",
      "[('MEG1411', 4.915254898467897e-13), ('MEG1421', 5.805285646685467e-13), ('MEG1431', 5.615668016192771e-13), ('MEG1441', 4.757542834191726e-13), ('MEG1711', 4.747437526824324e-13), ('MEG1741', 5.248519259850196e-13), ('MEG2121', 5.008662500047512e-13), ('MEG2131', 5.810309410625699e-13), ('MEG2141', 5.3515096340067e-13), ('MEG2331', 5.011797809486983e-13), ('MEG2511', 4.762874109925304e-13), ('MEG2521', 4.677277173465223e-13), ('MEG2531', 5.659086636481407e-13), ('MEG2541', 5.845638262473546e-13), ('MEG2621', 5.469728843510006e-13), ('MEG2631', 5.520035719234815e-13)]\n",
      "Gradiometers with high std:\n",
      "[('MEG0113', 6.8946599425451535e-12), ('MEG1023', 6.984567770292593e-12), ('MEG1323', 7.0405629950437335e-12), ('MEG1412', 6.965013942830349e-12), ('MEG1442', 7.025741148571949e-12), ('MEG1713', 7.667656726612395e-12), ('MEG1742', 8.063456389999208e-12), ('MEG1743', 9.006235810722424e-12), ('MEG1813', 7.420865404701972e-12), ('MEG1922', 7.601625265354651e-12), ('MEG1923', 6.945176687846881e-12), ('MEG1932', 6.869357224014982e-12), ('MEG1933', 1.0761248716207432e-11), ('MEG2112', 7.557965175957626e-12), ('MEG2113', 7.039156348861999e-12), ('MEG2122', 7.643695314500414e-12), ('MEG2123', 8.122441764916244e-12), ('MEG2132', 7.64390078517261e-12), ('MEG2133', 1.0313815186425362e-11), ('MEG2142', 1.1737913263682154e-11), ('MEG2143', 7.85422171465294e-12), ('MEG2323', 6.991042034647939e-12), ('MEG2332', 7.331383454388482e-12), ('MEG2333', 8.629079659987355e-12), ('MEG2512', 7.204272186908425e-12), ('MEG2513', 8.452621938726643e-12), ('MEG2522', 7.153116480694389e-12), ('MEG2533', 8.350648191138057e-12), ('MEG2543', 8.789016953986816e-12), ('MEG2612', 7.165263115511257e-12), ('MEG2613', 7.0160776038205675e-12), ('MEG2623', 6.969227671320208e-12), ('MEG2633', 7.417972636130483e-12)]\n"
     ]
    }
   ],
   "source": [
    "#Try: USING RESAMPLED DATA HERE\n",
    "\n",
    "m_big_std_with_value, g_big_std_with_value, m_small_std_with_value, g_small_std_with_value, rmse_mags, rmse_grads=RMSE_meg_all(data=filtered_d_resamp, \n",
    "    mags=mags, grads=grads, std_lvl=1)\n",
    "\n",
    "print('Magnetometers with high std:')\n",
    "print(m_big_std_with_value)\n",
    "\n",
    "print('Gradiometers with high std:')\n",
    "print(g_big_std_with_value)"
   ]
  },
  {
   "cell_type": "code",
   "execution_count": 5,
   "metadata": {},
   "outputs": [],
   "source": [
    "def boxplot_std_hovering_plotly(std_data: list, tit: str, channel_names: list, sid: str):\n",
    "\n",
    "  '''Creates representation of calculated std data as a boxplot (box containd magnetometers or gradiomneters, not together): \n",
    "  each dot represents 1 channel: name: std value over whole data of this channel. Too high/low stds are outliers.\n",
    "  Implemebted with plotly: https://plotly.github.io/plotly.py-docs/generated/plotly.graph_objects.Box.html\n",
    "  The figure will be saved as an interactive html file.\n",
    "\n",
    "  Args:\n",
    "  std_data (list): stds for mags or grads calculated in RMSE_meg_all, \n",
    "  tit (str): title, like \"Magnetometers\", or \"Gradiometers\", \n",
    "  channel_names (list of tuples): magnetometer channel name + its index, \n",
    "  sid (str): subject id number, like '1'\n",
    "\n",
    "  Returns:\n",
    "  fig (go.Figure): plottly figure\n",
    "  fig_path (str): path where the figure is saved as html file\n",
    "  '''\n",
    "\n",
    "  unit='?'\n",
    "  if tit=='Magnetometers':\n",
    "    unit='T'\n",
    "  elif tit=='Gradiometers':\n",
    "    unit='T/m'\n",
    "  else:\n",
    "    print('Please check tit input. Has to be \"Magnetoneters\" or \"Gradiometers\"')\n",
    "\n",
    "  ch_names=[m[0] for m in channel_names] #names of channels for annotating the plot\n",
    "  df = pd.DataFrame (std_data, index=ch_names, columns=['std'])\n",
    "\n",
    "  fig = go.Figure()\n",
    "\n",
    "  fig.add_trace(go.Box(x=df['std'],\n",
    "  name=\"\",\n",
    "  text=df['std'].index, \n",
    "  opacity=0.7, \n",
    "  boxpoints=\"all\", \n",
    "  pointpos=0,\n",
    "  marker_size=5,\n",
    "  line_width=1))\n",
    "  fig.update_traces(hovertemplate='%{text}'+'<br>STD: %{x: .0f}')\n",
    "      \n",
    "\n",
    "  fig.update_layout(\n",
    "      yaxis={'visible': False, 'showticklabels': False},\n",
    "      xaxis = dict(\n",
    "      showexponent = 'all',\n",
    "      exponentformat = 'e'),\n",
    "      xaxis_title=\"standard deviation in \"+unit,\n",
    "      title={\n",
    "      'text': \"Standard deviation of the data for \"+tit,\n",
    "      'y':0.85,\n",
    "      'x':0.5,\n",
    "      'xanchor': 'center',\n",
    "      'yanchor': 'top'})\n",
    "      \n",
    "  fig.show()\n",
    "\n",
    "  fig_name='Stds_all_data_'+tit+'.html'\n",
    "  fig_path='../derivatives/sub-'+sid+'/megqc/figures/'+fig_name\n",
    "  fig.write_html(fig_path)\n",
    "\n",
    "  return(fig, fig_path)"
   ]
  },
  {
   "cell_type": "code",
   "execution_count": 6,
   "metadata": {},
   "outputs": [
    {
     "data": {
      "application/vnd.plotly.v1+json": {
       "config": {
        "plotlyServerURL": "https://plot.ly"
       },
       "data": [
        {
         "boxpoints": "all",
         "hovertemplate": "%{text}<br>STD: %{x: .0f}",
         "line": {
          "width": 1
         },
         "marker": {
          "size": 5
         },
         "name": "",
         "opacity": 0.7,
         "pointpos": 0,
         "text": [
          "MEG0111",
          "MEG0121",
          "MEG0131",
          "MEG0141",
          "MEG0211",
          "MEG0221",
          "MEG0231",
          "MEG0241",
          "MEG0311",
          "MEG0321",
          "MEG0331",
          "MEG0341",
          "MEG0411",
          "MEG0421",
          "MEG0431",
          "MEG0441",
          "MEG0511",
          "MEG0521",
          "MEG0531",
          "MEG0541",
          "MEG0611",
          "MEG0621",
          "MEG0631",
          "MEG0641",
          "MEG0711",
          "MEG0721",
          "MEG0731",
          "MEG0741",
          "MEG0811",
          "MEG0821",
          "MEG0911",
          "MEG0921",
          "MEG0931",
          "MEG0941",
          "MEG1011",
          "MEG1021",
          "MEG1031",
          "MEG1041",
          "MEG1111",
          "MEG1121",
          "MEG1131",
          "MEG1141",
          "MEG1211",
          "MEG1221",
          "MEG1231",
          "MEG1241",
          "MEG1311",
          "MEG1321",
          "MEG1331",
          "MEG1341",
          "MEG1411",
          "MEG1421",
          "MEG1431",
          "MEG1441",
          "MEG1511",
          "MEG1521",
          "MEG1531",
          "MEG1541",
          "MEG1611",
          "MEG1621",
          "MEG1631",
          "MEG1641",
          "MEG1711",
          "MEG1721",
          "MEG1731",
          "MEG1741",
          "MEG1811",
          "MEG1821",
          "MEG1831",
          "MEG1841",
          "MEG1911",
          "MEG1921",
          "MEG1931",
          "MEG1941",
          "MEG2011",
          "MEG2021",
          "MEG2031",
          "MEG2041",
          "MEG2111",
          "MEG2121",
          "MEG2131",
          "MEG2141",
          "MEG2211",
          "MEG2221",
          "MEG2231",
          "MEG2241",
          "MEG2311",
          "MEG2321",
          "MEG2331",
          "MEG2341",
          "MEG2411",
          "MEG2421",
          "MEG2431",
          "MEG2441",
          "MEG2511",
          "MEG2521",
          "MEG2531",
          "MEG2541",
          "MEG2611",
          "MEG2621",
          "MEG2631",
          "MEG2641"
         ],
         "type": "box",
         "x": [
          4.636549004631828e-13,
          4.2564022715687887e-13,
          3.9218452955845527e-13,
          4.342680172053134e-13,
          3.4114837011779624e-13,
          3.2147575246159214e-13,
          3.263585881106558e-13,
          3.433139495178695e-13,
          3.123728795833047e-13,
          3.182065318563342e-13,
          3.248160042093654e-13,
          3.4160347775107444e-13,
          3.2864491585653415e-13,
          3.53997783895025e-13,
          3.4706345688408166e-13,
          3.2842441019883024e-13,
          3.0285220435294217e-13,
          3.1135121718881663e-13,
          3.368739410922628e-13,
          3.126151173727876e-13,
          3.675566466261069e-13,
          3.9261769801619005e-13,
          3.8352730286540967e-13,
          3.7140333299569503e-13,
          3.723813875819433e-13,
          3.894400860719286e-13,
          3.7267500568398953e-13,
          3.647473933867483e-13,
          3.3051225316868857e-13,
          3.535282010460249e-13,
          3.358569196372565e-13,
          3.494059758365391e-13,
          3.651538692541824e-13,
          3.591094044177916e-13,
          3.8249980810791266e-13,
          3.9349023889226357e-13,
          4.0100141229219446e-13,
          3.945886130664342e-13,
          3.9572330584537635e-13,
          3.9243792317544097e-13,
          3.8762618171071663e-13,
          3.9223487675069093e-13,
          3.704575588261253e-13,
          3.888815804095787e-13,
          3.733426183825559e-13,
          3.914012520516631e-13,
          3.8369752027010387e-13,
          4.063444910145295e-13,
          4.019036421264562e-13,
          3.856540187830858e-13,
          4.915254898467897e-13,
          5.805285646685467e-13,
          5.615668016192771e-13,
          4.757542834191726e-13,
          3.618410454909205e-13,
          3.7269067341805947e-13,
          4.401202899406831e-13,
          4.2511650419425813e-13,
          3.5331471539065356e-13,
          3.328473656645658e-13,
          3.342102508007101e-13,
          3.660483786924816e-13,
          4.747437526824324e-13,
          4.033348089388748e-13,
          4.4083700912992463e-13,
          5.248519259850196e-13,
          3.2310571525853044e-13,
          3.360747580894811e-13,
          3.5329969857619e-13,
          3.307972903283874e-13,
          3.6099369575959437e-13,
          4.1084609393458767e-13,
          4.561248228259454e-13,
          3.8754823237738996e-13,
          3.600311720545689e-13,
          3.6444261004820814e-13,
          3.877879290521262e-13,
          3.848982588601399e-13,
          4.287854121711486e-13,
          5.008662500047512e-13,
          5.810309410625699e-13,
          5.3515096340067e-13,
          3.7832396121853023e-13,
          3.7624419128320587e-13,
          3.7106704558280117e-13,
          3.5929536763678094e-13,
          3.890577903549059e-13,
          4.2783611282788396e-13,
          5.011797809486983e-13,
          4.4173075446844573e-13,
          3.784294359572315e-13,
          4.023311068690691e-13,
          4.1591259321926764e-13,
          3.8523543295935316e-13,
          4.762874109925304e-13,
          4.677277173465223e-13,
          5.659086636481407e-13,
          5.845638262473546e-13,
          4.596802474340812e-13,
          5.469728843510006e-13,
          5.520035719234815e-13,
          4.567643760523321e-13
         ]
        }
       ],
       "layout": {
        "template": {
         "data": {
          "bar": [
           {
            "error_x": {
             "color": "#2a3f5f"
            },
            "error_y": {
             "color": "#2a3f5f"
            },
            "marker": {
             "line": {
              "color": "#E5ECF6",
              "width": 0.5
             },
             "pattern": {
              "fillmode": "overlay",
              "size": 10,
              "solidity": 0.2
             }
            },
            "type": "bar"
           }
          ],
          "barpolar": [
           {
            "marker": {
             "line": {
              "color": "#E5ECF6",
              "width": 0.5
             },
             "pattern": {
              "fillmode": "overlay",
              "size": 10,
              "solidity": 0.2
             }
            },
            "type": "barpolar"
           }
          ],
          "carpet": [
           {
            "aaxis": {
             "endlinecolor": "#2a3f5f",
             "gridcolor": "white",
             "linecolor": "white",
             "minorgridcolor": "white",
             "startlinecolor": "#2a3f5f"
            },
            "baxis": {
             "endlinecolor": "#2a3f5f",
             "gridcolor": "white",
             "linecolor": "white",
             "minorgridcolor": "white",
             "startlinecolor": "#2a3f5f"
            },
            "type": "carpet"
           }
          ],
          "choropleth": [
           {
            "colorbar": {
             "outlinewidth": 0,
             "ticks": ""
            },
            "type": "choropleth"
           }
          ],
          "contour": [
           {
            "colorbar": {
             "outlinewidth": 0,
             "ticks": ""
            },
            "colorscale": [
             [
              0,
              "#0d0887"
             ],
             [
              0.1111111111111111,
              "#46039f"
             ],
             [
              0.2222222222222222,
              "#7201a8"
             ],
             [
              0.3333333333333333,
              "#9c179e"
             ],
             [
              0.4444444444444444,
              "#bd3786"
             ],
             [
              0.5555555555555556,
              "#d8576b"
             ],
             [
              0.6666666666666666,
              "#ed7953"
             ],
             [
              0.7777777777777778,
              "#fb9f3a"
             ],
             [
              0.8888888888888888,
              "#fdca26"
             ],
             [
              1,
              "#f0f921"
             ]
            ],
            "type": "contour"
           }
          ],
          "contourcarpet": [
           {
            "colorbar": {
             "outlinewidth": 0,
             "ticks": ""
            },
            "type": "contourcarpet"
           }
          ],
          "heatmap": [
           {
            "colorbar": {
             "outlinewidth": 0,
             "ticks": ""
            },
            "colorscale": [
             [
              0,
              "#0d0887"
             ],
             [
              0.1111111111111111,
              "#46039f"
             ],
             [
              0.2222222222222222,
              "#7201a8"
             ],
             [
              0.3333333333333333,
              "#9c179e"
             ],
             [
              0.4444444444444444,
              "#bd3786"
             ],
             [
              0.5555555555555556,
              "#d8576b"
             ],
             [
              0.6666666666666666,
              "#ed7953"
             ],
             [
              0.7777777777777778,
              "#fb9f3a"
             ],
             [
              0.8888888888888888,
              "#fdca26"
             ],
             [
              1,
              "#f0f921"
             ]
            ],
            "type": "heatmap"
           }
          ],
          "heatmapgl": [
           {
            "colorbar": {
             "outlinewidth": 0,
             "ticks": ""
            },
            "colorscale": [
             [
              0,
              "#0d0887"
             ],
             [
              0.1111111111111111,
              "#46039f"
             ],
             [
              0.2222222222222222,
              "#7201a8"
             ],
             [
              0.3333333333333333,
              "#9c179e"
             ],
             [
              0.4444444444444444,
              "#bd3786"
             ],
             [
              0.5555555555555556,
              "#d8576b"
             ],
             [
              0.6666666666666666,
              "#ed7953"
             ],
             [
              0.7777777777777778,
              "#fb9f3a"
             ],
             [
              0.8888888888888888,
              "#fdca26"
             ],
             [
              1,
              "#f0f921"
             ]
            ],
            "type": "heatmapgl"
           }
          ],
          "histogram": [
           {
            "marker": {
             "pattern": {
              "fillmode": "overlay",
              "size": 10,
              "solidity": 0.2
             }
            },
            "type": "histogram"
           }
          ],
          "histogram2d": [
           {
            "colorbar": {
             "outlinewidth": 0,
             "ticks": ""
            },
            "colorscale": [
             [
              0,
              "#0d0887"
             ],
             [
              0.1111111111111111,
              "#46039f"
             ],
             [
              0.2222222222222222,
              "#7201a8"
             ],
             [
              0.3333333333333333,
              "#9c179e"
             ],
             [
              0.4444444444444444,
              "#bd3786"
             ],
             [
              0.5555555555555556,
              "#d8576b"
             ],
             [
              0.6666666666666666,
              "#ed7953"
             ],
             [
              0.7777777777777778,
              "#fb9f3a"
             ],
             [
              0.8888888888888888,
              "#fdca26"
             ],
             [
              1,
              "#f0f921"
             ]
            ],
            "type": "histogram2d"
           }
          ],
          "histogram2dcontour": [
           {
            "colorbar": {
             "outlinewidth": 0,
             "ticks": ""
            },
            "colorscale": [
             [
              0,
              "#0d0887"
             ],
             [
              0.1111111111111111,
              "#46039f"
             ],
             [
              0.2222222222222222,
              "#7201a8"
             ],
             [
              0.3333333333333333,
              "#9c179e"
             ],
             [
              0.4444444444444444,
              "#bd3786"
             ],
             [
              0.5555555555555556,
              "#d8576b"
             ],
             [
              0.6666666666666666,
              "#ed7953"
             ],
             [
              0.7777777777777778,
              "#fb9f3a"
             ],
             [
              0.8888888888888888,
              "#fdca26"
             ],
             [
              1,
              "#f0f921"
             ]
            ],
            "type": "histogram2dcontour"
           }
          ],
          "mesh3d": [
           {
            "colorbar": {
             "outlinewidth": 0,
             "ticks": ""
            },
            "type": "mesh3d"
           }
          ],
          "parcoords": [
           {
            "line": {
             "colorbar": {
              "outlinewidth": 0,
              "ticks": ""
             }
            },
            "type": "parcoords"
           }
          ],
          "pie": [
           {
            "automargin": true,
            "type": "pie"
           }
          ],
          "scatter": [
           {
            "fillpattern": {
             "fillmode": "overlay",
             "size": 10,
             "solidity": 0.2
            },
            "type": "scatter"
           }
          ],
          "scatter3d": [
           {
            "line": {
             "colorbar": {
              "outlinewidth": 0,
              "ticks": ""
             }
            },
            "marker": {
             "colorbar": {
              "outlinewidth": 0,
              "ticks": ""
             }
            },
            "type": "scatter3d"
           }
          ],
          "scattercarpet": [
           {
            "marker": {
             "colorbar": {
              "outlinewidth": 0,
              "ticks": ""
             }
            },
            "type": "scattercarpet"
           }
          ],
          "scattergeo": [
           {
            "marker": {
             "colorbar": {
              "outlinewidth": 0,
              "ticks": ""
             }
            },
            "type": "scattergeo"
           }
          ],
          "scattergl": [
           {
            "marker": {
             "colorbar": {
              "outlinewidth": 0,
              "ticks": ""
             }
            },
            "type": "scattergl"
           }
          ],
          "scattermapbox": [
           {
            "marker": {
             "colorbar": {
              "outlinewidth": 0,
              "ticks": ""
             }
            },
            "type": "scattermapbox"
           }
          ],
          "scatterpolar": [
           {
            "marker": {
             "colorbar": {
              "outlinewidth": 0,
              "ticks": ""
             }
            },
            "type": "scatterpolar"
           }
          ],
          "scatterpolargl": [
           {
            "marker": {
             "colorbar": {
              "outlinewidth": 0,
              "ticks": ""
             }
            },
            "type": "scatterpolargl"
           }
          ],
          "scatterternary": [
           {
            "marker": {
             "colorbar": {
              "outlinewidth": 0,
              "ticks": ""
             }
            },
            "type": "scatterternary"
           }
          ],
          "surface": [
           {
            "colorbar": {
             "outlinewidth": 0,
             "ticks": ""
            },
            "colorscale": [
             [
              0,
              "#0d0887"
             ],
             [
              0.1111111111111111,
              "#46039f"
             ],
             [
              0.2222222222222222,
              "#7201a8"
             ],
             [
              0.3333333333333333,
              "#9c179e"
             ],
             [
              0.4444444444444444,
              "#bd3786"
             ],
             [
              0.5555555555555556,
              "#d8576b"
             ],
             [
              0.6666666666666666,
              "#ed7953"
             ],
             [
              0.7777777777777778,
              "#fb9f3a"
             ],
             [
              0.8888888888888888,
              "#fdca26"
             ],
             [
              1,
              "#f0f921"
             ]
            ],
            "type": "surface"
           }
          ],
          "table": [
           {
            "cells": {
             "fill": {
              "color": "#EBF0F8"
             },
             "line": {
              "color": "white"
             }
            },
            "header": {
             "fill": {
              "color": "#C8D4E3"
             },
             "line": {
              "color": "white"
             }
            },
            "type": "table"
           }
          ]
         },
         "layout": {
          "annotationdefaults": {
           "arrowcolor": "#2a3f5f",
           "arrowhead": 0,
           "arrowwidth": 1
          },
          "autotypenumbers": "strict",
          "coloraxis": {
           "colorbar": {
            "outlinewidth": 0,
            "ticks": ""
           }
          },
          "colorscale": {
           "diverging": [
            [
             0,
             "#8e0152"
            ],
            [
             0.1,
             "#c51b7d"
            ],
            [
             0.2,
             "#de77ae"
            ],
            [
             0.3,
             "#f1b6da"
            ],
            [
             0.4,
             "#fde0ef"
            ],
            [
             0.5,
             "#f7f7f7"
            ],
            [
             0.6,
             "#e6f5d0"
            ],
            [
             0.7,
             "#b8e186"
            ],
            [
             0.8,
             "#7fbc41"
            ],
            [
             0.9,
             "#4d9221"
            ],
            [
             1,
             "#276419"
            ]
           ],
           "sequential": [
            [
             0,
             "#0d0887"
            ],
            [
             0.1111111111111111,
             "#46039f"
            ],
            [
             0.2222222222222222,
             "#7201a8"
            ],
            [
             0.3333333333333333,
             "#9c179e"
            ],
            [
             0.4444444444444444,
             "#bd3786"
            ],
            [
             0.5555555555555556,
             "#d8576b"
            ],
            [
             0.6666666666666666,
             "#ed7953"
            ],
            [
             0.7777777777777778,
             "#fb9f3a"
            ],
            [
             0.8888888888888888,
             "#fdca26"
            ],
            [
             1,
             "#f0f921"
            ]
           ],
           "sequentialminus": [
            [
             0,
             "#0d0887"
            ],
            [
             0.1111111111111111,
             "#46039f"
            ],
            [
             0.2222222222222222,
             "#7201a8"
            ],
            [
             0.3333333333333333,
             "#9c179e"
            ],
            [
             0.4444444444444444,
             "#bd3786"
            ],
            [
             0.5555555555555556,
             "#d8576b"
            ],
            [
             0.6666666666666666,
             "#ed7953"
            ],
            [
             0.7777777777777778,
             "#fb9f3a"
            ],
            [
             0.8888888888888888,
             "#fdca26"
            ],
            [
             1,
             "#f0f921"
            ]
           ]
          },
          "colorway": [
           "#636efa",
           "#EF553B",
           "#00cc96",
           "#ab63fa",
           "#FFA15A",
           "#19d3f3",
           "#FF6692",
           "#B6E880",
           "#FF97FF",
           "#FECB52"
          ],
          "font": {
           "color": "#2a3f5f"
          },
          "geo": {
           "bgcolor": "white",
           "lakecolor": "white",
           "landcolor": "#E5ECF6",
           "showlakes": true,
           "showland": true,
           "subunitcolor": "white"
          },
          "hoverlabel": {
           "align": "left"
          },
          "hovermode": "closest",
          "mapbox": {
           "style": "light"
          },
          "paper_bgcolor": "white",
          "plot_bgcolor": "#E5ECF6",
          "polar": {
           "angularaxis": {
            "gridcolor": "white",
            "linecolor": "white",
            "ticks": ""
           },
           "bgcolor": "#E5ECF6",
           "radialaxis": {
            "gridcolor": "white",
            "linecolor": "white",
            "ticks": ""
           }
          },
          "scene": {
           "xaxis": {
            "backgroundcolor": "#E5ECF6",
            "gridcolor": "white",
            "gridwidth": 2,
            "linecolor": "white",
            "showbackground": true,
            "ticks": "",
            "zerolinecolor": "white"
           },
           "yaxis": {
            "backgroundcolor": "#E5ECF6",
            "gridcolor": "white",
            "gridwidth": 2,
            "linecolor": "white",
            "showbackground": true,
            "ticks": "",
            "zerolinecolor": "white"
           },
           "zaxis": {
            "backgroundcolor": "#E5ECF6",
            "gridcolor": "white",
            "gridwidth": 2,
            "linecolor": "white",
            "showbackground": true,
            "ticks": "",
            "zerolinecolor": "white"
           }
          },
          "shapedefaults": {
           "line": {
            "color": "#2a3f5f"
           }
          },
          "ternary": {
           "aaxis": {
            "gridcolor": "white",
            "linecolor": "white",
            "ticks": ""
           },
           "baxis": {
            "gridcolor": "white",
            "linecolor": "white",
            "ticks": ""
           },
           "bgcolor": "#E5ECF6",
           "caxis": {
            "gridcolor": "white",
            "linecolor": "white",
            "ticks": ""
           }
          },
          "title": {
           "x": 0.05
          },
          "xaxis": {
           "automargin": true,
           "gridcolor": "white",
           "linecolor": "white",
           "ticks": "",
           "title": {
            "standoff": 15
           },
           "zerolinecolor": "white",
           "zerolinewidth": 2
          },
          "yaxis": {
           "automargin": true,
           "gridcolor": "white",
           "linecolor": "white",
           "ticks": "",
           "title": {
            "standoff": 15
           },
           "zerolinecolor": "white",
           "zerolinewidth": 2
          }
         }
        },
        "title": {
         "text": "Standard deviation of the data for Magnetometers",
         "x": 0.5,
         "xanchor": "center",
         "y": 0.85,
         "yanchor": "top"
        },
        "xaxis": {
         "exponentformat": "e",
         "showexponent": "all",
         "title": {
          "text": "standard deviation in T"
         }
        },
        "yaxis": {
         "showticklabels": false,
         "visible": false
        }
       }
      }
     },
     "metadata": {},
     "output_type": "display_data"
    }
   ],
   "source": [
    "fig_m, fig_path_m=boxplot_std_hovering_plotly(std_data=rmse_mags, tit='Magnetometers', channel_names=mags, sid='1')"
   ]
  },
  {
   "cell_type": "code",
   "execution_count": 7,
   "metadata": {},
   "outputs": [
    {
     "data": {
      "application/vnd.plotly.v1+json": {
       "config": {
        "plotlyServerURL": "https://plot.ly"
       },
       "data": [
        {
         "boxpoints": "all",
         "hovertemplate": "%{text}<br>STD: %{x: .0f}",
         "line": {
          "width": 1
         },
         "marker": {
          "size": 5
         },
         "name": "",
         "opacity": 0.7,
         "pointpos": 0,
         "text": [
          "MEG0112",
          "MEG0113",
          "MEG0122",
          "MEG0123",
          "MEG0132",
          "MEG0133",
          "MEG0142",
          "MEG0143",
          "MEG0212",
          "MEG0213",
          "MEG0222",
          "MEG0223",
          "MEG0232",
          "MEG0233",
          "MEG0242",
          "MEG0243",
          "MEG0312",
          "MEG0313",
          "MEG0322",
          "MEG0323",
          "MEG0332",
          "MEG0333",
          "MEG0342",
          "MEG0343",
          "MEG0412",
          "MEG0413",
          "MEG0422",
          "MEG0423",
          "MEG0432",
          "MEG0433",
          "MEG0442",
          "MEG0443",
          "MEG0512",
          "MEG0513",
          "MEG0522",
          "MEG0523",
          "MEG0532",
          "MEG0533",
          "MEG0542",
          "MEG0543",
          "MEG0612",
          "MEG0613",
          "MEG0622",
          "MEG0623",
          "MEG0632",
          "MEG0633",
          "MEG0642",
          "MEG0643",
          "MEG0712",
          "MEG0713",
          "MEG0722",
          "MEG0723",
          "MEG0732",
          "MEG0733",
          "MEG0742",
          "MEG0743",
          "MEG0812",
          "MEG0813",
          "MEG0822",
          "MEG0823",
          "MEG0912",
          "MEG0913",
          "MEG0922",
          "MEG0923",
          "MEG0932",
          "MEG0933",
          "MEG0942",
          "MEG0943",
          "MEG1012",
          "MEG1013",
          "MEG1022",
          "MEG1023",
          "MEG1032",
          "MEG1033",
          "MEG1042",
          "MEG1043",
          "MEG1112",
          "MEG1113",
          "MEG1122",
          "MEG1123",
          "MEG1132",
          "MEG1133",
          "MEG1142",
          "MEG1143",
          "MEG1212",
          "MEG1213",
          "MEG1222",
          "MEG1223",
          "MEG1232",
          "MEG1233",
          "MEG1242",
          "MEG1243",
          "MEG1312",
          "MEG1313",
          "MEG1322",
          "MEG1323",
          "MEG1332",
          "MEG1333",
          "MEG1342",
          "MEG1343",
          "MEG1412",
          "MEG1413",
          "MEG1422",
          "MEG1423",
          "MEG1432",
          "MEG1433",
          "MEG1442",
          "MEG1443",
          "MEG1512",
          "MEG1513",
          "MEG1522",
          "MEG1523",
          "MEG1532",
          "MEG1533",
          "MEG1542",
          "MEG1543",
          "MEG1612",
          "MEG1613",
          "MEG1622",
          "MEG1623",
          "MEG1632",
          "MEG1633",
          "MEG1642",
          "MEG1643",
          "MEG1712",
          "MEG1713",
          "MEG1722",
          "MEG1723",
          "MEG1732",
          "MEG1733",
          "MEG1742",
          "MEG1743",
          "MEG1812",
          "MEG1813",
          "MEG1822",
          "MEG1823",
          "MEG1832",
          "MEG1833",
          "MEG1842",
          "MEG1843",
          "MEG1912",
          "MEG1913",
          "MEG1922",
          "MEG1923",
          "MEG1932",
          "MEG1933",
          "MEG1942",
          "MEG1943",
          "MEG2012",
          "MEG2013",
          "MEG2022",
          "MEG2023",
          "MEG2032",
          "MEG2033",
          "MEG2042",
          "MEG2043",
          "MEG2112",
          "MEG2113",
          "MEG2122",
          "MEG2123",
          "MEG2132",
          "MEG2133",
          "MEG2142",
          "MEG2143",
          "MEG2212",
          "MEG2213",
          "MEG2222",
          "MEG2223",
          "MEG2232",
          "MEG2233",
          "MEG2242",
          "MEG2243",
          "MEG2312",
          "MEG2313",
          "MEG2322",
          "MEG2323",
          "MEG2332",
          "MEG2333",
          "MEG2342",
          "MEG2343",
          "MEG2412",
          "MEG2413",
          "MEG2422",
          "MEG2423",
          "MEG2432",
          "MEG2433",
          "MEG2442",
          "MEG2443",
          "MEG2512",
          "MEG2513",
          "MEG2522",
          "MEG2523",
          "MEG2532",
          "MEG2533",
          "MEG2542",
          "MEG2543",
          "MEG2612",
          "MEG2613",
          "MEG2622",
          "MEG2623",
          "MEG2632",
          "MEG2633",
          "MEG2642",
          "MEG2643"
         ],
         "type": "box",
         "x": [
          5.7296856989498824e-12,
          6.8946599425451535e-12,
          5.985253478243073e-12,
          4.89828019669102e-12,
          6.003096328357171e-12,
          5.4671071781478694e-12,
          4.893954263891486e-12,
          6.463690029704951e-12,
          4.601833572844296e-12,
          5.270002812091758e-12,
          5.07548669804656e-12,
          6.346297048011866e-12,
          5.0327618896758545e-12,
          4.41444874495984e-12,
          5.8568459462890365e-12,
          4.9212188011087015e-12,
          4.916294147801446e-12,
          5.123919538689236e-12,
          4.644616253255746e-12,
          3.8149774811101765e-12,
          3.511455569277533e-12,
          3.939238156789965e-12,
          4.1661144259783055e-12,
          5.677424254145007e-12,
          3.7325022187008974e-12,
          4.298712076478411e-12,
          4.580088188877274e-12,
          3.862625358655172e-12,
          4.489633582972571e-12,
          3.759890934553158e-12,
          4.31890325623989e-12,
          4.68222942106692e-12,
          4.248683969012197e-12,
          3.8381068771475e-12,
          4.359422625191053e-12,
          4.326304238684643e-12,
          3.789324353701602e-12,
          3.757904053013889e-12,
          4.248010610894738e-12,
          3.939890246993283e-12,
          3.673565114614768e-12,
          3.219179040823703e-12,
          3.6287165924562024e-12,
          3.817524207071072e-12,
          3.5270542736664415e-12,
          3.537307534709666e-12,
          3.648836760761669e-12,
          3.896579970957439e-12,
          3.572805364594634e-12,
          3.98247600498678e-12,
          4.219954901246842e-12,
          4.309060544755056e-12,
          3.691102133766134e-12,
          3.5526986021972494e-12,
          3.689922266960634e-12,
          3.6167459804766094e-12,
          4.007240106575797e-12,
          5.262607439089604e-12,
          4.745729111050765e-12,
          3.837710558536335e-12,
          3.917368935923588e-12,
          4.3569182499316556e-12,
          4.332474743695896e-12,
          4.638994090796748e-12,
          4.133221358849368e-12,
          3.7229025906087904e-12,
          3.653604379647536e-12,
          4.0344570368270555e-12,
          3.900153131828962e-12,
          3.961381698329692e-12,
          3.6674811371856955e-12,
          6.984567770292593e-12,
          4.1234015399817935e-12,
          4.134106154036338e-12,
          4.460043439966733e-12,
          4.2128600379640074e-12,
          4.4069796491611165e-12,
          6.106082650637182e-12,
          4.35275255641194e-12,
          4.758841063011649e-12,
          4.913702914769156e-12,
          4.96096683374275e-12,
          4.344254105672243e-12,
          3.5759366341110458e-12,
          4.543992503921263e-12,
          5.469236453241602e-12,
          5.296263452027316e-12,
          6.344141331029146e-12,
          4.8966031668317395e-12,
          4.3616236100516866e-12,
          3.762173253923606e-12,
          4.410436295871798e-12,
          5.840530062852186e-12,
          4.537971715211041e-12,
          6.366402150098424e-12,
          7.0405629950437335e-12,
          6.326692303117459e-12,
          6.618740472109534e-12,
          5.861391103691384e-12,
          4.692423555683266e-12,
          6.965013942830349e-12,
          5.188019312833861e-12,
          5.073926492470297e-12,
          6.349932255696243e-12,
          5.2135464281304974e-12,
          6.715470951280989e-12,
          7.025741148571949e-12,
          6.464270338882317e-12,
          5.765542113992295e-12,
          5.9867120594891684e-12,
          6.040696969274415e-12,
          5.3823540831935135e-12,
          4.991418584660588e-12,
          6.627949926065207e-12,
          4.288645719760523e-12,
          6.711287979506016e-12,
          5.0941089406126065e-12,
          5.328393302646849e-12,
          5.163724642190631e-12,
          4.851099778602138e-12,
          5.162351381635145e-12,
          4.77207771204287e-12,
          4.990111887331508e-12,
          5.904114105995463e-12,
          5.509014302008716e-12,
          7.667656726612395e-12,
          6.051975570047023e-12,
          5.123211739106779e-12,
          6.735903639634263e-12,
          6.304873751400843e-12,
          8.063456389999208e-12,
          9.006235810722424e-12,
          3.9871830984414275e-12,
          7.420865404701972e-12,
          4.314395748957778e-12,
          3.724452532441427e-12,
          4.1822265998301215e-12,
          4.420241279116139e-12,
          4.525565618846226e-12,
          4.112034844550738e-12,
          5.354532339311965e-12,
          5.23324537753572e-12,
          7.601625265354651e-12,
          6.945176687846881e-12,
          6.869357224014982e-12,
          1.0761248716207432e-11,
          5.875778720860459e-12,
          6.486504132211489e-12,
          4.8793997335924875e-12,
          4.5433207349203404e-12,
          5.143602684792074e-12,
          4.765438955579726e-12,
          5.647912886560679e-12,
          6.2153944646547085e-12,
          5.47327251434046e-12,
          5.862346541788374e-12,
          7.557965175957626e-12,
          7.039156348861999e-12,
          7.643695314500414e-12,
          8.122441764916244e-12,
          7.64390078517261e-12,
          1.0313815186425362e-11,
          1.1737913263682154e-11,
          7.85422171465294e-12,
          5.519762701784947e-12,
          4.082333375576065e-12,
          4.471396032249103e-12,
          4.9126285967845295e-12,
          4.1514819907427955e-12,
          4.8333990851420125e-12,
          3.5693444167158023e-12,
          4.229732455895809e-12,
          6.0731363248955e-12,
          5.420506246147191e-12,
          6.287501837386946e-12,
          6.991042034647939e-12,
          7.331383454388482e-12,
          8.629079659987355e-12,
          6.633925128944849e-12,
          6.8239985128242e-12,
          6.036039668153965e-12,
          5.118919466069104e-12,
          6.532539023623983e-12,
          6.4956486786301336e-12,
          6.572513830255812e-12,
          6.814841158379554e-12,
          5.977251811242668e-12,
          4.950470434477141e-12,
          7.204272186908425e-12,
          8.452621938726643e-12,
          7.153116480694389e-12,
          6.305317175315067e-12,
          5.62723812960561e-12,
          8.350648191138057e-12,
          6.812041097786427e-12,
          8.789016953986816e-12,
          7.165263115511257e-12,
          7.0160776038205675e-12,
          6.696182132583497e-12,
          6.969227671320208e-12,
          4.7807389980461504e-12,
          7.417972636130483e-12,
          6.587149573239905e-12,
          6.043698325853949e-12
         ]
        }
       ],
       "layout": {
        "template": {
         "data": {
          "bar": [
           {
            "error_x": {
             "color": "#2a3f5f"
            },
            "error_y": {
             "color": "#2a3f5f"
            },
            "marker": {
             "line": {
              "color": "#E5ECF6",
              "width": 0.5
             },
             "pattern": {
              "fillmode": "overlay",
              "size": 10,
              "solidity": 0.2
             }
            },
            "type": "bar"
           }
          ],
          "barpolar": [
           {
            "marker": {
             "line": {
              "color": "#E5ECF6",
              "width": 0.5
             },
             "pattern": {
              "fillmode": "overlay",
              "size": 10,
              "solidity": 0.2
             }
            },
            "type": "barpolar"
           }
          ],
          "carpet": [
           {
            "aaxis": {
             "endlinecolor": "#2a3f5f",
             "gridcolor": "white",
             "linecolor": "white",
             "minorgridcolor": "white",
             "startlinecolor": "#2a3f5f"
            },
            "baxis": {
             "endlinecolor": "#2a3f5f",
             "gridcolor": "white",
             "linecolor": "white",
             "minorgridcolor": "white",
             "startlinecolor": "#2a3f5f"
            },
            "type": "carpet"
           }
          ],
          "choropleth": [
           {
            "colorbar": {
             "outlinewidth": 0,
             "ticks": ""
            },
            "type": "choropleth"
           }
          ],
          "contour": [
           {
            "colorbar": {
             "outlinewidth": 0,
             "ticks": ""
            },
            "colorscale": [
             [
              0,
              "#0d0887"
             ],
             [
              0.1111111111111111,
              "#46039f"
             ],
             [
              0.2222222222222222,
              "#7201a8"
             ],
             [
              0.3333333333333333,
              "#9c179e"
             ],
             [
              0.4444444444444444,
              "#bd3786"
             ],
             [
              0.5555555555555556,
              "#d8576b"
             ],
             [
              0.6666666666666666,
              "#ed7953"
             ],
             [
              0.7777777777777778,
              "#fb9f3a"
             ],
             [
              0.8888888888888888,
              "#fdca26"
             ],
             [
              1,
              "#f0f921"
             ]
            ],
            "type": "contour"
           }
          ],
          "contourcarpet": [
           {
            "colorbar": {
             "outlinewidth": 0,
             "ticks": ""
            },
            "type": "contourcarpet"
           }
          ],
          "heatmap": [
           {
            "colorbar": {
             "outlinewidth": 0,
             "ticks": ""
            },
            "colorscale": [
             [
              0,
              "#0d0887"
             ],
             [
              0.1111111111111111,
              "#46039f"
             ],
             [
              0.2222222222222222,
              "#7201a8"
             ],
             [
              0.3333333333333333,
              "#9c179e"
             ],
             [
              0.4444444444444444,
              "#bd3786"
             ],
             [
              0.5555555555555556,
              "#d8576b"
             ],
             [
              0.6666666666666666,
              "#ed7953"
             ],
             [
              0.7777777777777778,
              "#fb9f3a"
             ],
             [
              0.8888888888888888,
              "#fdca26"
             ],
             [
              1,
              "#f0f921"
             ]
            ],
            "type": "heatmap"
           }
          ],
          "heatmapgl": [
           {
            "colorbar": {
             "outlinewidth": 0,
             "ticks": ""
            },
            "colorscale": [
             [
              0,
              "#0d0887"
             ],
             [
              0.1111111111111111,
              "#46039f"
             ],
             [
              0.2222222222222222,
              "#7201a8"
             ],
             [
              0.3333333333333333,
              "#9c179e"
             ],
             [
              0.4444444444444444,
              "#bd3786"
             ],
             [
              0.5555555555555556,
              "#d8576b"
             ],
             [
              0.6666666666666666,
              "#ed7953"
             ],
             [
              0.7777777777777778,
              "#fb9f3a"
             ],
             [
              0.8888888888888888,
              "#fdca26"
             ],
             [
              1,
              "#f0f921"
             ]
            ],
            "type": "heatmapgl"
           }
          ],
          "histogram": [
           {
            "marker": {
             "pattern": {
              "fillmode": "overlay",
              "size": 10,
              "solidity": 0.2
             }
            },
            "type": "histogram"
           }
          ],
          "histogram2d": [
           {
            "colorbar": {
             "outlinewidth": 0,
             "ticks": ""
            },
            "colorscale": [
             [
              0,
              "#0d0887"
             ],
             [
              0.1111111111111111,
              "#46039f"
             ],
             [
              0.2222222222222222,
              "#7201a8"
             ],
             [
              0.3333333333333333,
              "#9c179e"
             ],
             [
              0.4444444444444444,
              "#bd3786"
             ],
             [
              0.5555555555555556,
              "#d8576b"
             ],
             [
              0.6666666666666666,
              "#ed7953"
             ],
             [
              0.7777777777777778,
              "#fb9f3a"
             ],
             [
              0.8888888888888888,
              "#fdca26"
             ],
             [
              1,
              "#f0f921"
             ]
            ],
            "type": "histogram2d"
           }
          ],
          "histogram2dcontour": [
           {
            "colorbar": {
             "outlinewidth": 0,
             "ticks": ""
            },
            "colorscale": [
             [
              0,
              "#0d0887"
             ],
             [
              0.1111111111111111,
              "#46039f"
             ],
             [
              0.2222222222222222,
              "#7201a8"
             ],
             [
              0.3333333333333333,
              "#9c179e"
             ],
             [
              0.4444444444444444,
              "#bd3786"
             ],
             [
              0.5555555555555556,
              "#d8576b"
             ],
             [
              0.6666666666666666,
              "#ed7953"
             ],
             [
              0.7777777777777778,
              "#fb9f3a"
             ],
             [
              0.8888888888888888,
              "#fdca26"
             ],
             [
              1,
              "#f0f921"
             ]
            ],
            "type": "histogram2dcontour"
           }
          ],
          "mesh3d": [
           {
            "colorbar": {
             "outlinewidth": 0,
             "ticks": ""
            },
            "type": "mesh3d"
           }
          ],
          "parcoords": [
           {
            "line": {
             "colorbar": {
              "outlinewidth": 0,
              "ticks": ""
             }
            },
            "type": "parcoords"
           }
          ],
          "pie": [
           {
            "automargin": true,
            "type": "pie"
           }
          ],
          "scatter": [
           {
            "fillpattern": {
             "fillmode": "overlay",
             "size": 10,
             "solidity": 0.2
            },
            "type": "scatter"
           }
          ],
          "scatter3d": [
           {
            "line": {
             "colorbar": {
              "outlinewidth": 0,
              "ticks": ""
             }
            },
            "marker": {
             "colorbar": {
              "outlinewidth": 0,
              "ticks": ""
             }
            },
            "type": "scatter3d"
           }
          ],
          "scattercarpet": [
           {
            "marker": {
             "colorbar": {
              "outlinewidth": 0,
              "ticks": ""
             }
            },
            "type": "scattercarpet"
           }
          ],
          "scattergeo": [
           {
            "marker": {
             "colorbar": {
              "outlinewidth": 0,
              "ticks": ""
             }
            },
            "type": "scattergeo"
           }
          ],
          "scattergl": [
           {
            "marker": {
             "colorbar": {
              "outlinewidth": 0,
              "ticks": ""
             }
            },
            "type": "scattergl"
           }
          ],
          "scattermapbox": [
           {
            "marker": {
             "colorbar": {
              "outlinewidth": 0,
              "ticks": ""
             }
            },
            "type": "scattermapbox"
           }
          ],
          "scatterpolar": [
           {
            "marker": {
             "colorbar": {
              "outlinewidth": 0,
              "ticks": ""
             }
            },
            "type": "scatterpolar"
           }
          ],
          "scatterpolargl": [
           {
            "marker": {
             "colorbar": {
              "outlinewidth": 0,
              "ticks": ""
             }
            },
            "type": "scatterpolargl"
           }
          ],
          "scatterternary": [
           {
            "marker": {
             "colorbar": {
              "outlinewidth": 0,
              "ticks": ""
             }
            },
            "type": "scatterternary"
           }
          ],
          "surface": [
           {
            "colorbar": {
             "outlinewidth": 0,
             "ticks": ""
            },
            "colorscale": [
             [
              0,
              "#0d0887"
             ],
             [
              0.1111111111111111,
              "#46039f"
             ],
             [
              0.2222222222222222,
              "#7201a8"
             ],
             [
              0.3333333333333333,
              "#9c179e"
             ],
             [
              0.4444444444444444,
              "#bd3786"
             ],
             [
              0.5555555555555556,
              "#d8576b"
             ],
             [
              0.6666666666666666,
              "#ed7953"
             ],
             [
              0.7777777777777778,
              "#fb9f3a"
             ],
             [
              0.8888888888888888,
              "#fdca26"
             ],
             [
              1,
              "#f0f921"
             ]
            ],
            "type": "surface"
           }
          ],
          "table": [
           {
            "cells": {
             "fill": {
              "color": "#EBF0F8"
             },
             "line": {
              "color": "white"
             }
            },
            "header": {
             "fill": {
              "color": "#C8D4E3"
             },
             "line": {
              "color": "white"
             }
            },
            "type": "table"
           }
          ]
         },
         "layout": {
          "annotationdefaults": {
           "arrowcolor": "#2a3f5f",
           "arrowhead": 0,
           "arrowwidth": 1
          },
          "autotypenumbers": "strict",
          "coloraxis": {
           "colorbar": {
            "outlinewidth": 0,
            "ticks": ""
           }
          },
          "colorscale": {
           "diverging": [
            [
             0,
             "#8e0152"
            ],
            [
             0.1,
             "#c51b7d"
            ],
            [
             0.2,
             "#de77ae"
            ],
            [
             0.3,
             "#f1b6da"
            ],
            [
             0.4,
             "#fde0ef"
            ],
            [
             0.5,
             "#f7f7f7"
            ],
            [
             0.6,
             "#e6f5d0"
            ],
            [
             0.7,
             "#b8e186"
            ],
            [
             0.8,
             "#7fbc41"
            ],
            [
             0.9,
             "#4d9221"
            ],
            [
             1,
             "#276419"
            ]
           ],
           "sequential": [
            [
             0,
             "#0d0887"
            ],
            [
             0.1111111111111111,
             "#46039f"
            ],
            [
             0.2222222222222222,
             "#7201a8"
            ],
            [
             0.3333333333333333,
             "#9c179e"
            ],
            [
             0.4444444444444444,
             "#bd3786"
            ],
            [
             0.5555555555555556,
             "#d8576b"
            ],
            [
             0.6666666666666666,
             "#ed7953"
            ],
            [
             0.7777777777777778,
             "#fb9f3a"
            ],
            [
             0.8888888888888888,
             "#fdca26"
            ],
            [
             1,
             "#f0f921"
            ]
           ],
           "sequentialminus": [
            [
             0,
             "#0d0887"
            ],
            [
             0.1111111111111111,
             "#46039f"
            ],
            [
             0.2222222222222222,
             "#7201a8"
            ],
            [
             0.3333333333333333,
             "#9c179e"
            ],
            [
             0.4444444444444444,
             "#bd3786"
            ],
            [
             0.5555555555555556,
             "#d8576b"
            ],
            [
             0.6666666666666666,
             "#ed7953"
            ],
            [
             0.7777777777777778,
             "#fb9f3a"
            ],
            [
             0.8888888888888888,
             "#fdca26"
            ],
            [
             1,
             "#f0f921"
            ]
           ]
          },
          "colorway": [
           "#636efa",
           "#EF553B",
           "#00cc96",
           "#ab63fa",
           "#FFA15A",
           "#19d3f3",
           "#FF6692",
           "#B6E880",
           "#FF97FF",
           "#FECB52"
          ],
          "font": {
           "color": "#2a3f5f"
          },
          "geo": {
           "bgcolor": "white",
           "lakecolor": "white",
           "landcolor": "#E5ECF6",
           "showlakes": true,
           "showland": true,
           "subunitcolor": "white"
          },
          "hoverlabel": {
           "align": "left"
          },
          "hovermode": "closest",
          "mapbox": {
           "style": "light"
          },
          "paper_bgcolor": "white",
          "plot_bgcolor": "#E5ECF6",
          "polar": {
           "angularaxis": {
            "gridcolor": "white",
            "linecolor": "white",
            "ticks": ""
           },
           "bgcolor": "#E5ECF6",
           "radialaxis": {
            "gridcolor": "white",
            "linecolor": "white",
            "ticks": ""
           }
          },
          "scene": {
           "xaxis": {
            "backgroundcolor": "#E5ECF6",
            "gridcolor": "white",
            "gridwidth": 2,
            "linecolor": "white",
            "showbackground": true,
            "ticks": "",
            "zerolinecolor": "white"
           },
           "yaxis": {
            "backgroundcolor": "#E5ECF6",
            "gridcolor": "white",
            "gridwidth": 2,
            "linecolor": "white",
            "showbackground": true,
            "ticks": "",
            "zerolinecolor": "white"
           },
           "zaxis": {
            "backgroundcolor": "#E5ECF6",
            "gridcolor": "white",
            "gridwidth": 2,
            "linecolor": "white",
            "showbackground": true,
            "ticks": "",
            "zerolinecolor": "white"
           }
          },
          "shapedefaults": {
           "line": {
            "color": "#2a3f5f"
           }
          },
          "ternary": {
           "aaxis": {
            "gridcolor": "white",
            "linecolor": "white",
            "ticks": ""
           },
           "baxis": {
            "gridcolor": "white",
            "linecolor": "white",
            "ticks": ""
           },
           "bgcolor": "#E5ECF6",
           "caxis": {
            "gridcolor": "white",
            "linecolor": "white",
            "ticks": ""
           }
          },
          "title": {
           "x": 0.05
          },
          "xaxis": {
           "automargin": true,
           "gridcolor": "white",
           "linecolor": "white",
           "ticks": "",
           "title": {
            "standoff": 15
           },
           "zerolinecolor": "white",
           "zerolinewidth": 2
          },
          "yaxis": {
           "automargin": true,
           "gridcolor": "white",
           "linecolor": "white",
           "ticks": "",
           "title": {
            "standoff": 15
           },
           "zerolinecolor": "white",
           "zerolinewidth": 2
          }
         }
        },
        "title": {
         "text": "Standard deviation of the data for Gradiometers",
         "x": 0.5,
         "xanchor": "center",
         "y": 0.85,
         "yanchor": "top"
        },
        "xaxis": {
         "exponentformat": "e",
         "showexponent": "all",
         "title": {
          "text": "standard deviation in T/m"
         }
        },
        "yaxis": {
         "showticklabels": false,
         "visible": false
        }
       }
      }
     },
     "metadata": {},
     "output_type": "display_data"
    }
   ],
   "source": [
    "fig_g, fig_path_g=boxplot_std_hovering_plotly(std_data=rmse_grads, tit='Gradiometers', channel_names=grads, sid='1')\n",
    "\n"
   ]
  },
  {
   "cell_type": "code",
   "execution_count": 8,
   "metadata": {},
   "outputs": [],
   "source": [
    "def std_mg(mg_names: list, df_mg: pd.DataFrame, epoch_numbers: list) -> pd.DataFrame:\n",
    "\n",
    "    '''Calculate std for every separate epoch of mags or grads.\n",
    "    Used as internal function in RMSE_meg_epoch\n",
    "\n",
    "    Args:\n",
    "    mg_names (list of tuples): channel name + its index, \n",
    "    df_mg (pd.DataFrame): data frame containing data for all epochs for mags or for grads\n",
    "    epoch_numbers (list): list of epoch numbers\n",
    "\n",
    "    Returns:\n",
    "    df_std_mg (pd.DataFrame): data frame containing stds for all epoch for each channel\n",
    "    '''\n",
    "    \n",
    "    dict_mg = {}\n",
    "\n",
    "    for ep in epoch_numbers: #loop over each epoch\n",
    "        rows_for_ep = [row for row in df_mg.iloc if row.epoch == ep] #take all rows of 1 epoch, all channels.\n",
    "        #std_epoch = [] #list with stds\n",
    "        rmse_epoch=[]\n",
    "\n",
    "        for ch_name in mg_names: #loop over channel names\n",
    "            data_ch_epoch = [row_mg[ch_name] for row_mg in rows_for_ep] #take the data for 1 epoch for 1 channel\n",
    "            rmse_ch_ep = RMSE(data_ch_epoch)\n",
    "            rmse_ch_ep=np.float64(rmse_ch_ep) #convert from ndarray to float\n",
    "            rmse_epoch.append(rmse_ch_ep)\n",
    "\n",
    "            #std_ch_ep = np.std(data_ch_epoch) #if want to use std instead\n",
    "            \n",
    "\n",
    "        dict_mg[ep] = rmse_epoch\n",
    "\n",
    "    df_std_mg = pd.DataFrame(dict_mg, index=mg_names)\n",
    "\n",
    "    return(df_std_mg)"
   ]
  },
  {
   "cell_type": "code",
   "execution_count": 9,
   "metadata": {},
   "outputs": [],
   "source": [
    "# STD over epochs: use 2 separate data frames for mags and grads in calculations:\n",
    "\n",
    "def RMSE_meg_epoch(mags: list, grads: list, std_lvl: int, n_events: int, df_epochs_mags: pd.DataFrame, df_epochs_grads:pd.DataFrame, sid: str):\n",
    "\n",
    "    '''\n",
    "    - Calculate std for every separate epoch of mags + grads\n",
    "    - Find which channels in which epochs have too high/too small stds\n",
    "    - Extract all these data for the user as csc files.\n",
    "\n",
    "    Args:\n",
    "    mags (list of tuples): magnetometer channel name + its index,\n",
    "    grads (list of tuples): gradiometer channel name + its index,\n",
    "    std_lvl (int): how many standard deviations from the mean are acceptable in the data. \n",
    "        data variability over this setting will be concedered as too too noisy, under -std_lvl as too flat \n",
    "    n_events(int): number of events, \n",
    "    df_epochs_mags (pd.DataFrame): data frame containing stds for all epoch for each magnetometer\n",
    "    df_epochs_grads(pd.DataFrame): data frame containing stds for all epoch for each gradiometer\n",
    "    sid (str): subject id number, like '1'\n",
    "\n",
    "    Returns:\n",
    "    df_std_mags(pd.DataFrame): data frame containing std data for each epoch, each channel in mags\n",
    "    df_std_grads(pd.DataFrame): data frame containing std data for each epoch, each channel in grads\n",
    "    + csv files of these two\n",
    "    '''\n",
    "\n",
    "    # 1) Loop over the epochs of each channel and check for every separate magn and grad and calculate std\n",
    "    \n",
    "    eps=list(range(0,n_events)) #list of epoch numbers\n",
    "   \n",
    "    mags_names = [mag[0] for mag in mags]\n",
    "    grads_names = [grad[0] for grad in grads]\n",
    "\n",
    "\n",
    "    #Apply function from above for mags and grads:\n",
    "    df_std_mags=std_mg(df_mg=df_epochs_mags, mg_names=mags_names, epoch_numbers=eps)\n",
    "    df_std_grads=std_mg(df_mg=df_epochs_grads, mg_names=grads_names, epoch_numbers=eps)\n",
    "\n",
    "    # 2) Check (which epochs for which channel) are over 1STD (or 2, 3, ets STDs) for (this epoch for all channels)\n",
    "\n",
    "    #Find what is 1 std over all channels per 1 epoch:\n",
    "    std_std_mags_per_epoch=[]\n",
    "    std_std_grads_per_epoch=[]\n",
    "    mean_std_mags_per_epoch=[]\n",
    "    mean_std_grads_per_epoch=[]\n",
    "\n",
    "    for ep in eps: #goes over each epoch\n",
    "        std_std_mags_per_epoch.append(np.std(df_std_mags.iloc[:, ep])) #std of stds of all channels of every single epoch\n",
    "        std_std_grads_per_epoch.append(np.std(df_std_grads.iloc[:, ep]))\n",
    "\n",
    "        mean_std_mags_per_epoch.append(np.mean(df_std_mags.iloc[:, ep])) #mean of stds of all channels of every single epoch\n",
    "        mean_std_grads_per_epoch.append(np.mean(df_std_grads.iloc[:, ep]))\n",
    "\n",
    "\n",
    "    df_ch_ep_large_std_mags=df_std_mags.copy()\n",
    "    df_ch_ep_large_std_grads=df_std_grads.copy()\n",
    "\n",
    "    df_ch_ep_small_std_mags=df_std_mags.copy()\n",
    "    df_ch_ep_small_std_grads=df_std_grads.copy()\n",
    "\n",
    "    #Now see which channles in epoch are over 1 std or under -1 std:\n",
    "    for ep in eps: #goes over each epoch   \n",
    "        df_ch_ep_large_std_mags.iloc[:,ep] = df_ch_ep_large_std_mags.iloc[:,ep] > mean_std_mags_per_epoch[ep]+std_lvl*std_std_mags_per_epoch[ep] #magnetometers\n",
    "        df_ch_ep_large_std_grads.iloc[:,ep] = df_ch_ep_large_std_grads.iloc[:,ep] > mean_std_grads_per_epoch[ep]+std_lvl*std_std_grads_per_epoch[ep] #gradiometers\n",
    "\n",
    "        df_ch_ep_small_std_mags.iloc[:,ep] = df_ch_ep_small_std_mags.iloc[:,ep] < mean_std_mags_per_epoch[ep]-std_lvl*std_std_mags_per_epoch[ep] #magnetometers\n",
    "        df_ch_ep_small_std_grads.iloc[:,ep] = df_ch_ep_small_std_grads.iloc[:,ep] < mean_std_grads_per_epoch[ep]-std_lvl*std_std_grads_per_epoch[ep] #gradiometers\n",
    "\n",
    "\n",
    "    # Create csv files  for the user:\n",
    "\n",
    "    df_std_mags.to_csv('../derivatives/sub-'+sid+'/megqc/csv files/std_mags_per_epoch.csv')\n",
    "    \n",
    "    df_std_grads.to_csv('../derivatives/sub-'+sid+'/megqc/csv files/std_grads_per_epoch.csv')\n",
    "\n",
    "    df_ch_ep_large_std_mags.to_csv('../derivatives/sub-'+sid+'/megqc/csv files/Large_std_mags_per_epoch.csv')\n",
    "\n",
    "    df_ch_ep_large_std_grads.to_csv('../derivatives/sub-'+sid+'/megqc/csv files/Large_std_grads_per_epoch.csv')\n",
    "\n",
    "    df_ch_ep_small_std_mags.to_csv('../derivatives/sub-'+sid+'/megqc/csv files/Small_std_mags_per_epoch.csv')\n",
    "\n",
    "    df_ch_ep_small_std_grads.to_csv('../derivatives/sub-'+sid+'/megqc/csv files/Small_std_grads_per_epoch.csv')\n",
    "\n",
    "    return(df_std_mags, df_std_grads)"
   ]
  },
  {
   "cell_type": "code",
   "execution_count": 10,
   "metadata": {},
   "outputs": [],
   "source": [
    "#try (will output csv files):\n",
    "# USING NON RESAMPLED DATA\n",
    "\n",
    "df_std_mags, df_std_grads=RMSE_meg_epoch(mags=mags, grads=grads, std_lvl=1, n_events=n_events, df_epochs_mags=df_epochs_mags, df_epochs_grads=df_epochs_grads, sid='1') "
   ]
  },
  {
   "cell_type": "code",
   "execution_count": 11,
   "metadata": {},
   "outputs": [
    {
     "data": {
      "application/vnd.plotly.v1+json": {
       "config": {
        "plotlyServerURL": "https://plot.ly"
       },
       "data": [
        {
         "boxpoints": "all",
         "hovertemplate": "Epoch: %{text}<br>STD: %{y: .0f}",
         "line": {
          "width": 1
         },
         "marker": {
          "size": 3
         },
         "name": "MEG0111",
         "opacity": 0.7,
         "pointpos": 0,
         "text": [
          0,
          1,
          2,
          3,
          4
         ],
         "type": "box",
         "y": [
          1.325282808458719e-13,
          1.163083687023719e-13,
          1.2711437425130847e-13,
          1.576589390277293e-13,
          1.6435101644760906e-13
         ]
        },
        {
         "boxpoints": "all",
         "hovertemplate": "Epoch: %{text}<br>STD: %{y: .0f}",
         "line": {
          "width": 1
         },
         "marker": {
          "size": 3
         },
         "name": "MEG0121",
         "opacity": 0.7,
         "pointpos": 0,
         "text": [
          0,
          1,
          2,
          3,
          4
         ],
         "type": "box",
         "y": [
          8.536337345490743e-14,
          9.043085766973702e-14,
          7.56259396048485e-14,
          1.4511994536949267e-13,
          8.871940142226434e-14
         ]
        },
        {
         "boxpoints": "all",
         "hovertemplate": "Epoch: %{text}<br>STD: %{y: .0f}",
         "line": {
          "width": 1
         },
         "marker": {
          "size": 3
         },
         "name": "MEG0131",
         "opacity": 0.7,
         "pointpos": 0,
         "text": [
          0,
          1,
          2,
          3,
          4
         ],
         "type": "box",
         "y": [
          7.684145950570139e-14,
          7.206944438786127e-14,
          7.998339212195695e-14,
          9.714874669885463e-14,
          9.018100377372822e-14
         ]
        },
        {
         "boxpoints": "all",
         "hovertemplate": "Epoch: %{text}<br>STD: %{y: .0f}",
         "line": {
          "width": 1
         },
         "marker": {
          "size": 3
         },
         "name": "MEG0141",
         "opacity": 0.7,
         "pointpos": 0,
         "text": [
          0,
          1,
          2,
          3,
          4
         ],
         "type": "box",
         "y": [
          1.202738052631222e-13,
          1.1659615292320275e-13,
          1.1463351721482503e-13,
          1.5933380734040978e-13,
          1.2536348438117672e-13
         ]
        },
        {
         "boxpoints": "all",
         "hovertemplate": "Epoch: %{text}<br>STD: %{y: .0f}",
         "line": {
          "width": 1
         },
         "marker": {
          "size": 3
         },
         "name": "MEG0211",
         "opacity": 0.7,
         "pointpos": 0,
         "text": [
          0,
          1,
          2,
          3,
          4
         ],
         "type": "box",
         "y": [
          1.067816511855135e-13,
          9.905669776045818e-14,
          1.1296894642907183e-13,
          9.712910819534382e-14,
          1.0134434925866615e-13
         ]
        },
        {
         "boxpoints": "all",
         "hovertemplate": "Epoch: %{text}<br>STD: %{y: .0f}",
         "line": {
          "width": 1
         },
         "marker": {
          "size": 3
         },
         "name": "MEG0221",
         "opacity": 0.7,
         "pointpos": 0,
         "text": [
          0,
          1,
          2,
          3,
          4
         ],
         "type": "box",
         "y": [
          8.878269870020334e-14,
          8.583636314947032e-14,
          8.98055066461855e-14,
          7.982628498181371e-14,
          8.362176662239777e-14
         ]
        },
        {
         "boxpoints": "all",
         "hovertemplate": "Epoch: %{text}<br>STD: %{y: .0f}",
         "line": {
          "width": 1
         },
         "marker": {
          "size": 3
         },
         "name": "MEG0231",
         "opacity": 0.7,
         "pointpos": 0,
         "text": [
          0,
          1,
          2,
          3,
          4
         ],
         "type": "box",
         "y": [
          1.1260111505331385e-13,
          9.422330022723041e-14,
          1.003671076465668e-13,
          9.406296524738067e-14,
          1.0603126634891236e-13
         ]
        },
        {
         "boxpoints": "all",
         "hovertemplate": "Epoch: %{text}<br>STD: %{y: .0f}",
         "line": {
          "width": 1
         },
         "marker": {
          "size": 3
         },
         "name": "MEG0241",
         "opacity": 0.7,
         "pointpos": 0,
         "text": [
          0,
          1,
          2,
          3,
          4
         ],
         "type": "box",
         "y": [
          1.500139706440575e-13,
          9.996268464606492e-14,
          1.1096310487072486e-13,
          1.225977632007214e-13,
          1.3056453085710955e-13
         ]
        },
        {
         "boxpoints": "all",
         "hovertemplate": "Epoch: %{text}<br>STD: %{y: .0f}",
         "line": {
          "width": 1
         },
         "marker": {
          "size": 3
         },
         "name": "MEG0311",
         "opacity": 0.7,
         "pointpos": 0,
         "text": [
          0,
          1,
          2,
          3,
          4
         ],
         "type": "box",
         "y": [
          1.1159100683395737e-13,
          8.863800377919653e-14,
          1.1413847269417864e-13,
          1.1264890732163512e-13,
          1.2156677980098466e-13
         ]
        },
        {
         "boxpoints": "all",
         "hovertemplate": "Epoch: %{text}<br>STD: %{y: .0f}",
         "line": {
          "width": 1
         },
         "marker": {
          "size": 3
         },
         "name": "MEG0321",
         "opacity": 0.7,
         "pointpos": 0,
         "text": [
          0,
          1,
          2,
          3,
          4
         ],
         "type": "box",
         "y": [
          8.183729196615561e-14,
          7.651738800075565e-14,
          8.604699157652102e-14,
          8.830506803145432e-14,
          8.096229246494961e-14
         ]
        },
        {
         "boxpoints": "all",
         "hovertemplate": "Epoch: %{text}<br>STD: %{y: .0f}",
         "line": {
          "width": 1
         },
         "marker": {
          "size": 3
         },
         "name": "MEG0331",
         "opacity": 0.7,
         "pointpos": 0,
         "text": [
          0,
          1,
          2,
          3,
          4
         ],
         "type": "box",
         "y": [
          6.688048453431968e-14,
          6.300501963892241e-14,
          6.00271878153701e-14,
          7.491438634131796e-14,
          6.496772915157364e-14
         ]
        },
        {
         "boxpoints": "all",
         "hovertemplate": "Epoch: %{text}<br>STD: %{y: .0f}",
         "line": {
          "width": 1
         },
         "marker": {
          "size": 3
         },
         "name": "MEG0341",
         "opacity": 0.7,
         "pointpos": 0,
         "text": [
          0,
          1,
          2,
          3,
          4
         ],
         "type": "box",
         "y": [
          8.301063192391207e-14,
          7.770189546198751e-14,
          9.759088224506408e-14,
          9.450664152972949e-14,
          7.4984253938415e-14
         ]
        },
        {
         "boxpoints": "all",
         "hovertemplate": "Epoch: %{text}<br>STD: %{y: .0f}",
         "line": {
          "width": 1
         },
         "marker": {
          "size": 3
         },
         "name": "MEG0411",
         "opacity": 0.7,
         "pointpos": 0,
         "text": [
          0,
          1,
          2,
          3,
          4
         ],
         "type": "box",
         "y": [
          8.193084227544556e-14,
          8.327280757482343e-14,
          7.451236700448993e-14,
          8.005150505078785e-14,
          6.955218968209596e-14
         ]
        },
        {
         "boxpoints": "all",
         "hovertemplate": "Epoch: %{text}<br>STD: %{y: .0f}",
         "line": {
          "width": 1
         },
         "marker": {
          "size": 3
         },
         "name": "MEG0421",
         "opacity": 0.7,
         "pointpos": 0,
         "text": [
          0,
          1,
          2,
          3,
          4
         ],
         "type": "box",
         "y": [
          5.6814280642715965e-14,
          4.8989721728399035e-14,
          5.056382896216011e-14,
          6.777810866675228e-14,
          4.786390874989504e-14
         ]
        },
        {
         "boxpoints": "all",
         "hovertemplate": "Epoch: %{text}<br>STD: %{y: .0f}",
         "line": {
          "width": 1
         },
         "marker": {
          "size": 3
         },
         "name": "MEG0431",
         "opacity": 0.7,
         "pointpos": 0,
         "text": [
          0,
          1,
          2,
          3,
          4
         ],
         "type": "box",
         "y": [
          7.285975478006999e-14,
          5.475334179912492e-14,
          5.781634752659816e-14,
          6.32593577600075e-14,
          5.4860974273226386e-14
         ]
        },
        {
         "boxpoints": "all",
         "hovertemplate": "Epoch: %{text}<br>STD: %{y: .0f}",
         "line": {
          "width": 1
         },
         "marker": {
          "size": 3
         },
         "name": "MEG0441",
         "opacity": 0.7,
         "pointpos": 0,
         "text": [
          0,
          1,
          2,
          3,
          4
         ],
         "type": "box",
         "y": [
          7.331515232666673e-14,
          8.558426742998534e-14,
          7.140238068757453e-14,
          7.277373408522891e-14,
          7.766645679640715e-14
         ]
        },
        {
         "boxpoints": "all",
         "hovertemplate": "Epoch: %{text}<br>STD: %{y: .0f}",
         "line": {
          "width": 1
         },
         "marker": {
          "size": 3
         },
         "name": "MEG0511",
         "opacity": 0.7,
         "pointpos": 0,
         "text": [
          0,
          1,
          2,
          3,
          4
         ],
         "type": "box",
         "y": [
          1.3727821336457315e-13,
          1.1955224783322663e-13,
          1.8758209391287397e-13,
          1.6970374555079972e-13,
          1.6080927612139095e-13
         ]
        },
        {
         "boxpoints": "all",
         "hovertemplate": "Epoch: %{text}<br>STD: %{y: .0f}",
         "line": {
          "width": 1
         },
         "marker": {
          "size": 3
         },
         "name": "MEG0521",
         "opacity": 0.7,
         "pointpos": 0,
         "text": [
          0,
          1,
          2,
          3,
          4
         ],
         "type": "box",
         "y": [
          1.4580533789244903e-13,
          1.1787191213422862e-13,
          2.0080670640878507e-13,
          1.85838484384247e-13,
          1.6561471694367853e-13
         ]
        },
        {
         "boxpoints": "all",
         "hovertemplate": "Epoch: %{text}<br>STD: %{y: .0f}",
         "line": {
          "width": 1
         },
         "marker": {
          "size": 3
         },
         "name": "MEG0531",
         "opacity": 0.7,
         "pointpos": 0,
         "text": [
          0,
          1,
          2,
          3,
          4
         ],
         "type": "box",
         "y": [
          7.928668668313095e-14,
          6.970764350333659e-14,
          9.647540746113573e-14,
          8.784504848225062e-14,
          9.016687419841195e-14
         ]
        },
        {
         "boxpoints": "all",
         "hovertemplate": "Epoch: %{text}<br>STD: %{y: .0f}",
         "line": {
          "width": 1
         },
         "marker": {
          "size": 3
         },
         "name": "MEG0541",
         "opacity": 0.7,
         "pointpos": 0,
         "text": [
          0,
          1,
          2,
          3,
          4
         ],
         "type": "box",
         "y": [
          1.0013821518622868e-13,
          8.405083223406647e-14,
          9.954589854546163e-14,
          9.459864051687371e-14,
          9.755442985428408e-14
         ]
        },
        {
         "boxpoints": "all",
         "hovertemplate": "Epoch: %{text}<br>STD: %{y: .0f}",
         "line": {
          "width": 1
         },
         "marker": {
          "size": 3
         },
         "name": "MEG0611",
         "opacity": 0.7,
         "pointpos": 0,
         "text": [
          0,
          1,
          2,
          3,
          4
         ],
         "type": "box",
         "y": [
          5.958361679119364e-14,
          5.325920591120298e-14,
          5.880061636441489e-14,
          7.045552606358342e-14,
          7.127864824324352e-14
         ]
        },
        {
         "boxpoints": "all",
         "hovertemplate": "Epoch: %{text}<br>STD: %{y: .0f}",
         "line": {
          "width": 1
         },
         "marker": {
          "size": 3
         },
         "name": "MEG0621",
         "opacity": 0.7,
         "pointpos": 0,
         "text": [
          0,
          1,
          2,
          3,
          4
         ],
         "type": "box",
         "y": [
          5.74808066040459e-14,
          5.056066130248382e-14,
          6.203290003116087e-14,
          6.047415803895277e-14,
          6.207641664437462e-14
         ]
        },
        {
         "boxpoints": "all",
         "hovertemplate": "Epoch: %{text}<br>STD: %{y: .0f}",
         "line": {
          "width": 1
         },
         "marker": {
          "size": 3
         },
         "name": "MEG0631",
         "opacity": 0.7,
         "pointpos": 0,
         "text": [
          0,
          1,
          2,
          3,
          4
         ],
         "type": "box",
         "y": [
          4.820391727932174e-14,
          5.720186482783283e-14,
          5.5327298589493354e-14,
          4.924794962199353e-14,
          5.1222939036644214e-14
         ]
        },
        {
         "boxpoints": "all",
         "hovertemplate": "Epoch: %{text}<br>STD: %{y: .0f}",
         "line": {
          "width": 1
         },
         "marker": {
          "size": 3
         },
         "name": "MEG0641",
         "opacity": 0.7,
         "pointpos": 0,
         "text": [
          0,
          1,
          2,
          3,
          4
         ],
         "type": "box",
         "y": [
          4.9567103954898987e-14,
          5.424912321252883e-14,
          5.754094968514261e-14,
          6.579848128636468e-14,
          6.598814733385286e-14
         ]
        },
        {
         "boxpoints": "all",
         "hovertemplate": "Epoch: %{text}<br>STD: %{y: .0f}",
         "line": {
          "width": 1
         },
         "marker": {
          "size": 3
         },
         "name": "MEG0711",
         "opacity": 0.7,
         "pointpos": 0,
         "text": [
          0,
          1,
          2,
          3,
          4
         ],
         "type": "box",
         "y": [
          7.311960727126532e-14,
          6.609683245480968e-14,
          8.188463323710834e-14,
          6.991870117664228e-14,
          6.601845128615321e-14
         ]
        },
        {
         "boxpoints": "all",
         "hovertemplate": "Epoch: %{text}<br>STD: %{y: .0f}",
         "line": {
          "width": 1
         },
         "marker": {
          "size": 3
         },
         "name": "MEG0721",
         "opacity": 0.7,
         "pointpos": 0,
         "text": [
          0,
          1,
          2,
          3,
          4
         ],
         "type": "box",
         "y": [
          7.744867825314251e-14,
          8.984878479293329e-14,
          8.031480775951591e-14,
          8.638938593260891e-14,
          8.808084387707692e-14
         ]
        },
        {
         "boxpoints": "all",
         "hovertemplate": "Epoch: %{text}<br>STD: %{y: .0f}",
         "line": {
          "width": 1
         },
         "marker": {
          "size": 3
         },
         "name": "MEG0731",
         "opacity": 0.7,
         "pointpos": 0,
         "text": [
          0,
          1,
          2,
          3,
          4
         ],
         "type": "box",
         "y": [
          8.007197817549992e-14,
          7.883837130934307e-14,
          9.637776453400408e-14,
          1.0369983705336022e-13,
          8.989902841180542e-14
         ]
        },
        {
         "boxpoints": "all",
         "hovertemplate": "Epoch: %{text}<br>STD: %{y: .0f}",
         "line": {
          "width": 1
         },
         "marker": {
          "size": 3
         },
         "name": "MEG0741",
         "opacity": 0.7,
         "pointpos": 0,
         "text": [
          0,
          1,
          2,
          3,
          4
         ],
         "type": "box",
         "y": [
          8.958883057992616e-14,
          1.0086429892933471e-13,
          1.0382789635153962e-13,
          9.740777867076422e-14,
          1.0438465038273351e-13
         ]
        },
        {
         "boxpoints": "all",
         "hovertemplate": "Epoch: %{text}<br>STD: %{y: .0f}",
         "line": {
          "width": 1
         },
         "marker": {
          "size": 3
         },
         "name": "MEG0811",
         "opacity": 0.7,
         "pointpos": 0,
         "text": [
          0,
          1,
          2,
          3,
          4
         ],
         "type": "box",
         "y": [
          1.2822720524923412e-13,
          9.706601844237937e-14,
          1.572068064084621e-13,
          1.536396232837439e-13,
          1.4024846654473081e-13
         ]
        },
        {
         "boxpoints": "all",
         "hovertemplate": "Epoch: %{text}<br>STD: %{y: .0f}",
         "line": {
          "width": 1
         },
         "marker": {
          "size": 3
         },
         "name": "MEG0821",
         "opacity": 0.7,
         "pointpos": 0,
         "text": [
          0,
          1,
          2,
          3,
          4
         ],
         "type": "box",
         "y": [
          6.566647605200309e-14,
          5.484491776950343e-14,
          6.275670776151597e-14,
          6.702251434920315e-14,
          6.05888519443032e-14
         ]
        },
        {
         "boxpoints": "all",
         "hovertemplate": "Epoch: %{text}<br>STD: %{y: .0f}",
         "line": {
          "width": 1
         },
         "marker": {
          "size": 3
         },
         "name": "MEG0911",
         "opacity": 0.7,
         "pointpos": 0,
         "text": [
          0,
          1,
          2,
          3,
          4
         ],
         "type": "box",
         "y": [
          1.061164172025677e-13,
          7.571499154849894e-14,
          1.263595645732791e-13,
          1.2845266951197998e-13,
          1.1656805154840934e-13
         ]
        },
        {
         "boxpoints": "all",
         "hovertemplate": "Epoch: %{text}<br>STD: %{y: .0f}",
         "line": {
          "width": 1
         },
         "marker": {
          "size": 3
         },
         "name": "MEG0921",
         "opacity": 0.7,
         "pointpos": 0,
         "text": [
          0,
          1,
          2,
          3,
          4
         ],
         "type": "box",
         "y": [
          7.729826570609273e-14,
          7.502044852665211e-14,
          7.684677529926919e-14,
          9.159968395483522e-14,
          9.198515540875737e-14
         ]
        },
        {
         "boxpoints": "all",
         "hovertemplate": "Epoch: %{text}<br>STD: %{y: .0f}",
         "line": {
          "width": 1
         },
         "marker": {
          "size": 3
         },
         "name": "MEG0931",
         "opacity": 0.7,
         "pointpos": 0,
         "text": [
          0,
          1,
          2,
          3,
          4
         ],
         "type": "box",
         "y": [
          8.291283374993772e-14,
          6.439806133625934e-14,
          9.589280898753552e-14,
          7.687978466133023e-14,
          7.494883970989232e-14
         ]
        },
        {
         "boxpoints": "all",
         "hovertemplate": "Epoch: %{text}<br>STD: %{y: .0f}",
         "line": {
          "width": 1
         },
         "marker": {
          "size": 3
         },
         "name": "MEG0941",
         "opacity": 0.7,
         "pointpos": 0,
         "text": [
          0,
          1,
          2,
          3,
          4
         ],
         "type": "box",
         "y": [
          6.465149400562541e-14,
          5.2541153458400884e-14,
          6.638907905176326e-14,
          7.192137249576541e-14,
          5.643013437738553e-14
         ]
        },
        {
         "boxpoints": "all",
         "hovertemplate": "Epoch: %{text}<br>STD: %{y: .0f}",
         "line": {
          "width": 1
         },
         "marker": {
          "size": 3
         },
         "name": "MEG1011",
         "opacity": 0.7,
         "pointpos": 0,
         "text": [
          0,
          1,
          2,
          3,
          4
         ],
         "type": "box",
         "y": [
          7.424816898090267e-14,
          6.12314841089243e-14,
          7.018978957824762e-14,
          1.1085187392821669e-13,
          7.717826533540452e-14
         ]
        },
        {
         "boxpoints": "all",
         "hovertemplate": "Epoch: %{text}<br>STD: %{y: .0f}",
         "line": {
          "width": 1
         },
         "marker": {
          "size": 3
         },
         "name": "MEG1021",
         "opacity": 0.7,
         "pointpos": 0,
         "text": [
          0,
          1,
          2,
          3,
          4
         ],
         "type": "box",
         "y": [
          7.49182824819065e-14,
          5.878534921250493e-14,
          8.172068416607696e-14,
          8.796543426463828e-14,
          7.011968778667785e-14
         ]
        },
        {
         "boxpoints": "all",
         "hovertemplate": "Epoch: %{text}<br>STD: %{y: .0f}",
         "line": {
          "width": 1
         },
         "marker": {
          "size": 3
         },
         "name": "MEG1031",
         "opacity": 0.7,
         "pointpos": 0,
         "text": [
          0,
          1,
          2,
          3,
          4
         ],
         "type": "box",
         "y": [
          8.010514928209851e-14,
          5.6803538340573886e-14,
          7.634815023831905e-14,
          8.382437222164635e-14,
          7.274286957879739e-14
         ]
        },
        {
         "boxpoints": "all",
         "hovertemplate": "Epoch: %{text}<br>STD: %{y: .0f}",
         "line": {
          "width": 1
         },
         "marker": {
          "size": 3
         },
         "name": "MEG1041",
         "opacity": 0.7,
         "pointpos": 0,
         "text": [
          0,
          1,
          2,
          3,
          4
         ],
         "type": "box",
         "y": [
          6.255613058813798e-14,
          5.85283249033339e-14,
          4.575666891320299e-14,
          6.272319856418567e-14,
          5.894090215218528e-14
         ]
        },
        {
         "boxpoints": "all",
         "hovertemplate": "Epoch: %{text}<br>STD: %{y: .0f}",
         "line": {
          "width": 1
         },
         "marker": {
          "size": 3
         },
         "name": "MEG1111",
         "opacity": 0.7,
         "pointpos": 0,
         "text": [
          0,
          1,
          2,
          3,
          4
         ],
         "type": "box",
         "y": [
          8.617171466550094e-14,
          6.474037261462841e-14,
          8.017295960991887e-14,
          9.81874554104945e-14,
          7.548446452787009e-14
         ]
        },
        {
         "boxpoints": "all",
         "hovertemplate": "Epoch: %{text}<br>STD: %{y: .0f}",
         "line": {
          "width": 1
         },
         "marker": {
          "size": 3
         },
         "name": "MEG1121",
         "opacity": 0.7,
         "pointpos": 0,
         "text": [
          0,
          1,
          2,
          3,
          4
         ],
         "type": "box",
         "y": [
          1.2194875659426333e-13,
          8.865553473348877e-14,
          1.3031256908692612e-13,
          1.4221484716424054e-13,
          1.1981304985431215e-13
         ]
        },
        {
         "boxpoints": "all",
         "hovertemplate": "Epoch: %{text}<br>STD: %{y: .0f}",
         "line": {
          "width": 1
         },
         "marker": {
          "size": 3
         },
         "name": "MEG1131",
         "opacity": 0.7,
         "pointpos": 0,
         "text": [
          0,
          1,
          2,
          3,
          4
         ],
         "type": "box",
         "y": [
          1.0158149597356193e-13,
          9.272584694004812e-14,
          1.2642870129650262e-13,
          1.3909451375934724e-13,
          1.0871868655409157e-13
         ]
        },
        {
         "boxpoints": "all",
         "hovertemplate": "Epoch: %{text}<br>STD: %{y: .0f}",
         "line": {
          "width": 1
         },
         "marker": {
          "size": 3
         },
         "name": "MEG1141",
         "opacity": 0.7,
         "pointpos": 0,
         "text": [
          0,
          1,
          2,
          3,
          4
         ],
         "type": "box",
         "y": [
          7.707198037626235e-14,
          6.024279891455033e-14,
          6.91430517081115e-14,
          9.234276964871589e-14,
          6.849359258741119e-14
         ]
        },
        {
         "boxpoints": "all",
         "hovertemplate": "Epoch: %{text}<br>STD: %{y: .0f}",
         "line": {
          "width": 1
         },
         "marker": {
          "size": 3
         },
         "name": "MEG1211",
         "opacity": 0.7,
         "pointpos": 0,
         "text": [
          0,
          1,
          2,
          3,
          4
         ],
         "type": "box",
         "y": [
          7.261931036441907e-14,
          8.89121261262137e-14,
          8.415743420852861e-14,
          9.668002373356983e-14,
          9.997617849298724e-14
         ]
        },
        {
         "boxpoints": "all",
         "hovertemplate": "Epoch: %{text}<br>STD: %{y: .0f}",
         "line": {
          "width": 1
         },
         "marker": {
          "size": 3
         },
         "name": "MEG1221",
         "opacity": 0.7,
         "pointpos": 0,
         "text": [
          0,
          1,
          2,
          3,
          4
         ],
         "type": "box",
         "y": [
          1.0498854515934131e-13,
          9.487875854166043e-14,
          1.0025272082761604e-13,
          1.0316991833414041e-13,
          1.0582257998725746e-13
         ]
        },
        {
         "boxpoints": "all",
         "hovertemplate": "Epoch: %{text}<br>STD: %{y: .0f}",
         "line": {
          "width": 1
         },
         "marker": {
          "size": 3
         },
         "name": "MEG1231",
         "opacity": 0.7,
         "pointpos": 0,
         "text": [
          0,
          1,
          2,
          3,
          4
         ],
         "type": "box",
         "y": [
          1.0789488286229077e-13,
          1.0401859147427223e-13,
          1.3464948257018525e-13,
          1.3219144632451402e-13,
          1.2489690907120425e-13
         ]
        },
        {
         "boxpoints": "all",
         "hovertemplate": "Epoch: %{text}<br>STD: %{y: .0f}",
         "line": {
          "width": 1
         },
         "marker": {
          "size": 3
         },
         "name": "MEG1241",
         "opacity": 0.7,
         "pointpos": 0,
         "text": [
          0,
          1,
          2,
          3,
          4
         ],
         "type": "box",
         "y": [
          1.2365231577262875e-13,
          9.593364359514627e-14,
          1.492176361291893e-13,
          1.3354369952606004e-13,
          1.2010343085756376e-13
         ]
        },
        {
         "boxpoints": "all",
         "hovertemplate": "Epoch: %{text}<br>STD: %{y: .0f}",
         "line": {
          "width": 1
         },
         "marker": {
          "size": 3
         },
         "name": "MEG1311",
         "opacity": 0.7,
         "pointpos": 0,
         "text": [
          0,
          1,
          2,
          3,
          4
         ],
         "type": "box",
         "y": [
          1.4236240929627008e-13,
          1.098305226311712e-13,
          1.4941683290921349e-13,
          1.6408140407205134e-13,
          1.3747440059177632e-13
         ]
        },
        {
         "boxpoints": "all",
         "hovertemplate": "Epoch: %{text}<br>STD: %{y: .0f}",
         "line": {
          "width": 1
         },
         "marker": {
          "size": 3
         },
         "name": "MEG1321",
         "opacity": 0.7,
         "pointpos": 0,
         "text": [
          0,
          1,
          2,
          3,
          4
         ],
         "type": "box",
         "y": [
          1.5096981395590506e-13,
          1.2383920970971437e-13,
          1.3278449382544e-13,
          1.5984301073861044e-13,
          1.3331498380102444e-13
         ]
        },
        {
         "boxpoints": "all",
         "hovertemplate": "Epoch: %{text}<br>STD: %{y: .0f}",
         "line": {
          "width": 1
         },
         "marker": {
          "size": 3
         },
         "name": "MEG1331",
         "opacity": 0.7,
         "pointpos": 0,
         "text": [
          0,
          1,
          2,
          3,
          4
         ],
         "type": "box",
         "y": [
          1.6948783397276558e-13,
          1.6182099244471097e-13,
          1.5080557535616917e-13,
          1.9038928102801234e-13,
          1.7180416073709792e-13
         ]
        },
        {
         "boxpoints": "all",
         "hovertemplate": "Epoch: %{text}<br>STD: %{y: .0f}",
         "line": {
          "width": 1
         },
         "marker": {
          "size": 3
         },
         "name": "MEG1341",
         "opacity": 0.7,
         "pointpos": 0,
         "text": [
          0,
          1,
          2,
          3,
          4
         ],
         "type": "box",
         "y": [
          1.3828438884741333e-13,
          1.0946684782417226e-13,
          1.541182069968943e-13,
          1.7029545940197336e-13,
          1.3398189335232003e-13
         ]
        },
        {
         "boxpoints": "all",
         "hovertemplate": "Epoch: %{text}<br>STD: %{y: .0f}",
         "line": {
          "width": 1
         },
         "marker": {
          "size": 3
         },
         "name": "MEG1411",
         "opacity": 0.7,
         "pointpos": 0,
         "text": [
          0,
          1,
          2,
          3,
          4
         ],
         "type": "box",
         "y": [
          1.194387019779948e-13,
          1.3665066164641472e-13,
          1.2357141499896772e-13,
          1.5005956763155437e-13,
          1.3276111911512175e-13
         ]
        },
        {
         "boxpoints": "all",
         "hovertemplate": "Epoch: %{text}<br>STD: %{y: .0f}",
         "line": {
          "width": 1
         },
         "marker": {
          "size": 3
         },
         "name": "MEG1421",
         "opacity": 0.7,
         "pointpos": 0,
         "text": [
          0,
          1,
          2,
          3,
          4
         ],
         "type": "box",
         "y": [
          1.6539294655303837e-13,
          1.9822549873436858e-13,
          2.0133588369076197e-13,
          2.411139286180109e-13,
          1.7976980652195884e-13
         ]
        },
        {
         "boxpoints": "all",
         "hovertemplate": "Epoch: %{text}<br>STD: %{y: .0f}",
         "line": {
          "width": 1
         },
         "marker": {
          "size": 3
         },
         "name": "MEG1431",
         "opacity": 0.7,
         "pointpos": 0,
         "text": [
          0,
          1,
          2,
          3,
          4
         ],
         "type": "box",
         "y": [
          1.6283093048827584e-13,
          1.852609166417453e-13,
          1.9166990386412495e-13,
          2.238393870599229e-13,
          1.8812719260731094e-13
         ]
        },
        {
         "boxpoints": "all",
         "hovertemplate": "Epoch: %{text}<br>STD: %{y: .0f}",
         "line": {
          "width": 1
         },
         "marker": {
          "size": 3
         },
         "name": "MEG1441",
         "opacity": 0.7,
         "pointpos": 0,
         "text": [
          0,
          1,
          2,
          3,
          4
         ],
         "type": "box",
         "y": [
          1.3336828490954776e-13,
          1.3651592929327615e-13,
          1.208117567198083e-13,
          1.330870493523583e-13,
          1.5227790080691548e-13
         ]
        },
        {
         "boxpoints": "all",
         "hovertemplate": "Epoch: %{text}<br>STD: %{y: .0f}",
         "line": {
          "width": 1
         },
         "marker": {
          "size": 3
         },
         "name": "MEG1511",
         "opacity": 0.7,
         "pointpos": 0,
         "text": [
          0,
          1,
          2,
          3,
          4
         ],
         "type": "box",
         "y": [
          8.670539848434781e-14,
          7.557757692871578e-14,
          8.042188289749541e-14,
          6.967135453566179e-14,
          1.0783793799858284e-13
         ]
        },
        {
         "boxpoints": "all",
         "hovertemplate": "Epoch: %{text}<br>STD: %{y: .0f}",
         "line": {
          "width": 1
         },
         "marker": {
          "size": 3
         },
         "name": "MEG1521",
         "opacity": 0.7,
         "pointpos": 0,
         "text": [
          0,
          1,
          2,
          3,
          4
         ],
         "type": "box",
         "y": [
          1.2826227623633502e-13,
          9.971623456274606e-14,
          1.2840822472761329e-13,
          1.258010808743396e-13,
          1.3189811708790892e-13
         ]
        },
        {
         "boxpoints": "all",
         "hovertemplate": "Epoch: %{text}<br>STD: %{y: .0f}",
         "line": {
          "width": 1
         },
         "marker": {
          "size": 3
         },
         "name": "MEG1531",
         "opacity": 0.7,
         "pointpos": 0,
         "text": [
          0,
          1,
          2,
          3,
          4
         ],
         "type": "box",
         "y": [
          1.5233091257897022e-13,
          1.5895219287653082e-13,
          1.4956600833851233e-13,
          1.558258539692633e-13,
          1.1415112376947068e-13
         ]
        },
        {
         "boxpoints": "all",
         "hovertemplate": "Epoch: %{text}<br>STD: %{y: .0f}",
         "line": {
          "width": 1
         },
         "marker": {
          "size": 3
         },
         "name": "MEG1541",
         "opacity": 0.7,
         "pointpos": 0,
         "text": [
          0,
          1,
          2,
          3,
          4
         ],
         "type": "box",
         "y": [
          1.436674867028028e-13,
          1.2548807107268436e-13,
          1.2762305869336424e-13,
          1.4342666609939986e-13,
          1.0006566050095667e-13
         ]
        },
        {
         "boxpoints": "all",
         "hovertemplate": "Epoch: %{text}<br>STD: %{y: .0f}",
         "line": {
          "width": 1
         },
         "marker": {
          "size": 3
         },
         "name": "MEG1611",
         "opacity": 0.7,
         "pointpos": 0,
         "text": [
          0,
          1,
          2,
          3,
          4
         ],
         "type": "box",
         "y": [
          1.4345267377060376e-13,
          1.3146994839080324e-13,
          1.6107058488344307e-13,
          1.7744855584555472e-13,
          1.632775388475363e-13
         ]
        },
        {
         "boxpoints": "all",
         "hovertemplate": "Epoch: %{text}<br>STD: %{y: .0f}",
         "line": {
          "width": 1
         },
         "marker": {
          "size": 3
         },
         "name": "MEG1621",
         "opacity": 0.7,
         "pointpos": 0,
         "text": [
          0,
          1,
          2,
          3,
          4
         ],
         "type": "box",
         "y": [
          1.2577985928341475e-13,
          1.2363696798457403e-13,
          1.198003343025149e-13,
          1.4226621187561298e-13,
          1.183983764438678e-13
         ]
        },
        {
         "boxpoints": "all",
         "hovertemplate": "Epoch: %{text}<br>STD: %{y: .0f}",
         "line": {
          "width": 1
         },
         "marker": {
          "size": 3
         },
         "name": "MEG1631",
         "opacity": 0.7,
         "pointpos": 0,
         "text": [
          0,
          1,
          2,
          3,
          4
         ],
         "type": "box",
         "y": [
          9.3181068276452e-14,
          1.051455089702076e-13,
          1.0812264046352926e-13,
          1.3025781505237422e-13,
          8.920337423510568e-14
         ]
        },
        {
         "boxpoints": "all",
         "hovertemplate": "Epoch: %{text}<br>STD: %{y: .0f}",
         "line": {
          "width": 1
         },
         "marker": {
          "size": 3
         },
         "name": "MEG1641",
         "opacity": 0.7,
         "pointpos": 0,
         "text": [
          0,
          1,
          2,
          3,
          4
         ],
         "type": "box",
         "y": [
          1.2233147944796784e-13,
          1.2905188977040244e-13,
          1.4070836425558218e-13,
          1.8231507542501698e-13,
          1.4048289287871323e-13
         ]
        },
        {
         "boxpoints": "all",
         "hovertemplate": "Epoch: %{text}<br>STD: %{y: .0f}",
         "line": {
          "width": 1
         },
         "marker": {
          "size": 3
         },
         "name": "MEG1711",
         "opacity": 0.7,
         "pointpos": 0,
         "text": [
          0,
          1,
          2,
          3,
          4
         ],
         "type": "box",
         "y": [
          1.879590853498519e-13,
          1.788552260417055e-13,
          1.9883077609663231e-13,
          1.865080985565037e-13,
          1.6325344623782357e-13
         ]
        },
        {
         "boxpoints": "all",
         "hovertemplate": "Epoch: %{text}<br>STD: %{y: .0f}",
         "line": {
          "width": 1
         },
         "marker": {
          "size": 3
         },
         "name": "MEG1721",
         "opacity": 0.7,
         "pointpos": 0,
         "text": [
          0,
          1,
          2,
          3,
          4
         ],
         "type": "box",
         "y": [
          1.8501828172997622e-13,
          1.3057640548077896e-13,
          1.5554721708631397e-13,
          1.7502360024442284e-13,
          1.5228566921026517e-13
         ]
        },
        {
         "boxpoints": "all",
         "hovertemplate": "Epoch: %{text}<br>STD: %{y: .0f}",
         "line": {
          "width": 1
         },
         "marker": {
          "size": 3
         },
         "name": "MEG1731",
         "opacity": 0.7,
         "pointpos": 0,
         "text": [
          0,
          1,
          2,
          3,
          4
         ],
         "type": "box",
         "y": [
          2.1664831541302692e-13,
          1.5488462904666614e-13,
          1.865665079335533e-13,
          1.8232603088454672e-13,
          1.9251839658692714e-13
         ]
        },
        {
         "boxpoints": "all",
         "hovertemplate": "Epoch: %{text}<br>STD: %{y: .0f}",
         "line": {
          "width": 1
         },
         "marker": {
          "size": 3
         },
         "name": "MEG1741",
         "opacity": 0.7,
         "pointpos": 0,
         "text": [
          0,
          1,
          2,
          3,
          4
         ],
         "type": "box",
         "y": [
          1.942045242476379e-13,
          2.0851164219951548e-13,
          2.1354343027746277e-13,
          2.1735865352914927e-13,
          1.845484592248963e-13
         ]
        },
        {
         "boxpoints": "all",
         "hovertemplate": "Epoch: %{text}<br>STD: %{y: .0f}",
         "line": {
          "width": 1
         },
         "marker": {
          "size": 3
         },
         "name": "MEG1811",
         "opacity": 0.7,
         "pointpos": 0,
         "text": [
          0,
          1,
          2,
          3,
          4
         ],
         "type": "box",
         "y": [
          7.161297920084902e-14,
          8.563722598606065e-14,
          8.018161417954641e-14,
          9.20155934162855e-14,
          8.460061179293392e-14
         ]
        },
        {
         "boxpoints": "all",
         "hovertemplate": "Epoch: %{text}<br>STD: %{y: .0f}",
         "line": {
          "width": 1
         },
         "marker": {
          "size": 3
         },
         "name": "MEG1821",
         "opacity": 0.7,
         "pointpos": 0,
         "text": [
          0,
          1,
          2,
          3,
          4
         ],
         "type": "box",
         "y": [
          1.0088633007682804e-13,
          8.719116883856419e-14,
          7.854141938737628e-14,
          8.515458911518905e-14,
          8.261852261910482e-14
         ]
        },
        {
         "boxpoints": "all",
         "hovertemplate": "Epoch: %{text}<br>STD: %{y: .0f}",
         "line": {
          "width": 1
         },
         "marker": {
          "size": 3
         },
         "name": "MEG1831",
         "opacity": 0.7,
         "pointpos": 0,
         "text": [
          0,
          1,
          2,
          3,
          4
         ],
         "type": "box",
         "y": [
          8.629598225737797e-14,
          8.497027500706492e-14,
          9.456533995209428e-14,
          9.306271267412704e-14,
          9.989576627920193e-14
         ]
        },
        {
         "boxpoints": "all",
         "hovertemplate": "Epoch: %{text}<br>STD: %{y: .0f}",
         "line": {
          "width": 1
         },
         "marker": {
          "size": 3
         },
         "name": "MEG1841",
         "opacity": 0.7,
         "pointpos": 0,
         "text": [
          0,
          1,
          2,
          3,
          4
         ],
         "type": "box",
         "y": [
          7.640542808038595e-14,
          6.390815137162076e-14,
          7.294543171904287e-14,
          6.594135357613965e-14,
          7.307921926076809e-14
         ]
        },
        {
         "boxpoints": "all",
         "hovertemplate": "Epoch: %{text}<br>STD: %{y: .0f}",
         "line": {
          "width": 1
         },
         "marker": {
          "size": 3
         },
         "name": "MEG1911",
         "opacity": 0.7,
         "pointpos": 0,
         "text": [
          0,
          1,
          2,
          3,
          4
         ],
         "type": "box",
         "y": [
          1.0783386603522625e-13,
          7.675802998442098e-14,
          9.47986592084145e-14,
          1.080346759333354e-13,
          9.708418361802894e-14
         ]
        },
        {
         "boxpoints": "all",
         "hovertemplate": "Epoch: %{text}<br>STD: %{y: .0f}",
         "line": {
          "width": 1
         },
         "marker": {
          "size": 3
         },
         "name": "MEG1921",
         "opacity": 0.7,
         "pointpos": 0,
         "text": [
          0,
          1,
          2,
          3,
          4
         ],
         "type": "box",
         "y": [
          1.1517582540360288e-13,
          1.0789109671672196e-13,
          1.166267967909394e-13,
          1.1946498088873695e-13,
          1.6774500375811031e-13
         ]
        },
        {
         "boxpoints": "all",
         "hovertemplate": "Epoch: %{text}<br>STD: %{y: .0f}",
         "line": {
          "width": 1
         },
         "marker": {
          "size": 3
         },
         "name": "MEG1931",
         "opacity": 0.7,
         "pointpos": 0,
         "text": [
          0,
          1,
          2,
          3,
          4
         ],
         "type": "box",
         "y": [
          1.602059716199833e-13,
          1.419337070876422e-13,
          1.307553965596245e-13,
          1.424549313423481e-13,
          1.636740722687771e-13
         ]
        },
        {
         "boxpoints": "all",
         "hovertemplate": "Epoch: %{text}<br>STD: %{y: .0f}",
         "line": {
          "width": 1
         },
         "marker": {
          "size": 3
         },
         "name": "MEG1941",
         "opacity": 0.7,
         "pointpos": 0,
         "text": [
          0,
          1,
          2,
          3,
          4
         ],
         "type": "box",
         "y": [
          1.281832271606027e-13,
          9.527933234796223e-14,
          1.225881421735383e-13,
          1.5029693224699035e-13,
          1.3387500831859666e-13
         ]
        },
        {
         "boxpoints": "all",
         "hovertemplate": "Epoch: %{text}<br>STD: %{y: .0f}",
         "line": {
          "width": 1
         },
         "marker": {
          "size": 3
         },
         "name": "MEG2011",
         "opacity": 0.7,
         "pointpos": 0,
         "text": [
          0,
          1,
          2,
          3,
          4
         ],
         "type": "box",
         "y": [
          8.449910580081948e-14,
          8.309613296045881e-14,
          8.992595443205482e-14,
          9.841872315712935e-14,
          1.0993829838442363e-13
         ]
        },
        {
         "boxpoints": "all",
         "hovertemplate": "Epoch: %{text}<br>STD: %{y: .0f}",
         "line": {
          "width": 1
         },
         "marker": {
          "size": 3
         },
         "name": "MEG2021",
         "opacity": 0.7,
         "pointpos": 0,
         "text": [
          0,
          1,
          2,
          3,
          4
         ],
         "type": "box",
         "y": [
          8.296196049794471e-14,
          6.683071418552167e-14,
          7.87568774481577e-14,
          8.819604895266013e-14,
          7.654045959906314e-14
         ]
        },
        {
         "boxpoints": "all",
         "hovertemplate": "Epoch: %{text}<br>STD: %{y: .0f}",
         "line": {
          "width": 1
         },
         "marker": {
          "size": 3
         },
         "name": "MEG2031",
         "opacity": 0.7,
         "pointpos": 0,
         "text": [
          0,
          1,
          2,
          3,
          4
         ],
         "type": "box",
         "y": [
          1.2034259046128996e-13,
          8.923974631099299e-14,
          1.0889710294668732e-13,
          1.0757345472013915e-13,
          1.1970512822574336e-13
         ]
        },
        {
         "boxpoints": "all",
         "hovertemplate": "Epoch: %{text}<br>STD: %{y: .0f}",
         "line": {
          "width": 1
         },
         "marker": {
          "size": 3
         },
         "name": "MEG2041",
         "opacity": 0.7,
         "pointpos": 0,
         "text": [
          0,
          1,
          2,
          3,
          4
         ],
         "type": "box",
         "y": [
          1.0873891383462529e-13,
          9.651911702757356e-14,
          1.0015067632493869e-13,
          1.244275785384631e-13,
          1.443648520685497e-13
         ]
        },
        {
         "boxpoints": "all",
         "hovertemplate": "Epoch: %{text}<br>STD: %{y: .0f}",
         "line": {
          "width": 1
         },
         "marker": {
          "size": 3
         },
         "name": "MEG2111",
         "opacity": 0.7,
         "pointpos": 0,
         "text": [
          0,
          1,
          2,
          3,
          4
         ],
         "type": "box",
         "y": [
          1.7296432487872386e-13,
          1.3081247007982182e-13,
          1.383202090293038e-13,
          1.4929578083635544e-13,
          1.9779247392132593e-13
         ]
        },
        {
         "boxpoints": "all",
         "hovertemplate": "Epoch: %{text}<br>STD: %{y: .0f}",
         "line": {
          "width": 1
         },
         "marker": {
          "size": 3
         },
         "name": "MEG2121",
         "opacity": 0.7,
         "pointpos": 0,
         "text": [
          0,
          1,
          2,
          3,
          4
         ],
         "type": "box",
         "y": [
          2.1198790625947427e-13,
          2.03071139976045e-13,
          2.2020921205523947e-13,
          2.0021134893155264e-13,
          2.1699946521460477e-13
         ]
        },
        {
         "boxpoints": "all",
         "hovertemplate": "Epoch: %{text}<br>STD: %{y: .0f}",
         "line": {
          "width": 1
         },
         "marker": {
          "size": 3
         },
         "name": "MEG2131",
         "opacity": 0.7,
         "pointpos": 0,
         "text": [
          0,
          1,
          2,
          3,
          4
         ],
         "type": "box",
         "y": [
          1.8551303011373767e-13,
          1.7968361035392803e-13,
          2.158496132442809e-13,
          2.0872891866183894e-13,
          1.8088931182909655e-13
         ]
        },
        {
         "boxpoints": "all",
         "hovertemplate": "Epoch: %{text}<br>STD: %{y: .0f}",
         "line": {
          "width": 1
         },
         "marker": {
          "size": 3
         },
         "name": "MEG2141",
         "opacity": 0.7,
         "pointpos": 0,
         "text": [
          0,
          1,
          2,
          3,
          4
         ],
         "type": "box",
         "y": [
          1.4322436351799825e-13,
          1.3928775195673072e-13,
          1.369695690869482e-13,
          1.612499965800191e-13,
          1.467578002277865e-13
         ]
        },
        {
         "boxpoints": "all",
         "hovertemplate": "Epoch: %{text}<br>STD: %{y: .0f}",
         "line": {
          "width": 1
         },
         "marker": {
          "size": 3
         },
         "name": "MEG2211",
         "opacity": 0.7,
         "pointpos": 0,
         "text": [
          0,
          1,
          2,
          3,
          4
         ],
         "type": "box",
         "y": [
          7.259232170083333e-14,
          6.030442061096443e-14,
          5.692708895217503e-14,
          7.682224093848015e-14,
          7.727275781990278e-14
         ]
        },
        {
         "boxpoints": "all",
         "hovertemplate": "Epoch: %{text}<br>STD: %{y: .0f}",
         "line": {
          "width": 1
         },
         "marker": {
          "size": 3
         },
         "name": "MEG2221",
         "opacity": 0.7,
         "pointpos": 0,
         "text": [
          0,
          1,
          2,
          3,
          4
         ],
         "type": "box",
         "y": [
          8.325756526377385e-14,
          7.958146096962602e-14,
          7.935205288414002e-14,
          9.292497194171662e-14,
          9.649079866667719e-14
         ]
        },
        {
         "boxpoints": "all",
         "hovertemplate": "Epoch: %{text}<br>STD: %{y: .0f}",
         "line": {
          "width": 1
         },
         "marker": {
          "size": 3
         },
         "name": "MEG2231",
         "opacity": 0.7,
         "pointpos": 0,
         "text": [
          0,
          1,
          2,
          3,
          4
         ],
         "type": "box",
         "y": [
          9.377665377006597e-14,
          6.668727249562272e-14,
          7.033446462849952e-14,
          9.103103014018678e-14,
          7.589014665253389e-14
         ]
        },
        {
         "boxpoints": "all",
         "hovertemplate": "Epoch: %{text}<br>STD: %{y: .0f}",
         "line": {
          "width": 1
         },
         "marker": {
          "size": 3
         },
         "name": "MEG2241",
         "opacity": 0.7,
         "pointpos": 0,
         "text": [
          0,
          1,
          2,
          3,
          4
         ],
         "type": "box",
         "y": [
          9.616898848226049e-14,
          8.131968200432425e-14,
          1.0328106519299834e-13,
          1.2123290508107782e-13,
          1.0239963522682128e-13
         ]
        },
        {
         "boxpoints": "all",
         "hovertemplate": "Epoch: %{text}<br>STD: %{y: .0f}",
         "line": {
          "width": 1
         },
         "marker": {
          "size": 3
         },
         "name": "MEG2311",
         "opacity": 0.7,
         "pointpos": 0,
         "text": [
          0,
          1,
          2,
          3,
          4
         ],
         "type": "box",
         "y": [
          1.488501127618244e-13,
          1.0405433338789201e-13,
          1.4446048216514438e-13,
          1.362900154208573e-13,
          1.1806583970642478e-13
         ]
        },
        {
         "boxpoints": "all",
         "hovertemplate": "Epoch: %{text}<br>STD: %{y: .0f}",
         "line": {
          "width": 1
         },
         "marker": {
          "size": 3
         },
         "name": "MEG2321",
         "opacity": 0.7,
         "pointpos": 0,
         "text": [
          0,
          1,
          2,
          3,
          4
         ],
         "type": "box",
         "y": [
          2.0743911781221316e-13,
          1.4727359527156215e-13,
          1.7945567461885536e-13,
          1.6301139316367657e-13,
          1.8504209995113204e-13
         ]
        },
        {
         "boxpoints": "all",
         "hovertemplate": "Epoch: %{text}<br>STD: %{y: .0f}",
         "line": {
          "width": 1
         },
         "marker": {
          "size": 3
         },
         "name": "MEG2331",
         "opacity": 0.7,
         "pointpos": 0,
         "text": [
          0,
          1,
          2,
          3,
          4
         ],
         "type": "box",
         "y": [
          2.3181803743454983e-13,
          1.6884451278115623e-13,
          1.881992186642769e-13,
          1.7997223555789485e-13,
          2.363548097549781e-13
         ]
        },
        {
         "boxpoints": "all",
         "hovertemplate": "Epoch: %{text}<br>STD: %{y: .0f}",
         "line": {
          "width": 1
         },
         "marker": {
          "size": 3
         },
         "name": "MEG2341",
         "opacity": 0.7,
         "pointpos": 0,
         "text": [
          0,
          1,
          2,
          3,
          4
         ],
         "type": "box",
         "y": [
          1.1789250085208617e-13,
          7.83706240843823e-14,
          1.1314189319196442e-13,
          1.083281338601106e-13,
          1.1186364583972077e-13
         ]
        },
        {
         "boxpoints": "all",
         "hovertemplate": "Epoch: %{text}<br>STD: %{y: .0f}",
         "line": {
          "width": 1
         },
         "marker": {
          "size": 3
         },
         "name": "MEG2411",
         "opacity": 0.7,
         "pointpos": 0,
         "text": [
          0,
          1,
          2,
          3,
          4
         ],
         "type": "box",
         "y": [
          1.2259684616545152e-13,
          1.060994841691196e-13,
          1.1332032751470691e-13,
          1.4026020564373484e-13,
          1.4839017835571103e-13
         ]
        },
        {
         "boxpoints": "all",
         "hovertemplate": "Epoch: %{text}<br>STD: %{y: .0f}",
         "line": {
          "width": 1
         },
         "marker": {
          "size": 3
         },
         "name": "MEG2421",
         "opacity": 0.7,
         "pointpos": 0,
         "text": [
          0,
          1,
          2,
          3,
          4
         ],
         "type": "box",
         "y": [
          1.346631516803913e-13,
          1.3144789668494203e-13,
          1.0732285528916073e-13,
          1.363479938861588e-13,
          1.488173238730465e-13
         ]
        },
        {
         "boxpoints": "all",
         "hovertemplate": "Epoch: %{text}<br>STD: %{y: .0f}",
         "line": {
          "width": 1
         },
         "marker": {
          "size": 3
         },
         "name": "MEG2431",
         "opacity": 0.7,
         "pointpos": 0,
         "text": [
          0,
          1,
          2,
          3,
          4
         ],
         "type": "box",
         "y": [
          1.784601029455637e-13,
          1.2775590892891033e-13,
          1.551328352029996e-13,
          1.4840846824277208e-13,
          1.5209648707643248e-13
         ]
        },
        {
         "boxpoints": "all",
         "hovertemplate": "Epoch: %{text}<br>STD: %{y: .0f}",
         "line": {
          "width": 1
         },
         "marker": {
          "size": 3
         },
         "name": "MEG2441",
         "opacity": 0.7,
         "pointpos": 0,
         "text": [
          0,
          1,
          2,
          3,
          4
         ],
         "type": "box",
         "y": [
          1.37079035865796e-13,
          1.0524765021769134e-13,
          1.2726877800581508e-13,
          1.3178190969942995e-13,
          1.2989195540142779e-13
         ]
        },
        {
         "boxpoints": "all",
         "hovertemplate": "Epoch: %{text}<br>STD: %{y: .0f}",
         "line": {
          "width": 1
         },
         "marker": {
          "size": 3
         },
         "name": "MEG2511",
         "opacity": 0.7,
         "pointpos": 0,
         "text": [
          0,
          1,
          2,
          3,
          4
         ],
         "type": "box",
         "y": [
          2.0833789588188117e-13,
          1.297498005200266e-13,
          1.5250722502815384e-13,
          1.4100067475544266e-13,
          1.8680015847911853e-13
         ]
        },
        {
         "boxpoints": "all",
         "hovertemplate": "Epoch: %{text}<br>STD: %{y: .0f}",
         "line": {
          "width": 1
         },
         "marker": {
          "size": 3
         },
         "name": "MEG2521",
         "opacity": 0.7,
         "pointpos": 0,
         "text": [
          0,
          1,
          2,
          3,
          4
         ],
         "type": "box",
         "y": [
          1.7882910592753787e-13,
          1.2520228526189336e-13,
          1.3448200207515848e-13,
          1.364848985465489e-13,
          1.4939538233843835e-13
         ]
        },
        {
         "boxpoints": "all",
         "hovertemplate": "Epoch: %{text}<br>STD: %{y: .0f}",
         "line": {
          "width": 1
         },
         "marker": {
          "size": 3
         },
         "name": "MEG2531",
         "opacity": 0.7,
         "pointpos": 0,
         "text": [
          0,
          1,
          2,
          3,
          4
         ],
         "type": "box",
         "y": [
          1.4509882295092187e-13,
          1.4766895267492284e-13,
          1.4571317565128387e-13,
          1.7356078802728088e-13,
          1.5924231730879718e-13
         ]
        },
        {
         "boxpoints": "all",
         "hovertemplate": "Epoch: %{text}<br>STD: %{y: .0f}",
         "line": {
          "width": 1
         },
         "marker": {
          "size": 3
         },
         "name": "MEG2541",
         "opacity": 0.7,
         "pointpos": 0,
         "text": [
          0,
          1,
          2,
          3,
          4
         ],
         "type": "box",
         "y": [
          1.5208689986641628e-13,
          1.5625579188021525e-13,
          1.8281883572590005e-13,
          1.8805192881616203e-13,
          1.7238328797064913e-13
         ]
        },
        {
         "boxpoints": "all",
         "hovertemplate": "Epoch: %{text}<br>STD: %{y: .0f}",
         "line": {
          "width": 1
         },
         "marker": {
          "size": 3
         },
         "name": "MEG2611",
         "opacity": 0.7,
         "pointpos": 0,
         "text": [
          0,
          1,
          2,
          3,
          4
         ],
         "type": "box",
         "y": [
          1.2407934856060187e-13,
          1.378299598021657e-13,
          1.1490818395329987e-13,
          1.0430382198390248e-13,
          1.1995731807090983e-13
         ]
        },
        {
         "boxpoints": "all",
         "hovertemplate": "Epoch: %{text}<br>STD: %{y: .0f}",
         "line": {
          "width": 1
         },
         "marker": {
          "size": 3
         },
         "name": "MEG2621",
         "opacity": 0.7,
         "pointpos": 0,
         "text": [
          0,
          1,
          2,
          3,
          4
         ],
         "type": "box",
         "y": [
          1.5033774761984028e-13,
          1.362064160949109e-13,
          1.4128614871205636e-13,
          1.7426818238698485e-13,
          1.6849704712463717e-13
         ]
        },
        {
         "boxpoints": "all",
         "hovertemplate": "Epoch: %{text}<br>STD: %{y: .0f}",
         "line": {
          "width": 1
         },
         "marker": {
          "size": 3
         },
         "name": "MEG2631",
         "opacity": 0.7,
         "pointpos": 0,
         "text": [
          0,
          1,
          2,
          3,
          4
         ],
         "type": "box",
         "y": [
          1.3890184209791115e-13,
          1.3038498972114286e-13,
          1.2112483497011334e-13,
          1.5756613182373744e-13,
          1.4870065522582076e-13
         ]
        },
        {
         "boxpoints": "all",
         "hovertemplate": "Epoch: %{text}<br>STD: %{y: .0f}",
         "line": {
          "width": 1
         },
         "marker": {
          "size": 3
         },
         "name": "MEG2641",
         "opacity": 0.7,
         "pointpos": 0,
         "text": [
          0,
          1,
          2,
          3,
          4
         ],
         "type": "box",
         "y": [
          1.2735871195991469e-13,
          1.179587544169731e-13,
          1.0995247878883436e-13,
          1.007684346762666e-13,
          1.193339818483779e-13
         ]
        }
       ],
       "layout": {
        "template": {
         "data": {
          "bar": [
           {
            "error_x": {
             "color": "#2a3f5f"
            },
            "error_y": {
             "color": "#2a3f5f"
            },
            "marker": {
             "line": {
              "color": "#E5ECF6",
              "width": 0.5
             },
             "pattern": {
              "fillmode": "overlay",
              "size": 10,
              "solidity": 0.2
             }
            },
            "type": "bar"
           }
          ],
          "barpolar": [
           {
            "marker": {
             "line": {
              "color": "#E5ECF6",
              "width": 0.5
             },
             "pattern": {
              "fillmode": "overlay",
              "size": 10,
              "solidity": 0.2
             }
            },
            "type": "barpolar"
           }
          ],
          "carpet": [
           {
            "aaxis": {
             "endlinecolor": "#2a3f5f",
             "gridcolor": "white",
             "linecolor": "white",
             "minorgridcolor": "white",
             "startlinecolor": "#2a3f5f"
            },
            "baxis": {
             "endlinecolor": "#2a3f5f",
             "gridcolor": "white",
             "linecolor": "white",
             "minorgridcolor": "white",
             "startlinecolor": "#2a3f5f"
            },
            "type": "carpet"
           }
          ],
          "choropleth": [
           {
            "colorbar": {
             "outlinewidth": 0,
             "ticks": ""
            },
            "type": "choropleth"
           }
          ],
          "contour": [
           {
            "colorbar": {
             "outlinewidth": 0,
             "ticks": ""
            },
            "colorscale": [
             [
              0,
              "#0d0887"
             ],
             [
              0.1111111111111111,
              "#46039f"
             ],
             [
              0.2222222222222222,
              "#7201a8"
             ],
             [
              0.3333333333333333,
              "#9c179e"
             ],
             [
              0.4444444444444444,
              "#bd3786"
             ],
             [
              0.5555555555555556,
              "#d8576b"
             ],
             [
              0.6666666666666666,
              "#ed7953"
             ],
             [
              0.7777777777777778,
              "#fb9f3a"
             ],
             [
              0.8888888888888888,
              "#fdca26"
             ],
             [
              1,
              "#f0f921"
             ]
            ],
            "type": "contour"
           }
          ],
          "contourcarpet": [
           {
            "colorbar": {
             "outlinewidth": 0,
             "ticks": ""
            },
            "type": "contourcarpet"
           }
          ],
          "heatmap": [
           {
            "colorbar": {
             "outlinewidth": 0,
             "ticks": ""
            },
            "colorscale": [
             [
              0,
              "#0d0887"
             ],
             [
              0.1111111111111111,
              "#46039f"
             ],
             [
              0.2222222222222222,
              "#7201a8"
             ],
             [
              0.3333333333333333,
              "#9c179e"
             ],
             [
              0.4444444444444444,
              "#bd3786"
             ],
             [
              0.5555555555555556,
              "#d8576b"
             ],
             [
              0.6666666666666666,
              "#ed7953"
             ],
             [
              0.7777777777777778,
              "#fb9f3a"
             ],
             [
              0.8888888888888888,
              "#fdca26"
             ],
             [
              1,
              "#f0f921"
             ]
            ],
            "type": "heatmap"
           }
          ],
          "heatmapgl": [
           {
            "colorbar": {
             "outlinewidth": 0,
             "ticks": ""
            },
            "colorscale": [
             [
              0,
              "#0d0887"
             ],
             [
              0.1111111111111111,
              "#46039f"
             ],
             [
              0.2222222222222222,
              "#7201a8"
             ],
             [
              0.3333333333333333,
              "#9c179e"
             ],
             [
              0.4444444444444444,
              "#bd3786"
             ],
             [
              0.5555555555555556,
              "#d8576b"
             ],
             [
              0.6666666666666666,
              "#ed7953"
             ],
             [
              0.7777777777777778,
              "#fb9f3a"
             ],
             [
              0.8888888888888888,
              "#fdca26"
             ],
             [
              1,
              "#f0f921"
             ]
            ],
            "type": "heatmapgl"
           }
          ],
          "histogram": [
           {
            "marker": {
             "pattern": {
              "fillmode": "overlay",
              "size": 10,
              "solidity": 0.2
             }
            },
            "type": "histogram"
           }
          ],
          "histogram2d": [
           {
            "colorbar": {
             "outlinewidth": 0,
             "ticks": ""
            },
            "colorscale": [
             [
              0,
              "#0d0887"
             ],
             [
              0.1111111111111111,
              "#46039f"
             ],
             [
              0.2222222222222222,
              "#7201a8"
             ],
             [
              0.3333333333333333,
              "#9c179e"
             ],
             [
              0.4444444444444444,
              "#bd3786"
             ],
             [
              0.5555555555555556,
              "#d8576b"
             ],
             [
              0.6666666666666666,
              "#ed7953"
             ],
             [
              0.7777777777777778,
              "#fb9f3a"
             ],
             [
              0.8888888888888888,
              "#fdca26"
             ],
             [
              1,
              "#f0f921"
             ]
            ],
            "type": "histogram2d"
           }
          ],
          "histogram2dcontour": [
           {
            "colorbar": {
             "outlinewidth": 0,
             "ticks": ""
            },
            "colorscale": [
             [
              0,
              "#0d0887"
             ],
             [
              0.1111111111111111,
              "#46039f"
             ],
             [
              0.2222222222222222,
              "#7201a8"
             ],
             [
              0.3333333333333333,
              "#9c179e"
             ],
             [
              0.4444444444444444,
              "#bd3786"
             ],
             [
              0.5555555555555556,
              "#d8576b"
             ],
             [
              0.6666666666666666,
              "#ed7953"
             ],
             [
              0.7777777777777778,
              "#fb9f3a"
             ],
             [
              0.8888888888888888,
              "#fdca26"
             ],
             [
              1,
              "#f0f921"
             ]
            ],
            "type": "histogram2dcontour"
           }
          ],
          "mesh3d": [
           {
            "colorbar": {
             "outlinewidth": 0,
             "ticks": ""
            },
            "type": "mesh3d"
           }
          ],
          "parcoords": [
           {
            "line": {
             "colorbar": {
              "outlinewidth": 0,
              "ticks": ""
             }
            },
            "type": "parcoords"
           }
          ],
          "pie": [
           {
            "automargin": true,
            "type": "pie"
           }
          ],
          "scatter": [
           {
            "fillpattern": {
             "fillmode": "overlay",
             "size": 10,
             "solidity": 0.2
            },
            "type": "scatter"
           }
          ],
          "scatter3d": [
           {
            "line": {
             "colorbar": {
              "outlinewidth": 0,
              "ticks": ""
             }
            },
            "marker": {
             "colorbar": {
              "outlinewidth": 0,
              "ticks": ""
             }
            },
            "type": "scatter3d"
           }
          ],
          "scattercarpet": [
           {
            "marker": {
             "colorbar": {
              "outlinewidth": 0,
              "ticks": ""
             }
            },
            "type": "scattercarpet"
           }
          ],
          "scattergeo": [
           {
            "marker": {
             "colorbar": {
              "outlinewidth": 0,
              "ticks": ""
             }
            },
            "type": "scattergeo"
           }
          ],
          "scattergl": [
           {
            "marker": {
             "colorbar": {
              "outlinewidth": 0,
              "ticks": ""
             }
            },
            "type": "scattergl"
           }
          ],
          "scattermapbox": [
           {
            "marker": {
             "colorbar": {
              "outlinewidth": 0,
              "ticks": ""
             }
            },
            "type": "scattermapbox"
           }
          ],
          "scatterpolar": [
           {
            "marker": {
             "colorbar": {
              "outlinewidth": 0,
              "ticks": ""
             }
            },
            "type": "scatterpolar"
           }
          ],
          "scatterpolargl": [
           {
            "marker": {
             "colorbar": {
              "outlinewidth": 0,
              "ticks": ""
             }
            },
            "type": "scatterpolargl"
           }
          ],
          "scatterternary": [
           {
            "marker": {
             "colorbar": {
              "outlinewidth": 0,
              "ticks": ""
             }
            },
            "type": "scatterternary"
           }
          ],
          "surface": [
           {
            "colorbar": {
             "outlinewidth": 0,
             "ticks": ""
            },
            "colorscale": [
             [
              0,
              "#0d0887"
             ],
             [
              0.1111111111111111,
              "#46039f"
             ],
             [
              0.2222222222222222,
              "#7201a8"
             ],
             [
              0.3333333333333333,
              "#9c179e"
             ],
             [
              0.4444444444444444,
              "#bd3786"
             ],
             [
              0.5555555555555556,
              "#d8576b"
             ],
             [
              0.6666666666666666,
              "#ed7953"
             ],
             [
              0.7777777777777778,
              "#fb9f3a"
             ],
             [
              0.8888888888888888,
              "#fdca26"
             ],
             [
              1,
              "#f0f921"
             ]
            ],
            "type": "surface"
           }
          ],
          "table": [
           {
            "cells": {
             "fill": {
              "color": "#EBF0F8"
             },
             "line": {
              "color": "white"
             }
            },
            "header": {
             "fill": {
              "color": "#C8D4E3"
             },
             "line": {
              "color": "white"
             }
            },
            "type": "table"
           }
          ]
         },
         "layout": {
          "annotationdefaults": {
           "arrowcolor": "#2a3f5f",
           "arrowhead": 0,
           "arrowwidth": 1
          },
          "autotypenumbers": "strict",
          "coloraxis": {
           "colorbar": {
            "outlinewidth": 0,
            "ticks": ""
           }
          },
          "colorscale": {
           "diverging": [
            [
             0,
             "#8e0152"
            ],
            [
             0.1,
             "#c51b7d"
            ],
            [
             0.2,
             "#de77ae"
            ],
            [
             0.3,
             "#f1b6da"
            ],
            [
             0.4,
             "#fde0ef"
            ],
            [
             0.5,
             "#f7f7f7"
            ],
            [
             0.6,
             "#e6f5d0"
            ],
            [
             0.7,
             "#b8e186"
            ],
            [
             0.8,
             "#7fbc41"
            ],
            [
             0.9,
             "#4d9221"
            ],
            [
             1,
             "#276419"
            ]
           ],
           "sequential": [
            [
             0,
             "#0d0887"
            ],
            [
             0.1111111111111111,
             "#46039f"
            ],
            [
             0.2222222222222222,
             "#7201a8"
            ],
            [
             0.3333333333333333,
             "#9c179e"
            ],
            [
             0.4444444444444444,
             "#bd3786"
            ],
            [
             0.5555555555555556,
             "#d8576b"
            ],
            [
             0.6666666666666666,
             "#ed7953"
            ],
            [
             0.7777777777777778,
             "#fb9f3a"
            ],
            [
             0.8888888888888888,
             "#fdca26"
            ],
            [
             1,
             "#f0f921"
            ]
           ],
           "sequentialminus": [
            [
             0,
             "#0d0887"
            ],
            [
             0.1111111111111111,
             "#46039f"
            ],
            [
             0.2222222222222222,
             "#7201a8"
            ],
            [
             0.3333333333333333,
             "#9c179e"
            ],
            [
             0.4444444444444444,
             "#bd3786"
            ],
            [
             0.5555555555555556,
             "#d8576b"
            ],
            [
             0.6666666666666666,
             "#ed7953"
            ],
            [
             0.7777777777777778,
             "#fb9f3a"
            ],
            [
             0.8888888888888888,
             "#fdca26"
            ],
            [
             1,
             "#f0f921"
            ]
           ]
          },
          "colorway": [
           "#636efa",
           "#EF553B",
           "#00cc96",
           "#ab63fa",
           "#FFA15A",
           "#19d3f3",
           "#FF6692",
           "#B6E880",
           "#FF97FF",
           "#FECB52"
          ],
          "font": {
           "color": "#2a3f5f"
          },
          "geo": {
           "bgcolor": "white",
           "lakecolor": "white",
           "landcolor": "#E5ECF6",
           "showlakes": true,
           "showland": true,
           "subunitcolor": "white"
          },
          "hoverlabel": {
           "align": "left"
          },
          "hovermode": "closest",
          "mapbox": {
           "style": "light"
          },
          "paper_bgcolor": "white",
          "plot_bgcolor": "#E5ECF6",
          "polar": {
           "angularaxis": {
            "gridcolor": "white",
            "linecolor": "white",
            "ticks": ""
           },
           "bgcolor": "#E5ECF6",
           "radialaxis": {
            "gridcolor": "white",
            "linecolor": "white",
            "ticks": ""
           }
          },
          "scene": {
           "xaxis": {
            "backgroundcolor": "#E5ECF6",
            "gridcolor": "white",
            "gridwidth": 2,
            "linecolor": "white",
            "showbackground": true,
            "ticks": "",
            "zerolinecolor": "white"
           },
           "yaxis": {
            "backgroundcolor": "#E5ECF6",
            "gridcolor": "white",
            "gridwidth": 2,
            "linecolor": "white",
            "showbackground": true,
            "ticks": "",
            "zerolinecolor": "white"
           },
           "zaxis": {
            "backgroundcolor": "#E5ECF6",
            "gridcolor": "white",
            "gridwidth": 2,
            "linecolor": "white",
            "showbackground": true,
            "ticks": "",
            "zerolinecolor": "white"
           }
          },
          "shapedefaults": {
           "line": {
            "color": "#2a3f5f"
           }
          },
          "ternary": {
           "aaxis": {
            "gridcolor": "white",
            "linecolor": "white",
            "ticks": ""
           },
           "baxis": {
            "gridcolor": "white",
            "linecolor": "white",
            "ticks": ""
           },
           "bgcolor": "#E5ECF6",
           "caxis": {
            "gridcolor": "white",
            "linecolor": "white",
            "ticks": ""
           }
          },
          "title": {
           "x": 0.05
          },
          "xaxis": {
           "automargin": true,
           "gridcolor": "white",
           "linecolor": "white",
           "ticks": "",
           "title": {
            "standoff": 15
           },
           "zerolinecolor": "white",
           "zerolinewidth": 2
          },
          "yaxis": {
           "automargin": true,
           "gridcolor": "white",
           "linecolor": "white",
           "ticks": "",
           "title": {
            "standoff": 15
           },
           "zerolinecolor": "white",
           "zerolinewidth": 2
          }
         }
        },
        "title": {
         "text": "Standard deviation over epochs for Magnetometers",
         "x": 0.5,
         "xanchor": "center",
         "y": 0.85,
         "yanchor": "top"
        },
        "xaxis": {
         "rangeslider": {
          "visible": true
         },
         "tickmode": "array",
         "ticktext": [
          "MEG0111",
          "MEG0121",
          "MEG0131",
          "MEG0141",
          "MEG0211",
          "MEG0221",
          "MEG0231",
          "MEG0241",
          "MEG0311",
          "MEG0321",
          "MEG0331",
          "MEG0341",
          "MEG0411",
          "MEG0421",
          "MEG0431",
          "MEG0441",
          "MEG0511",
          "MEG0521",
          "MEG0531",
          "MEG0541",
          "MEG0611",
          "MEG0621",
          "MEG0631",
          "MEG0641",
          "MEG0711",
          "MEG0721",
          "MEG0731",
          "MEG0741",
          "MEG0811",
          "MEG0821",
          "MEG0911",
          "MEG0921",
          "MEG0931",
          "MEG0941",
          "MEG1011",
          "MEG1021",
          "MEG1031",
          "MEG1041",
          "MEG1111",
          "MEG1121",
          "MEG1131",
          "MEG1141",
          "MEG1211",
          "MEG1221",
          "MEG1231",
          "MEG1241",
          "MEG1311",
          "MEG1321",
          "MEG1331",
          "MEG1341",
          "MEG1411",
          "MEG1421",
          "MEG1431",
          "MEG1441",
          "MEG1511",
          "MEG1521",
          "MEG1531",
          "MEG1541",
          "MEG1611",
          "MEG1621",
          "MEG1631",
          "MEG1641",
          "MEG1711",
          "MEG1721",
          "MEG1731",
          "MEG1741",
          "MEG1811",
          "MEG1821",
          "MEG1831",
          "MEG1841",
          "MEG1911",
          "MEG1921",
          "MEG1931",
          "MEG1941",
          "MEG2011",
          "MEG2021",
          "MEG2031",
          "MEG2041",
          "MEG2111",
          "MEG2121",
          "MEG2131",
          "MEG2141",
          "MEG2211",
          "MEG2221",
          "MEG2231",
          "MEG2241",
          "MEG2311",
          "MEG2321",
          "MEG2331",
          "MEG2341",
          "MEG2411",
          "MEG2421",
          "MEG2431",
          "MEG2441",
          "MEG2511",
          "MEG2521",
          "MEG2531",
          "MEG2541",
          "MEG2611",
          "MEG2621",
          "MEG2631",
          "MEG2641"
         ],
         "tickvals": [
          0,
          1,
          2,
          3,
          4,
          5,
          6,
          7,
          8,
          9,
          10,
          11,
          12,
          13,
          14,
          15,
          16,
          17,
          18,
          19,
          20,
          21,
          22,
          23,
          24,
          25,
          26,
          27,
          28,
          29,
          30,
          31,
          32,
          33,
          34,
          35,
          36,
          37,
          38,
          39,
          40,
          41,
          42,
          43,
          44,
          45,
          46,
          47,
          48,
          49,
          50,
          51,
          52,
          53,
          54,
          55,
          56,
          57,
          58,
          59,
          60,
          61,
          62,
          63,
          64,
          65,
          66,
          67,
          68,
          69,
          70,
          71,
          72,
          73,
          74,
          75,
          76,
          77,
          78,
          79,
          80,
          81,
          82,
          83,
          84,
          85,
          86,
          87,
          88,
          89,
          90,
          91,
          92,
          93,
          94,
          95,
          96,
          97,
          98,
          99,
          100,
          101
         ]
        },
        "yaxis": {
         "exponentformat": "e",
         "showexponent": "all",
         "title": {
          "text": "Standard deviation in Tesla"
         }
        }
       }
      }
     },
     "metadata": {},
     "output_type": "display_data"
    },
    {
     "data": {
      "application/vnd.plotly.v1+json": {
       "config": {
        "plotlyServerURL": "https://plot.ly"
       },
       "data": [
        {
         "boxpoints": "all",
         "hovertemplate": "Epoch: %{text}<br>STD: %{y: .0f}",
         "line": {
          "width": 1
         },
         "marker": {
          "size": 3
         },
         "name": "MEG0112",
         "opacity": 0.7,
         "pointpos": 0,
         "text": [
          0,
          1,
          2,
          3,
          4
         ],
         "type": "box",
         "y": [
          4.298568019234051e-12,
          4.5242190789415376e-12,
          4.929120883049803e-12,
          5.878061896130302e-12,
          4.248854351651586e-12
         ]
        },
        {
         "boxpoints": "all",
         "hovertemplate": "Epoch: %{text}<br>STD: %{y: .0f}",
         "line": {
          "width": 1
         },
         "marker": {
          "size": 3
         },
         "name": "MEG0113",
         "opacity": 0.7,
         "pointpos": 0,
         "text": [
          0,
          1,
          2,
          3,
          4
         ],
         "type": "box",
         "y": [
          5.9861080469982e-12,
          6.038682967832347e-12,
          6.504573069387869e-12,
          7.716654524197978e-12,
          6.213665574317705e-12
         ]
        },
        {
         "boxpoints": "all",
         "hovertemplate": "Epoch: %{text}<br>STD: %{y: .0f}",
         "line": {
          "width": 1
         },
         "marker": {
          "size": 3
         },
         "name": "MEG0122",
         "opacity": 0.7,
         "pointpos": 0,
         "text": [
          0,
          1,
          2,
          3,
          4
         ],
         "type": "box",
         "y": [
          4.103312344628692e-12,
          4.372424973550782e-12,
          4.541781200829302e-12,
          7.031884760563831e-12,
          4.693017024589386e-12
         ]
        },
        {
         "boxpoints": "all",
         "hovertemplate": "Epoch: %{text}<br>STD: %{y: .0f}",
         "line": {
          "width": 1
         },
         "marker": {
          "size": 3
         },
         "name": "MEG0123",
         "opacity": 0.7,
         "pointpos": 0,
         "text": [
          0,
          1,
          2,
          3,
          4
         ],
         "type": "box",
         "y": [
          4.416137494028951e-12,
          3.991563818182421e-12,
          4.029345470199865e-12,
          5.038639290263083e-12,
          4.603533573442657e-12
         ]
        },
        {
         "boxpoints": "all",
         "hovertemplate": "Epoch: %{text}<br>STD: %{y: .0f}",
         "line": {
          "width": 1
         },
         "marker": {
          "size": 3
         },
         "name": "MEG0132",
         "opacity": 0.7,
         "pointpos": 0,
         "text": [
          0,
          1,
          2,
          3,
          4
         ],
         "type": "box",
         "y": [
          5.460101245712041e-12,
          5.618849881188017e-12,
          4.91655892775675e-12,
          6.654504808889408e-12,
          5.2485901299028425e-12
         ]
        },
        {
         "boxpoints": "all",
         "hovertemplate": "Epoch: %{text}<br>STD: %{y: .0f}",
         "line": {
          "width": 1
         },
         "marker": {
          "size": 3
         },
         "name": "MEG0133",
         "opacity": 0.7,
         "pointpos": 0,
         "text": [
          0,
          1,
          2,
          3,
          4
         ],
         "type": "box",
         "y": [
          4.414242201327197e-12,
          4.240771948376718e-12,
          3.9748718576172904e-12,
          5.282895160110841e-12,
          4.511701202474286e-12
         ]
        },
        {
         "boxpoints": "all",
         "hovertemplate": "Epoch: %{text}<br>STD: %{y: .0f}",
         "line": {
          "width": 1
         },
         "marker": {
          "size": 3
         },
         "name": "MEG0142",
         "opacity": 0.7,
         "pointpos": 0,
         "text": [
          0,
          1,
          2,
          3,
          4
         ],
         "type": "box",
         "y": [
          4.0436117785679464e-12,
          3.596206100157996e-12,
          3.985902836706265e-12,
          5.17167883358893e-12,
          3.497216070563377e-12
         ]
        },
        {
         "boxpoints": "all",
         "hovertemplate": "Epoch: %{text}<br>STD: %{y: .0f}",
         "line": {
          "width": 1
         },
         "marker": {
          "size": 3
         },
         "name": "MEG0143",
         "opacity": 0.7,
         "pointpos": 0,
         "text": [
          0,
          1,
          2,
          3,
          4
         ],
         "type": "box",
         "y": [
          5.668053272467387e-12,
          6.04289818917158e-12,
          6.54576988209362e-12,
          6.55342025047441e-12,
          5.941255135556264e-12
         ]
        },
        {
         "boxpoints": "all",
         "hovertemplate": "Epoch: %{text}<br>STD: %{y: .0f}",
         "line": {
          "width": 1
         },
         "marker": {
          "size": 3
         },
         "name": "MEG0212",
         "opacity": 0.7,
         "pointpos": 0,
         "text": [
          0,
          1,
          2,
          3,
          4
         ],
         "type": "box",
         "y": [
          4.354378336106964e-12,
          4.149590077500973e-12,
          3.837058389760839e-12,
          4.552156419357297e-12,
          4.181001846596803e-12
         ]
        },
        {
         "boxpoints": "all",
         "hovertemplate": "Epoch: %{text}<br>STD: %{y: .0f}",
         "line": {
          "width": 1
         },
         "marker": {
          "size": 3
         },
         "name": "MEG0213",
         "opacity": 0.7,
         "pointpos": 0,
         "text": [
          0,
          1,
          2,
          3,
          4
         ],
         "type": "box",
         "y": [
          4.67308872413266e-12,
          4.314142044765753e-12,
          3.965390805314817e-12,
          6.669894597520461e-12,
          5.315506746004191e-12
         ]
        },
        {
         "boxpoints": "all",
         "hovertemplate": "Epoch: %{text}<br>STD: %{y: .0f}",
         "line": {
          "width": 1
         },
         "marker": {
          "size": 3
         },
         "name": "MEG0222",
         "opacity": 0.7,
         "pointpos": 0,
         "text": [
          0,
          1,
          2,
          3,
          4
         ],
         "type": "box",
         "y": [
          4.086858028211608e-12,
          4.538141148745039e-12,
          3.843268356986224e-12,
          6.6080061504804825e-12,
          4.588109966728314e-12
         ]
        },
        {
         "boxpoints": "all",
         "hovertemplate": "Epoch: %{text}<br>STD: %{y: .0f}",
         "line": {
          "width": 1
         },
         "marker": {
          "size": 3
         },
         "name": "MEG0223",
         "opacity": 0.7,
         "pointpos": 0,
         "text": [
          0,
          1,
          2,
          3,
          4
         ],
         "type": "box",
         "y": [
          6.316377391034083e-12,
          6.7700629779669e-12,
          6.112082215123383e-12,
          6.133173811885608e-12,
          6.408498222857835e-12
         ]
        },
        {
         "boxpoints": "all",
         "hovertemplate": "Epoch: %{text}<br>STD: %{y: .0f}",
         "line": {
          "width": 1
         },
         "marker": {
          "size": 3
         },
         "name": "MEG0232",
         "opacity": 0.7,
         "pointpos": 0,
         "text": [
          0,
          1,
          2,
          3,
          4
         ],
         "type": "box",
         "y": [
          4.954121617047147e-12,
          5.508342537123775e-12,
          4.219246752444624e-12,
          5.880680465372031e-12,
          5.076119851964941e-12
         ]
        },
        {
         "boxpoints": "all",
         "hovertemplate": "Epoch: %{text}<br>STD: %{y: .0f}",
         "line": {
          "width": 1
         },
         "marker": {
          "size": 3
         },
         "name": "MEG0233",
         "opacity": 0.7,
         "pointpos": 0,
         "text": [
          0,
          1,
          2,
          3,
          4
         ],
         "type": "box",
         "y": [
          3.9978423558303745e-12,
          4.5041280430955014e-12,
          3.936765480736202e-12,
          4.748021250028859e-12,
          3.704938934502414e-12
         ]
        },
        {
         "boxpoints": "all",
         "hovertemplate": "Epoch: %{text}<br>STD: %{y: .0f}",
         "line": {
          "width": 1
         },
         "marker": {
          "size": 3
         },
         "name": "MEG0242",
         "opacity": 0.7,
         "pointpos": 0,
         "text": [
          0,
          1,
          2,
          3,
          4
         ],
         "type": "box",
         "y": [
          3.930067511516796e-12,
          6.5950081963864106e-12,
          5.1763700628957176e-12,
          5.440142020899533e-12,
          4.684131005561802e-12
         ]
        },
        {
         "boxpoints": "all",
         "hovertemplate": "Epoch: %{text}<br>STD: %{y: .0f}",
         "line": {
          "width": 1
         },
         "marker": {
          "size": 3
         },
         "name": "MEG0243",
         "opacity": 0.7,
         "pointpos": 0,
         "text": [
          0,
          1,
          2,
          3,
          4
         ],
         "type": "box",
         "y": [
          4.356954593880624e-12,
          4.178105066266529e-12,
          4.074993617092013e-12,
          6.102031188477848e-12,
          5.062888356886061e-12
         ]
        },
        {
         "boxpoints": "all",
         "hovertemplate": "Epoch: %{text}<br>STD: %{y: .0f}",
         "line": {
          "width": 1
         },
         "marker": {
          "size": 3
         },
         "name": "MEG0312",
         "opacity": 0.7,
         "pointpos": 0,
         "text": [
          0,
          1,
          2,
          3,
          4
         ],
         "type": "box",
         "y": [
          4.173537512928981e-12,
          4.295873190225438e-12,
          3.766436883369161e-12,
          5.576539837954495e-12,
          5.379561809138807e-12
         ]
        },
        {
         "boxpoints": "all",
         "hovertemplate": "Epoch: %{text}<br>STD: %{y: .0f}",
         "line": {
          "width": 1
         },
         "marker": {
          "size": 3
         },
         "name": "MEG0313",
         "opacity": 0.7,
         "pointpos": 0,
         "text": [
          0,
          1,
          2,
          3,
          4
         ],
         "type": "box",
         "y": [
          3.757738981888927e-12,
          4.006336436967571e-12,
          3.817467769709435e-12,
          5.894719985320903e-12,
          4.296788394408139e-12
         ]
        },
        {
         "boxpoints": "all",
         "hovertemplate": "Epoch: %{text}<br>STD: %{y: .0f}",
         "line": {
          "width": 1
         },
         "marker": {
          "size": 3
         },
         "name": "MEG0322",
         "opacity": 0.7,
         "pointpos": 0,
         "text": [
          0,
          1,
          2,
          3,
          4
         ],
         "type": "box",
         "y": [
          3.678947374063323e-12,
          4.212835213506447e-12,
          3.960518319610644e-12,
          5.926414170281962e-12,
          4.044114404831825e-12
         ]
        },
        {
         "boxpoints": "all",
         "hovertemplate": "Epoch: %{text}<br>STD: %{y: .0f}",
         "line": {
          "width": 1
         },
         "marker": {
          "size": 3
         },
         "name": "MEG0323",
         "opacity": 0.7,
         "pointpos": 0,
         "text": [
          0,
          1,
          2,
          3,
          4
         ],
         "type": "box",
         "y": [
          4.1008949231586615e-12,
          3.5824315633873526e-12,
          3.578663133030193e-12,
          3.729190869707536e-12,
          3.800625896298912e-12
         ]
        },
        {
         "boxpoints": "all",
         "hovertemplate": "Epoch: %{text}<br>STD: %{y: .0f}",
         "line": {
          "width": 1
         },
         "marker": {
          "size": 3
         },
         "name": "MEG0332",
         "opacity": 0.7,
         "pointpos": 0,
         "text": [
          0,
          1,
          2,
          3,
          4
         ],
         "type": "box",
         "y": [
          3.115123569342999e-12,
          3.765110958270738e-12,
          3.513635473778874e-12,
          3.5663614445751858e-12,
          3.3781188406769195e-12
         ]
        },
        {
         "boxpoints": "all",
         "hovertemplate": "Epoch: %{text}<br>STD: %{y: .0f}",
         "line": {
          "width": 1
         },
         "marker": {
          "size": 3
         },
         "name": "MEG0333",
         "opacity": 0.7,
         "pointpos": 0,
         "text": [
          0,
          1,
          2,
          3,
          4
         ],
         "type": "box",
         "y": [
          3.3692669227078123e-12,
          3.6842679316709536e-12,
          3.6327908550939095e-12,
          4.77138786765825e-12,
          3.695424053922665e-12
         ]
        },
        {
         "boxpoints": "all",
         "hovertemplate": "Epoch: %{text}<br>STD: %{y: .0f}",
         "line": {
          "width": 1
         },
         "marker": {
          "size": 3
         },
         "name": "MEG0342",
         "opacity": 0.7,
         "pointpos": 0,
         "text": [
          0,
          1,
          2,
          3,
          4
         ],
         "type": "box",
         "y": [
          4.036728755818639e-12,
          4.2498516901677345e-12,
          3.904699120182818e-12,
          4.211259326615512e-12,
          4.286593223623988e-12
         ]
        },
        {
         "boxpoints": "all",
         "hovertemplate": "Epoch: %{text}<br>STD: %{y: .0f}",
         "line": {
          "width": 1
         },
         "marker": {
          "size": 3
         },
         "name": "MEG0343",
         "opacity": 0.7,
         "pointpos": 0,
         "text": [
          0,
          1,
          2,
          3,
          4
         ],
         "type": "box",
         "y": [
          4.184780316089437e-12,
          4.716364554245744e-12,
          3.778776710741507e-12,
          6.916197202663176e-12,
          4.274013915626611e-12
         ]
        },
        {
         "boxpoints": "all",
         "hovertemplate": "Epoch: %{text}<br>STD: %{y: .0f}",
         "line": {
          "width": 1
         },
         "marker": {
          "size": 3
         },
         "name": "MEG0412",
         "opacity": 0.7,
         "pointpos": 0,
         "text": [
          0,
          1,
          2,
          3,
          4
         ],
         "type": "box",
         "y": [
          3.2154577951333346e-12,
          3.527169443040687e-12,
          3.3094965245040725e-12,
          4.221563081912056e-12,
          3.3672761924801002e-12
         ]
        },
        {
         "boxpoints": "all",
         "hovertemplate": "Epoch: %{text}<br>STD: %{y: .0f}",
         "line": {
          "width": 1
         },
         "marker": {
          "size": 3
         },
         "name": "MEG0413",
         "opacity": 0.7,
         "pointpos": 0,
         "text": [
          0,
          1,
          2,
          3,
          4
         ],
         "type": "box",
         "y": [
          3.832705385396771e-12,
          4.21336065647403e-12,
          3.4129744216596446e-12,
          5.8302445996897e-12,
          4.479457971153652e-12
         ]
        },
        {
         "boxpoints": "all",
         "hovertemplate": "Epoch: %{text}<br>STD: %{y: .0f}",
         "line": {
          "width": 1
         },
         "marker": {
          "size": 3
         },
         "name": "MEG0422",
         "opacity": 0.7,
         "pointpos": 0,
         "text": [
          0,
          1,
          2,
          3,
          4
         ],
         "type": "box",
         "y": [
          4.157352210857591e-12,
          4.186792789612067e-12,
          4.201575257102902e-12,
          5.048408508875638e-12,
          4.452463467411203e-12
         ]
        },
        {
         "boxpoints": "all",
         "hovertemplate": "Epoch: %{text}<br>STD: %{y: .0f}",
         "line": {
          "width": 1
         },
         "marker": {
          "size": 3
         },
         "name": "MEG0423",
         "opacity": 0.7,
         "pointpos": 0,
         "text": [
          0,
          1,
          2,
          3,
          4
         ],
         "type": "box",
         "y": [
          3.5244092311300912e-12,
          3.889451070177814e-12,
          3.6950668292838405e-12,
          4.298620801790748e-12,
          3.6288715710347265e-12
         ]
        },
        {
         "boxpoints": "all",
         "hovertemplate": "Epoch: %{text}<br>STD: %{y: .0f}",
         "line": {
          "width": 1
         },
         "marker": {
          "size": 3
         },
         "name": "MEG0432",
         "opacity": 0.7,
         "pointpos": 0,
         "text": [
          0,
          1,
          2,
          3,
          4
         ],
         "type": "box",
         "y": [
          4.121464504025231e-12,
          4.238641721929622e-12,
          4.185776647658703e-12,
          5.11586018671291e-12,
          4.77146430958713e-12
         ]
        },
        {
         "boxpoints": "all",
         "hovertemplate": "Epoch: %{text}<br>STD: %{y: .0f}",
         "line": {
          "width": 1
         },
         "marker": {
          "size": 3
         },
         "name": "MEG0433",
         "opacity": 0.7,
         "pointpos": 0,
         "text": [
          0,
          1,
          2,
          3,
          4
         ],
         "type": "box",
         "y": [
          3.946902105953688e-12,
          3.5513241461454218e-12,
          3.422826491914153e-12,
          4.250724186589041e-12,
          3.400722803202518e-12
         ]
        },
        {
         "boxpoints": "all",
         "hovertemplate": "Epoch: %{text}<br>STD: %{y: .0f}",
         "line": {
          "width": 1
         },
         "marker": {
          "size": 3
         },
         "name": "MEG0442",
         "opacity": 0.7,
         "pointpos": 0,
         "text": [
          0,
          1,
          2,
          3,
          4
         ],
         "type": "box",
         "y": [
          4.424318931060696e-12,
          3.885739775811627e-12,
          3.966092934094642e-12,
          5.1397210185313095e-12,
          3.892948277274308e-12
         ]
        },
        {
         "boxpoints": "all",
         "hovertemplate": "Epoch: %{text}<br>STD: %{y: .0f}",
         "line": {
          "width": 1
         },
         "marker": {
          "size": 3
         },
         "name": "MEG0443",
         "opacity": 0.7,
         "pointpos": 0,
         "text": [
          0,
          1,
          2,
          3,
          4
         ],
         "type": "box",
         "y": [
          4.8843552223349554e-12,
          4.4511167693951775e-12,
          3.726372984700549e-12,
          5.074739042165807e-12,
          5.067645361411853e-12
         ]
        },
        {
         "boxpoints": "all",
         "hovertemplate": "Epoch: %{text}<br>STD: %{y: .0f}",
         "line": {
          "width": 1
         },
         "marker": {
          "size": 3
         },
         "name": "MEG0512",
         "opacity": 0.7,
         "pointpos": 0,
         "text": [
          0,
          1,
          2,
          3,
          4
         ],
         "type": "box",
         "y": [
          3.649099056702393e-12,
          3.5771924444376533e-12,
          3.602881648808442e-12,
          5.48310689882081e-12,
          3.3513662133647874e-12
         ]
        },
        {
         "boxpoints": "all",
         "hovertemplate": "Epoch: %{text}<br>STD: %{y: .0f}",
         "line": {
          "width": 1
         },
         "marker": {
          "size": 3
         },
         "name": "MEG0513",
         "opacity": 0.7,
         "pointpos": 0,
         "text": [
          0,
          1,
          2,
          3,
          4
         ],
         "type": "box",
         "y": [
          3.026670461209484e-12,
          3.587756584054408e-12,
          3.4308120893413828e-12,
          4.859678522471379e-12,
          3.6447820470471245e-12
         ]
        },
        {
         "boxpoints": "all",
         "hovertemplate": "Epoch: %{text}<br>STD: %{y: .0f}",
         "line": {
          "width": 1
         },
         "marker": {
          "size": 3
         },
         "name": "MEG0522",
         "opacity": 0.7,
         "pointpos": 0,
         "text": [
          0,
          1,
          2,
          3,
          4
         ],
         "type": "box",
         "y": [
          3.9813101282238635e-12,
          3.91508675674618e-12,
          3.5384100907454945e-12,
          4.6763916430905036e-12,
          4.427805531265487e-12
         ]
        },
        {
         "boxpoints": "all",
         "hovertemplate": "Epoch: %{text}<br>STD: %{y: .0f}",
         "line": {
          "width": 1
         },
         "marker": {
          "size": 3
         },
         "name": "MEG0523",
         "opacity": 0.7,
         "pointpos": 0,
         "text": [
          0,
          1,
          2,
          3,
          4
         ],
         "type": "box",
         "y": [
          3.819796524261735e-12,
          4.3101829163268285e-12,
          4.950957788409952e-12,
          4.392659373724183e-12,
          3.643477625260833e-12
         ]
        },
        {
         "boxpoints": "all",
         "hovertemplate": "Epoch: %{text}<br>STD: %{y: .0f}",
         "line": {
          "width": 1
         },
         "marker": {
          "size": 3
         },
         "name": "MEG0532",
         "opacity": 0.7,
         "pointpos": 0,
         "text": [
          0,
          1,
          2,
          3,
          4
         ],
         "type": "box",
         "y": [
          3.1455766132266944e-12,
          3.5659850518655098e-12,
          3.901369204794546e-12,
          4.0610610891234606e-12,
          3.2373868729139163e-12
         ]
        },
        {
         "boxpoints": "all",
         "hovertemplate": "Epoch: %{text}<br>STD: %{y: .0f}",
         "line": {
          "width": 1
         },
         "marker": {
          "size": 3
         },
         "name": "MEG0533",
         "opacity": 0.7,
         "pointpos": 0,
         "text": [
          0,
          1,
          2,
          3,
          4
         ],
         "type": "box",
         "y": [
          3.1666074483045234e-12,
          3.3317326185450427e-12,
          3.599259405419077e-12,
          3.777627682972902e-12,
          3.860512412445238e-12
         ]
        },
        {
         "boxpoints": "all",
         "hovertemplate": "Epoch: %{text}<br>STD: %{y: .0f}",
         "line": {
          "width": 1
         },
         "marker": {
          "size": 3
         },
         "name": "MEG0542",
         "opacity": 0.7,
         "pointpos": 0,
         "text": [
          0,
          1,
          2,
          3,
          4
         ],
         "type": "box",
         "y": [
          3.1007275825401864e-12,
          3.6304748655924215e-12,
          3.868171042125525e-12,
          4.820951087452737e-12,
          4.094308261891764e-12
         ]
        },
        {
         "boxpoints": "all",
         "hovertemplate": "Epoch: %{text}<br>STD: %{y: .0f}",
         "line": {
          "width": 1
         },
         "marker": {
          "size": 3
         },
         "name": "MEG0543",
         "opacity": 0.7,
         "pointpos": 0,
         "text": [
          0,
          1,
          2,
          3,
          4
         ],
         "type": "box",
         "y": [
          3.6266209658882674e-12,
          3.936282595796424e-12,
          3.4500960974582115e-12,
          4.274882809880429e-12,
          4.2059679440802865e-12
         ]
        },
        {
         "boxpoints": "all",
         "hovertemplate": "Epoch: %{text}<br>STD: %{y: .0f}",
         "line": {
          "width": 1
         },
         "marker": {
          "size": 3
         },
         "name": "MEG0612",
         "opacity": 0.7,
         "pointpos": 0,
         "text": [
          0,
          1,
          2,
          3,
          4
         ],
         "type": "box",
         "y": [
          3.2178233481427893e-12,
          3.659914452893104e-12,
          3.50470342788996e-12,
          4.307709819717005e-12,
          3.6311968864930368e-12
         ]
        },
        {
         "boxpoints": "all",
         "hovertemplate": "Epoch: %{text}<br>STD: %{y: .0f}",
         "line": {
          "width": 1
         },
         "marker": {
          "size": 3
         },
         "name": "MEG0613",
         "opacity": 0.7,
         "pointpos": 0,
         "text": [
          0,
          1,
          2,
          3,
          4
         ],
         "type": "box",
         "y": [
          2.66134725217827e-12,
          3.2244965784675515e-12,
          3.0301652432363367e-12,
          2.912711992650025e-12,
          2.8885479280271194e-12
         ]
        },
        {
         "boxpoints": "all",
         "hovertemplate": "Epoch: %{text}<br>STD: %{y: .0f}",
         "line": {
          "width": 1
         },
         "marker": {
          "size": 3
         },
         "name": "MEG0622",
         "opacity": 0.7,
         "pointpos": 0,
         "text": [
          0,
          1,
          2,
          3,
          4
         ],
         "type": "box",
         "y": [
          3.4758421658716406e-12,
          3.5175623968812673e-12,
          3.6242501868942398e-12,
          3.5008775113652695e-12,
          3.5972368535893426e-12
         ]
        },
        {
         "boxpoints": "all",
         "hovertemplate": "Epoch: %{text}<br>STD: %{y: .0f}",
         "line": {
          "width": 1
         },
         "marker": {
          "size": 3
         },
         "name": "MEG0623",
         "opacity": 0.7,
         "pointpos": 0,
         "text": [
          0,
          1,
          2,
          3,
          4
         ],
         "type": "box",
         "y": [
          3.652010281322618e-12,
          3.70016313700228e-12,
          3.492745893674544e-12,
          3.854754581548004e-12,
          3.659663019278452e-12
         ]
        },
        {
         "boxpoints": "all",
         "hovertemplate": "Epoch: %{text}<br>STD: %{y: .0f}",
         "line": {
          "width": 1
         },
         "marker": {
          "size": 3
         },
         "name": "MEG0632",
         "opacity": 0.7,
         "pointpos": 0,
         "text": [
          0,
          1,
          2,
          3,
          4
         ],
         "type": "box",
         "y": [
          3.317602161977063e-12,
          3.335128109545661e-12,
          3.2284069803760954e-12,
          4.675307934501147e-12,
          3.723315640072898e-12
         ]
        },
        {
         "boxpoints": "all",
         "hovertemplate": "Epoch: %{text}<br>STD: %{y: .0f}",
         "line": {
          "width": 1
         },
         "marker": {
          "size": 3
         },
         "name": "MEG0633",
         "opacity": 0.7,
         "pointpos": 0,
         "text": [
          0,
          1,
          2,
          3,
          4
         ],
         "type": "box",
         "y": [
          3.342664050131637e-12,
          3.398655451873647e-12,
          3.1998814766981694e-12,
          3.8853724153474e-12,
          3.453187082833895e-12
         ]
        },
        {
         "boxpoints": "all",
         "hovertemplate": "Epoch: %{text}<br>STD: %{y: .0f}",
         "line": {
          "width": 1
         },
         "marker": {
          "size": 3
         },
         "name": "MEG0642",
         "opacity": 0.7,
         "pointpos": 0,
         "text": [
          0,
          1,
          2,
          3,
          4
         ],
         "type": "box",
         "y": [
          3.1367494563299395e-12,
          3.3582735322415987e-12,
          3.6351157113599544e-12,
          4.116323495224895e-12,
          3.393935738997294e-12
         ]
        },
        {
         "boxpoints": "all",
         "hovertemplate": "Epoch: %{text}<br>STD: %{y: .0f}",
         "line": {
          "width": 1
         },
         "marker": {
          "size": 3
         },
         "name": "MEG0643",
         "opacity": 0.7,
         "pointpos": 0,
         "text": [
          0,
          1,
          2,
          3,
          4
         ],
         "type": "box",
         "y": [
          3.4664715411406274e-12,
          3.7127349025024125e-12,
          3.541165362028088e-12,
          4.5658376699936975e-12,
          3.47219628000898e-12
         ]
        },
        {
         "boxpoints": "all",
         "hovertemplate": "Epoch: %{text}<br>STD: %{y: .0f}",
         "line": {
          "width": 1
         },
         "marker": {
          "size": 3
         },
         "name": "MEG0712",
         "opacity": 0.7,
         "pointpos": 0,
         "text": [
          0,
          1,
          2,
          3,
          4
         ],
         "type": "box",
         "y": [
          3.7616557922431335e-12,
          3.4799893180237974e-12,
          3.284487392210973e-12,
          3.371967742242564e-12,
          3.477742349239121e-12
         ]
        },
        {
         "boxpoints": "all",
         "hovertemplate": "Epoch: %{text}<br>STD: %{y: .0f}",
         "line": {
          "width": 1
         },
         "marker": {
          "size": 3
         },
         "name": "MEG0713",
         "opacity": 0.7,
         "pointpos": 0,
         "text": [
          0,
          1,
          2,
          3,
          4
         ],
         "type": "box",
         "y": [
          4.0767176622113344e-12,
          3.752468747637043e-12,
          3.655064978022894e-12,
          4.515033307128711e-12,
          3.838389812089208e-12
         ]
        },
        {
         "boxpoints": "all",
         "hovertemplate": "Epoch: %{text}<br>STD: %{y: .0f}",
         "line": {
          "width": 1
         },
         "marker": {
          "size": 3
         },
         "name": "MEG0722",
         "opacity": 0.7,
         "pointpos": 0,
         "text": [
          0,
          1,
          2,
          3,
          4
         ],
         "type": "box",
         "y": [
          3.990101732433286e-12,
          3.79258716204846e-12,
          3.6184259666620276e-12,
          4.38176204268408e-12,
          3.887124213227973e-12
         ]
        },
        {
         "boxpoints": "all",
         "hovertemplate": "Epoch: %{text}<br>STD: %{y: .0f}",
         "line": {
          "width": 1
         },
         "marker": {
          "size": 3
         },
         "name": "MEG0723",
         "opacity": 0.7,
         "pointpos": 0,
         "text": [
          0,
          1,
          2,
          3,
          4
         ],
         "type": "box",
         "y": [
          3.927058900137148e-12,
          3.5035838007859646e-12,
          3.937298772685878e-12,
          5.0773689064940794e-12,
          4.199621859993306e-12
         ]
        },
        {
         "boxpoints": "all",
         "hovertemplate": "Epoch: %{text}<br>STD: %{y: .0f}",
         "line": {
          "width": 1
         },
         "marker": {
          "size": 3
         },
         "name": "MEG0732",
         "opacity": 0.7,
         "pointpos": 0,
         "text": [
          0,
          1,
          2,
          3,
          4
         ],
         "type": "box",
         "y": [
          3.5360556206329113e-12,
          3.663797878138428e-12,
          3.60293567580936e-12,
          4.052441578871406e-12,
          3.2591200622746648e-12
         ]
        },
        {
         "boxpoints": "all",
         "hovertemplate": "Epoch: %{text}<br>STD: %{y: .0f}",
         "line": {
          "width": 1
         },
         "marker": {
          "size": 3
         },
         "name": "MEG0733",
         "opacity": 0.7,
         "pointpos": 0,
         "text": [
          0,
          1,
          2,
          3,
          4
         ],
         "type": "box",
         "y": [
          3.473246347944426e-12,
          3.161827432677021e-12,
          2.9957100554198207e-12,
          3.899146656708726e-12,
          3.651077818701795e-12
         ]
        },
        {
         "boxpoints": "all",
         "hovertemplate": "Epoch: %{text}<br>STD: %{y: .0f}",
         "line": {
          "width": 1
         },
         "marker": {
          "size": 3
         },
         "name": "MEG0742",
         "opacity": 0.7,
         "pointpos": 0,
         "text": [
          0,
          1,
          2,
          3,
          4
         ],
         "type": "box",
         "y": [
          3.097756485263905e-12,
          3.999193911970393e-12,
          3.2384145647140397e-12,
          4.422102039672514e-12,
          3.847028510188591e-12
         ]
        },
        {
         "boxpoints": "all",
         "hovertemplate": "Epoch: %{text}<br>STD: %{y: .0f}",
         "line": {
          "width": 1
         },
         "marker": {
          "size": 3
         },
         "name": "MEG0743",
         "opacity": 0.7,
         "pointpos": 0,
         "text": [
          0,
          1,
          2,
          3,
          4
         ],
         "type": "box",
         "y": [
          3.7544664412085344e-12,
          3.3206117182555834e-12,
          3.311197585544413e-12,
          3.800341499467068e-12,
          3.0615792677949042e-12
         ]
        },
        {
         "boxpoints": "all",
         "hovertemplate": "Epoch: %{text}<br>STD: %{y: .0f}",
         "line": {
          "width": 1
         },
         "marker": {
          "size": 3
         },
         "name": "MEG0812",
         "opacity": 0.7,
         "pointpos": 0,
         "text": [
          0,
          1,
          2,
          3,
          4
         ],
         "type": "box",
         "y": [
          3.24669793401744e-12,
          3.1052444345195595e-12,
          3.808635202952634e-12,
          4.9256794090493686e-12,
          3.2312883145348383e-12
         ]
        },
        {
         "boxpoints": "all",
         "hovertemplate": "Epoch: %{text}<br>STD: %{y: .0f}",
         "line": {
          "width": 1
         },
         "marker": {
          "size": 3
         },
         "name": "MEG0813",
         "opacity": 0.7,
         "pointpos": 0,
         "text": [
          0,
          1,
          2,
          3,
          4
         ],
         "type": "box",
         "y": [
          5.336456281700431e-12,
          4.701934448416201e-12,
          5.6494289099709234e-12,
          4.6315730212068635e-12,
          4.464745224207012e-12
         ]
        },
        {
         "boxpoints": "all",
         "hovertemplate": "Epoch: %{text}<br>STD: %{y: .0f}",
         "line": {
          "width": 1
         },
         "marker": {
          "size": 3
         },
         "name": "MEG0822",
         "opacity": 0.7,
         "pointpos": 0,
         "text": [
          0,
          1,
          2,
          3,
          4
         ],
         "type": "box",
         "y": [
          4.507197076700301e-12,
          5.006545086022349e-12,
          4.7699688602436616e-12,
          5.702053844840043e-12,
          4.381520321498368e-12
         ]
        },
        {
         "boxpoints": "all",
         "hovertemplate": "Epoch: %{text}<br>STD: %{y: .0f}",
         "line": {
          "width": 1
         },
         "marker": {
          "size": 3
         },
         "name": "MEG0823",
         "opacity": 0.7,
         "pointpos": 0,
         "text": [
          0,
          1,
          2,
          3,
          4
         ],
         "type": "box",
         "y": [
          3.646576238493339e-12,
          3.479994867199526e-12,
          3.198290893824937e-12,
          4.3408826905729945e-12,
          3.847061649548774e-12
         ]
        },
        {
         "boxpoints": "all",
         "hovertemplate": "Epoch: %{text}<br>STD: %{y: .0f}",
         "line": {
          "width": 1
         },
         "marker": {
          "size": 3
         },
         "name": "MEG0912",
         "opacity": 0.7,
         "pointpos": 0,
         "text": [
          0,
          1,
          2,
          3,
          4
         ],
         "type": "box",
         "y": [
          3.2474683076479e-12,
          3.1620047437100976e-12,
          3.5927029702007433e-12,
          4.66830782747242e-12,
          3.5494753543106273e-12
         ]
        },
        {
         "boxpoints": "all",
         "hovertemplate": "Epoch: %{text}<br>STD: %{y: .0f}",
         "line": {
          "width": 1
         },
         "marker": {
          "size": 3
         },
         "name": "MEG0913",
         "opacity": 0.7,
         "pointpos": 0,
         "text": [
          0,
          1,
          2,
          3,
          4
         ],
         "type": "box",
         "y": [
          3.875510523590759e-12,
          3.678975996487232e-12,
          4.8072519355868545e-12,
          5.084605268943746e-12,
          4.117074485942257e-12
         ]
        },
        {
         "boxpoints": "all",
         "hovertemplate": "Epoch: %{text}<br>STD: %{y: .0f}",
         "line": {
          "width": 1
         },
         "marker": {
          "size": 3
         },
         "name": "MEG0922",
         "opacity": 0.7,
         "pointpos": 0,
         "text": [
          0,
          1,
          2,
          3,
          4
         ],
         "type": "box",
         "y": [
          3.5802862325619435e-12,
          3.5840662669786745e-12,
          3.7207335693001865e-12,
          5.426226203177081e-12,
          4.083115620712797e-12
         ]
        },
        {
         "boxpoints": "all",
         "hovertemplate": "Epoch: %{text}<br>STD: %{y: .0f}",
         "line": {
          "width": 1
         },
         "marker": {
          "size": 3
         },
         "name": "MEG0923",
         "opacity": 0.7,
         "pointpos": 0,
         "text": [
          0,
          1,
          2,
          3,
          4
         ],
         "type": "box",
         "y": [
          3.9313659541314575e-12,
          3.845931997446486e-12,
          4.634909333058248e-12,
          4.8966651036624815e-12,
          3.803803406881398e-12
         ]
        },
        {
         "boxpoints": "all",
         "hovertemplate": "Epoch: %{text}<br>STD: %{y: .0f}",
         "line": {
          "width": 1
         },
         "marker": {
          "size": 3
         },
         "name": "MEG0932",
         "opacity": 0.7,
         "pointpos": 0,
         "text": [
          0,
          1,
          2,
          3,
          4
         ],
         "type": "box",
         "y": [
          3.4525999496718157e-12,
          3.4085807538996412e-12,
          3.726627569831007e-12,
          3.955190243980578e-12,
          3.5126234642442703e-12
         ]
        },
        {
         "boxpoints": "all",
         "hovertemplate": "Epoch: %{text}<br>STD: %{y: .0f}",
         "line": {
          "width": 1
         },
         "marker": {
          "size": 3
         },
         "name": "MEG0933",
         "opacity": 0.7,
         "pointpos": 0,
         "text": [
          0,
          1,
          2,
          3,
          4
         ],
         "type": "box",
         "y": [
          3.235739891910911e-12,
          3.1961695612940642e-12,
          3.3992011277403954e-12,
          3.9913821477082835e-12,
          3.1002697041276243e-12
         ]
        },
        {
         "boxpoints": "all",
         "hovertemplate": "Epoch: %{text}<br>STD: %{y: .0f}",
         "line": {
          "width": 1
         },
         "marker": {
          "size": 3
         },
         "name": "MEG0942",
         "opacity": 0.7,
         "pointpos": 0,
         "text": [
          0,
          1,
          2,
          3,
          4
         ],
         "type": "box",
         "y": [
          3.411493830232673e-12,
          3.033974107948134e-12,
          3.3936960993825756e-12,
          3.5244056945005647e-12,
          3.4275745070403372e-12
         ]
        },
        {
         "boxpoints": "all",
         "hovertemplate": "Epoch: %{text}<br>STD: %{y: .0f}",
         "line": {
          "width": 1
         },
         "marker": {
          "size": 3
         },
         "name": "MEG0943",
         "opacity": 0.7,
         "pointpos": 0,
         "text": [
          0,
          1,
          2,
          3,
          4
         ],
         "type": "box",
         "y": [
          3.553403244194618e-12,
          3.4771749882749086e-12,
          3.5612946590454792e-12,
          4.852291632887813e-12,
          3.690996760062304e-12
         ]
        },
        {
         "boxpoints": "all",
         "hovertemplate": "Epoch: %{text}<br>STD: %{y: .0f}",
         "line": {
          "width": 1
         },
         "marker": {
          "size": 3
         },
         "name": "MEG1012",
         "opacity": 0.7,
         "pointpos": 0,
         "text": [
          0,
          1,
          2,
          3,
          4
         ],
         "type": "box",
         "y": [
          4.129202486878191e-12,
          3.728087614535468e-12,
          3.5148179850739174e-12,
          4.065596775755787e-12,
          3.741778536363621e-12
         ]
        },
        {
         "boxpoints": "all",
         "hovertemplate": "Epoch: %{text}<br>STD: %{y: .0f}",
         "line": {
          "width": 1
         },
         "marker": {
          "size": 3
         },
         "name": "MEG1013",
         "opacity": 0.7,
         "pointpos": 0,
         "text": [
          0,
          1,
          2,
          3,
          4
         ],
         "type": "box",
         "y": [
          4.307754572714421e-12,
          4.222326966407928e-12,
          4.075529393167542e-12,
          3.649674377997857e-12,
          3.2247257611371696e-12
         ]
        },
        {
         "boxpoints": "all",
         "hovertemplate": "Epoch: %{text}<br>STD: %{y: .0f}",
         "line": {
          "width": 1
         },
         "marker": {
          "size": 3
         },
         "name": "MEG1022",
         "opacity": 0.7,
         "pointpos": 0,
         "text": [
          0,
          1,
          2,
          3,
          4
         ],
         "type": "box",
         "y": [
          3.3938752818346147e-12,
          3.432058148806551e-12,
          3.0712676870529456e-12,
          4.237243775036525e-12,
          3.274075620935072e-12
         ]
        },
        {
         "boxpoints": "all",
         "hovertemplate": "Epoch: %{text}<br>STD: %{y: .0f}",
         "line": {
          "width": 1
         },
         "marker": {
          "size": 3
         },
         "name": "MEG1023",
         "opacity": 0.7,
         "pointpos": 0,
         "text": [
          0,
          1,
          2,
          3,
          4
         ],
         "type": "box",
         "y": [
          8.329622304147891e-12,
          6.156470777008846e-12,
          4.7208618851798315e-12,
          5.558130202660067e-12,
          9.018425630518469e-12
         ]
        },
        {
         "boxpoints": "all",
         "hovertemplate": "Epoch: %{text}<br>STD: %{y: .0f}",
         "line": {
          "width": 1
         },
         "marker": {
          "size": 3
         },
         "name": "MEG1032",
         "opacity": 0.7,
         "pointpos": 0,
         "text": [
          0,
          1,
          2,
          3,
          4
         ],
         "type": "box",
         "y": [
          3.14208798765399e-12,
          3.660621638249795e-12,
          3.5037624110978204e-12,
          3.8426081367375544e-12,
          4.0438254708975464e-12
         ]
        },
        {
         "boxpoints": "all",
         "hovertemplate": "Epoch: %{text}<br>STD: %{y: .0f}",
         "line": {
          "width": 1
         },
         "marker": {
          "size": 3
         },
         "name": "MEG1033",
         "opacity": 0.7,
         "pointpos": 0,
         "text": [
          0,
          1,
          2,
          3,
          4
         ],
         "type": "box",
         "y": [
          4.077362797429716e-12,
          3.664522523003767e-12,
          3.999506407195494e-12,
          4.199465031511693e-12,
          4.484099516765624e-12
         ]
        },
        {
         "boxpoints": "all",
         "hovertemplate": "Epoch: %{text}<br>STD: %{y: .0f}",
         "line": {
          "width": 1
         },
         "marker": {
          "size": 3
         },
         "name": "MEG1042",
         "opacity": 0.7,
         "pointpos": 0,
         "text": [
          0,
          1,
          2,
          3,
          4
         ],
         "type": "box",
         "y": [
          4.206683743088063e-12,
          4.573762098175237e-12,
          4.431625469081294e-12,
          5.1939696364655385e-12,
          3.86287847807749e-12
         ]
        },
        {
         "boxpoints": "all",
         "hovertemplate": "Epoch: %{text}<br>STD: %{y: .0f}",
         "line": {
          "width": 1
         },
         "marker": {
          "size": 3
         },
         "name": "MEG1043",
         "opacity": 0.7,
         "pointpos": 0,
         "text": [
          0,
          1,
          2,
          3,
          4
         ],
         "type": "box",
         "y": [
          3.877847235718e-12,
          4.159698099518997e-12,
          4.146998623172803e-12,
          4.3379402300270235e-12,
          4.184635090537185e-12
         ]
        },
        {
         "boxpoints": "all",
         "hovertemplate": "Epoch: %{text}<br>STD: %{y: .0f}",
         "line": {
          "width": 1
         },
         "marker": {
          "size": 3
         },
         "name": "MEG1112",
         "opacity": 0.7,
         "pointpos": 0,
         "text": [
          0,
          1,
          2,
          3,
          4
         ],
         "type": "box",
         "y": [
          4.053689829353778e-12,
          4.62151801638722e-12,
          4.06676384563966e-12,
          4.306403759968061e-12,
          4.062763398674894e-12
         ]
        },
        {
         "boxpoints": "all",
         "hovertemplate": "Epoch: %{text}<br>STD: %{y: .0f}",
         "line": {
          "width": 1
         },
         "marker": {
          "size": 3
         },
         "name": "MEG1113",
         "opacity": 0.7,
         "pointpos": 0,
         "text": [
          0,
          1,
          2,
          3,
          4
         ],
         "type": "box",
         "y": [
          6.0877478163659806e-12,
          5.621124340566695e-12,
          5.492147312688614e-12,
          6.287239948935115e-12,
          6.044780448979547e-12
         ]
        },
        {
         "boxpoints": "all",
         "hovertemplate": "Epoch: %{text}<br>STD: %{y: .0f}",
         "line": {
          "width": 1
         },
         "marker": {
          "size": 3
         },
         "name": "MEG1122",
         "opacity": 0.7,
         "pointpos": 0,
         "text": [
          0,
          1,
          2,
          3,
          4
         ],
         "type": "box",
         "y": [
          4.202884725355361e-12,
          4.2968842800065165e-12,
          4.266328269138491e-12,
          4.380717979397602e-12,
          4.4779828634424975e-12
         ]
        },
        {
         "boxpoints": "all",
         "hovertemplate": "Epoch: %{text}<br>STD: %{y: .0f}",
         "line": {
          "width": 1
         },
         "marker": {
          "size": 3
         },
         "name": "MEG1123",
         "opacity": 0.7,
         "pointpos": 0,
         "text": [
          0,
          1,
          2,
          3,
          4
         ],
         "type": "box",
         "y": [
          4.258504306561366e-12,
          4.426817108289837e-12,
          3.984930748312874e-12,
          4.1963361268465455e-12,
          4.325467187510498e-12
         ]
        },
        {
         "boxpoints": "all",
         "hovertemplate": "Epoch: %{text}<br>STD: %{y: .0f}",
         "line": {
          "width": 1
         },
         "marker": {
          "size": 3
         },
         "name": "MEG1132",
         "opacity": 0.7,
         "pointpos": 0,
         "text": [
          0,
          1,
          2,
          3,
          4
         ],
         "type": "box",
         "y": [
          5.5430801109599116e-12,
          4.71730067461088e-12,
          4.007748826215877e-12,
          4.865372741956623e-12,
          5.378857181719644e-12
         ]
        },
        {
         "boxpoints": "all",
         "hovertemplate": "Epoch: %{text}<br>STD: %{y: .0f}",
         "line": {
          "width": 1
         },
         "marker": {
          "size": 3
         },
         "name": "MEG1133",
         "opacity": 0.7,
         "pointpos": 0,
         "text": [
          0,
          1,
          2,
          3,
          4
         ],
         "type": "box",
         "y": [
          5.318756209826811e-12,
          4.395171292136027e-12,
          4.458067074902371e-12,
          4.703769725575539e-12,
          4.310509687220896e-12
         ]
        },
        {
         "boxpoints": "all",
         "hovertemplate": "Epoch: %{text}<br>STD: %{y: .0f}",
         "line": {
          "width": 1
         },
         "marker": {
          "size": 3
         },
         "name": "MEG1142",
         "opacity": 0.7,
         "pointpos": 0,
         "text": [
          0,
          1,
          2,
          3,
          4
         ],
         "type": "box",
         "y": [
          4.016149824564529e-12,
          4.557450615310615e-12,
          3.795974229440234e-12,
          4.721037198264101e-12,
          4.331547653788394e-12
         ]
        },
        {
         "boxpoints": "all",
         "hovertemplate": "Epoch: %{text}<br>STD: %{y: .0f}",
         "line": {
          "width": 1
         },
         "marker": {
          "size": 3
         },
         "name": "MEG1143",
         "opacity": 0.7,
         "pointpos": 0,
         "text": [
          0,
          1,
          2,
          3,
          4
         ],
         "type": "box",
         "y": [
          3.633945006448378e-12,
          3.4015652931775582e-12,
          3.0151053919163244e-12,
          3.79085790839626e-12,
          3.7653384165641884e-12
         ]
        },
        {
         "boxpoints": "all",
         "hovertemplate": "Epoch: %{text}<br>STD: %{y: .0f}",
         "line": {
          "width": 1
         },
         "marker": {
          "size": 3
         },
         "name": "MEG1212",
         "opacity": 0.7,
         "pointpos": 0,
         "text": [
          0,
          1,
          2,
          3,
          4
         ],
         "type": "box",
         "y": [
          3.648773245956375e-12,
          3.948541602912753e-12,
          3.4660008435939814e-12,
          5.499190431089297e-12,
          4.622231434627937e-12
         ]
        },
        {
         "boxpoints": "all",
         "hovertemplate": "Epoch: %{text}<br>STD: %{y: .0f}",
         "line": {
          "width": 1
         },
         "marker": {
          "size": 3
         },
         "name": "MEG1213",
         "opacity": 0.7,
         "pointpos": 0,
         "text": [
          0,
          1,
          2,
          3,
          4
         ],
         "type": "box",
         "y": [
          4.1438596228971104e-12,
          3.962321499296059e-12,
          4.663728726433558e-12,
          5.887901884111426e-12,
          4.2949203828122215e-12
         ]
        },
        {
         "boxpoints": "all",
         "hovertemplate": "Epoch: %{text}<br>STD: %{y: .0f}",
         "line": {
          "width": 1
         },
         "marker": {
          "size": 3
         },
         "name": "MEG1222",
         "opacity": 0.7,
         "pointpos": 0,
         "text": [
          0,
          1,
          2,
          3,
          4
         ],
         "type": "box",
         "y": [
          4.818874378484315e-12,
          5.1875627421819636e-12,
          5.103654031845821e-12,
          5.0881759335841976e-12,
          5.464232495928953e-12
         ]
        },
        {
         "boxpoints": "all",
         "hovertemplate": "Epoch: %{text}<br>STD: %{y: .0f}",
         "line": {
          "width": 1
         },
         "marker": {
          "size": 3
         },
         "name": "MEG1223",
         "opacity": 0.7,
         "pointpos": 0,
         "text": [
          0,
          1,
          2,
          3,
          4
         ],
         "type": "box",
         "y": [
          4.8682778901354264e-12,
          4.5036592760171525e-12,
          4.7696451076604635e-12,
          7.766379559118182e-12,
          5.372949089328982e-12
         ]
        },
        {
         "boxpoints": "all",
         "hovertemplate": "Epoch: %{text}<br>STD: %{y: .0f}",
         "line": {
          "width": 1
         },
         "marker": {
          "size": 3
         },
         "name": "MEG1232",
         "opacity": 0.7,
         "pointpos": 0,
         "text": [
          0,
          1,
          2,
          3,
          4
         ],
         "type": "box",
         "y": [
          3.789061297499962e-12,
          3.759129416727622e-12,
          4.224405652198421e-12,
          5.003911149870462e-12,
          3.935466457993281e-12
         ]
        },
        {
         "boxpoints": "all",
         "hovertemplate": "Epoch: %{text}<br>STD: %{y: .0f}",
         "line": {
          "width": 1
         },
         "marker": {
          "size": 3
         },
         "name": "MEG1233",
         "opacity": 0.7,
         "pointpos": 0,
         "text": [
          0,
          1,
          2,
          3,
          4
         ],
         "type": "box",
         "y": [
          4.176466064911117e-12,
          4.369878220575992e-12,
          4.193827915313903e-12,
          4.5550833095595635e-12,
          4.405277962410544e-12
         ]
        },
        {
         "boxpoints": "all",
         "hovertemplate": "Epoch: %{text}<br>STD: %{y: .0f}",
         "line": {
          "width": 1
         },
         "marker": {
          "size": 3
         },
         "name": "MEG1242",
         "opacity": 0.7,
         "pointpos": 0,
         "text": [
          0,
          1,
          2,
          3,
          4
         ],
         "type": "box",
         "y": [
          3.652470398566393e-12,
          3.4307060663776375e-12,
          3.994368474346843e-12,
          3.770616099327202e-12,
          3.477848138732679e-12
         ]
        },
        {
         "boxpoints": "all",
         "hovertemplate": "Epoch: %{text}<br>STD: %{y: .0f}",
         "line": {
          "width": 1
         },
         "marker": {
          "size": 3
         },
         "name": "MEG1243",
         "opacity": 0.7,
         "pointpos": 0,
         "text": [
          0,
          1,
          2,
          3,
          4
         ],
         "type": "box",
         "y": [
          3.697157335529807e-12,
          3.987511637791525e-12,
          4.160846263348025e-12,
          4.2966374632732066e-12,
          3.79761276035725e-12
         ]
        },
        {
         "boxpoints": "all",
         "hovertemplate": "Epoch: %{text}<br>STD: %{y: .0f}",
         "line": {
          "width": 1
         },
         "marker": {
          "size": 3
         },
         "name": "MEG1312",
         "opacity": 0.7,
         "pointpos": 0,
         "text": [
          0,
          1,
          2,
          3,
          4
         ],
         "type": "box",
         "y": [
          4.788549803897587e-12,
          4.783659549299413e-12,
          4.9959131120005215e-12,
          6.6019064561997175e-12,
          4.850268311515042e-12
         ]
        },
        {
         "boxpoints": "all",
         "hovertemplate": "Epoch: %{text}<br>STD: %{y: .0f}",
         "line": {
          "width": 1
         },
         "marker": {
          "size": 3
         },
         "name": "MEG1313",
         "opacity": 0.7,
         "pointpos": 0,
         "text": [
          0,
          1,
          2,
          3,
          4
         ],
         "type": "box",
         "y": [
          4.2363474440645465e-12,
          4.1848863589520235e-12,
          4.366925030620957e-12,
          5.086332524443615e-12,
          4.762191385547491e-12
         ]
        },
        {
         "boxpoints": "all",
         "hovertemplate": "Epoch: %{text}<br>STD: %{y: .0f}",
         "line": {
          "width": 1
         },
         "marker": {
          "size": 3
         },
         "name": "MEG1322",
         "opacity": 0.7,
         "pointpos": 0,
         "text": [
          0,
          1,
          2,
          3,
          4
         ],
         "type": "box",
         "y": [
          5.968538423068458e-12,
          6.3664196767123835e-12,
          5.892155918591576e-12,
          6.459631577469039e-12,
          6.880317196916191e-12
         ]
        },
        {
         "boxpoints": "all",
         "hovertemplate": "Epoch: %{text}<br>STD: %{y: .0f}",
         "line": {
          "width": 1
         },
         "marker": {
          "size": 3
         },
         "name": "MEG1323",
         "opacity": 0.7,
         "pointpos": 0,
         "text": [
          0,
          1,
          2,
          3,
          4
         ],
         "type": "box",
         "y": [
          5.786938218790996e-12,
          5.62310266190925e-12,
          5.872130776127268e-12,
          7.734250646156118e-12,
          6.4438768398713475e-12
         ]
        },
        {
         "boxpoints": "all",
         "hovertemplate": "Epoch: %{text}<br>STD: %{y: .0f}",
         "line": {
          "width": 1
         },
         "marker": {
          "size": 3
         },
         "name": "MEG1332",
         "opacity": 0.7,
         "pointpos": 0,
         "text": [
          0,
          1,
          2,
          3,
          4
         ],
         "type": "box",
         "y": [
          6.348521128903017e-12,
          5.47563904917288e-12,
          5.791654041527567e-12,
          5.652983469969325e-12,
          6.221499568495794e-12
         ]
        },
        {
         "boxpoints": "all",
         "hovertemplate": "Epoch: %{text}<br>STD: %{y: .0f}",
         "line": {
          "width": 1
         },
         "marker": {
          "size": 3
         },
         "name": "MEG1333",
         "opacity": 0.7,
         "pointpos": 0,
         "text": [
          0,
          1,
          2,
          3,
          4
         ],
         "type": "box",
         "y": [
          6.201327372766469e-12,
          5.2053944266183955e-12,
          6.140579532676862e-12,
          7.230282453928078e-12,
          6.011593504644569e-12
         ]
        },
        {
         "boxpoints": "all",
         "hovertemplate": "Epoch: %{text}<br>STD: %{y: .0f}",
         "line": {
          "width": 1
         },
         "marker": {
          "size": 3
         },
         "name": "MEG1342",
         "opacity": 0.7,
         "pointpos": 0,
         "text": [
          0,
          1,
          2,
          3,
          4
         ],
         "type": "box",
         "y": [
          4.874435678967324e-12,
          4.7651270080760105e-12,
          4.790726990938489e-12,
          6.131332250447859e-12,
          5.735313638536133e-12
         ]
        },
        {
         "boxpoints": "all",
         "hovertemplate": "Epoch: %{text}<br>STD: %{y: .0f}",
         "line": {
          "width": 1
         },
         "marker": {
          "size": 3
         },
         "name": "MEG1343",
         "opacity": 0.7,
         "pointpos": 0,
         "text": [
          0,
          1,
          2,
          3,
          4
         ],
         "type": "box",
         "y": [
          4.96729897552967e-12,
          3.94695110017041e-12,
          3.92428571421065e-12,
          4.675983469335534e-12,
          4.945809325223407e-12
         ]
        },
        {
         "boxpoints": "all",
         "hovertemplate": "Epoch: %{text}<br>STD: %{y: .0f}",
         "line": {
          "width": 1
         },
         "marker": {
          "size": 3
         },
         "name": "MEG1412",
         "opacity": 0.7,
         "pointpos": 0,
         "text": [
          0,
          1,
          2,
          3,
          4
         ],
         "type": "box",
         "y": [
          5.3350138200333686e-12,
          5.092971331191767e-12,
          5.740025200869395e-12,
          8.223756192203914e-12,
          5.340096067025329e-12
         ]
        },
        {
         "boxpoints": "all",
         "hovertemplate": "Epoch: %{text}<br>STD: %{y: .0f}",
         "line": {
          "width": 1
         },
         "marker": {
          "size": 3
         },
         "name": "MEG1413",
         "opacity": 0.7,
         "pointpos": 0,
         "text": [
          0,
          1,
          2,
          3,
          4
         ],
         "type": "box",
         "y": [
          4.481690388271548e-12,
          4.766950499373324e-12,
          4.179054849474018e-12,
          4.824551283177069e-12,
          5.716788631024539e-12
         ]
        },
        {
         "boxpoints": "all",
         "hovertemplate": "Epoch: %{text}<br>STD: %{y: .0f}",
         "line": {
          "width": 1
         },
         "marker": {
          "size": 3
         },
         "name": "MEG1422",
         "opacity": 0.7,
         "pointpos": 0,
         "text": [
          0,
          1,
          2,
          3,
          4
         ],
         "type": "box",
         "y": [
          3.680463434826977e-12,
          3.5127773060779983e-12,
          3.594190554552187e-12,
          5.031038140723142e-12,
          3.791358657120617e-12
         ]
        },
        {
         "boxpoints": "all",
         "hovertemplate": "Epoch: %{text}<br>STD: %{y: .0f}",
         "line": {
          "width": 1
         },
         "marker": {
          "size": 3
         },
         "name": "MEG1423",
         "opacity": 0.7,
         "pointpos": 0,
         "text": [
          0,
          1,
          2,
          3,
          4
         ],
         "type": "box",
         "y": [
          5.554500777220665e-12,
          5.3665366545135174e-12,
          6.6815606815688004e-12,
          6.437901026648683e-12,
          7.2451072832941905e-12
         ]
        },
        {
         "boxpoints": "all",
         "hovertemplate": "Epoch: %{text}<br>STD: %{y: .0f}",
         "line": {
          "width": 1
         },
         "marker": {
          "size": 3
         },
         "name": "MEG1432",
         "opacity": 0.7,
         "pointpos": 0,
         "text": [
          0,
          1,
          2,
          3,
          4
         ],
         "type": "box",
         "y": [
          4.300337541843602e-12,
          4.440629760924439e-12,
          4.059216426886607e-12,
          4.8877997964217905e-12,
          4.7733074824533704e-12
         ]
        },
        {
         "boxpoints": "all",
         "hovertemplate": "Epoch: %{text}<br>STD: %{y: .0f}",
         "line": {
          "width": 1
         },
         "marker": {
          "size": 3
         },
         "name": "MEG1433",
         "opacity": 0.7,
         "pointpos": 0,
         "text": [
          0,
          1,
          2,
          3,
          4
         ],
         "type": "box",
         "y": [
          5.61908857330794e-12,
          6.5425151167114074e-12,
          7.224035652855692e-12,
          7.276712671974263e-12,
          6.811641132187728e-12
         ]
        },
        {
         "boxpoints": "all",
         "hovertemplate": "Epoch: %{text}<br>STD: %{y: .0f}",
         "line": {
          "width": 1
         },
         "marker": {
          "size": 3
         },
         "name": "MEG1442",
         "opacity": 0.7,
         "pointpos": 0,
         "text": [
          0,
          1,
          2,
          3,
          4
         ],
         "type": "box",
         "y": [
          6.165352462089015e-12,
          5.793502326879398e-12,
          5.91316377079195e-12,
          8.118169569669559e-12,
          6.97381341842837e-12
         ]
        },
        {
         "boxpoints": "all",
         "hovertemplate": "Epoch: %{text}<br>STD: %{y: .0f}",
         "line": {
          "width": 1
         },
         "marker": {
          "size": 3
         },
         "name": "MEG1443",
         "opacity": 0.7,
         "pointpos": 0,
         "text": [
          0,
          1,
          2,
          3,
          4
         ],
         "type": "box",
         "y": [
          5.929655886879675e-12,
          6.353151357370159e-12,
          6.1145407162036825e-12,
          6.0550408703848675e-12,
          6.486869983929857e-12
         ]
        },
        {
         "boxpoints": "all",
         "hovertemplate": "Epoch: %{text}<br>STD: %{y: .0f}",
         "line": {
          "width": 1
         },
         "marker": {
          "size": 3
         },
         "name": "MEG1512",
         "opacity": 0.7,
         "pointpos": 0,
         "text": [
          0,
          1,
          2,
          3,
          4
         ],
         "type": "box",
         "y": [
          5.782216053850135e-12,
          5.12795683184421e-12,
          5.2659857441900646e-12,
          6.862128094920146e-12,
          4.8856371176470176e-12
         ]
        },
        {
         "boxpoints": "all",
         "hovertemplate": "Epoch: %{text}<br>STD: %{y: .0f}",
         "line": {
          "width": 1
         },
         "marker": {
          "size": 3
         },
         "name": "MEG1513",
         "opacity": 0.7,
         "pointpos": 0,
         "text": [
          0,
          1,
          2,
          3,
          4
         ],
         "type": "box",
         "y": [
          4.897721812848755e-12,
          5.477573553996329e-12,
          5.06544092140892e-12,
          6.10043384511601e-12,
          5.3833545660525686e-12
         ]
        },
        {
         "boxpoints": "all",
         "hovertemplate": "Epoch: %{text}<br>STD: %{y: .0f}",
         "line": {
          "width": 1
         },
         "marker": {
          "size": 3
         },
         "name": "MEG1522",
         "opacity": 0.7,
         "pointpos": 0,
         "text": [
          0,
          1,
          2,
          3,
          4
         ],
         "type": "box",
         "y": [
          5.543758492873786e-12,
          5.123720561524616e-12,
          5.505302429611556e-12,
          6.733842167242285e-12,
          5.310197851742321e-12
         ]
        },
        {
         "boxpoints": "all",
         "hovertemplate": "Epoch: %{text}<br>STD: %{y: .0f}",
         "line": {
          "width": 1
         },
         "marker": {
          "size": 3
         },
         "name": "MEG1523",
         "opacity": 0.7,
         "pointpos": 0,
         "text": [
          0,
          1,
          2,
          3,
          4
         ],
         "type": "box",
         "y": [
          5.283633182060807e-12,
          4.829364595220108e-12,
          4.676234069564873e-12,
          5.796217562931384e-12,
          5.103581892038151e-12
         ]
        },
        {
         "boxpoints": "all",
         "hovertemplate": "Epoch: %{text}<br>STD: %{y: .0f}",
         "line": {
          "width": 1
         },
         "marker": {
          "size": 3
         },
         "name": "MEG1532",
         "opacity": 0.7,
         "pointpos": 0,
         "text": [
          0,
          1,
          2,
          3,
          4
         ],
         "type": "box",
         "y": [
          4.377462073333984e-12,
          4.376988831102225e-12,
          4.655396411908055e-12,
          5.286349496136201e-12,
          4.910281091355372e-12
         ]
        },
        {
         "boxpoints": "all",
         "hovertemplate": "Epoch: %{text}<br>STD: %{y: .0f}",
         "line": {
          "width": 1
         },
         "marker": {
          "size": 3
         },
         "name": "MEG1533",
         "opacity": 0.7,
         "pointpos": 0,
         "text": [
          0,
          1,
          2,
          3,
          4
         ],
         "type": "box",
         "y": [
          7.043354489771251e-12,
          6.244059788430108e-12,
          6.855139106574399e-12,
          6.648587268674873e-12,
          6.6259034075417645e-12
         ]
        },
        {
         "boxpoints": "all",
         "hovertemplate": "Epoch: %{text}<br>STD: %{y: .0f}",
         "line": {
          "width": 1
         },
         "marker": {
          "size": 3
         },
         "name": "MEG1542",
         "opacity": 0.7,
         "pointpos": 0,
         "text": [
          0,
          1,
          2,
          3,
          4
         ],
         "type": "box",
         "y": [
          3.6203691547332658e-12,
          3.5149014117739534e-12,
          3.3433891614261983e-12,
          5.151435579148872e-12,
          3.910647093161531e-12
         ]
        },
        {
         "boxpoints": "all",
         "hovertemplate": "Epoch: %{text}<br>STD: %{y: .0f}",
         "line": {
          "width": 1
         },
         "marker": {
          "size": 3
         },
         "name": "MEG1543",
         "opacity": 0.7,
         "pointpos": 0,
         "text": [
          0,
          1,
          2,
          3,
          4
         ],
         "type": "box",
         "y": [
          6.679435110686635e-12,
          6.3443806046709754e-12,
          6.517191341920646e-12,
          6.7917473221391834e-12,
          6.2010874949520895e-12
         ]
        },
        {
         "boxpoints": "all",
         "hovertemplate": "Epoch: %{text}<br>STD: %{y: .0f}",
         "line": {
          "width": 1
         },
         "marker": {
          "size": 3
         },
         "name": "MEG1612",
         "opacity": 0.7,
         "pointpos": 0,
         "text": [
          0,
          1,
          2,
          3,
          4
         ],
         "type": "box",
         "y": [
          5.0081075859489176e-12,
          4.659312815408494e-12,
          4.287956947617171e-12,
          5.558660906247312e-12,
          5.7265449176189704e-12
         ]
        },
        {
         "boxpoints": "all",
         "hovertemplate": "Epoch: %{text}<br>STD: %{y: .0f}",
         "line": {
          "width": 1
         },
         "marker": {
          "size": 3
         },
         "name": "MEG1613",
         "opacity": 0.7,
         "pointpos": 0,
         "text": [
          0,
          1,
          2,
          3,
          4
         ],
         "type": "box",
         "y": [
          6.052845001418697e-12,
          5.2764722346107184e-12,
          5.203833648147378e-12,
          5.9915326758558164e-12,
          5.14956453504444e-12
         ]
        },
        {
         "boxpoints": "all",
         "hovertemplate": "Epoch: %{text}<br>STD: %{y: .0f}",
         "line": {
          "width": 1
         },
         "marker": {
          "size": 3
         },
         "name": "MEG1622",
         "opacity": 0.7,
         "pointpos": 0,
         "text": [
          0,
          1,
          2,
          3,
          4
         ],
         "type": "box",
         "y": [
          5.7519211037269045e-12,
          4.491845929711506e-12,
          4.77036348509607e-12,
          5.941905122480744e-12,
          5.757395780223443e-12
         ]
        },
        {
         "boxpoints": "all",
         "hovertemplate": "Epoch: %{text}<br>STD: %{y: .0f}",
         "line": {
          "width": 1
         },
         "marker": {
          "size": 3
         },
         "name": "MEG1623",
         "opacity": 0.7,
         "pointpos": 0,
         "text": [
          0,
          1,
          2,
          3,
          4
         ],
         "type": "box",
         "y": [
          5.155015060454487e-12,
          4.631454462439465e-12,
          4.0378791148783434e-12,
          5.631187633700681e-12,
          5.042006429562455e-12
         ]
        },
        {
         "boxpoints": "all",
         "hovertemplate": "Epoch: %{text}<br>STD: %{y: .0f}",
         "line": {
          "width": 1
         },
         "marker": {
          "size": 3
         },
         "name": "MEG1632",
         "opacity": 0.7,
         "pointpos": 0,
         "text": [
          0,
          1,
          2,
          3,
          4
         ],
         "type": "box",
         "y": [
          5.7845653853177045e-12,
          5.10615892452066e-12,
          5.000492347853773e-12,
          5.712747328607055e-12,
          4.7070795996285975e-12
         ]
        },
        {
         "boxpoints": "all",
         "hovertemplate": "Epoch: %{text}<br>STD: %{y: .0f}",
         "line": {
          "width": 1
         },
         "marker": {
          "size": 3
         },
         "name": "MEG1633",
         "opacity": 0.7,
         "pointpos": 0,
         "text": [
          0,
          1,
          2,
          3,
          4
         ],
         "type": "box",
         "y": [
          5.996852556345185e-12,
          3.741703188197296e-12,
          4.479405573500301e-12,
          4.807893057125248e-12,
          5.3824117767134825e-12
         ]
        },
        {
         "boxpoints": "all",
         "hovertemplate": "Epoch: %{text}<br>STD: %{y: .0f}",
         "line": {
          "width": 1
         },
         "marker": {
          "size": 3
         },
         "name": "MEG1642",
         "opacity": 0.7,
         "pointpos": 0,
         "text": [
          0,
          1,
          2,
          3,
          4
         ],
         "type": "box",
         "y": [
          5.3800294424231695e-12,
          4.151790301413815e-12,
          4.544050134320154e-12,
          5.5294398646967e-12,
          5.365656688506062e-12
         ]
        },
        {
         "boxpoints": "all",
         "hovertemplate": "Epoch: %{text}<br>STD: %{y: .0f}",
         "line": {
          "width": 1
         },
         "marker": {
          "size": 3
         },
         "name": "MEG1643",
         "opacity": 0.7,
         "pointpos": 0,
         "text": [
          0,
          1,
          2,
          3,
          4
         ],
         "type": "box",
         "y": [
          7.559911230752266e-12,
          5.6863529952395675e-12,
          4.9366729918785145e-12,
          6.715387564799165e-12,
          5.312784071968828e-12
         ]
        },
        {
         "boxpoints": "all",
         "hovertemplate": "Epoch: %{text}<br>STD: %{y: .0f}",
         "line": {
          "width": 1
         },
         "marker": {
          "size": 3
         },
         "name": "MEG1712",
         "opacity": 0.7,
         "pointpos": 0,
         "text": [
          0,
          1,
          2,
          3,
          4
         ],
         "type": "box",
         "y": [
          5.201886292748028e-12,
          5.700315443518313e-12,
          5.7455976383766046e-12,
          5.970630789516584e-12,
          5.1235877983168465e-12
         ]
        },
        {
         "boxpoints": "all",
         "hovertemplate": "Epoch: %{text}<br>STD: %{y: .0f}",
         "line": {
          "width": 1
         },
         "marker": {
          "size": 3
         },
         "name": "MEG1713",
         "opacity": 0.7,
         "pointpos": 0,
         "text": [
          0,
          1,
          2,
          3,
          4
         ],
         "type": "box",
         "y": [
          7.659196245640735e-12,
          7.284259913976365e-12,
          7.675454261405946e-12,
          7.579691147674399e-12,
          7.54716594353304e-12
         ]
        },
        {
         "boxpoints": "all",
         "hovertemplate": "Epoch: %{text}<br>STD: %{y: .0f}",
         "line": {
          "width": 1
         },
         "marker": {
          "size": 3
         },
         "name": "MEG1722",
         "opacity": 0.7,
         "pointpos": 0,
         "text": [
          0,
          1,
          2,
          3,
          4
         ],
         "type": "box",
         "y": [
          4.9796795467162006e-12,
          5.373508741890665e-12,
          6.445182043088356e-12,
          7.658431626003723e-12,
          5.801295678729046e-12
         ]
        },
        {
         "boxpoints": "all",
         "hovertemplate": "Epoch: %{text}<br>STD: %{y: .0f}",
         "line": {
          "width": 1
         },
         "marker": {
          "size": 3
         },
         "name": "MEG1723",
         "opacity": 0.7,
         "pointpos": 0,
         "text": [
          0,
          1,
          2,
          3,
          4
         ],
         "type": "box",
         "y": [
          4.814261864102717e-12,
          4.398165847723226e-12,
          4.682498273754332e-12,
          5.154592308518382e-12,
          5.35536310577404e-12
         ]
        },
        {
         "boxpoints": "all",
         "hovertemplate": "Epoch: %{text}<br>STD: %{y: .0f}",
         "line": {
          "width": 1
         },
         "marker": {
          "size": 3
         },
         "name": "MEG1732",
         "opacity": 0.7,
         "pointpos": 0,
         "text": [
          0,
          1,
          2,
          3,
          4
         ],
         "type": "box",
         "y": [
          6.027743774978128e-12,
          6.044003745912489e-12,
          6.550194438152835e-12,
          7.874212244209574e-12,
          6.821874953044118e-12
         ]
        },
        {
         "boxpoints": "all",
         "hovertemplate": "Epoch: %{text}<br>STD: %{y: .0f}",
         "line": {
          "width": 1
         },
         "marker": {
          "size": 3
         },
         "name": "MEG1733",
         "opacity": 0.7,
         "pointpos": 0,
         "text": [
          0,
          1,
          2,
          3,
          4
         ],
         "type": "box",
         "y": [
          6.603109381189006e-12,
          6.110812156785069e-12,
          5.738830780013172e-12,
          6.86497363867177e-12,
          5.990605808860615e-12
         ]
        },
        {
         "boxpoints": "all",
         "hovertemplate": "Epoch: %{text}<br>STD: %{y: .0f}",
         "line": {
          "width": 1
         },
         "marker": {
          "size": 3
         },
         "name": "MEG1742",
         "opacity": 0.7,
         "pointpos": 0,
         "text": [
          0,
          1,
          2,
          3,
          4
         ],
         "type": "box",
         "y": [
          8.55130247094713e-12,
          8.495911281349698e-12,
          8.196377389402132e-12,
          8.817370871678991e-12,
          7.118022365586695e-12
         ]
        },
        {
         "boxpoints": "all",
         "hovertemplate": "Epoch: %{text}<br>STD: %{y: .0f}",
         "line": {
          "width": 1
         },
         "marker": {
          "size": 3
         },
         "name": "MEG1743",
         "opacity": 0.7,
         "pointpos": 0,
         "text": [
          0,
          1,
          2,
          3,
          4
         ],
         "type": "box",
         "y": [
          9.089398930435878e-12,
          8.30664830926124e-12,
          9.384132704554302e-12,
          9.048770410321608e-12,
          8.858970128745299e-12
         ]
        },
        {
         "boxpoints": "all",
         "hovertemplate": "Epoch: %{text}<br>STD: %{y: .0f}",
         "line": {
          "width": 1
         },
         "marker": {
          "size": 3
         },
         "name": "MEG1812",
         "opacity": 0.7,
         "pointpos": 0,
         "text": [
          0,
          1,
          2,
          3,
          4
         ],
         "type": "box",
         "y": [
          4.234894716277284e-12,
          3.4865527654310175e-12,
          3.5235326615427e-12,
          4.530805761091225e-12,
          3.782574756412013e-12
         ]
        },
        {
         "boxpoints": "all",
         "hovertemplate": "Epoch: %{text}<br>STD: %{y: .0f}",
         "line": {
          "width": 1
         },
         "marker": {
          "size": 3
         },
         "name": "MEG1813",
         "opacity": 0.7,
         "pointpos": 0,
         "text": [
          0,
          1,
          2,
          3,
          4
         ],
         "type": "box",
         "y": [
          5.254601169295714e-12,
          8.56201241580636e-12,
          5.125456496428355e-12,
          7.9193779455942e-12,
          7.929826131496259e-12
         ]
        },
        {
         "boxpoints": "all",
         "hovertemplate": "Epoch: %{text}<br>STD: %{y: .0f}",
         "line": {
          "width": 1
         },
         "marker": {
          "size": 3
         },
         "name": "MEG1822",
         "opacity": 0.7,
         "pointpos": 0,
         "text": [
          0,
          1,
          2,
          3,
          4
         ],
         "type": "box",
         "y": [
          3.910459185471796e-12,
          4.271570233330317e-12,
          4.3762971019363945e-12,
          5.097316932633929e-12,
          4.084640137149995e-12
         ]
        },
        {
         "boxpoints": "all",
         "hovertemplate": "Epoch: %{text}<br>STD: %{y: .0f}",
         "line": {
          "width": 1
         },
         "marker": {
          "size": 3
         },
         "name": "MEG1823",
         "opacity": 0.7,
         "pointpos": 0,
         "text": [
          0,
          1,
          2,
          3,
          4
         ],
         "type": "box",
         "y": [
          3.505497750242546e-12,
          3.3039159177289774e-12,
          3.393038621081181e-12,
          4.196772552039272e-12,
          3.856231240665149e-12
         ]
        },
        {
         "boxpoints": "all",
         "hovertemplate": "Epoch: %{text}<br>STD: %{y: .0f}",
         "line": {
          "width": 1
         },
         "marker": {
          "size": 3
         },
         "name": "MEG1832",
         "opacity": 0.7,
         "pointpos": 0,
         "text": [
          0,
          1,
          2,
          3,
          4
         ],
         "type": "box",
         "y": [
          4.028405649669999e-12,
          3.733633132592161e-12,
          4.051640133929173e-12,
          3.995006278134508e-12,
          4.149996474031027e-12
         ]
        },
        {
         "boxpoints": "all",
         "hovertemplate": "Epoch: %{text}<br>STD: %{y: .0f}",
         "line": {
          "width": 1
         },
         "marker": {
          "size": 3
         },
         "name": "MEG1833",
         "opacity": 0.7,
         "pointpos": 0,
         "text": [
          0,
          1,
          2,
          3,
          4
         ],
         "type": "box",
         "y": [
          3.852834786504769e-12,
          4.117787024723799e-12,
          4.267331158489019e-12,
          4.91144273866692e-12,
          3.771325238959916e-12
         ]
        },
        {
         "boxpoints": "all",
         "hovertemplate": "Epoch: %{text}<br>STD: %{y: .0f}",
         "line": {
          "width": 1
         },
         "marker": {
          "size": 3
         },
         "name": "MEG1842",
         "opacity": 0.7,
         "pointpos": 0,
         "text": [
          0,
          1,
          2,
          3,
          4
         ],
         "type": "box",
         "y": [
          4.991377196959648e-12,
          4.448678134201847e-12,
          3.994102054631087e-12,
          4.762196641583535e-12,
          4.703986735405357e-12
         ]
        },
        {
         "boxpoints": "all",
         "hovertemplate": "Epoch: %{text}<br>STD: %{y: .0f}",
         "line": {
          "width": 1
         },
         "marker": {
          "size": 3
         },
         "name": "MEG1843",
         "opacity": 0.7,
         "pointpos": 0,
         "text": [
          0,
          1,
          2,
          3,
          4
         ],
         "type": "box",
         "y": [
          4.291889235853448e-12,
          3.597762063872384e-12,
          4.143957122647922e-12,
          4.612200253887058e-12,
          4.096690985290697e-12
         ]
        },
        {
         "boxpoints": "all",
         "hovertemplate": "Epoch: %{text}<br>STD: %{y: .0f}",
         "line": {
          "width": 1
         },
         "marker": {
          "size": 3
         },
         "name": "MEG1912",
         "opacity": 0.7,
         "pointpos": 0,
         "text": [
          0,
          1,
          2,
          3,
          4
         ],
         "type": "box",
         "y": [
          5.512643593942246e-12,
          4.577487023670801e-12,
          4.60089420779056e-12,
          5.9014784700445976e-12,
          5.650820870703053e-12
         ]
        },
        {
         "boxpoints": "all",
         "hovertemplate": "Epoch: %{text}<br>STD: %{y: .0f}",
         "line": {
          "width": 1
         },
         "marker": {
          "size": 3
         },
         "name": "MEG1913",
         "opacity": 0.7,
         "pointpos": 0,
         "text": [
          0,
          1,
          2,
          3,
          4
         ],
         "type": "box",
         "y": [
          5.355080634352054e-12,
          4.635605206511651e-12,
          4.5343285907964805e-12,
          5.530462148272824e-12,
          5.843247205660317e-12
         ]
        },
        {
         "boxpoints": "all",
         "hovertemplate": "Epoch: %{text}<br>STD: %{y: .0f}",
         "line": {
          "width": 1
         },
         "marker": {
          "size": 3
         },
         "name": "MEG1922",
         "opacity": 0.7,
         "pointpos": 0,
         "text": [
          0,
          1,
          2,
          3,
          4
         ],
         "type": "box",
         "y": [
          8.864612911291677e-12,
          7.044577314647183e-12,
          7.551566101645485e-12,
          7.6471036063124e-12,
          8.843236832700961e-12
         ]
        },
        {
         "boxpoints": "all",
         "hovertemplate": "Epoch: %{text}<br>STD: %{y: .0f}",
         "line": {
          "width": 1
         },
         "marker": {
          "size": 3
         },
         "name": "MEG1923",
         "opacity": 0.7,
         "pointpos": 0,
         "text": [
          0,
          1,
          2,
          3,
          4
         ],
         "type": "box",
         "y": [
          8.175791535390804e-12,
          6.243194291538265e-12,
          5.7036211513053525e-12,
          8.866732878606111e-12,
          6.983949846480553e-12
         ]
        },
        {
         "boxpoints": "all",
         "hovertemplate": "Epoch: %{text}<br>STD: %{y: .0f}",
         "line": {
          "width": 1
         },
         "marker": {
          "size": 3
         },
         "name": "MEG1932",
         "opacity": 0.7,
         "pointpos": 0,
         "text": [
          0,
          1,
          2,
          3,
          4
         ],
         "type": "box",
         "y": [
          5.415075672721074e-12,
          6.191905411627036e-12,
          5.976541136836946e-12,
          7.207142646191029e-12,
          7.863578073354138e-12
         ]
        },
        {
         "boxpoints": "all",
         "hovertemplate": "Epoch: %{text}<br>STD: %{y: .0f}",
         "line": {
          "width": 1
         },
         "marker": {
          "size": 3
         },
         "name": "MEG1933",
         "opacity": 0.7,
         "pointpos": 0,
         "text": [
          0,
          1,
          2,
          3,
          4
         ],
         "type": "box",
         "y": [
          1.2203402723920526e-11,
          1.0586970395528292e-11,
          1.1673627586772305e-11,
          1.080137216995262e-11,
          1.1936041842210939e-11
         ]
        },
        {
         "boxpoints": "all",
         "hovertemplate": "Epoch: %{text}<br>STD: %{y: .0f}",
         "line": {
          "width": 1
         },
         "marker": {
          "size": 3
         },
         "name": "MEG1942",
         "opacity": 0.7,
         "pointpos": 0,
         "text": [
          0,
          1,
          2,
          3,
          4
         ],
         "type": "box",
         "y": [
          6.5508075848709945e-12,
          5.0254809009148406e-12,
          4.721284644426613e-12,
          5.375831539437765e-12,
          5.873477877635055e-12
         ]
        },
        {
         "boxpoints": "all",
         "hovertemplate": "Epoch: %{text}<br>STD: %{y: .0f}",
         "line": {
          "width": 1
         },
         "marker": {
          "size": 3
         },
         "name": "MEG1943",
         "opacity": 0.7,
         "pointpos": 0,
         "text": [
          0,
          1,
          2,
          3,
          4
         ],
         "type": "box",
         "y": [
          8.381424245414982e-12,
          6.002116299415248e-12,
          5.348744193073773e-12,
          6.8479317694615695e-12,
          7.010775636477784e-12
         ]
        },
        {
         "boxpoints": "all",
         "hovertemplate": "Epoch: %{text}<br>STD: %{y: .0f}",
         "line": {
          "width": 1
         },
         "marker": {
          "size": 3
         },
         "name": "MEG2012",
         "opacity": 0.7,
         "pointpos": 0,
         "text": [
          0,
          1,
          2,
          3,
          4
         ],
         "type": "box",
         "y": [
          4.656766042699917e-12,
          5.065823335896884e-12,
          4.742187535305818e-12,
          5.406906572131896e-12,
          4.3833366190003215e-12
         ]
        },
        {
         "boxpoints": "all",
         "hovertemplate": "Epoch: %{text}<br>STD: %{y: .0f}",
         "line": {
          "width": 1
         },
         "marker": {
          "size": 3
         },
         "name": "MEG2013",
         "opacity": 0.7,
         "pointpos": 0,
         "text": [
          0,
          1,
          2,
          3,
          4
         ],
         "type": "box",
         "y": [
          4.677759483728576e-12,
          4.4463251812828396e-12,
          4.255902397065343e-12,
          4.982958919819598e-12,
          5.415680952199416e-12
         ]
        },
        {
         "boxpoints": "all",
         "hovertemplate": "Epoch: %{text}<br>STD: %{y: .0f}",
         "line": {
          "width": 1
         },
         "marker": {
          "size": 3
         },
         "name": "MEG2022",
         "opacity": 0.7,
         "pointpos": 0,
         "text": [
          0,
          1,
          2,
          3,
          4
         ],
         "type": "box",
         "y": [
          4.726616445906921e-12,
          4.801021502857177e-12,
          4.921420540711937e-12,
          6.289073398253647e-12,
          5.279675701263181e-12
         ]
        },
        {
         "boxpoints": "all",
         "hovertemplate": "Epoch: %{text}<br>STD: %{y: .0f}",
         "line": {
          "width": 1
         },
         "marker": {
          "size": 3
         },
         "name": "MEG2023",
         "opacity": 0.7,
         "pointpos": 0,
         "text": [
          0,
          1,
          2,
          3,
          4
         ],
         "type": "box",
         "y": [
          5.014337902297636e-12,
          4.197958887647369e-12,
          4.819761859797191e-12,
          4.55071459628745e-12,
          4.496253525297859e-12
         ]
        },
        {
         "boxpoints": "all",
         "hovertemplate": "Epoch: %{text}<br>STD: %{y: .0f}",
         "line": {
          "width": 1
         },
         "marker": {
          "size": 3
         },
         "name": "MEG2032",
         "opacity": 0.7,
         "pointpos": 0,
         "text": [
          0,
          1,
          2,
          3,
          4
         ],
         "type": "box",
         "y": [
          6.002499325428981e-12,
          4.495082240644809e-12,
          5.734210788707476e-12,
          6.4770342184113694e-12,
          6.075027815421735e-12
         ]
        },
        {
         "boxpoints": "all",
         "hovertemplate": "Epoch: %{text}<br>STD: %{y: .0f}",
         "line": {
          "width": 1
         },
         "marker": {
          "size": 3
         },
         "name": "MEG2033",
         "opacity": 0.7,
         "pointpos": 0,
         "text": [
          0,
          1,
          2,
          3,
          4
         ],
         "type": "box",
         "y": [
          5.647105111029707e-12,
          5.562493239711806e-12,
          5.495231701994151e-12,
          7.118206776500785e-12,
          6.951007849818251e-12
         ]
        },
        {
         "boxpoints": "all",
         "hovertemplate": "Epoch: %{text}<br>STD: %{y: .0f}",
         "line": {
          "width": 1
         },
         "marker": {
          "size": 3
         },
         "name": "MEG2042",
         "opacity": 0.7,
         "pointpos": 0,
         "text": [
          0,
          1,
          2,
          3,
          4
         ],
         "type": "box",
         "y": [
          6.102871886764157e-12,
          4.395531579345002e-12,
          5.353949997554769e-12,
          5.7254009897205615e-12,
          6.1136097159985835e-12
         ]
        },
        {
         "boxpoints": "all",
         "hovertemplate": "Epoch: %{text}<br>STD: %{y: .0f}",
         "line": {
          "width": 1
         },
         "marker": {
          "size": 3
         },
         "name": "MEG2043",
         "opacity": 0.7,
         "pointpos": 0,
         "text": [
          0,
          1,
          2,
          3,
          4
         ],
         "type": "box",
         "y": [
          6.206085987964823e-12,
          5.5904847056922496e-12,
          5.315957801630277e-12,
          5.8387590155155636e-12,
          6.470651565058498e-12
         ]
        },
        {
         "boxpoints": "all",
         "hovertemplate": "Epoch: %{text}<br>STD: %{y: .0f}",
         "line": {
          "width": 1
         },
         "marker": {
          "size": 3
         },
         "name": "MEG2112",
         "opacity": 0.7,
         "pointpos": 0,
         "text": [
          0,
          1,
          2,
          3,
          4
         ],
         "type": "box",
         "y": [
          7.785903992474715e-12,
          7.403147859336844e-12,
          6.739778640584589e-12,
          7.878794090739931e-12,
          9.496696881312118e-12
         ]
        },
        {
         "boxpoints": "all",
         "hovertemplate": "Epoch: %{text}<br>STD: %{y: .0f}",
         "line": {
          "width": 1
         },
         "marker": {
          "size": 3
         },
         "name": "MEG2113",
         "opacity": 0.7,
         "pointpos": 0,
         "text": [
          0,
          1,
          2,
          3,
          4
         ],
         "type": "box",
         "y": [
          6.772744302189283e-12,
          6.435524268982629e-12,
          6.656303895763847e-12,
          7.301657461789432e-12,
          7.354706471514692e-12
         ]
        },
        {
         "boxpoints": "all",
         "hovertemplate": "Epoch: %{text}<br>STD: %{y: .0f}",
         "line": {
          "width": 1
         },
         "marker": {
          "size": 3
         },
         "name": "MEG2122",
         "opacity": 0.7,
         "pointpos": 0,
         "text": [
          0,
          1,
          2,
          3,
          4
         ],
         "type": "box",
         "y": [
          6.376624738839465e-12,
          6.092003857220069e-12,
          7.462808474219987e-12,
          7.882575189257127e-12,
          9.066829478326439e-12
         ]
        },
        {
         "boxpoints": "all",
         "hovertemplate": "Epoch: %{text}<br>STD: %{y: .0f}",
         "line": {
          "width": 1
         },
         "marker": {
          "size": 3
         },
         "name": "MEG2123",
         "opacity": 0.7,
         "pointpos": 0,
         "text": [
          0,
          1,
          2,
          3,
          4
         ],
         "type": "box",
         "y": [
          8.604738355936207e-12,
          8.074753401828089e-12,
          7.42232309529027e-12,
          9.15544697827309e-12,
          9.620863121804409e-12
         ]
        },
        {
         "boxpoints": "all",
         "hovertemplate": "Epoch: %{text}<br>STD: %{y: .0f}",
         "line": {
          "width": 1
         },
         "marker": {
          "size": 3
         },
         "name": "MEG2132",
         "opacity": 0.7,
         "pointpos": 0,
         "text": [
          0,
          1,
          2,
          3,
          4
         ],
         "type": "box",
         "y": [
          7.234910336258509e-12,
          7.966411322473729e-12,
          7.62439779014773e-12,
          9.331952916988435e-12,
          7.1457668140948344e-12
         ]
        },
        {
         "boxpoints": "all",
         "hovertemplate": "Epoch: %{text}<br>STD: %{y: .0f}",
         "line": {
          "width": 1
         },
         "marker": {
          "size": 3
         },
         "name": "MEG2133",
         "opacity": 0.7,
         "pointpos": 0,
         "text": [
          0,
          1,
          2,
          3,
          4
         ],
         "type": "box",
         "y": [
          1.0035407660218177e-11,
          1.048329945882726e-11,
          1.0394492980197642e-11,
          1.0335316167215017e-11,
          1.0297131604437793e-11
         ]
        },
        {
         "boxpoints": "all",
         "hovertemplate": "Epoch: %{text}<br>STD: %{y: .0f}",
         "line": {
          "width": 1
         },
         "marker": {
          "size": 3
         },
         "name": "MEG2142",
         "opacity": 0.7,
         "pointpos": 0,
         "text": [
          0,
          1,
          2,
          3,
          4
         ],
         "type": "box",
         "y": [
          1.1010530463725053e-11,
          1.1483578411668206e-11,
          1.2780799756644402e-11,
          1.2605743322831048e-11,
          1.073461442792707e-11
         ]
        },
        {
         "boxpoints": "all",
         "hovertemplate": "Epoch: %{text}<br>STD: %{y: .0f}",
         "line": {
          "width": 1
         },
         "marker": {
          "size": 3
         },
         "name": "MEG2143",
         "opacity": 0.7,
         "pointpos": 0,
         "text": [
          0,
          1,
          2,
          3,
          4
         ],
         "type": "box",
         "y": [
          8.316422580252055e-12,
          7.820052529504411e-12,
          7.79781841017236e-12,
          8.069490399576917e-12,
          7.582419536650042e-12
         ]
        },
        {
         "boxpoints": "all",
         "hovertemplate": "Epoch: %{text}<br>STD: %{y: .0f}",
         "line": {
          "width": 1
         },
         "marker": {
          "size": 3
         },
         "name": "MEG2212",
         "opacity": 0.7,
         "pointpos": 0,
         "text": [
          0,
          1,
          2,
          3,
          4
         ],
         "type": "box",
         "y": [
          5.245354306351695e-12,
          4.6480177798392765e-12,
          5.0929930550705705e-12,
          5.626273472578607e-12,
          5.6514226559182455e-12
         ]
        },
        {
         "boxpoints": "all",
         "hovertemplate": "Epoch: %{text}<br>STD: %{y: .0f}",
         "line": {
          "width": 1
         },
         "marker": {
          "size": 3
         },
         "name": "MEG2213",
         "opacity": 0.7,
         "pointpos": 0,
         "text": [
          0,
          1,
          2,
          3,
          4
         ],
         "type": "box",
         "y": [
          4.428006269234185e-12,
          3.781835284108972e-12,
          3.769830665133634e-12,
          4.340146067736316e-12,
          3.680539741812984e-12
         ]
        },
        {
         "boxpoints": "all",
         "hovertemplate": "Epoch: %{text}<br>STD: %{y: .0f}",
         "line": {
          "width": 1
         },
         "marker": {
          "size": 3
         },
         "name": "MEG2222",
         "opacity": 0.7,
         "pointpos": 0,
         "text": [
          0,
          1,
          2,
          3,
          4
         ],
         "type": "box",
         "y": [
          4.752620071150229e-12,
          3.9142365110388615e-12,
          4.710046486625009e-12,
          5.392392893613439e-12,
          3.693618170381683e-12
         ]
        },
        {
         "boxpoints": "all",
         "hovertemplate": "Epoch: %{text}<br>STD: %{y: .0f}",
         "line": {
          "width": 1
         },
         "marker": {
          "size": 3
         },
         "name": "MEG2223",
         "opacity": 0.7,
         "pointpos": 0,
         "text": [
          0,
          1,
          2,
          3,
          4
         ],
         "type": "box",
         "y": [
          4.467471197262552e-12,
          3.999063533914882e-12,
          4.125747914538728e-12,
          5.390586141529436e-12,
          4.748667327099943e-12
         ]
        },
        {
         "boxpoints": "all",
         "hovertemplate": "Epoch: %{text}<br>STD: %{y: .0f}",
         "line": {
          "width": 1
         },
         "marker": {
          "size": 3
         },
         "name": "MEG2232",
         "opacity": 0.7,
         "pointpos": 0,
         "text": [
          0,
          1,
          2,
          3,
          4
         ],
         "type": "box",
         "y": [
          4.099063421089371e-12,
          3.448307529224963e-12,
          4.082748097386203e-12,
          4.411351599615684e-12,
          3.9746519741927426e-12
         ]
        },
        {
         "boxpoints": "all",
         "hovertemplate": "Epoch: %{text}<br>STD: %{y: .0f}",
         "line": {
          "width": 1
         },
         "marker": {
          "size": 3
         },
         "name": "MEG2233",
         "opacity": 0.7,
         "pointpos": 0,
         "text": [
          0,
          1,
          2,
          3,
          4
         ],
         "type": "box",
         "y": [
          5.1535386101166486e-12,
          3.825435024009278e-12,
          5.105181261785156e-12,
          5.6833346100218424e-12,
          4.708030351628441e-12
         ]
        },
        {
         "boxpoints": "all",
         "hovertemplate": "Epoch: %{text}<br>STD: %{y: .0f}",
         "line": {
          "width": 1
         },
         "marker": {
          "size": 3
         },
         "name": "MEG2242",
         "opacity": 0.7,
         "pointpos": 0,
         "text": [
          0,
          1,
          2,
          3,
          4
         ],
         "type": "box",
         "y": [
          3.992190832070592e-12,
          2.875119695476838e-12,
          3.363605941186114e-12,
          3.668961139885869e-12,
          4.6305333784848945e-12
         ]
        },
        {
         "boxpoints": "all",
         "hovertemplate": "Epoch: %{text}<br>STD: %{y: .0f}",
         "line": {
          "width": 1
         },
         "marker": {
          "size": 3
         },
         "name": "MEG2243",
         "opacity": 0.7,
         "pointpos": 0,
         "text": [
          0,
          1,
          2,
          3,
          4
         ],
         "type": "box",
         "y": [
          4.1194932179262835e-12,
          3.7568793902553125e-12,
          4.040965564516808e-12,
          4.489036015466137e-12,
          3.8705978363118755e-12
         ]
        },
        {
         "boxpoints": "all",
         "hovertemplate": "Epoch: %{text}<br>STD: %{y: .0f}",
         "line": {
          "width": 1
         },
         "marker": {
          "size": 3
         },
         "name": "MEG2312",
         "opacity": 0.7,
         "pointpos": 0,
         "text": [
          0,
          1,
          2,
          3,
          4
         ],
         "type": "box",
         "y": [
          6.687077362985099e-12,
          4.684966737263446e-12,
          6.876852359372792e-12,
          6.732233512447177e-12,
          6.362092668705226e-12
         ]
        },
        {
         "boxpoints": "all",
         "hovertemplate": "Epoch: %{text}<br>STD: %{y: .0f}",
         "line": {
          "width": 1
         },
         "marker": {
          "size": 3
         },
         "name": "MEG2313",
         "opacity": 0.7,
         "pointpos": 0,
         "text": [
          0,
          1,
          2,
          3,
          4
         ],
         "type": "box",
         "y": [
          5.070141742427335e-12,
          5.23400075561614e-12,
          5.053208829501547e-12,
          5.969857837098903e-12,
          6.126576089130232e-12
         ]
        },
        {
         "boxpoints": "all",
         "hovertemplate": "Epoch: %{text}<br>STD: %{y: .0f}",
         "line": {
          "width": 1
         },
         "marker": {
          "size": 3
         },
         "name": "MEG2322",
         "opacity": 0.7,
         "pointpos": 0,
         "text": [
          0,
          1,
          2,
          3,
          4
         ],
         "type": "box",
         "y": [
          6.946138514038891e-12,
          5.744107132430568e-12,
          5.592831425341878e-12,
          6.873175106881123e-12,
          6.439358184556836e-12
         ]
        },
        {
         "boxpoints": "all",
         "hovertemplate": "Epoch: %{text}<br>STD: %{y: .0f}",
         "line": {
          "width": 1
         },
         "marker": {
          "size": 3
         },
         "name": "MEG2323",
         "opacity": 0.7,
         "pointpos": 0,
         "text": [
          0,
          1,
          2,
          3,
          4
         ],
         "type": "box",
         "y": [
          6.60922900666955e-12,
          5.146689547861787e-12,
          5.994103968545571e-12,
          7.521514922129121e-12,
          6.68428315344444e-12
         ]
        },
        {
         "boxpoints": "all",
         "hovertemplate": "Epoch: %{text}<br>STD: %{y: .0f}",
         "line": {
          "width": 1
         },
         "marker": {
          "size": 3
         },
         "name": "MEG2332",
         "opacity": 0.7,
         "pointpos": 0,
         "text": [
          0,
          1,
          2,
          3,
          4
         ],
         "type": "box",
         "y": [
          6.665316315622318e-12,
          7.236245123704388e-12,
          6.865195442087617e-12,
          7.252528309014797e-12,
          7.625990889614157e-12
         ]
        },
        {
         "boxpoints": "all",
         "hovertemplate": "Epoch: %{text}<br>STD: %{y: .0f}",
         "line": {
          "width": 1
         },
         "marker": {
          "size": 3
         },
         "name": "MEG2333",
         "opacity": 0.7,
         "pointpos": 0,
         "text": [
          0,
          1,
          2,
          3,
          4
         ],
         "type": "box",
         "y": [
          8.325417089236077e-12,
          8.15515797950533e-12,
          8.613586479246328e-12,
          9.375945852665523e-12,
          8.737231367018743e-12
         ]
        },
        {
         "boxpoints": "all",
         "hovertemplate": "Epoch: %{text}<br>STD: %{y: .0f}",
         "line": {
          "width": 1
         },
         "marker": {
          "size": 3
         },
         "name": "MEG2342",
         "opacity": 0.7,
         "pointpos": 0,
         "text": [
          0,
          1,
          2,
          3,
          4
         ],
         "type": "box",
         "y": [
          6.589508559313402e-12,
          5.774000406194543e-12,
          6.725172812042296e-12,
          8.04676354611937e-12,
          7.0861425681711e-12
         ]
        },
        {
         "boxpoints": "all",
         "hovertemplate": "Epoch: %{text}<br>STD: %{y: .0f}",
         "line": {
          "width": 1
         },
         "marker": {
          "size": 3
         },
         "name": "MEG2343",
         "opacity": 0.7,
         "pointpos": 0,
         "text": [
          0,
          1,
          2,
          3,
          4
         ],
         "type": "box",
         "y": [
          6.504352209134829e-12,
          5.603728040365731e-12,
          6.198764330593018e-12,
          6.960210344237305e-12,
          6.603300718670689e-12
         ]
        },
        {
         "boxpoints": "all",
         "hovertemplate": "Epoch: %{text}<br>STD: %{y: .0f}",
         "line": {
          "width": 1
         },
         "marker": {
          "size": 3
         },
         "name": "MEG2412",
         "opacity": 0.7,
         "pointpos": 0,
         "text": [
          0,
          1,
          2,
          3,
          4
         ],
         "type": "box",
         "y": [
          4.696158471033984e-12,
          4.6469581920018356e-12,
          5.602245078824759e-12,
          6.989177314716812e-12,
          5.234209120176791e-12
         ]
        },
        {
         "boxpoints": "all",
         "hovertemplate": "Epoch: %{text}<br>STD: %{y: .0f}",
         "line": {
          "width": 1
         },
         "marker": {
          "size": 3
         },
         "name": "MEG2413",
         "opacity": 0.7,
         "pointpos": 0,
         "text": [
          0,
          1,
          2,
          3,
          4
         ],
         "type": "box",
         "y": [
          5.961109174205689e-12,
          3.844688434449352e-12,
          5.0485592804719315e-12,
          5.316691459507149e-12,
          4.548473144273567e-12
         ]
        },
        {
         "boxpoints": "all",
         "hovertemplate": "Epoch: %{text}<br>STD: %{y: .0f}",
         "line": {
          "width": 1
         },
         "marker": {
          "size": 3
         },
         "name": "MEG2422",
         "opacity": 0.7,
         "pointpos": 0,
         "text": [
          0,
          1,
          2,
          3,
          4
         ],
         "type": "box",
         "y": [
          7.770455024710393e-12,
          5.891468869448332e-12,
          6.644848925456343e-12,
          6.263346480151417e-12,
          5.735710321729903e-12
         ]
        },
        {
         "boxpoints": "all",
         "hovertemplate": "Epoch: %{text}<br>STD: %{y: .0f}",
         "line": {
          "width": 1
         },
         "marker": {
          "size": 3
         },
         "name": "MEG2423",
         "opacity": 0.7,
         "pointpos": 0,
         "text": [
          0,
          1,
          2,
          3,
          4
         ],
         "type": "box",
         "y": [
          5.7881557422655295e-12,
          4.523819881177147e-12,
          5.641679941351461e-12,
          7.573583709126581e-12,
          6.575896362081363e-12
         ]
        },
        {
         "boxpoints": "all",
         "hovertemplate": "Epoch: %{text}<br>STD: %{y: .0f}",
         "line": {
          "width": 1
         },
         "marker": {
          "size": 3
         },
         "name": "MEG2432",
         "opacity": 0.7,
         "pointpos": 0,
         "text": [
          0,
          1,
          2,
          3,
          4
         ],
         "type": "box",
         "y": [
          8.047236862933798e-12,
          5.636777337615631e-12,
          5.5992229348444365e-12,
          6.35084616975996e-12,
          6.4341870308883934e-12
         ]
        },
        {
         "boxpoints": "all",
         "hovertemplate": "Epoch: %{text}<br>STD: %{y: .0f}",
         "line": {
          "width": 1
         },
         "marker": {
          "size": 3
         },
         "name": "MEG2433",
         "opacity": 0.7,
         "pointpos": 0,
         "text": [
          0,
          1,
          2,
          3,
          4
         ],
         "type": "box",
         "y": [
          6.5506710903230804e-12,
          4.62340001004195e-12,
          5.9926439821452335e-12,
          7.44390322379463e-12,
          6.911974590742447e-12
         ]
        },
        {
         "boxpoints": "all",
         "hovertemplate": "Epoch: %{text}<br>STD: %{y: .0f}",
         "line": {
          "width": 1
         },
         "marker": {
          "size": 3
         },
         "name": "MEG2442",
         "opacity": 0.7,
         "pointpos": 0,
         "text": [
          0,
          1,
          2,
          3,
          4
         ],
         "type": "box",
         "y": [
          6.070671380248202e-12,
          4.6305355933760815e-12,
          6.0298043072585374e-12,
          6.704169731497843e-12,
          6.209830941427083e-12
         ]
        },
        {
         "boxpoints": "all",
         "hovertemplate": "Epoch: %{text}<br>STD: %{y: .0f}",
         "line": {
          "width": 1
         },
         "marker": {
          "size": 3
         },
         "name": "MEG2443",
         "opacity": 0.7,
         "pointpos": 0,
         "text": [
          0,
          1,
          2,
          3,
          4
         ],
         "type": "box",
         "y": [
          5.266192299331679e-12,
          4.5913065432555475e-12,
          4.549941571732474e-12,
          4.4222334692947966e-12,
          4.6934101171385235e-12
         ]
        },
        {
         "boxpoints": "all",
         "hovertemplate": "Epoch: %{text}<br>STD: %{y: .0f}",
         "line": {
          "width": 1
         },
         "marker": {
          "size": 3
         },
         "name": "MEG2512",
         "opacity": 0.7,
         "pointpos": 0,
         "text": [
          0,
          1,
          2,
          3,
          4
         ],
         "type": "box",
         "y": [
          6.557371884448304e-12,
          7.034904712542767e-12,
          7.043273215203806e-12,
          7.1612919757642636e-12,
          7.068744985944683e-12
         ]
        },
        {
         "boxpoints": "all",
         "hovertemplate": "Epoch: %{text}<br>STD: %{y: .0f}",
         "line": {
          "width": 1
         },
         "marker": {
          "size": 3
         },
         "name": "MEG2513",
         "opacity": 0.7,
         "pointpos": 0,
         "text": [
          0,
          1,
          2,
          3,
          4
         ],
         "type": "box",
         "y": [
          9.273364079574144e-12,
          7.68219316887422e-12,
          7.839584648835517e-12,
          9.135966190743028e-12,
          8.652174358191221e-12
         ]
        },
        {
         "boxpoints": "all",
         "hovertemplate": "Epoch: %{text}<br>STD: %{y: .0f}",
         "line": {
          "width": 1
         },
         "marker": {
          "size": 3
         },
         "name": "MEG2522",
         "opacity": 0.7,
         "pointpos": 0,
         "text": [
          0,
          1,
          2,
          3,
          4
         ],
         "type": "box",
         "y": [
          7.19327927118922e-12,
          6.27572039761913e-12,
          5.834249051231175e-12,
          7.011325987163828e-12,
          7.111835385309937e-12
         ]
        },
        {
         "boxpoints": "all",
         "hovertemplate": "Epoch: %{text}<br>STD: %{y: .0f}",
         "line": {
          "width": 1
         },
         "marker": {
          "size": 3
         },
         "name": "MEG2523",
         "opacity": 0.7,
         "pointpos": 0,
         "text": [
          0,
          1,
          2,
          3,
          4
         ],
         "type": "box",
         "y": [
          7.704057489425216e-12,
          4.788748941314019e-12,
          5.394682960068735e-12,
          6.2479608009135766e-12,
          5.836364356095228e-12
         ]
        },
        {
         "boxpoints": "all",
         "hovertemplate": "Epoch: %{text}<br>STD: %{y: .0f}",
         "line": {
          "width": 1
         },
         "marker": {
          "size": 3
         },
         "name": "MEG2532",
         "opacity": 0.7,
         "pointpos": 0,
         "text": [
          0,
          1,
          2,
          3,
          4
         ],
         "type": "box",
         "y": [
          5.577723888628541e-12,
          5.266091792139149e-12,
          5.433668966616715e-12,
          6.1996736891196314e-12,
          4.847128481319022e-12
         ]
        },
        {
         "boxpoints": "all",
         "hovertemplate": "Epoch: %{text}<br>STD: %{y: .0f}",
         "line": {
          "width": 1
         },
         "marker": {
          "size": 3
         },
         "name": "MEG2533",
         "opacity": 0.7,
         "pointpos": 0,
         "text": [
          0,
          1,
          2,
          3,
          4
         ],
         "type": "box",
         "y": [
          8.317150104910748e-12,
          8.178066901814807e-12,
          9.39263983980589e-12,
          9.14409344987119e-12,
          8.248493515379944e-12
         ]
        },
        {
         "boxpoints": "all",
         "hovertemplate": "Epoch: %{text}<br>STD: %{y: .0f}",
         "line": {
          "width": 1
         },
         "marker": {
          "size": 3
         },
         "name": "MEG2542",
         "opacity": 0.7,
         "pointpos": 0,
         "text": [
          0,
          1,
          2,
          3,
          4
         ],
         "type": "box",
         "y": [
          6.143307311772561e-12,
          6.651182657319711e-12,
          6.400655270955716e-12,
          7.518866934992815e-12,
          5.855817732904182e-12
         ]
        },
        {
         "boxpoints": "all",
         "hovertemplate": "Epoch: %{text}<br>STD: %{y: .0f}",
         "line": {
          "width": 1
         },
         "marker": {
          "size": 3
         },
         "name": "MEG2543",
         "opacity": 0.7,
         "pointpos": 0,
         "text": [
          0,
          1,
          2,
          3,
          4
         ],
         "type": "box",
         "y": [
          9.18941865353833e-12,
          8.64727303048035e-12,
          9.031983753186477e-12,
          9.47536116695659e-12,
          9.088517761844086e-12
         ]
        },
        {
         "boxpoints": "all",
         "hovertemplate": "Epoch: %{text}<br>STD: %{y: .0f}",
         "line": {
          "width": 1
         },
         "marker": {
          "size": 3
         },
         "name": "MEG2612",
         "opacity": 0.7,
         "pointpos": 0,
         "text": [
          0,
          1,
          2,
          3,
          4
         ],
         "type": "box",
         "y": [
          6.938908630876101e-12,
          6.8835841096071705e-12,
          6.33190090089056e-12,
          7.973783306772577e-12,
          6.73568300407568e-12
         ]
        },
        {
         "boxpoints": "all",
         "hovertemplate": "Epoch: %{text}<br>STD: %{y: .0f}",
         "line": {
          "width": 1
         },
         "marker": {
          "size": 3
         },
         "name": "MEG2613",
         "opacity": 0.7,
         "pointpos": 0,
         "text": [
          0,
          1,
          2,
          3,
          4
         ],
         "type": "box",
         "y": [
          5.98373970690611e-12,
          5.687883534417672e-12,
          6.1127388000978026e-12,
          5.941007279551669e-12,
          7.772624602594152e-12
         ]
        },
        {
         "boxpoints": "all",
         "hovertemplate": "Epoch: %{text}<br>STD: %{y: .0f}",
         "line": {
          "width": 1
         },
         "marker": {
          "size": 3
         },
         "name": "MEG2622",
         "opacity": 0.7,
         "pointpos": 0,
         "text": [
          0,
          1,
          2,
          3,
          4
         ],
         "type": "box",
         "y": [
          6.77868268294083e-12,
          6.2199455574233125e-12,
          5.768431302334987e-12,
          5.987516910114875e-12,
          6.760256195730822e-12
         ]
        },
        {
         "boxpoints": "all",
         "hovertemplate": "Epoch: %{text}<br>STD: %{y: .0f}",
         "line": {
          "width": 1
         },
         "marker": {
          "size": 3
         },
         "name": "MEG2623",
         "opacity": 0.7,
         "pointpos": 0,
         "text": [
          0,
          1,
          2,
          3,
          4
         ],
         "type": "box",
         "y": [
          6.321378096091267e-12,
          6.903256219377603e-12,
          7.565721034282644e-12,
          8.132104055696101e-12,
          6.453085965683538e-12
         ]
        },
        {
         "boxpoints": "all",
         "hovertemplate": "Epoch: %{text}<br>STD: %{y: .0f}",
         "line": {
          "width": 1
         },
         "marker": {
          "size": 3
         },
         "name": "MEG2632",
         "opacity": 0.7,
         "pointpos": 0,
         "text": [
          0,
          1,
          2,
          3,
          4
         ],
         "type": "box",
         "y": [
          4.88785432038833e-12,
          4.4684908021506095e-12,
          4.3808578237595905e-12,
          4.7592832265722326e-12,
          4.7197488205747635e-12
         ]
        },
        {
         "boxpoints": "all",
         "hovertemplate": "Epoch: %{text}<br>STD: %{y: .0f}",
         "line": {
          "width": 1
         },
         "marker": {
          "size": 3
         },
         "name": "MEG2633",
         "opacity": 0.7,
         "pointpos": 0,
         "text": [
          0,
          1,
          2,
          3,
          4
         ],
         "type": "box",
         "y": [
          7.224347784830663e-12,
          7.824790240507016e-12,
          8.149027111203277e-12,
          8.513329426582427e-12,
          7.188840389370216e-12
         ]
        },
        {
         "boxpoints": "all",
         "hovertemplate": "Epoch: %{text}<br>STD: %{y: .0f}",
         "line": {
          "width": 1
         },
         "marker": {
          "size": 3
         },
         "name": "MEG2642",
         "opacity": 0.7,
         "pointpos": 0,
         "text": [
          0,
          1,
          2,
          3,
          4
         ],
         "type": "box",
         "y": [
          6.595326099790145e-12,
          5.735145440937559e-12,
          4.930615153160093e-12,
          6.80694536864086e-12,
          6.439325544714263e-12
         ]
        },
        {
         "boxpoints": "all",
         "hovertemplate": "Epoch: %{text}<br>STD: %{y: .0f}",
         "line": {
          "width": 1
         },
         "marker": {
          "size": 3
         },
         "name": "MEG2643",
         "opacity": 0.7,
         "pointpos": 0,
         "text": [
          0,
          1,
          2,
          3,
          4
         ],
         "type": "box",
         "y": [
          7.57035445819534e-12,
          5.983567825069418e-12,
          5.59151183862486e-12,
          5.763564948280212e-12,
          5.9405901988464715e-12
         ]
        }
       ],
       "layout": {
        "template": {
         "data": {
          "bar": [
           {
            "error_x": {
             "color": "#2a3f5f"
            },
            "error_y": {
             "color": "#2a3f5f"
            },
            "marker": {
             "line": {
              "color": "#E5ECF6",
              "width": 0.5
             },
             "pattern": {
              "fillmode": "overlay",
              "size": 10,
              "solidity": 0.2
             }
            },
            "type": "bar"
           }
          ],
          "barpolar": [
           {
            "marker": {
             "line": {
              "color": "#E5ECF6",
              "width": 0.5
             },
             "pattern": {
              "fillmode": "overlay",
              "size": 10,
              "solidity": 0.2
             }
            },
            "type": "barpolar"
           }
          ],
          "carpet": [
           {
            "aaxis": {
             "endlinecolor": "#2a3f5f",
             "gridcolor": "white",
             "linecolor": "white",
             "minorgridcolor": "white",
             "startlinecolor": "#2a3f5f"
            },
            "baxis": {
             "endlinecolor": "#2a3f5f",
             "gridcolor": "white",
             "linecolor": "white",
             "minorgridcolor": "white",
             "startlinecolor": "#2a3f5f"
            },
            "type": "carpet"
           }
          ],
          "choropleth": [
           {
            "colorbar": {
             "outlinewidth": 0,
             "ticks": ""
            },
            "type": "choropleth"
           }
          ],
          "contour": [
           {
            "colorbar": {
             "outlinewidth": 0,
             "ticks": ""
            },
            "colorscale": [
             [
              0,
              "#0d0887"
             ],
             [
              0.1111111111111111,
              "#46039f"
             ],
             [
              0.2222222222222222,
              "#7201a8"
             ],
             [
              0.3333333333333333,
              "#9c179e"
             ],
             [
              0.4444444444444444,
              "#bd3786"
             ],
             [
              0.5555555555555556,
              "#d8576b"
             ],
             [
              0.6666666666666666,
              "#ed7953"
             ],
             [
              0.7777777777777778,
              "#fb9f3a"
             ],
             [
              0.8888888888888888,
              "#fdca26"
             ],
             [
              1,
              "#f0f921"
             ]
            ],
            "type": "contour"
           }
          ],
          "contourcarpet": [
           {
            "colorbar": {
             "outlinewidth": 0,
             "ticks": ""
            },
            "type": "contourcarpet"
           }
          ],
          "heatmap": [
           {
            "colorbar": {
             "outlinewidth": 0,
             "ticks": ""
            },
            "colorscale": [
             [
              0,
              "#0d0887"
             ],
             [
              0.1111111111111111,
              "#46039f"
             ],
             [
              0.2222222222222222,
              "#7201a8"
             ],
             [
              0.3333333333333333,
              "#9c179e"
             ],
             [
              0.4444444444444444,
              "#bd3786"
             ],
             [
              0.5555555555555556,
              "#d8576b"
             ],
             [
              0.6666666666666666,
              "#ed7953"
             ],
             [
              0.7777777777777778,
              "#fb9f3a"
             ],
             [
              0.8888888888888888,
              "#fdca26"
             ],
             [
              1,
              "#f0f921"
             ]
            ],
            "type": "heatmap"
           }
          ],
          "heatmapgl": [
           {
            "colorbar": {
             "outlinewidth": 0,
             "ticks": ""
            },
            "colorscale": [
             [
              0,
              "#0d0887"
             ],
             [
              0.1111111111111111,
              "#46039f"
             ],
             [
              0.2222222222222222,
              "#7201a8"
             ],
             [
              0.3333333333333333,
              "#9c179e"
             ],
             [
              0.4444444444444444,
              "#bd3786"
             ],
             [
              0.5555555555555556,
              "#d8576b"
             ],
             [
              0.6666666666666666,
              "#ed7953"
             ],
             [
              0.7777777777777778,
              "#fb9f3a"
             ],
             [
              0.8888888888888888,
              "#fdca26"
             ],
             [
              1,
              "#f0f921"
             ]
            ],
            "type": "heatmapgl"
           }
          ],
          "histogram": [
           {
            "marker": {
             "pattern": {
              "fillmode": "overlay",
              "size": 10,
              "solidity": 0.2
             }
            },
            "type": "histogram"
           }
          ],
          "histogram2d": [
           {
            "colorbar": {
             "outlinewidth": 0,
             "ticks": ""
            },
            "colorscale": [
             [
              0,
              "#0d0887"
             ],
             [
              0.1111111111111111,
              "#46039f"
             ],
             [
              0.2222222222222222,
              "#7201a8"
             ],
             [
              0.3333333333333333,
              "#9c179e"
             ],
             [
              0.4444444444444444,
              "#bd3786"
             ],
             [
              0.5555555555555556,
              "#d8576b"
             ],
             [
              0.6666666666666666,
              "#ed7953"
             ],
             [
              0.7777777777777778,
              "#fb9f3a"
             ],
             [
              0.8888888888888888,
              "#fdca26"
             ],
             [
              1,
              "#f0f921"
             ]
            ],
            "type": "histogram2d"
           }
          ],
          "histogram2dcontour": [
           {
            "colorbar": {
             "outlinewidth": 0,
             "ticks": ""
            },
            "colorscale": [
             [
              0,
              "#0d0887"
             ],
             [
              0.1111111111111111,
              "#46039f"
             ],
             [
              0.2222222222222222,
              "#7201a8"
             ],
             [
              0.3333333333333333,
              "#9c179e"
             ],
             [
              0.4444444444444444,
              "#bd3786"
             ],
             [
              0.5555555555555556,
              "#d8576b"
             ],
             [
              0.6666666666666666,
              "#ed7953"
             ],
             [
              0.7777777777777778,
              "#fb9f3a"
             ],
             [
              0.8888888888888888,
              "#fdca26"
             ],
             [
              1,
              "#f0f921"
             ]
            ],
            "type": "histogram2dcontour"
           }
          ],
          "mesh3d": [
           {
            "colorbar": {
             "outlinewidth": 0,
             "ticks": ""
            },
            "type": "mesh3d"
           }
          ],
          "parcoords": [
           {
            "line": {
             "colorbar": {
              "outlinewidth": 0,
              "ticks": ""
             }
            },
            "type": "parcoords"
           }
          ],
          "pie": [
           {
            "automargin": true,
            "type": "pie"
           }
          ],
          "scatter": [
           {
            "fillpattern": {
             "fillmode": "overlay",
             "size": 10,
             "solidity": 0.2
            },
            "type": "scatter"
           }
          ],
          "scatter3d": [
           {
            "line": {
             "colorbar": {
              "outlinewidth": 0,
              "ticks": ""
             }
            },
            "marker": {
             "colorbar": {
              "outlinewidth": 0,
              "ticks": ""
             }
            },
            "type": "scatter3d"
           }
          ],
          "scattercarpet": [
           {
            "marker": {
             "colorbar": {
              "outlinewidth": 0,
              "ticks": ""
             }
            },
            "type": "scattercarpet"
           }
          ],
          "scattergeo": [
           {
            "marker": {
             "colorbar": {
              "outlinewidth": 0,
              "ticks": ""
             }
            },
            "type": "scattergeo"
           }
          ],
          "scattergl": [
           {
            "marker": {
             "colorbar": {
              "outlinewidth": 0,
              "ticks": ""
             }
            },
            "type": "scattergl"
           }
          ],
          "scattermapbox": [
           {
            "marker": {
             "colorbar": {
              "outlinewidth": 0,
              "ticks": ""
             }
            },
            "type": "scattermapbox"
           }
          ],
          "scatterpolar": [
           {
            "marker": {
             "colorbar": {
              "outlinewidth": 0,
              "ticks": ""
             }
            },
            "type": "scatterpolar"
           }
          ],
          "scatterpolargl": [
           {
            "marker": {
             "colorbar": {
              "outlinewidth": 0,
              "ticks": ""
             }
            },
            "type": "scatterpolargl"
           }
          ],
          "scatterternary": [
           {
            "marker": {
             "colorbar": {
              "outlinewidth": 0,
              "ticks": ""
             }
            },
            "type": "scatterternary"
           }
          ],
          "surface": [
           {
            "colorbar": {
             "outlinewidth": 0,
             "ticks": ""
            },
            "colorscale": [
             [
              0,
              "#0d0887"
             ],
             [
              0.1111111111111111,
              "#46039f"
             ],
             [
              0.2222222222222222,
              "#7201a8"
             ],
             [
              0.3333333333333333,
              "#9c179e"
             ],
             [
              0.4444444444444444,
              "#bd3786"
             ],
             [
              0.5555555555555556,
              "#d8576b"
             ],
             [
              0.6666666666666666,
              "#ed7953"
             ],
             [
              0.7777777777777778,
              "#fb9f3a"
             ],
             [
              0.8888888888888888,
              "#fdca26"
             ],
             [
              1,
              "#f0f921"
             ]
            ],
            "type": "surface"
           }
          ],
          "table": [
           {
            "cells": {
             "fill": {
              "color": "#EBF0F8"
             },
             "line": {
              "color": "white"
             }
            },
            "header": {
             "fill": {
              "color": "#C8D4E3"
             },
             "line": {
              "color": "white"
             }
            },
            "type": "table"
           }
          ]
         },
         "layout": {
          "annotationdefaults": {
           "arrowcolor": "#2a3f5f",
           "arrowhead": 0,
           "arrowwidth": 1
          },
          "autotypenumbers": "strict",
          "coloraxis": {
           "colorbar": {
            "outlinewidth": 0,
            "ticks": ""
           }
          },
          "colorscale": {
           "diverging": [
            [
             0,
             "#8e0152"
            ],
            [
             0.1,
             "#c51b7d"
            ],
            [
             0.2,
             "#de77ae"
            ],
            [
             0.3,
             "#f1b6da"
            ],
            [
             0.4,
             "#fde0ef"
            ],
            [
             0.5,
             "#f7f7f7"
            ],
            [
             0.6,
             "#e6f5d0"
            ],
            [
             0.7,
             "#b8e186"
            ],
            [
             0.8,
             "#7fbc41"
            ],
            [
             0.9,
             "#4d9221"
            ],
            [
             1,
             "#276419"
            ]
           ],
           "sequential": [
            [
             0,
             "#0d0887"
            ],
            [
             0.1111111111111111,
             "#46039f"
            ],
            [
             0.2222222222222222,
             "#7201a8"
            ],
            [
             0.3333333333333333,
             "#9c179e"
            ],
            [
             0.4444444444444444,
             "#bd3786"
            ],
            [
             0.5555555555555556,
             "#d8576b"
            ],
            [
             0.6666666666666666,
             "#ed7953"
            ],
            [
             0.7777777777777778,
             "#fb9f3a"
            ],
            [
             0.8888888888888888,
             "#fdca26"
            ],
            [
             1,
             "#f0f921"
            ]
           ],
           "sequentialminus": [
            [
             0,
             "#0d0887"
            ],
            [
             0.1111111111111111,
             "#46039f"
            ],
            [
             0.2222222222222222,
             "#7201a8"
            ],
            [
             0.3333333333333333,
             "#9c179e"
            ],
            [
             0.4444444444444444,
             "#bd3786"
            ],
            [
             0.5555555555555556,
             "#d8576b"
            ],
            [
             0.6666666666666666,
             "#ed7953"
            ],
            [
             0.7777777777777778,
             "#fb9f3a"
            ],
            [
             0.8888888888888888,
             "#fdca26"
            ],
            [
             1,
             "#f0f921"
            ]
           ]
          },
          "colorway": [
           "#636efa",
           "#EF553B",
           "#00cc96",
           "#ab63fa",
           "#FFA15A",
           "#19d3f3",
           "#FF6692",
           "#B6E880",
           "#FF97FF",
           "#FECB52"
          ],
          "font": {
           "color": "#2a3f5f"
          },
          "geo": {
           "bgcolor": "white",
           "lakecolor": "white",
           "landcolor": "#E5ECF6",
           "showlakes": true,
           "showland": true,
           "subunitcolor": "white"
          },
          "hoverlabel": {
           "align": "left"
          },
          "hovermode": "closest",
          "mapbox": {
           "style": "light"
          },
          "paper_bgcolor": "white",
          "plot_bgcolor": "#E5ECF6",
          "polar": {
           "angularaxis": {
            "gridcolor": "white",
            "linecolor": "white",
            "ticks": ""
           },
           "bgcolor": "#E5ECF6",
           "radialaxis": {
            "gridcolor": "white",
            "linecolor": "white",
            "ticks": ""
           }
          },
          "scene": {
           "xaxis": {
            "backgroundcolor": "#E5ECF6",
            "gridcolor": "white",
            "gridwidth": 2,
            "linecolor": "white",
            "showbackground": true,
            "ticks": "",
            "zerolinecolor": "white"
           },
           "yaxis": {
            "backgroundcolor": "#E5ECF6",
            "gridcolor": "white",
            "gridwidth": 2,
            "linecolor": "white",
            "showbackground": true,
            "ticks": "",
            "zerolinecolor": "white"
           },
           "zaxis": {
            "backgroundcolor": "#E5ECF6",
            "gridcolor": "white",
            "gridwidth": 2,
            "linecolor": "white",
            "showbackground": true,
            "ticks": "",
            "zerolinecolor": "white"
           }
          },
          "shapedefaults": {
           "line": {
            "color": "#2a3f5f"
           }
          },
          "ternary": {
           "aaxis": {
            "gridcolor": "white",
            "linecolor": "white",
            "ticks": ""
           },
           "baxis": {
            "gridcolor": "white",
            "linecolor": "white",
            "ticks": ""
           },
           "bgcolor": "#E5ECF6",
           "caxis": {
            "gridcolor": "white",
            "linecolor": "white",
            "ticks": ""
           }
          },
          "title": {
           "x": 0.05
          },
          "xaxis": {
           "automargin": true,
           "gridcolor": "white",
           "linecolor": "white",
           "ticks": "",
           "title": {
            "standoff": 15
           },
           "zerolinecolor": "white",
           "zerolinewidth": 2
          },
          "yaxis": {
           "automargin": true,
           "gridcolor": "white",
           "linecolor": "white",
           "ticks": "",
           "title": {
            "standoff": 15
           },
           "zerolinecolor": "white",
           "zerolinewidth": 2
          }
         }
        },
        "title": {
         "text": "Standard deviation over epochs for Gradiometers",
         "x": 0.5,
         "xanchor": "center",
         "y": 0.85,
         "yanchor": "top"
        },
        "xaxis": {
         "rangeslider": {
          "visible": true
         },
         "tickmode": "array",
         "ticktext": [
          "MEG0112",
          "MEG0113",
          "MEG0122",
          "MEG0123",
          "MEG0132",
          "MEG0133",
          "MEG0142",
          "MEG0143",
          "MEG0212",
          "MEG0213",
          "MEG0222",
          "MEG0223",
          "MEG0232",
          "MEG0233",
          "MEG0242",
          "MEG0243",
          "MEG0312",
          "MEG0313",
          "MEG0322",
          "MEG0323",
          "MEG0332",
          "MEG0333",
          "MEG0342",
          "MEG0343",
          "MEG0412",
          "MEG0413",
          "MEG0422",
          "MEG0423",
          "MEG0432",
          "MEG0433",
          "MEG0442",
          "MEG0443",
          "MEG0512",
          "MEG0513",
          "MEG0522",
          "MEG0523",
          "MEG0532",
          "MEG0533",
          "MEG0542",
          "MEG0543",
          "MEG0612",
          "MEG0613",
          "MEG0622",
          "MEG0623",
          "MEG0632",
          "MEG0633",
          "MEG0642",
          "MEG0643",
          "MEG0712",
          "MEG0713",
          "MEG0722",
          "MEG0723",
          "MEG0732",
          "MEG0733",
          "MEG0742",
          "MEG0743",
          "MEG0812",
          "MEG0813",
          "MEG0822",
          "MEG0823",
          "MEG0912",
          "MEG0913",
          "MEG0922",
          "MEG0923",
          "MEG0932",
          "MEG0933",
          "MEG0942",
          "MEG0943",
          "MEG1012",
          "MEG1013",
          "MEG1022",
          "MEG1023",
          "MEG1032",
          "MEG1033",
          "MEG1042",
          "MEG1043",
          "MEG1112",
          "MEG1113",
          "MEG1122",
          "MEG1123",
          "MEG1132",
          "MEG1133",
          "MEG1142",
          "MEG1143",
          "MEG1212",
          "MEG1213",
          "MEG1222",
          "MEG1223",
          "MEG1232",
          "MEG1233",
          "MEG1242",
          "MEG1243",
          "MEG1312",
          "MEG1313",
          "MEG1322",
          "MEG1323",
          "MEG1332",
          "MEG1333",
          "MEG1342",
          "MEG1343",
          "MEG1412",
          "MEG1413",
          "MEG1422",
          "MEG1423",
          "MEG1432",
          "MEG1433",
          "MEG1442",
          "MEG1443",
          "MEG1512",
          "MEG1513",
          "MEG1522",
          "MEG1523",
          "MEG1532",
          "MEG1533",
          "MEG1542",
          "MEG1543",
          "MEG1612",
          "MEG1613",
          "MEG1622",
          "MEG1623",
          "MEG1632",
          "MEG1633",
          "MEG1642",
          "MEG1643",
          "MEG1712",
          "MEG1713",
          "MEG1722",
          "MEG1723",
          "MEG1732",
          "MEG1733",
          "MEG1742",
          "MEG1743",
          "MEG1812",
          "MEG1813",
          "MEG1822",
          "MEG1823",
          "MEG1832",
          "MEG1833",
          "MEG1842",
          "MEG1843",
          "MEG1912",
          "MEG1913",
          "MEG1922",
          "MEG1923",
          "MEG1932",
          "MEG1933",
          "MEG1942",
          "MEG1943",
          "MEG2012",
          "MEG2013",
          "MEG2022",
          "MEG2023",
          "MEG2032",
          "MEG2033",
          "MEG2042",
          "MEG2043",
          "MEG2112",
          "MEG2113",
          "MEG2122",
          "MEG2123",
          "MEG2132",
          "MEG2133",
          "MEG2142",
          "MEG2143",
          "MEG2212",
          "MEG2213",
          "MEG2222",
          "MEG2223",
          "MEG2232",
          "MEG2233",
          "MEG2242",
          "MEG2243",
          "MEG2312",
          "MEG2313",
          "MEG2322",
          "MEG2323",
          "MEG2332",
          "MEG2333",
          "MEG2342",
          "MEG2343",
          "MEG2412",
          "MEG2413",
          "MEG2422",
          "MEG2423",
          "MEG2432",
          "MEG2433",
          "MEG2442",
          "MEG2443",
          "MEG2512",
          "MEG2513",
          "MEG2522",
          "MEG2523",
          "MEG2532",
          "MEG2533",
          "MEG2542",
          "MEG2543",
          "MEG2612",
          "MEG2613",
          "MEG2622",
          "MEG2623",
          "MEG2632",
          "MEG2633",
          "MEG2642",
          "MEG2643"
         ],
         "tickvals": [
          0,
          1,
          2,
          3,
          4,
          5,
          6,
          7,
          8,
          9,
          10,
          11,
          12,
          13,
          14,
          15,
          16,
          17,
          18,
          19,
          20,
          21,
          22,
          23,
          24,
          25,
          26,
          27,
          28,
          29,
          30,
          31,
          32,
          33,
          34,
          35,
          36,
          37,
          38,
          39,
          40,
          41,
          42,
          43,
          44,
          45,
          46,
          47,
          48,
          49,
          50,
          51,
          52,
          53,
          54,
          55,
          56,
          57,
          58,
          59,
          60,
          61,
          62,
          63,
          64,
          65,
          66,
          67,
          68,
          69,
          70,
          71,
          72,
          73,
          74,
          75,
          76,
          77,
          78,
          79,
          80,
          81,
          82,
          83,
          84,
          85,
          86,
          87,
          88,
          89,
          90,
          91,
          92,
          93,
          94,
          95,
          96,
          97,
          98,
          99,
          100,
          101,
          102,
          103,
          104,
          105,
          106,
          107,
          108,
          109,
          110,
          111,
          112,
          113,
          114,
          115,
          116,
          117,
          118,
          119,
          120,
          121,
          122,
          123,
          124,
          125,
          126,
          127,
          128,
          129,
          130,
          131,
          132,
          133,
          134,
          135,
          136,
          137,
          138,
          139,
          140,
          141,
          142,
          143,
          144,
          145,
          146,
          147,
          148,
          149,
          150,
          151,
          152,
          153,
          154,
          155,
          156,
          157,
          158,
          159,
          160,
          161,
          162,
          163,
          164,
          165,
          166,
          167,
          168,
          169,
          170,
          171,
          172,
          173,
          174,
          175,
          176,
          177,
          178,
          179,
          180,
          181,
          182,
          183,
          184,
          185,
          186,
          187,
          188,
          189,
          190,
          191,
          192,
          193,
          194,
          195,
          196,
          197,
          198,
          199,
          200,
          201,
          202,
          203
         ]
        },
        "yaxis": {
         "exponentformat": "e",
         "showexponent": "all",
         "title": {
          "text": "Standard deviation in Tesla/meter"
         }
        }
       }
      }
     },
     "metadata": {},
     "output_type": "display_data"
    }
   ],
   "source": [
    "#plot using new universal plotting function:\n",
    "\n",
    "from universal_plots import boxplot_channel_epoch_hovering_plotly\n",
    "\n",
    "fig_std_epoch_m, fig_path_m_std_epoch = boxplot_channel_epoch_hovering_plotly(df_mg=df_std_mags, ch_type='Magnetometers', sid='1', what_data='stds')\n",
    "\n",
    "fig_std_epoch_g, fig_path_g_std_epoch =boxplot_channel_epoch_hovering_plotly(df_mg=df_std_grads, ch_type='Gradiometers', sid='1', what_data='stds')\n",
    "\n",
    "fig_std_epoch_m.show()\n",
    "fig_std_epoch_g.show()"
   ]
  },
  {
   "cell_type": "code",
   "execution_count": 14,
   "metadata": {},
   "outputs": [],
   "source": [
    "from universal_html_report import make_RMSE_html_report\n",
    "\n",
    "list_of_figure_paths=[fig_path_m, fig_path_g, fig_path_m_std_epoch, fig_path_g_std_epoch]\n",
    "make_RMSE_html_report(sid='1', what_data='stds', list_of_figure_paths=list_of_figure_paths)"
   ]
  },
  {
   "cell_type": "markdown",
   "metadata": {},
   "source": [
    "### Heading"
   ]
  }
 ],
 "metadata": {
  "interpreter": {
   "hash": "d401ab1bf6dd7bb97662b0feb1321a641d60d04842bfa92b47f7871360972b5d"
  },
  "kernelspec": {
   "display_name": "Python 3.9.7 ('mne_new')",
   "language": "python",
   "name": "python3"
  },
  "language_info": {
   "codemirror_mode": {
    "name": "ipython",
    "version": 3
   },
   "file_extension": ".py",
   "mimetype": "text/x-python",
   "name": "python",
   "nbconvert_exporter": "python",
   "pygments_lexer": "ipython3",
   "version": "3.9.13"
  },
  "orig_nbformat": 4
 },
 "nbformat": 4,
 "nbformat_minor": 2
}
