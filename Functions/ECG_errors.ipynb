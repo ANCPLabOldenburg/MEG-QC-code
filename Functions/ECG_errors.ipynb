{
 "cells": [
  {
   "cell_type": "code",
   "execution_count": null,
   "metadata": {},
   "outputs": [],
   "source": [
    "import mne\n",
    "\n",
    "#data_file='/Volumes/M2_DATA/MEG_QC_stuff/data/from openneuro/ds003483/sub-009/ses-1/meg/sub-009_ses-1_task-deduction_run-1_meg.fif'\n",
    "#(shows events in both cases pretty accurate on this one)\n",
    "\n",
    "#data_file='/Volumes/M2_DATA/MEG_QC_stuff/data/from lab/ck06an19_vp13/190521/vp13_block1-1.fif'\n",
    "#(also mostly ok, some false positives)\n",
    "\n",
    "#data_file='/Volumes/M2_DATA/MEG_QC_stuff/data/from lab/forrest_gump_meg/en04ns31_vp15/190524/vp15_block1-1.fif'\n",
    "#(mostly ok not all)\n",
    "\n",
    "\n",
    "#data_file='/Volumes/M2_DATA/MEG_QC_stuff/data/from lab/Nilo/sub-01_run-postBase_meg.fif/'\n",
    "#(bad)\n",
    "\n",
    "\n",
    "data_file = '/Volumes/M2_DATA/MEG_QC_stuff/data/from openneuro/ds003703/sub-a68d5xp5/meg/sub-a68d5xp5_task-listeningToSpeech_run-01_meg.fif'\n",
    "#(bad)\n",
    "\n",
    "\n",
    "\n",
    "raw = mne.io.read_raw_fif(data_file)\n",
    "\n",
    "picks_ECG = mne.pick_types(raw.info, ecg=True)\n",
    "ecg_ch=raw.info['chs'][picks_ECG[0]]['ch_name']\n",
    "print(ecg_ch)\n",
    "\n"
   ]
  },
  {
   "cell_type": "code",
   "execution_count": null,
   "metadata": {},
   "outputs": [],
   "source": [
    "import plotly.graph_objects as go\n",
    "import numpy as np\n",
    "\n",
    "raw_cropped = raw.copy()\n",
    "tmin=100 \n",
    "tmax=130\n",
    "duration = tmax-tmin\n",
    "raw_cropped.crop(tmin=tmin, tmax=tmax)\n",
    "\n",
    "ecg_events, ch_ecg, average_pulse, ecg=mne.preprocessing.find_ecg_events(raw_cropped, return_ecg=True, verbose=False)\n",
    "print('Number  of ECG events detected with ECG channel present: ', len(ecg_events))\n",
    "\n",
    "\n",
    "#Plot the found ECG events on one of the channels:\n",
    "mag_ch_names = raw.copy().pick_types(meg='mag').ch_names if 'mag' in raw else None\n",
    "grad_ch_names = raw.copy().pick_types(meg='grad').ch_names if 'grad' in raw else None\n",
    "channels = {'mags': mag_ch_names, 'grads': grad_ch_names}\n",
    "\n",
    "data_mags=raw.get_data(picks = channels['mags'])\n",
    "data_grads=raw.get_data(picks = channels['grads'])\n",
    "\n",
    "one_data_channel = data_mags[10]\n",
    "\n",
    "dt=duration/len(one_data_channel) #take 1 random mag channel, for example 10\n",
    "\n",
    "t=np.arange(tmin, tmax, 1/raw.info['sfreq'])\n",
    "\n",
    "fig = go.Figure()\n",
    "fig.add_trace(go.Scatter(x=t, y=one_data_channel, name='data'));\n",
    "#fig.add_vline(x=ecg_events_times, line_width=1, line_dash=\"dash\", line_color=\"green\")\n",
    "\n",
    "fig.update_layout(\n",
    "    title={\n",
    "    'text': \"ECG events on data of 1 magnetometer\",\n",
    "    'y':0.85,\n",
    "    'x':0.5,\n",
    "    'xanchor': 'center',\n",
    "    'yanchor': 'top'},\n",
    "    xaxis_title=\"Time in sec\",\n",
    "    yaxis = dict(\n",
    "        showexponent = 'all',\n",
    "        exponentformat = 'e'))\n",
    "        \n",
    "ecg_events_times  = (ecg_events[:, 0] - raw.first_samp) / raw.info['sfreq']\n",
    "\n",
    "for ecg_t in ecg_events_times:\n",
    "    fig.add_vline(x=ecg_t, line_width=1, line_color=\"green\")\n",
    "\n",
    "\n"
   ]
  },
  {
   "cell_type": "code",
   "execution_count": null,
   "metadata": {},
   "outputs": [],
   "source": [
    "raw_cropped2 = raw.copy()\n",
    "raw_cropped2.crop(tmin=tmin, tmax=tmax)\n",
    "\n",
    "raw_cropped2.drop_channels(ecg_ch)\n",
    "\n",
    "ecg_events2, ch_ecg2, average_pulse2, ecg=mne.preprocessing.find_ecg_events(raw_cropped2, return_ecg=True, verbose=False)\n",
    "print('Number of ECG events detected - ECG reconstructed: ', len(ecg_events2))\n",
    "\n",
    "ecg_events_times2  = (ecg_events2[:, 0] - raw.first_samp) / raw.info['sfreq']\n",
    "\n",
    "for ecg_t in ecg_events_times2:\n",
    "    fig.add_vline(x=ecg_t, line_width=1, line_color=\"red\", line_dash=\"dash\")\n",
    "\n",
    "fig.show()\n"
   ]
  }
 ],
 "metadata": {
  "kernelspec": {
   "display_name": "Python 3.9.13 ('mne_new')",
   "language": "python",
   "name": "python3"
  },
  "language_info": {
   "codemirror_mode": {
    "name": "ipython",
    "version": 3
   },
   "file_extension": ".py",
   "mimetype": "text/x-python",
   "name": "python",
   "nbconvert_exporter": "python",
   "pygments_lexer": "ipython3",
   "version": "3.9.13"
  },
  "orig_nbformat": 4,
  "vscode": {
   "interpreter": {
    "hash": "d401ab1bf6dd7bb97662b0feb1321a641d60d04842bfa92b47f7871360972b5d"
   }
  }
 },
 "nbformat": 4,
 "nbformat_minor": 2
}
