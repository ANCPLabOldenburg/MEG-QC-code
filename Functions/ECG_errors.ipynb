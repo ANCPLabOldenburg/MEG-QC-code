{
 "cells": [
  {
   "cell_type": "code",
   "execution_count": 23,
   "metadata": {},
   "outputs": [
    {
     "name": "stdout",
     "output_type": "stream",
     "text": [
      "Opening raw data file /Volumes/M2_DATA/MEG_QC_stuff/data/from lab/Nilo/sub-01_run-postBase_meg.fif/...\n",
      "    Read a total of 8 projection items:\n",
      "        magn8_iasoff_68deg.fif : PCA-v1 (1 x 306)  idle\n",
      "        magn8_iasoff_68deg.fif : PCA-v2 (1 x 306)  idle\n",
      "        magn8_iasoff_68deg.fif : PCA-v3 (1 x 306)  idle\n",
      "        magn8_iasoff_68deg.fif : PCA-v4 (1 x 306)  idle\n",
      "        magn8_iasoff_68deg.fif : PCA-v5 (1 x 306)  idle\n",
      "        magn8_iasoff_68deg.fif : PCA-v6 (1 x 306)  idle\n",
      "        magn8_iasoff_68deg.fif : PCA-v7 (1 x 306)  idle\n",
      "        magn8_iasoff_68deg.fif : PCA-v8 (1 x 306)  idle\n",
      "    Range : 8000 ... 255999 =      8.000 ...   255.999 secs\n",
      "Ready.\n",
      "ECG004\n"
     ]
    },
    {
     "name": "stderr",
     "output_type": "stream",
     "text": [
      "/var/folders/h2/khhmb4p510vg63hbv0qkftt80000gs/T/ipykernel_36564/3962936702.py:7: RuntimeWarning: This filename (/Volumes/M2_DATA/MEG_QC_stuff/data/from lab/Nilo/sub-01_run-postBase_meg.fif/) does not conform to MNE naming conventions. All raw files should end with raw.fif, raw_sss.fif, raw_tsss.fif, _meg.fif, _eeg.fif, _ieeg.fif, raw.fif.gz, raw_sss.fif.gz, raw_tsss.fif.gz, _meg.fif.gz, _eeg.fif.gz or _ieeg.fif.gz\n",
      "  raw = mne.io.read_raw_fif(data_file)\n"
     ]
    }
   ],
   "source": [
    "import mne\n",
    "\n",
    "#data_file='/Volumes/M2_DATA/MEG_QC_stuff/data/from openneuro/ds003483/sub-009/ses-1/meg/sub-009_ses-1_task-deduction_run-1_meg.fif'\n",
    "#data_file='/Volumes/M2_DATA/MEG_QC_stuff/data/from lab/ck06an19_vp13/190521/vp13_block1-1.fif'\n",
    "#data_file='/Volumes/M2_DATA/MEG_QC_stuff/data/from lab/forrest_gump_meg/en04ns31_vp15/190524/vp15_block1-1.fif'\n",
    "data_file='/Volumes/M2_DATA/MEG_QC_stuff/data/from lab/Nilo/sub-01_run-postBase_meg.fif/'\n",
    "raw = mne.io.read_raw_fif(data_file)\n",
    "\n",
    "picks_ECG = mne.pick_types(raw.info, ecg=True)\n",
    "ecg_ch=raw.info['chs'][picks_ECG[0]]['ch_name']\n",
    "print(ecg_ch)"
   ]
  },
  {
   "cell_type": "code",
   "execution_count": 25,
   "metadata": {},
   "outputs": [
    {
     "name": "stdout",
     "output_type": "stream",
     "text": [
      "Number  of ECG events detected with ECG channel present:  87\n"
     ]
    }
   ],
   "source": [
    "raw_cropped = raw.copy()\n",
    "raw_cropped.crop(tmin=100, tmax=160)\n",
    "\n",
    "ecg_events, ch_ecg, average_pulse, ecg=mne.preprocessing.find_ecg_events(raw_cropped, return_ecg=True, verbose=False)\n",
    "print('Number  of ECG events detected with ECG channel present: ', len(ecg_events))\n"
   ]
  },
  {
   "cell_type": "code",
   "execution_count": 26,
   "metadata": {},
   "outputs": [
    {
     "name": "stdout",
     "output_type": "stream",
     "text": [
      "Number of ECG events detected - ECG reconstructed:  101\n"
     ]
    }
   ],
   "source": [
    "raw_cropped2 = raw.copy()\n",
    "raw_cropped2.crop(tmin=100, tmax=160)\n",
    "\n",
    "raw_cropped2.drop_channels('ECG004')\n",
    "\n",
    "ecg_events2, ch_ecg2, average_pulse2, ecg=mne.preprocessing.find_ecg_events(raw_cropped2, return_ecg=True, verbose=False)\n",
    "print('Number of ECG events detected - ECG reconstructed: ', len(ecg_events2))"
   ]
  }
 ],
 "metadata": {
  "kernelspec": {
   "display_name": "Python 3.9.13 ('mne_new')",
   "language": "python",
   "name": "python3"
  },
  "language_info": {
   "codemirror_mode": {
    "name": "ipython",
    "version": 3
   },
   "file_extension": ".py",
   "mimetype": "text/x-python",
   "name": "python",
   "nbconvert_exporter": "python",
   "pygments_lexer": "ipython3",
   "version": "3.9.13"
  },
  "orig_nbformat": 4,
  "vscode": {
   "interpreter": {
    "hash": "d401ab1bf6dd7bb97662b0feb1321a641d60d04842bfa92b47f7871360972b5d"
   }
  }
 },
 "nbformat": 4,
 "nbformat_minor": 2
}
