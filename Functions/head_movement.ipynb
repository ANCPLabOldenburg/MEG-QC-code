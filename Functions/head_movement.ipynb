{
 "cells": [
  {
   "cell_type": "code",
   "execution_count": 1,
   "metadata": {},
   "outputs": [],
   "source": [
    "import numpy as np\n",
    "import pandas as pd\n",
    "import matplotlib.pyplot as plt\n",
    "import plotly.graph_objects as go\n",
    "import mne\n",
    "import pyprep as pp\n",
    "import time\n",
    "from mne.preprocessing import annotate_movement, compute_average_dev_head_t"
   ]
  },
  {
   "cell_type": "code",
   "execution_count": 2,
   "metadata": {},
   "outputs": [
    {
     "name": "stdout",
     "output_type": "stream",
     "text": [
      "Opening raw data file /Volumes/M2_DATA/MEG_QC_stuff/data/from openneuro/ds003703/sub-a68d5xp5/meg/sub-a68d5xp5_task-listeningToSpeech_run-01_meg.fif...\n",
      "    Read a total of 8 projection items:\n",
      "        generated with autossp-1.0.1 (1 x 306)  idle\n",
      "        generated with autossp-1.0.1 (1 x 306)  idle\n",
      "        generated with autossp-1.0.1 (1 x 306)  idle\n",
      "        generated with autossp-1.0.1 (1 x 306)  idle\n",
      "        generated with autossp-1.0.1 (1 x 306)  idle\n",
      "        generated with autossp-1.0.1 (1 x 306)  idle\n",
      "        generated with autossp-1.0.1 (1 x 306)  idle\n",
      "        generated with autossp-1.0.1 (1 x 306)  idle\n",
      "    Range : 931000 ... 1953999 =    931.000 ...  1953.999 secs\n",
      "Ready.\n"
     ]
    },
    {
     "data": {
      "text/html": [
       "<table class=\"table table-hover table-striped table-sm table-responsive small\">\n",
       "    <tr>\n",
       "        <th>Measurement date</th>\n",
       "        \n",
       "        <td>December 31, 1924  15:57:12 GMT</td>\n",
       "        \n",
       "    </tr>\n",
       "    <tr>\n",
       "        <th>Experimenter</th>\n",
       "        \n",
       "        <td>mne_anonymize</td>\n",
       "        \n",
       "    </tr>\n",
       "        <th>Participant</th>\n",
       "        \n",
       "            \n",
       "        \n",
       "    </tr>\n",
       "    <tr>\n",
       "        <th>Digitized points</th>\n",
       "        \n",
       "        <td>162 points</td>\n",
       "        \n",
       "    </tr>\n",
       "    <tr>\n",
       "        <th>Good channels</th>\n",
       "        <td>204 Gradiometers, 102 Magnetometers, 2 EOG, 1 ECG, 1 misc, 4 Stimulus</td>\n",
       "    </tr>\n",
       "    <tr>\n",
       "        <th>Bad channels</th>\n",
       "        <td>None</td>\n",
       "    </tr>\n",
       "    <tr>\n",
       "        <th>EOG channels</th>\n",
       "        <td>EOG061, EOG062</td>\n",
       "    </tr>\n",
       "    <tr>\n",
       "        <th>ECG channels</th>\n",
       "        <td>ECG063</td>\n",
       "    \n",
       "    <tr>\n",
       "        <th>Sampling frequency</th>\n",
       "        <td>1000.00 Hz</td>\n",
       "    </tr>\n",
       "    \n",
       "    \n",
       "    <tr>\n",
       "        <th>Highpass</th>\n",
       "        <td>0.10 Hz</td>\n",
       "    </tr>\n",
       "    \n",
       "    \n",
       "    <tr>\n",
       "        <th>Lowpass</th>\n",
       "        <td>330.00 Hz</td>\n",
       "    </tr>\n",
       "    \n",
       "    \n",
       "    <tr>\n",
       "        <th>Projections</th>\n",
       "        <td>generated with autossp-1.0.1 : off<br/>generated with autossp-1.0.1 : off<br/>generated with autossp-1.0.1 : off<br/>generated with autossp-1.0.1 : off<br/>generated with autossp-1.0.1 : off<br/>generated with autossp-1.0.1 : off<br/>generated with autossp-1.0.1 : off<br/>generated with autossp-1.0.1 : off</td>\n",
       "    </tr>\n",
       "    \n",
       "    \n",
       "    <tr>\n",
       "        <th>Filenames</th>\n",
       "        <td>sub-a68d5xp5_task-listeningToSpeech_run-01_meg.fif</td>\n",
       "    </tr>\n",
       "    \n",
       "    <tr>\n",
       "        <th>Duration</th>\n",
       "        <td>00:02:00 (HH:MM:SS)</td>\n",
       "    </tr>\n",
       "</table>"
      ],
      "text/plain": [
       "<Raw | sub-a68d5xp5_task-listeningToSpeech_run-01_meg.fif, 314 x 120001 (120.0 s), ~5.2 MB, data not loaded>"
      ]
     },
     "execution_count": 2,
     "metadata": {},
     "output_type": "execute_result"
    }
   ],
   "source": [
    "#Not working:\n",
    "#data_file = '/Volumes/M2_DATA/MEG_QC_stuff/data/from openneuro/ds003483/sub-009/ses-1/meg/sub-009_ses-1_task-deduction_run-1_meg.fif'\n",
    "#(calculates for 5h to no results - 2nd tutorial)\n",
    "\n",
    "#data_file = '/Volumes/M2_DATA/MEG_QC_stuff/data/from openneuro/ds003352/sub-1/ses-01/meg/sub-1_ses-01_task-ColorSpirals_run-00_meg.fif'\n",
    "#data_file = '/Volumes/M2_DATA/MEG_QC_stuff/data/from openneuro/ds003352/sub-4/ses-02/meg/sub-4_ses-02_task-ColorSpirals_run-01_meg.fif'\n",
    "#data_file = '/Volumes/M2_DATA/MEG_QC_stuff/data/from openneuro/ds003392/sub-01/meg/sub-01_task-localizer_meg.fif'\n",
    "#data_file = '/Volumes/M2_DATA/MEG_QC_stuff/data/from openneuro/ds003645/sub-002/meg/sub-002_task-FacePerception_run-1_meg.fif'\n",
    "#data_file = '/Volumes/M2_DATA/MEG_QC_stuff/data/from openneuro/ds003694/sub-02/meg/sub-02_task-MEM_run-01_meg.fif'\n",
    "#data_file = '/Volumes/M2_DATA/MEG_QC_stuff/data/from openneuro/ds004107/sub-mind002/ses-01/meg/sub-mind002_ses-01_task-auditory_meg.fif'\n",
    "#data_file = '/Volumes/M2_DATA/MEG_QC_stuff/data/from openneuro/ds004276/sub-002/meg/sub-002_task-words_meg.fif'\n",
    "\n",
    "#WORKING fully as Neoromag system:\n",
    "data_file = '/Volumes/M2_DATA/MEG_QC_stuff/data/from openneuro/ds003703/sub-a68d5xp5/meg/sub-a68d5xp5_task-listeningToSpeech_run-01_meg.fif'\n",
    "\n",
    "#WORKING as CTF system (why?):\n",
    "#data_file = '/Volumes/M2_DATA/MEG_QC_stuff/data/from openneuro/ds003682/sub-001/ses-01/meg/sub-001_ses-01_task-AversiveLearningReplay_run-01_meg.fif'\n",
    "\n",
    "raw = mne.io.read_raw_fif(data_file, on_split_missing='ignore')\n",
    "\n",
    "#crop the data to calculate faster\n",
    "raw_cropped = raw.copy()\n",
    "raw_cropped.crop(tmin=0, tmax=120) \n",
    "\n",
    "raw_cropped"
   ]
  },
  {
   "cell_type": "code",
   "execution_count": 3,
   "metadata": {},
   "outputs": [
    {
     "name": "stdout",
     "output_type": "stream",
     "text": [
      "Using matplotlib as 2D backend.\n"
     ]
    }
   ],
   "source": [
    "mne.viz.set_browser_backend('matplotlib')\n",
    "%matplotlib qt\n"
   ]
  },
  {
   "cell_type": "code",
   "execution_count": 4,
   "metadata": {},
   "outputs": [
    {
     "name": "stdout",
     "output_type": "stream",
     "text": [
      "Using 4 HPI coils: 293 307 314 321 Hz\n",
      "cHPI coil frequencies extracted from raw: [293. 307. 314. 321.] Hz\n",
      "Start Computing HPI amplitudes and locations...\n",
      "Using 4 HPI coils: 293 307 314 321 Hz\n",
      "Line interference frequencies: 50 100 150 200 250 300 Hz\n",
      "Using time window: 142.9 ms\n",
      "Fitting 4 HPI coil locations at up to 11993 time points (120.0 sec duration)\n"
     ]
    },
    {
     "data": {
      "application/vnd.jupyter.widget-view+json": {
       "model_id": "6ca6fe75e3074ed9a838c3d930108e36",
       "version_major": 2,
       "version_minor": 0
      },
      "text/plain": [
       "  0%|          | cHPI amplitudes : 0/11993 [00:00<?,       ?it/s]"
      ]
     },
     "metadata": {},
     "output_type": "display_data"
    },
    {
     "name": "stdout",
     "output_type": "stream",
     "text": [
      "Computing 4385 HPI location guesses (1 cm grid in a 10.7 cm sphere)\n",
      "HPIFIT: 4 coils digitized in order 3 4 1 2\n",
      "HPI consistency of isotrak and hpifit is OK.\n"
     ]
    },
    {
     "data": {
      "application/vnd.jupyter.widget-view+json": {
       "model_id": "638f6a3798744ba4888eef7ffcc0a65d",
       "version_major": 2,
       "version_minor": 0
      },
      "text/plain": [
       "  0%|          | cHPI locations  : 0/11993 [00:00<?,       ?it/s]"
      ]
     },
     "metadata": {},
     "output_type": "display_data"
    },
    {
     "name": "stdout",
     "output_type": "stream",
     "text": [
      "Finished. --- Execution 59.3368980884552 seconds ---\n",
      "Start computing head positions...\n",
      "    t=931.000:   3/4 good HPI fits, movements [mm/s] =      0.0 /      0.0 /      0.0 /      0.0\n",
      "    t=932.000:   3/4 good HPI fits, movements [mm/s] =      0.1 /      0.2 /      0.1 /      0.1\n",
      "    t=933.000:   3/4 good HPI fits, movements [mm/s] =      0.1 /      0.1 /      0.1 /      0.1\n",
      "    t=934.000:   3/4 good HPI fits, movements [mm/s] =      0.0 /      0.1 /      0.1 /      0.1\n",
      "    t=935.000:   3/4 good HPI fits, movements [mm/s] =      0.1 /      0.0 /      0.1 /      0.1\n",
      "    t=936.000:   3/4 good HPI fits, movements [mm/s] =      0.1 /      0.1 /      0.1 /      0.1\n",
      "    t=937.000:   3/4 good HPI fits, movements [mm/s] =      0.1 /      0.1 /      0.1 /      0.1\n",
      "    t=938.000:   3/4 good HPI fits, movements [mm/s] =      0.0 /      0.0 /      0.0 /      0.0\n",
      "    t=939.000:   3/4 good HPI fits, movements [mm/s] =      0.1 /      0.2 /      0.1 /      0.1\n",
      "    t=940.000:   3/4 good HPI fits, movements [mm/s] =      0.1 /      0.1 /      0.1 /      0.1\n",
      "    t=941.000:   3/4 good HPI fits, movements [mm/s] =      0.0 /      0.1 /      0.0 /      0.0\n",
      "    t=942.000:   3/4 good HPI fits, movements [mm/s] =      0.0 /      0.1 /      0.0 /      0.0\n",
      "    t=943.000:   3/4 good HPI fits, movements [mm/s] =      0.2 /      0.1 /      0.1 /      0.3\n",
      "    t=944.000:   3/4 good HPI fits, movements [mm/s] =      0.4 /      0.4 /      0.3 /      0.9\n",
      "    t=945.000:   3/4 good HPI fits, movements [mm/s] =      0.6 /      0.2 /      0.4 /      0.6\n",
      "    t=946.000:   3/4 good HPI fits, movements [mm/s] =      0.1 /      0.1 /      0.2 /      0.2\n",
      "    t=947.000:   3/4 good HPI fits, movements [mm/s] =      1.6 /      1.1 /      1.7 /      0.8\n",
      "    t=948.000:   3/4 good HPI fits, movements [mm/s] =      0.4 /      0.5 /      0.2 /      0.3\n",
      "    t=949.000:   3/4 good HPI fits, movements [mm/s] =      0.2 /      0.1 /      0.4 /      0.3\n",
      "    t=950.000:   3/4 good HPI fits, movements [mm/s] =      0.1 /      0.0 /      0.2 /      0.1\n",
      "    t=951.000:   3/4 good HPI fits, movements [mm/s] =      0.1 /      0.1 /      0.1 /      0.1\n",
      "    t=952.000:   3/4 good HPI fits, movements [mm/s] =      0.1 /      0.2 /      0.1 /      0.1\n",
      "    t=953.000:   3/4 good HPI fits, movements [mm/s] =      0.1 /      0.1 /      0.1 /      0.1\n",
      "    t=954.000:   3/4 good HPI fits, movements [mm/s] =      0.1 /      0.0 /      0.0 /      0.1\n",
      "    t=955.000:   3/4 good HPI fits, movements [mm/s] =      0.1 /      0.1 /      0.1 /      0.1\n",
      "    t=956.000:   3/4 good HPI fits, movements [mm/s] =      0.1 /      0.1 /      0.1 /      0.1\n",
      "    t=957.000:   3/4 good HPI fits, movements [mm/s] =      0.1 /      0.1 /      0.0 /      0.1\n",
      "    t=958.000:   3/4 good HPI fits, movements [mm/s] =      0.1 /      0.1 /      0.0 /      0.0\n",
      "    t=959.000:   3/4 good HPI fits, movements [mm/s] =      0.1 /      0.2 /      0.2 /      0.1\n",
      "    t=960.000:   3/4 good HPI fits, movements [mm/s] =      0.1 /      0.1 /      0.0 /      0.0\n",
      "    t=961.000:   3/4 good HPI fits, movements [mm/s] =      0.1 /      0.0 /      0.1 /      0.1\n",
      "    t=962.000:   3/4 good HPI fits, movements [mm/s] =      0.1 /      0.1 /      0.1 /      0.1\n",
      "    t=963.000:   3/4 good HPI fits, movements [mm/s] =      2.4 /      2.2 /      2.0 /      2.2\n",
      "    t=964.000:   3/4 good HPI fits, movements [mm/s] =      1.4 /      1.0 /      1.2 /      1.1\n",
      "    t=965.000:   3/4 good HPI fits, movements [mm/s] =      0.3 /      0.3 /      0.3 /      0.3\n",
      "    t=966.000:   3/4 good HPI fits, movements [mm/s] =      0.1 /      0.1 /      0.1 /      0.0\n",
      "    t=967.000:   3/4 good HPI fits, movements [mm/s] =      0.2 /      0.1 /      0.2 /      0.1\n",
      "    t=968.000:   3/4 good HPI fits, movements [mm/s] =      0.2 /      0.1 /      0.2 /      0.1\n",
      "    t=969.000:   3/4 good HPI fits, movements [mm/s] =      0.2 /      0.2 /      0.2 /      0.1\n",
      "    t=970.000:   3/4 good HPI fits, movements [mm/s] =      0.0 /      0.1 /      0.0 /      0.1\n",
      "    t=971.000:   3/4 good HPI fits, movements [mm/s] =      0.1 /      0.1 /      0.0 /      0.1\n",
      "    t=972.000:   3/4 good HPI fits, movements [mm/s] =      0.1 /      0.1 /      0.1 /      0.1\n",
      "    t=973.000:   3/4 good HPI fits, movements [mm/s] =      0.0 /      0.0 /      0.0 /      0.0\n",
      "    t=974.000:   3/4 good HPI fits, movements [mm/s] =      0.0 /      0.0 /      0.1 /      0.0\n",
      "    t=975.000:   3/4 good HPI fits, movements [mm/s] =      0.1 /      0.1 /      0.1 /      0.0\n",
      "    t=976.000:   3/4 good HPI fits, movements [mm/s] =      0.0 /      0.0 /      0.1 /      0.0\n",
      "    t=977.000:   3/4 good HPI fits, movements [mm/s] =      0.0 /      0.0 /      0.1 /      0.0\n",
      "    t=978.000:   3/4 good HPI fits, movements [mm/s] =      0.1 /      0.1 /      0.1 /      0.1\n",
      "    t=979.000:   3/4 good HPI fits, movements [mm/s] =      0.0 /      0.0 /      0.0 /      0.0\n",
      "    t=980.000:   3/4 good HPI fits, movements [mm/s] =      0.0 /      0.0 /      0.0 /      0.0\n",
      "    t=981.000:   3/4 good HPI fits, movements [mm/s] =      0.1 /      0.1 /      0.1 /      0.0\n",
      "    t=982.000:   3/4 good HPI fits, movements [mm/s] =      0.0 /      0.0 /      0.1 /      0.1\n",
      "    t=983.000:   3/4 good HPI fits, movements [mm/s] =      0.1 /      0.0 /      0.1 /      0.0\n",
      "    t=984.000:   3/4 good HPI fits, movements [mm/s] =      0.1 /      0.1 /      0.2 /      0.1\n",
      "    t=985.000:   3/4 good HPI fits, movements [mm/s] =      0.1 /      0.1 /      0.1 /      0.0\n",
      "    t=986.000:   3/4 good HPI fits, movements [mm/s] =      0.1 /      0.0 /      0.1 /      0.0\n",
      "    t=987.000:   3/4 good HPI fits, movements [mm/s] =      0.2 /      0.2 /      0.1 /      0.1\n",
      "    t=988.000:   3/4 good HPI fits, movements [mm/s] =      0.1 /      0.1 /      0.1 /      0.0\n",
      "    t=989.000:   3/4 good HPI fits, movements [mm/s] =      0.1 /      0.0 /      0.0 /      0.0\n",
      "    t=990.000:   3/4 good HPI fits, movements [mm/s] =      0.1 /      0.2 /      0.1 /      0.1\n",
      "    t=991.000:   3/4 good HPI fits, movements [mm/s] =      0.1 /      0.2 /      0.1 /      0.1\n",
      "    t=992.000:   3/4 good HPI fits, movements [mm/s] =      0.0 /      0.1 /      0.0 /      0.0\n",
      "    t=993.000:   3/4 good HPI fits, movements [mm/s] =      0.1 /      0.2 /      0.1 /      0.0\n",
      "    t=994.000:   3/4 good HPI fits, movements [mm/s] =      0.1 /      0.1 /      0.1 /      0.0\n",
      "    t=995.000:   3/4 good HPI fits, movements [mm/s] =      0.0 /      0.0 /      0.0 /      0.0\n",
      "    t=996.000:   3/4 good HPI fits, movements [mm/s] =      0.1 /      0.1 /      0.1 /      0.0\n",
      "    t=997.000:   3/4 good HPI fits, movements [mm/s] =      0.1 /      0.1 /      0.1 /      0.0\n",
      "    t=998.000:   3/4 good HPI fits, movements [mm/s] =      0.0 /      0.1 /      0.0 /      0.0\n",
      "    t=999.000:   3/4 good HPI fits, movements [mm/s] =      0.1 /      0.2 /      0.2 /      0.1\n",
      "    t=1000.000:  3/4 good HPI fits, movements [mm/s] =      0.2 /      0.2 /      0.1 /      0.0\n",
      "    t=1001.000:  3/4 good HPI fits, movements [mm/s] =      0.1 /      0.1 /      0.1 /      0.1\n",
      "    t=1002.000:  3/4 good HPI fits, movements [mm/s] =      0.1 /      0.1 /      0.1 /      0.0\n",
      "    t=1003.000:  3/4 good HPI fits, movements [mm/s] =      0.1 /      0.1 /      0.1 /      0.1\n",
      "    t=1004.000:  3/4 good HPI fits, movements [mm/s] =      0.0 /      0.1 /      0.1 /      0.0\n",
      "    t=1005.000:  3/4 good HPI fits, movements [mm/s] =      0.3 /      0.1 /      0.1 /      0.1\n",
      "    t=1006.000:  3/4 good HPI fits, movements [mm/s] =      0.1 /      0.2 /      0.1 /      0.0\n",
      "    t=1007.000:  3/4 good HPI fits, movements [mm/s] =      0.1 /      0.1 /      0.1 /      0.0\n",
      "    t=1008.000:  3/4 good HPI fits, movements [mm/s] =      0.0 /      0.1 /      0.0 /      0.0\n",
      "    t=1009.000:  3/4 good HPI fits, movements [mm/s] =      0.1 /      0.1 /      0.1 /      0.0\n",
      "    t=1010.000:  3/4 good HPI fits, movements [mm/s] =      0.1 /      0.1 /      0.1 /      0.0\n",
      "    t=1011.000:  3/4 good HPI fits, movements [mm/s] =      0.1 /      0.1 /      0.1 /      0.0\n",
      "    t=1012.000:  3/4 good HPI fits, movements [mm/s] =      0.1 /      0.1 /      0.1 /      0.0\n",
      "    t=1013.000:  3/4 good HPI fits, movements [mm/s] =      0.0 /      0.1 /      0.1 /      0.1\n",
      "    t=1014.000:  3/4 good HPI fits, movements [mm/s] =      0.0 /      0.1 /      0.0 /      0.0\n",
      "    t=1015.000:  3/4 good HPI fits, movements [mm/s] =      0.1 /      0.1 /      0.1 /      0.0\n",
      "    t=1016.000:  3/4 good HPI fits, movements [mm/s] =      0.0 /      0.0 /      0.0 /      0.0\n",
      "    t=1017.000:  3/4 good HPI fits, movements [mm/s] =      0.0 /      0.1 /      0.0 /      0.0\n",
      "    t=1018.000:  3/4 good HPI fits, movements [mm/s] =      0.1 /      0.1 /      0.1 /      0.0\n",
      "    t=1019.000:  3/4 good HPI fits, movements [mm/s] =      0.1 /      0.1 /      0.1 /      0.1\n",
      "    t=1020.000:  3/4 good HPI fits, movements [mm/s] =      0.0 /      0.0 /      0.1 /      0.0\n",
      "    t=1021.000:  3/4 good HPI fits, movements [mm/s] =      0.1 /      0.1 /      0.1 /      0.0\n",
      "    t=1022.000:  3/4 good HPI fits, movements [mm/s] =      0.1 /      0.1 /      0.2 /      0.1\n",
      "    t=1023.000:  3/4 good HPI fits, movements [mm/s] =      0.0 /      0.1 /      0.0 /      0.0\n",
      "    t=1024.000:  3/4 good HPI fits, movements [mm/s] =      0.1 /      0.2 /      0.2 /      0.1\n",
      "    t=1025.000:  3/4 good HPI fits, movements [mm/s] =      0.1 /      0.1 /      0.1 /      0.0\n",
      "    t=1026.000:  3/4 good HPI fits, movements [mm/s] =      0.1 /      0.0 /      0.0 /      0.0\n",
      "    t=1027.000:  3/4 good HPI fits, movements [mm/s] =      0.1 /      0.2 /      0.1 /      0.1\n",
      "    t=1028.000:  3/4 good HPI fits, movements [mm/s] =      0.1 /      0.1 /      0.0 /      0.0\n",
      "    t=1029.000:  3/4 good HPI fits, movements [mm/s] =      0.1 /      0.1 /      0.0 /      0.0\n",
      "    t=1030.000:  3/4 good HPI fits, movements [mm/s] =      0.0 /      0.1 /      0.1 /      0.0\n",
      "    t=1031.000:  3/4 good HPI fits, movements [mm/s] =      0.0 /      0.1 /      0.0 /      0.1\n",
      "    t=1032.000:  3/4 good HPI fits, movements [mm/s] =      0.1 /      0.1 /      0.1 /      0.0\n",
      "    t=1033.000:  3/4 good HPI fits, movements [mm/s] =      0.1 /      0.1 /      0.1 /      0.1\n",
      "    t=1034.000:  3/4 good HPI fits, movements [mm/s] =      0.0 /      0.1 /      0.0 /      0.0\n",
      "    t=1035.000:  3/4 good HPI fits, movements [mm/s] =      0.1 /      0.1 /      0.1 /      0.0\n",
      "    t=1036.000:  3/4 good HPI fits, movements [mm/s] =      0.1 /      0.1 /      0.1 /      0.0\n",
      "    t=1037.000:  3/4 good HPI fits, movements [mm/s] =      0.0 /      0.1 /      0.1 /      0.0\n",
      "    t=1038.000:  3/4 good HPI fits, movements [mm/s] =      0.1 /      0.1 /      0.1 /      0.0\n",
      "    t=1039.000:  3/4 good HPI fits, movements [mm/s] =      0.1 /      0.2 /      0.1 /      0.1\n",
      "    t=1040.000:  3/4 good HPI fits, movements [mm/s] =      0.1 /      0.1 /      0.0 /      0.0\n",
      "    t=1041.000:  3/4 good HPI fits, movements [mm/s] =      0.3 /      0.0 /      0.4 /      0.0\n",
      "    t=1042.000:  3/4 good HPI fits, movements [mm/s] =      0.1 /      0.1 /      0.1 /      0.1\n",
      "    t=1043.000:  3/4 good HPI fits, movements [mm/s] =      0.1 /      0.1 /      0.0 /      0.0\n",
      "    t=1044.000:  3/4 good HPI fits, movements [mm/s] =      0.1 /      0.1 /      0.0 /      0.0\n",
      "    t=1045.000:  3/4 good HPI fits, movements [mm/s] =      0.2 /      0.0 /      0.1 /      0.0\n",
      "    t=1046.000:  3/4 good HPI fits, movements [mm/s] =      0.1 /      0.1 /      0.1 /      0.0\n",
      "    t=1047.000:  3/4 good HPI fits, movements [mm/s] =      0.1 /      0.1 /      0.1 /      0.0\n",
      "    t=1048.000:  3/4 good HPI fits, movements [mm/s] =      0.0 /      0.0 /      0.1 /      0.0\n",
      "    t=1049.000:  3/4 good HPI fits, movements [mm/s] =      0.1 /      0.2 /      0.1 /      0.0\n",
      "    t=1050.000:  3/4 good HPI fits, movements [mm/s] =      0.1 /      0.1 /      0.0 /      0.0\n",
      "Finished. --- Execution 0.4265890121459961 seconds ---\n",
      "Omitting   9.2% (  2 segments): disp >= 0.0015m (max: 0.0020m)\n",
      "Std of head positions in mm:  0.059255475546109194\n",
      "Max movement (x, y, z) in mm:  [1.1123940363479135, 0.3195870695861733, 0.5344832323361526]\n",
      "Max rotation (q1, q2, q3) in quat:  (0.01413930964026014, 0.00758112435891475, 0.01529877947051779)\n"
     ]
    },
    {
     "name": "stdout",
     "output_type": "stream",
     "text": [
      "Channels marked as bad:\n",
      "none\n"
     ]
    }
   ],
   "source": [
    "from Head_meg_qc import HEAD_movement_meg_qc\n",
    "\n",
    "head_derivs, simple_metrics_head, head_not_calculated = HEAD_movement_meg_qc(raw_cropped, extra_visual=True)\n",
    "\n"
   ]
  },
  {
   "cell_type": "code",
   "execution_count": null,
   "metadata": {},
   "outputs": [],
   "source": [
    "head_derivs[1].content.show()"
   ]
  },
  {
   "cell_type": "code",
   "execution_count": null,
   "metadata": {},
   "outputs": [],
   "source": []
  },
  {
   "cell_type": "code",
   "execution_count": null,
   "metadata": {},
   "outputs": [],
   "source": [
    "# 1. Main part:\n",
    "\n",
    "\n",
    "\n",
    "# Get cHPI time series and compute average\n",
    "#for CTF use:\n",
    "#chpi_locs = mne.chpi.extract_chpi_locs_ctf(raw)\n",
    "\n",
    "#for KIT use:\n",
    "#chpi_locs = mne.chpi.extract_chpi_locs_kit(raw)\n"
   ]
  },
  {
   "cell_type": "code",
   "execution_count": null,
   "metadata": {},
   "outputs": [],
   "source": [
    "\n",
    "#for Neuromag use (3 steps):\n",
    "chpi_freqs, ch_idx, chpi_codes = mne.chpi.get_chpi_info(info=raw_cropped.info)\n",
    "#We can use mne.chpi.get_chpi_info to retrieve the coil frequencies, \n",
    "# the index of the channel indicating when which coil was switched on, \n",
    "# and the respective “event codes” associated with each coil’s activity.\n",
    "# Output:\n",
    "# - The frequency used for each individual cHPI coil.\n",
    "# - The index of the STIM channel containing information about when which cHPI coils were switched on.\n",
    "# - The values coding for the “on” state of each individual cHPI coil.\n",
    "\n",
    "print(f'cHPI coil frequencies extracted from raw: {chpi_freqs} Hz')\n",
    "\n",
    "\n",
    "#Estimating continuous head position\n",
    "print('Start Computing HPI amplitudes and locations...')\n",
    "start_time = time.time()\n",
    "chpi_amplitudes = mne.chpi.compute_chpi_amplitudes(raw_cropped)\n",
    "chpi_locs = mne.chpi.compute_chpi_locs(raw_cropped.info, chpi_amplitudes)\n",
    "print(\"Finished. --- Execution %s seconds ---\" % (time.time() - start_time))\n",
    "\n"
   ]
  },
  {
   "cell_type": "code",
   "execution_count": null,
   "metadata": {},
   "outputs": [],
   "source": [
    "\n",
    "# Next steps - for all systems:\n",
    "print('Start computing head positions...')\n",
    "start_time = time.time()\n",
    "head_pos = mne.chpi.compute_head_pos(raw_cropped.info, chpi_locs)\n",
    "print(\"Finished. --- Execution %s seconds ---\" % (time.time() - start_time))\n",
    "\n",
    "mne.viz.plot_head_positions(head_pos, mode='traces')\n"
   ]
  },
  {
   "cell_type": "code",
   "execution_count": null,
   "metadata": {},
   "outputs": [],
   "source": [
    "#2. Extra visual:\n",
    "\n",
    "original_head_dev_t = mne.transforms.invert_transform(\n",
    "    raw.info['dev_head_t'])\n",
    "average_head_dev_t = mne.transforms.invert_transform(\n",
    "    compute_average_dev_head_t(raw, head_pos))\n",
    "fig1 = mne.viz.plot_head_positions(head_pos)\n",
    "for ax, val, val_ori in zip(fig1.axes[::2], average_head_dev_t['trans'][:3, 3],\n",
    "                            original_head_dev_t['trans'][:3, 3]):\n",
    "    print('val:', val, 'val_ori:', val_ori)\n",
    "    ax.axhline(1000 * val, color='r')\n",
    "    ax.axhline(1000 * val_ori, color='g')\n",
    "\n",
    "# The green horizontal lines represent the original head position, whereas the\n",
    "# red lines are the new head position averaged over all the time points.\n",
    "\n",
    "\n",
    "# 3. Plot raw data with annotated head movement:\n",
    "mean_distance_limit = 0.0015  # in meters\n",
    "annotation_movement, hpi_disp = annotate_movement(\n",
    "    raw, head_pos, mean_distance_limit=mean_distance_limit)\n",
    "raw.set_annotations(annotation_movement)\n",
    "raw.plot(n_channels=100, duration=20)"
   ]
  },
  {
   "cell_type": "code",
   "execution_count": null,
   "metadata": {},
   "outputs": [],
   "source": [
    "fig1.show()"
   ]
  },
  {
   "cell_type": "code",
   "execution_count": null,
   "metadata": {},
   "outputs": [],
   "source": [
    "# Annotate movement - like in tutorial 2 from:\n",
    "# https://mne.tools/stable/generated/mne.preprocessing.annotate_movement.html\n",
    "\n",
    "from mne.preprocessing import annotate_movement, compute_average_dev_head_t\n",
    "\n",
    "# Get cHPI time series and compute average\n",
    "chpi_locs = mne.chpi.extract_chpi_locs_ctf(raw)\n",
    "head_pos = mne.chpi.compute_head_pos(raw.info, chpi_locs)\n",
    "original_head_dev_t = mne.transforms.invert_transform(\n",
    "    raw.info['dev_head_t'])\n",
    "average_head_dev_t = mne.transforms.invert_transform(\n",
    "    compute_average_dev_head_t(raw, head_pos))\n",
    "fig = mne.viz.plot_head_positions(head_pos)\n",
    "for ax, val, val_ori in zip(fig.axes[::2], average_head_dev_t['trans'][:3, 3],\n",
    "                            original_head_dev_t['trans'][:3, 3]):\n",
    "    ax.axhline(1000 * val, color='r')\n",
    "    ax.axhline(1000 * val_ori, color='g')\n",
    "\n",
    "# The green horizontal lines represent the original head position, whereas the\n",
    "# red lines are the new head position averaged over all the time points.\n",
    "\n",
    "mean_distance_limit = 0.0015  # in meters\n",
    "annotation_movement, hpi_disp = annotate_movement(\n",
    "    raw, head_pos, mean_distance_limit=mean_distance_limit)\n",
    "raw.set_annotations(annotation_movement)\n",
    "raw.plot(n_channels=100, duration=20)"
   ]
  },
  {
   "cell_type": "code",
   "execution_count": null,
   "metadata": {},
   "outputs": [],
   "source": [
    "# try another tutorial: \n",
    "# (takes some minutes depends how big is raw_cropped: 2-40 min):\n",
    "# https://mne.tools/stable/auto_tutorials/preprocessing/59_head_positions.html#sphx-glr-auto-tutorials-preprocessing-59-head-positions-py\n",
    "\n",
    "# cHPI - continuous head position indicator (HPI) coil channels, data in teslas\n",
    "\n",
    "# 'We can use mne.chpi.get_chpi_info to retrieve the coil frequencies, the index of \n",
    "# the channel indicating when which coil was switched on, and the respective “event codes” \n",
    "# associated with each coil’s activity.'\n",
    "chpi_freqs, ch_idx, chpi_codes = mne.chpi.get_chpi_info(info=raw_cropped.info, on_missing='warn', verbose=None)\n",
    "# Output:\n",
    "# - The frequency used for each individual cHPI coil.\n",
    "# - The index of the STIM channel containing information about when which cHPI coils were switched on.\n",
    "# - The values coding for the “on” state of each individual cHPI coil.\n",
    "\n",
    "# The values coding for the “on” state of each individual cHPI coil.\n",
    "print(f'cHPI coil frequencies extracted from raw: {chpi_freqs} Hz')\n",
    "\n",
    "#We only got 5, not 9 HPI (see error in cell above)\n",
    "\n",
    "\n",
    "#extract the HPI coil amplitudes as a function of time:\n",
    "print('Extract the HPI coil amplitudes as a function of time:')\n",
    "chpi_amplitudes=mne.chpi.compute_chpi_amplitudes(raw_cropped)\n",
    "#chpi_amplitudes=mne.chpi.compute_chpi_amplitudes(raw_cropped, t_step_min=0.01, t_window='auto', ext_order=1, tmin=0, tmax=None, verbose=None)\n",
    "\n",
    "\n",
    "#compute time-varying HPI coil locations from these\n",
    "print('Compute time-varying HPI coil locations from these')\n",
    "#chpi_locs=mne.chpi.compute_chpi_locs(raw_cropped.info, chpi_amplitudes, t_step_max=1.0, too_close='raise', adjust_dig=False, verbose=None)\n",
    "chpi_locs=mne.chpi.compute_chpi_locs(raw_cropped.info, chpi_amplitudes)\n",
    "\n",
    "\n",
    "print('Compute head positions from the coil locations:')\n",
    "#compute head positions from the coil locations:\n",
    "head_pos = mne.chpi.compute_head_pos(raw_cropped.info, chpi_locs, verbose=True)\n",
    "print('head_positions computed:', head_pos)"
   ]
  }
 ],
 "metadata": {
  "kernelspec": {
   "display_name": "Python 3.9.13 ('mne_new')",
   "language": "python",
   "name": "python3"
  },
  "language_info": {
   "codemirror_mode": {
    "name": "ipython",
    "version": 3
   },
   "file_extension": ".py",
   "mimetype": "text/x-python",
   "name": "python",
   "nbconvert_exporter": "python",
   "pygments_lexer": "ipython3",
   "version": "3.9.13"
  },
  "orig_nbformat": 4,
  "vscode": {
   "interpreter": {
    "hash": "d401ab1bf6dd7bb97662b0feb1321a641d60d04842bfa92b47f7871360972b5d"
   }
  }
 },
 "nbformat": 4,
 "nbformat_minor": 2
}
