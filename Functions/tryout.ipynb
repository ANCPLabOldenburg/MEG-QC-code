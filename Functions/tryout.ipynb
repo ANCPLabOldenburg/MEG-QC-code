{
 "cells": [
  {
   "cell_type": "code",
   "execution_count": 1,
   "metadata": {},
   "outputs": [],
   "source": [
    "# This notebook checks MNE functions for ECG and EOG detection\n",
    "# Cropped data is used here (5 minutes only), tried on whole data - takes forever.\n",
    "\n",
    "\n",
    "#Load data, make folders\n",
    "import numpy as np\n",
    "import matplotlib.pyplot as plt\n",
    "import plotly.graph_objects as go\n",
    "import mne\n",
    "from mne.time_frequency import tfr_morlet, psd_multitaper, psd_welch\n",
    "import configparser\n",
    "import ancpbids\n",
    "\n",
    "from main_meg_qc import make_derivative_meg_qc, sanity_check, initial_stuff\n",
    "from RMSE_meq_qc import RMSE_meg_qc\n",
    "from PSD_meg_qc import PSD_meg_qc\n",
    "from Peaks_auto_meg_qc import PP_auto_meg_qc\n"
   ]
  },
  {
   "cell_type": "code",
   "execution_count": 2,
   "metadata": {},
   "outputs": [
    {
     "name": "stdout",
     "output_type": "stream",
     "text": [
      "Opening raw data file /Volumes/M2_DATA/MEG_QC_stuff/data/from openneuro/ds003483/sub-009/ses-1/meg/sub-009_ses-1_task-deduction_run-1_meg.fif...\n",
      "    Range : 60000 ... 1255999 =     60.000 ...  1255.999 secs\n",
      "Ready.\n",
      "Stimulus channels detected: ['STI101', 'STI201', 'STI301']\n",
      "9 events found\n",
      "Event IDs: [2 4 8]\n",
      "Trigger channel has a non-zero initial value of 3840 (consider using initial_event=True to detect this event)\n",
      "Not setting metadata\n",
      "9 matching events found\n",
      "No baseline correction applied\n",
      "0 projection items activated\n",
      "Loading data for 9 events and 1201 original time points ...\n",
      "0 bad epochs dropped\n",
      "Not setting metadata\n",
      "9 matching events found\n",
      "No baseline correction applied\n",
      "0 projection items activated\n",
      "Loading data for 9 events and 1201 original time points ...\n",
      "0 bad epochs dropped\n"
     ]
    },
    {
     "data": {
      "application/vnd.plotly.v1+json": {
       "config": {
        "plotlyServerURL": "https://plot.ly"
       },
       "data": [
        {
         "boxpoints": "all",
         "hovertemplate": "%{text}<br>STD: %{x: .0f}",
         "line": {
          "width": 1
         },
         "marker": {
          "size": 5
         },
         "name": "",
         "opacity": 0.7,
         "pointpos": 0,
         "text": [
          "MEG0111",
          "MEG0121",
          "MEG0131",
          "MEG0141",
          "MEG0211",
          "MEG0221",
          "MEG0231",
          "MEG0241",
          "MEG0311",
          "MEG0321",
          "MEG0331",
          "MEG0341",
          "MEG0411",
          "MEG0421",
          "MEG0431",
          "MEG0441",
          "MEG0511",
          "MEG0521",
          "MEG0531",
          "MEG0541",
          "MEG0611",
          "MEG0621",
          "MEG0631",
          "MEG0641",
          "MEG0711",
          "MEG0721",
          "MEG0731",
          "MEG0741",
          "MEG0811",
          "MEG0821",
          "MEG0911",
          "MEG0921",
          "MEG0931",
          "MEG0941",
          "MEG1011",
          "MEG1021",
          "MEG1031",
          "MEG1041",
          "MEG1111",
          "MEG1121",
          "MEG1131",
          "MEG1141",
          "MEG1211",
          "MEG1221",
          "MEG1231",
          "MEG1241",
          "MEG1311",
          "MEG1321",
          "MEG1331",
          "MEG1341",
          "MEG1411",
          "MEG1421",
          "MEG1431",
          "MEG1441",
          "MEG1511",
          "MEG1521",
          "MEG1531",
          "MEG1541",
          "MEG1611",
          "MEG1621",
          "MEG1631",
          "MEG1641",
          "MEG1711",
          "MEG1721",
          "MEG1731",
          "MEG1741",
          "MEG1811",
          "MEG1821",
          "MEG1831",
          "MEG1841",
          "MEG1911",
          "MEG1921",
          "MEG1931",
          "MEG1941",
          "MEG2011",
          "MEG2021",
          "MEG2031",
          "MEG2041",
          "MEG2111",
          "MEG2121",
          "MEG2131",
          "MEG2141",
          "MEG2211",
          "MEG2221",
          "MEG2231",
          "MEG2241",
          "MEG2311",
          "MEG2321",
          "MEG2331",
          "MEG2341",
          "MEG2411",
          "MEG2421",
          "MEG2431",
          "MEG2441",
          "MEG2511",
          "MEG2521",
          "MEG2531",
          "MEG2541",
          "MEG2611",
          "MEG2621",
          "MEG2631",
          "MEG2641"
         ],
         "type": "box",
         "x": [
          4.309834089401291e-13,
          4.944263752960114e-13,
          4.1975541018422735e-13,
          3.8042089561764323e-13,
          4.4243451558944375e-13,
          4.3726585502635183e-13,
          4.604447193240237e-13,
          4.1707070273109765e-13,
          3.927261181869031e-13,
          3.888487851846967e-13,
          3.58569200418367e-13,
          4.409207887893124e-13,
          4.224402897734842e-13,
          3.722583344041157e-13,
          4.502834813776787e-13,
          4.666464852995373e-13,
          3.3077902436620206e-13,
          2.9719553803266765e-13,
          2.9390182030130866e-13,
          3.2186716811035806e-13,
          3.099414440163844e-13,
          2.986945961864848e-13,
          3.4293264883014094e-13,
          3.2341973057331193e-13,
          4.3390737932800477e-13,
          4.537607381291708e-13,
          4.674637535146826e-13,
          4.4599980315821325e-13,
          2.856934027498257e-13,
          2.854792350957009e-13,
          3.228886873442785e-13,
          3.586937375209746e-13,
          3.4187336293816703e-13,
          3.0755841629976254e-13,
          2.990513914467447e-13,
          3.0920909140105973e-13,
          3.13033247303996e-13,
          3.427579795969492e-13,
          3.716875059428203e-13,
          4.2702658923604803e-13,
          4.5353604868419803e-13,
          4.5396796218953027e-13,
          4.251621312047058e-13,
          4.662669747101533e-13,
          4.1086741939367997e-13,
          3.7057040645966614e-13,
          4.585073590553745e-13,
          4.803453998289484e-13,
          4.3796828305529687e-13,
          4.853803293222036e-13,
          5.20408284519509e-13,
          4.1208820125525e-13,
          3.6896768875887874e-13,
          4.589068818871421e-13,
          3.775539556417995e-13,
          3.6321088214237847e-13,
          4.023280586272599e-13,
          3.5940315184730364e-13,
          4.0824704441863064e-13,
          4.540239780991241e-13,
          4.645527968509023e-13,
          4.1189723382659845e-13,
          4.072778950775562e-13,
          3.795120340964404e-13,
          3.442913153640307e-13,
          3.4410558067119794e-13,
          4.764373498648048e-13,
          4.603873595734637e-13,
          4.4774540449779656e-13,
          4.640414362178369e-13,
          4.580850403234976e-13,
          3.9380294609838563e-13,
          3.102835358739995e-13,
          4.068631387785372e-13,
          4.4901107290095133e-13,
          4.837498203453903e-13,
          4.948574576500683e-13,
          4.558516001352476e-13,
          4.234206729985576e-13,
          3.7374445796285874e-13,
          3.326281119632503e-13,
          3.1147124641095804e-13,
          4.4982182217606253e-13,
          4.633851473037627e-13,
          4.546677210751233e-13,
          4.53008947253943e-13,
          4.808286722999593e-13,
          4.121228927532702e-13,
          3.693268038641976e-13,
          4.344167227088366e-13,
          4.720589518591984e-13,
          4.066666440218798e-13,
          4.054862837174938e-13,
          4.628925226401722e-13,
          3.41475748131944e-13,
          3.5562620364827645e-13,
          3.281156197996881e-13,
          3.380905802691033e-13,
          3.9427244655880697e-13,
          3.4530404098006355e-13,
          3.338975043076959e-13,
          3.706181987577263e-13
         ]
        }
       ],
       "layout": {
        "template": {
         "data": {
          "bar": [
           {
            "error_x": {
             "color": "#2a3f5f"
            },
            "error_y": {
             "color": "#2a3f5f"
            },
            "marker": {
             "line": {
              "color": "#E5ECF6",
              "width": 0.5
             },
             "pattern": {
              "fillmode": "overlay",
              "size": 10,
              "solidity": 0.2
             }
            },
            "type": "bar"
           }
          ],
          "barpolar": [
           {
            "marker": {
             "line": {
              "color": "#E5ECF6",
              "width": 0.5
             },
             "pattern": {
              "fillmode": "overlay",
              "size": 10,
              "solidity": 0.2
             }
            },
            "type": "barpolar"
           }
          ],
          "carpet": [
           {
            "aaxis": {
             "endlinecolor": "#2a3f5f",
             "gridcolor": "white",
             "linecolor": "white",
             "minorgridcolor": "white",
             "startlinecolor": "#2a3f5f"
            },
            "baxis": {
             "endlinecolor": "#2a3f5f",
             "gridcolor": "white",
             "linecolor": "white",
             "minorgridcolor": "white",
             "startlinecolor": "#2a3f5f"
            },
            "type": "carpet"
           }
          ],
          "choropleth": [
           {
            "colorbar": {
             "outlinewidth": 0,
             "ticks": ""
            },
            "type": "choropleth"
           }
          ],
          "contour": [
           {
            "colorbar": {
             "outlinewidth": 0,
             "ticks": ""
            },
            "colorscale": [
             [
              0,
              "#0d0887"
             ],
             [
              0.1111111111111111,
              "#46039f"
             ],
             [
              0.2222222222222222,
              "#7201a8"
             ],
             [
              0.3333333333333333,
              "#9c179e"
             ],
             [
              0.4444444444444444,
              "#bd3786"
             ],
             [
              0.5555555555555556,
              "#d8576b"
             ],
             [
              0.6666666666666666,
              "#ed7953"
             ],
             [
              0.7777777777777778,
              "#fb9f3a"
             ],
             [
              0.8888888888888888,
              "#fdca26"
             ],
             [
              1,
              "#f0f921"
             ]
            ],
            "type": "contour"
           }
          ],
          "contourcarpet": [
           {
            "colorbar": {
             "outlinewidth": 0,
             "ticks": ""
            },
            "type": "contourcarpet"
           }
          ],
          "heatmap": [
           {
            "colorbar": {
             "outlinewidth": 0,
             "ticks": ""
            },
            "colorscale": [
             [
              0,
              "#0d0887"
             ],
             [
              0.1111111111111111,
              "#46039f"
             ],
             [
              0.2222222222222222,
              "#7201a8"
             ],
             [
              0.3333333333333333,
              "#9c179e"
             ],
             [
              0.4444444444444444,
              "#bd3786"
             ],
             [
              0.5555555555555556,
              "#d8576b"
             ],
             [
              0.6666666666666666,
              "#ed7953"
             ],
             [
              0.7777777777777778,
              "#fb9f3a"
             ],
             [
              0.8888888888888888,
              "#fdca26"
             ],
             [
              1,
              "#f0f921"
             ]
            ],
            "type": "heatmap"
           }
          ],
          "heatmapgl": [
           {
            "colorbar": {
             "outlinewidth": 0,
             "ticks": ""
            },
            "colorscale": [
             [
              0,
              "#0d0887"
             ],
             [
              0.1111111111111111,
              "#46039f"
             ],
             [
              0.2222222222222222,
              "#7201a8"
             ],
             [
              0.3333333333333333,
              "#9c179e"
             ],
             [
              0.4444444444444444,
              "#bd3786"
             ],
             [
              0.5555555555555556,
              "#d8576b"
             ],
             [
              0.6666666666666666,
              "#ed7953"
             ],
             [
              0.7777777777777778,
              "#fb9f3a"
             ],
             [
              0.8888888888888888,
              "#fdca26"
             ],
             [
              1,
              "#f0f921"
             ]
            ],
            "type": "heatmapgl"
           }
          ],
          "histogram": [
           {
            "marker": {
             "pattern": {
              "fillmode": "overlay",
              "size": 10,
              "solidity": 0.2
             }
            },
            "type": "histogram"
           }
          ],
          "histogram2d": [
           {
            "colorbar": {
             "outlinewidth": 0,
             "ticks": ""
            },
            "colorscale": [
             [
              0,
              "#0d0887"
             ],
             [
              0.1111111111111111,
              "#46039f"
             ],
             [
              0.2222222222222222,
              "#7201a8"
             ],
             [
              0.3333333333333333,
              "#9c179e"
             ],
             [
              0.4444444444444444,
              "#bd3786"
             ],
             [
              0.5555555555555556,
              "#d8576b"
             ],
             [
              0.6666666666666666,
              "#ed7953"
             ],
             [
              0.7777777777777778,
              "#fb9f3a"
             ],
             [
              0.8888888888888888,
              "#fdca26"
             ],
             [
              1,
              "#f0f921"
             ]
            ],
            "type": "histogram2d"
           }
          ],
          "histogram2dcontour": [
           {
            "colorbar": {
             "outlinewidth": 0,
             "ticks": ""
            },
            "colorscale": [
             [
              0,
              "#0d0887"
             ],
             [
              0.1111111111111111,
              "#46039f"
             ],
             [
              0.2222222222222222,
              "#7201a8"
             ],
             [
              0.3333333333333333,
              "#9c179e"
             ],
             [
              0.4444444444444444,
              "#bd3786"
             ],
             [
              0.5555555555555556,
              "#d8576b"
             ],
             [
              0.6666666666666666,
              "#ed7953"
             ],
             [
              0.7777777777777778,
              "#fb9f3a"
             ],
             [
              0.8888888888888888,
              "#fdca26"
             ],
             [
              1,
              "#f0f921"
             ]
            ],
            "type": "histogram2dcontour"
           }
          ],
          "mesh3d": [
           {
            "colorbar": {
             "outlinewidth": 0,
             "ticks": ""
            },
            "type": "mesh3d"
           }
          ],
          "parcoords": [
           {
            "line": {
             "colorbar": {
              "outlinewidth": 0,
              "ticks": ""
             }
            },
            "type": "parcoords"
           }
          ],
          "pie": [
           {
            "automargin": true,
            "type": "pie"
           }
          ],
          "scatter": [
           {
            "fillpattern": {
             "fillmode": "overlay",
             "size": 10,
             "solidity": 0.2
            },
            "type": "scatter"
           }
          ],
          "scatter3d": [
           {
            "line": {
             "colorbar": {
              "outlinewidth": 0,
              "ticks": ""
             }
            },
            "marker": {
             "colorbar": {
              "outlinewidth": 0,
              "ticks": ""
             }
            },
            "type": "scatter3d"
           }
          ],
          "scattercarpet": [
           {
            "marker": {
             "colorbar": {
              "outlinewidth": 0,
              "ticks": ""
             }
            },
            "type": "scattercarpet"
           }
          ],
          "scattergeo": [
           {
            "marker": {
             "colorbar": {
              "outlinewidth": 0,
              "ticks": ""
             }
            },
            "type": "scattergeo"
           }
          ],
          "scattergl": [
           {
            "marker": {
             "colorbar": {
              "outlinewidth": 0,
              "ticks": ""
             }
            },
            "type": "scattergl"
           }
          ],
          "scattermapbox": [
           {
            "marker": {
             "colorbar": {
              "outlinewidth": 0,
              "ticks": ""
             }
            },
            "type": "scattermapbox"
           }
          ],
          "scatterpolar": [
           {
            "marker": {
             "colorbar": {
              "outlinewidth": 0,
              "ticks": ""
             }
            },
            "type": "scatterpolar"
           }
          ],
          "scatterpolargl": [
           {
            "marker": {
             "colorbar": {
              "outlinewidth": 0,
              "ticks": ""
             }
            },
            "type": "scatterpolargl"
           }
          ],
          "scatterternary": [
           {
            "marker": {
             "colorbar": {
              "outlinewidth": 0,
              "ticks": ""
             }
            },
            "type": "scatterternary"
           }
          ],
          "surface": [
           {
            "colorbar": {
             "outlinewidth": 0,
             "ticks": ""
            },
            "colorscale": [
             [
              0,
              "#0d0887"
             ],
             [
              0.1111111111111111,
              "#46039f"
             ],
             [
              0.2222222222222222,
              "#7201a8"
             ],
             [
              0.3333333333333333,
              "#9c179e"
             ],
             [
              0.4444444444444444,
              "#bd3786"
             ],
             [
              0.5555555555555556,
              "#d8576b"
             ],
             [
              0.6666666666666666,
              "#ed7953"
             ],
             [
              0.7777777777777778,
              "#fb9f3a"
             ],
             [
              0.8888888888888888,
              "#fdca26"
             ],
             [
              1,
              "#f0f921"
             ]
            ],
            "type": "surface"
           }
          ],
          "table": [
           {
            "cells": {
             "fill": {
              "color": "#EBF0F8"
             },
             "line": {
              "color": "white"
             }
            },
            "header": {
             "fill": {
              "color": "#C8D4E3"
             },
             "line": {
              "color": "white"
             }
            },
            "type": "table"
           }
          ]
         },
         "layout": {
          "annotationdefaults": {
           "arrowcolor": "#2a3f5f",
           "arrowhead": 0,
           "arrowwidth": 1
          },
          "autotypenumbers": "strict",
          "coloraxis": {
           "colorbar": {
            "outlinewidth": 0,
            "ticks": ""
           }
          },
          "colorscale": {
           "diverging": [
            [
             0,
             "#8e0152"
            ],
            [
             0.1,
             "#c51b7d"
            ],
            [
             0.2,
             "#de77ae"
            ],
            [
             0.3,
             "#f1b6da"
            ],
            [
             0.4,
             "#fde0ef"
            ],
            [
             0.5,
             "#f7f7f7"
            ],
            [
             0.6,
             "#e6f5d0"
            ],
            [
             0.7,
             "#b8e186"
            ],
            [
             0.8,
             "#7fbc41"
            ],
            [
             0.9,
             "#4d9221"
            ],
            [
             1,
             "#276419"
            ]
           ],
           "sequential": [
            [
             0,
             "#0d0887"
            ],
            [
             0.1111111111111111,
             "#46039f"
            ],
            [
             0.2222222222222222,
             "#7201a8"
            ],
            [
             0.3333333333333333,
             "#9c179e"
            ],
            [
             0.4444444444444444,
             "#bd3786"
            ],
            [
             0.5555555555555556,
             "#d8576b"
            ],
            [
             0.6666666666666666,
             "#ed7953"
            ],
            [
             0.7777777777777778,
             "#fb9f3a"
            ],
            [
             0.8888888888888888,
             "#fdca26"
            ],
            [
             1,
             "#f0f921"
            ]
           ],
           "sequentialminus": [
            [
             0,
             "#0d0887"
            ],
            [
             0.1111111111111111,
             "#46039f"
            ],
            [
             0.2222222222222222,
             "#7201a8"
            ],
            [
             0.3333333333333333,
             "#9c179e"
            ],
            [
             0.4444444444444444,
             "#bd3786"
            ],
            [
             0.5555555555555556,
             "#d8576b"
            ],
            [
             0.6666666666666666,
             "#ed7953"
            ],
            [
             0.7777777777777778,
             "#fb9f3a"
            ],
            [
             0.8888888888888888,
             "#fdca26"
            ],
            [
             1,
             "#f0f921"
            ]
           ]
          },
          "colorway": [
           "#636efa",
           "#EF553B",
           "#00cc96",
           "#ab63fa",
           "#FFA15A",
           "#19d3f3",
           "#FF6692",
           "#B6E880",
           "#FF97FF",
           "#FECB52"
          ],
          "font": {
           "color": "#2a3f5f"
          },
          "geo": {
           "bgcolor": "white",
           "lakecolor": "white",
           "landcolor": "#E5ECF6",
           "showlakes": true,
           "showland": true,
           "subunitcolor": "white"
          },
          "hoverlabel": {
           "align": "left"
          },
          "hovermode": "closest",
          "mapbox": {
           "style": "light"
          },
          "paper_bgcolor": "white",
          "plot_bgcolor": "#E5ECF6",
          "polar": {
           "angularaxis": {
            "gridcolor": "white",
            "linecolor": "white",
            "ticks": ""
           },
           "bgcolor": "#E5ECF6",
           "radialaxis": {
            "gridcolor": "white",
            "linecolor": "white",
            "ticks": ""
           }
          },
          "scene": {
           "xaxis": {
            "backgroundcolor": "#E5ECF6",
            "gridcolor": "white",
            "gridwidth": 2,
            "linecolor": "white",
            "showbackground": true,
            "ticks": "",
            "zerolinecolor": "white"
           },
           "yaxis": {
            "backgroundcolor": "#E5ECF6",
            "gridcolor": "white",
            "gridwidth": 2,
            "linecolor": "white",
            "showbackground": true,
            "ticks": "",
            "zerolinecolor": "white"
           },
           "zaxis": {
            "backgroundcolor": "#E5ECF6",
            "gridcolor": "white",
            "gridwidth": 2,
            "linecolor": "white",
            "showbackground": true,
            "ticks": "",
            "zerolinecolor": "white"
           }
          },
          "shapedefaults": {
           "line": {
            "color": "#2a3f5f"
           }
          },
          "ternary": {
           "aaxis": {
            "gridcolor": "white",
            "linecolor": "white",
            "ticks": ""
           },
           "baxis": {
            "gridcolor": "white",
            "linecolor": "white",
            "ticks": ""
           },
           "bgcolor": "#E5ECF6",
           "caxis": {
            "gridcolor": "white",
            "linecolor": "white",
            "ticks": ""
           }
          },
          "title": {
           "x": 0.05
          },
          "xaxis": {
           "automargin": true,
           "gridcolor": "white",
           "linecolor": "white",
           "ticks": "",
           "title": {
            "standoff": 15
           },
           "zerolinecolor": "white",
           "zerolinewidth": 2
          },
          "yaxis": {
           "automargin": true,
           "gridcolor": "white",
           "linecolor": "white",
           "ticks": "",
           "title": {
            "standoff": 15
           },
           "zerolinecolor": "white",
           "zerolinewidth": 2
          }
         }
        },
        "title": {
         "text": "Standard deviation of the data for Magnetometers over the entire time series",
         "x": 0.5,
         "xanchor": "center",
         "y": 0.85,
         "yanchor": "top"
        },
        "xaxis": {
         "exponentformat": "e",
         "showexponent": "all",
         "title": {
          "text": "Standard deviation in Tesla"
         }
        },
        "yaxis": {
         "showticklabels": false,
         "visible": false
        }
       }
      }
     },
     "metadata": {},
     "output_type": "display_data"
    },
    {
     "data": {
      "application/vnd.plotly.v1+json": {
       "config": {
        "plotlyServerURL": "https://plot.ly"
       },
       "data": [
        {
         "boxpoints": "all",
         "hovertemplate": "%{text}<br>STD: %{x: .0f}",
         "line": {
          "width": 1
         },
         "marker": {
          "size": 5
         },
         "name": "",
         "opacity": 0.7,
         "pointpos": 0,
         "text": [
          "MEG0113",
          "MEG0112",
          "MEG0122",
          "MEG0123",
          "MEG0132",
          "MEG0133",
          "MEG0143",
          "MEG0142",
          "MEG0213",
          "MEG0212",
          "MEG0222",
          "MEG0223",
          "MEG0232",
          "MEG0233",
          "MEG0243",
          "MEG0242",
          "MEG0313",
          "MEG0312",
          "MEG0322",
          "MEG0323",
          "MEG0333",
          "MEG0332",
          "MEG0343",
          "MEG0342",
          "MEG0413",
          "MEG0412",
          "MEG0422",
          "MEG0423",
          "MEG0432",
          "MEG0433",
          "MEG0443",
          "MEG0442",
          "MEG0513",
          "MEG0512",
          "MEG0523",
          "MEG0522",
          "MEG0532",
          "MEG0533",
          "MEG0542",
          "MEG0543",
          "MEG0613",
          "MEG0612",
          "MEG0622",
          "MEG0623",
          "MEG0633",
          "MEG0632",
          "MEG0642",
          "MEG0643",
          "MEG0713",
          "MEG0712",
          "MEG0723",
          "MEG0722",
          "MEG0733",
          "MEG0732",
          "MEG0743",
          "MEG0742",
          "MEG0813",
          "MEG0812",
          "MEG0822",
          "MEG0823",
          "MEG0913",
          "MEG0912",
          "MEG0923",
          "MEG0922",
          "MEG0932",
          "MEG0933",
          "MEG0942",
          "MEG0943",
          "MEG1013",
          "MEG1012",
          "MEG1023",
          "MEG1022",
          "MEG1032",
          "MEG1033",
          "MEG1043",
          "MEG1042",
          "MEG1112",
          "MEG1113",
          "MEG1123",
          "MEG1122",
          "MEG1133",
          "MEG1132",
          "MEG1142",
          "MEG1143",
          "MEG1213",
          "MEG1212",
          "MEG1223",
          "MEG1222",
          "MEG1232",
          "MEG1233",
          "MEG1243",
          "MEG1242",
          "MEG1312",
          "MEG1313",
          "MEG1323",
          "MEG1322",
          "MEG1333",
          "MEG1332",
          "MEG1342",
          "MEG1343",
          "MEG1412",
          "MEG1413",
          "MEG1423",
          "MEG1422",
          "MEG1433",
          "MEG1432",
          "MEG1442",
          "MEG1443",
          "MEG1512",
          "MEG1513",
          "MEG1522",
          "MEG1523",
          "MEG1533",
          "MEG1532",
          "MEG1543",
          "MEG1542",
          "MEG1613",
          "MEG1612",
          "MEG1622",
          "MEG1623",
          "MEG1632",
          "MEG1633",
          "MEG1643",
          "MEG1642",
          "MEG1713",
          "MEG1712",
          "MEG1722",
          "MEG1723",
          "MEG1732",
          "MEG1733",
          "MEG1743",
          "MEG1742",
          "MEG1813",
          "MEG1812",
          "MEG1822",
          "MEG1823",
          "MEG1832",
          "MEG1833",
          "MEG1843",
          "MEG1842",
          "MEG1912",
          "MEG1913",
          "MEG1923",
          "MEG1922",
          "MEG1932",
          "MEG1933",
          "MEG1943",
          "MEG1942",
          "MEG2013",
          "MEG2012",
          "MEG2023",
          "MEG2022",
          "MEG2032",
          "MEG2033",
          "MEG2042",
          "MEG2043",
          "MEG2113",
          "MEG2112",
          "MEG2122",
          "MEG2123",
          "MEG2133",
          "MEG2132",
          "MEG2143",
          "MEG2142",
          "MEG2212",
          "MEG2213",
          "MEG2223",
          "MEG2222",
          "MEG2233",
          "MEG2232",
          "MEG2242",
          "MEG2243",
          "MEG2312",
          "MEG2313",
          "MEG2323",
          "MEG2322",
          "MEG2332",
          "MEG2333",
          "MEG2343",
          "MEG2342",
          "MEG2412",
          "MEG2413",
          "MEG2423",
          "MEG2422",
          "MEG2433",
          "MEG2432",
          "MEG2442",
          "MEG2443",
          "MEG2512",
          "MEG2513",
          "MEG2522",
          "MEG2523",
          "MEG2533",
          "MEG2532",
          "MEG2543",
          "MEG2542",
          "MEG2612",
          "MEG2613",
          "MEG2623",
          "MEG2622",
          "MEG2633",
          "MEG2632",
          "MEG2642",
          "MEG2643"
         ],
         "type": "box",
         "x": [
          7.90246615387265e-12,
          8.052047927767922e-12,
          8.401757304021482e-12,
          8.277045535268595e-12,
          8.104086885313457e-12,
          8.393324820759446e-12,
          6.949824336685318e-12,
          6.910614697018761e-12,
          8.138871986802479e-12,
          8.449695676494208e-12,
          8.904516285071443e-12,
          8.877625741399623e-12,
          1.0045118798143771e-11,
          1.0079088708710685e-11,
          9.196960317781762e-12,
          9.413948802226771e-12,
          7.958551658654133e-12,
          7.438649020195393e-12,
          7.60736851285078e-12,
          7.173354950234645e-12,
          6.627801398107509e-12,
          7.065386445676423e-12,
          8.099658467489708e-12,
          7.28275492945232e-12,
          8.889294510408494e-12,
          9.232002040078111e-12,
          9.499216896590925e-12,
          9.651303691124273e-12,
          1.1431178597730475e-11,
          1.0114302037991245e-11,
          1.0930410034460985e-11,
          1.0729712194072828e-11,
          7.213747547537501e-12,
          6.823534931009576e-12,
          7.262640533211881e-12,
          7.1963392284049476e-12,
          5.804060638103616e-12,
          6.2315999719288426e-12,
          6.338076090316231e-12,
          6.2415965103727164e-12,
          5.452305438685487e-12,
          6.059222823435629e-12,
          7.249088596380125e-12,
          7.52831566835076e-12,
          8.927370581352716e-12,
          8.024512540408528e-12,
          6.954370895533039e-12,
          6.938773557069358e-12,
          1.0072786812269171e-11,
          8.666506957689342e-12,
          9.604399104691708e-12,
          8.746050195336525e-12,
          9.773141716470851e-12,
          9.772669164294678e-12,
          9.399291631466958e-12,
          1.0817663040914671e-11,
          7.887742227994598e-12,
          7.352693053650495e-12,
          5.874080354882038e-12,
          6.9269605492741915e-12,
          8.828542970929063e-12,
          6.59583534252637e-12,
          8.817122954349582e-12,
          6.520139418303902e-12,
          6.940251494910263e-12,
          6.253918721927185e-12,
          6.051148790042904e-12,
          5.937668723237295e-12,
          5.536417838279404e-12,
          6.954370885318449e-12,
          5.544062709545525e-12,
          6.158203644858175e-12,
          7.139332174101614e-12,
          7.219058983564922e-12,
          8.940876976763945e-12,
          8.093586101831877e-12,
          9.458759736421448e-12,
          9.446617127812978e-12,
          9.408930554345139e-12,
          8.50614817934246e-12,
          1.2264695025716078e-11,
          1.144055936297714e-11,
          1.165610192153995e-11,
          1.0602355461412474e-11,
          9.017341983662306e-12,
          7.586243902238736e-12,
          9.113078363861564e-12,
          7.700159499787445e-12,
          8.566942110069612e-12,
          7.378976120250058e-12,
          7.174742783810244e-12,
          6.918037083411954e-12,
          9.600009484718063e-12,
          8.580886209929297e-12,
          8.48246518605534e-12,
          8.421863479054349e-12,
          9.877875986909724e-12,
          9.949794623529845e-12,
          1.0014928879829247e-11,
          1.0551878096496357e-11,
          9.604602261057195e-12,
          8.060506663037529e-12,
          9.09203724061316e-12,
          6.876424694608238e-12,
          6.873530295637711e-12,
          6.166393851101785e-12,
          8.219827818472159e-12,
          7.995083569265164e-12,
          7.180796440668494e-12,
          7.725954375204918e-12,
          7.486692346730263e-12,
          6.913226406062983e-12,
          6.706031751568737e-12,
          7.2085944063171636e-12,
          6.354262784853502e-12,
          7.0905348051589114e-12,
          9.060805623434935e-12,
          8.080485660293292e-12,
          9.898934823912281e-12,
          9.267138313830574e-12,
          9.794870415829576e-12,
          9.134965918737131e-12,
          9.333115840571164e-12,
          8.383482161467179e-12,
          7.128046226933014e-12,
          6.898961550178653e-12,
          9.078135530736005e-12,
          7.017174003949601e-12,
          8.702362795887263e-12,
          8.411421384699113e-12,
          6.219930275946351e-12,
          9.206053527260746e-12,
          1.0099971954235434e-11,
          1.015532661226935e-11,
          1.074472024293464e-11,
          1.0168413804406316e-11,
          9.881088015806494e-12,
          1.1400753366399141e-11,
          9.129623969939674e-12,
          9.301092195353158e-12,
          1.0314462339339303e-11,
          1.0586132409017838e-11,
          9.24323451820109e-12,
          1.1724230920516046e-11,
          7.762887281150515e-12,
          1.1463424212873177e-11,
          9.733645817032272e-12,
          8.99075962588564e-12,
          1.0472566333463933e-11,
          1.2784065062951643e-11,
          1.0310694889763417e-11,
          1.0696716443880045e-11,
          1.0299732600298099e-11,
          1.1210781373016177e-11,
          1.0698756951430527e-11,
          1.3429533519423834e-11,
          9.2071249789992e-12,
          1.0353255078405803e-11,
          7.643205496786506e-12,
          7.947382022596075e-12,
          6.525874738954778e-12,
          6.971717255818609e-12,
          6.318760017922426e-12,
          8.878493195100587e-12,
          1.1367096045086603e-11,
          1.1391569867792195e-11,
          1.1250285934019475e-11,
          1.1167456324690574e-11,
          1.0025317170168786e-11,
          9.428025997702166e-12,
          1.1365856084781535e-11,
          1.0448639109297705e-11,
          9.370019273862959e-12,
          8.865544438346514e-12,
          8.869721614972365e-12,
          7.643010530735718e-12,
          8.387452005934721e-12,
          7.894713802295997e-12,
          9.195177942823224e-12,
          9.065343621434598e-12,
          9.498158446502706e-12,
          1.077053371070316e-11,
          9.62542400368081e-12,
          9.093996931989683e-12,
          9.22961086835721e-12,
          8.318291162325094e-12,
          9.110095975283619e-12,
          9.42751148325316e-12,
          7.508466510581928e-12,
          6.587971314787499e-12,
          6.957565573670449e-12,
          6.62846680166365e-12,
          5.2521139877688464e-12,
          5.275695065821572e-12,
          5.5794319153320714e-12,
          5.872410107853259e-12,
          7.852056395203728e-12,
          8.00856331958784e-12,
          5.4266738510081346e-12,
          5.5138717345440305e-12,
          5.271718480909553e-12,
          5.292106530473629e-12,
          7.155120235656184e-12,
          7.071991160059919e-12
         ]
        }
       ],
       "layout": {
        "template": {
         "data": {
          "bar": [
           {
            "error_x": {
             "color": "#2a3f5f"
            },
            "error_y": {
             "color": "#2a3f5f"
            },
            "marker": {
             "line": {
              "color": "#E5ECF6",
              "width": 0.5
             },
             "pattern": {
              "fillmode": "overlay",
              "size": 10,
              "solidity": 0.2
             }
            },
            "type": "bar"
           }
          ],
          "barpolar": [
           {
            "marker": {
             "line": {
              "color": "#E5ECF6",
              "width": 0.5
             },
             "pattern": {
              "fillmode": "overlay",
              "size": 10,
              "solidity": 0.2
             }
            },
            "type": "barpolar"
           }
          ],
          "carpet": [
           {
            "aaxis": {
             "endlinecolor": "#2a3f5f",
             "gridcolor": "white",
             "linecolor": "white",
             "minorgridcolor": "white",
             "startlinecolor": "#2a3f5f"
            },
            "baxis": {
             "endlinecolor": "#2a3f5f",
             "gridcolor": "white",
             "linecolor": "white",
             "minorgridcolor": "white",
             "startlinecolor": "#2a3f5f"
            },
            "type": "carpet"
           }
          ],
          "choropleth": [
           {
            "colorbar": {
             "outlinewidth": 0,
             "ticks": ""
            },
            "type": "choropleth"
           }
          ],
          "contour": [
           {
            "colorbar": {
             "outlinewidth": 0,
             "ticks": ""
            },
            "colorscale": [
             [
              0,
              "#0d0887"
             ],
             [
              0.1111111111111111,
              "#46039f"
             ],
             [
              0.2222222222222222,
              "#7201a8"
             ],
             [
              0.3333333333333333,
              "#9c179e"
             ],
             [
              0.4444444444444444,
              "#bd3786"
             ],
             [
              0.5555555555555556,
              "#d8576b"
             ],
             [
              0.6666666666666666,
              "#ed7953"
             ],
             [
              0.7777777777777778,
              "#fb9f3a"
             ],
             [
              0.8888888888888888,
              "#fdca26"
             ],
             [
              1,
              "#f0f921"
             ]
            ],
            "type": "contour"
           }
          ],
          "contourcarpet": [
           {
            "colorbar": {
             "outlinewidth": 0,
             "ticks": ""
            },
            "type": "contourcarpet"
           }
          ],
          "heatmap": [
           {
            "colorbar": {
             "outlinewidth": 0,
             "ticks": ""
            },
            "colorscale": [
             [
              0,
              "#0d0887"
             ],
             [
              0.1111111111111111,
              "#46039f"
             ],
             [
              0.2222222222222222,
              "#7201a8"
             ],
             [
              0.3333333333333333,
              "#9c179e"
             ],
             [
              0.4444444444444444,
              "#bd3786"
             ],
             [
              0.5555555555555556,
              "#d8576b"
             ],
             [
              0.6666666666666666,
              "#ed7953"
             ],
             [
              0.7777777777777778,
              "#fb9f3a"
             ],
             [
              0.8888888888888888,
              "#fdca26"
             ],
             [
              1,
              "#f0f921"
             ]
            ],
            "type": "heatmap"
           }
          ],
          "heatmapgl": [
           {
            "colorbar": {
             "outlinewidth": 0,
             "ticks": ""
            },
            "colorscale": [
             [
              0,
              "#0d0887"
             ],
             [
              0.1111111111111111,
              "#46039f"
             ],
             [
              0.2222222222222222,
              "#7201a8"
             ],
             [
              0.3333333333333333,
              "#9c179e"
             ],
             [
              0.4444444444444444,
              "#bd3786"
             ],
             [
              0.5555555555555556,
              "#d8576b"
             ],
             [
              0.6666666666666666,
              "#ed7953"
             ],
             [
              0.7777777777777778,
              "#fb9f3a"
             ],
             [
              0.8888888888888888,
              "#fdca26"
             ],
             [
              1,
              "#f0f921"
             ]
            ],
            "type": "heatmapgl"
           }
          ],
          "histogram": [
           {
            "marker": {
             "pattern": {
              "fillmode": "overlay",
              "size": 10,
              "solidity": 0.2
             }
            },
            "type": "histogram"
           }
          ],
          "histogram2d": [
           {
            "colorbar": {
             "outlinewidth": 0,
             "ticks": ""
            },
            "colorscale": [
             [
              0,
              "#0d0887"
             ],
             [
              0.1111111111111111,
              "#46039f"
             ],
             [
              0.2222222222222222,
              "#7201a8"
             ],
             [
              0.3333333333333333,
              "#9c179e"
             ],
             [
              0.4444444444444444,
              "#bd3786"
             ],
             [
              0.5555555555555556,
              "#d8576b"
             ],
             [
              0.6666666666666666,
              "#ed7953"
             ],
             [
              0.7777777777777778,
              "#fb9f3a"
             ],
             [
              0.8888888888888888,
              "#fdca26"
             ],
             [
              1,
              "#f0f921"
             ]
            ],
            "type": "histogram2d"
           }
          ],
          "histogram2dcontour": [
           {
            "colorbar": {
             "outlinewidth": 0,
             "ticks": ""
            },
            "colorscale": [
             [
              0,
              "#0d0887"
             ],
             [
              0.1111111111111111,
              "#46039f"
             ],
             [
              0.2222222222222222,
              "#7201a8"
             ],
             [
              0.3333333333333333,
              "#9c179e"
             ],
             [
              0.4444444444444444,
              "#bd3786"
             ],
             [
              0.5555555555555556,
              "#d8576b"
             ],
             [
              0.6666666666666666,
              "#ed7953"
             ],
             [
              0.7777777777777778,
              "#fb9f3a"
             ],
             [
              0.8888888888888888,
              "#fdca26"
             ],
             [
              1,
              "#f0f921"
             ]
            ],
            "type": "histogram2dcontour"
           }
          ],
          "mesh3d": [
           {
            "colorbar": {
             "outlinewidth": 0,
             "ticks": ""
            },
            "type": "mesh3d"
           }
          ],
          "parcoords": [
           {
            "line": {
             "colorbar": {
              "outlinewidth": 0,
              "ticks": ""
             }
            },
            "type": "parcoords"
           }
          ],
          "pie": [
           {
            "automargin": true,
            "type": "pie"
           }
          ],
          "scatter": [
           {
            "fillpattern": {
             "fillmode": "overlay",
             "size": 10,
             "solidity": 0.2
            },
            "type": "scatter"
           }
          ],
          "scatter3d": [
           {
            "line": {
             "colorbar": {
              "outlinewidth": 0,
              "ticks": ""
             }
            },
            "marker": {
             "colorbar": {
              "outlinewidth": 0,
              "ticks": ""
             }
            },
            "type": "scatter3d"
           }
          ],
          "scattercarpet": [
           {
            "marker": {
             "colorbar": {
              "outlinewidth": 0,
              "ticks": ""
             }
            },
            "type": "scattercarpet"
           }
          ],
          "scattergeo": [
           {
            "marker": {
             "colorbar": {
              "outlinewidth": 0,
              "ticks": ""
             }
            },
            "type": "scattergeo"
           }
          ],
          "scattergl": [
           {
            "marker": {
             "colorbar": {
              "outlinewidth": 0,
              "ticks": ""
             }
            },
            "type": "scattergl"
           }
          ],
          "scattermapbox": [
           {
            "marker": {
             "colorbar": {
              "outlinewidth": 0,
              "ticks": ""
             }
            },
            "type": "scattermapbox"
           }
          ],
          "scatterpolar": [
           {
            "marker": {
             "colorbar": {
              "outlinewidth": 0,
              "ticks": ""
             }
            },
            "type": "scatterpolar"
           }
          ],
          "scatterpolargl": [
           {
            "marker": {
             "colorbar": {
              "outlinewidth": 0,
              "ticks": ""
             }
            },
            "type": "scatterpolargl"
           }
          ],
          "scatterternary": [
           {
            "marker": {
             "colorbar": {
              "outlinewidth": 0,
              "ticks": ""
             }
            },
            "type": "scatterternary"
           }
          ],
          "surface": [
           {
            "colorbar": {
             "outlinewidth": 0,
             "ticks": ""
            },
            "colorscale": [
             [
              0,
              "#0d0887"
             ],
             [
              0.1111111111111111,
              "#46039f"
             ],
             [
              0.2222222222222222,
              "#7201a8"
             ],
             [
              0.3333333333333333,
              "#9c179e"
             ],
             [
              0.4444444444444444,
              "#bd3786"
             ],
             [
              0.5555555555555556,
              "#d8576b"
             ],
             [
              0.6666666666666666,
              "#ed7953"
             ],
             [
              0.7777777777777778,
              "#fb9f3a"
             ],
             [
              0.8888888888888888,
              "#fdca26"
             ],
             [
              1,
              "#f0f921"
             ]
            ],
            "type": "surface"
           }
          ],
          "table": [
           {
            "cells": {
             "fill": {
              "color": "#EBF0F8"
             },
             "line": {
              "color": "white"
             }
            },
            "header": {
             "fill": {
              "color": "#C8D4E3"
             },
             "line": {
              "color": "white"
             }
            },
            "type": "table"
           }
          ]
         },
         "layout": {
          "annotationdefaults": {
           "arrowcolor": "#2a3f5f",
           "arrowhead": 0,
           "arrowwidth": 1
          },
          "autotypenumbers": "strict",
          "coloraxis": {
           "colorbar": {
            "outlinewidth": 0,
            "ticks": ""
           }
          },
          "colorscale": {
           "diverging": [
            [
             0,
             "#8e0152"
            ],
            [
             0.1,
             "#c51b7d"
            ],
            [
             0.2,
             "#de77ae"
            ],
            [
             0.3,
             "#f1b6da"
            ],
            [
             0.4,
             "#fde0ef"
            ],
            [
             0.5,
             "#f7f7f7"
            ],
            [
             0.6,
             "#e6f5d0"
            ],
            [
             0.7,
             "#b8e186"
            ],
            [
             0.8,
             "#7fbc41"
            ],
            [
             0.9,
             "#4d9221"
            ],
            [
             1,
             "#276419"
            ]
           ],
           "sequential": [
            [
             0,
             "#0d0887"
            ],
            [
             0.1111111111111111,
             "#46039f"
            ],
            [
             0.2222222222222222,
             "#7201a8"
            ],
            [
             0.3333333333333333,
             "#9c179e"
            ],
            [
             0.4444444444444444,
             "#bd3786"
            ],
            [
             0.5555555555555556,
             "#d8576b"
            ],
            [
             0.6666666666666666,
             "#ed7953"
            ],
            [
             0.7777777777777778,
             "#fb9f3a"
            ],
            [
             0.8888888888888888,
             "#fdca26"
            ],
            [
             1,
             "#f0f921"
            ]
           ],
           "sequentialminus": [
            [
             0,
             "#0d0887"
            ],
            [
             0.1111111111111111,
             "#46039f"
            ],
            [
             0.2222222222222222,
             "#7201a8"
            ],
            [
             0.3333333333333333,
             "#9c179e"
            ],
            [
             0.4444444444444444,
             "#bd3786"
            ],
            [
             0.5555555555555556,
             "#d8576b"
            ],
            [
             0.6666666666666666,
             "#ed7953"
            ],
            [
             0.7777777777777778,
             "#fb9f3a"
            ],
            [
             0.8888888888888888,
             "#fdca26"
            ],
            [
             1,
             "#f0f921"
            ]
           ]
          },
          "colorway": [
           "#636efa",
           "#EF553B",
           "#00cc96",
           "#ab63fa",
           "#FFA15A",
           "#19d3f3",
           "#FF6692",
           "#B6E880",
           "#FF97FF",
           "#FECB52"
          ],
          "font": {
           "color": "#2a3f5f"
          },
          "geo": {
           "bgcolor": "white",
           "lakecolor": "white",
           "landcolor": "#E5ECF6",
           "showlakes": true,
           "showland": true,
           "subunitcolor": "white"
          },
          "hoverlabel": {
           "align": "left"
          },
          "hovermode": "closest",
          "mapbox": {
           "style": "light"
          },
          "paper_bgcolor": "white",
          "plot_bgcolor": "#E5ECF6",
          "polar": {
           "angularaxis": {
            "gridcolor": "white",
            "linecolor": "white",
            "ticks": ""
           },
           "bgcolor": "#E5ECF6",
           "radialaxis": {
            "gridcolor": "white",
            "linecolor": "white",
            "ticks": ""
           }
          },
          "scene": {
           "xaxis": {
            "backgroundcolor": "#E5ECF6",
            "gridcolor": "white",
            "gridwidth": 2,
            "linecolor": "white",
            "showbackground": true,
            "ticks": "",
            "zerolinecolor": "white"
           },
           "yaxis": {
            "backgroundcolor": "#E5ECF6",
            "gridcolor": "white",
            "gridwidth": 2,
            "linecolor": "white",
            "showbackground": true,
            "ticks": "",
            "zerolinecolor": "white"
           },
           "zaxis": {
            "backgroundcolor": "#E5ECF6",
            "gridcolor": "white",
            "gridwidth": 2,
            "linecolor": "white",
            "showbackground": true,
            "ticks": "",
            "zerolinecolor": "white"
           }
          },
          "shapedefaults": {
           "line": {
            "color": "#2a3f5f"
           }
          },
          "ternary": {
           "aaxis": {
            "gridcolor": "white",
            "linecolor": "white",
            "ticks": ""
           },
           "baxis": {
            "gridcolor": "white",
            "linecolor": "white",
            "ticks": ""
           },
           "bgcolor": "#E5ECF6",
           "caxis": {
            "gridcolor": "white",
            "linecolor": "white",
            "ticks": ""
           }
          },
          "title": {
           "x": 0.05
          },
          "xaxis": {
           "automargin": true,
           "gridcolor": "white",
           "linecolor": "white",
           "ticks": "",
           "title": {
            "standoff": 15
           },
           "zerolinecolor": "white",
           "zerolinewidth": 2
          },
          "yaxis": {
           "automargin": true,
           "gridcolor": "white",
           "linecolor": "white",
           "ticks": "",
           "title": {
            "standoff": 15
           },
           "zerolinecolor": "white",
           "zerolinewidth": 2
          }
         }
        },
        "title": {
         "text": "Standard deviation of the data for Gradiometers over the entire time series",
         "x": 0.5,
         "xanchor": "center",
         "y": 0.85,
         "yanchor": "top"
        },
        "xaxis": {
         "exponentformat": "e",
         "showexponent": "all",
         "title": {
          "text": "Standard deviation in Tesla/meter"
         }
        },
        "yaxis": {
         "showticklabels": false,
         "visible": false
        }
       }
      }
     },
     "metadata": {},
     "output_type": "display_data"
    },
    {
     "data": {
      "application/vnd.plotly.v1+json": {
       "config": {
        "plotlyServerURL": "https://plot.ly"
       },
       "data": [
        {
         "boxpoints": "all",
         "hovertemplate": "Epoch: %{text}<br>STD: %{y: .2e}",
         "line": {
          "width": 1
         },
         "marker": {
          "size": 3
         },
         "name": "MEG0111",
         "opacity": 0.7,
         "pointpos": 0,
         "text": [
          0,
          1,
          2,
          3,
          4,
          5,
          6,
          7,
          8
         ],
         "type": "box",
         "y": [
          4.1330554884836874e-13,
          3.260933230761435e-13,
          2.855122744391475e-13,
          3.8877097429973847e-13,
          3.6531465787038856e-13,
          3.763054286156695e-13,
          4.58149847032611e-13,
          4.487630831256202e-13,
          4.855401148886869e-13
         ]
        },
        {
         "boxpoints": "all",
         "hovertemplate": "Epoch: %{text}<br>STD: %{y: .2e}",
         "line": {
          "width": 1
         },
         "marker": {
          "size": 3
         },
         "name": "MEG0121",
         "opacity": 0.7,
         "pointpos": 0,
         "text": [
          0,
          1,
          2,
          3,
          4,
          5,
          6,
          7,
          8
         ],
         "type": "box",
         "y": [
          5.598925889396087e-13,
          3.0315565366667583e-13,
          2.7227133664736215e-13,
          3.574957290252658e-13,
          3.8385228915710453e-13,
          4.186198843194025e-13,
          4.752348028638136e-13,
          4.414314091393473e-13,
          5.631920535449134e-13
         ]
        },
        {
         "boxpoints": "all",
         "hovertemplate": "Epoch: %{text}<br>STD: %{y: .2e}",
         "line": {
          "width": 1
         },
         "marker": {
          "size": 3
         },
         "name": "MEG0131",
         "opacity": 0.7,
         "pointpos": 0,
         "text": [
          0,
          1,
          2,
          3,
          4,
          5,
          6,
          7,
          8
         ],
         "type": "box",
         "y": [
          4.978712527085602e-13,
          3.051259606573217e-13,
          3.1218343675012826e-13,
          3.9703435177220923e-13,
          3.246589944300083e-13,
          3.3981645968273844e-13,
          4.561009522229701e-13,
          4.0559804987576917e-13,
          4.347367286464169e-13
         ]
        },
        {
         "boxpoints": "all",
         "hovertemplate": "Epoch: %{text}<br>STD: %{y: .2e}",
         "line": {
          "width": 1
         },
         "marker": {
          "size": 3
         },
         "name": "MEG0141",
         "opacity": 0.7,
         "pointpos": 0,
         "text": [
          0,
          1,
          2,
          3,
          4,
          5,
          6,
          7,
          8
         ],
         "type": "box",
         "y": [
          3.885740701428391e-13,
          3.5334787622641455e-13,
          3.3095969566256417e-13,
          4.207723050528414e-13,
          3.446457932773637e-13,
          3.767943334183146e-13,
          4.5466064288947364e-13,
          3.853214227161293e-13,
          3.8776777781558503e-13
         ]
        },
        {
         "boxpoints": "all",
         "hovertemplate": "Epoch: %{text}<br>STD: %{y: .2e}",
         "line": {
          "width": 1
         },
         "marker": {
          "size": 3
         },
         "name": "MEG0211",
         "opacity": 0.7,
         "pointpos": 0,
         "text": [
          0,
          1,
          2,
          3,
          4,
          5,
          6,
          7,
          8
         ],
         "type": "box",
         "y": [
          5.625217525738891e-13,
          3.7884843414904197e-13,
          3.4786337728726185e-13,
          4.155440908554769e-13,
          3.439657456324072e-13,
          3.806422719732673e-13,
          4.592988406489283e-13,
          4.142901786170191e-13,
          3.9768443484610946e-13
         ]
        },
        {
         "boxpoints": "all",
         "hovertemplate": "Epoch: %{text}<br>STD: %{y: .2e}",
         "line": {
          "width": 1
         },
         "marker": {
          "size": 3
         },
         "name": "MEG0221",
         "opacity": 0.7,
         "pointpos": 0,
         "text": [
          0,
          1,
          2,
          3,
          4,
          5,
          6,
          7,
          8
         ],
         "type": "box",
         "y": [
          4.762578696656571e-13,
          4.312745372368056e-13,
          3.9219416574520327e-13,
          3.875908746287246e-13,
          3.953872344526807e-13,
          3.770123569657532e-13,
          4.2831324004872645e-13,
          4.4576358460665824e-13,
          3.697838065379205e-13
         ]
        },
        {
         "boxpoints": "all",
         "hovertemplate": "Epoch: %{text}<br>STD: %{y: .2e}",
         "line": {
          "width": 1
         },
         "marker": {
          "size": 3
         },
         "name": "MEG0231",
         "opacity": 0.7,
         "pointpos": 0,
         "text": [
          0,
          1,
          2,
          3,
          4,
          5,
          6,
          7,
          8
         ],
         "type": "box",
         "y": [
          4.955336860714709e-13,
          3.8414380068434796e-13,
          4.1523041587011686e-13,
          4.554224146926596e-13,
          3.856583353998309e-13,
          4.3561962143853136e-13,
          4.806090497535013e-13,
          5.094265301547499e-13,
          3.6727673246619653e-13
         ]
        },
        {
         "boxpoints": "all",
         "hovertemplate": "Epoch: %{text}<br>STD: %{y: .2e}",
         "line": {
          "width": 1
         },
         "marker": {
          "size": 3
         },
         "name": "MEG0241",
         "opacity": 0.7,
         "pointpos": 0,
         "text": [
          0,
          1,
          2,
          3,
          4,
          5,
          6,
          7,
          8
         ],
         "type": "box",
         "y": [
          4.776124865091629e-13,
          3.3105942493568613e-13,
          3.7067587442988554e-13,
          4.4858685859845796e-13,
          3.2081800990192844e-13,
          3.6335117813270386e-13,
          4.559382542737944e-13,
          3.876823563636218e-13,
          3.7943692108358605e-13
         ]
        },
        {
         "boxpoints": "all",
         "hovertemplate": "Epoch: %{text}<br>STD: %{y: .2e}",
         "line": {
          "width": 1
         },
         "marker": {
          "size": 3
         },
         "name": "MEG0311",
         "opacity": 0.7,
         "pointpos": 0,
         "text": [
          0,
          1,
          2,
          3,
          4,
          5,
          6,
          7,
          8
         ],
         "type": "box",
         "y": [
          4.29803311331548e-13,
          2.721373338545614e-13,
          2.5689338578248766e-13,
          2.816529638524182e-13,
          3.586803507417984e-13,
          2.870539942792667e-13,
          3.3730509734062145e-13,
          3.3543173063878275e-13,
          4.222226053776896e-13
         ]
        },
        {
         "boxpoints": "all",
         "hovertemplate": "Epoch: %{text}<br>STD: %{y: .2e}",
         "line": {
          "width": 1
         },
         "marker": {
          "size": 3
         },
         "name": "MEG0321",
         "opacity": 0.7,
         "pointpos": 0,
         "text": [
          0,
          1,
          2,
          3,
          4,
          5,
          6,
          7,
          8
         ],
         "type": "box",
         "y": [
          4.371743735334682e-13,
          3.5889388274481373e-13,
          3.1630968755074975e-13,
          3.0318577374429816e-13,
          3.616158530278509e-13,
          3.0241347062189004e-13,
          3.2196274311766656e-13,
          3.512449328552324e-13,
          3.582198210193002e-13
         ]
        },
        {
         "boxpoints": "all",
         "hovertemplate": "Epoch: %{text}<br>STD: %{y: .2e}",
         "line": {
          "width": 1
         },
         "marker": {
          "size": 3
         },
         "name": "MEG0331",
         "opacity": 0.7,
         "pointpos": 0,
         "text": [
          0,
          1,
          2,
          3,
          4,
          5,
          6,
          7,
          8
         ],
         "type": "box",
         "y": [
          3.4929935175832846e-13,
          3.5517685989096634e-13,
          3.12056955576783e-13,
          3.145316535147646e-13,
          3.750008900360637e-13,
          2.984026873733984e-13,
          2.9801914692777986e-13,
          3.3466940064337797e-13,
          3.178866181077436e-13
         ]
        },
        {
         "boxpoints": "all",
         "hovertemplate": "Epoch: %{text}<br>STD: %{y: .2e}",
         "line": {
          "width": 1
         },
         "marker": {
          "size": 3
         },
         "name": "MEG0341",
         "opacity": 0.7,
         "pointpos": 0,
         "text": [
          0,
          1,
          2,
          3,
          4,
          5,
          6,
          7,
          8
         ],
         "type": "box",
         "y": [
          5.477246475111543e-13,
          3.348051662217389e-13,
          3.1782257748046836e-13,
          3.303675881296376e-13,
          3.562129607681471e-13,
          3.6141069113033346e-13,
          3.850565903638359e-13,
          3.9565272840346047e-13,
          4.3015952234277304e-13
         ]
        },
        {
         "boxpoints": "all",
         "hovertemplate": "Epoch: %{text}<br>STD: %{y: .2e}",
         "line": {
          "width": 1
         },
         "marker": {
          "size": 3
         },
         "name": "MEG0411",
         "opacity": 0.7,
         "pointpos": 0,
         "text": [
          0,
          1,
          2,
          3,
          4,
          5,
          6,
          7,
          8
         ],
         "type": "box",
         "y": [
          4.1731036380853624e-13,
          4.3507254267438196e-13,
          4.0848189343723255e-13,
          3.844427060924279e-13,
          4.707980963573178e-13,
          3.791862898709039e-13,
          3.8589199230600844e-13,
          4.816178206307678e-13,
          3.6097187327577205e-13
         ]
        },
        {
         "boxpoints": "all",
         "hovertemplate": "Epoch: %{text}<br>STD: %{y: .2e}",
         "line": {
          "width": 1
         },
         "marker": {
          "size": 3
         },
         "name": "MEG0421",
         "opacity": 0.7,
         "pointpos": 0,
         "text": [
          0,
          1,
          2,
          3,
          4,
          5,
          6,
          7,
          8
         ],
         "type": "box",
         "y": [
          3.678634006512386e-13,
          3.461410437329165e-13,
          3.550244022295442e-13,
          3.9287616960977816e-13,
          4.415693221506345e-13,
          3.752033644978287e-13,
          3.115355348743086e-13,
          4.484653032445309e-13,
          3.2027583116827855e-13
         ]
        },
        {
         "boxpoints": "all",
         "hovertemplate": "Epoch: %{text}<br>STD: %{y: .2e}",
         "line": {
          "width": 1
         },
         "marker": {
          "size": 3
         },
         "name": "MEG0431",
         "opacity": 0.7,
         "pointpos": 0,
         "text": [
          0,
          1,
          2,
          3,
          4,
          5,
          6,
          7,
          8
         ],
         "type": "box",
         "y": [
          4.638156218043205e-13,
          4.287668666676625e-13,
          4.1577288252907417e-13,
          4.703944082097972e-13,
          5.326376717132803e-13,
          4.730663413735422e-13,
          3.3952739329384415e-13,
          5.49264259284729e-13,
          3.9751836317658464e-13
         ]
        },
        {
         "boxpoints": "all",
         "hovertemplate": "Epoch: %{text}<br>STD: %{y: .2e}",
         "line": {
          "width": 1
         },
         "marker": {
          "size": 3
         },
         "name": "MEG0441",
         "opacity": 0.7,
         "pointpos": 0,
         "text": [
          0,
          1,
          2,
          3,
          4,
          5,
          6,
          7,
          8
         ],
         "type": "box",
         "y": [
          4.666647868279767e-13,
          3.6901701607866466e-13,
          4.415052205737364e-13,
          4.448822278413196e-13,
          4.720448941712895e-13,
          4.547009208098534e-13,
          4.0872113073895995e-13,
          5.498439372440687e-13,
          3.518324599995379e-13
         ]
        },
        {
         "boxpoints": "all",
         "hovertemplate": "Epoch: %{text}<br>STD: %{y: .2e}",
         "line": {
          "width": 1
         },
         "marker": {
          "size": 3
         },
         "name": "MEG0511",
         "opacity": 0.7,
         "pointpos": 0,
         "text": [
          0,
          1,
          2,
          3,
          4,
          5,
          6,
          7,
          8
         ],
         "type": "box",
         "y": [
          3.3566882634221954e-13,
          2.514663271459183e-13,
          2.2595549631564446e-13,
          2.6016874488644546e-13,
          3.237617757754498e-13,
          2.737776591592813e-13,
          3.0507711502094994e-13,
          2.610001890455296e-13,
          3.5620380347177413e-13
         ]
        },
        {
         "boxpoints": "all",
         "hovertemplate": "Epoch: %{text}<br>STD: %{y: .2e}",
         "line": {
          "width": 1
         },
         "marker": {
          "size": 3
         },
         "name": "MEG0521",
         "opacity": 0.7,
         "pointpos": 0,
         "text": [
          0,
          1,
          2,
          3,
          4,
          5,
          6,
          7,
          8
         ],
         "type": "box",
         "y": [
          2.768287533333905e-13,
          2.4357010124830374e-13,
          2.2088362793052682e-13,
          2.3802802420595166e-13,
          2.852305949635169e-13,
          2.8258709101475343e-13,
          2.9174828053347056e-13,
          2.467795456676503e-13,
          2.8553571117641384e-13
         ]
        },
        {
         "boxpoints": "all",
         "hovertemplate": "Epoch: %{text}<br>STD: %{y: .2e}",
         "line": {
          "width": 1
         },
         "marker": {
          "size": 3
         },
         "name": "MEG0531",
         "opacity": 0.7,
         "pointpos": 0,
         "text": [
          0,
          1,
          2,
          3,
          4,
          5,
          6,
          7,
          8
         ],
         "type": "box",
         "y": [
          2.6487828740895394e-13,
          2.5433607394736235e-13,
          2.412421237507956e-13,
          2.343678197732002e-13,
          2.595641067566075e-13,
          2.5454522407516874e-13,
          2.7146901178984675e-13,
          2.398199011223085e-13,
          2.6266618940394016e-13
         ]
        },
        {
         "boxpoints": "all",
         "hovertemplate": "Epoch: %{text}<br>STD: %{y: .2e}",
         "line": {
          "width": 1
         },
         "marker": {
          "size": 3
         },
         "name": "MEG0541",
         "opacity": 0.7,
         "pointpos": 0,
         "text": [
          0,
          1,
          2,
          3,
          4,
          5,
          6,
          7,
          8
         ],
         "type": "box",
         "y": [
          3.4806146355293414e-13,
          2.8688571452612726e-13,
          2.3675812673453844e-13,
          2.662159145171141e-13,
          2.9636342965125735e-13,
          2.638868721618732e-13,
          2.811155460007868e-13,
          2.5176090904332057e-13,
          2.990635876290953e-13
         ]
        },
        {
         "boxpoints": "all",
         "hovertemplate": "Epoch: %{text}<br>STD: %{y: .2e}",
         "line": {
          "width": 1
         },
         "marker": {
          "size": 3
         },
         "name": "MEG0611",
         "opacity": 0.7,
         "pointpos": 0,
         "text": [
          0,
          1,
          2,
          3,
          4,
          5,
          6,
          7,
          8
         ],
         "type": "box",
         "y": [
          2.9497134191099284e-13,
          2.801248982328724e-13,
          2.716639495534395e-13,
          2.703213895417296e-13,
          2.847575119152216e-13,
          2.7315874602618607e-13,
          2.6525617458514573e-13,
          2.732959458796614e-13,
          2.555503942967767e-13
         ]
        },
        {
         "boxpoints": "all",
         "hovertemplate": "Epoch: %{text}<br>STD: %{y: .2e}",
         "line": {
          "width": 1
         },
         "marker": {
          "size": 3
         },
         "name": "MEG0621",
         "opacity": 0.7,
         "pointpos": 0,
         "text": [
          0,
          1,
          2,
          3,
          4,
          5,
          6,
          7,
          8
         ],
         "type": "box",
         "y": [
          2.76864379881479e-13,
          2.516922854638039e-13,
          2.7818848501655276e-13,
          2.910207032179874e-13,
          2.8087314390965125e-13,
          2.99643468363994e-13,
          2.869098873405361e-13,
          3.0244926076496096e-13,
          2.389846595830751e-13
         ]
        },
        {
         "boxpoints": "all",
         "hovertemplate": "Epoch: %{text}<br>STD: %{y: .2e}",
         "line": {
          "width": 1
         },
         "marker": {
          "size": 3
         },
         "name": "MEG0631",
         "opacity": 0.7,
         "pointpos": 0,
         "text": [
          0,
          1,
          2,
          3,
          4,
          5,
          6,
          7,
          8
         ],
         "type": "box",
         "y": [
          3.5808498386144683e-13,
          3.204650463953444e-13,
          3.1750514901536715e-13,
          3.7317523926848474e-13,
          3.8342365702953077e-13,
          3.6865483559087675e-13,
          3.189378641376531e-13,
          4.163372790696696e-13,
          3.1245963764816025e-13
         ]
        },
        {
         "boxpoints": "all",
         "hovertemplate": "Epoch: %{text}<br>STD: %{y: .2e}",
         "line": {
          "width": 1
         },
         "marker": {
          "size": 3
         },
         "name": "MEG0641",
         "opacity": 0.7,
         "pointpos": 0,
         "text": [
          0,
          1,
          2,
          3,
          4,
          5,
          6,
          7,
          8
         ],
         "type": "box",
         "y": [
          3.015912011090946e-13,
          2.9491145009123527e-13,
          2.853018133507822e-13,
          3.11199933961982e-13,
          3.2691291547466314e-13,
          3.103078089230076e-13,
          2.9247128099593786e-13,
          3.298645641629993e-13,
          2.6874825669471676e-13
         ]
        },
        {
         "boxpoints": "all",
         "hovertemplate": "Epoch: %{text}<br>STD: %{y: .2e}",
         "line": {
          "width": 1
         },
         "marker": {
          "size": 3
         },
         "name": "MEG0711",
         "opacity": 0.7,
         "pointpos": 0,
         "text": [
          0,
          1,
          2,
          3,
          4,
          5,
          6,
          7,
          8
         ],
         "type": "box",
         "y": [
          4.3164427025793153e-13,
          4.635695223594959e-13,
          3.930471255435947e-13,
          4.655188790570587e-13,
          5.305599927505143e-13,
          4.53744422971789e-13,
          3.8132991193036483e-13,
          5.984903405361012e-13,
          4.1428329260946926e-13
         ]
        },
        {
         "boxpoints": "all",
         "hovertemplate": "Epoch: %{text}<br>STD: %{y: .2e}",
         "line": {
          "width": 1
         },
         "marker": {
          "size": 3
         },
         "name": "MEG0721",
         "opacity": 0.7,
         "pointpos": 0,
         "text": [
          0,
          1,
          2,
          3,
          4,
          5,
          6,
          7,
          8
         ],
         "type": "box",
         "y": [
          4.680394362955967e-13,
          4.088594933737421e-13,
          4.159467214287341e-13,
          4.640152878041367e-13,
          5.47288753822408e-13,
          4.610439239914744e-13,
          3.426245362942747e-13,
          5.105274602549085e-13,
          4.498445808331767e-13
         ]
        },
        {
         "boxpoints": "all",
         "hovertemplate": "Epoch: %{text}<br>STD: %{y: .2e}",
         "line": {
          "width": 1
         },
         "marker": {
          "size": 3
         },
         "name": "MEG0731",
         "opacity": 0.7,
         "pointpos": 0,
         "text": [
          0,
          1,
          2,
          3,
          4,
          5,
          6,
          7,
          8
         ],
         "type": "box",
         "y": [
          4.712159811815443e-13,
          3.9862404940979723e-13,
          4.412718903623109e-13,
          4.3252084880391733e-13,
          5.806990644333584e-13,
          4.745336348797573e-13,
          3.68353551322195e-13,
          5.050777231254013e-13,
          4.0860890273316664e-13
         ]
        },
        {
         "boxpoints": "all",
         "hovertemplate": "Epoch: %{text}<br>STD: %{y: .2e}",
         "line": {
          "width": 1
         },
         "marker": {
          "size": 3
         },
         "name": "MEG0741",
         "opacity": 0.7,
         "pointpos": 0,
         "text": [
          0,
          1,
          2,
          3,
          4,
          5,
          6,
          7,
          8
         ],
         "type": "box",
         "y": [
          3.945789942224948e-13,
          4.760697549766739e-13,
          3.9630160451554933e-13,
          4.0245852217271837e-13,
          5.599387087997506e-13,
          4.587093328655359e-13,
          3.4577727408545395e-13,
          5.860183771097376e-13,
          4.221928800198735e-13
         ]
        },
        {
         "boxpoints": "all",
         "hovertemplate": "Epoch: %{text}<br>STD: %{y: .2e}",
         "line": {
          "width": 1
         },
         "marker": {
          "size": 3
         },
         "name": "MEG0811",
         "opacity": 0.7,
         "pointpos": 0,
         "text": [
          0,
          1,
          2,
          3,
          4,
          5,
          6,
          7,
          8
         ],
         "type": "box",
         "y": [
          2.492622723203602e-13,
          2.218496764740369e-13,
          2.256342294211202e-13,
          2.556395406775691e-13,
          2.3776744608552936e-13,
          2.532497447745106e-13,
          2.610912054945873e-13,
          2.83275675935953e-13,
          2.137306136810456e-13
         ]
        },
        {
         "boxpoints": "all",
         "hovertemplate": "Epoch: %{text}<br>STD: %{y: .2e}",
         "line": {
          "width": 1
         },
         "marker": {
          "size": 3
         },
         "name": "MEG0821",
         "opacity": 0.7,
         "pointpos": 0,
         "text": [
          0,
          1,
          2,
          3,
          4,
          5,
          6,
          7,
          8
         ],
         "type": "box",
         "y": [
          2.333196408870984e-13,
          2.317424412218211e-13,
          2.6207791975554824e-13,
          2.6729141209611844e-13,
          2.3007774442394356e-13,
          2.4258871161695157e-13,
          2.43121556813388e-13,
          2.689634996480333e-13,
          2.2937612002565504e-13
         ]
        },
        {
         "boxpoints": "all",
         "hovertemplate": "Epoch: %{text}<br>STD: %{y: .2e}",
         "line": {
          "width": 1
         },
         "marker": {
          "size": 3
         },
         "name": "MEG0911",
         "opacity": 0.7,
         "pointpos": 0,
         "text": [
          0,
          1,
          2,
          3,
          4,
          5,
          6,
          7,
          8
         ],
         "type": "box",
         "y": [
          2.6385641740563223e-13,
          2.318636024210619e-13,
          2.5925275645173065e-13,
          3.101661673550151e-13,
          2.455494729986207e-13,
          2.4421103927565483e-13,
          2.622964342806459e-13,
          3.1874285652488856e-13,
          2.6172841469623347e-13
         ]
        },
        {
         "boxpoints": "all",
         "hovertemplate": "Epoch: %{text}<br>STD: %{y: .2e}",
         "line": {
          "width": 1
         },
         "marker": {
          "size": 3
         },
         "name": "MEG0921",
         "opacity": 0.7,
         "pointpos": 0,
         "text": [
          0,
          1,
          2,
          3,
          4,
          5,
          6,
          7,
          8
         ],
         "type": "box",
         "y": [
          2.800884554629606e-13,
          2.5916870301998134e-13,
          2.8401425637305816e-13,
          3.133397580316011e-13,
          2.8369892159228535e-13,
          2.60885573918898e-13,
          2.8530915091413574e-13,
          3.3732761337088974e-13,
          3.4808649388724653e-13
         ]
        },
        {
         "boxpoints": "all",
         "hovertemplate": "Epoch: %{text}<br>STD: %{y: .2e}",
         "line": {
          "width": 1
         },
         "marker": {
          "size": 3
         },
         "name": "MEG0931",
         "opacity": 0.7,
         "pointpos": 0,
         "text": [
          0,
          1,
          2,
          3,
          4,
          5,
          6,
          7,
          8
         ],
         "type": "box",
         "y": [
          2.720561904551034e-13,
          2.596728905399525e-13,
          2.8891716461451096e-13,
          3.265690782930632e-13,
          2.7851399905797066e-13,
          2.812393783639607e-13,
          2.6126887566295407e-13,
          2.8876160784797864e-13,
          3.053279755311874e-13
         ]
        },
        {
         "boxpoints": "all",
         "hovertemplate": "Epoch: %{text}<br>STD: %{y: .2e}",
         "line": {
          "width": 1
         },
         "marker": {
          "size": 3
         },
         "name": "MEG0941",
         "opacity": 0.7,
         "pointpos": 0,
         "text": [
          0,
          1,
          2,
          3,
          4,
          5,
          6,
          7,
          8
         ],
         "type": "box",
         "y": [
          2.5486441109725275e-13,
          2.362222203370024e-13,
          2.736488566123856e-13,
          3.197579595321243e-13,
          2.5039576629217287e-13,
          2.492219812423255e-13,
          2.3458548377120625e-13,
          2.729041652534157e-13,
          2.5051895870890386e-13
         ]
        },
        {
         "boxpoints": "all",
         "hovertemplate": "Epoch: %{text}<br>STD: %{y: .2e}",
         "line": {
          "width": 1
         },
         "marker": {
          "size": 3
         },
         "name": "MEG1011",
         "opacity": 0.7,
         "pointpos": 0,
         "text": [
          0,
          1,
          2,
          3,
          4,
          5,
          6,
          7,
          8
         ],
         "type": "box",
         "y": [
          2.5710892978759046e-13,
          2.505731026243933e-13,
          2.796313903981969e-13,
          2.7963050838679067e-13,
          2.584853572403439e-13,
          2.705936273822735e-13,
          2.5855410029191033e-13,
          2.9479797927751317e-13,
          2.4184749991357724e-13
         ]
        },
        {
         "boxpoints": "all",
         "hovertemplate": "Epoch: %{text}<br>STD: %{y: .2e}",
         "line": {
          "width": 1
         },
         "marker": {
          "size": 3
         },
         "name": "MEG1021",
         "opacity": 0.7,
         "pointpos": 0,
         "text": [
          0,
          1,
          2,
          3,
          4,
          5,
          6,
          7,
          8
         ],
         "type": "box",
         "y": [
          2.60641406342747e-13,
          2.493672425979019e-13,
          2.7941215119108283e-13,
          3.0046051279185295e-13,
          2.7296491804941977e-13,
          2.826546586975226e-13,
          2.5636554626407956e-13,
          2.8345835566745977e-13,
          2.648536056850278e-13
         ]
        },
        {
         "boxpoints": "all",
         "hovertemplate": "Epoch: %{text}<br>STD: %{y: .2e}",
         "line": {
          "width": 1
         },
         "marker": {
          "size": 3
         },
         "name": "MEG1031",
         "opacity": 0.7,
         "pointpos": 0,
         "text": [
          0,
          1,
          2,
          3,
          4,
          5,
          6,
          7,
          8
         ],
         "type": "box",
         "y": [
          2.8778607362840286e-13,
          2.698288351897037e-13,
          2.90728950133536e-13,
          2.8938502904362416e-13,
          2.7587306661059773e-13,
          3.2235647100549806e-13,
          2.8320049115937975e-13,
          2.8727704437882884e-13,
          2.752017090268491e-13
         ]
        },
        {
         "boxpoints": "all",
         "hovertemplate": "Epoch: %{text}<br>STD: %{y: .2e}",
         "line": {
          "width": 1
         },
         "marker": {
          "size": 3
         },
         "name": "MEG1041",
         "opacity": 0.7,
         "pointpos": 0,
         "text": [
          0,
          1,
          2,
          3,
          4,
          5,
          6,
          7,
          8
         ],
         "type": "box",
         "y": [
          3.691958628752234e-13,
          3.3538995884950577e-13,
          3.295807625291125e-13,
          3.601796942554603e-13,
          3.7613228759063453e-13,
          3.886522256698709e-13,
          3.053087776572825e-13,
          3.3415360068518217e-13,
          3.3727050941451456e-13
         ]
        },
        {
         "boxpoints": "all",
         "hovertemplate": "Epoch: %{text}<br>STD: %{y: .2e}",
         "line": {
          "width": 1
         },
         "marker": {
          "size": 3
         },
         "name": "MEG1111",
         "opacity": 0.7,
         "pointpos": 0,
         "text": [
          0,
          1,
          2,
          3,
          4,
          5,
          6,
          7,
          8
         ],
         "type": "box",
         "y": [
          4.089688143672644e-13,
          3.6803783380116544e-13,
          3.448773647891614e-13,
          3.570452528026498e-13,
          3.596371021710171e-13,
          4.308471152566852e-13,
          3.3286611784664466e-13,
          2.9629231291976015e-13,
          3.896969574265634e-13
         ]
        },
        {
         "boxpoints": "all",
         "hovertemplate": "Epoch: %{text}<br>STD: %{y: .2e}",
         "line": {
          "width": 1
         },
         "marker": {
          "size": 3
         },
         "name": "MEG1121",
         "opacity": 0.7,
         "pointpos": 0,
         "text": [
          0,
          1,
          2,
          3,
          4,
          5,
          6,
          7,
          8
         ],
         "type": "box",
         "y": [
          4.617595568946682e-13,
          3.988906408355181e-13,
          3.9972908708523227e-13,
          3.473888289514838e-13,
          3.273642871760464e-13,
          4.453064733628355e-13,
          3.842424086595919e-13,
          3.3720431618320604e-13,
          4.274396851319624e-13
         ]
        },
        {
         "boxpoints": "all",
         "hovertemplate": "Epoch: %{text}<br>STD: %{y: .2e}",
         "line": {
          "width": 1
         },
         "marker": {
          "size": 3
         },
         "name": "MEG1131",
         "opacity": 0.7,
         "pointpos": 0,
         "text": [
          0,
          1,
          2,
          3,
          4,
          5,
          6,
          7,
          8
         ],
         "type": "box",
         "y": [
          5.722171921965598e-13,
          4.1245390815420835e-13,
          3.943292613247583e-13,
          3.964832603582522e-13,
          3.926120650607197e-13,
          4.860970115168039e-13,
          3.8940078382291797e-13,
          3.028936680677408e-13,
          4.76510116913567e-13
         ]
        },
        {
         "boxpoints": "all",
         "hovertemplate": "Epoch: %{text}<br>STD: %{y: .2e}",
         "line": {
          "width": 1
         },
         "marker": {
          "size": 3
         },
         "name": "MEG1141",
         "opacity": 0.7,
         "pointpos": 0,
         "text": [
          0,
          1,
          2,
          3,
          4,
          5,
          6,
          7,
          8
         ],
         "type": "box",
         "y": [
          5.444990774194264e-13,
          4.001683634042981e-13,
          3.8872585385437386e-13,
          4.257220470817729e-13,
          5.088647532161934e-13,
          4.766596992956193e-13,
          3.5320454934902375e-13,
          3.4168706237251543e-13,
          5.137411272310337e-13
         ]
        },
        {
         "boxpoints": "all",
         "hovertemplate": "Epoch: %{text}<br>STD: %{y: .2e}",
         "line": {
          "width": 1
         },
         "marker": {
          "size": 3
         },
         "name": "MEG1211",
         "opacity": 0.7,
         "pointpos": 0,
         "text": [
          0,
          1,
          2,
          3,
          4,
          5,
          6,
          7,
          8
         ],
         "type": "box",
         "y": [
          3.381815140640724e-13,
          3.3846816396828135e-13,
          3.2409495104137704e-13,
          3.4415202303389974e-13,
          3.6584333468759994e-13,
          3.081368099158283e-13,
          3.462806654104772e-13,
          4.0218830701725223e-13,
          4.294059200594664e-13
         ]
        },
        {
         "boxpoints": "all",
         "hovertemplate": "Epoch: %{text}<br>STD: %{y: .2e}",
         "line": {
          "width": 1
         },
         "marker": {
          "size": 3
         },
         "name": "MEG1221",
         "opacity": 0.7,
         "pointpos": 0,
         "text": [
          0,
          1,
          2,
          3,
          4,
          5,
          6,
          7,
          8
         ],
         "type": "box",
         "y": [
          4.2016501455967343e-13,
          4.598962977094132e-13,
          3.6138421462572067e-13,
          3.955305461024065e-13,
          4.168207708780514e-13,
          3.7311346954364753e-13,
          4.257237305417234e-13,
          4.4862940945167707e-13,
          4.3783565436010596e-13
         ]
        },
        {
         "boxpoints": "all",
         "hovertemplate": "Epoch: %{text}<br>STD: %{y: .2e}",
         "line": {
          "width": 1
         },
         "marker": {
          "size": 3
         },
         "name": "MEG1231",
         "opacity": 0.7,
         "pointpos": 0,
         "text": [
          0,
          1,
          2,
          3,
          4,
          5,
          6,
          7,
          8
         ],
         "type": "box",
         "y": [
          3.3091769018424536e-13,
          3.638041951936693e-13,
          3.582367732086396e-13,
          3.5405051019910957e-13,
          3.145037239919911e-13,
          3.631018407048809e-13,
          3.7140998301245245e-13,
          3.5148058050186503e-13,
          3.8272225625417745e-13
         ]
        },
        {
         "boxpoints": "all",
         "hovertemplate": "Epoch: %{text}<br>STD: %{y: .2e}",
         "line": {
          "width": 1
         },
         "marker": {
          "size": 3
         },
         "name": "MEG1241",
         "opacity": 0.7,
         "pointpos": 0,
         "text": [
          0,
          1,
          2,
          3,
          4,
          5,
          6,
          7,
          8
         ],
         "type": "box",
         "y": [
          3.194578742470294e-13,
          3.2110529775025195e-13,
          3.310501888734448e-13,
          3.1001054736372356e-13,
          2.8837768444332283e-13,
          3.681805153806004e-13,
          3.2887284639816947e-13,
          3.0911117457182125e-13,
          3.4365232046270657e-13
         ]
        },
        {
         "boxpoints": "all",
         "hovertemplate": "Epoch: %{text}<br>STD: %{y: .2e}",
         "line": {
          "width": 1
         },
         "marker": {
          "size": 3
         },
         "name": "MEG1311",
         "opacity": 0.7,
         "pointpos": 0,
         "text": [
          0,
          1,
          2,
          3,
          4,
          5,
          6,
          7,
          8
         ],
         "type": "box",
         "y": [
          4.2246207372453787e-13,
          4.227137733728454e-13,
          4.233881348394244e-13,
          3.687426708971771e-13,
          3.4374818826564e-13,
          4.055599388365488e-13,
          4.1478673759567045e-13,
          3.758773179407203e-13,
          4.2142561947427114e-13
         ]
        },
        {
         "boxpoints": "all",
         "hovertemplate": "Epoch: %{text}<br>STD: %{y: .2e}",
         "line": {
          "width": 1
         },
         "marker": {
          "size": 3
         },
         "name": "MEG1321",
         "opacity": 0.7,
         "pointpos": 0,
         "text": [
          0,
          1,
          2,
          3,
          4,
          5,
          6,
          7,
          8
         ],
         "type": "box",
         "y": [
          4.75936162303487e-13,
          4.803044119559793e-13,
          4.1709604718845687e-13,
          4.058163148685936e-13,
          3.9842400398498937e-13,
          4.1383691998196114e-13,
          4.486652395294771e-13,
          4.189936992707735e-13,
          4.194667230982153e-13
         ]
        },
        {
         "boxpoints": "all",
         "hovertemplate": "Epoch: %{text}<br>STD: %{y: .2e}",
         "line": {
          "width": 1
         },
         "marker": {
          "size": 3
         },
         "name": "MEG1331",
         "opacity": 0.7,
         "pointpos": 0,
         "text": [
          0,
          1,
          2,
          3,
          4,
          5,
          6,
          7,
          8
         ],
         "type": "box",
         "y": [
          4.4562075779268115e-13,
          3.637603556692439e-13,
          3.713137352049544e-13,
          3.3475833987903135e-13,
          3.3453261038180304e-13,
          3.492361464516814e-13,
          3.9556681616317275e-13,
          3.231739354290322e-13,
          4.0126695800293686e-13
         ]
        },
        {
         "boxpoints": "all",
         "hovertemplate": "Epoch: %{text}<br>STD: %{y: .2e}",
         "line": {
          "width": 1
         },
         "marker": {
          "size": 3
         },
         "name": "MEG1341",
         "opacity": 0.7,
         "pointpos": 0,
         "text": [
          0,
          1,
          2,
          3,
          4,
          5,
          6,
          7,
          8
         ],
         "type": "box",
         "y": [
          5.56535073757705e-13,
          3.8582535038373256e-13,
          4.206333585743839e-13,
          4.08909129277491e-13,
          3.913744450026043e-13,
          4.4598892500172417e-13,
          4.4088014826235225e-13,
          3.485616703149731e-13,
          4.5107978689190023e-13
         ]
        },
        {
         "boxpoints": "all",
         "hovertemplate": "Epoch: %{text}<br>STD: %{y: .2e}",
         "line": {
          "width": 1
         },
         "marker": {
          "size": 3
         },
         "name": "MEG1411",
         "opacity": 0.7,
         "pointpos": 0,
         "text": [
          0,
          1,
          2,
          3,
          4,
          5,
          6,
          7,
          8
         ],
         "type": "box",
         "y": [
          4.3863534493687637e-13,
          3.8344582184016724e-13,
          4.047089068387634e-13,
          4.3652365926128476e-13,
          4.782565463546543e-13,
          3.8278255448534595e-13,
          4.953780794886936e-13,
          4.880265257803081e-13,
          5.000738261097724e-13
         ]
        },
        {
         "boxpoints": "all",
         "hovertemplate": "Epoch: %{text}<br>STD: %{y: .2e}",
         "line": {
          "width": 1
         },
         "marker": {
          "size": 3
         },
         "name": "MEG1421",
         "opacity": 0.7,
         "pointpos": 0,
         "text": [
          0,
          1,
          2,
          3,
          4,
          5,
          6,
          7,
          8
         ],
         "type": "box",
         "y": [
          3.443193698291248e-13,
          2.5121264645121535e-13,
          3.419408898110727e-13,
          3.6888346942850663e-13,
          3.553282358792239e-13,
          3.0856751774353364e-13,
          3.9229676504974097e-13,
          3.8155608311960403e-13,
          4.0029294250879377e-13
         ]
        },
        {
         "boxpoints": "all",
         "hovertemplate": "Epoch: %{text}<br>STD: %{y: .2e}",
         "line": {
          "width": 1
         },
         "marker": {
          "size": 3
         },
         "name": "MEG1431",
         "opacity": 0.7,
         "pointpos": 0,
         "text": [
          0,
          1,
          2,
          3,
          4,
          5,
          6,
          7,
          8
         ],
         "type": "box",
         "y": [
          3.4207454316900727e-13,
          2.4805792396800845e-13,
          3.3043727273628217e-13,
          3.5051596474883943e-13,
          3.1390221367819147e-13,
          2.791170997120606e-13,
          3.6153370660304294e-13,
          3.548612950050193e-13,
          3.301775842278702e-13
         ]
        },
        {
         "boxpoints": "all",
         "hovertemplate": "Epoch: %{text}<br>STD: %{y: .2e}",
         "line": {
          "width": 1
         },
         "marker": {
          "size": 3
         },
         "name": "MEG1441",
         "opacity": 0.7,
         "pointpos": 0,
         "text": [
          0,
          1,
          2,
          3,
          4,
          5,
          6,
          7,
          8
         ],
         "type": "box",
         "y": [
          4.084743899663793e-13,
          3.7805369664384377e-13,
          3.90963843311359e-13,
          4.137168673306906e-13,
          4.0299711592002646e-13,
          3.50720009537068e-13,
          4.700588805510904e-13,
          4.385777911002493e-13,
          4.2759494040377066e-13
         ]
        },
        {
         "boxpoints": "all",
         "hovertemplate": "Epoch: %{text}<br>STD: %{y: .2e}",
         "line": {
          "width": 1
         },
         "marker": {
          "size": 3
         },
         "name": "MEG1511",
         "opacity": 0.7,
         "pointpos": 0,
         "text": [
          0,
          1,
          2,
          3,
          4,
          5,
          6,
          7,
          8
         ],
         "type": "box",
         "y": [
          4.247310603573824e-13,
          2.8807433774600983e-13,
          3.2904231480745273e-13,
          3.980535965928213e-13,
          3.209140588856085e-13,
          3.147882035153723e-13,
          4.107545645878925e-13,
          3.6901926407479513e-13,
          3.6432834173444284e-13
         ]
        },
        {
         "boxpoints": "all",
         "hovertemplate": "Epoch: %{text}<br>STD: %{y: .2e}",
         "line": {
          "width": 1
         },
         "marker": {
          "size": 3
         },
         "name": "MEG1521",
         "opacity": 0.7,
         "pointpos": 0,
         "text": [
          0,
          1,
          2,
          3,
          4,
          5,
          6,
          7,
          8
         ],
         "type": "box",
         "y": [
          3.820988905525871e-13,
          2.6551510036738256e-13,
          3.3666957485737443e-13,
          3.690215527111757e-13,
          3.1786772222028e-13,
          3.031597574024067e-13,
          3.763742704098982e-13,
          3.238456042044006e-13,
          3.1913757664021303e-13
         ]
        },
        {
         "boxpoints": "all",
         "hovertemplate": "Epoch: %{text}<br>STD: %{y: .2e}",
         "line": {
          "width": 1
         },
         "marker": {
          "size": 3
         },
         "name": "MEG1531",
         "opacity": 0.7,
         "pointpos": 0,
         "text": [
          0,
          1,
          2,
          3,
          4,
          5,
          6,
          7,
          8
         ],
         "type": "box",
         "y": [
          3.9101400146595863e-13,
          3.469246398385726e-13,
          3.887190490926338e-13,
          4.515882790299364e-13,
          3.783030604950573e-13,
          3.9353353206977013e-13,
          4.0893407359120376e-13,
          3.681627719406317e-13,
          3.893918509285619e-13
         ]
        },
        {
         "boxpoints": "all",
         "hovertemplate": "Epoch: %{text}<br>STD: %{y: .2e}",
         "line": {
          "width": 1
         },
         "marker": {
          "size": 3
         },
         "name": "MEG1541",
         "opacity": 0.7,
         "pointpos": 0,
         "text": [
          0,
          1,
          2,
          3,
          4,
          5,
          6,
          7,
          8
         ],
         "type": "box",
         "y": [
          3.655749186753682e-13,
          3.3379201894699267e-13,
          3.5225322957029903e-13,
          4.101413383619993e-13,
          3.426754346555992e-13,
          3.8333381075866654e-13,
          4.015014864048695e-13,
          3.3535522317620884e-13,
          3.3260594764346196e-13
         ]
        },
        {
         "boxpoints": "all",
         "hovertemplate": "Epoch: %{text}<br>STD: %{y: .2e}",
         "line": {
          "width": 1
         },
         "marker": {
          "size": 3
         },
         "name": "MEG1611",
         "opacity": 0.7,
         "pointpos": 0,
         "text": [
          0,
          1,
          2,
          3,
          4,
          5,
          6,
          7,
          8
         ],
         "type": "box",
         "y": [
          4.292085641645827e-13,
          2.8262528018154567e-13,
          3.5661065357655333e-13,
          4.1818117326450365e-13,
          3.245022445736507e-13,
          4.0725411707391227e-13,
          3.9861739424085034e-13,
          3.9496293580569297e-13,
          3.410624532830311e-13
         ]
        },
        {
         "boxpoints": "all",
         "hovertemplate": "Epoch: %{text}<br>STD: %{y: .2e}",
         "line": {
          "width": 1
         },
         "marker": {
          "size": 3
         },
         "name": "MEG1621",
         "opacity": 0.7,
         "pointpos": 0,
         "text": [
          0,
          1,
          2,
          3,
          4,
          5,
          6,
          7,
          8
         ],
         "type": "box",
         "y": [
          4.634818765525268e-13,
          3.1622172154689387e-13,
          3.9600021049915895e-13,
          4.1676020701827767e-13,
          3.8372897545089395e-13,
          5.024485940763044e-13,
          4.3105713630591495e-13,
          5.192495337102871e-13,
          3.8644140074498703e-13
         ]
        },
        {
         "boxpoints": "all",
         "hovertemplate": "Epoch: %{text}<br>STD: %{y: .2e}",
         "line": {
          "width": 1
         },
         "marker": {
          "size": 3
         },
         "name": "MEG1631",
         "opacity": 0.7,
         "pointpos": 0,
         "text": [
          0,
          1,
          2,
          3,
          4,
          5,
          6,
          7,
          8
         ],
         "type": "box",
         "y": [
          4.781962929305323e-13,
          3.17134073300589e-13,
          3.7914284471748377e-13,
          4.3448397411046793e-13,
          4.3381300008593895e-13,
          5.784666286342852e-13,
          4.458476012338235e-13,
          4.781045841346439e-13,
          4.424389513699836e-13
         ]
        },
        {
         "boxpoints": "all",
         "hovertemplate": "Epoch: %{text}<br>STD: %{y: .2e}",
         "line": {
          "width": 1
         },
         "marker": {
          "size": 3
         },
         "name": "MEG1641",
         "opacity": 0.7,
         "pointpos": 0,
         "text": [
          0,
          1,
          2,
          3,
          4,
          5,
          6,
          7,
          8
         ],
         "type": "box",
         "y": [
          4.355559582926493e-13,
          2.7535225085311853e-13,
          3.3651273891822697e-13,
          4.207132803314199e-13,
          3.7705335859746786e-13,
          4.1256148230507317e-13,
          3.6052734487978353e-13,
          4.104976315257528e-13,
          3.3929094654030997e-13
         ]
        },
        {
         "boxpoints": "all",
         "hovertemplate": "Epoch: %{text}<br>STD: %{y: .2e}",
         "line": {
          "width": 1
         },
         "marker": {
          "size": 3
         },
         "name": "MEG1711",
         "opacity": 0.7,
         "pointpos": 0,
         "text": [
          0,
          1,
          2,
          3,
          4,
          5,
          6,
          7,
          8
         ],
         "type": "box",
         "y": [
          3.853571076002331e-13,
          3.3284013992949313e-13,
          3.84313902630226e-13,
          4.299935966718339e-13,
          3.790823173102926e-13,
          3.625766069690987e-13,
          3.831912609735228e-13,
          3.8605398129925555e-13,
          4.082176216515048e-13
         ]
        },
        {
         "boxpoints": "all",
         "hovertemplate": "Epoch: %{text}<br>STD: %{y: .2e}",
         "line": {
          "width": 1
         },
         "marker": {
          "size": 3
         },
         "name": "MEG1721",
         "opacity": 0.7,
         "pointpos": 0,
         "text": [
          0,
          1,
          2,
          3,
          4,
          5,
          6,
          7,
          8
         ],
         "type": "box",
         "y": [
          3.7977203300051114e-13,
          2.7426111087128145e-13,
          3.292861645101148e-13,
          3.6660467299756724e-13,
          3.5348367749808694e-13,
          3.266151102499484e-13,
          3.338565143812224e-13,
          3.4900162119907404e-13,
          3.545659416379268e-13
         ]
        },
        {
         "boxpoints": "all",
         "hovertemplate": "Epoch: %{text}<br>STD: %{y: .2e}",
         "line": {
          "width": 1
         },
         "marker": {
          "size": 3
         },
         "name": "MEG1731",
         "opacity": 0.7,
         "pointpos": 0,
         "text": [
          0,
          1,
          2,
          3,
          4,
          5,
          6,
          7,
          8
         ],
         "type": "box",
         "y": [
          3.4299600563481897e-13,
          2.434878778381182e-13,
          2.8412571515035047e-13,
          3.127478483285371e-13,
          3.298384158223884e-13,
          2.8704858118744367e-13,
          2.713040468441055e-13,
          3.3881351330440766e-13,
          3.358385397256307e-13
         ]
        },
        {
         "boxpoints": "all",
         "hovertemplate": "Epoch: %{text}<br>STD: %{y: .2e}",
         "line": {
          "width": 1
         },
         "marker": {
          "size": 3
         },
         "name": "MEG1741",
         "opacity": 0.7,
         "pointpos": 0,
         "text": [
          0,
          1,
          2,
          3,
          4,
          5,
          6,
          7,
          8
         ],
         "type": "box",
         "y": [
          3.215670468755307e-13,
          2.834900161784284e-13,
          3.2205763006651456e-13,
          3.4903023207436556e-13,
          3.0650139122581873e-13,
          2.9134786513618553e-13,
          3.020484313900614e-13,
          3.359335623579841e-13,
          3.443328704544792e-13
         ]
        },
        {
         "boxpoints": "all",
         "hovertemplate": "Epoch: %{text}<br>STD: %{y: .2e}",
         "line": {
          "width": 1
         },
         "marker": {
          "size": 3
         },
         "name": "MEG1811",
         "opacity": 0.7,
         "pointpos": 0,
         "text": [
          0,
          1,
          2,
          3,
          4,
          5,
          6,
          7,
          8
         ],
         "type": "box",
         "y": [
          4.3971612467877e-13,
          3.409461762210845e-13,
          4.129118932523726e-13,
          3.8921476548306066e-13,
          5.006162579306182e-13,
          5.378309324379684e-13,
          4.276404521256098e-13,
          5.831861025667222e-13,
          4.250835879293879e-13
         ]
        },
        {
         "boxpoints": "all",
         "hovertemplate": "Epoch: %{text}<br>STD: %{y: .2e}",
         "line": {
          "width": 1
         },
         "marker": {
          "size": 3
         },
         "name": "MEG1821",
         "opacity": 0.7,
         "pointpos": 0,
         "text": [
          0,
          1,
          2,
          3,
          4,
          5,
          6,
          7,
          8
         ],
         "type": "box",
         "y": [
          4.556061042947859e-13,
          4.3685637423979087e-13,
          3.8724071021003154e-13,
          4.0469989905284924e-13,
          5.64357345903682e-13,
          5.160851966407574e-13,
          3.53710542568015e-13,
          5.96107625045031e-13,
          4.540706327375653e-13
         ]
        },
        {
         "boxpoints": "all",
         "hovertemplate": "Epoch: %{text}<br>STD: %{y: .2e}",
         "line": {
          "width": 1
         },
         "marker": {
          "size": 3
         },
         "name": "MEG1831",
         "opacity": 0.7,
         "pointpos": 0,
         "text": [
          0,
          1,
          2,
          3,
          4,
          5,
          6,
          7,
          8
         ],
         "type": "box",
         "y": [
          3.424741390659854e-13,
          4.193606230209532e-13,
          3.7266201613231375e-13,
          4.1420785198795773e-13,
          5.049985640938935e-13,
          4.917999816576804e-13,
          3.1043630576153897e-13,
          5.488283862433382e-13,
          3.931269278187675e-13
         ]
        },
        {
         "boxpoints": "all",
         "hovertemplate": "Epoch: %{text}<br>STD: %{y: .2e}",
         "line": {
          "width": 1
         },
         "marker": {
          "size": 3
         },
         "name": "MEG1841",
         "opacity": 0.7,
         "pointpos": 0,
         "text": [
          0,
          1,
          2,
          3,
          4,
          5,
          6,
          7,
          8
         ],
         "type": "box",
         "y": [
          4.3005349498008095e-13,
          3.6757924463223846e-13,
          3.639300176487999e-13,
          4.4334247390920244e-13,
          4.863717223023692e-13,
          5.996325906726039e-13,
          4.1952738820983197e-13,
          5.363802571650276e-13,
          4.557877595617507e-13
         ]
        },
        {
         "boxpoints": "all",
         "hovertemplate": "Epoch: %{text}<br>STD: %{y: .2e}",
         "line": {
          "width": 1
         },
         "marker": {
          "size": 3
         },
         "name": "MEG1911",
         "opacity": 0.7,
         "pointpos": 0,
         "text": [
          0,
          1,
          2,
          3,
          4,
          5,
          6,
          7,
          8
         ],
         "type": "box",
         "y": [
          4.725562818524072e-13,
          3.446132404393651e-13,
          3.359218331145682e-13,
          4.763284218108767e-13,
          3.973794185080033e-13,
          5.45318900440606e-13,
          4.619113057480629e-13,
          3.81295574381674e-13,
          4.4165558601427844e-13
         ]
        },
        {
         "boxpoints": "all",
         "hovertemplate": "Epoch: %{text}<br>STD: %{y: .2e}",
         "line": {
          "width": 1
         },
         "marker": {
          "size": 3
         },
         "name": "MEG1921",
         "opacity": 0.7,
         "pointpos": 0,
         "text": [
          0,
          1,
          2,
          3,
          4,
          5,
          6,
          7,
          8
         ],
         "type": "box",
         "y": [
          4.209652019545934e-13,
          2.765603843068293e-13,
          2.826044240166948e-13,
          3.9669962702029484e-13,
          4.042049321903773e-13,
          2.8987121361450354e-13,
          3.250883255354223e-13,
          4.804287218248376e-13,
          3.2583681285997683e-13
         ]
        },
        {
         "boxpoints": "all",
         "hovertemplate": "Epoch: %{text}<br>STD: %{y: .2e}",
         "line": {
          "width": 1
         },
         "marker": {
          "size": 3
         },
         "name": "MEG1931",
         "opacity": 0.7,
         "pointpos": 0,
         "text": [
          0,
          1,
          2,
          3,
          4,
          5,
          6,
          7,
          8
         ],
         "type": "box",
         "y": [
          3.1551411296382925e-13,
          2.1921455836483692e-13,
          2.511572707292563e-13,
          2.886902985472356e-13,
          3.0367133004671365e-13,
          2.5728911671321683e-13,
          2.309538762951098e-13,
          3.513950040703524e-13,
          2.747198778907414e-13
         ]
        },
        {
         "boxpoints": "all",
         "hovertemplate": "Epoch: %{text}<br>STD: %{y: .2e}",
         "line": {
          "width": 1
         },
         "marker": {
          "size": 3
         },
         "name": "MEG1941",
         "opacity": 0.7,
         "pointpos": 0,
         "text": [
          0,
          1,
          2,
          3,
          4,
          5,
          6,
          7,
          8
         ],
         "type": "box",
         "y": [
          4.259914880420117e-13,
          2.7764497872413565e-13,
          3.0925151941674805e-13,
          4.0683350002964526e-13,
          3.813042738951148e-13,
          3.6759527882251315e-13,
          3.4960232267603544e-13,
          4.0989511812490683e-13,
          3.6311676911945855e-13
         ]
        },
        {
         "boxpoints": "all",
         "hovertemplate": "Epoch: %{text}<br>STD: %{y: .2e}",
         "line": {
          "width": 1
         },
         "marker": {
          "size": 3
         },
         "name": "MEG2011",
         "opacity": 0.7,
         "pointpos": 0,
         "text": [
          0,
          1,
          2,
          3,
          4,
          5,
          6,
          7,
          8
         ],
         "type": "box",
         "y": [
          3.8017921025459606e-13,
          3.779794816075145e-13,
          3.1425372716959784e-13,
          4.966848884091057e-13,
          4.536858541103412e-13,
          5.310015138952583e-13,
          3.406841604087797e-13,
          4.918804413025127e-13,
          3.765623317436886e-13
         ]
        },
        {
         "boxpoints": "all",
         "hovertemplate": "Epoch: %{text}<br>STD: %{y: .2e}",
         "line": {
          "width": 1
         },
         "marker": {
          "size": 3
         },
         "name": "MEG2021",
         "opacity": 0.7,
         "pointpos": 0,
         "text": [
          0,
          1,
          2,
          3,
          4,
          5,
          6,
          7,
          8
         ],
         "type": "box",
         "y": [
          4.608826934328403e-13,
          3.128910202443174e-13,
          3.3416147721476706e-13,
          4.722438481598356e-13,
          4.966900419325295e-13,
          5.288209827029652e-13,
          4.1903683573918617e-13,
          5.769722856106096e-13,
          4.0195049851191556e-13
         ]
        },
        {
         "boxpoints": "all",
         "hovertemplate": "Epoch: %{text}<br>STD: %{y: .2e}",
         "line": {
          "width": 1
         },
         "marker": {
          "size": 3
         },
         "name": "MEG2031",
         "opacity": 0.7,
         "pointpos": 0,
         "text": [
          0,
          1,
          2,
          3,
          4,
          5,
          6,
          7,
          8
         ],
         "type": "box",
         "y": [
          5.143638677496649e-13,
          2.97945765942472e-13,
          3.696882720859701e-13,
          5.418061098831447e-13,
          5.761615302535355e-13,
          5.280480198302796e-13,
          4.307459329335815e-13,
          6.471733489498516e-13,
          3.861851544178148e-13
         ]
        },
        {
         "boxpoints": "all",
         "hovertemplate": "Epoch: %{text}<br>STD: %{y: .2e}",
         "line": {
          "width": 1
         },
         "marker": {
          "size": 3
         },
         "name": "MEG2041",
         "opacity": 0.7,
         "pointpos": 0,
         "text": [
          0,
          1,
          2,
          3,
          4,
          5,
          6,
          7,
          8
         ],
         "type": "box",
         "y": [
          4.94106295748517e-13,
          3.4393451780864803e-13,
          3.3444652663991143e-13,
          5.398443445855104e-13,
          4.630280603851678e-13,
          4.709483744200483e-13,
          3.899815865223678e-13,
          5.521049995378853e-13,
          3.523818682519466e-13
         ]
        },
        {
         "boxpoints": "all",
         "hovertemplate": "Epoch: %{text}<br>STD: %{y: .2e}",
         "line": {
          "width": 1
         },
         "marker": {
          "size": 3
         },
         "name": "MEG2111",
         "opacity": 0.7,
         "pointpos": 0,
         "text": [
          0,
          1,
          2,
          3,
          4,
          5,
          6,
          7,
          8
         ],
         "type": "box",
         "y": [
          4.298716277733272e-13,
          3.0008326283535023e-13,
          3.4414359558378403e-13,
          4.673423817799159e-13,
          4.767679124032042e-13,
          3.7809849610710156e-13,
          3.4000299135055395e-13,
          5.586108423751425e-13,
          2.9931738617073013e-13
         ]
        },
        {
         "boxpoints": "all",
         "hovertemplate": "Epoch: %{text}<br>STD: %{y: .2e}",
         "line": {
          "width": 1
         },
         "marker": {
          "size": 3
         },
         "name": "MEG2121",
         "opacity": 0.7,
         "pointpos": 0,
         "text": [
          0,
          1,
          2,
          3,
          4,
          5,
          6,
          7,
          8
         ],
         "type": "box",
         "y": [
          3.7218599775515426e-13,
          2.985681720778534e-13,
          3.196250018499883e-13,
          3.6748299970479606e-13,
          3.731356305273856e-13,
          3.434291706759783e-13,
          2.8825770975596273e-13,
          4.105216935116915e-13,
          3.3283189248434024e-13
         ]
        },
        {
         "boxpoints": "all",
         "hovertemplate": "Epoch: %{text}<br>STD: %{y: .2e}",
         "line": {
          "width": 1
         },
         "marker": {
          "size": 3
         },
         "name": "MEG2131",
         "opacity": 0.7,
         "pointpos": 0,
         "text": [
          0,
          1,
          2,
          3,
          4,
          5,
          6,
          7,
          8
         ],
         "type": "box",
         "y": [
          3.2626747752656173e-13,
          3.030202239467329e-13,
          3.029843358061111e-13,
          3.3391180174637494e-13,
          3.132620017044424e-13,
          3.045689784147478e-13,
          2.951756700186263e-13,
          3.1678052381415843e-13,
          3.0755512215559307e-13
         ]
        },
        {
         "boxpoints": "all",
         "hovertemplate": "Epoch: %{text}<br>STD: %{y: .2e}",
         "line": {
          "width": 1
         },
         "marker": {
          "size": 3
         },
         "name": "MEG2141",
         "opacity": 0.7,
         "pointpos": 0,
         "text": [
          0,
          1,
          2,
          3,
          4,
          5,
          6,
          7,
          8
         ],
         "type": "box",
         "y": [
          2.9623917374568353e-13,
          2.810452308064034e-13,
          2.8197500425347365e-13,
          3.158968328745756e-13,
          2.7754744117638247e-13,
          2.7033749988029257e-13,
          2.616207351122603e-13,
          3.0288815197300123e-13,
          3.009025035046188e-13
         ]
        },
        {
         "boxpoints": "all",
         "hovertemplate": "Epoch: %{text}<br>STD: %{y: .2e}",
         "line": {
          "width": 1
         },
         "marker": {
          "size": 3
         },
         "name": "MEG2211",
         "opacity": 0.7,
         "pointpos": 0,
         "text": [
          0,
          1,
          2,
          3,
          4,
          5,
          6,
          7,
          8
         ],
         "type": "box",
         "y": [
          5.449585542727147e-13,
          3.747521877660791e-13,
          3.8237438648199136e-13,
          4.059103853677759e-13,
          4.939831691513637e-13,
          4.598381823847783e-13,
          4.149527788991183e-13,
          3.873018847473115e-13,
          4.256326406835548e-13
         ]
        },
        {
         "boxpoints": "all",
         "hovertemplate": "Epoch: %{text}<br>STD: %{y: .2e}",
         "line": {
          "width": 1
         },
         "marker": {
          "size": 3
         },
         "name": "MEG2221",
         "opacity": 0.7,
         "pointpos": 0,
         "text": [
          0,
          1,
          2,
          3,
          4,
          5,
          6,
          7,
          8
         ],
         "type": "box",
         "y": [
          4.583338464095155e-13,
          3.5195524226370323e-13,
          3.491708348541266e-13,
          3.674968970463795e-13,
          3.995825544959583e-13,
          4.425286368180797e-13,
          4.270862597722117e-13,
          3.5889894544349343e-13,
          4.967960043967684e-13
         ]
        },
        {
         "boxpoints": "all",
         "hovertemplate": "Epoch: %{text}<br>STD: %{y: .2e}",
         "line": {
          "width": 1
         },
         "marker": {
          "size": 3
         },
         "name": "MEG2231",
         "opacity": 0.7,
         "pointpos": 0,
         "text": [
          0,
          1,
          2,
          3,
          4,
          5,
          6,
          7,
          8
         ],
         "type": "box",
         "y": [
          4.116816702300385e-13,
          2.989156035039256e-13,
          3.105249017069632e-13,
          4.170361917815151e-13,
          4.1300489234993724e-13,
          4.0279616651464145e-13,
          4.3474068604275234e-13,
          4.370964033602343e-13,
          4.630867005742584e-13
         ]
        },
        {
         "boxpoints": "all",
         "hovertemplate": "Epoch: %{text}<br>STD: %{y: .2e}",
         "line": {
          "width": 1
         },
         "marker": {
          "size": 3
         },
         "name": "MEG2241",
         "opacity": 0.7,
         "pointpos": 0,
         "text": [
          0,
          1,
          2,
          3,
          4,
          5,
          6,
          7,
          8
         ],
         "type": "box",
         "y": [
          4.3254756862632274e-13,
          3.507590901847795e-13,
          3.793658012019743e-13,
          4.196624319584239e-13,
          4.924865213614479e-13,
          4.937517262488162e-13,
          3.8386466838511804e-13,
          4.881720933144834e-13,
          3.728716648720194e-13
         ]
        },
        {
         "boxpoints": "all",
         "hovertemplate": "Epoch: %{text}<br>STD: %{y: .2e}",
         "line": {
          "width": 1
         },
         "marker": {
          "size": 3
         },
         "name": "MEG2311",
         "opacity": 0.7,
         "pointpos": 0,
         "text": [
          0,
          1,
          2,
          3,
          4,
          5,
          6,
          7,
          8
         ],
         "type": "box",
         "y": [
          4.0263187159233515e-13,
          2.776601225587979e-13,
          3.4924666987532116e-13,
          4.425205170889933e-13,
          5.250159237276802e-13,
          4.1683323005956007e-13,
          4.4979569286152033e-13,
          5.197004605851663e-13,
          5.134247202311698e-13
         ]
        },
        {
         "boxpoints": "all",
         "hovertemplate": "Epoch: %{text}<br>STD: %{y: .2e}",
         "line": {
          "width": 1
         },
         "marker": {
          "size": 3
         },
         "name": "MEG2321",
         "opacity": 0.7,
         "pointpos": 0,
         "text": [
          0,
          1,
          2,
          3,
          4,
          5,
          6,
          7,
          8
         ],
         "type": "box",
         "y": [
          2.8638885418744756e-13,
          2.604662388828496e-13,
          3.497472529293804e-13,
          3.4203662807461483e-13,
          4.1760282246589647e-13,
          3.558168494929313e-13,
          3.7711825874576175e-13,
          4.2831104145729613e-13,
          4.656746037954615e-13
         ]
        },
        {
         "boxpoints": "all",
         "hovertemplate": "Epoch: %{text}<br>STD: %{y: .2e}",
         "line": {
          "width": 1
         },
         "marker": {
          "size": 3
         },
         "name": "MEG2331",
         "opacity": 0.7,
         "pointpos": 0,
         "text": [
          0,
          1,
          2,
          3,
          4,
          5,
          6,
          7,
          8
         ],
         "type": "box",
         "y": [
          3.500205568830482e-13,
          2.849160945063056e-13,
          3.2240923326095154e-13,
          3.4637557933786857e-13,
          3.6038322498030293e-13,
          3.443902046214863e-13,
          3.015359862523173e-13,
          3.9948539434640784e-13,
          3.4315801078125857e-13
         ]
        },
        {
         "boxpoints": "all",
         "hovertemplate": "Epoch: %{text}<br>STD: %{y: .2e}",
         "line": {
          "width": 1
         },
         "marker": {
          "size": 3
         },
         "name": "MEG2341",
         "opacity": 0.7,
         "pointpos": 0,
         "text": [
          0,
          1,
          2,
          3,
          4,
          5,
          6,
          7,
          8
         ],
         "type": "box",
         "y": [
          3.8608653273942027e-13,
          2.78925310590343e-13,
          3.662753430922248e-13,
          4.112215466405235e-13,
          4.952289558380504e-13,
          3.9673864044453175e-13,
          3.8238278972326365e-13,
          5.105191848616447e-13,
          3.951400266008124e-13
         ]
        },
        {
         "boxpoints": "all",
         "hovertemplate": "Epoch: %{text}<br>STD: %{y: .2e}",
         "line": {
          "width": 1
         },
         "marker": {
          "size": 3
         },
         "name": "MEG2411",
         "opacity": 0.7,
         "pointpos": 0,
         "text": [
          0,
          1,
          2,
          3,
          4,
          5,
          6,
          7,
          8
         ],
         "type": "box",
         "y": [
          4.2053814318687815e-13,
          3.2074328235523016e-13,
          3.63706509604709e-13,
          3.557522709259362e-13,
          3.858652334889869e-13,
          3.996062525281266e-13,
          4.035130214315153e-13,
          4.2665511713082937e-13,
          4.951004679460148e-13
         ]
        },
        {
         "boxpoints": "all",
         "hovertemplate": "Epoch: %{text}<br>STD: %{y: .2e}",
         "line": {
          "width": 1
         },
         "marker": {
          "size": 3
         },
         "name": "MEG2421",
         "opacity": 0.7,
         "pointpos": 0,
         "text": [
          0,
          1,
          2,
          3,
          4,
          5,
          6,
          7,
          8
         ],
         "type": "box",
         "y": [
          3.385760159127652e-13,
          3.155775047364228e-13,
          3.4568115233366044e-13,
          2.955905401720893e-13,
          3.212881062892994e-13,
          3.26143313774873e-13,
          3.1640784267165045e-13,
          3.690219801712463e-13,
          4.067527292780783e-13
         ]
        },
        {
         "boxpoints": "all",
         "hovertemplate": "Epoch: %{text}<br>STD: %{y: .2e}",
         "line": {
          "width": 1
         },
         "marker": {
          "size": 3
         },
         "name": "MEG2431",
         "opacity": 0.7,
         "pointpos": 0,
         "text": [
          0,
          1,
          2,
          3,
          4,
          5,
          6,
          7,
          8
         ],
         "type": "box",
         "y": [
          2.9369105840919665e-13,
          3.042117790250651e-13,
          3.6672905483611675e-13,
          3.32638931461194e-13,
          3.6357658406172377e-13,
          3.4137740269025385e-13,
          3.4433599358885935e-13,
          4.2376735773746533e-13,
          4.463126313390599e-13
         ]
        },
        {
         "boxpoints": "all",
         "hovertemplate": "Epoch: %{text}<br>STD: %{y: .2e}",
         "line": {
          "width": 1
         },
         "marker": {
          "size": 3
         },
         "name": "MEG2441",
         "opacity": 0.7,
         "pointpos": 0,
         "text": [
          0,
          1,
          2,
          3,
          4,
          5,
          6,
          7,
          8
         ],
         "type": "box",
         "y": [
          2.9789864979899365e-13,
          3.062282308426454e-13,
          3.380856347924443e-13,
          3.981553944583145e-13,
          4.274432889330905e-13,
          3.6580107606819484e-13,
          3.993224201798225e-13,
          4.689270238060205e-13,
          5.33490850253691e-13
         ]
        },
        {
         "boxpoints": "all",
         "hovertemplate": "Epoch: %{text}<br>STD: %{y: .2e}",
         "line": {
          "width": 1
         },
         "marker": {
          "size": 3
         },
         "name": "MEG2511",
         "opacity": 0.7,
         "pointpos": 0,
         "text": [
          0,
          1,
          2,
          3,
          4,
          5,
          6,
          7,
          8
         ],
         "type": "box",
         "y": [
          2.9051560747745913e-13,
          2.4393239162208557e-13,
          3.2409678260446394e-13,
          3.098308361452695e-13,
          3.1123534762512037e-13,
          3.038488527641628e-13,
          3.0028305842116675e-13,
          3.6372414186486887e-13,
          3.305579141280489e-13
         ]
        },
        {
         "boxpoints": "all",
         "hovertemplate": "Epoch: %{text}<br>STD: %{y: .2e}",
         "line": {
          "width": 1
         },
         "marker": {
          "size": 3
         },
         "name": "MEG2521",
         "opacity": 0.7,
         "pointpos": 0,
         "text": [
          0,
          1,
          2,
          3,
          4,
          5,
          6,
          7,
          8
         ],
         "type": "box",
         "y": [
          2.942368662949239e-13,
          2.611426806029324e-13,
          3.511396690197309e-13,
          3.171026560461018e-13,
          3.251775981949123e-13,
          2.959324435182099e-13,
          3.193069100451662e-13,
          3.546526644994142e-13,
          3.3705596906508364e-13
         ]
        },
        {
         "boxpoints": "all",
         "hovertemplate": "Epoch: %{text}<br>STD: %{y: .2e}",
         "line": {
          "width": 1
         },
         "marker": {
          "size": 3
         },
         "name": "MEG2531",
         "opacity": 0.7,
         "pointpos": 0,
         "text": [
          0,
          1,
          2,
          3,
          4,
          5,
          6,
          7,
          8
         ],
         "type": "box",
         "y": [
          3.01467073892572e-13,
          2.6851670367008417e-13,
          3.382400044194425e-13,
          3.2359987800945087e-13,
          3.1185567278878797e-13,
          2.9274722636012313e-13,
          3.1858452214151995e-13,
          3.0724839789976466e-13,
          2.899290029714424e-13
         ]
        },
        {
         "boxpoints": "all",
         "hovertemplate": "Epoch: %{text}<br>STD: %{y: .2e}",
         "line": {
          "width": 1
         },
         "marker": {
          "size": 3
         },
         "name": "MEG2541",
         "opacity": 0.7,
         "pointpos": 0,
         "text": [
          0,
          1,
          2,
          3,
          4,
          5,
          6,
          7,
          8
         ],
         "type": "box",
         "y": [
          3.256605013590672e-13,
          2.9371952787153984e-13,
          3.315814753093997e-13,
          3.345245123439451e-13,
          3.225142868045831e-13,
          3.1263696699527733e-13,
          3.1854844919000333e-13,
          3.2196255334465077e-13,
          3.0088476686590133e-13
         ]
        },
        {
         "boxpoints": "all",
         "hovertemplate": "Epoch: %{text}<br>STD: %{y: .2e}",
         "line": {
          "width": 1
         },
         "marker": {
          "size": 3
         },
         "name": "MEG2611",
         "opacity": 0.7,
         "pointpos": 0,
         "text": [
          0,
          1,
          2,
          3,
          4,
          5,
          6,
          7,
          8
         ],
         "type": "box",
         "y": [
          3.610305248328996e-13,
          3.0316312090270087e-13,
          3.7915256206905154e-13,
          3.361967560160401e-13,
          3.3363202733305274e-13,
          2.836582528424892e-13,
          3.894462723623993e-13,
          3.550249110478609e-13,
          3.6195937961274683e-13
         ]
        },
        {
         "boxpoints": "all",
         "hovertemplate": "Epoch: %{text}<br>STD: %{y: .2e}",
         "line": {
          "width": 1
         },
         "marker": {
          "size": 3
         },
         "name": "MEG2621",
         "opacity": 0.7,
         "pointpos": 0,
         "text": [
          0,
          1,
          2,
          3,
          4,
          5,
          6,
          7,
          8
         ],
         "type": "box",
         "y": [
          3.1730752331018676e-13,
          2.452948273551777e-13,
          3.3754679406459367e-13,
          3.312819182317657e-13,
          2.9493628137181005e-13,
          2.6369923970736654e-13,
          3.3973970844579956e-13,
          3.055849877999401e-13,
          3.03658247011547e-13
         ]
        },
        {
         "boxpoints": "all",
         "hovertemplate": "Epoch: %{text}<br>STD: %{y: .2e}",
         "line": {
          "width": 1
         },
         "marker": {
          "size": 3
         },
         "name": "MEG2631",
         "opacity": 0.7,
         "pointpos": 0,
         "text": [
          0,
          1,
          2,
          3,
          4,
          5,
          6,
          7,
          8
         ],
         "type": "box",
         "y": [
          3.0162336461927177e-13,
          2.544263321753877e-13,
          3.3577435437707037e-13,
          3.217161670305641e-13,
          3.0515547977445575e-13,
          2.694685832746104e-13,
          3.288809708337425e-13,
          2.994986219269272e-13,
          2.945995444979407e-13
         ]
        },
        {
         "boxpoints": "all",
         "hovertemplate": "Epoch: %{text}<br>STD: %{y: .2e}",
         "line": {
          "width": 1
         },
         "marker": {
          "size": 3
         },
         "name": "MEG2641",
         "opacity": 0.7,
         "pointpos": 0,
         "text": [
          0,
          1,
          2,
          3,
          4,
          5,
          6,
          7,
          8
         ],
         "type": "box",
         "y": [
          3.210680517147493e-13,
          2.6859133450598517e-13,
          3.634626640556063e-13,
          3.0172948689763114e-13,
          3.390549455128676e-13,
          2.8563529711837507e-13,
          3.3617391450609914e-13,
          3.361191888804172e-13,
          3.5128147960714886e-13
         ]
        }
       ],
       "layout": {
        "template": {
         "data": {
          "bar": [
           {
            "error_x": {
             "color": "#2a3f5f"
            },
            "error_y": {
             "color": "#2a3f5f"
            },
            "marker": {
             "line": {
              "color": "#E5ECF6",
              "width": 0.5
             },
             "pattern": {
              "fillmode": "overlay",
              "size": 10,
              "solidity": 0.2
             }
            },
            "type": "bar"
           }
          ],
          "barpolar": [
           {
            "marker": {
             "line": {
              "color": "#E5ECF6",
              "width": 0.5
             },
             "pattern": {
              "fillmode": "overlay",
              "size": 10,
              "solidity": 0.2
             }
            },
            "type": "barpolar"
           }
          ],
          "carpet": [
           {
            "aaxis": {
             "endlinecolor": "#2a3f5f",
             "gridcolor": "white",
             "linecolor": "white",
             "minorgridcolor": "white",
             "startlinecolor": "#2a3f5f"
            },
            "baxis": {
             "endlinecolor": "#2a3f5f",
             "gridcolor": "white",
             "linecolor": "white",
             "minorgridcolor": "white",
             "startlinecolor": "#2a3f5f"
            },
            "type": "carpet"
           }
          ],
          "choropleth": [
           {
            "colorbar": {
             "outlinewidth": 0,
             "ticks": ""
            },
            "type": "choropleth"
           }
          ],
          "contour": [
           {
            "colorbar": {
             "outlinewidth": 0,
             "ticks": ""
            },
            "colorscale": [
             [
              0,
              "#0d0887"
             ],
             [
              0.1111111111111111,
              "#46039f"
             ],
             [
              0.2222222222222222,
              "#7201a8"
             ],
             [
              0.3333333333333333,
              "#9c179e"
             ],
             [
              0.4444444444444444,
              "#bd3786"
             ],
             [
              0.5555555555555556,
              "#d8576b"
             ],
             [
              0.6666666666666666,
              "#ed7953"
             ],
             [
              0.7777777777777778,
              "#fb9f3a"
             ],
             [
              0.8888888888888888,
              "#fdca26"
             ],
             [
              1,
              "#f0f921"
             ]
            ],
            "type": "contour"
           }
          ],
          "contourcarpet": [
           {
            "colorbar": {
             "outlinewidth": 0,
             "ticks": ""
            },
            "type": "contourcarpet"
           }
          ],
          "heatmap": [
           {
            "colorbar": {
             "outlinewidth": 0,
             "ticks": ""
            },
            "colorscale": [
             [
              0,
              "#0d0887"
             ],
             [
              0.1111111111111111,
              "#46039f"
             ],
             [
              0.2222222222222222,
              "#7201a8"
             ],
             [
              0.3333333333333333,
              "#9c179e"
             ],
             [
              0.4444444444444444,
              "#bd3786"
             ],
             [
              0.5555555555555556,
              "#d8576b"
             ],
             [
              0.6666666666666666,
              "#ed7953"
             ],
             [
              0.7777777777777778,
              "#fb9f3a"
             ],
             [
              0.8888888888888888,
              "#fdca26"
             ],
             [
              1,
              "#f0f921"
             ]
            ],
            "type": "heatmap"
           }
          ],
          "heatmapgl": [
           {
            "colorbar": {
             "outlinewidth": 0,
             "ticks": ""
            },
            "colorscale": [
             [
              0,
              "#0d0887"
             ],
             [
              0.1111111111111111,
              "#46039f"
             ],
             [
              0.2222222222222222,
              "#7201a8"
             ],
             [
              0.3333333333333333,
              "#9c179e"
             ],
             [
              0.4444444444444444,
              "#bd3786"
             ],
             [
              0.5555555555555556,
              "#d8576b"
             ],
             [
              0.6666666666666666,
              "#ed7953"
             ],
             [
              0.7777777777777778,
              "#fb9f3a"
             ],
             [
              0.8888888888888888,
              "#fdca26"
             ],
             [
              1,
              "#f0f921"
             ]
            ],
            "type": "heatmapgl"
           }
          ],
          "histogram": [
           {
            "marker": {
             "pattern": {
              "fillmode": "overlay",
              "size": 10,
              "solidity": 0.2
             }
            },
            "type": "histogram"
           }
          ],
          "histogram2d": [
           {
            "colorbar": {
             "outlinewidth": 0,
             "ticks": ""
            },
            "colorscale": [
             [
              0,
              "#0d0887"
             ],
             [
              0.1111111111111111,
              "#46039f"
             ],
             [
              0.2222222222222222,
              "#7201a8"
             ],
             [
              0.3333333333333333,
              "#9c179e"
             ],
             [
              0.4444444444444444,
              "#bd3786"
             ],
             [
              0.5555555555555556,
              "#d8576b"
             ],
             [
              0.6666666666666666,
              "#ed7953"
             ],
             [
              0.7777777777777778,
              "#fb9f3a"
             ],
             [
              0.8888888888888888,
              "#fdca26"
             ],
             [
              1,
              "#f0f921"
             ]
            ],
            "type": "histogram2d"
           }
          ],
          "histogram2dcontour": [
           {
            "colorbar": {
             "outlinewidth": 0,
             "ticks": ""
            },
            "colorscale": [
             [
              0,
              "#0d0887"
             ],
             [
              0.1111111111111111,
              "#46039f"
             ],
             [
              0.2222222222222222,
              "#7201a8"
             ],
             [
              0.3333333333333333,
              "#9c179e"
             ],
             [
              0.4444444444444444,
              "#bd3786"
             ],
             [
              0.5555555555555556,
              "#d8576b"
             ],
             [
              0.6666666666666666,
              "#ed7953"
             ],
             [
              0.7777777777777778,
              "#fb9f3a"
             ],
             [
              0.8888888888888888,
              "#fdca26"
             ],
             [
              1,
              "#f0f921"
             ]
            ],
            "type": "histogram2dcontour"
           }
          ],
          "mesh3d": [
           {
            "colorbar": {
             "outlinewidth": 0,
             "ticks": ""
            },
            "type": "mesh3d"
           }
          ],
          "parcoords": [
           {
            "line": {
             "colorbar": {
              "outlinewidth": 0,
              "ticks": ""
             }
            },
            "type": "parcoords"
           }
          ],
          "pie": [
           {
            "automargin": true,
            "type": "pie"
           }
          ],
          "scatter": [
           {
            "fillpattern": {
             "fillmode": "overlay",
             "size": 10,
             "solidity": 0.2
            },
            "type": "scatter"
           }
          ],
          "scatter3d": [
           {
            "line": {
             "colorbar": {
              "outlinewidth": 0,
              "ticks": ""
             }
            },
            "marker": {
             "colorbar": {
              "outlinewidth": 0,
              "ticks": ""
             }
            },
            "type": "scatter3d"
           }
          ],
          "scattercarpet": [
           {
            "marker": {
             "colorbar": {
              "outlinewidth": 0,
              "ticks": ""
             }
            },
            "type": "scattercarpet"
           }
          ],
          "scattergeo": [
           {
            "marker": {
             "colorbar": {
              "outlinewidth": 0,
              "ticks": ""
             }
            },
            "type": "scattergeo"
           }
          ],
          "scattergl": [
           {
            "marker": {
             "colorbar": {
              "outlinewidth": 0,
              "ticks": ""
             }
            },
            "type": "scattergl"
           }
          ],
          "scattermapbox": [
           {
            "marker": {
             "colorbar": {
              "outlinewidth": 0,
              "ticks": ""
             }
            },
            "type": "scattermapbox"
           }
          ],
          "scatterpolar": [
           {
            "marker": {
             "colorbar": {
              "outlinewidth": 0,
              "ticks": ""
             }
            },
            "type": "scatterpolar"
           }
          ],
          "scatterpolargl": [
           {
            "marker": {
             "colorbar": {
              "outlinewidth": 0,
              "ticks": ""
             }
            },
            "type": "scatterpolargl"
           }
          ],
          "scatterternary": [
           {
            "marker": {
             "colorbar": {
              "outlinewidth": 0,
              "ticks": ""
             }
            },
            "type": "scatterternary"
           }
          ],
          "surface": [
           {
            "colorbar": {
             "outlinewidth": 0,
             "ticks": ""
            },
            "colorscale": [
             [
              0,
              "#0d0887"
             ],
             [
              0.1111111111111111,
              "#46039f"
             ],
             [
              0.2222222222222222,
              "#7201a8"
             ],
             [
              0.3333333333333333,
              "#9c179e"
             ],
             [
              0.4444444444444444,
              "#bd3786"
             ],
             [
              0.5555555555555556,
              "#d8576b"
             ],
             [
              0.6666666666666666,
              "#ed7953"
             ],
             [
              0.7777777777777778,
              "#fb9f3a"
             ],
             [
              0.8888888888888888,
              "#fdca26"
             ],
             [
              1,
              "#f0f921"
             ]
            ],
            "type": "surface"
           }
          ],
          "table": [
           {
            "cells": {
             "fill": {
              "color": "#EBF0F8"
             },
             "line": {
              "color": "white"
             }
            },
            "header": {
             "fill": {
              "color": "#C8D4E3"
             },
             "line": {
              "color": "white"
             }
            },
            "type": "table"
           }
          ]
         },
         "layout": {
          "annotationdefaults": {
           "arrowcolor": "#2a3f5f",
           "arrowhead": 0,
           "arrowwidth": 1
          },
          "autotypenumbers": "strict",
          "coloraxis": {
           "colorbar": {
            "outlinewidth": 0,
            "ticks": ""
           }
          },
          "colorscale": {
           "diverging": [
            [
             0,
             "#8e0152"
            ],
            [
             0.1,
             "#c51b7d"
            ],
            [
             0.2,
             "#de77ae"
            ],
            [
             0.3,
             "#f1b6da"
            ],
            [
             0.4,
             "#fde0ef"
            ],
            [
             0.5,
             "#f7f7f7"
            ],
            [
             0.6,
             "#e6f5d0"
            ],
            [
             0.7,
             "#b8e186"
            ],
            [
             0.8,
             "#7fbc41"
            ],
            [
             0.9,
             "#4d9221"
            ],
            [
             1,
             "#276419"
            ]
           ],
           "sequential": [
            [
             0,
             "#0d0887"
            ],
            [
             0.1111111111111111,
             "#46039f"
            ],
            [
             0.2222222222222222,
             "#7201a8"
            ],
            [
             0.3333333333333333,
             "#9c179e"
            ],
            [
             0.4444444444444444,
             "#bd3786"
            ],
            [
             0.5555555555555556,
             "#d8576b"
            ],
            [
             0.6666666666666666,
             "#ed7953"
            ],
            [
             0.7777777777777778,
             "#fb9f3a"
            ],
            [
             0.8888888888888888,
             "#fdca26"
            ],
            [
             1,
             "#f0f921"
            ]
           ],
           "sequentialminus": [
            [
             0,
             "#0d0887"
            ],
            [
             0.1111111111111111,
             "#46039f"
            ],
            [
             0.2222222222222222,
             "#7201a8"
            ],
            [
             0.3333333333333333,
             "#9c179e"
            ],
            [
             0.4444444444444444,
             "#bd3786"
            ],
            [
             0.5555555555555556,
             "#d8576b"
            ],
            [
             0.6666666666666666,
             "#ed7953"
            ],
            [
             0.7777777777777778,
             "#fb9f3a"
            ],
            [
             0.8888888888888888,
             "#fdca26"
            ],
            [
             1,
             "#f0f921"
            ]
           ]
          },
          "colorway": [
           "#636efa",
           "#EF553B",
           "#00cc96",
           "#ab63fa",
           "#FFA15A",
           "#19d3f3",
           "#FF6692",
           "#B6E880",
           "#FF97FF",
           "#FECB52"
          ],
          "font": {
           "color": "#2a3f5f"
          },
          "geo": {
           "bgcolor": "white",
           "lakecolor": "white",
           "landcolor": "#E5ECF6",
           "showlakes": true,
           "showland": true,
           "subunitcolor": "white"
          },
          "hoverlabel": {
           "align": "left"
          },
          "hovermode": "closest",
          "mapbox": {
           "style": "light"
          },
          "paper_bgcolor": "white",
          "plot_bgcolor": "#E5ECF6",
          "polar": {
           "angularaxis": {
            "gridcolor": "white",
            "linecolor": "white",
            "ticks": ""
           },
           "bgcolor": "#E5ECF6",
           "radialaxis": {
            "gridcolor": "white",
            "linecolor": "white",
            "ticks": ""
           }
          },
          "scene": {
           "xaxis": {
            "backgroundcolor": "#E5ECF6",
            "gridcolor": "white",
            "gridwidth": 2,
            "linecolor": "white",
            "showbackground": true,
            "ticks": "",
            "zerolinecolor": "white"
           },
           "yaxis": {
            "backgroundcolor": "#E5ECF6",
            "gridcolor": "white",
            "gridwidth": 2,
            "linecolor": "white",
            "showbackground": true,
            "ticks": "",
            "zerolinecolor": "white"
           },
           "zaxis": {
            "backgroundcolor": "#E5ECF6",
            "gridcolor": "white",
            "gridwidth": 2,
            "linecolor": "white",
            "showbackground": true,
            "ticks": "",
            "zerolinecolor": "white"
           }
          },
          "shapedefaults": {
           "line": {
            "color": "#2a3f5f"
           }
          },
          "ternary": {
           "aaxis": {
            "gridcolor": "white",
            "linecolor": "white",
            "ticks": ""
           },
           "baxis": {
            "gridcolor": "white",
            "linecolor": "white",
            "ticks": ""
           },
           "bgcolor": "#E5ECF6",
           "caxis": {
            "gridcolor": "white",
            "linecolor": "white",
            "ticks": ""
           }
          },
          "title": {
           "x": 0.05
          },
          "xaxis": {
           "automargin": true,
           "gridcolor": "white",
           "linecolor": "white",
           "ticks": "",
           "title": {
            "standoff": 15
           },
           "zerolinecolor": "white",
           "zerolinewidth": 2
          },
          "yaxis": {
           "automargin": true,
           "gridcolor": "white",
           "linecolor": "white",
           "ticks": "",
           "title": {
            "standoff": 15
           },
           "zerolinecolor": "white",
           "zerolinewidth": 2
          }
         }
        },
        "title": {
         "text": "Standard deviation over epochs for Magnetometers",
         "x": 0.5,
         "xanchor": "center",
         "y": 0.85,
         "yanchor": "top"
        },
        "xaxis": {
         "rangeslider": {
          "visible": true
         },
         "tickmode": "array",
         "ticktext": [
          "MEG0111",
          "MEG0121",
          "MEG0131",
          "MEG0141",
          "MEG0211",
          "MEG0221",
          "MEG0231",
          "MEG0241",
          "MEG0311",
          "MEG0321",
          "MEG0331",
          "MEG0341",
          "MEG0411",
          "MEG0421",
          "MEG0431",
          "MEG0441",
          "MEG0511",
          "MEG0521",
          "MEG0531",
          "MEG0541",
          "MEG0611",
          "MEG0621",
          "MEG0631",
          "MEG0641",
          "MEG0711",
          "MEG0721",
          "MEG0731",
          "MEG0741",
          "MEG0811",
          "MEG0821",
          "MEG0911",
          "MEG0921",
          "MEG0931",
          "MEG0941",
          "MEG1011",
          "MEG1021",
          "MEG1031",
          "MEG1041",
          "MEG1111",
          "MEG1121",
          "MEG1131",
          "MEG1141",
          "MEG1211",
          "MEG1221",
          "MEG1231",
          "MEG1241",
          "MEG1311",
          "MEG1321",
          "MEG1331",
          "MEG1341",
          "MEG1411",
          "MEG1421",
          "MEG1431",
          "MEG1441",
          "MEG1511",
          "MEG1521",
          "MEG1531",
          "MEG1541",
          "MEG1611",
          "MEG1621",
          "MEG1631",
          "MEG1641",
          "MEG1711",
          "MEG1721",
          "MEG1731",
          "MEG1741",
          "MEG1811",
          "MEG1821",
          "MEG1831",
          "MEG1841",
          "MEG1911",
          "MEG1921",
          "MEG1931",
          "MEG1941",
          "MEG2011",
          "MEG2021",
          "MEG2031",
          "MEG2041",
          "MEG2111",
          "MEG2121",
          "MEG2131",
          "MEG2141",
          "MEG2211",
          "MEG2221",
          "MEG2231",
          "MEG2241",
          "MEG2311",
          "MEG2321",
          "MEG2331",
          "MEG2341",
          "MEG2411",
          "MEG2421",
          "MEG2431",
          "MEG2441",
          "MEG2511",
          "MEG2521",
          "MEG2531",
          "MEG2541",
          "MEG2611",
          "MEG2621",
          "MEG2631",
          "MEG2641"
         ],
         "tickvals": [
          0,
          1,
          2,
          3,
          4,
          5,
          6,
          7,
          8,
          9,
          10,
          11,
          12,
          13,
          14,
          15,
          16,
          17,
          18,
          19,
          20,
          21,
          22,
          23,
          24,
          25,
          26,
          27,
          28,
          29,
          30,
          31,
          32,
          33,
          34,
          35,
          36,
          37,
          38,
          39,
          40,
          41,
          42,
          43,
          44,
          45,
          46,
          47,
          48,
          49,
          50,
          51,
          52,
          53,
          54,
          55,
          56,
          57,
          58,
          59,
          60,
          61,
          62,
          63,
          64,
          65,
          66,
          67,
          68,
          69,
          70,
          71,
          72,
          73,
          74,
          75,
          76,
          77,
          78,
          79,
          80,
          81,
          82,
          83,
          84,
          85,
          86,
          87,
          88,
          89,
          90,
          91,
          92,
          93,
          94,
          95,
          96,
          97,
          98,
          99,
          100,
          101
         ]
        },
        "yaxis": {
         "exponentformat": "e",
         "showexponent": "all",
         "title": {
          "text": "Standard deviation in Tesla"
         }
        }
       }
      }
     },
     "metadata": {},
     "output_type": "display_data"
    },
    {
     "data": {
      "application/vnd.plotly.v1+json": {
       "config": {
        "plotlyServerURL": "https://plot.ly"
       },
       "data": [
        {
         "boxpoints": "all",
         "hovertemplate": "Epoch: %{text}<br>STD: %{y: .2e}",
         "line": {
          "width": 1
         },
         "marker": {
          "size": 3
         },
         "name": "MEG0113",
         "opacity": 0.7,
         "pointpos": 0,
         "text": [
          0,
          1,
          2,
          3,
          4,
          5,
          6,
          7,
          8
         ],
         "type": "box",
         "y": [
          8.932613917609415e-12,
          7.352574022960754e-12,
          7.231763326519001e-12,
          6.477379782651343e-12,
          7.024008033561279e-12,
          7.618291892491003e-12,
          6.3160398676666615e-12,
          6.7238703361272775e-12,
          8.297683275968198e-12
         ]
        },
        {
         "boxpoints": "all",
         "hovertemplate": "Epoch: %{text}<br>STD: %{y: .2e}",
         "line": {
          "width": 1
         },
         "marker": {
          "size": 3
         },
         "name": "MEG0112",
         "opacity": 0.7,
         "pointpos": 0,
         "text": [
          0,
          1,
          2,
          3,
          4,
          5,
          6,
          7,
          8
         ],
         "type": "box",
         "y": [
          6.5555551498070036e-12,
          6.172204523291324e-12,
          6.347083488230433e-12,
          7.04132206549266e-12,
          7.681610377776905e-12,
          7.466646008780746e-12,
          8.659653294653847e-12,
          7.134920877665847e-12,
          8.26498031216794e-12
         ]
        },
        {
         "boxpoints": "all",
         "hovertemplate": "Epoch: %{text}<br>STD: %{y: .2e}",
         "line": {
          "width": 1
         },
         "marker": {
          "size": 3
         },
         "name": "MEG0122",
         "opacity": 0.7,
         "pointpos": 0,
         "text": [
          0,
          1,
          2,
          3,
          4,
          5,
          6,
          7,
          8
         ],
         "type": "box",
         "y": [
          7.591205475900503e-12,
          7.913143707977069e-12,
          8.427183373140009e-12,
          8.654559918014494e-12,
          7.973030328599311e-12,
          7.954164850308363e-12,
          7.963167230035098e-12,
          9.66371663686056e-12,
          8.141091814006183e-12
         ]
        },
        {
         "boxpoints": "all",
         "hovertemplate": "Epoch: %{text}<br>STD: %{y: .2e}",
         "line": {
          "width": 1
         },
         "marker": {
          "size": 3
         },
         "name": "MEG0123",
         "opacity": 0.7,
         "pointpos": 0,
         "text": [
          0,
          1,
          2,
          3,
          4,
          5,
          6,
          7,
          8
         ],
         "type": "box",
         "y": [
          6.779122845668658e-12,
          7.095612784194157e-12,
          6.948315886975479e-12,
          8.591975734882222e-12,
          7.75820469410729e-12,
          6.779480794456198e-12,
          8.678980703541447e-12,
          8.894568740503516e-12,
          8.687687042515703e-12
         ]
        },
        {
         "boxpoints": "all",
         "hovertemplate": "Epoch: %{text}<br>STD: %{y: .2e}",
         "line": {
          "width": 1
         },
         "marker": {
          "size": 3
         },
         "name": "MEG0132",
         "opacity": 0.7,
         "pointpos": 0,
         "text": [
          0,
          1,
          2,
          3,
          4,
          5,
          6,
          7,
          8
         ],
         "type": "box",
         "y": [
          8.317289082606304e-12,
          8.593277317877282e-12,
          6.633537357567827e-12,
          7.790056670212283e-12,
          7.61775255762498e-12,
          7.852896918414928e-12,
          7.889859032501074e-12,
          8.076208202150685e-12,
          7.09516387488375e-12
         ]
        },
        {
         "boxpoints": "all",
         "hovertemplate": "Epoch: %{text}<br>STD: %{y: .2e}",
         "line": {
          "width": 1
         },
         "marker": {
          "size": 3
         },
         "name": "MEG0133",
         "opacity": 0.7,
         "pointpos": 0,
         "text": [
          0,
          1,
          2,
          3,
          4,
          5,
          6,
          7,
          8
         ],
         "type": "box",
         "y": [
          8.2671131142891e-12,
          5.9370810397101335e-12,
          6.148478172644279e-12,
          6.96093993026183e-12,
          7.127539195249751e-12,
          8.706379946817754e-12,
          7.757027963258459e-12,
          6.662262568137865e-12,
          8.468760912091695e-12
         ]
        },
        {
         "boxpoints": "all",
         "hovertemplate": "Epoch: %{text}<br>STD: %{y: .2e}",
         "line": {
          "width": 1
         },
         "marker": {
          "size": 3
         },
         "name": "MEG0143",
         "opacity": 0.7,
         "pointpos": 0,
         "text": [
          0,
          1,
          2,
          3,
          4,
          5,
          6,
          7,
          8
         ],
         "type": "box",
         "y": [
          7.114074904002913e-12,
          5.648697349734458e-12,
          5.8603513823682565e-12,
          6.075015228707642e-12,
          6.387702395548966e-12,
          5.976727465952368e-12,
          6.721857628572261e-12,
          6.353833759992131e-12,
          6.948248640312804e-12
         ]
        },
        {
         "boxpoints": "all",
         "hovertemplate": "Epoch: %{text}<br>STD: %{y: .2e}",
         "line": {
          "width": 1
         },
         "marker": {
          "size": 3
         },
         "name": "MEG0142",
         "opacity": 0.7,
         "pointpos": 0,
         "text": [
          0,
          1,
          2,
          3,
          4,
          5,
          6,
          7,
          8
         ],
         "type": "box",
         "y": [
          5.777901255368923e-12,
          4.707169478164405e-12,
          5.318730106207994e-12,
          5.5436909108033664e-12,
          6.4425019106292975e-12,
          6.504329659182088e-12,
          5.741290736038745e-12,
          6.443971234205433e-12,
          8.616992593863419e-12
         ]
        },
        {
         "boxpoints": "all",
         "hovertemplate": "Epoch: %{text}<br>STD: %{y: .2e}",
         "line": {
          "width": 1
         },
         "marker": {
          "size": 3
         },
         "name": "MEG0213",
         "opacity": 0.7,
         "pointpos": 0,
         "text": [
          0,
          1,
          2,
          3,
          4,
          5,
          6,
          7,
          8
         ],
         "type": "box",
         "y": [
          7.731687215440089e-12,
          6.690377655099429e-12,
          5.95831924544381e-12,
          7.28830455568463e-12,
          7.881538809783974e-12,
          8.441852077276324e-12,
          7.753608206748532e-12,
          8.851401132508232e-12,
          8.050528828267769e-12
         ]
        },
        {
         "boxpoints": "all",
         "hovertemplate": "Epoch: %{text}<br>STD: %{y: .2e}",
         "line": {
          "width": 1
         },
         "marker": {
          "size": 3
         },
         "name": "MEG0212",
         "opacity": 0.7,
         "pointpos": 0,
         "text": [
          0,
          1,
          2,
          3,
          4,
          5,
          6,
          7,
          8
         ],
         "type": "box",
         "y": [
          7.588538905436933e-12,
          6.1346549906930625e-12,
          6.921435493909431e-12,
          7.302220144401532e-12,
          8.51069931192749e-12,
          9.840367816629134e-12,
          8.120942975815643e-12,
          7.048894677864797e-12,
          7.080036861746508e-12
         ]
        },
        {
         "boxpoints": "all",
         "hovertemplate": "Epoch: %{text}<br>STD: %{y: .2e}",
         "line": {
          "width": 1
         },
         "marker": {
          "size": 3
         },
         "name": "MEG0222",
         "opacity": 0.7,
         "pointpos": 0,
         "text": [
          0,
          1,
          2,
          3,
          4,
          5,
          6,
          7,
          8
         ],
         "type": "box",
         "y": [
          1.0616644062919044e-11,
          6.813559608536488e-12,
          7.384396310373234e-12,
          8.705130017467883e-12,
          9.23018454832778e-12,
          8.736317661757047e-12,
          8.833630465453082e-12,
          9.432331115260182e-12,
          9.782545475565972e-12
         ]
        },
        {
         "boxpoints": "all",
         "hovertemplate": "Epoch: %{text}<br>STD: %{y: .2e}",
         "line": {
          "width": 1
         },
         "marker": {
          "size": 3
         },
         "name": "MEG0223",
         "opacity": 0.7,
         "pointpos": 0,
         "text": [
          0,
          1,
          2,
          3,
          4,
          5,
          6,
          7,
          8
         ],
         "type": "box",
         "y": [
          7.924141914156637e-12,
          6.371175489904644e-12,
          6.360129200276699e-12,
          8.84993109535614e-12,
          8.84057353604684e-12,
          9.535401278657394e-12,
          8.815150826560615e-12,
          8.770522223719999e-12,
          7.837270793887409e-12
         ]
        },
        {
         "boxpoints": "all",
         "hovertemplate": "Epoch: %{text}<br>STD: %{y: .2e}",
         "line": {
          "width": 1
         },
         "marker": {
          "size": 3
         },
         "name": "MEG0232",
         "opacity": 0.7,
         "pointpos": 0,
         "text": [
          0,
          1,
          2,
          3,
          4,
          5,
          6,
          7,
          8
         ],
         "type": "box",
         "y": [
          1.0060051286649301e-11,
          7.383539770621694e-12,
          9.293458177689655e-12,
          1.041769098978694e-11,
          1.0778472994696468e-11,
          9.420190925390865e-12,
          1.0981750097528607e-11,
          1.0298872329785347e-11,
          1.0210184606982485e-11
         ]
        },
        {
         "boxpoints": "all",
         "hovertemplate": "Epoch: %{text}<br>STD: %{y: .2e}",
         "line": {
          "width": 1
         },
         "marker": {
          "size": 3
         },
         "name": "MEG0233",
         "opacity": 0.7,
         "pointpos": 0,
         "text": [
          0,
          1,
          2,
          3,
          4,
          5,
          6,
          7,
          8
         ],
         "type": "box",
         "y": [
          1.0964377854965118e-11,
          1.0136256124310847e-11,
          7.89923834532323e-12,
          9.051113780902835e-12,
          1.0731666072343622e-11,
          1.1670643503293437e-11,
          9.046959388018355e-12,
          1.0644567030192953e-11,
          8.883668143566169e-12
         ]
        },
        {
         "boxpoints": "all",
         "hovertemplate": "Epoch: %{text}<br>STD: %{y: .2e}",
         "line": {
          "width": 1
         },
         "marker": {
          "size": 3
         },
         "name": "MEG0243",
         "opacity": 0.7,
         "pointpos": 0,
         "text": [
          0,
          1,
          2,
          3,
          4,
          5,
          6,
          7,
          8
         ],
         "type": "box",
         "y": [
          8.516011661078961e-12,
          7.890858951799702e-12,
          7.722351162015408e-12,
          8.27015824331042e-12,
          9.465505140679242e-12,
          1.0499173811895134e-11,
          9.03507942805535e-12,
          1.1801702581672768e-11,
          8.54409112175055e-12
         ]
        },
        {
         "boxpoints": "all",
         "hovertemplate": "Epoch: %{text}<br>STD: %{y: .2e}",
         "line": {
          "width": 1
         },
         "marker": {
          "size": 3
         },
         "name": "MEG0242",
         "opacity": 0.7,
         "pointpos": 0,
         "text": [
          0,
          1,
          2,
          3,
          4,
          5,
          6,
          7,
          8
         ],
         "type": "box",
         "y": [
          1.0494983796866598e-11,
          8.2839765037827e-12,
          7.071742467410846e-12,
          8.298017872750008e-12,
          8.77754780859537e-12,
          1.0680874063206348e-11,
          8.869599405204904e-12,
          9.662743794656277e-12,
          7.754780795090956e-12
         ]
        },
        {
         "boxpoints": "all",
         "hovertemplate": "Epoch: %{text}<br>STD: %{y: .2e}",
         "line": {
          "width": 1
         },
         "marker": {
          "size": 3
         },
         "name": "MEG0313",
         "opacity": 0.7,
         "pointpos": 0,
         "text": [
          0,
          1,
          2,
          3,
          4,
          5,
          6,
          7,
          8
         ],
         "type": "box",
         "y": [
          7.267546265268986e-12,
          6.4996243292957596e-12,
          5.705255354299252e-12,
          7.752874221207887e-12,
          6.565528436675482e-12,
          7.462360637280979e-12,
          7.369206956109789e-12,
          6.8893055233656184e-12,
          9.628087612486363e-12
         ]
        },
        {
         "boxpoints": "all",
         "hovertemplate": "Epoch: %{text}<br>STD: %{y: .2e}",
         "line": {
          "width": 1
         },
         "marker": {
          "size": 3
         },
         "name": "MEG0312",
         "opacity": 0.7,
         "pointpos": 0,
         "text": [
          0,
          1,
          2,
          3,
          4,
          5,
          6,
          7,
          8
         ],
         "type": "box",
         "y": [
          8.304487284249982e-12,
          6.907313010555041e-12,
          5.485771892000009e-12,
          7.025612599696466e-12,
          6.110510590603476e-12,
          7.131421604111066e-12,
          7.0966980634957444e-12,
          7.2749707466179465e-12,
          5.873870054014684e-12
         ]
        },
        {
         "boxpoints": "all",
         "hovertemplate": "Epoch: %{text}<br>STD: %{y: .2e}",
         "line": {
          "width": 1
         },
         "marker": {
          "size": 3
         },
         "name": "MEG0322",
         "opacity": 0.7,
         "pointpos": 0,
         "text": [
          0,
          1,
          2,
          3,
          4,
          5,
          6,
          7,
          8
         ],
         "type": "box",
         "y": [
          8.762280126214585e-12,
          6.056408736912192e-12,
          6.1472253083110814e-12,
          6.893294995656921e-12,
          7.622811482608503e-12,
          7.088237831116658e-12,
          7.088029781269383e-12,
          7.98138134691709e-12,
          8.306700971121182e-12
         ]
        },
        {
         "boxpoints": "all",
         "hovertemplate": "Epoch: %{text}<br>STD: %{y: .2e}",
         "line": {
          "width": 1
         },
         "marker": {
          "size": 3
         },
         "name": "MEG0323",
         "opacity": 0.7,
         "pointpos": 0,
         "text": [
          0,
          1,
          2,
          3,
          4,
          5,
          6,
          7,
          8
         ],
         "type": "box",
         "y": [
          7.646561864597324e-12,
          7.539704028584534e-12,
          6.297526998197536e-12,
          7.616044916547724e-12,
          6.763082245745976e-12,
          6.560273715647284e-12,
          7.496290020973512e-12,
          6.847783486564119e-12,
          5.616719444842471e-12
         ]
        },
        {
         "boxpoints": "all",
         "hovertemplate": "Epoch: %{text}<br>STD: %{y: .2e}",
         "line": {
          "width": 1
         },
         "marker": {
          "size": 3
         },
         "name": "MEG0333",
         "opacity": 0.7,
         "pointpos": 0,
         "text": [
          0,
          1,
          2,
          3,
          4,
          5,
          6,
          7,
          8
         ],
         "type": "box",
         "y": [
          8.717886633597835e-12,
          5.462653798372779e-12,
          5.6055505814361534e-12,
          6.401928722072476e-12,
          6.248272609614483e-12,
          6.931086888495343e-12,
          6.763527729473926e-12,
          7.013313247965038e-12,
          6.693929631767561e-12
         ]
        },
        {
         "boxpoints": "all",
         "hovertemplate": "Epoch: %{text}<br>STD: %{y: .2e}",
         "line": {
          "width": 1
         },
         "marker": {
          "size": 3
         },
         "name": "MEG0332",
         "opacity": 0.7,
         "pointpos": 0,
         "text": [
          0,
          1,
          2,
          3,
          4,
          5,
          6,
          7,
          8
         ],
         "type": "box",
         "y": [
          7.228754099355931e-12,
          7.167755212993763e-12,
          6.647433543557378e-12,
          6.080546579634587e-12,
          7.734342422998136e-12,
          6.133611607924818e-12,
          6.48743800510468e-12,
          7.583953722328186e-12,
          6.054112027224946e-12
         ]
        },
        {
         "boxpoints": "all",
         "hovertemplate": "Epoch: %{text}<br>STD: %{y: .2e}",
         "line": {
          "width": 1
         },
         "marker": {
          "size": 3
         },
         "name": "MEG0343",
         "opacity": 0.7,
         "pointpos": 0,
         "text": [
          0,
          1,
          2,
          3,
          4,
          5,
          6,
          7,
          8
         ],
         "type": "box",
         "y": [
          7.439049903495531e-12,
          7.238917170420345e-12,
          5.6574584790185375e-12,
          7.166868003291725e-12,
          7.1432385339071625e-12,
          6.843613313049785e-12,
          7.472223807511338e-12,
          7.300476362694455e-12,
          9.607257169518951e-12
         ]
        },
        {
         "boxpoints": "all",
         "hovertemplate": "Epoch: %{text}<br>STD: %{y: .2e}",
         "line": {
          "width": 1
         },
         "marker": {
          "size": 3
         },
         "name": "MEG0342",
         "opacity": 0.7,
         "pointpos": 0,
         "text": [
          0,
          1,
          2,
          3,
          4,
          5,
          6,
          7,
          8
         ],
         "type": "box",
         "y": [
          7.758651874593367e-12,
          6.968287330371281e-12,
          6.44753462712909e-12,
          7.962978060436232e-12,
          7.0136696639082065e-12,
          6.628725836865336e-12,
          9.133582434463778e-12,
          7.47919738548618e-12,
          6.377986457588064e-12
         ]
        },
        {
         "boxpoints": "all",
         "hovertemplate": "Epoch: %{text}<br>STD: %{y: .2e}",
         "line": {
          "width": 1
         },
         "marker": {
          "size": 3
         },
         "name": "MEG0413",
         "opacity": 0.7,
         "pointpos": 0,
         "text": [
          0,
          1,
          2,
          3,
          4,
          5,
          6,
          7,
          8
         ],
         "type": "box",
         "y": [
          9.920276505967389e-12,
          9.10346397778132e-12,
          8.110767609739811e-12,
          1.0152777063607109e-11,
          8.38172468981394e-12,
          9.150032510917981e-12,
          9.153934428200065e-12,
          8.662083679976797e-12,
          8.92145312036445e-12
         ]
        },
        {
         "boxpoints": "all",
         "hovertemplate": "Epoch: %{text}<br>STD: %{y: .2e}",
         "line": {
          "width": 1
         },
         "marker": {
          "size": 3
         },
         "name": "MEG0412",
         "opacity": 0.7,
         "pointpos": 0,
         "text": [
          0,
          1,
          2,
          3,
          4,
          5,
          6,
          7,
          8
         ],
         "type": "box",
         "y": [
          8.8676084360995e-12,
          6.548847229699954e-12,
          7.1491449309622e-12,
          9.252554565254272e-12,
          9.075871729140294e-12,
          9.17122644869909e-12,
          8.55111727584165e-12,
          9.056341464887613e-12,
          8.304296409787503e-12
         ]
        },
        {
         "boxpoints": "all",
         "hovertemplate": "Epoch: %{text}<br>STD: %{y: .2e}",
         "line": {
          "width": 1
         },
         "marker": {
          "size": 3
         },
         "name": "MEG0422",
         "opacity": 0.7,
         "pointpos": 0,
         "text": [
          0,
          1,
          2,
          3,
          4,
          5,
          6,
          7,
          8
         ],
         "type": "box",
         "y": [
          1.026944635231261e-11,
          1.0632096327945596e-11,
          8.97154094438746e-12,
          9.234221702064582e-12,
          9.361859631140634e-12,
          9.472882724573121e-12,
          9.956172256946712e-12,
          1.0083849240855886e-11,
          9.291542313929404e-12
         ]
        },
        {
         "boxpoints": "all",
         "hovertemplate": "Epoch: %{text}<br>STD: %{y: .2e}",
         "line": {
          "width": 1
         },
         "marker": {
          "size": 3
         },
         "name": "MEG0423",
         "opacity": 0.7,
         "pointpos": 0,
         "text": [
          0,
          1,
          2,
          3,
          4,
          5,
          6,
          7,
          8
         ],
         "type": "box",
         "y": [
          9.280042164176983e-12,
          1.0166564022904123e-11,
          8.178423229356755e-12,
          9.266070541763865e-12,
          1.0433799567321088e-11,
          9.478656047168219e-12,
          8.880660276271039e-12,
          9.478992377113592e-12,
          8.784157231179492e-12
         ]
        },
        {
         "boxpoints": "all",
         "hovertemplate": "Epoch: %{text}<br>STD: %{y: .2e}",
         "line": {
          "width": 1
         },
         "marker": {
          "size": 3
         },
         "name": "MEG0432",
         "opacity": 0.7,
         "pointpos": 0,
         "text": [
          0,
          1,
          2,
          3,
          4,
          5,
          6,
          7,
          8
         ],
         "type": "box",
         "y": [
          1.1606830595589321e-11,
          1.2007578026922202e-11,
          9.884316839236588e-12,
          1.1030181305458067e-11,
          1.0784188679496527e-11,
          1.1292119457231046e-11,
          1.222614333334188e-11,
          1.2453627235202658e-11,
          1.0845567504092948e-11
         ]
        },
        {
         "boxpoints": "all",
         "hovertemplate": "Epoch: %{text}<br>STD: %{y: .2e}",
         "line": {
          "width": 1
         },
         "marker": {
          "size": 3
         },
         "name": "MEG0433",
         "opacity": 0.7,
         "pointpos": 0,
         "text": [
          0,
          1,
          2,
          3,
          4,
          5,
          6,
          7,
          8
         ],
         "type": "box",
         "y": [
          1.0224596122994891e-11,
          1.2564423142410565e-11,
          7.644875228405155e-12,
          9.595323721478654e-12,
          1.2817121181432272e-11,
          1.0379937216835696e-11,
          1.0145791074041653e-11,
          1.1084403345542874e-11,
          1.1407031768523763e-11
         ]
        },
        {
         "boxpoints": "all",
         "hovertemplate": "Epoch: %{text}<br>STD: %{y: .2e}",
         "line": {
          "width": 1
         },
         "marker": {
          "size": 3
         },
         "name": "MEG0443",
         "opacity": 0.7,
         "pointpos": 0,
         "text": [
          0,
          1,
          2,
          3,
          4,
          5,
          6,
          7,
          8
         ],
         "type": "box",
         "y": [
          1.2357445394005527e-11,
          1.2017434649624203e-11,
          9.58309332465358e-12,
          1.2155521093041696e-11,
          1.0884168857405413e-11,
          1.1382018188599775e-11,
          1.1771121575511752e-11,
          1.0319186818441606e-11,
          1.1124316789387086e-11
         ]
        },
        {
         "boxpoints": "all",
         "hovertemplate": "Epoch: %{text}<br>STD: %{y: .2e}",
         "line": {
          "width": 1
         },
         "marker": {
          "size": 3
         },
         "name": "MEG0442",
         "opacity": 0.7,
         "pointpos": 0,
         "text": [
          0,
          1,
          2,
          3,
          4,
          5,
          6,
          7,
          8
         ],
         "type": "box",
         "y": [
          1.0814694923375963e-11,
          1.2091204784072855e-11,
          8.016622073421246e-12,
          9.558087298821881e-12,
          1.3643547681473904e-11,
          1.1107133547257613e-11,
          1.066718208017783e-11,
          1.1326253515136242e-11,
          1.1733501573173544e-11
         ]
        },
        {
         "boxpoints": "all",
         "hovertemplate": "Epoch: %{text}<br>STD: %{y: .2e}",
         "line": {
          "width": 1
         },
         "marker": {
          "size": 3
         },
         "name": "MEG0513",
         "opacity": 0.7,
         "pointpos": 0,
         "text": [
          0,
          1,
          2,
          3,
          4,
          5,
          6,
          7,
          8
         ],
         "type": "box",
         "y": [
          6.861052667464727e-12,
          6.130236851604722e-12,
          6.202362011301415e-12,
          6.537489936354885e-12,
          6.0446628720888375e-12,
          6.608472433863641e-12,
          6.512740990746407e-12,
          6.178218402785328e-12,
          7.759448242226784e-12
         ]
        },
        {
         "boxpoints": "all",
         "hovertemplate": "Epoch: %{text}<br>STD: %{y: .2e}",
         "line": {
          "width": 1
         },
         "marker": {
          "size": 3
         },
         "name": "MEG0512",
         "opacity": 0.7,
         "pointpos": 0,
         "text": [
          0,
          1,
          2,
          3,
          4,
          5,
          6,
          7,
          8
         ],
         "type": "box",
         "y": [
          7.065064572716361e-12,
          4.5618433488228325e-12,
          4.800426348549498e-12,
          5.470614117589031e-12,
          5.7449394233960354e-12,
          5.821432664866604e-12,
          6.071395541165476e-12,
          7.129325170894189e-12,
          6.339119919101648e-12
         ]
        },
        {
         "boxpoints": "all",
         "hovertemplate": "Epoch: %{text}<br>STD: %{y: .2e}",
         "line": {
          "width": 1
         },
         "marker": {
          "size": 3
         },
         "name": "MEG0523",
         "opacity": 0.7,
         "pointpos": 0,
         "text": [
          0,
          1,
          2,
          3,
          4,
          5,
          6,
          7,
          8
         ],
         "type": "box",
         "y": [
          7.313590502016072e-12,
          6.188646810645164e-12,
          6.989700671919594e-12,
          6.151885981285234e-12,
          6.990423456379759e-12,
          6.4944193570959246e-12,
          6.400963295729054e-12,
          6.6254257707611396e-12,
          7.079461530073693e-12
         ]
        },
        {
         "boxpoints": "all",
         "hovertemplate": "Epoch: %{text}<br>STD: %{y: .2e}",
         "line": {
          "width": 1
         },
         "marker": {
          "size": 3
         },
         "name": "MEG0522",
         "opacity": 0.7,
         "pointpos": 0,
         "text": [
          0,
          1,
          2,
          3,
          4,
          5,
          6,
          7,
          8
         ],
         "type": "box",
         "y": [
          7.1744628817227615e-12,
          4.576515735092271e-12,
          5.1774965183029e-12,
          6.926488190008269e-12,
          6.5877266455998324e-12,
          5.310570602661529e-12,
          6.010363028109587e-12,
          7.332022406086438e-12,
          7.609966494195755e-12
         ]
        },
        {
         "boxpoints": "all",
         "hovertemplate": "Epoch: %{text}<br>STD: %{y: .2e}",
         "line": {
          "width": 1
         },
         "marker": {
          "size": 3
         },
         "name": "MEG0532",
         "opacity": 0.7,
         "pointpos": 0,
         "text": [
          0,
          1,
          2,
          3,
          4,
          5,
          6,
          7,
          8
         ],
         "type": "box",
         "y": [
          5.6995992896110744e-12,
          5.509479661430714e-12,
          5.775543562743359e-12,
          5.4364770925981954e-12,
          6.337318491645208e-12,
          6.09142894979724e-12,
          6.549390150496301e-12,
          6.075421099945238e-12,
          5.741209323692379e-12
         ]
        },
        {
         "boxpoints": "all",
         "hovertemplate": "Epoch: %{text}<br>STD: %{y: .2e}",
         "line": {
          "width": 1
         },
         "marker": {
          "size": 3
         },
         "name": "MEG0533",
         "opacity": 0.7,
         "pointpos": 0,
         "text": [
          0,
          1,
          2,
          3,
          4,
          5,
          6,
          7,
          8
         ],
         "type": "box",
         "y": [
          6.8913180830790786e-12,
          4.533246022426902e-12,
          4.989853389630652e-12,
          6.576932250216023e-12,
          5.772864812574536e-12,
          5.042569123893381e-12,
          5.114633581597958e-12,
          6.23263803943107e-12,
          5.950278734898538e-12
         ]
        },
        {
         "boxpoints": "all",
         "hovertemplate": "Epoch: %{text}<br>STD: %{y: .2e}",
         "line": {
          "width": 1
         },
         "marker": {
          "size": 3
         },
         "name": "MEG0542",
         "opacity": 0.7,
         "pointpos": 0,
         "text": [
          0,
          1,
          2,
          3,
          4,
          5,
          6,
          7,
          8
         ],
         "type": "box",
         "y": [
          6.285941344362762e-12,
          5.671628939484461e-12,
          5.907346436811256e-12,
          5.870158555967378e-12,
          6.969208265175292e-12,
          6.197541628200479e-12,
          7.117046073745163e-12,
          6.935609712762082e-12,
          6.6552455373470994e-12
         ]
        },
        {
         "boxpoints": "all",
         "hovertemplate": "Epoch: %{text}<br>STD: %{y: .2e}",
         "line": {
          "width": 1
         },
         "marker": {
          "size": 3
         },
         "name": "MEG0543",
         "opacity": 0.7,
         "pointpos": 0,
         "text": [
          0,
          1,
          2,
          3,
          4,
          5,
          6,
          7,
          8
         ],
         "type": "box",
         "y": [
          7.048636862779452e-12,
          5.3317279814077174e-12,
          5.241202112287022e-12,
          5.2276226846694354e-12,
          5.619031484301463e-12,
          5.298071839536706e-12,
          5.465070461830069e-12,
          6.568241634354893e-12,
          5.321619671819425e-12
         ]
        },
        {
         "boxpoints": "all",
         "hovertemplate": "Epoch: %{text}<br>STD: %{y: .2e}",
         "line": {
          "width": 1
         },
         "marker": {
          "size": 3
         },
         "name": "MEG0613",
         "opacity": 0.7,
         "pointpos": 0,
         "text": [
          0,
          1,
          2,
          3,
          4,
          5,
          6,
          7,
          8
         ],
         "type": "box",
         "y": [
          5.926991128897062e-12,
          4.84527544751948e-12,
          4.998115851971705e-12,
          5.23910899581637e-12,
          5.656879283339267e-12,
          5.6999648226150495e-12,
          6.0659197736300685e-12,
          5.9766214445440294e-12,
          4.891818937428392e-12
         ]
        },
        {
         "boxpoints": "all",
         "hovertemplate": "Epoch: %{text}<br>STD: %{y: .2e}",
         "line": {
          "width": 1
         },
         "marker": {
          "size": 3
         },
         "name": "MEG0612",
         "opacity": 0.7,
         "pointpos": 0,
         "text": [
          0,
          1,
          2,
          3,
          4,
          5,
          6,
          7,
          8
         ],
         "type": "box",
         "y": [
          6.584651455449283e-12,
          4.92604598852007e-12,
          5.259461317260595e-12,
          5.9447100667566986e-12,
          5.994783132717531e-12,
          5.156850052482467e-12,
          5.072032617083097e-12,
          5.914720361593484e-12,
          5.866765925632806e-12
         ]
        },
        {
         "boxpoints": "all",
         "hovertemplate": "Epoch: %{text}<br>STD: %{y: .2e}",
         "line": {
          "width": 1
         },
         "marker": {
          "size": 3
         },
         "name": "MEG0622",
         "opacity": 0.7,
         "pointpos": 0,
         "text": [
          0,
          1,
          2,
          3,
          4,
          5,
          6,
          7,
          8
         ],
         "type": "box",
         "y": [
          7.98269645753689e-12,
          6.620687825351871e-12,
          6.465908190877582e-12,
          7.505673567477676e-12,
          7.824982654968337e-12,
          7.531881655386407e-12,
          6.39217970900015e-12,
          7.022581838118264e-12,
          7.398998949660178e-12
         ]
        },
        {
         "boxpoints": "all",
         "hovertemplate": "Epoch: %{text}<br>STD: %{y: .2e}",
         "line": {
          "width": 1
         },
         "marker": {
          "size": 3
         },
         "name": "MEG0623",
         "opacity": 0.7,
         "pointpos": 0,
         "text": [
          0,
          1,
          2,
          3,
          4,
          5,
          6,
          7,
          8
         ],
         "type": "box",
         "y": [
          7.498965482565177e-12,
          6.221755869476787e-12,
          7.1575203537749e-12,
          6.901905240048713e-12,
          7.126801534469118e-12,
          6.633149163483106e-12,
          6.429006198296976e-12,
          6.927514236307805e-12,
          6.763822814131393e-12
         ]
        },
        {
         "boxpoints": "all",
         "hovertemplate": "Epoch: %{text}<br>STD: %{y: .2e}",
         "line": {
          "width": 1
         },
         "marker": {
          "size": 3
         },
         "name": "MEG0633",
         "opacity": 0.7,
         "pointpos": 0,
         "text": [
          0,
          1,
          2,
          3,
          4,
          5,
          6,
          7,
          8
         ],
         "type": "box",
         "y": [
          7.839829520719204e-12,
          9.982057407389742e-12,
          7.442651688095294e-12,
          8.233745623813069e-12,
          1.0012973102266409e-11,
          8.467047660559611e-12,
          8.627621061136955e-12,
          1.0758550770529525e-11,
          7.996102120563164e-12
         ]
        },
        {
         "boxpoints": "all",
         "hovertemplate": "Epoch: %{text}<br>STD: %{y: .2e}",
         "line": {
          "width": 1
         },
         "marker": {
          "size": 3
         },
         "name": "MEG0632",
         "opacity": 0.7,
         "pointpos": 0,
         "text": [
          0,
          1,
          2,
          3,
          4,
          5,
          6,
          7,
          8
         ],
         "type": "box",
         "y": [
          8.502917120777284e-12,
          7.367949302446652e-12,
          8.183946652798815e-12,
          7.811583381073931e-12,
          8.4222752530964e-12,
          7.941525547538696e-12,
          6.434768282997387e-12,
          7.638198912883357e-12,
          7.486376471604239e-12
         ]
        },
        {
         "boxpoints": "all",
         "hovertemplate": "Epoch: %{text}<br>STD: %{y: .2e}",
         "line": {
          "width": 1
         },
         "marker": {
          "size": 3
         },
         "name": "MEG0642",
         "opacity": 0.7,
         "pointpos": 0,
         "text": [
          0,
          1,
          2,
          3,
          4,
          5,
          6,
          7,
          8
         ],
         "type": "box",
         "y": [
          8.11275971386855e-12,
          5.741656024762794e-12,
          6.411565890204799e-12,
          6.404388031135912e-12,
          7.523468705679124e-12,
          6.765135767530571e-12,
          5.898706988181861e-12,
          6.754424662641415e-12,
          6.197109767183409e-12
         ]
        },
        {
         "boxpoints": "all",
         "hovertemplate": "Epoch: %{text}<br>STD: %{y: .2e}",
         "line": {
          "width": 1
         },
         "marker": {
          "size": 3
         },
         "name": "MEG0643",
         "opacity": 0.7,
         "pointpos": 0,
         "text": [
          0,
          1,
          2,
          3,
          4,
          5,
          6,
          7,
          8
         ],
         "type": "box",
         "y": [
          7.382625267172974e-12,
          6.593227157634881e-12,
          6.74500739029169e-12,
          6.326916400971748e-12,
          7.60879123557798e-12,
          6.309746846119928e-12,
          6.224922360504623e-12,
          6.679546237662999e-12,
          6.398609369275303e-12
         ]
        },
        {
         "boxpoints": "all",
         "hovertemplate": "Epoch: %{text}<br>STD: %{y: .2e}",
         "line": {
          "width": 1
         },
         "marker": {
          "size": 3
         },
         "name": "MEG0713",
         "opacity": 0.7,
         "pointpos": 0,
         "text": [
          0,
          1,
          2,
          3,
          4,
          5,
          6,
          7,
          8
         ],
         "type": "box",
         "y": [
          1.1683511896586941e-11,
          7.937712767852136e-12,
          9.356663754982886e-12,
          1.0056173759730946e-11,
          9.976085599569866e-12,
          9.764753979406398e-12,
          6.878840297909967e-12,
          8.926746215827354e-12,
          9.702991247257574e-12
         ]
        },
        {
         "boxpoints": "all",
         "hovertemplate": "Epoch: %{text}<br>STD: %{y: .2e}",
         "line": {
          "width": 1
         },
         "marker": {
          "size": 3
         },
         "name": "MEG0712",
         "opacity": 0.7,
         "pointpos": 0,
         "text": [
          0,
          1,
          2,
          3,
          4,
          5,
          6,
          7,
          8
         ],
         "type": "box",
         "y": [
          6.621250107592885e-12,
          1.1087203621752366e-11,
          7.379816127462059e-12,
          7.610272246727323e-12,
          9.942498476400934e-12,
          9.171866910610405e-12,
          8.063375235220639e-12,
          8.775155251486399e-12,
          7.927492336458149e-12
         ]
        },
        {
         "boxpoints": "all",
         "hovertemplate": "Epoch: %{text}<br>STD: %{y: .2e}",
         "line": {
          "width": 1
         },
         "marker": {
          "size": 3
         },
         "name": "MEG0723",
         "opacity": 0.7,
         "pointpos": 0,
         "text": [
          0,
          1,
          2,
          3,
          4,
          5,
          6,
          7,
          8
         ],
         "type": "box",
         "y": [
          1.1506744603327834e-11,
          9.857506478891014e-12,
          9.05628053763517e-12,
          9.324398423911547e-12,
          9.564155295073309e-12,
          8.695966286257338e-12,
          8.309746315305924e-12,
          1.1529162494333595e-11,
          1.0958723192941485e-11
         ]
        },
        {
         "boxpoints": "all",
         "hovertemplate": "Epoch: %{text}<br>STD: %{y: .2e}",
         "line": {
          "width": 1
         },
         "marker": {
          "size": 3
         },
         "name": "MEG0722",
         "opacity": 0.7,
         "pointpos": 0,
         "text": [
          0,
          1,
          2,
          3,
          4,
          5,
          6,
          7,
          8
         ],
         "type": "box",
         "y": [
          8.100339120050026e-12,
          9.278489979241978e-12,
          9.15806359511589e-12,
          8.823009074166117e-12,
          9.379583236476802e-12,
          1.000985155771104e-11,
          8.392579427897743e-12,
          7.997262990892717e-12,
          7.194119534526138e-12
         ]
        },
        {
         "boxpoints": "all",
         "hovertemplate": "Epoch: %{text}<br>STD: %{y: .2e}",
         "line": {
          "width": 1
         },
         "marker": {
          "size": 3
         },
         "name": "MEG0733",
         "opacity": 0.7,
         "pointpos": 0,
         "text": [
          0,
          1,
          2,
          3,
          4,
          5,
          6,
          7,
          8
         ],
         "type": "box",
         "y": [
          9.841795739877603e-12,
          8.178707948986996e-12,
          9.066925135389038e-12,
          1.151056880838225e-11,
          9.839830000102157e-12,
          1.0953016646529074e-11,
          7.619108033395799e-12,
          1.0991642464927525e-11,
          9.383452613644721e-12
         ]
        },
        {
         "boxpoints": "all",
         "hovertemplate": "Epoch: %{text}<br>STD: %{y: .2e}",
         "line": {
          "width": 1
         },
         "marker": {
          "size": 3
         },
         "name": "MEG0732",
         "opacity": 0.7,
         "pointpos": 0,
         "text": [
          0,
          1,
          2,
          3,
          4,
          5,
          6,
          7,
          8
         ],
         "type": "box",
         "y": [
          1.1739441274295603e-11,
          1.0691312359921987e-11,
          8.305554795925421e-12,
          8.405617342438307e-12,
          1.0178952297869508e-11,
          9.775426791370636e-12,
          8.552344134268957e-12,
          1.1374817475379293e-11,
          1.0970972790111799e-11
         ]
        },
        {
         "boxpoints": "all",
         "hovertemplate": "Epoch: %{text}<br>STD: %{y: .2e}",
         "line": {
          "width": 1
         },
         "marker": {
          "size": 3
         },
         "name": "MEG0743",
         "opacity": 0.7,
         "pointpos": 0,
         "text": [
          0,
          1,
          2,
          3,
          4,
          5,
          6,
          7,
          8
         ],
         "type": "box",
         "y": [
          8.84295805318295e-12,
          1.0236720906334729e-11,
          8.800136770514266e-12,
          1.1952827181805183e-11,
          9.580737325281305e-12,
          1.0547858389165853e-11,
          8.28894107642758e-12,
          1.116359729982345e-11,
          8.309479104361195e-12
         ]
        },
        {
         "boxpoints": "all",
         "hovertemplate": "Epoch: %{text}<br>STD: %{y: .2e}",
         "line": {
          "width": 1
         },
         "marker": {
          "size": 3
         },
         "name": "MEG0742",
         "opacity": 0.7,
         "pointpos": 0,
         "text": [
          0,
          1,
          2,
          3,
          4,
          5,
          6,
          7,
          8
         ],
         "type": "box",
         "y": [
          1.2831424375658557e-11,
          7.688359266352318e-12,
          9.55900852224332e-12,
          9.346561969779785e-12,
          1.2433150286611005e-11,
          1.1811413059577642e-11,
          8.356620378295193e-12,
          9.898263775782454e-12,
          1.045459696671304e-11
         ]
        },
        {
         "boxpoints": "all",
         "hovertemplate": "Epoch: %{text}<br>STD: %{y: .2e}",
         "line": {
          "width": 1
         },
         "marker": {
          "size": 3
         },
         "name": "MEG0813",
         "opacity": 0.7,
         "pointpos": 0,
         "text": [
          0,
          1,
          2,
          3,
          4,
          5,
          6,
          7,
          8
         ],
         "type": "box",
         "y": [
          8.01317347322574e-12,
          7.010631315650223e-12,
          8.288723430585778e-12,
          7.227975601454637e-12,
          7.534628166665024e-12,
          6.969684409910817e-12,
          7.1391360252631124e-12,
          7.517798655912265e-12,
          7.283754990275473e-12
         ]
        },
        {
         "boxpoints": "all",
         "hovertemplate": "Epoch: %{text}<br>STD: %{y: .2e}",
         "line": {
          "width": 1
         },
         "marker": {
          "size": 3
         },
         "name": "MEG0812",
         "opacity": 0.7,
         "pointpos": 0,
         "text": [
          0,
          1,
          2,
          3,
          4,
          5,
          6,
          7,
          8
         ],
         "type": "box",
         "y": [
          6.63901004774029e-12,
          5.321357492388528e-12,
          5.7543422194848875e-12,
          7.105713768384341e-12,
          7.234486643036908e-12,
          5.962454537065017e-12,
          6.545293110106137e-12,
          6.424492755355746e-12,
          8.92904528548204e-12
         ]
        },
        {
         "boxpoints": "all",
         "hovertemplate": "Epoch: %{text}<br>STD: %{y: .2e}",
         "line": {
          "width": 1
         },
         "marker": {
          "size": 3
         },
         "name": "MEG0822",
         "opacity": 0.7,
         "pointpos": 0,
         "text": [
          0,
          1,
          2,
          3,
          4,
          5,
          6,
          7,
          8
         ],
         "type": "box",
         "y": [
          5.498908254333044e-12,
          5.331515075854017e-12,
          5.4942164810747276e-12,
          5.413954445981793e-12,
          5.6169783271456164e-12,
          5.699768700688778e-12,
          6.099695752293868e-12,
          6.0416909986562286e-12,
          5.257746835582798e-12
         ]
        },
        {
         "boxpoints": "all",
         "hovertemplate": "Epoch: %{text}<br>STD: %{y: .2e}",
         "line": {
          "width": 1
         },
         "marker": {
          "size": 3
         },
         "name": "MEG0823",
         "opacity": 0.7,
         "pointpos": 0,
         "text": [
          0,
          1,
          2,
          3,
          4,
          5,
          6,
          7,
          8
         ],
         "type": "box",
         "y": [
          6.469897539971199e-12,
          5.367098609844403e-12,
          5.588952334342223e-12,
          6.99020119573798e-12,
          6.826515326346954e-12,
          5.50664784777593e-12,
          6.128075295882492e-12,
          5.510338604438524e-12,
          7.212903321337281e-12
         ]
        },
        {
         "boxpoints": "all",
         "hovertemplate": "Epoch: %{text}<br>STD: %{y: .2e}",
         "line": {
          "width": 1
         },
         "marker": {
          "size": 3
         },
         "name": "MEG0913",
         "opacity": 0.7,
         "pointpos": 0,
         "text": [
          0,
          1,
          2,
          3,
          4,
          5,
          6,
          7,
          8
         ],
         "type": "box",
         "y": [
          8.63442656272814e-12,
          8.16444408958952e-12,
          9.426866942707123e-12,
          8.369799228640427e-12,
          7.658340719983378e-12,
          7.912287671699203e-12,
          8.420107806340545e-12,
          8.64327483232797e-12,
          8.334335560226562e-12
         ]
        },
        {
         "boxpoints": "all",
         "hovertemplate": "Epoch: %{text}<br>STD: %{y: .2e}",
         "line": {
          "width": 1
         },
         "marker": {
          "size": 3
         },
         "name": "MEG0912",
         "opacity": 0.7,
         "pointpos": 0,
         "text": [
          0,
          1,
          2,
          3,
          4,
          5,
          6,
          7,
          8
         ],
         "type": "box",
         "y": [
          5.661965388688625e-12,
          5.4120558346240015e-12,
          5.3753462400336784e-12,
          5.435286309512357e-12,
          6.730975889744662e-12,
          5.686793244858466e-12,
          6.2133254617470955e-12,
          5.8571991554710574e-12,
          8.420454416860577e-12
         ]
        },
        {
         "boxpoints": "all",
         "hovertemplate": "Epoch: %{text}<br>STD: %{y: .2e}",
         "line": {
          "width": 1
         },
         "marker": {
          "size": 3
         },
         "name": "MEG0923",
         "opacity": 0.7,
         "pointpos": 0,
         "text": [
          0,
          1,
          2,
          3,
          4,
          5,
          6,
          7,
          8
         ],
         "type": "box",
         "y": [
          8.317233682739325e-12,
          8.077774306304169e-12,
          8.748094849275929e-12,
          8.173954811059685e-12,
          7.66166052607763e-12,
          7.960435844840946e-12,
          8.555562113963204e-12,
          8.710410056476038e-12,
          8.698996876172777e-12
         ]
        },
        {
         "boxpoints": "all",
         "hovertemplate": "Epoch: %{text}<br>STD: %{y: .2e}",
         "line": {
          "width": 1
         },
         "marker": {
          "size": 3
         },
         "name": "MEG0922",
         "opacity": 0.7,
         "pointpos": 0,
         "text": [
          0,
          1,
          2,
          3,
          4,
          5,
          6,
          7,
          8
         ],
         "type": "box",
         "y": [
          5.88827664002765e-12,
          6.0798449192713915e-12,
          5.148933988213731e-12,
          5.836673177581045e-12,
          6.535419599330862e-12,
          5.144776953235642e-12,
          5.9357552660773876e-12,
          5.842205441808747e-12,
          6.80352745661622e-12
         ]
        },
        {
         "boxpoints": "all",
         "hovertemplate": "Epoch: %{text}<br>STD: %{y: .2e}",
         "line": {
          "width": 1
         },
         "marker": {
          "size": 3
         },
         "name": "MEG0932",
         "opacity": 0.7,
         "pointpos": 0,
         "text": [
          0,
          1,
          2,
          3,
          4,
          5,
          6,
          7,
          8
         ],
         "type": "box",
         "y": [
          5.2934297793889414e-12,
          6.139060117739655e-12,
          5.6066352857211745e-12,
          5.478459863261391e-12,
          6.3455521431646485e-12,
          6.38342403998924e-12,
          6.698587273236382e-12,
          7.196523376528518e-12,
          6.338809267253858e-12
         ]
        },
        {
         "boxpoints": "all",
         "hovertemplate": "Epoch: %{text}<br>STD: %{y: .2e}",
         "line": {
          "width": 1
         },
         "marker": {
          "size": 3
         },
         "name": "MEG0933",
         "opacity": 0.7,
         "pointpos": 0,
         "text": [
          0,
          1,
          2,
          3,
          4,
          5,
          6,
          7,
          8
         ],
         "type": "box",
         "y": [
          5.65018551834257e-12,
          5.821544194657369e-12,
          6.069080014184556e-12,
          6.063466504909941e-12,
          5.308406813332032e-12,
          5.560890549376371e-12,
          6.1929979609826575e-12,
          5.669998323294344e-12,
          6.2054078733678635e-12
         ]
        },
        {
         "boxpoints": "all",
         "hovertemplate": "Epoch: %{text}<br>STD: %{y: .2e}",
         "line": {
          "width": 1
         },
         "marker": {
          "size": 3
         },
         "name": "MEG0942",
         "opacity": 0.7,
         "pointpos": 0,
         "text": [
          0,
          1,
          2,
          3,
          4,
          5,
          6,
          7,
          8
         ],
         "type": "box",
         "y": [
          4.919791731557775e-12,
          5.2684562701704355e-12,
          5.130947203593865e-12,
          5.293961227738077e-12,
          5.33166602394753e-12,
          5.335761349074332e-12,
          5.924967308027203e-12,
          6.374933859192782e-12,
          5.034482745830145e-12
         ]
        },
        {
         "boxpoints": "all",
         "hovertemplate": "Epoch: %{text}<br>STD: %{y: .2e}",
         "line": {
          "width": 1
         },
         "marker": {
          "size": 3
         },
         "name": "MEG0943",
         "opacity": 0.7,
         "pointpos": 0,
         "text": [
          0,
          1,
          2,
          3,
          4,
          5,
          6,
          7,
          8
         ],
         "type": "box",
         "y": [
          4.846180338219693e-12,
          4.738577693982095e-12,
          5.389145901668561e-12,
          4.976412834843771e-12,
          5.5247301989908996e-12,
          4.828188837349364e-12,
          5.4372454579488574e-12,
          5.467680062601588e-12,
          6.660096925322076e-12
         ]
        },
        {
         "boxpoints": "all",
         "hovertemplate": "Epoch: %{text}<br>STD: %{y: .2e}",
         "line": {
          "width": 1
         },
         "marker": {
          "size": 3
         },
         "name": "MEG1013",
         "opacity": 0.7,
         "pointpos": 0,
         "text": [
          0,
          1,
          2,
          3,
          4,
          5,
          6,
          7,
          8
         ],
         "type": "box",
         "y": [
          5.3220905170725424e-12,
          4.830867885268616e-12,
          5.1490406970498935e-12,
          5.810957602208998e-12,
          5.547739188478859e-12,
          5.6236698237776665e-12,
          5.911944960187884e-12,
          5.682187761676277e-12,
          5.052011433382121e-12
         ]
        },
        {
         "boxpoints": "all",
         "hovertemplate": "Epoch: %{text}<br>STD: %{y: .2e}",
         "line": {
          "width": 1
         },
         "marker": {
          "size": 3
         },
         "name": "MEG1012",
         "opacity": 0.7,
         "pointpos": 0,
         "text": [
          0,
          1,
          2,
          3,
          4,
          5,
          6,
          7,
          8
         ],
         "type": "box",
         "y": [
          6.870830317802387e-12,
          5.592858724798205e-12,
          6.2871661519517706e-12,
          6.621292452479584e-12,
          6.9149695973684e-12,
          5.69178950416354e-12,
          5.8773085700583314e-12,
          5.731739570303583e-12,
          6.6519874862204445e-12
         ]
        },
        {
         "boxpoints": "all",
         "hovertemplate": "Epoch: %{text}<br>STD: %{y: .2e}",
         "line": {
          "width": 1
         },
         "marker": {
          "size": 3
         },
         "name": "MEG1023",
         "opacity": 0.7,
         "pointpos": 0,
         "text": [
          0,
          1,
          2,
          3,
          4,
          5,
          6,
          7,
          8
         ],
         "type": "box",
         "y": [
          4.988279010955299e-12,
          5.0311966168671985e-12,
          4.79679113521126e-12,
          5.731018004115325e-12,
          4.8982500087250244e-12,
          5.691047434928667e-12,
          5.29904486365511e-12,
          5.601472885920261e-12,
          4.974192129536191e-12
         ]
        },
        {
         "boxpoints": "all",
         "hovertemplate": "Epoch: %{text}<br>STD: %{y: .2e}",
         "line": {
          "width": 1
         },
         "marker": {
          "size": 3
         },
         "name": "MEG1022",
         "opacity": 0.7,
         "pointpos": 0,
         "text": [
          0,
          1,
          2,
          3,
          4,
          5,
          6,
          7,
          8
         ],
         "type": "box",
         "y": [
          5.575427572636659e-12,
          5.1508630949453944e-12,
          6.186843404124627e-12,
          5.3427745893993235e-12,
          5.179928425221001e-12,
          5.230830984066586e-12,
          5.831938717890904e-12,
          5.766278863294869e-12,
          5.9630930956522595e-12
         ]
        },
        {
         "boxpoints": "all",
         "hovertemplate": "Epoch: %{text}<br>STD: %{y: .2e}",
         "line": {
          "width": 1
         },
         "marker": {
          "size": 3
         },
         "name": "MEG1032",
         "opacity": 0.7,
         "pointpos": 0,
         "text": [
          0,
          1,
          2,
          3,
          4,
          5,
          6,
          7,
          8
         ],
         "type": "box",
         "y": [
          7.127213316561727e-12,
          6.8983967348332795e-12,
          6.43807056907979e-12,
          7.9080856053862e-12,
          8.046896533890494e-12,
          7.674832607942245e-12,
          6.3916544035026335e-12,
          6.444113250135177e-12,
          7.508751256365851e-12
         ]
        },
        {
         "boxpoints": "all",
         "hovertemplate": "Epoch: %{text}<br>STD: %{y: .2e}",
         "line": {
          "width": 1
         },
         "marker": {
          "size": 3
         },
         "name": "MEG1033",
         "opacity": 0.7,
         "pointpos": 0,
         "text": [
          0,
          1,
          2,
          3,
          4,
          5,
          6,
          7,
          8
         ],
         "type": "box",
         "y": [
          7.1756843833539495e-12,
          6.231720246021815e-12,
          7.214592151504931e-12,
          6.24568318214433e-12,
          5.684545156927215e-12,
          6.457583479840098e-12,
          7.217836092821996e-12,
          6.572185342184404e-12,
          6.838184160376598e-12
         ]
        },
        {
         "boxpoints": "all",
         "hovertemplate": "Epoch: %{text}<br>STD: %{y: .2e}",
         "line": {
          "width": 1
         },
         "marker": {
          "size": 3
         },
         "name": "MEG1043",
         "opacity": 0.7,
         "pointpos": 0,
         "text": [
          0,
          1,
          2,
          3,
          4,
          5,
          6,
          7,
          8
         ],
         "type": "box",
         "y": [
          8.449923060572394e-12,
          7.945061709218905e-12,
          7.77103025578435e-12,
          8.989538184302603e-12,
          9.572652459715414e-12,
          8.015434374001451e-12,
          7.31508095354508e-12,
          9.703991972902158e-12,
          8.684747250288805e-12
         ]
        },
        {
         "boxpoints": "all",
         "hovertemplate": "Epoch: %{text}<br>STD: %{y: .2e}",
         "line": {
          "width": 1
         },
         "marker": {
          "size": 3
         },
         "name": "MEG1042",
         "opacity": 0.7,
         "pointpos": 0,
         "text": [
          0,
          1,
          2,
          3,
          4,
          5,
          6,
          7,
          8
         ],
         "type": "box",
         "y": [
          8.650243104455022e-12,
          6.829651618305957e-12,
          7.976519727312595e-12,
          7.684156068937996e-12,
          7.1657974305107905e-12,
          7.224120733087498e-12,
          7.408941145099765e-12,
          9.300507728190805e-12,
          7.776790901620111e-12
         ]
        },
        {
         "boxpoints": "all",
         "hovertemplate": "Epoch: %{text}<br>STD: %{y: .2e}",
         "line": {
          "width": 1
         },
         "marker": {
          "size": 3
         },
         "name": "MEG1112",
         "opacity": 0.7,
         "pointpos": 0,
         "text": [
          0,
          1,
          2,
          3,
          4,
          5,
          6,
          7,
          8
         ],
         "type": "box",
         "y": [
          1.0651396241207387e-11,
          8.582782832450473e-12,
          1.031134923071902e-11,
          8.714089419561112e-12,
          8.095552386511028e-12,
          8.903553186900045e-12,
          8.043171114391e-12,
          9.521599900161652e-12,
          9.13696411490929e-12
         ]
        },
        {
         "boxpoints": "all",
         "hovertemplate": "Epoch: %{text}<br>STD: %{y: .2e}",
         "line": {
          "width": 1
         },
         "marker": {
          "size": 3
         },
         "name": "MEG1113",
         "opacity": 0.7,
         "pointpos": 0,
         "text": [
          0,
          1,
          2,
          3,
          4,
          5,
          6,
          7,
          8
         ],
         "type": "box",
         "y": [
          1.0403642437608012e-11,
          7.990402972633248e-12,
          7.96008626419478e-12,
          9.66131724001328e-12,
          9.423444482333128e-12,
          8.331558354902961e-12,
          8.068233082421884e-12,
          8.456740485513e-12,
          1.1117415274434321e-11
         ]
        },
        {
         "boxpoints": "all",
         "hovertemplate": "Epoch: %{text}<br>STD: %{y: .2e}",
         "line": {
          "width": 1
         },
         "marker": {
          "size": 3
         },
         "name": "MEG1123",
         "opacity": 0.7,
         "pointpos": 0,
         "text": [
          0,
          1,
          2,
          3,
          4,
          5,
          6,
          7,
          8
         ],
         "type": "box",
         "y": [
          7.815952938692929e-12,
          8.692260497453895e-12,
          9.654014383452072e-12,
          8.740636401494973e-12,
          8.874601423749033e-12,
          9.388047739562558e-12,
          7.716021771218893e-12,
          8.900921511176066e-12,
          9.50166318324643e-12
         ]
        },
        {
         "boxpoints": "all",
         "hovertemplate": "Epoch: %{text}<br>STD: %{y: .2e}",
         "line": {
          "width": 1
         },
         "marker": {
          "size": 3
         },
         "name": "MEG1122",
         "opacity": 0.7,
         "pointpos": 0,
         "text": [
          0,
          1,
          2,
          3,
          4,
          5,
          6,
          7,
          8
         ],
         "type": "box",
         "y": [
          9.495307879887089e-12,
          7.9398006013144e-12,
          7.203890789460679e-12,
          9.711051456868435e-12,
          7.991888038865964e-12,
          7.079854224159656e-12,
          7.899069348121074e-12,
          7.929281687853477e-12,
          9.011541839039218e-12
         ]
        },
        {
         "boxpoints": "all",
         "hovertemplate": "Epoch: %{text}<br>STD: %{y: .2e}",
         "line": {
          "width": 1
         },
         "marker": {
          "size": 3
         },
         "name": "MEG1133",
         "opacity": 0.7,
         "pointpos": 0,
         "text": [
          0,
          1,
          2,
          3,
          4,
          5,
          6,
          7,
          8
         ],
         "type": "box",
         "y": [
          1.2110314841764784e-11,
          1.0610378443963378e-11,
          1.1512934046874e-11,
          1.062622038922516e-11,
          1.210124323189419e-11,
          1.1922626281078297e-11,
          9.4752119982582e-12,
          1.0905905689955179e-11,
          1.2310817412888278e-11
         ]
        },
        {
         "boxpoints": "all",
         "hovertemplate": "Epoch: %{text}<br>STD: %{y: .2e}",
         "line": {
          "width": 1
         },
         "marker": {
          "size": 3
         },
         "name": "MEG1132",
         "opacity": 0.7,
         "pointpos": 0,
         "text": [
          0,
          1,
          2,
          3,
          4,
          5,
          6,
          7,
          8
         ],
         "type": "box",
         "y": [
          1.2263396052513958e-11,
          9.779168652676251e-12,
          9.792354008646547e-12,
          9.668234996541947e-12,
          9.650702230303734e-12,
          1.2242314267284848e-11,
          1.1807925169988926e-11,
          1.1628247201960785e-11,
          1.1911916345327957e-11
         ]
        },
        {
         "boxpoints": "all",
         "hovertemplate": "Epoch: %{text}<br>STD: %{y: .2e}",
         "line": {
          "width": 1
         },
         "marker": {
          "size": 3
         },
         "name": "MEG1142",
         "opacity": 0.7,
         "pointpos": 0,
         "text": [
          0,
          1,
          2,
          3,
          4,
          5,
          6,
          7,
          8
         ],
         "type": "box",
         "y": [
          1.2547825646223108e-11,
          1.1070316946767557e-11,
          1.2227481377394869e-11,
          1.0932406683512495e-11,
          1.087402321310118e-11,
          1.1905425943994275e-11,
          8.219977990676148e-12,
          1.2620405731535152e-11,
          1.0768780336855117e-11
         ]
        },
        {
         "boxpoints": "all",
         "hovertemplate": "Epoch: %{text}<br>STD: %{y: .2e}",
         "line": {
          "width": 1
         },
         "marker": {
          "size": 3
         },
         "name": "MEG1143",
         "opacity": 0.7,
         "pointpos": 0,
         "text": [
          0,
          1,
          2,
          3,
          4,
          5,
          6,
          7,
          8
         ],
         "type": "box",
         "y": [
          1.319067048699053e-11,
          9.622198000379327e-12,
          1.033967856818702e-11,
          1.0540893314337536e-11,
          9.073801669600734e-12,
          1.2385481921803886e-11,
          1.1795634093550876e-11,
          1.0712026429440763e-11,
          1.0046988423643937e-11
         ]
        },
        {
         "boxpoints": "all",
         "hovertemplate": "Epoch: %{text}<br>STD: %{y: .2e}",
         "line": {
          "width": 1
         },
         "marker": {
          "size": 3
         },
         "name": "MEG1213",
         "opacity": 0.7,
         "pointpos": 0,
         "text": [
          0,
          1,
          2,
          3,
          4,
          5,
          6,
          7,
          8
         ],
         "type": "box",
         "y": [
          8.099393253484187e-12,
          7.644498712402208e-12,
          8.007656655161237e-12,
          7.321814277058625e-12,
          8.771692397028018e-12,
          7.874832002254964e-12,
          8.325819930379406e-12,
          9.078430311025703e-12,
          9.158311570120353e-12
         ]
        },
        {
         "boxpoints": "all",
         "hovertemplate": "Epoch: %{text}<br>STD: %{y: .2e}",
         "line": {
          "width": 1
         },
         "marker": {
          "size": 3
         },
         "name": "MEG1212",
         "opacity": 0.7,
         "pointpos": 0,
         "text": [
          0,
          1,
          2,
          3,
          4,
          5,
          6,
          7,
          8
         ],
         "type": "box",
         "y": [
          7.508927540242584e-12,
          7.584897373542626e-12,
          5.891024287692214e-12,
          7.29592556114835e-12,
          7.243744830501392e-12,
          6.2648813675562354e-12,
          7.2525486321749625e-12,
          6.549264038114119e-12,
          6.594551351210201e-12
         ]
        },
        {
         "boxpoints": "all",
         "hovertemplate": "Epoch: %{text}<br>STD: %{y: .2e}",
         "line": {
          "width": 1
         },
         "marker": {
          "size": 3
         },
         "name": "MEG1223",
         "opacity": 0.7,
         "pointpos": 0,
         "text": [
          0,
          1,
          2,
          3,
          4,
          5,
          6,
          7,
          8
         ],
         "type": "box",
         "y": [
          8.032058553532516e-12,
          7.5707697472856e-12,
          8.660137164776644e-12,
          7.626384312999058e-12,
          8.866536107546467e-12,
          8.995916659673777e-12,
          7.483068664457264e-12,
          9.629840847291995e-12,
          8.447320730173996e-12
         ]
        },
        {
         "boxpoints": "all",
         "hovertemplate": "Epoch: %{text}<br>STD: %{y: .2e}",
         "line": {
          "width": 1
         },
         "marker": {
          "size": 3
         },
         "name": "MEG1222",
         "opacity": 0.7,
         "pointpos": 0,
         "text": [
          0,
          1,
          2,
          3,
          4,
          5,
          6,
          7,
          8
         ],
         "type": "box",
         "y": [
          6.283025809898721e-12,
          6.7160272849350955e-12,
          7.604524107375767e-12,
          7.1359835949719605e-12,
          7.130556012124528e-12,
          5.677376805821003e-12,
          6.3144324484658086e-12,
          6.066072740439557e-12,
          6.391939319892677e-12
         ]
        },
        {
         "boxpoints": "all",
         "hovertemplate": "Epoch: %{text}<br>STD: %{y: .2e}",
         "line": {
          "width": 1
         },
         "marker": {
          "size": 3
         },
         "name": "MEG1232",
         "opacity": 0.7,
         "pointpos": 0,
         "text": [
          0,
          1,
          2,
          3,
          4,
          5,
          6,
          7,
          8
         ],
         "type": "box",
         "y": [
          7.699806406264471e-12,
          8.885016870515519e-12,
          6.797096184472996e-12,
          6.852153428998871e-12,
          7.862667113547436e-12,
          8.368943451517763e-12,
          7.598357570336568e-12,
          8.595688142863777e-12,
          7.975218231448496e-12
         ]
        },
        {
         "boxpoints": "all",
         "hovertemplate": "Epoch: %{text}<br>STD: %{y: .2e}",
         "line": {
          "width": 1
         },
         "marker": {
          "size": 3
         },
         "name": "MEG1233",
         "opacity": 0.7,
         "pointpos": 0,
         "text": [
          0,
          1,
          2,
          3,
          4,
          5,
          6,
          7,
          8
         ],
         "type": "box",
         "y": [
          6.660048506307771e-12,
          7.455578641987835e-12,
          7.087257454351028e-12,
          7.11894038302019e-12,
          7.09481958352681e-12,
          5.899232900259429e-12,
          6.9572716461444494e-12,
          6.1609748092422514e-12,
          6.223370175844382e-12
         ]
        },
        {
         "boxpoints": "all",
         "hovertemplate": "Epoch: %{text}<br>STD: %{y: .2e}",
         "line": {
          "width": 1
         },
         "marker": {
          "size": 3
         },
         "name": "MEG1243",
         "opacity": 0.7,
         "pointpos": 0,
         "text": [
          0,
          1,
          2,
          3,
          4,
          5,
          6,
          7,
          8
         ],
         "type": "box",
         "y": [
          5.958515306104752e-12,
          6.576062622920016e-12,
          7.0100095371690515e-12,
          6.655363104041008e-12,
          6.1985470699208865e-12,
          6.817330756710729e-12,
          6.757834200559068e-12,
          7.165162615925564e-12,
          6.8944103182369145e-12
         ]
        },
        {
         "boxpoints": "all",
         "hovertemplate": "Epoch: %{text}<br>STD: %{y: .2e}",
         "line": {
          "width": 1
         },
         "marker": {
          "size": 3
         },
         "name": "MEG1242",
         "opacity": 0.7,
         "pointpos": 0,
         "text": [
          0,
          1,
          2,
          3,
          4,
          5,
          6,
          7,
          8
         ],
         "type": "box",
         "y": [
          7.111447352358065e-12,
          6.869849274523986e-12,
          6.770755104801992e-12,
          6.988530011657147e-12,
          6.479864334639338e-12,
          6.098098724825947e-12,
          6.618391360189868e-12,
          5.679341564165014e-12,
          6.5797030137713225e-12
         ]
        },
        {
         "boxpoints": "all",
         "hovertemplate": "Epoch: %{text}<br>STD: %{y: .2e}",
         "line": {
          "width": 1
         },
         "marker": {
          "size": 3
         },
         "name": "MEG1312",
         "opacity": 0.7,
         "pointpos": 0,
         "text": [
          0,
          1,
          2,
          3,
          4,
          5,
          6,
          7,
          8
         ],
         "type": "box",
         "y": [
          1.0386824081167042e-11,
          1.215220728309508e-11,
          8.24565684440191e-12,
          7.929933454359737e-12,
          9.330163400689065e-12,
          1.0564200960033149e-11,
          8.285960250084457e-12,
          9.029927220610034e-12,
          9.660155869344947e-12
         ]
        },
        {
         "boxpoints": "all",
         "hovertemplate": "Epoch: %{text}<br>STD: %{y: .2e}",
         "line": {
          "width": 1
         },
         "marker": {
          "size": 3
         },
         "name": "MEG1313",
         "opacity": 0.7,
         "pointpos": 0,
         "text": [
          0,
          1,
          2,
          3,
          4,
          5,
          6,
          7,
          8
         ],
         "type": "box",
         "y": [
          8.947122312908868e-12,
          7.475058211895134e-12,
          6.761359009097187e-12,
          9.900639836783574e-12,
          8.721444865124777e-12,
          6.744963178965627e-12,
          8.214267082869415e-12,
          7.559275244820734e-12,
          8.357586125969857e-12
         ]
        },
        {
         "boxpoints": "all",
         "hovertemplate": "Epoch: %{text}<br>STD: %{y: .2e}",
         "line": {
          "width": 1
         },
         "marker": {
          "size": 3
         },
         "name": "MEG1323",
         "opacity": 0.7,
         "pointpos": 0,
         "text": [
          0,
          1,
          2,
          3,
          4,
          5,
          6,
          7,
          8
         ],
         "type": "box",
         "y": [
          8.019540787630737e-12,
          7.137844619200882e-12,
          6.9271517026536085e-12,
          7.826441174703036e-12,
          8.63614726863787e-12,
          8.903033500606706e-12,
          8.561485236449447e-12,
          1.0174669626671075e-11,
          7.452447061617238e-12
         ]
        },
        {
         "boxpoints": "all",
         "hovertemplate": "Epoch: %{text}<br>STD: %{y: .2e}",
         "line": {
          "width": 1
         },
         "marker": {
          "size": 3
         },
         "name": "MEG1322",
         "opacity": 0.7,
         "pointpos": 0,
         "text": [
          0,
          1,
          2,
          3,
          4,
          5,
          6,
          7,
          8
         ],
         "type": "box",
         "y": [
          8.386475069633643e-12,
          7.466216827549948e-12,
          6.255182103929025e-12,
          7.552986199730946e-12,
          9.361982349930277e-12,
          7.293717181519745e-12,
          7.482773100896044e-12,
          7.82047373256843e-12,
          8.588250934476804e-12
         ]
        },
        {
         "boxpoints": "all",
         "hovertemplate": "Epoch: %{text}<br>STD: %{y: .2e}",
         "line": {
          "width": 1
         },
         "marker": {
          "size": 3
         },
         "name": "MEG1333",
         "opacity": 0.7,
         "pointpos": 0,
         "text": [
          0,
          1,
          2,
          3,
          4,
          5,
          6,
          7,
          8
         ],
         "type": "box",
         "y": [
          1.0442618810963493e-11,
          8.286076582825994e-12,
          7.683355796010147e-12,
          9.684844347417963e-12,
          9.874968920110426e-12,
          9.419511023122077e-12,
          9.93465556411436e-12,
          1.0473378488892474e-11,
          8.641688072232399e-12
         ]
        },
        {
         "boxpoints": "all",
         "hovertemplate": "Epoch: %{text}<br>STD: %{y: .2e}",
         "line": {
          "width": 1
         },
         "marker": {
          "size": 3
         },
         "name": "MEG1332",
         "opacity": 0.7,
         "pointpos": 0,
         "text": [
          0,
          1,
          2,
          3,
          4,
          5,
          6,
          7,
          8
         ],
         "type": "box",
         "y": [
          1.0190707828754733e-11,
          9.919777979888589e-12,
          8.565472756856514e-12,
          1.0128975595098016e-11,
          9.552858719021727e-12,
          1.1848627035551514e-11,
          8.321754873347724e-12,
          1.043025342457837e-11,
          9.534167085939267e-12
         ]
        },
        {
         "boxpoints": "all",
         "hovertemplate": "Epoch: %{text}<br>STD: %{y: .2e}",
         "line": {
          "width": 1
         },
         "marker": {
          "size": 3
         },
         "name": "MEG1342",
         "opacity": 0.7,
         "pointpos": 0,
         "text": [
          0,
          1,
          2,
          3,
          4,
          5,
          6,
          7,
          8
         ],
         "type": "box",
         "y": [
          1.0523240038313645e-11,
          1.1722566683042537e-11,
          8.33881440044046e-12,
          9.218447387004503e-12,
          9.00144961978672e-12,
          1.0547938028036919e-11,
          8.103947824053087e-12,
          8.386154766167421e-12,
          1.0777961974341018e-11
         ]
        },
        {
         "boxpoints": "all",
         "hovertemplate": "Epoch: %{text}<br>STD: %{y: .2e}",
         "line": {
          "width": 1
         },
         "marker": {
          "size": 3
         },
         "name": "MEG1343",
         "opacity": 0.7,
         "pointpos": 0,
         "text": [
          0,
          1,
          2,
          3,
          4,
          5,
          6,
          7,
          8
         ],
         "type": "box",
         "y": [
          8.796559544841685e-12,
          9.249710841040821e-12,
          9.1043774488928e-12,
          9.409550088186292e-12,
          9.556272986266384e-12,
          1.0632988844587505e-11,
          9.045582353067127e-12,
          1.107572597908979e-11,
          1.0907265934396843e-11
         ]
        },
        {
         "boxpoints": "all",
         "hovertemplate": "Epoch: %{text}<br>STD: %{y: .2e}",
         "line": {
          "width": 1
         },
         "marker": {
          "size": 3
         },
         "name": "MEG1412",
         "opacity": 0.7,
         "pointpos": 0,
         "text": [
          0,
          1,
          2,
          3,
          4,
          5,
          6,
          7,
          8
         ],
         "type": "box",
         "y": [
          8.263352467033683e-12,
          8.969173208519552e-12,
          7.2604591416714555e-12,
          8.155858531491499e-12,
          8.449326759330894e-12,
          8.682153012110527e-12,
          9.182134351328386e-12,
          9.314164204483146e-12,
          9.314156413856506e-12
         ]
        },
        {
         "boxpoints": "all",
         "hovertemplate": "Epoch: %{text}<br>STD: %{y: .2e}",
         "line": {
          "width": 1
         },
         "marker": {
          "size": 3
         },
         "name": "MEG1413",
         "opacity": 0.7,
         "pointpos": 0,
         "text": [
          0,
          1,
          2,
          3,
          4,
          5,
          6,
          7,
          8
         ],
         "type": "box",
         "y": [
          8.077083015314158e-12,
          6.6692103497038784e-12,
          7.919695851416022e-12,
          7.306023833015771e-12,
          8.342205906085974e-12,
          6.4214446721037305e-12,
          6.554730840793512e-12,
          6.536631747027098e-12,
          8.096475784381611e-12
         ]
        },
        {
         "boxpoints": "all",
         "hovertemplate": "Epoch: %{text}<br>STD: %{y: .2e}",
         "line": {
          "width": 1
         },
         "marker": {
          "size": 3
         },
         "name": "MEG1423",
         "opacity": 0.7,
         "pointpos": 0,
         "text": [
          0,
          1,
          2,
          3,
          4,
          5,
          6,
          7,
          8
         ],
         "type": "box",
         "y": [
          7.401090866783966e-12,
          7.63525597267287e-12,
          8.183130701968498e-12,
          8.737304238393874e-12,
          7.364430368375453e-12,
          8.184546665977595e-12,
          8.611968548107351e-12,
          7.584691447259895e-12,
          8.047792621663446e-12
         ]
        },
        {
         "boxpoints": "all",
         "hovertemplate": "Epoch: %{text}<br>STD: %{y: .2e}",
         "line": {
          "width": 1
         },
         "marker": {
          "size": 3
         },
         "name": "MEG1422",
         "opacity": 0.7,
         "pointpos": 0,
         "text": [
          0,
          1,
          2,
          3,
          4,
          5,
          6,
          7,
          8
         ],
         "type": "box",
         "y": [
          5.738118076835051e-12,
          5.185103298377744e-12,
          6.665660794487002e-12,
          5.677473097801463e-12,
          7.0209652492422244e-12,
          5.694305312541998e-12,
          4.878134096123785e-12,
          5.221080605266261e-12,
          7.939993626662527e-12
         ]
        },
        {
         "boxpoints": "all",
         "hovertemplate": "Epoch: %{text}<br>STD: %{y: .2e}",
         "line": {
          "width": 1
         },
         "marker": {
          "size": 3
         },
         "name": "MEG1433",
         "opacity": 0.7,
         "pointpos": 0,
         "text": [
          0,
          1,
          2,
          3,
          4,
          5,
          6,
          7,
          8
         ],
         "type": "box",
         "y": [
          5.812735059508811e-12,
          6.327942240578472e-12,
          6.113928288070499e-12,
          5.992374443385586e-12,
          5.731416246171753e-12,
          6.151063702422941e-12,
          7.44167414252305e-12,
          5.830413110058373e-12,
          6.916250859453989e-12
         ]
        },
        {
         "boxpoints": "all",
         "hovertemplate": "Epoch: %{text}<br>STD: %{y: .2e}",
         "line": {
          "width": 1
         },
         "marker": {
          "size": 3
         },
         "name": "MEG1432",
         "opacity": 0.7,
         "pointpos": 0,
         "text": [
          0,
          1,
          2,
          3,
          4,
          5,
          6,
          7,
          8
         ],
         "type": "box",
         "y": [
          4.943118413484076e-12,
          4.668136388130194e-12,
          4.926809756131056e-12,
          5.666015761035809e-12,
          5.94920816562681e-12,
          5.2537966030206816e-12,
          4.894268079553582e-12,
          5.9316367585673904e-12,
          6.185833933460043e-12
         ]
        },
        {
         "boxpoints": "all",
         "hovertemplate": "Epoch: %{text}<br>STD: %{y: .2e}",
         "line": {
          "width": 1
         },
         "marker": {
          "size": 3
         },
         "name": "MEG1442",
         "opacity": 0.7,
         "pointpos": 0,
         "text": [
          0,
          1,
          2,
          3,
          4,
          5,
          6,
          7,
          8
         ],
         "type": "box",
         "y": [
          8.074166293013764e-12,
          7.226207103203201e-12,
          7.005559168596603e-12,
          7.609781373894918e-12,
          7.133075489283682e-12,
          7.672552104470759e-12,
          7.469774418289813e-12,
          7.406640472256586e-12,
          7.164489774422391e-12
         ]
        },
        {
         "boxpoints": "all",
         "hovertemplate": "Epoch: %{text}<br>STD: %{y: .2e}",
         "line": {
          "width": 1
         },
         "marker": {
          "size": 3
         },
         "name": "MEG1443",
         "opacity": 0.7,
         "pointpos": 0,
         "text": [
          0,
          1,
          2,
          3,
          4,
          5,
          6,
          7,
          8
         ],
         "type": "box",
         "y": [
          6.3996249135417885e-12,
          6.101482185632832e-12,
          7.075383141558166e-12,
          6.5353825659321976e-12,
          7.94460377593231e-12,
          6.552527039213238e-12,
          5.492672804769704e-12,
          6.830992827063567e-12,
          7.800852895956059e-12
         ]
        },
        {
         "boxpoints": "all",
         "hovertemplate": "Epoch: %{text}<br>STD: %{y: .2e}",
         "line": {
          "width": 1
         },
         "marker": {
          "size": 3
         },
         "name": "MEG1512",
         "opacity": 0.7,
         "pointpos": 0,
         "text": [
          0,
          1,
          2,
          3,
          4,
          5,
          6,
          7,
          8
         ],
         "type": "box",
         "y": [
          7.776256176296004e-12,
          7.597889731629643e-12,
          7.391352054577899e-12,
          7.1760112464952246e-12,
          6.62058839659202e-12,
          7.300588737973205e-12,
          7.491555772550728e-12,
          6.674332557810103e-12,
          6.479754831941389e-12
         ]
        },
        {
         "boxpoints": "all",
         "hovertemplate": "Epoch: %{text}<br>STD: %{y: .2e}",
         "line": {
          "width": 1
         },
         "marker": {
          "size": 3
         },
         "name": "MEG1513",
         "opacity": 0.7,
         "pointpos": 0,
         "text": [
          0,
          1,
          2,
          3,
          4,
          5,
          6,
          7,
          8
         ],
         "type": "box",
         "y": [
          7.92918058324252e-12,
          6.071403592875723e-12,
          5.53858872239563e-12,
          6.816884084949348e-12,
          6.24673596886478e-12,
          6.9222037202520595e-12,
          7.934139404106752e-12,
          6.77703156477814e-12,
          7.547570888529852e-12
         ]
        },
        {
         "boxpoints": "all",
         "hovertemplate": "Epoch: %{text}<br>STD: %{y: .2e}",
         "line": {
          "width": 1
         },
         "marker": {
          "size": 3
         },
         "name": "MEG1522",
         "opacity": 0.7,
         "pointpos": 0,
         "text": [
          0,
          1,
          2,
          3,
          4,
          5,
          6,
          7,
          8
         ],
         "type": "box",
         "y": [
          7.253814509882683e-12,
          6.3742405506285684e-12,
          7.219166837897289e-12,
          7.778185438626626e-12,
          7.546536794803307e-12,
          8.179469320948008e-12,
          8.525863742077166e-12,
          8.087075417603733e-12,
          7.622117435998735e-12
         ]
        },
        {
         "boxpoints": "all",
         "hovertemplate": "Epoch: %{text}<br>STD: %{y: .2e}",
         "line": {
          "width": 1
         },
         "marker": {
          "size": 3
         },
         "name": "MEG1523",
         "opacity": 0.7,
         "pointpos": 0,
         "text": [
          0,
          1,
          2,
          3,
          4,
          5,
          6,
          7,
          8
         ],
         "type": "box",
         "y": [
          6.999539172790583e-12,
          5.328924942320689e-12,
          5.518011925434471e-12,
          6.7241353015060315e-12,
          5.772570482806351e-12,
          5.579365672646949e-12,
          6.147818882219808e-12,
          7.809932332934204e-12,
          7.97304750628312e-12
         ]
        },
        {
         "boxpoints": "all",
         "hovertemplate": "Epoch: %{text}<br>STD: %{y: .2e}",
         "line": {
          "width": 1
         },
         "marker": {
          "size": 3
         },
         "name": "MEG1533",
         "opacity": 0.7,
         "pointpos": 0,
         "text": [
          0,
          1,
          2,
          3,
          4,
          5,
          6,
          7,
          8
         ],
         "type": "box",
         "y": [
          6.441153790105718e-12,
          5.599420541245162e-12,
          6.1978578279487975e-12,
          6.832682493416326e-12,
          6.2053722354209525e-12,
          5.637318328253795e-12,
          6.880540393779356e-12,
          6.304147204807178e-12,
          6.349063503196843e-12
         ]
        },
        {
         "boxpoints": "all",
         "hovertemplate": "Epoch: %{text}<br>STD: %{y: .2e}",
         "line": {
          "width": 1
         },
         "marker": {
          "size": 3
         },
         "name": "MEG1532",
         "opacity": 0.7,
         "pointpos": 0,
         "text": [
          0,
          1,
          2,
          3,
          4,
          5,
          6,
          7,
          8
         ],
         "type": "box",
         "y": [
          6.082902354210813e-12,
          6.797673372674743e-12,
          6.816284829148901e-12,
          7.0147273360665106e-12,
          6.941969791870606e-12,
          6.694645288015633e-12,
          6.3782423529621506e-12,
          7.0600062383405845e-12,
          6.91999441631663e-12
         ]
        },
        {
         "boxpoints": "all",
         "hovertemplate": "Epoch: %{text}<br>STD: %{y: .2e}",
         "line": {
          "width": 1
         },
         "marker": {
          "size": 3
         },
         "name": "MEG1543",
         "opacity": 0.7,
         "pointpos": 0,
         "text": [
          0,
          1,
          2,
          3,
          4,
          5,
          6,
          7,
          8
         ],
         "type": "box",
         "y": [
          6.080644549780842e-12,
          4.8917699702778386e-12,
          5.502322712002757e-12,
          6.3437837123406615e-12,
          5.656942200340699e-12,
          5.24411788248247e-12,
          7.022781466636946e-12,
          6.026304338525972e-12,
          6.232484207913587e-12
         ]
        },
        {
         "boxpoints": "all",
         "hovertemplate": "Epoch: %{text}<br>STD: %{y: .2e}",
         "line": {
          "width": 1
         },
         "marker": {
          "size": 3
         },
         "name": "MEG1542",
         "opacity": 0.7,
         "pointpos": 0,
         "text": [
          0,
          1,
          2,
          3,
          4,
          5,
          6,
          7,
          8
         ],
         "type": "box",
         "y": [
          6.3989736228512164e-12,
          6.652430637415222e-12,
          6.330463029492038e-12,
          6.815567201992481e-12,
          6.129980990018085e-12,
          5.744934022915308e-12,
          6.7223896870367456e-12,
          7.356674531817217e-12,
          7.68455182303428e-12
         ]
        },
        {
         "boxpoints": "all",
         "hovertemplate": "Epoch: %{text}<br>STD: %{y: .2e}",
         "line": {
          "width": 1
         },
         "marker": {
          "size": 3
         },
         "name": "MEG1613",
         "opacity": 0.7,
         "pointpos": 0,
         "text": [
          0,
          1,
          2,
          3,
          4,
          5,
          6,
          7,
          8
         ],
         "type": "box",
         "y": [
          9.254733519565517e-12,
          7.225548060824277e-12,
          8.937541532818757e-12,
          8.703011445463728e-12,
          8.142944733058838e-12,
          9.799152635125047e-12,
          9.127549519475921e-12,
          1.134873758110712e-11,
          9.621669230854283e-12
         ]
        },
        {
         "boxpoints": "all",
         "hovertemplate": "Epoch: %{text}<br>STD: %{y: .2e}",
         "line": {
          "width": 1
         },
         "marker": {
          "size": 3
         },
         "name": "MEG1612",
         "opacity": 0.7,
         "pointpos": 0,
         "text": [
          0,
          1,
          2,
          3,
          4,
          5,
          6,
          7,
          8
         ],
         "type": "box",
         "y": [
          7.90779259366859e-12,
          6.520709571028484e-12,
          6.273193549956628e-12,
          8.156520050142028e-12,
          7.628556064724576e-12,
          6.551412835191229e-12,
          7.982699400340523e-12,
          8.530075293058378e-12,
          8.981710544785228e-12
         ]
        },
        {
         "boxpoints": "all",
         "hovertemplate": "Epoch: %{text}<br>STD: %{y: .2e}",
         "line": {
          "width": 1
         },
         "marker": {
          "size": 3
         },
         "name": "MEG1622",
         "opacity": 0.7,
         "pointpos": 0,
         "text": [
          0,
          1,
          2,
          3,
          4,
          5,
          6,
          7,
          8
         ],
         "type": "box",
         "y": [
          9.116801866168216e-12,
          7.711485478217095e-12,
          8.76504555171892e-12,
          1.0347761927481634e-11,
          1.0181814454180556e-11,
          1.1164560662830611e-11,
          1.00151397863701e-11,
          1.0845491431937502e-11,
          9.650918668070275e-12
         ]
        },
        {
         "boxpoints": "all",
         "hovertemplate": "Epoch: %{text}<br>STD: %{y: .2e}",
         "line": {
          "width": 1
         },
         "marker": {
          "size": 3
         },
         "name": "MEG1623",
         "opacity": 0.7,
         "pointpos": 0,
         "text": [
          0,
          1,
          2,
          3,
          4,
          5,
          6,
          7,
          8
         ],
         "type": "box",
         "y": [
          9.511694507497829e-12,
          8.313661750922816e-12,
          6.8984222757454825e-12,
          9.482140480021616e-12,
          1.0227287683705639e-11,
          8.820192441269816e-12,
          8.603916655550547e-12,
          9.460557440808034e-12,
          9.270524373634905e-12
         ]
        },
        {
         "boxpoints": "all",
         "hovertemplate": "Epoch: %{text}<br>STD: %{y: .2e}",
         "line": {
          "width": 1
         },
         "marker": {
          "size": 3
         },
         "name": "MEG1632",
         "opacity": 0.7,
         "pointpos": 0,
         "text": [
          0,
          1,
          2,
          3,
          4,
          5,
          6,
          7,
          8
         ],
         "type": "box",
         "y": [
          9.795593771974162e-12,
          7.634756931768065e-12,
          7.47399792867699e-12,
          1.0705332683772642e-11,
          1.0688209408089508e-11,
          1.0742365714818681e-11,
          7.901915680475491e-12,
          1.3285025228910207e-11,
          8.630227107571327e-12
         ]
        },
        {
         "boxpoints": "all",
         "hovertemplate": "Epoch: %{text}<br>STD: %{y: .2e}",
         "line": {
          "width": 1
         },
         "marker": {
          "size": 3
         },
         "name": "MEG1633",
         "opacity": 0.7,
         "pointpos": 0,
         "text": [
          0,
          1,
          2,
          3,
          4,
          5,
          6,
          7,
          8
         ],
         "type": "box",
         "y": [
          8.259288853729118e-12,
          7.037475763446867e-12,
          7.27636007047815e-12,
          1.0812898586024251e-11,
          6.906088360724311e-12,
          1.0166903128794023e-11,
          8.14264744541391e-12,
          1.0162776939167571e-11,
          7.903733999970146e-12
         ]
        },
        {
         "boxpoints": "all",
         "hovertemplate": "Epoch: %{text}<br>STD: %{y: .2e}",
         "line": {
          "width": 1
         },
         "marker": {
          "size": 3
         },
         "name": "MEG1643",
         "opacity": 0.7,
         "pointpos": 0,
         "text": [
          0,
          1,
          2,
          3,
          4,
          5,
          6,
          7,
          8
         ],
         "type": "box",
         "y": [
          9.002599087872549e-12,
          6.677879917601311e-12,
          8.21689095030722e-12,
          9.019101435592034e-12,
          8.591403641827802e-12,
          1.1702000391850017e-11,
          8.793447564392494e-12,
          1.0536919140449307e-11,
          1.018312632277069e-11
         ]
        },
        {
         "boxpoints": "all",
         "hovertemplate": "Epoch: %{text}<br>STD: %{y: .2e}",
         "line": {
          "width": 1
         },
         "marker": {
          "size": 3
         },
         "name": "MEG1642",
         "opacity": 0.7,
         "pointpos": 0,
         "text": [
          0,
          1,
          2,
          3,
          4,
          5,
          6,
          7,
          8
         ],
         "type": "box",
         "y": [
          6.8256745380927784e-12,
          6.157909976606749e-12,
          6.7946200228089565e-12,
          9.653686989454414e-12,
          6.456989261695836e-12,
          8.102900376884235e-12,
          7.261231693283398e-12,
          9.094604501488243e-12,
          8.523437868961507e-12
         ]
        },
        {
         "boxpoints": "all",
         "hovertemplate": "Epoch: %{text}<br>STD: %{y: .2e}",
         "line": {
          "width": 1
         },
         "marker": {
          "size": 3
         },
         "name": "MEG1713",
         "opacity": 0.7,
         "pointpos": 0,
         "text": [
          0,
          1,
          2,
          3,
          4,
          5,
          6,
          7,
          8
         ],
         "type": "box",
         "y": [
          6.871704736272895e-12,
          6.5830603448704565e-12,
          6.51607954961862e-12,
          6.842213099464119e-12,
          6.9544591002570194e-12,
          6.224296096978005e-12,
          5.899081138419863e-12,
          6.744075016440113e-12,
          7.1030212414826764e-12
         ]
        },
        {
         "boxpoints": "all",
         "hovertemplate": "Epoch: %{text}<br>STD: %{y: .2e}",
         "line": {
          "width": 1
         },
         "marker": {
          "size": 3
         },
         "name": "MEG1712",
         "opacity": 0.7,
         "pointpos": 0,
         "text": [
          0,
          1,
          2,
          3,
          4,
          5,
          6,
          7,
          8
         ],
         "type": "box",
         "y": [
          6.2053386408059734e-12,
          6.721614515587008e-12,
          6.826750736493597e-12,
          7.726329842040697e-12,
          6.5374035249635035e-12,
          7.107747482136063e-12,
          6.60805459644028e-12,
          6.089516865920204e-12,
          6.30767349367855e-12
         ]
        },
        {
         "boxpoints": "all",
         "hovertemplate": "Epoch: %{text}<br>STD: %{y: .2e}",
         "line": {
          "width": 1
         },
         "marker": {
          "size": 3
         },
         "name": "MEG1722",
         "opacity": 0.7,
         "pointpos": 0,
         "text": [
          0,
          1,
          2,
          3,
          4,
          5,
          6,
          7,
          8
         ],
         "type": "box",
         "y": [
          8.330144260539644e-12,
          7.1402587507897166e-12,
          8.730647590796017e-12,
          1.0610404862439745e-11,
          9.800998813420665e-12,
          9.364861278201017e-12,
          9.331903913013721e-12,
          9.690817386708343e-12,
          9.207637642972262e-12
         ]
        },
        {
         "boxpoints": "all",
         "hovertemplate": "Epoch: %{text}<br>STD: %{y: .2e}",
         "line": {
          "width": 1
         },
         "marker": {
          "size": 3
         },
         "name": "MEG1723",
         "opacity": 0.7,
         "pointpos": 0,
         "text": [
          0,
          1,
          2,
          3,
          4,
          5,
          6,
          7,
          8
         ],
         "type": "box",
         "y": [
          5.911786215881851e-12,
          5.9417561938732406e-12,
          6.771498176929002e-12,
          7.849241855416384e-12,
          5.769131815317962e-12,
          5.943891664088829e-12,
          6.868658730794513e-12,
          6.769683292761268e-12,
          7.185718081437925e-12
         ]
        },
        {
         "boxpoints": "all",
         "hovertemplate": "Epoch: %{text}<br>STD: %{y: .2e}",
         "line": {
          "width": 1
         },
         "marker": {
          "size": 3
         },
         "name": "MEG1732",
         "opacity": 0.7,
         "pointpos": 0,
         "text": [
          0,
          1,
          2,
          3,
          4,
          5,
          6,
          7,
          8
         ],
         "type": "box",
         "y": [
          7.720361916111784e-12,
          6.729161657257886e-12,
          8.020911423597724e-12,
          9.854088159528053e-12,
          8.636608040876854e-12,
          8.419170797079713e-12,
          8.142545963429563e-12,
          8.929634397097647e-12,
          8.846705369198426e-12
         ]
        },
        {
         "boxpoints": "all",
         "hovertemplate": "Epoch: %{text}<br>STD: %{y: .2e}",
         "line": {
          "width": 1
         },
         "marker": {
          "size": 3
         },
         "name": "MEG1733",
         "opacity": 0.7,
         "pointpos": 0,
         "text": [
          0,
          1,
          2,
          3,
          4,
          5,
          6,
          7,
          8
         ],
         "type": "box",
         "y": [
          7.683938147985868e-12,
          7.0622795922257546e-12,
          7.757173729423993e-12,
          9.558220203280748e-12,
          7.831402647625966e-12,
          7.799855368255342e-12,
          7.4497865109276e-12,
          8.549815555955483e-12,
          7.660768439883664e-12
         ]
        },
        {
         "boxpoints": "all",
         "hovertemplate": "Epoch: %{text}<br>STD: %{y: .2e}",
         "line": {
          "width": 1
         },
         "marker": {
          "size": 3
         },
         "name": "MEG1743",
         "opacity": 0.7,
         "pointpos": 0,
         "text": [
          0,
          1,
          2,
          3,
          4,
          5,
          6,
          7,
          8
         ],
         "type": "box",
         "y": [
          6.077819418357708e-12,
          5.573344608052402e-12,
          5.614034929558742e-12,
          5.976125382627379e-12,
          6.365775223683576e-12,
          5.539218210778886e-12,
          5.04326783181046e-12,
          6.3019519412296044e-12,
          5.847874050624643e-12
         ]
        },
        {
         "boxpoints": "all",
         "hovertemplate": "Epoch: %{text}<br>STD: %{y: .2e}",
         "line": {
          "width": 1
         },
         "marker": {
          "size": 3
         },
         "name": "MEG1742",
         "opacity": 0.7,
         "pointpos": 0,
         "text": [
          0,
          1,
          2,
          3,
          4,
          5,
          6,
          7,
          8
         ],
         "type": "box",
         "y": [
          8.646225815390099e-12,
          8.298241505823032e-12,
          8.643202990898362e-12,
          9.716952897641468e-12,
          9.023413829380465e-12,
          8.828325718528863e-12,
          8.653757957006921e-12,
          8.239085849542048e-12,
          8.96934662278304e-12
         ]
        },
        {
         "boxpoints": "all",
         "hovertemplate": "Epoch: %{text}<br>STD: %{y: .2e}",
         "line": {
          "width": 1
         },
         "marker": {
          "size": 3
         },
         "name": "MEG1813",
         "opacity": 0.7,
         "pointpos": 0,
         "text": [
          0,
          1,
          2,
          3,
          4,
          5,
          6,
          7,
          8
         ],
         "type": "box",
         "y": [
          1.2317837250916933e-11,
          1.0346589566522163e-11,
          8.000272954482715e-12,
          1.0501391766374717e-11,
          1.0375222011299924e-11,
          1.1414344285091375e-11,
          9.438204850511304e-12,
          9.539224709116792e-12,
          9.77509513762823e-12
         ]
        },
        {
         "boxpoints": "all",
         "hovertemplate": "Epoch: %{text}<br>STD: %{y: .2e}",
         "line": {
          "width": 1
         },
         "marker": {
          "size": 3
         },
         "name": "MEG1812",
         "opacity": 0.7,
         "pointpos": 0,
         "text": [
          0,
          1,
          2,
          3,
          4,
          5,
          6,
          7,
          8
         ],
         "type": "box",
         "y": [
          1.0692506136688417e-11,
          9.68555603679769e-12,
          8.363900548819034e-12,
          1.1425022509760144e-11,
          1.112793969213373e-11,
          1.0180559564303585e-11,
          8.283484333549208e-12,
          1.05331506957955e-11,
          9.3124240609133e-12
         ]
        },
        {
         "boxpoints": "all",
         "hovertemplate": "Epoch: %{text}<br>STD: %{y: .2e}",
         "line": {
          "width": 1
         },
         "marker": {
          "size": 3
         },
         "name": "MEG1822",
         "opacity": 0.7,
         "pointpos": 0,
         "text": [
          0,
          1,
          2,
          3,
          4,
          5,
          6,
          7,
          8
         ],
         "type": "box",
         "y": [
          1.012597987237468e-11,
          9.438793174724008e-12,
          8.803468361532929e-12,
          8.989913725945928e-12,
          1.0567127592191618e-11,
          1.1264877604935604e-11,
          1.055689030216511e-11,
          1.0073709524440439e-11,
          9.39025123628288e-12
         ]
        },
        {
         "boxpoints": "all",
         "hovertemplate": "Epoch: %{text}<br>STD: %{y: .2e}",
         "line": {
          "width": 1
         },
         "marker": {
          "size": 3
         },
         "name": "MEG1823",
         "opacity": 0.7,
         "pointpos": 0,
         "text": [
          0,
          1,
          2,
          3,
          4,
          5,
          6,
          7,
          8
         ],
         "type": "box",
         "y": [
          1.0151011427718094e-11,
          1.0672444607731487e-11,
          9.056171073759996e-12,
          1.2618833571357144e-11,
          1.0390382802244056e-11,
          1.0316561510723657e-11,
          9.17784578006718e-12,
          1.0024124715493672e-11,
          9.172314507166988e-12
         ]
        },
        {
         "boxpoints": "all",
         "hovertemplate": "Epoch: %{text}<br>STD: %{y: .2e}",
         "line": {
          "width": 1
         },
         "marker": {
          "size": 3
         },
         "name": "MEG1832",
         "opacity": 0.7,
         "pointpos": 0,
         "text": [
          0,
          1,
          2,
          3,
          4,
          5,
          6,
          7,
          8
         ],
         "type": "box",
         "y": [
          1.0585095276704628e-11,
          9.380632829796762e-12,
          8.569616820166049e-12,
          1.1760661731300279e-11,
          1.2269048359195382e-11,
          1.0286109945285149e-11,
          8.363571191109171e-12,
          1.2800622544884728e-11,
          8.372004424125032e-12
         ]
        },
        {
         "boxpoints": "all",
         "hovertemplate": "Epoch: %{text}<br>STD: %{y: .2e}",
         "line": {
          "width": 1
         },
         "marker": {
          "size": 3
         },
         "name": "MEG1833",
         "opacity": 0.7,
         "pointpos": 0,
         "text": [
          0,
          1,
          2,
          3,
          4,
          5,
          6,
          7,
          8
         ],
         "type": "box",
         "y": [
          1.3097122049773598e-11,
          7.349188536956516e-12,
          9.578597843518023e-12,
          9.182130720602363e-12,
          1.256372878589706e-11,
          1.4375892913145527e-11,
          1.094364015263371e-11,
          1.1998022749959967e-11,
          1.1021826903920275e-11
         ]
        },
        {
         "boxpoints": "all",
         "hovertemplate": "Epoch: %{text}<br>STD: %{y: .2e}",
         "line": {
          "width": 1
         },
         "marker": {
          "size": 3
         },
         "name": "MEG1843",
         "opacity": 0.7,
         "pointpos": 0,
         "text": [
          0,
          1,
          2,
          3,
          4,
          5,
          6,
          7,
          8
         ],
         "type": "box",
         "y": [
          1.0738651891592504e-11,
          8.140275807633807e-12,
          7.47850204224031e-12,
          8.476341898214309e-12,
          1.0864890460890632e-11,
          8.139413928819945e-12,
          8.825126095518134e-12,
          9.847661124962995e-12,
          8.444965744098358e-12
         ]
        },
        {
         "boxpoints": "all",
         "hovertemplate": "Epoch: %{text}<br>STD: %{y: .2e}",
         "line": {
          "width": 1
         },
         "marker": {
          "size": 3
         },
         "name": "MEG1842",
         "opacity": 0.7,
         "pointpos": 0,
         "text": [
          0,
          1,
          2,
          3,
          4,
          5,
          6,
          7,
          8
         ],
         "type": "box",
         "y": [
          7.670174937619486e-12,
          6.9735288721904675e-12,
          8.156512894333321e-12,
          9.887121170671298e-12,
          8.179579431052497e-12,
          1.0760892973612042e-11,
          6.992450480734076e-12,
          1.1450591594663359e-11,
          6.7032746098293955e-12
         ]
        },
        {
         "boxpoints": "all",
         "hovertemplate": "Epoch: %{text}<br>STD: %{y: .2e}",
         "line": {
          "width": 1
         },
         "marker": {
          "size": 3
         },
         "name": "MEG1912",
         "opacity": 0.7,
         "pointpos": 0,
         "text": [
          0,
          1,
          2,
          3,
          4,
          5,
          6,
          7,
          8
         ],
         "type": "box",
         "y": [
          9.769814016038528e-12,
          7.85953663598778e-12,
          6.9634200132069485e-12,
          1.0050534457047422e-11,
          1.239738864933812e-11,
          1.023415234457209e-11,
          8.286926453664881e-12,
          1.5873214273618916e-11,
          8.994419631738005e-12
         ]
        },
        {
         "boxpoints": "all",
         "hovertemplate": "Epoch: %{text}<br>STD: %{y: .2e}",
         "line": {
          "width": 1
         },
         "marker": {
          "size": 3
         },
         "name": "MEG1913",
         "opacity": 0.7,
         "pointpos": 0,
         "text": [
          0,
          1,
          2,
          3,
          4,
          5,
          6,
          7,
          8
         ],
         "type": "box",
         "y": [
          1.02079748849262e-11,
          6.726469208179526e-12,
          9.632767024469178e-12,
          1.228326592139681e-11,
          1.085423924578038e-11,
          1.2964356475569118e-11,
          8.161745131549727e-12,
          1.5500844886744913e-11,
          8.104713009668578e-12
         ]
        },
        {
         "boxpoints": "all",
         "hovertemplate": "Epoch: %{text}<br>STD: %{y: .2e}",
         "line": {
          "width": 1
         },
         "marker": {
          "size": 3
         },
         "name": "MEG1923",
         "opacity": 0.7,
         "pointpos": 0,
         "text": [
          0,
          1,
          2,
          3,
          4,
          5,
          6,
          7,
          8
         ],
         "type": "box",
         "y": [
          9.045226667826583e-12,
          7.393513208018224e-12,
          6.784977129764205e-12,
          1.0145120100945353e-11,
          7.480998143887422e-12,
          1.1018691631471452e-11,
          9.597312231620372e-12,
          9.5686067247897e-12,
          8.221123931425732e-12
         ]
        },
        {
         "boxpoints": "all",
         "hovertemplate": "Epoch: %{text}<br>STD: %{y: .2e}",
         "line": {
          "width": 1
         },
         "marker": {
          "size": 3
         },
         "name": "MEG1922",
         "opacity": 0.7,
         "pointpos": 0,
         "text": [
          0,
          1,
          2,
          3,
          4,
          5,
          6,
          7,
          8
         ],
         "type": "box",
         "y": [
          9.85642211492124e-12,
          8.222179278166493e-12,
          1.049545197475267e-11,
          1.3792725370063225e-11,
          1.188871722201904e-11,
          1.263394532758963e-11,
          1.0245083083944775e-11,
          1.3048657635134547e-11,
          9.931042789289535e-12
         ]
        },
        {
         "boxpoints": "all",
         "hovertemplate": "Epoch: %{text}<br>STD: %{y: .2e}",
         "line": {
          "width": 1
         },
         "marker": {
          "size": 3
         },
         "name": "MEG1932",
         "opacity": 0.7,
         "pointpos": 0,
         "text": [
          0,
          1,
          2,
          3,
          4,
          5,
          6,
          7,
          8
         ],
         "type": "box",
         "y": [
          6.917601182896432e-12,
          6.108147899018419e-12,
          6.19913595318456e-12,
          8.396011364897519e-12,
          8.007749957268422e-12,
          6.345467561520001e-12,
          6.925638591452934e-12,
          7.864061814735505e-12,
          7.223416937641302e-12
         ]
        },
        {
         "boxpoints": "all",
         "hovertemplate": "Epoch: %{text}<br>STD: %{y: .2e}",
         "line": {
          "width": 1
         },
         "marker": {
          "size": 3
         },
         "name": "MEG1933",
         "opacity": 0.7,
         "pointpos": 0,
         "text": [
          0,
          1,
          2,
          3,
          4,
          5,
          6,
          7,
          8
         ],
         "type": "box",
         "y": [
          1.0567001507716462e-11,
          9.654195864086584e-12,
          1.0240793867841642e-11,
          1.1871589672561552e-11,
          1.1167414685945595e-11,
          1.0697984676429668e-11,
          9.723311839618422e-12,
          1.0680391821314097e-11,
          1.1336718349485289e-11
         ]
        },
        {
         "boxpoints": "all",
         "hovertemplate": "Epoch: %{text}<br>STD: %{y: .2e}",
         "line": {
          "width": 1
         },
         "marker": {
          "size": 3
         },
         "name": "MEG1943",
         "opacity": 0.7,
         "pointpos": 0,
         "text": [
          0,
          1,
          2,
          3,
          4,
          5,
          6,
          7,
          8
         ],
         "type": "box",
         "y": [
          9.030928982296971e-12,
          7.24925669355045e-12,
          7.403564819437017e-12,
          9.80625911447387e-12,
          8.417496437792744e-12,
          1.230527771561895e-11,
          9.786410364087191e-12,
          9.371140856077264e-12,
          9.98205463821192e-12
         ]
        },
        {
         "boxpoints": "all",
         "hovertemplate": "Epoch: %{text}<br>STD: %{y: .2e}",
         "line": {
          "width": 1
         },
         "marker": {
          "size": 3
         },
         "name": "MEG1942",
         "opacity": 0.7,
         "pointpos": 0,
         "text": [
          0,
          1,
          2,
          3,
          4,
          5,
          6,
          7,
          8
         ],
         "type": "box",
         "y": [
          8.215912521810094e-12,
          6.537356906348356e-12,
          7.994321057944144e-12,
          1.1061512235748508e-11,
          8.777741010675385e-12,
          8.626530607797519e-12,
          7.502262305715798e-12,
          1.1547964394457763e-11,
          7.255490304931336e-12
         ]
        },
        {
         "boxpoints": "all",
         "hovertemplate": "Epoch: %{text}<br>STD: %{y: .2e}",
         "line": {
          "width": 1
         },
         "marker": {
          "size": 3
         },
         "name": "MEG2013",
         "opacity": 0.7,
         "pointpos": 0,
         "text": [
          0,
          1,
          2,
          3,
          4,
          5,
          6,
          7,
          8
         ],
         "type": "box",
         "y": [
          1.2609208452896096e-11,
          8.157998371775861e-12,
          9.106744465915294e-12,
          9.886723652882198e-12,
          1.306778276871618e-11,
          9.397673574551101e-12,
          9.055684907438862e-12,
          1.5846148438961763e-11,
          8.157240118611283e-12
         ]
        },
        {
         "boxpoints": "all",
         "hovertemplate": "Epoch: %{text}<br>STD: %{y: .2e}",
         "line": {
          "width": 1
         },
         "marker": {
          "size": 3
         },
         "name": "MEG2012",
         "opacity": 0.7,
         "pointpos": 0,
         "text": [
          0,
          1,
          2,
          3,
          4,
          5,
          6,
          7,
          8
         ],
         "type": "box",
         "y": [
          1.2739504894677508e-11,
          6.755232284281738e-12,
          1.0540558655752889e-11,
          1.0069912714656846e-11,
          1.1804289718540153e-11,
          1.7278220203961944e-11,
          1.3421908150653255e-11,
          1.520050708193578e-11,
          1.2564013389126874e-11
         ]
        },
        {
         "boxpoints": "all",
         "hovertemplate": "Epoch: %{text}<br>STD: %{y: .2e}",
         "line": {
          "width": 1
         },
         "marker": {
          "size": 3
         },
         "name": "MEG2023",
         "opacity": 0.7,
         "pointpos": 0,
         "text": [
          0,
          1,
          2,
          3,
          4,
          5,
          6,
          7,
          8
         ],
         "type": "box",
         "y": [
          1.2341848922498475e-11,
          7.383706068083821e-12,
          9.406016969925242e-12,
          1.0786350147990795e-11,
          1.4508725876520181e-11,
          1.0384871953947254e-11,
          8.125046539716554e-12,
          1.3110694146748008e-11,
          7.631169888061715e-12
         ]
        },
        {
         "boxpoints": "all",
         "hovertemplate": "Epoch: %{text}<br>STD: %{y: .2e}",
         "line": {
          "width": 1
         },
         "marker": {
          "size": 3
         },
         "name": "MEG2022",
         "opacity": 0.7,
         "pointpos": 0,
         "text": [
          0,
          1,
          2,
          3,
          4,
          5,
          6,
          7,
          8
         ],
         "type": "box",
         "y": [
          9.712178773763432e-12,
          7.810939515097921e-12,
          7.859706720814613e-12,
          9.200118190024029e-12,
          8.281899503808015e-12,
          1.1251107375509955e-11,
          1.0515896101720286e-11,
          1.011452056221931e-11,
          1.206946886554528e-11
         ]
        },
        {
         "boxpoints": "all",
         "hovertemplate": "Epoch: %{text}<br>STD: %{y: .2e}",
         "line": {
          "width": 1
         },
         "marker": {
          "size": 3
         },
         "name": "MEG2032",
         "opacity": 0.7,
         "pointpos": 0,
         "text": [
          0,
          1,
          2,
          3,
          4,
          5,
          6,
          7,
          8
         ],
         "type": "box",
         "y": [
          8.515757871150385e-12,
          7.720067009802945e-12,
          6.6613327756373506e-12,
          8.72728212269744e-12,
          1.2762280235911351e-11,
          1.1302352118026752e-11,
          1.0042879153153073e-11,
          1.1539791360127358e-11,
          8.082686757425899e-12
         ]
        },
        {
         "boxpoints": "all",
         "hovertemplate": "Epoch: %{text}<br>STD: %{y: .2e}",
         "line": {
          "width": 1
         },
         "marker": {
          "size": 3
         },
         "name": "MEG2033",
         "opacity": 0.7,
         "pointpos": 0,
         "text": [
          0,
          1,
          2,
          3,
          4,
          5,
          6,
          7,
          8
         ],
         "type": "box",
         "y": [
          9.038730878276999e-12,
          7.203282545598649e-12,
          8.463647578913033e-12,
          1.0061408594053191e-11,
          9.918291292614084e-12,
          1.033216283237553e-11,
          1.1599185298982631e-11,
          9.940949862541306e-12,
          1.3724383186390964e-11
         ]
        },
        {
         "boxpoints": "all",
         "hovertemplate": "Epoch: %{text}<br>STD: %{y: .2e}",
         "line": {
          "width": 1
         },
         "marker": {
          "size": 3
         },
         "name": "MEG2042",
         "opacity": 0.7,
         "pointpos": 0,
         "text": [
          0,
          1,
          2,
          3,
          4,
          5,
          6,
          7,
          8
         ],
         "type": "box",
         "y": [
          9.354406628179442e-12,
          8.616083222030418e-12,
          6.420212480679163e-12,
          9.739315357126755e-12,
          1.327054910213726e-11,
          1.1708151119435516e-11,
          9.38738657779667e-12,
          1.5301006502035915e-11,
          8.425123411470503e-12
         ]
        },
        {
         "boxpoints": "all",
         "hovertemplate": "Epoch: %{text}<br>STD: %{y: .2e}",
         "line": {
          "width": 1
         },
         "marker": {
          "size": 3
         },
         "name": "MEG2043",
         "opacity": 0.7,
         "pointpos": 0,
         "text": [
          0,
          1,
          2,
          3,
          4,
          5,
          6,
          7,
          8
         ],
         "type": "box",
         "y": [
          1.163896237157351e-11,
          7.142123506363998e-12,
          1.0690512707035578e-11,
          1.2393488281562622e-11,
          1.3229599666441186e-11,
          1.7236177675745146e-11,
          1.386682538926265e-11,
          1.4672969922170355e-11,
          1.3028520384562441e-11
         ]
        },
        {
         "boxpoints": "all",
         "hovertemplate": "Epoch: %{text}<br>STD: %{y: .2e}",
         "line": {
          "width": 1
         },
         "marker": {
          "size": 3
         },
         "name": "MEG2113",
         "opacity": 0.7,
         "pointpos": 0,
         "text": [
          0,
          1,
          2,
          3,
          4,
          5,
          6,
          7,
          8
         ],
         "type": "box",
         "y": [
          9.7242744980055e-12,
          6.839510774419907e-12,
          6.607987719875216e-12,
          9.931426368047053e-12,
          9.345621385871296e-12,
          1.1491536553214405e-11,
          9.206766435365054e-12,
          1.0327826863843805e-11,
          7.772926324648776e-12
         ]
        },
        {
         "boxpoints": "all",
         "hovertemplate": "Epoch: %{text}<br>STD: %{y: .2e}",
         "line": {
          "width": 1
         },
         "marker": {
          "size": 3
         },
         "name": "MEG2112",
         "opacity": 0.7,
         "pointpos": 0,
         "text": [
          0,
          1,
          2,
          3,
          4,
          5,
          6,
          7,
          8
         ],
         "type": "box",
         "y": [
          7.896778272789976e-12,
          6.260194542145628e-12,
          8.198427548989418e-12,
          9.083971948944264e-12,
          1.06624894256732e-11,
          8.648942634962759e-12,
          1.0238188312615798e-11,
          9.058958103008937e-12,
          1.1280447306426329e-11
         ]
        },
        {
         "boxpoints": "all",
         "hovertemplate": "Epoch: %{text}<br>STD: %{y: .2e}",
         "line": {
          "width": 1
         },
         "marker": {
          "size": 3
         },
         "name": "MEG2122",
         "opacity": 0.7,
         "pointpos": 0,
         "text": [
          0,
          1,
          2,
          3,
          4,
          5,
          6,
          7,
          8
         ],
         "type": "box",
         "y": [
          7.295813765830586e-12,
          6.10393153856454e-12,
          6.0357824078948995e-12,
          8.495896549038421e-12,
          8.104246416261731e-12,
          6.6708332273804885e-12,
          7.361285907020497e-12,
          7.87854257408643e-12,
          6.04992407589714e-12
         ]
        },
        {
         "boxpoints": "all",
         "hovertemplate": "Epoch: %{text}<br>STD: %{y: .2e}",
         "line": {
          "width": 1
         },
         "marker": {
          "size": 3
         },
         "name": "MEG2123",
         "opacity": 0.7,
         "pointpos": 0,
         "text": [
          0,
          1,
          2,
          3,
          4,
          5,
          6,
          7,
          8
         ],
         "type": "box",
         "y": [
          6.698330136922355e-12,
          5.739079008220145e-12,
          6.762780789707088e-12,
          7.523324206693946e-12,
          7.392421362266628e-12,
          6.631911412564773e-12,
          7.1781545857134356e-12,
          7.2416898560028226e-12,
          7.899309813943875e-12
         ]
        },
        {
         "boxpoints": "all",
         "hovertemplate": "Epoch: %{text}<br>STD: %{y: .2e}",
         "line": {
          "width": 1
         },
         "marker": {
          "size": 3
         },
         "name": "MEG2133",
         "opacity": 0.7,
         "pointpos": 0,
         "text": [
          0,
          1,
          2,
          3,
          4,
          5,
          6,
          7,
          8
         ],
         "type": "box",
         "y": [
          6.5521892266372196e-12,
          5.518489756751563e-12,
          5.86083222955468e-12,
          6.57527463438116e-12,
          6.353846754750509e-12,
          6.540114370618149e-12,
          5.122243018798077e-12,
          6.209605522623545e-12,
          6.5842107999890996e-12
         ]
        },
        {
         "boxpoints": "all",
         "hovertemplate": "Epoch: %{text}<br>STD: %{y: .2e}",
         "line": {
          "width": 1
         },
         "marker": {
          "size": 3
         },
         "name": "MEG2132",
         "opacity": 0.7,
         "pointpos": 0,
         "text": [
          0,
          1,
          2,
          3,
          4,
          5,
          6,
          7,
          8
         ],
         "type": "box",
         "y": [
          6.225712694257875e-12,
          5.759462263517336e-12,
          6.892868035303638e-12,
          6.679578198277894e-12,
          6.098258232335408e-12,
          6.002661965248502e-12,
          6.355176784704437e-12,
          6.3783609627490355e-12,
          6.6592822196476305e-12
         ]
        },
        {
         "boxpoints": "all",
         "hovertemplate": "Epoch: %{text}<br>STD: %{y: .2e}",
         "line": {
          "width": 1
         },
         "marker": {
          "size": 3
         },
         "name": "MEG2143",
         "opacity": 0.7,
         "pointpos": 0,
         "text": [
          0,
          1,
          2,
          3,
          4,
          5,
          6,
          7,
          8
         ],
         "type": "box",
         "y": [
          6.285816913122265e-12,
          5.3130653598161025e-12,
          5.6709126910306295e-12,
          6.441237629362679e-12,
          6.49214650696203e-12,
          5.978017068457125e-12,
          5.151248091502655e-12,
          6.446985658513284e-12,
          5.911647732299246e-12
         ]
        },
        {
         "boxpoints": "all",
         "hovertemplate": "Epoch: %{text}<br>STD: %{y: .2e}",
         "line": {
          "width": 1
         },
         "marker": {
          "size": 3
         },
         "name": "MEG2142",
         "opacity": 0.7,
         "pointpos": 0,
         "text": [
          0,
          1,
          2,
          3,
          4,
          5,
          6,
          7,
          8
         ],
         "type": "box",
         "y": [
          8.347731555557035e-12,
          7.447871153134869e-12,
          8.453579699773193e-12,
          8.746881049365659e-12,
          8.504890303339063e-12,
          8.152835966051376e-12,
          8.347719508896582e-12,
          8.113545344881884e-12,
          8.643821850696268e-12
         ]
        },
        {
         "boxpoints": "all",
         "hovertemplate": "Epoch: %{text}<br>STD: %{y: .2e}",
         "line": {
          "width": 1
         },
         "marker": {
          "size": 3
         },
         "name": "MEG2212",
         "opacity": 0.7,
         "pointpos": 0,
         "text": [
          0,
          1,
          2,
          3,
          4,
          5,
          6,
          7,
          8
         ],
         "type": "box",
         "y": [
          1.005520043525043e-11,
          9.799911400530463e-12,
          1.0517902706798193e-11,
          8.970608387282576e-12,
          1.1434894821352987e-11,
          1.2373458353362799e-11,
          7.962241471066557e-12,
          1.1890287397481073e-11,
          1.1999500221231343e-11
         ]
        },
        {
         "boxpoints": "all",
         "hovertemplate": "Epoch: %{text}<br>STD: %{y: .2e}",
         "line": {
          "width": 1
         },
         "marker": {
          "size": 3
         },
         "name": "MEG2213",
         "opacity": 0.7,
         "pointpos": 0,
         "text": [
          0,
          1,
          2,
          3,
          4,
          5,
          6,
          7,
          8
         ],
         "type": "box",
         "y": [
          1.3603274380489196e-11,
          8.183763636070901e-12,
          9.398578450759578e-12,
          1.1401905903002377e-11,
          1.0918901717678627e-11,
          1.1227933264877395e-11,
          8.643187141399541e-12,
          1.0103221133165116e-11,
          1.291099479555777e-11
         ]
        },
        {
         "boxpoints": "all",
         "hovertemplate": "Epoch: %{text}<br>STD: %{y: .2e}",
         "line": {
          "width": 1
         },
         "marker": {
          "size": 3
         },
         "name": "MEG2223",
         "opacity": 0.7,
         "pointpos": 0,
         "text": [
          0,
          1,
          2,
          3,
          4,
          5,
          6,
          7,
          8
         ],
         "type": "box",
         "y": [
          1.3951619055164082e-11,
          9.961921128556549e-12,
          9.881734100986885e-12,
          9.053563915766897e-12,
          1.2246569039657265e-11,
          1.1836371375002223e-11,
          8.926090385723175e-12,
          1.1854422189199556e-11,
          1.100983855268691e-11
         ]
        },
        {
         "boxpoints": "all",
         "hovertemplate": "Epoch: %{text}<br>STD: %{y: .2e}",
         "line": {
          "width": 1
         },
         "marker": {
          "size": 3
         },
         "name": "MEG2222",
         "opacity": 0.7,
         "pointpos": 0,
         "text": [
          0,
          1,
          2,
          3,
          4,
          5,
          6,
          7,
          8
         ],
         "type": "box",
         "y": [
          1.553134969353075e-11,
          1.0085050350052571e-11,
          8.748284665988853e-12,
          1.0650633476418564e-11,
          9.560767305589008e-12,
          1.1312915218807385e-11,
          8.574158578324489e-12,
          9.77832020472187e-12,
          1.2274453505223165e-11
         ]
        },
        {
         "boxpoints": "all",
         "hovertemplate": "Epoch: %{text}<br>STD: %{y: .2e}",
         "line": {
          "width": 1
         },
         "marker": {
          "size": 3
         },
         "name": "MEG2233",
         "opacity": 0.7,
         "pointpos": 0,
         "text": [
          0,
          1,
          2,
          3,
          4,
          5,
          6,
          7,
          8
         ],
         "type": "box",
         "y": [
          1.1943671844450012e-11,
          7.879163568219288e-12,
          9.132796261176227e-12,
          8.857551237172757e-12,
          1.2947595260020152e-11,
          1.0453825980490758e-11,
          7.67290367346654e-12,
          1.1120729705183751e-11,
          1.0483483292458703e-11
         ]
        },
        {
         "boxpoints": "all",
         "hovertemplate": "Epoch: %{text}<br>STD: %{y: .2e}",
         "line": {
          "width": 1
         },
         "marker": {
          "size": 3
         },
         "name": "MEG2232",
         "opacity": 0.7,
         "pointpos": 0,
         "text": [
          0,
          1,
          2,
          3,
          4,
          5,
          6,
          7,
          8
         ],
         "type": "box",
         "y": [
          1.1807332223562772e-11,
          6.905116132330832e-12,
          7.379352803728886e-12,
          7.1819793825315345e-12,
          8.563753206709243e-12,
          1.0522998798390407e-11,
          7.812895125608849e-12,
          1.0304056966535481e-11,
          9.500483472558305e-12
         ]
        },
        {
         "boxpoints": "all",
         "hovertemplate": "Epoch: %{text}<br>STD: %{y: .2e}",
         "line": {
          "width": 1
         },
         "marker": {
          "size": 3
         },
         "name": "MEG2242",
         "opacity": 0.7,
         "pointpos": 0,
         "text": [
          0,
          1,
          2,
          3,
          4,
          5,
          6,
          7,
          8
         ],
         "type": "box",
         "y": [
          1.2950292238381147e-11,
          8.174931787734165e-12,
          1.0772840292135472e-11,
          1.169160274747116e-11,
          1.46057108956568e-11,
          1.1033785212241186e-11,
          8.006272306645643e-12,
          1.360449934972762e-11,
          9.256127256472133e-12
         ]
        },
        {
         "boxpoints": "all",
         "hovertemplate": "Epoch: %{text}<br>STD: %{y: .2e}",
         "line": {
          "width": 1
         },
         "marker": {
          "size": 3
         },
         "name": "MEG2243",
         "opacity": 0.7,
         "pointpos": 0,
         "text": [
          0,
          1,
          2,
          3,
          4,
          5,
          6,
          7,
          8
         ],
         "type": "box",
         "y": [
          1.06683469325434e-11,
          9.577186227220805e-12,
          8.097011712465966e-12,
          8.454819721005028e-12,
          9.741423725722145e-12,
          1.0602793189141575e-11,
          9.253888025027389e-12,
          1.1799926685752793e-11,
          1.1094558000245661e-11
         ]
        },
        {
         "boxpoints": "all",
         "hovertemplate": "Epoch: %{text}<br>STD: %{y: .2e}",
         "line": {
          "width": 1
         },
         "marker": {
          "size": 3
         },
         "name": "MEG2312",
         "opacity": 0.7,
         "pointpos": 0,
         "text": [
          0,
          1,
          2,
          3,
          4,
          5,
          6,
          7,
          8
         ],
         "type": "box",
         "y": [
          8.238348553912944e-12,
          6.619186768972093e-12,
          6.558472168950297e-12,
          7.706829876043961e-12,
          1.0346150307997795e-11,
          9.678698577023662e-12,
          8.89811082608381e-12,
          8.215634921494313e-12,
          9.342648855608303e-12
         ]
        },
        {
         "boxpoints": "all",
         "hovertemplate": "Epoch: %{text}<br>STD: %{y: .2e}",
         "line": {
          "width": 1
         },
         "marker": {
          "size": 3
         },
         "name": "MEG2313",
         "opacity": 0.7,
         "pointpos": 0,
         "text": [
          0,
          1,
          2,
          3,
          4,
          5,
          6,
          7,
          8
         ],
         "type": "box",
         "y": [
          1.0537481204978422e-11,
          5.855566586379228e-12,
          6.3445453546400295e-12,
          9.140072022259181e-12,
          8.532531981555948e-12,
          1.001896270908713e-11,
          7.744012402577072e-12,
          9.854431896350637e-12,
          8.937466841642666e-12
         ]
        },
        {
         "boxpoints": "all",
         "hovertemplate": "Epoch: %{text}<br>STD: %{y: .2e}",
         "line": {
          "width": 1
         },
         "marker": {
          "size": 3
         },
         "name": "MEG2323",
         "opacity": 0.7,
         "pointpos": 0,
         "text": [
          0,
          1,
          2,
          3,
          4,
          5,
          6,
          7,
          8
         ],
         "type": "box",
         "y": [
          8.255713355499067e-12,
          6.057944425721292e-12,
          6.659957253347026e-12,
          9.807946406078692e-12,
          9.73933006234208e-12,
          8.35818126785126e-12,
          7.425028642233175e-12,
          8.372271270901903e-12,
          9.279245932485355e-12
         ]
        },
        {
         "boxpoints": "all",
         "hovertemplate": "Epoch: %{text}<br>STD: %{y: .2e}",
         "line": {
          "width": 1
         },
         "marker": {
          "size": 3
         },
         "name": "MEG2322",
         "opacity": 0.7,
         "pointpos": 0,
         "text": [
          0,
          1,
          2,
          3,
          4,
          5,
          6,
          7,
          8
         ],
         "type": "box",
         "y": [
          9.119878788658014e-12,
          5.719845176780014e-12,
          6.379320588508899e-12,
          7.909994787701993e-12,
          7.751602108947398e-12,
          6.386396821695851e-12,
          6.419151294555119e-12,
          6.376424737890876e-12,
          7.2309282834005385e-12
         ]
        },
        {
         "boxpoints": "all",
         "hovertemplate": "Epoch: %{text}<br>STD: %{y: .2e}",
         "line": {
          "width": 1
         },
         "marker": {
          "size": 3
         },
         "name": "MEG2332",
         "opacity": 0.7,
         "pointpos": 0,
         "text": [
          0,
          1,
          2,
          3,
          4,
          5,
          6,
          7,
          8
         ],
         "type": "box",
         "y": [
          8.195334107304025e-12,
          6.4971020060652495e-12,
          6.907519810508245e-12,
          8.245498011159324e-12,
          8.420415575126308e-12,
          7.509964711531503e-12,
          8.294905764503448e-12,
          7.845343574051668e-12,
          8.255929833827084e-12
         ]
        },
        {
         "boxpoints": "all",
         "hovertemplate": "Epoch: %{text}<br>STD: %{y: .2e}",
         "line": {
          "width": 1
         },
         "marker": {
          "size": 3
         },
         "name": "MEG2333",
         "opacity": 0.7,
         "pointpos": 0,
         "text": [
          0,
          1,
          2,
          3,
          4,
          5,
          6,
          7,
          8
         ],
         "type": "box",
         "y": [
          6.713464034178882e-12,
          5.867117657894245e-12,
          7.149691540496474e-12,
          8.099908316686301e-12,
          6.8293961053215365e-12,
          6.542611742018764e-12,
          6.947468928563825e-12,
          6.5881911511990034e-12,
          7.888285602044521e-12
         ]
        },
        {
         "boxpoints": "all",
         "hovertemplate": "Epoch: %{text}<br>STD: %{y: .2e}",
         "line": {
          "width": 1
         },
         "marker": {
          "size": 3
         },
         "name": "MEG2343",
         "opacity": 0.7,
         "pointpos": 0,
         "text": [
          0,
          1,
          2,
          3,
          4,
          5,
          6,
          7,
          8
         ],
         "type": "box",
         "y": [
          9.218640805532705e-12,
          6.159322540907614e-12,
          5.9886709078209485e-12,
          9.697317288286793e-12,
          1.0488140485301217e-11,
          1.0744770823461732e-11,
          8.792012550004224e-12,
          9.366536238977713e-12,
          8.91633714083134e-12
         ]
        },
        {
         "boxpoints": "all",
         "hovertemplate": "Epoch: %{text}<br>STD: %{y: .2e}",
         "line": {
          "width": 1
         },
         "marker": {
          "size": 3
         },
         "name": "MEG2342",
         "opacity": 0.7,
         "pointpos": 0,
         "text": [
          0,
          1,
          2,
          3,
          4,
          5,
          6,
          7,
          8
         ],
         "type": "box",
         "y": [
          7.389304251505487e-12,
          6.012517684446714e-12,
          6.531153332481242e-12,
          1.0100043109652477e-11,
          8.134791956583455e-12,
          7.49399590256015e-12,
          8.336405541747841e-12,
          7.774397630042219e-12,
          1.0512825467456528e-11
         ]
        },
        {
         "boxpoints": "all",
         "hovertemplate": "Epoch: %{text}<br>STD: %{y: .2e}",
         "line": {
          "width": 1
         },
         "marker": {
          "size": 3
         },
         "name": "MEG2412",
         "opacity": 0.7,
         "pointpos": 0,
         "text": [
          0,
          1,
          2,
          3,
          4,
          5,
          6,
          7,
          8
         ],
         "type": "box",
         "y": [
          1.0191493729772108e-11,
          1.0333659822463399e-11,
          7.904501302090876e-12,
          8.108029244961279e-12,
          8.75944138331483e-12,
          9.953288857891992e-12,
          7.944904775923322e-12,
          7.795882334737181e-12,
          9.22661497912591e-12
         ]
        },
        {
         "boxpoints": "all",
         "hovertemplate": "Epoch: %{text}<br>STD: %{y: .2e}",
         "line": {
          "width": 1
         },
         "marker": {
          "size": 3
         },
         "name": "MEG2413",
         "opacity": 0.7,
         "pointpos": 0,
         "text": [
          0,
          1,
          2,
          3,
          4,
          5,
          6,
          7,
          8
         ],
         "type": "box",
         "y": [
          1.3270442474421866e-11,
          1.0459198077898603e-11,
          8.728741803268532e-12,
          1.100422516639282e-11,
          9.630923215504177e-12,
          1.0312258564061441e-11,
          9.358376211036796e-12,
          1.0132460237080125e-11,
          1.066047585401746e-11
         ]
        },
        {
         "boxpoints": "all",
         "hovertemplate": "Epoch: %{text}<br>STD: %{y: .2e}",
         "line": {
          "width": 1
         },
         "marker": {
          "size": 3
         },
         "name": "MEG2423",
         "opacity": 0.7,
         "pointpos": 0,
         "text": [
          0,
          1,
          2,
          3,
          4,
          5,
          6,
          7,
          8
         ],
         "type": "box",
         "y": [
          8.94258028268928e-12,
          7.269640469911644e-12,
          7.651535479198716e-12,
          9.38982617513447e-12,
          8.287075704871989e-12,
          7.671830563938053e-12,
          8.248897126043748e-12,
          8.831491285081428e-12,
          8.55848552596672e-12
         ]
        },
        {
         "boxpoints": "all",
         "hovertemplate": "Epoch: %{text}<br>STD: %{y: .2e}",
         "line": {
          "width": 1
         },
         "marker": {
          "size": 3
         },
         "name": "MEG2422",
         "opacity": 0.7,
         "pointpos": 0,
         "text": [
          0,
          1,
          2,
          3,
          4,
          5,
          6,
          7,
          8
         ],
         "type": "box",
         "y": [
          9.310368850470604e-12,
          9.108588058238328e-12,
          7.060327879327442e-12,
          9.438954681431157e-12,
          8.834912775099653e-12,
          8.715975656475718e-12,
          8.046196768753176e-12,
          8.535649884150447e-12,
          8.461073238411683e-12
         ]
        },
        {
         "boxpoints": "all",
         "hovertemplate": "Epoch: %{text}<br>STD: %{y: .2e}",
         "line": {
          "width": 1
         },
         "marker": {
          "size": 3
         },
         "name": "MEG2433",
         "opacity": 0.7,
         "pointpos": 0,
         "text": [
          0,
          1,
          2,
          3,
          4,
          5,
          6,
          7,
          8
         ],
         "type": "box",
         "y": [
          8.15231015330576e-12,
          6.613059183366365e-12,
          7.099359606297177e-12,
          1.0057737180909354e-11,
          8.699099962864187e-12,
          7.0435929227739345e-12,
          7.28728823480947e-12,
          8.273055353498606e-12,
          9.079471434925843e-12
         ]
        },
        {
         "boxpoints": "all",
         "hovertemplate": "Epoch: %{text}<br>STD: %{y: .2e}",
         "line": {
          "width": 1
         },
         "marker": {
          "size": 3
         },
         "name": "MEG2432",
         "opacity": 0.7,
         "pointpos": 0,
         "text": [
          0,
          1,
          2,
          3,
          4,
          5,
          6,
          7,
          8
         ],
         "type": "box",
         "y": [
          8.718003907136948e-12,
          6.198624691995348e-12,
          5.896561527140466e-12,
          6.807915292000537e-12,
          7.517719775026324e-12,
          6.287080488213264e-12,
          6.537243802083082e-12,
          6.358455581295428e-12,
          8.264387935768227e-12
         ]
        },
        {
         "boxpoints": "all",
         "hovertemplate": "Epoch: %{text}<br>STD: %{y: .2e}",
         "line": {
          "width": 1
         },
         "marker": {
          "size": 3
         },
         "name": "MEG2442",
         "opacity": 0.7,
         "pointpos": 0,
         "text": [
          0,
          1,
          2,
          3,
          4,
          5,
          6,
          7,
          8
         ],
         "type": "box",
         "y": [
          1.0096763114537071e-11,
          8.351698703962296e-12,
          7.416363731292225e-12,
          7.874672527920374e-12,
          9.024077539077544e-12,
          9.20881679191253e-12,
          8.251542610879741e-12,
          7.565252790149306e-12,
          9.001596926083432e-12
         ]
        },
        {
         "boxpoints": "all",
         "hovertemplate": "Epoch: %{text}<br>STD: %{y: .2e}",
         "line": {
          "width": 1
         },
         "marker": {
          "size": 3
         },
         "name": "MEG2443",
         "opacity": 0.7,
         "pointpos": 0,
         "text": [
          0,
          1,
          2,
          3,
          4,
          5,
          6,
          7,
          8
         ],
         "type": "box",
         "y": [
          1.2922337541070473e-11,
          6.503729179138159e-12,
          7.278707734262577e-12,
          7.887746297982545e-12,
          8.439619914570325e-12,
          8.121579579749075e-12,
          8.303833207786391e-12,
          9.08054404346994e-12,
          9.254203178301101e-12
         ]
        },
        {
         "boxpoints": "all",
         "hovertemplate": "Epoch: %{text}<br>STD: %{y: .2e}",
         "line": {
          "width": 1
         },
         "marker": {
          "size": 3
         },
         "name": "MEG2512",
         "opacity": 0.7,
         "pointpos": 0,
         "text": [
          0,
          1,
          2,
          3,
          4,
          5,
          6,
          7,
          8
         ],
         "type": "box",
         "y": [
          6.6793938922900665e-12,
          5.829920248712724e-12,
          5.918881788276895e-12,
          7.464004941345654e-12,
          6.413776482016024e-12,
          6.8641317926579844e-12,
          7.152171936364705e-12,
          6.6667965872935335e-12,
          8.728363457112326e-12
         ]
        },
        {
         "boxpoints": "all",
         "hovertemplate": "Epoch: %{text}<br>STD: %{y: .2e}",
         "line": {
          "width": 1
         },
         "marker": {
          "size": 3
         },
         "name": "MEG2513",
         "opacity": 0.7,
         "pointpos": 0,
         "text": [
          0,
          1,
          2,
          3,
          4,
          5,
          6,
          7,
          8
         ],
         "type": "box",
         "y": [
          6.500595900430377e-12,
          4.911297913966456e-12,
          5.702433792375784e-12,
          6.346422469344738e-12,
          6.0042027487442604e-12,
          5.219501015013755e-12,
          5.349120679979167e-12,
          5.153971779287645e-12,
          6.125115610191473e-12
         ]
        },
        {
         "boxpoints": "all",
         "hovertemplate": "Epoch: %{text}<br>STD: %{y: .2e}",
         "line": {
          "width": 1
         },
         "marker": {
          "size": 3
         },
         "name": "MEG2522",
         "opacity": 0.7,
         "pointpos": 0,
         "text": [
          0,
          1,
          2,
          3,
          4,
          5,
          6,
          7,
          8
         ],
         "type": "box",
         "y": [
          5.952966229738321e-12,
          5.330346508711408e-12,
          5.685796196076303e-12,
          7.065911711235533e-12,
          5.0936409356194814e-12,
          6.39921548995898e-12,
          5.634735611121974e-12,
          7.290449010897341e-12,
          8.120617815929476e-12
         ]
        },
        {
         "boxpoints": "all",
         "hovertemplate": "Epoch: %{text}<br>STD: %{y: .2e}",
         "line": {
          "width": 1
         },
         "marker": {
          "size": 3
         },
         "name": "MEG2523",
         "opacity": 0.7,
         "pointpos": 0,
         "text": [
          0,
          1,
          2,
          3,
          4,
          5,
          6,
          7,
          8
         ],
         "type": "box",
         "y": [
          6.722930064128127e-12,
          4.65145517962138e-12,
          5.003196621992381e-12,
          5.907773447002243e-12,
          6.197002087941057e-12,
          5.643388922218735e-12,
          5.397004937112659e-12,
          5.97810074427419e-12,
          7.046558748839061e-12
         ]
        },
        {
         "boxpoints": "all",
         "hovertemplate": "Epoch: %{text}<br>STD: %{y: .2e}",
         "line": {
          "width": 1
         },
         "marker": {
          "size": 3
         },
         "name": "MEG2533",
         "opacity": 0.7,
         "pointpos": 0,
         "text": [
          0,
          1,
          2,
          3,
          4,
          5,
          6,
          7,
          8
         ],
         "type": "box",
         "y": [
          5.248196787601238e-12,
          3.995690141582854e-12,
          4.6315627976488224e-12,
          4.662891476314919e-12,
          4.352940601380444e-12,
          4.7224216678158634e-12,
          3.917893215848598e-12,
          4.700155783895632e-12,
          5.265302790507977e-12
         ]
        },
        {
         "boxpoints": "all",
         "hovertemplate": "Epoch: %{text}<br>STD: %{y: .2e}",
         "line": {
          "width": 1
         },
         "marker": {
          "size": 3
         },
         "name": "MEG2532",
         "opacity": 0.7,
         "pointpos": 0,
         "text": [
          0,
          1,
          2,
          3,
          4,
          5,
          6,
          7,
          8
         ],
         "type": "box",
         "y": [
          5.0819497806718325e-12,
          4.666657456910971e-12,
          4.102651352230356e-12,
          4.814992044670718e-12,
          4.438545765230004e-12,
          4.260358333110681e-12,
          4.270497209825902e-12,
          4.640735750086879e-12,
          4.72714199505586e-12
         ]
        },
        {
         "boxpoints": "all",
         "hovertemplate": "Epoch: %{text}<br>STD: %{y: .2e}",
         "line": {
          "width": 1
         },
         "marker": {
          "size": 3
         },
         "name": "MEG2543",
         "opacity": 0.7,
         "pointpos": 0,
         "text": [
          0,
          1,
          2,
          3,
          4,
          5,
          6,
          7,
          8
         ],
         "type": "box",
         "y": [
          5.740547792293073e-12,
          4.530006579631616e-12,
          4.990890102651566e-12,
          5.359188394966718e-12,
          4.8663691022155535e-12,
          5.5775553966664444e-12,
          4.2384149586671265e-12,
          5.031163094359804e-12,
          5.8260758650281735e-12
         ]
        },
        {
         "boxpoints": "all",
         "hovertemplate": "Epoch: %{text}<br>STD: %{y: .2e}",
         "line": {
          "width": 1
         },
         "marker": {
          "size": 3
         },
         "name": "MEG2542",
         "opacity": 0.7,
         "pointpos": 0,
         "text": [
          0,
          1,
          2,
          3,
          4,
          5,
          6,
          7,
          8
         ],
         "type": "box",
         "y": [
          5.279572369805066e-12,
          5.1176968916959146e-12,
          5.35865929371776e-12,
          5.67808097951004e-12,
          4.910477756336103e-12,
          4.81185305389294e-12,
          4.810835803100679e-12,
          5.04291386940541e-12,
          5.602301422651938e-12
         ]
        },
        {
         "boxpoints": "all",
         "hovertemplate": "Epoch: %{text}<br>STD: %{y: .2e}",
         "line": {
          "width": 1
         },
         "marker": {
          "size": 3
         },
         "name": "MEG2612",
         "opacity": 0.7,
         "pointpos": 0,
         "text": [
          0,
          1,
          2,
          3,
          4,
          5,
          6,
          7,
          8
         ],
         "type": "box",
         "y": [
          7.512056293173491e-12,
          6.309563836358551e-12,
          6.35579467800273e-12,
          6.786625916612707e-12,
          6.997674013623009e-12,
          6.663368234509001e-12,
          7.971430773368705e-12,
          6.47839096526469e-12,
          7.0779908499928695e-12
         ]
        },
        {
         "boxpoints": "all",
         "hovertemplate": "Epoch: %{text}<br>STD: %{y: .2e}",
         "line": {
          "width": 1
         },
         "marker": {
          "size": 3
         },
         "name": "MEG2613",
         "opacity": 0.7,
         "pointpos": 0,
         "text": [
          0,
          1,
          2,
          3,
          4,
          5,
          6,
          7,
          8
         ],
         "type": "box",
         "y": [
          7.273036407777813e-12,
          6.9787196091668314e-12,
          6.136715817502147e-12,
          8.12176997904696e-12,
          9.059742660786754e-12,
          7.823094477974736e-12,
          6.852153514921207e-12,
          8.047901400876528e-12,
          7.1176696877304786e-12
         ]
        },
        {
         "boxpoints": "all",
         "hovertemplate": "Epoch: %{text}<br>STD: %{y: .2e}",
         "line": {
          "width": 1
         },
         "marker": {
          "size": 3
         },
         "name": "MEG2623",
         "opacity": 0.7,
         "pointpos": 0,
         "text": [
          0,
          1,
          2,
          3,
          4,
          5,
          6,
          7,
          8
         ],
         "type": "box",
         "y": [
          4.963404734159703e-12,
          4.48845296572954e-12,
          4.963131041948382e-12,
          4.54761283350481e-12,
          4.770521193204047e-12,
          4.172829584767878e-12,
          4.842724601443738e-12,
          5.017434532312576e-12,
          5.318486127399527e-12
         ]
        },
        {
         "boxpoints": "all",
         "hovertemplate": "Epoch: %{text}<br>STD: %{y: .2e}",
         "line": {
          "width": 1
         },
         "marker": {
          "size": 3
         },
         "name": "MEG2622",
         "opacity": 0.7,
         "pointpos": 0,
         "text": [
          0,
          1,
          2,
          3,
          4,
          5,
          6,
          7,
          8
         ],
         "type": "box",
         "y": [
          4.96022319116725e-12,
          4.4604376760836355e-12,
          4.623972235771665e-12,
          5.543822679449759e-12,
          5.822980929656101e-12,
          5.155062353230319e-12,
          4.815878292910046e-12,
          5.637860399407656e-12,
          5.072027081037039e-12
         ]
        },
        {
         "boxpoints": "all",
         "hovertemplate": "Epoch: %{text}<br>STD: %{y: .2e}",
         "line": {
          "width": 1
         },
         "marker": {
          "size": 3
         },
         "name": "MEG2633",
         "opacity": 0.7,
         "pointpos": 0,
         "text": [
          0,
          1,
          2,
          3,
          4,
          5,
          6,
          7,
          8
         ],
         "type": "box",
         "y": [
          4.909317328544789e-12,
          3.900224872567607e-12,
          4.6201282066143815e-12,
          4.640324218852831e-12,
          4.948754665014932e-12,
          4.214201445271975e-12,
          4.082024035743909e-12,
          5.142192553485487e-12,
          5.008627160549003e-12
         ]
        },
        {
         "boxpoints": "all",
         "hovertemplate": "Epoch: %{text}<br>STD: %{y: .2e}",
         "line": {
          "width": 1
         },
         "marker": {
          "size": 3
         },
         "name": "MEG2632",
         "opacity": 0.7,
         "pointpos": 0,
         "text": [
          0,
          1,
          2,
          3,
          4,
          5,
          6,
          7,
          8
         ],
         "type": "box",
         "y": [
          5.140763961417524e-12,
          4.54134279378219e-12,
          4.977834728756032e-12,
          5.0937631330237655e-12,
          4.995638852120992e-12,
          5.0984948611161765e-12,
          4.597954654446077e-12,
          4.7292444966221445e-12,
          4.888757465887294e-12
         ]
        },
        {
         "boxpoints": "all",
         "hovertemplate": "Epoch: %{text}<br>STD: %{y: .2e}",
         "line": {
          "width": 1
         },
         "marker": {
          "size": 3
         },
         "name": "MEG2642",
         "opacity": 0.7,
         "pointpos": 0,
         "text": [
          0,
          1,
          2,
          3,
          4,
          5,
          6,
          7,
          8
         ],
         "type": "box",
         "y": [
          6.717002648158587e-12,
          5.269499750365791e-12,
          5.807581875261334e-12,
          6.7599347189863894e-12,
          5.357137974287809e-12,
          6.4755747610042845e-12,
          5.7444835096055656e-12,
          6.582068874876414e-12,
          7.681151519233268e-12
         ]
        },
        {
         "boxpoints": "all",
         "hovertemplate": "Epoch: %{text}<br>STD: %{y: .2e}",
         "line": {
          "width": 1
         },
         "marker": {
          "size": 3
         },
         "name": "MEG2643",
         "opacity": 0.7,
         "pointpos": 0,
         "text": [
          0,
          1,
          2,
          3,
          4,
          5,
          6,
          7,
          8
         ],
         "type": "box",
         "y": [
          6.539621408002566e-12,
          6.41185146949909e-12,
          5.625232778867892e-12,
          7.644633143112123e-12,
          7.080454143317419e-12,
          6.684147044571683e-12,
          5.741177790604341e-12,
          6.910569491791227e-12,
          6.600030192965122e-12
         ]
        }
       ],
       "layout": {
        "template": {
         "data": {
          "bar": [
           {
            "error_x": {
             "color": "#2a3f5f"
            },
            "error_y": {
             "color": "#2a3f5f"
            },
            "marker": {
             "line": {
              "color": "#E5ECF6",
              "width": 0.5
             },
             "pattern": {
              "fillmode": "overlay",
              "size": 10,
              "solidity": 0.2
             }
            },
            "type": "bar"
           }
          ],
          "barpolar": [
           {
            "marker": {
             "line": {
              "color": "#E5ECF6",
              "width": 0.5
             },
             "pattern": {
              "fillmode": "overlay",
              "size": 10,
              "solidity": 0.2
             }
            },
            "type": "barpolar"
           }
          ],
          "carpet": [
           {
            "aaxis": {
             "endlinecolor": "#2a3f5f",
             "gridcolor": "white",
             "linecolor": "white",
             "minorgridcolor": "white",
             "startlinecolor": "#2a3f5f"
            },
            "baxis": {
             "endlinecolor": "#2a3f5f",
             "gridcolor": "white",
             "linecolor": "white",
             "minorgridcolor": "white",
             "startlinecolor": "#2a3f5f"
            },
            "type": "carpet"
           }
          ],
          "choropleth": [
           {
            "colorbar": {
             "outlinewidth": 0,
             "ticks": ""
            },
            "type": "choropleth"
           }
          ],
          "contour": [
           {
            "colorbar": {
             "outlinewidth": 0,
             "ticks": ""
            },
            "colorscale": [
             [
              0,
              "#0d0887"
             ],
             [
              0.1111111111111111,
              "#46039f"
             ],
             [
              0.2222222222222222,
              "#7201a8"
             ],
             [
              0.3333333333333333,
              "#9c179e"
             ],
             [
              0.4444444444444444,
              "#bd3786"
             ],
             [
              0.5555555555555556,
              "#d8576b"
             ],
             [
              0.6666666666666666,
              "#ed7953"
             ],
             [
              0.7777777777777778,
              "#fb9f3a"
             ],
             [
              0.8888888888888888,
              "#fdca26"
             ],
             [
              1,
              "#f0f921"
             ]
            ],
            "type": "contour"
           }
          ],
          "contourcarpet": [
           {
            "colorbar": {
             "outlinewidth": 0,
             "ticks": ""
            },
            "type": "contourcarpet"
           }
          ],
          "heatmap": [
           {
            "colorbar": {
             "outlinewidth": 0,
             "ticks": ""
            },
            "colorscale": [
             [
              0,
              "#0d0887"
             ],
             [
              0.1111111111111111,
              "#46039f"
             ],
             [
              0.2222222222222222,
              "#7201a8"
             ],
             [
              0.3333333333333333,
              "#9c179e"
             ],
             [
              0.4444444444444444,
              "#bd3786"
             ],
             [
              0.5555555555555556,
              "#d8576b"
             ],
             [
              0.6666666666666666,
              "#ed7953"
             ],
             [
              0.7777777777777778,
              "#fb9f3a"
             ],
             [
              0.8888888888888888,
              "#fdca26"
             ],
             [
              1,
              "#f0f921"
             ]
            ],
            "type": "heatmap"
           }
          ],
          "heatmapgl": [
           {
            "colorbar": {
             "outlinewidth": 0,
             "ticks": ""
            },
            "colorscale": [
             [
              0,
              "#0d0887"
             ],
             [
              0.1111111111111111,
              "#46039f"
             ],
             [
              0.2222222222222222,
              "#7201a8"
             ],
             [
              0.3333333333333333,
              "#9c179e"
             ],
             [
              0.4444444444444444,
              "#bd3786"
             ],
             [
              0.5555555555555556,
              "#d8576b"
             ],
             [
              0.6666666666666666,
              "#ed7953"
             ],
             [
              0.7777777777777778,
              "#fb9f3a"
             ],
             [
              0.8888888888888888,
              "#fdca26"
             ],
             [
              1,
              "#f0f921"
             ]
            ],
            "type": "heatmapgl"
           }
          ],
          "histogram": [
           {
            "marker": {
             "pattern": {
              "fillmode": "overlay",
              "size": 10,
              "solidity": 0.2
             }
            },
            "type": "histogram"
           }
          ],
          "histogram2d": [
           {
            "colorbar": {
             "outlinewidth": 0,
             "ticks": ""
            },
            "colorscale": [
             [
              0,
              "#0d0887"
             ],
             [
              0.1111111111111111,
              "#46039f"
             ],
             [
              0.2222222222222222,
              "#7201a8"
             ],
             [
              0.3333333333333333,
              "#9c179e"
             ],
             [
              0.4444444444444444,
              "#bd3786"
             ],
             [
              0.5555555555555556,
              "#d8576b"
             ],
             [
              0.6666666666666666,
              "#ed7953"
             ],
             [
              0.7777777777777778,
              "#fb9f3a"
             ],
             [
              0.8888888888888888,
              "#fdca26"
             ],
             [
              1,
              "#f0f921"
             ]
            ],
            "type": "histogram2d"
           }
          ],
          "histogram2dcontour": [
           {
            "colorbar": {
             "outlinewidth": 0,
             "ticks": ""
            },
            "colorscale": [
             [
              0,
              "#0d0887"
             ],
             [
              0.1111111111111111,
              "#46039f"
             ],
             [
              0.2222222222222222,
              "#7201a8"
             ],
             [
              0.3333333333333333,
              "#9c179e"
             ],
             [
              0.4444444444444444,
              "#bd3786"
             ],
             [
              0.5555555555555556,
              "#d8576b"
             ],
             [
              0.6666666666666666,
              "#ed7953"
             ],
             [
              0.7777777777777778,
              "#fb9f3a"
             ],
             [
              0.8888888888888888,
              "#fdca26"
             ],
             [
              1,
              "#f0f921"
             ]
            ],
            "type": "histogram2dcontour"
           }
          ],
          "mesh3d": [
           {
            "colorbar": {
             "outlinewidth": 0,
             "ticks": ""
            },
            "type": "mesh3d"
           }
          ],
          "parcoords": [
           {
            "line": {
             "colorbar": {
              "outlinewidth": 0,
              "ticks": ""
             }
            },
            "type": "parcoords"
           }
          ],
          "pie": [
           {
            "automargin": true,
            "type": "pie"
           }
          ],
          "scatter": [
           {
            "fillpattern": {
             "fillmode": "overlay",
             "size": 10,
             "solidity": 0.2
            },
            "type": "scatter"
           }
          ],
          "scatter3d": [
           {
            "line": {
             "colorbar": {
              "outlinewidth": 0,
              "ticks": ""
             }
            },
            "marker": {
             "colorbar": {
              "outlinewidth": 0,
              "ticks": ""
             }
            },
            "type": "scatter3d"
           }
          ],
          "scattercarpet": [
           {
            "marker": {
             "colorbar": {
              "outlinewidth": 0,
              "ticks": ""
             }
            },
            "type": "scattercarpet"
           }
          ],
          "scattergeo": [
           {
            "marker": {
             "colorbar": {
              "outlinewidth": 0,
              "ticks": ""
             }
            },
            "type": "scattergeo"
           }
          ],
          "scattergl": [
           {
            "marker": {
             "colorbar": {
              "outlinewidth": 0,
              "ticks": ""
             }
            },
            "type": "scattergl"
           }
          ],
          "scattermapbox": [
           {
            "marker": {
             "colorbar": {
              "outlinewidth": 0,
              "ticks": ""
             }
            },
            "type": "scattermapbox"
           }
          ],
          "scatterpolar": [
           {
            "marker": {
             "colorbar": {
              "outlinewidth": 0,
              "ticks": ""
             }
            },
            "type": "scatterpolar"
           }
          ],
          "scatterpolargl": [
           {
            "marker": {
             "colorbar": {
              "outlinewidth": 0,
              "ticks": ""
             }
            },
            "type": "scatterpolargl"
           }
          ],
          "scatterternary": [
           {
            "marker": {
             "colorbar": {
              "outlinewidth": 0,
              "ticks": ""
             }
            },
            "type": "scatterternary"
           }
          ],
          "surface": [
           {
            "colorbar": {
             "outlinewidth": 0,
             "ticks": ""
            },
            "colorscale": [
             [
              0,
              "#0d0887"
             ],
             [
              0.1111111111111111,
              "#46039f"
             ],
             [
              0.2222222222222222,
              "#7201a8"
             ],
             [
              0.3333333333333333,
              "#9c179e"
             ],
             [
              0.4444444444444444,
              "#bd3786"
             ],
             [
              0.5555555555555556,
              "#d8576b"
             ],
             [
              0.6666666666666666,
              "#ed7953"
             ],
             [
              0.7777777777777778,
              "#fb9f3a"
             ],
             [
              0.8888888888888888,
              "#fdca26"
             ],
             [
              1,
              "#f0f921"
             ]
            ],
            "type": "surface"
           }
          ],
          "table": [
           {
            "cells": {
             "fill": {
              "color": "#EBF0F8"
             },
             "line": {
              "color": "white"
             }
            },
            "header": {
             "fill": {
              "color": "#C8D4E3"
             },
             "line": {
              "color": "white"
             }
            },
            "type": "table"
           }
          ]
         },
         "layout": {
          "annotationdefaults": {
           "arrowcolor": "#2a3f5f",
           "arrowhead": 0,
           "arrowwidth": 1
          },
          "autotypenumbers": "strict",
          "coloraxis": {
           "colorbar": {
            "outlinewidth": 0,
            "ticks": ""
           }
          },
          "colorscale": {
           "diverging": [
            [
             0,
             "#8e0152"
            ],
            [
             0.1,
             "#c51b7d"
            ],
            [
             0.2,
             "#de77ae"
            ],
            [
             0.3,
             "#f1b6da"
            ],
            [
             0.4,
             "#fde0ef"
            ],
            [
             0.5,
             "#f7f7f7"
            ],
            [
             0.6,
             "#e6f5d0"
            ],
            [
             0.7,
             "#b8e186"
            ],
            [
             0.8,
             "#7fbc41"
            ],
            [
             0.9,
             "#4d9221"
            ],
            [
             1,
             "#276419"
            ]
           ],
           "sequential": [
            [
             0,
             "#0d0887"
            ],
            [
             0.1111111111111111,
             "#46039f"
            ],
            [
             0.2222222222222222,
             "#7201a8"
            ],
            [
             0.3333333333333333,
             "#9c179e"
            ],
            [
             0.4444444444444444,
             "#bd3786"
            ],
            [
             0.5555555555555556,
             "#d8576b"
            ],
            [
             0.6666666666666666,
             "#ed7953"
            ],
            [
             0.7777777777777778,
             "#fb9f3a"
            ],
            [
             0.8888888888888888,
             "#fdca26"
            ],
            [
             1,
             "#f0f921"
            ]
           ],
           "sequentialminus": [
            [
             0,
             "#0d0887"
            ],
            [
             0.1111111111111111,
             "#46039f"
            ],
            [
             0.2222222222222222,
             "#7201a8"
            ],
            [
             0.3333333333333333,
             "#9c179e"
            ],
            [
             0.4444444444444444,
             "#bd3786"
            ],
            [
             0.5555555555555556,
             "#d8576b"
            ],
            [
             0.6666666666666666,
             "#ed7953"
            ],
            [
             0.7777777777777778,
             "#fb9f3a"
            ],
            [
             0.8888888888888888,
             "#fdca26"
            ],
            [
             1,
             "#f0f921"
            ]
           ]
          },
          "colorway": [
           "#636efa",
           "#EF553B",
           "#00cc96",
           "#ab63fa",
           "#FFA15A",
           "#19d3f3",
           "#FF6692",
           "#B6E880",
           "#FF97FF",
           "#FECB52"
          ],
          "font": {
           "color": "#2a3f5f"
          },
          "geo": {
           "bgcolor": "white",
           "lakecolor": "white",
           "landcolor": "#E5ECF6",
           "showlakes": true,
           "showland": true,
           "subunitcolor": "white"
          },
          "hoverlabel": {
           "align": "left"
          },
          "hovermode": "closest",
          "mapbox": {
           "style": "light"
          },
          "paper_bgcolor": "white",
          "plot_bgcolor": "#E5ECF6",
          "polar": {
           "angularaxis": {
            "gridcolor": "white",
            "linecolor": "white",
            "ticks": ""
           },
           "bgcolor": "#E5ECF6",
           "radialaxis": {
            "gridcolor": "white",
            "linecolor": "white",
            "ticks": ""
           }
          },
          "scene": {
           "xaxis": {
            "backgroundcolor": "#E5ECF6",
            "gridcolor": "white",
            "gridwidth": 2,
            "linecolor": "white",
            "showbackground": true,
            "ticks": "",
            "zerolinecolor": "white"
           },
           "yaxis": {
            "backgroundcolor": "#E5ECF6",
            "gridcolor": "white",
            "gridwidth": 2,
            "linecolor": "white",
            "showbackground": true,
            "ticks": "",
            "zerolinecolor": "white"
           },
           "zaxis": {
            "backgroundcolor": "#E5ECF6",
            "gridcolor": "white",
            "gridwidth": 2,
            "linecolor": "white",
            "showbackground": true,
            "ticks": "",
            "zerolinecolor": "white"
           }
          },
          "shapedefaults": {
           "line": {
            "color": "#2a3f5f"
           }
          },
          "ternary": {
           "aaxis": {
            "gridcolor": "white",
            "linecolor": "white",
            "ticks": ""
           },
           "baxis": {
            "gridcolor": "white",
            "linecolor": "white",
            "ticks": ""
           },
           "bgcolor": "#E5ECF6",
           "caxis": {
            "gridcolor": "white",
            "linecolor": "white",
            "ticks": ""
           }
          },
          "title": {
           "x": 0.05
          },
          "xaxis": {
           "automargin": true,
           "gridcolor": "white",
           "linecolor": "white",
           "ticks": "",
           "title": {
            "standoff": 15
           },
           "zerolinecolor": "white",
           "zerolinewidth": 2
          },
          "yaxis": {
           "automargin": true,
           "gridcolor": "white",
           "linecolor": "white",
           "ticks": "",
           "title": {
            "standoff": 15
           },
           "zerolinecolor": "white",
           "zerolinewidth": 2
          }
         }
        },
        "title": {
         "text": "Standard deviation over epochs for Gradiometers",
         "x": 0.5,
         "xanchor": "center",
         "y": 0.85,
         "yanchor": "top"
        },
        "xaxis": {
         "rangeslider": {
          "visible": true
         },
         "tickmode": "array",
         "ticktext": [
          "MEG0113",
          "MEG0112",
          "MEG0122",
          "MEG0123",
          "MEG0132",
          "MEG0133",
          "MEG0143",
          "MEG0142",
          "MEG0213",
          "MEG0212",
          "MEG0222",
          "MEG0223",
          "MEG0232",
          "MEG0233",
          "MEG0243",
          "MEG0242",
          "MEG0313",
          "MEG0312",
          "MEG0322",
          "MEG0323",
          "MEG0333",
          "MEG0332",
          "MEG0343",
          "MEG0342",
          "MEG0413",
          "MEG0412",
          "MEG0422",
          "MEG0423",
          "MEG0432",
          "MEG0433",
          "MEG0443",
          "MEG0442",
          "MEG0513",
          "MEG0512",
          "MEG0523",
          "MEG0522",
          "MEG0532",
          "MEG0533",
          "MEG0542",
          "MEG0543",
          "MEG0613",
          "MEG0612",
          "MEG0622",
          "MEG0623",
          "MEG0633",
          "MEG0632",
          "MEG0642",
          "MEG0643",
          "MEG0713",
          "MEG0712",
          "MEG0723",
          "MEG0722",
          "MEG0733",
          "MEG0732",
          "MEG0743",
          "MEG0742",
          "MEG0813",
          "MEG0812",
          "MEG0822",
          "MEG0823",
          "MEG0913",
          "MEG0912",
          "MEG0923",
          "MEG0922",
          "MEG0932",
          "MEG0933",
          "MEG0942",
          "MEG0943",
          "MEG1013",
          "MEG1012",
          "MEG1023",
          "MEG1022",
          "MEG1032",
          "MEG1033",
          "MEG1043",
          "MEG1042",
          "MEG1112",
          "MEG1113",
          "MEG1123",
          "MEG1122",
          "MEG1133",
          "MEG1132",
          "MEG1142",
          "MEG1143",
          "MEG1213",
          "MEG1212",
          "MEG1223",
          "MEG1222",
          "MEG1232",
          "MEG1233",
          "MEG1243",
          "MEG1242",
          "MEG1312",
          "MEG1313",
          "MEG1323",
          "MEG1322",
          "MEG1333",
          "MEG1332",
          "MEG1342",
          "MEG1343",
          "MEG1412",
          "MEG1413",
          "MEG1423",
          "MEG1422",
          "MEG1433",
          "MEG1432",
          "MEG1442",
          "MEG1443",
          "MEG1512",
          "MEG1513",
          "MEG1522",
          "MEG1523",
          "MEG1533",
          "MEG1532",
          "MEG1543",
          "MEG1542",
          "MEG1613",
          "MEG1612",
          "MEG1622",
          "MEG1623",
          "MEG1632",
          "MEG1633",
          "MEG1643",
          "MEG1642",
          "MEG1713",
          "MEG1712",
          "MEG1722",
          "MEG1723",
          "MEG1732",
          "MEG1733",
          "MEG1743",
          "MEG1742",
          "MEG1813",
          "MEG1812",
          "MEG1822",
          "MEG1823",
          "MEG1832",
          "MEG1833",
          "MEG1843",
          "MEG1842",
          "MEG1912",
          "MEG1913",
          "MEG1923",
          "MEG1922",
          "MEG1932",
          "MEG1933",
          "MEG1943",
          "MEG1942",
          "MEG2013",
          "MEG2012",
          "MEG2023",
          "MEG2022",
          "MEG2032",
          "MEG2033",
          "MEG2042",
          "MEG2043",
          "MEG2113",
          "MEG2112",
          "MEG2122",
          "MEG2123",
          "MEG2133",
          "MEG2132",
          "MEG2143",
          "MEG2142",
          "MEG2212",
          "MEG2213",
          "MEG2223",
          "MEG2222",
          "MEG2233",
          "MEG2232",
          "MEG2242",
          "MEG2243",
          "MEG2312",
          "MEG2313",
          "MEG2323",
          "MEG2322",
          "MEG2332",
          "MEG2333",
          "MEG2343",
          "MEG2342",
          "MEG2412",
          "MEG2413",
          "MEG2423",
          "MEG2422",
          "MEG2433",
          "MEG2432",
          "MEG2442",
          "MEG2443",
          "MEG2512",
          "MEG2513",
          "MEG2522",
          "MEG2523",
          "MEG2533",
          "MEG2532",
          "MEG2543",
          "MEG2542",
          "MEG2612",
          "MEG2613",
          "MEG2623",
          "MEG2622",
          "MEG2633",
          "MEG2632",
          "MEG2642",
          "MEG2643"
         ],
         "tickvals": [
          0,
          1,
          2,
          3,
          4,
          5,
          6,
          7,
          8,
          9,
          10,
          11,
          12,
          13,
          14,
          15,
          16,
          17,
          18,
          19,
          20,
          21,
          22,
          23,
          24,
          25,
          26,
          27,
          28,
          29,
          30,
          31,
          32,
          33,
          34,
          35,
          36,
          37,
          38,
          39,
          40,
          41,
          42,
          43,
          44,
          45,
          46,
          47,
          48,
          49,
          50,
          51,
          52,
          53,
          54,
          55,
          56,
          57,
          58,
          59,
          60,
          61,
          62,
          63,
          64,
          65,
          66,
          67,
          68,
          69,
          70,
          71,
          72,
          73,
          74,
          75,
          76,
          77,
          78,
          79,
          80,
          81,
          82,
          83,
          84,
          85,
          86,
          87,
          88,
          89,
          90,
          91,
          92,
          93,
          94,
          95,
          96,
          97,
          98,
          99,
          100,
          101,
          102,
          103,
          104,
          105,
          106,
          107,
          108,
          109,
          110,
          111,
          112,
          113,
          114,
          115,
          116,
          117,
          118,
          119,
          120,
          121,
          122,
          123,
          124,
          125,
          126,
          127,
          128,
          129,
          130,
          131,
          132,
          133,
          134,
          135,
          136,
          137,
          138,
          139,
          140,
          141,
          142,
          143,
          144,
          145,
          146,
          147,
          148,
          149,
          150,
          151,
          152,
          153,
          154,
          155,
          156,
          157,
          158,
          159,
          160,
          161,
          162,
          163,
          164,
          165,
          166,
          167,
          168,
          169,
          170,
          171,
          172,
          173,
          174,
          175,
          176,
          177,
          178,
          179,
          180,
          181,
          182,
          183,
          184,
          185,
          186,
          187,
          188,
          189,
          190,
          191,
          192,
          193,
          194,
          195,
          196,
          197,
          198,
          199,
          200,
          201,
          202,
          203
         ]
        },
        "yaxis": {
         "exponentformat": "e",
         "showexponent": "all",
         "title": {
          "text": "Standard deviation in Tesla/meter"
         }
        }
       }
      }
     },
     "metadata": {},
     "output_type": "display_data"
    }
   ],
   "source": [
    "#%% TRY TO SAVE DERIVATIVE FROM BIDS DATASET HERE:\n",
    "\n",
    "config_file_name = 'settings.ini'\n",
    "make_derivative_meg_qc(config_file_name)\n"
   ]
  },
  {
   "cell_type": "code",
   "execution_count": null,
   "metadata": {},
   "outputs": [],
   "source": [
    "dfs_ptp_amlitude_annot['mags']"
   ]
  },
  {
   "cell_type": "code",
   "execution_count": null,
   "metadata": {},
   "outputs": [],
   "source": [
    "# Other useful ancp stuff:\n",
    "\n",
    "config = configparser.ConfigParser()\n",
    "config.read('settings.ini')\n",
    "\n",
    "default_direct = config['DEFAULT']['data_directory']\n",
    "dataset_path = ancpbids.utils.fetch_dataset(default_direct)\n",
    "\n",
    "from ancpbids import BIDSLayout\n",
    "layout = BIDSLayout(dataset_path)\n",
    "\n",
    "list_of_fifs = layout.get(suffix='meg', extension='.fif', return_type='filename')\n",
    "\n",
    "list_of_subs = layout.get_subjects()\n",
    "\n",
    "\n",
    "list_of_entities = layout.get_entities()\n",
    "print(list_of_entities)"
   ]
  },
  {
   "cell_type": "code",
   "execution_count": null,
   "metadata": {},
   "outputs": [],
   "source": [
    "#%% TRY SEPARATE FUNCTIONS HERE\n",
    "\n",
    "config = configparser.ConfigParser()\n",
    "config.read('settings.ini')\n",
    "data_file='/Volumes/M2_DATA/MEG_QC_stuff/data/from openneuro/ds003483/sub-009/ses-1/meg/sub-009_ses-1_task-deduction_run-1_meg.fif'\n",
    "sid='009'\n",
    "\n",
    "df_epochs, epochs_mg, channels, raw_bandpass, raw_bandpass_resamp, raw_cropped, raw = initial_stuff(config, data_file)\n",
    "m_or_g_chosen = ['mags', 'grads']\n",
    "\n",
    "m_or_g_chosen = sanity_check(m_or_g_chosen, channels)\n",
    "\n",
    "if len(m_or_g_chosen) == 0: \n",
    "    raise ValueError('No channels to analyze. Check presence of mags and grads in your data set and parameter do_for in settings.')\n",
    "\n",
    "\n"
   ]
  },
  {
   "cell_type": "code",
   "execution_count": null,
   "metadata": {},
   "outputs": [],
   "source": [
    "config = configparser.ConfigParser()\n",
    "config.read('settings.ini')\n",
    "data_file = '/Volumes/M2_DATA/MEG_QC_stuff/data/from openneuro/ds003483/sub-009/ses-1/meg/sub-009_ses-1_task-deduction_run-1_meg.fif'\n",
    "dict_of_dfs_epoch, epochs_mg, channels, raw_bandpass, raw_filtered_resampled, raw_cropped, raw = initial_stuff(config, data_file)\n",
    "m_or_g_chosen = ['mags','grads']\n",
    "sid='009'\n",
    "#dfs_ptp_amlitude_annot, bad_channels, amplit_annot_with_ch_names = PP_auto_meg_qc(sid, config, channels, raw, m_or_g_chosen)\n",
    "\n",
    "#out_with_name_and_format = RMSE_meg_qc(sid, config, channels, dict_of_dfs_epoch, raw_filtered_resampled, m_or_g_chosen)\n",
    "\n",
    "# psd_section = config['PSD']\n",
    "# freq_min = psd_section.getfloat('freq_min') \n",
    "# freq_max = psd_section.getfloat('freq_max') \n",
    "# mean_power_per_band_needed = psd_section.getboolean('mean_power_per_band_needed')\n",
    "# n_fft = psd_section.getint('n_fft')\n",
    "# n_per_seg = psd_section.getint('n_per_seg')\n",
    "\n",
    "# m_or_g='mags'\n",
    "# fig, fig_desc, fig_path, dfs_with_name = Power_of_freq_meg(ch_names=channels[m_or_g], m_or_g = m_or_g, freqs = freqs[m_or_g], psds = psds[m_or_g], mean_power_per_band_needed = mean_power_per_band_needed, plotflag = True, sid = sid)\n",
    "\n",
    "deriv_with_name_and_format = PSD_meg_qc(sid, config, channels, raw_filtered_resampled, m_or_g_chosen)\n",
    "\n"
   ]
  },
  {
   "cell_type": "code",
   "execution_count": null,
   "metadata": {},
   "outputs": [],
   "source": [
    "dfs_with_name_list=[]\n",
    "dfs_with_name=[(9,'h'), ('g', 0)]\n",
    "\n",
    "dfs_with_name_list += dfs_with_name\n",
    "\n",
    "dfs_with_name_list"
   ]
  }
 ],
 "metadata": {
  "kernelspec": {
   "display_name": "Python 3.9.13 ('mne_new')",
   "language": "python",
   "name": "python3"
  },
  "language_info": {
   "codemirror_mode": {
    "name": "ipython",
    "version": 3
   },
   "file_extension": ".py",
   "mimetype": "text/x-python",
   "name": "python",
   "nbconvert_exporter": "python",
   "pygments_lexer": "ipython3",
   "version": "3.9.13"
  },
  "orig_nbformat": 4,
  "vscode": {
   "interpreter": {
    "hash": "d401ab1bf6dd7bb97662b0feb1321a641d60d04842bfa92b47f7871360972b5d"
   }
  }
 },
 "nbformat": 4,
 "nbformat_minor": 2
}
