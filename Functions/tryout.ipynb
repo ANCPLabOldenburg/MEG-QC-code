{
 "cells": [
  {
   "cell_type": "code",
   "execution_count": null,
   "metadata": {},
   "outputs": [],
   "source": [
    "#%% TRY TO SAVE DERIVATIVE FROM BIDS DATASET HERE:\n",
    "from main_meg_qc import make_derivative_meg_qc\n",
    "config_file_name = 'settings.ini'\n",
    "raw = make_derivative_meg_qc(config_file_name)\n",
    "raw"
   ]
  },
  {
   "cell_type": "code",
   "execution_count": null,
   "metadata": {},
   "outputs": [],
   "source": [
    "import numpy as np\n",
    "import matplotlib.pyplot as plt\n",
    "import plotly.graph_objects as go\n",
    "import mne\n",
    "from mne.time_frequency import tfr_morlet, psd_multitaper, psd_welch\n",
    "import configparser\n",
    "import ancpbids\n",
    "import plotly\n",
    "import mpld3\n",
    "\n",
    "from main_meg_qc import make_derivative_meg_qc\n",
    "from initial_meg_qc import get_all_config_params, sanity_check, initial_processing\n",
    "from RMSE_meq_qc import RMSE_meg_qc\n",
    "from PSD_meg_qc import PSD_meg_qc\n",
    "from Peaks_manual_meg_qc import PP_manual_meg_qc\n",
    "from Peaks_auto_meg_qc import PP_auto_meg_qc\n",
    "from ECG_meg_qc import ECG_meg_qc\n",
    "from EOG_meg_qc import EOG_meg_qc\n",
    "from universal_html_report import keep_fig_derivs, make_joined_report\n",
    "import time\n"
   ]
  },
  {
   "cell_type": "code",
   "execution_count": null,
   "metadata": {},
   "outputs": [],
   "source": [
    "from main_meg_qc import get_all_config_params, initial_processing\n",
    "all_qc_params=get_all_config_params('settings.ini')\n",
    "#print(all_qc_params)\n",
    "\n",
    "#data_file = '/Volumes/M2_DATA/MEG_QC_stuff/data/from openneuro/ds003483/sub-009/ses-1/meg/sub-009_ses-1_task-deduction_run-1_meg.fif'\n",
    "data_file = '/Volumes/M2_DATA/MEG_QC_stuff/data/from lab/mikado/sub_HT05ND16/210811/mikado-1.fif'\n",
    "\n",
    "dict_of_dfs_epoch, dict_epochs_mg, channels, raw_bandpass, raw_filtered_resampled, raw_cropped, raw, active_shielding_used = initial_processing(default_settings=all_qc_params['default'], filtering_settings=all_qc_params['Filtering'], epoching_params=all_qc_params['Epoching'], data_file=data_file)\n",
    "raw_cropped"
   ]
  },
  {
   "cell_type": "code",
   "execution_count": null,
   "metadata": {},
   "outputs": [],
   "source": [
    "duration_crop = len(raw_cropped)/raw_cropped.info['sfreq']\n",
    "duration_crop"
   ]
  },
  {
   "cell_type": "code",
   "execution_count": null,
   "metadata": {},
   "outputs": [],
   "source": [
    "from ECG_meg_qc import find_ecg_affected_channels\n",
    "\n",
    "mag_ch_names = raw.copy().pick_types(meg='mag').ch_names if 'mag' in raw else None\n",
    "grad_ch_names = raw.copy().pick_types(meg='grad').ch_names if 'grad' in raw else None\n",
    "channels = {'mag': mag_ch_names, 'grad': grad_ch_names}\n",
    "\n",
    "\n",
    "ecg_affected_channels, fig_affected, fig_not_affected=find_ecg_affected_channels(raw_cropped, channels, m_or_g_chosen=['mag'], norm_lvl=2, thresh_lvl_mean=1.3, tmin=-0.1, tmax=0.1, plotflag=True)\n"
   ]
  },
  {
   "cell_type": "code",
   "execution_count": null,
   "metadata": {},
   "outputs": [],
   "source": [
    "# Other useful ancp stuff:\n",
    "\n",
    "config = configparser.ConfigParser()\n",
    "config.read('settings.ini')\n",
    "\n",
    "default_direct = config['DEFAULT']['data_directory']\n",
    "dataset_path = ancpbids.utils.fetch_dataset(default_direct)\n",
    "\n",
    "from ancpbids import BIDSLayout\n",
    "layout = BIDSLayout(dataset_path)\n",
    "\n",
    "list_of_fifs = layout.get(suffix='meg', extension='.fif', return_type='filename')\n",
    "\n",
    "list_of_subs = layout.get_subjects()\n",
    "\n",
    "\n",
    "list_of_entities = layout.get_entities()\n",
    "print(list_of_entities)"
   ]
  },
  {
   "cell_type": "code",
   "execution_count": null,
   "metadata": {},
   "outputs": [],
   "source": [
    "#TRY SEPARATE FUNCS HERE\n",
    "\n",
    "config = configparser.ConfigParser()\n",
    "config.read('settings.ini')\n",
    "data_file = '/Volumes/M2_DATA/MEG_QC_stuff/data/from openneuro/ds003483/sub-009/ses-1/meg/sub-009_ses-1_task-deduction_run-1_meg.fif'\n",
    "all_qc_params = get_all_config_params('settings.ini')\n",
    "dict_of_dfs_epoch, dict_epochs_mg, channels, raw_filtered, raw_filtered_resampled, raw_cropped, raw, active_shielding_used = initial_processing(default_settings=all_qc_params['default'], filtering_settings=all_qc_params['Filtering'], epoching_params=all_qc_params['Epoching'], data_file=data_file)\n",
    "\n",
    "m_or_g_chosen = ['mag']\n",
    "sid='009'\n"
   ]
  },
  {
   "cell_type": "code",
   "execution_count": null,
   "metadata": {},
   "outputs": [],
   "source": [
    "start_time = time.time()\n",
    "\n",
    "\n",
    "#dfs_ptp_amlitude_annot, bad_channels, amplit_annot_with_ch_names = PP_auto_meg_qc(sid, config, channels, raw, m_or_g_chosen)\n",
    "\n",
    "#derivs, big_rmse_with_value_all_data, small_rmse_with_value_all_data = RMSE_meg_qc(all_qc_params['RMSE'], channels, dict_epochs_mg, dict_dict_of_dfs_epoch, raw, m_or_g_chosen)\n",
    "\n",
    "derivs = PP_manual_meg_qc(all_qc_params['PTP_manual'], channels, dict_epochs_mg, dict_of_dfs_epoch, raw, m_or_g_chosen)\n",
    "\n",
    "#out_with_name_and_format = PSD_meg_qc(sid, config, channels, raw, m_or_g_chosen)\n",
    "\n",
    "#out_with_name_and_format = ECG_meg_qc(config, raw, m_or_g_chosen)\n",
    "\n",
    "#out_with_name_and_format = EOG_meg_qc(config, raw, m_or_g_chosen)\n",
    "\n",
    "#out_with_name_and_format, bad_channels = PP_auto_meg_qc(sid, config, channels, raw, m_or_g_chosen)\n",
    "\n",
    "print(\"--- Execution %s seconds ---\" % (time.time() - start_time))\n",
    "\n",
    "\n",
    "for der in derivs:\n",
    "    if der.content_type == 'plotly':\n",
    "        der.content.show()\n"
   ]
  },
  {
   "cell_type": "code",
   "execution_count": null,
   "metadata": {},
   "outputs": [],
   "source": [
    "# out_with_name_and_format[0].convert_fig_to_html()\n",
    "from universal_plots import QC_derivative\n",
    "dr = QC_derivative('001', 'mean_EC_epoch', None, '')\n",
    "# dr_html = dr.convert_fig_to_html()\n",
    "# l=[\"a\"]\n",
    "\n",
    "# if dr_html is not None:\n",
    "\n",
    "#     l += dr_html\n",
    "    \n",
    "# print(l)\n",
    "\n",
    "sec = dr.get_section()\n",
    "print(sec)\n"
   ]
  },
  {
   "cell_type": "code",
   "execution_count": null,
   "metadata": {},
   "outputs": [],
   "source": [
    "print(figs)\n",
    "all_fig_derivs = figs\n",
    "figures_report = {}\n",
    "for x in range(0, len(all_fig_derivs)):\n",
    "    if all_fig_derivs[x][3]=='plotly':\n",
    "        figures_report[\"f{0}\".format(x)] = plotly.io.to_html(all_fig_derivs[x][0])\n",
    "    elif all_fig_derivs[x][3]=='matplotlib':\n",
    "        figures_report[\"f{0}\".format(x)] = mpld3.fig_to_html(all_fig_derivs[x][0]);\n",
    "\n",
    "print(figures_report)"
   ]
  },
  {
   "cell_type": "code",
   "execution_count": null,
   "metadata": {},
   "outputs": [],
   "source": [
    "\n",
    "import mpld3\n",
    "\n",
    "html_fig=mpld3.fig_to_html(figs[0][0])\n",
    "print(html_fig)\n",
    "\n",
    "\n",
    "\n",
    "# file = open('matpl_fig.html', \"w\")\n",
    "# file.write(html_fig)\n",
    "# file.close()"
   ]
  },
  {
   "cell_type": "code",
   "execution_count": null,
   "metadata": {},
   "outputs": [],
   "source": [
    "html_string = '''\n",
    "<!doctype html>\n",
    "<html>\n",
    "    <head>\n",
    "        <meta charset=\"UTF-8\">\n",
    "        <title>MEG QC: Frequency spectrum Report</title>\n",
    "        <style>body{ margin:0 100;}</style>\n",
    "    </head>\n",
    "    \n",
    "    <body style=\"font-family: Arial\">\n",
    "        <center>\n",
    "        <h1>MEG data quality analysis report</h1>\n",
    "        <br></br>\n",
    "        <!-- *** Section 1 *** --->\n",
    "        <h2>Frequency spectrum per channel</h2>\n",
    "        ''' + html_fig + '''\n",
    "        <p>graph description...</p>\n",
    "        </center>\n",
    "    \n",
    "    </body>\n",
    "</html>'''\n",
    "\n",
    "with open('report_trial.html', 'w', encoding = 'utf8') as f:\n",
    "    f.write(html_string)"
   ]
  },
  {
   "cell_type": "code",
   "execution_count": null,
   "metadata": {},
   "outputs": [],
   "source": [
    "#config = configparser.ConfigParser()\n",
    "#config.read('settings.ini')\n",
    "\n",
    "#data_file = '/Volumes/M2_DATA/MEG_QC_stuff/data/from openneuro/ds000117/sub-01/ses-meg/meg/sub-01_ses-meg_task-facerecognition_run-01_meg.fif'\n",
    "# file does not start with a file id tag\n",
    "\n",
    "#data_file = '/Volumes/M2_DATA/MEG_QC_stuff/data/from openneuro/ds003392/sub-01/meg/sub-01_task-localizer_meg.fif'\n",
    "# SSS frilter. need to allow maxshiled.\n",
    "\n",
    "#data_file ='/Volumes/M2_DATA/MEG_QC_stuff/data/from openneuro/ds003694/sub-01/meg/sub-01_task-MEM_run-01_meg.fif'\n",
    "#raw = mne.io.read_raw_fif(data_file, on_split_missing='ignore')\n",
    "\n",
    "\n",
    "#dict_of_dfs_epoch, dict_epochs_mg, channels, raw_bandpass, raw_filtered_resampled, raw_cropped, raw = initial_processing(config, data_file)\n",
    "\n",
    "#data_file ='/Volumes/M2_DATA/MEG_QC_stuff/data/from openneuro/ds003922/sub-Mp150285/ses-01/meg/sub-Mp150285_ses-01_acq-crosstalk_meg.fif'\n",
    "#Could not find measurement data: how many in this set, which subjects?\n",
    "\n",
    "\n",
    "data_file ='/Volumes/M2_DATA/MEG_QC_stuff/data/from openneuro/ds004229/sub-102/meg/sub-102_task-amnoise_meg.fif'\n",
    "#SSS filter\n",
    "raw = mne.io.read_raw_fif(data_file, allow_maxshield=True)\n",
    "\n",
    "\n",
    "#data_dir ='/Volumes/M2_DATA/MEG_QC_stuff/data/from openneuro/not fitting no fif/ds000246/sub-0001/meg/sub-0001_task-AEF_run-01_meg.ds'\n",
    "#raw = mne.io.read_raw_ctf(data_dir)\n"
   ]
  },
  {
   "cell_type": "code",
   "execution_count": null,
   "metadata": {},
   "outputs": [],
   "source": [
    "raw\n",
    "# reference channels for ctf systems already implemented (subtracted), is this done automatically by the ctf systems?"
   ]
  },
  {
   "cell_type": "code",
   "execution_count": null,
   "metadata": {},
   "outputs": [],
   "source": [
    "import configparser\n",
    "from ancpbids import BIDSLayout\n",
    "\n",
    "config = configparser.ConfigParser()\n",
    "config.read('settings.ini')\n",
    "\n",
    "default_section = config['DEFAULT']\n",
    "\n",
    "m_or_g_chosen = default_section['do_for'] \n",
    "m_or_g_chosen = m_or_g_chosen.replace(\" \", \"\")\n",
    "m_or_g_chosen = m_or_g_chosen.split(\",\")\n",
    "#m_or_g_chosen = select_m_or_g(default_section)\n",
    "\n",
    "dataset_path = default_section['data_directory']\n",
    "\n",
    "layout = BIDSLayout(dataset_path)\n",
    "schema = layout.schema\n",
    "\n",
    "#create derivative folder first!\n",
    "derivative = layout.dataset.create_derivative(name=\"Meg_QC\")\n",
    "derivative.dataset_description.GeneratedBy.Name = \"MEG QC Pipeline\"\n",
    "\n",
    "list_of_subs = layout.get_subjects()\n",
    "#print(list_of_subs)\n",
    "for sub in list_of_subs:\n",
    "    list_of_fifs_per_sub = layout.get(suffix='meg', extension='.fif', sub=sub)\n",
    "    for_entities={}\n",
    "    for file in list_of_fifs_per_sub:\n",
    "        k=file['entities'][1]['key']\n",
    "        v=file['entities'][1]['value']\n",
    "        for_entities[k]=v\n",
    "    print(for_entities)\n",
    "\n",
    "#print(list_of_fifs_per_sub)\n",
    "# for sid in [list_of_subs[0]]: #RUN OVER JUST 1 SUBJ\n",
    "# #for sid in list_of_subs: \n",
    "\n",
    "#     subject_folder = derivative.create_folder(type_=schema.Subject, name='sub-'+sid)\n",
    "\n",
    "#     list_of_fifs = layout.get(suffix='meg', extension='.fif', return_type='filename', subj=sid)\n",
    "#     #Devide here fifs by task, ses , run\n",
    "\n",
    "#     for data_file in [list_of_fifs[0]]: #RUN OVER JUST 1 FIF because is not divided by tasks yet..\n",
    "#         print(type(data_file))"
   ]
  }
 ],
 "metadata": {
  "kernelspec": {
   "display_name": "Python 3.9.13 ('mne_new')",
   "language": "python",
   "name": "python3"
  },
  "language_info": {
   "codemirror_mode": {
    "name": "ipython",
    "version": 3
   },
   "file_extension": ".py",
   "mimetype": "text/x-python",
   "name": "python",
   "nbconvert_exporter": "python",
   "pygments_lexer": "ipython3",
   "version": "3.9.13"
  },
  "orig_nbformat": 4,
  "vscode": {
   "interpreter": {
    "hash": "d401ab1bf6dd7bb97662b0feb1321a641d60d04842bfa92b47f7871360972b5d"
   }
  }
 },
 "nbformat": 4,
 "nbformat_minor": 2
}
