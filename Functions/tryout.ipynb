{
 "cells": [
  {
   "cell_type": "code",
   "execution_count": 1,
   "metadata": {},
   "outputs": [],
   "source": [
    "# This notebook checks MNE functions for ECG and EOG detection\n",
    "# Cropped data is used here (5 minutes only), tried on whole data - takes forever.\n",
    "\n",
    "\n",
    "#Load data, make folders\n",
    "import numpy as np\n",
    "import matplotlib.pyplot as plt\n",
    "import plotly.graph_objects as go\n",
    "import mne\n",
    "from mne.time_frequency import tfr_morlet, psd_multitaper, psd_welch\n",
    "import configparser\n",
    "import ancpbids\n",
    "import plotly\n",
    "import mpld3\n",
    "\n",
    "from main_meg_qc import make_derivative_meg_qc, sanity_check, initial_stuff\n",
    "\n",
    "from data_load_and_folders import load_meg_data, make_folders_meg, Epoch_meg\n",
    "from RMSE_meq_qc import RMSE_meg_qc\n",
    "from PSD_meg_qc import PSD_meg_qc\n",
    "from Peaks_manual_meg_qc import PP_manual_meg_qc\n",
    "from Peaks_auto_meg_qc import PP_auto_meg_qc\n",
    "from ECG_meg_qc import ECG_meg_qc\n",
    "from EOG_meg_qc import EOG_meg_qc\n",
    "from universal_html_report import keep_fig_derivs, make_joined_report\n",
    "\n"
   ]
  },
  {
   "cell_type": "code",
   "execution_count": null,
   "metadata": {},
   "outputs": [],
   "source": [
    "#%% TRY TO SAVE DERIVATIVE FROM BIDS DATASET HERE:\n",
    "\n",
    "config_file_name = 'settings.ini'\n",
    "make_derivative_meg_qc(config_file_name)\n"
   ]
  },
  {
   "cell_type": "code",
   "execution_count": null,
   "metadata": {},
   "outputs": [],
   "source": [
    "\n",
    "from universal_plots import add_output_format\n",
    "from universal_html_report import keep_fig_derivs\n",
    "\n",
    "html_string='''<html>\n",
    "            #     <head>\n",
    "            #     <title>HTML File</title>\n",
    "            #     </head>\n",
    "            #     <body>\n",
    "            #     <h1>stuff</h1>\n",
    "            #     <p>Example stuff</p>\n",
    "            #     </body>\n",
    "            #     </html>'''\n",
    "all_derivs=[(html_string, 'stuff_report', None, 'report')]\n",
    "all_derivs += [(html_string, 'stuff_report2', None, 'plotly')]\n",
    "\n",
    "for d in all_derivs:\n",
    "    if d[3] == 'plotly': #or d[3] == 'matplotlib':\n",
    "        print(d[3])\n",
    "\n",
    "all_fig_derivs = keep_fig_derivs(all_derivs)\n",
    "\n",
    "print(all_fig_derivs)"
   ]
  },
  {
   "cell_type": "code",
   "execution_count": null,
   "metadata": {},
   "outputs": [],
   "source": [
    "# Other useful ancp stuff:\n",
    "\n",
    "config = configparser.ConfigParser()\n",
    "config.read('settings.ini')\n",
    "\n",
    "default_direct = config['DEFAULT']['data_directory']\n",
    "dataset_path = ancpbids.utils.fetch_dataset(default_direct)\n",
    "\n",
    "from ancpbids import BIDSLayout\n",
    "layout = BIDSLayout(dataset_path)\n",
    "\n",
    "list_of_fifs = layout.get(suffix='meg', extension='.fif', return_type='filename')\n",
    "\n",
    "list_of_subs = layout.get_subjects()\n",
    "\n",
    "\n",
    "list_of_entities = layout.get_entities()\n",
    "print(list_of_entities)"
   ]
  },
  {
   "cell_type": "code",
   "execution_count": 2,
   "metadata": {},
   "outputs": [
    {
     "name": "stdout",
     "output_type": "stream",
     "text": [
      "Opening raw data file /Volumes/M2_DATA/MEG_QC_stuff/data/from openneuro/ds003483/sub-009/ses-1/meg/sub-009_ses-1_task-deduction_run-1_meg.fif...\n",
      "    Range : 60000 ... 1255999 =     60.000 ...  1255.999 secs\n",
      "Ready.\n",
      "Stimulus channels detected: ['STI101', 'STI201', 'STI301']\n",
      "9 events found\n",
      "Event IDs: [2 4 8]\n",
      "Trigger channel has a non-zero initial value of 3840 (consider using initial_event=True to detect this event)\n",
      "Not setting metadata\n",
      "9 matching events found\n",
      "No baseline correction applied\n",
      "0 projection items activated\n",
      "Loading data for 9 events and 1201 original time points ...\n",
      "0 bad epochs dropped\n",
      "Not setting metadata\n",
      "9 matching events found\n",
      "No baseline correction applied\n",
      "0 projection items activated\n",
      "Loading data for 9 events and 1201 original time points ...\n",
      "0 bad epochs dropped\n"
     ]
    },
    {
     "data": {
      "application/vnd.plotly.v1+json": {
       "config": {
        "plotlyServerURL": "https://plot.ly"
       },
       "data": [
        {
         "boxpoints": "all",
         "hovertemplate": "%{text}<br>PP_Amplitude: %{x: .0f}",
         "line": {
          "width": 1
         },
         "marker": {
          "size": 5
         },
         "name": "",
         "opacity": 0.7,
         "pointpos": 0,
         "text": [
          "MEG0111",
          "MEG0121",
          "MEG0131",
          "MEG0141",
          "MEG0211",
          "MEG0221",
          "MEG0231",
          "MEG0241",
          "MEG0311",
          "MEG0321",
          "MEG0331",
          "MEG0341",
          "MEG0411",
          "MEG0421",
          "MEG0431",
          "MEG0441",
          "MEG0511",
          "MEG0521",
          "MEG0531",
          "MEG0541",
          "MEG0611",
          "MEG0621",
          "MEG0631",
          "MEG0641",
          "MEG0711",
          "MEG0721",
          "MEG0731",
          "MEG0741",
          "MEG0811",
          "MEG0821",
          "MEG0911",
          "MEG0921",
          "MEG0931",
          "MEG0941",
          "MEG1011",
          "MEG1021",
          "MEG1031",
          "MEG1041",
          "MEG1111",
          "MEG1121",
          "MEG1131",
          "MEG1141",
          "MEG1211",
          "MEG1221",
          "MEG1231",
          "MEG1241",
          "MEG1311",
          "MEG1321",
          "MEG1331",
          "MEG1341",
          "MEG1411",
          "MEG1421",
          "MEG1431",
          "MEG1441",
          "MEG1511",
          "MEG1521",
          "MEG1531",
          "MEG1541",
          "MEG1611",
          "MEG1621",
          "MEG1631",
          "MEG1641",
          "MEG1711",
          "MEG1721",
          "MEG1731",
          "MEG1741",
          "MEG1811",
          "MEG1821",
          "MEG1831",
          "MEG1841",
          "MEG1911",
          "MEG1921",
          "MEG1931",
          "MEG1941",
          "MEG2011",
          "MEG2021",
          "MEG2031",
          "MEG2041",
          "MEG2111",
          "MEG2121",
          "MEG2131",
          "MEG2141",
          "MEG2211",
          "MEG2221",
          "MEG2231",
          "MEG2241",
          "MEG2311",
          "MEG2321",
          "MEG2331",
          "MEG2341",
          "MEG2411",
          "MEG2421",
          "MEG2431",
          "MEG2441",
          "MEG2511",
          "MEG2521",
          "MEG2531",
          "MEG2541",
          "MEG2611",
          "MEG2621",
          "MEG2631",
          "MEG2641"
         ],
         "type": "box",
         "x": [
          1.971055014709855e-12,
          2.5464386898224435e-12,
          1.8033353547847219e-12,
          1.7704095112057419e-12,
          1.7923851655048417e-12,
          1.6615465759195241e-12,
          1.6941806020425399e-12,
          1.602184353029564e-12,
          1.5657573988180737e-12,
          1.509634072005317e-12,
          1.3271631988588904e-12,
          1.8120712929187991e-12,
          1.6167927367314107e-12,
          1.4976159257477057e-12,
          2.0202147234593323e-12,
          1.874101340669765e-12,
          1.3801804617889461e-12,
          1.3499821126895276e-12,
          1.0902293312154671e-12,
          1.2558743973506507e-12,
          1.1802505636585453e-12,
          1.1824786836030088e-12,
          1.4321263545654804e-12,
          1.3202548006550613e-12,
          1.8865206328148877e-12,
          1.862959681220276e-12,
          2.057428052193466e-12,
          1.9036293523571126e-12,
          1.1379916891295818e-12,
          1.0995339571684895e-12,
          1.30786281710207e-12,
          1.4649580175088384e-12,
          1.4026356942738904e-12,
          1.1798878479187961e-12,
          1.0980885321331534e-12,
          1.2353656898912753e-12,
          1.2020651348759197e-12,
          1.3379114475465907e-12,
          1.4790484899674454e-12,
          1.7024576982877792e-12,
          1.8510787987639e-12,
          1.9374702269716055e-12,
          1.691768916806919e-12,
          2.0161591763378613e-12,
          1.7756818050471776e-12,
          1.5199244446144964e-12,
          1.944583864142143e-12,
          2.0583365469907585e-12,
          1.677479339418585e-12,
          2.0576105854641628e-12,
          2.599916278756205e-12,
          1.9757139046472005e-12,
          1.5550615759583513e-12,
          1.9952167524827784e-12,
          1.5791630824890488e-12,
          1.5292384302584879e-12,
          1.684336790314753e-12,
          1.5334885281420824e-12,
          1.649221952984709e-12,
          1.7504136334473842e-12,
          1.8650226866814074e-12,
          1.6838942415528775e-12,
          1.700207171699214e-12,
          1.548254354607817e-12,
          1.4993527893244079e-12,
          1.4114420614332174e-12,
          1.9986772648201735e-12,
          1.971874040843487e-12,
          1.8417343507616307e-12,
          1.97328869473142e-12,
          1.8860541862048282e-12,
          1.6331393268910668e-12,
          1.328854535079636e-12,
          1.7509373762058992e-12,
          1.7618362055280653e-12,
          2.037814095847701e-12,
          2.0795515724666916e-12,
          1.8959038936534433e-12,
          1.937837041365025e-12,
          1.733760205492088e-12,
          1.4735762322451117e-12,
          1.3305512136267926e-12,
          1.9774451559835065e-12,
          2.0305222855182487e-12,
          1.9354801015547605e-12,
          1.7949060709965907e-12,
          1.9547011757527053e-12,
          1.6786546056862653e-12,
          1.6655591561431983e-12,
          1.9672795371652897e-12,
          2.0741097924787696e-12,
          1.5608095719450342e-12,
          1.6682987855442237e-12,
          1.8519191401259987e-12,
          1.3956690561043125e-12,
          1.4503585103296094e-12,
          1.3185912552157458e-12,
          1.430855139744416e-12,
          1.6983654923850813e-12,
          1.453680133532284e-12,
          1.3611251455044512e-12,
          1.507799951233773e-12
         ]
        }
       ],
       "layout": {
        "template": {
         "data": {
          "bar": [
           {
            "error_x": {
             "color": "#2a3f5f"
            },
            "error_y": {
             "color": "#2a3f5f"
            },
            "marker": {
             "line": {
              "color": "#E5ECF6",
              "width": 0.5
             },
             "pattern": {
              "fillmode": "overlay",
              "size": 10,
              "solidity": 0.2
             }
            },
            "type": "bar"
           }
          ],
          "barpolar": [
           {
            "marker": {
             "line": {
              "color": "#E5ECF6",
              "width": 0.5
             },
             "pattern": {
              "fillmode": "overlay",
              "size": 10,
              "solidity": 0.2
             }
            },
            "type": "barpolar"
           }
          ],
          "carpet": [
           {
            "aaxis": {
             "endlinecolor": "#2a3f5f",
             "gridcolor": "white",
             "linecolor": "white",
             "minorgridcolor": "white",
             "startlinecolor": "#2a3f5f"
            },
            "baxis": {
             "endlinecolor": "#2a3f5f",
             "gridcolor": "white",
             "linecolor": "white",
             "minorgridcolor": "white",
             "startlinecolor": "#2a3f5f"
            },
            "type": "carpet"
           }
          ],
          "choropleth": [
           {
            "colorbar": {
             "outlinewidth": 0,
             "ticks": ""
            },
            "type": "choropleth"
           }
          ],
          "contour": [
           {
            "colorbar": {
             "outlinewidth": 0,
             "ticks": ""
            },
            "colorscale": [
             [
              0,
              "#0d0887"
             ],
             [
              0.1111111111111111,
              "#46039f"
             ],
             [
              0.2222222222222222,
              "#7201a8"
             ],
             [
              0.3333333333333333,
              "#9c179e"
             ],
             [
              0.4444444444444444,
              "#bd3786"
             ],
             [
              0.5555555555555556,
              "#d8576b"
             ],
             [
              0.6666666666666666,
              "#ed7953"
             ],
             [
              0.7777777777777778,
              "#fb9f3a"
             ],
             [
              0.8888888888888888,
              "#fdca26"
             ],
             [
              1,
              "#f0f921"
             ]
            ],
            "type": "contour"
           }
          ],
          "contourcarpet": [
           {
            "colorbar": {
             "outlinewidth": 0,
             "ticks": ""
            },
            "type": "contourcarpet"
           }
          ],
          "heatmap": [
           {
            "colorbar": {
             "outlinewidth": 0,
             "ticks": ""
            },
            "colorscale": [
             [
              0,
              "#0d0887"
             ],
             [
              0.1111111111111111,
              "#46039f"
             ],
             [
              0.2222222222222222,
              "#7201a8"
             ],
             [
              0.3333333333333333,
              "#9c179e"
             ],
             [
              0.4444444444444444,
              "#bd3786"
             ],
             [
              0.5555555555555556,
              "#d8576b"
             ],
             [
              0.6666666666666666,
              "#ed7953"
             ],
             [
              0.7777777777777778,
              "#fb9f3a"
             ],
             [
              0.8888888888888888,
              "#fdca26"
             ],
             [
              1,
              "#f0f921"
             ]
            ],
            "type": "heatmap"
           }
          ],
          "heatmapgl": [
           {
            "colorbar": {
             "outlinewidth": 0,
             "ticks": ""
            },
            "colorscale": [
             [
              0,
              "#0d0887"
             ],
             [
              0.1111111111111111,
              "#46039f"
             ],
             [
              0.2222222222222222,
              "#7201a8"
             ],
             [
              0.3333333333333333,
              "#9c179e"
             ],
             [
              0.4444444444444444,
              "#bd3786"
             ],
             [
              0.5555555555555556,
              "#d8576b"
             ],
             [
              0.6666666666666666,
              "#ed7953"
             ],
             [
              0.7777777777777778,
              "#fb9f3a"
             ],
             [
              0.8888888888888888,
              "#fdca26"
             ],
             [
              1,
              "#f0f921"
             ]
            ],
            "type": "heatmapgl"
           }
          ],
          "histogram": [
           {
            "marker": {
             "pattern": {
              "fillmode": "overlay",
              "size": 10,
              "solidity": 0.2
             }
            },
            "type": "histogram"
           }
          ],
          "histogram2d": [
           {
            "colorbar": {
             "outlinewidth": 0,
             "ticks": ""
            },
            "colorscale": [
             [
              0,
              "#0d0887"
             ],
             [
              0.1111111111111111,
              "#46039f"
             ],
             [
              0.2222222222222222,
              "#7201a8"
             ],
             [
              0.3333333333333333,
              "#9c179e"
             ],
             [
              0.4444444444444444,
              "#bd3786"
             ],
             [
              0.5555555555555556,
              "#d8576b"
             ],
             [
              0.6666666666666666,
              "#ed7953"
             ],
             [
              0.7777777777777778,
              "#fb9f3a"
             ],
             [
              0.8888888888888888,
              "#fdca26"
             ],
             [
              1,
              "#f0f921"
             ]
            ],
            "type": "histogram2d"
           }
          ],
          "histogram2dcontour": [
           {
            "colorbar": {
             "outlinewidth": 0,
             "ticks": ""
            },
            "colorscale": [
             [
              0,
              "#0d0887"
             ],
             [
              0.1111111111111111,
              "#46039f"
             ],
             [
              0.2222222222222222,
              "#7201a8"
             ],
             [
              0.3333333333333333,
              "#9c179e"
             ],
             [
              0.4444444444444444,
              "#bd3786"
             ],
             [
              0.5555555555555556,
              "#d8576b"
             ],
             [
              0.6666666666666666,
              "#ed7953"
             ],
             [
              0.7777777777777778,
              "#fb9f3a"
             ],
             [
              0.8888888888888888,
              "#fdca26"
             ],
             [
              1,
              "#f0f921"
             ]
            ],
            "type": "histogram2dcontour"
           }
          ],
          "mesh3d": [
           {
            "colorbar": {
             "outlinewidth": 0,
             "ticks": ""
            },
            "type": "mesh3d"
           }
          ],
          "parcoords": [
           {
            "line": {
             "colorbar": {
              "outlinewidth": 0,
              "ticks": ""
             }
            },
            "type": "parcoords"
           }
          ],
          "pie": [
           {
            "automargin": true,
            "type": "pie"
           }
          ],
          "scatter": [
           {
            "fillpattern": {
             "fillmode": "overlay",
             "size": 10,
             "solidity": 0.2
            },
            "type": "scatter"
           }
          ],
          "scatter3d": [
           {
            "line": {
             "colorbar": {
              "outlinewidth": 0,
              "ticks": ""
             }
            },
            "marker": {
             "colorbar": {
              "outlinewidth": 0,
              "ticks": ""
             }
            },
            "type": "scatter3d"
           }
          ],
          "scattercarpet": [
           {
            "marker": {
             "colorbar": {
              "outlinewidth": 0,
              "ticks": ""
             }
            },
            "type": "scattercarpet"
           }
          ],
          "scattergeo": [
           {
            "marker": {
             "colorbar": {
              "outlinewidth": 0,
              "ticks": ""
             }
            },
            "type": "scattergeo"
           }
          ],
          "scattergl": [
           {
            "marker": {
             "colorbar": {
              "outlinewidth": 0,
              "ticks": ""
             }
            },
            "type": "scattergl"
           }
          ],
          "scattermapbox": [
           {
            "marker": {
             "colorbar": {
              "outlinewidth": 0,
              "ticks": ""
             }
            },
            "type": "scattermapbox"
           }
          ],
          "scatterpolar": [
           {
            "marker": {
             "colorbar": {
              "outlinewidth": 0,
              "ticks": ""
             }
            },
            "type": "scatterpolar"
           }
          ],
          "scatterpolargl": [
           {
            "marker": {
             "colorbar": {
              "outlinewidth": 0,
              "ticks": ""
             }
            },
            "type": "scatterpolargl"
           }
          ],
          "scatterternary": [
           {
            "marker": {
             "colorbar": {
              "outlinewidth": 0,
              "ticks": ""
             }
            },
            "type": "scatterternary"
           }
          ],
          "surface": [
           {
            "colorbar": {
             "outlinewidth": 0,
             "ticks": ""
            },
            "colorscale": [
             [
              0,
              "#0d0887"
             ],
             [
              0.1111111111111111,
              "#46039f"
             ],
             [
              0.2222222222222222,
              "#7201a8"
             ],
             [
              0.3333333333333333,
              "#9c179e"
             ],
             [
              0.4444444444444444,
              "#bd3786"
             ],
             [
              0.5555555555555556,
              "#d8576b"
             ],
             [
              0.6666666666666666,
              "#ed7953"
             ],
             [
              0.7777777777777778,
              "#fb9f3a"
             ],
             [
              0.8888888888888888,
              "#fdca26"
             ],
             [
              1,
              "#f0f921"
             ]
            ],
            "type": "surface"
           }
          ],
          "table": [
           {
            "cells": {
             "fill": {
              "color": "#EBF0F8"
             },
             "line": {
              "color": "white"
             }
            },
            "header": {
             "fill": {
              "color": "#C8D4E3"
             },
             "line": {
              "color": "white"
             }
            },
            "type": "table"
           }
          ]
         },
         "layout": {
          "annotationdefaults": {
           "arrowcolor": "#2a3f5f",
           "arrowhead": 0,
           "arrowwidth": 1
          },
          "autotypenumbers": "strict",
          "coloraxis": {
           "colorbar": {
            "outlinewidth": 0,
            "ticks": ""
           }
          },
          "colorscale": {
           "diverging": [
            [
             0,
             "#8e0152"
            ],
            [
             0.1,
             "#c51b7d"
            ],
            [
             0.2,
             "#de77ae"
            ],
            [
             0.3,
             "#f1b6da"
            ],
            [
             0.4,
             "#fde0ef"
            ],
            [
             0.5,
             "#f7f7f7"
            ],
            [
             0.6,
             "#e6f5d0"
            ],
            [
             0.7,
             "#b8e186"
            ],
            [
             0.8,
             "#7fbc41"
            ],
            [
             0.9,
             "#4d9221"
            ],
            [
             1,
             "#276419"
            ]
           ],
           "sequential": [
            [
             0,
             "#0d0887"
            ],
            [
             0.1111111111111111,
             "#46039f"
            ],
            [
             0.2222222222222222,
             "#7201a8"
            ],
            [
             0.3333333333333333,
             "#9c179e"
            ],
            [
             0.4444444444444444,
             "#bd3786"
            ],
            [
             0.5555555555555556,
             "#d8576b"
            ],
            [
             0.6666666666666666,
             "#ed7953"
            ],
            [
             0.7777777777777778,
             "#fb9f3a"
            ],
            [
             0.8888888888888888,
             "#fdca26"
            ],
            [
             1,
             "#f0f921"
            ]
           ],
           "sequentialminus": [
            [
             0,
             "#0d0887"
            ],
            [
             0.1111111111111111,
             "#46039f"
            ],
            [
             0.2222222222222222,
             "#7201a8"
            ],
            [
             0.3333333333333333,
             "#9c179e"
            ],
            [
             0.4444444444444444,
             "#bd3786"
            ],
            [
             0.5555555555555556,
             "#d8576b"
            ],
            [
             0.6666666666666666,
             "#ed7953"
            ],
            [
             0.7777777777777778,
             "#fb9f3a"
            ],
            [
             0.8888888888888888,
             "#fdca26"
            ],
            [
             1,
             "#f0f921"
            ]
           ]
          },
          "colorway": [
           "#636efa",
           "#EF553B",
           "#00cc96",
           "#ab63fa",
           "#FFA15A",
           "#19d3f3",
           "#FF6692",
           "#B6E880",
           "#FF97FF",
           "#FECB52"
          ],
          "font": {
           "color": "#2a3f5f"
          },
          "geo": {
           "bgcolor": "white",
           "lakecolor": "white",
           "landcolor": "#E5ECF6",
           "showlakes": true,
           "showland": true,
           "subunitcolor": "white"
          },
          "hoverlabel": {
           "align": "left"
          },
          "hovermode": "closest",
          "mapbox": {
           "style": "light"
          },
          "paper_bgcolor": "white",
          "plot_bgcolor": "#E5ECF6",
          "polar": {
           "angularaxis": {
            "gridcolor": "white",
            "linecolor": "white",
            "ticks": ""
           },
           "bgcolor": "#E5ECF6",
           "radialaxis": {
            "gridcolor": "white",
            "linecolor": "white",
            "ticks": ""
           }
          },
          "scene": {
           "xaxis": {
            "backgroundcolor": "#E5ECF6",
            "gridcolor": "white",
            "gridwidth": 2,
            "linecolor": "white",
            "showbackground": true,
            "ticks": "",
            "zerolinecolor": "white"
           },
           "yaxis": {
            "backgroundcolor": "#E5ECF6",
            "gridcolor": "white",
            "gridwidth": 2,
            "linecolor": "white",
            "showbackground": true,
            "ticks": "",
            "zerolinecolor": "white"
           },
           "zaxis": {
            "backgroundcolor": "#E5ECF6",
            "gridcolor": "white",
            "gridwidth": 2,
            "linecolor": "white",
            "showbackground": true,
            "ticks": "",
            "zerolinecolor": "white"
           }
          },
          "shapedefaults": {
           "line": {
            "color": "#2a3f5f"
           }
          },
          "ternary": {
           "aaxis": {
            "gridcolor": "white",
            "linecolor": "white",
            "ticks": ""
           },
           "baxis": {
            "gridcolor": "white",
            "linecolor": "white",
            "ticks": ""
           },
           "bgcolor": "#E5ECF6",
           "caxis": {
            "gridcolor": "white",
            "linecolor": "white",
            "ticks": ""
           }
          },
          "title": {
           "x": 0.05
          },
          "xaxis": {
           "automargin": true,
           "gridcolor": "white",
           "linecolor": "white",
           "ticks": "",
           "title": {
            "standoff": 15
           },
           "zerolinecolor": "white",
           "zerolinewidth": 2
          },
          "yaxis": {
           "automargin": true,
           "gridcolor": "white",
           "linecolor": "white",
           "ticks": "",
           "title": {
            "standoff": 15
           },
           "zerolinecolor": "white",
           "zerolinewidth": 2
          }
         }
        },
        "title": {
         "text": "Peak-to-peak amplitude of the data for Magnetometers over the entire time series",
         "x": 0.5,
         "xanchor": "center",
         "y": 0.85,
         "yanchor": "top"
        },
        "xaxis": {
         "exponentformat": "e",
         "showexponent": "all",
         "title": {
          "text": "Peak-to-peak amplitude in Tesla"
         }
        },
        "yaxis": {
         "showticklabels": false,
         "visible": false
        }
       }
      }
     },
     "metadata": {},
     "output_type": "display_data"
    },
    {
     "data": {
      "application/vnd.plotly.v1+json": {
       "config": {
        "plotlyServerURL": "https://plot.ly"
       },
       "data": [
        {
         "boxpoints": "all",
         "hovertemplate": "Epoch: %{text}<br>Amplitude: %{y: .2e}",
         "line": {
          "width": 1
         },
         "marker": {
          "size": 3
         },
         "name": "MEG0111",
         "opacity": 0.7,
         "pointpos": 0,
         "text": [
          0,
          1,
          2,
          3,
          4,
          5,
          6,
          7,
          8
         ],
         "type": "box",
         "y": [
          1.1820946163061889e-12,
          1.169197124389243e-12,
          8.819989329521448e-13,
          1.2069189980698e-12,
          1.1151230734568444e-12,
          1.1725471222897486e-12,
          1.59665685649373e-12,
          1.2222874125453238e-12,
          1.267618958311179e-12
         ]
        },
        {
         "boxpoints": "all",
         "hovertemplate": "Epoch: %{text}<br>Amplitude: %{y: .2e}",
         "line": {
          "width": 1
         },
         "marker": {
          "size": 3
         },
         "name": "MEG0121",
         "opacity": 0.7,
         "pointpos": 0,
         "text": [
          0,
          1,
          2,
          3,
          4,
          5,
          6,
          7,
          8
         ],
         "type": "box",
         "y": [
          1.4660697508346546e-12,
          1.050737609343908e-12,
          9.848814363312586e-13,
          1.1398882320432859e-12,
          1.080230751574393e-12,
          1.4124947100061854e-12,
          1.2147331672796843e-12,
          1.2751934508168767e-12,
          1.050520457694286e-12
         ]
        },
        {
         "boxpoints": "all",
         "hovertemplate": "Epoch: %{text}<br>Amplitude: %{y: .2e}",
         "line": {
          "width": 1
         },
         "marker": {
          "size": 3
         },
         "name": "MEG0131",
         "opacity": 0.7,
         "pointpos": 0,
         "text": [
          0,
          1,
          2,
          3,
          4,
          5,
          6,
          7,
          8
         ],
         "type": "box",
         "y": [
          1.5453301029467012e-12,
          1.143086283610447e-12,
          1.051233329271328e-12,
          1.3612118254792822e-12,
          1.116504947590803e-12,
          8.595445123307941e-13,
          1.4383335628602024e-12,
          1.1370850016572558e-12,
          1.1031303800799906e-12
         ]
        },
        {
         "boxpoints": "all",
         "hovertemplate": "Epoch: %{text}<br>Amplitude: %{y: .2e}",
         "line": {
          "width": 1
         },
         "marker": {
          "size": 3
         },
         "name": "MEG0141",
         "opacity": 0.7,
         "pointpos": 0,
         "text": [
          0,
          1,
          2,
          3,
          4,
          5,
          6,
          7,
          8
         ],
         "type": "box",
         "y": [
          1.212552250279151e-12,
          1.2988827216847362e-12,
          1.0688993836759336e-12,
          1.33982567816802e-12,
          1.3154783719982755e-12,
          1.3377528669670823e-12,
          1.8626676272807357e-12,
          1.0039391510358506e-12,
          1.3042635703532929e-12
         ]
        },
        {
         "boxpoints": "all",
         "hovertemplate": "Epoch: %{text}<br>Amplitude: %{y: .2e}",
         "line": {
          "width": 1
         },
         "marker": {
          "size": 3
         },
         "name": "MEG0211",
         "opacity": 0.7,
         "pointpos": 0,
         "text": [
          0,
          1,
          2,
          3,
          4,
          5,
          6,
          7,
          8
         ],
         "type": "box",
         "y": [
          1.5346699310561644e-12,
          1.29205231525117e-12,
          1.4217814441127878e-12,
          1.5169029779052698e-12,
          1.014731995630978e-12,
          9.846182222105045e-13,
          1.3434975151525383e-12,
          1.279089019804036e-12,
          1.1634064137326554e-12
         ]
        },
        {
         "boxpoints": "all",
         "hovertemplate": "Epoch: %{text}<br>Amplitude: %{y: .2e}",
         "line": {
          "width": 1
         },
         "marker": {
          "size": 3
         },
         "name": "MEG0221",
         "opacity": 0.7,
         "pointpos": 0,
         "text": [
          0,
          1,
          2,
          3,
          4,
          5,
          6,
          7,
          8
         ],
         "type": "box",
         "y": [
          1.3033705224435919e-12,
          1.3265160483514727e-12,
          1.6630475566439107e-12,
          1.4950359586426302e-12,
          1.0881271751970129e-12,
          1.176627861490529e-12,
          1.551586500124623e-12,
          1.361869860781167e-12,
          1.2171020943664702e-12
         ]
        },
        {
         "boxpoints": "all",
         "hovertemplate": "Epoch: %{text}<br>Amplitude: %{y: .2e}",
         "line": {
          "width": 1
         },
         "marker": {
          "size": 3
         },
         "name": "MEG0231",
         "opacity": 0.7,
         "pointpos": 0,
         "text": [
          0,
          1,
          2,
          3,
          4,
          5,
          6,
          7,
          8
         ],
         "type": "box",
         "y": [
          1.8257408795899565e-12,
          1.213206525379311e-12,
          1.6779900198067144e-12,
          1.7560210423320576e-12,
          1.373864904284099e-12,
          1.4066914653438473e-12,
          1.4423945807232642e-12,
          1.8277851759278126e-12,
          1.1908370853169465e-12
         ]
        },
        {
         "boxpoints": "all",
         "hovertemplate": "Epoch: %{text}<br>Amplitude: %{y: .2e}",
         "line": {
          "width": 1
         },
         "marker": {
          "size": 3
         },
         "name": "MEG0241",
         "opacity": 0.7,
         "pointpos": 0,
         "text": [
          0,
          1,
          2,
          3,
          4,
          5,
          6,
          7,
          8
         ],
         "type": "box",
         "y": [
          1.419920538685639e-12,
          1.081810036298917e-12,
          1.3849719616873446e-12,
          1.730752486739674e-12,
          1.092449428127289e-12,
          1.2646481359972144e-12,
          1.4555980163260212e-12,
          1.1828184551382623e-12,
          1.1393821430747453e-12
         ]
        },
        {
         "boxpoints": "all",
         "hovertemplate": "Epoch: %{text}<br>Amplitude: %{y: .2e}",
         "line": {
          "width": 1
         },
         "marker": {
          "size": 3
         },
         "name": "MEG0311",
         "opacity": 0.7,
         "pointpos": 0,
         "text": [
          0,
          1,
          2,
          3,
          4,
          5,
          6,
          7,
          8
         ],
         "type": "box",
         "y": [
          8.867119697943313e-13,
          7.359976262967014e-13,
          7.403172602844091e-13,
          8.761440937643186e-13,
          1.0296936403896261e-12,
          9.34792985579595e-13,
          9.92372648741665e-13,
          8.982445084850813e-13,
          1.00424960871674e-12
         ]
        },
        {
         "boxpoints": "all",
         "hovertemplate": "Epoch: %{text}<br>Amplitude: %{y: .2e}",
         "line": {
          "width": 1
         },
         "marker": {
          "size": 3
         },
         "name": "MEG0321",
         "opacity": 0.7,
         "pointpos": 0,
         "text": [
          0,
          1,
          2,
          3,
          4,
          5,
          6,
          7,
          8
         ],
         "type": "box",
         "y": [
          1.096454312835412e-12,
          1.109096566817081e-12,
          1.30174865896424e-12,
          9.743275624510263e-13,
          9.80660609894882e-13,
          8.531822510119975e-13,
          1.1439661708141103e-12,
          1.0968132411818947e-12,
          9.534931524313447e-13
         ]
        },
        {
         "boxpoints": "all",
         "hovertemplate": "Epoch: %{text}<br>Amplitude: %{y: .2e}",
         "line": {
          "width": 1
         },
         "marker": {
          "size": 3
         },
         "name": "MEG0331",
         "opacity": 0.7,
         "pointpos": 0,
         "text": [
          0,
          1,
          2,
          3,
          4,
          5,
          6,
          7,
          8
         ],
         "type": "box",
         "y": [
          9.214750347424838e-13,
          1.2040993168012228e-12,
          1.0664684132606841e-12,
          8.571567842353828e-13,
          1.0561905285455282e-12,
          8.981129014247044e-13,
          1.0881271751970129e-12,
          1.1216661955309823e-12,
          8.764635399926883e-13
         ]
        },
        {
         "boxpoints": "all",
         "hovertemplate": "Epoch: %{text}<br>Amplitude: %{y: .2e}",
         "line": {
          "width": 1
         },
         "marker": {
          "size": 3
         },
         "name": "MEG0341",
         "opacity": 0.7,
         "pointpos": 0,
         "text": [
          0,
          1,
          2,
          3,
          4,
          5,
          6,
          7,
          8
         ],
         "type": "box",
         "y": [
          1.5707960691296501e-12,
          1.1603004871077582e-12,
          1.1282936500240724e-12,
          1.2283150159105904e-12,
          1.073575194521042e-12,
          1.3033836831496295e-12,
          1.1032619871403675e-12,
          1.2084399569380204e-12,
          1.0088040106243318e-12
         ]
        },
        {
         "boxpoints": "all",
         "hovertemplate": "Epoch: %{text}<br>Amplitude: %{y: .2e}",
         "line": {
          "width": 1
         },
         "marker": {
          "size": 3
         },
         "name": "MEG0411",
         "opacity": 0.7,
         "pointpos": 0,
         "text": [
          0,
          1,
          2,
          3,
          4,
          5,
          6,
          7,
          8
         ],
         "type": "box",
         "y": [
          1.547830637093864e-12,
          1.378399707564518e-12,
          1.7532490111022987e-12,
          1.3577203675833983e-12,
          1.6493475377573934e-12,
          1.2354518787847486e-12,
          1.443635447292533e-12,
          1.4201414176680898e-12,
          1.2084160283815884e-12
         ]
        },
        {
         "boxpoints": "all",
         "hovertemplate": "Epoch: %{text}<br>Amplitude: %{y: .2e}",
         "line": {
          "width": 1
         },
         "marker": {
          "size": 3
         },
         "name": "MEG0421",
         "opacity": 0.7,
         "pointpos": 0,
         "text": [
          0,
          1,
          2,
          3,
          4,
          5,
          6,
          7,
          8
         ],
         "type": "box",
         "y": [
          1.362983458984357e-12,
          1.0997461985274392e-12,
          1.1998615694570835e-12,
          1.3311678136960761e-12,
          1.3394764132770195e-12,
          1.2943225370426733e-12,
          1.0791120915611886e-12,
          1.384664203638463e-12,
          9.158922411224579e-13
         ]
        },
        {
         "boxpoints": "all",
         "hovertemplate": "Epoch: %{text}<br>Amplitude: %{y: .2e}",
         "line": {
          "width": 1
         },
         "marker": {
          "size": 3
         },
         "name": "MEG0431",
         "opacity": 0.7,
         "pointpos": 0,
         "text": [
          0,
          1,
          2,
          3,
          4,
          5,
          6,
          7,
          8
         ],
         "type": "box",
         "y": [
          1.8453064625660035e-12,
          1.4488884491024376e-12,
          1.775554720566195e-12,
          1.5031406395915609e-12,
          1.6360073675464523e-12,
          1.514677622157077e-12,
          1.311122178299797e-12,
          1.7558774709934646e-12,
          1.185438983958122e-12
         ]
        },
        {
         "boxpoints": "all",
         "hovertemplate": "Epoch: %{text}<br>Amplitude: %{y: .2e}",
         "line": {
          "width": 1
         },
         "marker": {
          "size": 3
         },
         "name": "MEG0441",
         "opacity": 0.7,
         "pointpos": 0,
         "text": [
          0,
          1,
          2,
          3,
          4,
          5,
          6,
          7,
          8
         ],
         "type": "box",
         "y": [
          1.7560928280013542e-12,
          1.0579891583706806e-12,
          1.7642979300019491e-12,
          1.5729675856258706e-12,
          1.4051382127851121e-12,
          1.6849651940066953e-12,
          1.410301258999902e-12,
          1.8125450783361563e-12,
          1.253905621721308e-12
         ]
        },
        {
         "boxpoints": "all",
         "hovertemplate": "Epoch: %{text}<br>Amplitude: %{y: .2e}",
         "line": {
          "width": 1
         },
         "marker": {
          "size": 3
         },
         "name": "MEG0511",
         "opacity": 0.7,
         "pointpos": 0,
         "text": [
          0,
          1,
          2,
          3,
          4,
          5,
          6,
          7,
          8
         ],
         "type": "box",
         "y": [
          8.499622649347737e-13,
          7.543190272567972e-13,
          5.716341514334164e-13,
          8.479630910176183e-13,
          9.32680435883154e-13,
          8.54718182822515e-13,
          1.0126124292901695e-12,
          6.960697423339382e-13,
          7.281489633008313e-13
         ]
        },
        {
         "boxpoints": "all",
         "hovertemplate": "Epoch: %{text}<br>Amplitude: %{y: .2e}",
         "line": {
          "width": 1
         },
         "marker": {
          "size": 3
         },
         "name": "MEG0521",
         "opacity": 0.7,
         "pointpos": 0,
         "text": [
          0,
          1,
          2,
          3,
          4,
          5,
          6,
          7,
          8
         ],
         "type": "box",
         "y": [
          6.799807792028503e-13,
          6.878574617664136e-13,
          5.538025100664042e-13,
          8.203998952505781e-13,
          8.333460299271753e-13,
          8.734899130969069e-13,
          7.426414755690852e-13,
          7.646445411938039e-13,
          5.938453886976315e-13
         ]
        },
        {
         "boxpoints": "all",
         "hovertemplate": "Epoch: %{text}<br>Amplitude: %{y: .2e}",
         "line": {
          "width": 1
         },
         "marker": {
          "size": 3
         },
         "name": "MEG0531",
         "opacity": 0.7,
         "pointpos": 0,
         "text": [
          0,
          1,
          2,
          3,
          4,
          5,
          6,
          7,
          8
         ],
         "type": "box",
         "y": [
          6.737507332123569e-13,
          6.425232163685507e-13,
          7.151928204113262e-13,
          8.142792039645571e-13,
          8.145033605061025e-13,
          7.91987360792337e-13,
          8.109627060430568e-13,
          6.162272304191015e-13,
          5.691668692080908e-13
         ]
        },
        {
         "boxpoints": "all",
         "hovertemplate": "Epoch: %{text}<br>Amplitude: %{y: .2e}",
         "line": {
          "width": 1
         },
         "marker": {
          "size": 3
         },
         "name": "MEG0541",
         "opacity": 0.7,
         "pointpos": 0,
         "text": [
          0,
          1,
          2,
          3,
          4,
          5,
          6,
          7,
          8
         ],
         "type": "box",
         "y": [
          8.380361584634676e-13,
          8.075590751712379e-13,
          7.060578781714861e-13,
          8.067797356916149e-13,
          8.127242159281027e-13,
          8.630487310922607e-13,
          8.242813405532089e-13,
          6.521728055591016e-13,
          7.363744045743936e-13
         ]
        },
        {
         "boxpoints": "all",
         "hovertemplate": "Epoch: %{text}<br>Amplitude: %{y: .2e}",
         "line": {
          "width": 1
         },
         "marker": {
          "size": 3
         },
         "name": "MEG0611",
         "opacity": 0.7,
         "pointpos": 0,
         "text": [
          0,
          1,
          2,
          3,
          4,
          5,
          6,
          7,
          8
         ],
         "type": "box",
         "y": [
          8.144857258131487e-13,
          7.697974028946097e-13,
          8.385061836790997e-13,
          7.756347934009881e-13,
          8.893463228852389e-13,
          7.892595053590683e-13,
          9.626651521776186e-13,
          7.761921206914541e-13,
          6.961912257742862e-13
         ]
        },
        {
         "boxpoints": "all",
         "hovertemplate": "Epoch: %{text}<br>Amplitude: %{y: .2e}",
         "line": {
          "width": 1
         },
         "marker": {
          "size": 3
         },
         "name": "MEG0621",
         "opacity": 0.7,
         "pointpos": 0,
         "text": [
          0,
          1,
          2,
          3,
          4,
          5,
          6,
          7,
          8
         ],
         "type": "box",
         "y": [
          9.288168286106578e-13,
          7.419098429155951e-13,
          9.162483543446546e-13,
          1.012393294089159e-12,
          9.605640408570544e-13,
          8.767108227324493e-13,
          9.708137859861782e-13,
          9.453006129228767e-13,
          8.951536226670845e-13
         ]
        },
        {
         "boxpoints": "all",
         "hovertemplate": "Epoch: %{text}<br>Amplitude: %{y: .2e}",
         "line": {
          "width": 1
         },
         "marker": {
          "size": 3
         },
         "name": "MEG0631",
         "opacity": 0.7,
         "pointpos": 0,
         "text": [
          0,
          1,
          2,
          3,
          4,
          5,
          6,
          7,
          8
         ],
         "type": "box",
         "y": [
          1.4163551837772438e-12,
          9.77066299422401e-13,
          1.2178541347114815e-12,
          1.2828868235463436e-12,
          1.2192078073325021e-12,
          1.2983156148972936e-12,
          1.1099213043954436e-12,
          1.442518667380191e-12,
          8.899269422692551e-13
         ]
        },
        {
         "boxpoints": "all",
         "hovertemplate": "Epoch: %{text}<br>Amplitude: %{y: .2e}",
         "line": {
          "width": 1
         },
         "marker": {
          "size": 3
         },
         "name": "MEG0641",
         "opacity": 0.7,
         "pointpos": 0,
         "text": [
          0,
          1,
          2,
          3,
          4,
          5,
          6,
          7,
          8
         ],
         "type": "box",
         "y": [
          9.452378004622422e-13,
          8.853326594342762e-13,
          1.0738792803996772e-12,
          1.0016613365293257e-12,
          9.978315710723551e-13,
          8.942304931435829e-13,
          1.04577075888528e-12,
          1.0952339564573707e-12,
          7.603378568180386e-13
         ]
        },
        {
         "boxpoints": "all",
         "hovertemplate": "Epoch: %{text}<br>Amplitude: %{y: .2e}",
         "line": {
          "width": 1
         },
         "marker": {
          "size": 3
         },
         "name": "MEG0711",
         "opacity": 0.7,
         "pointpos": 0,
         "text": [
          0,
          1,
          2,
          3,
          4,
          5,
          6,
          7,
          8
         ],
         "type": "box",
         "y": [
          1.5941187203293165e-12,
          1.5603897108555547e-12,
          1.5767943139968324e-12,
          1.4913524071835071e-12,
          1.6160334652292357e-12,
          1.4947929917619343e-12,
          1.3377669677235514e-12,
          1.9991112471265877e-12,
          1.2460062950017682e-12
         ]
        },
        {
         "boxpoints": "all",
         "hovertemplate": "Epoch: %{text}<br>Amplitude: %{y: .2e}",
         "line": {
          "width": 1
         },
         "marker": {
          "size": 3
         },
         "name": "MEG0721",
         "opacity": 0.7,
         "pointpos": 0,
         "text": [
          0,
          1,
          2,
          3,
          4,
          5,
          6,
          7,
          8
         ],
         "type": "box",
         "y": [
          1.6115164900381146e-12,
          1.2876246777199155e-12,
          1.6191920346782836e-12,
          1.5739007993267257e-12,
          1.6565978903563443e-12,
          1.5237465450448736e-12,
          1.146718638476852e-12,
          1.7568226489725358e-12,
          1.4740366782396193e-12
         ]
        },
        {
         "boxpoints": "all",
         "hovertemplate": "Epoch: %{text}<br>Amplitude: %{y: .2e}",
         "line": {
          "width": 1
         },
         "marker": {
          "size": 3
         },
         "name": "MEG0731",
         "opacity": 0.7,
         "pointpos": 0,
         "text": [
          0,
          1,
          2,
          3,
          4,
          5,
          6,
          7,
          8
         ],
         "type": "box",
         "y": [
          1.5826255191335365e-12,
          1.3529003334354732e-12,
          1.6876631387444237e-12,
          1.2453318088173361e-12,
          1.5331265391662887e-12,
          1.7187694075149583e-12,
          1.3209998863950015e-12,
          1.7123394625651106e-12,
          1.4353066004715314e-12
         ]
        },
        {
         "boxpoints": "all",
         "hovertemplate": "Epoch: %{text}<br>Amplitude: %{y: .2e}",
         "line": {
          "width": 1
         },
         "marker": {
          "size": 3
         },
         "name": "MEG0741",
         "opacity": 0.7,
         "pointpos": 0,
         "text": [
          0,
          1,
          2,
          3,
          4,
          5,
          6,
          7,
          8
         ],
         "type": "box",
         "y": [
          1.4672769925231129e-12,
          1.4917559057532344e-12,
          1.5062691274268085e-12,
          1.2813789826545957e-12,
          1.8237448391742386e-12,
          1.6722933141932529e-12,
          1.2806419831164844e-12,
          2.0653885627324433e-12,
          1.251138970356471e-12
         ]
        },
        {
         "boxpoints": "all",
         "hovertemplate": "Epoch: %{text}<br>Amplitude: %{y: .2e}",
         "line": {
          "width": 1
         },
         "marker": {
          "size": 3
         },
         "name": "MEG0811",
         "opacity": 0.7,
         "pointpos": 0,
         "text": [
          0,
          1,
          2,
          3,
          4,
          5,
          6,
          7,
          8
         ],
         "type": "box",
         "y": [
          5.928198032428527e-13,
          5.297560200346643e-13,
          5.201182165050485e-13,
          8.732128456013764e-13,
          7.84553555927406e-13,
          7.52488676755554e-13,
          6.995385284253033e-13,
          9.090057206348753e-13,
          6.24692939240779e-13
         ]
        },
        {
         "boxpoints": "all",
         "hovertemplate": "Epoch: %{text}<br>Amplitude: %{y: .2e}",
         "line": {
          "width": 1
         },
         "marker": {
          "size": 3
         },
         "name": "MEG0821",
         "opacity": 0.7,
         "pointpos": 0,
         "text": [
          0,
          1,
          2,
          3,
          4,
          5,
          6,
          7,
          8
         ],
         "type": "box",
         "y": [
          6.617202995755419e-13,
          6.521623368156625e-13,
          7.885966196741228e-13,
          8.26128484353559e-13,
          8.773939006733534e-13,
          6.666862726537674e-13,
          7.087399129647782e-13,
          7.980717944791299e-13,
          5.719449304189627e-13
         ]
        },
        {
         "boxpoints": "all",
         "hovertemplate": "Epoch: %{text}<br>Amplitude: %{y: .2e}",
         "line": {
          "width": 1
         },
         "marker": {
          "size": 3
         },
         "name": "MEG0911",
         "opacity": 0.7,
         "pointpos": 0,
         "text": [
          0,
          1,
          2,
          3,
          4,
          5,
          6,
          7,
          8
         ],
         "type": "box",
         "y": [
          7.662886893980851e-13,
          6.560844207546917e-13,
          5.891225548950809e-13,
          9.169202430213161e-13,
          8.679188454629857e-13,
          6.199256574015327e-13,
          6.515301529006373e-13,
          9.959450124720814e-13,
          8.925179562704272e-13
         ]
        },
        {
         "boxpoints": "all",
         "hovertemplate": "Epoch: %{text}<br>Amplitude: %{y: .2e}",
         "line": {
          "width": 1
         },
         "marker": {
          "size": 3
         },
         "name": "MEG0921",
         "opacity": 0.7,
         "pointpos": 0,
         "text": [
          0,
          1,
          2,
          3,
          4,
          5,
          6,
          7,
          8
         ],
         "type": "box",
         "y": [
          8.470815326131882e-13,
          8.247299489677113e-13,
          6.362695188226365e-13,
          8.694194656258042e-13,
          6.551211455480668e-13,
          6.861992128056634e-13,
          7.331701971931182e-13,
          1.0481186288424058e-12,
          1.135258953694525e-12
         ]
        },
        {
         "boxpoints": "all",
         "hovertemplate": "Epoch: %{text}<br>Amplitude: %{y: .2e}",
         "line": {
          "width": 1
         },
         "marker": {
          "size": 3
         },
         "name": "MEG0931",
         "opacity": 0.7,
         "pointpos": 0,
         "text": [
          0,
          1,
          2,
          3,
          4,
          5,
          6,
          7,
          8
         ],
         "type": "box",
         "y": [
          8.202709144951753e-13,
          8.243562553414235e-13,
          8.174013283815006e-13,
          9.23855242434445e-13,
          7.834448661460483e-13,
          8.542351074950135e-13,
          7.074255515436105e-13,
          7.599931716599083e-13,
          8.961763975363e-13
         ]
        },
        {
         "boxpoints": "all",
         "hovertemplate": "Epoch: %{text}<br>Amplitude: %{y: .2e}",
         "line": {
          "width": 1
         },
         "marker": {
          "size": 3
         },
         "name": "MEG0941",
         "opacity": 0.7,
         "pointpos": 0,
         "text": [
          0,
          1,
          2,
          3,
          4,
          5,
          6,
          7,
          8
         ],
         "type": "box",
         "y": [
          7.415639102506229e-13,
          7.251549026772546e-13,
          7.000816349809145e-13,
          8.705700335511033e-13,
          8.396831268190427e-13,
          7.360622390470359e-13,
          7.052237445334938e-13,
          7.521935732317087e-13,
          7.757074970455953e-13
         ]
        },
        {
         "boxpoints": "all",
         "hovertemplate": "Epoch: %{text}<br>Amplitude: %{y: .2e}",
         "line": {
          "width": 1
         },
         "marker": {
          "size": 3
         },
         "name": "MEG1011",
         "opacity": 0.7,
         "pointpos": 0,
         "text": [
          0,
          1,
          2,
          3,
          4,
          5,
          6,
          7,
          8
         ],
         "type": "box",
         "y": [
          7.817283910313131e-13,
          7.704169880134415e-13,
          8.566855460514522e-13,
          8.807383765992975e-13,
          9.53556833267011e-13,
          7.129735980191046e-13,
          8.556078703709458e-13,
          9.012286985791297e-13,
          8.199295337567428e-13
         ]
        },
        {
         "boxpoints": "all",
         "hovertemplate": "Epoch: %{text}<br>Amplitude: %{y: .2e}",
         "line": {
          "width": 1
         },
         "marker": {
          "size": 3
         },
         "name": "MEG1021",
         "opacity": 0.7,
         "pointpos": 0,
         "text": [
          0,
          1,
          2,
          3,
          4,
          5,
          6,
          7,
          8
         ],
         "type": "box",
         "y": [
          7.465871124596486e-13,
          9.038697702657667e-13,
          7.823497827987402e-13,
          8.72752220890057e-13,
          9.024894343961503e-13,
          8.061261465742021e-13,
          7.625313078243218e-13,
          8.00839086014057e-13,
          8.021311796230215e-13
         ]
        },
        {
         "boxpoints": "all",
         "hovertemplate": "Epoch: %{text}<br>Amplitude: %{y: .2e}",
         "line": {
          "width": 1
         },
         "marker": {
          "size": 3
         },
         "name": "MEG1031",
         "opacity": 0.7,
         "pointpos": 0,
         "text": [
          0,
          1,
          2,
          3,
          4,
          5,
          6,
          7,
          8
         ],
         "type": "box",
         "y": [
          9.115344287275147e-13,
          9.432510264972995e-13,
          7.956962870393251e-13,
          8.716887509344299e-13,
          9.103628866045952e-13,
          1.0499423266790585e-12,
          9.626492436318587e-13,
          8.3048593272381e-13,
          8.333030045420521e-13
         ]
        },
        {
         "boxpoints": "all",
         "hovertemplate": "Epoch: %{text}<br>Amplitude: %{y: .2e}",
         "line": {
          "width": 1
         },
         "marker": {
          "size": 3
         },
         "name": "MEG1041",
         "opacity": 0.7,
         "pointpos": 0,
         "text": [
          0,
          1,
          2,
          3,
          4,
          5,
          6,
          7,
          8
         ],
         "type": "box",
         "y": [
          1.365818072592477e-12,
          9.967918752953769e-13,
          1.1856216855242924e-12,
          1.3060120641554445e-12,
          1.184645768553497e-12,
          1.3501568324076144e-12,
          1.0265815204912995e-12,
          1.231315656887186e-12,
          1.0007927299308375e-12
         ]
        },
        {
         "boxpoints": "all",
         "hovertemplate": "Epoch: %{text}<br>Amplitude: %{y: .2e}",
         "line": {
          "width": 1
         },
         "marker": {
          "size": 3
         },
         "name": "MEG1111",
         "opacity": 0.7,
         "pointpos": 0,
         "text": [
          0,
          1,
          2,
          3,
          4,
          5,
          6,
          7,
          8
         ],
         "type": "box",
         "y": [
          1.2976695438736245e-12,
          1.0954031655349983e-12,
          1.1706448020533901e-12,
          1.2245660947907084e-12,
          9.994404673854639e-13,
          1.505716377773225e-12,
          1.071657491641263e-12,
          9.96185338408422e-13,
          1.3995094800489883e-12
         ]
        },
        {
         "boxpoints": "all",
         "hovertemplate": "Epoch: %{text}<br>Amplitude: %{y: .2e}",
         "line": {
          "width": 1
         },
         "marker": {
          "size": 3
         },
         "name": "MEG1121",
         "opacity": 0.7,
         "pointpos": 0,
         "text": [
          0,
          1,
          2,
          3,
          4,
          5,
          6,
          7,
          8
         ],
         "type": "box",
         "y": [
          1.1418667248509534e-12,
          1.1282742552993853e-12,
          1.4393026693957058e-12,
          9.91122648079137e-13,
          9.88369023431249e-13,
          1.5623985263155949e-12,
          1.1287674354414296e-12,
          1.164426368450577e-12,
          1.5225996835187313e-12
         ]
        },
        {
         "boxpoints": "all",
         "hovertemplate": "Epoch: %{text}<br>Amplitude: %{y: .2e}",
         "line": {
          "width": 1
         },
         "marker": {
          "size": 3
         },
         "name": "MEG1131",
         "opacity": 0.7,
         "pointpos": 0,
         "text": [
          0,
          1,
          2,
          3,
          4,
          5,
          6,
          7,
          8
         ],
         "type": "box",
         "y": [
          1.6270580874408164e-12,
          1.3764681208629848e-12,
          1.2435431492240304e-12,
          1.1214402123549403e-12,
          1.1849899716344828e-12,
          1.4331401457853255e-12,
          1.3095307452312381e-12,
          1.1116284359786195e-12,
          1.7054121454779942e-12
         ]
        },
        {
         "boxpoints": "all",
         "hovertemplate": "Epoch: %{text}<br>Amplitude: %{y: .2e}",
         "line": {
          "width": 1
         },
         "marker": {
          "size": 3
         },
         "name": "MEG1141",
         "opacity": 0.7,
         "pointpos": 0,
         "text": [
          0,
          1,
          2,
          3,
          4,
          5,
          6,
          7,
          8
         ],
         "type": "box",
         "y": [
          1.8250609097780087e-12,
          1.2559565480377713e-12,
          1.4141836672810234e-12,
          1.0912250029258868e-12,
          1.3881123086203403e-12,
          1.652114047012591e-12,
          1.0154800778689104e-12,
          1.1873588987212687e-12,
          1.556445837738543e-12
         ]
        },
        {
         "boxpoints": "all",
         "hovertemplate": "Epoch: %{text}<br>Amplitude: %{y: .2e}",
         "line": {
          "width": 1
         },
         "marker": {
          "size": 3
         },
         "name": "MEG1211",
         "opacity": 0.7,
         "pointpos": 0,
         "text": [
          0,
          1,
          2,
          3,
          4,
          5,
          6,
          7,
          8
         ],
         "type": "box",
         "y": [
          9.609421120486829e-13,
          8.817268100457653e-13,
          7.335090899881423e-13,
          1.0651147406396636e-12,
          6.866927392820772e-13,
          9.001922929786609e-13,
          8.613604685756598e-13,
          1.1994667482759525e-12,
          1.1505089218157096e-12
         ]
        },
        {
         "boxpoints": "all",
         "hovertemplate": "Epoch: %{text}<br>Amplitude: %{y: .2e}",
         "line": {
          "width": 1
         },
         "marker": {
          "size": 3
         },
         "name": "MEG1221",
         "opacity": 0.7,
         "pointpos": 0,
         "text": [
          0,
          1,
          2,
          3,
          4,
          5,
          6,
          7,
          8
         ],
         "type": "box",
         "y": [
          1.350920153357801e-12,
          1.0916366968070662e-12,
          8.687194045399332e-13,
          1.2795850771854568e-12,
          1.3539207943343964e-12,
          1.1870146956402829e-12,
          1.0609921922029194e-12,
          1.3524994380823249e-12,
          1.3405255884436614e-12
         ]
        },
        {
         "boxpoints": "all",
         "hovertemplate": "Epoch: %{text}<br>Amplitude: %{y: .2e}",
         "line": {
          "width": 1
         },
         "marker": {
          "size": 3
         },
         "name": "MEG1231",
         "opacity": 0.7,
         "pointpos": 0,
         "text": [
          0,
          1,
          2,
          3,
          4,
          5,
          6,
          7,
          8
         ],
         "type": "box",
         "y": [
          1.1062546172524185e-12,
          9.041405047899708e-13,
          9.711284985218624e-13,
          1.1479077469753172e-12,
          1.2731821852706447e-12,
          1.1039638914623782e-12,
          1.228076098477906e-12,
          1.1481399947289236e-12,
          1.1484470778698033e-12
         ]
        },
        {
         "boxpoints": "all",
         "hovertemplate": "Epoch: %{text}<br>Amplitude: %{y: .2e}",
         "line": {
          "width": 1
         },
         "marker": {
          "size": 3
         },
         "name": "MEG1241",
         "opacity": 0.7,
         "pointpos": 0,
         "text": [
          0,
          1,
          2,
          3,
          4,
          5,
          6,
          7,
          8
         ],
         "type": "box",
         "y": [
          9.704160051260283e-13,
          1.0853842069912608e-12,
          1.0864689262362627e-12,
          9.230919214842584e-13,
          9.058325955662465e-13,
          1.1333880396884838e-12,
          1.0469177144164656e-12,
          8.210202561308146e-13,
          1.1668760544153216e-12
         ]
        },
        {
         "boxpoints": "all",
         "hovertemplate": "Epoch: %{text}<br>Amplitude: %{y: .2e}",
         "line": {
          "width": 1
         },
         "marker": {
          "size": 3
         },
         "name": "MEG1311",
         "opacity": 0.7,
         "pointpos": 0,
         "text": [
          0,
          1,
          2,
          3,
          4,
          5,
          6,
          7,
          8
         ],
         "type": "box",
         "y": [
          1.1924528661170373e-12,
          9.513611180532374e-13,
          1.2819484822976815e-12,
          1.2319028268488679e-12,
          1.175514263287339e-12,
          1.2256126842708493e-12,
          9.963030490711194e-13,
          1.4176510071409558e-12,
          1.2731008985568825e-12
         ]
        },
        {
         "boxpoints": "all",
         "hovertemplate": "Epoch: %{text}<br>Amplitude: %{y: .2e}",
         "line": {
          "width": 1
         },
         "marker": {
          "size": 3
         },
         "name": "MEG1321",
         "opacity": 0.7,
         "pointpos": 0,
         "text": [
          0,
          1,
          2,
          3,
          4,
          5,
          6,
          7,
          8
         ],
         "type": "box",
         "y": [
          1.3366671087189721e-12,
          1.240686079586028e-12,
          8.504448241561559e-13,
          1.1934880275331119e-12,
          1.1646660813105495e-12,
          1.3021202553700103e-12,
          1.1288376258736307e-12,
          1.3458377279716055e-12,
          1.4519943757273348e-12
         ]
        },
        {
         "boxpoints": "all",
         "hovertemplate": "Epoch: %{text}<br>Amplitude: %{y: .2e}",
         "line": {
          "width": 1
         },
         "marker": {
          "size": 3
         },
         "name": "MEG1331",
         "opacity": 0.7,
         "pointpos": 0,
         "text": [
          0,
          1,
          2,
          3,
          4,
          5,
          6,
          7,
          8
         ],
         "type": "box",
         "y": [
          1.331687974934709e-12,
          1.1170807284799522e-12,
          9.345776285717054e-13,
          1.0264421718391355e-12,
          1.1150357572340943e-12,
          1.0539093394989935e-12,
          9.39917377972456e-13,
          1.1579541212313226e-12,
          1.4768465744377982e-12
         ]
        },
        {
         "boxpoints": "all",
         "hovertemplate": "Epoch: %{text}<br>Amplitude: %{y: .2e}",
         "line": {
          "width": 1
         },
         "marker": {
          "size": 3
         },
         "name": "MEG1341",
         "opacity": 0.7,
         "pointpos": 0,
         "text": [
          0,
          1,
          2,
          3,
          4,
          5,
          6,
          7,
          8
         ],
         "type": "box",
         "y": [
          1.4298449074658861e-12,
          1.0613722339815481e-12,
          1.0428138519472099e-12,
          1.2616905664221968e-12,
          1.0661049270939286e-12,
          1.0752142000964934e-12,
          1.179300497178185e-12,
          1.3098773303404664e-12,
          1.8502756261184196e-12
         ]
        },
        {
         "boxpoints": "all",
         "hovertemplate": "Epoch: %{text}<br>Amplitude: %{y: .2e}",
         "line": {
          "width": 1
         },
         "marker": {
          "size": 3
         },
         "name": "MEG1411",
         "opacity": 0.7,
         "pointpos": 0,
         "text": [
          0,
          1,
          2,
          3,
          4,
          5,
          6,
          7,
          8
         ],
         "type": "box",
         "y": [
          1.3729248538528348e-12,
          1.0728870776053566e-12,
          1.0640127122879354e-12,
          1.2965050207939252e-12,
          1.0879118181891233e-12,
          1.2172337014268471e-12,
          1.1780586664546277e-12,
          1.53091912983542e-12,
          1.4195137532262918e-12
         ]
        },
        {
         "boxpoints": "all",
         "hovertemplate": "Epoch: %{text}<br>Amplitude: %{y: .2e}",
         "line": {
          "width": 1
         },
         "marker": {
          "size": 3
         },
         "name": "MEG1421",
         "opacity": 0.7,
         "pointpos": 0,
         "text": [
          0,
          1,
          2,
          3,
          4,
          5,
          6,
          7,
          8
         ],
         "type": "box",
         "y": [
          1.022865556433596e-12,
          7.708156259406843e-13,
          8.370647730178279e-13,
          8.499622649347737e-13,
          8.651472129011291e-13,
          8.523674316468808e-13,
          1.048532251032162e-12,
          1.1471073854859657e-12,
          1.3698859271859478e-12
         ]
        },
        {
         "boxpoints": "all",
         "hovertemplate": "Epoch: %{text}<br>Amplitude: %{y: .2e}",
         "line": {
          "width": 1
         },
         "marker": {
          "size": 3
         },
         "name": "MEG1431",
         "opacity": 0.7,
         "pointpos": 0,
         "text": [
          0,
          1,
          2,
          3,
          4,
          5,
          6,
          7,
          8
         ],
         "type": "box",
         "y": [
          1.1401220876659557e-12,
          9.068713512927935e-13,
          9.31267042411206e-13,
          1.0821785360679725e-12,
          6.916549236722007e-13,
          7.699013032054336e-13,
          9.721104896646754e-13,
          1.0596506975079401e-12,
          1.1838401415280311e-12
         ]
        },
        {
         "boxpoints": "all",
         "hovertemplate": "Epoch: %{text}<br>Amplitude: %{y: .2e}",
         "line": {
          "width": 1
         },
         "marker": {
          "size": 3
         },
         "name": "MEG1441",
         "opacity": 0.7,
         "pointpos": 0,
         "text": [
          0,
          1,
          2,
          3,
          4,
          5,
          6,
          7,
          8
         ],
         "type": "box",
         "y": [
          1.3051208963466059e-12,
          1.1377869059792665e-12,
          8.12838106653429e-13,
          1.3572197446478466e-12,
          1.0524717854548756e-12,
          1.1700807717946315e-12,
          9.593167648530269e-13,
          1.353805937263522e-12,
          1.4999256671166371e-12
         ]
        },
        {
         "boxpoints": "all",
         "hovertemplate": "Epoch: %{text}<br>Amplitude: %{y: .2e}",
         "line": {
          "width": 1
         },
         "marker": {
          "size": 3
         },
         "name": "MEG1511",
         "opacity": 0.7,
         "pointpos": 0,
         "text": [
          0,
          1,
          2,
          3,
          4,
          5,
          6,
          7,
          8
         ],
         "type": "box",
         "y": [
          1.1711831945731143e-12,
          1.1002451483717256e-12,
          1.26453327892634e-12,
          1.5860325774378415e-12,
          1.0370064153097045e-12,
          9.88692979272177e-13,
          1.3528679378513804e-12,
          1.0730675672881594e-12,
          1.1118628956155937e-12
         ]
        },
        {
         "boxpoints": "all",
         "hovertemplate": "Epoch: %{text}<br>Amplitude: %{y: .2e}",
         "line": {
          "width": 1
         },
         "marker": {
          "size": 3
         },
         "name": "MEG1521",
         "opacity": 0.7,
         "pointpos": 0,
         "text": [
          0,
          1,
          2,
          3,
          4,
          5,
          6,
          7,
          8
         ],
         "type": "box",
         "y": [
          1.3272196018847662e-12,
          1.0202743350683581e-12,
          1.1708318226128733e-12,
          1.545837730179584e-12,
          1.0976746692134532e-12,
          9.405016554712727e-13,
          1.3417076591314112e-12,
          1.1030696383598165e-12,
          1.0909896287602126e-12
         ]
        },
        {
         "boxpoints": "all",
         "hovertemplate": "Epoch: %{text}<br>Amplitude: %{y: .2e}",
         "line": {
          "width": 1
         },
         "marker": {
          "size": 3
         },
         "name": "MEG1531",
         "opacity": 0.7,
         "pointpos": 0,
         "text": [
          0,
          1,
          2,
          3,
          4,
          5,
          6,
          7,
          8
         ],
         "type": "box",
         "y": [
          1.2937851415461339e-12,
          1.3274326799825194e-12,
          1.4330214233322582e-12,
          1.5449120569902096e-12,
          1.2675784638310631e-12,
          9.938031214081056e-13,
          1.344637561313054e-12,
          1.0135179362414715e-12,
          9.749929603856597e-13
         ]
        },
        {
         "boxpoints": "all",
         "hovertemplate": "Epoch: %{text}<br>Amplitude: %{y: .2e}",
         "line": {
          "width": 1
         },
         "marker": {
          "size": 3
         },
         "name": "MEG1541",
         "opacity": 0.7,
         "pointpos": 0,
         "text": [
          0,
          1,
          2,
          3,
          4,
          5,
          6,
          7,
          8
         ],
         "type": "box",
         "y": [
          1.1277486419622758e-12,
          1.1299406183796473e-12,
          1.139532892980268e-12,
          1.457376092134751e-12,
          1.0942648499218674e-12,
          1.2485681460747886e-12,
          1.3899961696845939e-12,
          9.513611180532374e-13,
          8.662376714013956e-13
         ]
        },
        {
         "boxpoints": "all",
         "hovertemplate": "Epoch: %{text}<br>Amplitude: %{y: .2e}",
         "line": {
          "width": 1
         },
         "marker": {
          "size": 3
         },
         "name": "MEG1611",
         "opacity": 0.7,
         "pointpos": 0,
         "text": [
          0,
          1,
          2,
          3,
          4,
          5,
          6,
          7,
          8
         ],
         "type": "box",
         "y": [
          1.4013998360071306e-12,
          9.8059224259079e-13,
          1.2126119711300785e-12,
          1.6637764572859987e-12,
          1.2146892982595586e-12,
          1.3772080654541952e-12,
          1.4857614572435628e-12,
          1.3041302541103135e-12,
          1.0836386817694184e-12
         ]
        },
        {
         "boxpoints": "all",
         "hovertemplate": "Epoch: %{text}<br>Amplitude: %{y: .2e}",
         "line": {
          "width": 1
         },
         "marker": {
          "size": 3
         },
         "name": "MEG1621",
         "opacity": 0.7,
         "pointpos": 0,
         "text": [
          0,
          1,
          2,
          3,
          4,
          5,
          6,
          7,
          8
         ],
         "type": "box",
         "y": [
          1.6145314881485696e-12,
          1.0994334181112185e-12,
          1.5394436780643845e-12,
          1.4870180515796625e-12,
          1.5851412387107428e-12,
          1.8733826354464294e-12,
          1.4448025560587334e-12,
          1.6252155885955384e-12,
          1.2924189349193631e-12
         ]
        },
        {
         "boxpoints": "all",
         "hovertemplate": "Epoch: %{text}<br>Amplitude: %{y: .2e}",
         "line": {
          "width": 1
         },
         "marker": {
          "size": 3
         },
         "name": "MEG1631",
         "opacity": 0.7,
         "pointpos": 0,
         "text": [
          0,
          1,
          2,
          3,
          4,
          5,
          6,
          7,
          8
         ],
         "type": "box",
         "y": [
          1.6266632662596854e-12,
          1.25074414917534e-12,
          1.4526260896171443e-12,
          1.5961304282522222e-12,
          1.8012306313454595e-12,
          2.2042076900181e-12,
          1.5800743668862284e-12,
          1.4212904485413812e-12,
          1.5278263639165606e-12
         ]
        },
        {
         "boxpoints": "all",
         "hovertemplate": "Epoch: %{text}<br>Amplitude: %{y: .2e}",
         "line": {
          "width": 1
         },
         "marker": {
          "size": 3
         },
         "name": "MEG1641",
         "opacity": 0.7,
         "pointpos": 0,
         "text": [
          0,
          1,
          2,
          3,
          4,
          5,
          6,
          7,
          8
         ],
         "type": "box",
         "y": [
          1.8169670755648234e-12,
          1.0693731690932908e-12,
          1.3250806255957819e-12,
          1.6559458371935674e-12,
          1.425995400949859e-12,
          1.4856817337358344e-12,
          1.3609222899464526e-12,
          1.0889168175592749e-12,
          1.0695893806924816e-12
         ]
        },
        {
         "boxpoints": "all",
         "hovertemplate": "Epoch: %{text}<br>Amplitude: %{y: .2e}",
         "line": {
          "width": 1
         },
         "marker": {
          "size": 3
         },
         "name": "MEG1711",
         "opacity": 0.7,
         "pointpos": 0,
         "text": [
          0,
          1,
          2,
          3,
          4,
          5,
          6,
          7,
          8
         ],
         "type": "box",
         "y": [
          1.2127327399619538e-12,
          1.2950134741096525e-12,
          1.2077276222196163e-12,
          1.4608834926053696e-12,
          1.2607298348814448e-12,
          1.1302715161314524e-12,
          1.2888002355223806e-12,
          1.2894859775738186e-12,
          1.673467522641032e-12
         ]
        },
        {
         "boxpoints": "all",
         "hovertemplate": "Epoch: %{text}<br>Amplitude: %{y: .2e}",
         "line": {
          "width": 1
         },
         "marker": {
          "size": 3
         },
         "name": "MEG1721",
         "opacity": 0.7,
         "pointpos": 0,
         "text": [
          0,
          1,
          2,
          3,
          4,
          5,
          6,
          7,
          8
         ],
         "type": "box",
         "y": [
          1.458732657218637e-12,
          9.604362273483067e-13,
          1.2073871004550046e-12,
          1.4877469522217504e-12,
          1.2855904085866594e-12,
          9.243351881822878e-13,
          1.1730926933764023e-12,
          1.352610917004056e-12,
          1.157681506606256e-12
         ]
        },
        {
         "boxpoints": "all",
         "hovertemplate": "Epoch: %{text}<br>Amplitude: %{y: .2e}",
         "line": {
          "width": 1
         },
         "marker": {
          "size": 3
         },
         "name": "MEG1731",
         "opacity": 0.7,
         "pointpos": 0,
         "text": [
          0,
          1,
          2,
          3,
          4,
          5,
          6,
          7,
          8
         ],
         "type": "box",
         "y": [
          1.1564124385240491e-12,
          7.867680640633496e-13,
          8.269134817607488e-13,
          1.2115369958133857e-12,
          1.1580387257701363e-12,
          8.621099954168443e-13,
          8.921044409045836e-13,
          1.3303151326578353e-12,
          1.0500175307135596e-12
         ]
        },
        {
         "boxpoints": "all",
         "hovertemplate": "Epoch: %{text}<br>Amplitude: %{y: .2e}",
         "line": {
          "width": 1
         },
         "marker": {
          "size": 3
         },
         "name": "MEG1741",
         "opacity": 0.7,
         "pointpos": 0,
         "text": [
          0,
          1,
          2,
          3,
          4,
          5,
          6,
          7,
          8
         ],
         "type": "box",
         "y": [
          1.1590127626400693e-12,
          1.040365776558379e-12,
          9.080887166012807e-13,
          1.4075734035666333e-12,
          9.547227383954383e-13,
          7.929701407886588e-13,
          1.0622720281355204e-12,
          1.1575875015631295e-12,
          1.4026388034846192e-12
         ]
        },
        {
         "boxpoints": "all",
         "hovertemplate": "Epoch: %{text}<br>Amplitude: %{y: .2e}",
         "line": {
          "width": 1
         },
         "marker": {
          "size": 3
         },
         "name": "MEG1811",
         "opacity": 0.7,
         "pointpos": 0,
         "text": [
          0,
          1,
          2,
          3,
          4,
          5,
          6,
          7,
          8
         ],
         "type": "box",
         "y": [
          1.5944094128472922e-12,
          1.178409618615633e-12,
          1.5699912413373447e-12,
          1.3230019089498273e-12,
          1.8120976143308746e-12,
          1.8461231012483428e-12,
          1.3267206520404799e-12,
          1.7776671826122463e-12,
          1.3494987971057293e-12
         ]
        },
        {
         "boxpoints": "all",
         "hovertemplate": "Epoch: %{text}<br>Amplitude: %{y: .2e}",
         "line": {
          "width": 1
         },
         "marker": {
          "size": 3
         },
         "name": "MEG1821",
         "opacity": 0.7,
         "pointpos": 0,
         "text": [
          0,
          1,
          2,
          3,
          4,
          5,
          6,
          7,
          8
         ],
         "type": "box",
         "y": [
          1.6979464358711536e-12,
          1.3988210738870163e-12,
          1.6296782643701402e-12,
          1.3884873887424148e-12,
          2.0212475546819985e-12,
          1.7764321009687082e-12,
          1.0854950339894729e-12,
          2.255481800740978e-12,
          1.3333111286793587e-12
         ]
        },
        {
         "boxpoints": "all",
         "hovertemplate": "Epoch: %{text}<br>Amplitude: %{y: .2e}",
         "line": {
          "width": 1
         },
         "marker": {
          "size": 3
         },
         "name": "MEG1831",
         "opacity": 0.7,
         "pointpos": 0,
         "text": [
          0,
          1,
          2,
          3,
          4,
          5,
          6,
          7,
          8
         ],
         "type": "box",
         "y": [
          1.1995193911001033e-12,
          9.88207045510785e-13,
          1.3848747749350662e-12,
          1.2792699795120542e-12,
          1.8082810095799416e-12,
          2.0014801742133736e-12,
          1.0494346994461757e-12,
          1.9150262998239023e-12,
          1.2768516997776269e-12
         ]
        },
        {
         "boxpoints": "all",
         "hovertemplate": "Epoch: %{text}<br>Amplitude: %{y: .2e}",
         "line": {
          "width": 1
         },
         "marker": {
          "size": 3
         },
         "name": "MEG1841",
         "opacity": 0.7,
         "pointpos": 0,
         "text": [
          0,
          1,
          2,
          3,
          4,
          5,
          6,
          7,
          8
         ],
         "type": "box",
         "y": [
          1.4947929917619343e-12,
          1.1206077976980559e-12,
          1.488250240760335e-12,
          1.5443148484809358e-12,
          1.933712661739249e-12,
          2.078075483352786e-12,
          1.4784737162751867e-12,
          2.0644541526037668e-12,
          1.4850743165340945e-12
         ]
        },
        {
         "boxpoints": "all",
         "hovertemplate": "Epoch: %{text}<br>Amplitude: %{y: .2e}",
         "line": {
          "width": 1
         },
         "marker": {
          "size": 3
         },
         "name": "MEG1911",
         "opacity": 0.7,
         "pointpos": 0,
         "text": [
          0,
          1,
          2,
          3,
          4,
          5,
          6,
          7,
          8
         ],
         "type": "box",
         "y": [
          1.719643654416034e-12,
          1.215575452466097e-12,
          1.2716203191276412e-12,
          1.7796385275306206e-12,
          1.6527778672402067e-12,
          1.9892078158332185e-12,
          1.8326721847698118e-12,
          1.3143033089591953e-12,
          1.5306140407409096e-12
         ]
        },
        {
         "boxpoints": "all",
         "hovertemplate": "Epoch: %{text}<br>Amplitude: %{y: .2e}",
         "line": {
          "width": 1
         },
         "marker": {
          "size": 3
         },
         "name": "MEG1921",
         "opacity": 0.7,
         "pointpos": 0,
         "text": [
          0,
          1,
          2,
          3,
          4,
          5,
          6,
          7,
          8
         ],
         "type": "box",
         "y": [
          1.6921048770321473e-12,
          9.071016636484532e-13,
          9.813675278191928e-13,
          1.5205002375555743e-12,
          1.4932137070374103e-12,
          9.24214044841157e-13,
          1.0917109366872788e-12,
          1.5823774904428258e-12,
          1.3358926517867535e-12
         ]
        },
        {
         "boxpoints": "all",
         "hovertemplate": "Epoch: %{text}<br>Amplitude: %{y: .2e}",
         "line": {
          "width": 1
         },
         "marker": {
          "size": 3
         },
         "name": "MEG1931",
         "opacity": 0.7,
         "pointpos": 0,
         "text": [
          0,
          1,
          2,
          3,
          4,
          5,
          6,
          7,
          8
         ],
         "type": "box",
         "y": [
          1.1118657987125138e-12,
          7.113002685030216e-13,
          7.951134557719412e-13,
          1.1087072292634658e-12,
          8.150544891929597e-13,
          7.256268728248135e-13,
          6.323631513074464e-13,
          1.1586685595590835e-12,
          1.090579222532458e-12
         ]
        },
        {
         "boxpoints": "all",
         "hovertemplate": "Epoch: %{text}<br>Amplitude: %{y: .2e}",
         "line": {
          "width": 1
         },
         "marker": {
          "size": 3
         },
         "name": "MEG1941",
         "opacity": 0.7,
         "pointpos": 0,
         "text": [
          0,
          1,
          2,
          3,
          4,
          5,
          6,
          7,
          8
         ],
         "type": "box",
         "y": [
          1.8750847534273054e-12,
          1.0477118433830586e-12,
          1.1591160235643652e-12,
          1.641235757126884e-12,
          1.4711037208940748e-12,
          1.2490826100380805e-12,
          1.317123460252988e-12,
          1.2459341642090615e-12,
          1.4202021593882639e-12
         ]
        },
        {
         "boxpoints": "all",
         "hovertemplate": "Epoch: %{text}<br>Amplitude: %{y: .2e}",
         "line": {
          "width": 1
         },
         "marker": {
          "size": 3
         },
         "name": "MEG2011",
         "opacity": 0.7,
         "pointpos": 0,
         "text": [
          0,
          1,
          2,
          3,
          4,
          5,
          6,
          7,
          8
         ],
         "type": "box",
         "y": [
          1.4047737624640682e-12,
          1.0933092031993572e-12,
          1.0325432193490932e-12,
          1.6290321933464714e-12,
          1.668442525790274e-12,
          2.1316834259463496e-12,
          1.1398487499251728e-12,
          1.769516748159808e-12,
          1.2078457311199546e-12
         ]
        },
        {
         "boxpoints": "all",
         "hovertemplate": "Epoch: %{text}<br>Amplitude: %{y: .2e}",
         "line": {
          "width": 1
         },
         "marker": {
          "size": 3
         },
         "name": "MEG2021",
         "opacity": 0.7,
         "pointpos": 0,
         "text": [
          0,
          1,
          2,
          3,
          4,
          5,
          6,
          7,
          8
         ],
         "type": "box",
         "y": [
          1.6168585402615992e-12,
          1.0341225040736172e-12,
          1.1430769937003026e-12,
          1.5465803700202827e-12,
          1.6560379621358312e-12,
          2.0443840758962746e-12,
          1.3335844664201416e-12,
          1.8911216719481534e-12,
          1.7035217895198519e-12
         ]
        },
        {
         "boxpoints": "all",
         "hovertemplate": "Epoch: %{text}<br>Amplitude: %{y: .2e}",
         "line": {
          "width": 1
         },
         "marker": {
          "size": 3
         },
         "name": "MEG2031",
         "opacity": 0.7,
         "pointpos": 0,
         "text": [
          0,
          1,
          2,
          3,
          4,
          5,
          6,
          7,
          8
         ],
         "type": "box",
         "y": [
          2.404145136142834e-12,
          8.721480248401444e-13,
          1.1482328938303663e-12,
          2.0231514701554523e-12,
          1.9077759472249515e-12,
          1.503479057746816e-12,
          1.1618797718322821e-12,
          2.1465350833052567e-12,
          1.675046807365556e-12
         ]
        },
        {
         "boxpoints": "all",
         "hovertemplate": "Epoch: %{text}<br>Amplitude: %{y: .2e}",
         "line": {
          "width": 1
         },
         "marker": {
          "size": 3
         },
         "name": "MEG2041",
         "opacity": 0.7,
         "pointpos": 0,
         "text": [
          0,
          1,
          2,
          3,
          4,
          5,
          6,
          7,
          8
         ],
         "type": "box",
         "y": [
          2.098982204944103e-12,
          8.248472509128299e-13,
          1.3127240242346713e-12,
          1.9954262494360316e-12,
          1.550432407441317e-12,
          1.6277687655668522e-12,
          1.1066273676842937e-12,
          1.9160671920287023e-12,
          1.1417812957064982e-12
         ]
        },
        {
         "boxpoints": "all",
         "hovertemplate": "Epoch: %{text}<br>Amplitude: %{y: .2e}",
         "line": {
          "width": 1
         },
         "marker": {
          "size": 3
         },
         "name": "MEG2111",
         "opacity": 0.7,
         "pointpos": 0,
         "text": [
          0,
          1,
          2,
          3,
          4,
          5,
          6,
          7,
          8
         ],
         "type": "box",
         "y": [
          1.7140174525849173e-12,
          7.936198200867102e-13,
          1.2378960099060356e-12,
          1.8178695239788372e-12,
          1.5418126051511705e-12,
          9.929489491323684e-13,
          9.644987928553711e-13,
          2.04905014440055e-12,
          1.0904129820351397e-12
         ]
        },
        {
         "boxpoints": "all",
         "hovertemplate": "Epoch: %{text}<br>Amplitude: %{y: .2e}",
         "line": {
          "width": 1
         },
         "marker": {
          "size": 3
         },
         "name": "MEG2121",
         "opacity": 0.7,
         "pointpos": 0,
         "text": [
          0,
          1,
          2,
          3,
          4,
          5,
          6,
          7,
          8
         ],
         "type": "box",
         "y": [
          1.420151008466012e-12,
          8.655635864580012e-13,
          1.1308665680544427e-12,
          1.3783439681036523e-12,
          1.1407041958176233e-12,
          1.2060351370165862e-12,
          9.83030712044707e-13,
          1.4234784159201489e-12,
          1.2790052698565232e-12
         ]
        },
        {
         "boxpoints": "all",
         "hovertemplate": "Epoch: %{text}<br>Amplitude: %{y: .2e}",
         "line": {
          "width": 1
         },
         "marker": {
          "size": 3
         },
         "name": "MEG2131",
         "opacity": 0.7,
         "pointpos": 0,
         "text": [
          0,
          1,
          2,
          3,
          4,
          5,
          6,
          7,
          8
         ],
         "type": "box",
         "y": [
          1.2500790634952206e-12,
          1.0765081518665865e-12,
          1.1125645283028048e-12,
          1.209827813211087e-12,
          1.0081614413406287e-12,
          1.1072805934258327e-12,
          8.179176330029797e-13,
          9.981276869582033e-13,
          1.0101399540970031e-12
         ]
        },
        {
         "boxpoints": "all",
         "hovertemplate": "Epoch: %{text}<br>Amplitude: %{y: .2e}",
         "line": {
          "width": 1
         },
         "marker": {
          "size": 3
         },
         "name": "MEG2141",
         "opacity": 0.7,
         "pointpos": 0,
         "text": [
          0,
          1,
          2,
          3,
          4,
          5,
          6,
          7,
          8
         ],
         "type": "box",
         "y": [
          1.0266052613727793e-12,
          9.565983676667263e-13,
          1.0233518251677096e-12,
          1.1830534677460785e-12,
          9.590206489671786e-13,
          9.341469145559262e-13,
          7.745421837555699e-13,
          1.0352720815939931e-12,
          7.917194649974985e-13
         ]
        },
        {
         "boxpoints": "all",
         "hovertemplate": "Epoch: %{text}<br>Amplitude: %{y: .2e}",
         "line": {
          "width": 1
         },
         "marker": {
          "size": 3
         },
         "name": "MEG2211",
         "opacity": 0.7,
         "pointpos": 0,
         "text": [
          0,
          1,
          2,
          3,
          4,
          5,
          6,
          7,
          8
         ],
         "type": "box",
         "y": [
          1.807315891137177e-12,
          1.1253531722750779e-12,
          1.3094423936382578e-12,
          1.2038097812683934e-12,
          1.2384750809716945e-12,
          1.5251448700613792e-12,
          1.5859528155830677e-12,
          1.219086323892154e-12,
          1.6891057545985562e-12
         ]
        },
        {
         "boxpoints": "all",
         "hovertemplate": "Epoch: %{text}<br>Amplitude: %{y: .2e}",
         "line": {
          "width": 1
         },
         "marker": {
          "size": 3
         },
         "name": "MEG2221",
         "opacity": 0.7,
         "pointpos": 0,
         "text": [
          0,
          1,
          2,
          3,
          4,
          5,
          6,
          7,
          8
         ],
         "type": "box",
         "y": [
          1.474836575697495e-12,
          9.592838630879327e-13,
          1.0361501279398858e-12,
          1.3141129487468642e-12,
          1.3065948954228282e-12,
          1.5406416014207707e-12,
          1.2788954800093637e-12,
          1.3097379816883024e-12,
          1.766599173457684e-12
         ]
        },
        {
         "boxpoints": "all",
         "hovertemplate": "Epoch: %{text}<br>Amplitude: %{y: .2e}",
         "line": {
          "width": 1
         },
         "marker": {
          "size": 3
         },
         "name": "MEG2231",
         "opacity": 0.7,
         "pointpos": 0,
         "text": [
          0,
          1,
          2,
          3,
          4,
          5,
          6,
          7,
          8
         ],
         "type": "box",
         "y": [
          1.2952766882304066e-12,
          9.132385580942937e-13,
          1.2012282581609986e-12,
          1.5701248731217275e-12,
          1.2149437385762874e-12,
          1.4013684297768134e-12,
          1.2711549941641654e-12,
          1.4633765063490825e-12,
          1.698217012624656e-12
         ]
        },
        {
         "boxpoints": "all",
         "hovertemplate": "Epoch: %{text}<br>Amplitude: %{y: .2e}",
         "line": {
          "width": 1
         },
         "marker": {
          "size": 3
         },
         "name": "MEG2241",
         "opacity": 0.7,
         "pointpos": 0,
         "text": [
          0,
          1,
          2,
          3,
          4,
          5,
          6,
          7,
          8
         ],
         "type": "box",
         "y": [
          1.234549430370735e-12,
          1.1223638119036574e-12,
          1.3211434577335944e-12,
          1.1892013975665467e-12,
          1.3566713818962758e-12,
          1.8405905429024945e-12,
          1.4503756088846977e-12,
          1.696941436501002e-12,
          1.1362953592949939e-12
         ]
        },
        {
         "boxpoints": "all",
         "hovertemplate": "Epoch: %{text}<br>Amplitude: %{y: .2e}",
         "line": {
          "width": 1
         },
         "marker": {
          "size": 3
         },
         "name": "MEG2311",
         "opacity": 0.7,
         "pointpos": 0,
         "text": [
          0,
          1,
          2,
          3,
          4,
          5,
          6,
          7,
          8
         ],
         "type": "box",
         "y": [
          1.4446203308982113e-12,
          8.248118182427285e-13,
          1.1267632479219743e-12,
          1.5194298334645081e-12,
          1.7390885975867353e-12,
          1.2467324839599197e-12,
          1.1870580825832642e-12,
          1.837801485584505e-12,
          1.996373820270746e-12
         ]
        },
        {
         "boxpoints": "all",
         "hovertemplate": "Epoch: %{text}<br>Amplitude: %{y: .2e}",
         "line": {
          "width": 1
         },
         "marker": {
          "size": 3
         },
         "name": "MEG2321",
         "opacity": 0.7,
         "pointpos": 0,
         "text": [
          0,
          1,
          2,
          3,
          4,
          5,
          6,
          7,
          8
         ],
         "type": "box",
         "y": [
          9.79012957866266e-13,
          8.872105725430739e-13,
          8.263113794595241e-13,
          1.1500351363983524e-12,
          1.1316891121817989e-12,
          1.2003879976985914e-12,
          1.1972294282495435e-12,
          1.5334328246886207e-12,
          1.7270355843072086e-12
         ]
        },
        {
         "boxpoints": "all",
         "hovertemplate": "Epoch: %{text}<br>Amplitude: %{y: .2e}",
         "line": {
          "width": 1
         },
         "marker": {
          "size": 3
         },
         "name": "MEG2331",
         "opacity": 0.7,
         "pointpos": 0,
         "text": [
          0,
          1,
          2,
          3,
          4,
          5,
          6,
          7,
          8
         ],
         "type": "box",
         "y": [
          1.4064583328368938e-12,
          9.489476470383238e-13,
          1.1124000947674138e-12,
          1.1461658888232687e-12,
          1.0181451208415446e-12,
          1.0732818987864876e-12,
          8.274464903552757e-13,
          1.5418260649641636e-12,
          1.2279220748303218e-12
         ]
        },
        {
         "boxpoints": "all",
         "hovertemplate": "Epoch: %{text}<br>Amplitude: %{y: .2e}",
         "line": {
          "width": 1
         },
         "marker": {
          "size": 3
         },
         "name": "MEG2341",
         "opacity": 0.7,
         "pointpos": 0,
         "text": [
          0,
          1,
          2,
          3,
          4,
          5,
          6,
          7,
          8
         ],
         "type": "box",
         "y": [
          1.407458546495759e-12,
          9.046293310142283e-13,
          1.142118971716676e-12,
          1.339853879680958e-12,
          1.4934769211581643e-12,
          1.0558125800644456e-12,
          1.0931808863154896e-12,
          1.8217656714585693e-12,
          1.4493227524016816e-12
         ]
        },
        {
         "boxpoints": "all",
         "hovertemplate": "Epoch: %{text}<br>Amplitude: %{y: .2e}",
         "line": {
          "width": 1
         },
         "marker": {
          "size": 3
         },
         "name": "MEG2411",
         "opacity": 0.7,
         "pointpos": 0,
         "text": [
          0,
          1,
          2,
          3,
          4,
          5,
          6,
          7,
          8
         ],
         "type": "box",
         "y": [
          1.435641600261582e-12,
          1.2385540452079207e-12,
          8.277529962722064e-13,
          1.1487902884390218e-12,
          1.1768961374212974e-12,
          1.2242840796613292e-12,
          9.71800387198524e-13,
          1.723717491148613e-12,
          1.7920369381276951e-12
         ]
        },
        {
         "boxpoints": "all",
         "hovertemplate": "Epoch: %{text}<br>Amplitude: %{y: .2e}",
         "line": {
          "width": 1
         },
         "marker": {
          "size": 3
         },
         "name": "MEG2421",
         "opacity": 0.7,
         "pointpos": 0,
         "text": [
          0,
          1,
          2,
          3,
          4,
          5,
          6,
          7,
          8
         ],
         "type": "box",
         "y": [
          1.3832560080924291e-12,
          9.024032915929944e-13,
          9.874836668432583e-13,
          9.022651041795986e-13,
          9.14236646421749e-13,
          1.2426338640796075e-12,
          8.13627749015691e-13,
          1.4262257133055186e-12,
          1.4204185517663837e-12
         ]
        },
        {
         "boxpoints": "all",
         "hovertemplate": "Epoch: %{text}<br>Amplitude: %{y: .2e}",
         "line": {
          "width": 1
         },
         "marker": {
          "size": 3
         },
         "name": "MEG2431",
         "opacity": 0.7,
         "pointpos": 0,
         "text": [
          0,
          1,
          2,
          3,
          4,
          5,
          6,
          7,
          8
         ],
         "type": "box",
         "y": [
          1.0964579021188768e-12,
          8.951473556642093e-13,
          8.992204254558769e-13,
          1.075307099197936e-12,
          7.393872662065956e-13,
          1.2379769988662676e-12,
          1.1915703246533327e-12,
          1.551647241844797e-12,
          1.6764984731224417e-12
         ]
        },
        {
         "boxpoints": "all",
         "hovertemplate": "Epoch: %{text}<br>Amplitude: %{y: .2e}",
         "line": {
          "width": 1
         },
         "marker": {
          "size": 3
         },
         "name": "MEG2441",
         "opacity": 0.7,
         "pointpos": 0,
         "text": [
          0,
          1,
          2,
          3,
          4,
          5,
          6,
          7,
          8
         ],
         "type": "box",
         "y": [
          1.1045881813641665e-12,
          1.0412511331463698e-12,
          1.0752499305201252e-12,
          1.479592376288391e-12,
          1.4088009385116043e-12,
          1.1644437870320975e-12,
          1.1207130833463573e-12,
          1.9669991243946002e-12,
          1.94129187860096e-12
         ]
        },
        {
         "boxpoints": "all",
         "hovertemplate": "Epoch: %{text}<br>Amplitude: %{y: .2e}",
         "line": {
          "width": 1
         },
         "marker": {
          "size": 3
         },
         "name": "MEG2511",
         "opacity": 0.7,
         "pointpos": 0,
         "text": [
          0,
          1,
          2,
          3,
          4,
          5,
          6,
          7,
          8
         ],
         "type": "box",
         "y": [
          1.0304339301042467e-12,
          7.505722314683251e-13,
          8.835169042697167e-13,
          1.0243456080270336e-12,
          7.621125580867586e-13,
          9.352129317449798e-13,
          8.715184046990226e-13,
          1.2949641214620111e-12,
          1.5167275018247672e-12
         ]
        },
        {
         "boxpoints": "all",
         "hovertemplate": "Epoch: %{text}<br>Amplitude: %{y: .2e}",
         "line": {
          "width": 1
         },
         "marker": {
          "size": 3
         },
         "name": "MEG2521",
         "opacity": 0.7,
         "pointpos": 0,
         "text": [
          0,
          1,
          2,
          3,
          4,
          5,
          6,
          7,
          8
         ],
         "type": "box",
         "y": [
          1.060687103108409e-12,
          7.333044168005994e-13,
          1.0559340635047937e-12,
          1.1051439681037586e-12,
          7.588463101337659e-13,
          9.67509304361495e-13,
          9.021896236596765e-13,
          1.1653727780465235e-12,
          1.3302089622561865e-12
         ]
        },
        {
         "boxpoints": "all",
         "hovertemplate": "Epoch: %{text}<br>Amplitude: %{y: .2e}",
         "line": {
          "width": 1
         },
         "marker": {
          "size": 3
         },
         "name": "MEG2531",
         "opacity": 0.7,
         "pointpos": 0,
         "text": [
          0,
          1,
          2,
          3,
          4,
          5,
          6,
          7,
          8
         ],
         "type": "box",
         "y": [
          1.0167522794525547e-12,
          9.347673478405605e-13,
          9.4362262290307e-13,
          1.089138904473661e-12,
          7.546875270258527e-13,
          1.0227936702241463e-12,
          8.123597656070588e-13,
          8.562881776368946e-13,
          1.1232280518162715e-12
         ]
        },
        {
         "boxpoints": "all",
         "hovertemplate": "Epoch: %{text}<br>Amplitude: %{y: .2e}",
         "line": {
          "width": 1
         },
         "marker": {
          "size": 3
         },
         "name": "MEG2541",
         "opacity": 0.7,
         "pointpos": 0,
         "text": [
          0,
          1,
          2,
          3,
          4,
          5,
          6,
          7,
          8
         ],
         "type": "box",
         "y": [
          1.1452446394006297e-12,
          1.074594338850661e-12,
          8.791274217265544e-13,
          1.2139435249174223e-12,
          8.319225609196195e-13,
          1.0589402056183105e-12,
          8.199710750329434e-13,
          9.656741170195713e-13,
          1.0267807374532819e-12
         ]
        },
        {
         "boxpoints": "all",
         "hovertemplate": "Epoch: %{text}<br>Amplitude: %{y: .2e}",
         "line": {
          "width": 1
         },
         "marker": {
          "size": 3
         },
         "name": "MEG2611",
         "opacity": 0.7,
         "pointpos": 0,
         "text": [
          0,
          1,
          2,
          3,
          4,
          5,
          6,
          7,
          8
         ],
         "type": "box",
         "y": [
          1.1121035887420585e-12,
          9.216254428114862e-13,
          1.154632609707522e-12,
          1.2110242410326962e-12,
          1.081749294578743e-12,
          8.912054108557745e-13,
          1.0262192139956734e-12,
          1.1140725670999065e-12,
          1.3385045457542356e-12
         ]
        },
        {
         "boxpoints": "all",
         "hovertemplate": "Epoch: %{text}<br>Amplitude: %{y: .2e}",
         "line": {
          "width": 1
         },
         "marker": {
          "size": 3
         },
         "name": "MEG2621",
         "opacity": 0.7,
         "pointpos": 0,
         "text": [
          0,
          1,
          2,
          3,
          4,
          5,
          6,
          7,
          8
         ],
         "type": "box",
         "y": [
          1.099228617819402e-12,
          7.522396357028406e-13,
          9.53144780800935e-13,
          1.1133430879652456e-12,
          7.324271328135149e-13,
          8.151670180799652e-13,
          8.677562144057455e-13,
          9.565332755260534e-13,
          9.410499171421518e-13
         ]
        },
        {
         "boxpoints": "all",
         "hovertemplate": "Epoch: %{text}<br>Amplitude: %{y: .2e}",
         "line": {
          "width": 1
         },
         "marker": {
          "size": 3
         },
         "name": "MEG2631",
         "opacity": 0.7,
         "pointpos": 0,
         "text": [
          0,
          1,
          2,
          3,
          4,
          5,
          6,
          7,
          8
         ],
         "type": "box",
         "y": [
          9.366188384725724e-13,
          7.383733874243881e-13,
          9.395164826193076e-13,
          9.745548202661601e-13,
          7.660171164505234e-13,
          9.921115992107199e-13,
          8.935318313143642e-13,
          1.017498052794691e-12,
          1.053255549586153e-12
         ]
        },
        {
         "boxpoints": "all",
         "hovertemplate": "Epoch: %{text}<br>Amplitude: %{y: .2e}",
         "line": {
          "width": 1
         },
         "marker": {
          "size": 3
         },
         "name": "MEG2641",
         "opacity": 0.7,
         "pointpos": 0,
         "text": [
          0,
          1,
          2,
          3,
          4,
          5,
          6,
          7,
          8
         ],
         "type": "box",
         "y": [
          1.0567272789094187e-12,
          6.69307732708581e-13,
          1.1002589533081287e-12,
          1.0454864876348658e-12,
          1.0369057072982856e-12,
          9.912071582985095e-13,
          8.810550780814881e-13,
          1.0348495405196896e-12,
          1.3043411245138722e-12
         ]
        }
       ],
       "layout": {
        "template": {
         "data": {
          "bar": [
           {
            "error_x": {
             "color": "#2a3f5f"
            },
            "error_y": {
             "color": "#2a3f5f"
            },
            "marker": {
             "line": {
              "color": "#E5ECF6",
              "width": 0.5
             },
             "pattern": {
              "fillmode": "overlay",
              "size": 10,
              "solidity": 0.2
             }
            },
            "type": "bar"
           }
          ],
          "barpolar": [
           {
            "marker": {
             "line": {
              "color": "#E5ECF6",
              "width": 0.5
             },
             "pattern": {
              "fillmode": "overlay",
              "size": 10,
              "solidity": 0.2
             }
            },
            "type": "barpolar"
           }
          ],
          "carpet": [
           {
            "aaxis": {
             "endlinecolor": "#2a3f5f",
             "gridcolor": "white",
             "linecolor": "white",
             "minorgridcolor": "white",
             "startlinecolor": "#2a3f5f"
            },
            "baxis": {
             "endlinecolor": "#2a3f5f",
             "gridcolor": "white",
             "linecolor": "white",
             "minorgridcolor": "white",
             "startlinecolor": "#2a3f5f"
            },
            "type": "carpet"
           }
          ],
          "choropleth": [
           {
            "colorbar": {
             "outlinewidth": 0,
             "ticks": ""
            },
            "type": "choropleth"
           }
          ],
          "contour": [
           {
            "colorbar": {
             "outlinewidth": 0,
             "ticks": ""
            },
            "colorscale": [
             [
              0,
              "#0d0887"
             ],
             [
              0.1111111111111111,
              "#46039f"
             ],
             [
              0.2222222222222222,
              "#7201a8"
             ],
             [
              0.3333333333333333,
              "#9c179e"
             ],
             [
              0.4444444444444444,
              "#bd3786"
             ],
             [
              0.5555555555555556,
              "#d8576b"
             ],
             [
              0.6666666666666666,
              "#ed7953"
             ],
             [
              0.7777777777777778,
              "#fb9f3a"
             ],
             [
              0.8888888888888888,
              "#fdca26"
             ],
             [
              1,
              "#f0f921"
             ]
            ],
            "type": "contour"
           }
          ],
          "contourcarpet": [
           {
            "colorbar": {
             "outlinewidth": 0,
             "ticks": ""
            },
            "type": "contourcarpet"
           }
          ],
          "heatmap": [
           {
            "colorbar": {
             "outlinewidth": 0,
             "ticks": ""
            },
            "colorscale": [
             [
              0,
              "#0d0887"
             ],
             [
              0.1111111111111111,
              "#46039f"
             ],
             [
              0.2222222222222222,
              "#7201a8"
             ],
             [
              0.3333333333333333,
              "#9c179e"
             ],
             [
              0.4444444444444444,
              "#bd3786"
             ],
             [
              0.5555555555555556,
              "#d8576b"
             ],
             [
              0.6666666666666666,
              "#ed7953"
             ],
             [
              0.7777777777777778,
              "#fb9f3a"
             ],
             [
              0.8888888888888888,
              "#fdca26"
             ],
             [
              1,
              "#f0f921"
             ]
            ],
            "type": "heatmap"
           }
          ],
          "heatmapgl": [
           {
            "colorbar": {
             "outlinewidth": 0,
             "ticks": ""
            },
            "colorscale": [
             [
              0,
              "#0d0887"
             ],
             [
              0.1111111111111111,
              "#46039f"
             ],
             [
              0.2222222222222222,
              "#7201a8"
             ],
             [
              0.3333333333333333,
              "#9c179e"
             ],
             [
              0.4444444444444444,
              "#bd3786"
             ],
             [
              0.5555555555555556,
              "#d8576b"
             ],
             [
              0.6666666666666666,
              "#ed7953"
             ],
             [
              0.7777777777777778,
              "#fb9f3a"
             ],
             [
              0.8888888888888888,
              "#fdca26"
             ],
             [
              1,
              "#f0f921"
             ]
            ],
            "type": "heatmapgl"
           }
          ],
          "histogram": [
           {
            "marker": {
             "pattern": {
              "fillmode": "overlay",
              "size": 10,
              "solidity": 0.2
             }
            },
            "type": "histogram"
           }
          ],
          "histogram2d": [
           {
            "colorbar": {
             "outlinewidth": 0,
             "ticks": ""
            },
            "colorscale": [
             [
              0,
              "#0d0887"
             ],
             [
              0.1111111111111111,
              "#46039f"
             ],
             [
              0.2222222222222222,
              "#7201a8"
             ],
             [
              0.3333333333333333,
              "#9c179e"
             ],
             [
              0.4444444444444444,
              "#bd3786"
             ],
             [
              0.5555555555555556,
              "#d8576b"
             ],
             [
              0.6666666666666666,
              "#ed7953"
             ],
             [
              0.7777777777777778,
              "#fb9f3a"
             ],
             [
              0.8888888888888888,
              "#fdca26"
             ],
             [
              1,
              "#f0f921"
             ]
            ],
            "type": "histogram2d"
           }
          ],
          "histogram2dcontour": [
           {
            "colorbar": {
             "outlinewidth": 0,
             "ticks": ""
            },
            "colorscale": [
             [
              0,
              "#0d0887"
             ],
             [
              0.1111111111111111,
              "#46039f"
             ],
             [
              0.2222222222222222,
              "#7201a8"
             ],
             [
              0.3333333333333333,
              "#9c179e"
             ],
             [
              0.4444444444444444,
              "#bd3786"
             ],
             [
              0.5555555555555556,
              "#d8576b"
             ],
             [
              0.6666666666666666,
              "#ed7953"
             ],
             [
              0.7777777777777778,
              "#fb9f3a"
             ],
             [
              0.8888888888888888,
              "#fdca26"
             ],
             [
              1,
              "#f0f921"
             ]
            ],
            "type": "histogram2dcontour"
           }
          ],
          "mesh3d": [
           {
            "colorbar": {
             "outlinewidth": 0,
             "ticks": ""
            },
            "type": "mesh3d"
           }
          ],
          "parcoords": [
           {
            "line": {
             "colorbar": {
              "outlinewidth": 0,
              "ticks": ""
             }
            },
            "type": "parcoords"
           }
          ],
          "pie": [
           {
            "automargin": true,
            "type": "pie"
           }
          ],
          "scatter": [
           {
            "fillpattern": {
             "fillmode": "overlay",
             "size": 10,
             "solidity": 0.2
            },
            "type": "scatter"
           }
          ],
          "scatter3d": [
           {
            "line": {
             "colorbar": {
              "outlinewidth": 0,
              "ticks": ""
             }
            },
            "marker": {
             "colorbar": {
              "outlinewidth": 0,
              "ticks": ""
             }
            },
            "type": "scatter3d"
           }
          ],
          "scattercarpet": [
           {
            "marker": {
             "colorbar": {
              "outlinewidth": 0,
              "ticks": ""
             }
            },
            "type": "scattercarpet"
           }
          ],
          "scattergeo": [
           {
            "marker": {
             "colorbar": {
              "outlinewidth": 0,
              "ticks": ""
             }
            },
            "type": "scattergeo"
           }
          ],
          "scattergl": [
           {
            "marker": {
             "colorbar": {
              "outlinewidth": 0,
              "ticks": ""
             }
            },
            "type": "scattergl"
           }
          ],
          "scattermapbox": [
           {
            "marker": {
             "colorbar": {
              "outlinewidth": 0,
              "ticks": ""
             }
            },
            "type": "scattermapbox"
           }
          ],
          "scatterpolar": [
           {
            "marker": {
             "colorbar": {
              "outlinewidth": 0,
              "ticks": ""
             }
            },
            "type": "scatterpolar"
           }
          ],
          "scatterpolargl": [
           {
            "marker": {
             "colorbar": {
              "outlinewidth": 0,
              "ticks": ""
             }
            },
            "type": "scatterpolargl"
           }
          ],
          "scatterternary": [
           {
            "marker": {
             "colorbar": {
              "outlinewidth": 0,
              "ticks": ""
             }
            },
            "type": "scatterternary"
           }
          ],
          "surface": [
           {
            "colorbar": {
             "outlinewidth": 0,
             "ticks": ""
            },
            "colorscale": [
             [
              0,
              "#0d0887"
             ],
             [
              0.1111111111111111,
              "#46039f"
             ],
             [
              0.2222222222222222,
              "#7201a8"
             ],
             [
              0.3333333333333333,
              "#9c179e"
             ],
             [
              0.4444444444444444,
              "#bd3786"
             ],
             [
              0.5555555555555556,
              "#d8576b"
             ],
             [
              0.6666666666666666,
              "#ed7953"
             ],
             [
              0.7777777777777778,
              "#fb9f3a"
             ],
             [
              0.8888888888888888,
              "#fdca26"
             ],
             [
              1,
              "#f0f921"
             ]
            ],
            "type": "surface"
           }
          ],
          "table": [
           {
            "cells": {
             "fill": {
              "color": "#EBF0F8"
             },
             "line": {
              "color": "white"
             }
            },
            "header": {
             "fill": {
              "color": "#C8D4E3"
             },
             "line": {
              "color": "white"
             }
            },
            "type": "table"
           }
          ]
         },
         "layout": {
          "annotationdefaults": {
           "arrowcolor": "#2a3f5f",
           "arrowhead": 0,
           "arrowwidth": 1
          },
          "autotypenumbers": "strict",
          "coloraxis": {
           "colorbar": {
            "outlinewidth": 0,
            "ticks": ""
           }
          },
          "colorscale": {
           "diverging": [
            [
             0,
             "#8e0152"
            ],
            [
             0.1,
             "#c51b7d"
            ],
            [
             0.2,
             "#de77ae"
            ],
            [
             0.3,
             "#f1b6da"
            ],
            [
             0.4,
             "#fde0ef"
            ],
            [
             0.5,
             "#f7f7f7"
            ],
            [
             0.6,
             "#e6f5d0"
            ],
            [
             0.7,
             "#b8e186"
            ],
            [
             0.8,
             "#7fbc41"
            ],
            [
             0.9,
             "#4d9221"
            ],
            [
             1,
             "#276419"
            ]
           ],
           "sequential": [
            [
             0,
             "#0d0887"
            ],
            [
             0.1111111111111111,
             "#46039f"
            ],
            [
             0.2222222222222222,
             "#7201a8"
            ],
            [
             0.3333333333333333,
             "#9c179e"
            ],
            [
             0.4444444444444444,
             "#bd3786"
            ],
            [
             0.5555555555555556,
             "#d8576b"
            ],
            [
             0.6666666666666666,
             "#ed7953"
            ],
            [
             0.7777777777777778,
             "#fb9f3a"
            ],
            [
             0.8888888888888888,
             "#fdca26"
            ],
            [
             1,
             "#f0f921"
            ]
           ],
           "sequentialminus": [
            [
             0,
             "#0d0887"
            ],
            [
             0.1111111111111111,
             "#46039f"
            ],
            [
             0.2222222222222222,
             "#7201a8"
            ],
            [
             0.3333333333333333,
             "#9c179e"
            ],
            [
             0.4444444444444444,
             "#bd3786"
            ],
            [
             0.5555555555555556,
             "#d8576b"
            ],
            [
             0.6666666666666666,
             "#ed7953"
            ],
            [
             0.7777777777777778,
             "#fb9f3a"
            ],
            [
             0.8888888888888888,
             "#fdca26"
            ],
            [
             1,
             "#f0f921"
            ]
           ]
          },
          "colorway": [
           "#636efa",
           "#EF553B",
           "#00cc96",
           "#ab63fa",
           "#FFA15A",
           "#19d3f3",
           "#FF6692",
           "#B6E880",
           "#FF97FF",
           "#FECB52"
          ],
          "font": {
           "color": "#2a3f5f"
          },
          "geo": {
           "bgcolor": "white",
           "lakecolor": "white",
           "landcolor": "#E5ECF6",
           "showlakes": true,
           "showland": true,
           "subunitcolor": "white"
          },
          "hoverlabel": {
           "align": "left"
          },
          "hovermode": "closest",
          "mapbox": {
           "style": "light"
          },
          "paper_bgcolor": "white",
          "plot_bgcolor": "#E5ECF6",
          "polar": {
           "angularaxis": {
            "gridcolor": "white",
            "linecolor": "white",
            "ticks": ""
           },
           "bgcolor": "#E5ECF6",
           "radialaxis": {
            "gridcolor": "white",
            "linecolor": "white",
            "ticks": ""
           }
          },
          "scene": {
           "xaxis": {
            "backgroundcolor": "#E5ECF6",
            "gridcolor": "white",
            "gridwidth": 2,
            "linecolor": "white",
            "showbackground": true,
            "ticks": "",
            "zerolinecolor": "white"
           },
           "yaxis": {
            "backgroundcolor": "#E5ECF6",
            "gridcolor": "white",
            "gridwidth": 2,
            "linecolor": "white",
            "showbackground": true,
            "ticks": "",
            "zerolinecolor": "white"
           },
           "zaxis": {
            "backgroundcolor": "#E5ECF6",
            "gridcolor": "white",
            "gridwidth": 2,
            "linecolor": "white",
            "showbackground": true,
            "ticks": "",
            "zerolinecolor": "white"
           }
          },
          "shapedefaults": {
           "line": {
            "color": "#2a3f5f"
           }
          },
          "ternary": {
           "aaxis": {
            "gridcolor": "white",
            "linecolor": "white",
            "ticks": ""
           },
           "baxis": {
            "gridcolor": "white",
            "linecolor": "white",
            "ticks": ""
           },
           "bgcolor": "#E5ECF6",
           "caxis": {
            "gridcolor": "white",
            "linecolor": "white",
            "ticks": ""
           }
          },
          "title": {
           "x": 0.05
          },
          "xaxis": {
           "automargin": true,
           "gridcolor": "white",
           "linecolor": "white",
           "ticks": "",
           "title": {
            "standoff": 15
           },
           "zerolinecolor": "white",
           "zerolinewidth": 2
          },
          "yaxis": {
           "automargin": true,
           "gridcolor": "white",
           "linecolor": "white",
           "ticks": "",
           "title": {
            "standoff": 15
           },
           "zerolinecolor": "white",
           "zerolinewidth": 2
          }
         }
        },
        "title": {
         "text": "Peak-to-peak amplitude over epochs for Magnetometers",
         "x": 0.5,
         "xanchor": "center",
         "y": 0.85,
         "yanchor": "top"
        },
        "xaxis": {
         "rangeslider": {
          "visible": true
         },
         "tickmode": "array",
         "ticktext": [
          "MEG0111",
          "MEG0121",
          "MEG0131",
          "MEG0141",
          "MEG0211",
          "MEG0221",
          "MEG0231",
          "MEG0241",
          "MEG0311",
          "MEG0321",
          "MEG0331",
          "MEG0341",
          "MEG0411",
          "MEG0421",
          "MEG0431",
          "MEG0441",
          "MEG0511",
          "MEG0521",
          "MEG0531",
          "MEG0541",
          "MEG0611",
          "MEG0621",
          "MEG0631",
          "MEG0641",
          "MEG0711",
          "MEG0721",
          "MEG0731",
          "MEG0741",
          "MEG0811",
          "MEG0821",
          "MEG0911",
          "MEG0921",
          "MEG0931",
          "MEG0941",
          "MEG1011",
          "MEG1021",
          "MEG1031",
          "MEG1041",
          "MEG1111",
          "MEG1121",
          "MEG1131",
          "MEG1141",
          "MEG1211",
          "MEG1221",
          "MEG1231",
          "MEG1241",
          "MEG1311",
          "MEG1321",
          "MEG1331",
          "MEG1341",
          "MEG1411",
          "MEG1421",
          "MEG1431",
          "MEG1441",
          "MEG1511",
          "MEG1521",
          "MEG1531",
          "MEG1541",
          "MEG1611",
          "MEG1621",
          "MEG1631",
          "MEG1641",
          "MEG1711",
          "MEG1721",
          "MEG1731",
          "MEG1741",
          "MEG1811",
          "MEG1821",
          "MEG1831",
          "MEG1841",
          "MEG1911",
          "MEG1921",
          "MEG1931",
          "MEG1941",
          "MEG2011",
          "MEG2021",
          "MEG2031",
          "MEG2041",
          "MEG2111",
          "MEG2121",
          "MEG2131",
          "MEG2141",
          "MEG2211",
          "MEG2221",
          "MEG2231",
          "MEG2241",
          "MEG2311",
          "MEG2321",
          "MEG2331",
          "MEG2341",
          "MEG2411",
          "MEG2421",
          "MEG2431",
          "MEG2441",
          "MEG2511",
          "MEG2521",
          "MEG2531",
          "MEG2541",
          "MEG2611",
          "MEG2621",
          "MEG2631",
          "MEG2641"
         ],
         "tickvals": [
          0,
          1,
          2,
          3,
          4,
          5,
          6,
          7,
          8,
          9,
          10,
          11,
          12,
          13,
          14,
          15,
          16,
          17,
          18,
          19,
          20,
          21,
          22,
          23,
          24,
          25,
          26,
          27,
          28,
          29,
          30,
          31,
          32,
          33,
          34,
          35,
          36,
          37,
          38,
          39,
          40,
          41,
          42,
          43,
          44,
          45,
          46,
          47,
          48,
          49,
          50,
          51,
          52,
          53,
          54,
          55,
          56,
          57,
          58,
          59,
          60,
          61,
          62,
          63,
          64,
          65,
          66,
          67,
          68,
          69,
          70,
          71,
          72,
          73,
          74,
          75,
          76,
          77,
          78,
          79,
          80,
          81,
          82,
          83,
          84,
          85,
          86,
          87,
          88,
          89,
          90,
          91,
          92,
          93,
          94,
          95,
          96,
          97,
          98,
          99,
          100,
          101
         ]
        },
        "yaxis": {
         "exponentformat": "e",
         "showexponent": "all",
         "title": {
          "text": "Peak-to-peak amplitude in Tesla"
         }
        }
       }
      }
     },
     "metadata": {},
     "output_type": "display_data"
    },
    {
     "name": "stdout",
     "output_type": "stream",
     "text": [
      "[<universal_plots.QC_derivative object at 0x161d65d00>, <universal_plots.QC_derivative object at 0x16205c790>, <universal_plots.QC_derivative object at 0x1625863a0>]\n"
     ]
    }
   ],
   "source": [
    "#TRY SEPARATE FUNCS HERE\n",
    "\n",
    "config = configparser.ConfigParser()\n",
    "config.read('settings.ini')\n",
    "data_file = '/Volumes/M2_DATA/MEG_QC_stuff/data/from openneuro/ds003483/sub-009/ses-1/meg/sub-009_ses-1_task-deduction_run-1_meg.fif'\n",
    "dict_of_dfs_epoch, epochs_mg, channels, raw_bandpass, raw_filtered_resampled, raw_cropped, raw = initial_stuff(config, data_file)\n",
    "m_or_g_chosen = ['mags']\n",
    "sid='009'\n",
    "#dfs_ptp_amlitude_annot, bad_channels, amplit_annot_with_ch_names = PP_auto_meg_qc(sid, config, channels, raw, m_or_g_chosen)\n",
    "\n",
    "#out_with_name_and_format = RMSE_meg_qc(sid, config, channels, dict_of_dfs_epoch, raw_filtered_resampled, m_or_g_chosen)\n",
    "\n",
    "out_with_name_and_format = PP_manual_meg_qc(sid, config, channels, dict_of_dfs_epoch, raw_filtered_resampled, m_or_g_chosen)\n",
    "\n",
    "# psd_section = config['PSD']\n",
    "# freq_min = psd_section.getfloat('freq_min') \n",
    "# freq_max = psd_section.getfloat('freq_max') \n",
    "# mean_power_per_band_needed = psd_section.getboolean('mean_power_per_band_needed')\n",
    "# n_fft = psd_section.getint('n_fft')\n",
    "# n_per_seg = psd_section.getint('n_per_seg')\n",
    "\n",
    "# m_or_g='mags'\n",
    "# fig, fig_desc, fig_path, dfs_with_name = Power_of_freq_meg(ch_names=channels[m_or_g], m_or_g = m_or_g, freqs = freqs[m_or_g], psds = psds[m_or_g], mean_power_per_band_needed = mean_power_per_band_needed, plotflag = True, sid = sid)\n",
    "\n",
    "#deriv_with_name_and_format = PSD_meg_qc(sid, config, channels, raw_filtered_resampled, m_or_g_chosen)\n",
    "\n",
    "#figs = ECG_meg_qc(config, raw, m_or_g_chosen)\n",
    "\n",
    "print(out_with_name_and_format)"
   ]
  },
  {
   "cell_type": "code",
   "execution_count": null,
   "metadata": {},
   "outputs": [],
   "source": [
    "print(figs)\n",
    "all_fig_derivs = figs\n",
    "figures_report = {}\n",
    "for x in range(0, len(all_fig_derivs)):\n",
    "    if all_fig_derivs[x][3]=='plotly':\n",
    "        figures_report[\"f{0}\".format(x)] = plotly.io.to_html(all_fig_derivs[x][0])\n",
    "    elif all_fig_derivs[x][3]=='matplotlib':\n",
    "        figures_report[\"f{0}\".format(x)] = mpld3.fig_to_html(all_fig_derivs[x][0]);\n",
    "\n",
    "print(figures_report)"
   ]
  },
  {
   "cell_type": "code",
   "execution_count": null,
   "metadata": {},
   "outputs": [],
   "source": [
    "\n",
    "import mpld3\n",
    "\n",
    "html_fig=mpld3.fig_to_html(figs[0][0])\n",
    "print(html_fig)\n",
    "\n",
    "\n",
    "\n",
    "# file = open('matpl_fig.html', \"w\")\n",
    "# file.write(html_fig)\n",
    "# file.close()"
   ]
  },
  {
   "cell_type": "code",
   "execution_count": null,
   "metadata": {},
   "outputs": [],
   "source": [
    "html_string = '''\n",
    "<!doctype html>\n",
    "<html>\n",
    "    <head>\n",
    "        <meta charset=\"UTF-8\">\n",
    "        <title>MEG QC: Frequency spectrum Report</title>\n",
    "        <style>body{ margin:0 100;}</style>\n",
    "    </head>\n",
    "    \n",
    "    <body style=\"font-family: Arial\">\n",
    "        <center>\n",
    "        <h1>MEG data quality analysis report</h1>\n",
    "        <br></br>\n",
    "        <!-- *** Section 1 *** --->\n",
    "        <h2>Frequency spectrum per channel</h2>\n",
    "        ''' + html_fig + '''\n",
    "        <p>graph description...</p>\n",
    "        </center>\n",
    "    \n",
    "    </body>\n",
    "</html>'''\n",
    "\n",
    "with open('report_trial.html', 'w', encoding = 'utf8') as f:\n",
    "    f.write(html_string)"
   ]
  }
 ],
 "metadata": {
  "kernelspec": {
   "display_name": "Python 3.9.13 ('mne_new')",
   "language": "python",
   "name": "python3"
  },
  "language_info": {
   "codemirror_mode": {
    "name": "ipython",
    "version": 3
   },
   "file_extension": ".py",
   "mimetype": "text/x-python",
   "name": "python",
   "nbconvert_exporter": "python",
   "pygments_lexer": "ipython3",
   "version": "3.9.13"
  },
  "orig_nbformat": 4,
  "vscode": {
   "interpreter": {
    "hash": "d401ab1bf6dd7bb97662b0feb1321a641d60d04842bfa92b47f7871360972b5d"
   }
  }
 },
 "nbformat": 4,
 "nbformat_minor": 2
}
