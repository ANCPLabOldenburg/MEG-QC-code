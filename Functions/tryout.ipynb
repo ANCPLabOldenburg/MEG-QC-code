{
 "cells": [
  {
   "cell_type": "code",
   "execution_count": 1,
   "metadata": {},
   "outputs": [],
   "source": [
    "# This notebook checks MNE functions for ECG and EOG detection\n",
    "# Cropped data is used here (5 minutes only), tried on whole data - takes forever.\n",
    "\n",
    "\n",
    "#Load data, make folders\n",
    "import numpy as np\n",
    "import matplotlib.pyplot as plt\n",
    "import plotly.graph_objects as go\n",
    "import mne\n",
    "from mne.time_frequency import tfr_morlet, psd_multitaper, psd_welch\n",
    "import configparser\n",
    "\n",
    "from main_meg_qc import MEG_QC_measures\n",
    "\n"
   ]
  },
  {
   "cell_type": "code",
   "execution_count": 2,
   "metadata": {},
   "outputs": [
    {
     "name": "stdout",
     "output_type": "stream",
     "text": [
      "Opening raw data file ../data/sub_HT05ND16/210811/mikado-1.fif/...\n"
     ]
    },
    {
     "name": "stderr",
     "output_type": "stream",
     "text": [
      "/Users/jenya/Local Storage/Job Uni Rieger lab/MEG QC code/Functions/data_load_and_folders.py:17: RuntimeWarning: This filename (../data/sub_HT05ND16/210811/mikado-1.fif/) does not conform to MNE naming conventions. All raw files should end with raw.fif, raw_sss.fif, raw_tsss.fif, _meg.fif, _eeg.fif, _ieeg.fif, raw.fif.gz, raw_sss.fif.gz, raw_tsss.fif.gz, _meg.fif.gz, _eeg.fif.gz or _ieeg.fif.gz\n",
      "  raw = mne.io.read_raw_fif(data_file)\n"
     ]
    },
    {
     "name": "stdout",
     "output_type": "stream",
     "text": [
      "    Read a total of 8 projection items:\n",
      "        magn8_iasoff_68deg.fif : PCA-v1 (1 x 306)  idle\n",
      "        magn8_iasoff_68deg.fif : PCA-v2 (1 x 306)  idle\n",
      "        magn8_iasoff_68deg.fif : PCA-v3 (1 x 306)  idle\n",
      "        magn8_iasoff_68deg.fif : PCA-v4 (1 x 306)  idle\n",
      "        magn8_iasoff_68deg.fif : PCA-v5 (1 x 306)  idle\n",
      "        magn8_iasoff_68deg.fif : PCA-v6 (1 x 306)  idle\n",
      "        magn8_iasoff_68deg.fif : PCA-v7 (1 x 306)  idle\n",
      "        magn8_iasoff_68deg.fif : PCA-v8 (1 x 306)  idle\n",
      "    Range : 1809000 ... 3375999 =   1809.000 ...  3375.999 secs\n",
      "Ready.\n",
      "Opening raw data file /Users/jenya/Local Storage/Job Uni Rieger lab/MEG QC code/Functions/../data/sub_HT05ND16/210811/mikado-2.fif...\n",
      "    Read a total of 8 projection items:\n",
      "        magn8_iasoff_68deg.fif : PCA-v1 (1 x 306)  idle\n",
      "        magn8_iasoff_68deg.fif : PCA-v2 (1 x 306)  idle\n",
      "        magn8_iasoff_68deg.fif : PCA-v3 (1 x 306)  idle\n",
      "        magn8_iasoff_68deg.fif : PCA-v4 (1 x 306)  idle\n",
      "        magn8_iasoff_68deg.fif : PCA-v5 (1 x 306)  idle\n",
      "        magn8_iasoff_68deg.fif : PCA-v6 (1 x 306)  idle\n",
      "        magn8_iasoff_68deg.fif : PCA-v7 (1 x 306)  idle\n",
      "        magn8_iasoff_68deg.fif : PCA-v8 (1 x 306)  idle\n",
      "    Range : 3376000 ... 4942999 =   3376.000 ...  4942.999 secs\n",
      "Ready.\n",
      "Opening raw data file /Users/jenya/Local Storage/Job Uni Rieger lab/MEG QC code/Functions/../data/sub_HT05ND16/210811/mikado-3.fif...\n",
      "    Read a total of 8 projection items:\n",
      "        magn8_iasoff_68deg.fif : PCA-v1 (1 x 306)  idle\n",
      "        magn8_iasoff_68deg.fif : PCA-v2 (1 x 306)  idle\n",
      "        magn8_iasoff_68deg.fif : PCA-v3 (1 x 306)  idle\n",
      "        magn8_iasoff_68deg.fif : PCA-v4 (1 x 306)  idle\n",
      "        magn8_iasoff_68deg.fif : PCA-v5 (1 x 306)  idle\n",
      "        magn8_iasoff_68deg.fif : PCA-v6 (1 x 306)  idle\n",
      "        magn8_iasoff_68deg.fif : PCA-v7 (1 x 306)  idle\n",
      "        magn8_iasoff_68deg.fif : PCA-v8 (1 x 306)  idle\n",
      "    Range : 4943000 ... 5198999 =   4943.000 ...  5198.999 secs\n",
      "Ready.\n",
      "Trigger channel has a non-zero initial value of 19 (consider using initial_event=True to detect this event)\n",
      "6 events found\n",
      "Event IDs: [ 9 23]\n",
      "Not setting metadata\n",
      "6 matching events found\n",
      "No baseline correction applied\n",
      "Created an SSP operator (subspace dimension = 8)\n",
      "8 projection items activated\n",
      "Loading data for 6 events and 1201 original time points ...\n",
      "0 bad epochs dropped\n",
      "Not setting metadata\n",
      "6 matching events found\n",
      "No baseline correction applied\n",
      "8 projection items activated\n",
      "Loading data for 6 events and 1201 original time points ...\n",
      "0 bad epochs dropped\n"
     ]
    },
    {
     "name": "stderr",
     "output_type": "stream",
     "text": [
      "/Users/jenya/Local Storage/Job Uni Rieger lab/MEG QC code/Functions/data_load_and_folders.py:113: RuntimeWarning: Trigger channel contains negative values, using absolute value. If data were acquired on a Neuromag system with STI016 active, consider using uint_cast=True to work around an acquisition bug\n",
      "  events = mne.find_events(data, stim_channel=stim_channel, min_duration=event_dur)\n"
     ]
    },
    {
     "data": {
      "application/vnd.plotly.v1+json": {
       "config": {
        "plotlyServerURL": "https://plot.ly"
       },
       "data": [
        {
         "boxpoints": "all",
         "hovertemplate": "%{text}<br>STD: %{x: .0f}",
         "line": {
          "width": 1
         },
         "marker": {
          "size": 5
         },
         "name": "",
         "opacity": 0.7,
         "pointpos": 0,
         "text": [
          "MEG0111",
          "MEG0121",
          "MEG0131",
          "MEG0141",
          "MEG0211",
          "MEG0221",
          "MEG0231",
          "MEG0241",
          "MEG0311",
          "MEG0321",
          "MEG0331",
          "MEG0341",
          "MEG0411",
          "MEG0421",
          "MEG0431",
          "MEG0441",
          "MEG0511",
          "MEG0521",
          "MEG0531",
          "MEG0541",
          "MEG0611",
          "MEG0621",
          "MEG0631",
          "MEG0641",
          "MEG0711",
          "MEG0721",
          "MEG0731",
          "MEG0741",
          "MEG0811",
          "MEG0821",
          "MEG0911",
          "MEG0921",
          "MEG0931",
          "MEG0941",
          "MEG1011",
          "MEG1021",
          "MEG1031",
          "MEG1041",
          "MEG1111",
          "MEG1121",
          "MEG1131",
          "MEG1141",
          "MEG1211",
          "MEG1221",
          "MEG1231",
          "MEG1241",
          "MEG1311",
          "MEG1321",
          "MEG1331",
          "MEG1341",
          "MEG1411",
          "MEG1421",
          "MEG1431",
          "MEG1441",
          "MEG1511",
          "MEG1521",
          "MEG1531",
          "MEG1541",
          "MEG1611",
          "MEG1621",
          "MEG1631",
          "MEG1641",
          "MEG1711",
          "MEG1721",
          "MEG1731",
          "MEG1741",
          "MEG1811",
          "MEG1821",
          "MEG1831",
          "MEG1841",
          "MEG1911",
          "MEG1921",
          "MEG1931",
          "MEG1941",
          "MEG2011",
          "MEG2021",
          "MEG2031",
          "MEG2041",
          "MEG2111",
          "MEG2121",
          "MEG2131",
          "MEG2141",
          "MEG2211",
          "MEG2221",
          "MEG2231",
          "MEG2241",
          "MEG2311",
          "MEG2321",
          "MEG2331",
          "MEG2341",
          "MEG2411",
          "MEG2421",
          "MEG2431",
          "MEG2441",
          "MEG2511",
          "MEG2521",
          "MEG2531",
          "MEG2541",
          "MEG2611",
          "MEG2621",
          "MEG2631",
          "MEG2641"
         ],
         "type": "box",
         "x": [
          1.0284142101017876e-12,
          8.606236974182337e-13,
          9.102430109159211e-13,
          1.0809012814370893e-12,
          8.304504793569212e-13,
          8.128354591553104e-13,
          8.752994003951426e-13,
          9.104457033565749e-13,
          6.571691140593979e-13,
          7.685228966629758e-13,
          8.531641129527928e-13,
          7.456456666802043e-13,
          8.608750172664536e-13,
          9.161408429752487e-13,
          9.056384936473304e-13,
          8.909285674463501e-13,
          5.969966422394238e-13,
          6.648650414288992e-13,
          7.949905235346077e-13,
          7.30941590412335e-13,
          9.237718121909057e-13,
          1.0295995620573436e-12,
          9.846855384068438e-13,
          9.429295287170633e-13,
          9.504802442756482e-13,
          9.824636992546286e-13,
          9.30107979903795e-13,
          9.303320894349824e-13,
          7.782084414206369e-13,
          8.901316532473869e-13,
          8.480435504979988e-13,
          8.939081050383024e-13,
          9.22171797775564e-13,
          9.29520853387689e-13,
          9.939007121717301e-13,
          1.0315336678745152e-12,
          1.056155284119421e-12,
          1.0215180589338464e-12,
          1.0073328611385469e-12,
          9.28945748457245e-13,
          8.729598021736787e-13,
          9.547281958169823e-13,
          8.52293932576267e-13,
          8.126343368653017e-13,
          8.634193937623936e-13,
          9.841160947013433e-13,
          8.06324609862581e-13,
          7.522287039212802e-13,
          6.671872724588942e-13,
          7.559421313144844e-13,
          8.571291065415169e-13,
          8.669004572887604e-13,
          7.814200969298813e-13,
          7.950666515412766e-13,
          9.780540552924294e-13,
          1.0789545717418585e-12,
          1.2574563649618788e-12,
          1.1508591859899549e-12,
          1.0126442027926763e-12,
          9.511946347592917e-13,
          1.0098862427705855e-12,
          1.0749106978398198e-12,
          1.345613228474161e-12,
          1.1610758687922884e-12,
          1.2186934862532531e-12,
          1.383955874539284e-12,
          9.149650498138125e-13,
          9.080156887837586e-13,
          9.116246481453197e-13,
          9.56973508777279e-13,
          1.025738785752568e-12,
          1.0976086426789047e-12,
          1.2084109065343775e-12,
          1.119487260653684e-12,
          9.289529208579212e-13,
          8.802040066988222e-13,
          9.156700955602922e-13,
          9.882926175015865e-13,
          1.0392000074837967e-12,
          1.1524493016542003e-12,
          1.2780667826494228e-12,
          1.366557436358939e-12,
          8.837184191753604e-13,
          8.036822749263196e-13,
          8.074931148846069e-13,
          8.935580356300896e-13,
          8.268959583540609e-13,
          8.076866381204819e-13,
          1.0367851417910365e-12,
          9.385564011571935e-13,
          6.927520457885602e-13,
          6.276234882178081e-13,
          6.70378171630051e-13,
          7.068365137165512e-13,
          8.83798202348178e-13,
          7.339751508936423e-13,
          9.66885267947137e-13,
          1.168941981433777e-12,
          7.094174453844768e-13,
          7.433814463130402e-13,
          8.311392425180068e-13,
          6.681205313221127e-13
         ]
        }
       ],
       "layout": {
        "template": {
         "data": {
          "bar": [
           {
            "error_x": {
             "color": "#2a3f5f"
            },
            "error_y": {
             "color": "#2a3f5f"
            },
            "marker": {
             "line": {
              "color": "#E5ECF6",
              "width": 0.5
             },
             "pattern": {
              "fillmode": "overlay",
              "size": 10,
              "solidity": 0.2
             }
            },
            "type": "bar"
           }
          ],
          "barpolar": [
           {
            "marker": {
             "line": {
              "color": "#E5ECF6",
              "width": 0.5
             },
             "pattern": {
              "fillmode": "overlay",
              "size": 10,
              "solidity": 0.2
             }
            },
            "type": "barpolar"
           }
          ],
          "carpet": [
           {
            "aaxis": {
             "endlinecolor": "#2a3f5f",
             "gridcolor": "white",
             "linecolor": "white",
             "minorgridcolor": "white",
             "startlinecolor": "#2a3f5f"
            },
            "baxis": {
             "endlinecolor": "#2a3f5f",
             "gridcolor": "white",
             "linecolor": "white",
             "minorgridcolor": "white",
             "startlinecolor": "#2a3f5f"
            },
            "type": "carpet"
           }
          ],
          "choropleth": [
           {
            "colorbar": {
             "outlinewidth": 0,
             "ticks": ""
            },
            "type": "choropleth"
           }
          ],
          "contour": [
           {
            "colorbar": {
             "outlinewidth": 0,
             "ticks": ""
            },
            "colorscale": [
             [
              0,
              "#0d0887"
             ],
             [
              0.1111111111111111,
              "#46039f"
             ],
             [
              0.2222222222222222,
              "#7201a8"
             ],
             [
              0.3333333333333333,
              "#9c179e"
             ],
             [
              0.4444444444444444,
              "#bd3786"
             ],
             [
              0.5555555555555556,
              "#d8576b"
             ],
             [
              0.6666666666666666,
              "#ed7953"
             ],
             [
              0.7777777777777778,
              "#fb9f3a"
             ],
             [
              0.8888888888888888,
              "#fdca26"
             ],
             [
              1,
              "#f0f921"
             ]
            ],
            "type": "contour"
           }
          ],
          "contourcarpet": [
           {
            "colorbar": {
             "outlinewidth": 0,
             "ticks": ""
            },
            "type": "contourcarpet"
           }
          ],
          "heatmap": [
           {
            "colorbar": {
             "outlinewidth": 0,
             "ticks": ""
            },
            "colorscale": [
             [
              0,
              "#0d0887"
             ],
             [
              0.1111111111111111,
              "#46039f"
             ],
             [
              0.2222222222222222,
              "#7201a8"
             ],
             [
              0.3333333333333333,
              "#9c179e"
             ],
             [
              0.4444444444444444,
              "#bd3786"
             ],
             [
              0.5555555555555556,
              "#d8576b"
             ],
             [
              0.6666666666666666,
              "#ed7953"
             ],
             [
              0.7777777777777778,
              "#fb9f3a"
             ],
             [
              0.8888888888888888,
              "#fdca26"
             ],
             [
              1,
              "#f0f921"
             ]
            ],
            "type": "heatmap"
           }
          ],
          "heatmapgl": [
           {
            "colorbar": {
             "outlinewidth": 0,
             "ticks": ""
            },
            "colorscale": [
             [
              0,
              "#0d0887"
             ],
             [
              0.1111111111111111,
              "#46039f"
             ],
             [
              0.2222222222222222,
              "#7201a8"
             ],
             [
              0.3333333333333333,
              "#9c179e"
             ],
             [
              0.4444444444444444,
              "#bd3786"
             ],
             [
              0.5555555555555556,
              "#d8576b"
             ],
             [
              0.6666666666666666,
              "#ed7953"
             ],
             [
              0.7777777777777778,
              "#fb9f3a"
             ],
             [
              0.8888888888888888,
              "#fdca26"
             ],
             [
              1,
              "#f0f921"
             ]
            ],
            "type": "heatmapgl"
           }
          ],
          "histogram": [
           {
            "marker": {
             "pattern": {
              "fillmode": "overlay",
              "size": 10,
              "solidity": 0.2
             }
            },
            "type": "histogram"
           }
          ],
          "histogram2d": [
           {
            "colorbar": {
             "outlinewidth": 0,
             "ticks": ""
            },
            "colorscale": [
             [
              0,
              "#0d0887"
             ],
             [
              0.1111111111111111,
              "#46039f"
             ],
             [
              0.2222222222222222,
              "#7201a8"
             ],
             [
              0.3333333333333333,
              "#9c179e"
             ],
             [
              0.4444444444444444,
              "#bd3786"
             ],
             [
              0.5555555555555556,
              "#d8576b"
             ],
             [
              0.6666666666666666,
              "#ed7953"
             ],
             [
              0.7777777777777778,
              "#fb9f3a"
             ],
             [
              0.8888888888888888,
              "#fdca26"
             ],
             [
              1,
              "#f0f921"
             ]
            ],
            "type": "histogram2d"
           }
          ],
          "histogram2dcontour": [
           {
            "colorbar": {
             "outlinewidth": 0,
             "ticks": ""
            },
            "colorscale": [
             [
              0,
              "#0d0887"
             ],
             [
              0.1111111111111111,
              "#46039f"
             ],
             [
              0.2222222222222222,
              "#7201a8"
             ],
             [
              0.3333333333333333,
              "#9c179e"
             ],
             [
              0.4444444444444444,
              "#bd3786"
             ],
             [
              0.5555555555555556,
              "#d8576b"
             ],
             [
              0.6666666666666666,
              "#ed7953"
             ],
             [
              0.7777777777777778,
              "#fb9f3a"
             ],
             [
              0.8888888888888888,
              "#fdca26"
             ],
             [
              1,
              "#f0f921"
             ]
            ],
            "type": "histogram2dcontour"
           }
          ],
          "mesh3d": [
           {
            "colorbar": {
             "outlinewidth": 0,
             "ticks": ""
            },
            "type": "mesh3d"
           }
          ],
          "parcoords": [
           {
            "line": {
             "colorbar": {
              "outlinewidth": 0,
              "ticks": ""
             }
            },
            "type": "parcoords"
           }
          ],
          "pie": [
           {
            "automargin": true,
            "type": "pie"
           }
          ],
          "scatter": [
           {
            "fillpattern": {
             "fillmode": "overlay",
             "size": 10,
             "solidity": 0.2
            },
            "type": "scatter"
           }
          ],
          "scatter3d": [
           {
            "line": {
             "colorbar": {
              "outlinewidth": 0,
              "ticks": ""
             }
            },
            "marker": {
             "colorbar": {
              "outlinewidth": 0,
              "ticks": ""
             }
            },
            "type": "scatter3d"
           }
          ],
          "scattercarpet": [
           {
            "marker": {
             "colorbar": {
              "outlinewidth": 0,
              "ticks": ""
             }
            },
            "type": "scattercarpet"
           }
          ],
          "scattergeo": [
           {
            "marker": {
             "colorbar": {
              "outlinewidth": 0,
              "ticks": ""
             }
            },
            "type": "scattergeo"
           }
          ],
          "scattergl": [
           {
            "marker": {
             "colorbar": {
              "outlinewidth": 0,
              "ticks": ""
             }
            },
            "type": "scattergl"
           }
          ],
          "scattermapbox": [
           {
            "marker": {
             "colorbar": {
              "outlinewidth": 0,
              "ticks": ""
             }
            },
            "type": "scattermapbox"
           }
          ],
          "scatterpolar": [
           {
            "marker": {
             "colorbar": {
              "outlinewidth": 0,
              "ticks": ""
             }
            },
            "type": "scatterpolar"
           }
          ],
          "scatterpolargl": [
           {
            "marker": {
             "colorbar": {
              "outlinewidth": 0,
              "ticks": ""
             }
            },
            "type": "scatterpolargl"
           }
          ],
          "scatterternary": [
           {
            "marker": {
             "colorbar": {
              "outlinewidth": 0,
              "ticks": ""
             }
            },
            "type": "scatterternary"
           }
          ],
          "surface": [
           {
            "colorbar": {
             "outlinewidth": 0,
             "ticks": ""
            },
            "colorscale": [
             [
              0,
              "#0d0887"
             ],
             [
              0.1111111111111111,
              "#46039f"
             ],
             [
              0.2222222222222222,
              "#7201a8"
             ],
             [
              0.3333333333333333,
              "#9c179e"
             ],
             [
              0.4444444444444444,
              "#bd3786"
             ],
             [
              0.5555555555555556,
              "#d8576b"
             ],
             [
              0.6666666666666666,
              "#ed7953"
             ],
             [
              0.7777777777777778,
              "#fb9f3a"
             ],
             [
              0.8888888888888888,
              "#fdca26"
             ],
             [
              1,
              "#f0f921"
             ]
            ],
            "type": "surface"
           }
          ],
          "table": [
           {
            "cells": {
             "fill": {
              "color": "#EBF0F8"
             },
             "line": {
              "color": "white"
             }
            },
            "header": {
             "fill": {
              "color": "#C8D4E3"
             },
             "line": {
              "color": "white"
             }
            },
            "type": "table"
           }
          ]
         },
         "layout": {
          "annotationdefaults": {
           "arrowcolor": "#2a3f5f",
           "arrowhead": 0,
           "arrowwidth": 1
          },
          "autotypenumbers": "strict",
          "coloraxis": {
           "colorbar": {
            "outlinewidth": 0,
            "ticks": ""
           }
          },
          "colorscale": {
           "diverging": [
            [
             0,
             "#8e0152"
            ],
            [
             0.1,
             "#c51b7d"
            ],
            [
             0.2,
             "#de77ae"
            ],
            [
             0.3,
             "#f1b6da"
            ],
            [
             0.4,
             "#fde0ef"
            ],
            [
             0.5,
             "#f7f7f7"
            ],
            [
             0.6,
             "#e6f5d0"
            ],
            [
             0.7,
             "#b8e186"
            ],
            [
             0.8,
             "#7fbc41"
            ],
            [
             0.9,
             "#4d9221"
            ],
            [
             1,
             "#276419"
            ]
           ],
           "sequential": [
            [
             0,
             "#0d0887"
            ],
            [
             0.1111111111111111,
             "#46039f"
            ],
            [
             0.2222222222222222,
             "#7201a8"
            ],
            [
             0.3333333333333333,
             "#9c179e"
            ],
            [
             0.4444444444444444,
             "#bd3786"
            ],
            [
             0.5555555555555556,
             "#d8576b"
            ],
            [
             0.6666666666666666,
             "#ed7953"
            ],
            [
             0.7777777777777778,
             "#fb9f3a"
            ],
            [
             0.8888888888888888,
             "#fdca26"
            ],
            [
             1,
             "#f0f921"
            ]
           ],
           "sequentialminus": [
            [
             0,
             "#0d0887"
            ],
            [
             0.1111111111111111,
             "#46039f"
            ],
            [
             0.2222222222222222,
             "#7201a8"
            ],
            [
             0.3333333333333333,
             "#9c179e"
            ],
            [
             0.4444444444444444,
             "#bd3786"
            ],
            [
             0.5555555555555556,
             "#d8576b"
            ],
            [
             0.6666666666666666,
             "#ed7953"
            ],
            [
             0.7777777777777778,
             "#fb9f3a"
            ],
            [
             0.8888888888888888,
             "#fdca26"
            ],
            [
             1,
             "#f0f921"
            ]
           ]
          },
          "colorway": [
           "#636efa",
           "#EF553B",
           "#00cc96",
           "#ab63fa",
           "#FFA15A",
           "#19d3f3",
           "#FF6692",
           "#B6E880",
           "#FF97FF",
           "#FECB52"
          ],
          "font": {
           "color": "#2a3f5f"
          },
          "geo": {
           "bgcolor": "white",
           "lakecolor": "white",
           "landcolor": "#E5ECF6",
           "showlakes": true,
           "showland": true,
           "subunitcolor": "white"
          },
          "hoverlabel": {
           "align": "left"
          },
          "hovermode": "closest",
          "mapbox": {
           "style": "light"
          },
          "paper_bgcolor": "white",
          "plot_bgcolor": "#E5ECF6",
          "polar": {
           "angularaxis": {
            "gridcolor": "white",
            "linecolor": "white",
            "ticks": ""
           },
           "bgcolor": "#E5ECF6",
           "radialaxis": {
            "gridcolor": "white",
            "linecolor": "white",
            "ticks": ""
           }
          },
          "scene": {
           "xaxis": {
            "backgroundcolor": "#E5ECF6",
            "gridcolor": "white",
            "gridwidth": 2,
            "linecolor": "white",
            "showbackground": true,
            "ticks": "",
            "zerolinecolor": "white"
           },
           "yaxis": {
            "backgroundcolor": "#E5ECF6",
            "gridcolor": "white",
            "gridwidth": 2,
            "linecolor": "white",
            "showbackground": true,
            "ticks": "",
            "zerolinecolor": "white"
           },
           "zaxis": {
            "backgroundcolor": "#E5ECF6",
            "gridcolor": "white",
            "gridwidth": 2,
            "linecolor": "white",
            "showbackground": true,
            "ticks": "",
            "zerolinecolor": "white"
           }
          },
          "shapedefaults": {
           "line": {
            "color": "#2a3f5f"
           }
          },
          "ternary": {
           "aaxis": {
            "gridcolor": "white",
            "linecolor": "white",
            "ticks": ""
           },
           "baxis": {
            "gridcolor": "white",
            "linecolor": "white",
            "ticks": ""
           },
           "bgcolor": "#E5ECF6",
           "caxis": {
            "gridcolor": "white",
            "linecolor": "white",
            "ticks": ""
           }
          },
          "title": {
           "x": 0.05
          },
          "xaxis": {
           "automargin": true,
           "gridcolor": "white",
           "linecolor": "white",
           "ticks": "",
           "title": {
            "standoff": 15
           },
           "zerolinecolor": "white",
           "zerolinewidth": 2
          },
          "yaxis": {
           "automargin": true,
           "gridcolor": "white",
           "linecolor": "white",
           "ticks": "",
           "title": {
            "standoff": 15
           },
           "zerolinecolor": "white",
           "zerolinewidth": 2
          }
         }
        },
        "title": {
         "text": "Standard deviation of the data for Magnetometers over whole time series",
         "x": 0.5,
         "xanchor": "center",
         "y": 0.85,
         "yanchor": "top"
        },
        "xaxis": {
         "exponentformat": "e",
         "showexponent": "all",
         "title": {
          "text": "standard deviation in T"
         }
        },
        "yaxis": {
         "showticklabels": false,
         "visible": false
        }
       }
      }
     },
     "metadata": {},
     "output_type": "display_data"
    },
    {
     "data": {
      "application/vnd.plotly.v1+json": {
       "config": {
        "plotlyServerURL": "https://plot.ly"
       },
       "data": [
        {
         "boxpoints": "all",
         "hovertemplate": "Epoch: %{text}<br>STD: %{y: .2e}",
         "line": {
          "width": 1
         },
         "marker": {
          "size": 3
         },
         "name": "MEG0111",
         "opacity": 0.7,
         "pointpos": 0,
         "text": [
          0,
          1,
          2,
          3,
          4,
          5
         ],
         "type": "box",
         "y": [
          1.4458359567803356e-13,
          1.5099069578669314e-13,
          1.4851908326405356e-13,
          1.4625614328734065e-13,
          1.4576123489141996e-13,
          1.266769219670825e-13
         ]
        },
        {
         "boxpoints": "all",
         "hovertemplate": "Epoch: %{text}<br>STD: %{y: .2e}",
         "line": {
          "width": 1
         },
         "marker": {
          "size": 3
         },
         "name": "MEG0121",
         "opacity": 0.7,
         "pointpos": 0,
         "text": [
          0,
          1,
          2,
          3,
          4,
          5
         ],
         "type": "box",
         "y": [
          1.0978411433821906e-13,
          1.209227612401593e-13,
          1.0873139908148228e-13,
          9.414553308762114e-14,
          1.0319074599774603e-13,
          9.520656214822971e-14
         ]
        },
        {
         "boxpoints": "all",
         "hovertemplate": "Epoch: %{text}<br>STD: %{y: .2e}",
         "line": {
          "width": 1
         },
         "marker": {
          "size": 3
         },
         "name": "MEG0131",
         "opacity": 0.7,
         "pointpos": 0,
         "text": [
          0,
          1,
          2,
          3,
          4,
          5
         ],
         "type": "box",
         "y": [
          1.0008711712749879e-13,
          1.0330249310670034e-13,
          9.193462096257418e-14,
          8.999153584926661e-14,
          1.1951485878820345e-13,
          1.073325221551529e-13
         ]
        },
        {
         "boxpoints": "all",
         "hovertemplate": "Epoch: %{text}<br>STD: %{y: .2e}",
         "line": {
          "width": 1
         },
         "marker": {
          "size": 3
         },
         "name": "MEG0141",
         "opacity": 0.7,
         "pointpos": 0,
         "text": [
          0,
          1,
          2,
          3,
          4,
          5
         ],
         "type": "box",
         "y": [
          1.3659859317021825e-13,
          1.4694565300537747e-13,
          1.4542170235206285e-13,
          1.5727275532156132e-13,
          1.4355502607961007e-13,
          1.051061396305607e-13
         ]
        },
        {
         "boxpoints": "all",
         "hovertemplate": "Epoch: %{text}<br>STD: %{y: .2e}",
         "line": {
          "width": 1
         },
         "marker": {
          "size": 3
         },
         "name": "MEG0211",
         "opacity": 0.7,
         "pointpos": 0,
         "text": [
          0,
          1,
          2,
          3,
          4,
          5
         ],
         "type": "box",
         "y": [
          1.3391619959389496e-13,
          1.1875566232057094e-13,
          1.1071646347464527e-13,
          1.2073949775596026e-13,
          1.557805757669282e-13,
          1.3309615828119057e-13
         ]
        },
        {
         "boxpoints": "all",
         "hovertemplate": "Epoch: %{text}<br>STD: %{y: .2e}",
         "line": {
          "width": 1
         },
         "marker": {
          "size": 3
         },
         "name": "MEG0221",
         "opacity": 0.7,
         "pointpos": 0,
         "text": [
          0,
          1,
          2,
          3,
          4,
          5
         ],
         "type": "box",
         "y": [
          9.795301289975736e-14,
          1.0805716993830025e-13,
          1.1055993307977763e-13,
          9.284122289689319e-14,
          1.065928788044276e-13,
          1.0810268081783823e-13
         ]
        },
        {
         "boxpoints": "all",
         "hovertemplate": "Epoch: %{text}<br>STD: %{y: .2e}",
         "line": {
          "width": 1
         },
         "marker": {
          "size": 3
         },
         "name": "MEG0231",
         "opacity": 0.7,
         "pointpos": 0,
         "text": [
          0,
          1,
          2,
          3,
          4,
          5
         ],
         "type": "box",
         "y": [
          1.1710548438989186e-13,
          9.736535918670663e-14,
          1.1450586400600965e-13,
          1.1201417084037452e-13,
          1.1836633692894307e-13,
          1.0261518818213991e-13
         ]
        },
        {
         "boxpoints": "all",
         "hovertemplate": "Epoch: %{text}<br>STD: %{y: .2e}",
         "line": {
          "width": 1
         },
         "marker": {
          "size": 3
         },
         "name": "MEG0241",
         "opacity": 0.7,
         "pointpos": 0,
         "text": [
          0,
          1,
          2,
          3,
          4,
          5
         ],
         "type": "box",
         "y": [
          1.5874654698295937e-13,
          1.1166720439228275e-13,
          1.5030831868883504e-13,
          1.4314823845186768e-13,
          1.6623018284823915e-13,
          1.1487599766284121e-13
         ]
        },
        {
         "boxpoints": "all",
         "hovertemplate": "Epoch: %{text}<br>STD: %{y: .2e}",
         "line": {
          "width": 1
         },
         "marker": {
          "size": 3
         },
         "name": "MEG0311",
         "opacity": 0.7,
         "pointpos": 0,
         "text": [
          0,
          1,
          2,
          3,
          4,
          5
         ],
         "type": "box",
         "y": [
          1.3649625570702556e-13,
          1.461704894396248e-13,
          1.3853530750111838e-13,
          1.2297913568126453e-13,
          1.2594303411862243e-13,
          1.2224802291888136e-13
         ]
        },
        {
         "boxpoints": "all",
         "hovertemplate": "Epoch: %{text}<br>STD: %{y: .2e}",
         "line": {
          "width": 1
         },
         "marker": {
          "size": 3
         },
         "name": "MEG0321",
         "opacity": 0.7,
         "pointpos": 0,
         "text": [
          0,
          1,
          2,
          3,
          4,
          5
         ],
         "type": "box",
         "y": [
          1.1007117267147986e-13,
          1.241128767305536e-13,
          1.0611688804677141e-13,
          9.651045091532393e-14,
          1.0528612711537266e-13,
          9.604737175701466e-14
         ]
        },
        {
         "boxpoints": "all",
         "hovertemplate": "Epoch: %{text}<br>STD: %{y: .2e}",
         "line": {
          "width": 1
         },
         "marker": {
          "size": 3
         },
         "name": "MEG0331",
         "opacity": 0.7,
         "pointpos": 0,
         "text": [
          0,
          1,
          2,
          3,
          4,
          5
         ],
         "type": "box",
         "y": [
          9.138968971952438e-14,
          9.334003933152384e-14,
          8.829428484502926e-14,
          8.666145962908397e-14,
          9.067898702789484e-14,
          7.984382549058104e-14
         ]
        },
        {
         "boxpoints": "all",
         "hovertemplate": "Epoch: %{text}<br>STD: %{y: .2e}",
         "line": {
          "width": 1
         },
         "marker": {
          "size": 3
         },
         "name": "MEG0341",
         "opacity": 0.7,
         "pointpos": 0,
         "text": [
          0,
          1,
          2,
          3,
          4,
          5
         ],
         "type": "box",
         "y": [
          1.1106696347953154e-13,
          1.2547667803748202e-13,
          1.0541267443545939e-13,
          1.0919886032518989e-13,
          1.1964935497582945e-13,
          1.216823260939584e-13
         ]
        },
        {
         "boxpoints": "all",
         "hovertemplate": "Epoch: %{text}<br>STD: %{y: .2e}",
         "line": {
          "width": 1
         },
         "marker": {
          "size": 3
         },
         "name": "MEG0411",
         "opacity": 0.7,
         "pointpos": 0,
         "text": [
          0,
          1,
          2,
          3,
          4,
          5
         ],
         "type": "box",
         "y": [
          9.575083751458548e-14,
          1.0936910700816419e-13,
          1.1269476238910054e-13,
          9.08399235040348e-14,
          1.017207036657467e-13,
          9.80392585275204e-14
         ]
        },
        {
         "boxpoints": "all",
         "hovertemplate": "Epoch: %{text}<br>STD: %{y: .2e}",
         "line": {
          "width": 1
         },
         "marker": {
          "size": 3
         },
         "name": "MEG0421",
         "opacity": 0.7,
         "pointpos": 0,
         "text": [
          0,
          1,
          2,
          3,
          4,
          5
         ],
         "type": "box",
         "y": [
          7.813595536936026e-14,
          6.594727228701076e-14,
          7.580649514095441e-14,
          6.824625769360518e-14,
          7.706752510935184e-14,
          6.129467593322603e-14
         ]
        },
        {
         "boxpoints": "all",
         "hovertemplate": "Epoch: %{text}<br>STD: %{y: .2e}",
         "line": {
          "width": 1
         },
         "marker": {
          "size": 3
         },
         "name": "MEG0431",
         "opacity": 0.7,
         "pointpos": 0,
         "text": [
          0,
          1,
          2,
          3,
          4,
          5
         ],
         "type": "box",
         "y": [
          8.27908332404688e-14,
          7.432717118984917e-14,
          9.077969567002982e-14,
          7.78725042906081e-14,
          8.534985886903227e-14,
          7.029992408159947e-14
         ]
        },
        {
         "boxpoints": "all",
         "hovertemplate": "Epoch: %{text}<br>STD: %{y: .2e}",
         "line": {
          "width": 1
         },
         "marker": {
          "size": 3
         },
         "name": "MEG0441",
         "opacity": 0.7,
         "pointpos": 0,
         "text": [
          0,
          1,
          2,
          3,
          4,
          5
         ],
         "type": "box",
         "y": [
          9.362988254781278e-14,
          9.697293094893351e-14,
          1.1670391863150207e-13,
          9.809571624716377e-14,
          8.741193978035872e-14,
          8.915857587594453e-14
         ]
        },
        {
         "boxpoints": "all",
         "hovertemplate": "Epoch: %{text}<br>STD: %{y: .2e}",
         "line": {
          "width": 1
         },
         "marker": {
          "size": 3
         },
         "name": "MEG0511",
         "opacity": 0.7,
         "pointpos": 0,
         "text": [
          0,
          1,
          2,
          3,
          4,
          5
         ],
         "type": "box",
         "y": [
          1.7062584916198865e-13,
          1.8556282722020086e-13,
          2.171979847546934e-13,
          1.869040956296695e-13,
          1.5422370841477977e-13,
          1.6269914935381757e-13
         ]
        },
        {
         "boxpoints": "all",
         "hovertemplate": "Epoch: %{text}<br>STD: %{y: .2e}",
         "line": {
          "width": 1
         },
         "marker": {
          "size": 3
         },
         "name": "MEG0521",
         "opacity": 0.7,
         "pointpos": 0,
         "text": [
          0,
          1,
          2,
          3,
          4,
          5
         ],
         "type": "box",
         "y": [
          1.8465420177690084e-13,
          1.6827017572241544e-13,
          2.2228756317556252e-13,
          1.8871333530278405e-13,
          1.5852928958314116e-13,
          1.7291948490727317e-13
         ]
        },
        {
         "boxpoints": "all",
         "hovertemplate": "Epoch: %{text}<br>STD: %{y: .2e}",
         "line": {
          "width": 1
         },
         "marker": {
          "size": 3
         },
         "name": "MEG0531",
         "opacity": 0.7,
         "pointpos": 0,
         "text": [
          0,
          1,
          2,
          3,
          4,
          5
         ],
         "type": "box",
         "y": [
          9.890775265213327e-14,
          9.006358427739406e-14,
          1.196700283503834e-13,
          1.0118125079850978e-13,
          9.814341064566532e-14,
          1.0188970799907788e-13
         ]
        },
        {
         "boxpoints": "all",
         "hovertemplate": "Epoch: %{text}<br>STD: %{y: .2e}",
         "line": {
          "width": 1
         },
         "marker": {
          "size": 3
         },
         "name": "MEG0541",
         "opacity": 0.7,
         "pointpos": 0,
         "text": [
          0,
          1,
          2,
          3,
          4,
          5
         ],
         "type": "box",
         "y": [
          1.323095002718135e-13,
          1.2561992536695263e-13,
          1.219180985415953e-13,
          1.1519932097721312e-13,
          1.1479892947090496e-13,
          1.186463113088983e-13
         ]
        },
        {
         "boxpoints": "all",
         "hovertemplate": "Epoch: %{text}<br>STD: %{y: .2e}",
         "line": {
          "width": 1
         },
         "marker": {
          "size": 3
         },
         "name": "MEG0611",
         "opacity": 0.7,
         "pointpos": 0,
         "text": [
          0,
          1,
          2,
          3,
          4,
          5
         ],
         "type": "box",
         "y": [
          9.184781698610896e-14,
          6.635056281354632e-14,
          7.515129319544842e-14,
          6.935717488846675e-14,
          7.626073702227551e-14,
          6.401019759263006e-14
         ]
        },
        {
         "boxpoints": "all",
         "hovertemplate": "Epoch: %{text}<br>STD: %{y: .2e}",
         "line": {
          "width": 1
         },
         "marker": {
          "size": 3
         },
         "name": "MEG0621",
         "opacity": 0.7,
         "pointpos": 0,
         "text": [
          0,
          1,
          2,
          3,
          4,
          5
         ],
         "type": "box",
         "y": [
          7.100627673486372e-14,
          9.020222079141194e-14,
          8.225597859503945e-14,
          8.223585594243195e-14,
          7.207609243497753e-14,
          6.871836302335352e-14
         ]
        },
        {
         "boxpoints": "all",
         "hovertemplate": "Epoch: %{text}<br>STD: %{y: .2e}",
         "line": {
          "width": 1
         },
         "marker": {
          "size": 3
         },
         "name": "MEG0631",
         "opacity": 0.7,
         "pointpos": 0,
         "text": [
          0,
          1,
          2,
          3,
          4,
          5
         ],
         "type": "box",
         "y": [
          7.254985446282465e-14,
          6.495862170203348e-14,
          7.304690730834778e-14,
          7.462372947160748e-14,
          7.533855929828464e-14,
          6.559217521416489e-14
         ]
        },
        {
         "boxpoints": "all",
         "hovertemplate": "Epoch: %{text}<br>STD: %{y: .2e}",
         "line": {
          "width": 1
         },
         "marker": {
          "size": 3
         },
         "name": "MEG0641",
         "opacity": 0.7,
         "pointpos": 0,
         "text": [
          0,
          1,
          2,
          3,
          4,
          5
         ],
         "type": "box",
         "y": [
          7.283685379048044e-14,
          6.704999621887426e-14,
          6.797364945744768e-14,
          5.999430393568918e-14,
          7.360221469544092e-14,
          6.05550985534317e-14
         ]
        },
        {
         "boxpoints": "all",
         "hovertemplate": "Epoch: %{text}<br>STD: %{y: .2e}",
         "line": {
          "width": 1
         },
         "marker": {
          "size": 3
         },
         "name": "MEG0711",
         "opacity": 0.7,
         "pointpos": 0,
         "text": [
          0,
          1,
          2,
          3,
          4,
          5
         ],
         "type": "box",
         "y": [
          9.612120064416863e-14,
          8.53532811584221e-14,
          9.137317091082831e-14,
          8.893107247404976e-14,
          9.41344117488107e-14,
          8.07081570318615e-14
         ]
        },
        {
         "boxpoints": "all",
         "hovertemplate": "Epoch: %{text}<br>STD: %{y: .2e}",
         "line": {
          "width": 1
         },
         "marker": {
          "size": 3
         },
         "name": "MEG0721",
         "opacity": 0.7,
         "pointpos": 0,
         "text": [
          0,
          1,
          2,
          3,
          4,
          5
         ],
         "type": "box",
         "y": [
          1.1232145929314719e-13,
          1.0154024237292437e-13,
          1.1062015435975619e-13,
          9.309086680096287e-14,
          9.13602589768341e-14,
          9.165551584032237e-14
         ]
        },
        {
         "boxpoints": "all",
         "hovertemplate": "Epoch: %{text}<br>STD: %{y: .2e}",
         "line": {
          "width": 1
         },
         "marker": {
          "size": 3
         },
         "name": "MEG0731",
         "opacity": 0.7,
         "pointpos": 0,
         "text": [
          0,
          1,
          2,
          3,
          4,
          5
         ],
         "type": "box",
         "y": [
          1.2549765838367796e-13,
          1.0288004094253486e-13,
          1.093066873354541e-13,
          1.008641804913089e-13,
          8.976109575267859e-14,
          9.296444222231232e-14
         ]
        },
        {
         "boxpoints": "all",
         "hovertemplate": "Epoch: %{text}<br>STD: %{y: .2e}",
         "line": {
          "width": 1
         },
         "marker": {
          "size": 3
         },
         "name": "MEG0741",
         "opacity": 0.7,
         "pointpos": 0,
         "text": [
          0,
          1,
          2,
          3,
          4,
          5
         ],
         "type": "box",
         "y": [
          1.2847006889578285e-13,
          9.976988689854086e-14,
          1.1747414667400135e-13,
          1.0708526505011154e-13,
          1.0918975755223449e-13,
          9.979096641756979e-14
         ]
        },
        {
         "boxpoints": "all",
         "hovertemplate": "Epoch: %{text}<br>STD: %{y: .2e}",
         "line": {
          "width": 1
         },
         "marker": {
          "size": 3
         },
         "name": "MEG0811",
         "opacity": 0.7,
         "pointpos": 0,
         "text": [
          0,
          1,
          2,
          3,
          4,
          5
         ],
         "type": "box",
         "y": [
          1.5335476252098897e-13,
          1.3322429249946696e-13,
          1.8515187610017677e-13,
          1.6898810618391427e-13,
          1.4095705486838924e-13,
          1.4544319176323077e-13
         ]
        },
        {
         "boxpoints": "all",
         "hovertemplate": "Epoch: %{text}<br>STD: %{y: .2e}",
         "line": {
          "width": 1
         },
         "marker": {
          "size": 3
         },
         "name": "MEG0821",
         "opacity": 0.7,
         "pointpos": 0,
         "text": [
          0,
          1,
          2,
          3,
          4,
          5
         ],
         "type": "box",
         "y": [
          7.575601383110996e-14,
          6.767744607338546e-14,
          8.413093860013667e-14,
          9.013461219245961e-14,
          7.872359176207844e-14,
          7.294571533913754e-14
         ]
        },
        {
         "boxpoints": "all",
         "hovertemplate": "Epoch: %{text}<br>STD: %{y: .2e}",
         "line": {
          "width": 1
         },
         "marker": {
          "size": 3
         },
         "name": "MEG0911",
         "opacity": 0.7,
         "pointpos": 0,
         "text": [
          0,
          1,
          2,
          3,
          4,
          5
         ],
         "type": "box",
         "y": [
          1.418524406284171e-13,
          1.1737814558572427e-13,
          1.4688906130320928e-13,
          1.4602364492122015e-13,
          1.2640120487393124e-13,
          1.1997548281111928e-13
         ]
        },
        {
         "boxpoints": "all",
         "hovertemplate": "Epoch: %{text}<br>STD: %{y: .2e}",
         "line": {
          "width": 1
         },
         "marker": {
          "size": 3
         },
         "name": "MEG0921",
         "opacity": 0.7,
         "pointpos": 0,
         "text": [
          0,
          1,
          2,
          3,
          4,
          5
         ],
         "type": "box",
         "y": [
          1.2769859963541424e-13,
          1.0184161790905376e-13,
          9.863218634865089e-14,
          1.0166459548365508e-13,
          9.795486268772524e-14,
          9.766057612627718e-14
         ]
        },
        {
         "boxpoints": "all",
         "hovertemplate": "Epoch: %{text}<br>STD: %{y: .2e}",
         "line": {
          "width": 1
         },
         "marker": {
          "size": 3
         },
         "name": "MEG0931",
         "opacity": 0.7,
         "pointpos": 0,
         "text": [
          0,
          1,
          2,
          3,
          4,
          5
         ],
         "type": "box",
         "y": [
          1.0370708457652482e-13,
          8.641212968725487e-14,
          9.810892228767303e-14,
          8.014555311333516e-14,
          8.953093735097317e-14,
          8.361131284916938e-14
         ]
        },
        {
         "boxpoints": "all",
         "hovertemplate": "Epoch: %{text}<br>STD: %{y: .2e}",
         "line": {
          "width": 1
         },
         "marker": {
          "size": 3
         },
         "name": "MEG0941",
         "opacity": 0.7,
         "pointpos": 0,
         "text": [
          0,
          1,
          2,
          3,
          4,
          5
         ],
         "type": "box",
         "y": [
          7.147754822174975e-14,
          7.248834404627075e-14,
          6.829889082318361e-14,
          7.681492954569492e-14,
          7.92625467969283e-14,
          6.215086387630853e-14
         ]
        },
        {
         "boxpoints": "all",
         "hovertemplate": "Epoch: %{text}<br>STD: %{y: .2e}",
         "line": {
          "width": 1
         },
         "marker": {
          "size": 3
         },
         "name": "MEG1011",
         "opacity": 0.7,
         "pointpos": 0,
         "text": [
          0,
          1,
          2,
          3,
          4,
          5
         ],
         "type": "box",
         "y": [
          9.80744176315312e-14,
          1.0244182584908168e-13,
          9.030535791773709e-14,
          9.161913324443839e-14,
          7.9265370127812e-14,
          7.003416272662121e-14
         ]
        },
        {
         "boxpoints": "all",
         "hovertemplate": "Epoch: %{text}<br>STD: %{y: .2e}",
         "line": {
          "width": 1
         },
         "marker": {
          "size": 3
         },
         "name": "MEG1021",
         "opacity": 0.7,
         "pointpos": 0,
         "text": [
          0,
          1,
          2,
          3,
          4,
          5
         ],
         "type": "box",
         "y": [
          8.821003695698215e-14,
          7.941636429622343e-14,
          1.0371864221642303e-13,
          9.783557059207302e-14,
          7.71830002162194e-14,
          7.960809387219715e-14
         ]
        },
        {
         "boxpoints": "all",
         "hovertemplate": "Epoch: %{text}<br>STD: %{y: .2e}",
         "line": {
          "width": 1
         },
         "marker": {
          "size": 3
         },
         "name": "MEG1031",
         "opacity": 0.7,
         "pointpos": 0,
         "text": [
          0,
          1,
          2,
          3,
          4,
          5
         ],
         "type": "box",
         "y": [
          7.751813359683272e-14,
          9.042316287915982e-14,
          1.2014163087716787e-13,
          9.717931614876155e-14,
          8.530432650233059e-14,
          8.360864182326968e-14
         ]
        },
        {
         "boxpoints": "all",
         "hovertemplate": "Epoch: %{text}<br>STD: %{y: .2e}",
         "line": {
          "width": 1
         },
         "marker": {
          "size": 3
         },
         "name": "MEG1041",
         "opacity": 0.7,
         "pointpos": 0,
         "text": [
          0,
          1,
          2,
          3,
          4,
          5
         ],
         "type": "box",
         "y": [
          7.581906229155446e-14,
          7.609606132139349e-14,
          8.616618372058146e-14,
          7.904662133765877e-14,
          7.035219221825371e-14,
          7.134307769395353e-14
         ]
        },
        {
         "boxpoints": "all",
         "hovertemplate": "Epoch: %{text}<br>STD: %{y: .2e}",
         "line": {
          "width": 1
         },
         "marker": {
          "size": 3
         },
         "name": "MEG1111",
         "opacity": 0.7,
         "pointpos": 0,
         "text": [
          0,
          1,
          2,
          3,
          4,
          5
         ],
         "type": "box",
         "y": [
          8.465079266654656e-14,
          9.217883118285707e-14,
          1.106266765697064e-13,
          8.936307432178339e-14,
          9.103616399507225e-14,
          9.117031138433886e-14
         ]
        },
        {
         "boxpoints": "all",
         "hovertemplate": "Epoch: %{text}<br>STD: %{y: .2e}",
         "line": {
          "width": 1
         },
         "marker": {
          "size": 3
         },
         "name": "MEG1121",
         "opacity": 0.7,
         "pointpos": 0,
         "text": [
          0,
          1,
          2,
          3,
          4,
          5
         ],
         "type": "box",
         "y": [
          1.2555718381970737e-13,
          1.2800934752075225e-13,
          1.563419409270261e-13,
          1.1722037719673427e-13,
          1.2796492449534845e-13,
          1.3302269314543135e-13
         ]
        },
        {
         "boxpoints": "all",
         "hovertemplate": "Epoch: %{text}<br>STD: %{y: .2e}",
         "line": {
          "width": 1
         },
         "marker": {
          "size": 3
         },
         "name": "MEG1131",
         "opacity": 0.7,
         "pointpos": 0,
         "text": [
          0,
          1,
          2,
          3,
          4,
          5
         ],
         "type": "box",
         "y": [
          1.1164169024338605e-13,
          1.0261678181448484e-13,
          1.3249397286926773e-13,
          1.0466769767203297e-13,
          1.1097806813408881e-13,
          1.1827080139364496e-13
         ]
        },
        {
         "boxpoints": "all",
         "hovertemplate": "Epoch: %{text}<br>STD: %{y: .2e}",
         "line": {
          "width": 1
         },
         "marker": {
          "size": 3
         },
         "name": "MEG1141",
         "opacity": 0.7,
         "pointpos": 0,
         "text": [
          0,
          1,
          2,
          3,
          4,
          5
         ],
         "type": "box",
         "y": [
          8.56565079515606e-14,
          8.682868000860227e-14,
          1.0524480702142873e-13,
          7.54267801625605e-14,
          9.597336628740364e-14,
          8.409387471422392e-14
         ]
        },
        {
         "boxpoints": "all",
         "hovertemplate": "Epoch: %{text}<br>STD: %{y: .2e}",
         "line": {
          "width": 1
         },
         "marker": {
          "size": 3
         },
         "name": "MEG1211",
         "opacity": 0.7,
         "pointpos": 0,
         "text": [
          0,
          1,
          2,
          3,
          4,
          5
         ],
         "type": "box",
         "y": [
          1.25893055360143e-13,
          1.0842823561260139e-13,
          9.109514963418584e-14,
          9.899455377183381e-14,
          8.54262942538692e-14,
          9.773197341269494e-14
         ]
        },
        {
         "boxpoints": "all",
         "hovertemplate": "Epoch: %{text}<br>STD: %{y: .2e}",
         "line": {
          "width": 1
         },
         "marker": {
          "size": 3
         },
         "name": "MEG1221",
         "opacity": 0.7,
         "pointpos": 0,
         "text": [
          0,
          1,
          2,
          3,
          4,
          5
         ],
         "type": "box",
         "y": [
          1.1522387794727295e-13,
          1.0858631476871999e-13,
          1.2103387447183226e-13,
          1.4846662341637341e-13,
          1.4076797384878017e-13,
          1.1633991565164105e-13
         ]
        },
        {
         "boxpoints": "all",
         "hovertemplate": "Epoch: %{text}<br>STD: %{y: .2e}",
         "line": {
          "width": 1
         },
         "marker": {
          "size": 3
         },
         "name": "MEG1231",
         "opacity": 0.7,
         "pointpos": 0,
         "text": [
          0,
          1,
          2,
          3,
          4,
          5
         ],
         "type": "box",
         "y": [
          1.3605186761587069e-13,
          1.2690155029279233e-13,
          1.5146867642755266e-13,
          1.2884151827913282e-13,
          1.193161286734673e-13,
          1.2740795185070743e-13
         ]
        },
        {
         "boxpoints": "all",
         "hovertemplate": "Epoch: %{text}<br>STD: %{y: .2e}",
         "line": {
          "width": 1
         },
         "marker": {
          "size": 3
         },
         "name": "MEG1241",
         "opacity": 0.7,
         "pointpos": 0,
         "text": [
          0,
          1,
          2,
          3,
          4,
          5
         ],
         "type": "box",
         "y": [
          1.3577896139431787e-13,
          1.2100603265777152e-13,
          1.692265672210407e-13,
          1.3026011118521987e-13,
          1.1376414941892406e-13,
          1.276296200606454e-13
         ]
        },
        {
         "boxpoints": "all",
         "hovertemplate": "Epoch: %{text}<br>STD: %{y: .2e}",
         "line": {
          "width": 1
         },
         "marker": {
          "size": 3
         },
         "name": "MEG1311",
         "opacity": 0.7,
         "pointpos": 0,
         "text": [
          0,
          1,
          2,
          3,
          4,
          5
         ],
         "type": "box",
         "y": [
          1.4764535700934365e-13,
          1.3525085086619446e-13,
          1.6965526834065167e-13,
          1.5013953296808292e-13,
          1.7063059001033676e-13,
          1.556457492123532e-13
         ]
        },
        {
         "boxpoints": "all",
         "hovertemplate": "Epoch: %{text}<br>STD: %{y: .2e}",
         "line": {
          "width": 1
         },
         "marker": {
          "size": 3
         },
         "name": "MEG1321",
         "opacity": 0.7,
         "pointpos": 0,
         "text": [
          0,
          1,
          2,
          3,
          4,
          5
         ],
         "type": "box",
         "y": [
          1.575651438763241e-13,
          1.3681528274035388e-13,
          1.3154626071343714e-13,
          1.727215909423545e-13,
          1.9835918714053488e-13,
          1.5486031476849013e-13
         ]
        },
        {
         "boxpoints": "all",
         "hovertemplate": "Epoch: %{text}<br>STD: %{y: .2e}",
         "line": {
          "width": 1
         },
         "marker": {
          "size": 3
         },
         "name": "MEG1331",
         "opacity": 0.7,
         "pointpos": 0,
         "text": [
          0,
          1,
          2,
          3,
          4,
          5
         ],
         "type": "box",
         "y": [
          1.7255872114022627e-13,
          1.419887435442453e-13,
          1.4530670191028399e-13,
          1.7812265486822921e-13,
          2.0312379820599986e-13,
          1.6380287028852167e-13
         ]
        },
        {
         "boxpoints": "all",
         "hovertemplate": "Epoch: %{text}<br>STD: %{y: .2e}",
         "line": {
          "width": 1
         },
         "marker": {
          "size": 3
         },
         "name": "MEG1341",
         "opacity": 0.7,
         "pointpos": 0,
         "text": [
          0,
          1,
          2,
          3,
          4,
          5
         ],
         "type": "box",
         "y": [
          1.3666150121310828e-13,
          1.1592594184482059e-13,
          1.4512269944808063e-13,
          1.5239424190188706e-13,
          1.615160911986197e-13,
          1.4825138009453843e-13
         ]
        },
        {
         "boxpoints": "all",
         "hovertemplate": "Epoch: %{text}<br>STD: %{y: .2e}",
         "line": {
          "width": 1
         },
         "marker": {
          "size": 3
         },
         "name": "MEG1411",
         "opacity": 0.7,
         "pointpos": 0,
         "text": [
          0,
          1,
          2,
          3,
          4,
          5
         ],
         "type": "box",
         "y": [
          1.5942663560415988e-13,
          1.2675918327017906e-13,
          1.5119686079372492e-13,
          1.964377625782297e-13,
          1.60695647075855e-13,
          1.4054848347908734e-13
         ]
        },
        {
         "boxpoints": "all",
         "hovertemplate": "Epoch: %{text}<br>STD: %{y: .2e}",
         "line": {
          "width": 1
         },
         "marker": {
          "size": 3
         },
         "name": "MEG1421",
         "opacity": 0.7,
         "pointpos": 0,
         "text": [
          0,
          1,
          2,
          3,
          4,
          5
         ],
         "type": "box",
         "y": [
          2.2009713514247394e-13,
          1.859092885588404e-13,
          2.372927506032344e-13,
          2.0080168128180864e-13,
          2.0432845917958016e-13,
          2.023892512418363e-13
         ]
        },
        {
         "boxpoints": "all",
         "hovertemplate": "Epoch: %{text}<br>STD: %{y: .2e}",
         "line": {
          "width": 1
         },
         "marker": {
          "size": 3
         },
         "name": "MEG1431",
         "opacity": 0.7,
         "pointpos": 0,
         "text": [
          0,
          1,
          2,
          3,
          4,
          5
         ],
         "type": "box",
         "y": [
          2.1990238386545598e-13,
          1.587836352890897e-13,
          2.2718398592359633e-13,
          2.13580299080078e-13,
          2.012142843701274e-13,
          2.1123992605445288e-13
         ]
        },
        {
         "boxpoints": "all",
         "hovertemplate": "Epoch: %{text}<br>STD: %{y: .2e}",
         "line": {
          "width": 1
         },
         "marker": {
          "size": 3
         },
         "name": "MEG1441",
         "opacity": 0.7,
         "pointpos": 0,
         "text": [
          0,
          1,
          2,
          3,
          4,
          5
         ],
         "type": "box",
         "y": [
          1.756045335685298e-13,
          1.5201624319089184e-13,
          1.5664551807304325e-13,
          1.6566489391548597e-13,
          1.5956876352734112e-13,
          1.4155398684706755e-13
         ]
        },
        {
         "boxpoints": "all",
         "hovertemplate": "Epoch: %{text}<br>STD: %{y: .2e}",
         "line": {
          "width": 1
         },
         "marker": {
          "size": 3
         },
         "name": "MEG1511",
         "opacity": 0.7,
         "pointpos": 0,
         "text": [
          0,
          1,
          2,
          3,
          4,
          5
         ],
         "type": "box",
         "y": [
          1.1317343718139499e-13,
          1.0080864186094648e-13,
          1.1892091843297686e-13,
          9.645295153300312e-14,
          1.1490598381652373e-13,
          1.010491283441761e-13
         ]
        },
        {
         "boxpoints": "all",
         "hovertemplate": "Epoch: %{text}<br>STD: %{y: .2e}",
         "line": {
          "width": 1
         },
         "marker": {
          "size": 3
         },
         "name": "MEG1521",
         "opacity": 0.7,
         "pointpos": 0,
         "text": [
          0,
          1,
          2,
          3,
          4,
          5
         ],
         "type": "box",
         "y": [
          1.509858869622751e-13,
          1.294290880296874e-13,
          1.7759458482778117e-13,
          1.1149293387195552e-13,
          1.346031179517707e-13,
          1.2740994489790839e-13
         ]
        },
        {
         "boxpoints": "all",
         "hovertemplate": "Epoch: %{text}<br>STD: %{y: .2e}",
         "line": {
          "width": 1
         },
         "marker": {
          "size": 3
         },
         "name": "MEG1531",
         "opacity": 0.7,
         "pointpos": 0,
         "text": [
          0,
          1,
          2,
          3,
          4,
          5
         ],
         "type": "box",
         "y": [
          1.9021483499590093e-13,
          1.5507711862232435e-13,
          1.6961189183325493e-13,
          1.866984764175747e-13,
          1.8517028834338116e-13,
          1.572528406855565e-13
         ]
        },
        {
         "boxpoints": "all",
         "hovertemplate": "Epoch: %{text}<br>STD: %{y: .2e}",
         "line": {
          "width": 1
         },
         "marker": {
          "size": 3
         },
         "name": "MEG1541",
         "opacity": 0.7,
         "pointpos": 0,
         "text": [
          0,
          1,
          2,
          3,
          4,
          5
         ],
         "type": "box",
         "y": [
          1.5890347003736952e-13,
          1.3037943369441087e-13,
          1.3793597745844496e-13,
          1.3415468772318901e-13,
          1.615056865077359e-13,
          1.164421306995777e-13
         ]
        },
        {
         "boxpoints": "all",
         "hovertemplate": "Epoch: %{text}<br>STD: %{y: .2e}",
         "line": {
          "width": 1
         },
         "marker": {
          "size": 3
         },
         "name": "MEG1611",
         "opacity": 0.7,
         "pointpos": 0,
         "text": [
          0,
          1,
          2,
          3,
          4,
          5
         ],
         "type": "box",
         "y": [
          1.7210605871615292e-13,
          1.381348668420965e-13,
          2.2489352774694451e-13,
          1.6724543092779958e-13,
          1.7469172896743398e-13,
          1.5203583436544561e-13
         ]
        },
        {
         "boxpoints": "all",
         "hovertemplate": "Epoch: %{text}<br>STD: %{y: .2e}",
         "line": {
          "width": 1
         },
         "marker": {
          "size": 3
         },
         "name": "MEG1621",
         "opacity": 0.7,
         "pointpos": 0,
         "text": [
          0,
          1,
          2,
          3,
          4,
          5
         ],
         "type": "box",
         "y": [
          1.2579574235537563e-13,
          1.0746316424444188e-13,
          1.2874590239468824e-13,
          1.3639385207329616e-13,
          1.238263396965246e-13,
          1.1951652423788258e-13
         ]
        },
        {
         "boxpoints": "all",
         "hovertemplate": "Epoch: %{text}<br>STD: %{y: .2e}",
         "line": {
          "width": 1
         },
         "marker": {
          "size": 3
         },
         "name": "MEG1631",
         "opacity": 0.7,
         "pointpos": 0,
         "text": [
          0,
          1,
          2,
          3,
          4,
          5
         ],
         "type": "box",
         "y": [
          1.2852330746692314e-13,
          1.165192897751474e-13,
          1.2888411408210147e-13,
          1.0544092641276687e-13,
          9.93311222870979e-14,
          9.567120274241128e-14
         ]
        },
        {
         "boxpoints": "all",
         "hovertemplate": "Epoch: %{text}<br>STD: %{y: .2e}",
         "line": {
          "width": 1
         },
         "marker": {
          "size": 3
         },
         "name": "MEG1641",
         "opacity": 0.7,
         "pointpos": 0,
         "text": [
          0,
          1,
          2,
          3,
          4,
          5
         ],
         "type": "box",
         "y": [
          1.5489608916531474e-13,
          1.4730145253135962e-13,
          2.1962289683636458e-13,
          1.3221393615635912e-13,
          1.381272273230071e-13,
          1.3713070940841375e-13
         ]
        },
        {
         "boxpoints": "all",
         "hovertemplate": "Epoch: %{text}<br>STD: %{y: .2e}",
         "line": {
          "width": 1
         },
         "marker": {
          "size": 3
         },
         "name": "MEG1711",
         "opacity": 0.7,
         "pointpos": 0,
         "text": [
          0,
          1,
          2,
          3,
          4,
          5
         ],
         "type": "box",
         "y": [
          2.313419270074694e-13,
          1.9991621360041778e-13,
          2.1827856429748653e-13,
          2.055974306951212e-13,
          2.0236531401584474e-13,
          1.880039803319892e-13
         ]
        },
        {
         "boxpoints": "all",
         "hovertemplate": "Epoch: %{text}<br>STD: %{y: .2e}",
         "line": {
          "width": 1
         },
         "marker": {
          "size": 3
         },
         "name": "MEG1721",
         "opacity": 0.7,
         "pointpos": 0,
         "text": [
          0,
          1,
          2,
          3,
          4,
          5
         ],
         "type": "box",
         "y": [
          1.8758587880930314e-13,
          1.6474369294110334e-13,
          2.1094534016931768e-13,
          1.4516734719228835e-13,
          1.7205899875193999e-13,
          1.698705358001037e-13
         ]
        },
        {
         "boxpoints": "all",
         "hovertemplate": "Epoch: %{text}<br>STD: %{y: .2e}",
         "line": {
          "width": 1
         },
         "marker": {
          "size": 3
         },
         "name": "MEG1731",
         "opacity": 0.7,
         "pointpos": 0,
         "text": [
          0,
          1,
          2,
          3,
          4,
          5
         ],
         "type": "box",
         "y": [
          1.8530616207065191e-13,
          1.8644076385466433e-13,
          1.8132570929726945e-13,
          1.7209614429444016e-13,
          1.646121411656993e-13,
          1.6906902259956407e-13
         ]
        },
        {
         "boxpoints": "all",
         "hovertemplate": "Epoch: %{text}<br>STD: %{y: .2e}",
         "line": {
          "width": 1
         },
         "marker": {
          "size": 3
         },
         "name": "MEG1741",
         "opacity": 0.7,
         "pointpos": 0,
         "text": [
          0,
          1,
          2,
          3,
          4,
          5
         ],
         "type": "box",
         "y": [
          2.5199443048645217e-13,
          2.1626774210557338e-13,
          2.4762761959949284e-13,
          2.1898279569019417e-13,
          2.3145196700719534e-13,
          2.1169734189402153e-13
         ]
        },
        {
         "boxpoints": "all",
         "hovertemplate": "Epoch: %{text}<br>STD: %{y: .2e}",
         "line": {
          "width": 1
         },
         "marker": {
          "size": 3
         },
         "name": "MEG1811",
         "opacity": 0.7,
         "pointpos": 0,
         "text": [
          0,
          1,
          2,
          3,
          4,
          5
         ],
         "type": "box",
         "y": [
          9.18656147720228e-14,
          8.26108423689774e-14,
          9.773397528703814e-14,
          9.52973043310393e-14,
          8.787286673210767e-14,
          8.807056586215858e-14
         ]
        },
        {
         "boxpoints": "all",
         "hovertemplate": "Epoch: %{text}<br>STD: %{y: .2e}",
         "line": {
          "width": 1
         },
         "marker": {
          "size": 3
         },
         "name": "MEG1821",
         "opacity": 0.7,
         "pointpos": 0,
         "text": [
          0,
          1,
          2,
          3,
          4,
          5
         ],
         "type": "box",
         "y": [
          8.506433777983925e-14,
          8.24270771490512e-14,
          1.100430771000304e-13,
          1.0512458251637311e-13,
          1.0492390379242403e-13,
          9.156015382671715e-14
         ]
        },
        {
         "boxpoints": "all",
         "hovertemplate": "Epoch: %{text}<br>STD: %{y: .2e}",
         "line": {
          "width": 1
         },
         "marker": {
          "size": 3
         },
         "name": "MEG1831",
         "opacity": 0.7,
         "pointpos": 0,
         "text": [
          0,
          1,
          2,
          3,
          4,
          5
         ],
         "type": "box",
         "y": [
          1.0840763809610119e-13,
          8.226926143508153e-14,
          1.0634677840696061e-13,
          9.701558595250527e-14,
          9.450371017807825e-14,
          8.70867714420242e-14
         ]
        },
        {
         "boxpoints": "all",
         "hovertemplate": "Epoch: %{text}<br>STD: %{y: .2e}",
         "line": {
          "width": 1
         },
         "marker": {
          "size": 3
         },
         "name": "MEG1841",
         "opacity": 0.7,
         "pointpos": 0,
         "text": [
          0,
          1,
          2,
          3,
          4,
          5
         ],
         "type": "box",
         "y": [
          9.561139441810245e-14,
          9.165188756092807e-14,
          8.138429600891765e-14,
          7.507300330019469e-14,
          7.781626903060458e-14,
          6.88142836540536e-14
         ]
        },
        {
         "boxpoints": "all",
         "hovertemplate": "Epoch: %{text}<br>STD: %{y: .2e}",
         "line": {
          "width": 1
         },
         "marker": {
          "size": 3
         },
         "name": "MEG1911",
         "opacity": 0.7,
         "pointpos": 0,
         "text": [
          0,
          1,
          2,
          3,
          4,
          5
         ],
         "type": "box",
         "y": [
          1.3098826758481421e-13,
          1.4066569579502684e-13,
          1.3360448088904728e-13,
          1.2694775494596657e-13,
          9.536425612695837e-14,
          8.90166040113362e-14
         ]
        },
        {
         "boxpoints": "all",
         "hovertemplate": "Epoch: %{text}<br>STD: %{y: .2e}",
         "line": {
          "width": 1
         },
         "marker": {
          "size": 3
         },
         "name": "MEG1921",
         "opacity": 0.7,
         "pointpos": 0,
         "text": [
          0,
          1,
          2,
          3,
          4,
          5
         ],
         "type": "box",
         "y": [
          1.202494871111821e-13,
          1.403147208797168e-13,
          1.4059319221393314e-13,
          1.4922319885292448e-13,
          1.200851883218482e-13,
          1.18265153814651e-13
         ]
        },
        {
         "boxpoints": "all",
         "hovertemplate": "Epoch: %{text}<br>STD: %{y: .2e}",
         "line": {
          "width": 1
         },
         "marker": {
          "size": 3
         },
         "name": "MEG1931",
         "opacity": 0.7,
         "pointpos": 0,
         "text": [
          0,
          1,
          2,
          3,
          4,
          5
         ],
         "type": "box",
         "y": [
          1.7901727110109672e-13,
          1.6506242390852391e-13,
          1.6502767088569365e-13,
          1.6001990987500282e-13,
          1.6884116688481905e-13,
          1.4684619919190644e-13
         ]
        },
        {
         "boxpoints": "all",
         "hovertemplate": "Epoch: %{text}<br>STD: %{y: .2e}",
         "line": {
          "width": 1
         },
         "marker": {
          "size": 3
         },
         "name": "MEG1941",
         "opacity": 0.7,
         "pointpos": 0,
         "text": [
          0,
          1,
          2,
          3,
          4,
          5
         ],
         "type": "box",
         "y": [
          1.1855719362455034e-13,
          1.3537790909045467e-13,
          1.577433094187404e-13,
          1.3059229979159877e-13,
          1.0507968858997288e-13,
          1.1873691165170277e-13
         ]
        },
        {
         "boxpoints": "all",
         "hovertemplate": "Epoch: %{text}<br>STD: %{y: .2e}",
         "line": {
          "width": 1
         },
         "marker": {
          "size": 3
         },
         "name": "MEG2011",
         "opacity": 0.7,
         "pointpos": 0,
         "text": [
          0,
          1,
          2,
          3,
          4,
          5
         ],
         "type": "box",
         "y": [
          1.0932323618411967e-13,
          9.541531007958992e-14,
          1.0783319417271853e-13,
          1.3713066036638328e-13,
          1.0112566305305361e-13,
          1.1365428540279527e-13
         ]
        },
        {
         "boxpoints": "all",
         "hovertemplate": "Epoch: %{text}<br>STD: %{y: .2e}",
         "line": {
          "width": 1
         },
         "marker": {
          "size": 3
         },
         "name": "MEG2021",
         "opacity": 0.7,
         "pointpos": 0,
         "text": [
          0,
          1,
          2,
          3,
          4,
          5
         ],
         "type": "box",
         "y": [
          7.645417899705114e-14,
          8.537335918129595e-14,
          8.509245847971482e-14,
          9.443684311264556e-14,
          7.329923235838089e-14,
          8.244198365380508e-14
         ]
        },
        {
         "boxpoints": "all",
         "hovertemplate": "Epoch: %{text}<br>STD: %{y: .2e}",
         "line": {
          "width": 1
         },
         "marker": {
          "size": 3
         },
         "name": "MEG2031",
         "opacity": 0.7,
         "pointpos": 0,
         "text": [
          0,
          1,
          2,
          3,
          4,
          5
         ],
         "type": "box",
         "y": [
          1.262764427619122e-13,
          1.322534101003244e-13,
          1.1261848903484145e-13,
          1.0641653568825416e-13,
          1.0837785812776575e-13,
          1.042485923019518e-13
         ]
        },
        {
         "boxpoints": "all",
         "hovertemplate": "Epoch: %{text}<br>STD: %{y: .2e}",
         "line": {
          "width": 1
         },
         "marker": {
          "size": 3
         },
         "name": "MEG2041",
         "opacity": 0.7,
         "pointpos": 0,
         "text": [
          0,
          1,
          2,
          3,
          4,
          5
         ],
         "type": "box",
         "y": [
          1.2975628647114544e-13,
          1.2799537945915455e-13,
          1.237943952370516e-13,
          1.4820968594180342e-13,
          1.180200003990094e-13,
          9.77739126945983e-14
         ]
        },
        {
         "boxpoints": "all",
         "hovertemplate": "Epoch: %{text}<br>STD: %{y: .2e}",
         "line": {
          "width": 1
         },
         "marker": {
          "size": 3
         },
         "name": "MEG2111",
         "opacity": 0.7,
         "pointpos": 0,
         "text": [
          0,
          1,
          2,
          3,
          4,
          5
         ],
         "type": "box",
         "y": [
          1.637342544435085e-13,
          1.567665660883527e-13,
          1.5827271817185204e-13,
          1.243296833840231e-13,
          1.432502185579463e-13,
          1.436605891230579e-13
         ]
        },
        {
         "boxpoints": "all",
         "hovertemplate": "Epoch: %{text}<br>STD: %{y: .2e}",
         "line": {
          "width": 1
         },
         "marker": {
          "size": 3
         },
         "name": "MEG2121",
         "opacity": 0.7,
         "pointpos": 0,
         "text": [
          0,
          1,
          2,
          3,
          4,
          5
         ],
         "type": "box",
         "y": [
          2.2883646332626123e-13,
          2.0471034844350167e-13,
          2.2914240967401695e-13,
          2.2389509521483274e-13,
          2.1913792052166375e-13,
          2.098689350198224e-13
         ]
        },
        {
         "boxpoints": "all",
         "hovertemplate": "Epoch: %{text}<br>STD: %{y: .2e}",
         "line": {
          "width": 1
         },
         "marker": {
          "size": 3
         },
         "name": "MEG2131",
         "opacity": 0.7,
         "pointpos": 0,
         "text": [
          0,
          1,
          2,
          3,
          4,
          5
         ],
         "type": "box",
         "y": [
          2.480189399655641e-13,
          2.1977889606767313e-13,
          2.343918065093132e-13,
          2.322248428117427e-13,
          2.2426658621292621e-13,
          2.285710988452454e-13
         ]
        },
        {
         "boxpoints": "all",
         "hovertemplate": "Epoch: %{text}<br>STD: %{y: .2e}",
         "line": {
          "width": 1
         },
         "marker": {
          "size": 3
         },
         "name": "MEG2141",
         "opacity": 0.7,
         "pointpos": 0,
         "text": [
          0,
          1,
          2,
          3,
          4,
          5
         ],
         "type": "box",
         "y": [
          1.8968092203850876e-13,
          1.649610437423859e-13,
          1.9959119710320498e-13,
          1.7916439814603155e-13,
          1.7043527901134683e-13,
          1.6543946523874358e-13
         ]
        },
        {
         "boxpoints": "all",
         "hovertemplate": "Epoch: %{text}<br>STD: %{y: .2e}",
         "line": {
          "width": 1
         },
         "marker": {
          "size": 3
         },
         "name": "MEG2211",
         "opacity": 0.7,
         "pointpos": 0,
         "text": [
          0,
          1,
          2,
          3,
          4,
          5
         ],
         "type": "box",
         "y": [
          8.985977044452312e-14,
          7.141574651555299e-14,
          8.091657730396029e-14,
          7.708015997240378e-14,
          7.237585882325218e-14,
          8.091563647953674e-14
         ]
        },
        {
         "boxpoints": "all",
         "hovertemplate": "Epoch: %{text}<br>STD: %{y: .2e}",
         "line": {
          "width": 1
         },
         "marker": {
          "size": 3
         },
         "name": "MEG2221",
         "opacity": 0.7,
         "pointpos": 0,
         "text": [
          0,
          1,
          2,
          3,
          4,
          5
         ],
         "type": "box",
         "y": [
          9.017821171534022e-14,
          8.542784123998475e-14,
          8.992129192702917e-14,
          7.939941657492497e-14,
          7.857620984577679e-14,
          9.043243566838595e-14
         ]
        },
        {
         "boxpoints": "all",
         "hovertemplate": "Epoch: %{text}<br>STD: %{y: .2e}",
         "line": {
          "width": 1
         },
         "marker": {
          "size": 3
         },
         "name": "MEG2231",
         "opacity": 0.7,
         "pointpos": 0,
         "text": [
          0,
          1,
          2,
          3,
          4,
          5
         ],
         "type": "box",
         "y": [
          8.394047061888079e-14,
          9.43196890151592e-14,
          1.078699638017421e-13,
          9.20110564603954e-14,
          8.387773165985322e-14,
          7.49880954833442e-14
         ]
        },
        {
         "boxpoints": "all",
         "hovertemplate": "Epoch: %{text}<br>STD: %{y: .2e}",
         "line": {
          "width": 1
         },
         "marker": {
          "size": 3
         },
         "name": "MEG2241",
         "opacity": 0.7,
         "pointpos": 0,
         "text": [
          0,
          1,
          2,
          3,
          4,
          5
         ],
         "type": "box",
         "y": [
          1.211435566297313e-13,
          9.256830837442963e-14,
          1.0766410563597134e-13,
          1.1231675645876549e-13,
          9.611920187641049e-14,
          9.062935552299283e-14
         ]
        },
        {
         "boxpoints": "all",
         "hovertemplate": "Epoch: %{text}<br>STD: %{y: .2e}",
         "line": {
          "width": 1
         },
         "marker": {
          "size": 3
         },
         "name": "MEG2311",
         "opacity": 0.7,
         "pointpos": 0,
         "text": [
          0,
          1,
          2,
          3,
          4,
          5
         ],
         "type": "box",
         "y": [
          1.4392164590242432e-13,
          1.4364271485916852e-13,
          1.745299976749222e-13,
          1.472674589144846e-13,
          1.5938635214382092e-13,
          1.2681859374338226e-13
         ]
        },
        {
         "boxpoints": "all",
         "hovertemplate": "Epoch: %{text}<br>STD: %{y: .2e}",
         "line": {
          "width": 1
         },
         "marker": {
          "size": 3
         },
         "name": "MEG2321",
         "opacity": 0.7,
         "pointpos": 0,
         "text": [
          0,
          1,
          2,
          3,
          4,
          5
         ],
         "type": "box",
         "y": [
          1.878479886485669e-13,
          1.8121405943140834e-13,
          1.6996604820226614e-13,
          1.8908690400508752e-13,
          2.0116815254731798e-13,
          1.7076746158409883e-13
         ]
        },
        {
         "boxpoints": "all",
         "hovertemplate": "Epoch: %{text}<br>STD: %{y: .2e}",
         "line": {
          "width": 1
         },
         "marker": {
          "size": 3
         },
         "name": "MEG2331",
         "opacity": 0.7,
         "pointpos": 0,
         "text": [
          0,
          1,
          2,
          3,
          4,
          5
         ],
         "type": "box",
         "y": [
          2.0806884976939792e-13,
          1.9224728864961254e-13,
          2.0963911972320455e-13,
          2.2222460951519716e-13,
          2.0350681610183664e-13,
          1.975944785273308e-13
         ]
        },
        {
         "boxpoints": "all",
         "hovertemplate": "Epoch: %{text}<br>STD: %{y: .2e}",
         "line": {
          "width": 1
         },
         "marker": {
          "size": 3
         },
         "name": "MEG2341",
         "opacity": 0.7,
         "pointpos": 0,
         "text": [
          0,
          1,
          2,
          3,
          4,
          5
         ],
         "type": "box",
         "y": [
          1.0898478098381693e-13,
          1.138206929872326e-13,
          1.304586375008532e-13,
          1.0645230226444258e-13,
          1.0986354675902524e-13,
          1.1005172518236862e-13
         ]
        },
        {
         "boxpoints": "all",
         "hovertemplate": "Epoch: %{text}<br>STD: %{y: .2e}",
         "line": {
          "width": 1
         },
         "marker": {
          "size": 3
         },
         "name": "MEG2411",
         "opacity": 0.7,
         "pointpos": 0,
         "text": [
          0,
          1,
          2,
          3,
          4,
          5
         ],
         "type": "box",
         "y": [
          1.430889576835758e-13,
          1.0708097408598322e-13,
          1.2880269940995545e-13,
          1.20797579417039e-13,
          1.176901874558894e-13,
          1.1699715301388123e-13
         ]
        },
        {
         "boxpoints": "all",
         "hovertemplate": "Epoch: %{text}<br>STD: %{y: .2e}",
         "line": {
          "width": 1
         },
         "marker": {
          "size": 3
         },
         "name": "MEG2421",
         "opacity": 0.7,
         "pointpos": 0,
         "text": [
          0,
          1,
          2,
          3,
          4,
          5
         ],
         "type": "box",
         "y": [
          1.6234307309278866e-13,
          1.2542762184052048e-13,
          1.719787885819609e-13,
          1.4647127232185952e-13,
          1.4596898750510314e-13,
          1.4198940243913933e-13
         ]
        },
        {
         "boxpoints": "all",
         "hovertemplate": "Epoch: %{text}<br>STD: %{y: .2e}",
         "line": {
          "width": 1
         },
         "marker": {
          "size": 3
         },
         "name": "MEG2431",
         "opacity": 0.7,
         "pointpos": 0,
         "text": [
          0,
          1,
          2,
          3,
          4,
          5
         ],
         "type": "box",
         "y": [
          1.7383802216970403e-13,
          1.4208049567376408e-13,
          1.9240669943806068e-13,
          1.7074353884213236e-13,
          1.632107494084963e-13,
          1.6687841080593394e-13
         ]
        },
        {
         "boxpoints": "all",
         "hovertemplate": "Epoch: %{text}<br>STD: %{y: .2e}",
         "line": {
          "width": 1
         },
         "marker": {
          "size": 3
         },
         "name": "MEG2441",
         "opacity": 0.7,
         "pointpos": 0,
         "text": [
          0,
          1,
          2,
          3,
          4,
          5
         ],
         "type": "box",
         "y": [
          1.5064911361271773e-13,
          1.3951809156248973e-13,
          1.6186240487629426e-13,
          1.3820076620218364e-13,
          1.5167058556038254e-13,
          1.1400774503799973e-13
         ]
        },
        {
         "boxpoints": "all",
         "hovertemplate": "Epoch: %{text}<br>STD: %{y: .2e}",
         "line": {
          "width": 1
         },
         "marker": {
          "size": 3
         },
         "name": "MEG2511",
         "opacity": 0.7,
         "pointpos": 0,
         "text": [
          0,
          1,
          2,
          3,
          4,
          5
         ],
         "type": "box",
         "y": [
          1.6955133866139413e-13,
          1.5353180308006197e-13,
          1.7213710552171521e-13,
          1.797470048338829e-13,
          1.7459190692530124e-13,
          1.4549821448984334e-13
         ]
        },
        {
         "boxpoints": "all",
         "hovertemplate": "Epoch: %{text}<br>STD: %{y: .2e}",
         "line": {
          "width": 1
         },
         "marker": {
          "size": 3
         },
         "name": "MEG2521",
         "opacity": 0.7,
         "pointpos": 0,
         "text": [
          0,
          1,
          2,
          3,
          4,
          5
         ],
         "type": "box",
         "y": [
          1.4906386811778696e-13,
          1.4308268168344468e-13,
          1.6418668071147259e-13,
          1.5229537317720422e-13,
          1.567841912212319e-13,
          1.4017526504098982e-13
         ]
        },
        {
         "boxpoints": "all",
         "hovertemplate": "Epoch: %{text}<br>STD: %{y: .2e}",
         "line": {
          "width": 1
         },
         "marker": {
          "size": 3
         },
         "name": "MEG2531",
         "opacity": 0.7,
         "pointpos": 0,
         "text": [
          0,
          1,
          2,
          3,
          4,
          5
         ],
         "type": "box",
         "y": [
          2.1796126827695325e-13,
          1.976985473386506e-13,
          2.036720993840586e-13,
          2.2793553167713653e-13,
          2.042605763566107e-13,
          2.039075255581057e-13
         ]
        },
        {
         "boxpoints": "all",
         "hovertemplate": "Epoch: %{text}<br>STD: %{y: .2e}",
         "line": {
          "width": 1
         },
         "marker": {
          "size": 3
         },
         "name": "MEG2541",
         "opacity": 0.7,
         "pointpos": 0,
         "text": [
          0,
          1,
          2,
          3,
          4,
          5
         ],
         "type": "box",
         "y": [
          2.304163510456909e-13,
          2.1335064090257742e-13,
          2.2062559287330116e-13,
          2.1755408012514478e-13,
          2.0947699373498308e-13,
          2.1134486774230435e-13
         ]
        },
        {
         "boxpoints": "all",
         "hovertemplate": "Epoch: %{text}<br>STD: %{y: .2e}",
         "line": {
          "width": 1
         },
         "marker": {
          "size": 3
         },
         "name": "MEG2611",
         "opacity": 0.7,
         "pointpos": 0,
         "text": [
          0,
          1,
          2,
          3,
          4,
          5
         ],
         "type": "box",
         "y": [
          1.768723402711125e-13,
          1.4515360543532075e-13,
          1.4432026770422923e-13,
          1.252588396770012e-13,
          1.4482632233657554e-13,
          1.3666179650582617e-13
         ]
        },
        {
         "boxpoints": "all",
         "hovertemplate": "Epoch: %{text}<br>STD: %{y: .2e}",
         "line": {
          "width": 1
         },
         "marker": {
          "size": 3
         },
         "name": "MEG2621",
         "opacity": 0.7,
         "pointpos": 0,
         "text": [
          0,
          1,
          2,
          3,
          4,
          5
         ],
         "type": "box",
         "y": [
          2.04694637974791e-13,
          1.313375148638663e-13,
          1.8058152083204505e-13,
          2.1838129332267305e-13,
          1.7130201130342272e-13,
          1.8276494165475284e-13
         ]
        },
        {
         "boxpoints": "all",
         "hovertemplate": "Epoch: %{text}<br>STD: %{y: .2e}",
         "line": {
          "width": 1
         },
         "marker": {
          "size": 3
         },
         "name": "MEG2631",
         "opacity": 0.7,
         "pointpos": 0,
         "text": [
          0,
          1,
          2,
          3,
          4,
          5
         ],
         "type": "box",
         "y": [
          2.020587615447008e-13,
          1.4959953117676707e-13,
          1.7135188655219145e-13,
          2.2571715621294744e-13,
          1.7733938498392133e-13,
          1.7457249376498074e-13
         ]
        },
        {
         "boxpoints": "all",
         "hovertemplate": "Epoch: %{text}<br>STD: %{y: .2e}",
         "line": {
          "width": 1
         },
         "marker": {
          "size": 3
         },
         "name": "MEG2641",
         "opacity": 0.7,
         "pointpos": 0,
         "text": [
          0,
          1,
          2,
          3,
          4,
          5
         ],
         "type": "box",
         "y": [
          1.6515912364860665e-13,
          1.2444257583492503e-13,
          1.4722220752481297e-13,
          1.37995749038344e-13,
          1.3680558720720366e-13,
          1.2501995054143323e-13
         ]
        }
       ],
       "layout": {
        "template": {
         "data": {
          "bar": [
           {
            "error_x": {
             "color": "#2a3f5f"
            },
            "error_y": {
             "color": "#2a3f5f"
            },
            "marker": {
             "line": {
              "color": "#E5ECF6",
              "width": 0.5
             },
             "pattern": {
              "fillmode": "overlay",
              "size": 10,
              "solidity": 0.2
             }
            },
            "type": "bar"
           }
          ],
          "barpolar": [
           {
            "marker": {
             "line": {
              "color": "#E5ECF6",
              "width": 0.5
             },
             "pattern": {
              "fillmode": "overlay",
              "size": 10,
              "solidity": 0.2
             }
            },
            "type": "barpolar"
           }
          ],
          "carpet": [
           {
            "aaxis": {
             "endlinecolor": "#2a3f5f",
             "gridcolor": "white",
             "linecolor": "white",
             "minorgridcolor": "white",
             "startlinecolor": "#2a3f5f"
            },
            "baxis": {
             "endlinecolor": "#2a3f5f",
             "gridcolor": "white",
             "linecolor": "white",
             "minorgridcolor": "white",
             "startlinecolor": "#2a3f5f"
            },
            "type": "carpet"
           }
          ],
          "choropleth": [
           {
            "colorbar": {
             "outlinewidth": 0,
             "ticks": ""
            },
            "type": "choropleth"
           }
          ],
          "contour": [
           {
            "colorbar": {
             "outlinewidth": 0,
             "ticks": ""
            },
            "colorscale": [
             [
              0,
              "#0d0887"
             ],
             [
              0.1111111111111111,
              "#46039f"
             ],
             [
              0.2222222222222222,
              "#7201a8"
             ],
             [
              0.3333333333333333,
              "#9c179e"
             ],
             [
              0.4444444444444444,
              "#bd3786"
             ],
             [
              0.5555555555555556,
              "#d8576b"
             ],
             [
              0.6666666666666666,
              "#ed7953"
             ],
             [
              0.7777777777777778,
              "#fb9f3a"
             ],
             [
              0.8888888888888888,
              "#fdca26"
             ],
             [
              1,
              "#f0f921"
             ]
            ],
            "type": "contour"
           }
          ],
          "contourcarpet": [
           {
            "colorbar": {
             "outlinewidth": 0,
             "ticks": ""
            },
            "type": "contourcarpet"
           }
          ],
          "heatmap": [
           {
            "colorbar": {
             "outlinewidth": 0,
             "ticks": ""
            },
            "colorscale": [
             [
              0,
              "#0d0887"
             ],
             [
              0.1111111111111111,
              "#46039f"
             ],
             [
              0.2222222222222222,
              "#7201a8"
             ],
             [
              0.3333333333333333,
              "#9c179e"
             ],
             [
              0.4444444444444444,
              "#bd3786"
             ],
             [
              0.5555555555555556,
              "#d8576b"
             ],
             [
              0.6666666666666666,
              "#ed7953"
             ],
             [
              0.7777777777777778,
              "#fb9f3a"
             ],
             [
              0.8888888888888888,
              "#fdca26"
             ],
             [
              1,
              "#f0f921"
             ]
            ],
            "type": "heatmap"
           }
          ],
          "heatmapgl": [
           {
            "colorbar": {
             "outlinewidth": 0,
             "ticks": ""
            },
            "colorscale": [
             [
              0,
              "#0d0887"
             ],
             [
              0.1111111111111111,
              "#46039f"
             ],
             [
              0.2222222222222222,
              "#7201a8"
             ],
             [
              0.3333333333333333,
              "#9c179e"
             ],
             [
              0.4444444444444444,
              "#bd3786"
             ],
             [
              0.5555555555555556,
              "#d8576b"
             ],
             [
              0.6666666666666666,
              "#ed7953"
             ],
             [
              0.7777777777777778,
              "#fb9f3a"
             ],
             [
              0.8888888888888888,
              "#fdca26"
             ],
             [
              1,
              "#f0f921"
             ]
            ],
            "type": "heatmapgl"
           }
          ],
          "histogram": [
           {
            "marker": {
             "pattern": {
              "fillmode": "overlay",
              "size": 10,
              "solidity": 0.2
             }
            },
            "type": "histogram"
           }
          ],
          "histogram2d": [
           {
            "colorbar": {
             "outlinewidth": 0,
             "ticks": ""
            },
            "colorscale": [
             [
              0,
              "#0d0887"
             ],
             [
              0.1111111111111111,
              "#46039f"
             ],
             [
              0.2222222222222222,
              "#7201a8"
             ],
             [
              0.3333333333333333,
              "#9c179e"
             ],
             [
              0.4444444444444444,
              "#bd3786"
             ],
             [
              0.5555555555555556,
              "#d8576b"
             ],
             [
              0.6666666666666666,
              "#ed7953"
             ],
             [
              0.7777777777777778,
              "#fb9f3a"
             ],
             [
              0.8888888888888888,
              "#fdca26"
             ],
             [
              1,
              "#f0f921"
             ]
            ],
            "type": "histogram2d"
           }
          ],
          "histogram2dcontour": [
           {
            "colorbar": {
             "outlinewidth": 0,
             "ticks": ""
            },
            "colorscale": [
             [
              0,
              "#0d0887"
             ],
             [
              0.1111111111111111,
              "#46039f"
             ],
             [
              0.2222222222222222,
              "#7201a8"
             ],
             [
              0.3333333333333333,
              "#9c179e"
             ],
             [
              0.4444444444444444,
              "#bd3786"
             ],
             [
              0.5555555555555556,
              "#d8576b"
             ],
             [
              0.6666666666666666,
              "#ed7953"
             ],
             [
              0.7777777777777778,
              "#fb9f3a"
             ],
             [
              0.8888888888888888,
              "#fdca26"
             ],
             [
              1,
              "#f0f921"
             ]
            ],
            "type": "histogram2dcontour"
           }
          ],
          "mesh3d": [
           {
            "colorbar": {
             "outlinewidth": 0,
             "ticks": ""
            },
            "type": "mesh3d"
           }
          ],
          "parcoords": [
           {
            "line": {
             "colorbar": {
              "outlinewidth": 0,
              "ticks": ""
             }
            },
            "type": "parcoords"
           }
          ],
          "pie": [
           {
            "automargin": true,
            "type": "pie"
           }
          ],
          "scatter": [
           {
            "fillpattern": {
             "fillmode": "overlay",
             "size": 10,
             "solidity": 0.2
            },
            "type": "scatter"
           }
          ],
          "scatter3d": [
           {
            "line": {
             "colorbar": {
              "outlinewidth": 0,
              "ticks": ""
             }
            },
            "marker": {
             "colorbar": {
              "outlinewidth": 0,
              "ticks": ""
             }
            },
            "type": "scatter3d"
           }
          ],
          "scattercarpet": [
           {
            "marker": {
             "colorbar": {
              "outlinewidth": 0,
              "ticks": ""
             }
            },
            "type": "scattercarpet"
           }
          ],
          "scattergeo": [
           {
            "marker": {
             "colorbar": {
              "outlinewidth": 0,
              "ticks": ""
             }
            },
            "type": "scattergeo"
           }
          ],
          "scattergl": [
           {
            "marker": {
             "colorbar": {
              "outlinewidth": 0,
              "ticks": ""
             }
            },
            "type": "scattergl"
           }
          ],
          "scattermapbox": [
           {
            "marker": {
             "colorbar": {
              "outlinewidth": 0,
              "ticks": ""
             }
            },
            "type": "scattermapbox"
           }
          ],
          "scatterpolar": [
           {
            "marker": {
             "colorbar": {
              "outlinewidth": 0,
              "ticks": ""
             }
            },
            "type": "scatterpolar"
           }
          ],
          "scatterpolargl": [
           {
            "marker": {
             "colorbar": {
              "outlinewidth": 0,
              "ticks": ""
             }
            },
            "type": "scatterpolargl"
           }
          ],
          "scatterternary": [
           {
            "marker": {
             "colorbar": {
              "outlinewidth": 0,
              "ticks": ""
             }
            },
            "type": "scatterternary"
           }
          ],
          "surface": [
           {
            "colorbar": {
             "outlinewidth": 0,
             "ticks": ""
            },
            "colorscale": [
             [
              0,
              "#0d0887"
             ],
             [
              0.1111111111111111,
              "#46039f"
             ],
             [
              0.2222222222222222,
              "#7201a8"
             ],
             [
              0.3333333333333333,
              "#9c179e"
             ],
             [
              0.4444444444444444,
              "#bd3786"
             ],
             [
              0.5555555555555556,
              "#d8576b"
             ],
             [
              0.6666666666666666,
              "#ed7953"
             ],
             [
              0.7777777777777778,
              "#fb9f3a"
             ],
             [
              0.8888888888888888,
              "#fdca26"
             ],
             [
              1,
              "#f0f921"
             ]
            ],
            "type": "surface"
           }
          ],
          "table": [
           {
            "cells": {
             "fill": {
              "color": "#EBF0F8"
             },
             "line": {
              "color": "white"
             }
            },
            "header": {
             "fill": {
              "color": "#C8D4E3"
             },
             "line": {
              "color": "white"
             }
            },
            "type": "table"
           }
          ]
         },
         "layout": {
          "annotationdefaults": {
           "arrowcolor": "#2a3f5f",
           "arrowhead": 0,
           "arrowwidth": 1
          },
          "autotypenumbers": "strict",
          "coloraxis": {
           "colorbar": {
            "outlinewidth": 0,
            "ticks": ""
           }
          },
          "colorscale": {
           "diverging": [
            [
             0,
             "#8e0152"
            ],
            [
             0.1,
             "#c51b7d"
            ],
            [
             0.2,
             "#de77ae"
            ],
            [
             0.3,
             "#f1b6da"
            ],
            [
             0.4,
             "#fde0ef"
            ],
            [
             0.5,
             "#f7f7f7"
            ],
            [
             0.6,
             "#e6f5d0"
            ],
            [
             0.7,
             "#b8e186"
            ],
            [
             0.8,
             "#7fbc41"
            ],
            [
             0.9,
             "#4d9221"
            ],
            [
             1,
             "#276419"
            ]
           ],
           "sequential": [
            [
             0,
             "#0d0887"
            ],
            [
             0.1111111111111111,
             "#46039f"
            ],
            [
             0.2222222222222222,
             "#7201a8"
            ],
            [
             0.3333333333333333,
             "#9c179e"
            ],
            [
             0.4444444444444444,
             "#bd3786"
            ],
            [
             0.5555555555555556,
             "#d8576b"
            ],
            [
             0.6666666666666666,
             "#ed7953"
            ],
            [
             0.7777777777777778,
             "#fb9f3a"
            ],
            [
             0.8888888888888888,
             "#fdca26"
            ],
            [
             1,
             "#f0f921"
            ]
           ],
           "sequentialminus": [
            [
             0,
             "#0d0887"
            ],
            [
             0.1111111111111111,
             "#46039f"
            ],
            [
             0.2222222222222222,
             "#7201a8"
            ],
            [
             0.3333333333333333,
             "#9c179e"
            ],
            [
             0.4444444444444444,
             "#bd3786"
            ],
            [
             0.5555555555555556,
             "#d8576b"
            ],
            [
             0.6666666666666666,
             "#ed7953"
            ],
            [
             0.7777777777777778,
             "#fb9f3a"
            ],
            [
             0.8888888888888888,
             "#fdca26"
            ],
            [
             1,
             "#f0f921"
            ]
           ]
          },
          "colorway": [
           "#636efa",
           "#EF553B",
           "#00cc96",
           "#ab63fa",
           "#FFA15A",
           "#19d3f3",
           "#FF6692",
           "#B6E880",
           "#FF97FF",
           "#FECB52"
          ],
          "font": {
           "color": "#2a3f5f"
          },
          "geo": {
           "bgcolor": "white",
           "lakecolor": "white",
           "landcolor": "#E5ECF6",
           "showlakes": true,
           "showland": true,
           "subunitcolor": "white"
          },
          "hoverlabel": {
           "align": "left"
          },
          "hovermode": "closest",
          "mapbox": {
           "style": "light"
          },
          "paper_bgcolor": "white",
          "plot_bgcolor": "#E5ECF6",
          "polar": {
           "angularaxis": {
            "gridcolor": "white",
            "linecolor": "white",
            "ticks": ""
           },
           "bgcolor": "#E5ECF6",
           "radialaxis": {
            "gridcolor": "white",
            "linecolor": "white",
            "ticks": ""
           }
          },
          "scene": {
           "xaxis": {
            "backgroundcolor": "#E5ECF6",
            "gridcolor": "white",
            "gridwidth": 2,
            "linecolor": "white",
            "showbackground": true,
            "ticks": "",
            "zerolinecolor": "white"
           },
           "yaxis": {
            "backgroundcolor": "#E5ECF6",
            "gridcolor": "white",
            "gridwidth": 2,
            "linecolor": "white",
            "showbackground": true,
            "ticks": "",
            "zerolinecolor": "white"
           },
           "zaxis": {
            "backgroundcolor": "#E5ECF6",
            "gridcolor": "white",
            "gridwidth": 2,
            "linecolor": "white",
            "showbackground": true,
            "ticks": "",
            "zerolinecolor": "white"
           }
          },
          "shapedefaults": {
           "line": {
            "color": "#2a3f5f"
           }
          },
          "ternary": {
           "aaxis": {
            "gridcolor": "white",
            "linecolor": "white",
            "ticks": ""
           },
           "baxis": {
            "gridcolor": "white",
            "linecolor": "white",
            "ticks": ""
           },
           "bgcolor": "#E5ECF6",
           "caxis": {
            "gridcolor": "white",
            "linecolor": "white",
            "ticks": ""
           }
          },
          "title": {
           "x": 0.05
          },
          "xaxis": {
           "automargin": true,
           "gridcolor": "white",
           "linecolor": "white",
           "ticks": "",
           "title": {
            "standoff": 15
           },
           "zerolinecolor": "white",
           "zerolinewidth": 2
          },
          "yaxis": {
           "automargin": true,
           "gridcolor": "white",
           "linecolor": "white",
           "ticks": "",
           "title": {
            "standoff": 15
           },
           "zerolinecolor": "white",
           "zerolinewidth": 2
          }
         }
        },
        "title": {
         "text": "Standard deviation over epochs for Magnetometers",
         "x": 0.5,
         "xanchor": "center",
         "y": 0.85,
         "yanchor": "top"
        },
        "xaxis": {
         "rangeslider": {
          "visible": true
         },
         "tickmode": "array",
         "ticktext": [
          "MEG0111",
          "MEG0121",
          "MEG0131",
          "MEG0141",
          "MEG0211",
          "MEG0221",
          "MEG0231",
          "MEG0241",
          "MEG0311",
          "MEG0321",
          "MEG0331",
          "MEG0341",
          "MEG0411",
          "MEG0421",
          "MEG0431",
          "MEG0441",
          "MEG0511",
          "MEG0521",
          "MEG0531",
          "MEG0541",
          "MEG0611",
          "MEG0621",
          "MEG0631",
          "MEG0641",
          "MEG0711",
          "MEG0721",
          "MEG0731",
          "MEG0741",
          "MEG0811",
          "MEG0821",
          "MEG0911",
          "MEG0921",
          "MEG0931",
          "MEG0941",
          "MEG1011",
          "MEG1021",
          "MEG1031",
          "MEG1041",
          "MEG1111",
          "MEG1121",
          "MEG1131",
          "MEG1141",
          "MEG1211",
          "MEG1221",
          "MEG1231",
          "MEG1241",
          "MEG1311",
          "MEG1321",
          "MEG1331",
          "MEG1341",
          "MEG1411",
          "MEG1421",
          "MEG1431",
          "MEG1441",
          "MEG1511",
          "MEG1521",
          "MEG1531",
          "MEG1541",
          "MEG1611",
          "MEG1621",
          "MEG1631",
          "MEG1641",
          "MEG1711",
          "MEG1721",
          "MEG1731",
          "MEG1741",
          "MEG1811",
          "MEG1821",
          "MEG1831",
          "MEG1841",
          "MEG1911",
          "MEG1921",
          "MEG1931",
          "MEG1941",
          "MEG2011",
          "MEG2021",
          "MEG2031",
          "MEG2041",
          "MEG2111",
          "MEG2121",
          "MEG2131",
          "MEG2141",
          "MEG2211",
          "MEG2221",
          "MEG2231",
          "MEG2241",
          "MEG2311",
          "MEG2321",
          "MEG2331",
          "MEG2341",
          "MEG2411",
          "MEG2421",
          "MEG2431",
          "MEG2441",
          "MEG2511",
          "MEG2521",
          "MEG2531",
          "MEG2541",
          "MEG2611",
          "MEG2621",
          "MEG2631",
          "MEG2641"
         ],
         "tickvals": [
          0,
          1,
          2,
          3,
          4,
          5,
          6,
          7,
          8,
          9,
          10,
          11,
          12,
          13,
          14,
          15,
          16,
          17,
          18,
          19,
          20,
          21,
          22,
          23,
          24,
          25,
          26,
          27,
          28,
          29,
          30,
          31,
          32,
          33,
          34,
          35,
          36,
          37,
          38,
          39,
          40,
          41,
          42,
          43,
          44,
          45,
          46,
          47,
          48,
          49,
          50,
          51,
          52,
          53,
          54,
          55,
          56,
          57,
          58,
          59,
          60,
          61,
          62,
          63,
          64,
          65,
          66,
          67,
          68,
          69,
          70,
          71,
          72,
          73,
          74,
          75,
          76,
          77,
          78,
          79,
          80,
          81,
          82,
          83,
          84,
          85,
          86,
          87,
          88,
          89,
          90,
          91,
          92,
          93,
          94,
          95,
          96,
          97,
          98,
          99,
          100,
          101
         ]
        },
        "yaxis": {
         "exponentformat": "e",
         "showexponent": "all",
         "title": {
          "text": "Standard deviation in Tesla"
         }
        }
       }
      }
     },
     "metadata": {},
     "output_type": "display_data"
    },
    {
     "data": {
      "application/vnd.plotly.v1+json": {
       "config": {
        "plotlyServerURL": "https://plot.ly"
       },
       "data": [
        {
         "boxpoints": "all",
         "hovertemplate": "%{text}<br>STD: %{x: .0f}",
         "line": {
          "width": 1
         },
         "marker": {
          "size": 5
         },
         "name": "",
         "opacity": 0.7,
         "pointpos": 0,
         "text": [
          "MEG0112",
          "MEG0113",
          "MEG0122",
          "MEG0123",
          "MEG0132",
          "MEG0133",
          "MEG0142",
          "MEG0143",
          "MEG0212",
          "MEG0213",
          "MEG0222",
          "MEG0223",
          "MEG0232",
          "MEG0233",
          "MEG0242",
          "MEG0243",
          "MEG0312",
          "MEG0313",
          "MEG0322",
          "MEG0323",
          "MEG0332",
          "MEG0333",
          "MEG0342",
          "MEG0343",
          "MEG0412",
          "MEG0413",
          "MEG0422",
          "MEG0423",
          "MEG0432",
          "MEG0433",
          "MEG0442",
          "MEG0443",
          "MEG0512",
          "MEG0513",
          "MEG0522",
          "MEG0523",
          "MEG0532",
          "MEG0533",
          "MEG0542",
          "MEG0543",
          "MEG0612",
          "MEG0613",
          "MEG0622",
          "MEG0623",
          "MEG0632",
          "MEG0633",
          "MEG0642",
          "MEG0643",
          "MEG0712",
          "MEG0713",
          "MEG0722",
          "MEG0723",
          "MEG0732",
          "MEG0733",
          "MEG0742",
          "MEG0743",
          "MEG0812",
          "MEG0813",
          "MEG0822",
          "MEG0823",
          "MEG0912",
          "MEG0913",
          "MEG0922",
          "MEG0923",
          "MEG0932",
          "MEG0933",
          "MEG0942",
          "MEG0943",
          "MEG1012",
          "MEG1013",
          "MEG1022",
          "MEG1023",
          "MEG1032",
          "MEG1033",
          "MEG1042",
          "MEG1043",
          "MEG1112",
          "MEG1113",
          "MEG1122",
          "MEG1123",
          "MEG1132",
          "MEG1133",
          "MEG1142",
          "MEG1143",
          "MEG1212",
          "MEG1213",
          "MEG1222",
          "MEG1223",
          "MEG1232",
          "MEG1233",
          "MEG1242",
          "MEG1243",
          "MEG1312",
          "MEG1313",
          "MEG1322",
          "MEG1323",
          "MEG1332",
          "MEG1333",
          "MEG1342",
          "MEG1343",
          "MEG1412",
          "MEG1413",
          "MEG1422",
          "MEG1423",
          "MEG1432",
          "MEG1433",
          "MEG1442",
          "MEG1443",
          "MEG1512",
          "MEG1513",
          "MEG1522",
          "MEG1523",
          "MEG1532",
          "MEG1533",
          "MEG1542",
          "MEG1543",
          "MEG1612",
          "MEG1613",
          "MEG1622",
          "MEG1623",
          "MEG1632",
          "MEG1633",
          "MEG1642",
          "MEG1643",
          "MEG1712",
          "MEG1713",
          "MEG1722",
          "MEG1723",
          "MEG1732",
          "MEG1733",
          "MEG1742",
          "MEG1743",
          "MEG1812",
          "MEG1813",
          "MEG1822",
          "MEG1823",
          "MEG1832",
          "MEG1833",
          "MEG1842",
          "MEG1843",
          "MEG1912",
          "MEG1913",
          "MEG1922",
          "MEG1923",
          "MEG1932",
          "MEG1933",
          "MEG1942",
          "MEG1943",
          "MEG2012",
          "MEG2013",
          "MEG2022",
          "MEG2023",
          "MEG2032",
          "MEG2033",
          "MEG2042",
          "MEG2043",
          "MEG2112",
          "MEG2113",
          "MEG2122",
          "MEG2123",
          "MEG2132",
          "MEG2133",
          "MEG2142",
          "MEG2143",
          "MEG2212",
          "MEG2213",
          "MEG2222",
          "MEG2223",
          "MEG2232",
          "MEG2233",
          "MEG2242",
          "MEG2243",
          "MEG2312",
          "MEG2313",
          "MEG2322",
          "MEG2323",
          "MEG2332",
          "MEG2333",
          "MEG2342",
          "MEG2343",
          "MEG2412",
          "MEG2413",
          "MEG2422",
          "MEG2423",
          "MEG2432",
          "MEG2433",
          "MEG2442",
          "MEG2443",
          "MEG2512",
          "MEG2513",
          "MEG2522",
          "MEG2523",
          "MEG2532",
          "MEG2533",
          "MEG2542",
          "MEG2543",
          "MEG2612",
          "MEG2613",
          "MEG2622",
          "MEG2623",
          "MEG2632",
          "MEG2633",
          "MEG2642",
          "MEG2643"
         ],
         "type": "box",
         "x": [
          8.660883874781708e-12,
          1.0159925993249902e-11,
          8.780753427265999e-12,
          7.322018649549386e-12,
          8.907438224195375e-12,
          7.350466345175771e-12,
          7.524642891885649e-12,
          9.350236335476277e-12,
          6.4793932261364195e-12,
          7.620127754289771e-12,
          7.705792487248259e-12,
          9.428548302636358e-12,
          7.494279570446199e-12,
          6.306209674525592e-12,
          7.1427896584012755e-12,
          7.059176922276899e-12,
          7.290139803051534e-12,
          7.626091048454606e-12,
          7.222331547492948e-12,
          6.1617850992558615e-12,
          5.892620558435838e-12,
          6.168731020965187e-12,
          6.293614641978105e-12,
          7.944427427081188e-12,
          6.1263339826993964e-12,
          6.283173081079796e-12,
          7.384449451915171e-12,
          6.6611247146326595e-12,
          6.844648387733072e-12,
          6.213861224422905e-12,
          6.490353252500762e-12,
          6.503853913772563e-12,
          6.075684055243997e-12,
          6.1487254156337204e-12,
          6.465171143431009e-12,
          6.743131928948375e-12,
          6.794863860432241e-12,
          5.866699770194773e-12,
          7.288989996247763e-12,
          6.11233324868204e-12,
          5.812019339938054e-12,
          6.123463215927246e-12,
          6.646750968557889e-12,
          6.074369284641599e-12,
          5.402281736833121e-12,
          6.204812975952412e-12,
          6.907259047004277e-12,
          5.960886896140906e-12,
          5.919318583697095e-12,
          6.091690817332703e-12,
          7.072911714802707e-12,
          6.779227767586486e-12,
          5.741804076544393e-12,
          5.606871241203305e-12,
          5.605902481296149e-12,
          5.758121400439896e-12,
          5.9147359008650475e-12,
          8.597948167700884e-12,
          9.059720940413407e-12,
          5.943416622805358e-12,
          5.768578203046469e-12,
          6.5537935668607166e-12,
          6.4432428890624084e-12,
          6.840148601847317e-12,
          6.640586293020719e-12,
          5.70134632987714e-12,
          6.09296392706284e-12,
          6.2282171158280936e-12,
          6.202000624320259e-12,
          7.789359969547577e-12,
          5.769274434575664e-12,
          9.609483090237191e-12,
          6.92134024477501e-12,
          6.569002627183268e-12,
          7.289235712929388e-12,
          7.322854203940966e-12,
          7.234152102532862e-12,
          8.100928299512544e-12,
          7.09432245229522e-12,
          7.138195653695974e-12,
          6.922168503028643e-12,
          7.10371987972789e-12,
          6.629224472420345e-12,
          5.438589532776886e-12,
          6.441577795133608e-12,
          8.030308765719076e-12,
          7.241538175789948e-12,
          8.148287436690891e-12,
          7.157823053682407e-12,
          6.483189269685921e-12,
          6.327981109284514e-12,
          7.415226948818372e-12,
          7.944365158799166e-12,
          6.487032533763096e-12,
          7.946140035603106e-12,
          8.735768427015338e-12,
          8.321716062425423e-12,
          8.823525000748636e-12,
          7.653652358496748e-12,
          6.504305830980144e-12,
          8.521671453239571e-12,
          7.2137085765593045e-12,
          7.095331976557242e-12,
          8.05367483116794e-12,
          7.1256132331998146e-12,
          8.217651030587824e-12,
          8.313716806092484e-12,
          7.946458951274857e-12,
          8.319112597381576e-12,
          8.446176177654388e-12,
          8.658660684183549e-12,
          7.439348955414097e-12,
          7.311665104221003e-12,
          9.633172898514496e-12,
          6.642941347989853e-12,
          9.637411660732418e-12,
          6.939756223730006e-12,
          7.45676233082895e-12,
          7.404821427042388e-12,
          6.912296994556044e-12,
          7.322534414085283e-12,
          6.524314105011115e-12,
          6.812786295257245e-12,
          7.950910679407285e-12,
          7.37900317096044e-12,
          1.0536094592738785e-11,
          8.78271142056719e-12,
          7.047339228615748e-12,
          9.631145107136971e-12,
          8.409769502364419e-12,
          9.889314038815343e-12,
          1.197975011378707e-11,
          5.630740993296249e-12,
          9.448670259129752e-12,
          5.942715407561859e-12,
          5.805227369722047e-12,
          6.7986564871243086e-12,
          6.509061079200244e-12,
          6.777416194796435e-12,
          5.948035069168412e-12,
          7.525244362945247e-12,
          7.402604866469529e-12,
          9.010171385360285e-12,
          9.180718098666516e-12,
          9.817162284756063e-12,
          1.1312693941654468e-11,
          7.77188792686662e-12,
          8.720224472834954e-12,
          7.0110313688735904e-12,
          6.60604657093133e-12,
          7.553767571131344e-12,
          6.676631681443849e-12,
          7.903732827424526e-12,
          8.190002622560367e-12,
          7.805270581318021e-12,
          7.450849054557015e-12,
          9.312278319528256e-12,
          8.95341549594476e-12,
          1.0319786540180575e-11,
          9.773979786352605e-12,
          1.0679781029704649e-11,
          1.3351867539542766e-11,
          1.4770120502943683e-11,
          1.1657949630095138e-11,
          8.444775873679578e-12,
          6.323664105293618e-12,
          6.268042090501808e-12,
          7.313465502146546e-12,
          6.366070198370099e-12,
          7.124212802950042e-12,
          5.279129363536234e-12,
          6.075087799762743e-12,
          8.855680859141351e-12,
          7.505867858715875e-12,
          8.53105424023679e-12,
          8.902093912782734e-12,
          9.725997753864055e-12,
          1.1236909016982983e-11,
          8.346886776058372e-12,
          8.642460424293646e-12,
          8.008657344542812e-12,
          6.810111854345397e-12,
          8.713981234378612e-12,
          8.177274901317652e-12,
          8.598828037679058e-12,
          8.445835535354385e-12,
          7.888640112581842e-12,
          7.01323546788077e-12,
          1.0033116436763103e-11,
          1.0655788770052988e-11,
          9.529625582658744e-12,
          7.95356574811546e-12,
          8.696497453308605e-12,
          1.1040520020725317e-11,
          1.06855081865747e-11,
          1.2058530768194237e-11,
          8.765168205681857e-12,
          8.896944055196285e-12,
          9.047904424187728e-12,
          8.667133001815479e-12,
          7.591750875825941e-12,
          9.632475259728903e-12,
          8.681094317621376e-12,
          7.992434801359038e-12
         ]
        }
       ],
       "layout": {
        "template": {
         "data": {
          "bar": [
           {
            "error_x": {
             "color": "#2a3f5f"
            },
            "error_y": {
             "color": "#2a3f5f"
            },
            "marker": {
             "line": {
              "color": "#E5ECF6",
              "width": 0.5
             },
             "pattern": {
              "fillmode": "overlay",
              "size": 10,
              "solidity": 0.2
             }
            },
            "type": "bar"
           }
          ],
          "barpolar": [
           {
            "marker": {
             "line": {
              "color": "#E5ECF6",
              "width": 0.5
             },
             "pattern": {
              "fillmode": "overlay",
              "size": 10,
              "solidity": 0.2
             }
            },
            "type": "barpolar"
           }
          ],
          "carpet": [
           {
            "aaxis": {
             "endlinecolor": "#2a3f5f",
             "gridcolor": "white",
             "linecolor": "white",
             "minorgridcolor": "white",
             "startlinecolor": "#2a3f5f"
            },
            "baxis": {
             "endlinecolor": "#2a3f5f",
             "gridcolor": "white",
             "linecolor": "white",
             "minorgridcolor": "white",
             "startlinecolor": "#2a3f5f"
            },
            "type": "carpet"
           }
          ],
          "choropleth": [
           {
            "colorbar": {
             "outlinewidth": 0,
             "ticks": ""
            },
            "type": "choropleth"
           }
          ],
          "contour": [
           {
            "colorbar": {
             "outlinewidth": 0,
             "ticks": ""
            },
            "colorscale": [
             [
              0,
              "#0d0887"
             ],
             [
              0.1111111111111111,
              "#46039f"
             ],
             [
              0.2222222222222222,
              "#7201a8"
             ],
             [
              0.3333333333333333,
              "#9c179e"
             ],
             [
              0.4444444444444444,
              "#bd3786"
             ],
             [
              0.5555555555555556,
              "#d8576b"
             ],
             [
              0.6666666666666666,
              "#ed7953"
             ],
             [
              0.7777777777777778,
              "#fb9f3a"
             ],
             [
              0.8888888888888888,
              "#fdca26"
             ],
             [
              1,
              "#f0f921"
             ]
            ],
            "type": "contour"
           }
          ],
          "contourcarpet": [
           {
            "colorbar": {
             "outlinewidth": 0,
             "ticks": ""
            },
            "type": "contourcarpet"
           }
          ],
          "heatmap": [
           {
            "colorbar": {
             "outlinewidth": 0,
             "ticks": ""
            },
            "colorscale": [
             [
              0,
              "#0d0887"
             ],
             [
              0.1111111111111111,
              "#46039f"
             ],
             [
              0.2222222222222222,
              "#7201a8"
             ],
             [
              0.3333333333333333,
              "#9c179e"
             ],
             [
              0.4444444444444444,
              "#bd3786"
             ],
             [
              0.5555555555555556,
              "#d8576b"
             ],
             [
              0.6666666666666666,
              "#ed7953"
             ],
             [
              0.7777777777777778,
              "#fb9f3a"
             ],
             [
              0.8888888888888888,
              "#fdca26"
             ],
             [
              1,
              "#f0f921"
             ]
            ],
            "type": "heatmap"
           }
          ],
          "heatmapgl": [
           {
            "colorbar": {
             "outlinewidth": 0,
             "ticks": ""
            },
            "colorscale": [
             [
              0,
              "#0d0887"
             ],
             [
              0.1111111111111111,
              "#46039f"
             ],
             [
              0.2222222222222222,
              "#7201a8"
             ],
             [
              0.3333333333333333,
              "#9c179e"
             ],
             [
              0.4444444444444444,
              "#bd3786"
             ],
             [
              0.5555555555555556,
              "#d8576b"
             ],
             [
              0.6666666666666666,
              "#ed7953"
             ],
             [
              0.7777777777777778,
              "#fb9f3a"
             ],
             [
              0.8888888888888888,
              "#fdca26"
             ],
             [
              1,
              "#f0f921"
             ]
            ],
            "type": "heatmapgl"
           }
          ],
          "histogram": [
           {
            "marker": {
             "pattern": {
              "fillmode": "overlay",
              "size": 10,
              "solidity": 0.2
             }
            },
            "type": "histogram"
           }
          ],
          "histogram2d": [
           {
            "colorbar": {
             "outlinewidth": 0,
             "ticks": ""
            },
            "colorscale": [
             [
              0,
              "#0d0887"
             ],
             [
              0.1111111111111111,
              "#46039f"
             ],
             [
              0.2222222222222222,
              "#7201a8"
             ],
             [
              0.3333333333333333,
              "#9c179e"
             ],
             [
              0.4444444444444444,
              "#bd3786"
             ],
             [
              0.5555555555555556,
              "#d8576b"
             ],
             [
              0.6666666666666666,
              "#ed7953"
             ],
             [
              0.7777777777777778,
              "#fb9f3a"
             ],
             [
              0.8888888888888888,
              "#fdca26"
             ],
             [
              1,
              "#f0f921"
             ]
            ],
            "type": "histogram2d"
           }
          ],
          "histogram2dcontour": [
           {
            "colorbar": {
             "outlinewidth": 0,
             "ticks": ""
            },
            "colorscale": [
             [
              0,
              "#0d0887"
             ],
             [
              0.1111111111111111,
              "#46039f"
             ],
             [
              0.2222222222222222,
              "#7201a8"
             ],
             [
              0.3333333333333333,
              "#9c179e"
             ],
             [
              0.4444444444444444,
              "#bd3786"
             ],
             [
              0.5555555555555556,
              "#d8576b"
             ],
             [
              0.6666666666666666,
              "#ed7953"
             ],
             [
              0.7777777777777778,
              "#fb9f3a"
             ],
             [
              0.8888888888888888,
              "#fdca26"
             ],
             [
              1,
              "#f0f921"
             ]
            ],
            "type": "histogram2dcontour"
           }
          ],
          "mesh3d": [
           {
            "colorbar": {
             "outlinewidth": 0,
             "ticks": ""
            },
            "type": "mesh3d"
           }
          ],
          "parcoords": [
           {
            "line": {
             "colorbar": {
              "outlinewidth": 0,
              "ticks": ""
             }
            },
            "type": "parcoords"
           }
          ],
          "pie": [
           {
            "automargin": true,
            "type": "pie"
           }
          ],
          "scatter": [
           {
            "fillpattern": {
             "fillmode": "overlay",
             "size": 10,
             "solidity": 0.2
            },
            "type": "scatter"
           }
          ],
          "scatter3d": [
           {
            "line": {
             "colorbar": {
              "outlinewidth": 0,
              "ticks": ""
             }
            },
            "marker": {
             "colorbar": {
              "outlinewidth": 0,
              "ticks": ""
             }
            },
            "type": "scatter3d"
           }
          ],
          "scattercarpet": [
           {
            "marker": {
             "colorbar": {
              "outlinewidth": 0,
              "ticks": ""
             }
            },
            "type": "scattercarpet"
           }
          ],
          "scattergeo": [
           {
            "marker": {
             "colorbar": {
              "outlinewidth": 0,
              "ticks": ""
             }
            },
            "type": "scattergeo"
           }
          ],
          "scattergl": [
           {
            "marker": {
             "colorbar": {
              "outlinewidth": 0,
              "ticks": ""
             }
            },
            "type": "scattergl"
           }
          ],
          "scattermapbox": [
           {
            "marker": {
             "colorbar": {
              "outlinewidth": 0,
              "ticks": ""
             }
            },
            "type": "scattermapbox"
           }
          ],
          "scatterpolar": [
           {
            "marker": {
             "colorbar": {
              "outlinewidth": 0,
              "ticks": ""
             }
            },
            "type": "scatterpolar"
           }
          ],
          "scatterpolargl": [
           {
            "marker": {
             "colorbar": {
              "outlinewidth": 0,
              "ticks": ""
             }
            },
            "type": "scatterpolargl"
           }
          ],
          "scatterternary": [
           {
            "marker": {
             "colorbar": {
              "outlinewidth": 0,
              "ticks": ""
             }
            },
            "type": "scatterternary"
           }
          ],
          "surface": [
           {
            "colorbar": {
             "outlinewidth": 0,
             "ticks": ""
            },
            "colorscale": [
             [
              0,
              "#0d0887"
             ],
             [
              0.1111111111111111,
              "#46039f"
             ],
             [
              0.2222222222222222,
              "#7201a8"
             ],
             [
              0.3333333333333333,
              "#9c179e"
             ],
             [
              0.4444444444444444,
              "#bd3786"
             ],
             [
              0.5555555555555556,
              "#d8576b"
             ],
             [
              0.6666666666666666,
              "#ed7953"
             ],
             [
              0.7777777777777778,
              "#fb9f3a"
             ],
             [
              0.8888888888888888,
              "#fdca26"
             ],
             [
              1,
              "#f0f921"
             ]
            ],
            "type": "surface"
           }
          ],
          "table": [
           {
            "cells": {
             "fill": {
              "color": "#EBF0F8"
             },
             "line": {
              "color": "white"
             }
            },
            "header": {
             "fill": {
              "color": "#C8D4E3"
             },
             "line": {
              "color": "white"
             }
            },
            "type": "table"
           }
          ]
         },
         "layout": {
          "annotationdefaults": {
           "arrowcolor": "#2a3f5f",
           "arrowhead": 0,
           "arrowwidth": 1
          },
          "autotypenumbers": "strict",
          "coloraxis": {
           "colorbar": {
            "outlinewidth": 0,
            "ticks": ""
           }
          },
          "colorscale": {
           "diverging": [
            [
             0,
             "#8e0152"
            ],
            [
             0.1,
             "#c51b7d"
            ],
            [
             0.2,
             "#de77ae"
            ],
            [
             0.3,
             "#f1b6da"
            ],
            [
             0.4,
             "#fde0ef"
            ],
            [
             0.5,
             "#f7f7f7"
            ],
            [
             0.6,
             "#e6f5d0"
            ],
            [
             0.7,
             "#b8e186"
            ],
            [
             0.8,
             "#7fbc41"
            ],
            [
             0.9,
             "#4d9221"
            ],
            [
             1,
             "#276419"
            ]
           ],
           "sequential": [
            [
             0,
             "#0d0887"
            ],
            [
             0.1111111111111111,
             "#46039f"
            ],
            [
             0.2222222222222222,
             "#7201a8"
            ],
            [
             0.3333333333333333,
             "#9c179e"
            ],
            [
             0.4444444444444444,
             "#bd3786"
            ],
            [
             0.5555555555555556,
             "#d8576b"
            ],
            [
             0.6666666666666666,
             "#ed7953"
            ],
            [
             0.7777777777777778,
             "#fb9f3a"
            ],
            [
             0.8888888888888888,
             "#fdca26"
            ],
            [
             1,
             "#f0f921"
            ]
           ],
           "sequentialminus": [
            [
             0,
             "#0d0887"
            ],
            [
             0.1111111111111111,
             "#46039f"
            ],
            [
             0.2222222222222222,
             "#7201a8"
            ],
            [
             0.3333333333333333,
             "#9c179e"
            ],
            [
             0.4444444444444444,
             "#bd3786"
            ],
            [
             0.5555555555555556,
             "#d8576b"
            ],
            [
             0.6666666666666666,
             "#ed7953"
            ],
            [
             0.7777777777777778,
             "#fb9f3a"
            ],
            [
             0.8888888888888888,
             "#fdca26"
            ],
            [
             1,
             "#f0f921"
            ]
           ]
          },
          "colorway": [
           "#636efa",
           "#EF553B",
           "#00cc96",
           "#ab63fa",
           "#FFA15A",
           "#19d3f3",
           "#FF6692",
           "#B6E880",
           "#FF97FF",
           "#FECB52"
          ],
          "font": {
           "color": "#2a3f5f"
          },
          "geo": {
           "bgcolor": "white",
           "lakecolor": "white",
           "landcolor": "#E5ECF6",
           "showlakes": true,
           "showland": true,
           "subunitcolor": "white"
          },
          "hoverlabel": {
           "align": "left"
          },
          "hovermode": "closest",
          "mapbox": {
           "style": "light"
          },
          "paper_bgcolor": "white",
          "plot_bgcolor": "#E5ECF6",
          "polar": {
           "angularaxis": {
            "gridcolor": "white",
            "linecolor": "white",
            "ticks": ""
           },
           "bgcolor": "#E5ECF6",
           "radialaxis": {
            "gridcolor": "white",
            "linecolor": "white",
            "ticks": ""
           }
          },
          "scene": {
           "xaxis": {
            "backgroundcolor": "#E5ECF6",
            "gridcolor": "white",
            "gridwidth": 2,
            "linecolor": "white",
            "showbackground": true,
            "ticks": "",
            "zerolinecolor": "white"
           },
           "yaxis": {
            "backgroundcolor": "#E5ECF6",
            "gridcolor": "white",
            "gridwidth": 2,
            "linecolor": "white",
            "showbackground": true,
            "ticks": "",
            "zerolinecolor": "white"
           },
           "zaxis": {
            "backgroundcolor": "#E5ECF6",
            "gridcolor": "white",
            "gridwidth": 2,
            "linecolor": "white",
            "showbackground": true,
            "ticks": "",
            "zerolinecolor": "white"
           }
          },
          "shapedefaults": {
           "line": {
            "color": "#2a3f5f"
           }
          },
          "ternary": {
           "aaxis": {
            "gridcolor": "white",
            "linecolor": "white",
            "ticks": ""
           },
           "baxis": {
            "gridcolor": "white",
            "linecolor": "white",
            "ticks": ""
           },
           "bgcolor": "#E5ECF6",
           "caxis": {
            "gridcolor": "white",
            "linecolor": "white",
            "ticks": ""
           }
          },
          "title": {
           "x": 0.05
          },
          "xaxis": {
           "automargin": true,
           "gridcolor": "white",
           "linecolor": "white",
           "ticks": "",
           "title": {
            "standoff": 15
           },
           "zerolinecolor": "white",
           "zerolinewidth": 2
          },
          "yaxis": {
           "automargin": true,
           "gridcolor": "white",
           "linecolor": "white",
           "ticks": "",
           "title": {
            "standoff": 15
           },
           "zerolinecolor": "white",
           "zerolinewidth": 2
          }
         }
        },
        "title": {
         "text": "Standard deviation of the data for Gradiometers over whole time series",
         "x": 0.5,
         "xanchor": "center",
         "y": 0.85,
         "yanchor": "top"
        },
        "xaxis": {
         "exponentformat": "e",
         "showexponent": "all",
         "title": {
          "text": "standard deviation in T/m"
         }
        },
        "yaxis": {
         "showticklabels": false,
         "visible": false
        }
       }
      }
     },
     "metadata": {},
     "output_type": "display_data"
    },
    {
     "data": {
      "application/vnd.plotly.v1+json": {
       "config": {
        "plotlyServerURL": "https://plot.ly"
       },
       "data": [
        {
         "boxpoints": "all",
         "hovertemplate": "Epoch: %{text}<br>STD: %{y: .2e}",
         "line": {
          "width": 1
         },
         "marker": {
          "size": 3
         },
         "name": "MEG0112",
         "opacity": 0.7,
         "pointpos": 0,
         "text": [
          0,
          1,
          2,
          3,
          4,
          5
         ],
         "type": "box",
         "y": [
          6.524702119477544e-12,
          6.627676511015041e-12,
          8.012764286359242e-12,
          6.9143235176790145e-12,
          6.052992198910865e-12,
          6.065864193590208e-12
         ]
        },
        {
         "boxpoints": "all",
         "hovertemplate": "Epoch: %{text}<br>STD: %{y: .2e}",
         "line": {
          "width": 1
         },
         "marker": {
          "size": 3
         },
         "name": "MEG0113",
         "opacity": 0.7,
         "pointpos": 0,
         "text": [
          0,
          1,
          2,
          3,
          4,
          5
         ],
         "type": "box",
         "y": [
          8.46852607393627e-12,
          8.602187341153037e-12,
          8.955616186222741e-12,
          8.334155079595937e-12,
          7.605180720157663e-12,
          7.367781394916704e-12
         ]
        },
        {
         "boxpoints": "all",
         "hovertemplate": "Epoch: %{text}<br>STD: %{y: .2e}",
         "line": {
          "width": 1
         },
         "marker": {
          "size": 3
         },
         "name": "MEG0122",
         "opacity": 0.7,
         "pointpos": 0,
         "text": [
          0,
          1,
          2,
          3,
          4,
          5
         ],
         "type": "box",
         "y": [
          6.711291112986384e-12,
          6.051362744989219e-12,
          8.386950434836644e-12,
          6.80406636674621e-12,
          6.505690759737746e-12,
          5.93705429291525e-12
         ]
        },
        {
         "boxpoints": "all",
         "hovertemplate": "Epoch: %{text}<br>STD: %{y: .2e}",
         "line": {
          "width": 1
         },
         "marker": {
          "size": 3
         },
         "name": "MEG0123",
         "opacity": 0.7,
         "pointpos": 0,
         "text": [
          0,
          1,
          2,
          3,
          4,
          5
         ],
         "type": "box",
         "y": [
          7.018740877861918e-12,
          7.2015245811922236e-12,
          6.443262053263788e-12,
          6.556945832769703e-12,
          7.054452810935887e-12,
          6.5203524253589814e-12
         ]
        },
        {
         "boxpoints": "all",
         "hovertemplate": "Epoch: %{text}<br>STD: %{y: .2e}",
         "line": {
          "width": 1
         },
         "marker": {
          "size": 3
         },
         "name": "MEG0132",
         "opacity": 0.7,
         "pointpos": 0,
         "text": [
          0,
          1,
          2,
          3,
          4,
          5
         ],
         "type": "box",
         "y": [
          6.858227562397087e-12,
          6.2124028461597685e-12,
          6.9728486272677e-12,
          7.099038600528697e-12,
          6.896503794867664e-12,
          6.130697658518115e-12
         ]
        },
        {
         "boxpoints": "all",
         "hovertemplate": "Epoch: %{text}<br>STD: %{y: .2e}",
         "line": {
          "width": 1
         },
         "marker": {
          "size": 3
         },
         "name": "MEG0133",
         "opacity": 0.7,
         "pointpos": 0,
         "text": [
          0,
          1,
          2,
          3,
          4,
          5
         ],
         "type": "box",
         "y": [
          6.6446826789176334e-12,
          6.3068874809815096e-12,
          6.464554356377254e-12,
          7.1649410434293136e-12,
          6.295978210986191e-12,
          6.165250945355066e-12
         ]
        },
        {
         "boxpoints": "all",
         "hovertemplate": "Epoch: %{text}<br>STD: %{y: .2e}",
         "line": {
          "width": 1
         },
         "marker": {
          "size": 3
         },
         "name": "MEG0142",
         "opacity": 0.7,
         "pointpos": 0,
         "text": [
          0,
          1,
          2,
          3,
          4,
          5
         ],
         "type": "box",
         "y": [
          5.790626846606968e-12,
          5.961405120878812e-12,
          7.181499310980862e-12,
          6.881218721510748e-12,
          6.223349068409186e-12,
          5.710476254226451e-12
         ]
        },
        {
         "boxpoints": "all",
         "hovertemplate": "Epoch: %{text}<br>STD: %{y: .2e}",
         "line": {
          "width": 1
         },
         "marker": {
          "size": 3
         },
         "name": "MEG0143",
         "opacity": 0.7,
         "pointpos": 0,
         "text": [
          0,
          1,
          2,
          3,
          4,
          5
         ],
         "type": "box",
         "y": [
          7.290985414802363e-12,
          7.889593104061165e-12,
          8.284424844192127e-12,
          7.500213184861131e-12,
          7.006606075209949e-12,
          6.835669737409299e-12
         ]
        },
        {
         "boxpoints": "all",
         "hovertemplate": "Epoch: %{text}<br>STD: %{y: .2e}",
         "line": {
          "width": 1
         },
         "marker": {
          "size": 3
         },
         "name": "MEG0212",
         "opacity": 0.7,
         "pointpos": 0,
         "text": [
          0,
          1,
          2,
          3,
          4,
          5
         ],
         "type": "box",
         "y": [
          6.294206966690485e-12,
          6.355362939811235e-12,
          6.132325455922429e-12,
          6.729434617906686e-12,
          6.516710399331844e-12,
          5.752418671813205e-12
         ]
        },
        {
         "boxpoints": "all",
         "hovertemplate": "Epoch: %{text}<br>STD: %{y: .2e}",
         "line": {
          "width": 1
         },
         "marker": {
          "size": 3
         },
         "name": "MEG0213",
         "opacity": 0.7,
         "pointpos": 0,
         "text": [
          0,
          1,
          2,
          3,
          4,
          5
         ],
         "type": "box",
         "y": [
          5.66769453040524e-12,
          5.830193338732008e-12,
          5.8562572535247684e-12,
          6.463121007287273e-12,
          6.429590818747355e-12,
          6.2507738913888554e-12
         ]
        },
        {
         "boxpoints": "all",
         "hovertemplate": "Epoch: %{text}<br>STD: %{y: .2e}",
         "line": {
          "width": 1
         },
         "marker": {
          "size": 3
         },
         "name": "MEG0222",
         "opacity": 0.7,
         "pointpos": 0,
         "text": [
          0,
          1,
          2,
          3,
          4,
          5
         ],
         "type": "box",
         "y": [
          6.477656150340971e-12,
          6.028404312280897e-12,
          5.994240066075685e-12,
          6.281148281436601e-12,
          6.570813724207076e-12,
          7.2522729900068135e-12
         ]
        },
        {
         "boxpoints": "all",
         "hovertemplate": "Epoch: %{text}<br>STD: %{y: .2e}",
         "line": {
          "width": 1
         },
         "marker": {
          "size": 3
         },
         "name": "MEG0223",
         "opacity": 0.7,
         "pointpos": 0,
         "text": [
          0,
          1,
          2,
          3,
          4,
          5
         ],
         "type": "box",
         "y": [
          9.162902386226106e-12,
          9.43572002441459e-12,
          9.145013802279168e-12,
          1.010715744988226e-11,
          9.345942959518071e-12,
          8.626143184727275e-12
         ]
        },
        {
         "boxpoints": "all",
         "hovertemplate": "Epoch: %{text}<br>STD: %{y: .2e}",
         "line": {
          "width": 1
         },
         "marker": {
          "size": 3
         },
         "name": "MEG0232",
         "opacity": 0.7,
         "pointpos": 0,
         "text": [
          0,
          1,
          2,
          3,
          4,
          5
         ],
         "type": "box",
         "y": [
          5.885372239859897e-12,
          6.204485434999394e-12,
          6.399605245303981e-12,
          6.650557291650101e-12,
          7.11144282125144e-12,
          6.990720479078994e-12
         ]
        },
        {
         "boxpoints": "all",
         "hovertemplate": "Epoch: %{text}<br>STD: %{y: .2e}",
         "line": {
          "width": 1
         },
         "marker": {
          "size": 3
         },
         "name": "MEG0233",
         "opacity": 0.7,
         "pointpos": 0,
         "text": [
          0,
          1,
          2,
          3,
          4,
          5
         ],
         "type": "box",
         "y": [
          5.821426471228275e-12,
          6.357138887117539e-12,
          6.093239269322121e-12,
          6.160129634763829e-12,
          5.8891470604753584e-12,
          5.8701893599487146e-12
         ]
        },
        {
         "boxpoints": "all",
         "hovertemplate": "Epoch: %{text}<br>STD: %{y: .2e}",
         "line": {
          "width": 1
         },
         "marker": {
          "size": 3
         },
         "name": "MEG0242",
         "opacity": 0.7,
         "pointpos": 0,
         "text": [
          0,
          1,
          2,
          3,
          4,
          5
         ],
         "type": "box",
         "y": [
          6.059003056975594e-12,
          6.718045293656818e-12,
          7.2589028271794385e-12,
          6.80182563911091e-12,
          7.033928678985244e-12,
          6.923104077476561e-12
         ]
        },
        {
         "boxpoints": "all",
         "hovertemplate": "Epoch: %{text}<br>STD: %{y: .2e}",
         "line": {
          "width": 1
         },
         "marker": {
          "size": 3
         },
         "name": "MEG0243",
         "opacity": 0.7,
         "pointpos": 0,
         "text": [
          0,
          1,
          2,
          3,
          4,
          5
         ],
         "type": "box",
         "y": [
          6.6116043960465645e-12,
          5.487272385472805e-12,
          6.218613902920099e-12,
          6.378289478477575e-12,
          6.5167015871092775e-12,
          6.249183730961427e-12
         ]
        },
        {
         "boxpoints": "all",
         "hovertemplate": "Epoch: %{text}<br>STD: %{y: .2e}",
         "line": {
          "width": 1
         },
         "marker": {
          "size": 3
         },
         "name": "MEG0312",
         "opacity": 0.7,
         "pointpos": 0,
         "text": [
          0,
          1,
          2,
          3,
          4,
          5
         ],
         "type": "box",
         "y": [
          6.6786969056415895e-12,
          7.0612711288767755e-12,
          6.29979674765726e-12,
          6.798272740701044e-12,
          6.6242590270024024e-12,
          7.10813357700182e-12
         ]
        },
        {
         "boxpoints": "all",
         "hovertemplate": "Epoch: %{text}<br>STD: %{y: .2e}",
         "line": {
          "width": 1
         },
         "marker": {
          "size": 3
         },
         "name": "MEG0313",
         "opacity": 0.7,
         "pointpos": 0,
         "text": [
          0,
          1,
          2,
          3,
          4,
          5
         ],
         "type": "box",
         "y": [
          6.20834883951341e-12,
          5.531479577167347e-12,
          6.239544931726894e-12,
          6.205240224563727e-12,
          5.8354450060185234e-12,
          6.373507888494151e-12
         ]
        },
        {
         "boxpoints": "all",
         "hovertemplate": "Epoch: %{text}<br>STD: %{y: .2e}",
         "line": {
          "width": 1
         },
         "marker": {
          "size": 3
         },
         "name": "MEG0322",
         "opacity": 0.7,
         "pointpos": 0,
         "text": [
          0,
          1,
          2,
          3,
          4,
          5
         ],
         "type": "box",
         "y": [
          5.595774981113134e-12,
          5.79674958531034e-12,
          5.5901640706656055e-12,
          6.143120932778725e-12,
          6.179673870561083e-12,
          5.9168904483006524e-12
         ]
        },
        {
         "boxpoints": "all",
         "hovertemplate": "Epoch: %{text}<br>STD: %{y: .2e}",
         "line": {
          "width": 1
         },
         "marker": {
          "size": 3
         },
         "name": "MEG0323",
         "opacity": 0.7,
         "pointpos": 0,
         "text": [
          0,
          1,
          2,
          3,
          4,
          5
         ],
         "type": "box",
         "y": [
          5.924798701962226e-12,
          6.177503313106068e-12,
          5.762912364548907e-12,
          6.082488613817016e-12,
          5.793339168957414e-12,
          5.832767397152104e-12
         ]
        },
        {
         "boxpoints": "all",
         "hovertemplate": "Epoch: %{text}<br>STD: %{y: .2e}",
         "line": {
          "width": 1
         },
         "marker": {
          "size": 3
         },
         "name": "MEG0332",
         "opacity": 0.7,
         "pointpos": 0,
         "text": [
          0,
          1,
          2,
          3,
          4,
          5
         ],
         "type": "box",
         "y": [
          5.236097871994403e-12,
          5.4179188508352195e-12,
          5.420527982462105e-12,
          5.043246442895625e-12,
          5.019200431931597e-12,
          4.867044405565599e-12
         ]
        },
        {
         "boxpoints": "all",
         "hovertemplate": "Epoch: %{text}<br>STD: %{y: .2e}",
         "line": {
          "width": 1
         },
         "marker": {
          "size": 3
         },
         "name": "MEG0333",
         "opacity": 0.7,
         "pointpos": 0,
         "text": [
          0,
          1,
          2,
          3,
          4,
          5
         ],
         "type": "box",
         "y": [
          5.7171923526982635e-12,
          5.041934375809208e-12,
          6.4365942219109475e-12,
          5.442649335708496e-12,
          5.4433935483272844e-12,
          5.526393113092206e-12
         ]
        },
        {
         "boxpoints": "all",
         "hovertemplate": "Epoch: %{text}<br>STD: %{y: .2e}",
         "line": {
          "width": 1
         },
         "marker": {
          "size": 3
         },
         "name": "MEG0342",
         "opacity": 0.7,
         "pointpos": 0,
         "text": [
          0,
          1,
          2,
          3,
          4,
          5
         ],
         "type": "box",
         "y": [
          5.812575478383918e-12,
          6.2667762132441454e-12,
          5.599837512072177e-12,
          5.8404933889280896e-12,
          6.352947822300631e-12,
          5.822580116746987e-12
         ]
        },
        {
         "boxpoints": "all",
         "hovertemplate": "Epoch: %{text}<br>STD: %{y: .2e}",
         "line": {
          "width": 1
         },
         "marker": {
          "size": 3
         },
         "name": "MEG0343",
         "opacity": 0.7,
         "pointpos": 0,
         "text": [
          0,
          1,
          2,
          3,
          4,
          5
         ],
         "type": "box",
         "y": [
          5.624879443409756e-12,
          5.866384950929539e-12,
          6.295462378955941e-12,
          6.4775235082974455e-12,
          5.872168080551287e-12,
          6.204748996650292e-12
         ]
        },
        {
         "boxpoints": "all",
         "hovertemplate": "Epoch: %{text}<br>STD: %{y: .2e}",
         "line": {
          "width": 1
         },
         "marker": {
          "size": 3
         },
         "name": "MEG0412",
         "opacity": 0.7,
         "pointpos": 0,
         "text": [
          0,
          1,
          2,
          3,
          4,
          5
         ],
         "type": "box",
         "y": [
          5.643318997529889e-12,
          5.857255234149714e-12,
          5.3541535824696815e-12,
          5.86816551542113e-12,
          5.620149958818346e-12,
          5.174976344068154e-12
         ]
        },
        {
         "boxpoints": "all",
         "hovertemplate": "Epoch: %{text}<br>STD: %{y: .2e}",
         "line": {
          "width": 1
         },
         "marker": {
          "size": 3
         },
         "name": "MEG0413",
         "opacity": 0.7,
         "pointpos": 0,
         "text": [
          0,
          1,
          2,
          3,
          4,
          5
         ],
         "type": "box",
         "y": [
          5.794626720337078e-12,
          5.920392450350734e-12,
          5.9373163081604335e-12,
          5.818543530015969e-12,
          5.747876958239996e-12,
          5.918354392537325e-12
         ]
        },
        {
         "boxpoints": "all",
         "hovertemplate": "Epoch: %{text}<br>STD: %{y: .2e}",
         "line": {
          "width": 1
         },
         "marker": {
          "size": 3
         },
         "name": "MEG0422",
         "opacity": 0.7,
         "pointpos": 0,
         "text": [
          0,
          1,
          2,
          3,
          4,
          5
         ],
         "type": "box",
         "y": [
          7.316986715491405e-12,
          7.058239430768e-12,
          7.1529739947860135e-12,
          7.131402976963202e-12,
          7.589842554026217e-12,
          7.078914163345979e-12
         ]
        },
        {
         "boxpoints": "all",
         "hovertemplate": "Epoch: %{text}<br>STD: %{y: .2e}",
         "line": {
          "width": 1
         },
         "marker": {
          "size": 3
         },
         "name": "MEG0423",
         "opacity": 0.7,
         "pointpos": 0,
         "text": [
          0,
          1,
          2,
          3,
          4,
          5
         ],
         "type": "box",
         "y": [
          5.877476160474617e-12,
          6.3550170343565384e-12,
          6.339376374481313e-12,
          6.208850705403136e-12,
          6.21844698753742e-12,
          5.9416541334607565e-12
         ]
        },
        {
         "boxpoints": "all",
         "hovertemplate": "Epoch: %{text}<br>STD: %{y: .2e}",
         "line": {
          "width": 1
         },
         "marker": {
          "size": 3
         },
         "name": "MEG0432",
         "opacity": 0.7,
         "pointpos": 0,
         "text": [
          0,
          1,
          2,
          3,
          4,
          5
         ],
         "type": "box",
         "y": [
          6.93968755235446e-12,
          6.149466473402545e-12,
          6.615791766155301e-12,
          6.143297927067694e-12,
          6.9086111218041584e-12,
          6.689674711782793e-12
         ]
        },
        {
         "boxpoints": "all",
         "hovertemplate": "Epoch: %{text}<br>STD: %{y: .2e}",
         "line": {
          "width": 1
         },
         "marker": {
          "size": 3
         },
         "name": "MEG0433",
         "opacity": 0.7,
         "pointpos": 0,
         "text": [
          0,
          1,
          2,
          3,
          4,
          5
         ],
         "type": "box",
         "y": [
          5.488054411461756e-12,
          6.40600729625986e-12,
          5.961061677330443e-12,
          5.661664008007301e-12,
          6.05204595455974e-12,
          6.01782949763853e-12
         ]
        },
        {
         "boxpoints": "all",
         "hovertemplate": "Epoch: %{text}<br>STD: %{y: .2e}",
         "line": {
          "width": 1
         },
         "marker": {
          "size": 3
         },
         "name": "MEG0442",
         "opacity": 0.7,
         "pointpos": 0,
         "text": [
          0,
          1,
          2,
          3,
          4,
          5
         ],
         "type": "box",
         "y": [
          5.781321949620817e-12,
          6.605233524752698e-12,
          5.9280627498627014e-12,
          6.559379599583791e-12,
          6.268820645710574e-12,
          6.018441810682266e-12
         ]
        },
        {
         "boxpoints": "all",
         "hovertemplate": "Epoch: %{text}<br>STD: %{y: .2e}",
         "line": {
          "width": 1
         },
         "marker": {
          "size": 3
         },
         "name": "MEG0443",
         "opacity": 0.7,
         "pointpos": 0,
         "text": [
          0,
          1,
          2,
          3,
          4,
          5
         ],
         "type": "box",
         "y": [
          6.2947046119292515e-12,
          5.843806586028637e-12,
          5.8848475521858976e-12,
          6.242259276273815e-12,
          6.4462257877280915e-12,
          6.007429329212079e-12
         ]
        },
        {
         "boxpoints": "all",
         "hovertemplate": "Epoch: %{text}<br>STD: %{y: .2e}",
         "line": {
          "width": 1
         },
         "marker": {
          "size": 3
         },
         "name": "MEG0512",
         "opacity": 0.7,
         "pointpos": 0,
         "text": [
          0,
          1,
          2,
          3,
          4,
          5
         ],
         "type": "box",
         "y": [
          5.4681454673407014e-12,
          5.3719578817958744e-12,
          5.013182708220749e-12,
          5.080336230607218e-12,
          4.71590965887267e-12,
          5.501159841187078e-12
         ]
        },
        {
         "boxpoints": "all",
         "hovertemplate": "Epoch: %{text}<br>STD: %{y: .2e}",
         "line": {
          "width": 1
         },
         "marker": {
          "size": 3
         },
         "name": "MEG0513",
         "opacity": 0.7,
         "pointpos": 0,
         "text": [
          0,
          1,
          2,
          3,
          4,
          5
         ],
         "type": "box",
         "y": [
          5.441976798237423e-12,
          5.263641200642132e-12,
          5.289922345681388e-12,
          5.870865900320867e-12,
          5.159877944129895e-12,
          5.586103554618015e-12
         ]
        },
        {
         "boxpoints": "all",
         "hovertemplate": "Epoch: %{text}<br>STD: %{y: .2e}",
         "line": {
          "width": 1
         },
         "marker": {
          "size": 3
         },
         "name": "MEG0522",
         "opacity": 0.7,
         "pointpos": 0,
         "text": [
          0,
          1,
          2,
          3,
          4,
          5
         ],
         "type": "box",
         "y": [
          5.77485149511781e-12,
          6.1601216244408206e-12,
          5.654873968948696e-12,
          5.999393922445115e-12,
          5.701655989475118e-12,
          6.2386221137450845e-12
         ]
        },
        {
         "boxpoints": "all",
         "hovertemplate": "Epoch: %{text}<br>STD: %{y: .2e}",
         "line": {
          "width": 1
         },
         "marker": {
          "size": 3
         },
         "name": "MEG0523",
         "opacity": 0.7,
         "pointpos": 0,
         "text": [
          0,
          1,
          2,
          3,
          4,
          5
         ],
         "type": "box",
         "y": [
          6.585516753241691e-12,
          6.115697095910533e-12,
          6.0879963248058196e-12,
          6.303787495785936e-12,
          6.1400639706692845e-12,
          6.106833533157348e-12
         ]
        },
        {
         "boxpoints": "all",
         "hovertemplate": "Epoch: %{text}<br>STD: %{y: .2e}",
         "line": {
          "width": 1
         },
         "marker": {
          "size": 3
         },
         "name": "MEG0532",
         "opacity": 0.7,
         "pointpos": 0,
         "text": [
          0,
          1,
          2,
          3,
          4,
          5
         ],
         "type": "box",
         "y": [
          5.268253776431726e-12,
          5.396332529075085e-12,
          5.812668675298931e-12,
          5.6400312506129785e-12,
          5.404990271853637e-12,
          5.633614105264538e-12
         ]
        },
        {
         "boxpoints": "all",
         "hovertemplate": "Epoch: %{text}<br>STD: %{y: .2e}",
         "line": {
          "width": 1
         },
         "marker": {
          "size": 3
         },
         "name": "MEG0533",
         "opacity": 0.7,
         "pointpos": 0,
         "text": [
          0,
          1,
          2,
          3,
          4,
          5
         ],
         "type": "box",
         "y": [
          5.61905654167438e-12,
          5.4467639130547025e-12,
          5.121703680221813e-12,
          5.140161174425842e-12,
          5.4935647831817725e-12,
          5.596304160365178e-12
         ]
        },
        {
         "boxpoints": "all",
         "hovertemplate": "Epoch: %{text}<br>STD: %{y: .2e}",
         "line": {
          "width": 1
         },
         "marker": {
          "size": 3
         },
         "name": "MEG0542",
         "opacity": 0.7,
         "pointpos": 0,
         "text": [
          0,
          1,
          2,
          3,
          4,
          5
         ],
         "type": "box",
         "y": [
          5.813474993706659e-12,
          6.784724314134224e-12,
          5.7974886473122864e-12,
          6.091870826629782e-12,
          6.017330832703637e-12,
          5.354117636859839e-12
         ]
        },
        {
         "boxpoints": "all",
         "hovertemplate": "Epoch: %{text}<br>STD: %{y: .2e}",
         "line": {
          "width": 1
         },
         "marker": {
          "size": 3
         },
         "name": "MEG0543",
         "opacity": 0.7,
         "pointpos": 0,
         "text": [
          0,
          1,
          2,
          3,
          4,
          5
         ],
         "type": "box",
         "y": [
          5.456835479870284e-12,
          5.832179133829364e-12,
          5.488909627784781e-12,
          5.648189004955126e-12,
          5.612815343780099e-12,
          5.9220605960587456e-12
         ]
        },
        {
         "boxpoints": "all",
         "hovertemplate": "Epoch: %{text}<br>STD: %{y: .2e}",
         "line": {
          "width": 1
         },
         "marker": {
          "size": 3
         },
         "name": "MEG0612",
         "opacity": 0.7,
         "pointpos": 0,
         "text": [
          0,
          1,
          2,
          3,
          4,
          5
         ],
         "type": "box",
         "y": [
          5.318055501817964e-12,
          5.4482341490237335e-12,
          5.490839291449645e-12,
          5.2969188867403455e-12,
          5.348627339790889e-12,
          5.573383966242396e-12
         ]
        },
        {
         "boxpoints": "all",
         "hovertemplate": "Epoch: %{text}<br>STD: %{y: .2e}",
         "line": {
          "width": 1
         },
         "marker": {
          "size": 3
         },
         "name": "MEG0613",
         "opacity": 0.7,
         "pointpos": 0,
         "text": [
          0,
          1,
          2,
          3,
          4,
          5
         ],
         "type": "box",
         "y": [
          4.956626154281617e-12,
          5.469194409081527e-12,
          5.004442254168339e-12,
          5.473466480904845e-12,
          5.17045541870184e-12,
          5.274961054791066e-12
         ]
        },
        {
         "boxpoints": "all",
         "hovertemplate": "Epoch: %{text}<br>STD: %{y: .2e}",
         "line": {
          "width": 1
         },
         "marker": {
          "size": 3
         },
         "name": "MEG0622",
         "opacity": 0.7,
         "pointpos": 0,
         "text": [
          0,
          1,
          2,
          3,
          4,
          5
         ],
         "type": "box",
         "y": [
          5.099258994165859e-12,
          6.114796668713354e-12,
          5.5796268851014225e-12,
          5.8241897323952256e-12,
          5.053407879658604e-12,
          5.121060544278703e-12
         ]
        },
        {
         "boxpoints": "all",
         "hovertemplate": "Epoch: %{text}<br>STD: %{y: .2e}",
         "line": {
          "width": 1
         },
         "marker": {
          "size": 3
         },
         "name": "MEG0623",
         "opacity": 0.7,
         "pointpos": 0,
         "text": [
          0,
          1,
          2,
          3,
          4,
          5
         ],
         "type": "box",
         "y": [
          5.3236066173828494e-12,
          5.2831926172112194e-12,
          5.598401359482672e-12,
          5.644188634009786e-12,
          5.8933729555957416e-12,
          5.3238978527501125e-12
         ]
        },
        {
         "boxpoints": "all",
         "hovertemplate": "Epoch: %{text}<br>STD: %{y: .2e}",
         "line": {
          "width": 1
         },
         "marker": {
          "size": 3
         },
         "name": "MEG0632",
         "opacity": 0.7,
         "pointpos": 0,
         "text": [
          0,
          1,
          2,
          3,
          4,
          5
         ],
         "type": "box",
         "y": [
          4.956635837791413e-12,
          4.729231995753128e-12,
          4.713226520680996e-12,
          4.816710518502042e-12,
          5.016250066912766e-12,
          4.748799671728563e-12
         ]
        },
        {
         "boxpoints": "all",
         "hovertemplate": "Epoch: %{text}<br>STD: %{y: .2e}",
         "line": {
          "width": 1
         },
         "marker": {
          "size": 3
         },
         "name": "MEG0633",
         "opacity": 0.7,
         "pointpos": 0,
         "text": [
          0,
          1,
          2,
          3,
          4,
          5
         ],
         "type": "box",
         "y": [
          5.344311213854831e-12,
          5.7612231075404086e-12,
          5.4147153388243815e-12,
          5.58827690001018e-12,
          5.487819616497893e-12,
          5.268522901060064e-12
         ]
        },
        {
         "boxpoints": "all",
         "hovertemplate": "Epoch: %{text}<br>STD: %{y: .2e}",
         "line": {
          "width": 1
         },
         "marker": {
          "size": 3
         },
         "name": "MEG0642",
         "opacity": 0.7,
         "pointpos": 0,
         "text": [
          0,
          1,
          2,
          3,
          4,
          5
         ],
         "type": "box",
         "y": [
          5.31764134073221e-12,
          5.823914820445834e-12,
          5.5086114757746784e-12,
          6.1545099331247644e-12,
          5.318664779715509e-12,
          5.535117042298009e-12
         ]
        },
        {
         "boxpoints": "all",
         "hovertemplate": "Epoch: %{text}<br>STD: %{y: .2e}",
         "line": {
          "width": 1
         },
         "marker": {
          "size": 3
         },
         "name": "MEG0643",
         "opacity": 0.7,
         "pointpos": 0,
         "text": [
          0,
          1,
          2,
          3,
          4,
          5
         ],
         "type": "box",
         "y": [
          5.6300437004283675e-12,
          5.553858607390653e-12,
          5.388899238038647e-12,
          5.422290958427037e-12,
          5.7459700855839775e-12,
          5.873731692664426e-12
         ]
        },
        {
         "boxpoints": "all",
         "hovertemplate": "Epoch: %{text}<br>STD: %{y: .2e}",
         "line": {
          "width": 1
         },
         "marker": {
          "size": 3
         },
         "name": "MEG0712",
         "opacity": 0.7,
         "pointpos": 0,
         "text": [
          0,
          1,
          2,
          3,
          4,
          5
         ],
         "type": "box",
         "y": [
          5.377795454924792e-12,
          6.237943033345192e-12,
          5.3608268285445785e-12,
          5.681098948629292e-12,
          5.46302520496006e-12,
          5.423701507448708e-12
         ]
        },
        {
         "boxpoints": "all",
         "hovertemplate": "Epoch: %{text}<br>STD: %{y: .2e}",
         "line": {
          "width": 1
         },
         "marker": {
          "size": 3
         },
         "name": "MEG0713",
         "opacity": 0.7,
         "pointpos": 0,
         "text": [
          0,
          1,
          2,
          3,
          4,
          5
         ],
         "type": "box",
         "y": [
          5.945814179203408e-12,
          5.644150317649369e-12,
          5.5650660347742415e-12,
          5.931476837627174e-12,
          5.9082973166379406e-12,
          5.693864183402017e-12
         ]
        },
        {
         "boxpoints": "all",
         "hovertemplate": "Epoch: %{text}<br>STD: %{y: .2e}",
         "line": {
          "width": 1
         },
         "marker": {
          "size": 3
         },
         "name": "MEG0722",
         "opacity": 0.7,
         "pointpos": 0,
         "text": [
          0,
          1,
          2,
          3,
          4,
          5
         ],
         "type": "box",
         "y": [
          6.586576292989824e-12,
          6.6035328674949934e-12,
          6.853940040890355e-12,
          6.529518259500183e-12,
          6.258945955876512e-12,
          6.772078418214214e-12
         ]
        },
        {
         "boxpoints": "all",
         "hovertemplate": "Epoch: %{text}<br>STD: %{y: .2e}",
         "line": {
          "width": 1
         },
         "marker": {
          "size": 3
         },
         "name": "MEG0723",
         "opacity": 0.7,
         "pointpos": 0,
         "text": [
          0,
          1,
          2,
          3,
          4,
          5
         ],
         "type": "box",
         "y": [
          6.246201162751812e-12,
          6.226399780899495e-12,
          6.413739531165136e-12,
          6.663816716741654e-12,
          6.650956942854382e-12,
          6.26298809543445e-12
         ]
        },
        {
         "boxpoints": "all",
         "hovertemplate": "Epoch: %{text}<br>STD: %{y: .2e}",
         "line": {
          "width": 1
         },
         "marker": {
          "size": 3
         },
         "name": "MEG0732",
         "opacity": 0.7,
         "pointpos": 0,
         "text": [
          0,
          1,
          2,
          3,
          4,
          5
         ],
         "type": "box",
         "y": [
          4.8280399456999004e-12,
          5.2081894306521945e-12,
          5.1611562567175395e-12,
          5.371225062340933e-12,
          5.311863438814173e-12,
          4.658704770579925e-12
         ]
        },
        {
         "boxpoints": "all",
         "hovertemplate": "Epoch: %{text}<br>STD: %{y: .2e}",
         "line": {
          "width": 1
         },
         "marker": {
          "size": 3
         },
         "name": "MEG0733",
         "opacity": 0.7,
         "pointpos": 0,
         "text": [
          0,
          1,
          2,
          3,
          4,
          5
         ],
         "type": "box",
         "y": [
          5.147815854361046e-12,
          5.776566662123788e-12,
          5.056300022681675e-12,
          5.230809565814043e-12,
          5.292788124834671e-12,
          5.545534980250469e-12
         ]
        },
        {
         "boxpoints": "all",
         "hovertemplate": "Epoch: %{text}<br>STD: %{y: .2e}",
         "line": {
          "width": 1
         },
         "marker": {
          "size": 3
         },
         "name": "MEG0742",
         "opacity": 0.7,
         "pointpos": 0,
         "text": [
          0,
          1,
          2,
          3,
          4,
          5
         ],
         "type": "box",
         "y": [
          5.084240366301166e-12,
          5.207158368725907e-12,
          5.718429555332405e-12,
          5.255809029360197e-12,
          5.21491574452989e-12,
          4.981293382511563e-12
         ]
        },
        {
         "boxpoints": "all",
         "hovertemplate": "Epoch: %{text}<br>STD: %{y: .2e}",
         "line": {
          "width": 1
         },
         "marker": {
          "size": 3
         },
         "name": "MEG0743",
         "opacity": 0.7,
         "pointpos": 0,
         "text": [
          0,
          1,
          2,
          3,
          4,
          5
         ],
         "type": "box",
         "y": [
          5.526449824977887e-12,
          6.113368047420327e-12,
          5.7745276904326355e-12,
          5.374964622156499e-12,
          5.582844609134011e-12,
          5.673299551041381e-12
         ]
        },
        {
         "boxpoints": "all",
         "hovertemplate": "Epoch: %{text}<br>STD: %{y: .2e}",
         "line": {
          "width": 1
         },
         "marker": {
          "size": 3
         },
         "name": "MEG0812",
         "opacity": 0.7,
         "pointpos": 0,
         "text": [
          0,
          1,
          2,
          3,
          4,
          5
         ],
         "type": "box",
         "y": [
          5.052517485677371e-12,
          5.195855990947943e-12,
          5.2901357585686875e-12,
          4.8882100628898935e-12,
          4.7809895537430015e-12,
          5.24482835223852e-12
         ]
        },
        {
         "boxpoints": "all",
         "hovertemplate": "Epoch: %{text}<br>STD: %{y: .2e}",
         "line": {
          "width": 1
         },
         "marker": {
          "size": 3
         },
         "name": "MEG0813",
         "opacity": 0.7,
         "pointpos": 0,
         "text": [
          0,
          1,
          2,
          3,
          4,
          5
         ],
         "type": "box",
         "y": [
          8.460814598966623e-12,
          7.912852259910307e-12,
          7.693161883321397e-12,
          8.10132288911083e-12,
          8.017782024249852e-12,
          8.273596015746914e-12
         ]
        },
        {
         "boxpoints": "all",
         "hovertemplate": "Epoch: %{text}<br>STD: %{y: .2e}",
         "line": {
          "width": 1
         },
         "marker": {
          "size": 3
         },
         "name": "MEG0822",
         "opacity": 0.7,
         "pointpos": 0,
         "text": [
          0,
          1,
          2,
          3,
          4,
          5
         ],
         "type": "box",
         "y": [
          7.863134132299654e-12,
          8.581378068460009e-12,
          7.1171578158362794e-12,
          7.260822451096929e-12,
          6.926410761079956e-12,
          7.1583617059760725e-12
         ]
        },
        {
         "boxpoints": "all",
         "hovertemplate": "Epoch: %{text}<br>STD: %{y: .2e}",
         "line": {
          "width": 1
         },
         "marker": {
          "size": 3
         },
         "name": "MEG0823",
         "opacity": 0.7,
         "pointpos": 0,
         "text": [
          0,
          1,
          2,
          3,
          4,
          5
         ],
         "type": "box",
         "y": [
          5.757676116225727e-12,
          5.3248251031254454e-12,
          5.616942334380652e-12,
          5.395302576057982e-12,
          5.210149913837839e-12,
          5.4307182841960604e-12
         ]
        },
        {
         "boxpoints": "all",
         "hovertemplate": "Epoch: %{text}<br>STD: %{y: .2e}",
         "line": {
          "width": 1
         },
         "marker": {
          "size": 3
         },
         "name": "MEG0912",
         "opacity": 0.7,
         "pointpos": 0,
         "text": [
          0,
          1,
          2,
          3,
          4,
          5
         ],
         "type": "box",
         "y": [
          5.215070569190144e-12,
          5.0980641904832396e-12,
          5.552835862191772e-12,
          4.716760699141147e-12,
          5.064612637075933e-12,
          5.251152190836557e-12
         ]
        },
        {
         "boxpoints": "all",
         "hovertemplate": "Epoch: %{text}<br>STD: %{y: .2e}",
         "line": {
          "width": 1
         },
         "marker": {
          "size": 3
         },
         "name": "MEG0913",
         "opacity": 0.7,
         "pointpos": 0,
         "text": [
          0,
          1,
          2,
          3,
          4,
          5
         ],
         "type": "box",
         "y": [
          6.696077077987503e-12,
          6.286285136297872e-12,
          6.278951600721059e-12,
          5.912830101157291e-12,
          5.9211098025674045e-12,
          5.8120246893860445e-12
         ]
        },
        {
         "boxpoints": "all",
         "hovertemplate": "Epoch: %{text}<br>STD: %{y: .2e}",
         "line": {
          "width": 1
         },
         "marker": {
          "size": 3
         },
         "name": "MEG0922",
         "opacity": 0.7,
         "pointpos": 0,
         "text": [
          0,
          1,
          2,
          3,
          4,
          5
         ],
         "type": "box",
         "y": [
          5.2407192786394625e-12,
          5.4679649892017546e-12,
          5.715402208377465e-12,
          5.663932033007148e-12,
          5.676970150028893e-12,
          5.726107214155648e-12
         ]
        },
        {
         "boxpoints": "all",
         "hovertemplate": "Epoch: %{text}<br>STD: %{y: .2e}",
         "line": {
          "width": 1
         },
         "marker": {
          "size": 3
         },
         "name": "MEG0923",
         "opacity": 0.7,
         "pointpos": 0,
         "text": [
          0,
          1,
          2,
          3,
          4,
          5
         ],
         "type": "box",
         "y": [
          6.727101719689917e-12,
          6.629460924265572e-12,
          6.583040651406298e-12,
          6.1830089367301514e-12,
          6.062906501927218e-12,
          5.982735316351109e-12
         ]
        },
        {
         "boxpoints": "all",
         "hovertemplate": "Epoch: %{text}<br>STD: %{y: .2e}",
         "line": {
          "width": 1
         },
         "marker": {
          "size": 3
         },
         "name": "MEG0932",
         "opacity": 0.7,
         "pointpos": 0,
         "text": [
          0,
          1,
          2,
          3,
          4,
          5
         ],
         "type": "box",
         "y": [
          5.96097134003446e-12,
          5.486745551790721e-12,
          5.2942093805286445e-12,
          6.083663801080785e-12,
          5.32838534851428e-12,
          5.3628530556735854e-12
         ]
        },
        {
         "boxpoints": "all",
         "hovertemplate": "Epoch: %{text}<br>STD: %{y: .2e}",
         "line": {
          "width": 1
         },
         "marker": {
          "size": 3
         },
         "name": "MEG0933",
         "opacity": 0.7,
         "pointpos": 0,
         "text": [
          0,
          1,
          2,
          3,
          4,
          5
         ],
         "type": "box",
         "y": [
          5.2211889760323534e-12,
          5.064008311558657e-12,
          5.141796134582538e-12,
          5.140091253069719e-12,
          5.536404029416527e-12,
          5.364593744775026e-12
         ]
        },
        {
         "boxpoints": "all",
         "hovertemplate": "Epoch: %{text}<br>STD: %{y: .2e}",
         "line": {
          "width": 1
         },
         "marker": {
          "size": 3
         },
         "name": "MEG0942",
         "opacity": 0.7,
         "pointpos": 0,
         "text": [
          0,
          1,
          2,
          3,
          4,
          5
         ],
         "type": "box",
         "y": [
          5.290157464174529e-12,
          5.482613271227513e-12,
          5.03742931619065e-12,
          5.2755935058030785e-12,
          4.930862113002263e-12,
          5.080192050754853e-12
         ]
        },
        {
         "boxpoints": "all",
         "hovertemplate": "Epoch: %{text}<br>STD: %{y: .2e}",
         "line": {
          "width": 1
         },
         "marker": {
          "size": 3
         },
         "name": "MEG0943",
         "opacity": 0.7,
         "pointpos": 0,
         "text": [
          0,
          1,
          2,
          3,
          4,
          5
         ],
         "type": "box",
         "y": [
          5.881182734198493e-12,
          6.014769159212386e-12,
          6.022016816271081e-12,
          5.953483859047008e-12,
          5.948085590027797e-12,
          5.8835368384321994e-12
         ]
        },
        {
         "boxpoints": "all",
         "hovertemplate": "Epoch: %{text}<br>STD: %{y: .2e}",
         "line": {
          "width": 1
         },
         "marker": {
          "size": 3
         },
         "name": "MEG1012",
         "opacity": 0.7,
         "pointpos": 0,
         "text": [
          0,
          1,
          2,
          3,
          4,
          5
         ],
         "type": "box",
         "y": [
          5.782252004450106e-12,
          5.58557401923683e-12,
          5.618947966145851e-12,
          5.6416689511295175e-12,
          5.5333491266077325e-12,
          5.717738521627387e-12
         ]
        },
        {
         "boxpoints": "all",
         "hovertemplate": "Epoch: %{text}<br>STD: %{y: .2e}",
         "line": {
          "width": 1
         },
         "marker": {
          "size": 3
         },
         "name": "MEG1013",
         "opacity": 0.7,
         "pointpos": 0,
         "text": [
          0,
          1,
          2,
          3,
          4,
          5
         ],
         "type": "box",
         "y": [
          6.002354400551531e-12,
          5.952662225371188e-12,
          5.822614780274769e-12,
          5.988667331633022e-12,
          5.657285868699199e-12,
          5.649610992947511e-12
         ]
        },
        {
         "boxpoints": "all",
         "hovertemplate": "Epoch: %{text}<br>STD: %{y: .2e}",
         "line": {
          "width": 1
         },
         "marker": {
          "size": 3
         },
         "name": "MEG1022",
         "opacity": 0.7,
         "pointpos": 0,
         "text": [
          0,
          1,
          2,
          3,
          4,
          5
         ],
         "type": "box",
         "y": [
          5.334471968621454e-12,
          5.050189230866259e-12,
          5.228019688745687e-12,
          5.208518122100903e-12,
          4.918853637644027e-12,
          5.304564660042782e-12
         ]
        },
        {
         "boxpoints": "all",
         "hovertemplate": "Epoch: %{text}<br>STD: %{y: .2e}",
         "line": {
          "width": 1
         },
         "marker": {
          "size": 3
         },
         "name": "MEG1023",
         "opacity": 0.7,
         "pointpos": 0,
         "text": [
          0,
          1,
          2,
          3,
          4,
          5
         ],
         "type": "box",
         "y": [
          1.027353416698514e-11,
          6.8075809844735975e-12,
          7.44207616650034e-12,
          1.0096863000825925e-11,
          9.29560002378121e-12,
          7.616725312760507e-12
         ]
        },
        {
         "boxpoints": "all",
         "hovertemplate": "Epoch: %{text}<br>STD: %{y: .2e}",
         "line": {
          "width": 1
         },
         "marker": {
          "size": 3
         },
         "name": "MEG1032",
         "opacity": 0.7,
         "pointpos": 0,
         "text": [
          0,
          1,
          2,
          3,
          4,
          5
         ],
         "type": "box",
         "y": [
          5.53475967791781e-12,
          6.067386569852234e-12,
          5.439885018689746e-12,
          6.6598180009088666e-12,
          5.542824022916457e-12,
          5.401119213792836e-12
         ]
        },
        {
         "boxpoints": "all",
         "hovertemplate": "Epoch: %{text}<br>STD: %{y: .2e}",
         "line": {
          "width": 1
         },
         "marker": {
          "size": 3
         },
         "name": "MEG1033",
         "opacity": 0.7,
         "pointpos": 0,
         "text": [
          0,
          1,
          2,
          3,
          4,
          5
         ],
         "type": "box",
         "y": [
          5.796932702257072e-12,
          5.386467370694005e-12,
          5.3266170243046994e-12,
          5.857207249357793e-12,
          6.014222260656082e-12,
          5.544274160377425e-12
         ]
        },
        {
         "boxpoints": "all",
         "hovertemplate": "Epoch: %{text}<br>STD: %{y: .2e}",
         "line": {
          "width": 1
         },
         "marker": {
          "size": 3
         },
         "name": "MEG1042",
         "opacity": 0.7,
         "pointpos": 0,
         "text": [
          0,
          1,
          2,
          3,
          4,
          5
         ],
         "type": "box",
         "y": [
          6.531290090371846e-12,
          6.751659470516784e-12,
          6.936823809778245e-12,
          6.981041310548828e-12,
          7.217779588638092e-12,
          6.853406583026713e-12
         ]
        },
        {
         "boxpoints": "all",
         "hovertemplate": "Epoch: %{text}<br>STD: %{y: .2e}",
         "line": {
          "width": 1
         },
         "marker": {
          "size": 3
         },
         "name": "MEG1043",
         "opacity": 0.7,
         "pointpos": 0,
         "text": [
          0,
          1,
          2,
          3,
          4,
          5
         ],
         "type": "box",
         "y": [
          6.657396225786956e-12,
          6.982846036237304e-12,
          6.789667734224351e-12,
          7.101262910661921e-12,
          6.504464520607677e-12,
          6.7653290758209215e-12
         ]
        },
        {
         "boxpoints": "all",
         "hovertemplate": "Epoch: %{text}<br>STD: %{y: .2e}",
         "line": {
          "width": 1
         },
         "marker": {
          "size": 3
         },
         "name": "MEG1112",
         "opacity": 0.7,
         "pointpos": 0,
         "text": [
          0,
          1,
          2,
          3,
          4,
          5
         ],
         "type": "box",
         "y": [
          6.079453186913362e-12,
          6.291872063405399e-12,
          6.182381067895863e-12,
          6.5680496915009695e-12,
          6.872312401085936e-12,
          6.220654777216824e-12
         ]
        },
        {
         "boxpoints": "all",
         "hovertemplate": "Epoch: %{text}<br>STD: %{y: .2e}",
         "line": {
          "width": 1
         },
         "marker": {
          "size": 3
         },
         "name": "MEG1113",
         "opacity": 0.7,
         "pointpos": 0,
         "text": [
          0,
          1,
          2,
          3,
          4,
          5
         ],
         "type": "box",
         "y": [
          7.328182142910837e-12,
          8.905241048003306e-12,
          7.96449527994552e-12,
          7.145382795748506e-12,
          7.664132087631739e-12,
          8.118274070290762e-12
         ]
        },
        {
         "boxpoints": "all",
         "hovertemplate": "Epoch: %{text}<br>STD: %{y: .2e}",
         "line": {
          "width": 1
         },
         "marker": {
          "size": 3
         },
         "name": "MEG1122",
         "opacity": 0.7,
         "pointpos": 0,
         "text": [
          0,
          1,
          2,
          3,
          4,
          5
         ],
         "type": "box",
         "y": [
          6.25727300754697e-12,
          6.2369654257687654e-12,
          6.221792476939844e-12,
          6.65134861815758e-12,
          6.552961159879548e-12,
          6.570753784691124e-12
         ]
        },
        {
         "boxpoints": "all",
         "hovertemplate": "Epoch: %{text}<br>STD: %{y: .2e}",
         "line": {
          "width": 1
         },
         "marker": {
          "size": 3
         },
         "name": "MEG1123",
         "opacity": 0.7,
         "pointpos": 0,
         "text": [
          0,
          1,
          2,
          3,
          4,
          5
         ],
         "type": "box",
         "y": [
          6.04815248112206e-12,
          6.202980264694201e-12,
          6.339114993020571e-12,
          6.13145455969493e-12,
          6.111217577671308e-12,
          6.044388712168912e-12
         ]
        },
        {
         "boxpoints": "all",
         "hovertemplate": "Epoch: %{text}<br>STD: %{y: .2e}",
         "line": {
          "width": 1
         },
         "marker": {
          "size": 3
         },
         "name": "MEG1132",
         "opacity": 0.7,
         "pointpos": 0,
         "text": [
          0,
          1,
          2,
          3,
          4,
          5
         ],
         "type": "box",
         "y": [
          6.467946411714288e-12,
          7.539834874566085e-12,
          6.761090093206962e-12,
          6.327060382157132e-12,
          6.552787171901836e-12,
          6.7665281387100505e-12
         ]
        },
        {
         "boxpoints": "all",
         "hovertemplate": "Epoch: %{text}<br>STD: %{y: .2e}",
         "line": {
          "width": 1
         },
         "marker": {
          "size": 3
         },
         "name": "MEG1133",
         "opacity": 0.7,
         "pointpos": 0,
         "text": [
          0,
          1,
          2,
          3,
          4,
          5
         ],
         "type": "box",
         "y": [
          6.817360700310404e-12,
          6.3395864995817266e-12,
          6.7184021324240814e-12,
          6.563310424650808e-12,
          6.626006602402335e-12,
          5.996596404465057e-12
         ]
        },
        {
         "boxpoints": "all",
         "hovertemplate": "Epoch: %{text}<br>STD: %{y: .2e}",
         "line": {
          "width": 1
         },
         "marker": {
          "size": 3
         },
         "name": "MEG1142",
         "opacity": 0.7,
         "pointpos": 0,
         "text": [
          0,
          1,
          2,
          3,
          4,
          5
         ],
         "type": "box",
         "y": [
          6.036115697722876e-12,
          5.7546389622421854e-12,
          5.917672188065846e-12,
          6.401142977518767e-12,
          5.462753006414679e-12,
          5.876697269196434e-12
         ]
        },
        {
         "boxpoints": "all",
         "hovertemplate": "Epoch: %{text}<br>STD: %{y: .2e}",
         "line": {
          "width": 1
         },
         "marker": {
          "size": 3
         },
         "name": "MEG1143",
         "opacity": 0.7,
         "pointpos": 0,
         "text": [
          0,
          1,
          2,
          3,
          4,
          5
         ],
         "type": "box",
         "y": [
          4.7749779859735666e-12,
          5.406039273719657e-12,
          5.166704855509974e-12,
          5.223374246789972e-12,
          4.984532947885114e-12,
          4.779557865470602e-12
         ]
        },
        {
         "boxpoints": "all",
         "hovertemplate": "Epoch: %{text}<br>STD: %{y: .2e}",
         "line": {
          "width": 1
         },
         "marker": {
          "size": 3
         },
         "name": "MEG1212",
         "opacity": 0.7,
         "pointpos": 0,
         "text": [
          0,
          1,
          2,
          3,
          4,
          5
         ],
         "type": "box",
         "y": [
          5.889904581347245e-12,
          6.138306291999796e-12,
          5.996405672818332e-12,
          6.5640491232060795e-12,
          5.842521398708862e-12,
          5.916582812997135e-12
         ]
        },
        {
         "boxpoints": "all",
         "hovertemplate": "Epoch: %{text}<br>STD: %{y: .2e}",
         "line": {
          "width": 1
         },
         "marker": {
          "size": 3
         },
         "name": "MEG1213",
         "opacity": 0.7,
         "pointpos": 0,
         "text": [
          0,
          1,
          2,
          3,
          4,
          5
         ],
         "type": "box",
         "y": [
          6.690100682839289e-12,
          7.0126092484947525e-12,
          7.666398388779467e-12,
          7.083520726702474e-12,
          7.315792886833931e-12,
          6.968420801473104e-12
         ]
        },
        {
         "boxpoints": "all",
         "hovertemplate": "Epoch: %{text}<br>STD: %{y: .2e}",
         "line": {
          "width": 1
         },
         "marker": {
          "size": 3
         },
         "name": "MEG1222",
         "opacity": 0.7,
         "pointpos": 0,
         "text": [
          0,
          1,
          2,
          3,
          4,
          5
         ],
         "type": "box",
         "y": [
          7.165378057963459e-12,
          6.496476082681354e-12,
          6.091401017839796e-12,
          7.066518770286957e-12,
          7.677546547898357e-12,
          6.6135586934743394e-12
         ]
        },
        {
         "boxpoints": "all",
         "hovertemplate": "Epoch: %{text}<br>STD: %{y: .2e}",
         "line": {
          "width": 1
         },
         "marker": {
          "size": 3
         },
         "name": "MEG1223",
         "opacity": 0.7,
         "pointpos": 0,
         "text": [
          0,
          1,
          2,
          3,
          4,
          5
         ],
         "type": "box",
         "y": [
          6.2641318995252405e-12,
          5.680870545146601e-12,
          6.59447498649647e-12,
          6.597035875697807e-12,
          6.503304200264218e-12,
          6.028034770046348e-12
         ]
        },
        {
         "boxpoints": "all",
         "hovertemplate": "Epoch: %{text}<br>STD: %{y: .2e}",
         "line": {
          "width": 1
         },
         "marker": {
          "size": 3
         },
         "name": "MEG1232",
         "opacity": 0.7,
         "pointpos": 0,
         "text": [
          0,
          1,
          2,
          3,
          4,
          5
         ],
         "type": "box",
         "y": [
          5.493066718370231e-12,
          6.2008645035403525e-12,
          5.914915748306174e-12,
          5.844484270738188e-12,
          5.716037390882286e-12,
          6.0209883432447496e-12
         ]
        },
        {
         "boxpoints": "all",
         "hovertemplate": "Epoch: %{text}<br>STD: %{y: .2e}",
         "line": {
          "width": 1
         },
         "marker": {
          "size": 3
         },
         "name": "MEG1233",
         "opacity": 0.7,
         "pointpos": 0,
         "text": [
          0,
          1,
          2,
          3,
          4,
          5
         ],
         "type": "box",
         "y": [
          5.7518908459789625e-12,
          5.7400448128174384e-12,
          5.958698073262053e-12,
          6.1201416913137465e-12,
          6.405112431437283e-12,
          6.134461486167685e-12
         ]
        },
        {
         "boxpoints": "all",
         "hovertemplate": "Epoch: %{text}<br>STD: %{y: .2e}",
         "line": {
          "width": 1
         },
         "marker": {
          "size": 3
         },
         "name": "MEG1242",
         "opacity": 0.7,
         "pointpos": 0,
         "text": [
          0,
          1,
          2,
          3,
          4,
          5
         ],
         "type": "box",
         "y": [
          5.851235631107248e-12,
          6.45187626259418e-12,
          5.691879598395809e-12,
          6.3176083049591695e-12,
          5.9501838045628355e-12,
          5.6058623262451805e-12
         ]
        },
        {
         "boxpoints": "all",
         "hovertemplate": "Epoch: %{text}<br>STD: %{y: .2e}",
         "line": {
          "width": 1
         },
         "marker": {
          "size": 3
         },
         "name": "MEG1243",
         "opacity": 0.7,
         "pointpos": 0,
         "text": [
          0,
          1,
          2,
          3,
          4,
          5
         ],
         "type": "box",
         "y": [
          6.323270543377586e-12,
          6.828569415795842e-12,
          6.664235942101806e-12,
          5.986386971459199e-12,
          6.622130345500601e-12,
          6.372286760414002e-12
         ]
        },
        {
         "boxpoints": "all",
         "hovertemplate": "Epoch: %{text}<br>STD: %{y: .2e}",
         "line": {
          "width": 1
         },
         "marker": {
          "size": 3
         },
         "name": "MEG1312",
         "opacity": 0.7,
         "pointpos": 0,
         "text": [
          0,
          1,
          2,
          3,
          4,
          5
         ],
         "type": "box",
         "y": [
          6.805426452617541e-12,
          7.147501239358032e-12,
          7.29840485508787e-12,
          7.057162931405444e-12,
          6.526363426211818e-12,
          7.137714595547648e-12
         ]
        },
        {
         "boxpoints": "all",
         "hovertemplate": "Epoch: %{text}<br>STD: %{y: .2e}",
         "line": {
          "width": 1
         },
         "marker": {
          "size": 3
         },
         "name": "MEG1313",
         "opacity": 0.7,
         "pointpos": 0,
         "text": [
          0,
          1,
          2,
          3,
          4,
          5
         ],
         "type": "box",
         "y": [
          6.4907555033659376e-12,
          6.310874956172851e-12,
          6.105176974651099e-12,
          6.456774270639316e-12,
          6.58574567290764e-12,
          6.301449576865323e-12
         ]
        },
        {
         "boxpoints": "all",
         "hovertemplate": "Epoch: %{text}<br>STD: %{y: .2e}",
         "line": {
          "width": 1
         },
         "marker": {
          "size": 3
         },
         "name": "MEG1322",
         "opacity": 0.7,
         "pointpos": 0,
         "text": [
          0,
          1,
          2,
          3,
          4,
          5
         ],
         "type": "box",
         "y": [
          8.629880774787408e-12,
          8.100548455581131e-12,
          7.2446723115072994e-12,
          7.704554011566226e-12,
          7.500815277770568e-12,
          7.445826976681768e-12
         ]
        },
        {
         "boxpoints": "all",
         "hovertemplate": "Epoch: %{text}<br>STD: %{y: .2e}",
         "line": {
          "width": 1
         },
         "marker": {
          "size": 3
         },
         "name": "MEG1323",
         "opacity": 0.7,
         "pointpos": 0,
         "text": [
          0,
          1,
          2,
          3,
          4,
          5
         ],
         "type": "box",
         "y": [
          7.308137269119749e-12,
          7.203716315411753e-12,
          7.43761202902404e-12,
          7.615366109518268e-12,
          7.133623442336228e-12,
          7.300158672866735e-12
         ]
        },
        {
         "boxpoints": "all",
         "hovertemplate": "Epoch: %{text}<br>STD: %{y: .2e}",
         "line": {
          "width": 1
         },
         "marker": {
          "size": 3
         },
         "name": "MEG1332",
         "opacity": 0.7,
         "pointpos": 0,
         "text": [
          0,
          1,
          2,
          3,
          4,
          5
         ],
         "type": "box",
         "y": [
          7.72914410853418e-12,
          8.661470095410861e-12,
          8.244317123824545e-12,
          8.361026283653932e-12,
          8.059122787683127e-12,
          7.93833234672045e-12
         ]
        },
        {
         "boxpoints": "all",
         "hovertemplate": "Epoch: %{text}<br>STD: %{y: .2e}",
         "line": {
          "width": 1
         },
         "marker": {
          "size": 3
         },
         "name": "MEG1333",
         "opacity": 0.7,
         "pointpos": 0,
         "text": [
          0,
          1,
          2,
          3,
          4,
          5
         ],
         "type": "box",
         "y": [
          8.295529343073942e-12,
          7.81279246616876e-12,
          8.205956679837875e-12,
          7.081632728700182e-12,
          7.701643243039657e-12,
          7.382539814133134e-12
         ]
        },
        {
         "boxpoints": "all",
         "hovertemplate": "Epoch: %{text}<br>STD: %{y: .2e}",
         "line": {
          "width": 1
         },
         "marker": {
          "size": 3
         },
         "name": "MEG1342",
         "opacity": 0.7,
         "pointpos": 0,
         "text": [
          0,
          1,
          2,
          3,
          4,
          5
         ],
         "type": "box",
         "y": [
          6.830706792007443e-12,
          7.09016930396828e-12,
          6.796938721764985e-12,
          5.7723597783129134e-12,
          6.128376544772387e-12,
          6.188688943128818e-12
         ]
        },
        {
         "boxpoints": "all",
         "hovertemplate": "Epoch: %{text}<br>STD: %{y: .2e}",
         "line": {
          "width": 1
         },
         "marker": {
          "size": 3
         },
         "name": "MEG1343",
         "opacity": 0.7,
         "pointpos": 0,
         "text": [
          0,
          1,
          2,
          3,
          4,
          5
         ],
         "type": "box",
         "y": [
          6.030225703753579e-12,
          6.034864326728099e-12,
          6.115399947070974e-12,
          5.359799161636421e-12,
          6.3894149072478655e-12,
          5.8968916838378635e-12
         ]
        },
        {
         "boxpoints": "all",
         "hovertemplate": "Epoch: %{text}<br>STD: %{y: .2e}",
         "line": {
          "width": 1
         },
         "marker": {
          "size": 3
         },
         "name": "MEG1412",
         "opacity": 0.7,
         "pointpos": 0,
         "text": [
          0,
          1,
          2,
          3,
          4,
          5
         ],
         "type": "box",
         "y": [
          7.367068762624538e-12,
          7.522458410337162e-12,
          7.983381711028883e-12,
          6.790545781798297e-12,
          7.297790311690005e-12,
          6.856633862416652e-12
         ]
        },
        {
         "boxpoints": "all",
         "hovertemplate": "Epoch: %{text}<br>STD: %{y: .2e}",
         "line": {
          "width": 1
         },
         "marker": {
          "size": 3
         },
         "name": "MEG1413",
         "opacity": 0.7,
         "pointpos": 0,
         "text": [
          0,
          1,
          2,
          3,
          4,
          5
         ],
         "type": "box",
         "y": [
          7.177655764836966e-12,
          6.607565853639673e-12,
          7.184614744670728e-12,
          7.0388347455557865e-12,
          6.948508796352678e-12,
          7.281714492391164e-12
         ]
        },
        {
         "boxpoints": "all",
         "hovertemplate": "Epoch: %{text}<br>STD: %{y: .2e}",
         "line": {
          "width": 1
         },
         "marker": {
          "size": 3
         },
         "name": "MEG1422",
         "opacity": 0.7,
         "pointpos": 0,
         "text": [
          0,
          1,
          2,
          3,
          4,
          5
         ],
         "type": "box",
         "y": [
          6.228629418707572e-12,
          6.533065547548315e-12,
          6.280220427841179e-12,
          5.975634276903406e-12,
          6.006365895115856e-12,
          6.038593006065306e-12
         ]
        },
        {
         "boxpoints": "all",
         "hovertemplate": "Epoch: %{text}<br>STD: %{y: .2e}",
         "line": {
          "width": 1
         },
         "marker": {
          "size": 3
         },
         "name": "MEG1423",
         "opacity": 0.7,
         "pointpos": 0,
         "text": [
          0,
          1,
          2,
          3,
          4,
          5
         ],
         "type": "box",
         "y": [
          7.82037488423673e-12,
          7.498557999442916e-12,
          8.115720294450353e-12,
          7.952671086343136e-12,
          7.39796115490368e-12,
          8.63418647882346e-12
         ]
        },
        {
         "boxpoints": "all",
         "hovertemplate": "Epoch: %{text}<br>STD: %{y: .2e}",
         "line": {
          "width": 1
         },
         "marker": {
          "size": 3
         },
         "name": "MEG1432",
         "opacity": 0.7,
         "pointpos": 0,
         "text": [
          0,
          1,
          2,
          3,
          4,
          5
         ],
         "type": "box",
         "y": [
          6.761829931562981e-12,
          6.164927209832665e-12,
          5.957263456562793e-12,
          6.130669113331167e-12,
          6.318781441951275e-12,
          6.594776743640607e-12
         ]
        },
        {
         "boxpoints": "all",
         "hovertemplate": "Epoch: %{text}<br>STD: %{y: .2e}",
         "line": {
          "width": 1
         },
         "marker": {
          "size": 3
         },
         "name": "MEG1433",
         "opacity": 0.7,
         "pointpos": 0,
         "text": [
          0,
          1,
          2,
          3,
          4,
          5
         ],
         "type": "box",
         "y": [
          8.547153808532063e-12,
          8.262539613455834e-12,
          8.561699262884514e-12,
          7.764576070142397e-12,
          7.549810002670135e-12,
          8.89489174830533e-12
         ]
        },
        {
         "boxpoints": "all",
         "hovertemplate": "Epoch: %{text}<br>STD: %{y: .2e}",
         "line": {
          "width": 1
         },
         "marker": {
          "size": 3
         },
         "name": "MEG1442",
         "opacity": 0.7,
         "pointpos": 0,
         "text": [
          0,
          1,
          2,
          3,
          4,
          5
         ],
         "type": "box",
         "y": [
          7.703176763621072e-12,
          7.130501235614084e-12,
          7.739702384183502e-12,
          7.96031090359596e-12,
          7.912679272248561e-12,
          7.689430839614294e-12
         ]
        },
        {
         "boxpoints": "all",
         "hovertemplate": "Epoch: %{text}<br>STD: %{y: .2e}",
         "line": {
          "width": 1
         },
         "marker": {
          "size": 3
         },
         "name": "MEG1443",
         "opacity": 0.7,
         "pointpos": 0,
         "text": [
          0,
          1,
          2,
          3,
          4,
          5
         ],
         "type": "box",
         "y": [
          8.375177108300419e-12,
          6.923866815620597e-12,
          7.119278236769507e-12,
          7.384734314039564e-12,
          7.188157971039635e-12,
          8.260264434552536e-12
         ]
        },
        {
         "boxpoints": "all",
         "hovertemplate": "Epoch: %{text}<br>STD: %{y: .2e}",
         "line": {
          "width": 1
         },
         "marker": {
          "size": 3
         },
         "name": "MEG1512",
         "opacity": 0.7,
         "pointpos": 0,
         "text": [
          0,
          1,
          2,
          3,
          4,
          5
         ],
         "type": "box",
         "y": [
          7.178376516608518e-12,
          5.919054974964133e-12,
          6.92629182889273e-12,
          6.888219716376759e-12,
          6.968947044942295e-12,
          6.0463850833211115e-12
         ]
        },
        {
         "boxpoints": "all",
         "hovertemplate": "Epoch: %{text}<br>STD: %{y: .2e}",
         "line": {
          "width": 1
         },
         "marker": {
          "size": 3
         },
         "name": "MEG1513",
         "opacity": 0.7,
         "pointpos": 0,
         "text": [
          0,
          1,
          2,
          3,
          4,
          5
         ],
         "type": "box",
         "y": [
          7.10427623335994e-12,
          7.281028069625046e-12,
          8.705084722427523e-12,
          8.165951106049312e-12,
          8.187325074659409e-12,
          7.69721392490335e-12
         ]
        },
        {
         "boxpoints": "all",
         "hovertemplate": "Epoch: %{text}<br>STD: %{y: .2e}",
         "line": {
          "width": 1
         },
         "marker": {
          "size": 3
         },
         "name": "MEG1522",
         "opacity": 0.7,
         "pointpos": 0,
         "text": [
          0,
          1,
          2,
          3,
          4,
          5
         ],
         "type": "box",
         "y": [
          7.53626001214732e-12,
          6.4285620951276584e-12,
          7.66624155228594e-12,
          7.580204613614234e-12,
          7.454516344056774e-12,
          6.371552057320653e-12
         ]
        },
        {
         "boxpoints": "all",
         "hovertemplate": "Epoch: %{text}<br>STD: %{y: .2e}",
         "line": {
          "width": 1
         },
         "marker": {
          "size": 3
         },
         "name": "MEG1523",
         "opacity": 0.7,
         "pointpos": 0,
         "text": [
          0,
          1,
          2,
          3,
          4,
          5
         ],
         "type": "box",
         "y": [
          6.5692266884832516e-12,
          6.400326196565055e-12,
          7.753477028860147e-12,
          6.4095991963294305e-12,
          7.090712859238466e-12,
          7.148478594219054e-12
         ]
        },
        {
         "boxpoints": "all",
         "hovertemplate": "Epoch: %{text}<br>STD: %{y: .2e}",
         "line": {
          "width": 1
         },
         "marker": {
          "size": 3
         },
         "name": "MEG1532",
         "opacity": 0.7,
         "pointpos": 0,
         "text": [
          0,
          1,
          2,
          3,
          4,
          5
         ],
         "type": "box",
         "y": [
          6.459451381180093e-12,
          7.070611831425584e-12,
          6.610953232994813e-12,
          6.748035673864717e-12,
          6.6554958077414635e-12,
          6.247386340144564e-12
         ]
        },
        {
         "boxpoints": "all",
         "hovertemplate": "Epoch: %{text}<br>STD: %{y: .2e}",
         "line": {
          "width": 1
         },
         "marker": {
          "size": 3
         },
         "name": "MEG1533",
         "opacity": 0.7,
         "pointpos": 0,
         "text": [
          0,
          1,
          2,
          3,
          4,
          5
         ],
         "type": "box",
         "y": [
          7.91081318097494e-12,
          7.729916781667147e-12,
          9.48306416883962e-12,
          8.576356926025294e-12,
          7.961961720260039e-12,
          8.36798341370852e-12
         ]
        },
        {
         "boxpoints": "all",
         "hovertemplate": "Epoch: %{text}<br>STD: %{y: .2e}",
         "line": {
          "width": 1
         },
         "marker": {
          "size": 3
         },
         "name": "MEG1542",
         "opacity": 0.7,
         "pointpos": 0,
         "text": [
          0,
          1,
          2,
          3,
          4,
          5
         ],
         "type": "box",
         "y": [
          5.20230003954804e-12,
          5.648657268885609e-12,
          6.298483068703375e-12,
          6.090679110413713e-12,
          5.140169907843384e-12,
          5.3620400810072325e-12
         ]
        },
        {
         "boxpoints": "all",
         "hovertemplate": "Epoch: %{text}<br>STD: %{y: .2e}",
         "line": {
          "width": 1
         },
         "marker": {
          "size": 3
         },
         "name": "MEG1543",
         "opacity": 0.7,
         "pointpos": 0,
         "text": [
          0,
          1,
          2,
          3,
          4,
          5
         ],
         "type": "box",
         "y": [
          7.752081713452526e-12,
          7.568081508994352e-12,
          8.992062397507925e-12,
          7.583848225797871e-12,
          7.429098116843213e-12,
          7.275846956950145e-12
         ]
        },
        {
         "boxpoints": "all",
         "hovertemplate": "Epoch: %{text}<br>STD: %{y: .2e}",
         "line": {
          "width": 1
         },
         "marker": {
          "size": 3
         },
         "name": "MEG1612",
         "opacity": 0.7,
         "pointpos": 0,
         "text": [
          0,
          1,
          2,
          3,
          4,
          5
         ],
         "type": "box",
         "y": [
          5.74786709164542e-12,
          6.0792652944889955e-12,
          8.292457282169685e-12,
          6.387203556200933e-12,
          6.201712855623763e-12,
          6.448775591262628e-12
         ]
        },
        {
         "boxpoints": "all",
         "hovertemplate": "Epoch: %{text}<br>STD: %{y: .2e}",
         "line": {
          "width": 1
         },
         "marker": {
          "size": 3
         },
         "name": "MEG1613",
         "opacity": 0.7,
         "pointpos": 0,
         "text": [
          0,
          1,
          2,
          3,
          4,
          5
         ],
         "type": "box",
         "y": [
          6.536077023974231e-12,
          6.045512629097694e-12,
          6.486568989627496e-12,
          6.573084852036762e-12,
          6.290172450842526e-12,
          6.248363835130558e-12
         ]
        },
        {
         "boxpoints": "all",
         "hovertemplate": "Epoch: %{text}<br>STD: %{y: .2e}",
         "line": {
          "width": 1
         },
         "marker": {
          "size": 3
         },
         "name": "MEG1622",
         "opacity": 0.7,
         "pointpos": 0,
         "text": [
          0,
          1,
          2,
          3,
          4,
          5
         ],
         "type": "box",
         "y": [
          6.883432502537982e-12,
          6.649726052321219e-12,
          6.97144933521531e-12,
          6.457791514545342e-12,
          7.378496516393102e-12,
          6.612556981164093e-12
         ]
        },
        {
         "boxpoints": "all",
         "hovertemplate": "Epoch: %{text}<br>STD: %{y: .2e}",
         "line": {
          "width": 1
         },
         "marker": {
          "size": 3
         },
         "name": "MEG1623",
         "opacity": 0.7,
         "pointpos": 0,
         "text": [
          0,
          1,
          2,
          3,
          4,
          5
         ],
         "type": "box",
         "y": [
          6.049844910892909e-12,
          7.117499770241195e-12,
          7.051893245595491e-12,
          6.307839743858057e-12,
          6.401589131311857e-12,
          6.750952779649042e-12
         ]
        },
        {
         "boxpoints": "all",
         "hovertemplate": "Epoch: %{text}<br>STD: %{y: .2e}",
         "line": {
          "width": 1
         },
         "marker": {
          "size": 3
         },
         "name": "MEG1632",
         "opacity": 0.7,
         "pointpos": 0,
         "text": [
          0,
          1,
          2,
          3,
          4,
          5
         ],
         "type": "box",
         "y": [
          6.120220269138568e-12,
          6.5019021318512765e-12,
          7.054696510775716e-12,
          6.740459082755987e-12,
          6.767948056025194e-12,
          6.287752846503095e-12
         ]
        },
        {
         "boxpoints": "all",
         "hovertemplate": "Epoch: %{text}<br>STD: %{y: .2e}",
         "line": {
          "width": 1
         },
         "marker": {
          "size": 3
         },
         "name": "MEG1633",
         "opacity": 0.7,
         "pointpos": 0,
         "text": [
          0,
          1,
          2,
          3,
          4,
          5
         ],
         "type": "box",
         "y": [
          5.873363048004769e-12,
          6.071907293530884e-12,
          6.190863691474527e-12,
          6.024569649545127e-12,
          6.4248085326500885e-12,
          6.078295782740012e-12
         ]
        },
        {
         "boxpoints": "all",
         "hovertemplate": "Epoch: %{text}<br>STD: %{y: .2e}",
         "line": {
          "width": 1
         },
         "marker": {
          "size": 3
         },
         "name": "MEG1642",
         "opacity": 0.7,
         "pointpos": 0,
         "text": [
          0,
          1,
          2,
          3,
          4,
          5
         ],
         "type": "box",
         "y": [
          5.717203440647346e-12,
          6.292071611651086e-12,
          6.401964794183125e-12,
          6.2545983710495586e-12,
          6.726141848227711e-12,
          6.048389790129494e-12
         ]
        },
        {
         "boxpoints": "all",
         "hovertemplate": "Epoch: %{text}<br>STD: %{y: .2e}",
         "line": {
          "width": 1
         },
         "marker": {
          "size": 3
         },
         "name": "MEG1643",
         "opacity": 0.7,
         "pointpos": 0,
         "text": [
          0,
          1,
          2,
          3,
          4,
          5
         ],
         "type": "box",
         "y": [
          7.2360347787042595e-12,
          7.52881385195509e-12,
          7.277552398671597e-12,
          7.307066077758029e-12,
          6.24909109658294e-12,
          6.773569185117529e-12
         ]
        },
        {
         "boxpoints": "all",
         "hovertemplate": "Epoch: %{text}<br>STD: %{y: .2e}",
         "line": {
          "width": 1
         },
         "marker": {
          "size": 3
         },
         "name": "MEG1712",
         "opacity": 0.7,
         "pointpos": 0,
         "text": [
          0,
          1,
          2,
          3,
          4,
          5
         ],
         "type": "box",
         "y": [
          6.10636036469191e-12,
          7.431543720727926e-12,
          7.098329935086428e-12,
          7.278445148547988e-12,
          6.7555515390111006e-12,
          6.5859752023723886e-12
         ]
        },
        {
         "boxpoints": "all",
         "hovertemplate": "Epoch: %{text}<br>STD: %{y: .2e}",
         "line": {
          "width": 1
         },
         "marker": {
          "size": 3
         },
         "name": "MEG1713",
         "opacity": 0.7,
         "pointpos": 0,
         "text": [
          0,
          1,
          2,
          3,
          4,
          5
         ],
         "type": "box",
         "y": [
          9.231418089270362e-12,
          8.888797070201876e-12,
          1.0749941999761296e-11,
          8.669103687962022e-12,
          8.825279656171405e-12,
          8.668657683190522e-12
         ]
        },
        {
         "boxpoints": "all",
         "hovertemplate": "Epoch: %{text}<br>STD: %{y: .2e}",
         "line": {
          "width": 1
         },
         "marker": {
          "size": 3
         },
         "name": "MEG1722",
         "opacity": 0.7,
         "pointpos": 0,
         "text": [
          0,
          1,
          2,
          3,
          4,
          5
         ],
         "type": "box",
         "y": [
          8.64183485773986e-12,
          7.551715149384019e-12,
          7.984334437774512e-12,
          8.10123284124145e-12,
          7.192525660839565e-12,
          6.595546357972146e-12
         ]
        },
        {
         "boxpoints": "all",
         "hovertemplate": "Epoch: %{text}<br>STD: %{y: .2e}",
         "line": {
          "width": 1
         },
         "marker": {
          "size": 3
         },
         "name": "MEG1723",
         "opacity": 0.7,
         "pointpos": 0,
         "text": [
          0,
          1,
          2,
          3,
          4,
          5
         ],
         "type": "box",
         "y": [
          6.1519399352973466e-12,
          6.074382785230347e-12,
          6.923236409927304e-12,
          6.523099869945167e-12,
          6.046056410824976e-12,
          6.5562600205391965e-12
         ]
        },
        {
         "boxpoints": "all",
         "hovertemplate": "Epoch: %{text}<br>STD: %{y: .2e}",
         "line": {
          "width": 1
         },
         "marker": {
          "size": 3
         },
         "name": "MEG1732",
         "opacity": 0.7,
         "pointpos": 0,
         "text": [
          0,
          1,
          2,
          3,
          4,
          5
         ],
         "type": "box",
         "y": [
          9.19057406863349e-12,
          8.823008202120773e-12,
          8.796634104292383e-12,
          9.178480702300455e-12,
          7.896985156473783e-12,
          7.829686325520204e-12
         ]
        },
        {
         "boxpoints": "all",
         "hovertemplate": "Epoch: %{text}<br>STD: %{y: .2e}",
         "line": {
          "width": 1
         },
         "marker": {
          "size": 3
         },
         "name": "MEG1733",
         "opacity": 0.7,
         "pointpos": 0,
         "text": [
          0,
          1,
          2,
          3,
          4,
          5
         ],
         "type": "box",
         "y": [
          8.492620697073663e-12,
          8.096130588360083e-12,
          7.989927800362294e-12,
          7.766206958921011e-12,
          8.57014236990773e-12,
          8.152703985933948e-12
         ]
        },
        {
         "boxpoints": "all",
         "hovertemplate": "Epoch: %{text}<br>STD: %{y: .2e}",
         "line": {
          "width": 1
         },
         "marker": {
          "size": 3
         },
         "name": "MEG1742",
         "opacity": 0.7,
         "pointpos": 0,
         "text": [
          0,
          1,
          2,
          3,
          4,
          5
         ],
         "type": "box",
         "y": [
          9.9958049344694e-12,
          9.956264503225758e-12,
          9.581914902907303e-12,
          9.295473275315328e-12,
          8.98391792713199e-12,
          9.062881145628373e-12
         ]
        },
        {
         "boxpoints": "all",
         "hovertemplate": "Epoch: %{text}<br>STD: %{y: .2e}",
         "line": {
          "width": 1
         },
         "marker": {
          "size": 3
         },
         "name": "MEG1743",
         "opacity": 0.7,
         "pointpos": 0,
         "text": [
          0,
          1,
          2,
          3,
          4,
          5
         ],
         "type": "box",
         "y": [
          1.0863135152672713e-11,
          1.0747320513770088e-11,
          1.09026869770146e-11,
          1.0328245768216327e-11,
          1.0054685319902509e-11,
          1.0148037416073012e-11
         ]
        },
        {
         "boxpoints": "all",
         "hovertemplate": "Epoch: %{text}<br>STD: %{y: .2e}",
         "line": {
          "width": 1
         },
         "marker": {
          "size": 3
         },
         "name": "MEG1812",
         "opacity": 0.7,
         "pointpos": 0,
         "text": [
          0,
          1,
          2,
          3,
          4,
          5
         ],
         "type": "box",
         "y": [
          4.968691880827772e-12,
          6.350760211685761e-12,
          5.61076979375211e-12,
          4.894708412919484e-12,
          5.355171260124839e-12,
          5.023767305468912e-12
         ]
        },
        {
         "boxpoints": "all",
         "hovertemplate": "Epoch: %{text}<br>STD: %{y: .2e}",
         "line": {
          "width": 1
         },
         "marker": {
          "size": 3
         },
         "name": "MEG1813",
         "opacity": 0.7,
         "pointpos": 0,
         "text": [
          0,
          1,
          2,
          3,
          4,
          5
         ],
         "type": "box",
         "y": [
          1.0737782074432887e-11,
          9.493717670718866e-12,
          8.218058800736834e-12,
          8.884432936232954e-12,
          9.18284667115039e-12,
          8.028312478611186e-12
         ]
        },
        {
         "boxpoints": "all",
         "hovertemplate": "Epoch: %{text}<br>STD: %{y: .2e}",
         "line": {
          "width": 1
         },
         "marker": {
          "size": 3
         },
         "name": "MEG1822",
         "opacity": 0.7,
         "pointpos": 0,
         "text": [
          0,
          1,
          2,
          3,
          4,
          5
         ],
         "type": "box",
         "y": [
          5.523183846924638e-12,
          5.697341947785014e-12,
          6.0555078183411915e-12,
          5.551138661149635e-12,
          5.621338339082336e-12,
          5.398343015677472e-12
         ]
        },
        {
         "boxpoints": "all",
         "hovertemplate": "Epoch: %{text}<br>STD: %{y: .2e}",
         "line": {
          "width": 1
         },
         "marker": {
          "size": 3
         },
         "name": "MEG1823",
         "opacity": 0.7,
         "pointpos": 0,
         "text": [
          0,
          1,
          2,
          3,
          4,
          5
         ],
         "type": "box",
         "y": [
          5.323309365418098e-12,
          6.165518944108962e-12,
          6.591412714157191e-12,
          5.2252149959158036e-12,
          5.3684092557953244e-12,
          5.478019220659387e-12
         ]
        },
        {
         "boxpoints": "all",
         "hovertemplate": "Epoch: %{text}<br>STD: %{y: .2e}",
         "line": {
          "width": 1
         },
         "marker": {
          "size": 3
         },
         "name": "MEG1832",
         "opacity": 0.7,
         "pointpos": 0,
         "text": [
          0,
          1,
          2,
          3,
          4,
          5
         ],
         "type": "box",
         "y": [
          6.258025568308931e-12,
          6.476625137606934e-12,
          6.770494010614894e-12,
          6.514384900666408e-12,
          6.465654097002927e-12,
          6.580227745888606e-12
         ]
        },
        {
         "boxpoints": "all",
         "hovertemplate": "Epoch: %{text}<br>STD: %{y: .2e}",
         "line": {
          "width": 1
         },
         "marker": {
          "size": 3
         },
         "name": "MEG1833",
         "opacity": 0.7,
         "pointpos": 0,
         "text": [
          0,
          1,
          2,
          3,
          4,
          5
         ],
         "type": "box",
         "y": [
          6.293919870463977e-12,
          6.585891203756038e-12,
          6.478801817559111e-12,
          6.4284621245887594e-12,
          6.567702347130742e-12,
          6.15806325988079e-12
         ]
        },
        {
         "boxpoints": "all",
         "hovertemplate": "Epoch: %{text}<br>STD: %{y: .2e}",
         "line": {
          "width": 1
         },
         "marker": {
          "size": 3
         },
         "name": "MEG1842",
         "opacity": 0.7,
         "pointpos": 0,
         "text": [
          0,
          1,
          2,
          3,
          4,
          5
         ],
         "type": "box",
         "y": [
          6.575270408924741e-12,
          6.67773429184062e-12,
          6.702705894492421e-12,
          6.49472748544114e-12,
          6.4363789523310744e-12,
          6.6630877338735565e-12
         ]
        },
        {
         "boxpoints": "all",
         "hovertemplate": "Epoch: %{text}<br>STD: %{y: .2e}",
         "line": {
          "width": 1
         },
         "marker": {
          "size": 3
         },
         "name": "MEG1843",
         "opacity": 0.7,
         "pointpos": 0,
         "text": [
          0,
          1,
          2,
          3,
          4,
          5
         ],
         "type": "box",
         "y": [
          5.149195106263601e-12,
          5.70688765977179e-12,
          6.3729741630659624e-12,
          5.5226571338349454e-12,
          5.69456774012287e-12,
          5.5031420165185535e-12
         ]
        },
        {
         "boxpoints": "all",
         "hovertemplate": "Epoch: %{text}<br>STD: %{y: .2e}",
         "line": {
          "width": 1
         },
         "marker": {
          "size": 3
         },
         "name": "MEG1912",
         "opacity": 0.7,
         "pointpos": 0,
         "text": [
          0,
          1,
          2,
          3,
          4,
          5
         ],
         "type": "box",
         "y": [
          6.779077463366453e-12,
          6.223486509310232e-12,
          6.413753838201285e-12,
          6.671456420798283e-12,
          6.825098895941877e-12,
          6.8058797986055415e-12
         ]
        },
        {
         "boxpoints": "all",
         "hovertemplate": "Epoch: %{text}<br>STD: %{y: .2e}",
         "line": {
          "width": 1
         },
         "marker": {
          "size": 3
         },
         "name": "MEG1913",
         "opacity": 0.7,
         "pointpos": 0,
         "text": [
          0,
          1,
          2,
          3,
          4,
          5
         ],
         "type": "box",
         "y": [
          6.811099475425269e-12,
          6.95611493970453e-12,
          6.942452840369869e-12,
          7.45673720760119e-12,
          7.110708013042921e-12,
          6.348944654604156e-12
         ]
        },
        {
         "boxpoints": "all",
         "hovertemplate": "Epoch: %{text}<br>STD: %{y: .2e}",
         "line": {
          "width": 1
         },
         "marker": {
          "size": 3
         },
         "name": "MEG1922",
         "opacity": 0.7,
         "pointpos": 0,
         "text": [
          0,
          1,
          2,
          3,
          4,
          5
         ],
         "type": "box",
         "y": [
          9.059342915739978e-12,
          9.389796492854098e-12,
          9.134250750512291e-12,
          7.95479575221447e-12,
          8.08991135726757e-12,
          7.75737240915673e-12
         ]
        },
        {
         "boxpoints": "all",
         "hovertemplate": "Epoch: %{text}<br>STD: %{y: .2e}",
         "line": {
          "width": 1
         },
         "marker": {
          "size": 3
         },
         "name": "MEG1923",
         "opacity": 0.7,
         "pointpos": 0,
         "text": [
          0,
          1,
          2,
          3,
          4,
          5
         ],
         "type": "box",
         "y": [
          8.876688853622204e-12,
          8.361636885866547e-12,
          8.400843364916041e-12,
          9.645269865787976e-12,
          8.652694922734875e-12,
          7.237780628418281e-12
         ]
        },
        {
         "boxpoints": "all",
         "hovertemplate": "Epoch: %{text}<br>STD: %{y: .2e}",
         "line": {
          "width": 1
         },
         "marker": {
          "size": 3
         },
         "name": "MEG1932",
         "opacity": 0.7,
         "pointpos": 0,
         "text": [
          0,
          1,
          2,
          3,
          4,
          5
         ],
         "type": "box",
         "y": [
          8.843007913580008e-12,
          8.892134775007168e-12,
          8.808583318887543e-12,
          8.934951386368384e-12,
          7.2491444493657315e-12,
          7.303980307244329e-12
         ]
        },
        {
         "boxpoints": "all",
         "hovertemplate": "Epoch: %{text}<br>STD: %{y: .2e}",
         "line": {
          "width": 1
         },
         "marker": {
          "size": 3
         },
         "name": "MEG1933",
         "opacity": 0.7,
         "pointpos": 0,
         "text": [
          0,
          1,
          2,
          3,
          4,
          5
         ],
         "type": "box",
         "y": [
          1.1673214606894896e-11,
          1.1244554344863317e-11,
          1.0766432092244518e-11,
          1.0774414264362835e-11,
          1.0170149476025837e-11,
          1.0288128297261e-11
         ]
        },
        {
         "boxpoints": "all",
         "hovertemplate": "Epoch: %{text}<br>STD: %{y: .2e}",
         "line": {
          "width": 1
         },
         "marker": {
          "size": 3
         },
         "name": "MEG1942",
         "opacity": 0.7,
         "pointpos": 0,
         "text": [
          0,
          1,
          2,
          3,
          4,
          5
         ],
         "type": "box",
         "y": [
          7.1438345473468344e-12,
          7.82606901988291e-12,
          7.972730731193655e-12,
          6.9660687369740316e-12,
          7.276411108314634e-12,
          7.38594415088928e-12
         ]
        },
        {
         "boxpoints": "all",
         "hovertemplate": "Epoch: %{text}<br>STD: %{y: .2e}",
         "line": {
          "width": 1
         },
         "marker": {
          "size": 3
         },
         "name": "MEG1943",
         "opacity": 0.7,
         "pointpos": 0,
         "text": [
          0,
          1,
          2,
          3,
          4,
          5
         ],
         "type": "box",
         "y": [
          8.993866894149257e-12,
          9.348373490153355e-12,
          8.582808901982668e-12,
          8.825206698251929e-12,
          7.260350062171216e-12,
          6.909106604922769e-12
         ]
        },
        {
         "boxpoints": "all",
         "hovertemplate": "Epoch: %{text}<br>STD: %{y: .2e}",
         "line": {
          "width": 1
         },
         "marker": {
          "size": 3
         },
         "name": "MEG2012",
         "opacity": 0.7,
         "pointpos": 0,
         "text": [
          0,
          1,
          2,
          3,
          4,
          5
         ],
         "type": "box",
         "y": [
          6.596628832124067e-12,
          6.951769625569007e-12,
          6.899211789587225e-12,
          7.017655013304764e-12,
          6.825717853727521e-12,
          6.437634160913138e-12
         ]
        },
        {
         "boxpoints": "all",
         "hovertemplate": "Epoch: %{text}<br>STD: %{y: .2e}",
         "line": {
          "width": 1
         },
         "marker": {
          "size": 3
         },
         "name": "MEG2013",
         "opacity": 0.7,
         "pointpos": 0,
         "text": [
          0,
          1,
          2,
          3,
          4,
          5
         ],
         "type": "box",
         "y": [
          6.001777982016738e-12,
          6.769692340221892e-12,
          6.846892536270896e-12,
          6.190948573932651e-12,
          6.329485625007537e-12,
          5.753231226770977e-12
         ]
        },
        {
         "boxpoints": "all",
         "hovertemplate": "Epoch: %{text}<br>STD: %{y: .2e}",
         "line": {
          "width": 1
         },
         "marker": {
          "size": 3
         },
         "name": "MEG2022",
         "opacity": 0.7,
         "pointpos": 0,
         "text": [
          0,
          1,
          2,
          3,
          4,
          5
         ],
         "type": "box",
         "y": [
          6.880886107118534e-12,
          8.239188025481719e-12,
          8.426636105933868e-12,
          7.565744564755432e-12,
          7.413215107129557e-12,
          6.738757086088737e-12
         ]
        },
        {
         "boxpoints": "all",
         "hovertemplate": "Epoch: %{text}<br>STD: %{y: .2e}",
         "line": {
          "width": 1
         },
         "marker": {
          "size": 3
         },
         "name": "MEG2023",
         "opacity": 0.7,
         "pointpos": 0,
         "text": [
          0,
          1,
          2,
          3,
          4,
          5
         ],
         "type": "box",
         "y": [
          6.000822177661273e-12,
          6.677377140619767e-12,
          6.944439006728176e-12,
          6.016593371684781e-12,
          6.367160006189357e-12,
          6.191383611565949e-12
         ]
        },
        {
         "boxpoints": "all",
         "hovertemplate": "Epoch: %{text}<br>STD: %{y: .2e}",
         "line": {
          "width": 1
         },
         "marker": {
          "size": 3
         },
         "name": "MEG2032",
         "opacity": 0.7,
         "pointpos": 0,
         "text": [
          0,
          1,
          2,
          3,
          4,
          5
         ],
         "type": "box",
         "y": [
          6.807125130848762e-12,
          7.177531056919652e-12,
          7.541014516687417e-12,
          7.464653582315454e-12,
          7.003488872626259e-12,
          6.556550341882115e-12
         ]
        },
        {
         "boxpoints": "all",
         "hovertemplate": "Epoch: %{text}<br>STD: %{y: .2e}",
         "line": {
          "width": 1
         },
         "marker": {
          "size": 3
         },
         "name": "MEG2033",
         "opacity": 0.7,
         "pointpos": 0,
         "text": [
          0,
          1,
          2,
          3,
          4,
          5
         ],
         "type": "box",
         "y": [
          6.780768281362081e-12,
          8.685060487846086e-12,
          9.392402520259033e-12,
          8.900127595322921e-12,
          7.668736527994201e-12,
          6.999441161579106e-12
         ]
        },
        {
         "boxpoints": "all",
         "hovertemplate": "Epoch: %{text}<br>STD: %{y: .2e}",
         "line": {
          "width": 1
         },
         "marker": {
          "size": 3
         },
         "name": "MEG2042",
         "opacity": 0.7,
         "pointpos": 0,
         "text": [
          0,
          1,
          2,
          3,
          4,
          5
         ],
         "type": "box",
         "y": [
          7.081329675741046e-12,
          7.006807054663211e-12,
          6.871095647025213e-12,
          6.951472114437521e-12,
          6.64221422635481e-12,
          6.582748616886307e-12
         ]
        },
        {
         "boxpoints": "all",
         "hovertemplate": "Epoch: %{text}<br>STD: %{y: .2e}",
         "line": {
          "width": 1
         },
         "marker": {
          "size": 3
         },
         "name": "MEG2043",
         "opacity": 0.7,
         "pointpos": 0,
         "text": [
          0,
          1,
          2,
          3,
          4,
          5
         ],
         "type": "box",
         "y": [
          6.893089588498999e-12,
          8.275422594585841e-12,
          8.04421132103152e-12,
          7.543975740155245e-12,
          7.538318077922476e-12,
          6.356443012418429e-12
         ]
        },
        {
         "boxpoints": "all",
         "hovertemplate": "Epoch: %{text}<br>STD: %{y: .2e}",
         "line": {
          "width": 1
         },
         "marker": {
          "size": 3
         },
         "name": "MEG2112",
         "opacity": 0.7,
         "pointpos": 0,
         "text": [
          0,
          1,
          2,
          3,
          4,
          5
         ],
         "type": "box",
         "y": [
          7.701858316083921e-12,
          9.679174038989233e-12,
          9.982954478548594e-12,
          1.025517481715313e-11,
          8.240994123558609e-12,
          8.19905457506131e-12
         ]
        },
        {
         "boxpoints": "all",
         "hovertemplate": "Epoch: %{text}<br>STD: %{y: .2e}",
         "line": {
          "width": 1
         },
         "marker": {
          "size": 3
         },
         "name": "MEG2113",
         "opacity": 0.7,
         "pointpos": 0,
         "text": [
          0,
          1,
          2,
          3,
          4,
          5
         ],
         "type": "box",
         "y": [
          8.347966500426448e-12,
          7.651089493202575e-12,
          8.88770888524997e-12,
          9.535139243244854e-12,
          7.616794005706305e-12,
          7.175590541473587e-12
         ]
        },
        {
         "boxpoints": "all",
         "hovertemplate": "Epoch: %{text}<br>STD: %{y: .2e}",
         "line": {
          "width": 1
         },
         "marker": {
          "size": 3
         },
         "name": "MEG2122",
         "opacity": 0.7,
         "pointpos": 0,
         "text": [
          0,
          1,
          2,
          3,
          4,
          5
         ],
         "type": "box",
         "y": [
          9.208276844331794e-12,
          8.962124230335822e-12,
          8.535634999397027e-12,
          9.37011207612083e-12,
          7.966461601196448e-12,
          7.586423837355309e-12
         ]
        },
        {
         "boxpoints": "all",
         "hovertemplate": "Epoch: %{text}<br>STD: %{y: .2e}",
         "line": {
          "width": 1
         },
         "marker": {
          "size": 3
         },
         "name": "MEG2123",
         "opacity": 0.7,
         "pointpos": 0,
         "text": [
          0,
          1,
          2,
          3,
          4,
          5
         ],
         "type": "box",
         "y": [
          9.537662419429248e-12,
          8.980095996294828e-12,
          9.817995848780401e-12,
          9.965070500106797e-12,
          8.831429589272734e-12,
          9.341629442199836e-12
         ]
        },
        {
         "boxpoints": "all",
         "hovertemplate": "Epoch: %{text}<br>STD: %{y: .2e}",
         "line": {
          "width": 1
         },
         "marker": {
          "size": 3
         },
         "name": "MEG2132",
         "opacity": 0.7,
         "pointpos": 0,
         "text": [
          0,
          1,
          2,
          3,
          4,
          5
         ],
         "type": "box",
         "y": [
          1.0225303096633069e-11,
          1.0137714244367195e-11,
          1.0322446270051312e-11,
          1.0353350027467461e-11,
          9.445399017828743e-12,
          9.202147328024677e-12
         ]
        },
        {
         "boxpoints": "all",
         "hovertemplate": "Epoch: %{text}<br>STD: %{y: .2e}",
         "line": {
          "width": 1
         },
         "marker": {
          "size": 3
         },
         "name": "MEG2133",
         "opacity": 0.7,
         "pointpos": 0,
         "text": [
          0,
          1,
          2,
          3,
          4,
          5
         ],
         "type": "box",
         "y": [
          1.2651372836515976e-11,
          1.178339141982559e-11,
          1.2495986798291053e-11,
          1.2669860641428879e-11,
          1.15576756285067e-11,
          1.1360189030272142e-11
         ]
        },
        {
         "boxpoints": "all",
         "hovertemplate": "Epoch: %{text}<br>STD: %{y: .2e}",
         "line": {
          "width": 1
         },
         "marker": {
          "size": 3
         },
         "name": "MEG2142",
         "opacity": 0.7,
         "pointpos": 0,
         "text": [
          0,
          1,
          2,
          3,
          4,
          5
         ],
         "type": "box",
         "y": [
          1.5537107619585743e-11,
          1.4325441949658523e-11,
          1.4630378644232176e-11,
          1.3911999853894744e-11,
          1.37729018199073e-11,
          1.3792910097811328e-11
         ]
        },
        {
         "boxpoints": "all",
         "hovertemplate": "Epoch: %{text}<br>STD: %{y: .2e}",
         "line": {
          "width": 1
         },
         "marker": {
          "size": 3
         },
         "name": "MEG2143",
         "opacity": 0.7,
         "pointpos": 0,
         "text": [
          0,
          1,
          2,
          3,
          4,
          5
         ],
         "type": "box",
         "y": [
          1.0260129157906099e-11,
          1.0147849503309433e-11,
          1.0256803854823646e-11,
          1.0721874658989322e-11,
          1.0121141669747681e-11,
          9.659269519238443e-12
         ]
        },
        {
         "boxpoints": "all",
         "hovertemplate": "Epoch: %{text}<br>STD: %{y: .2e}",
         "line": {
          "width": 1
         },
         "marker": {
          "size": 3
         },
         "name": "MEG2212",
         "opacity": 0.7,
         "pointpos": 0,
         "text": [
          0,
          1,
          2,
          3,
          4,
          5
         ],
         "type": "box",
         "y": [
          7.129964206767437e-12,
          7.577389877422837e-12,
          8.743352129905384e-12,
          8.68479619526099e-12,
          7.452693486141922e-12,
          7.541294077346838e-12
         ]
        },
        {
         "boxpoints": "all",
         "hovertemplate": "Epoch: %{text}<br>STD: %{y: .2e}",
         "line": {
          "width": 1
         },
         "marker": {
          "size": 3
         },
         "name": "MEG2213",
         "opacity": 0.7,
         "pointpos": 0,
         "text": [
          0,
          1,
          2,
          3,
          4,
          5
         ],
         "type": "box",
         "y": [
          5.8681930842449094e-12,
          6.145515228537872e-12,
          6.451967429860791e-12,
          6.042258333311935e-12,
          5.815909656217511e-12,
          5.795910219745641e-12
         ]
        },
        {
         "boxpoints": "all",
         "hovertemplate": "Epoch: %{text}<br>STD: %{y: .2e}",
         "line": {
          "width": 1
         },
         "marker": {
          "size": 3
         },
         "name": "MEG2222",
         "opacity": 0.7,
         "pointpos": 0,
         "text": [
          0,
          1,
          2,
          3,
          4,
          5
         ],
         "type": "box",
         "y": [
          5.663110718500906e-12,
          6.074157231314052e-12,
          6.124353292042965e-12,
          5.566956920881281e-12,
          5.850440583095779e-12,
          5.438260055867467e-12
         ]
        },
        {
         "boxpoints": "all",
         "hovertemplate": "Epoch: %{text}<br>STD: %{y: .2e}",
         "line": {
          "width": 1
         },
         "marker": {
          "size": 3
         },
         "name": "MEG2223",
         "opacity": 0.7,
         "pointpos": 0,
         "text": [
          0,
          1,
          2,
          3,
          4,
          5
         ],
         "type": "box",
         "y": [
          6.035763524927709e-12,
          6.605950960498046e-12,
          6.7924095764486694e-12,
          6.618088116043614e-12,
          5.9521122435643715e-12,
          6.400461842899921e-12
         ]
        },
        {
         "boxpoints": "all",
         "hovertemplate": "Epoch: %{text}<br>STD: %{y: .2e}",
         "line": {
          "width": 1
         },
         "marker": {
          "size": 3
         },
         "name": "MEG2232",
         "opacity": 0.7,
         "pointpos": 0,
         "text": [
          0,
          1,
          2,
          3,
          4,
          5
         ],
         "type": "box",
         "y": [
          5.7360458984679674e-12,
          6.0594430853534365e-12,
          5.58323979188392e-12,
          5.553841694183573e-12,
          5.351040417234889e-12,
          5.381430577378184e-12
         ]
        },
        {
         "boxpoints": "all",
         "hovertemplate": "Epoch: %{text}<br>STD: %{y: .2e}",
         "line": {
          "width": 1
         },
         "marker": {
          "size": 3
         },
         "name": "MEG2233",
         "opacity": 0.7,
         "pointpos": 0,
         "text": [
          0,
          1,
          2,
          3,
          4,
          5
         ],
         "type": "box",
         "y": [
          6.510446792270639e-12,
          6.241460268347061e-12,
          7.330825733432324e-12,
          6.845487692824024e-12,
          6.929152874329738e-12,
          6.197556602171565e-12
         ]
        },
        {
         "boxpoints": "all",
         "hovertemplate": "Epoch: %{text}<br>STD: %{y: .2e}",
         "line": {
          "width": 1
         },
         "marker": {
          "size": 3
         },
         "name": "MEG2242",
         "opacity": 0.7,
         "pointpos": 0,
         "text": [
          0,
          1,
          2,
          3,
          4,
          5
         ],
         "type": "box",
         "y": [
          4.836521167294972e-12,
          5.05066635197144e-12,
          5.027288596529773e-12,
          5.072510690850289e-12,
          4.829847545528842e-12,
          5.198837616073655e-12
         ]
        },
        {
         "boxpoints": "all",
         "hovertemplate": "Epoch: %{text}<br>STD: %{y: .2e}",
         "line": {
          "width": 1
         },
         "marker": {
          "size": 3
         },
         "name": "MEG2243",
         "opacity": 0.7,
         "pointpos": 0,
         "text": [
          0,
          1,
          2,
          3,
          4,
          5
         ],
         "type": "box",
         "y": [
          5.364194533247374e-12,
          6.2053865234777006e-12,
          6.146839220206103e-12,
          5.885575794461426e-12,
          5.698827110814188e-12,
          5.11087655556785e-12
         ]
        },
        {
         "boxpoints": "all",
         "hovertemplate": "Epoch: %{text}<br>STD: %{y: .2e}",
         "line": {
          "width": 1
         },
         "marker": {
          "size": 3
         },
         "name": "MEG2312",
         "opacity": 0.7,
         "pointpos": 0,
         "text": [
          0,
          1,
          2,
          3,
          4,
          5
         ],
         "type": "box",
         "y": [
          8.340897492009532e-12,
          8.939415930709475e-12,
          8.039444612007848e-12,
          8.351698338075904e-12,
          7.114769234821683e-12,
          7.402194440615035e-12
         ]
        },
        {
         "boxpoints": "all",
         "hovertemplate": "Epoch: %{text}<br>STD: %{y: .2e}",
         "line": {
          "width": 1
         },
         "marker": {
          "size": 3
         },
         "name": "MEG2313",
         "opacity": 0.7,
         "pointpos": 0,
         "text": [
          0,
          1,
          2,
          3,
          4,
          5
         ],
         "type": "box",
         "y": [
          6.72915106505556e-12,
          6.964228274595336e-12,
          7.588613164833706e-12,
          7.321288817894477e-12,
          6.712400192285041e-12,
          6.8311929999991625e-12
         ]
        },
        {
         "boxpoints": "all",
         "hovertemplate": "Epoch: %{text}<br>STD: %{y: .2e}",
         "line": {
          "width": 1
         },
         "marker": {
          "size": 3
         },
         "name": "MEG2322",
         "opacity": 0.7,
         "pointpos": 0,
         "text": [
          0,
          1,
          2,
          3,
          4,
          5
         ],
         "type": "box",
         "y": [
          7.498450378353025e-12,
          7.754927045616518e-12,
          9.002063035358404e-12,
          7.702338778620439e-12,
          7.71709143776695e-12,
          7.880029218852967e-12
         ]
        },
        {
         "boxpoints": "all",
         "hovertemplate": "Epoch: %{text}<br>STD: %{y: .2e}",
         "line": {
          "width": 1
         },
         "marker": {
          "size": 3
         },
         "name": "MEG2323",
         "opacity": 0.7,
         "pointpos": 0,
         "text": [
          0,
          1,
          2,
          3,
          4,
          5
         ],
         "type": "box",
         "y": [
          8.584001784006667e-12,
          7.707258615626775e-12,
          9.116825879817636e-12,
          6.870712621725294e-12,
          6.944542379972069e-12,
          6.65483147834786e-12
         ]
        },
        {
         "boxpoints": "all",
         "hovertemplate": "Epoch: %{text}<br>STD: %{y: .2e}",
         "line": {
          "width": 1
         },
         "marker": {
          "size": 3
         },
         "name": "MEG2332",
         "opacity": 0.7,
         "pointpos": 0,
         "text": [
          0,
          1,
          2,
          3,
          4,
          5
         ],
         "type": "box",
         "y": [
          8.78177584328237e-12,
          8.744041768641047e-12,
          7.631877152058468e-12,
          8.851030061938945e-12,
          7.289781011501447e-12,
          8.065478642126965e-12
         ]
        },
        {
         "boxpoints": "all",
         "hovertemplate": "Epoch: %{text}<br>STD: %{y: .2e}",
         "line": {
          "width": 1
         },
         "marker": {
          "size": 3
         },
         "name": "MEG2333",
         "opacity": 0.7,
         "pointpos": 0,
         "text": [
          0,
          1,
          2,
          3,
          4,
          5
         ],
         "type": "box",
         "y": [
          1.0538535794742661e-11,
          9.96066603647922e-12,
          1.0914596586977747e-11,
          1.0841842787065547e-11,
          1.0838299094886832e-11,
          1.0946935005932812e-11
         ]
        },
        {
         "boxpoints": "all",
         "hovertemplate": "Epoch: %{text}<br>STD: %{y: .2e}",
         "line": {
          "width": 1
         },
         "marker": {
          "size": 3
         },
         "name": "MEG2342",
         "opacity": 0.7,
         "pointpos": 0,
         "text": [
          0,
          1,
          2,
          3,
          4,
          5
         ],
         "type": "box",
         "y": [
          6.802173556485087e-12,
          7.760028571112537e-12,
          8.250796102588749e-12,
          8.252067753726003e-12,
          7.125929849685211e-12,
          7.60849763335218e-12
         ]
        },
        {
         "boxpoints": "all",
         "hovertemplate": "Epoch: %{text}<br>STD: %{y: .2e}",
         "line": {
          "width": 1
         },
         "marker": {
          "size": 3
         },
         "name": "MEG2343",
         "opacity": 0.7,
         "pointpos": 0,
         "text": [
          0,
          1,
          2,
          3,
          4,
          5
         ],
         "type": "box",
         "y": [
          8.120934482853951e-12,
          7.020355492133626e-12,
          7.840444771955056e-12,
          8.540153729077892e-12,
          6.925624701565882e-12,
          6.899668631195573e-12
         ]
        },
        {
         "boxpoints": "all",
         "hovertemplate": "Epoch: %{text}<br>STD: %{y: .2e}",
         "line": {
          "width": 1
         },
         "marker": {
          "size": 3
         },
         "name": "MEG2412",
         "opacity": 0.7,
         "pointpos": 0,
         "text": [
          0,
          1,
          2,
          3,
          4,
          5
         ],
         "type": "box",
         "y": [
          6.9935376435958004e-12,
          7.2927336135568e-12,
          7.62902579086153e-12,
          6.663424784189387e-12,
          6.5004838560831064e-12,
          6.603968320285583e-12
         ]
        },
        {
         "boxpoints": "all",
         "hovertemplate": "Epoch: %{text}<br>STD: %{y: .2e}",
         "line": {
          "width": 1
         },
         "marker": {
          "size": 3
         },
         "name": "MEG2413",
         "opacity": 0.7,
         "pointpos": 0,
         "text": [
          0,
          1,
          2,
          3,
          4,
          5
         ],
         "type": "box",
         "y": [
          6.3616923539736536e-12,
          6.127098468504823e-12,
          6.7287769470504975e-12,
          6.586928468189597e-12,
          7.408269375264624e-12,
          6.173881606749278e-12
         ]
        },
        {
         "boxpoints": "all",
         "hovertemplate": "Epoch: %{text}<br>STD: %{y: .2e}",
         "line": {
          "width": 1
         },
         "marker": {
          "size": 3
         },
         "name": "MEG2422",
         "opacity": 0.7,
         "pointpos": 0,
         "text": [
          0,
          1,
          2,
          3,
          4,
          5
         ],
         "type": "box",
         "y": [
          7.6643678434989e-12,
          7.570192936402664e-12,
          8.535287339411084e-12,
          8.246051180585828e-12,
          8.768403841754635e-12,
          7.631293140967051e-12
         ]
        },
        {
         "boxpoints": "all",
         "hovertemplate": "Epoch: %{text}<br>STD: %{y: .2e}",
         "line": {
          "width": 1
         },
         "marker": {
          "size": 3
         },
         "name": "MEG2423",
         "opacity": 0.7,
         "pointpos": 0,
         "text": [
          0,
          1,
          2,
          3,
          4,
          5
         ],
         "type": "box",
         "y": [
          7.844567781767704e-12,
          6.941774463219547e-12,
          7.778912229684092e-12,
          7.016076212520634e-12,
          7.047984761815934e-12,
          6.37962782778253e-12
         ]
        },
        {
         "boxpoints": "all",
         "hovertemplate": "Epoch: %{text}<br>STD: %{y: .2e}",
         "line": {
          "width": 1
         },
         "marker": {
          "size": 3
         },
         "name": "MEG2432",
         "opacity": 0.7,
         "pointpos": 0,
         "text": [
          0,
          1,
          2,
          3,
          4,
          5
         ],
         "type": "box",
         "y": [
          8.311636741288492e-12,
          7.49690947060535e-12,
          8.268272696709953e-12,
          7.21913092495024e-12,
          7.458744056638979e-12,
          7.112979994446809e-12
         ]
        },
        {
         "boxpoints": "all",
         "hovertemplate": "Epoch: %{text}<br>STD: %{y: .2e}",
         "line": {
          "width": 1
         },
         "marker": {
          "size": 3
         },
         "name": "MEG2433",
         "opacity": 0.7,
         "pointpos": 0,
         "text": [
          0,
          1,
          2,
          3,
          4,
          5
         ],
         "type": "box",
         "y": [
          7.922340187641731e-12,
          7.003185625494636e-12,
          7.621744362643306e-12,
          7.093170690049258e-12,
          6.832242195046967e-12,
          6.782284850053703e-12
         ]
        },
        {
         "boxpoints": "all",
         "hovertemplate": "Epoch: %{text}<br>STD: %{y: .2e}",
         "line": {
          "width": 1
         },
         "marker": {
          "size": 3
         },
         "name": "MEG2442",
         "opacity": 0.7,
         "pointpos": 0,
         "text": [
          0,
          1,
          2,
          3,
          4,
          5
         ],
         "type": "box",
         "y": [
          6.765504375397464e-12,
          7.489461075849726e-12,
          8.241586247401556e-12,
          7.379604667158814e-12,
          6.244800014476348e-12,
          6.541374820748307e-12
         ]
        },
        {
         "boxpoints": "all",
         "hovertemplate": "Epoch: %{text}<br>STD: %{y: .2e}",
         "line": {
          "width": 1
         },
         "marker": {
          "size": 3
         },
         "name": "MEG2443",
         "opacity": 0.7,
         "pointpos": 0,
         "text": [
          0,
          1,
          2,
          3,
          4,
          5
         ],
         "type": "box",
         "y": [
          6.134244531810729e-12,
          6.379273576668259e-12,
          6.263920682748103e-12,
          6.386288149696208e-12,
          6.314913053132609e-12,
          6.180777443589866e-12
         ]
        },
        {
         "boxpoints": "all",
         "hovertemplate": "Epoch: %{text}<br>STD: %{y: .2e}",
         "line": {
          "width": 1
         },
         "marker": {
          "size": 3
         },
         "name": "MEG2512",
         "opacity": 0.7,
         "pointpos": 0,
         "text": [
          0,
          1,
          2,
          3,
          4,
          5
         ],
         "type": "box",
         "y": [
          9.46952243448423e-12,
          8.726080348874315e-12,
          8.676528013088852e-12,
          9.969706913283885e-12,
          8.913549107069612e-12,
          8.794284809715955e-12
         ]
        },
        {
         "boxpoints": "all",
         "hovertemplate": "Epoch: %{text}<br>STD: %{y: .2e}",
         "line": {
          "width": 1
         },
         "marker": {
          "size": 3
         },
         "name": "MEG2513",
         "opacity": 0.7,
         "pointpos": 0,
         "text": [
          0,
          1,
          2,
          3,
          4,
          5
         ],
         "type": "box",
         "y": [
          9.711724339330496e-12,
          9.114875446226172e-12,
          1.0625604995724181e-11,
          9.675251454522026e-12,
          9.853416934984158e-12,
          9.109629754401204e-12
         ]
        },
        {
         "boxpoints": "all",
         "hovertemplate": "Epoch: %{text}<br>STD: %{y: .2e}",
         "line": {
          "width": 1
         },
         "marker": {
          "size": 3
         },
         "name": "MEG2522",
         "opacity": 0.7,
         "pointpos": 0,
         "text": [
          0,
          1,
          2,
          3,
          4,
          5
         ],
         "type": "box",
         "y": [
          9.922929490532117e-12,
          7.878528195827883e-12,
          8.87621303647761e-12,
          9.232746811605466e-12,
          8.429652295300814e-12,
          9.027531940735228e-12
         ]
        },
        {
         "boxpoints": "all",
         "hovertemplate": "Epoch: %{text}<br>STD: %{y: .2e}",
         "line": {
          "width": 1
         },
         "marker": {
          "size": 3
         },
         "name": "MEG2523",
         "opacity": 0.7,
         "pointpos": 0,
         "text": [
          0,
          1,
          2,
          3,
          4,
          5
         ],
         "type": "box",
         "y": [
          8.320305031912193e-12,
          6.1327091676328184e-12,
          7.340714747987136e-12,
          7.600986724163035e-12,
          7.609329475299583e-12,
          6.518303288057626e-12
         ]
        },
        {
         "boxpoints": "all",
         "hovertemplate": "Epoch: %{text}<br>STD: %{y: .2e}",
         "line": {
          "width": 1
         },
         "marker": {
          "size": 3
         },
         "name": "MEG2532",
         "opacity": 0.7,
         "pointpos": 0,
         "text": [
          0,
          1,
          2,
          3,
          4,
          5
         ],
         "type": "box",
         "y": [
          7.2844461585315e-12,
          8.028984382200268e-12,
          7.644675149837609e-12,
          7.93636104782631e-12,
          6.97837889338449e-12,
          6.618536895067002e-12
         ]
        },
        {
         "boxpoints": "all",
         "hovertemplate": "Epoch: %{text}<br>STD: %{y: .2e}",
         "line": {
          "width": 1
         },
         "marker": {
          "size": 3
         },
         "name": "MEG2533",
         "opacity": 0.7,
         "pointpos": 0,
         "text": [
          0,
          1,
          2,
          3,
          4,
          5
         ],
         "type": "box",
         "y": [
          1.0002307291160047e-11,
          9.517692446874638e-12,
          9.657373311379001e-12,
          1.107045614095829e-11,
          1.0015820355703146e-11,
          9.584778566907812e-12
         ]
        },
        {
         "boxpoints": "all",
         "hovertemplate": "Epoch: %{text}<br>STD: %{y: .2e}",
         "line": {
          "width": 1
         },
         "marker": {
          "size": 3
         },
         "name": "MEG2542",
         "opacity": 0.7,
         "pointpos": 0,
         "text": [
          0,
          1,
          2,
          3,
          4,
          5
         ],
         "type": "box",
         "y": [
          1.033629412234472e-11,
          9.512164315672236e-12,
          1.0239332111941057e-11,
          9.966841369269863e-12,
          9.102800171807407e-12,
          9.245699921125116e-12
         ]
        },
        {
         "boxpoints": "all",
         "hovertemplate": "Epoch: %{text}<br>STD: %{y: .2e}",
         "line": {
          "width": 1
         },
         "marker": {
          "size": 3
         },
         "name": "MEG2543",
         "opacity": 0.7,
         "pointpos": 0,
         "text": [
          0,
          1,
          2,
          3,
          4,
          5
         ],
         "type": "box",
         "y": [
          1.0800162939941858e-11,
          1.0431885858028337e-11,
          1.0852969669759233e-11,
          1.1482768271844122e-11,
          1.0198913290774305e-11,
          1.110265594422294e-11
         ]
        },
        {
         "boxpoints": "all",
         "hovertemplate": "Epoch: %{text}<br>STD: %{y: .2e}",
         "line": {
          "width": 1
         },
         "marker": {
          "size": 3
         },
         "name": "MEG2612",
         "opacity": 0.7,
         "pointpos": 0,
         "text": [
          0,
          1,
          2,
          3,
          4,
          5
         ],
         "type": "box",
         "y": [
          8.909362270356976e-12,
          7.286488172346157e-12,
          7.533051073509908e-12,
          8.48991384518068e-12,
          8.830553851675608e-12,
          8.42649982971247e-12
         ]
        },
        {
         "boxpoints": "all",
         "hovertemplate": "Epoch: %{text}<br>STD: %{y: .2e}",
         "line": {
          "width": 1
         },
         "marker": {
          "size": 3
         },
         "name": "MEG2613",
         "opacity": 0.7,
         "pointpos": 0,
         "text": [
          0,
          1,
          2,
          3,
          4,
          5
         ],
         "type": "box",
         "y": [
          8.518454029377842e-12,
          8.330811949349546e-12,
          8.509940461698214e-12,
          8.222917929234503e-12,
          7.98075283330793e-12,
          8.03150248806843e-12
         ]
        },
        {
         "boxpoints": "all",
         "hovertemplate": "Epoch: %{text}<br>STD: %{y: .2e}",
         "line": {
          "width": 1
         },
         "marker": {
          "size": 3
         },
         "name": "MEG2622",
         "opacity": 0.7,
         "pointpos": 0,
         "text": [
          0,
          1,
          2,
          3,
          4,
          5
         ],
         "type": "box",
         "y": [
          8.901754536291474e-12,
          8.550135537497328e-12,
          7.577823522616845e-12,
          7.98344044499149e-12,
          8.178743136279e-12,
          8.414841255562138e-12
         ]
        },
        {
         "boxpoints": "all",
         "hovertemplate": "Epoch: %{text}<br>STD: %{y: .2e}",
         "line": {
          "width": 1
         },
         "marker": {
          "size": 3
         },
         "name": "MEG2623",
         "opacity": 0.7,
         "pointpos": 0,
         "text": [
          0,
          1,
          2,
          3,
          4,
          5
         ],
         "type": "box",
         "y": [
          8.900678955390468e-12,
          8.179377452433487e-12,
          8.563986598252322e-12,
          8.533109928158479e-12,
          8.949341124972775e-12,
          8.640335306080138e-12
         ]
        },
        {
         "boxpoints": "all",
         "hovertemplate": "Epoch: %{text}<br>STD: %{y: .2e}",
         "line": {
          "width": 1
         },
         "marker": {
          "size": 3
         },
         "name": "MEG2632",
         "opacity": 0.7,
         "pointpos": 0,
         "text": [
          0,
          1,
          2,
          3,
          4,
          5
         ],
         "type": "box",
         "y": [
          6.181765746863514e-12,
          6.944206306397497e-12,
          6.2880919948891746e-12,
          6.743518456151647e-12,
          6.427655675211113e-12,
          6.2639470715203275e-12
         ]
        },
        {
         "boxpoints": "all",
         "hovertemplate": "Epoch: %{text}<br>STD: %{y: .2e}",
         "line": {
          "width": 1
         },
         "marker": {
          "size": 3
         },
         "name": "MEG2633",
         "opacity": 0.7,
         "pointpos": 0,
         "text": [
          0,
          1,
          2,
          3,
          4,
          5
         ],
         "type": "box",
         "y": [
          9.292160017052537e-12,
          8.274107484247724e-12,
          9.20637351316564e-12,
          8.840178602138832e-12,
          9.008022527123372e-12,
          8.77705969177905e-12
         ]
        },
        {
         "boxpoints": "all",
         "hovertemplate": "Epoch: %{text}<br>STD: %{y: .2e}",
         "line": {
          "width": 1
         },
         "marker": {
          "size": 3
         },
         "name": "MEG2642",
         "opacity": 0.7,
         "pointpos": 0,
         "text": [
          0,
          1,
          2,
          3,
          4,
          5
         ],
         "type": "box",
         "y": [
          9.465060380529507e-12,
          6.7038285197499994e-12,
          8.12092353549277e-12,
          8.091709116641778e-12,
          8.5355944484907e-12,
          7.780737661462677e-12
         ]
        },
        {
         "boxpoints": "all",
         "hovertemplate": "Epoch: %{text}<br>STD: %{y: .2e}",
         "line": {
          "width": 1
         },
         "marker": {
          "size": 3
         },
         "name": "MEG2643",
         "opacity": 0.7,
         "pointpos": 0,
         "text": [
          0,
          1,
          2,
          3,
          4,
          5
         ],
         "type": "box",
         "y": [
          7.53348881814433e-12,
          7.11550317161583e-12,
          7.61758490983799e-12,
          7.384912688925496e-12,
          6.7334211410948535e-12,
          7.302410745214989e-12
         ]
        }
       ],
       "layout": {
        "template": {
         "data": {
          "bar": [
           {
            "error_x": {
             "color": "#2a3f5f"
            },
            "error_y": {
             "color": "#2a3f5f"
            },
            "marker": {
             "line": {
              "color": "#E5ECF6",
              "width": 0.5
             },
             "pattern": {
              "fillmode": "overlay",
              "size": 10,
              "solidity": 0.2
             }
            },
            "type": "bar"
           }
          ],
          "barpolar": [
           {
            "marker": {
             "line": {
              "color": "#E5ECF6",
              "width": 0.5
             },
             "pattern": {
              "fillmode": "overlay",
              "size": 10,
              "solidity": 0.2
             }
            },
            "type": "barpolar"
           }
          ],
          "carpet": [
           {
            "aaxis": {
             "endlinecolor": "#2a3f5f",
             "gridcolor": "white",
             "linecolor": "white",
             "minorgridcolor": "white",
             "startlinecolor": "#2a3f5f"
            },
            "baxis": {
             "endlinecolor": "#2a3f5f",
             "gridcolor": "white",
             "linecolor": "white",
             "minorgridcolor": "white",
             "startlinecolor": "#2a3f5f"
            },
            "type": "carpet"
           }
          ],
          "choropleth": [
           {
            "colorbar": {
             "outlinewidth": 0,
             "ticks": ""
            },
            "type": "choropleth"
           }
          ],
          "contour": [
           {
            "colorbar": {
             "outlinewidth": 0,
             "ticks": ""
            },
            "colorscale": [
             [
              0,
              "#0d0887"
             ],
             [
              0.1111111111111111,
              "#46039f"
             ],
             [
              0.2222222222222222,
              "#7201a8"
             ],
             [
              0.3333333333333333,
              "#9c179e"
             ],
             [
              0.4444444444444444,
              "#bd3786"
             ],
             [
              0.5555555555555556,
              "#d8576b"
             ],
             [
              0.6666666666666666,
              "#ed7953"
             ],
             [
              0.7777777777777778,
              "#fb9f3a"
             ],
             [
              0.8888888888888888,
              "#fdca26"
             ],
             [
              1,
              "#f0f921"
             ]
            ],
            "type": "contour"
           }
          ],
          "contourcarpet": [
           {
            "colorbar": {
             "outlinewidth": 0,
             "ticks": ""
            },
            "type": "contourcarpet"
           }
          ],
          "heatmap": [
           {
            "colorbar": {
             "outlinewidth": 0,
             "ticks": ""
            },
            "colorscale": [
             [
              0,
              "#0d0887"
             ],
             [
              0.1111111111111111,
              "#46039f"
             ],
             [
              0.2222222222222222,
              "#7201a8"
             ],
             [
              0.3333333333333333,
              "#9c179e"
             ],
             [
              0.4444444444444444,
              "#bd3786"
             ],
             [
              0.5555555555555556,
              "#d8576b"
             ],
             [
              0.6666666666666666,
              "#ed7953"
             ],
             [
              0.7777777777777778,
              "#fb9f3a"
             ],
             [
              0.8888888888888888,
              "#fdca26"
             ],
             [
              1,
              "#f0f921"
             ]
            ],
            "type": "heatmap"
           }
          ],
          "heatmapgl": [
           {
            "colorbar": {
             "outlinewidth": 0,
             "ticks": ""
            },
            "colorscale": [
             [
              0,
              "#0d0887"
             ],
             [
              0.1111111111111111,
              "#46039f"
             ],
             [
              0.2222222222222222,
              "#7201a8"
             ],
             [
              0.3333333333333333,
              "#9c179e"
             ],
             [
              0.4444444444444444,
              "#bd3786"
             ],
             [
              0.5555555555555556,
              "#d8576b"
             ],
             [
              0.6666666666666666,
              "#ed7953"
             ],
             [
              0.7777777777777778,
              "#fb9f3a"
             ],
             [
              0.8888888888888888,
              "#fdca26"
             ],
             [
              1,
              "#f0f921"
             ]
            ],
            "type": "heatmapgl"
           }
          ],
          "histogram": [
           {
            "marker": {
             "pattern": {
              "fillmode": "overlay",
              "size": 10,
              "solidity": 0.2
             }
            },
            "type": "histogram"
           }
          ],
          "histogram2d": [
           {
            "colorbar": {
             "outlinewidth": 0,
             "ticks": ""
            },
            "colorscale": [
             [
              0,
              "#0d0887"
             ],
             [
              0.1111111111111111,
              "#46039f"
             ],
             [
              0.2222222222222222,
              "#7201a8"
             ],
             [
              0.3333333333333333,
              "#9c179e"
             ],
             [
              0.4444444444444444,
              "#bd3786"
             ],
             [
              0.5555555555555556,
              "#d8576b"
             ],
             [
              0.6666666666666666,
              "#ed7953"
             ],
             [
              0.7777777777777778,
              "#fb9f3a"
             ],
             [
              0.8888888888888888,
              "#fdca26"
             ],
             [
              1,
              "#f0f921"
             ]
            ],
            "type": "histogram2d"
           }
          ],
          "histogram2dcontour": [
           {
            "colorbar": {
             "outlinewidth": 0,
             "ticks": ""
            },
            "colorscale": [
             [
              0,
              "#0d0887"
             ],
             [
              0.1111111111111111,
              "#46039f"
             ],
             [
              0.2222222222222222,
              "#7201a8"
             ],
             [
              0.3333333333333333,
              "#9c179e"
             ],
             [
              0.4444444444444444,
              "#bd3786"
             ],
             [
              0.5555555555555556,
              "#d8576b"
             ],
             [
              0.6666666666666666,
              "#ed7953"
             ],
             [
              0.7777777777777778,
              "#fb9f3a"
             ],
             [
              0.8888888888888888,
              "#fdca26"
             ],
             [
              1,
              "#f0f921"
             ]
            ],
            "type": "histogram2dcontour"
           }
          ],
          "mesh3d": [
           {
            "colorbar": {
             "outlinewidth": 0,
             "ticks": ""
            },
            "type": "mesh3d"
           }
          ],
          "parcoords": [
           {
            "line": {
             "colorbar": {
              "outlinewidth": 0,
              "ticks": ""
             }
            },
            "type": "parcoords"
           }
          ],
          "pie": [
           {
            "automargin": true,
            "type": "pie"
           }
          ],
          "scatter": [
           {
            "fillpattern": {
             "fillmode": "overlay",
             "size": 10,
             "solidity": 0.2
            },
            "type": "scatter"
           }
          ],
          "scatter3d": [
           {
            "line": {
             "colorbar": {
              "outlinewidth": 0,
              "ticks": ""
             }
            },
            "marker": {
             "colorbar": {
              "outlinewidth": 0,
              "ticks": ""
             }
            },
            "type": "scatter3d"
           }
          ],
          "scattercarpet": [
           {
            "marker": {
             "colorbar": {
              "outlinewidth": 0,
              "ticks": ""
             }
            },
            "type": "scattercarpet"
           }
          ],
          "scattergeo": [
           {
            "marker": {
             "colorbar": {
              "outlinewidth": 0,
              "ticks": ""
             }
            },
            "type": "scattergeo"
           }
          ],
          "scattergl": [
           {
            "marker": {
             "colorbar": {
              "outlinewidth": 0,
              "ticks": ""
             }
            },
            "type": "scattergl"
           }
          ],
          "scattermapbox": [
           {
            "marker": {
             "colorbar": {
              "outlinewidth": 0,
              "ticks": ""
             }
            },
            "type": "scattermapbox"
           }
          ],
          "scatterpolar": [
           {
            "marker": {
             "colorbar": {
              "outlinewidth": 0,
              "ticks": ""
             }
            },
            "type": "scatterpolar"
           }
          ],
          "scatterpolargl": [
           {
            "marker": {
             "colorbar": {
              "outlinewidth": 0,
              "ticks": ""
             }
            },
            "type": "scatterpolargl"
           }
          ],
          "scatterternary": [
           {
            "marker": {
             "colorbar": {
              "outlinewidth": 0,
              "ticks": ""
             }
            },
            "type": "scatterternary"
           }
          ],
          "surface": [
           {
            "colorbar": {
             "outlinewidth": 0,
             "ticks": ""
            },
            "colorscale": [
             [
              0,
              "#0d0887"
             ],
             [
              0.1111111111111111,
              "#46039f"
             ],
             [
              0.2222222222222222,
              "#7201a8"
             ],
             [
              0.3333333333333333,
              "#9c179e"
             ],
             [
              0.4444444444444444,
              "#bd3786"
             ],
             [
              0.5555555555555556,
              "#d8576b"
             ],
             [
              0.6666666666666666,
              "#ed7953"
             ],
             [
              0.7777777777777778,
              "#fb9f3a"
             ],
             [
              0.8888888888888888,
              "#fdca26"
             ],
             [
              1,
              "#f0f921"
             ]
            ],
            "type": "surface"
           }
          ],
          "table": [
           {
            "cells": {
             "fill": {
              "color": "#EBF0F8"
             },
             "line": {
              "color": "white"
             }
            },
            "header": {
             "fill": {
              "color": "#C8D4E3"
             },
             "line": {
              "color": "white"
             }
            },
            "type": "table"
           }
          ]
         },
         "layout": {
          "annotationdefaults": {
           "arrowcolor": "#2a3f5f",
           "arrowhead": 0,
           "arrowwidth": 1
          },
          "autotypenumbers": "strict",
          "coloraxis": {
           "colorbar": {
            "outlinewidth": 0,
            "ticks": ""
           }
          },
          "colorscale": {
           "diverging": [
            [
             0,
             "#8e0152"
            ],
            [
             0.1,
             "#c51b7d"
            ],
            [
             0.2,
             "#de77ae"
            ],
            [
             0.3,
             "#f1b6da"
            ],
            [
             0.4,
             "#fde0ef"
            ],
            [
             0.5,
             "#f7f7f7"
            ],
            [
             0.6,
             "#e6f5d0"
            ],
            [
             0.7,
             "#b8e186"
            ],
            [
             0.8,
             "#7fbc41"
            ],
            [
             0.9,
             "#4d9221"
            ],
            [
             1,
             "#276419"
            ]
           ],
           "sequential": [
            [
             0,
             "#0d0887"
            ],
            [
             0.1111111111111111,
             "#46039f"
            ],
            [
             0.2222222222222222,
             "#7201a8"
            ],
            [
             0.3333333333333333,
             "#9c179e"
            ],
            [
             0.4444444444444444,
             "#bd3786"
            ],
            [
             0.5555555555555556,
             "#d8576b"
            ],
            [
             0.6666666666666666,
             "#ed7953"
            ],
            [
             0.7777777777777778,
             "#fb9f3a"
            ],
            [
             0.8888888888888888,
             "#fdca26"
            ],
            [
             1,
             "#f0f921"
            ]
           ],
           "sequentialminus": [
            [
             0,
             "#0d0887"
            ],
            [
             0.1111111111111111,
             "#46039f"
            ],
            [
             0.2222222222222222,
             "#7201a8"
            ],
            [
             0.3333333333333333,
             "#9c179e"
            ],
            [
             0.4444444444444444,
             "#bd3786"
            ],
            [
             0.5555555555555556,
             "#d8576b"
            ],
            [
             0.6666666666666666,
             "#ed7953"
            ],
            [
             0.7777777777777778,
             "#fb9f3a"
            ],
            [
             0.8888888888888888,
             "#fdca26"
            ],
            [
             1,
             "#f0f921"
            ]
           ]
          },
          "colorway": [
           "#636efa",
           "#EF553B",
           "#00cc96",
           "#ab63fa",
           "#FFA15A",
           "#19d3f3",
           "#FF6692",
           "#B6E880",
           "#FF97FF",
           "#FECB52"
          ],
          "font": {
           "color": "#2a3f5f"
          },
          "geo": {
           "bgcolor": "white",
           "lakecolor": "white",
           "landcolor": "#E5ECF6",
           "showlakes": true,
           "showland": true,
           "subunitcolor": "white"
          },
          "hoverlabel": {
           "align": "left"
          },
          "hovermode": "closest",
          "mapbox": {
           "style": "light"
          },
          "paper_bgcolor": "white",
          "plot_bgcolor": "#E5ECF6",
          "polar": {
           "angularaxis": {
            "gridcolor": "white",
            "linecolor": "white",
            "ticks": ""
           },
           "bgcolor": "#E5ECF6",
           "radialaxis": {
            "gridcolor": "white",
            "linecolor": "white",
            "ticks": ""
           }
          },
          "scene": {
           "xaxis": {
            "backgroundcolor": "#E5ECF6",
            "gridcolor": "white",
            "gridwidth": 2,
            "linecolor": "white",
            "showbackground": true,
            "ticks": "",
            "zerolinecolor": "white"
           },
           "yaxis": {
            "backgroundcolor": "#E5ECF6",
            "gridcolor": "white",
            "gridwidth": 2,
            "linecolor": "white",
            "showbackground": true,
            "ticks": "",
            "zerolinecolor": "white"
           },
           "zaxis": {
            "backgroundcolor": "#E5ECF6",
            "gridcolor": "white",
            "gridwidth": 2,
            "linecolor": "white",
            "showbackground": true,
            "ticks": "",
            "zerolinecolor": "white"
           }
          },
          "shapedefaults": {
           "line": {
            "color": "#2a3f5f"
           }
          },
          "ternary": {
           "aaxis": {
            "gridcolor": "white",
            "linecolor": "white",
            "ticks": ""
           },
           "baxis": {
            "gridcolor": "white",
            "linecolor": "white",
            "ticks": ""
           },
           "bgcolor": "#E5ECF6",
           "caxis": {
            "gridcolor": "white",
            "linecolor": "white",
            "ticks": ""
           }
          },
          "title": {
           "x": 0.05
          },
          "xaxis": {
           "automargin": true,
           "gridcolor": "white",
           "linecolor": "white",
           "ticks": "",
           "title": {
            "standoff": 15
           },
           "zerolinecolor": "white",
           "zerolinewidth": 2
          },
          "yaxis": {
           "automargin": true,
           "gridcolor": "white",
           "linecolor": "white",
           "ticks": "",
           "title": {
            "standoff": 15
           },
           "zerolinecolor": "white",
           "zerolinewidth": 2
          }
         }
        },
        "title": {
         "text": "Standard deviation over epochs for Gradiometers",
         "x": 0.5,
         "xanchor": "center",
         "y": 0.85,
         "yanchor": "top"
        },
        "xaxis": {
         "rangeslider": {
          "visible": true
         },
         "tickmode": "array",
         "ticktext": [
          "MEG0112",
          "MEG0113",
          "MEG0122",
          "MEG0123",
          "MEG0132",
          "MEG0133",
          "MEG0142",
          "MEG0143",
          "MEG0212",
          "MEG0213",
          "MEG0222",
          "MEG0223",
          "MEG0232",
          "MEG0233",
          "MEG0242",
          "MEG0243",
          "MEG0312",
          "MEG0313",
          "MEG0322",
          "MEG0323",
          "MEG0332",
          "MEG0333",
          "MEG0342",
          "MEG0343",
          "MEG0412",
          "MEG0413",
          "MEG0422",
          "MEG0423",
          "MEG0432",
          "MEG0433",
          "MEG0442",
          "MEG0443",
          "MEG0512",
          "MEG0513",
          "MEG0522",
          "MEG0523",
          "MEG0532",
          "MEG0533",
          "MEG0542",
          "MEG0543",
          "MEG0612",
          "MEG0613",
          "MEG0622",
          "MEG0623",
          "MEG0632",
          "MEG0633",
          "MEG0642",
          "MEG0643",
          "MEG0712",
          "MEG0713",
          "MEG0722",
          "MEG0723",
          "MEG0732",
          "MEG0733",
          "MEG0742",
          "MEG0743",
          "MEG0812",
          "MEG0813",
          "MEG0822",
          "MEG0823",
          "MEG0912",
          "MEG0913",
          "MEG0922",
          "MEG0923",
          "MEG0932",
          "MEG0933",
          "MEG0942",
          "MEG0943",
          "MEG1012",
          "MEG1013",
          "MEG1022",
          "MEG1023",
          "MEG1032",
          "MEG1033",
          "MEG1042",
          "MEG1043",
          "MEG1112",
          "MEG1113",
          "MEG1122",
          "MEG1123",
          "MEG1132",
          "MEG1133",
          "MEG1142",
          "MEG1143",
          "MEG1212",
          "MEG1213",
          "MEG1222",
          "MEG1223",
          "MEG1232",
          "MEG1233",
          "MEG1242",
          "MEG1243",
          "MEG1312",
          "MEG1313",
          "MEG1322",
          "MEG1323",
          "MEG1332",
          "MEG1333",
          "MEG1342",
          "MEG1343",
          "MEG1412",
          "MEG1413",
          "MEG1422",
          "MEG1423",
          "MEG1432",
          "MEG1433",
          "MEG1442",
          "MEG1443",
          "MEG1512",
          "MEG1513",
          "MEG1522",
          "MEG1523",
          "MEG1532",
          "MEG1533",
          "MEG1542",
          "MEG1543",
          "MEG1612",
          "MEG1613",
          "MEG1622",
          "MEG1623",
          "MEG1632",
          "MEG1633",
          "MEG1642",
          "MEG1643",
          "MEG1712",
          "MEG1713",
          "MEG1722",
          "MEG1723",
          "MEG1732",
          "MEG1733",
          "MEG1742",
          "MEG1743",
          "MEG1812",
          "MEG1813",
          "MEG1822",
          "MEG1823",
          "MEG1832",
          "MEG1833",
          "MEG1842",
          "MEG1843",
          "MEG1912",
          "MEG1913",
          "MEG1922",
          "MEG1923",
          "MEG1932",
          "MEG1933",
          "MEG1942",
          "MEG1943",
          "MEG2012",
          "MEG2013",
          "MEG2022",
          "MEG2023",
          "MEG2032",
          "MEG2033",
          "MEG2042",
          "MEG2043",
          "MEG2112",
          "MEG2113",
          "MEG2122",
          "MEG2123",
          "MEG2132",
          "MEG2133",
          "MEG2142",
          "MEG2143",
          "MEG2212",
          "MEG2213",
          "MEG2222",
          "MEG2223",
          "MEG2232",
          "MEG2233",
          "MEG2242",
          "MEG2243",
          "MEG2312",
          "MEG2313",
          "MEG2322",
          "MEG2323",
          "MEG2332",
          "MEG2333",
          "MEG2342",
          "MEG2343",
          "MEG2412",
          "MEG2413",
          "MEG2422",
          "MEG2423",
          "MEG2432",
          "MEG2433",
          "MEG2442",
          "MEG2443",
          "MEG2512",
          "MEG2513",
          "MEG2522",
          "MEG2523",
          "MEG2532",
          "MEG2533",
          "MEG2542",
          "MEG2543",
          "MEG2612",
          "MEG2613",
          "MEG2622",
          "MEG2623",
          "MEG2632",
          "MEG2633",
          "MEG2642",
          "MEG2643"
         ],
         "tickvals": [
          0,
          1,
          2,
          3,
          4,
          5,
          6,
          7,
          8,
          9,
          10,
          11,
          12,
          13,
          14,
          15,
          16,
          17,
          18,
          19,
          20,
          21,
          22,
          23,
          24,
          25,
          26,
          27,
          28,
          29,
          30,
          31,
          32,
          33,
          34,
          35,
          36,
          37,
          38,
          39,
          40,
          41,
          42,
          43,
          44,
          45,
          46,
          47,
          48,
          49,
          50,
          51,
          52,
          53,
          54,
          55,
          56,
          57,
          58,
          59,
          60,
          61,
          62,
          63,
          64,
          65,
          66,
          67,
          68,
          69,
          70,
          71,
          72,
          73,
          74,
          75,
          76,
          77,
          78,
          79,
          80,
          81,
          82,
          83,
          84,
          85,
          86,
          87,
          88,
          89,
          90,
          91,
          92,
          93,
          94,
          95,
          96,
          97,
          98,
          99,
          100,
          101,
          102,
          103,
          104,
          105,
          106,
          107,
          108,
          109,
          110,
          111,
          112,
          113,
          114,
          115,
          116,
          117,
          118,
          119,
          120,
          121,
          122,
          123,
          124,
          125,
          126,
          127,
          128,
          129,
          130,
          131,
          132,
          133,
          134,
          135,
          136,
          137,
          138,
          139,
          140,
          141,
          142,
          143,
          144,
          145,
          146,
          147,
          148,
          149,
          150,
          151,
          152,
          153,
          154,
          155,
          156,
          157,
          158,
          159,
          160,
          161,
          162,
          163,
          164,
          165,
          166,
          167,
          168,
          169,
          170,
          171,
          172,
          173,
          174,
          175,
          176,
          177,
          178,
          179,
          180,
          181,
          182,
          183,
          184,
          185,
          186,
          187,
          188,
          189,
          190,
          191,
          192,
          193,
          194,
          195,
          196,
          197,
          198,
          199,
          200,
          201,
          202,
          203
         ]
        },
        "yaxis": {
         "exponentformat": "e",
         "showexponent": "all",
         "title": {
          "text": "Standard deviation in Tesla/meter"
         }
        }
       }
      }
     },
     "metadata": {},
     "output_type": "display_data"
    }
   ],
   "source": [
    "import configparser\n",
    "config = configparser.ConfigParser()\n",
    "config.read('settings.ini')\n",
    "sid = '1'\n",
    "\n",
    "list_of_figure_paths_RMSE, list_of_figures_RMSE = MEG_QC_measures(sid, config)"
   ]
  },
  {
   "cell_type": "code",
   "execution_count": 4,
   "metadata": {},
   "outputs": [
    {
     "data": {
      "text/plain": [
       "4"
      ]
     },
     "execution_count": 4,
     "metadata": {},
     "output_type": "execute_result"
    }
   ],
   "source": [
    "len(list_of_figures_RMSE)\n"
   ]
  }
 ],
 "metadata": {
  "kernelspec": {
   "display_name": "Python 3.9.13 ('mne_new')",
   "language": "python",
   "name": "python3"
  },
  "language_info": {
   "codemirror_mode": {
    "name": "ipython",
    "version": 3
   },
   "file_extension": ".py",
   "mimetype": "text/x-python",
   "name": "python",
   "nbconvert_exporter": "python",
   "pygments_lexer": "ipython3",
   "version": "3.9.13"
  },
  "orig_nbformat": 4,
  "vscode": {
   "interpreter": {
    "hash": "d401ab1bf6dd7bb97662b0feb1321a641d60d04842bfa92b47f7871360972b5d"
   }
  }
 },
 "nbformat": 4,
 "nbformat_minor": 2
}
