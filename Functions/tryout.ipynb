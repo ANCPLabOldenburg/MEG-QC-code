{
 "cells": [
  {
   "cell_type": "code",
   "execution_count": 1,
   "metadata": {},
   "outputs": [],
   "source": [
    "# This notebook checks MNE functions for ECG and EOG detection\n",
    "# Cropped data is used here (5 minutes only), tried on whole data - takes forever.\n",
    "\n",
    "\n",
    "#Load data, make folders\n",
    "import numpy as np\n",
    "import matplotlib.pyplot as plt\n",
    "import plotly.graph_objects as go\n",
    "import mne\n",
    "from mne.time_frequency import tfr_morlet, psd_multitaper, psd_welch\n",
    "import configparser\n",
    "import ancpbids\n",
    "\n",
    "from main_meg_qc import make_derivative_meg_qc, sanity_check, initial_stuff\n",
    "from RMSE_meq_qc import RMSE_meg_qc\n",
    "from PSD_meg_qc import PSD_meg_qc\n",
    "from Peaks_auto_meg_qc import PP_auto_meg_qc\n"
   ]
  },
  {
   "cell_type": "code",
   "execution_count": 2,
   "metadata": {},
   "outputs": [
    {
     "name": "stdout",
     "output_type": "stream",
     "text": [
      "Opening raw data file /Volumes/M2_DATA/MEG_QC_stuff/data/from openneuro/ds003483/sub-009/ses-1/meg/sub-009_ses-1_task-deduction_run-1_meg.fif...\n",
      "    Range : 60000 ... 1255999 =     60.000 ...  1255.999 secs\n",
      "Ready.\n",
      "Stimulus channels detected: ['STI101', 'STI201', 'STI301']\n",
      "9 events found\n",
      "Event IDs: [2 4 8]\n",
      "Trigger channel has a non-zero initial value of 3840 (consider using initial_event=True to detect this event)\n",
      "Not setting metadata\n",
      "9 matching events found\n",
      "No baseline correction applied\n",
      "0 projection items activated\n",
      "Loading data for 9 events and 1201 original time points ...\n",
      "0 bad epochs dropped\n",
      "Not setting metadata\n",
      "9 matching events found\n",
      "No baseline correction applied\n",
      "0 projection items activated\n",
      "Loading data for 9 events and 1201 original time points ...\n",
      "0 bad epochs dropped\n"
     ]
    },
    {
     "data": {
      "application/vnd.plotly.v1+json": {
       "config": {
        "plotlyServerURL": "https://plot.ly"
       },
       "data": [
        {
         "boxpoints": "all",
         "hovertemplate": "%{text}<br>PP_Amplitude: %{x: .0f}",
         "line": {
          "width": 1
         },
         "marker": {
          "size": 5
         },
         "name": "",
         "opacity": 0.7,
         "pointpos": 0,
         "text": [
          "MEG0111",
          "MEG0121",
          "MEG0131",
          "MEG0141",
          "MEG0211",
          "MEG0221",
          "MEG0231",
          "MEG0241",
          "MEG0311",
          "MEG0321",
          "MEG0331",
          "MEG0341",
          "MEG0411",
          "MEG0421",
          "MEG0431",
          "MEG0441",
          "MEG0511",
          "MEG0521",
          "MEG0531",
          "MEG0541",
          "MEG0611",
          "MEG0621",
          "MEG0631",
          "MEG0641",
          "MEG0711",
          "MEG0721",
          "MEG0731",
          "MEG0741",
          "MEG0811",
          "MEG0821",
          "MEG0911",
          "MEG0921",
          "MEG0931",
          "MEG0941",
          "MEG1011",
          "MEG1021",
          "MEG1031",
          "MEG1041",
          "MEG1111",
          "MEG1121",
          "MEG1131",
          "MEG1141",
          "MEG1211",
          "MEG1221",
          "MEG1231",
          "MEG1241",
          "MEG1311",
          "MEG1321",
          "MEG1331",
          "MEG1341",
          "MEG1411",
          "MEG1421",
          "MEG1431",
          "MEG1441",
          "MEG1511",
          "MEG1521",
          "MEG1531",
          "MEG1541",
          "MEG1611",
          "MEG1621",
          "MEG1631",
          "MEG1641",
          "MEG1711",
          "MEG1721",
          "MEG1731",
          "MEG1741",
          "MEG1811",
          "MEG1821",
          "MEG1831",
          "MEG1841",
          "MEG1911",
          "MEG1921",
          "MEG1931",
          "MEG1941",
          "MEG2011",
          "MEG2021",
          "MEG2031",
          "MEG2041",
          "MEG2111",
          "MEG2121",
          "MEG2131",
          "MEG2141",
          "MEG2211",
          "MEG2221",
          "MEG2231",
          "MEG2241",
          "MEG2311",
          "MEG2321",
          "MEG2331",
          "MEG2341",
          "MEG2411",
          "MEG2421",
          "MEG2431",
          "MEG2441",
          "MEG2511",
          "MEG2521",
          "MEG2531",
          "MEG2541",
          "MEG2611",
          "MEG2621",
          "MEG2631",
          "MEG2641"
         ],
         "type": "box",
         "x": [
          1.971055014709855e-12,
          2.5464386898224435e-12,
          1.8033353547847219e-12,
          1.7704095112057419e-12,
          1.7923851655048417e-12,
          1.6615465759195241e-12,
          1.6941806020425399e-12,
          1.602184353029564e-12,
          1.5657573988180737e-12,
          1.509634072005317e-12,
          1.3271631988588904e-12,
          1.8120712929187991e-12,
          1.6167927367314107e-12,
          1.4976159257477057e-12,
          2.0202147234593323e-12,
          1.874101340669765e-12,
          1.3801804617889461e-12,
          1.3499821126895276e-12,
          1.0902293312154671e-12,
          1.2558743973506507e-12,
          1.1802505636585453e-12,
          1.1824786836030088e-12,
          1.4321263545654804e-12,
          1.3202548006550613e-12,
          1.8865206328148877e-12,
          1.862959681220276e-12,
          2.057428052193466e-12,
          1.9036293523571126e-12,
          1.1379916891295818e-12,
          1.0995339571684895e-12,
          1.30786281710207e-12,
          1.4649580175088384e-12,
          1.4026356942738904e-12,
          1.1798878479187961e-12,
          1.0980885321331534e-12,
          1.2353656898912753e-12,
          1.2020651348759197e-12,
          1.3379114475465907e-12,
          1.4790484899674454e-12,
          1.7024576982877792e-12,
          1.8510787987639e-12,
          1.9374702269716055e-12,
          1.691768916806919e-12,
          2.0161591763378613e-12,
          1.7756818050471776e-12,
          1.5199244446144964e-12,
          1.944583864142143e-12,
          2.0583365469907585e-12,
          1.677479339418585e-12,
          2.0576105854641628e-12,
          2.599916278756205e-12,
          1.9757139046472005e-12,
          1.5550615759583513e-12,
          1.9952167524827784e-12,
          1.5791630824890488e-12,
          1.5292384302584879e-12,
          1.684336790314753e-12,
          1.5334885281420824e-12,
          1.649221952984709e-12,
          1.7504136334473842e-12,
          1.8650226866814074e-12,
          1.6838942415528775e-12,
          1.700207171699214e-12,
          1.548254354607817e-12,
          1.4993527893244079e-12,
          1.4114420614332174e-12,
          1.9986772648201735e-12,
          1.971874040843487e-12,
          1.8417343507616307e-12,
          1.97328869473142e-12,
          1.8860541862048282e-12,
          1.6331393268910668e-12,
          1.328854535079636e-12,
          1.7509373762058992e-12,
          1.7618362055280653e-12,
          2.037814095847701e-12,
          2.0795515724666916e-12,
          1.8959038936534433e-12,
          1.937837041365025e-12,
          1.733760205492088e-12,
          1.4735762322451117e-12,
          1.3305512136267926e-12,
          1.9774451559835065e-12,
          2.0305222855182487e-12,
          1.9354801015547605e-12,
          1.7949060709965907e-12,
          1.9547011757527053e-12,
          1.6786546056862653e-12,
          1.6655591561431983e-12,
          1.9672795371652897e-12,
          2.0741097924787696e-12,
          1.5608095719450342e-12,
          1.6682987855442237e-12,
          1.8519191401259987e-12,
          1.3956690561043125e-12,
          1.4503585103296094e-12,
          1.3185912552157458e-12,
          1.430855139744416e-12,
          1.6983654923850813e-12,
          1.453680133532284e-12,
          1.3611251455044512e-12,
          1.507799951233773e-12
         ]
        }
       ],
       "layout": {
        "template": {
         "data": {
          "bar": [
           {
            "error_x": {
             "color": "#2a3f5f"
            },
            "error_y": {
             "color": "#2a3f5f"
            },
            "marker": {
             "line": {
              "color": "#E5ECF6",
              "width": 0.5
             },
             "pattern": {
              "fillmode": "overlay",
              "size": 10,
              "solidity": 0.2
             }
            },
            "type": "bar"
           }
          ],
          "barpolar": [
           {
            "marker": {
             "line": {
              "color": "#E5ECF6",
              "width": 0.5
             },
             "pattern": {
              "fillmode": "overlay",
              "size": 10,
              "solidity": 0.2
             }
            },
            "type": "barpolar"
           }
          ],
          "carpet": [
           {
            "aaxis": {
             "endlinecolor": "#2a3f5f",
             "gridcolor": "white",
             "linecolor": "white",
             "minorgridcolor": "white",
             "startlinecolor": "#2a3f5f"
            },
            "baxis": {
             "endlinecolor": "#2a3f5f",
             "gridcolor": "white",
             "linecolor": "white",
             "minorgridcolor": "white",
             "startlinecolor": "#2a3f5f"
            },
            "type": "carpet"
           }
          ],
          "choropleth": [
           {
            "colorbar": {
             "outlinewidth": 0,
             "ticks": ""
            },
            "type": "choropleth"
           }
          ],
          "contour": [
           {
            "colorbar": {
             "outlinewidth": 0,
             "ticks": ""
            },
            "colorscale": [
             [
              0,
              "#0d0887"
             ],
             [
              0.1111111111111111,
              "#46039f"
             ],
             [
              0.2222222222222222,
              "#7201a8"
             ],
             [
              0.3333333333333333,
              "#9c179e"
             ],
             [
              0.4444444444444444,
              "#bd3786"
             ],
             [
              0.5555555555555556,
              "#d8576b"
             ],
             [
              0.6666666666666666,
              "#ed7953"
             ],
             [
              0.7777777777777778,
              "#fb9f3a"
             ],
             [
              0.8888888888888888,
              "#fdca26"
             ],
             [
              1,
              "#f0f921"
             ]
            ],
            "type": "contour"
           }
          ],
          "contourcarpet": [
           {
            "colorbar": {
             "outlinewidth": 0,
             "ticks": ""
            },
            "type": "contourcarpet"
           }
          ],
          "heatmap": [
           {
            "colorbar": {
             "outlinewidth": 0,
             "ticks": ""
            },
            "colorscale": [
             [
              0,
              "#0d0887"
             ],
             [
              0.1111111111111111,
              "#46039f"
             ],
             [
              0.2222222222222222,
              "#7201a8"
             ],
             [
              0.3333333333333333,
              "#9c179e"
             ],
             [
              0.4444444444444444,
              "#bd3786"
             ],
             [
              0.5555555555555556,
              "#d8576b"
             ],
             [
              0.6666666666666666,
              "#ed7953"
             ],
             [
              0.7777777777777778,
              "#fb9f3a"
             ],
             [
              0.8888888888888888,
              "#fdca26"
             ],
             [
              1,
              "#f0f921"
             ]
            ],
            "type": "heatmap"
           }
          ],
          "heatmapgl": [
           {
            "colorbar": {
             "outlinewidth": 0,
             "ticks": ""
            },
            "colorscale": [
             [
              0,
              "#0d0887"
             ],
             [
              0.1111111111111111,
              "#46039f"
             ],
             [
              0.2222222222222222,
              "#7201a8"
             ],
             [
              0.3333333333333333,
              "#9c179e"
             ],
             [
              0.4444444444444444,
              "#bd3786"
             ],
             [
              0.5555555555555556,
              "#d8576b"
             ],
             [
              0.6666666666666666,
              "#ed7953"
             ],
             [
              0.7777777777777778,
              "#fb9f3a"
             ],
             [
              0.8888888888888888,
              "#fdca26"
             ],
             [
              1,
              "#f0f921"
             ]
            ],
            "type": "heatmapgl"
           }
          ],
          "histogram": [
           {
            "marker": {
             "pattern": {
              "fillmode": "overlay",
              "size": 10,
              "solidity": 0.2
             }
            },
            "type": "histogram"
           }
          ],
          "histogram2d": [
           {
            "colorbar": {
             "outlinewidth": 0,
             "ticks": ""
            },
            "colorscale": [
             [
              0,
              "#0d0887"
             ],
             [
              0.1111111111111111,
              "#46039f"
             ],
             [
              0.2222222222222222,
              "#7201a8"
             ],
             [
              0.3333333333333333,
              "#9c179e"
             ],
             [
              0.4444444444444444,
              "#bd3786"
             ],
             [
              0.5555555555555556,
              "#d8576b"
             ],
             [
              0.6666666666666666,
              "#ed7953"
             ],
             [
              0.7777777777777778,
              "#fb9f3a"
             ],
             [
              0.8888888888888888,
              "#fdca26"
             ],
             [
              1,
              "#f0f921"
             ]
            ],
            "type": "histogram2d"
           }
          ],
          "histogram2dcontour": [
           {
            "colorbar": {
             "outlinewidth": 0,
             "ticks": ""
            },
            "colorscale": [
             [
              0,
              "#0d0887"
             ],
             [
              0.1111111111111111,
              "#46039f"
             ],
             [
              0.2222222222222222,
              "#7201a8"
             ],
             [
              0.3333333333333333,
              "#9c179e"
             ],
             [
              0.4444444444444444,
              "#bd3786"
             ],
             [
              0.5555555555555556,
              "#d8576b"
             ],
             [
              0.6666666666666666,
              "#ed7953"
             ],
             [
              0.7777777777777778,
              "#fb9f3a"
             ],
             [
              0.8888888888888888,
              "#fdca26"
             ],
             [
              1,
              "#f0f921"
             ]
            ],
            "type": "histogram2dcontour"
           }
          ],
          "mesh3d": [
           {
            "colorbar": {
             "outlinewidth": 0,
             "ticks": ""
            },
            "type": "mesh3d"
           }
          ],
          "parcoords": [
           {
            "line": {
             "colorbar": {
              "outlinewidth": 0,
              "ticks": ""
             }
            },
            "type": "parcoords"
           }
          ],
          "pie": [
           {
            "automargin": true,
            "type": "pie"
           }
          ],
          "scatter": [
           {
            "fillpattern": {
             "fillmode": "overlay",
             "size": 10,
             "solidity": 0.2
            },
            "type": "scatter"
           }
          ],
          "scatter3d": [
           {
            "line": {
             "colorbar": {
              "outlinewidth": 0,
              "ticks": ""
             }
            },
            "marker": {
             "colorbar": {
              "outlinewidth": 0,
              "ticks": ""
             }
            },
            "type": "scatter3d"
           }
          ],
          "scattercarpet": [
           {
            "marker": {
             "colorbar": {
              "outlinewidth": 0,
              "ticks": ""
             }
            },
            "type": "scattercarpet"
           }
          ],
          "scattergeo": [
           {
            "marker": {
             "colorbar": {
              "outlinewidth": 0,
              "ticks": ""
             }
            },
            "type": "scattergeo"
           }
          ],
          "scattergl": [
           {
            "marker": {
             "colorbar": {
              "outlinewidth": 0,
              "ticks": ""
             }
            },
            "type": "scattergl"
           }
          ],
          "scattermapbox": [
           {
            "marker": {
             "colorbar": {
              "outlinewidth": 0,
              "ticks": ""
             }
            },
            "type": "scattermapbox"
           }
          ],
          "scatterpolar": [
           {
            "marker": {
             "colorbar": {
              "outlinewidth": 0,
              "ticks": ""
             }
            },
            "type": "scatterpolar"
           }
          ],
          "scatterpolargl": [
           {
            "marker": {
             "colorbar": {
              "outlinewidth": 0,
              "ticks": ""
             }
            },
            "type": "scatterpolargl"
           }
          ],
          "scatterternary": [
           {
            "marker": {
             "colorbar": {
              "outlinewidth": 0,
              "ticks": ""
             }
            },
            "type": "scatterternary"
           }
          ],
          "surface": [
           {
            "colorbar": {
             "outlinewidth": 0,
             "ticks": ""
            },
            "colorscale": [
             [
              0,
              "#0d0887"
             ],
             [
              0.1111111111111111,
              "#46039f"
             ],
             [
              0.2222222222222222,
              "#7201a8"
             ],
             [
              0.3333333333333333,
              "#9c179e"
             ],
             [
              0.4444444444444444,
              "#bd3786"
             ],
             [
              0.5555555555555556,
              "#d8576b"
             ],
             [
              0.6666666666666666,
              "#ed7953"
             ],
             [
              0.7777777777777778,
              "#fb9f3a"
             ],
             [
              0.8888888888888888,
              "#fdca26"
             ],
             [
              1,
              "#f0f921"
             ]
            ],
            "type": "surface"
           }
          ],
          "table": [
           {
            "cells": {
             "fill": {
              "color": "#EBF0F8"
             },
             "line": {
              "color": "white"
             }
            },
            "header": {
             "fill": {
              "color": "#C8D4E3"
             },
             "line": {
              "color": "white"
             }
            },
            "type": "table"
           }
          ]
         },
         "layout": {
          "annotationdefaults": {
           "arrowcolor": "#2a3f5f",
           "arrowhead": 0,
           "arrowwidth": 1
          },
          "autotypenumbers": "strict",
          "coloraxis": {
           "colorbar": {
            "outlinewidth": 0,
            "ticks": ""
           }
          },
          "colorscale": {
           "diverging": [
            [
             0,
             "#8e0152"
            ],
            [
             0.1,
             "#c51b7d"
            ],
            [
             0.2,
             "#de77ae"
            ],
            [
             0.3,
             "#f1b6da"
            ],
            [
             0.4,
             "#fde0ef"
            ],
            [
             0.5,
             "#f7f7f7"
            ],
            [
             0.6,
             "#e6f5d0"
            ],
            [
             0.7,
             "#b8e186"
            ],
            [
             0.8,
             "#7fbc41"
            ],
            [
             0.9,
             "#4d9221"
            ],
            [
             1,
             "#276419"
            ]
           ],
           "sequential": [
            [
             0,
             "#0d0887"
            ],
            [
             0.1111111111111111,
             "#46039f"
            ],
            [
             0.2222222222222222,
             "#7201a8"
            ],
            [
             0.3333333333333333,
             "#9c179e"
            ],
            [
             0.4444444444444444,
             "#bd3786"
            ],
            [
             0.5555555555555556,
             "#d8576b"
            ],
            [
             0.6666666666666666,
             "#ed7953"
            ],
            [
             0.7777777777777778,
             "#fb9f3a"
            ],
            [
             0.8888888888888888,
             "#fdca26"
            ],
            [
             1,
             "#f0f921"
            ]
           ],
           "sequentialminus": [
            [
             0,
             "#0d0887"
            ],
            [
             0.1111111111111111,
             "#46039f"
            ],
            [
             0.2222222222222222,
             "#7201a8"
            ],
            [
             0.3333333333333333,
             "#9c179e"
            ],
            [
             0.4444444444444444,
             "#bd3786"
            ],
            [
             0.5555555555555556,
             "#d8576b"
            ],
            [
             0.6666666666666666,
             "#ed7953"
            ],
            [
             0.7777777777777778,
             "#fb9f3a"
            ],
            [
             0.8888888888888888,
             "#fdca26"
            ],
            [
             1,
             "#f0f921"
            ]
           ]
          },
          "colorway": [
           "#636efa",
           "#EF553B",
           "#00cc96",
           "#ab63fa",
           "#FFA15A",
           "#19d3f3",
           "#FF6692",
           "#B6E880",
           "#FF97FF",
           "#FECB52"
          ],
          "font": {
           "color": "#2a3f5f"
          },
          "geo": {
           "bgcolor": "white",
           "lakecolor": "white",
           "landcolor": "#E5ECF6",
           "showlakes": true,
           "showland": true,
           "subunitcolor": "white"
          },
          "hoverlabel": {
           "align": "left"
          },
          "hovermode": "closest",
          "mapbox": {
           "style": "light"
          },
          "paper_bgcolor": "white",
          "plot_bgcolor": "#E5ECF6",
          "polar": {
           "angularaxis": {
            "gridcolor": "white",
            "linecolor": "white",
            "ticks": ""
           },
           "bgcolor": "#E5ECF6",
           "radialaxis": {
            "gridcolor": "white",
            "linecolor": "white",
            "ticks": ""
           }
          },
          "scene": {
           "xaxis": {
            "backgroundcolor": "#E5ECF6",
            "gridcolor": "white",
            "gridwidth": 2,
            "linecolor": "white",
            "showbackground": true,
            "ticks": "",
            "zerolinecolor": "white"
           },
           "yaxis": {
            "backgroundcolor": "#E5ECF6",
            "gridcolor": "white",
            "gridwidth": 2,
            "linecolor": "white",
            "showbackground": true,
            "ticks": "",
            "zerolinecolor": "white"
           },
           "zaxis": {
            "backgroundcolor": "#E5ECF6",
            "gridcolor": "white",
            "gridwidth": 2,
            "linecolor": "white",
            "showbackground": true,
            "ticks": "",
            "zerolinecolor": "white"
           }
          },
          "shapedefaults": {
           "line": {
            "color": "#2a3f5f"
           }
          },
          "ternary": {
           "aaxis": {
            "gridcolor": "white",
            "linecolor": "white",
            "ticks": ""
           },
           "baxis": {
            "gridcolor": "white",
            "linecolor": "white",
            "ticks": ""
           },
           "bgcolor": "#E5ECF6",
           "caxis": {
            "gridcolor": "white",
            "linecolor": "white",
            "ticks": ""
           }
          },
          "title": {
           "x": 0.05
          },
          "xaxis": {
           "automargin": true,
           "gridcolor": "white",
           "linecolor": "white",
           "ticks": "",
           "title": {
            "standoff": 15
           },
           "zerolinecolor": "white",
           "zerolinewidth": 2
          },
          "yaxis": {
           "automargin": true,
           "gridcolor": "white",
           "linecolor": "white",
           "ticks": "",
           "title": {
            "standoff": 15
           },
           "zerolinecolor": "white",
           "zerolinewidth": 2
          }
         }
        },
        "title": {
         "text": "Peak-to-peak amplitude of the data for Magnetometers over the entire time series",
         "x": 0.5,
         "xanchor": "center",
         "y": 0.85,
         "yanchor": "top"
        },
        "xaxis": {
         "exponentformat": "e",
         "showexponent": "all",
         "title": {
          "text": "Peak-to-peak amplitude in Tesla"
         }
        },
        "yaxis": {
         "showticklabels": false,
         "visible": false
        }
       }
      }
     },
     "metadata": {},
     "output_type": "display_data"
    },
    {
     "data": {
      "application/vnd.plotly.v1+json": {
       "config": {
        "plotlyServerURL": "https://plot.ly"
       },
       "data": [
        {
         "boxpoints": "all",
         "hovertemplate": "%{text}<br>PP_Amplitude: %{x: .0f}",
         "line": {
          "width": 1
         },
         "marker": {
          "size": 5
         },
         "name": "",
         "opacity": 0.7,
         "pointpos": 0,
         "text": [
          "MEG0113",
          "MEG0112",
          "MEG0122",
          "MEG0123",
          "MEG0132",
          "MEG0133",
          "MEG0143",
          "MEG0142",
          "MEG0213",
          "MEG0212",
          "MEG0222",
          "MEG0223",
          "MEG0232",
          "MEG0233",
          "MEG0243",
          "MEG0242",
          "MEG0313",
          "MEG0312",
          "MEG0322",
          "MEG0323",
          "MEG0333",
          "MEG0332",
          "MEG0343",
          "MEG0342",
          "MEG0413",
          "MEG0412",
          "MEG0422",
          "MEG0423",
          "MEG0432",
          "MEG0433",
          "MEG0443",
          "MEG0442",
          "MEG0513",
          "MEG0512",
          "MEG0523",
          "MEG0522",
          "MEG0532",
          "MEG0533",
          "MEG0542",
          "MEG0543",
          "MEG0613",
          "MEG0612",
          "MEG0622",
          "MEG0623",
          "MEG0633",
          "MEG0632",
          "MEG0642",
          "MEG0643",
          "MEG0713",
          "MEG0712",
          "MEG0723",
          "MEG0722",
          "MEG0733",
          "MEG0732",
          "MEG0743",
          "MEG0742",
          "MEG0813",
          "MEG0812",
          "MEG0822",
          "MEG0823",
          "MEG0913",
          "MEG0912",
          "MEG0923",
          "MEG0922",
          "MEG0932",
          "MEG0933",
          "MEG0942",
          "MEG0943",
          "MEG1013",
          "MEG1012",
          "MEG1023",
          "MEG1022",
          "MEG1032",
          "MEG1033",
          "MEG1043",
          "MEG1042",
          "MEG1112",
          "MEG1113",
          "MEG1123",
          "MEG1122",
          "MEG1133",
          "MEG1132",
          "MEG1142",
          "MEG1143",
          "MEG1213",
          "MEG1212",
          "MEG1223",
          "MEG1222",
          "MEG1232",
          "MEG1233",
          "MEG1243",
          "MEG1242",
          "MEG1312",
          "MEG1313",
          "MEG1323",
          "MEG1322",
          "MEG1333",
          "MEG1332",
          "MEG1342",
          "MEG1343",
          "MEG1412",
          "MEG1413",
          "MEG1423",
          "MEG1422",
          "MEG1433",
          "MEG1432",
          "MEG1442",
          "MEG1443",
          "MEG1512",
          "MEG1513",
          "MEG1522",
          "MEG1523",
          "MEG1533",
          "MEG1532",
          "MEG1543",
          "MEG1542",
          "MEG1613",
          "MEG1612",
          "MEG1622",
          "MEG1623",
          "MEG1632",
          "MEG1633",
          "MEG1643",
          "MEG1642",
          "MEG1713",
          "MEG1712",
          "MEG1722",
          "MEG1723",
          "MEG1732",
          "MEG1733",
          "MEG1743",
          "MEG1742",
          "MEG1813",
          "MEG1812",
          "MEG1822",
          "MEG1823",
          "MEG1832",
          "MEG1833",
          "MEG1843",
          "MEG1842",
          "MEG1912",
          "MEG1913",
          "MEG1923",
          "MEG1922",
          "MEG1932",
          "MEG1933",
          "MEG1943",
          "MEG1942",
          "MEG2013",
          "MEG2012",
          "MEG2023",
          "MEG2022",
          "MEG2032",
          "MEG2033",
          "MEG2042",
          "MEG2043",
          "MEG2113",
          "MEG2112",
          "MEG2122",
          "MEG2123",
          "MEG2133",
          "MEG2132",
          "MEG2143",
          "MEG2142",
          "MEG2212",
          "MEG2213",
          "MEG2223",
          "MEG2222",
          "MEG2233",
          "MEG2232",
          "MEG2242",
          "MEG2243",
          "MEG2312",
          "MEG2313",
          "MEG2323",
          "MEG2322",
          "MEG2332",
          "MEG2333",
          "MEG2343",
          "MEG2342",
          "MEG2412",
          "MEG2413",
          "MEG2423",
          "MEG2422",
          "MEG2433",
          "MEG2432",
          "MEG2442",
          "MEG2443",
          "MEG2512",
          "MEG2513",
          "MEG2522",
          "MEG2523",
          "MEG2533",
          "MEG2532",
          "MEG2543",
          "MEG2542",
          "MEG2612",
          "MEG2613",
          "MEG2623",
          "MEG2622",
          "MEG2633",
          "MEG2632",
          "MEG2642",
          "MEG2643"
         ],
         "type": "box",
         "x": [
          3.3109063073769354e-11,
          3.285959079226881e-11,
          3.2325751834757596e-11,
          3.05812586416093e-11,
          3.092217677691244e-11,
          3.375848915503687e-11,
          2.7763465140823738e-11,
          2.739540850356243e-11,
          3.2480155187001386e-11,
          3.316389152190292e-11,
          3.399921633191288e-11,
          3.4340485026311365e-11,
          3.9169387288344396e-11,
          4.076843735143579e-11,
          3.799631920574413e-11,
          3.912460541347557e-11,
          3.427090901571995e-11,
          3.0641923968696277e-11,
          3.257465893616716e-11,
          2.761100059539609e-11,
          2.8046475818544408e-11,
          2.778344960764171e-11,
          3.3339398297437624e-11,
          2.8550398742232503e-11,
          3.426320630955017e-11,
          3.5121383419742204e-11,
          3.785106925440455e-11,
          4.17212226141184e-11,
          4.5755375773697497e-11,
          3.831980747947665e-11,
          4.347056558317055e-11,
          4.353521362917107e-11,
          2.813624233160101e-11,
          3.097057387185625e-11,
          2.7006735318023527e-11,
          3.144873387552185e-11,
          2.3743348599092836e-11,
          2.706459139322196e-11,
          2.6630752527393324e-11,
          2.6018857201151446e-11,
          2.1471635928804745e-11,
          2.480251068894295e-11,
          2.852447505391587e-11,
          2.816806009028878e-11,
          3.816186004495521e-11,
          3.232467941194947e-11,
          2.7034222459238388e-11,
          2.7666352410860556e-11,
          4.5994075502652475e-11,
          3.429917063025058e-11,
          4.565893379420828e-11,
          3.554573788229773e-11,
          4.3515988916943945e-11,
          4.287674309697779e-11,
          4.1254116604903505e-11,
          5.29064258221979e-11,
          2.8674502474464292e-11,
          3.050174491282529e-11,
          2.331030708080801e-11,
          2.602349341896016e-11,
          3.3413461242192724e-11,
          2.552762290545526e-11,
          3.2921409507123276e-11,
          2.6223308128376823e-11,
          2.6895899870335452e-11,
          2.4033295906909297e-11,
          2.262692046513258e-11,
          2.4440423286537316e-11,
          2.019928309242126e-11,
          2.6334068600495362e-11,
          2.1143164196274703e-11,
          2.4901506534219266e-11,
          2.8630565445957378e-11,
          2.7853792161825448e-11,
          3.9531875472477883e-11,
          3.193844494488287e-11,
          3.8311449142919844e-11,
          4.146756356364366e-11,
          3.63461181795092e-11,
          3.2997400361874284e-11,
          5.084667227853316e-11,
          4.9502362102205826e-11,
          4.853120734247837e-11,
          4.3418010701929336e-11,
          3.518445425268035e-11,
          3.048374583284265e-11,
          3.3438663490073856e-11,
          2.8265739119426507e-11,
          3.297321867723817e-11,
          2.879768054558998e-11,
          2.984887987808992e-11,
          2.7084997535333412e-11,
          3.832203562030715e-11,
          3.29291040750741e-11,
          3.410163182211704e-11,
          3.2858300335053466e-11,
          3.998224183002227e-11,
          4.044803707664959e-11,
          4.032448171826443e-11,
          4.441065410578927e-11,
          3.7816052622080805e-11,
          2.975646230183107e-11,
          3.730730132479469e-11,
          2.59170410480066e-11,
          2.746630562767933e-11,
          2.3776073503547554e-11,
          3.024083947677335e-11,
          3.1871495528822407e-11,
          2.8976334883683003e-11,
          3.1981058968793254e-11,
          3.1584139400741975e-11,
          2.67648523055337e-11,
          2.6482672822230728e-11,
          2.900907042586662e-11,
          2.4964584443055113e-11,
          2.9325825908000544e-11,
          3.745082204335065e-11,
          3.176516675138972e-11,
          4.2095375668006436e-11,
          3.557450138790262e-11,
          4.481974240789939e-11,
          3.638329520835083e-11,
          3.847349027104454e-11,
          3.384007595928593e-11,
          3.0508742285083795e-11,
          3.015510448978425e-11,
          3.7577108512954336e-11,
          2.8937475518615973e-11,
          3.773841556918426e-11,
          3.748647116344949e-11,
          2.6496662510304727e-11,
          4.4740043506213265e-11,
          4.172144283855178e-11,
          4.8630238280542867e-11,
          4.3096534772625383e-11,
          5.1010960288793404e-11,
          4.4007618100242735e-11,
          5.2809400146637815e-11,
          3.9948953740612496e-11,
          3.9551869101159725e-11,
          4.762100915464599e-11,
          4.730897177411492e-11,
          4.016691024643202e-11,
          5.209401043845688e-11,
          3.3829253548259565e-11,
          5.47117287841166e-11,
          4.291204152329015e-11,
          4.015126715495908e-11,
          5.159932534911959e-11,
          5.690142684677445e-11,
          4.811439441725773e-11,
          4.705490586199147e-11,
          4.5173529369140385e-11,
          5.168426943050744e-11,
          4.8674021223107174e-11,
          5.941205559684657e-11,
          4.204172104603103e-11,
          4.674446288954544e-11,
          3.3107759106555443e-11,
          3.4581847159671926e-11,
          2.8490209852849747e-11,
          2.8324431549889377e-11,
          2.6723092736218243e-11,
          4.0341450330527566e-11,
          4.6605658187375294e-11,
          5.41978295061752e-11,
          5.452692587319633e-11,
          4.554607315745011e-11,
          4.2923126466837984e-11,
          4.118966028414746e-11,
          4.812055233298106e-11,
          4.5079308782677374e-11,
          4.1308321160530416e-11,
          3.867893770180352e-11,
          3.7878778278744384e-11,
          3.530444151751003e-11,
          3.4180573609894e-11,
          3.4092935536110634e-11,
          4.010127494552013e-11,
          4.1713136827157605e-11,
          4.051896599439072e-11,
          4.212495694851089e-11,
          4.21930568224831e-11,
          3.5235589211740813e-11,
          3.793670454054995e-11,
          3.5263938381278436e-11,
          3.6547893070667866e-11,
          4.6176639695469026e-11,
          3.212257970768938e-11,
          2.7661063175885983e-11,
          2.9240937932571745e-11,
          2.789165332684236e-11,
          2.1032797381225763e-11,
          2.1123109572156502e-11,
          2.3664646722978318e-11,
          2.4451058106232105e-11,
          2.9670907918112486e-11,
          3.2362666621408307e-11,
          2.1740655520740883e-11,
          2.126799641631483e-11,
          2.2354179449525036e-11,
          2.0217207914903423e-11,
          2.934999962392639e-11,
          2.6603891578953754e-11
         ]
        }
       ],
       "layout": {
        "template": {
         "data": {
          "bar": [
           {
            "error_x": {
             "color": "#2a3f5f"
            },
            "error_y": {
             "color": "#2a3f5f"
            },
            "marker": {
             "line": {
              "color": "#E5ECF6",
              "width": 0.5
             },
             "pattern": {
              "fillmode": "overlay",
              "size": 10,
              "solidity": 0.2
             }
            },
            "type": "bar"
           }
          ],
          "barpolar": [
           {
            "marker": {
             "line": {
              "color": "#E5ECF6",
              "width": 0.5
             },
             "pattern": {
              "fillmode": "overlay",
              "size": 10,
              "solidity": 0.2
             }
            },
            "type": "barpolar"
           }
          ],
          "carpet": [
           {
            "aaxis": {
             "endlinecolor": "#2a3f5f",
             "gridcolor": "white",
             "linecolor": "white",
             "minorgridcolor": "white",
             "startlinecolor": "#2a3f5f"
            },
            "baxis": {
             "endlinecolor": "#2a3f5f",
             "gridcolor": "white",
             "linecolor": "white",
             "minorgridcolor": "white",
             "startlinecolor": "#2a3f5f"
            },
            "type": "carpet"
           }
          ],
          "choropleth": [
           {
            "colorbar": {
             "outlinewidth": 0,
             "ticks": ""
            },
            "type": "choropleth"
           }
          ],
          "contour": [
           {
            "colorbar": {
             "outlinewidth": 0,
             "ticks": ""
            },
            "colorscale": [
             [
              0,
              "#0d0887"
             ],
             [
              0.1111111111111111,
              "#46039f"
             ],
             [
              0.2222222222222222,
              "#7201a8"
             ],
             [
              0.3333333333333333,
              "#9c179e"
             ],
             [
              0.4444444444444444,
              "#bd3786"
             ],
             [
              0.5555555555555556,
              "#d8576b"
             ],
             [
              0.6666666666666666,
              "#ed7953"
             ],
             [
              0.7777777777777778,
              "#fb9f3a"
             ],
             [
              0.8888888888888888,
              "#fdca26"
             ],
             [
              1,
              "#f0f921"
             ]
            ],
            "type": "contour"
           }
          ],
          "contourcarpet": [
           {
            "colorbar": {
             "outlinewidth": 0,
             "ticks": ""
            },
            "type": "contourcarpet"
           }
          ],
          "heatmap": [
           {
            "colorbar": {
             "outlinewidth": 0,
             "ticks": ""
            },
            "colorscale": [
             [
              0,
              "#0d0887"
             ],
             [
              0.1111111111111111,
              "#46039f"
             ],
             [
              0.2222222222222222,
              "#7201a8"
             ],
             [
              0.3333333333333333,
              "#9c179e"
             ],
             [
              0.4444444444444444,
              "#bd3786"
             ],
             [
              0.5555555555555556,
              "#d8576b"
             ],
             [
              0.6666666666666666,
              "#ed7953"
             ],
             [
              0.7777777777777778,
              "#fb9f3a"
             ],
             [
              0.8888888888888888,
              "#fdca26"
             ],
             [
              1,
              "#f0f921"
             ]
            ],
            "type": "heatmap"
           }
          ],
          "heatmapgl": [
           {
            "colorbar": {
             "outlinewidth": 0,
             "ticks": ""
            },
            "colorscale": [
             [
              0,
              "#0d0887"
             ],
             [
              0.1111111111111111,
              "#46039f"
             ],
             [
              0.2222222222222222,
              "#7201a8"
             ],
             [
              0.3333333333333333,
              "#9c179e"
             ],
             [
              0.4444444444444444,
              "#bd3786"
             ],
             [
              0.5555555555555556,
              "#d8576b"
             ],
             [
              0.6666666666666666,
              "#ed7953"
             ],
             [
              0.7777777777777778,
              "#fb9f3a"
             ],
             [
              0.8888888888888888,
              "#fdca26"
             ],
             [
              1,
              "#f0f921"
             ]
            ],
            "type": "heatmapgl"
           }
          ],
          "histogram": [
           {
            "marker": {
             "pattern": {
              "fillmode": "overlay",
              "size": 10,
              "solidity": 0.2
             }
            },
            "type": "histogram"
           }
          ],
          "histogram2d": [
           {
            "colorbar": {
             "outlinewidth": 0,
             "ticks": ""
            },
            "colorscale": [
             [
              0,
              "#0d0887"
             ],
             [
              0.1111111111111111,
              "#46039f"
             ],
             [
              0.2222222222222222,
              "#7201a8"
             ],
             [
              0.3333333333333333,
              "#9c179e"
             ],
             [
              0.4444444444444444,
              "#bd3786"
             ],
             [
              0.5555555555555556,
              "#d8576b"
             ],
             [
              0.6666666666666666,
              "#ed7953"
             ],
             [
              0.7777777777777778,
              "#fb9f3a"
             ],
             [
              0.8888888888888888,
              "#fdca26"
             ],
             [
              1,
              "#f0f921"
             ]
            ],
            "type": "histogram2d"
           }
          ],
          "histogram2dcontour": [
           {
            "colorbar": {
             "outlinewidth": 0,
             "ticks": ""
            },
            "colorscale": [
             [
              0,
              "#0d0887"
             ],
             [
              0.1111111111111111,
              "#46039f"
             ],
             [
              0.2222222222222222,
              "#7201a8"
             ],
             [
              0.3333333333333333,
              "#9c179e"
             ],
             [
              0.4444444444444444,
              "#bd3786"
             ],
             [
              0.5555555555555556,
              "#d8576b"
             ],
             [
              0.6666666666666666,
              "#ed7953"
             ],
             [
              0.7777777777777778,
              "#fb9f3a"
             ],
             [
              0.8888888888888888,
              "#fdca26"
             ],
             [
              1,
              "#f0f921"
             ]
            ],
            "type": "histogram2dcontour"
           }
          ],
          "mesh3d": [
           {
            "colorbar": {
             "outlinewidth": 0,
             "ticks": ""
            },
            "type": "mesh3d"
           }
          ],
          "parcoords": [
           {
            "line": {
             "colorbar": {
              "outlinewidth": 0,
              "ticks": ""
             }
            },
            "type": "parcoords"
           }
          ],
          "pie": [
           {
            "automargin": true,
            "type": "pie"
           }
          ],
          "scatter": [
           {
            "fillpattern": {
             "fillmode": "overlay",
             "size": 10,
             "solidity": 0.2
            },
            "type": "scatter"
           }
          ],
          "scatter3d": [
           {
            "line": {
             "colorbar": {
              "outlinewidth": 0,
              "ticks": ""
             }
            },
            "marker": {
             "colorbar": {
              "outlinewidth": 0,
              "ticks": ""
             }
            },
            "type": "scatter3d"
           }
          ],
          "scattercarpet": [
           {
            "marker": {
             "colorbar": {
              "outlinewidth": 0,
              "ticks": ""
             }
            },
            "type": "scattercarpet"
           }
          ],
          "scattergeo": [
           {
            "marker": {
             "colorbar": {
              "outlinewidth": 0,
              "ticks": ""
             }
            },
            "type": "scattergeo"
           }
          ],
          "scattergl": [
           {
            "marker": {
             "colorbar": {
              "outlinewidth": 0,
              "ticks": ""
             }
            },
            "type": "scattergl"
           }
          ],
          "scattermapbox": [
           {
            "marker": {
             "colorbar": {
              "outlinewidth": 0,
              "ticks": ""
             }
            },
            "type": "scattermapbox"
           }
          ],
          "scatterpolar": [
           {
            "marker": {
             "colorbar": {
              "outlinewidth": 0,
              "ticks": ""
             }
            },
            "type": "scatterpolar"
           }
          ],
          "scatterpolargl": [
           {
            "marker": {
             "colorbar": {
              "outlinewidth": 0,
              "ticks": ""
             }
            },
            "type": "scatterpolargl"
           }
          ],
          "scatterternary": [
           {
            "marker": {
             "colorbar": {
              "outlinewidth": 0,
              "ticks": ""
             }
            },
            "type": "scatterternary"
           }
          ],
          "surface": [
           {
            "colorbar": {
             "outlinewidth": 0,
             "ticks": ""
            },
            "colorscale": [
             [
              0,
              "#0d0887"
             ],
             [
              0.1111111111111111,
              "#46039f"
             ],
             [
              0.2222222222222222,
              "#7201a8"
             ],
             [
              0.3333333333333333,
              "#9c179e"
             ],
             [
              0.4444444444444444,
              "#bd3786"
             ],
             [
              0.5555555555555556,
              "#d8576b"
             ],
             [
              0.6666666666666666,
              "#ed7953"
             ],
             [
              0.7777777777777778,
              "#fb9f3a"
             ],
             [
              0.8888888888888888,
              "#fdca26"
             ],
             [
              1,
              "#f0f921"
             ]
            ],
            "type": "surface"
           }
          ],
          "table": [
           {
            "cells": {
             "fill": {
              "color": "#EBF0F8"
             },
             "line": {
              "color": "white"
             }
            },
            "header": {
             "fill": {
              "color": "#C8D4E3"
             },
             "line": {
              "color": "white"
             }
            },
            "type": "table"
           }
          ]
         },
         "layout": {
          "annotationdefaults": {
           "arrowcolor": "#2a3f5f",
           "arrowhead": 0,
           "arrowwidth": 1
          },
          "autotypenumbers": "strict",
          "coloraxis": {
           "colorbar": {
            "outlinewidth": 0,
            "ticks": ""
           }
          },
          "colorscale": {
           "diverging": [
            [
             0,
             "#8e0152"
            ],
            [
             0.1,
             "#c51b7d"
            ],
            [
             0.2,
             "#de77ae"
            ],
            [
             0.3,
             "#f1b6da"
            ],
            [
             0.4,
             "#fde0ef"
            ],
            [
             0.5,
             "#f7f7f7"
            ],
            [
             0.6,
             "#e6f5d0"
            ],
            [
             0.7,
             "#b8e186"
            ],
            [
             0.8,
             "#7fbc41"
            ],
            [
             0.9,
             "#4d9221"
            ],
            [
             1,
             "#276419"
            ]
           ],
           "sequential": [
            [
             0,
             "#0d0887"
            ],
            [
             0.1111111111111111,
             "#46039f"
            ],
            [
             0.2222222222222222,
             "#7201a8"
            ],
            [
             0.3333333333333333,
             "#9c179e"
            ],
            [
             0.4444444444444444,
             "#bd3786"
            ],
            [
             0.5555555555555556,
             "#d8576b"
            ],
            [
             0.6666666666666666,
             "#ed7953"
            ],
            [
             0.7777777777777778,
             "#fb9f3a"
            ],
            [
             0.8888888888888888,
             "#fdca26"
            ],
            [
             1,
             "#f0f921"
            ]
           ],
           "sequentialminus": [
            [
             0,
             "#0d0887"
            ],
            [
             0.1111111111111111,
             "#46039f"
            ],
            [
             0.2222222222222222,
             "#7201a8"
            ],
            [
             0.3333333333333333,
             "#9c179e"
            ],
            [
             0.4444444444444444,
             "#bd3786"
            ],
            [
             0.5555555555555556,
             "#d8576b"
            ],
            [
             0.6666666666666666,
             "#ed7953"
            ],
            [
             0.7777777777777778,
             "#fb9f3a"
            ],
            [
             0.8888888888888888,
             "#fdca26"
            ],
            [
             1,
             "#f0f921"
            ]
           ]
          },
          "colorway": [
           "#636efa",
           "#EF553B",
           "#00cc96",
           "#ab63fa",
           "#FFA15A",
           "#19d3f3",
           "#FF6692",
           "#B6E880",
           "#FF97FF",
           "#FECB52"
          ],
          "font": {
           "color": "#2a3f5f"
          },
          "geo": {
           "bgcolor": "white",
           "lakecolor": "white",
           "landcolor": "#E5ECF6",
           "showlakes": true,
           "showland": true,
           "subunitcolor": "white"
          },
          "hoverlabel": {
           "align": "left"
          },
          "hovermode": "closest",
          "mapbox": {
           "style": "light"
          },
          "paper_bgcolor": "white",
          "plot_bgcolor": "#E5ECF6",
          "polar": {
           "angularaxis": {
            "gridcolor": "white",
            "linecolor": "white",
            "ticks": ""
           },
           "bgcolor": "#E5ECF6",
           "radialaxis": {
            "gridcolor": "white",
            "linecolor": "white",
            "ticks": ""
           }
          },
          "scene": {
           "xaxis": {
            "backgroundcolor": "#E5ECF6",
            "gridcolor": "white",
            "gridwidth": 2,
            "linecolor": "white",
            "showbackground": true,
            "ticks": "",
            "zerolinecolor": "white"
           },
           "yaxis": {
            "backgroundcolor": "#E5ECF6",
            "gridcolor": "white",
            "gridwidth": 2,
            "linecolor": "white",
            "showbackground": true,
            "ticks": "",
            "zerolinecolor": "white"
           },
           "zaxis": {
            "backgroundcolor": "#E5ECF6",
            "gridcolor": "white",
            "gridwidth": 2,
            "linecolor": "white",
            "showbackground": true,
            "ticks": "",
            "zerolinecolor": "white"
           }
          },
          "shapedefaults": {
           "line": {
            "color": "#2a3f5f"
           }
          },
          "ternary": {
           "aaxis": {
            "gridcolor": "white",
            "linecolor": "white",
            "ticks": ""
           },
           "baxis": {
            "gridcolor": "white",
            "linecolor": "white",
            "ticks": ""
           },
           "bgcolor": "#E5ECF6",
           "caxis": {
            "gridcolor": "white",
            "linecolor": "white",
            "ticks": ""
           }
          },
          "title": {
           "x": 0.05
          },
          "xaxis": {
           "automargin": true,
           "gridcolor": "white",
           "linecolor": "white",
           "ticks": "",
           "title": {
            "standoff": 15
           },
           "zerolinecolor": "white",
           "zerolinewidth": 2
          },
          "yaxis": {
           "automargin": true,
           "gridcolor": "white",
           "linecolor": "white",
           "ticks": "",
           "title": {
            "standoff": 15
           },
           "zerolinecolor": "white",
           "zerolinewidth": 2
          }
         }
        },
        "title": {
         "text": "Peak-to-peak amplitude of the data for Gradiometers over the entire time series",
         "x": 0.5,
         "xanchor": "center",
         "y": 0.85,
         "yanchor": "top"
        },
        "xaxis": {
         "exponentformat": "e",
         "showexponent": "all",
         "title": {
          "text": "Peak-to-peak amplitude in Tesla/meter"
         }
        },
        "yaxis": {
         "showticklabels": false,
         "visible": false
        }
       }
      }
     },
     "metadata": {},
     "output_type": "display_data"
    },
    {
     "data": {
      "application/vnd.plotly.v1+json": {
       "config": {
        "plotlyServerURL": "https://plot.ly"
       },
       "data": [
        {
         "boxpoints": "all",
         "hovertemplate": "Epoch: %{text}<br>Amplitude: %{y: .2e}",
         "line": {
          "width": 1
         },
         "marker": {
          "size": 3
         },
         "name": "MEG0111",
         "opacity": 0.7,
         "pointpos": 0,
         "text": [
          0,
          1,
          2,
          3,
          4,
          5,
          6,
          7,
          8
         ],
         "type": "box",
         "y": [
          1.1820946163061889e-12,
          1.169197124389243e-12,
          8.819989329521448e-13,
          1.2069189980698e-12,
          1.1151230734568444e-12,
          1.1725471222897486e-12,
          1.59665685649373e-12,
          1.2222874125453238e-12,
          1.267618958311179e-12
         ]
        },
        {
         "boxpoints": "all",
         "hovertemplate": "Epoch: %{text}<br>Amplitude: %{y: .2e}",
         "line": {
          "width": 1
         },
         "marker": {
          "size": 3
         },
         "name": "MEG0121",
         "opacity": 0.7,
         "pointpos": 0,
         "text": [
          0,
          1,
          2,
          3,
          4,
          5,
          6,
          7,
          8
         ],
         "type": "box",
         "y": [
          1.4660697508346546e-12,
          1.050737609343908e-12,
          9.848814363312586e-13,
          1.1398882320432859e-12,
          1.080230751574393e-12,
          1.4124947100061854e-12,
          1.2147331672796843e-12,
          1.2751934508168767e-12,
          1.050520457694286e-12
         ]
        },
        {
         "boxpoints": "all",
         "hovertemplate": "Epoch: %{text}<br>Amplitude: %{y: .2e}",
         "line": {
          "width": 1
         },
         "marker": {
          "size": 3
         },
         "name": "MEG0131",
         "opacity": 0.7,
         "pointpos": 0,
         "text": [
          0,
          1,
          2,
          3,
          4,
          5,
          6,
          7,
          8
         ],
         "type": "box",
         "y": [
          1.5453301029467012e-12,
          1.143086283610447e-12,
          1.051233329271328e-12,
          1.3612118254792822e-12,
          1.116504947590803e-12,
          8.595445123307941e-13,
          1.4383335628602024e-12,
          1.1370850016572558e-12,
          1.1031303800799906e-12
         ]
        },
        {
         "boxpoints": "all",
         "hovertemplate": "Epoch: %{text}<br>Amplitude: %{y: .2e}",
         "line": {
          "width": 1
         },
         "marker": {
          "size": 3
         },
         "name": "MEG0141",
         "opacity": 0.7,
         "pointpos": 0,
         "text": [
          0,
          1,
          2,
          3,
          4,
          5,
          6,
          7,
          8
         ],
         "type": "box",
         "y": [
          1.212552250279151e-12,
          1.2988827216847362e-12,
          1.0688993836759336e-12,
          1.33982567816802e-12,
          1.3154783719982755e-12,
          1.3377528669670823e-12,
          1.8626676272807357e-12,
          1.0039391510358506e-12,
          1.3042635703532929e-12
         ]
        },
        {
         "boxpoints": "all",
         "hovertemplate": "Epoch: %{text}<br>Amplitude: %{y: .2e}",
         "line": {
          "width": 1
         },
         "marker": {
          "size": 3
         },
         "name": "MEG0211",
         "opacity": 0.7,
         "pointpos": 0,
         "text": [
          0,
          1,
          2,
          3,
          4,
          5,
          6,
          7,
          8
         ],
         "type": "box",
         "y": [
          1.5346699310561644e-12,
          1.29205231525117e-12,
          1.4217814441127878e-12,
          1.5169029779052698e-12,
          1.014731995630978e-12,
          9.846182222105045e-13,
          1.3434975151525383e-12,
          1.279089019804036e-12,
          1.1634064137326554e-12
         ]
        },
        {
         "boxpoints": "all",
         "hovertemplate": "Epoch: %{text}<br>Amplitude: %{y: .2e}",
         "line": {
          "width": 1
         },
         "marker": {
          "size": 3
         },
         "name": "MEG0221",
         "opacity": 0.7,
         "pointpos": 0,
         "text": [
          0,
          1,
          2,
          3,
          4,
          5,
          6,
          7,
          8
         ],
         "type": "box",
         "y": [
          1.3033705224435919e-12,
          1.3265160483514727e-12,
          1.6630475566439107e-12,
          1.4950359586426302e-12,
          1.0881271751970129e-12,
          1.176627861490529e-12,
          1.551586500124623e-12,
          1.361869860781167e-12,
          1.2171020943664702e-12
         ]
        },
        {
         "boxpoints": "all",
         "hovertemplate": "Epoch: %{text}<br>Amplitude: %{y: .2e}",
         "line": {
          "width": 1
         },
         "marker": {
          "size": 3
         },
         "name": "MEG0231",
         "opacity": 0.7,
         "pointpos": 0,
         "text": [
          0,
          1,
          2,
          3,
          4,
          5,
          6,
          7,
          8
         ],
         "type": "box",
         "y": [
          1.8257408795899565e-12,
          1.213206525379311e-12,
          1.6779900198067144e-12,
          1.7560210423320576e-12,
          1.373864904284099e-12,
          1.4066914653438473e-12,
          1.4423945807232642e-12,
          1.8277851759278126e-12,
          1.1908370853169465e-12
         ]
        },
        {
         "boxpoints": "all",
         "hovertemplate": "Epoch: %{text}<br>Amplitude: %{y: .2e}",
         "line": {
          "width": 1
         },
         "marker": {
          "size": 3
         },
         "name": "MEG0241",
         "opacity": 0.7,
         "pointpos": 0,
         "text": [
          0,
          1,
          2,
          3,
          4,
          5,
          6,
          7,
          8
         ],
         "type": "box",
         "y": [
          1.419920538685639e-12,
          1.081810036298917e-12,
          1.3849719616873446e-12,
          1.730752486739674e-12,
          1.092449428127289e-12,
          1.2646481359972144e-12,
          1.4555980163260212e-12,
          1.1828184551382623e-12,
          1.1393821430747453e-12
         ]
        },
        {
         "boxpoints": "all",
         "hovertemplate": "Epoch: %{text}<br>Amplitude: %{y: .2e}",
         "line": {
          "width": 1
         },
         "marker": {
          "size": 3
         },
         "name": "MEG0311",
         "opacity": 0.7,
         "pointpos": 0,
         "text": [
          0,
          1,
          2,
          3,
          4,
          5,
          6,
          7,
          8
         ],
         "type": "box",
         "y": [
          8.867119697943313e-13,
          7.359976262967014e-13,
          7.403172602844091e-13,
          8.761440937643186e-13,
          1.0296936403896261e-12,
          9.34792985579595e-13,
          9.92372648741665e-13,
          8.982445084850813e-13,
          1.00424960871674e-12
         ]
        },
        {
         "boxpoints": "all",
         "hovertemplate": "Epoch: %{text}<br>Amplitude: %{y: .2e}",
         "line": {
          "width": 1
         },
         "marker": {
          "size": 3
         },
         "name": "MEG0321",
         "opacity": 0.7,
         "pointpos": 0,
         "text": [
          0,
          1,
          2,
          3,
          4,
          5,
          6,
          7,
          8
         ],
         "type": "box",
         "y": [
          1.096454312835412e-12,
          1.109096566817081e-12,
          1.30174865896424e-12,
          9.743275624510263e-13,
          9.80660609894882e-13,
          8.531822510119975e-13,
          1.1439661708141103e-12,
          1.0968132411818947e-12,
          9.534931524313447e-13
         ]
        },
        {
         "boxpoints": "all",
         "hovertemplate": "Epoch: %{text}<br>Amplitude: %{y: .2e}",
         "line": {
          "width": 1
         },
         "marker": {
          "size": 3
         },
         "name": "MEG0331",
         "opacity": 0.7,
         "pointpos": 0,
         "text": [
          0,
          1,
          2,
          3,
          4,
          5,
          6,
          7,
          8
         ],
         "type": "box",
         "y": [
          9.214750347424838e-13,
          1.2040993168012228e-12,
          1.0664684132606841e-12,
          8.571567842353828e-13,
          1.0561905285455282e-12,
          8.981129014247044e-13,
          1.0881271751970129e-12,
          1.1216661955309823e-12,
          8.764635399926883e-13
         ]
        },
        {
         "boxpoints": "all",
         "hovertemplate": "Epoch: %{text}<br>Amplitude: %{y: .2e}",
         "line": {
          "width": 1
         },
         "marker": {
          "size": 3
         },
         "name": "MEG0341",
         "opacity": 0.7,
         "pointpos": 0,
         "text": [
          0,
          1,
          2,
          3,
          4,
          5,
          6,
          7,
          8
         ],
         "type": "box",
         "y": [
          1.5707960691296501e-12,
          1.1603004871077582e-12,
          1.1282936500240724e-12,
          1.2283150159105904e-12,
          1.073575194521042e-12,
          1.3033836831496295e-12,
          1.1032619871403675e-12,
          1.2084399569380204e-12,
          1.0088040106243318e-12
         ]
        },
        {
         "boxpoints": "all",
         "hovertemplate": "Epoch: %{text}<br>Amplitude: %{y: .2e}",
         "line": {
          "width": 1
         },
         "marker": {
          "size": 3
         },
         "name": "MEG0411",
         "opacity": 0.7,
         "pointpos": 0,
         "text": [
          0,
          1,
          2,
          3,
          4,
          5,
          6,
          7,
          8
         ],
         "type": "box",
         "y": [
          1.547830637093864e-12,
          1.378399707564518e-12,
          1.7532490111022987e-12,
          1.3577203675833983e-12,
          1.6493475377573934e-12,
          1.2354518787847486e-12,
          1.443635447292533e-12,
          1.4201414176680898e-12,
          1.2084160283815884e-12
         ]
        },
        {
         "boxpoints": "all",
         "hovertemplate": "Epoch: %{text}<br>Amplitude: %{y: .2e}",
         "line": {
          "width": 1
         },
         "marker": {
          "size": 3
         },
         "name": "MEG0421",
         "opacity": 0.7,
         "pointpos": 0,
         "text": [
          0,
          1,
          2,
          3,
          4,
          5,
          6,
          7,
          8
         ],
         "type": "box",
         "y": [
          1.362983458984357e-12,
          1.0997461985274392e-12,
          1.1998615694570835e-12,
          1.3311678136960761e-12,
          1.3394764132770195e-12,
          1.2943225370426733e-12,
          1.0791120915611886e-12,
          1.384664203638463e-12,
          9.158922411224579e-13
         ]
        },
        {
         "boxpoints": "all",
         "hovertemplate": "Epoch: %{text}<br>Amplitude: %{y: .2e}",
         "line": {
          "width": 1
         },
         "marker": {
          "size": 3
         },
         "name": "MEG0431",
         "opacity": 0.7,
         "pointpos": 0,
         "text": [
          0,
          1,
          2,
          3,
          4,
          5,
          6,
          7,
          8
         ],
         "type": "box",
         "y": [
          1.8453064625660035e-12,
          1.4488884491024376e-12,
          1.775554720566195e-12,
          1.5031406395915609e-12,
          1.6360073675464523e-12,
          1.514677622157077e-12,
          1.311122178299797e-12,
          1.7558774709934646e-12,
          1.185438983958122e-12
         ]
        },
        {
         "boxpoints": "all",
         "hovertemplate": "Epoch: %{text}<br>Amplitude: %{y: .2e}",
         "line": {
          "width": 1
         },
         "marker": {
          "size": 3
         },
         "name": "MEG0441",
         "opacity": 0.7,
         "pointpos": 0,
         "text": [
          0,
          1,
          2,
          3,
          4,
          5,
          6,
          7,
          8
         ],
         "type": "box",
         "y": [
          1.7560928280013542e-12,
          1.0579891583706806e-12,
          1.7642979300019491e-12,
          1.5729675856258706e-12,
          1.4051382127851121e-12,
          1.6849651940066953e-12,
          1.410301258999902e-12,
          1.8125450783361563e-12,
          1.253905621721308e-12
         ]
        },
        {
         "boxpoints": "all",
         "hovertemplate": "Epoch: %{text}<br>Amplitude: %{y: .2e}",
         "line": {
          "width": 1
         },
         "marker": {
          "size": 3
         },
         "name": "MEG0511",
         "opacity": 0.7,
         "pointpos": 0,
         "text": [
          0,
          1,
          2,
          3,
          4,
          5,
          6,
          7,
          8
         ],
         "type": "box",
         "y": [
          8.499622649347737e-13,
          7.543190272567972e-13,
          5.716341514334164e-13,
          8.479630910176183e-13,
          9.32680435883154e-13,
          8.54718182822515e-13,
          1.0126124292901695e-12,
          6.960697423339382e-13,
          7.281489633008313e-13
         ]
        },
        {
         "boxpoints": "all",
         "hovertemplate": "Epoch: %{text}<br>Amplitude: %{y: .2e}",
         "line": {
          "width": 1
         },
         "marker": {
          "size": 3
         },
         "name": "MEG0521",
         "opacity": 0.7,
         "pointpos": 0,
         "text": [
          0,
          1,
          2,
          3,
          4,
          5,
          6,
          7,
          8
         ],
         "type": "box",
         "y": [
          6.799807792028503e-13,
          6.878574617664136e-13,
          5.538025100664042e-13,
          8.203998952505781e-13,
          8.333460299271753e-13,
          8.734899130969069e-13,
          7.426414755690852e-13,
          7.646445411938039e-13,
          5.938453886976315e-13
         ]
        },
        {
         "boxpoints": "all",
         "hovertemplate": "Epoch: %{text}<br>Amplitude: %{y: .2e}",
         "line": {
          "width": 1
         },
         "marker": {
          "size": 3
         },
         "name": "MEG0531",
         "opacity": 0.7,
         "pointpos": 0,
         "text": [
          0,
          1,
          2,
          3,
          4,
          5,
          6,
          7,
          8
         ],
         "type": "box",
         "y": [
          6.737507332123569e-13,
          6.425232163685507e-13,
          7.151928204113262e-13,
          8.142792039645571e-13,
          8.145033605061025e-13,
          7.91987360792337e-13,
          8.109627060430568e-13,
          6.162272304191015e-13,
          5.691668692080908e-13
         ]
        },
        {
         "boxpoints": "all",
         "hovertemplate": "Epoch: %{text}<br>Amplitude: %{y: .2e}",
         "line": {
          "width": 1
         },
         "marker": {
          "size": 3
         },
         "name": "MEG0541",
         "opacity": 0.7,
         "pointpos": 0,
         "text": [
          0,
          1,
          2,
          3,
          4,
          5,
          6,
          7,
          8
         ],
         "type": "box",
         "y": [
          8.380361584634676e-13,
          8.075590751712379e-13,
          7.060578781714861e-13,
          8.067797356916149e-13,
          8.127242159281027e-13,
          8.630487310922607e-13,
          8.242813405532089e-13,
          6.521728055591016e-13,
          7.363744045743936e-13
         ]
        },
        {
         "boxpoints": "all",
         "hovertemplate": "Epoch: %{text}<br>Amplitude: %{y: .2e}",
         "line": {
          "width": 1
         },
         "marker": {
          "size": 3
         },
         "name": "MEG0611",
         "opacity": 0.7,
         "pointpos": 0,
         "text": [
          0,
          1,
          2,
          3,
          4,
          5,
          6,
          7,
          8
         ],
         "type": "box",
         "y": [
          8.144857258131487e-13,
          7.697974028946097e-13,
          8.385061836790997e-13,
          7.756347934009881e-13,
          8.893463228852389e-13,
          7.892595053590683e-13,
          9.626651521776186e-13,
          7.761921206914541e-13,
          6.961912257742862e-13
         ]
        },
        {
         "boxpoints": "all",
         "hovertemplate": "Epoch: %{text}<br>Amplitude: %{y: .2e}",
         "line": {
          "width": 1
         },
         "marker": {
          "size": 3
         },
         "name": "MEG0621",
         "opacity": 0.7,
         "pointpos": 0,
         "text": [
          0,
          1,
          2,
          3,
          4,
          5,
          6,
          7,
          8
         ],
         "type": "box",
         "y": [
          9.288168286106578e-13,
          7.419098429155951e-13,
          9.162483543446546e-13,
          1.012393294089159e-12,
          9.605640408570544e-13,
          8.767108227324493e-13,
          9.708137859861782e-13,
          9.453006129228767e-13,
          8.951536226670845e-13
         ]
        },
        {
         "boxpoints": "all",
         "hovertemplate": "Epoch: %{text}<br>Amplitude: %{y: .2e}",
         "line": {
          "width": 1
         },
         "marker": {
          "size": 3
         },
         "name": "MEG0631",
         "opacity": 0.7,
         "pointpos": 0,
         "text": [
          0,
          1,
          2,
          3,
          4,
          5,
          6,
          7,
          8
         ],
         "type": "box",
         "y": [
          1.4163551837772438e-12,
          9.77066299422401e-13,
          1.2178541347114815e-12,
          1.2828868235463436e-12,
          1.2192078073325021e-12,
          1.2983156148972936e-12,
          1.1099213043954436e-12,
          1.442518667380191e-12,
          8.899269422692551e-13
         ]
        },
        {
         "boxpoints": "all",
         "hovertemplate": "Epoch: %{text}<br>Amplitude: %{y: .2e}",
         "line": {
          "width": 1
         },
         "marker": {
          "size": 3
         },
         "name": "MEG0641",
         "opacity": 0.7,
         "pointpos": 0,
         "text": [
          0,
          1,
          2,
          3,
          4,
          5,
          6,
          7,
          8
         ],
         "type": "box",
         "y": [
          9.452378004622422e-13,
          8.853326594342762e-13,
          1.0738792803996772e-12,
          1.0016613365293257e-12,
          9.978315710723551e-13,
          8.942304931435829e-13,
          1.04577075888528e-12,
          1.0952339564573707e-12,
          7.603378568180386e-13
         ]
        },
        {
         "boxpoints": "all",
         "hovertemplate": "Epoch: %{text}<br>Amplitude: %{y: .2e}",
         "line": {
          "width": 1
         },
         "marker": {
          "size": 3
         },
         "name": "MEG0711",
         "opacity": 0.7,
         "pointpos": 0,
         "text": [
          0,
          1,
          2,
          3,
          4,
          5,
          6,
          7,
          8
         ],
         "type": "box",
         "y": [
          1.5941187203293165e-12,
          1.5603897108555547e-12,
          1.5767943139968324e-12,
          1.4913524071835071e-12,
          1.6160334652292357e-12,
          1.4947929917619343e-12,
          1.3377669677235514e-12,
          1.9991112471265877e-12,
          1.2460062950017682e-12
         ]
        },
        {
         "boxpoints": "all",
         "hovertemplate": "Epoch: %{text}<br>Amplitude: %{y: .2e}",
         "line": {
          "width": 1
         },
         "marker": {
          "size": 3
         },
         "name": "MEG0721",
         "opacity": 0.7,
         "pointpos": 0,
         "text": [
          0,
          1,
          2,
          3,
          4,
          5,
          6,
          7,
          8
         ],
         "type": "box",
         "y": [
          1.6115164900381146e-12,
          1.2876246777199155e-12,
          1.6191920346782836e-12,
          1.5739007993267257e-12,
          1.6565978903563443e-12,
          1.5237465450448736e-12,
          1.146718638476852e-12,
          1.7568226489725358e-12,
          1.4740366782396193e-12
         ]
        },
        {
         "boxpoints": "all",
         "hovertemplate": "Epoch: %{text}<br>Amplitude: %{y: .2e}",
         "line": {
          "width": 1
         },
         "marker": {
          "size": 3
         },
         "name": "MEG0731",
         "opacity": 0.7,
         "pointpos": 0,
         "text": [
          0,
          1,
          2,
          3,
          4,
          5,
          6,
          7,
          8
         ],
         "type": "box",
         "y": [
          1.5826255191335365e-12,
          1.3529003334354732e-12,
          1.6876631387444237e-12,
          1.2453318088173361e-12,
          1.5331265391662887e-12,
          1.7187694075149583e-12,
          1.3209998863950015e-12,
          1.7123394625651106e-12,
          1.4353066004715314e-12
         ]
        },
        {
         "boxpoints": "all",
         "hovertemplate": "Epoch: %{text}<br>Amplitude: %{y: .2e}",
         "line": {
          "width": 1
         },
         "marker": {
          "size": 3
         },
         "name": "MEG0741",
         "opacity": 0.7,
         "pointpos": 0,
         "text": [
          0,
          1,
          2,
          3,
          4,
          5,
          6,
          7,
          8
         ],
         "type": "box",
         "y": [
          1.4672769925231129e-12,
          1.4917559057532344e-12,
          1.5062691274268085e-12,
          1.2813789826545957e-12,
          1.8237448391742386e-12,
          1.6722933141932529e-12,
          1.2806419831164844e-12,
          2.0653885627324433e-12,
          1.251138970356471e-12
         ]
        },
        {
         "boxpoints": "all",
         "hovertemplate": "Epoch: %{text}<br>Amplitude: %{y: .2e}",
         "line": {
          "width": 1
         },
         "marker": {
          "size": 3
         },
         "name": "MEG0811",
         "opacity": 0.7,
         "pointpos": 0,
         "text": [
          0,
          1,
          2,
          3,
          4,
          5,
          6,
          7,
          8
         ],
         "type": "box",
         "y": [
          5.928198032428527e-13,
          5.297560200346643e-13,
          5.201182165050485e-13,
          8.732128456013764e-13,
          7.84553555927406e-13,
          7.52488676755554e-13,
          6.995385284253033e-13,
          9.090057206348753e-13,
          6.24692939240779e-13
         ]
        },
        {
         "boxpoints": "all",
         "hovertemplate": "Epoch: %{text}<br>Amplitude: %{y: .2e}",
         "line": {
          "width": 1
         },
         "marker": {
          "size": 3
         },
         "name": "MEG0821",
         "opacity": 0.7,
         "pointpos": 0,
         "text": [
          0,
          1,
          2,
          3,
          4,
          5,
          6,
          7,
          8
         ],
         "type": "box",
         "y": [
          6.617202995755419e-13,
          6.521623368156625e-13,
          7.885966196741228e-13,
          8.26128484353559e-13,
          8.773939006733534e-13,
          6.666862726537674e-13,
          7.087399129647782e-13,
          7.980717944791299e-13,
          5.719449304189627e-13
         ]
        },
        {
         "boxpoints": "all",
         "hovertemplate": "Epoch: %{text}<br>Amplitude: %{y: .2e}",
         "line": {
          "width": 1
         },
         "marker": {
          "size": 3
         },
         "name": "MEG0911",
         "opacity": 0.7,
         "pointpos": 0,
         "text": [
          0,
          1,
          2,
          3,
          4,
          5,
          6,
          7,
          8
         ],
         "type": "box",
         "y": [
          7.662886893980851e-13,
          6.560844207546917e-13,
          5.891225548950809e-13,
          9.169202430213161e-13,
          8.679188454629857e-13,
          6.199256574015327e-13,
          6.515301529006373e-13,
          9.959450124720814e-13,
          8.925179562704272e-13
         ]
        },
        {
         "boxpoints": "all",
         "hovertemplate": "Epoch: %{text}<br>Amplitude: %{y: .2e}",
         "line": {
          "width": 1
         },
         "marker": {
          "size": 3
         },
         "name": "MEG0921",
         "opacity": 0.7,
         "pointpos": 0,
         "text": [
          0,
          1,
          2,
          3,
          4,
          5,
          6,
          7,
          8
         ],
         "type": "box",
         "y": [
          8.470815326131882e-13,
          8.247299489677113e-13,
          6.362695188226365e-13,
          8.694194656258042e-13,
          6.551211455480668e-13,
          6.861992128056634e-13,
          7.331701971931182e-13,
          1.0481186288424058e-12,
          1.135258953694525e-12
         ]
        },
        {
         "boxpoints": "all",
         "hovertemplate": "Epoch: %{text}<br>Amplitude: %{y: .2e}",
         "line": {
          "width": 1
         },
         "marker": {
          "size": 3
         },
         "name": "MEG0931",
         "opacity": 0.7,
         "pointpos": 0,
         "text": [
          0,
          1,
          2,
          3,
          4,
          5,
          6,
          7,
          8
         ],
         "type": "box",
         "y": [
          8.202709144951753e-13,
          8.243562553414235e-13,
          8.174013283815006e-13,
          9.23855242434445e-13,
          7.834448661460483e-13,
          8.542351074950135e-13,
          7.074255515436105e-13,
          7.599931716599083e-13,
          8.961763975363e-13
         ]
        },
        {
         "boxpoints": "all",
         "hovertemplate": "Epoch: %{text}<br>Amplitude: %{y: .2e}",
         "line": {
          "width": 1
         },
         "marker": {
          "size": 3
         },
         "name": "MEG0941",
         "opacity": 0.7,
         "pointpos": 0,
         "text": [
          0,
          1,
          2,
          3,
          4,
          5,
          6,
          7,
          8
         ],
         "type": "box",
         "y": [
          7.415639102506229e-13,
          7.251549026772546e-13,
          7.000816349809145e-13,
          8.705700335511033e-13,
          8.396831268190427e-13,
          7.360622390470359e-13,
          7.052237445334938e-13,
          7.521935732317087e-13,
          7.757074970455953e-13
         ]
        },
        {
         "boxpoints": "all",
         "hovertemplate": "Epoch: %{text}<br>Amplitude: %{y: .2e}",
         "line": {
          "width": 1
         },
         "marker": {
          "size": 3
         },
         "name": "MEG1011",
         "opacity": 0.7,
         "pointpos": 0,
         "text": [
          0,
          1,
          2,
          3,
          4,
          5,
          6,
          7,
          8
         ],
         "type": "box",
         "y": [
          7.817283910313131e-13,
          7.704169880134415e-13,
          8.566855460514522e-13,
          8.807383765992975e-13,
          9.53556833267011e-13,
          7.129735980191046e-13,
          8.556078703709458e-13,
          9.012286985791297e-13,
          8.199295337567428e-13
         ]
        },
        {
         "boxpoints": "all",
         "hovertemplate": "Epoch: %{text}<br>Amplitude: %{y: .2e}",
         "line": {
          "width": 1
         },
         "marker": {
          "size": 3
         },
         "name": "MEG1021",
         "opacity": 0.7,
         "pointpos": 0,
         "text": [
          0,
          1,
          2,
          3,
          4,
          5,
          6,
          7,
          8
         ],
         "type": "box",
         "y": [
          7.465871124596486e-13,
          9.038697702657667e-13,
          7.823497827987402e-13,
          8.72752220890057e-13,
          9.024894343961503e-13,
          8.061261465742021e-13,
          7.625313078243218e-13,
          8.00839086014057e-13,
          8.021311796230215e-13
         ]
        },
        {
         "boxpoints": "all",
         "hovertemplate": "Epoch: %{text}<br>Amplitude: %{y: .2e}",
         "line": {
          "width": 1
         },
         "marker": {
          "size": 3
         },
         "name": "MEG1031",
         "opacity": 0.7,
         "pointpos": 0,
         "text": [
          0,
          1,
          2,
          3,
          4,
          5,
          6,
          7,
          8
         ],
         "type": "box",
         "y": [
          9.115344287275147e-13,
          9.432510264972995e-13,
          7.956962870393251e-13,
          8.716887509344299e-13,
          9.103628866045952e-13,
          1.0499423266790585e-12,
          9.626492436318587e-13,
          8.3048593272381e-13,
          8.333030045420521e-13
         ]
        },
        {
         "boxpoints": "all",
         "hovertemplate": "Epoch: %{text}<br>Amplitude: %{y: .2e}",
         "line": {
          "width": 1
         },
         "marker": {
          "size": 3
         },
         "name": "MEG1041",
         "opacity": 0.7,
         "pointpos": 0,
         "text": [
          0,
          1,
          2,
          3,
          4,
          5,
          6,
          7,
          8
         ],
         "type": "box",
         "y": [
          1.365818072592477e-12,
          9.967918752953769e-13,
          1.1856216855242924e-12,
          1.3060120641554445e-12,
          1.184645768553497e-12,
          1.3501568324076144e-12,
          1.0265815204912995e-12,
          1.231315656887186e-12,
          1.0007927299308375e-12
         ]
        },
        {
         "boxpoints": "all",
         "hovertemplate": "Epoch: %{text}<br>Amplitude: %{y: .2e}",
         "line": {
          "width": 1
         },
         "marker": {
          "size": 3
         },
         "name": "MEG1111",
         "opacity": 0.7,
         "pointpos": 0,
         "text": [
          0,
          1,
          2,
          3,
          4,
          5,
          6,
          7,
          8
         ],
         "type": "box",
         "y": [
          1.2976695438736245e-12,
          1.0954031655349983e-12,
          1.1706448020533901e-12,
          1.2245660947907084e-12,
          9.994404673854639e-13,
          1.505716377773225e-12,
          1.071657491641263e-12,
          9.96185338408422e-13,
          1.3995094800489883e-12
         ]
        },
        {
         "boxpoints": "all",
         "hovertemplate": "Epoch: %{text}<br>Amplitude: %{y: .2e}",
         "line": {
          "width": 1
         },
         "marker": {
          "size": 3
         },
         "name": "MEG1121",
         "opacity": 0.7,
         "pointpos": 0,
         "text": [
          0,
          1,
          2,
          3,
          4,
          5,
          6,
          7,
          8
         ],
         "type": "box",
         "y": [
          1.1418667248509534e-12,
          1.1282742552993853e-12,
          1.4393026693957058e-12,
          9.91122648079137e-13,
          9.88369023431249e-13,
          1.5623985263155949e-12,
          1.1287674354414296e-12,
          1.164426368450577e-12,
          1.5225996835187313e-12
         ]
        },
        {
         "boxpoints": "all",
         "hovertemplate": "Epoch: %{text}<br>Amplitude: %{y: .2e}",
         "line": {
          "width": 1
         },
         "marker": {
          "size": 3
         },
         "name": "MEG1131",
         "opacity": 0.7,
         "pointpos": 0,
         "text": [
          0,
          1,
          2,
          3,
          4,
          5,
          6,
          7,
          8
         ],
         "type": "box",
         "y": [
          1.6270580874408164e-12,
          1.3764681208629848e-12,
          1.2435431492240304e-12,
          1.1214402123549403e-12,
          1.1849899716344828e-12,
          1.4331401457853255e-12,
          1.3095307452312381e-12,
          1.1116284359786195e-12,
          1.7054121454779942e-12
         ]
        },
        {
         "boxpoints": "all",
         "hovertemplate": "Epoch: %{text}<br>Amplitude: %{y: .2e}",
         "line": {
          "width": 1
         },
         "marker": {
          "size": 3
         },
         "name": "MEG1141",
         "opacity": 0.7,
         "pointpos": 0,
         "text": [
          0,
          1,
          2,
          3,
          4,
          5,
          6,
          7,
          8
         ],
         "type": "box",
         "y": [
          1.8250609097780087e-12,
          1.2559565480377713e-12,
          1.4141836672810234e-12,
          1.0912250029258868e-12,
          1.3881123086203403e-12,
          1.652114047012591e-12,
          1.0154800778689104e-12,
          1.1873588987212687e-12,
          1.556445837738543e-12
         ]
        },
        {
         "boxpoints": "all",
         "hovertemplate": "Epoch: %{text}<br>Amplitude: %{y: .2e}",
         "line": {
          "width": 1
         },
         "marker": {
          "size": 3
         },
         "name": "MEG1211",
         "opacity": 0.7,
         "pointpos": 0,
         "text": [
          0,
          1,
          2,
          3,
          4,
          5,
          6,
          7,
          8
         ],
         "type": "box",
         "y": [
          9.609421120486829e-13,
          8.817268100457653e-13,
          7.335090899881423e-13,
          1.0651147406396636e-12,
          6.866927392820772e-13,
          9.001922929786609e-13,
          8.613604685756598e-13,
          1.1994667482759525e-12,
          1.1505089218157096e-12
         ]
        },
        {
         "boxpoints": "all",
         "hovertemplate": "Epoch: %{text}<br>Amplitude: %{y: .2e}",
         "line": {
          "width": 1
         },
         "marker": {
          "size": 3
         },
         "name": "MEG1221",
         "opacity": 0.7,
         "pointpos": 0,
         "text": [
          0,
          1,
          2,
          3,
          4,
          5,
          6,
          7,
          8
         ],
         "type": "box",
         "y": [
          1.350920153357801e-12,
          1.0916366968070662e-12,
          8.687194045399332e-13,
          1.2795850771854568e-12,
          1.3539207943343964e-12,
          1.1870146956402829e-12,
          1.0609921922029194e-12,
          1.3524994380823249e-12,
          1.3405255884436614e-12
         ]
        },
        {
         "boxpoints": "all",
         "hovertemplate": "Epoch: %{text}<br>Amplitude: %{y: .2e}",
         "line": {
          "width": 1
         },
         "marker": {
          "size": 3
         },
         "name": "MEG1231",
         "opacity": 0.7,
         "pointpos": 0,
         "text": [
          0,
          1,
          2,
          3,
          4,
          5,
          6,
          7,
          8
         ],
         "type": "box",
         "y": [
          1.1062546172524185e-12,
          9.041405047899708e-13,
          9.711284985218624e-13,
          1.1479077469753172e-12,
          1.2731821852706447e-12,
          1.1039638914623782e-12,
          1.228076098477906e-12,
          1.1481399947289236e-12,
          1.1484470778698033e-12
         ]
        },
        {
         "boxpoints": "all",
         "hovertemplate": "Epoch: %{text}<br>Amplitude: %{y: .2e}",
         "line": {
          "width": 1
         },
         "marker": {
          "size": 3
         },
         "name": "MEG1241",
         "opacity": 0.7,
         "pointpos": 0,
         "text": [
          0,
          1,
          2,
          3,
          4,
          5,
          6,
          7,
          8
         ],
         "type": "box",
         "y": [
          9.704160051260283e-13,
          1.0853842069912608e-12,
          1.0864689262362627e-12,
          9.230919214842584e-13,
          9.058325955662465e-13,
          1.1333880396884838e-12,
          1.0469177144164656e-12,
          8.210202561308146e-13,
          1.1668760544153216e-12
         ]
        },
        {
         "boxpoints": "all",
         "hovertemplate": "Epoch: %{text}<br>Amplitude: %{y: .2e}",
         "line": {
          "width": 1
         },
         "marker": {
          "size": 3
         },
         "name": "MEG1311",
         "opacity": 0.7,
         "pointpos": 0,
         "text": [
          0,
          1,
          2,
          3,
          4,
          5,
          6,
          7,
          8
         ],
         "type": "box",
         "y": [
          1.1924528661170373e-12,
          9.513611180532374e-13,
          1.2819484822976815e-12,
          1.2319028268488679e-12,
          1.175514263287339e-12,
          1.2256126842708493e-12,
          9.963030490711194e-13,
          1.4176510071409558e-12,
          1.2731008985568825e-12
         ]
        },
        {
         "boxpoints": "all",
         "hovertemplate": "Epoch: %{text}<br>Amplitude: %{y: .2e}",
         "line": {
          "width": 1
         },
         "marker": {
          "size": 3
         },
         "name": "MEG1321",
         "opacity": 0.7,
         "pointpos": 0,
         "text": [
          0,
          1,
          2,
          3,
          4,
          5,
          6,
          7,
          8
         ],
         "type": "box",
         "y": [
          1.3366671087189721e-12,
          1.240686079586028e-12,
          8.504448241561559e-13,
          1.1934880275331119e-12,
          1.1646660813105495e-12,
          1.3021202553700103e-12,
          1.1288376258736307e-12,
          1.3458377279716055e-12,
          1.4519943757273348e-12
         ]
        },
        {
         "boxpoints": "all",
         "hovertemplate": "Epoch: %{text}<br>Amplitude: %{y: .2e}",
         "line": {
          "width": 1
         },
         "marker": {
          "size": 3
         },
         "name": "MEG1331",
         "opacity": 0.7,
         "pointpos": 0,
         "text": [
          0,
          1,
          2,
          3,
          4,
          5,
          6,
          7,
          8
         ],
         "type": "box",
         "y": [
          1.331687974934709e-12,
          1.1170807284799522e-12,
          9.345776285717054e-13,
          1.0264421718391355e-12,
          1.1150357572340943e-12,
          1.0539093394989935e-12,
          9.39917377972456e-13,
          1.1579541212313226e-12,
          1.4768465744377982e-12
         ]
        },
        {
         "boxpoints": "all",
         "hovertemplate": "Epoch: %{text}<br>Amplitude: %{y: .2e}",
         "line": {
          "width": 1
         },
         "marker": {
          "size": 3
         },
         "name": "MEG1341",
         "opacity": 0.7,
         "pointpos": 0,
         "text": [
          0,
          1,
          2,
          3,
          4,
          5,
          6,
          7,
          8
         ],
         "type": "box",
         "y": [
          1.4298449074658861e-12,
          1.0613722339815481e-12,
          1.0428138519472099e-12,
          1.2616905664221968e-12,
          1.0661049270939286e-12,
          1.0752142000964934e-12,
          1.179300497178185e-12,
          1.3098773303404664e-12,
          1.8502756261184196e-12
         ]
        },
        {
         "boxpoints": "all",
         "hovertemplate": "Epoch: %{text}<br>Amplitude: %{y: .2e}",
         "line": {
          "width": 1
         },
         "marker": {
          "size": 3
         },
         "name": "MEG1411",
         "opacity": 0.7,
         "pointpos": 0,
         "text": [
          0,
          1,
          2,
          3,
          4,
          5,
          6,
          7,
          8
         ],
         "type": "box",
         "y": [
          1.3729248538528348e-12,
          1.0728870776053566e-12,
          1.0640127122879354e-12,
          1.2965050207939252e-12,
          1.0879118181891233e-12,
          1.2172337014268471e-12,
          1.1780586664546277e-12,
          1.53091912983542e-12,
          1.4195137532262918e-12
         ]
        },
        {
         "boxpoints": "all",
         "hovertemplate": "Epoch: %{text}<br>Amplitude: %{y: .2e}",
         "line": {
          "width": 1
         },
         "marker": {
          "size": 3
         },
         "name": "MEG1421",
         "opacity": 0.7,
         "pointpos": 0,
         "text": [
          0,
          1,
          2,
          3,
          4,
          5,
          6,
          7,
          8
         ],
         "type": "box",
         "y": [
          1.022865556433596e-12,
          7.708156259406843e-13,
          8.370647730178279e-13,
          8.499622649347737e-13,
          8.651472129011291e-13,
          8.523674316468808e-13,
          1.048532251032162e-12,
          1.1471073854859657e-12,
          1.3698859271859478e-12
         ]
        },
        {
         "boxpoints": "all",
         "hovertemplate": "Epoch: %{text}<br>Amplitude: %{y: .2e}",
         "line": {
          "width": 1
         },
         "marker": {
          "size": 3
         },
         "name": "MEG1431",
         "opacity": 0.7,
         "pointpos": 0,
         "text": [
          0,
          1,
          2,
          3,
          4,
          5,
          6,
          7,
          8
         ],
         "type": "box",
         "y": [
          1.1401220876659557e-12,
          9.068713512927935e-13,
          9.31267042411206e-13,
          1.0821785360679725e-12,
          6.916549236722007e-13,
          7.699013032054336e-13,
          9.721104896646754e-13,
          1.0596506975079401e-12,
          1.1838401415280311e-12
         ]
        },
        {
         "boxpoints": "all",
         "hovertemplate": "Epoch: %{text}<br>Amplitude: %{y: .2e}",
         "line": {
          "width": 1
         },
         "marker": {
          "size": 3
         },
         "name": "MEG1441",
         "opacity": 0.7,
         "pointpos": 0,
         "text": [
          0,
          1,
          2,
          3,
          4,
          5,
          6,
          7,
          8
         ],
         "type": "box",
         "y": [
          1.3051208963466059e-12,
          1.1377869059792665e-12,
          8.12838106653429e-13,
          1.3572197446478466e-12,
          1.0524717854548756e-12,
          1.1700807717946315e-12,
          9.593167648530269e-13,
          1.353805937263522e-12,
          1.4999256671166371e-12
         ]
        },
        {
         "boxpoints": "all",
         "hovertemplate": "Epoch: %{text}<br>Amplitude: %{y: .2e}",
         "line": {
          "width": 1
         },
         "marker": {
          "size": 3
         },
         "name": "MEG1511",
         "opacity": 0.7,
         "pointpos": 0,
         "text": [
          0,
          1,
          2,
          3,
          4,
          5,
          6,
          7,
          8
         ],
         "type": "box",
         "y": [
          1.1711831945731143e-12,
          1.1002451483717256e-12,
          1.26453327892634e-12,
          1.5860325774378415e-12,
          1.0370064153097045e-12,
          9.88692979272177e-13,
          1.3528679378513804e-12,
          1.0730675672881594e-12,
          1.1118628956155937e-12
         ]
        },
        {
         "boxpoints": "all",
         "hovertemplate": "Epoch: %{text}<br>Amplitude: %{y: .2e}",
         "line": {
          "width": 1
         },
         "marker": {
          "size": 3
         },
         "name": "MEG1521",
         "opacity": 0.7,
         "pointpos": 0,
         "text": [
          0,
          1,
          2,
          3,
          4,
          5,
          6,
          7,
          8
         ],
         "type": "box",
         "y": [
          1.3272196018847662e-12,
          1.0202743350683581e-12,
          1.1708318226128733e-12,
          1.545837730179584e-12,
          1.0976746692134532e-12,
          9.405016554712727e-13,
          1.3417076591314112e-12,
          1.1030696383598165e-12,
          1.0909896287602126e-12
         ]
        },
        {
         "boxpoints": "all",
         "hovertemplate": "Epoch: %{text}<br>Amplitude: %{y: .2e}",
         "line": {
          "width": 1
         },
         "marker": {
          "size": 3
         },
         "name": "MEG1531",
         "opacity": 0.7,
         "pointpos": 0,
         "text": [
          0,
          1,
          2,
          3,
          4,
          5,
          6,
          7,
          8
         ],
         "type": "box",
         "y": [
          1.2937851415461339e-12,
          1.3274326799825194e-12,
          1.4330214233322582e-12,
          1.5449120569902096e-12,
          1.2675784638310631e-12,
          9.938031214081056e-13,
          1.344637561313054e-12,
          1.0135179362414715e-12,
          9.749929603856597e-13
         ]
        },
        {
         "boxpoints": "all",
         "hovertemplate": "Epoch: %{text}<br>Amplitude: %{y: .2e}",
         "line": {
          "width": 1
         },
         "marker": {
          "size": 3
         },
         "name": "MEG1541",
         "opacity": 0.7,
         "pointpos": 0,
         "text": [
          0,
          1,
          2,
          3,
          4,
          5,
          6,
          7,
          8
         ],
         "type": "box",
         "y": [
          1.1277486419622758e-12,
          1.1299406183796473e-12,
          1.139532892980268e-12,
          1.457376092134751e-12,
          1.0942648499218674e-12,
          1.2485681460747886e-12,
          1.3899961696845939e-12,
          9.513611180532374e-13,
          8.662376714013956e-13
         ]
        },
        {
         "boxpoints": "all",
         "hovertemplate": "Epoch: %{text}<br>Amplitude: %{y: .2e}",
         "line": {
          "width": 1
         },
         "marker": {
          "size": 3
         },
         "name": "MEG1611",
         "opacity": 0.7,
         "pointpos": 0,
         "text": [
          0,
          1,
          2,
          3,
          4,
          5,
          6,
          7,
          8
         ],
         "type": "box",
         "y": [
          1.4013998360071306e-12,
          9.8059224259079e-13,
          1.2126119711300785e-12,
          1.6637764572859987e-12,
          1.2146892982595586e-12,
          1.3772080654541952e-12,
          1.4857614572435628e-12,
          1.3041302541103135e-12,
          1.0836386817694184e-12
         ]
        },
        {
         "boxpoints": "all",
         "hovertemplate": "Epoch: %{text}<br>Amplitude: %{y: .2e}",
         "line": {
          "width": 1
         },
         "marker": {
          "size": 3
         },
         "name": "MEG1621",
         "opacity": 0.7,
         "pointpos": 0,
         "text": [
          0,
          1,
          2,
          3,
          4,
          5,
          6,
          7,
          8
         ],
         "type": "box",
         "y": [
          1.6145314881485696e-12,
          1.0994334181112185e-12,
          1.5394436780643845e-12,
          1.4870180515796625e-12,
          1.5851412387107428e-12,
          1.8733826354464294e-12,
          1.4448025560587334e-12,
          1.6252155885955384e-12,
          1.2924189349193631e-12
         ]
        },
        {
         "boxpoints": "all",
         "hovertemplate": "Epoch: %{text}<br>Amplitude: %{y: .2e}",
         "line": {
          "width": 1
         },
         "marker": {
          "size": 3
         },
         "name": "MEG1631",
         "opacity": 0.7,
         "pointpos": 0,
         "text": [
          0,
          1,
          2,
          3,
          4,
          5,
          6,
          7,
          8
         ],
         "type": "box",
         "y": [
          1.6266632662596854e-12,
          1.25074414917534e-12,
          1.4526260896171443e-12,
          1.5961304282522222e-12,
          1.8012306313454595e-12,
          2.2042076900181e-12,
          1.5800743668862284e-12,
          1.4212904485413812e-12,
          1.5278263639165606e-12
         ]
        },
        {
         "boxpoints": "all",
         "hovertemplate": "Epoch: %{text}<br>Amplitude: %{y: .2e}",
         "line": {
          "width": 1
         },
         "marker": {
          "size": 3
         },
         "name": "MEG1641",
         "opacity": 0.7,
         "pointpos": 0,
         "text": [
          0,
          1,
          2,
          3,
          4,
          5,
          6,
          7,
          8
         ],
         "type": "box",
         "y": [
          1.8169670755648234e-12,
          1.0693731690932908e-12,
          1.3250806255957819e-12,
          1.6559458371935674e-12,
          1.425995400949859e-12,
          1.4856817337358344e-12,
          1.3609222899464526e-12,
          1.0889168175592749e-12,
          1.0695893806924816e-12
         ]
        },
        {
         "boxpoints": "all",
         "hovertemplate": "Epoch: %{text}<br>Amplitude: %{y: .2e}",
         "line": {
          "width": 1
         },
         "marker": {
          "size": 3
         },
         "name": "MEG1711",
         "opacity": 0.7,
         "pointpos": 0,
         "text": [
          0,
          1,
          2,
          3,
          4,
          5,
          6,
          7,
          8
         ],
         "type": "box",
         "y": [
          1.2127327399619538e-12,
          1.2950134741096525e-12,
          1.2077276222196163e-12,
          1.4608834926053696e-12,
          1.2607298348814448e-12,
          1.1302715161314524e-12,
          1.2888002355223806e-12,
          1.2894859775738186e-12,
          1.673467522641032e-12
         ]
        },
        {
         "boxpoints": "all",
         "hovertemplate": "Epoch: %{text}<br>Amplitude: %{y: .2e}",
         "line": {
          "width": 1
         },
         "marker": {
          "size": 3
         },
         "name": "MEG1721",
         "opacity": 0.7,
         "pointpos": 0,
         "text": [
          0,
          1,
          2,
          3,
          4,
          5,
          6,
          7,
          8
         ],
         "type": "box",
         "y": [
          1.458732657218637e-12,
          9.604362273483067e-13,
          1.2073871004550046e-12,
          1.4877469522217504e-12,
          1.2855904085866594e-12,
          9.243351881822878e-13,
          1.1730926933764023e-12,
          1.352610917004056e-12,
          1.157681506606256e-12
         ]
        },
        {
         "boxpoints": "all",
         "hovertemplate": "Epoch: %{text}<br>Amplitude: %{y: .2e}",
         "line": {
          "width": 1
         },
         "marker": {
          "size": 3
         },
         "name": "MEG1731",
         "opacity": 0.7,
         "pointpos": 0,
         "text": [
          0,
          1,
          2,
          3,
          4,
          5,
          6,
          7,
          8
         ],
         "type": "box",
         "y": [
          1.1564124385240491e-12,
          7.867680640633496e-13,
          8.269134817607488e-13,
          1.2115369958133857e-12,
          1.1580387257701363e-12,
          8.621099954168443e-13,
          8.921044409045836e-13,
          1.3303151326578353e-12,
          1.0500175307135596e-12
         ]
        },
        {
         "boxpoints": "all",
         "hovertemplate": "Epoch: %{text}<br>Amplitude: %{y: .2e}",
         "line": {
          "width": 1
         },
         "marker": {
          "size": 3
         },
         "name": "MEG1741",
         "opacity": 0.7,
         "pointpos": 0,
         "text": [
          0,
          1,
          2,
          3,
          4,
          5,
          6,
          7,
          8
         ],
         "type": "box",
         "y": [
          1.1590127626400693e-12,
          1.040365776558379e-12,
          9.080887166012807e-13,
          1.4075734035666333e-12,
          9.547227383954383e-13,
          7.929701407886588e-13,
          1.0622720281355204e-12,
          1.1575875015631295e-12,
          1.4026388034846192e-12
         ]
        },
        {
         "boxpoints": "all",
         "hovertemplate": "Epoch: %{text}<br>Amplitude: %{y: .2e}",
         "line": {
          "width": 1
         },
         "marker": {
          "size": 3
         },
         "name": "MEG1811",
         "opacity": 0.7,
         "pointpos": 0,
         "text": [
          0,
          1,
          2,
          3,
          4,
          5,
          6,
          7,
          8
         ],
         "type": "box",
         "y": [
          1.5944094128472922e-12,
          1.178409618615633e-12,
          1.5699912413373447e-12,
          1.3230019089498273e-12,
          1.8120976143308746e-12,
          1.8461231012483428e-12,
          1.3267206520404799e-12,
          1.7776671826122463e-12,
          1.3494987971057293e-12
         ]
        },
        {
         "boxpoints": "all",
         "hovertemplate": "Epoch: %{text}<br>Amplitude: %{y: .2e}",
         "line": {
          "width": 1
         },
         "marker": {
          "size": 3
         },
         "name": "MEG1821",
         "opacity": 0.7,
         "pointpos": 0,
         "text": [
          0,
          1,
          2,
          3,
          4,
          5,
          6,
          7,
          8
         ],
         "type": "box",
         "y": [
          1.6979464358711536e-12,
          1.3988210738870163e-12,
          1.6296782643701402e-12,
          1.3884873887424148e-12,
          2.0212475546819985e-12,
          1.7764321009687082e-12,
          1.0854950339894729e-12,
          2.255481800740978e-12,
          1.3333111286793587e-12
         ]
        },
        {
         "boxpoints": "all",
         "hovertemplate": "Epoch: %{text}<br>Amplitude: %{y: .2e}",
         "line": {
          "width": 1
         },
         "marker": {
          "size": 3
         },
         "name": "MEG1831",
         "opacity": 0.7,
         "pointpos": 0,
         "text": [
          0,
          1,
          2,
          3,
          4,
          5,
          6,
          7,
          8
         ],
         "type": "box",
         "y": [
          1.1995193911001033e-12,
          9.88207045510785e-13,
          1.3848747749350662e-12,
          1.2792699795120542e-12,
          1.8082810095799416e-12,
          2.0014801742133736e-12,
          1.0494346994461757e-12,
          1.9150262998239023e-12,
          1.2768516997776269e-12
         ]
        },
        {
         "boxpoints": "all",
         "hovertemplate": "Epoch: %{text}<br>Amplitude: %{y: .2e}",
         "line": {
          "width": 1
         },
         "marker": {
          "size": 3
         },
         "name": "MEG1841",
         "opacity": 0.7,
         "pointpos": 0,
         "text": [
          0,
          1,
          2,
          3,
          4,
          5,
          6,
          7,
          8
         ],
         "type": "box",
         "y": [
          1.4947929917619343e-12,
          1.1206077976980559e-12,
          1.488250240760335e-12,
          1.5443148484809358e-12,
          1.933712661739249e-12,
          2.078075483352786e-12,
          1.4784737162751867e-12,
          2.0644541526037668e-12,
          1.4850743165340945e-12
         ]
        },
        {
         "boxpoints": "all",
         "hovertemplate": "Epoch: %{text}<br>Amplitude: %{y: .2e}",
         "line": {
          "width": 1
         },
         "marker": {
          "size": 3
         },
         "name": "MEG1911",
         "opacity": 0.7,
         "pointpos": 0,
         "text": [
          0,
          1,
          2,
          3,
          4,
          5,
          6,
          7,
          8
         ],
         "type": "box",
         "y": [
          1.719643654416034e-12,
          1.215575452466097e-12,
          1.2716203191276412e-12,
          1.7796385275306206e-12,
          1.6527778672402067e-12,
          1.9892078158332185e-12,
          1.8326721847698118e-12,
          1.3143033089591953e-12,
          1.5306140407409096e-12
         ]
        },
        {
         "boxpoints": "all",
         "hovertemplate": "Epoch: %{text}<br>Amplitude: %{y: .2e}",
         "line": {
          "width": 1
         },
         "marker": {
          "size": 3
         },
         "name": "MEG1921",
         "opacity": 0.7,
         "pointpos": 0,
         "text": [
          0,
          1,
          2,
          3,
          4,
          5,
          6,
          7,
          8
         ],
         "type": "box",
         "y": [
          1.6921048770321473e-12,
          9.071016636484532e-13,
          9.813675278191928e-13,
          1.5205002375555743e-12,
          1.4932137070374103e-12,
          9.24214044841157e-13,
          1.0917109366872788e-12,
          1.5823774904428258e-12,
          1.3358926517867535e-12
         ]
        },
        {
         "boxpoints": "all",
         "hovertemplate": "Epoch: %{text}<br>Amplitude: %{y: .2e}",
         "line": {
          "width": 1
         },
         "marker": {
          "size": 3
         },
         "name": "MEG1931",
         "opacity": 0.7,
         "pointpos": 0,
         "text": [
          0,
          1,
          2,
          3,
          4,
          5,
          6,
          7,
          8
         ],
         "type": "box",
         "y": [
          1.1118657987125138e-12,
          7.113002685030216e-13,
          7.951134557719412e-13,
          1.1087072292634658e-12,
          8.150544891929597e-13,
          7.256268728248135e-13,
          6.323631513074464e-13,
          1.1586685595590835e-12,
          1.090579222532458e-12
         ]
        },
        {
         "boxpoints": "all",
         "hovertemplate": "Epoch: %{text}<br>Amplitude: %{y: .2e}",
         "line": {
          "width": 1
         },
         "marker": {
          "size": 3
         },
         "name": "MEG1941",
         "opacity": 0.7,
         "pointpos": 0,
         "text": [
          0,
          1,
          2,
          3,
          4,
          5,
          6,
          7,
          8
         ],
         "type": "box",
         "y": [
          1.8750847534273054e-12,
          1.0477118433830586e-12,
          1.1591160235643652e-12,
          1.641235757126884e-12,
          1.4711037208940748e-12,
          1.2490826100380805e-12,
          1.317123460252988e-12,
          1.2459341642090615e-12,
          1.4202021593882639e-12
         ]
        },
        {
         "boxpoints": "all",
         "hovertemplate": "Epoch: %{text}<br>Amplitude: %{y: .2e}",
         "line": {
          "width": 1
         },
         "marker": {
          "size": 3
         },
         "name": "MEG2011",
         "opacity": 0.7,
         "pointpos": 0,
         "text": [
          0,
          1,
          2,
          3,
          4,
          5,
          6,
          7,
          8
         ],
         "type": "box",
         "y": [
          1.4047737624640682e-12,
          1.0933092031993572e-12,
          1.0325432193490932e-12,
          1.6290321933464714e-12,
          1.668442525790274e-12,
          2.1316834259463496e-12,
          1.1398487499251728e-12,
          1.769516748159808e-12,
          1.2078457311199546e-12
         ]
        },
        {
         "boxpoints": "all",
         "hovertemplate": "Epoch: %{text}<br>Amplitude: %{y: .2e}",
         "line": {
          "width": 1
         },
         "marker": {
          "size": 3
         },
         "name": "MEG2021",
         "opacity": 0.7,
         "pointpos": 0,
         "text": [
          0,
          1,
          2,
          3,
          4,
          5,
          6,
          7,
          8
         ],
         "type": "box",
         "y": [
          1.6168585402615992e-12,
          1.0341225040736172e-12,
          1.1430769937003026e-12,
          1.5465803700202827e-12,
          1.6560379621358312e-12,
          2.0443840758962746e-12,
          1.3335844664201416e-12,
          1.8911216719481534e-12,
          1.7035217895198519e-12
         ]
        },
        {
         "boxpoints": "all",
         "hovertemplate": "Epoch: %{text}<br>Amplitude: %{y: .2e}",
         "line": {
          "width": 1
         },
         "marker": {
          "size": 3
         },
         "name": "MEG2031",
         "opacity": 0.7,
         "pointpos": 0,
         "text": [
          0,
          1,
          2,
          3,
          4,
          5,
          6,
          7,
          8
         ],
         "type": "box",
         "y": [
          2.404145136142834e-12,
          8.721480248401444e-13,
          1.1482328938303663e-12,
          2.0231514701554523e-12,
          1.9077759472249515e-12,
          1.503479057746816e-12,
          1.1618797718322821e-12,
          2.1465350833052567e-12,
          1.675046807365556e-12
         ]
        },
        {
         "boxpoints": "all",
         "hovertemplate": "Epoch: %{text}<br>Amplitude: %{y: .2e}",
         "line": {
          "width": 1
         },
         "marker": {
          "size": 3
         },
         "name": "MEG2041",
         "opacity": 0.7,
         "pointpos": 0,
         "text": [
          0,
          1,
          2,
          3,
          4,
          5,
          6,
          7,
          8
         ],
         "type": "box",
         "y": [
          2.098982204944103e-12,
          8.248472509128299e-13,
          1.3127240242346713e-12,
          1.9954262494360316e-12,
          1.550432407441317e-12,
          1.6277687655668522e-12,
          1.1066273676842937e-12,
          1.9160671920287023e-12,
          1.1417812957064982e-12
         ]
        },
        {
         "boxpoints": "all",
         "hovertemplate": "Epoch: %{text}<br>Amplitude: %{y: .2e}",
         "line": {
          "width": 1
         },
         "marker": {
          "size": 3
         },
         "name": "MEG2111",
         "opacity": 0.7,
         "pointpos": 0,
         "text": [
          0,
          1,
          2,
          3,
          4,
          5,
          6,
          7,
          8
         ],
         "type": "box",
         "y": [
          1.7140174525849173e-12,
          7.936198200867102e-13,
          1.2378960099060356e-12,
          1.8178695239788372e-12,
          1.5418126051511705e-12,
          9.929489491323684e-13,
          9.644987928553711e-13,
          2.04905014440055e-12,
          1.0904129820351397e-12
         ]
        },
        {
         "boxpoints": "all",
         "hovertemplate": "Epoch: %{text}<br>Amplitude: %{y: .2e}",
         "line": {
          "width": 1
         },
         "marker": {
          "size": 3
         },
         "name": "MEG2121",
         "opacity": 0.7,
         "pointpos": 0,
         "text": [
          0,
          1,
          2,
          3,
          4,
          5,
          6,
          7,
          8
         ],
         "type": "box",
         "y": [
          1.420151008466012e-12,
          8.655635864580012e-13,
          1.1308665680544427e-12,
          1.3783439681036523e-12,
          1.1407041958176233e-12,
          1.2060351370165862e-12,
          9.83030712044707e-13,
          1.4234784159201489e-12,
          1.2790052698565232e-12
         ]
        },
        {
         "boxpoints": "all",
         "hovertemplate": "Epoch: %{text}<br>Amplitude: %{y: .2e}",
         "line": {
          "width": 1
         },
         "marker": {
          "size": 3
         },
         "name": "MEG2131",
         "opacity": 0.7,
         "pointpos": 0,
         "text": [
          0,
          1,
          2,
          3,
          4,
          5,
          6,
          7,
          8
         ],
         "type": "box",
         "y": [
          1.2500790634952206e-12,
          1.0765081518665865e-12,
          1.1125645283028048e-12,
          1.209827813211087e-12,
          1.0081614413406287e-12,
          1.1072805934258327e-12,
          8.179176330029797e-13,
          9.981276869582033e-13,
          1.0101399540970031e-12
         ]
        },
        {
         "boxpoints": "all",
         "hovertemplate": "Epoch: %{text}<br>Amplitude: %{y: .2e}",
         "line": {
          "width": 1
         },
         "marker": {
          "size": 3
         },
         "name": "MEG2141",
         "opacity": 0.7,
         "pointpos": 0,
         "text": [
          0,
          1,
          2,
          3,
          4,
          5,
          6,
          7,
          8
         ],
         "type": "box",
         "y": [
          1.0266052613727793e-12,
          9.565983676667263e-13,
          1.0233518251677096e-12,
          1.1830534677460785e-12,
          9.590206489671786e-13,
          9.341469145559262e-13,
          7.745421837555699e-13,
          1.0352720815939931e-12,
          7.917194649974985e-13
         ]
        },
        {
         "boxpoints": "all",
         "hovertemplate": "Epoch: %{text}<br>Amplitude: %{y: .2e}",
         "line": {
          "width": 1
         },
         "marker": {
          "size": 3
         },
         "name": "MEG2211",
         "opacity": 0.7,
         "pointpos": 0,
         "text": [
          0,
          1,
          2,
          3,
          4,
          5,
          6,
          7,
          8
         ],
         "type": "box",
         "y": [
          1.807315891137177e-12,
          1.1253531722750779e-12,
          1.3094423936382578e-12,
          1.2038097812683934e-12,
          1.2384750809716945e-12,
          1.5251448700613792e-12,
          1.5859528155830677e-12,
          1.219086323892154e-12,
          1.6891057545985562e-12
         ]
        },
        {
         "boxpoints": "all",
         "hovertemplate": "Epoch: %{text}<br>Amplitude: %{y: .2e}",
         "line": {
          "width": 1
         },
         "marker": {
          "size": 3
         },
         "name": "MEG2221",
         "opacity": 0.7,
         "pointpos": 0,
         "text": [
          0,
          1,
          2,
          3,
          4,
          5,
          6,
          7,
          8
         ],
         "type": "box",
         "y": [
          1.474836575697495e-12,
          9.592838630879327e-13,
          1.0361501279398858e-12,
          1.3141129487468642e-12,
          1.3065948954228282e-12,
          1.5406416014207707e-12,
          1.2788954800093637e-12,
          1.3097379816883024e-12,
          1.766599173457684e-12
         ]
        },
        {
         "boxpoints": "all",
         "hovertemplate": "Epoch: %{text}<br>Amplitude: %{y: .2e}",
         "line": {
          "width": 1
         },
         "marker": {
          "size": 3
         },
         "name": "MEG2231",
         "opacity": 0.7,
         "pointpos": 0,
         "text": [
          0,
          1,
          2,
          3,
          4,
          5,
          6,
          7,
          8
         ],
         "type": "box",
         "y": [
          1.2952766882304066e-12,
          9.132385580942937e-13,
          1.2012282581609986e-12,
          1.5701248731217275e-12,
          1.2149437385762874e-12,
          1.4013684297768134e-12,
          1.2711549941641654e-12,
          1.4633765063490825e-12,
          1.698217012624656e-12
         ]
        },
        {
         "boxpoints": "all",
         "hovertemplate": "Epoch: %{text}<br>Amplitude: %{y: .2e}",
         "line": {
          "width": 1
         },
         "marker": {
          "size": 3
         },
         "name": "MEG2241",
         "opacity": 0.7,
         "pointpos": 0,
         "text": [
          0,
          1,
          2,
          3,
          4,
          5,
          6,
          7,
          8
         ],
         "type": "box",
         "y": [
          1.234549430370735e-12,
          1.1223638119036574e-12,
          1.3211434577335944e-12,
          1.1892013975665467e-12,
          1.3566713818962758e-12,
          1.8405905429024945e-12,
          1.4503756088846977e-12,
          1.696941436501002e-12,
          1.1362953592949939e-12
         ]
        },
        {
         "boxpoints": "all",
         "hovertemplate": "Epoch: %{text}<br>Amplitude: %{y: .2e}",
         "line": {
          "width": 1
         },
         "marker": {
          "size": 3
         },
         "name": "MEG2311",
         "opacity": 0.7,
         "pointpos": 0,
         "text": [
          0,
          1,
          2,
          3,
          4,
          5,
          6,
          7,
          8
         ],
         "type": "box",
         "y": [
          1.4446203308982113e-12,
          8.248118182427285e-13,
          1.1267632479219743e-12,
          1.5194298334645081e-12,
          1.7390885975867353e-12,
          1.2467324839599197e-12,
          1.1870580825832642e-12,
          1.837801485584505e-12,
          1.996373820270746e-12
         ]
        },
        {
         "boxpoints": "all",
         "hovertemplate": "Epoch: %{text}<br>Amplitude: %{y: .2e}",
         "line": {
          "width": 1
         },
         "marker": {
          "size": 3
         },
         "name": "MEG2321",
         "opacity": 0.7,
         "pointpos": 0,
         "text": [
          0,
          1,
          2,
          3,
          4,
          5,
          6,
          7,
          8
         ],
         "type": "box",
         "y": [
          9.79012957866266e-13,
          8.872105725430739e-13,
          8.263113794595241e-13,
          1.1500351363983524e-12,
          1.1316891121817989e-12,
          1.2003879976985914e-12,
          1.1972294282495435e-12,
          1.5334328246886207e-12,
          1.7270355843072086e-12
         ]
        },
        {
         "boxpoints": "all",
         "hovertemplate": "Epoch: %{text}<br>Amplitude: %{y: .2e}",
         "line": {
          "width": 1
         },
         "marker": {
          "size": 3
         },
         "name": "MEG2331",
         "opacity": 0.7,
         "pointpos": 0,
         "text": [
          0,
          1,
          2,
          3,
          4,
          5,
          6,
          7,
          8
         ],
         "type": "box",
         "y": [
          1.4064583328368938e-12,
          9.489476470383238e-13,
          1.1124000947674138e-12,
          1.1461658888232687e-12,
          1.0181451208415446e-12,
          1.0732818987864876e-12,
          8.274464903552757e-13,
          1.5418260649641636e-12,
          1.2279220748303218e-12
         ]
        },
        {
         "boxpoints": "all",
         "hovertemplate": "Epoch: %{text}<br>Amplitude: %{y: .2e}",
         "line": {
          "width": 1
         },
         "marker": {
          "size": 3
         },
         "name": "MEG2341",
         "opacity": 0.7,
         "pointpos": 0,
         "text": [
          0,
          1,
          2,
          3,
          4,
          5,
          6,
          7,
          8
         ],
         "type": "box",
         "y": [
          1.407458546495759e-12,
          9.046293310142283e-13,
          1.142118971716676e-12,
          1.339853879680958e-12,
          1.4934769211581643e-12,
          1.0558125800644456e-12,
          1.0931808863154896e-12,
          1.8217656714585693e-12,
          1.4493227524016816e-12
         ]
        },
        {
         "boxpoints": "all",
         "hovertemplate": "Epoch: %{text}<br>Amplitude: %{y: .2e}",
         "line": {
          "width": 1
         },
         "marker": {
          "size": 3
         },
         "name": "MEG2411",
         "opacity": 0.7,
         "pointpos": 0,
         "text": [
          0,
          1,
          2,
          3,
          4,
          5,
          6,
          7,
          8
         ],
         "type": "box",
         "y": [
          1.435641600261582e-12,
          1.2385540452079207e-12,
          8.277529962722064e-13,
          1.1487902884390218e-12,
          1.1768961374212974e-12,
          1.2242840796613292e-12,
          9.71800387198524e-13,
          1.723717491148613e-12,
          1.7920369381276951e-12
         ]
        },
        {
         "boxpoints": "all",
         "hovertemplate": "Epoch: %{text}<br>Amplitude: %{y: .2e}",
         "line": {
          "width": 1
         },
         "marker": {
          "size": 3
         },
         "name": "MEG2421",
         "opacity": 0.7,
         "pointpos": 0,
         "text": [
          0,
          1,
          2,
          3,
          4,
          5,
          6,
          7,
          8
         ],
         "type": "box",
         "y": [
          1.3832560080924291e-12,
          9.024032915929944e-13,
          9.874836668432583e-13,
          9.022651041795986e-13,
          9.14236646421749e-13,
          1.2426338640796075e-12,
          8.13627749015691e-13,
          1.4262257133055186e-12,
          1.4204185517663837e-12
         ]
        },
        {
         "boxpoints": "all",
         "hovertemplate": "Epoch: %{text}<br>Amplitude: %{y: .2e}",
         "line": {
          "width": 1
         },
         "marker": {
          "size": 3
         },
         "name": "MEG2431",
         "opacity": 0.7,
         "pointpos": 0,
         "text": [
          0,
          1,
          2,
          3,
          4,
          5,
          6,
          7,
          8
         ],
         "type": "box",
         "y": [
          1.0964579021188768e-12,
          8.951473556642093e-13,
          8.992204254558769e-13,
          1.075307099197936e-12,
          7.393872662065956e-13,
          1.2379769988662676e-12,
          1.1915703246533327e-12,
          1.551647241844797e-12,
          1.6764984731224417e-12
         ]
        },
        {
         "boxpoints": "all",
         "hovertemplate": "Epoch: %{text}<br>Amplitude: %{y: .2e}",
         "line": {
          "width": 1
         },
         "marker": {
          "size": 3
         },
         "name": "MEG2441",
         "opacity": 0.7,
         "pointpos": 0,
         "text": [
          0,
          1,
          2,
          3,
          4,
          5,
          6,
          7,
          8
         ],
         "type": "box",
         "y": [
          1.1045881813641665e-12,
          1.0412511331463698e-12,
          1.0752499305201252e-12,
          1.479592376288391e-12,
          1.4088009385116043e-12,
          1.1644437870320975e-12,
          1.1207130833463573e-12,
          1.9669991243946002e-12,
          1.94129187860096e-12
         ]
        },
        {
         "boxpoints": "all",
         "hovertemplate": "Epoch: %{text}<br>Amplitude: %{y: .2e}",
         "line": {
          "width": 1
         },
         "marker": {
          "size": 3
         },
         "name": "MEG2511",
         "opacity": 0.7,
         "pointpos": 0,
         "text": [
          0,
          1,
          2,
          3,
          4,
          5,
          6,
          7,
          8
         ],
         "type": "box",
         "y": [
          1.0304339301042467e-12,
          7.505722314683251e-13,
          8.835169042697167e-13,
          1.0243456080270336e-12,
          7.621125580867586e-13,
          9.352129317449798e-13,
          8.715184046990226e-13,
          1.2949641214620111e-12,
          1.5167275018247672e-12
         ]
        },
        {
         "boxpoints": "all",
         "hovertemplate": "Epoch: %{text}<br>Amplitude: %{y: .2e}",
         "line": {
          "width": 1
         },
         "marker": {
          "size": 3
         },
         "name": "MEG2521",
         "opacity": 0.7,
         "pointpos": 0,
         "text": [
          0,
          1,
          2,
          3,
          4,
          5,
          6,
          7,
          8
         ],
         "type": "box",
         "y": [
          1.060687103108409e-12,
          7.333044168005994e-13,
          1.0559340635047937e-12,
          1.1051439681037586e-12,
          7.588463101337659e-13,
          9.67509304361495e-13,
          9.021896236596765e-13,
          1.1653727780465235e-12,
          1.3302089622561865e-12
         ]
        },
        {
         "boxpoints": "all",
         "hovertemplate": "Epoch: %{text}<br>Amplitude: %{y: .2e}",
         "line": {
          "width": 1
         },
         "marker": {
          "size": 3
         },
         "name": "MEG2531",
         "opacity": 0.7,
         "pointpos": 0,
         "text": [
          0,
          1,
          2,
          3,
          4,
          5,
          6,
          7,
          8
         ],
         "type": "box",
         "y": [
          1.0167522794525547e-12,
          9.347673478405605e-13,
          9.4362262290307e-13,
          1.089138904473661e-12,
          7.546875270258527e-13,
          1.0227936702241463e-12,
          8.123597656070588e-13,
          8.562881776368946e-13,
          1.1232280518162715e-12
         ]
        },
        {
         "boxpoints": "all",
         "hovertemplate": "Epoch: %{text}<br>Amplitude: %{y: .2e}",
         "line": {
          "width": 1
         },
         "marker": {
          "size": 3
         },
         "name": "MEG2541",
         "opacity": 0.7,
         "pointpos": 0,
         "text": [
          0,
          1,
          2,
          3,
          4,
          5,
          6,
          7,
          8
         ],
         "type": "box",
         "y": [
          1.1452446394006297e-12,
          1.074594338850661e-12,
          8.791274217265544e-13,
          1.2139435249174223e-12,
          8.319225609196195e-13,
          1.0589402056183105e-12,
          8.199710750329434e-13,
          9.656741170195713e-13,
          1.0267807374532819e-12
         ]
        },
        {
         "boxpoints": "all",
         "hovertemplate": "Epoch: %{text}<br>Amplitude: %{y: .2e}",
         "line": {
          "width": 1
         },
         "marker": {
          "size": 3
         },
         "name": "MEG2611",
         "opacity": 0.7,
         "pointpos": 0,
         "text": [
          0,
          1,
          2,
          3,
          4,
          5,
          6,
          7,
          8
         ],
         "type": "box",
         "y": [
          1.1121035887420585e-12,
          9.216254428114862e-13,
          1.154632609707522e-12,
          1.2110242410326962e-12,
          1.081749294578743e-12,
          8.912054108557745e-13,
          1.0262192139956734e-12,
          1.1140725670999065e-12,
          1.3385045457542356e-12
         ]
        },
        {
         "boxpoints": "all",
         "hovertemplate": "Epoch: %{text}<br>Amplitude: %{y: .2e}",
         "line": {
          "width": 1
         },
         "marker": {
          "size": 3
         },
         "name": "MEG2621",
         "opacity": 0.7,
         "pointpos": 0,
         "text": [
          0,
          1,
          2,
          3,
          4,
          5,
          6,
          7,
          8
         ],
         "type": "box",
         "y": [
          1.099228617819402e-12,
          7.522396357028406e-13,
          9.53144780800935e-13,
          1.1133430879652456e-12,
          7.324271328135149e-13,
          8.151670180799652e-13,
          8.677562144057455e-13,
          9.565332755260534e-13,
          9.410499171421518e-13
         ]
        },
        {
         "boxpoints": "all",
         "hovertemplate": "Epoch: %{text}<br>Amplitude: %{y: .2e}",
         "line": {
          "width": 1
         },
         "marker": {
          "size": 3
         },
         "name": "MEG2631",
         "opacity": 0.7,
         "pointpos": 0,
         "text": [
          0,
          1,
          2,
          3,
          4,
          5,
          6,
          7,
          8
         ],
         "type": "box",
         "y": [
          9.366188384725724e-13,
          7.383733874243881e-13,
          9.395164826193076e-13,
          9.745548202661601e-13,
          7.660171164505234e-13,
          9.921115992107199e-13,
          8.935318313143642e-13,
          1.017498052794691e-12,
          1.053255549586153e-12
         ]
        },
        {
         "boxpoints": "all",
         "hovertemplate": "Epoch: %{text}<br>Amplitude: %{y: .2e}",
         "line": {
          "width": 1
         },
         "marker": {
          "size": 3
         },
         "name": "MEG2641",
         "opacity": 0.7,
         "pointpos": 0,
         "text": [
          0,
          1,
          2,
          3,
          4,
          5,
          6,
          7,
          8
         ],
         "type": "box",
         "y": [
          1.0567272789094187e-12,
          6.69307732708581e-13,
          1.1002589533081287e-12,
          1.0454864876348658e-12,
          1.0369057072982856e-12,
          9.912071582985095e-13,
          8.810550780814881e-13,
          1.0348495405196896e-12,
          1.3043411245138722e-12
         ]
        }
       ],
       "layout": {
        "template": {
         "data": {
          "bar": [
           {
            "error_x": {
             "color": "#2a3f5f"
            },
            "error_y": {
             "color": "#2a3f5f"
            },
            "marker": {
             "line": {
              "color": "#E5ECF6",
              "width": 0.5
             },
             "pattern": {
              "fillmode": "overlay",
              "size": 10,
              "solidity": 0.2
             }
            },
            "type": "bar"
           }
          ],
          "barpolar": [
           {
            "marker": {
             "line": {
              "color": "#E5ECF6",
              "width": 0.5
             },
             "pattern": {
              "fillmode": "overlay",
              "size": 10,
              "solidity": 0.2
             }
            },
            "type": "barpolar"
           }
          ],
          "carpet": [
           {
            "aaxis": {
             "endlinecolor": "#2a3f5f",
             "gridcolor": "white",
             "linecolor": "white",
             "minorgridcolor": "white",
             "startlinecolor": "#2a3f5f"
            },
            "baxis": {
             "endlinecolor": "#2a3f5f",
             "gridcolor": "white",
             "linecolor": "white",
             "minorgridcolor": "white",
             "startlinecolor": "#2a3f5f"
            },
            "type": "carpet"
           }
          ],
          "choropleth": [
           {
            "colorbar": {
             "outlinewidth": 0,
             "ticks": ""
            },
            "type": "choropleth"
           }
          ],
          "contour": [
           {
            "colorbar": {
             "outlinewidth": 0,
             "ticks": ""
            },
            "colorscale": [
             [
              0,
              "#0d0887"
             ],
             [
              0.1111111111111111,
              "#46039f"
             ],
             [
              0.2222222222222222,
              "#7201a8"
             ],
             [
              0.3333333333333333,
              "#9c179e"
             ],
             [
              0.4444444444444444,
              "#bd3786"
             ],
             [
              0.5555555555555556,
              "#d8576b"
             ],
             [
              0.6666666666666666,
              "#ed7953"
             ],
             [
              0.7777777777777778,
              "#fb9f3a"
             ],
             [
              0.8888888888888888,
              "#fdca26"
             ],
             [
              1,
              "#f0f921"
             ]
            ],
            "type": "contour"
           }
          ],
          "contourcarpet": [
           {
            "colorbar": {
             "outlinewidth": 0,
             "ticks": ""
            },
            "type": "contourcarpet"
           }
          ],
          "heatmap": [
           {
            "colorbar": {
             "outlinewidth": 0,
             "ticks": ""
            },
            "colorscale": [
             [
              0,
              "#0d0887"
             ],
             [
              0.1111111111111111,
              "#46039f"
             ],
             [
              0.2222222222222222,
              "#7201a8"
             ],
             [
              0.3333333333333333,
              "#9c179e"
             ],
             [
              0.4444444444444444,
              "#bd3786"
             ],
             [
              0.5555555555555556,
              "#d8576b"
             ],
             [
              0.6666666666666666,
              "#ed7953"
             ],
             [
              0.7777777777777778,
              "#fb9f3a"
             ],
             [
              0.8888888888888888,
              "#fdca26"
             ],
             [
              1,
              "#f0f921"
             ]
            ],
            "type": "heatmap"
           }
          ],
          "heatmapgl": [
           {
            "colorbar": {
             "outlinewidth": 0,
             "ticks": ""
            },
            "colorscale": [
             [
              0,
              "#0d0887"
             ],
             [
              0.1111111111111111,
              "#46039f"
             ],
             [
              0.2222222222222222,
              "#7201a8"
             ],
             [
              0.3333333333333333,
              "#9c179e"
             ],
             [
              0.4444444444444444,
              "#bd3786"
             ],
             [
              0.5555555555555556,
              "#d8576b"
             ],
             [
              0.6666666666666666,
              "#ed7953"
             ],
             [
              0.7777777777777778,
              "#fb9f3a"
             ],
             [
              0.8888888888888888,
              "#fdca26"
             ],
             [
              1,
              "#f0f921"
             ]
            ],
            "type": "heatmapgl"
           }
          ],
          "histogram": [
           {
            "marker": {
             "pattern": {
              "fillmode": "overlay",
              "size": 10,
              "solidity": 0.2
             }
            },
            "type": "histogram"
           }
          ],
          "histogram2d": [
           {
            "colorbar": {
             "outlinewidth": 0,
             "ticks": ""
            },
            "colorscale": [
             [
              0,
              "#0d0887"
             ],
             [
              0.1111111111111111,
              "#46039f"
             ],
             [
              0.2222222222222222,
              "#7201a8"
             ],
             [
              0.3333333333333333,
              "#9c179e"
             ],
             [
              0.4444444444444444,
              "#bd3786"
             ],
             [
              0.5555555555555556,
              "#d8576b"
             ],
             [
              0.6666666666666666,
              "#ed7953"
             ],
             [
              0.7777777777777778,
              "#fb9f3a"
             ],
             [
              0.8888888888888888,
              "#fdca26"
             ],
             [
              1,
              "#f0f921"
             ]
            ],
            "type": "histogram2d"
           }
          ],
          "histogram2dcontour": [
           {
            "colorbar": {
             "outlinewidth": 0,
             "ticks": ""
            },
            "colorscale": [
             [
              0,
              "#0d0887"
             ],
             [
              0.1111111111111111,
              "#46039f"
             ],
             [
              0.2222222222222222,
              "#7201a8"
             ],
             [
              0.3333333333333333,
              "#9c179e"
             ],
             [
              0.4444444444444444,
              "#bd3786"
             ],
             [
              0.5555555555555556,
              "#d8576b"
             ],
             [
              0.6666666666666666,
              "#ed7953"
             ],
             [
              0.7777777777777778,
              "#fb9f3a"
             ],
             [
              0.8888888888888888,
              "#fdca26"
             ],
             [
              1,
              "#f0f921"
             ]
            ],
            "type": "histogram2dcontour"
           }
          ],
          "mesh3d": [
           {
            "colorbar": {
             "outlinewidth": 0,
             "ticks": ""
            },
            "type": "mesh3d"
           }
          ],
          "parcoords": [
           {
            "line": {
             "colorbar": {
              "outlinewidth": 0,
              "ticks": ""
             }
            },
            "type": "parcoords"
           }
          ],
          "pie": [
           {
            "automargin": true,
            "type": "pie"
           }
          ],
          "scatter": [
           {
            "fillpattern": {
             "fillmode": "overlay",
             "size": 10,
             "solidity": 0.2
            },
            "type": "scatter"
           }
          ],
          "scatter3d": [
           {
            "line": {
             "colorbar": {
              "outlinewidth": 0,
              "ticks": ""
             }
            },
            "marker": {
             "colorbar": {
              "outlinewidth": 0,
              "ticks": ""
             }
            },
            "type": "scatter3d"
           }
          ],
          "scattercarpet": [
           {
            "marker": {
             "colorbar": {
              "outlinewidth": 0,
              "ticks": ""
             }
            },
            "type": "scattercarpet"
           }
          ],
          "scattergeo": [
           {
            "marker": {
             "colorbar": {
              "outlinewidth": 0,
              "ticks": ""
             }
            },
            "type": "scattergeo"
           }
          ],
          "scattergl": [
           {
            "marker": {
             "colorbar": {
              "outlinewidth": 0,
              "ticks": ""
             }
            },
            "type": "scattergl"
           }
          ],
          "scattermapbox": [
           {
            "marker": {
             "colorbar": {
              "outlinewidth": 0,
              "ticks": ""
             }
            },
            "type": "scattermapbox"
           }
          ],
          "scatterpolar": [
           {
            "marker": {
             "colorbar": {
              "outlinewidth": 0,
              "ticks": ""
             }
            },
            "type": "scatterpolar"
           }
          ],
          "scatterpolargl": [
           {
            "marker": {
             "colorbar": {
              "outlinewidth": 0,
              "ticks": ""
             }
            },
            "type": "scatterpolargl"
           }
          ],
          "scatterternary": [
           {
            "marker": {
             "colorbar": {
              "outlinewidth": 0,
              "ticks": ""
             }
            },
            "type": "scatterternary"
           }
          ],
          "surface": [
           {
            "colorbar": {
             "outlinewidth": 0,
             "ticks": ""
            },
            "colorscale": [
             [
              0,
              "#0d0887"
             ],
             [
              0.1111111111111111,
              "#46039f"
             ],
             [
              0.2222222222222222,
              "#7201a8"
             ],
             [
              0.3333333333333333,
              "#9c179e"
             ],
             [
              0.4444444444444444,
              "#bd3786"
             ],
             [
              0.5555555555555556,
              "#d8576b"
             ],
             [
              0.6666666666666666,
              "#ed7953"
             ],
             [
              0.7777777777777778,
              "#fb9f3a"
             ],
             [
              0.8888888888888888,
              "#fdca26"
             ],
             [
              1,
              "#f0f921"
             ]
            ],
            "type": "surface"
           }
          ],
          "table": [
           {
            "cells": {
             "fill": {
              "color": "#EBF0F8"
             },
             "line": {
              "color": "white"
             }
            },
            "header": {
             "fill": {
              "color": "#C8D4E3"
             },
             "line": {
              "color": "white"
             }
            },
            "type": "table"
           }
          ]
         },
         "layout": {
          "annotationdefaults": {
           "arrowcolor": "#2a3f5f",
           "arrowhead": 0,
           "arrowwidth": 1
          },
          "autotypenumbers": "strict",
          "coloraxis": {
           "colorbar": {
            "outlinewidth": 0,
            "ticks": ""
           }
          },
          "colorscale": {
           "diverging": [
            [
             0,
             "#8e0152"
            ],
            [
             0.1,
             "#c51b7d"
            ],
            [
             0.2,
             "#de77ae"
            ],
            [
             0.3,
             "#f1b6da"
            ],
            [
             0.4,
             "#fde0ef"
            ],
            [
             0.5,
             "#f7f7f7"
            ],
            [
             0.6,
             "#e6f5d0"
            ],
            [
             0.7,
             "#b8e186"
            ],
            [
             0.8,
             "#7fbc41"
            ],
            [
             0.9,
             "#4d9221"
            ],
            [
             1,
             "#276419"
            ]
           ],
           "sequential": [
            [
             0,
             "#0d0887"
            ],
            [
             0.1111111111111111,
             "#46039f"
            ],
            [
             0.2222222222222222,
             "#7201a8"
            ],
            [
             0.3333333333333333,
             "#9c179e"
            ],
            [
             0.4444444444444444,
             "#bd3786"
            ],
            [
             0.5555555555555556,
             "#d8576b"
            ],
            [
             0.6666666666666666,
             "#ed7953"
            ],
            [
             0.7777777777777778,
             "#fb9f3a"
            ],
            [
             0.8888888888888888,
             "#fdca26"
            ],
            [
             1,
             "#f0f921"
            ]
           ],
           "sequentialminus": [
            [
             0,
             "#0d0887"
            ],
            [
             0.1111111111111111,
             "#46039f"
            ],
            [
             0.2222222222222222,
             "#7201a8"
            ],
            [
             0.3333333333333333,
             "#9c179e"
            ],
            [
             0.4444444444444444,
             "#bd3786"
            ],
            [
             0.5555555555555556,
             "#d8576b"
            ],
            [
             0.6666666666666666,
             "#ed7953"
            ],
            [
             0.7777777777777778,
             "#fb9f3a"
            ],
            [
             0.8888888888888888,
             "#fdca26"
            ],
            [
             1,
             "#f0f921"
            ]
           ]
          },
          "colorway": [
           "#636efa",
           "#EF553B",
           "#00cc96",
           "#ab63fa",
           "#FFA15A",
           "#19d3f3",
           "#FF6692",
           "#B6E880",
           "#FF97FF",
           "#FECB52"
          ],
          "font": {
           "color": "#2a3f5f"
          },
          "geo": {
           "bgcolor": "white",
           "lakecolor": "white",
           "landcolor": "#E5ECF6",
           "showlakes": true,
           "showland": true,
           "subunitcolor": "white"
          },
          "hoverlabel": {
           "align": "left"
          },
          "hovermode": "closest",
          "mapbox": {
           "style": "light"
          },
          "paper_bgcolor": "white",
          "plot_bgcolor": "#E5ECF6",
          "polar": {
           "angularaxis": {
            "gridcolor": "white",
            "linecolor": "white",
            "ticks": ""
           },
           "bgcolor": "#E5ECF6",
           "radialaxis": {
            "gridcolor": "white",
            "linecolor": "white",
            "ticks": ""
           }
          },
          "scene": {
           "xaxis": {
            "backgroundcolor": "#E5ECF6",
            "gridcolor": "white",
            "gridwidth": 2,
            "linecolor": "white",
            "showbackground": true,
            "ticks": "",
            "zerolinecolor": "white"
           },
           "yaxis": {
            "backgroundcolor": "#E5ECF6",
            "gridcolor": "white",
            "gridwidth": 2,
            "linecolor": "white",
            "showbackground": true,
            "ticks": "",
            "zerolinecolor": "white"
           },
           "zaxis": {
            "backgroundcolor": "#E5ECF6",
            "gridcolor": "white",
            "gridwidth": 2,
            "linecolor": "white",
            "showbackground": true,
            "ticks": "",
            "zerolinecolor": "white"
           }
          },
          "shapedefaults": {
           "line": {
            "color": "#2a3f5f"
           }
          },
          "ternary": {
           "aaxis": {
            "gridcolor": "white",
            "linecolor": "white",
            "ticks": ""
           },
           "baxis": {
            "gridcolor": "white",
            "linecolor": "white",
            "ticks": ""
           },
           "bgcolor": "#E5ECF6",
           "caxis": {
            "gridcolor": "white",
            "linecolor": "white",
            "ticks": ""
           }
          },
          "title": {
           "x": 0.05
          },
          "xaxis": {
           "automargin": true,
           "gridcolor": "white",
           "linecolor": "white",
           "ticks": "",
           "title": {
            "standoff": 15
           },
           "zerolinecolor": "white",
           "zerolinewidth": 2
          },
          "yaxis": {
           "automargin": true,
           "gridcolor": "white",
           "linecolor": "white",
           "ticks": "",
           "title": {
            "standoff": 15
           },
           "zerolinecolor": "white",
           "zerolinewidth": 2
          }
         }
        },
        "title": {
         "text": "Peak-to-peak amplitude over epochs for Magnetometers",
         "x": 0.5,
         "xanchor": "center",
         "y": 0.85,
         "yanchor": "top"
        },
        "xaxis": {
         "rangeslider": {
          "visible": true
         },
         "tickmode": "array",
         "ticktext": [
          "MEG0111",
          "MEG0121",
          "MEG0131",
          "MEG0141",
          "MEG0211",
          "MEG0221",
          "MEG0231",
          "MEG0241",
          "MEG0311",
          "MEG0321",
          "MEG0331",
          "MEG0341",
          "MEG0411",
          "MEG0421",
          "MEG0431",
          "MEG0441",
          "MEG0511",
          "MEG0521",
          "MEG0531",
          "MEG0541",
          "MEG0611",
          "MEG0621",
          "MEG0631",
          "MEG0641",
          "MEG0711",
          "MEG0721",
          "MEG0731",
          "MEG0741",
          "MEG0811",
          "MEG0821",
          "MEG0911",
          "MEG0921",
          "MEG0931",
          "MEG0941",
          "MEG1011",
          "MEG1021",
          "MEG1031",
          "MEG1041",
          "MEG1111",
          "MEG1121",
          "MEG1131",
          "MEG1141",
          "MEG1211",
          "MEG1221",
          "MEG1231",
          "MEG1241",
          "MEG1311",
          "MEG1321",
          "MEG1331",
          "MEG1341",
          "MEG1411",
          "MEG1421",
          "MEG1431",
          "MEG1441",
          "MEG1511",
          "MEG1521",
          "MEG1531",
          "MEG1541",
          "MEG1611",
          "MEG1621",
          "MEG1631",
          "MEG1641",
          "MEG1711",
          "MEG1721",
          "MEG1731",
          "MEG1741",
          "MEG1811",
          "MEG1821",
          "MEG1831",
          "MEG1841",
          "MEG1911",
          "MEG1921",
          "MEG1931",
          "MEG1941",
          "MEG2011",
          "MEG2021",
          "MEG2031",
          "MEG2041",
          "MEG2111",
          "MEG2121",
          "MEG2131",
          "MEG2141",
          "MEG2211",
          "MEG2221",
          "MEG2231",
          "MEG2241",
          "MEG2311",
          "MEG2321",
          "MEG2331",
          "MEG2341",
          "MEG2411",
          "MEG2421",
          "MEG2431",
          "MEG2441",
          "MEG2511",
          "MEG2521",
          "MEG2531",
          "MEG2541",
          "MEG2611",
          "MEG2621",
          "MEG2631",
          "MEG2641"
         ],
         "tickvals": [
          0,
          1,
          2,
          3,
          4,
          5,
          6,
          7,
          8,
          9,
          10,
          11,
          12,
          13,
          14,
          15,
          16,
          17,
          18,
          19,
          20,
          21,
          22,
          23,
          24,
          25,
          26,
          27,
          28,
          29,
          30,
          31,
          32,
          33,
          34,
          35,
          36,
          37,
          38,
          39,
          40,
          41,
          42,
          43,
          44,
          45,
          46,
          47,
          48,
          49,
          50,
          51,
          52,
          53,
          54,
          55,
          56,
          57,
          58,
          59,
          60,
          61,
          62,
          63,
          64,
          65,
          66,
          67,
          68,
          69,
          70,
          71,
          72,
          73,
          74,
          75,
          76,
          77,
          78,
          79,
          80,
          81,
          82,
          83,
          84,
          85,
          86,
          87,
          88,
          89,
          90,
          91,
          92,
          93,
          94,
          95,
          96,
          97,
          98,
          99,
          100,
          101
         ]
        },
        "yaxis": {
         "exponentformat": "e",
         "showexponent": "all",
         "title": {
          "text": "Peak-to-peak amplitude in Tesla"
         }
        }
       }
      }
     },
     "metadata": {},
     "output_type": "display_data"
    },
    {
     "data": {
      "application/vnd.plotly.v1+json": {
       "config": {
        "plotlyServerURL": "https://plot.ly"
       },
       "data": [
        {
         "boxpoints": "all",
         "hovertemplate": "Epoch: %{text}<br>Amplitude: %{y: .2e}",
         "line": {
          "width": 1
         },
         "marker": {
          "size": 3
         },
         "name": "MEG0113",
         "opacity": 0.7,
         "pointpos": 0,
         "text": [
          0,
          1,
          2,
          3,
          4,
          5,
          6,
          7,
          8
         ],
         "type": "box",
         "y": [
          2.8832099432703667e-11,
          2.1257400819204796e-11,
          2.1444873115159388e-11,
          1.954011945289066e-11,
          2.3901390651510418e-11,
          2.598261870655136e-11,
          1.773323357129875e-11,
          1.9114121422429684e-11,
          2.9556274840233064e-11
         ]
        },
        {
         "boxpoints": "all",
         "hovertemplate": "Epoch: %{text}<br>Amplitude: %{y: .2e}",
         "line": {
          "width": 1
         },
         "marker": {
          "size": 3
         },
         "name": "MEG0112",
         "opacity": 0.7,
         "pointpos": 0,
         "text": [
          0,
          1,
          2,
          3,
          4,
          5,
          6,
          7,
          8
         ],
         "type": "box",
         "y": [
          2.2158494186293902e-11,
          1.8526912002673358e-11,
          1.8735746328171967e-11,
          2.3307800629042853e-11,
          1.9497701381077166e-11,
          2.206325562818766e-11,
          2.5314689047567486e-11,
          2.2493090272708528e-11,
          2.2791227033541017e-11
         ]
        },
        {
         "boxpoints": "all",
         "hovertemplate": "Epoch: %{text}<br>Amplitude: %{y: .2e}",
         "line": {
          "width": 1
         },
         "marker": {
          "size": 3
         },
         "name": "MEG0122",
         "opacity": 0.7,
         "pointpos": 0,
         "text": [
          0,
          1,
          2,
          3,
          4,
          5,
          6,
          7,
          8
         ],
         "type": "box",
         "y": [
          2.6186406989976835e-11,
          2.685747687265968e-11,
          2.5981068985764855e-11,
          2.921223682562884e-11,
          2.4350340067237468e-11,
          1.9543387954913108e-11,
          2.7010600161600014e-11,
          2.4991035821770375e-11,
          2.6734897454057892e-11
         ]
        },
        {
         "boxpoints": "all",
         "hovertemplate": "Epoch: %{text}<br>Amplitude: %{y: .2e}",
         "line": {
          "width": 1
         },
         "marker": {
          "size": 3
         },
         "name": "MEG0123",
         "opacity": 0.7,
         "pointpos": 0,
         "text": [
          0,
          1,
          2,
          3,
          4,
          5,
          6,
          7,
          8
         ],
         "type": "box",
         "y": [
          2.4374008530158643e-11,
          2.4185642468108553e-11,
          2.0681023895916015e-11,
          2.8175071839993486e-11,
          2.4340947820046526e-11,
          1.89141840645256e-11,
          2.3715893769489302e-11,
          2.4068766973864866e-11,
          2.8664940695236632e-11
         ]
        },
        {
         "boxpoints": "all",
         "hovertemplate": "Epoch: %{text}<br>Amplitude: %{y: .2e}",
         "line": {
          "width": 1
         },
         "marker": {
          "size": 3
         },
         "name": "MEG0132",
         "opacity": 0.7,
         "pointpos": 0,
         "text": [
          0,
          1,
          2,
          3,
          4,
          5,
          6,
          7,
          8
         ],
         "type": "box",
         "y": [
          2.5580724449250933e-11,
          3.30924992564561e-11,
          2.373530981152713e-11,
          2.1921504943659743e-11,
          2.3593488287076912e-11,
          2.6564598466529815e-11,
          2.817392389867015e-11,
          2.3274739918930736e-11,
          1.8782615932446767e-11
         ]
        },
        {
         "boxpoints": "all",
         "hovertemplate": "Epoch: %{text}<br>Amplitude: %{y: .2e}",
         "line": {
          "width": 1
         },
         "marker": {
          "size": 3
         },
         "name": "MEG0133",
         "opacity": 0.7,
         "pointpos": 0,
         "text": [
          0,
          1,
          2,
          3,
          4,
          5,
          6,
          7,
          8
         ],
         "type": "box",
         "y": [
          2.4358793089709316e-11,
          1.817016627761979e-11,
          2.3443257705196667e-11,
          2.926864666225764e-11,
          2.1494184531463834e-11,
          2.2162830447954077e-11,
          2.4177781815398358e-11,
          2.042443441140746e-11,
          1.8859068824581038e-11
         ]
        },
        {
         "boxpoints": "all",
         "hovertemplate": "Epoch: %{text}<br>Amplitude: %{y: .2e}",
         "line": {
          "width": 1
         },
         "marker": {
          "size": 3
         },
         "name": "MEG0143",
         "opacity": 0.7,
         "pointpos": 0,
         "text": [
          0,
          1,
          2,
          3,
          4,
          5,
          6,
          7,
          8
         ],
         "type": "box",
         "y": [
          2.622127570767321e-11,
          1.596212410100674e-11,
          2.0597198089736854e-11,
          1.4489889353826507e-11,
          2.3825589691828222e-11,
          1.5091117765080992e-11,
          2.0185113244234252e-11,
          2.0672206519027276e-11,
          2.440473342923023e-11
         ]
        },
        {
         "boxpoints": "all",
         "hovertemplate": "Epoch: %{text}<br>Amplitude: %{y: .2e}",
         "line": {
          "width": 1
         },
         "marker": {
          "size": 3
         },
         "name": "MEG0142",
         "opacity": 0.7,
         "pointpos": 0,
         "text": [
          0,
          1,
          2,
          3,
          4,
          5,
          6,
          7,
          8
         ],
         "type": "box",
         "y": [
          1.9088333578511944e-11,
          1.5079816399889606e-11,
          1.6963807263920756e-11,
          1.6151534419357413e-11,
          2.3076254111529675e-11,
          1.3452985263946458e-11,
          1.554148560181239e-11,
          1.730996234181072e-11,
          2.4532699938696807e-11
         ]
        },
        {
         "boxpoints": "all",
         "hovertemplate": "Epoch: %{text}<br>Amplitude: %{y: .2e}",
         "line": {
          "width": 1
         },
         "marker": {
          "size": 3
         },
         "name": "MEG0213",
         "opacity": 0.7,
         "pointpos": 0,
         "text": [
          0,
          1,
          2,
          3,
          4,
          5,
          6,
          7,
          8
         ],
         "type": "box",
         "y": [
          2.4585309590440438e-11,
          2.1663948654023677e-11,
          1.728110868152143e-11,
          1.7561435952680426e-11,
          2.4449124408281027e-11,
          2.4075281399502725e-11,
          3.034114881395247e-11,
          2.9196739617763786e-11,
          2.882003825735168e-11
         ]
        },
        {
         "boxpoints": "all",
         "hovertemplate": "Epoch: %{text}<br>Amplitude: %{y: .2e}",
         "line": {
          "width": 1
         },
         "marker": {
          "size": 3
         },
         "name": "MEG0212",
         "opacity": 0.7,
         "pointpos": 0,
         "text": [
          0,
          1,
          2,
          3,
          4,
          5,
          6,
          7,
          8
         ],
         "type": "box",
         "y": [
          2.516420300277261e-11,
          1.9396305363902948e-11,
          2.5736635752620577e-11,
          2.9295192467730016e-11,
          2.94491227172804e-11,
          3.0120936741352526e-11,
          2.8487311879941264e-11,
          2.260422739196935e-11,
          1.941328491338988e-11
         ]
        },
        {
         "boxpoints": "all",
         "hovertemplate": "Epoch: %{text}<br>Amplitude: %{y: .2e}",
         "line": {
          "width": 1
         },
         "marker": {
          "size": 3
         },
         "name": "MEG0222",
         "opacity": 0.7,
         "pointpos": 0,
         "text": [
          0,
          1,
          2,
          3,
          4,
          5,
          6,
          7,
          8
         ],
         "type": "box",
         "y": [
          3.0983145033481045e-11,
          2.0332336718952276e-11,
          1.9007325446490066e-11,
          3.0462041059922404e-11,
          3.334224272166602e-11,
          3.0234019397531475e-11,
          2.976193190460697e-11,
          3.330230760909069e-11,
          3.268361138740118e-11
         ]
        },
        {
         "boxpoints": "all",
         "hovertemplate": "Epoch: %{text}<br>Amplitude: %{y: .2e}",
         "line": {
          "width": 1
         },
         "marker": {
          "size": 3
         },
         "name": "MEG0223",
         "opacity": 0.7,
         "pointpos": 0,
         "text": [
          0,
          1,
          2,
          3,
          4,
          5,
          6,
          7,
          8
         ],
         "type": "box",
         "y": [
          2.7735108223333327e-11,
          2.2017842564846837e-11,
          1.9335489294119003e-11,
          3.1322956536849344e-11,
          3.328283675818331e-11,
          3.3916155986268564e-11,
          3.311365890565646e-11,
          3.1075776071401716e-11,
          2.951701524697492e-11
         ]
        },
        {
         "boxpoints": "all",
         "hovertemplate": "Epoch: %{text}<br>Amplitude: %{y: .2e}",
         "line": {
          "width": 1
         },
         "marker": {
          "size": 3
         },
         "name": "MEG0232",
         "opacity": 0.7,
         "pointpos": 0,
         "text": [
          0,
          1,
          2,
          3,
          4,
          5,
          6,
          7,
          8
         ],
         "type": "box",
         "y": [
          3.357315111885534e-11,
          2.4647298421900658e-11,
          2.785724182490598e-11,
          4.031753598172732e-11,
          4.02355199893338e-11,
          3.4103394046422764e-11,
          3.5337766521089614e-11,
          4.2379697774970646e-11,
          3.137874648516354e-11
         ]
        },
        {
         "boxpoints": "all",
         "hovertemplate": "Epoch: %{text}<br>Amplitude: %{y: .2e}",
         "line": {
          "width": 1
         },
         "marker": {
          "size": 3
         },
         "name": "MEG0233",
         "opacity": 0.7,
         "pointpos": 0,
         "text": [
          0,
          1,
          2,
          3,
          4,
          5,
          6,
          7,
          8
         ],
         "type": "box",
         "y": [
          4.254293503114923e-11,
          2.8295835267208585e-11,
          1.9890329398975054e-11,
          2.928197426102159e-11,
          3.470489007037194e-11,
          4.002618847386428e-11,
          2.557426727930716e-11,
          4.0339232072738394e-11,
          2.6068369923404665e-11
         ]
        },
        {
         "boxpoints": "all",
         "hovertemplate": "Epoch: %{text}<br>Amplitude: %{y: .2e}",
         "line": {
          "width": 1
         },
         "marker": {
          "size": 3
         },
         "name": "MEG0243",
         "opacity": 0.7,
         "pointpos": 0,
         "text": [
          0,
          1,
          2,
          3,
          4,
          5,
          6,
          7,
          8
         ],
         "type": "box",
         "y": [
          2.4452962726018502e-11,
          2.5800404167759083e-11,
          1.8646717340399362e-11,
          2.719450036159867e-11,
          3.3733195010989e-11,
          2.899837535709108e-11,
          3.508567860648472e-11,
          3.398021111211079e-11,
          3.3378601555503266e-11
         ]
        },
        {
         "boxpoints": "all",
         "hovertemplate": "Epoch: %{text}<br>Amplitude: %{y: .2e}",
         "line": {
          "width": 1
         },
         "marker": {
          "size": 3
         },
         "name": "MEG0242",
         "opacity": 0.7,
         "pointpos": 0,
         "text": [
          0,
          1,
          2,
          3,
          4,
          5,
          6,
          7,
          8
         ],
         "type": "box",
         "y": [
          3.3879714067167705e-11,
          2.224365902230907e-11,
          2.1215677567260416e-11,
          2.6948828834811586e-11,
          3.0502637667192426e-11,
          3.4268553100872724e-11,
          2.306811048073e-11,
          3.280448960874861e-11,
          1.679256068798245e-11
         ]
        },
        {
         "boxpoints": "all",
         "hovertemplate": "Epoch: %{text}<br>Amplitude: %{y: .2e}",
         "line": {
          "width": 1
         },
         "marker": {
          "size": 3
         },
         "name": "MEG0313",
         "opacity": 0.7,
         "pointpos": 0,
         "text": [
          0,
          1,
          2,
          3,
          4,
          5,
          6,
          7,
          8
         ],
         "type": "box",
         "y": [
          2.3620923700777813e-11,
          1.8953659189624042e-11,
          1.681534773402996e-11,
          2.4121094097800945e-11,
          1.9879818249292667e-11,
          2.2973503716525236e-11,
          2.2716089056013476e-11,
          1.9675642535670566e-11,
          1.9007733267749673e-11
         ]
        },
        {
         "boxpoints": "all",
         "hovertemplate": "Epoch: %{text}<br>Amplitude: %{y: .2e}",
         "line": {
          "width": 1
         },
         "marker": {
          "size": 3
         },
         "name": "MEG0312",
         "opacity": 0.7,
         "pointpos": 0,
         "text": [
          0,
          1,
          2,
          3,
          4,
          5,
          6,
          7,
          8
         ],
         "type": "box",
         "y": [
          2.5822776076857507e-11,
          2.171039612602948e-11,
          1.8570654121647303e-11,
          2.5156684906508554e-11,
          1.8028751756301507e-11,
          1.6493456942094344e-11,
          2.08454664904841e-11,
          1.9492669820082018e-11,
          1.731761321560356e-11
         ]
        },
        {
         "boxpoints": "all",
         "hovertemplate": "Epoch: %{text}<br>Amplitude: %{y: .2e}",
         "line": {
          "width": 1
         },
         "marker": {
          "size": 3
         },
         "name": "MEG0322",
         "opacity": 0.7,
         "pointpos": 0,
         "text": [
          0,
          1,
          2,
          3,
          4,
          5,
          6,
          7,
          8
         ],
         "type": "box",
         "y": [
          1.9848823833562557e-11,
          1.996815233412348e-11,
          1.8611727802475348e-11,
          2.294302019775771e-11,
          2.6422739409918925e-11,
          2.2512726486400897e-11,
          1.947731835398372e-11,
          2.363582486218652e-11,
          2.457857167397737e-11
         ]
        },
        {
         "boxpoints": "all",
         "hovertemplate": "Epoch: %{text}<br>Amplitude: %{y: .2e}",
         "line": {
          "width": 1
         },
         "marker": {
          "size": 3
         },
         "name": "MEG0323",
         "opacity": 0.7,
         "pointpos": 0,
         "text": [
          0,
          1,
          2,
          3,
          4,
          5,
          6,
          7,
          8
         ],
         "type": "box",
         "y": [
          2.2596276650542933e-11,
          2.274990114590087e-11,
          1.5471379185279995e-11,
          3.062937038928888e-11,
          1.9650459572889852e-11,
          2.0325811578798568e-11,
          2.6049894820694954e-11,
          2.1575375918233537e-11,
          1.8408911834215153e-11
         ]
        },
        {
         "boxpoints": "all",
         "hovertemplate": "Epoch: %{text}<br>Amplitude: %{y: .2e}",
         "line": {
          "width": 1
         },
         "marker": {
          "size": 3
         },
         "name": "MEG0333",
         "opacity": 0.7,
         "pointpos": 0,
         "text": [
          0,
          1,
          2,
          3,
          4,
          5,
          6,
          7,
          8
         ],
         "type": "box",
         "y": [
          2.1448135685236242e-11,
          1.507057884853475e-11,
          1.591444038449888e-11,
          2.0143787356594104e-11,
          1.9357421460532446e-11,
          2.5863647833864245e-11,
          1.610353612277537e-11,
          1.995061601996039e-11,
          2.2242183097750494e-11
         ]
        },
        {
         "boxpoints": "all",
         "hovertemplate": "Epoch: %{text}<br>Amplitude: %{y: .2e}",
         "line": {
          "width": 1
         },
         "marker": {
          "size": 3
         },
         "name": "MEG0332",
         "opacity": 0.7,
         "pointpos": 0,
         "text": [
          0,
          1,
          2,
          3,
          4,
          5,
          6,
          7,
          8
         ],
         "type": "box",
         "y": [
          2.8257370402558908e-11,
          2.4712086080199384e-11,
          2.319460363246332e-11,
          2.3840175299230628e-11,
          2.0139845084417907e-11,
          2.0158177621040227e-11,
          2.1895340826484975e-11,
          2.4518214127555576e-11,
          1.6653687001984824e-11
         ]
        },
        {
         "boxpoints": "all",
         "hovertemplate": "Epoch: %{text}<br>Amplitude: %{y: .2e}",
         "line": {
          "width": 1
         },
         "marker": {
          "size": 3
         },
         "name": "MEG0343",
         "opacity": 0.7,
         "pointpos": 0,
         "text": [
          0,
          1,
          2,
          3,
          4,
          5,
          6,
          7,
          8
         ],
         "type": "box",
         "y": [
          1.8978500639861064e-11,
          2.4235419214108293e-11,
          1.4008260442726266e-11,
          2.3593902928090023e-11,
          2.0618767871216743e-11,
          2.193412812388437e-11,
          2.3307800629042853e-11,
          2.214241059759071e-11,
          2.739342815710283e-11
         ]
        },
        {
         "boxpoints": "all",
         "hovertemplate": "Epoch: %{text}<br>Amplitude: %{y: .2e}",
         "line": {
          "width": 1
         },
         "marker": {
          "size": 3
         },
         "name": "MEG0342",
         "opacity": 0.7,
         "pointpos": 0,
         "text": [
          0,
          1,
          2,
          3,
          4,
          5,
          6,
          7,
          8
         ],
         "type": "box",
         "y": [
          2.424302343411661e-11,
          2.106905013899874e-11,
          2.1101561763890465e-11,
          2.7847744571224706e-11,
          2.3997942952633305e-11,
          2.229966647529506e-11,
          2.6988387496993436e-11,
          2.5089979533524188e-11,
          2.0317459399401823e-11
         ]
        },
        {
         "boxpoints": "all",
         "hovertemplate": "Epoch: %{text}<br>Amplitude: %{y: .2e}",
         "line": {
          "width": 1
         },
         "marker": {
          "size": 3
         },
         "name": "MEG0413",
         "opacity": 0.7,
         "pointpos": 0,
         "text": [
          0,
          1,
          2,
          3,
          4,
          5,
          6,
          7,
          8
         ],
         "type": "box",
         "y": [
          2.9655456970569417e-11,
          3.0718565430112196e-11,
          2.578322129868765e-11,
          3.509297141018592e-11,
          2.982027433421659e-11,
          3.3029715696387413e-11,
          2.7941465780694324e-11,
          3.189043611212609e-11,
          3.3933991369355365e-11
         ]
        },
        {
         "boxpoints": "all",
         "hovertemplate": "Epoch: %{text}<br>Amplitude: %{y: .2e}",
         "line": {
          "width": 1
         },
         "marker": {
          "size": 3
         },
         "name": "MEG0412",
         "opacity": 0.7,
         "pointpos": 0,
         "text": [
          0,
          1,
          2,
          3,
          4,
          5,
          6,
          7,
          8
         ],
         "type": "box",
         "y": [
          3.300462497889161e-11,
          2.1003587208192947e-11,
          2.1991275922792457e-11,
          3.4852308888046244e-11,
          3.12547688222431e-11,
          3.3365488533463605e-11,
          2.9862086408770153e-11,
          3.1016554598488826e-11,
          2.9047966422259257e-11
         ]
        },
        {
         "boxpoints": "all",
         "hovertemplate": "Epoch: %{text}<br>Amplitude: %{y: .2e}",
         "line": {
          "width": 1
         },
         "marker": {
          "size": 3
         },
         "name": "MEG0422",
         "opacity": 0.7,
         "pointpos": 0,
         "text": [
          0,
          1,
          2,
          3,
          4,
          5,
          6,
          7,
          8
         ],
         "type": "box",
         "y": [
          3.595829061857859e-11,
          3.551595402485566e-11,
          3.2535871339087654e-11,
          3.898211944112714e-11,
          2.8105736184063908e-11,
          3.234723081668322e-11,
          3.131675765370332e-11,
          3.207922028066403e-11,
          3.250384377616654e-11
         ]
        },
        {
         "boxpoints": "all",
         "hovertemplate": "Epoch: %{text}<br>Amplitude: %{y: .2e}",
         "line": {
          "width": 1
         },
         "marker": {
          "size": 3
         },
         "name": "MEG0423",
         "opacity": 0.7,
         "pointpos": 0,
         "text": [
          0,
          1,
          2,
          3,
          4,
          5,
          6,
          7,
          8
         ],
         "type": "box",
         "y": [
          3.772865696601593e-11,
          3.67498403126091e-11,
          2.9093424898663418e-11,
          3.277272033262525e-11,
          2.9072761954843345e-11,
          3.2176077829820627e-11,
          3.0422211132015835e-11,
          3.408008200724115e-11,
          2.982489310989402e-11
         ]
        },
        {
         "boxpoints": "all",
         "hovertemplate": "Epoch: %{text}<br>Amplitude: %{y: .2e}",
         "line": {
          "width": 1
         },
         "marker": {
          "size": 3
         },
         "name": "MEG0432",
         "opacity": 0.7,
         "pointpos": 0,
         "text": [
          0,
          1,
          2,
          3,
          4,
          5,
          6,
          7,
          8
         ],
         "type": "box",
         "y": [
          3.88193136090503e-11,
          4.2775940109402645e-11,
          3.093971970235116e-11,
          4.755059946594403e-11,
          3.4372807044692186e-11,
          4.039734660223235e-11,
          4.190445006710896e-11,
          3.6932945783999286e-11,
          4.4636091240122666e-11
         ]
        },
        {
         "boxpoints": "all",
         "hovertemplate": "Epoch: %{text}<br>Amplitude: %{y: .2e}",
         "line": {
          "width": 1
         },
         "marker": {
          "size": 3
         },
         "name": "MEG0433",
         "opacity": 0.7,
         "pointpos": 0,
         "text": [
          0,
          1,
          2,
          3,
          4,
          5,
          6,
          7,
          8
         ],
         "type": "box",
         "y": [
          3.354072619163e-11,
          3.01575665053972e-11,
          2.4566815171459053e-11,
          3.0288696725793824e-11,
          4.3206215527773586e-11,
          3.933397985589182e-11,
          3.159999892976002e-11,
          3.9410591693747786e-11,
          3.9447035677078794e-11
         ]
        },
        {
         "boxpoints": "all",
         "hovertemplate": "Epoch: %{text}<br>Amplitude: %{y: .2e}",
         "line": {
          "width": 1
         },
         "marker": {
          "size": 3
         },
         "name": "MEG0443",
         "opacity": 0.7,
         "pointpos": 0,
         "text": [
          0,
          1,
          2,
          3,
          4,
          5,
          6,
          7,
          8
         ],
         "type": "box",
         "y": [
          4.005718288959439e-11,
          4.3157510017340555e-11,
          3.0839443651459625e-11,
          4.1869581349412584e-11,
          3.859424646713319e-11,
          4.0246248825548064e-11,
          3.417968799283534e-11,
          3.0604771646645934e-11,
          3.9331913561509814e-11
         ]
        },
        {
         "boxpoints": "all",
         "hovertemplate": "Epoch: %{text}<br>Amplitude: %{y: .2e}",
         "line": {
          "width": 1
         },
         "marker": {
          "size": 3
         },
         "name": "MEG0442",
         "opacity": 0.7,
         "pointpos": 0,
         "text": [
          0,
          1,
          2,
          3,
          4,
          5,
          6,
          7,
          8
         ],
         "type": "box",
         "y": [
          4.2158040741264405e-11,
          3.2690253047914776e-11,
          2.518377842323373e-11,
          3.133535430314139e-11,
          4.5083591566283116e-11,
          4.155318002216771e-11,
          3.423474101098533e-11,
          3.5317103577269544e-11,
          3.637858851979789e-11
         ]
        },
        {
         "boxpoints": "all",
         "hovertemplate": "Epoch: %{text}<br>Amplitude: %{y: .2e}",
         "line": {
          "width": 1
         },
         "marker": {
          "size": 3
         },
         "name": "MEG0513",
         "opacity": 0.7,
         "pointpos": 0,
         "text": [
          0,
          1,
          2,
          3,
          4,
          5,
          6,
          7,
          8
         ],
         "type": "box",
         "y": [
          2.288699183086097e-11,
          2.0019809693673664e-11,
          1.5906334152692542e-11,
          2.401995139046957e-11,
          1.5269576746250344e-11,
          2.354025874701868e-11,
          2.1092273875001645e-11,
          1.9473584773790023e-11,
          1.666194538249186e-11
         ]
        },
        {
         "boxpoints": "all",
         "hovertemplate": "Epoch: %{text}<br>Amplitude: %{y: .2e}",
         "line": {
          "width": 1
         },
         "marker": {
          "size": 3
         },
         "name": "MEG0512",
         "opacity": 0.7,
         "pointpos": 0,
         "text": [
          0,
          1,
          2,
          3,
          4,
          5,
          6,
          7,
          8
         ],
         "type": "box",
         "y": [
          2.0595789252658212e-11,
          1.71323354860169e-11,
          1.790009072665784e-11,
          1.7566352308278994e-11,
          1.8509865074021797e-11,
          1.663446450376759e-11,
          2.0615714234198997e-11,
          1.6746772204490057e-11,
          1.8337071206326433e-11
         ]
        },
        {
         "boxpoints": "all",
         "hovertemplate": "Epoch: %{text}<br>Amplitude: %{y: .2e}",
         "line": {
          "width": 1
         },
         "marker": {
          "size": 3
         },
         "name": "MEG0523",
         "opacity": 0.7,
         "pointpos": 0,
         "text": [
          0,
          1,
          2,
          3,
          4,
          5,
          6,
          7,
          8
         ],
         "type": "box",
         "y": [
          2.0598003139496077e-11,
          1.9890901100977978e-11,
          2.057254344086063e-11,
          2.1556353475751542e-11,
          2.3837523370612008e-11,
          2.0548820791897967e-11,
          1.914139977514077e-11,
          2.3885781001249413e-11,
          1.5274048071798295e-11
         ]
        },
        {
         "boxpoints": "all",
         "hovertemplate": "Epoch: %{text}<br>Amplitude: %{y: .2e}",
         "line": {
          "width": 1
         },
         "marker": {
          "size": 3
         },
         "name": "MEG0522",
         "opacity": 0.7,
         "pointpos": 0,
         "text": [
          0,
          1,
          2,
          3,
          4,
          5,
          6,
          7,
          8
         ],
         "type": "box",
         "y": [
          1.6062621145949826e-11,
          1.411217382481703e-11,
          2.0229021999851907e-11,
          1.6841724243968143e-11,
          1.5010480743960024e-11,
          1.6754547996506557e-11,
          1.8834817053676425e-11,
          1.562118552797553e-11,
          1.778714822723264e-11
         ]
        },
        {
         "boxpoints": "all",
         "hovertemplate": "Epoch: %{text}<br>Amplitude: %{y: .2e}",
         "line": {
          "width": 1
         },
         "marker": {
          "size": 3
         },
         "name": "MEG0532",
         "opacity": 0.7,
         "pointpos": 0,
         "text": [
          0,
          1,
          2,
          3,
          4,
          5,
          6,
          7,
          8
         ],
         "type": "box",
         "y": [
          1.8041773800361206e-11,
          1.5830892425894146e-11,
          1.73568728088617e-11,
          1.9469386933624472e-11,
          2.1404226929618587e-11,
          1.9294761754272872e-11,
          1.4806147188405966e-11,
          2.3166916921178715e-11,
          1.3041650283340552e-11
         ]
        },
        {
         "boxpoints": "all",
         "hovertemplate": "Epoch: %{text}<br>Amplitude: %{y: .2e}",
         "line": {
          "width": 1
         },
         "marker": {
          "size": 3
         },
         "name": "MEG0533",
         "opacity": 0.7,
         "pointpos": 0,
         "text": [
          0,
          1,
          2,
          3,
          4,
          5,
          6,
          7,
          8
         ],
         "type": "box",
         "y": [
          1.927852658412853e-11,
          1.4111009340849815e-11,
          1.8689632685256436e-11,
          1.6387190373876823e-11,
          1.5629450705503557e-11,
          1.6491784227594624e-11,
          1.5755081403929605e-11,
          1.367473622012461e-11,
          1.616239571033976e-11
         ]
        },
        {
         "boxpoints": "all",
         "hovertemplate": "Epoch: %{text}<br>Amplitude: %{y: .2e}",
         "line": {
          "width": 1
         },
         "marker": {
          "size": 3
         },
         "name": "MEG0542",
         "opacity": 0.7,
         "pointpos": 0,
         "text": [
          0,
          1,
          2,
          3,
          4,
          5,
          6,
          7,
          8
         ],
         "type": "box",
         "y": [
          1.765353364513561e-11,
          1.7398198696501847e-11,
          1.8951828688594936e-11,
          1.7097110086552205e-11,
          2.416259398917852e-11,
          2.109619909372015e-11,
          1.4749209298768428e-11,
          2.096710235310493e-11,
          1.8906593595367208e-11
         ]
        },
        {
         "boxpoints": "all",
         "hovertemplate": "Epoch: %{text}<br>Amplitude: %{y: .2e}",
         "line": {
          "width": 1
         },
         "marker": {
          "size": 3
         },
         "name": "MEG0543",
         "opacity": 0.7,
         "pointpos": 0,
         "text": [
          0,
          1,
          2,
          3,
          4,
          5,
          6,
          7,
          8
         ],
         "type": "box",
         "y": [
          1.6554664401729436e-11,
          1.478010979202663e-11,
          2.170199470931143e-11,
          1.6117096179657292e-11,
          1.5486581208233336e-11,
          1.530286450155818e-11,
          1.7341995489311246e-11,
          1.8265143948083188e-11,
          1.6225576634712677e-11
         ]
        },
        {
         "boxpoints": "all",
         "hovertemplate": "Epoch: %{text}<br>Amplitude: %{y: .2e}",
         "line": {
          "width": 1
         },
         "marker": {
          "size": 3
         },
         "name": "MEG0613",
         "opacity": 0.7,
         "pointpos": 0,
         "text": [
          0,
          1,
          2,
          3,
          4,
          5,
          6,
          7,
          8
         ],
         "type": "box",
         "y": [
          1.568317435943575e-11,
          1.3475278038896724e-11,
          1.2779236024106966e-11,
          1.5209579687079666e-11,
          1.661676373021543e-11,
          2.2288428733919228e-11,
          1.7674255625938028e-11,
          2.0474025476575636e-11,
          1.4275142330553601e-11
         ]
        },
        {
         "boxpoints": "all",
         "hovertemplate": "Epoch: %{text}<br>Amplitude: %{y: .2e}",
         "line": {
          "width": 1
         },
         "marker": {
          "size": 3
         },
         "name": "MEG0612",
         "opacity": 0.7,
         "pointpos": 0,
         "text": [
          0,
          1,
          2,
          3,
          4,
          5,
          6,
          7,
          8
         ],
         "type": "box",
         "y": [
          1.900302066652755e-11,
          1.4715303286409127e-11,
          1.903332631746366e-11,
          1.4907593165817178e-11,
          1.6081913329369058e-11,
          1.6208529706061117e-11,
          1.3579096308728841e-11,
          1.6129493945949336e-11,
          1.4329105822226561e-11
         ]
        },
        {
         "boxpoints": "all",
         "hovertemplate": "Epoch: %{text}<br>Amplitude: %{y: .2e}",
         "line": {
          "width": 1
         },
         "marker": {
          "size": 3
         },
         "name": "MEG0622",
         "opacity": 0.7,
         "pointpos": 0,
         "text": [
          0,
          1,
          2,
          3,
          4,
          5,
          6,
          7,
          8
         ],
         "type": "box",
         "y": [
          2.1079154545592072e-11,
          2.1784378134671982e-11,
          1.3725704814880791e-11,
          2.8532942547543928e-11,
          2.3881871111696198e-11,
          2.711534539219562e-11,
          2.0618285199559098e-11,
          2.4758902820043465e-11,
          2.4570823070044842e-11
         ]
        },
        {
         "boxpoints": "all",
         "hovertemplate": "Epoch: %{text}<br>Amplitude: %{y: .2e}",
         "line": {
          "width": 1
         },
         "marker": {
          "size": 3
         },
         "name": "MEG0623",
         "opacity": 0.7,
         "pointpos": 0,
         "text": [
          0,
          1,
          2,
          3,
          4,
          5,
          6,
          7,
          8
         ],
         "type": "box",
         "y": [
          2.2919696640770168e-11,
          2.1044060339421474e-11,
          2.871714181646629e-11,
          1.7877966423324176e-11,
          2.0074463180077758e-11,
          1.9079797683270763e-11,
          1.7404864162250255e-11,
          2.3072243069494015e-11,
          1.6983002669117245e-11
         ]
        },
        {
         "boxpoints": "all",
         "hovertemplate": "Epoch: %{text}<br>Amplitude: %{y: .2e}",
         "line": {
          "width": 1
         },
         "marker": {
          "size": 3
         },
         "name": "MEG0633",
         "opacity": 0.7,
         "pointpos": 0,
         "text": [
          0,
          1,
          2,
          3,
          4,
          5,
          6,
          7,
          8
         ],
         "type": "box",
         "y": [
          2.6790445887444323e-11,
          3.3369064812201696e-11,
          2.498995210094065e-11,
          2.7235638404294997e-11,
          3.285408067391679e-11,
          3.1477928615499895e-11,
          3.168756357280173e-11,
          3.3912023397504545e-11,
          2.912127495337743e-11
         ]
        },
        {
         "boxpoints": "all",
         "hovertemplate": "Epoch: %{text}<br>Amplitude: %{y: .2e}",
         "line": {
          "width": 1
         },
         "marker": {
          "size": 3
         },
         "name": "MEG0632",
         "opacity": 0.7,
         "pointpos": 0,
         "text": [
          0,
          1,
          2,
          3,
          4,
          5,
          6,
          7,
          8
         ],
         "type": "box",
         "y": [
          2.749592105457399e-11,
          2.5126139685209315e-11,
          3.23130872357185e-11,
          2.7596652905696848e-11,
          2.5025255900676018e-11,
          2.614193000340413e-11,
          2.0586993540086154e-11,
          2.7770996494178718e-11,
          2.5072851040620706e-11
         ]
        },
        {
         "boxpoints": "all",
         "hovertemplate": "Epoch: %{text}<br>Amplitude: %{y: .2e}",
         "line": {
          "width": 1
         },
         "marker": {
          "size": 3
         },
         "name": "MEG0642",
         "opacity": 0.7,
         "pointpos": 0,
         "text": [
          0,
          1,
          2,
          3,
          4,
          5,
          6,
          7,
          8
         ],
         "type": "box",
         "y": [
          1.9919077842550806e-11,
          1.7561154185264698e-11,
          1.316884687850047e-11,
          2.214149224453204e-11,
          2.190489549599576e-11,
          2.2012922816318248e-11,
          1.9907270446082193e-11,
          2.0527486743919635e-11,
          2.0870180991915953e-11
         ]
        },
        {
         "boxpoints": "all",
         "hovertemplate": "Epoch: %{text}<br>Amplitude: %{y: .2e}",
         "line": {
          "width": 1
         },
         "marker": {
          "size": 3
         },
         "name": "MEG0643",
         "opacity": 0.7,
         "pointpos": 0,
         "text": [
          0,
          1,
          2,
          3,
          4,
          5,
          6,
          7,
          8
         ],
         "type": "box",
         "y": [
          1.874316849424481e-11,
          2.2375150482982265e-11,
          2.616293327806359e-11,
          2.316316002230234e-11,
          2.0817915898724e-11,
          2.1987169002281636e-11,
          1.9831260331315496e-11,
          2.0660277633774086e-11,
          1.9702530191316436e-11
         ]
        },
        {
         "boxpoints": "all",
         "hovertemplate": "Epoch: %{text}<br>Amplitude: %{y: .2e}",
         "line": {
          "width": 1
         },
         "marker": {
          "size": 3
         },
         "name": "MEG0713",
         "opacity": 0.7,
         "pointpos": 0,
         "text": [
          0,
          1,
          2,
          3,
          4,
          5,
          6,
          7,
          8
         ],
         "type": "box",
         "y": [
          3.82884348985961e-11,
          2.8576851303161583e-11,
          3.2877922532170715e-11,
          3.545318382157031e-11,
          3.4235546060744555e-11,
          3.478016222285935e-11,
          2.7591555139951765e-11,
          3.0967849088055796e-11,
          3.4124851718851304e-11
         ]
        },
        {
         "boxpoints": "all",
         "hovertemplate": "Epoch: %{text}<br>Amplitude: %{y: .2e}",
         "line": {
          "width": 1
         },
         "marker": {
          "size": 3
         },
         "name": "MEG0712",
         "opacity": 0.7,
         "pointpos": 0,
         "text": [
          0,
          1,
          2,
          3,
          4,
          5,
          6,
          7,
          8
         ],
         "type": "box",
         "y": [
          2.2479107829522013e-11,
          3.9424896808700144e-11,
          2.6129923745521306e-11,
          2.2180378756860095e-11,
          3.244495438627933e-11,
          3.4684574402918585e-11,
          2.332717213887417e-11,
          3.4408967196377316e-11,
          2.967077185834194e-11
         ]
        },
        {
         "boxpoints": "all",
         "hovertemplate": "Epoch: %{text}<br>Amplitude: %{y: .2e}",
         "line": {
          "width": 1
         },
         "marker": {
          "size": 3
         },
         "name": "MEG0723",
         "opacity": 0.7,
         "pointpos": 0,
         "text": [
          0,
          1,
          2,
          3,
          4,
          5,
          6,
          7,
          8
         ],
         "type": "box",
         "y": [
          3.569006971322187e-11,
          2.944469494360467e-11,
          2.0637853102577647e-11,
          2.957596541022631e-11,
          3.19528584319182e-11,
          2.7474827632757666e-11,
          2.6852786928174204e-11,
          4.1682323421043167e-11,
          3.4184774255929515e-11
         ]
        },
        {
         "boxpoints": "all",
         "hovertemplate": "Epoch: %{text}<br>Amplitude: %{y: .2e}",
         "line": {
          "width": 1
         },
         "marker": {
          "size": 3
         },
         "name": "MEG0722",
         "opacity": 0.7,
         "pointpos": 0,
         "text": [
          0,
          1,
          2,
          3,
          4,
          5,
          6,
          7,
          8
         ],
         "type": "box",
         "y": [
          2.5632381808801116e-11,
          2.7513253458107274e-11,
          3.1107122696401486e-11,
          2.623505100355326e-11,
          2.941576682225657e-11,
          2.996471236307652e-11,
          3.296256112897217e-11,
          2.656221428070442e-11,
          2.7779852041530178e-11
         ]
        },
        {
         "boxpoints": "all",
         "hovertemplate": "Epoch: %{text}<br>Amplitude: %{y: .2e}",
         "line": {
          "width": 1
         },
         "marker": {
          "size": 3
         },
         "name": "MEG0733",
         "opacity": 0.7,
         "pointpos": 0,
         "text": [
          0,
          1,
          2,
          3,
          4,
          5,
          6,
          7,
          8
         ],
         "type": "box",
         "y": [
          2.802780736737106e-11,
          2.2922953300393986e-11,
          3.1632900694150446e-11,
          3.9548874471620585e-11,
          3.314971971626553e-11,
          3.520011952610359e-11,
          2.3604694506036538e-11,
          3.824710901095596e-11,
          3.239949590987517e-11
         ]
        },
        {
         "boxpoints": "all",
         "hovertemplate": "Epoch: %{text}<br>Amplitude: %{y: .2e}",
         "line": {
          "width": 1
         },
         "marker": {
          "size": 3
         },
         "name": "MEG0732",
         "opacity": 0.7,
         "pointpos": 0,
         "text": [
          0,
          1,
          2,
          3,
          4,
          5,
          6,
          7,
          8
         ],
         "type": "box",
         "y": [
          3.129005477245892e-11,
          3.391231858241626e-11,
          1.709433187561841e-11,
          2.741315187620381e-11,
          3.360271502309022e-11,
          3.195524261774359e-11,
          3.245830582690154e-11,
          3.7234624763772356e-11,
          3.460305127583015e-11
         ]
        },
        {
         "boxpoints": "all",
         "hovertemplate": "Epoch: %{text}<br>Amplitude: %{y: .2e}",
         "line": {
          "width": 1
         },
         "marker": {
          "size": 3
         },
         "name": "MEG0743",
         "opacity": 0.7,
         "pointpos": 0,
         "text": [
          0,
          1,
          2,
          3,
          4,
          5,
          6,
          7,
          8
         ],
         "type": "box",
         "y": [
          2.960205120808061e-11,
          2.6272933067223392e-11,
          3.390789080874053e-11,
          3.956127223791263e-11,
          3.53762512539545e-11,
          4.1408539415427196e-11,
          2.5802851095316722e-11,
          3.91292577663514e-11,
          3.466002196379121e-11
         ]
        },
        {
         "boxpoints": "all",
         "hovertemplate": "Epoch: %{text}<br>Amplitude: %{y: .2e}",
         "line": {
          "width": 1
         },
         "marker": {
          "size": 3
         },
         "name": "MEG0742",
         "opacity": 0.7,
         "pointpos": 0,
         "text": [
          0,
          1,
          2,
          3,
          4,
          5,
          6,
          7,
          8
         ],
         "type": "box",
         "y": [
          4.825486146781153e-11,
          2.8038323329850918e-11,
          3.159046218645845e-11,
          2.158669895555909e-11,
          3.862317458848129e-11,
          3.4217834966041635e-11,
          2.878565578808022e-11,
          3.096962019752609e-11,
          4.017909425813282e-11
         ]
        },
        {
         "boxpoints": "all",
         "hovertemplate": "Epoch: %{text}<br>Amplitude: %{y: .2e}",
         "line": {
          "width": 1
         },
         "marker": {
          "size": 3
         },
         "name": "MEG0813",
         "opacity": 0.7,
         "pointpos": 0,
         "text": [
          0,
          1,
          2,
          3,
          4,
          5,
          6,
          7,
          8
         ],
         "type": "box",
         "y": [
          2.2994347669960983e-11,
          2.0268576778021763e-11,
          2.3539225599827674e-11,
          2.025940868194025e-11,
          2.9196739617763786e-11,
          2.3668314622535186e-11,
          2.086999495100521e-11,
          2.6701115180828247e-11,
          2.3606921339581057e-11
         ]
        },
        {
         "boxpoints": "all",
         "hovertemplate": "Epoch: %{text}<br>Amplitude: %{y: .2e}",
         "line": {
          "width": 1
         },
         "marker": {
          "size": 3
         },
         "name": "MEG0812",
         "opacity": 0.7,
         "pointpos": 0,
         "text": [
          0,
          1,
          2,
          3,
          4,
          5,
          6,
          7,
          8
         ],
         "type": "box",
         "y": [
          1.304569717325923e-11,
          1.7647369489626262e-11,
          2.0000886232369057e-11,
          2.2230148635965175e-11,
          2.1892388977367822e-11,
          2.066798356246859e-11,
          1.6115777268349627e-11,
          1.8207669520653223e-11,
          1.665949845493422e-11
         ]
        },
        {
         "boxpoints": "all",
         "hovertemplate": "Epoch: %{text}<br>Amplitude: %{y: .2e}",
         "line": {
          "width": 1
         },
         "marker": {
          "size": 3
         },
         "name": "MEG0822",
         "opacity": 0.7,
         "pointpos": 0,
         "text": [
          0,
          1,
          2,
          3,
          4,
          5,
          6,
          7,
          8
         ],
         "type": "box",
         "y": [
          1.818151211222645e-11,
          1.3900995454954414e-11,
          1.5754699934197543e-11,
          1.7785028226156708e-11,
          2.0250243401613066e-11,
          1.6337354368037224e-11,
          1.708164239717832e-11,
          2.1459074890788047e-11,
          1.0645843841013557e-11
         ]
        },
        {
         "boxpoints": "all",
         "hovertemplate": "Epoch: %{text}<br>Amplitude: %{y: .2e}",
         "line": {
          "width": 1
         },
         "marker": {
          "size": 3
         },
         "name": "MEG0823",
         "opacity": 0.7,
         "pointpos": 0,
         "text": [
          0,
          1,
          2,
          3,
          4,
          5,
          6,
          7,
          8
         ],
         "type": "box",
         "y": [
          1.545968830917127e-11,
          1.7210473653710966e-11,
          1.8870335976965946e-11,
          2.166922918411103e-11,
          1.689477424706733e-11,
          1.8250545129079877e-11,
          1.6113096900208247e-11,
          1.65566533481934e-11,
          1.465232305107875e-11
         ]
        },
        {
         "boxpoints": "all",
         "hovertemplate": "Epoch: %{text}<br>Amplitude: %{y: .2e}",
         "line": {
          "width": 1
         },
         "marker": {
          "size": 3
         },
         "name": "MEG0913",
         "opacity": 0.7,
         "pointpos": 0,
         "text": [
          0,
          1,
          2,
          3,
          4,
          5,
          6,
          7,
          8
         ],
         "type": "box",
         "y": [
          2.5207996731881146e-11,
          2.4109656158576672e-11,
          2.3716118366704738e-11,
          2.216916367222091e-11,
          2.7007683040119535e-11,
          2.894401592027212e-11,
          2.0540367034700133e-11,
          3.0697445979393775e-11,
          2.945858899203541e-11
         ]
        },
        {
         "boxpoints": "all",
         "hovertemplate": "Epoch: %{text}<br>Amplitude: %{y: .2e}",
         "line": {
          "width": 1
         },
         "marker": {
          "size": 3
         },
         "name": "MEG0912",
         "opacity": 0.7,
         "pointpos": 0,
         "text": [
          0,
          1,
          2,
          3,
          4,
          5,
          6,
          7,
          8
         ],
         "type": "box",
         "y": [
          1.3971743577816622e-11,
          1.7371458416264105e-11,
          1.767314235712813e-11,
          1.568059149145824e-11,
          2.0882722404341504e-11,
          2.267713164809974e-11,
          1.663179132572094e-11,
          1.9715400253467224e-11,
          1.5581075107618915e-11
         ]
        },
        {
         "boxpoints": "all",
         "hovertemplate": "Epoch: %{text}<br>Amplitude: %{y: .2e}",
         "line": {
          "width": 1
         },
         "marker": {
          "size": 3
         },
         "name": "MEG0923",
         "opacity": 0.7,
         "pointpos": 0,
         "text": [
          0,
          1,
          2,
          3,
          4,
          5,
          6,
          7,
          8
         ],
         "type": "box",
         "y": [
          2.526105655368156e-11,
          2.1823577475778332e-11,
          2.2719627530536576e-11,
          2.3899277395892456e-11,
          2.284761235481274e-11,
          2.6976299674858692e-11,
          2.195904363485193e-11,
          3.172841984808233e-11,
          2.817392389867015e-11
         ]
        },
        {
         "boxpoints": "all",
         "hovertemplate": "Epoch: %{text}<br>Amplitude: %{y: .2e}",
         "line": {
          "width": 1
         },
         "marker": {
          "size": 3
         },
         "name": "MEG0922",
         "opacity": 0.7,
         "pointpos": 0,
         "text": [
          0,
          1,
          2,
          3,
          4,
          5,
          6,
          7,
          8
         ],
         "type": "box",
         "y": [
          1.9159714657163106e-11,
          1.8586317966156068e-11,
          1.6844431802123876e-11,
          2.037882834254744e-11,
          1.9616465697572956e-11,
          1.7847148112228896e-11,
          1.678657555942767e-11,
          2.2591829625677308e-11,
          1.88198092313229e-11
         ]
        },
        {
         "boxpoints": "all",
         "hovertemplate": "Epoch: %{text}<br>Amplitude: %{y: .2e}",
         "line": {
          "width": 1
         },
         "marker": {
          "size": 3
         },
         "name": "MEG0932",
         "opacity": 0.7,
         "pointpos": 0,
         "text": [
          0,
          1,
          2,
          3,
          4,
          5,
          6,
          7,
          8
         ],
         "type": "box",
         "y": [
          1.81304417681257e-11,
          2.1843581679034198e-11,
          1.4960932392887602e-11,
          1.703577066189776e-11,
          1.8151658183655238e-11,
          1.565622269358348e-11,
          1.897347628194271e-11,
          2.2782961856012986e-11,
          2.0617097913472663e-11
         ]
        },
        {
         "boxpoints": "all",
         "hovertemplate": "Epoch: %{text}<br>Amplitude: %{y: .2e}",
         "line": {
          "width": 1
         },
         "marker": {
          "size": 3
         },
         "name": "MEG0933",
         "opacity": 0.7,
         "pointpos": 0,
         "text": [
          0,
          1,
          2,
          3,
          4,
          5,
          6,
          7,
          8
         ],
         "type": "box",
         "y": [
          1.5105438450226494e-11,
          2.4193355364188858e-11,
          2.2769826127441655e-11,
          2.2742387348148114e-11,
          2.0146370224571615e-11,
          1.3805798320926219e-11,
          2.223115250368113e-11,
          1.947049199768276e-11,
          1.3770070767818603e-11
         ]
        },
        {
         "boxpoints": "all",
         "hovertemplate": "Epoch: %{text}<br>Amplitude: %{y: .2e}",
         "line": {
          "width": 1
         },
         "marker": {
          "size": 3
         },
         "name": "MEG0942",
         "opacity": 0.7,
         "pointpos": 0,
         "text": [
          0,
          1,
          2,
          3,
          4,
          5,
          6,
          7,
          8
         ],
         "type": "box",
         "y": [
          1.6714845625880845e-11,
          1.6852696979651908e-11,
          1.339354432933059e-11,
          1.8110600645934833e-11,
          1.5535456292977353e-11,
          1.244922871816199e-11,
          1.851095899457698e-11,
          2.0853772183588246e-11,
          1.3486350649394281e-11
         ]
        },
        {
         "boxpoints": "all",
         "hovertemplate": "Epoch: %{text}<br>Amplitude: %{y: .2e}",
         "line": {
          "width": 1
         },
         "marker": {
          "size": 3
         },
         "name": "MEG0943",
         "opacity": 0.7,
         "pointpos": 0,
         "text": [
          0,
          1,
          2,
          3,
          4,
          5,
          6,
          7,
          8
         ],
         "type": "box",
         "y": [
          1.0008096839252576e-11,
          1.6798973325719716e-11,
          2.0094712865021432e-11,
          1.6154732255900997e-11,
          1.620473556206657e-11,
          1.5450716241459923e-11,
          1.9436316336936363e-11,
          1.5549964317361658e-11,
          1.6506248288268675e-11
         ]
        },
        {
         "boxpoints": "all",
         "hovertemplate": "Epoch: %{text}<br>Amplitude: %{y: .2e}",
         "line": {
          "width": 1
         },
         "marker": {
          "size": 3
         },
         "name": "MEG1013",
         "opacity": 0.7,
         "pointpos": 0,
         "text": [
          0,
          1,
          2,
          3,
          4,
          5,
          6,
          7,
          8
         ],
         "type": "box",
         "y": [
          1.3722556175822494e-11,
          1.4404654710568704e-11,
          1.0771850900202041e-11,
          1.7149344981799222e-11,
          1.6778976928474484e-11,
          2.178091783307532e-11,
          1.656393233976638e-11,
          1.911239651581514e-11,
          1.7194901991175317e-11
         ]
        },
        {
         "boxpoints": "all",
         "hovertemplate": "Epoch: %{text}<br>Amplitude: %{y: .2e}",
         "line": {
          "width": 1
         },
         "marker": {
          "size": 3
         },
         "name": "MEG1012",
         "opacity": 0.7,
         "pointpos": 0,
         "text": [
          0,
          1,
          2,
          3,
          4,
          5,
          6,
          7,
          8
         ],
         "type": "box",
         "y": [
          1.7393678677541205e-11,
          1.7564463314216857e-11,
          2.1168348256753627e-11,
          1.751627266118798e-11,
          1.5939506554392878e-11,
          1.6307019407960946e-11,
          1.9126211169683417e-11,
          1.8386213668109043e-11,
          1.515110355606886e-11
         ]
        },
        {
         "boxpoints": "all",
         "hovertemplate": "Epoch: %{text}<br>Amplitude: %{y: .2e}",
         "line": {
          "width": 1
         },
         "marker": {
          "size": 3
         },
         "name": "MEG1023",
         "opacity": 0.7,
         "pointpos": 0,
         "text": [
          0,
          1,
          2,
          3,
          4,
          5,
          6,
          7,
          8
         ],
         "type": "box",
         "y": [
          1.4931272792649743e-11,
          1.4464060674051416e-11,
          1.0269805937073694e-11,
          1.5959910214168876e-11,
          1.412855971781496e-11,
          2.110230325708975e-11,
          1.496791861181782e-11,
          1.8193722033574673e-11,
          1.753438628077051e-11
         ]
        },
        {
         "boxpoints": "all",
         "hovertemplate": "Epoch: %{text}<br>Amplitude: %{y: .2e}",
         "line": {
          "width": 1
         },
         "marker": {
          "size": 3
         },
         "name": "MEG1022",
         "opacity": 0.7,
         "pointpos": 0,
         "text": [
          0,
          1,
          2,
          3,
          4,
          5,
          6,
          7,
          8
         ],
         "type": "box",
         "y": [
          1.9873995056034282e-11,
          1.868215127456296e-11,
          2.3858812464244813e-11,
          1.790538004481274e-11,
          1.6800796526645016e-11,
          1.2384158987577193e-11,
          2.0084381393111394e-11,
          1.5730403945310202e-11,
          1.8631686603674057e-11
         ]
        },
        {
         "boxpoints": "all",
         "hovertemplate": "Epoch: %{text}<br>Amplitude: %{y: .2e}",
         "line": {
          "width": 1
         },
         "marker": {
          "size": 3
         },
         "name": "MEG1032",
         "opacity": 0.7,
         "pointpos": 0,
         "text": [
          0,
          1,
          2,
          3,
          4,
          5,
          6,
          7,
          8
         ],
         "type": "box",
         "y": [
          2.0303408597604172e-11,
          2.0742745534137184e-11,
          1.7833709973940315e-11,
          2.8985977590799037e-11,
          3.315024953533784e-11,
          2.6783943562465977e-11,
          2.0895004573745044e-11,
          2.141094238636011e-11,
          2.7215576564295143e-11
         ]
        },
        {
         "boxpoints": "all",
         "hovertemplate": "Epoch: %{text}<br>Amplitude: %{y: .2e}",
         "line": {
          "width": 1
         },
         "marker": {
          "size": 3
         },
         "name": "MEG1033",
         "opacity": 0.7,
         "pointpos": 0,
         "text": [
          0,
          1,
          2,
          3,
          4,
          5,
          6,
          7,
          8
         ],
         "type": "box",
         "y": [
          2.7469137836633296e-11,
          1.9418501364845157e-11,
          2.902171232893493e-11,
          2.1731513200482964e-11,
          1.99925460872444e-11,
          1.4028342076106389e-11,
          2.4308477479757838e-11,
          2.0138931564796387e-11,
          1.907484899504495e-11
         ]
        },
        {
         "boxpoints": "all",
         "hovertemplate": "Epoch: %{text}<br>Amplitude: %{y: .2e}",
         "line": {
          "width": 1
         },
         "marker": {
          "size": 3
         },
         "name": "MEG1043",
         "opacity": 0.7,
         "pointpos": 0,
         "text": [
          0,
          1,
          2,
          3,
          4,
          5,
          6,
          7,
          8
         ],
         "type": "box",
         "y": [
          2.8065443443614765e-11,
          2.99941414042748e-11,
          2.7698068457166693e-11,
          3.2473292137804005e-11,
          3.25915397406735e-11,
          2.7053231077270903e-11,
          2.957752815387657e-11,
          3.2588414253372985e-11,
          2.6900053412162622e-11
         ]
        },
        {
         "boxpoints": "all",
         "hovertemplate": "Epoch: %{text}<br>Amplitude: %{y: .2e}",
         "line": {
          "width": 1
         },
         "marker": {
          "size": 3
         },
         "name": "MEG1042",
         "opacity": 0.7,
         "pointpos": 0,
         "text": [
          0,
          1,
          2,
          3,
          4,
          5,
          6,
          7,
          8
         ],
         "type": "box",
         "y": [
          3.203789439302389e-11,
          2.4149815589710845e-11,
          3.2825152552568686e-11,
          3.035681632080505e-11,
          2.1581901058387245e-11,
          1.9967291378130977e-11,
          2.640724220205387e-11,
          3.5429001365341326e-11,
          2.1108673036763608e-11
         ]
        },
        {
         "boxpoints": "all",
         "hovertemplate": "Epoch: %{text}<br>Amplitude: %{y: .2e}",
         "line": {
          "width": 1
         },
         "marker": {
          "size": 3
         },
         "name": "MEG1112",
         "opacity": 0.7,
         "pointpos": 0,
         "text": [
          0,
          1,
          2,
          3,
          4,
          5,
          6,
          7,
          8
         ],
         "type": "box",
         "y": [
          3.018029574359928e-11,
          3.1858385068587e-11,
          2.2650719015564517e-11,
          3.154069230735337e-11,
          3.207010427603753e-11,
          2.79746740832623e-11,
          2.406406437285754e-11,
          3.3875073192085125e-11,
          3.176307724021691e-11
         ]
        },
        {
         "boxpoints": "all",
         "hovertemplate": "Epoch: %{text}<br>Amplitude: %{y: .2e}",
         "line": {
          "width": 1
         },
         "marker": {
          "size": 3
         },
         "name": "MEG1113",
         "opacity": 0.7,
         "pointpos": 0,
         "text": [
          0,
          1,
          2,
          3,
          4,
          5,
          6,
          7,
          8
         ],
         "type": "box",
         "y": [
          3.331124830593591e-11,
          2.3656487806006592e-11,
          2.8463812845792947e-11,
          3.386243233233637e-11,
          2.4452962726018502e-11,
          2.6143115876701626e-11,
          3.550832973007713e-11,
          2.7067240937012688e-11,
          3.3031781990769416e-11
         ]
        },
        {
         "boxpoints": "all",
         "hovertemplate": "Epoch: %{text}<br>Amplitude: %{y: .2e}",
         "line": {
          "width": 1
         },
         "marker": {
          "size": 3
         },
         "name": "MEG1123",
         "opacity": 0.7,
         "pointpos": 0,
         "text": [
          0,
          1,
          2,
          3,
          4,
          5,
          6,
          7,
          8
         ],
         "type": "box",
         "y": [
          2.531856334953375e-11,
          2.7981758521143467e-11,
          2.503961360796276e-11,
          2.6101172346719032e-11,
          3.138405981357442e-11,
          3.1807563342794244e-11,
          1.7769098538072164e-11,
          2.9673074848984425e-11,
          3.778934533248049e-11
         ]
        },
        {
         "boxpoints": "all",
         "hovertemplate": "Epoch: %{text}<br>Amplitude: %{y: .2e}",
         "line": {
          "width": 1
         },
         "marker": {
          "size": 3
         },
         "name": "MEG1122",
         "opacity": 0.7,
         "pointpos": 0,
         "text": [
          0,
          1,
          2,
          3,
          4,
          5,
          6,
          7,
          8
         ],
         "type": "box",
         "y": [
          3.408352583121116e-11,
          3.0777454819999405e-11,
          2.0754987842544687e-11,
          3.0418284237715185e-11,
          2.5144627582311488e-11,
          2.3016929958344897e-11,
          2.7317703164125857e-11,
          1.9350846887498788e-11,
          3.03983692737619e-11
         ]
        },
        {
         "boxpoints": "all",
         "hovertemplate": "Epoch: %{text}<br>Amplitude: %{y: .2e}",
         "line": {
          "width": 1
         },
         "marker": {
          "size": 3
         },
         "name": "MEG1133",
         "opacity": 0.7,
         "pointpos": 0,
         "text": [
          0,
          1,
          2,
          3,
          4,
          5,
          6,
          7,
          8
         ],
         "type": "box",
         "y": [
          4.182179829182866e-11,
          3.627586417052095e-11,
          3.377978055705608e-11,
          3.483329550696811e-11,
          4.526311766258999e-11,
          3.8118998759271504e-11,
          2.7402709907267997e-11,
          3.912448939470061e-11,
          4.29248816003772e-11
         ]
        },
        {
         "boxpoints": "all",
         "hovertemplate": "Epoch: %{text}<br>Amplitude: %{y: .2e}",
         "line": {
          "width": 1
         },
         "marker": {
          "size": 3
         },
         "name": "MEG1132",
         "opacity": 0.7,
         "pointpos": 0,
         "text": [
          0,
          1,
          2,
          3,
          4,
          5,
          6,
          7,
          8
         ],
         "type": "box",
         "y": [
          4.016876278622279e-11,
          3.4671128296094496e-11,
          3.344090827840687e-11,
          3.0808449235729515e-11,
          3.246391567590246e-11,
          4.405192029983802e-11,
          4.924167357267322e-11,
          4.1364261678669895e-11,
          4.04071813687621e-11
         ]
        },
        {
         "boxpoints": "all",
         "hovertemplate": "Epoch: %{text}<br>Amplitude: %{y: .2e}",
         "line": {
          "width": 1
         },
         "marker": {
          "size": 3
         },
         "name": "MEG1142",
         "opacity": 0.7,
         "pointpos": 0,
         "text": [
          0,
          1,
          2,
          3,
          4,
          5,
          6,
          7,
          8
         ],
         "type": "box",
         "y": [
          2.9832125140231045e-11,
          3.925959325813956e-11,
          2.6430488013851453e-11,
          3.904134091404003e-11,
          3.886699732555816e-11,
          3.7897314890573286e-11,
          2.540133252790393e-11,
          4.8191150724366304e-11,
          3.825098331292222e-11
         ]
        },
        {
         "boxpoints": "all",
         "hovertemplate": "Epoch: %{text}<br>Amplitude: %{y: .2e}",
         "line": {
          "width": 1
         },
         "marker": {
          "size": 3
         },
         "name": "MEG1143",
         "opacity": 0.7,
         "pointpos": 0,
         "text": [
          0,
          1,
          2,
          3,
          4,
          5,
          6,
          7,
          8
         ],
         "type": "box",
         "y": [
          3.849506433679684e-11,
          3.053496909693442e-11,
          3.563915031595097e-11,
          3.332519579301446e-11,
          2.8814475157092426e-11,
          3.9823396439515847e-11,
          4.6889385263701676e-11,
          3.59207046302724e-11,
          3.338305203571067e-11
         ]
        },
        {
         "boxpoints": "all",
         "hovertemplate": "Epoch: %{text}<br>Amplitude: %{y: .2e}",
         "line": {
          "width": 1
         },
         "marker": {
          "size": 3
         },
         "name": "MEG1213",
         "opacity": 0.7,
         "pointpos": 0,
         "text": [
          0,
          1,
          2,
          3,
          4,
          5,
          6,
          7,
          8
         ],
         "type": "box",
         "y": [
          2.4930093706038377e-11,
          2.222988372642902e-11,
          2.125036179438697e-11,
          1.8609300219996763e-11,
          2.4455833787686135e-11,
          1.909441050262728e-11,
          2.8800011096418376e-11,
          2.8350204638135152e-11,
          2.5946105772898573e-11
         ]
        },
        {
         "boxpoints": "all",
         "hovertemplate": "Epoch: %{text}<br>Amplitude: %{y: .2e}",
         "line": {
          "width": 1
         },
         "marker": {
          "size": 3
         },
         "name": "MEG1212",
         "opacity": 0.7,
         "pointpos": 0,
         "text": [
          0,
          1,
          2,
          3,
          4,
          5,
          6,
          7,
          8
         ],
         "type": "box",
         "y": [
          2.1204948731046146e-11,
          2.523214957089491e-11,
          1.9755571069713703e-11,
          2.4803046381840896e-11,
          2.8607845718891693e-11,
          1.909256008974787e-11,
          2.4343530688024033e-11,
          2.015218167752101e-11,
          1.662305907427855e-11
         ]
        },
        {
         "boxpoints": "all",
         "hovertemplate": "Epoch: %{text}<br>Amplitude: %{y: .2e}",
         "line": {
          "width": 1
         },
         "marker": {
          "size": 3
         },
         "name": "MEG1223",
         "opacity": 0.7,
         "pointpos": 0,
         "text": [
          0,
          1,
          2,
          3,
          4,
          5,
          6,
          7,
          8
         ],
         "type": "box",
         "y": [
          2.5447891238979032e-11,
          2.2199561276351595e-11,
          2.2651106445761143e-11,
          1.698638142083201e-11,
          2.2566414204778617e-11,
          1.7080618233875934e-11,
          2.368211780362957e-11,
          2.460698322172997e-11,
          2.4377107971731654e-11
         ]
        },
        {
         "boxpoints": "all",
         "hovertemplate": "Epoch: %{text}<br>Amplitude: %{y: .2e}",
         "line": {
          "width": 1
         },
         "marker": {
          "size": 3
         },
         "name": "MEG1222",
         "opacity": 0.7,
         "pointpos": 0,
         "text": [
          0,
          1,
          2,
          3,
          4,
          5,
          6,
          7,
          8
         ],
         "type": "box",
         "y": [
          2.218208344972525e-11,
          2.7617847616453468e-11,
          2.5915464139136123e-11,
          2.6280001969056575e-11,
          2.276486396728782e-11,
          1.803593228076684e-11,
          2.3700396561624247e-11,
          1.5426668849945183e-11,
          1.9916125993433653e-11
         ]
        },
        {
         "boxpoints": "all",
         "hovertemplate": "Epoch: %{text}<br>Amplitude: %{y: .2e}",
         "line": {
          "width": 1
         },
         "marker": {
          "size": 3
         },
         "name": "MEG1232",
         "opacity": 0.7,
         "pointpos": 0,
         "text": [
          0,
          1,
          2,
          3,
          4,
          5,
          6,
          7,
          8
         ],
         "type": "box",
         "y": [
          2.5502664439263988e-11,
          2.7515748364636633e-11,
          1.950648551272418e-11,
          2.0657243697640327e-11,
          2.416789566555341e-11,
          1.9308581775139547e-11,
          2.060353785659074e-11,
          3.178395768870877e-11,
          2.4624325335293248e-11
         ]
        },
        {
         "boxpoints": "all",
         "hovertemplate": "Epoch: %{text}<br>Amplitude: %{y: .2e}",
         "line": {
          "width": 1
         },
         "marker": {
          "size": 3
         },
         "name": "MEG1233",
         "opacity": 0.7,
         "pointpos": 0,
         "text": [
          0,
          1,
          2,
          3,
          4,
          5,
          6,
          7,
          8
         ],
         "type": "box",
         "y": [
          2.1663465310308586e-11,
          2.8550284661107202e-11,
          2.5205347636519596e-11,
          2.5998115914416416e-11,
          2.4752781665839714e-11,
          2.087646090621421e-11,
          2.1248693357929445e-11,
          1.738071466711563e-11,
          1.7911421544357185e-11
         ]
        },
        {
         "boxpoints": "all",
         "hovertemplate": "Epoch: %{text}<br>Amplitude: %{y: .2e}",
         "line": {
          "width": 1
         },
         "marker": {
          "size": 3
         },
         "name": "MEG1243",
         "opacity": 0.7,
         "pointpos": 0,
         "text": [
          0,
          1,
          2,
          3,
          4,
          5,
          6,
          7,
          8
         ],
         "type": "box",
         "y": [
          1.8778340840621923e-11,
          2.0337502454907293e-11,
          1.5769958723480058e-11,
          1.967525510547394e-11,
          2.6186837467973087e-11,
          2.1933265670577095e-11,
          1.1745535978419144e-11,
          2.4587869998696403e-11,
          2.6647448923962224e-11
         ]
        },
        {
         "boxpoints": "all",
         "hovertemplate": "Epoch: %{text}<br>Amplitude: %{y: .2e}",
         "line": {
          "width": 1
         },
         "marker": {
          "size": 3
         },
         "name": "MEG1242",
         "opacity": 0.7,
         "pointpos": 0,
         "text": [
          0,
          1,
          2,
          3,
          4,
          5,
          6,
          7,
          8
         ],
         "type": "box",
         "y": [
          2.2586893477986956e-11,
          2.1761342412614198e-11,
          2.5309154330472824e-11,
          2.2949343473207666e-11,
          1.9898414898730733e-11,
          2.227465343803918e-11,
          2.20288731589162e-11,
          1.397331575832467e-11,
          2.0442009266920358e-11
         ]
        },
        {
         "boxpoints": "all",
         "hovertemplate": "Epoch: %{text}<br>Amplitude: %{y: .2e}",
         "line": {
          "width": 1
         },
         "marker": {
          "size": 3
         },
         "name": "MEG1312",
         "opacity": 0.7,
         "pointpos": 0,
         "text": [
          0,
          1,
          2,
          3,
          4,
          5,
          6,
          7,
          8
         ],
         "type": "box",
         "y": [
          3.720156405366024e-11,
          3.544728012333601e-11,
          2.6752055077051346e-11,
          3.152574857119778e-11,
          3.265380906458377e-11,
          2.834826748715202e-11,
          2.164868778701931e-11,
          2.9944479897252694e-11,
          3.2606125348075905e-11
         ]
        },
        {
         "boxpoints": "all",
         "hovertemplate": "Epoch: %{text}<br>Amplitude: %{y: .2e}",
         "line": {
          "width": 1
         },
         "marker": {
          "size": 3
         },
         "name": "MEG1313",
         "opacity": 0.7,
         "pointpos": 0,
         "text": [
          0,
          1,
          2,
          3,
          4,
          5,
          6,
          7,
          8
         ],
         "type": "box",
         "y": [
          3.044684771887823e-11,
          2.3232036501702583e-11,
          2.162218125048994e-11,
          3.292492505272847e-11,
          2.457547223240436e-11,
          2.1206592997132625e-11,
          2.9565410036448254e-11,
          2.7783394260470762e-11,
          3.106027886353666e-11
         ]
        },
        {
         "boxpoints": "all",
         "hovertemplate": "Epoch: %{text}<br>Amplitude: %{y: .2e}",
         "line": {
          "width": 1
         },
         "marker": {
          "size": 3
         },
         "name": "MEG1323",
         "opacity": 0.7,
         "pointpos": 0,
         "text": [
          0,
          1,
          2,
          3,
          4,
          5,
          6,
          7,
          8
         ],
         "type": "box",
         "y": [
          2.8146803784906304e-11,
          1.9892779550416168e-11,
          2.0256400400413506e-11,
          2.3679733617804175e-11,
          2.4894714714424494e-11,
          2.1957329657945195e-11,
          2.372880810937685e-11,
          2.1858811693660202e-11,
          2.581059969924925e-11
         ]
        },
        {
         "boxpoints": "all",
         "hovertemplate": "Epoch: %{text}<br>Amplitude: %{y: .2e}",
         "line": {
          "width": 1
         },
         "marker": {
          "size": 3
         },
         "name": "MEG1322",
         "opacity": 0.7,
         "pointpos": 0,
         "text": [
          0,
          1,
          2,
          3,
          4,
          5,
          6,
          7,
          8
         ],
         "type": "box",
         "y": [
          3.196852593877078e-11,
          2.207531680353965e-11,
          1.9362511452558504e-11,
          2.7222884721267297e-11,
          3.0663808628989e-11,
          2.536634640711767e-11,
          2.346483900207541e-11,
          2.6049894820694954e-11,
          2.8869889415518988e-11
         ]
        },
        {
         "boxpoints": "all",
         "hovertemplate": "Epoch: %{text}<br>Amplitude: %{y: .2e}",
         "line": {
          "width": 1
         },
         "marker": {
          "size": 3
         },
         "name": "MEG1333",
         "opacity": 0.7,
         "pointpos": 0,
         "text": [
          0,
          1,
          2,
          3,
          4,
          5,
          6,
          7,
          8
         ],
         "type": "box",
         "y": [
          3.289916346043331e-11,
          2.258992996793901e-11,
          2.8891387225756035e-11,
          3.503496047165363e-11,
          2.97383262505215e-11,
          2.6107629516662806e-11,
          3.358023555673651e-11,
          2.8883149058612083e-11,
          3.4048181322045244e-11
         ]
        },
        {
         "boxpoints": "all",
         "hovertemplate": "Epoch: %{text}<br>Amplitude: %{y: .2e}",
         "line": {
          "width": 1
         },
         "marker": {
          "size": 3
         },
         "name": "MEG1332",
         "opacity": 0.7,
         "pointpos": 0,
         "text": [
          0,
          1,
          2,
          3,
          4,
          5,
          6,
          7,
          8
         ],
         "type": "box",
         "y": [
          3.019741646847877e-11,
          2.7430057921147506e-11,
          2.6836736248599683e-11,
          3.495043024693515e-11,
          3.443761355030969e-11,
          3.189841952223839e-11,
          2.4687052129032755e-11,
          3.0412674388714265e-11,
          3.2552401694143717e-11
         ]
        },
        {
         "boxpoints": "all",
         "hovertemplate": "Epoch: %{text}<br>Amplitude: %{y: .2e}",
         "line": {
          "width": 1
         },
         "marker": {
          "size": 3
         },
         "name": "MEG1342",
         "opacity": 0.7,
         "pointpos": 0,
         "text": [
          0,
          1,
          2,
          3,
          4,
          5,
          6,
          7,
          8
         ],
         "type": "box",
         "y": [
          4.051412913292973e-11,
          4.167903613452634e-11,
          2.7030229958229085e-11,
          3.112282116670635e-11,
          3.50236897750245e-11,
          2.5587612097190956e-11,
          2.554669136531199e-11,
          2.7407919052768856e-11,
          3.453604430087077e-11
         ]
        },
        {
         "boxpoints": "all",
         "hovertemplate": "Epoch: %{text}<br>Amplitude: %{y: .2e}",
         "line": {
          "width": 1
         },
         "marker": {
          "size": 3
         },
         "name": "MEG1343",
         "opacity": 0.7,
         "pointpos": 0,
         "text": [
          0,
          1,
          2,
          3,
          4,
          5,
          6,
          7,
          8
         ],
         "type": "box",
         "y": [
          3.213405655464807e-11,
          2.534955776526386e-11,
          3.225803421756851e-11,
          3.289540656155693e-11,
          3.417134334244647e-11,
          3.1659762521116544e-11,
          2.6350888718908215e-11,
          4.26483160446316e-11,
          3.4439961612107426e-11
         ]
        },
        {
         "boxpoints": "all",
         "hovertemplate": "Epoch: %{text}<br>Amplitude: %{y: .2e}",
         "line": {
          "width": 1
         },
         "marker": {
          "size": 3
         },
         "name": "MEG1412",
         "opacity": 0.7,
         "pointpos": 0,
         "text": [
          0,
          1,
          2,
          3,
          4,
          5,
          6,
          7,
          8
         ],
         "type": "box",
         "y": [
          2.2752924991337953e-11,
          2.8948784291922905e-11,
          2.136031817400093e-11,
          2.300771833129224e-11,
          3.471644078430863e-11,
          2.332674166087792e-11,
          2.933449257656427e-11,
          2.6174784084078044e-11,
          2.5852521633345746e-11
         ]
        },
        {
         "boxpoints": "all",
         "hovertemplate": "Epoch: %{text}<br>Amplitude: %{y: .2e}",
         "line": {
          "width": 1
         },
         "marker": {
          "size": 3
         },
         "name": "MEG1413",
         "opacity": 0.7,
         "pointpos": 0,
         "text": [
          0,
          1,
          2,
          3,
          4,
          5,
          6,
          7,
          8
         ],
         "type": "box",
         "y": [
          2.9654768205775416e-11,
          2.3187085536199266e-11,
          2.54030231323983e-11,
          2.04240801895134e-11,
          2.3499236726199416e-11,
          1.705143693021225e-11,
          2.325325045735786e-11,
          2.0732225455234873e-11,
          2.1933714865007967e-11
         ]
        },
        {
         "boxpoints": "all",
         "hovertemplate": "Epoch: %{text}<br>Amplitude: %{y: .2e}",
         "line": {
          "width": 1
         },
         "marker": {
          "size": 3
         },
         "name": "MEG1423",
         "opacity": 0.7,
         "pointpos": 0,
         "text": [
          0,
          1,
          2,
          3,
          4,
          5,
          6,
          7,
          8
         ],
         "type": "box",
         "y": [
          2.6946068198592707e-11,
          2.564477957509316e-11,
          3.032601441697389e-11,
          2.467598269484343e-11,
          2.625846900654934e-11,
          2.2062633666667992e-11,
          2.1450273231148662e-11,
          1.8917177054397003e-11,
          2.1116313116831534e-11
         ]
        },
        {
         "boxpoints": "all",
         "hovertemplate": "Epoch: %{text}<br>Amplitude: %{y: .2e}",
         "line": {
          "width": 1
         },
         "marker": {
          "size": 3
         },
         "name": "MEG1422",
         "opacity": 0.7,
         "pointpos": 0,
         "text": [
          0,
          1,
          2,
          3,
          4,
          5,
          6,
          7,
          8
         ],
         "type": "box",
         "y": [
          2.064538031782639e-11,
          1.8220780650481913e-11,
          1.8019174534463e-11,
          1.6259787452075156e-11,
          2.2941033376236548e-11,
          1.7685048975415805e-11,
          1.6597509623474e-11,
          1.4988617679665553e-11,
          2.1697862120547415e-11
         ]
        },
        {
         "boxpoints": "all",
         "hovertemplate": "Epoch: %{text}<br>Amplitude: %{y: .2e}",
         "line": {
          "width": 1
         },
         "marker": {
          "size": 3
         },
         "name": "MEG1433",
         "opacity": 0.7,
         "pointpos": 0,
         "text": [
          0,
          1,
          2,
          3,
          4,
          5,
          6,
          7,
          8
         ],
         "type": "box",
         "y": [
          1.6148090595387402e-11,
          2.3956026695169728e-11,
          2.3550729833413987e-11,
          1.9742557265345036e-11,
          1.826918669796103e-11,
          1.3676852911930569e-11,
          2.226638826051115e-11,
          1.8129437319467778e-11,
          1.824882321709487e-11
         ]
        },
        {
         "boxpoints": "all",
         "hovertemplate": "Epoch: %{text}<br>Amplitude: %{y: .2e}",
         "line": {
          "width": 1
         },
         "marker": {
          "size": 3
         },
         "name": "MEG1432",
         "opacity": 0.7,
         "pointpos": 0,
         "text": [
          0,
          1,
          2,
          3,
          4,
          5,
          6,
          7,
          8
         ],
         "type": "box",
         "y": [
          1.825024126225899e-11,
          1.3958966491782953e-11,
          1.323105878052572e-11,
          1.4753341887532444e-11,
          1.8211891173830255e-11,
          1.2992859074062186e-11,
          1.5840459454185562e-11,
          2.2087097486441592e-11,
          1.695164952172359e-11
         ]
        },
        {
         "boxpoints": "all",
         "hovertemplate": "Epoch: %{text}<br>Amplitude: %{y: .2e}",
         "line": {
          "width": 1
         },
         "marker": {
          "size": 3
         },
         "name": "MEG1442",
         "opacity": 0.7,
         "pointpos": 0,
         "text": [
          0,
          1,
          2,
          3,
          4,
          5,
          6,
          7,
          8
         ],
         "type": "box",
         "y": [
          2.24830796539634e-11,
          2.5459698635447645e-11,
          2.084493667141179e-11,
          2.7232672431497856e-11,
          2.6753816123399648e-11,
          2.2360749037289486e-11,
          2.398471866858846e-11,
          2.596027010152491e-11,
          2.5590116696441875e-11
         ]
        },
        {
         "boxpoints": "all",
         "hovertemplate": "Epoch: %{text}<br>Amplitude: %{y: .2e}",
         "line": {
          "width": 1
         },
         "marker": {
          "size": 3
         },
         "name": "MEG1443",
         "opacity": 0.7,
         "pointpos": 0,
         "text": [
          0,
          1,
          2,
          3,
          4,
          5,
          6,
          7,
          8
         ],
         "type": "box",
         "y": [
          2.1390279442540037e-11,
          2.0022392561651174e-11,
          2.0606858686847537e-11,
          1.7482198055074754e-11,
          2.489525374774154e-11,
          1.929863107000752e-11,
          1.7571320658237596e-11,
          2.6275515935200902e-11,
          1.9348264019521278e-11
         ]
        },
        {
         "boxpoints": "all",
         "hovertemplate": "Epoch: %{text}<br>Amplitude: %{y: .2e}",
         "line": {
          "width": 1
         },
         "marker": {
          "size": 3
         },
         "name": "MEG1512",
         "opacity": 0.7,
         "pointpos": 0,
         "text": [
          0,
          1,
          2,
          3,
          4,
          5,
          6,
          7,
          8
         ],
         "type": "box",
         "y": [
          2.923160833546016e-11,
          2.5957823173967273e-11,
          2.373758986050038e-11,
          2.312183413466219e-11,
          2.1652469240790303e-11,
          2.0825429696476756e-11,
          2.4278958988586306e-11,
          2.641886510795266e-11,
          2.2920370432416475e-11
         ]
        },
        {
         "boxpoints": "all",
         "hovertemplate": "Epoch: %{text}<br>Amplitude: %{y: .2e}",
         "line": {
          "width": 1
         },
         "marker": {
          "size": 3
         },
         "name": "MEG1513",
         "opacity": 0.7,
         "pointpos": 0,
         "text": [
          0,
          1,
          2,
          3,
          4,
          5,
          6,
          7,
          8
         ],
         "type": "box",
         "y": [
          2.7810443932380676e-11,
          1.8811226162351483e-11,
          1.6152858967038187e-11,
          2.0515040643256083e-11,
          2.3062141185848647e-11,
          2.1544838262314186e-11,
          1.8760299953121087e-11,
          2.662420311216464e-11,
          1.8270174925708944e-11
         ]
        },
        {
         "boxpoints": "all",
         "hovertemplate": "Epoch: %{text}<br>Amplitude: %{y: .2e}",
         "line": {
          "width": 1
         },
         "marker": {
          "size": 3
         },
         "name": "MEG1522",
         "opacity": 0.7,
         "pointpos": 0,
         "text": [
          0,
          1,
          2,
          3,
          4,
          5,
          6,
          7,
          8
         ],
         "type": "box",
         "y": [
          2.2420120562532496e-11,
          2.186411337003509e-11,
          2.120903590674682e-11,
          2.67857003309689e-11,
          2.717822829334036e-11,
          2.828019046688767e-11,
          2.902627033124818e-11,
          2.835499653793553e-11,
          3.290057229751195e-11
         ]
        },
        {
         "boxpoints": "all",
         "hovertemplate": "Epoch: %{text}<br>Amplitude: %{y: .2e}",
         "line": {
          "width": 1
         },
         "marker": {
          "size": 3
         },
         "name": "MEG1523",
         "opacity": 0.7,
         "pointpos": 0,
         "text": [
          0,
          1,
          2,
          3,
          4,
          5,
          6,
          7,
          8
         ],
         "type": "box",
         "y": [
          2.582778138623007e-11,
          1.3569028949634549e-11,
          1.5893091084153314e-11,
          2.4703789113527016e-11,
          1.4583905748207843e-11,
          1.5102733483035504e-11,
          1.5464491537339972e-11,
          2.2373540383463817e-11,
          3.2114088998360406e-11
         ]
        },
        {
         "boxpoints": "all",
         "hovertemplate": "Epoch: %{text}<br>Amplitude: %{y: .2e}",
         "line": {
          "width": 1
         },
         "marker": {
          "size": 3
         },
         "name": "MEG1533",
         "opacity": 0.7,
         "pointpos": 0,
         "text": [
          0,
          1,
          2,
          3,
          4,
          5,
          6,
          7,
          8
         ],
         "type": "box",
         "y": [
          2.9272011770251196e-11,
          1.4863014435500527e-11,
          1.9515002496736037e-11,
          1.7316259436525692e-11,
          1.845261656496736e-11,
          1.608167399025145e-11,
          2.0109176925695482e-11,
          1.500710866632272e-11,
          2.0734324898724615e-11
         ]
        },
        {
         "boxpoints": "all",
         "hovertemplate": "Epoch: %{text}<br>Amplitude: %{y: .2e}",
         "line": {
          "width": 1
         },
         "marker": {
          "size": 3
         },
         "name": "MEG1532",
         "opacity": 0.7,
         "pointpos": 0,
         "text": [
          0,
          1,
          2,
          3,
          4,
          5,
          6,
          7,
          8
         ],
         "type": "box",
         "y": [
          2.293222123843093e-11,
          1.848866889294185e-11,
          1.6288893798275617e-11,
          2.5883336594228783e-11,
          1.8094037291091346e-11,
          1.9967696533892157e-11,
          1.8563141961601122e-11,
          2.549081272073656e-11,
          2.6735553420528372e-11
         ]
        },
        {
         "boxpoints": "all",
         "hovertemplate": "Epoch: %{text}<br>Amplitude: %{y: .2e}",
         "line": {
          "width": 1
         },
         "marker": {
          "size": 3
         },
         "name": "MEG1543",
         "opacity": 0.7,
         "pointpos": 0,
         "text": [
          0,
          1,
          2,
          3,
          4,
          5,
          6,
          7,
          8
         ],
         "type": "box",
         "y": [
          2.4209022871041442e-11,
          1.4033983122447561e-11,
          2.10142138650147e-11,
          1.3347435190014646e-11,
          1.8739493267083136e-11,
          1.5478975855802083e-11,
          1.8393776898741748e-11,
          1.7976761123463902e-11,
          2.114627702769082e-11
         ]
        },
        {
         "boxpoints": "all",
         "hovertemplate": "Epoch: %{text}<br>Amplitude: %{y: .2e}",
         "line": {
          "width": 1
         },
         "marker": {
          "size": 3
         },
         "name": "MEG1542",
         "opacity": 0.7,
         "pointpos": 0,
         "text": [
          0,
          1,
          2,
          3,
          4,
          5,
          6,
          7,
          8
         ],
         "type": "box",
         "y": [
          2.270106146050797e-11,
          1.980247980242325e-11,
          1.4486313075088418e-11,
          1.9664875580206182e-11,
          1.6528879131500184e-11,
          1.748704935492816e-11,
          1.845850289938333e-11,
          2.347976964535185e-11,
          2.803210096608692e-11
         ]
        },
        {
         "boxpoints": "all",
         "hovertemplate": "Epoch: %{text}<br>Amplitude: %{y: .2e}",
         "line": {
          "width": 1
         },
         "marker": {
          "size": 3
         },
         "name": "MEG1613",
         "opacity": 0.7,
         "pointpos": 0,
         "text": [
          0,
          1,
          2,
          3,
          4,
          5,
          6,
          7,
          8
         ],
         "type": "box",
         "y": [
          2.8586388046463156e-11,
          2.5378227599814212e-11,
          2.4123986909935755e-11,
          3.0163765388543224e-11,
          2.7266820664968927e-11,
          3.990221081094384e-11,
          2.9556274840233064e-11,
          3.632958782445314e-11,
          3.466061233361464e-11
         ]
        },
        {
         "boxpoints": "all",
         "hovertemplate": "Epoch: %{text}<br>Amplitude: %{y: .2e}",
         "line": {
          "width": 1
         },
         "marker": {
          "size": 3
         },
         "name": "MEG1612",
         "opacity": 0.7,
         "pointpos": 0,
         "text": [
          0,
          1,
          2,
          3,
          4,
          5,
          6,
          7,
          8
         ],
         "type": "box",
         "y": [
          2.4835643004444755e-11,
          1.961257750921972e-11,
          2.23366422694994e-11,
          2.6063485954865376e-11,
          2.6976764591094645e-11,
          2.116918594366525e-11,
          1.9903183270381518e-11,
          2.6316643140688934e-11,
          2.4738709488582938e-11
         ]
        },
        {
         "boxpoints": "all",
         "hovertemplate": "Epoch: %{text}<br>Amplitude: %{y: .2e}",
         "line": {
          "width": 1
         },
         "marker": {
          "size": 3
         },
         "name": "MEG1622",
         "opacity": 0.7,
         "pointpos": 0,
         "text": [
          0,
          1,
          2,
          3,
          4,
          5,
          6,
          7,
          8
         ],
         "type": "box",
         "y": [
          3.5654848786255834e-11,
          2.5695846564819914e-11,
          3.17615275194304e-11,
          4.532510649405021e-11,
          3.7169457017878284e-11,
          3.442634285368056e-11,
          3.2334328163981096e-11,
          3.39836549360808e-11,
          2.942816458854861e-11
         ]
        },
        {
         "boxpoints": "all",
         "hovertemplate": "Epoch: %{text}<br>Amplitude: %{y: .2e}",
         "line": {
          "width": 1
         },
         "marker": {
          "size": 3
         },
         "name": "MEG1623",
         "opacity": 0.7,
         "pointpos": 0,
         "text": [
          0,
          1,
          2,
          3,
          4,
          5,
          6,
          7,
          8
         ],
         "type": "box",
         "y": [
          2.5844574347261102e-11,
          2.2710750304978624e-11,
          2.3635455881046874e-11,
          2.9038949864955952e-11,
          3.632068686403834e-11,
          3.4284989533456876e-11,
          2.681533534250032e-11,
          2.9330254023985797e-11,
          2.8043747352603688e-11
         ]
        },
        {
         "boxpoints": "all",
         "hovertemplate": "Epoch: %{text}<br>Amplitude: %{y: .2e}",
         "line": {
          "width": 1
         },
         "marker": {
          "size": 3
         },
         "name": "MEG1632",
         "opacity": 0.7,
         "pointpos": 0,
         "text": [
          0,
          1,
          2,
          3,
          4,
          5,
          6,
          7,
          8
         ],
         "type": "box",
         "y": [
          3.789067323005969e-11,
          2.500861919223265e-11,
          2.600978440033834e-11,
          4.8047543264816795e-11,
          3.201280367552808e-11,
          3.3610344417731475e-11,
          2.4075773374355584e-11,
          4.288593989856245e-11,
          2.8782189307373562e-11
         ]
        },
        {
         "boxpoints": "all",
         "hovertemplate": "Epoch: %{text}<br>Amplitude: %{y: .2e}",
         "line": {
          "width": 1
         },
         "marker": {
          "size": 3
         },
         "name": "MEG1633",
         "opacity": 0.7,
         "pointpos": 0,
         "text": [
          0,
          1,
          2,
          3,
          4,
          5,
          6,
          7,
          8
         ],
         "type": "box",
         "y": [
          2.6360750578458705e-11,
          1.8646240503234282e-11,
          3.044215159528276e-11,
          3.8037896704777714e-11,
          2.5127615609767893e-11,
          3.7875176022194635e-11,
          3.0835015877783895e-11,
          3.3636093624645724e-11,
          2.793216745597529e-11
         ]
        },
        {
         "boxpoints": "all",
         "hovertemplate": "Epoch: %{text}<br>Amplitude: %{y: .2e}",
         "line": {
          "width": 1
         },
         "marker": {
          "size": 3
         },
         "name": "MEG1643",
         "opacity": 0.7,
         "pointpos": 0,
         "text": [
          0,
          1,
          2,
          3,
          4,
          5,
          6,
          7,
          8
         ],
         "type": "box",
         "y": [
          2.681862262901715e-11,
          2.2818591472654087e-11,
          2.3150762256010295e-11,
          3.8018525194946395e-11,
          2.985072178966911e-11,
          2.7134202134632818e-11,
          3.124237105595106e-11,
          3.6106428031196346e-11,
          3.9172173111208475e-11
         ]
        },
        {
         "boxpoints": "all",
         "hovertemplate": "Epoch: %{text}<br>Amplitude: %{y: .2e}",
         "line": {
          "width": 1
         },
         "marker": {
          "size": 3
         },
         "name": "MEG1642",
         "opacity": 0.7,
         "pointpos": 0,
         "text": [
          0,
          1,
          2,
          3,
          4,
          5,
          6,
          7,
          8
         ],
         "type": "box",
         "y": [
          2.063637717801907e-11,
          1.949807036221681e-11,
          2.171765234375894e-11,
          3.595915759524237e-11,
          2.1066414986244358e-11,
          2.656221428070442e-11,
          1.920620628075827e-11,
          2.901554149503391e-11,
          2.9041767539113235e-11
         ]
        },
        {
         "boxpoints": "all",
         "hovertemplate": "Epoch: %{text}<br>Amplitude: %{y: .2e}",
         "line": {
          "width": 1
         },
         "marker": {
          "size": 3
         },
         "name": "MEG1713",
         "opacity": 0.7,
         "pointpos": 0,
         "text": [
          0,
          1,
          2,
          3,
          4,
          5,
          6,
          7,
          8
         ],
         "type": "box",
         "y": [
          2.3416281084098238e-11,
          2.2582077724142712e-11,
          2.269411119758667e-11,
          2.0632282677630762e-11,
          2.2513943658407126e-11,
          2.1050253883305526e-11,
          1.837280088001531e-11,
          1.8087589640317022e-11,
          2.4899455036830276e-11
         ]
        },
        {
         "boxpoints": "all",
         "hovertemplate": "Epoch: %{text}<br>Amplitude: %{y: .2e}",
         "line": {
          "width": 1
         },
         "marker": {
          "size": 3
         },
         "name": "MEG1712",
         "opacity": 0.7,
         "pointpos": 0,
         "text": [
          0,
          1,
          2,
          3,
          4,
          5,
          6,
          7,
          8
         ],
         "type": "box",
         "y": [
          1.6925430541898564e-11,
          1.8819514046411185e-11,
          2.0824373068667775e-11,
          2.4482564581349956e-11,
          1.662850403920411e-11,
          2.2111583719242924e-11,
          2.473009992865791e-11,
          1.8485669433355066e-11,
          1.9957251755709924e-11
         ]
        },
        {
         "boxpoints": "all",
         "hovertemplate": "Epoch: %{text}<br>Amplitude: %{y: .2e}",
         "line": {
          "width": 1
         },
         "marker": {
          "size": 3
         },
         "name": "MEG1722",
         "opacity": 0.7,
         "pointpos": 0,
         "text": [
          0,
          1,
          2,
          3,
          4,
          5,
          6,
          7,
          8
         ],
         "type": "box",
         "y": [
          2.4375013754452593e-11,
          2.534697489728635e-11,
          2.4639212922144975e-11,
          3.8910389507580315e-11,
          2.804994623574971e-11,
          2.720215780548493e-11,
          3.158612730313955e-11,
          3.764443981620382e-11,
          4.005470333633598e-11
         ]
        },
        {
         "boxpoints": "all",
         "hovertemplate": "Epoch: %{text}<br>Amplitude: %{y: .2e}",
         "line": {
          "width": 1
         },
         "marker": {
          "size": 3
         },
         "name": "MEG1723",
         "opacity": 0.7,
         "pointpos": 0,
         "text": [
          0,
          1,
          2,
          3,
          4,
          5,
          6,
          7,
          8
         ],
         "type": "box",
         "y": [
          1.9255013579091896e-11,
          1.7842451988633424e-11,
          2.067521244296662e-11,
          2.6180848208894804e-11,
          1.788877697558488e-11,
          1.9592745833254475e-11,
          1.9330183943678712e-11,
          2.2832552921181162e-11,
          2.6234751540599345e-11
         ]
        },
        {
         "boxpoints": "all",
         "hovertemplate": "Epoch: %{text}<br>Amplitude: %{y: .2e}",
         "line": {
          "width": 1
         },
         "marker": {
          "size": 3
         },
         "name": "MEG1732",
         "opacity": 0.7,
         "pointpos": 0,
         "text": [
          0,
          1,
          2,
          3,
          4,
          5,
          6,
          7,
          8
         ],
         "type": "box",
         "y": [
          2.1882057505457784e-11,
          2.4405002945888753e-11,
          2.221192664429967e-11,
          3.857033648928425e-11,
          2.228383696862588e-11,
          2.4724245427908888e-11,
          2.8653802956008752e-11,
          3.179700796901619e-11,
          2.1345533481440015e-11
         ]
        },
        {
         "boxpoints": "all",
         "hovertemplate": "Epoch: %{text}<br>Amplitude: %{y: .2e}",
         "line": {
          "width": 1
         },
         "marker": {
          "size": 3
         },
         "name": "MEG1733",
         "opacity": 0.7,
         "pointpos": 0,
         "text": [
          0,
          1,
          2,
          3,
          4,
          5,
          6,
          7,
          8
         ],
         "type": "box",
         "y": [
          3.008754208467362e-11,
          2.009293157676108e-11,
          2.9579453272866014e-11,
          3.369830952142265e-11,
          2.1276257561641995e-11,
          2.4281910837703458e-11,
          2.1295981280742974e-11,
          2.5856902332504596e-11,
          3.033796989951861e-11
         ]
        },
        {
         "boxpoints": "all",
         "hovertemplate": "Epoch: %{text}<br>Amplitude: %{y: .2e}",
         "line": {
          "width": 1
         },
         "marker": {
          "size": 3
         },
         "name": "MEG1743",
         "opacity": 0.7,
         "pointpos": 0,
         "text": [
          0,
          1,
          2,
          3,
          4,
          5,
          6,
          7,
          8
         ],
         "type": "box",
         "y": [
          1.6822219137517298e-11,
          2.058206315426345e-11,
          2.155145040433661e-11,
          2.1477890324337146e-11,
          1.820036369408827e-11,
          2.2473608068535316e-11,
          1.7349985160921676e-11,
          2.036867499946344e-11,
          2.0694583952797938e-11
         ]
        },
        {
         "boxpoints": "all",
         "hovertemplate": "Epoch: %{text}<br>Amplitude: %{y: .2e}",
         "line": {
          "width": 1
         },
         "marker": {
          "size": 3
         },
         "name": "MEG1742",
         "opacity": 0.7,
         "pointpos": 0,
         "text": [
          0,
          1,
          2,
          3,
          4,
          5,
          6,
          7,
          8
         ],
         "type": "box",
         "y": [
          2.848903379192627e-11,
          2.7077700352847305e-11,
          2.975099269905517e-11,
          3.1644734925611033e-11,
          2.7642427065964926e-11,
          3.215901441477772e-11,
          2.5296912838545806e-11,
          2.8286067330130003e-11,
          3.195881889648168e-11
         ]
        },
        {
         "boxpoints": "all",
         "hovertemplate": "Epoch: %{text}<br>Amplitude: %{y: .2e}",
         "line": {
          "width": 1
         },
         "marker": {
          "size": 3
         },
         "name": "MEG1813",
         "opacity": 0.7,
         "pointpos": 0,
         "text": [
          0,
          1,
          2,
          3,
          4,
          5,
          6,
          7,
          8
         ],
         "type": "box",
         "y": [
          4.33784067262742e-11,
          3.5019557186260487e-11,
          2.1207928963327888e-11,
          4.1275706205155295e-11,
          3.916661001094923e-11,
          4.0794849983971014e-11,
          2.8033256934971957e-11,
          3.602114642670259e-11,
          3.631086962828672e-11
         ]
        },
        {
         "boxpoints": "all",
         "hovertemplate": "Epoch: %{text}<br>Amplitude: %{y: .2e}",
         "line": {
          "width": 1
         },
         "marker": {
          "size": 3
         },
         "name": "MEG1812",
         "opacity": 0.7,
         "pointpos": 0,
         "text": [
          0,
          1,
          2,
          3,
          4,
          5,
          6,
          7,
          8
         ],
         "type": "box",
         "y": [
          3.27456002188614e-11,
          2.7364625265717274e-11,
          2.620190419784189e-11,
          3.9805685344812926e-11,
          4.212657671317475e-11,
          3.9353371233938354e-11,
          3.274104221654815e-11,
          3.9796829797461466e-11,
          3.069176437651028e-11
         ]
        },
        {
         "boxpoints": "all",
         "hovertemplate": "Epoch: %{text}<br>Amplitude: %{y: .2e}",
         "line": {
          "width": 1
         },
         "marker": {
          "size": 3
         },
         "name": "MEG1822",
         "opacity": 0.7,
         "pointpos": 0,
         "text": [
          0,
          1,
          2,
          3,
          4,
          5,
          6,
          7,
          8
         ],
         "type": "box",
         "y": [
          3.1390190577125426e-11,
          3.541385477303883e-11,
          2.8262138774209696e-11,
          3.2113658520364154e-11,
          4.175229566261569e-11,
          3.946622269634029e-11,
          3.702504347645447e-11,
          3.297805833683723e-11,
          3.475162768139353e-11
         ]
        },
        {
         "boxpoints": "all",
         "hovertemplate": "Epoch: %{text}<br>Amplitude: %{y: .2e}",
         "line": {
          "width": 1
         },
         "marker": {
          "size": 3
         },
         "name": "MEG1823",
         "opacity": 0.7,
         "pointpos": 0,
         "text": [
          0,
          1,
          2,
          3,
          4,
          5,
          6,
          7,
          8
         ],
         "type": "box",
         "y": [
          3.593285930310773e-11,
          2.6681764169949132e-11,
          3.027947787393563e-11,
          4.4407249137315355e-11,
          4.190445006710896e-11,
          4.657220907606355e-11,
          3.211796330032667e-11,
          3.5922527831197694e-11,
          3.591632894805167e-11
         ]
        },
        {
         "boxpoints": "all",
         "hovertemplate": "Epoch: %{text}<br>Amplitude: %{y: .2e}",
         "line": {
          "width": 1
         },
         "marker": {
          "size": 3
         },
         "name": "MEG1832",
         "opacity": 0.7,
         "pointpos": 0,
         "text": [
          0,
          1,
          2,
          3,
          4,
          5,
          6,
          7,
          8
         ],
         "type": "box",
         "y": [
          3.3362389091890594e-11,
          3.177370389703866e-11,
          2.6706854887444934e-11,
          3.8761616312075786e-11,
          4.362583223304277e-11,
          3.841877039038426e-11,
          2.8994242768327065e-11,
          4.8103333213130994e-11,
          2.8886795460462684e-11
         ]
        },
        {
         "boxpoints": "all",
         "hovertemplate": "Epoch: %{text}<br>Amplitude: %{y: .2e}",
         "line": {
          "width": 1
         },
         "marker": {
          "size": 3
         },
         "name": "MEG1833",
         "opacity": 0.7,
         "pointpos": 0,
         "text": [
          0,
          1,
          2,
          3,
          4,
          5,
          6,
          7,
          8
         ],
         "type": "box",
         "y": [
          4.437514777816631e-11,
          3.116080680402971e-11,
          2.6706854887444934e-11,
          3.103452615046679e-11,
          2.3436206065639023e-11,
          4.757642814571912e-11,
          4.0948788915430563e-11,
          3.71265416730212e-11,
          3.7961006711908784e-11
         ]
        },
        {
         "boxpoints": "all",
         "hovertemplate": "Epoch: %{text}<br>Amplitude: %{y: .2e}",
         "line": {
          "width": 1
         },
         "marker": {
          "size": 3
         },
         "name": "MEG1843",
         "opacity": 0.7,
         "pointpos": 0,
         "text": [
          0,
          1,
          2,
          3,
          4,
          5,
          6,
          7,
          8
         ],
         "type": "box",
         "y": [
          3.476195915330357e-11,
          3.2747814105699266e-11,
          2.4191141477350993e-11,
          2.947568935933478e-11,
          3.8700104317780646e-11,
          2.8307017566217095e-11,
          3.3468333640204425e-11,
          3.821611459522585e-11,
          3.1312108491343806e-11
         ]
        },
        {
         "boxpoints": "all",
         "hovertemplate": "Epoch: %{text}<br>Amplitude: %{y: .2e}",
         "line": {
          "width": 1
         },
         "marker": {
          "size": 3
         },
         "name": "MEG1842",
         "opacity": 0.7,
         "pointpos": 0,
         "text": [
          0,
          1,
          2,
          3,
          4,
          5,
          6,
          7,
          8
         ],
         "type": "box",
         "y": [
          2.499183055037884e-11,
          2.3040121584100992e-11,
          3.3517361170541145e-11,
          3.3525626348069176e-11,
          3.0976704635407256e-11,
          4.114818632329427e-11,
          2.4504959936618358e-11,
          4.602670735921361e-11,
          2.4707715072852828e-11
         ]
        },
        {
         "boxpoints": "all",
         "hovertemplate": "Epoch: %{text}<br>Amplitude: %{y: .2e}",
         "line": {
          "width": 1
         },
         "marker": {
          "size": 3
         },
         "name": "MEG1912",
         "opacity": 0.7,
         "pointpos": 0,
         "text": [
          0,
          1,
          2,
          3,
          4,
          5,
          6,
          7,
          8
         ],
         "type": "box",
         "y": [
          3.4279823797501855e-11,
          2.3617744786343954e-11,
          2.149831712022785e-11,
          4.126596510306869e-11,
          3.738959684242291e-11,
          3.308137305593759e-11,
          2.3049513831291933e-11,
          4.449248378057316e-11,
          3.244082179751532e-11
         ]
        },
        {
         "boxpoints": "all",
         "hovertemplate": "Epoch: %{text}<br>Amplitude: %{y: .2e}",
         "line": {
          "width": 1
         },
         "marker": {
          "size": 3
         },
         "name": "MEG1913",
         "opacity": 0.7,
         "pointpos": 0,
         "text": [
          0,
          1,
          2,
          3,
          4,
          5,
          6,
          7,
          8
         ],
         "type": "box",
         "y": [
          3.5891533415467584e-11,
          2.2339594118616555e-11,
          3.502988865817052e-11,
          4.29751662468764e-11,
          3.4842491652294626e-11,
          4.1318999992206877e-11,
          2.5986603702859518e-11,
          5.537927230577436e-11,
          3.269135999133371e-11
         ]
        },
        {
         "boxpoints": "all",
         "hovertemplate": "Epoch: %{text}<br>Amplitude: %{y: .2e}",
         "line": {
          "width": 1
         },
         "marker": {
          "size": 3
         },
         "name": "MEG1923",
         "opacity": 0.7,
         "pointpos": 0,
         "text": [
          0,
          1,
          2,
          3,
          4,
          5,
          6,
          7,
          8
         ],
         "type": "box",
         "y": [
          3.633234288362915e-11,
          2.2818415117514798e-11,
          2.3609659286588275e-11,
          4.375284431428644e-11,
          2.1055539752654848e-11,
          3.704607540141419e-11,
          3.757556333680357e-11,
          2.972881042113068e-11,
          2.6907580627411363e-11
         ]
        },
        {
         "boxpoints": "all",
         "hovertemplate": "Epoch: %{text}<br>Amplitude: %{y: .2e}",
         "line": {
          "width": 1
         },
         "marker": {
          "size": 3
         },
         "name": "MEG1922",
         "opacity": 0.7,
         "pointpos": 0,
         "text": [
          0,
          1,
          2,
          3,
          4,
          5,
          6,
          7,
          8
         ],
         "type": "box",
         "y": [
          3.460667399974665e-11,
          2.6404762648795462e-11,
          3.435214410087211e-11,
          4.919158158765486e-11,
          3.592089654615927e-11,
          3.9548874471620585e-11,
          3.099115316003332e-11,
          4.9906175061432404e-11,
          2.8607845718891693e-11
         ]
        },
        {
         "boxpoints": "all",
         "hovertemplate": "Epoch: %{text}<br>Amplitude: %{y: .2e}",
         "line": {
          "width": 1
         },
         "marker": {
          "size": 3
         },
         "name": "MEG1932",
         "opacity": 0.7,
         "pointpos": 0,
         "text": [
          0,
          1,
          2,
          3,
          4,
          5,
          6,
          7,
          8
         ],
         "type": "box",
         "y": [
          2.1060031696963557e-11,
          2.0778974196909247e-11,
          1.661635757898555e-11,
          2.4262992168361703e-11,
          2.5235653287455706e-11,
          2.054723133468104e-11,
          2.5813920529506047e-11,
          2.7936300044739307e-11,
          2.0687169340414228e-11
         ]
        },
        {
         "boxpoints": "all",
         "hovertemplate": "Epoch: %{text}<br>Amplitude: %{y: .2e}",
         "line": {
          "width": 1
         },
         "marker": {
          "size": 3
         },
         "name": "MEG1933",
         "opacity": 0.7,
         "pointpos": 0,
         "text": [
          0,
          1,
          2,
          3,
          4,
          5,
          6,
          7,
          8
         ],
         "type": "box",
         "y": [
          4.155088413952103e-11,
          2.794828455215495e-11,
          3.638744406714935e-11,
          4.018598190607285e-11,
          3.269317349438175e-11,
          3.821429139430055e-11,
          2.7839686820931936e-11,
          3.7951846419000696e-11,
          4.041671811206367e-11
         ]
        },
        {
         "boxpoints": "all",
         "hovertemplate": "Epoch: %{text}<br>Amplitude: %{y: .2e}",
         "line": {
          "width": 1
         },
         "marker": {
          "size": 3
         },
         "name": "MEG1943",
         "opacity": 0.7,
         "pointpos": 0,
         "text": [
          0,
          1,
          2,
          3,
          4,
          5,
          6,
          7,
          8
         ],
         "type": "box",
         "y": [
          3.034559929415987e-11,
          2.4130561482969414e-11,
          2.8470584734944062e-11,
          4.4395274022146903e-11,
          3.1124918533184325e-11,
          3.63461181795092e-11,
          3.917694148285926e-11,
          3.417521764441273e-11,
          4.002412217948227e-11
         ]
        },
        {
         "boxpoints": "all",
         "hovertemplate": "Epoch: %{text}<br>Amplitude: %{y: .2e}",
         "line": {
          "width": 1
         },
         "marker": {
          "size": 3
         },
         "name": "MEG1942",
         "opacity": 0.7,
         "pointpos": 0,
         "text": [
          0,
          1,
          2,
          3,
          4,
          5,
          6,
          7,
          8
         ],
         "type": "box",
         "y": [
          3.477573444918362e-11,
          1.866102245535172e-11,
          2.6554465676771894e-11,
          4.3108804506907525e-11,
          2.238485580507957e-11,
          2.8506597294173334e-11,
          2.3207068777919995e-11,
          3.978649832555143e-11,
          2.4572831967360683e-11
         ]
        },
        {
         "boxpoints": "all",
         "hovertemplate": "Epoch: %{text}<br>Amplitude: %{y: .2e}",
         "line": {
          "width": 1
         },
         "marker": {
          "size": 3
         },
         "name": "MEG2013",
         "opacity": 0.7,
         "pointpos": 0,
         "text": [
          0,
          1,
          2,
          3,
          4,
          5,
          6,
          7,
          8
         ],
         "type": "box",
         "y": [
          4.3874317377955964e-11,
          3.2782555099154997e-11,
          3.02600864958891e-11,
          3.366510121885467e-11,
          4.5293172853601e-11,
          2.5516152749813203e-11,
          2.6456833267222046e-11,
          5.107879712322157e-11,
          3.014310244472315e-11
         ]
        },
        {
         "boxpoints": "all",
         "hovertemplate": "Epoch: %{text}<br>Amplitude: %{y: .2e}",
         "line": {
          "width": 1
         },
         "marker": {
          "size": 3
         },
         "name": "MEG2012",
         "opacity": 0.7,
         "pointpos": 0,
         "text": [
          0,
          1,
          2,
          3,
          4,
          5,
          6,
          7,
          8
         ],
         "type": "box",
         "y": [
          4.084444104913919e-11,
          2.6738747692036788e-11,
          2.9103756370573456e-11,
          3.9763769087349347e-11,
          2.43616107638666e-11,
          6.443739030289906e-11,
          4.499825629180541e-11,
          5.066741669625829e-11,
          4.6964992853588765e-11
         ]
        },
        {
         "boxpoints": "all",
         "hovertemplate": "Epoch: %{text}<br>Amplitude: %{y: .2e}",
         "line": {
          "width": 1
         },
         "marker": {
          "size": 3
         },
         "name": "MEG2023",
         "opacity": 0.7,
         "pointpos": 0,
         "text": [
          0,
          1,
          2,
          3,
          4,
          5,
          6,
          7,
          8
         ],
         "type": "box",
         "y": [
          4.181146681991863e-11,
          2.956867260652511e-11,
          3.1145513506794463e-11,
          3.002513582000491e-11,
          4.874978816978758e-11,
          2.9525757261668034e-11,
          2.2716522544345365e-11,
          4.264315030867658e-11,
          2.769867619080846e-11
         ]
        },
        {
         "boxpoints": "all",
         "hovertemplate": "Epoch: %{text}<br>Amplitude: %{y: .2e}",
         "line": {
          "width": 1
         },
         "marker": {
          "size": 3
         },
         "name": "MEG2022",
         "opacity": 0.7,
         "pointpos": 0,
         "text": [
          0,
          1,
          2,
          3,
          4,
          5,
          6,
          7,
          8
         ],
         "type": "box",
         "y": [
          3.284844532560222e-11,
          2.3972458655255216e-11,
          2.3056582733125117e-11,
          3.905296381993882e-11,
          2.3745368851114997e-11,
          3.9013516381736864e-11,
          3.0986150552582145e-11,
          4.268373823403744e-11,
          4.145362220194372e-11
         ]
        },
        {
         "boxpoints": "all",
         "hovertemplate": "Epoch: %{text}<br>Amplitude: %{y: .2e}",
         "line": {
          "width": 1
         },
         "marker": {
          "size": 3
         },
         "name": "MEG2032",
         "opacity": 0.7,
         "pointpos": 0,
         "text": [
          0,
          1,
          2,
          3,
          4,
          5,
          6,
          7,
          8
         ],
         "type": "box",
         "y": [
          2.8651237900913847e-11,
          2.455643280559872e-11,
          2.2769826127441655e-11,
          2.8052012530131716e-11,
          3.470811026940883e-11,
          3.9039188524058776e-11,
          3.0839443651459625e-11,
          4.2872429512218556e-11,
          2.86099120132737e-11
         ]
        },
        {
         "boxpoints": "all",
         "hovertemplate": "Epoch: %{text}<br>Amplitude: %{y: .2e}",
         "line": {
          "width": 1
         },
         "marker": {
          "size": 3
         },
         "name": "MEG2033",
         "opacity": 0.7,
         "pointpos": 0,
         "text": [
          0,
          1,
          2,
          3,
          4,
          5,
          6,
          7,
          8
         ],
         "type": "box",
         "y": [
          3.994334885364017e-11,
          2.4018848989910086e-11,
          2.7817488117773883e-11,
          4.080931404464507e-11,
          3.2544136516615685e-11,
          3.803296577500247e-11,
          3.8085938049159385e-11,
          3.410160590705372e-11,
          6.091952411753155e-11
         ]
        },
        {
         "boxpoints": "all",
         "hovertemplate": "Epoch: %{text}<br>Amplitude: %{y: .2e}",
         "line": {
          "width": 1
         },
         "marker": {
          "size": 3
         },
         "name": "MEG2042",
         "opacity": 0.7,
         "pointpos": 0,
         "text": [
          0,
          1,
          2,
          3,
          4,
          5,
          6,
          7,
          8
         ],
         "type": "box",
         "y": [
          3.151416824004587e-11,
          2.4237633100946158e-11,
          1.9924243578505826e-11,
          2.9925108387421375e-11,
          3.5102584651428416e-11,
          3.8776831752525113e-11,
          2.8805733142399318e-11,
          5.022128495468852e-11,
          2.808536842515555e-11
         ]
        },
        {
         "boxpoints": "all",
         "hovertemplate": "Epoch: %{text}<br>Amplitude: %{y: .2e}",
         "line": {
          "width": 1
         },
         "marker": {
          "size": 3
         },
         "name": "MEG2043",
         "opacity": 0.7,
         "pointpos": 0,
         "text": [
          0,
          1,
          2,
          3,
          4,
          5,
          6,
          7,
          8
         ],
         "type": "box",
         "y": [
          3.585815481391208e-11,
          2.834217929834789e-11,
          3.0036406516634044e-11,
          3.684616141995498e-11,
          5.028843952210376e-11,
          5.697462375988253e-11,
          4.699786571875706e-11,
          4.962722531986141e-11,
          4.8948635460315817e-11
         ]
        },
        {
         "boxpoints": "all",
         "hovertemplate": "Epoch: %{text}<br>Amplitude: %{y: .2e}",
         "line": {
          "width": 1
         },
         "marker": {
          "size": 3
         },
         "name": "MEG2113",
         "opacity": 0.7,
         "pointpos": 0,
         "text": [
          0,
          1,
          2,
          3,
          4,
          5,
          6,
          7,
          8
         ],
         "type": "box",
         "y": [
          3.8420677739044575e-11,
          2.4049788157127307e-11,
          2.267360719948829e-11,
          3.9032300876118747e-11,
          3.016066594697021e-11,
          4.11653524612371e-11,
          3.160603886718435e-11,
          3.3122698943577744e-11,
          2.60459358701143e-11
         ]
        },
        {
         "boxpoints": "all",
         "hovertemplate": "Epoch: %{text}<br>Amplitude: %{y: .2e}",
         "line": {
          "width": 1
         },
         "marker": {
          "size": 3
         },
         "name": "MEG2112",
         "opacity": 0.7,
         "pointpos": 0,
         "text": [
          0,
          1,
          2,
          3,
          4,
          5,
          6,
          7,
          8
         ],
         "type": "box",
         "y": [
          2.6929719495790013e-11,
          2.0665239702720125e-11,
          2.2576332417812252e-11,
          2.6608705904299586e-11,
          2.9015200897058855e-11,
          2.0538026932433916e-11,
          3.511150728625981e-11,
          3.277750623505416e-11,
          4.6739578921006146e-11
         ]
        },
        {
         "boxpoints": "all",
         "hovertemplate": "Epoch: %{text}<br>Amplitude: %{y: .2e}",
         "line": {
          "width": 1
         },
         "marker": {
          "size": 3
         },
         "name": "MEG2122",
         "opacity": 0.7,
         "pointpos": 0,
         "text": [
          0,
          1,
          2,
          3,
          4,
          5,
          6,
          7,
          8
         ],
         "type": "box",
         "y": [
          2.364501987218645e-11,
          2.0928712028517845e-11,
          1.8925780614628705e-11,
          3.1599544799126615e-11,
          2.677228754287517e-11,
          2.69431456482261e-11,
          2.0691871941421554e-11,
          2.8716326173947078e-11,
          1.94669726317676e-11
         ]
        },
        {
         "boxpoints": "all",
         "hovertemplate": "Epoch: %{text}<br>Amplitude: %{y: .2e}",
         "line": {
          "width": 1
         },
         "marker": {
          "size": 3
         },
         "name": "MEG2123",
         "opacity": 0.7,
         "pointpos": 0,
         "text": [
          0,
          1,
          2,
          3,
          4,
          5,
          6,
          7,
          8
         ],
         "type": "box",
         "y": [
          1.9494692765630836e-11,
          1.603275072045732e-11,
          1.9608046161890752e-11,
          2.8849602161586552e-11,
          1.9845035627195545e-11,
          1.9665956780754907e-11,
          2.1264106341838713e-11,
          2.590100007846207e-11,
          3.116857482802222e-11
         ]
        },
        {
         "boxpoints": "all",
         "hovertemplate": "Epoch: %{text}<br>Amplitude: %{y: .2e}",
         "line": {
          "width": 1
         },
         "marker": {
          "size": 3
         },
         "name": "MEG2133",
         "opacity": 0.7,
         "pointpos": 0,
         "text": [
          0,
          1,
          2,
          3,
          4,
          5,
          6,
          7,
          8
         ],
         "type": "box",
         "y": [
          2.235317262455546e-11,
          2.0716267546060736e-11,
          2.3493767123423514e-11,
          2.3747770140138562e-11,
          2.2307369765754295e-11,
          2.8545856887431472e-11,
          1.6369819877148958e-11,
          1.9643020913114624e-11,
          2.2841815620134988e-11
         ]
        },
        {
         "boxpoints": "all",
         "hovertemplate": "Epoch: %{text}<br>Amplitude: %{y: .2e}",
         "line": {
          "width": 1
         },
         "marker": {
          "size": 3
         },
         "name": "MEG2132",
         "opacity": 0.7,
         "pointpos": 0,
         "text": [
          0,
          1,
          2,
          3,
          4,
          5,
          6,
          7,
          8
         ],
         "type": "box",
         "y": [
          2.0774205825258462e-11,
          1.6825539967774096e-11,
          2.3014169322126018e-11,
          2.3283005096458764e-11,
          1.8269799235821308e-11,
          2.132157515433829e-11,
          1.6107043936717797e-11,
          1.92389592448986e-11,
          2.6400354554113847e-11
         ]
        },
        {
         "boxpoints": "all",
         "hovertemplate": "Epoch: %{text}<br>Amplitude: %{y: .2e}",
         "line": {
          "width": 1
         },
         "marker": {
          "size": 3
         },
         "name": "MEG2143",
         "opacity": 0.7,
         "pointpos": 0,
         "text": [
          0,
          1,
          2,
          3,
          4,
          5,
          6,
          7,
          8
         ],
         "type": "box",
         "y": [
          1.9363761227386333e-11,
          1.8815086272735455e-11,
          2.22619890531172e-11,
          2.2377968157139547e-11,
          2.389192615626416e-11,
          2.713561097171146e-11,
          1.6696202368298823e-11,
          2.109834156485357e-11,
          2.030045674848702e-11
         ]
        },
        {
         "boxpoints": "all",
         "hovertemplate": "Epoch: %{text}<br>Amplitude: %{y: .2e}",
         "line": {
          "width": 1
         },
         "marker": {
          "size": 3
         },
         "name": "MEG2142",
         "opacity": 0.7,
         "pointpos": 0,
         "text": [
          0,
          1,
          2,
          3,
          4,
          5,
          6,
          7,
          8
         ],
         "type": "box",
         "y": [
          2.755719827955061e-11,
          2.5183323180897427e-11,
          2.9653620264452076e-11,
          2.948443137402788e-11,
          2.4524331446449677e-11,
          3.096720112117642e-11,
          2.1191993155240236e-11,
          2.8620099325110573e-11,
          3.2986511359309076e-11
         ]
        },
        {
         "boxpoints": "all",
         "hovertemplate": "Epoch: %{text}<br>Amplitude: %{y: .2e}",
         "line": {
          "width": 1
         },
         "marker": {
          "size": 3
         },
         "name": "MEG2212",
         "opacity": 0.7,
         "pointpos": 0,
         "text": [
          0,
          1,
          2,
          3,
          4,
          5,
          6,
          7,
          8
         ],
         "type": "box",
         "y": [
          2.7589798371448842e-11,
          3.706046566586031e-11,
          2.4299621932406378e-11,
          3.7692653351783986e-11,
          4.074096738431713e-11,
          4.0494204151388945e-11,
          2.3772716864994505e-11,
          4.3904998718779706e-11,
          3.8670699359267465e-11
         ]
        },
        {
         "boxpoints": "all",
         "hovertemplate": "Epoch: %{text}<br>Amplitude: %{y: .2e}",
         "line": {
          "width": 1
         },
         "marker": {
          "size": 3
         },
         "name": "MEG2213",
         "opacity": 0.7,
         "pointpos": 0,
         "text": [
          0,
          1,
          2,
          3,
          4,
          5,
          6,
          7,
          8
         ],
         "type": "box",
         "y": [
          4.2834282539012264e-11,
          2.6200612763853137e-11,
          3.461043089862303e-11,
          3.429672984244555e-11,
          4.003445365139231e-11,
          3.457943648289292e-11,
          2.9039944338187934e-11,
          4.097461759520565e-11,
          4.2390029246880687e-11
         ]
        },
        {
         "boxpoints": "all",
         "hovertemplate": "Epoch: %{text}<br>Amplitude: %{y: .2e}",
         "line": {
          "width": 1
         },
         "marker": {
          "size": 3
         },
         "name": "MEG2223",
         "opacity": 0.7,
         "pointpos": 0,
         "text": [
          0,
          1,
          2,
          3,
          4,
          5,
          6,
          7,
          8
         ],
         "type": "box",
         "y": [
          4.6576153819883747e-11,
          2.948480536396128e-11,
          3.416824390087346e-11,
          2.6691661546400764e-11,
          4.1918225362989004e-11,
          4.005511659521238e-11,
          2.4532080050382205e-11,
          3.9424896808700144e-11,
          3.532536875479757e-11
         ]
        },
        {
         "boxpoints": "all",
         "hovertemplate": "Epoch: %{text}<br>Amplitude: %{y: .2e}",
         "line": {
          "width": 1
         },
         "marker": {
          "size": 3
         },
         "name": "MEG2222",
         "opacity": 0.7,
         "pointpos": 0,
         "text": [
          0,
          1,
          2,
          3,
          4,
          5,
          6,
          7,
          8
         ],
         "type": "box",
         "y": [
          4.039417671880541e-11,
          3.029925526302056e-11,
          2.6844810424126014e-11,
          3.2068888808754e-11,
          3.555059484243637e-11,
          3.517584417951777e-11,
          2.7472675242776408e-11,
          3.0684471572809075e-11,
          3.687208402220198e-11
         ]
        },
        {
         "boxpoints": "all",
         "hovertemplate": "Epoch: %{text}<br>Amplitude: %{y: .2e}",
         "line": {
          "width": 1
         },
         "marker": {
          "size": 3
         },
         "name": "MEG2233",
         "opacity": 0.7,
         "pointpos": 0,
         "text": [
          0,
          1,
          2,
          3,
          4,
          5,
          6,
          7,
          8
         ],
         "type": "box",
         "y": [
          3.7339817932310914e-11,
          3.060388609191079e-11,
          3.012657208966709e-11,
          2.7310508031902795e-11,
          3.724840005965241e-11,
          3.1385422205474645e-11,
          2.0868357790990653e-11,
          3.547089491627323e-11,
          3.7234624763772356e-11
         ]
        },
        {
         "boxpoints": "all",
         "hovertemplate": "Epoch: %{text}<br>Amplitude: %{y: .2e}",
         "line": {
          "width": 1
         },
         "marker": {
          "size": 3
         },
         "name": "MEG2232",
         "opacity": 0.7,
         "pointpos": 0,
         "text": [
          0,
          1,
          2,
          3,
          4,
          5,
          6,
          7,
          8
         ],
         "type": "box",
         "y": [
          4.855791797717261e-11,
          2.3038149212190894e-11,
          2.495895768521054e-11,
          1.719074274054831e-11,
          3.2176336116618376e-11,
          3.3683181294697234e-11,
          2.845803937619616e-11,
          3.219803220762945e-11,
          2.9378831810178183e-11
         ]
        },
        {
         "boxpoints": "all",
         "hovertemplate": "Epoch: %{text}<br>Amplitude: %{y: .2e}",
         "line": {
          "width": 1
         },
         "marker": {
          "size": 3
         },
         "name": "MEG2242",
         "opacity": 0.7,
         "pointpos": 0,
         "text": [
          0,
          1,
          2,
          3,
          4,
          5,
          6,
          7,
          8
         ],
         "type": "box",
         "y": [
          4.7599673957516703e-11,
          2.763856580878643e-11,
          3.476619770588205e-11,
          3.9849963081570227e-11,
          4.4541793078325606e-11,
          3.5436948651425966e-11,
          2.2399529489821363e-11,
          4.7281981196283074e-11,
          3.706105603568374e-11
         ]
        },
        {
         "boxpoints": "all",
         "hovertemplate": "Epoch: %{text}<br>Amplitude: %{y: .2e}",
         "line": {
          "width": 1
         },
         "marker": {
          "size": 3
         },
         "name": "MEG2243",
         "opacity": 0.7,
         "pointpos": 0,
         "text": [
          0,
          1,
          2,
          3,
          4,
          5,
          6,
          7,
          8
         ],
         "type": "box",
         "y": [
          2.969265026944555e-11,
          3.111839339303062e-11,
          2.319157157005494e-11,
          3.7813187190734415e-11,
          3.103574161775032e-11,
          3.4866333510548554e-11,
          2.949209816766248e-11,
          4.0187836272825935e-11,
          3.8176855001967706e-11
         ]
        },
        {
         "boxpoints": "all",
         "hovertemplate": "Epoch: %{text}<br>Amplitude: %{y: .2e}",
         "line": {
          "width": 1
         },
         "marker": {
          "size": 3
         },
         "name": "MEG2312",
         "opacity": 0.7,
         "pointpos": 0,
         "text": [
          0,
          1,
          2,
          3,
          4,
          5,
          6,
          7,
          8
         ],
         "type": "box",
         "y": [
          3.652269242669892e-11,
          2.347826991555846e-11,
          2.190028951471079e-11,
          2.4582445975943634e-11,
          2.9010773123383125e-11,
          3.3180930876161585e-11,
          2.791563710091923e-11,
          2.9247105543325215e-11,
          3.410625506941324e-11
         ]
        },
        {
         "boxpoints": "all",
         "hovertemplate": "Epoch: %{text}<br>Amplitude: %{y: .2e}",
         "line": {
          "width": 1
         },
         "marker": {
          "size": 3
         },
         "name": "MEG2313",
         "opacity": 0.7,
         "pointpos": 0,
         "text": [
          0,
          1,
          2,
          3,
          4,
          5,
          6,
          7,
          8
         ],
         "type": "box",
         "y": [
          4.161516885362793e-11,
          1.3772590018358243e-11,
          2.085250386990108e-11,
          3.700113349860553e-11,
          3.222902662335956e-11,
          3.055485856157407e-11,
          2.5508404145880675e-11,
          3.1393468832635345e-11,
          3.294706392110712e-11
         ]
        },
        {
         "boxpoints": "all",
         "hovertemplate": "Epoch: %{text}<br>Amplitude: %{y: .2e}",
         "line": {
          "width": 1
         },
         "marker": {
          "size": 3
         },
         "name": "MEG2323",
         "opacity": 0.7,
         "pointpos": 0,
         "text": [
          0,
          1,
          2,
          3,
          4,
          5,
          6,
          7,
          8
         ],
         "type": "box",
         "y": [
          2.752780953998862e-11,
          1.7465353263917084e-11,
          1.5938643483029386e-11,
          3.7052415168268074e-11,
          3.101766154190776e-11,
          2.880930942113741e-11,
          2.3405677731348464e-11,
          2.3083687161455902e-11,
          3.2301346926729824e-11
         ]
        },
        {
         "boxpoints": "all",
         "hovertemplate": "Epoch: %{text}<br>Amplitude: %{y: .2e}",
         "line": {
          "width": 1
         },
         "marker": {
          "size": 3
         },
         "name": "MEG2322",
         "opacity": 0.7,
         "pointpos": 0,
         "text": [
          0,
          1,
          2,
          3,
          4,
          5,
          6,
          7,
          8
         ],
         "type": "box",
         "y": [
          2.7421604898675658e-11,
          2.1778742786357416e-11,
          1.5688340095390766e-11,
          3.293156671324206e-11,
          2.982351558030601e-11,
          2.2897493601758538e-11,
          2.0977020566138567e-11,
          2.1855956944842955e-11,
          3.0273091145845794e-11
         ]
        },
        {
         "boxpoints": "all",
         "hovertemplate": "Epoch: %{text}<br>Amplitude: %{y: .2e}",
         "line": {
          "width": 1
         },
         "marker": {
          "size": 3
         },
         "name": "MEG2332",
         "opacity": 0.7,
         "pointpos": 0,
         "text": [
          0,
          1,
          2,
          3,
          4,
          5,
          6,
          7,
          8
         ],
         "type": "box",
         "y": [
          2.7998288876199527e-11,
          2.1843314485795147e-11,
          1.8983701654012848e-11,
          2.837352793597206e-11,
          2.972864378448697e-11,
          3.115310713864834e-11,
          2.954980644042852e-11,
          1.8386263100988993e-11,
          2.524843057720567e-11
         ]
        },
        {
         "boxpoints": "all",
         "hovertemplate": "Epoch: %{text}<br>Amplitude: %{y: .2e}",
         "line": {
          "width": 1
         },
         "marker": {
          "size": 3
         },
         "name": "MEG2333",
         "opacity": 0.7,
         "pointpos": 0,
         "text": [
          0,
          1,
          2,
          3,
          4,
          5,
          6,
          7,
          8
         ],
         "type": "box",
         "y": [
          2.1607803887482265e-11,
          1.8823941820086915e-11,
          1.8654363177701482e-11,
          3.052668182000124e-11,
          2.0720164279882885e-11,
          2.037021878262241e-11,
          1.7826682899928632e-11,
          2.3032294711441873e-11,
          3.736893389860284e-11
         ]
        },
        {
         "boxpoints": "all",
         "hovertemplate": "Epoch: %{text}<br>Amplitude: %{y: .2e}",
         "line": {
          "width": 1
         },
         "marker": {
          "size": 3
         },
         "name": "MEG2343",
         "opacity": 0.7,
         "pointpos": 0,
         "text": [
          0,
          1,
          2,
          3,
          4,
          5,
          6,
          7,
          8
         ],
         "type": "box",
         "y": [
          3.439903308877151e-11,
          2.4367246112181164e-11,
          1.966635414505914e-11,
          3.9215088456065555e-11,
          3.779459054129635e-11,
          3.856221890421208e-11,
          2.5384426482960234e-11,
          3.19862370334737e-11,
          3.6379178889621315e-11
         ]
        },
        {
         "boxpoints": "all",
         "hovertemplate": "Epoch: %{text}<br>Amplitude: %{y: .2e}",
         "line": {
          "width": 1
         },
         "marker": {
          "size": 3
         },
         "name": "MEG2342",
         "opacity": 0.7,
         "pointpos": 0,
         "text": [
          0,
          1,
          2,
          3,
          4,
          5,
          6,
          7,
          8
         ],
         "type": "box",
         "y": [
          2.1510124516696462e-11,
          1.6573270400915836e-11,
          2.1282832134675653e-11,
          4.8165322044591214e-11,
          2.864400587057682e-11,
          2.5738415336298862e-11,
          3.439903308877151e-11,
          2.4954932436414422e-11,
          4.589928587232316e-11
         ]
        },
        {
         "boxpoints": "all",
         "hovertemplate": "Epoch: %{text}<br>Amplitude: %{y: .2e}",
         "line": {
          "width": 1
         },
         "marker": {
          "size": 3
         },
         "name": "MEG2412",
         "opacity": 0.7,
         "pointpos": 0,
         "text": [
          0,
          1,
          2,
          3,
          4,
          5,
          6,
          7,
          8
         ],
         "type": "box",
         "y": [
          3.7897314890573286e-11,
          3.584194235029941e-11,
          2.373078324371259e-11,
          2.3223933386479026e-11,
          2.7651446604934007e-11,
          3.196299122167612e-11,
          2.6155412574246725e-11,
          2.6357060767062262e-11,
          2.840859590348384e-11
         ]
        },
        {
         "boxpoints": "all",
         "hovertemplate": "Epoch: %{text}<br>Amplitude: %{y: .2e}",
         "line": {
          "width": 1
         },
         "marker": {
          "size": 3
         },
         "name": "MEG2413",
         "opacity": 0.7,
         "pointpos": 0,
         "text": [
          0,
          1,
          2,
          3,
          4,
          5,
          6,
          7,
          8
         ],
         "type": "box",
         "y": [
          3.5315037282887535e-11,
          2.6681026207669845e-11,
          2.5481837503826295e-11,
          3.5327998584011035e-11,
          3.2242457536842615e-11,
          3.468275120199329e-11,
          3.206253097988628e-11,
          2.860164683574567e-11,
          3.649451568512609e-11
         ]
        },
        {
         "boxpoints": "all",
         "hovertemplate": "Epoch: %{text}<br>Amplitude: %{y: .2e}",
         "line": {
          "width": 1
         },
         "marker": {
          "size": 3
         },
         "name": "MEG2423",
         "opacity": 0.7,
         "pointpos": 0,
         "text": [
          0,
          1,
          2,
          3,
          4,
          5,
          6,
          7,
          8
         ],
         "type": "box",
         "y": [
          2.675663379755693e-11,
          2.464545436055287e-11,
          2.3330116608368533e-11,
          3.4583569071656935e-11,
          2.4824895714779824e-11,
          2.789862055894976e-11,
          3.080549738661236e-11,
          2.2424459780734713e-11,
          2.651055692115424e-11
         ]
        },
        {
         "boxpoints": "all",
         "hovertemplate": "Epoch: %{text}<br>Amplitude: %{y: .2e}",
         "line": {
          "width": 1
         },
         "marker": {
          "size": 3
         },
         "name": "MEG2422",
         "opacity": 0.7,
         "pointpos": 0,
         "text": [
          0,
          1,
          2,
          3,
          4,
          5,
          6,
          7,
          8
         ],
         "type": "box",
         "y": [
          2.893328708405785e-11,
          2.3227215148144566e-11,
          2.068489819788228e-11,
          2.930641216573187e-11,
          2.6681764169949132e-11,
          3.073871180033677e-11,
          2.2833768388464696e-11,
          2.7735574304772878e-11,
          2.974987072925498e-11
         ]
        },
        {
         "boxpoints": "all",
         "hovertemplate": "Epoch: %{text}<br>Amplitude: %{y: .2e}",
         "line": {
          "width": 1
         },
         "marker": {
          "size": 3
         },
         "name": "MEG2433",
         "opacity": 0.7,
         "pointpos": 0,
         "text": [
          0,
          1,
          2,
          3,
          4,
          5,
          6,
          7,
          8
         ],
         "type": "box",
         "y": [
          2.448558842678704e-11,
          2.0616452196478285e-11,
          1.838716993864881e-11,
          3.4223000701996655e-11,
          2.7595361471708095e-11,
          2.4775808864987162e-11,
          2.1712262010588486e-11,
          2.7900609505413724e-11,
          3.03983692737619e-11
         ]
        },
        {
         "boxpoints": "all",
         "hovertemplate": "Epoch: %{text}<br>Amplitude: %{y: .2e}",
         "line": {
          "width": 1
         },
         "marker": {
          "size": 3
         },
         "name": "MEG2432",
         "opacity": 0.7,
         "pointpos": 0,
         "text": [
          0,
          1,
          2,
          3,
          4,
          5,
          6,
          7,
          8
         ],
         "type": "box",
         "y": [
          3.577995351883919e-11,
          1.9168854036160447e-11,
          1.5968322984152763e-11,
          2.2508470960213696e-11,
          2.8421879224511032e-11,
          2.189497184534533e-11,
          2.2479107829522013e-11,
          1.9010734832220376e-11,
          2.8058399258221558e-11
         ]
        },
        {
         "boxpoints": "all",
         "hovertemplate": "Epoch: %{text}<br>Amplitude: %{y: .2e}",
         "line": {
          "width": 1
         },
         "marker": {
          "size": 3
         },
         "name": "MEG2442",
         "opacity": 0.7,
         "pointpos": 0,
         "text": [
          0,
          1,
          2,
          3,
          4,
          5,
          6,
          7,
          8
         ],
         "type": "box",
         "y": [
          3.3063889026551376e-11,
          2.7603626649236123e-11,
          1.9234769761921314e-11,
          2.5452614197566477e-11,
          3.396368075705473e-11,
          2.7985891109907483e-11,
          3.0797178539100384e-11,
          2.8350774388424307e-11,
          3.082752272233266e-11
         ]
        },
        {
         "boxpoints": "all",
         "hovertemplate": "Epoch: %{text}<br>Amplitude: %{y: .2e}",
         "line": {
          "width": 1
         },
         "marker": {
          "size": 3
         },
         "name": "MEG2443",
         "opacity": 0.7,
         "pointpos": 0,
         "text": [
          0,
          1,
          2,
          3,
          4,
          5,
          6,
          7,
          8
         ],
         "type": "box",
         "y": [
          5.622387013441986e-11,
          2.2938819489398683e-11,
          1.723909402908728e-11,
          1.997516297577672e-11,
          3.038338296285943e-11,
          2.552249251666709e-11,
          2.6421547317006228e-11,
          2.893638652563086e-11,
          2.988988746045534e-11
         ]
        },
        {
         "boxpoints": "all",
         "hovertemplate": "Epoch: %{text}<br>Amplitude: %{y: .2e}",
         "line": {
          "width": 1
         },
         "marker": {
          "size": 3
         },
         "name": "MEG2512",
         "opacity": 0.7,
         "pointpos": 0,
         "text": [
          0,
          1,
          2,
          3,
          4,
          5,
          6,
          7,
          8
         ],
         "type": "box",
         "y": [
          2.11913248120439e-11,
          1.8279092617252345e-11,
          2.135515243804591e-11,
          2.8015507996049588e-11,
          1.7860373929701855e-11,
          2.6668480848921942e-11,
          2.43616107638666e-11,
          1.7170906314481038e-11,
          3.107706750539047e-11
         ]
        },
        {
         "boxpoints": "all",
         "hovertemplate": "Epoch: %{text}<br>Amplitude: %{y: .2e}",
         "line": {
          "width": 1
         },
         "marker": {
          "size": 3
         },
         "name": "MEG2513",
         "opacity": 0.7,
         "pointpos": 0,
         "text": [
          0,
          1,
          2,
          3,
          4,
          5,
          6,
          7,
          8
         ],
         "type": "box",
         "y": [
          1.848506954143771e-11,
          1.8083304427536156e-11,
          1.5555064107751293e-11,
          2.1491051030093316e-11,
          2.1063804930182876e-11,
          2.2818777625301113e-11,
          1.6335056909630326e-11,
          1.4528841795217052e-11,
          2.145882341479835e-11
         ]
        },
        {
         "boxpoints": "all",
         "hovertemplate": "Epoch: %{text}<br>Amplitude: %{y: .2e}",
         "line": {
          "width": 1
         },
         "marker": {
          "size": 3
         },
         "name": "MEG2522",
         "opacity": 0.7,
         "pointpos": 0,
         "text": [
          0,
          1,
          2,
          3,
          4,
          5,
          6,
          7,
          8
         ],
         "type": "box",
         "y": [
          1.6872585063078727e-11,
          1.5735375480665407e-11,
          2.344653753754906e-11,
          2.7910471364964214e-11,
          1.821541812458575e-11,
          1.8410682943685445e-11,
          1.6617331633533954e-11,
          2.2337857736782933e-11,
          2.5154182251822273e-11
         ]
        },
        {
         "boxpoints": "all",
         "hovertemplate": "Epoch: %{text}<br>Amplitude: %{y: .2e}",
         "line": {
          "width": 1
         },
         "marker": {
          "size": 3
         },
         "name": "MEG2523",
         "opacity": 0.7,
         "pointpos": 0,
         "text": [
          0,
          1,
          2,
          3,
          4,
          5,
          6,
          7,
          8
         ],
         "type": "box",
         "y": [
          2.5190303563387438e-11,
          1.2971492710878025e-11,
          1.594543480022899e-11,
          2.0442539085992667e-11,
          1.984295120742422e-11,
          2.339458499308716e-11,
          1.7360872088310744e-11,
          1.93260513549147e-11,
          2.2611337875578022e-11
         ]
        },
        {
         "boxpoints": "all",
         "hovertemplate": "Epoch: %{text}<br>Amplitude: %{y: .2e}",
         "line": {
          "width": 1
         },
         "marker": {
          "size": 3
         },
         "name": "MEG2533",
         "opacity": 0.7,
         "pointpos": 0,
         "text": [
          0,
          1,
          2,
          3,
          4,
          5,
          6,
          7,
          8
         ],
         "type": "box",
         "y": [
          1.8379688527955335e-11,
          1.3793203764693031e-11,
          1.51089620259095e-11,
          1.757524255605111e-11,
          1.3827642004393153e-11,
          1.4370469693219319e-11,
          1.1317188252726138e-11,
          1.1863481601839314e-11,
          1.3592773209638318e-11
         ]
        },
        {
         "boxpoints": "all",
         "hovertemplate": "Epoch: %{text}<br>Amplitude: %{y: .2e}",
         "line": {
          "width": 1
         },
         "marker": {
          "size": 3
         },
         "name": "MEG2532",
         "opacity": 0.7,
         "pointpos": 0,
         "text": [
          0,
          1,
          2,
          3,
          4,
          5,
          6,
          7,
          8
         ],
         "type": "box",
         "y": [
          1.0855253509196727e-11,
          1.4089325930195846e-11,
          1.3002395817363759e-11,
          1.5648736119735628e-11,
          1.2139690340658664e-11,
          1.4320612160223598e-11,
          1.3108500307924183e-11,
          1.1171648218924119e-11,
          1.5812963475305586e-11
         ]
        },
        {
         "boxpoints": "all",
         "hovertemplate": "Epoch: %{text}<br>Amplitude: %{y: .2e}",
         "line": {
          "width": 1
         },
         "marker": {
          "size": 3
         },
         "name": "MEG2543",
         "opacity": 0.7,
         "pointpos": 0,
         "text": [
          0,
          1,
          2,
          3,
          4,
          5,
          6,
          7,
          8
         ],
         "type": "box",
         "y": [
          1.8032938501974727e-11,
          1.7644938555059194e-11,
          1.7564879776650437e-11,
          1.956264206165454e-11,
          1.6365051505498173e-11,
          1.7170906314481038e-11,
          1.380083057485101e-11,
          1.8481124797617513e-11,
          1.83097297038788e-11
         ]
        },
        {
         "boxpoints": "all",
         "hovertemplate": "Epoch: %{text}<br>Amplitude: %{y: .2e}",
         "line": {
          "width": 1
         },
         "marker": {
          "size": 3
         },
         "name": "MEG2542",
         "opacity": 0.7,
         "pointpos": 0,
         "text": [
          0,
          1,
          2,
          3,
          4,
          5,
          6,
          7,
          8
         ],
         "type": "box",
         "y": [
          1.582297895804816e-11,
          1.6331474221790553e-11,
          1.6927083577404172e-11,
          1.8248558307558715e-11,
          1.3882177416832561e-11,
          1.617067974583477e-11,
          1.7412404470378145e-11,
          1.3815423915873457e-11,
          2.406319941241856e-11
         ]
        },
        {
         "boxpoints": "all",
         "hovertemplate": "Epoch: %{text}<br>Amplitude: %{y: .2e}",
         "line": {
          "width": 1
         },
         "marker": {
          "size": 3
         },
         "name": "MEG2612",
         "opacity": 0.7,
         "pointpos": 0,
         "text": [
          0,
          1,
          2,
          3,
          4,
          5,
          6,
          7,
          8
         ],
         "type": "box",
         "y": [
          2.5457834309689444e-11,
          2.648633140081346e-11,
          2.0316442146782988e-11,
          2.4016952860947773e-11,
          2.4123573651059353e-11,
          1.9917786408562052e-11,
          2.689927855176937e-11,
          1.4060525535918217e-11,
          2.031993895266023e-11
         ]
        },
        {
         "boxpoints": "all",
         "hovertemplate": "Epoch: %{text}<br>Amplitude: %{y: .2e}",
         "line": {
          "width": 1
         },
         "marker": {
          "size": 3
         },
         "name": "MEG2613",
         "opacity": 0.7,
         "pointpos": 0,
         "text": [
          0,
          1,
          2,
          3,
          4,
          5,
          6,
          7,
          8
         ],
         "type": "box",
         "y": [
          2.314938472642229e-11,
          2.007708858941019e-11,
          1.6984939820100377e-11,
          2.2150675775118738e-11,
          2.6425838851491936e-11,
          1.8240887448816146e-11,
          1.9251664757162435e-11,
          2.1575557172126694e-11,
          2.5188128516669536e-11
         ]
        },
        {
         "boxpoints": "all",
         "hovertemplate": "Epoch: %{text}<br>Amplitude: %{y: .2e}",
         "line": {
          "width": 1
         },
         "marker": {
          "size": 3
         },
         "name": "MEG2623",
         "opacity": 0.7,
         "pointpos": 0,
         "text": [
          0,
          1,
          2,
          3,
          4,
          5,
          6,
          7,
          8
         ],
         "type": "box",
         "y": [
          1.3145764858330729e-11,
          1.7317268833206557e-11,
          2.106337742100039e-11,
          1.4703049062008115e-11,
          1.694420430228366e-11,
          1.3039533017749882e-11,
          1.4312532419370877e-11,
          1.373193500551745e-11,
          1.6051350449320695e-11
         ]
        },
        {
         "boxpoints": "all",
         "hovertemplate": "Epoch: %{text}<br>Amplitude: %{y: .2e}",
         "line": {
          "width": 1
         },
         "marker": {
          "size": 3
         },
         "name": "MEG2622",
         "opacity": 0.7,
         "pointpos": 0,
         "text": [
          0,
          1,
          2,
          3,
          4,
          5,
          6,
          7,
          8
         ],
         "type": "box",
         "y": [
          1.3932261751524262e-11,
          1.5712928998536654e-11,
          1.3931316079038217e-11,
          1.64637276045573e-11,
          1.646507893808171e-11,
          1.76852817244701e-11,
          1.5531364976267862e-11,
          1.9978114824893874e-11,
          1.697387038591105e-11
         ]
        },
        {
         "boxpoints": "all",
         "hovertemplate": "Epoch: %{text}<br>Amplitude: %{y: .2e}",
         "line": {
          "width": 1
         },
         "marker": {
          "size": 3
         },
         "name": "MEG2633",
         "opacity": 0.7,
         "pointpos": 0,
         "text": [
          0,
          1,
          2,
          3,
          4,
          5,
          6,
          7,
          8
         ],
         "type": "box",
         "y": [
          1.7378568899872776e-11,
          1.4979044812336324e-11,
          1.4226436820120571e-11,
          1.673221612260871e-11,
          1.5309610085636e-11,
          1.3647404780798967e-11,
          1.1030216765340026e-11,
          1.0499358328574822e-11,
          1.5603751169127342e-11
         ]
        },
        {
         "boxpoints": "all",
         "hovertemplate": "Epoch: %{text}<br>Amplitude: %{y: .2e}",
         "line": {
          "width": 1
         },
         "marker": {
          "size": 3
         },
         "name": "MEG2632",
         "opacity": 0.7,
         "pointpos": 0,
         "text": [
          0,
          1,
          2,
          3,
          4,
          5,
          6,
          7,
          8
         ],
         "type": "box",
         "y": [
          1.2103319342608024e-11,
          1.2760243357362308e-11,
          1.3915833207165637e-11,
          1.3471900633903954e-11,
          1.17871763021609e-11,
          1.193170211476908e-11,
          1.624254976713631e-11,
          1.2765763481982522e-11,
          1.57305112852781e-11
         ]
        },
        {
         "boxpoints": "all",
         "hovertemplate": "Epoch: %{text}<br>Amplitude: %{y: .2e}",
         "line": {
          "width": 1
         },
         "marker": {
          "size": 3
         },
         "name": "MEG2642",
         "opacity": 0.7,
         "pointpos": 0,
         "text": [
          0,
          1,
          2,
          3,
          4,
          5,
          6,
          7,
          8
         ],
         "type": "box",
         "y": [
          2.0668381436868207e-11,
          2.199363740208618e-11,
          2.1976863953573416e-11,
          2.1053243870008172e-11,
          1.9982945123449215e-11,
          2.215584151107376e-11,
          1.7484849751231184e-11,
          2.0987093751250853e-11,
          2.4163836873017325e-11
         ]
        },
        {
         "boxpoints": "all",
         "hovertemplate": "Epoch: %{text}<br>Amplitude: %{y: .2e}",
         "line": {
          "width": 1
         },
         "marker": {
          "size": 3
         },
         "name": "MEG2643",
         "opacity": 0.7,
         "pointpos": 0,
         "text": [
          0,
          1,
          2,
          3,
          4,
          5,
          6,
          7,
          8
         ],
         "type": "box",
         "y": [
          1.8613555483009802e-11,
          1.7533051593011798e-11,
          1.55708196024141e-11,
          2.5060707029779083e-11,
          1.8390686546440213e-11,
          2.6310815130893528e-11,
          1.46633580999289e-11,
          1.951031091045805e-11,
          2.2022941213321922e-11
         ]
        }
       ],
       "layout": {
        "template": {
         "data": {
          "bar": [
           {
            "error_x": {
             "color": "#2a3f5f"
            },
            "error_y": {
             "color": "#2a3f5f"
            },
            "marker": {
             "line": {
              "color": "#E5ECF6",
              "width": 0.5
             },
             "pattern": {
              "fillmode": "overlay",
              "size": 10,
              "solidity": 0.2
             }
            },
            "type": "bar"
           }
          ],
          "barpolar": [
           {
            "marker": {
             "line": {
              "color": "#E5ECF6",
              "width": 0.5
             },
             "pattern": {
              "fillmode": "overlay",
              "size": 10,
              "solidity": 0.2
             }
            },
            "type": "barpolar"
           }
          ],
          "carpet": [
           {
            "aaxis": {
             "endlinecolor": "#2a3f5f",
             "gridcolor": "white",
             "linecolor": "white",
             "minorgridcolor": "white",
             "startlinecolor": "#2a3f5f"
            },
            "baxis": {
             "endlinecolor": "#2a3f5f",
             "gridcolor": "white",
             "linecolor": "white",
             "minorgridcolor": "white",
             "startlinecolor": "#2a3f5f"
            },
            "type": "carpet"
           }
          ],
          "choropleth": [
           {
            "colorbar": {
             "outlinewidth": 0,
             "ticks": ""
            },
            "type": "choropleth"
           }
          ],
          "contour": [
           {
            "colorbar": {
             "outlinewidth": 0,
             "ticks": ""
            },
            "colorscale": [
             [
              0,
              "#0d0887"
             ],
             [
              0.1111111111111111,
              "#46039f"
             ],
             [
              0.2222222222222222,
              "#7201a8"
             ],
             [
              0.3333333333333333,
              "#9c179e"
             ],
             [
              0.4444444444444444,
              "#bd3786"
             ],
             [
              0.5555555555555556,
              "#d8576b"
             ],
             [
              0.6666666666666666,
              "#ed7953"
             ],
             [
              0.7777777777777778,
              "#fb9f3a"
             ],
             [
              0.8888888888888888,
              "#fdca26"
             ],
             [
              1,
              "#f0f921"
             ]
            ],
            "type": "contour"
           }
          ],
          "contourcarpet": [
           {
            "colorbar": {
             "outlinewidth": 0,
             "ticks": ""
            },
            "type": "contourcarpet"
           }
          ],
          "heatmap": [
           {
            "colorbar": {
             "outlinewidth": 0,
             "ticks": ""
            },
            "colorscale": [
             [
              0,
              "#0d0887"
             ],
             [
              0.1111111111111111,
              "#46039f"
             ],
             [
              0.2222222222222222,
              "#7201a8"
             ],
             [
              0.3333333333333333,
              "#9c179e"
             ],
             [
              0.4444444444444444,
              "#bd3786"
             ],
             [
              0.5555555555555556,
              "#d8576b"
             ],
             [
              0.6666666666666666,
              "#ed7953"
             ],
             [
              0.7777777777777778,
              "#fb9f3a"
             ],
             [
              0.8888888888888888,
              "#fdca26"
             ],
             [
              1,
              "#f0f921"
             ]
            ],
            "type": "heatmap"
           }
          ],
          "heatmapgl": [
           {
            "colorbar": {
             "outlinewidth": 0,
             "ticks": ""
            },
            "colorscale": [
             [
              0,
              "#0d0887"
             ],
             [
              0.1111111111111111,
              "#46039f"
             ],
             [
              0.2222222222222222,
              "#7201a8"
             ],
             [
              0.3333333333333333,
              "#9c179e"
             ],
             [
              0.4444444444444444,
              "#bd3786"
             ],
             [
              0.5555555555555556,
              "#d8576b"
             ],
             [
              0.6666666666666666,
              "#ed7953"
             ],
             [
              0.7777777777777778,
              "#fb9f3a"
             ],
             [
              0.8888888888888888,
              "#fdca26"
             ],
             [
              1,
              "#f0f921"
             ]
            ],
            "type": "heatmapgl"
           }
          ],
          "histogram": [
           {
            "marker": {
             "pattern": {
              "fillmode": "overlay",
              "size": 10,
              "solidity": 0.2
             }
            },
            "type": "histogram"
           }
          ],
          "histogram2d": [
           {
            "colorbar": {
             "outlinewidth": 0,
             "ticks": ""
            },
            "colorscale": [
             [
              0,
              "#0d0887"
             ],
             [
              0.1111111111111111,
              "#46039f"
             ],
             [
              0.2222222222222222,
              "#7201a8"
             ],
             [
              0.3333333333333333,
              "#9c179e"
             ],
             [
              0.4444444444444444,
              "#bd3786"
             ],
             [
              0.5555555555555556,
              "#d8576b"
             ],
             [
              0.6666666666666666,
              "#ed7953"
             ],
             [
              0.7777777777777778,
              "#fb9f3a"
             ],
             [
              0.8888888888888888,
              "#fdca26"
             ],
             [
              1,
              "#f0f921"
             ]
            ],
            "type": "histogram2d"
           }
          ],
          "histogram2dcontour": [
           {
            "colorbar": {
             "outlinewidth": 0,
             "ticks": ""
            },
            "colorscale": [
             [
              0,
              "#0d0887"
             ],
             [
              0.1111111111111111,
              "#46039f"
             ],
             [
              0.2222222222222222,
              "#7201a8"
             ],
             [
              0.3333333333333333,
              "#9c179e"
             ],
             [
              0.4444444444444444,
              "#bd3786"
             ],
             [
              0.5555555555555556,
              "#d8576b"
             ],
             [
              0.6666666666666666,
              "#ed7953"
             ],
             [
              0.7777777777777778,
              "#fb9f3a"
             ],
             [
              0.8888888888888888,
              "#fdca26"
             ],
             [
              1,
              "#f0f921"
             ]
            ],
            "type": "histogram2dcontour"
           }
          ],
          "mesh3d": [
           {
            "colorbar": {
             "outlinewidth": 0,
             "ticks": ""
            },
            "type": "mesh3d"
           }
          ],
          "parcoords": [
           {
            "line": {
             "colorbar": {
              "outlinewidth": 0,
              "ticks": ""
             }
            },
            "type": "parcoords"
           }
          ],
          "pie": [
           {
            "automargin": true,
            "type": "pie"
           }
          ],
          "scatter": [
           {
            "fillpattern": {
             "fillmode": "overlay",
             "size": 10,
             "solidity": 0.2
            },
            "type": "scatter"
           }
          ],
          "scatter3d": [
           {
            "line": {
             "colorbar": {
              "outlinewidth": 0,
              "ticks": ""
             }
            },
            "marker": {
             "colorbar": {
              "outlinewidth": 0,
              "ticks": ""
             }
            },
            "type": "scatter3d"
           }
          ],
          "scattercarpet": [
           {
            "marker": {
             "colorbar": {
              "outlinewidth": 0,
              "ticks": ""
             }
            },
            "type": "scattercarpet"
           }
          ],
          "scattergeo": [
           {
            "marker": {
             "colorbar": {
              "outlinewidth": 0,
              "ticks": ""
             }
            },
            "type": "scattergeo"
           }
          ],
          "scattergl": [
           {
            "marker": {
             "colorbar": {
              "outlinewidth": 0,
              "ticks": ""
             }
            },
            "type": "scattergl"
           }
          ],
          "scattermapbox": [
           {
            "marker": {
             "colorbar": {
              "outlinewidth": 0,
              "ticks": ""
             }
            },
            "type": "scattermapbox"
           }
          ],
          "scatterpolar": [
           {
            "marker": {
             "colorbar": {
              "outlinewidth": 0,
              "ticks": ""
             }
            },
            "type": "scatterpolar"
           }
          ],
          "scatterpolargl": [
           {
            "marker": {
             "colorbar": {
              "outlinewidth": 0,
              "ticks": ""
             }
            },
            "type": "scatterpolargl"
           }
          ],
          "scatterternary": [
           {
            "marker": {
             "colorbar": {
              "outlinewidth": 0,
              "ticks": ""
             }
            },
            "type": "scatterternary"
           }
          ],
          "surface": [
           {
            "colorbar": {
             "outlinewidth": 0,
             "ticks": ""
            },
            "colorscale": [
             [
              0,
              "#0d0887"
             ],
             [
              0.1111111111111111,
              "#46039f"
             ],
             [
              0.2222222222222222,
              "#7201a8"
             ],
             [
              0.3333333333333333,
              "#9c179e"
             ],
             [
              0.4444444444444444,
              "#bd3786"
             ],
             [
              0.5555555555555556,
              "#d8576b"
             ],
             [
              0.6666666666666666,
              "#ed7953"
             ],
             [
              0.7777777777777778,
              "#fb9f3a"
             ],
             [
              0.8888888888888888,
              "#fdca26"
             ],
             [
              1,
              "#f0f921"
             ]
            ],
            "type": "surface"
           }
          ],
          "table": [
           {
            "cells": {
             "fill": {
              "color": "#EBF0F8"
             },
             "line": {
              "color": "white"
             }
            },
            "header": {
             "fill": {
              "color": "#C8D4E3"
             },
             "line": {
              "color": "white"
             }
            },
            "type": "table"
           }
          ]
         },
         "layout": {
          "annotationdefaults": {
           "arrowcolor": "#2a3f5f",
           "arrowhead": 0,
           "arrowwidth": 1
          },
          "autotypenumbers": "strict",
          "coloraxis": {
           "colorbar": {
            "outlinewidth": 0,
            "ticks": ""
           }
          },
          "colorscale": {
           "diverging": [
            [
             0,
             "#8e0152"
            ],
            [
             0.1,
             "#c51b7d"
            ],
            [
             0.2,
             "#de77ae"
            ],
            [
             0.3,
             "#f1b6da"
            ],
            [
             0.4,
             "#fde0ef"
            ],
            [
             0.5,
             "#f7f7f7"
            ],
            [
             0.6,
             "#e6f5d0"
            ],
            [
             0.7,
             "#b8e186"
            ],
            [
             0.8,
             "#7fbc41"
            ],
            [
             0.9,
             "#4d9221"
            ],
            [
             1,
             "#276419"
            ]
           ],
           "sequential": [
            [
             0,
             "#0d0887"
            ],
            [
             0.1111111111111111,
             "#46039f"
            ],
            [
             0.2222222222222222,
             "#7201a8"
            ],
            [
             0.3333333333333333,
             "#9c179e"
            ],
            [
             0.4444444444444444,
             "#bd3786"
            ],
            [
             0.5555555555555556,
             "#d8576b"
            ],
            [
             0.6666666666666666,
             "#ed7953"
            ],
            [
             0.7777777777777778,
             "#fb9f3a"
            ],
            [
             0.8888888888888888,
             "#fdca26"
            ],
            [
             1,
             "#f0f921"
            ]
           ],
           "sequentialminus": [
            [
             0,
             "#0d0887"
            ],
            [
             0.1111111111111111,
             "#46039f"
            ],
            [
             0.2222222222222222,
             "#7201a8"
            ],
            [
             0.3333333333333333,
             "#9c179e"
            ],
            [
             0.4444444444444444,
             "#bd3786"
            ],
            [
             0.5555555555555556,
             "#d8576b"
            ],
            [
             0.6666666666666666,
             "#ed7953"
            ],
            [
             0.7777777777777778,
             "#fb9f3a"
            ],
            [
             0.8888888888888888,
             "#fdca26"
            ],
            [
             1,
             "#f0f921"
            ]
           ]
          },
          "colorway": [
           "#636efa",
           "#EF553B",
           "#00cc96",
           "#ab63fa",
           "#FFA15A",
           "#19d3f3",
           "#FF6692",
           "#B6E880",
           "#FF97FF",
           "#FECB52"
          ],
          "font": {
           "color": "#2a3f5f"
          },
          "geo": {
           "bgcolor": "white",
           "lakecolor": "white",
           "landcolor": "#E5ECF6",
           "showlakes": true,
           "showland": true,
           "subunitcolor": "white"
          },
          "hoverlabel": {
           "align": "left"
          },
          "hovermode": "closest",
          "mapbox": {
           "style": "light"
          },
          "paper_bgcolor": "white",
          "plot_bgcolor": "#E5ECF6",
          "polar": {
           "angularaxis": {
            "gridcolor": "white",
            "linecolor": "white",
            "ticks": ""
           },
           "bgcolor": "#E5ECF6",
           "radialaxis": {
            "gridcolor": "white",
            "linecolor": "white",
            "ticks": ""
           }
          },
          "scene": {
           "xaxis": {
            "backgroundcolor": "#E5ECF6",
            "gridcolor": "white",
            "gridwidth": 2,
            "linecolor": "white",
            "showbackground": true,
            "ticks": "",
            "zerolinecolor": "white"
           },
           "yaxis": {
            "backgroundcolor": "#E5ECF6",
            "gridcolor": "white",
            "gridwidth": 2,
            "linecolor": "white",
            "showbackground": true,
            "ticks": "",
            "zerolinecolor": "white"
           },
           "zaxis": {
            "backgroundcolor": "#E5ECF6",
            "gridcolor": "white",
            "gridwidth": 2,
            "linecolor": "white",
            "showbackground": true,
            "ticks": "",
            "zerolinecolor": "white"
           }
          },
          "shapedefaults": {
           "line": {
            "color": "#2a3f5f"
           }
          },
          "ternary": {
           "aaxis": {
            "gridcolor": "white",
            "linecolor": "white",
            "ticks": ""
           },
           "baxis": {
            "gridcolor": "white",
            "linecolor": "white",
            "ticks": ""
           },
           "bgcolor": "#E5ECF6",
           "caxis": {
            "gridcolor": "white",
            "linecolor": "white",
            "ticks": ""
           }
          },
          "title": {
           "x": 0.05
          },
          "xaxis": {
           "automargin": true,
           "gridcolor": "white",
           "linecolor": "white",
           "ticks": "",
           "title": {
            "standoff": 15
           },
           "zerolinecolor": "white",
           "zerolinewidth": 2
          },
          "yaxis": {
           "automargin": true,
           "gridcolor": "white",
           "linecolor": "white",
           "ticks": "",
           "title": {
            "standoff": 15
           },
           "zerolinecolor": "white",
           "zerolinewidth": 2
          }
         }
        },
        "title": {
         "text": "Peak-to-peak amplitude over epochs for Gradiometers",
         "x": 0.5,
         "xanchor": "center",
         "y": 0.85,
         "yanchor": "top"
        },
        "xaxis": {
         "rangeslider": {
          "visible": true
         },
         "tickmode": "array",
         "ticktext": [
          "MEG0113",
          "MEG0112",
          "MEG0122",
          "MEG0123",
          "MEG0132",
          "MEG0133",
          "MEG0143",
          "MEG0142",
          "MEG0213",
          "MEG0212",
          "MEG0222",
          "MEG0223",
          "MEG0232",
          "MEG0233",
          "MEG0243",
          "MEG0242",
          "MEG0313",
          "MEG0312",
          "MEG0322",
          "MEG0323",
          "MEG0333",
          "MEG0332",
          "MEG0343",
          "MEG0342",
          "MEG0413",
          "MEG0412",
          "MEG0422",
          "MEG0423",
          "MEG0432",
          "MEG0433",
          "MEG0443",
          "MEG0442",
          "MEG0513",
          "MEG0512",
          "MEG0523",
          "MEG0522",
          "MEG0532",
          "MEG0533",
          "MEG0542",
          "MEG0543",
          "MEG0613",
          "MEG0612",
          "MEG0622",
          "MEG0623",
          "MEG0633",
          "MEG0632",
          "MEG0642",
          "MEG0643",
          "MEG0713",
          "MEG0712",
          "MEG0723",
          "MEG0722",
          "MEG0733",
          "MEG0732",
          "MEG0743",
          "MEG0742",
          "MEG0813",
          "MEG0812",
          "MEG0822",
          "MEG0823",
          "MEG0913",
          "MEG0912",
          "MEG0923",
          "MEG0922",
          "MEG0932",
          "MEG0933",
          "MEG0942",
          "MEG0943",
          "MEG1013",
          "MEG1012",
          "MEG1023",
          "MEG1022",
          "MEG1032",
          "MEG1033",
          "MEG1043",
          "MEG1042",
          "MEG1112",
          "MEG1113",
          "MEG1123",
          "MEG1122",
          "MEG1133",
          "MEG1132",
          "MEG1142",
          "MEG1143",
          "MEG1213",
          "MEG1212",
          "MEG1223",
          "MEG1222",
          "MEG1232",
          "MEG1233",
          "MEG1243",
          "MEG1242",
          "MEG1312",
          "MEG1313",
          "MEG1323",
          "MEG1322",
          "MEG1333",
          "MEG1332",
          "MEG1342",
          "MEG1343",
          "MEG1412",
          "MEG1413",
          "MEG1423",
          "MEG1422",
          "MEG1433",
          "MEG1432",
          "MEG1442",
          "MEG1443",
          "MEG1512",
          "MEG1513",
          "MEG1522",
          "MEG1523",
          "MEG1533",
          "MEG1532",
          "MEG1543",
          "MEG1542",
          "MEG1613",
          "MEG1612",
          "MEG1622",
          "MEG1623",
          "MEG1632",
          "MEG1633",
          "MEG1643",
          "MEG1642",
          "MEG1713",
          "MEG1712",
          "MEG1722",
          "MEG1723",
          "MEG1732",
          "MEG1733",
          "MEG1743",
          "MEG1742",
          "MEG1813",
          "MEG1812",
          "MEG1822",
          "MEG1823",
          "MEG1832",
          "MEG1833",
          "MEG1843",
          "MEG1842",
          "MEG1912",
          "MEG1913",
          "MEG1923",
          "MEG1922",
          "MEG1932",
          "MEG1933",
          "MEG1943",
          "MEG1942",
          "MEG2013",
          "MEG2012",
          "MEG2023",
          "MEG2022",
          "MEG2032",
          "MEG2033",
          "MEG2042",
          "MEG2043",
          "MEG2113",
          "MEG2112",
          "MEG2122",
          "MEG2123",
          "MEG2133",
          "MEG2132",
          "MEG2143",
          "MEG2142",
          "MEG2212",
          "MEG2213",
          "MEG2223",
          "MEG2222",
          "MEG2233",
          "MEG2232",
          "MEG2242",
          "MEG2243",
          "MEG2312",
          "MEG2313",
          "MEG2323",
          "MEG2322",
          "MEG2332",
          "MEG2333",
          "MEG2343",
          "MEG2342",
          "MEG2412",
          "MEG2413",
          "MEG2423",
          "MEG2422",
          "MEG2433",
          "MEG2432",
          "MEG2442",
          "MEG2443",
          "MEG2512",
          "MEG2513",
          "MEG2522",
          "MEG2523",
          "MEG2533",
          "MEG2532",
          "MEG2543",
          "MEG2542",
          "MEG2612",
          "MEG2613",
          "MEG2623",
          "MEG2622",
          "MEG2633",
          "MEG2632",
          "MEG2642",
          "MEG2643"
         ],
         "tickvals": [
          0,
          1,
          2,
          3,
          4,
          5,
          6,
          7,
          8,
          9,
          10,
          11,
          12,
          13,
          14,
          15,
          16,
          17,
          18,
          19,
          20,
          21,
          22,
          23,
          24,
          25,
          26,
          27,
          28,
          29,
          30,
          31,
          32,
          33,
          34,
          35,
          36,
          37,
          38,
          39,
          40,
          41,
          42,
          43,
          44,
          45,
          46,
          47,
          48,
          49,
          50,
          51,
          52,
          53,
          54,
          55,
          56,
          57,
          58,
          59,
          60,
          61,
          62,
          63,
          64,
          65,
          66,
          67,
          68,
          69,
          70,
          71,
          72,
          73,
          74,
          75,
          76,
          77,
          78,
          79,
          80,
          81,
          82,
          83,
          84,
          85,
          86,
          87,
          88,
          89,
          90,
          91,
          92,
          93,
          94,
          95,
          96,
          97,
          98,
          99,
          100,
          101,
          102,
          103,
          104,
          105,
          106,
          107,
          108,
          109,
          110,
          111,
          112,
          113,
          114,
          115,
          116,
          117,
          118,
          119,
          120,
          121,
          122,
          123,
          124,
          125,
          126,
          127,
          128,
          129,
          130,
          131,
          132,
          133,
          134,
          135,
          136,
          137,
          138,
          139,
          140,
          141,
          142,
          143,
          144,
          145,
          146,
          147,
          148,
          149,
          150,
          151,
          152,
          153,
          154,
          155,
          156,
          157,
          158,
          159,
          160,
          161,
          162,
          163,
          164,
          165,
          166,
          167,
          168,
          169,
          170,
          171,
          172,
          173,
          174,
          175,
          176,
          177,
          178,
          179,
          180,
          181,
          182,
          183,
          184,
          185,
          186,
          187,
          188,
          189,
          190,
          191,
          192,
          193,
          194,
          195,
          196,
          197,
          198,
          199,
          200,
          201,
          202,
          203
         ]
        },
        "yaxis": {
         "exponentformat": "e",
         "showexponent": "all",
         "title": {
          "text": "Peak-to-peak amplitude in Tesla/meter"
         }
        }
       }
      }
     },
     "metadata": {},
     "output_type": "display_data"
    }
   ],
   "source": [
    "#%% TRY TO SAVE DERIVATIVE FROM BIDS DATASET HERE:\n",
    "\n",
    "config_file_name = 'settings.ini'\n",
    "make_derivative_meg_qc(config_file_name)\n"
   ]
  },
  {
   "cell_type": "code",
   "execution_count": null,
   "metadata": {},
   "outputs": [],
   "source": [
    "\n",
    "from universal_plots import add_output_format\n",
    "dfs_with_name_list = []\n",
    "dfs_with_name_and_format = add_output_format(dfs_with_name_list, 'df')\n",
    "dfs_with_name_and_format"
   ]
  },
  {
   "cell_type": "code",
   "execution_count": null,
   "metadata": {},
   "outputs": [],
   "source": [
    "# Other useful ancp stuff:\n",
    "\n",
    "config = configparser.ConfigParser()\n",
    "config.read('settings.ini')\n",
    "\n",
    "default_direct = config['DEFAULT']['data_directory']\n",
    "dataset_path = ancpbids.utils.fetch_dataset(default_direct)\n",
    "\n",
    "from ancpbids import BIDSLayout\n",
    "layout = BIDSLayout(dataset_path)\n",
    "\n",
    "list_of_fifs = layout.get(suffix='meg', extension='.fif', return_type='filename')\n",
    "\n",
    "list_of_subs = layout.get_subjects()\n",
    "\n",
    "\n",
    "list_of_entities = layout.get_entities()\n",
    "print(list_of_entities)"
   ]
  },
  {
   "cell_type": "code",
   "execution_count": null,
   "metadata": {},
   "outputs": [],
   "source": [
    "#%% TRY SEPARATE FUNCTIONS HERE\n",
    "\n",
    "config = configparser.ConfigParser()\n",
    "config.read('settings.ini')\n",
    "data_file='/Volumes/M2_DATA/MEG_QC_stuff/data/from openneuro/ds003483/sub-009/ses-1/meg/sub-009_ses-1_task-deduction_run-1_meg.fif'\n",
    "sid='009'\n",
    "\n",
    "df_epochs, epochs_mg, channels, raw_bandpass, raw_bandpass_resamp, raw_cropped, raw = initial_stuff(config, data_file)\n",
    "m_or_g_chosen = ['mags', 'grads']\n",
    "\n",
    "m_or_g_chosen = sanity_check(m_or_g_chosen, channels)\n",
    "\n",
    "if len(m_or_g_chosen) == 0: \n",
    "    raise ValueError('No channels to analyze. Check presence of mags and grads in your data set and parameter do_for in settings.')\n",
    "\n",
    "\n"
   ]
  },
  {
   "cell_type": "code",
   "execution_count": null,
   "metadata": {},
   "outputs": [],
   "source": [
    "config = configparser.ConfigParser()\n",
    "config.read('settings.ini')\n",
    "data_file = '/Volumes/M2_DATA/MEG_QC_stuff/data/from openneuro/ds003483/sub-009/ses-1/meg/sub-009_ses-1_task-deduction_run-1_meg.fif'\n",
    "dict_of_dfs_epoch, epochs_mg, channels, raw_bandpass, raw_filtered_resampled, raw_cropped, raw = initial_stuff(config, data_file)\n",
    "m_or_g_chosen = ['mags','grads']\n",
    "sid='009'\n",
    "#dfs_ptp_amlitude_annot, bad_channels, amplit_annot_with_ch_names = PP_auto_meg_qc(sid, config, channels, raw, m_or_g_chosen)\n",
    "\n",
    "#out_with_name_and_format = RMSE_meg_qc(sid, config, channels, dict_of_dfs_epoch, raw_filtered_resampled, m_or_g_chosen)\n",
    "\n",
    "# psd_section = config['PSD']\n",
    "# freq_min = psd_section.getfloat('freq_min') \n",
    "# freq_max = psd_section.getfloat('freq_max') \n",
    "# mean_power_per_band_needed = psd_section.getboolean('mean_power_per_band_needed')\n",
    "# n_fft = psd_section.getint('n_fft')\n",
    "# n_per_seg = psd_section.getint('n_per_seg')\n",
    "\n",
    "# m_or_g='mags'\n",
    "# fig, fig_desc, fig_path, dfs_with_name = Power_of_freq_meg(ch_names=channels[m_or_g], m_or_g = m_or_g, freqs = freqs[m_or_g], psds = psds[m_or_g], mean_power_per_band_needed = mean_power_per_band_needed, plotflag = True, sid = sid)\n",
    "\n",
    "deriv_with_name_and_format = PSD_meg_qc(sid, config, channels, raw_filtered_resampled, m_or_g_chosen)\n",
    "\n"
   ]
  },
  {
   "cell_type": "code",
   "execution_count": null,
   "metadata": {},
   "outputs": [],
   "source": [
    "dfs_with_name_list=[]\n",
    "dfs_with_name=[(9,'h'), ('g', 0)]\n",
    "\n",
    "dfs_with_name_list += dfs_with_name\n",
    "\n",
    "dfs_with_name_list"
   ]
  }
 ],
 "metadata": {
  "kernelspec": {
   "display_name": "Python 3.9.13 ('mne_new')",
   "language": "python",
   "name": "python3"
  },
  "language_info": {
   "codemirror_mode": {
    "name": "ipython",
    "version": 3
   },
   "file_extension": ".py",
   "mimetype": "text/x-python",
   "name": "python",
   "nbconvert_exporter": "python",
   "pygments_lexer": "ipython3",
   "version": "3.9.13"
  },
  "orig_nbformat": 4,
  "vscode": {
   "interpreter": {
    "hash": "d401ab1bf6dd7bb97662b0feb1321a641d60d04842bfa92b47f7871360972b5d"
   }
  }
 },
 "nbformat": 4,
 "nbformat_minor": 2
}
