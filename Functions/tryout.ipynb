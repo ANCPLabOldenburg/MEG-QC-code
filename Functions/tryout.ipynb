{
 "cells": [
  {
   "cell_type": "code",
   "execution_count": 1,
   "metadata": {},
   "outputs": [],
   "source": [
    "# This notebook checks MNE functions for ECG and EOG detection\n",
    "# Cropped data is used here (5 minutes only), tried on whole data - takes forever.\n",
    "\n",
    "\n",
    "#Load data, make folders\n",
    "import numpy as np\n",
    "import matplotlib.pyplot as plt\n",
    "import plotly.graph_objects as go\n",
    "import mne\n",
    "from mne.time_frequency import tfr_morlet, psd_multitaper, psd_welch\n",
    "import configparser\n",
    "import ancpbids\n",
    "import plotly\n",
    "import mpld3\n",
    "\n",
    "from main_meg_qc import make_derivative_meg_qc, sanity_check, initial_stuff\n",
    "\n",
    "from data_load_and_folders import load_meg_data, make_folders_meg, Epoch_meg\n",
    "from RMSE_meq_qc import RMSE_meg_qc\n",
    "from PSD_meg_qc import PSD_meg_qc\n",
    "from Peaks_manual_meg_qc import PP_manual_meg_qc\n",
    "from Peaks_auto_meg_qc import PP_auto_meg_qc\n",
    "from ECG_meg_qc import ECG_meg_qc\n",
    "from EOG_meg_qc import EOG_meg_qc\n",
    "from universal_html_report import keep_fig_derivs, make_joined_report\n",
    "\n",
    "\n",
    "\n"
   ]
  },
  {
   "cell_type": "code",
   "execution_count": null,
   "metadata": {},
   "outputs": [],
   "source": [
    "#%% TRY TO SAVE DERIVATIVE FROM BIDS DATASET HERE:\n",
    "\n",
    "config_file_name = 'settings.ini'\n",
    "make_derivative_meg_qc(config_file_name)\n"
   ]
  },
  {
   "cell_type": "code",
   "execution_count": null,
   "metadata": {},
   "outputs": [],
   "source": [
    "\n",
    "from universal_plots import add_output_format\n",
    "from universal_html_report import keep_fig_derivs\n",
    "\n",
    "html_string='''<html>\n",
    "            #     <head>\n",
    "            #     <title>HTML File</title>\n",
    "            #     </head>\n",
    "            #     <body>\n",
    "            #     <h1>stuff</h1>\n",
    "            #     <p>Example stuff</p>\n",
    "            #     </body>\n",
    "            #     </html>'''\n",
    "all_derivs=[(html_string, 'stuff_report', None, 'report')]\n",
    "all_derivs += [(html_string, 'stuff_report2', None, 'plotly')]\n",
    "\n",
    "for d in all_derivs:\n",
    "    if d[3] == 'plotly': #or d[3] == 'matplotlib':\n",
    "        print(d[3])\n",
    "\n",
    "all_fig_derivs = keep_fig_derivs(all_derivs)\n",
    "\n",
    "print(all_fig_derivs)"
   ]
  },
  {
   "cell_type": "code",
   "execution_count": null,
   "metadata": {},
   "outputs": [],
   "source": []
  },
  {
   "cell_type": "code",
   "execution_count": null,
   "metadata": {},
   "outputs": [],
   "source": [
    "# Other useful ancp stuff:\n",
    "\n",
    "config = configparser.ConfigParser()\n",
    "config.read('settings.ini')\n",
    "\n",
    "default_direct = config['DEFAULT']['data_directory']\n",
    "dataset_path = ancpbids.utils.fetch_dataset(default_direct)\n",
    "\n",
    "from ancpbids import BIDSLayout\n",
    "layout = BIDSLayout(dataset_path)\n",
    "\n",
    "list_of_fifs = layout.get(suffix='meg', extension='.fif', return_type='filename')\n",
    "\n",
    "list_of_subs = layout.get_subjects()\n",
    "\n",
    "\n",
    "list_of_entities = layout.get_entities()\n",
    "print(list_of_entities)"
   ]
  },
  {
   "cell_type": "code",
   "execution_count": null,
   "metadata": {},
   "outputs": [],
   "source": [
    "#TRY SEPARATE FUNCS HERE\n",
    "\n",
    "config = configparser.ConfigParser()\n",
    "config.read('settings.ini')\n",
    "data_file = '/Volumes/M2_DATA/MEG_QC_stuff/data/from openneuro/ds003483/sub-009/ses-1/meg/sub-009_ses-1_task-deduction_run-1_meg.fif'\n",
    "dict_of_dfs_epoch, epochs_mg, channels, raw_bandpass, raw_filtered_resampled, raw_cropped, raw = initial_stuff(config, data_file)\n",
    "m_or_g_chosen = ['mags']\n",
    "sid='009'\n",
    "#dfs_ptp_amlitude_annot, bad_channels, amplit_annot_with_ch_names = PP_auto_meg_qc(sid, config, channels, raw, m_or_g_chosen)\n",
    "\n",
    "#out_with_name_and_format = RMSE_meg_qc(sid, config, channels, dict_of_dfs_epoch, raw_filtered_resampled, m_or_g_chosen)\n",
    "\n",
    "#out_with_name_and_format = PP_manual_meg_qc(sid, config, channels, dict_of_dfs_epoch, raw_filtered_resampled, m_or_g_chosen)\n",
    "\n",
    "#out_with_name_and_format = PSD_meg_qc(sid, config, channels, raw_filtered_resampled, m_or_g_chosen)\n",
    "\n",
    "#out_with_name_and_format = ECG_meg_qc(config, raw, m_or_g_chosen)\n",
    "\n",
    "out_with_name_and_format = EOG_meg_qc(config, raw, m_or_g_chosen)\n",
    "\n",
    "#out_with_name_and_format, bad_channels = PP_auto_meg_qc(sid, config, channels, raw_filtered_resampled, m_or_g_chosen)\n",
    "\n",
    "# psd_section = config['PSD']\n",
    "# freq_min = psd_section.getfloat('freq_min') \n",
    "# freq_max = psd_section.getfloat('freq_max') \n",
    "# mean_power_per_band_needed = psd_section.getboolean('mean_power_per_band_needed')\n",
    "# n_fft = psd_section.getint('n_fft')\n",
    "# n_per_seg = psd_section.getint('n_per_seg')\n",
    "\n",
    "# m_or_g='mags'\n",
    "# fig, fig_desc, fig_path, dfs_with_name = Power_of_freq_meg(ch_names=channels[m_or_g], m_or_g = m_or_g, freqs = freqs[m_or_g], psds = psds[m_or_g], mean_power_per_band_needed = mean_power_per_band_needed, plotflag = True, sid = sid)\n",
    "\n",
    "#deriv_with_name_and_format = PSD_meg_qc(sid, config, channels, raw_filtered_resampled, m_or_g_chosen)\n",
    "\n",
    "\n",
    "#figs = ECG_meg_qc(config, raw, m_or_g_chosen)\n",
    "\n",
    "print(out_with_name_and_format)"
   ]
  },
  {
   "cell_type": "code",
   "execution_count": 1,
   "metadata": {},
   "outputs": [
    {
     "name": "stdout",
     "output_type": "stream",
     "text": [
      "None\n"
     ]
    },
    {
     "name": "stderr",
     "output_type": "stream",
     "text": [
      "/Users/jenya/Local Storage/Job Uni Rieger lab/MEG QC code/Functions/universal_plots.py:48: UserWarning: Check description of this QC_derivative instance: mean_EC_epoch\n",
      "  warnings.warn(\"Check description of this QC_derivative instance: \" + self.description)\n"
     ]
    }
   ],
   "source": [
    "# out_with_name_and_format[0].convert_fig_to_html()\n",
    "from universal_plots import QC_derivative\n",
    "dr = QC_derivative('001', 'mean_EC_epoch', None, '')\n",
    "# dr_html = dr.convert_fig_to_html()\n",
    "# l=[\"a\"]\n",
    "\n",
    "# if dr_html is not None:\n",
    "\n",
    "#     l += dr_html\n",
    "    \n",
    "# print(l)\n",
    "\n",
    "sec = dr.get_section()\n",
    "print(sec)\n"
   ]
  },
  {
   "cell_type": "code",
   "execution_count": null,
   "metadata": {},
   "outputs": [],
   "source": [
    "print(figs)\n",
    "all_fig_derivs = figs\n",
    "figures_report = {}\n",
    "for x in range(0, len(all_fig_derivs)):\n",
    "    if all_fig_derivs[x][3]=='plotly':\n",
    "        figures_report[\"f{0}\".format(x)] = plotly.io.to_html(all_fig_derivs[x][0])\n",
    "    elif all_fig_derivs[x][3]=='matplotlib':\n",
    "        figures_report[\"f{0}\".format(x)] = mpld3.fig_to_html(all_fig_derivs[x][0]);\n",
    "\n",
    "print(figures_report)"
   ]
  },
  {
   "cell_type": "code",
   "execution_count": null,
   "metadata": {},
   "outputs": [],
   "source": [
    "\n",
    "import mpld3\n",
    "\n",
    "html_fig=mpld3.fig_to_html(figs[0][0])\n",
    "print(html_fig)\n",
    "\n",
    "\n",
    "\n",
    "# file = open('matpl_fig.html', \"w\")\n",
    "# file.write(html_fig)\n",
    "# file.close()"
   ]
  },
  {
   "cell_type": "code",
   "execution_count": null,
   "metadata": {},
   "outputs": [],
   "source": [
    "html_string = '''\n",
    "<!doctype html>\n",
    "<html>\n",
    "    <head>\n",
    "        <meta charset=\"UTF-8\">\n",
    "        <title>MEG QC: Frequency spectrum Report</title>\n",
    "        <style>body{ margin:0 100;}</style>\n",
    "    </head>\n",
    "    \n",
    "    <body style=\"font-family: Arial\">\n",
    "        <center>\n",
    "        <h1>MEG data quality analysis report</h1>\n",
    "        <br></br>\n",
    "        <!-- *** Section 1 *** --->\n",
    "        <h2>Frequency spectrum per channel</h2>\n",
    "        ''' + html_fig + '''\n",
    "        <p>graph description...</p>\n",
    "        </center>\n",
    "    \n",
    "    </body>\n",
    "</html>'''\n",
    "\n",
    "with open('report_trial.html', 'w', encoding = 'utf8') as f:\n",
    "    f.write(html_string)"
   ]
  }
 ],
 "metadata": {
  "kernelspec": {
   "display_name": "Python 3.9.13 ('mne_new')",
   "language": "python",
   "name": "python3"
  },
  "language_info": {
   "codemirror_mode": {
    "name": "ipython",
    "version": 3
   },
   "file_extension": ".py",
   "mimetype": "text/x-python",
   "name": "python",
   "nbconvert_exporter": "python",
   "pygments_lexer": "ipython3",
   "version": "3.9.13"
  },
  "orig_nbformat": 4,
  "vscode": {
   "interpreter": {
    "hash": "d401ab1bf6dd7bb97662b0feb1321a641d60d04842bfa92b47f7871360972b5d"
   }
  }
 },
 "nbformat": 4,
 "nbformat_minor": 2
}
