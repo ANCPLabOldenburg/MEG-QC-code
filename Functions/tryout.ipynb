{
 "cells": [
  {
   "cell_type": "code",
   "execution_count": 1,
   "metadata": {},
   "outputs": [],
   "source": [
    "# This notebook checks MNE functions for ECG and EOG detection\n",
    "# Cropped data is used here (5 minutes only), tried on whole data - takes forever.\n",
    "\n",
    "\n",
    "#Load data, make folders\n",
    "import numpy as np\n",
    "import matplotlib.pyplot as plt\n",
    "import plotly.graph_objects as go\n",
    "import mne\n",
    "from mne.time_frequency import tfr_morlet, psd_multitaper, psd_welch\n",
    "import configparser\n",
    "import ancpbids\n",
    "\n",
    "from main_meg_qc import make_derivative_meg_qc, sanity_check, initial_stuff\n",
    "from RMSE_meq_qc import RMSE_meg_qc\n",
    "from PSD_meg_qc import PSD_meg_qc\n",
    "from Peaks_auto_meg_qc import PP_auto_meg_qc\n"
   ]
  },
  {
   "cell_type": "code",
   "execution_count": 2,
   "metadata": {},
   "outputs": [
    {
     "name": "stdout",
     "output_type": "stream",
     "text": [
      "Opening raw data file /Volumes/M2_DATA/MEG_QC_stuff/data/from openneuro/ds003483/sub-009/ses-1/meg/sub-009_ses-1_task-deduction_run-1_meg.fif...\n",
      "    Range : 60000 ... 1255999 =     60.000 ...  1255.999 secs\n",
      "Ready.\n",
      "Stimulus channels detected: ['STI101', 'STI201', 'STI301']\n",
      "9 events found\n",
      "Event IDs: [2 4 8]\n",
      "Trigger channel has a non-zero initial value of 3840 (consider using initial_event=True to detect this event)\n",
      "Not setting metadata\n",
      "9 matching events found\n",
      "No baseline correction applied\n",
      "0 projection items activated\n",
      "Loading data for 9 events and 1201 original time points ...\n",
      "0 bad epochs dropped\n",
      "Not setting metadata\n",
      "9 matching events found\n",
      "No baseline correction applied\n",
      "0 projection items activated\n",
      "Loading data for 9 events and 1201 original time points ...\n",
      "0 bad epochs dropped\n"
     ]
    }
   ],
   "source": [
    "#%% TRY TO SAVE DERIVATIVE FROM BIDS DATASET HERE:\n",
    "\n",
    "config_file_name = 'settings.ini'\n",
    "dfs_ptp_amlitude_annot, bad_channels = make_derivative_meg_qc(config_file_name)\n"
   ]
  },
  {
   "cell_type": "code",
   "execution_count": 7,
   "metadata": {},
   "outputs": [
    {
     "data": {
      "text/html": [
       "<div>\n",
       "<style scoped>\n",
       "    .dataframe tbody tr th:only-of-type {\n",
       "        vertical-align: middle;\n",
       "    }\n",
       "\n",
       "    .dataframe tbody tr th {\n",
       "        vertical-align: top;\n",
       "    }\n",
       "\n",
       "    .dataframe thead th {\n",
       "        text-align: right;\n",
       "    }\n",
       "</style>\n",
       "<table border=\"1\" class=\"dataframe\">\n",
       "  <thead>\n",
       "    <tr style=\"text-align: right;\">\n",
       "      <th></th>\n",
       "      <th>onset</th>\n",
       "      <th>duration</th>\n",
       "      <th>description</th>\n",
       "      <th>ch_names</th>\n",
       "    </tr>\n",
       "  </thead>\n",
       "  <tbody>\n",
       "    <tr>\n",
       "      <th>0</th>\n",
       "      <td>2019-02-21 11:12:50.619717</td>\n",
       "      <td>0.003</td>\n",
       "      <td>BAD_flat</td>\n",
       "      <td>(MEG0231,)</td>\n",
       "    </tr>\n",
       "    <tr>\n",
       "      <th>1</th>\n",
       "      <td>2019-02-21 11:12:50.620717</td>\n",
       "      <td>0.002</td>\n",
       "      <td>BAD_flat</td>\n",
       "      <td>(MEG1621,)</td>\n",
       "    </tr>\n",
       "    <tr>\n",
       "      <th>2</th>\n",
       "      <td>2019-02-21 11:12:50.620717</td>\n",
       "      <td>0.003</td>\n",
       "      <td>BAD_flat</td>\n",
       "      <td>(MEG0621,)</td>\n",
       "    </tr>\n",
       "    <tr>\n",
       "      <th>3</th>\n",
       "      <td>2019-02-21 11:12:50.622717</td>\n",
       "      <td>0.002</td>\n",
       "      <td>BAD_flat</td>\n",
       "      <td>(MEG0411,)</td>\n",
       "    </tr>\n",
       "    <tr>\n",
       "      <th>4</th>\n",
       "      <td>2019-02-21 11:12:50.626717</td>\n",
       "      <td>0.002</td>\n",
       "      <td>BAD_flat</td>\n",
       "      <td>(MEG0121,)</td>\n",
       "    </tr>\n",
       "    <tr>\n",
       "      <th>...</th>\n",
       "      <td>...</td>\n",
       "      <td>...</td>\n",
       "      <td>...</td>\n",
       "      <td>...</td>\n",
       "    </tr>\n",
       "    <tr>\n",
       "      <th>78</th>\n",
       "      <td>2019-02-21 11:12:50.786717</td>\n",
       "      <td>0.003</td>\n",
       "      <td>BAD_flat</td>\n",
       "      <td>(MEG1721,)</td>\n",
       "    </tr>\n",
       "    <tr>\n",
       "      <th>79</th>\n",
       "      <td>2019-02-21 11:12:50.826717</td>\n",
       "      <td>0.002</td>\n",
       "      <td>BAD_flat</td>\n",
       "      <td>(MEG2131,)</td>\n",
       "    </tr>\n",
       "    <tr>\n",
       "      <th>80</th>\n",
       "      <td>2019-02-21 11:12:50.884717</td>\n",
       "      <td>0.002</td>\n",
       "      <td>BAD_flat</td>\n",
       "      <td>(MEG2641,)</td>\n",
       "    </tr>\n",
       "    <tr>\n",
       "      <th>81</th>\n",
       "      <td>2019-02-21 11:12:50.906717</td>\n",
       "      <td>0.002</td>\n",
       "      <td>BAD_flat</td>\n",
       "      <td>(MEG1211,)</td>\n",
       "    </tr>\n",
       "    <tr>\n",
       "      <th>82</th>\n",
       "      <td>2019-02-21 11:12:50.908717</td>\n",
       "      <td>0.002</td>\n",
       "      <td>BAD_flat</td>\n",
       "      <td>(MEG2631,)</td>\n",
       "    </tr>\n",
       "  </tbody>\n",
       "</table>\n",
       "<p>83 rows × 4 columns</p>\n",
       "</div>"
      ],
      "text/plain": [
       "                        onset  duration description    ch_names\n",
       "0  2019-02-21 11:12:50.619717     0.003    BAD_flat  (MEG0231,)\n",
       "1  2019-02-21 11:12:50.620717     0.002    BAD_flat  (MEG1621,)\n",
       "2  2019-02-21 11:12:50.620717     0.003    BAD_flat  (MEG0621,)\n",
       "3  2019-02-21 11:12:50.622717     0.002    BAD_flat  (MEG0411,)\n",
       "4  2019-02-21 11:12:50.626717     0.002    BAD_flat  (MEG0121,)\n",
       "..                        ...       ...         ...         ...\n",
       "78 2019-02-21 11:12:50.786717     0.003    BAD_flat  (MEG1721,)\n",
       "79 2019-02-21 11:12:50.826717     0.002    BAD_flat  (MEG2131,)\n",
       "80 2019-02-21 11:12:50.884717     0.002    BAD_flat  (MEG2641,)\n",
       "81 2019-02-21 11:12:50.906717     0.002    BAD_flat  (MEG1211,)\n",
       "82 2019-02-21 11:12:50.908717     0.002    BAD_flat  (MEG2631,)\n",
       "\n",
       "[83 rows x 4 columns]"
      ]
     },
     "execution_count": 7,
     "metadata": {},
     "output_type": "execute_result"
    }
   ],
   "source": [
    "dfs_ptp_amlitude_annot['mags']"
   ]
  },
  {
   "cell_type": "code",
   "execution_count": 2,
   "metadata": {},
   "outputs": [
    {
     "name": "stdout",
     "output_type": "stream",
     "text": [
      "OrderedDict([('sub', {'018', '014', '017', '027', '029', '028', '021', '013', '019', '012', '030', '031', '023', '015', '025', '022', '009', '016', '024', '020', '026'}), ('ses', {'1'}), ('task', {'deduction', 'induction'}), ('run', {'1'}), ('desc', {'epochs'})])\n"
     ]
    }
   ],
   "source": [
    "# Other useful ancp stuff:\n",
    "\n",
    "config = configparser.ConfigParser()\n",
    "config.read('settings.ini')\n",
    "\n",
    "default_direct = config['DEFAULT']['data_directory']\n",
    "dataset_path = ancpbids.utils.fetch_dataset(default_direct)\n",
    "\n",
    "from ancpbids import BIDSLayout\n",
    "layout = BIDSLayout(dataset_path)\n",
    "\n",
    "list_of_fifs = layout.get(suffix='meg', extension='.fif', return_type='filename')\n",
    "\n",
    "list_of_subs = layout.get_subjects()\n",
    "\n",
    "\n",
    "list_of_entities = layout.get_entities()\n",
    "print(list_of_entities)"
   ]
  },
  {
   "cell_type": "code",
   "execution_count": 2,
   "metadata": {},
   "outputs": [
    {
     "name": "stdout",
     "output_type": "stream",
     "text": [
      "Opening raw data file /Volumes/M2_DATA/MEG_QC_stuff/data/from openneuro/ds003483/sub-009/ses-1/meg/sub-009_ses-1_task-deduction_run-1_meg.fif...\n",
      "    Range : 60000 ... 1255999 =     60.000 ...  1255.999 secs\n",
      "Ready.\n",
      "Stimulus channels detected: ['STI101', 'STI201', 'STI301']\n",
      "9 events found\n",
      "Event IDs: [2 4 8]\n",
      "Trigger channel has a non-zero initial value of 3840 (consider using initial_event=True to detect this event)\n",
      "Not setting metadata\n",
      "9 matching events found\n",
      "No baseline correction applied\n",
      "0 projection items activated\n",
      "Loading data for 9 events and 1201 original time points ...\n",
      "0 bad epochs dropped\n",
      "Not setting metadata\n",
      "9 matching events found\n",
      "No baseline correction applied\n",
      "0 projection items activated\n",
      "Loading data for 9 events and 1201 original time points ...\n",
      "0 bad epochs dropped\n"
     ]
    }
   ],
   "source": [
    "#%% TRY SEPARATE FUNCTIONS HERE\n",
    "\n",
    "config = configparser.ConfigParser()\n",
    "config.read('settings.ini')\n",
    "data_file='/Volumes/M2_DATA/MEG_QC_stuff/data/from openneuro/ds003483/sub-009/ses-1/meg/sub-009_ses-1_task-deduction_run-1_meg.fif'\n",
    "sid='009'\n",
    "\n",
    "df_epochs, epochs_mg, channels, raw_bandpass, raw_bandpass_resamp, raw_cropped, raw = initial_stuff(config, data_file)\n",
    "m_or_g_chosen = ['mags', 'grads']\n",
    "\n",
    "m_or_g_chosen = sanity_check(m_or_g_chosen, channels)\n",
    "\n",
    "if len(m_or_g_chosen) == 0: \n",
    "    raise ValueError('No channels to analyze. Check presence of mags and grads in your data set and parameter do_for in settings.')\n",
    "\n",
    "\n"
   ]
  },
  {
   "cell_type": "code",
   "execution_count": 3,
   "metadata": {},
   "outputs": [],
   "source": [
    "config = configparser.ConfigParser()\n",
    "config.read(config_file_name)\n",
    "data_file = '/Volumes/M2_DATA/MEG_QC_stuff/data/from openneuro/ds003483/sub-009/ses-1/meg/sub-009_ses-1_task-deduction_run-1_meg.fif'\n",
    "dict_of_dfs_epoch, epochs_mg, channels, raw_bandpass, raw_bandpass_resamp, raw_cropped, raw = initial_stuff(config, data_file)\n",
    "m_or_g_chosen = ['mags','grads']\n",
    "sid='009'\n",
    "dfs_ptp_amlitude_annot, bad_channels, amplit_annot_with_ch_names = PP_auto_meg_qc(sid, config, channels, raw, m_or_g_chosen)\n"
   ]
  }
 ],
 "metadata": {
  "kernelspec": {
   "display_name": "Python 3.9.13 ('mne_new')",
   "language": "python",
   "name": "python3"
  },
  "language_info": {
   "codemirror_mode": {
    "name": "ipython",
    "version": 3
   },
   "file_extension": ".py",
   "mimetype": "text/x-python",
   "name": "python",
   "nbconvert_exporter": "python",
   "pygments_lexer": "ipython3",
   "version": "3.9.13"
  },
  "orig_nbformat": 4,
  "vscode": {
   "interpreter": {
    "hash": "d401ab1bf6dd7bb97662b0feb1321a641d60d04842bfa92b47f7871360972b5d"
   }
  }
 },
 "nbformat": 4,
 "nbformat_minor": 2
}
