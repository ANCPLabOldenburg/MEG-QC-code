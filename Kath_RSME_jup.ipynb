{
 "cells": [
  {
   "cell_type": "code",
   "execution_count": 1,
   "metadata": {},
   "outputs": [
    {
     "name": "stdout",
     "output_type": "stream",
     "text": [
      "/Users/jenya/Local Storage/Job Uni Rieger lab/MEG QC code/Katharinas_Data/sub_HT05ND16/210811/mikado-1.fif\n",
      "Opening raw data file /Users/jenya/Local Storage/Job Uni Rieger lab/MEG QC code/Katharinas_Data/sub_HT05ND16/210811/mikado-1.fif...\n",
      "    Read a total of 8 projection items:\n",
      "        magn8_iasoff_68deg.fif : PCA-v1 (1 x 306)  idle\n",
      "        magn8_iasoff_68deg.fif : PCA-v2 (1 x 306)  idle\n",
      "        magn8_iasoff_68deg.fif : PCA-v3 (1 x 306)  idle\n",
      "        magn8_iasoff_68deg.fif : PCA-v4 (1 x 306)  idle\n",
      "        magn8_iasoff_68deg.fif : PCA-v5 (1 x 306)  idle\n",
      "        magn8_iasoff_68deg.fif : PCA-v6 (1 x 306)  idle\n",
      "        magn8_iasoff_68deg.fif : PCA-v7 (1 x 306)  idle\n",
      "        magn8_iasoff_68deg.fif : PCA-v8 (1 x 306)  idle\n",
      "    Range : 1809000 ... 3375999 =   1809.000 ...  3375.999 secs\n",
      "Ready.\n",
      "Opening raw data file /Users/jenya/Local Storage/Job Uni Rieger lab/MEG QC code/Katharinas_Data/sub_HT05ND16/210811/mikado-2.fif...\n",
      "    Read a total of 8 projection items:\n",
      "        magn8_iasoff_68deg.fif : PCA-v1 (1 x 306)  idle\n",
      "        magn8_iasoff_68deg.fif : PCA-v2 (1 x 306)  idle\n",
      "        magn8_iasoff_68deg.fif : PCA-v3 (1 x 306)  idle\n",
      "        magn8_iasoff_68deg.fif : PCA-v4 (1 x 306)  idle\n",
      "        magn8_iasoff_68deg.fif : PCA-v5 (1 x 306)  idle\n",
      "        magn8_iasoff_68deg.fif : PCA-v6 (1 x 306)  idle\n",
      "        magn8_iasoff_68deg.fif : PCA-v7 (1 x 306)  idle\n",
      "        magn8_iasoff_68deg.fif : PCA-v8 (1 x 306)  idle\n",
      "    Range : 3376000 ... 4942999 =   3376.000 ...  4942.999 secs\n",
      "Ready.\n",
      "Opening raw data file /Users/jenya/Local Storage/Job Uni Rieger lab/MEG QC code/Katharinas_Data/sub_HT05ND16/210811/mikado-3.fif...\n",
      "    Read a total of 8 projection items:\n",
      "        magn8_iasoff_68deg.fif : PCA-v1 (1 x 306)  idle\n",
      "        magn8_iasoff_68deg.fif : PCA-v2 (1 x 306)  idle\n",
      "        magn8_iasoff_68deg.fif : PCA-v3 (1 x 306)  idle\n",
      "        magn8_iasoff_68deg.fif : PCA-v4 (1 x 306)  idle\n",
      "        magn8_iasoff_68deg.fif : PCA-v5 (1 x 306)  idle\n",
      "        magn8_iasoff_68deg.fif : PCA-v6 (1 x 306)  idle\n",
      "        magn8_iasoff_68deg.fif : PCA-v7 (1 x 306)  idle\n",
      "        magn8_iasoff_68deg.fif : PCA-v8 (1 x 306)  idle\n",
      "    Range : 4943000 ... 5198999 =   4943.000 ...  5198.999 secs\n",
      "Ready.\n"
     ]
    },
    {
     "name": "stderr",
     "output_type": "stream",
     "text": [
      "/var/folders/h2/khhmb4p510vg63hbv0qkftt80000gs/T/ipykernel_74410/2805200223.py:19: RuntimeWarning: This filename (/Users/jenya/Local Storage/Job Uni Rieger lab/MEG QC code/Katharinas_Data/sub_HT05ND16/210811/mikado-1.fif) does not conform to MNE naming conventions. All raw files should end with raw.fif, raw_sss.fif, raw_tsss.fif, _meg.fif, _eeg.fif, _ieeg.fif, raw.fif.gz, raw_sss.fif.gz, raw_tsss.fif.gz, _meg.fif.gz, _eeg.fif.gz or _ieeg.fif.gz\n",
      "  raw = mne.io.read_raw_fif(kath_raw_file)\n"
     ]
    },
    {
     "name": "stdout",
     "output_type": "stream",
     "text": [
      "<Raw | mikado-1.fif, 319 x 3390000 (3390.0 s), ~6.6 MB, data not loaded>\n",
      "<Info | 24 non-empty values\n",
      " acq_pars: ACQactiveGround 1 ACQch.BIO001.gain 2000 ACQch.BIO001.highpass ...\n",
      " bads: []\n",
      " ch_names: IASX+, IASX-, IASY+, IASY-, IASZ+, IASZ-, IAS_DX, IAS_DY, IAS_X, ...\n",
      " chs: 11 IAS, 102 Magnetometers, 204 Gradiometers, 1 Stimulus, 1 SYST\n",
      " custom_ref_applied: False\n",
      " description: TRIUX system at Oldenburg_3127\n",
      " dev_head_t: MEG device -> head transform\n",
      " dig: 356 items (3 Cardinal, 5 HPI, 348 Extra)\n",
      " events: 1 item (list)\n",
      " experimenter: Meg User (meg)\n",
      " file_id: 4 items (dict)\n",
      " gantry_angle: 68.0\n",
      " highpass: 0.1 Hz\n",
      " hpi_meas: 1 item (list)\n",
      " hpi_results: 1 item (list)\n",
      " hpi_subsystem: 3 items (dict)\n",
      " line_freq: 50.0\n",
      " lowpass: 330.0 Hz\n",
      " meas_date: 2021-08-11 12:05:17 UTC\n",
      " meas_id: 4 items (dict)\n",
      " nchan: 319\n",
      " proj_id: 1 item (ndarray)\n",
      " proj_name: mikado\n",
      " projs: magn8_iasoff_68deg.fif : PCA-v1: off, magn8_iasoff_68deg.fif : ...\n",
      " sfreq: 1000.0 Hz\n",
      " subject_info: 6 items (dict)\n",
      ">\n"
     ]
    },
    {
     "data": {
      "text/html": [
       "\n",
       "\n",
       "<table class=\"table table-hover table-striped table-sm table-responsive small\">\n",
       "    <tr>\n",
       "        <th>Measurement date</th>\n",
       "        <td>August 11, 2021  12:05:17 GMT</td>\n",
       "        \n",
       "    </tr>\n",
       "    <tr>\n",
       "        <th>Experimenter</th>\n",
       "        <td>Meg User (meg)</td>\n",
       "        \n",
       "    </tr>\n",
       "        <th>Participant</th>\n",
       "        \n",
       "    </tr>\n",
       "    <tr>\n",
       "        <th>Digitized points</th>\n",
       "        <td>356 points</td>\n",
       "    </tr>\n",
       "    <tr>\n",
       "        <th>Good channels</th>\n",
       "        <td>11 IAS, 102 Magnetometers, 204 Gradiometers, 1 Stimulus, 1 SYST</td>\n",
       "    </tr>\n",
       "    <tr>\n",
       "        <th>Bad channels</th>\n",
       "        <td>None</td>\n",
       "    </tr>\n",
       "    <tr>\n",
       "        <th>EOG channels</th>\n",
       "        <td>Not available</td>\n",
       "    </tr>\n",
       "    <tr>\n",
       "        <th>ECG channels</th>\n",
       "        <td>Not available</td>\n",
       "    <tr>\n",
       "        <th>Sampling frequency</th>\n",
       "        <td>1000.00 Hz</td>\n",
       "    </tr>\n",
       "    <tr>\n",
       "        <th>Highpass</th>\n",
       "        <td>0.10 Hz</td>\n",
       "    </tr>\n",
       "    <tr>\n",
       "        <th>Lowpass</th>\n",
       "        <td>330.00 Hz</td>\n",
       "    </tr>\n",
       "        <tr>\n",
       "            <th>Projections</th>\n",
       "            <td>magn8_iasoff_68deg.fif : PCA-v1: off<br/>magn8_iasoff_68deg.fif : PCA-v2: off<br/>magn8_iasoff_68deg.fif : PCA-v3: off<br/>magn8_iasoff_68deg.fif : PCA-v4: off<br/>magn8_iasoff_68deg.fif : PCA-v5: off<br/>magn8_iasoff_68deg.fif : PCA-v6: off<br/>magn8_iasoff_68deg.fif : PCA-v7: off<br/>magn8_iasoff_68deg.fif : PCA-v8: off</td>\n",
       "        </tr>\n",
       "\n",
       "    <tr>\n",
       "        <th>Filenames</th>\n",
       "        <td>mikado-1.fif<br>mikado-2.fif<br>mikado-3.fif</td>\n",
       "    </tr>\n",
       "    <tr>\n",
       "        <th>Duration</th>\n",
       "        <td>00:56:29 (HH:MM:SS)</td>\n",
       "    </tr>\n",
       "</table>\n"
      ],
      "text/plain": [
       "<Raw | mikado-1.fif, 319 x 3390000 (3390.0 s), ~6.6 MB, data not loaded>"
      ]
     },
     "execution_count": 1,
     "metadata": {},
     "output_type": "execute_result"
    }
   ],
   "source": [
    "#%% Imports:\n",
    "import matplotlib\n",
    "matplotlib.use('MACOSX')\n",
    "\n",
    "from math import sqrt\n",
    "import os\n",
    "import numpy as np\n",
    "import mne\n",
    "#import matplotlib #doesnt it import through mne already?\n",
    "from copy import deepcopy\n",
    "\n",
    "#Open data:\n",
    "#sample_data_folder = mne.datasets.sample.data_path()\n",
    "#kath_raw_file2 = \"/Users/jenya/Documents/Oldenburg and university/Job Uni Rieger lab/Katharinas_Data/sub_HT05ND16/210811/mikado-1.fif\"\n",
    "#kath_raw_file = os.path.join('Katharinas_Data','sub_HT05ND16', '210811', 'mikado-1.fif')\n",
    "kath_raw_file='/Users/jenya/Local Storage/Job Uni Rieger lab/MEG QC code/Katharinas_Data/sub_HT05ND16/210811/mikado-1.fif'\n",
    "print(kath_raw_file)\n",
    "#print(kath_raw_file2)                                   \n",
    "raw = mne.io.read_raw_fif(kath_raw_file)\n",
    "#raw.crop(0, 60).load_data()  # just use a fraction of data for speed here\n",
    "\n",
    "#Print info about the data:\n",
    "print(raw)\n",
    "print(raw.info)\n",
    "raw\n",
    "\n",
    "\n",
    "\n"
   ]
  },
  {
   "cell_type": "code",
   "execution_count": 2,
   "metadata": {},
   "outputs": [
    {
     "name": "stdout",
     "output_type": "stream",
     "text": [
      "['IASX+', 'IASX-', 'IASY+', 'IASY-', 'IASZ+', 'IASZ-', 'IAS_DX', 'IAS_DY', 'IAS_X', 'IAS_Y', 'IAS_Z', 'MEG0111', 'MEG0112', 'MEG0113', 'MEG0121', 'MEG0122', 'MEG0123', 'MEG0131', 'MEG0132', 'MEG0133', 'MEG0141', 'MEG0142', 'MEG0143', 'MEG0211', 'MEG0212', 'MEG0213', 'MEG0221', 'MEG0222', 'MEG0223', 'MEG0231', 'MEG0232', 'MEG0233', 'MEG0241', 'MEG0242', 'MEG0243', 'MEG0311', 'MEG0312', 'MEG0313', 'MEG0321', 'MEG0322', 'MEG0323', 'MEG0331', 'MEG0332', 'MEG0333', 'MEG0341', 'MEG0342', 'MEG0343', 'MEG0411', 'MEG0412', 'MEG0413', 'MEG0421', 'MEG0422', 'MEG0423', 'MEG0431', 'MEG0432', 'MEG0433', 'MEG0441', 'MEG0442', 'MEG0443', 'MEG0511', 'MEG0512', 'MEG0513', 'MEG0521', 'MEG0522', 'MEG0523', 'MEG0531', 'MEG0532', 'MEG0533', 'MEG0541', 'MEG0542', 'MEG0543', 'MEG0611', 'MEG0612', 'MEG0613', 'MEG0621', 'MEG0622', 'MEG0623', 'MEG0631', 'MEG0632', 'MEG0633', 'MEG0641', 'MEG0642', 'MEG0643', 'MEG0711', 'MEG0712', 'MEG0713', 'MEG0721', 'MEG0722', 'MEG0723', 'MEG0731', 'MEG0732', 'MEG0733', 'MEG0741', 'MEG0742', 'MEG0743', 'MEG0811', 'MEG0812', 'MEG0813', 'MEG0821', 'MEG0822', 'MEG0823', 'MEG0911', 'MEG0912', 'MEG0913', 'MEG0921', 'MEG0922', 'MEG0923', 'MEG0931', 'MEG0932', 'MEG0933', 'MEG0941', 'MEG0942', 'MEG0943', 'MEG1011', 'MEG1012', 'MEG1013', 'MEG1021', 'MEG1022', 'MEG1023', 'MEG1031', 'MEG1032', 'MEG1033', 'MEG1041', 'MEG1042', 'MEG1043', 'MEG1111', 'MEG1112', 'MEG1113', 'MEG1121', 'MEG1122', 'MEG1123', 'MEG1131', 'MEG1132', 'MEG1133', 'MEG1141', 'MEG1142', 'MEG1143', 'MEG1211', 'MEG1212', 'MEG1213', 'MEG1221', 'MEG1222', 'MEG1223', 'MEG1231', 'MEG1232', 'MEG1233', 'MEG1241', 'MEG1242', 'MEG1243', 'MEG1311', 'MEG1312', 'MEG1313', 'MEG1321', 'MEG1322', 'MEG1323', 'MEG1331', 'MEG1332', 'MEG1333', 'MEG1341', 'MEG1342', 'MEG1343', 'MEG1411', 'MEG1412', 'MEG1413', 'MEG1421', 'MEG1422', 'MEG1423', 'MEG1431', 'MEG1432', 'MEG1433', 'MEG1441', 'MEG1442', 'MEG1443', 'MEG1511', 'MEG1512', 'MEG1513', 'MEG1521', 'MEG1522', 'MEG1523', 'MEG1531', 'MEG1532', 'MEG1533', 'MEG1541', 'MEG1542', 'MEG1543', 'MEG1611', 'MEG1612', 'MEG1613', 'MEG1621', 'MEG1622', 'MEG1623', 'MEG1631', 'MEG1632', 'MEG1633', 'MEG1641', 'MEG1642', 'MEG1643', 'MEG1711', 'MEG1712', 'MEG1713', 'MEG1721', 'MEG1722', 'MEG1723', 'MEG1731', 'MEG1732', 'MEG1733', 'MEG1741', 'MEG1742', 'MEG1743', 'MEG1811', 'MEG1812', 'MEG1813', 'MEG1821', 'MEG1822', 'MEG1823', 'MEG1831', 'MEG1832', 'MEG1833', 'MEG1841', 'MEG1842', 'MEG1843', 'MEG1911', 'MEG1912', 'MEG1913', 'MEG1921', 'MEG1922', 'MEG1923', 'MEG1931', 'MEG1932', 'MEG1933', 'MEG1941', 'MEG1942', 'MEG1943', 'MEG2011', 'MEG2012', 'MEG2013', 'MEG2021', 'MEG2022', 'MEG2023', 'MEG2031', 'MEG2032', 'MEG2033', 'MEG2041', 'MEG2042', 'MEG2043', 'MEG2111', 'MEG2112', 'MEG2113', 'MEG2121', 'MEG2122', 'MEG2123', 'MEG2131', 'MEG2132', 'MEG2133', 'MEG2141', 'MEG2142', 'MEG2143', 'MEG2211', 'MEG2212', 'MEG2213', 'MEG2221', 'MEG2222', 'MEG2223', 'MEG2231', 'MEG2232', 'MEG2233', 'MEG2241', 'MEG2242', 'MEG2243', 'MEG2311', 'MEG2312', 'MEG2313', 'MEG2321', 'MEG2322', 'MEG2323', 'MEG2331', 'MEG2332', 'MEG2333', 'MEG2341', 'MEG2342', 'MEG2343', 'MEG2411', 'MEG2412', 'MEG2413', 'MEG2421', 'MEG2422', 'MEG2423', 'MEG2431', 'MEG2432', 'MEG2433', 'MEG2441', 'MEG2442', 'MEG2443', 'MEG2511', 'MEG2512', 'MEG2513', 'MEG2521', 'MEG2522', 'MEG2523', 'MEG2531', 'MEG2532', 'MEG2533', 'MEG2541', 'MEG2542', 'MEG2543', 'MEG2611', 'MEG2612', 'MEG2613', 'MEG2621', 'MEG2622', 'MEG2623', 'MEG2631', 'MEG2632', 'MEG2633', 'MEG2641', 'MEG2642', 'MEG2643', 'STI101', 'SYS201']\n",
      "Using matplotlib as 2D backend.\n",
      "Channels marked as bad: ['MEG0223']\n",
      "Original data had 319 channels.\n"
     ]
    }
   ],
   "source": [
    "#%% How to look up info and other usefull things. \n",
    "# CAN SKIP THIS WHOLE CELL, DOESNT AFFECT FURTHER STUFF\n",
    "\n",
    "#name of particular channel:\n",
    "raw.info['chs'][14]['ch_name']\n",
    "#See all channel names:\n",
    "print(raw.info['ch_names'])\n",
    "# see all avalinle info keys\n",
    "raw.info.keys()\n",
    "\n",
    "#See unit of channel number 15: (cos indexing from 0)\n",
    "raw.info['chs'][14]['unit']\n",
    "\n",
    "# Plot 5 sec of the first 30 channels.\n",
    "raw.plot(block=True, duration=5, n_channels=30)\n",
    "# HOW TO PLOT PARTICULAR RANGE OF CHANNELS?\n",
    "\n",
    "# copy into separate data variable for further manipulations, to not damage the original data:\n",
    "original_raw = raw.copy()\n",
    "\n",
    "print(f'Original data had {original_raw.info[\"nchan\"]} channels.')"
   ]
  },
  {
   "cell_type": "code",
   "execution_count": 3,
   "metadata": {},
   "outputs": [
    {
     "name": "stdout",
     "output_type": "stream",
     "text": [
      "Magnetometers:  [('MEG0111', 11), ('MEG0121', 14), ('MEG0131', 17), ('MEG0141', 20), ('MEG0211', 23), ('MEG0221', 26), ('MEG0231', 29), ('MEG0241', 32), ('MEG0311', 35), ('MEG0321', 38), ('MEG0331', 41), ('MEG0341', 44), ('MEG0411', 47), ('MEG0421', 50), ('MEG0431', 53), ('MEG0441', 56), ('MEG0511', 59), ('MEG0521', 62), ('MEG0531', 65), ('MEG0541', 68), ('MEG0611', 71), ('MEG0621', 74), ('MEG0631', 77), ('MEG0641', 80), ('MEG0711', 83), ('MEG0721', 86), ('MEG0731', 89), ('MEG0741', 92), ('MEG0811', 95), ('MEG0821', 98), ('MEG0911', 101), ('MEG0921', 104), ('MEG0931', 107), ('MEG0941', 110), ('MEG1011', 113), ('MEG1021', 116), ('MEG1031', 119), ('MEG1041', 122), ('MEG1111', 125), ('MEG1121', 128), ('MEG1131', 131), ('MEG1141', 134), ('MEG1211', 137), ('MEG1221', 140), ('MEG1231', 143), ('MEG1241', 146), ('MEG1311', 149), ('MEG1321', 152), ('MEG1331', 155), ('MEG1341', 158), ('MEG1411', 161), ('MEG1421', 164), ('MEG1431', 167), ('MEG1441', 170), ('MEG1511', 173), ('MEG1521', 176), ('MEG1531', 179), ('MEG1541', 182), ('MEG1611', 185), ('MEG1621', 188), ('MEG1631', 191), ('MEG1641', 194), ('MEG1711', 197), ('MEG1721', 200), ('MEG1731', 203), ('MEG1741', 206), ('MEG1811', 209), ('MEG1821', 212), ('MEG1831', 215), ('MEG1841', 218), ('MEG1911', 221), ('MEG1921', 224), ('MEG1931', 227), ('MEG1941', 230), ('MEG2011', 233), ('MEG2021', 236), ('MEG2031', 239), ('MEG2041', 242), ('MEG2111', 245), ('MEG2121', 248), ('MEG2131', 251), ('MEG2141', 254), ('MEG2211', 257), ('MEG2221', 260), ('MEG2231', 263), ('MEG2241', 266), ('MEG2311', 269), ('MEG2321', 272), ('MEG2331', 275), ('MEG2341', 278), ('MEG2411', 281), ('MEG2421', 284), ('MEG2431', 287), ('MEG2441', 290), ('MEG2511', 293), ('MEG2521', 296), ('MEG2531', 299), ('MEG2541', 302), ('MEG2611', 305), ('MEG2621', 308), ('MEG2631', 311), ('MEG2641', 314)]\n",
      "Gradiometers:  [('MEG0112', 12), ('MEG0113', 13), ('MEG0122', 15), ('MEG0123', 16), ('MEG0132', 18), ('MEG0133', 19), ('MEG0142', 21), ('MEG0143', 22), ('MEG0212', 24), ('MEG0213', 25), ('MEG0222', 27), ('MEG0223', 28), ('MEG0232', 30), ('MEG0233', 31), ('MEG0242', 33), ('MEG0243', 34), ('MEG0312', 36), ('MEG0313', 37), ('MEG0322', 39), ('MEG0323', 40), ('MEG0332', 42), ('MEG0333', 43), ('MEG0342', 45), ('MEG0343', 46), ('MEG0412', 48), ('MEG0413', 49), ('MEG0422', 51), ('MEG0423', 52), ('MEG0432', 54), ('MEG0433', 55), ('MEG0442', 57), ('MEG0443', 58), ('MEG0512', 60), ('MEG0513', 61), ('MEG0522', 63), ('MEG0523', 64), ('MEG0532', 66), ('MEG0533', 67), ('MEG0542', 69), ('MEG0543', 70), ('MEG0612', 72), ('MEG0613', 73), ('MEG0622', 75), ('MEG0623', 76), ('MEG0632', 78), ('MEG0633', 79), ('MEG0642', 81), ('MEG0643', 82), ('MEG0712', 84), ('MEG0713', 85), ('MEG0722', 87), ('MEG0723', 88), ('MEG0732', 90), ('MEG0733', 91), ('MEG0742', 93), ('MEG0743', 94), ('MEG0812', 96), ('MEG0813', 97), ('MEG0822', 99), ('MEG0823', 100), ('MEG0912', 102), ('MEG0913', 103), ('MEG0922', 105), ('MEG0923', 106), ('MEG0932', 108), ('MEG0933', 109), ('MEG0942', 111), ('MEG0943', 112), ('MEG1012', 114), ('MEG1013', 115), ('MEG1022', 117), ('MEG1023', 118), ('MEG1032', 120), ('MEG1033', 121), ('MEG1042', 123), ('MEG1043', 124), ('MEG1112', 126), ('MEG1113', 127), ('MEG1122', 129), ('MEG1123', 130), ('MEG1132', 132), ('MEG1133', 133), ('MEG1142', 135), ('MEG1143', 136), ('MEG1212', 138), ('MEG1213', 139), ('MEG1222', 141), ('MEG1223', 142), ('MEG1232', 144), ('MEG1233', 145), ('MEG1242', 147), ('MEG1243', 148), ('MEG1312', 150), ('MEG1313', 151), ('MEG1322', 153), ('MEG1323', 154), ('MEG1332', 156), ('MEG1333', 157), ('MEG1342', 159), ('MEG1343', 160), ('MEG1412', 162), ('MEG1413', 163), ('MEG1422', 165), ('MEG1423', 166), ('MEG1432', 168), ('MEG1433', 169), ('MEG1442', 171), ('MEG1443', 172), ('MEG1512', 174), ('MEG1513', 175), ('MEG1522', 177), ('MEG1523', 178), ('MEG1532', 180), ('MEG1533', 181), ('MEG1542', 183), ('MEG1543', 184), ('MEG1612', 186), ('MEG1613', 187), ('MEG1622', 189), ('MEG1623', 190), ('MEG1632', 192), ('MEG1633', 193), ('MEG1642', 195), ('MEG1643', 196), ('MEG1712', 198), ('MEG1713', 199), ('MEG1722', 201), ('MEG1723', 202), ('MEG1732', 204), ('MEG1733', 205), ('MEG1742', 207), ('MEG1743', 208), ('MEG1812', 210), ('MEG1813', 211), ('MEG1822', 213), ('MEG1823', 214), ('MEG1832', 216), ('MEG1833', 217), ('MEG1842', 219), ('MEG1843', 220), ('MEG1912', 222), ('MEG1913', 223), ('MEG1922', 225), ('MEG1923', 226), ('MEG1932', 228), ('MEG1933', 229), ('MEG1942', 231), ('MEG1943', 232), ('MEG2012', 234), ('MEG2013', 235), ('MEG2022', 237), ('MEG2023', 238), ('MEG2032', 240), ('MEG2033', 241), ('MEG2042', 243), ('MEG2043', 244), ('MEG2112', 246), ('MEG2113', 247), ('MEG2122', 249), ('MEG2123', 250), ('MEG2132', 252), ('MEG2133', 253), ('MEG2142', 255), ('MEG2143', 256), ('MEG2212', 258), ('MEG2213', 259), ('MEG2222', 261), ('MEG2223', 262), ('MEG2232', 264), ('MEG2233', 265), ('MEG2242', 267), ('MEG2243', 268), ('MEG2312', 270), ('MEG2313', 271), ('MEG2322', 273), ('MEG2323', 274), ('MEG2332', 276), ('MEG2333', 277), ('MEG2342', 279), ('MEG2343', 280), ('MEG2412', 282), ('MEG2413', 283), ('MEG2422', 285), ('MEG2423', 286), ('MEG2432', 288), ('MEG2433', 289), ('MEG2442', 291), ('MEG2443', 292), ('MEG2512', 294), ('MEG2513', 295), ('MEG2522', 297), ('MEG2523', 298), ('MEG2532', 300), ('MEG2533', 301), ('MEG2542', 303), ('MEG2543', 304), ('MEG2612', 306), ('MEG2613', 307), ('MEG2622', 309), ('MEG2623', 310), ('MEG2632', 312), ('MEG2633', 313), ('MEG2642', 315), ('MEG2643', 316)]\n"
     ]
    }
   ],
   "source": [
    "#%% Find magnetometers and gradiometers:\n",
    "# unit t - magenetometer. unit M_T - gradiometer. (in this set name will end with 1 for magnet, \n",
    "# with 2and3 for grad.)\n",
    "\n",
    "mags = []\n",
    "grads=[]\n",
    "\n",
    "for i, chs in enumerate(raw.info['chs']):\n",
    "\n",
    "    if str(chs['unit']).endswith('UNIT_T)'):\n",
    "        mags.append((chs['ch_name'], i))\n",
    "    elif str(chs['unit']).endswith('UNIT_T_M)'):\n",
    "        grads.append((chs['ch_name'], i))\n",
    "\n",
    "print('Magnetometers: ', mags)\n",
    "print('Gradiometers: ', grads)"
   ]
  },
  {
   "cell_type": "code",
   "execution_count": 4,
   "metadata": {},
   "outputs": [
    {
     "name": "stdout",
     "output_type": "stream",
     "text": [
      "Magnetometers:  [('MEG0111', 11), ('MEG0121', 14), ('MEG0131', 17), ('MEG0141', 20), ('MEG0211', 23), ('MEG0221', 26), ('MEG0231', 29), ('MEG0241', 32), ('MEG0311', 35), ('MEG0321', 38), ('MEG0331', 41), ('MEG0341', 44), ('MEG0411', 47), ('MEG0421', 50), ('MEG0431', 53), ('MEG0441', 56), ('MEG0511', 59), ('MEG0521', 62), ('MEG0531', 65), ('MEG0541', 68), ('MEG0611', 71), ('MEG0621', 74), ('MEG0631', 77), ('MEG0641', 80), ('MEG0711', 83), ('MEG0721', 86), ('MEG0731', 89), ('MEG0741', 92), ('MEG0811', 95), ('MEG0821', 98), ('MEG0911', 101), ('MEG0921', 104), ('MEG0931', 107), ('MEG0941', 110), ('MEG1011', 113), ('MEG1021', 116), ('MEG1031', 119), ('MEG1041', 122), ('MEG1111', 125), ('MEG1121', 128), ('MEG1131', 131), ('MEG1141', 134), ('MEG1211', 137), ('MEG1221', 140), ('MEG1231', 143), ('MEG1241', 146), ('MEG1311', 149), ('MEG1321', 152), ('MEG1331', 155), ('MEG1341', 158), ('MEG1411', 161), ('MEG1421', 164), ('MEG1431', 167), ('MEG1441', 170), ('MEG1511', 173), ('MEG1521', 176), ('MEG1531', 179), ('MEG1541', 182), ('MEG1611', 185), ('MEG1621', 188), ('MEG1631', 191), ('MEG1641', 194), ('MEG1711', 197), ('MEG1721', 200), ('MEG1731', 203), ('MEG1741', 206), ('MEG1811', 209), ('MEG1821', 212), ('MEG1831', 215), ('MEG1841', 218), ('MEG1911', 221), ('MEG1921', 224), ('MEG1931', 227), ('MEG1941', 230), ('MEG2011', 233), ('MEG2021', 236), ('MEG2031', 239), ('MEG2041', 242), ('MEG2111', 245), ('MEG2121', 248), ('MEG2131', 251), ('MEG2141', 254), ('MEG2211', 257), ('MEG2221', 260), ('MEG2231', 263), ('MEG2241', 266), ('MEG2311', 269), ('MEG2321', 272), ('MEG2331', 275), ('MEG2341', 278), ('MEG2411', 281), ('MEG2421', 284), ('MEG2431', 287), ('MEG2441', 290), ('MEG2511', 293), ('MEG2521', 296), ('MEG2531', 299), ('MEG2541', 302), ('MEG2611', 305), ('MEG2621', 308), ('MEG2631', 311), ('MEG2641', 314)]\n",
      "Gradiometers:  [('MEG0112', 12), ('MEG0113', 13), ('MEG0122', 15), ('MEG0123', 16), ('MEG0132', 18), ('MEG0133', 19), ('MEG0142', 21), ('MEG0143', 22), ('MEG0212', 24), ('MEG0213', 25), ('MEG0222', 27), ('MEG0223', 28), ('MEG0232', 30), ('MEG0233', 31), ('MEG0242', 33), ('MEG0243', 34), ('MEG0312', 36), ('MEG0313', 37), ('MEG0322', 39), ('MEG0323', 40), ('MEG0332', 42), ('MEG0333', 43), ('MEG0342', 45), ('MEG0343', 46), ('MEG0412', 48), ('MEG0413', 49), ('MEG0422', 51), ('MEG0423', 52), ('MEG0432', 54), ('MEG0433', 55), ('MEG0442', 57), ('MEG0443', 58), ('MEG0512', 60), ('MEG0513', 61), ('MEG0522', 63), ('MEG0523', 64), ('MEG0532', 66), ('MEG0533', 67), ('MEG0542', 69), ('MEG0543', 70), ('MEG0612', 72), ('MEG0613', 73), ('MEG0622', 75), ('MEG0623', 76), ('MEG0632', 78), ('MEG0633', 79), ('MEG0642', 81), ('MEG0643', 82), ('MEG0712', 84), ('MEG0713', 85), ('MEG0722', 87), ('MEG0723', 88), ('MEG0732', 90), ('MEG0733', 91), ('MEG0742', 93), ('MEG0743', 94), ('MEG0812', 96), ('MEG0813', 97), ('MEG0822', 99), ('MEG0823', 100), ('MEG0912', 102), ('MEG0913', 103), ('MEG0922', 105), ('MEG0923', 106), ('MEG0932', 108), ('MEG0933', 109), ('MEG0942', 111), ('MEG0943', 112), ('MEG1012', 114), ('MEG1013', 115), ('MEG1022', 117), ('MEG1023', 118), ('MEG1032', 120), ('MEG1033', 121), ('MEG1042', 123), ('MEG1043', 124), ('MEG1112', 126), ('MEG1113', 127), ('MEG1122', 129), ('MEG1123', 130), ('MEG1132', 132), ('MEG1133', 133), ('MEG1142', 135), ('MEG1143', 136), ('MEG1212', 138), ('MEG1213', 139), ('MEG1222', 141), ('MEG1223', 142), ('MEG1232', 144), ('MEG1233', 145), ('MEG1242', 147), ('MEG1243', 148), ('MEG1312', 150), ('MEG1313', 151), ('MEG1322', 153), ('MEG1323', 154), ('MEG1332', 156), ('MEG1333', 157), ('MEG1342', 159), ('MEG1343', 160), ('MEG1412', 162), ('MEG1413', 163), ('MEG1422', 165), ('MEG1423', 166), ('MEG1432', 168), ('MEG1433', 169), ('MEG1442', 171), ('MEG1443', 172), ('MEG1512', 174), ('MEG1513', 175), ('MEG1522', 177), ('MEG1523', 178), ('MEG1532', 180), ('MEG1533', 181), ('MEG1542', 183), ('MEG1543', 184), ('MEG1612', 186), ('MEG1613', 187), ('MEG1622', 189), ('MEG1623', 190), ('MEG1632', 192), ('MEG1633', 193), ('MEG1642', 195), ('MEG1643', 196), ('MEG1712', 198), ('MEG1713', 199), ('MEG1722', 201), ('MEG1723', 202), ('MEG1732', 204), ('MEG1733', 205), ('MEG1742', 207), ('MEG1743', 208), ('MEG1812', 210), ('MEG1813', 211), ('MEG1822', 213), ('MEG1823', 214), ('MEG1832', 216), ('MEG1833', 217), ('MEG1842', 219), ('MEG1843', 220), ('MEG1912', 222), ('MEG1913', 223), ('MEG1922', 225), ('MEG1923', 226), ('MEG1932', 228), ('MEG1933', 229), ('MEG1942', 231), ('MEG1943', 232), ('MEG2012', 234), ('MEG2013', 235), ('MEG2022', 237), ('MEG2023', 238), ('MEG2032', 240), ('MEG2033', 241), ('MEG2042', 243), ('MEG2043', 244), ('MEG2112', 246), ('MEG2113', 247), ('MEG2122', 249), ('MEG2123', 250), ('MEG2132', 252), ('MEG2133', 253), ('MEG2142', 255), ('MEG2143', 256), ('MEG2212', 258), ('MEG2213', 259), ('MEG2222', 261), ('MEG2223', 262), ('MEG2232', 264), ('MEG2233', 265), ('MEG2242', 267), ('MEG2243', 268), ('MEG2312', 270), ('MEG2313', 271), ('MEG2322', 273), ('MEG2323', 274), ('MEG2332', 276), ('MEG2333', 277), ('MEG2342', 279), ('MEG2343', 280), ('MEG2412', 282), ('MEG2413', 283), ('MEG2422', 285), ('MEG2423', 286), ('MEG2432', 288), ('MEG2433', 289), ('MEG2442', 291), ('MEG2443', 292), ('MEG2512', 294), ('MEG2513', 295), ('MEG2522', 297), ('MEG2523', 298), ('MEG2532', 300), ('MEG2533', 301), ('MEG2542', 303), ('MEG2543', 304), ('MEG2612', 306), ('MEG2613', 307), ('MEG2622', 309), ('MEG2623', 310), ('MEG2632', 312), ('MEG2633', 313), ('MEG2642', 315), ('MEG2643', 316)]\n"
     ]
    }
   ],
   "source": [
    "#%%other way (shorter):\n",
    "mags = [(chs['ch_name'], i) for i, chs in enumerate(raw.info['chs']) if str(chs['unit']).endswith('UNIT_T)')]\n",
    "print('Magnetometers: ', mags)\n",
    "\n",
    "grads = [(chs['ch_name'], i) for i, chs in enumerate(raw.info['chs']) if str(chs['unit']).endswith('UNIT_T_M)')]\n",
    "print('Gradiometers: ', grads)"
   ]
  },
  {
   "cell_type": "code",
   "execution_count": 5,
   "metadata": {},
   "outputs": [],
   "source": [
    "#%% Found one more way using mne itself (check if shows the same as mine!)\n",
    "picks_grad = mne.pick_types(raw.info, meg='grad', eeg=False, eog=True, stim=False)\n",
    "picks_mag = mne.pick_types(raw.info, meg='mag', eeg=False, eog=True, stim=False)\n",
    "\n",
    "#Yes, shows the same as my code. Gives indexes of mags and grads (starting from 0), but no channel names."
   ]
  },
  {
   "cell_type": "code",
   "execution_count": null,
   "metadata": {},
   "outputs": [],
   "source": [
    "# %% Pick all meg channels type to calculater RMSE or STD of them.\n",
    "# Commented as this might be usefull later, but not at the moment.\n",
    "#This method doesnt separate magnetometers and gradiometers, just meg channels in total.\n",
    "\n",
    "#picks = mne.pick_types(original_raw.info, meg=True, exclude='bads')  \n",
    "#data, times = original_raw[picks, :]  \n",
    "\n",
    "#data now contains all meg channels (magnetometers_gradiometers mixed), it s 2d.\n",
    "#times is just time vector, same for any tiype of channel."
   ]
  },
  {
   "cell_type": "code",
   "execution_count": 6,
   "metadata": {},
   "outputs": [],
   "source": [
    "# Separate data for mags and grads in 2 arrays.\n",
    "selected_mags = [item[1] for item in mags]\n",
    "selected_grads = [item[1] for item in grads]\n",
    "data_mags, times = raw[selected_mags, :]  \n",
    "data_grads, times = raw[selected_grads, :]  "
   ]
  },
  {
   "cell_type": "code",
   "execution_count": 7,
   "metadata": {},
   "outputs": [
    {
     "name": "stdout",
     "output_type": "stream",
     "text": [
      "Mean of magnetometers data:  5.406334593332269e-09\n",
      "Max of magnetometers data:  7.279099942856678e-09\n",
      "Min of magnetometers data:  3.979593539593774e-09\n",
      "Mean of gradiometers data:  4.1068110485773304e-07\n",
      "Max of gradiometers data:  5.538080097222508e-07\n",
      "Min of gradiometers data:  2.5143656856750294e-07\n"
     ]
    }
   ],
   "source": [
    "# %% Calculate STD or RMSE of each channel\n",
    "\n",
    "#Time how long it takes to calculate STD or RMSE:\n",
    "import time\n",
    "t0_std = time.time()\n",
    "\n",
    "#STD:\n",
    "std_mags=np.std(data_mags, axis=1) #calculate std of all magnetometers (along second dimantion)\n",
    "std_grads=np.std(data_grads, axis=1) #calculate std of all gradiometers (along second dimantion)\n",
    "\n",
    "t1_std = time.time()\n",
    "total_time_std = t1_std-t0_std\n",
    "\n",
    "print('Mean of magnetometers data: ', np.mean(std_mags)) #average std\n",
    "print('Max of magnetometers data: ',max(std_mags)) #highest std\n",
    "print('Min of magnetometers data: ',min(std_mags)) #lowest std.\n",
    "print('Mean of gradiometers data: ', np.mean(std_grads)) #average std\n",
    "print('Max of gradiometers data: ',max(std_grads)) #highest std\n",
    "print('Min of gradiometers data: ',min(std_grads)) #lowest std."
   ]
  },
  {
   "cell_type": "code",
   "execution_count": 9,
   "metadata": {},
   "outputs": [
    {
     "name": "stdout",
     "output_type": "stream",
     "text": [
      "Mean of magnetometers data:  5.406334593332269e-09\n",
      "Max of magnetometers data:  7.279099942856678e-09\n",
      "Min of magnetometers data:  3.979593539593774e-09\n",
      "Mean of gradiometers data:  4.1068110485773304e-07\n",
      "Max of gradiometers data:  5.538080097222508e-07\n",
      "Min of gradiometers data:  2.5143656856750294e-07\n",
      "Time to calculate std:  89.44872212409973\n",
      "Time to calculate rmse:  10.249632120132446\n"
     ]
    }
   ],
   "source": [
    "#%% RMSE:\n",
    "# https://stackoverflow.com/questions/17197492/is-there-a-library-function-for-root-mean-square-error-rmse-in-python\n",
    "\n",
    "t0_rmse = time.time()\n",
    "\n",
    "from sklearn.metrics import mean_squared_error\n",
    "\n",
    "#Magnitometers:\n",
    "y_actual_mags=data_mags\n",
    "y_predicted_mags=data_mags.mean(axis=1)\n",
    "#yeah i know i dont need to rename it, just easier for me this way to deal with RMSE concept\n",
    "\n",
    "error_vec_mags = np.zeros(len(y_predicted_mags)) #RMSE of all magnetometers\n",
    "\n",
    "for i in range(len(y_predicted_mags)):\n",
    "    #print(i)\n",
    "    #print(y_actual[i, :])\n",
    "    #print(y_predicted[i])\n",
    "    y_predicted_vec_mags=np.ones(len(y_actual_mags[0]))*y_predicted_mags[i]\n",
    "    error_vec_mags[i] = mean_squared_error(y_actual_mags[i, :], y_predicted_vec_mags, squared=False)\n",
    "\n",
    "#Gradiometers:\n",
    "y_actual_grads=data_grads\n",
    "y_predicted_grads=data_grads.mean(axis=1)\n",
    "#yeah i know i dont need to rename it, just easier for me this way to deal with RMSE concept\n",
    "\n",
    "error_vec_grads = np.zeros(len(y_predicted_grads)) #RMSE of all gradiometers\n",
    "\n",
    "for i in range(len(y_predicted_grads)):\n",
    "    #print(i)\n",
    "    #print(y_actual[i, :])\n",
    "    #print(y_predicted[i])\n",
    "    y_predicted_vec_grads=np.ones(len(y_actual_grads[0]))*y_predicted_grads[i]\n",
    "    error_vec_grads[i] = mean_squared_error(y_actual_grads[i, :], y_predicted_vec_grads, squared=False)\n",
    "\n",
    "\n",
    "print('Mean of magnetometers data: ', np.mean(error_vec_mags)) #average RMSE\n",
    "print('Max of magnetometers data: ',max(error_vec_mags)) #highest RMSE\n",
    "print('Min of magnetometers data: ',min(error_vec_mags)) #lowest RMSE\n",
    "print('Mean of gradiometers data: ', np.mean(error_vec_grads)) #average RMSE\n",
    "print('Max of gradiometers data: ',max(error_vec_grads)) #highest RMSE\n",
    "print('Min of gradiometers data: ',min(error_vec_grads)) #lowest RMSE\n",
    "\n",
    "\n",
    "t1_rmse = time.time()\n",
    "total_time_rmse = t1_rmse-t0_rmse\n",
    "\n",
    "print('Time to calculate std: ', total_time_std)\n",
    "print('Time to calculate rmse: ', total_time_rmse)\n",
    "\n",
    "#STD CALCULATION IS MUCH LESS COdE BUT TAKES LONGER THAN RMSE\n"
   ]
  },
  {
   "cell_type": "code",
   "execution_count": 10,
   "metadata": {},
   "outputs": [
    {
     "name": "stdout",
     "output_type": "stream",
     "text": [
      "Magnetometer with largest STD:  MEG2311\n",
      "Gradiometer with largest STD:  MEG1542\n"
     ]
    }
   ],
   "source": [
    "# %% Pick channel with largest STD (RMSE)?\n",
    "# HOW DO WE DECIDE WHICH CHANNELS TO PICK? ANY PARTICULSR LIMIT?\n",
    "# If not - just display here channels with largest STD for user to decide\n",
    "largest_std_mags= np.where(std_mags == max(std_mags))\n",
    "largest_std_grads= np.where(std_grads == max(std_grads))\n",
    "\n",
    "mag_channel_largest_std=mags[largest_std_mags[0][0]]\n",
    "grad_channel_largest_std=grads[largest_std_grads[0][0]]\n",
    "print('Magnetometer with largest STD: ', mag_channel_largest_std[0])\n",
    "print('Gradiometer with largest STD: ', grad_channel_largest_std[0])"
   ]
  },
  {
   "cell_type": "code",
   "execution_count": 11,
   "metadata": {},
   "outputs": [
    {
     "data": {
      "text/plain": [
       "<MNEBrowseFigure size 1600x1600 with 5 Axes>"
      ]
     },
     "execution_count": 11,
     "metadata": {},
     "output_type": "execute_result"
    }
   ],
   "source": [
    "#%% Now want to see these 2 channels. \n",
    "#chans = ['MEG2311', 'MEG1542']\n",
    "noisy_chans = [mag_channel_largest_std[0], grad_channel_largest_std[0]]\n",
    "chan_idxs = [raw.ch_names.index(ch) for ch in noisy_chans]\n",
    "#original_raw.plot(order=chan_idxs, start=12, duration=4)\n",
    "raw.plot(order=chan_idxs, start=12, duration=4) #plot here only a part of channel."
   ]
  },
  {
   "cell_type": "code",
   "execution_count": null,
   "metadata": {},
   "outputs": [],
   "source": [
    "# %% ADD CHANNELS TO BADS. \n",
    "# In case we want to. This is unchanged example from tutorial, dont know if we need to do that:\n",
    "\n",
    "original_bads = deepcopy(raw.info['bads'])\n",
    "raw.info['bads'].append('EEG 050')               # add a single channel\n",
    "raw.info['bads'].extend(['EEG 051', 'EEG 052'])  # add a list of channels\n",
    "bad_chan = raw.info['bads'].pop(-1)  # remove the last entry in the list\n",
    "raw.info['bads'] = original_bads     # change the whole list at once"
   ]
  },
  {
   "cell_type": "code",
   "execution_count": 12,
   "metadata": {},
   "outputs": [
    {
     "name": "stdout",
     "output_type": "stream",
     "text": [
      "Removing projector <Projection | magn8_iasoff_68deg.fif : PCA-v1, active : False, n_channels : 306>\n",
      "Removing projector <Projection | magn8_iasoff_68deg.fif : PCA-v2, active : False, n_channels : 306>\n",
      "Removing projector <Projection | magn8_iasoff_68deg.fif : PCA-v3, active : False, n_channels : 306>\n",
      "Removing projector <Projection | magn8_iasoff_68deg.fif : PCA-v4, active : False, n_channels : 306>\n",
      "Removing projector <Projection | magn8_iasoff_68deg.fif : PCA-v5, active : False, n_channels : 306>\n",
      "Removing projector <Projection | magn8_iasoff_68deg.fif : PCA-v6, active : False, n_channels : 306>\n",
      "Removing projector <Projection | magn8_iasoff_68deg.fif : PCA-v7, active : False, n_channels : 306>\n",
      "Removing projector <Projection | magn8_iasoff_68deg.fif : PCA-v8, active : False, n_channels : 306>\n"
     ]
    },
    {
     "data": {
      "text/plain": [
       "<MNEBrowseFigure size 1600x1600 with 4 Axes>"
      ]
     },
     "execution_count": 12,
     "metadata": {},
     "output_type": "execute_result"
    }
   ],
   "source": [
    "#%% Extracting events and then epoching the data:\n",
    "# \n",
    "# \"STIM channels record voltages (usually short, rectangular DC pulses of fixed magnitudes sent from \n",
    "# the experiment-controlling computer) that are time-locked to experimental events, such as the \n",
    "# onset of a stimulus or a button-press response by the subject (those pulses are sometimes called \n",
    "# TTL pulses, event pulses, trigger signals, or just “triggers”). In other cases, these pulses may \n",
    "# not be strictly time-locked to an experimental event, but instead may occur in between trials \n",
    "# to indicate the type of stimulus (or experimental condition) that is about to occur on the \n",
    "# upcoming trial.\"\n",
    "\n",
    "#Look at the stimulus channel (can limit to only 3-6 sec here for example, or not):\n",
    "#raw.copy().pick_types(meg=False, stim=True).plot(start=3, duration=6)\n",
    "raw.copy().pick_types(meg=False, stim=True).plot()"
   ]
  },
  {
   "cell_type": "code",
   "execution_count": 13,
   "metadata": {},
   "outputs": [
    {
     "name": "stdout",
     "output_type": "stream",
     "text": [
      "Trigger channel has a non-zero initial value of 18 (consider using initial_event=True to detect this event)\n",
      "3199 events found\n",
      "Event IDs: [         9         19         21         23         27         31\n",
      "      16393      16402      16403      16404      16405      16406\n",
      "      16409      16411      32741      32746      32747      32748\n",
      "      32749      32750      32759  557497010  894571689 1326984409\n",
      " 1337721576 1702001013]\n"
     ]
    },
    {
     "name": "stderr",
     "output_type": "stream",
     "text": [
      "/var/folders/h2/khhmb4p510vg63hbv0qkftt80000gs/T/ipykernel_74410/2992916502.py:2: RuntimeWarning: Trigger channel contains negative values, using absolute value. If data were acquired on a Neuromag system with STI016 active, consider using uint_cast=True to work around an acquisition bug\n",
      "  events = mne.find_events(raw, stim_channel='STI101')\n"
     ]
    },
    {
     "ename": "ValueError",
     "evalue": "You have 299 events shorter than the shortest_event. These are very unusual and you may want to set min_duration to a larger value e.g. x / raw.info['sfreq']. Where x = 1 sample shorter than the shortest event length.",
     "output_type": "error",
     "traceback": [
      "\u001b[0;31m---------------------------------------------------------------------------\u001b[0m",
      "\u001b[0;31mValueError\u001b[0m                                Traceback (most recent call last)",
      "\u001b[0;32m/var/folders/h2/khhmb4p510vg63hbv0qkftt80000gs/T/ipykernel_74410/2992916502.py\u001b[0m in \u001b[0;36m<module>\u001b[0;34m\u001b[0m\n\u001b[1;32m      1\u001b[0m \u001b[0;31m#%% HERE PROBLEMS WITH EVENTS START:\u001b[0m\u001b[0;34m\u001b[0m\u001b[0;34m\u001b[0m\u001b[0m\n\u001b[0;32m----> 2\u001b[0;31m \u001b[0mevents\u001b[0m \u001b[0;34m=\u001b[0m \u001b[0mmne\u001b[0m\u001b[0;34m.\u001b[0m\u001b[0mfind_events\u001b[0m\u001b[0;34m(\u001b[0m\u001b[0mraw\u001b[0m\u001b[0;34m,\u001b[0m \u001b[0mstim_channel\u001b[0m\u001b[0;34m=\u001b[0m\u001b[0;34m'STI101'\u001b[0m\u001b[0;34m)\u001b[0m\u001b[0;34m\u001b[0m\u001b[0;34m\u001b[0m\u001b[0m\n\u001b[0m\u001b[1;32m      3\u001b[0m \u001b[0;34m\u001b[0m\u001b[0m\n\u001b[1;32m      4\u001b[0m \u001b[0;31m#STI101 is stim data in this file. might be different name in another!\u001b[0m\u001b[0;34m\u001b[0m\u001b[0;34m\u001b[0m\u001b[0m\n\u001b[1;32m      5\u001b[0m \u001b[0;31m# (it can be STI 014 in older systems for example).\u001b[0m\u001b[0;34m\u001b[0m\u001b[0;34m\u001b[0m\u001b[0m\n",
      "\u001b[0;32m<decorator-gen-196>\u001b[0m in \u001b[0;36mfind_events\u001b[0;34m(raw, stim_channel, output, consecutive, min_duration, shortest_event, mask, uint_cast, mask_type, initial_event, verbose)\u001b[0m\n",
      "\u001b[0;32m~/opt/anaconda3/envs/mne_new/lib/python3.9/site-packages/mne/event.py\u001b[0m in \u001b[0;36mfind_events\u001b[0;34m(raw, stim_channel, output, consecutive, min_duration, shortest_event, mask, uint_cast, mask_type, initial_event, verbose)\u001b[0m\n\u001b[1;32m    721\u001b[0m         \u001b[0mn_short_events\u001b[0m \u001b[0;34m=\u001b[0m \u001b[0mnp\u001b[0m\u001b[0;34m.\u001b[0m\u001b[0msum\u001b[0m\u001b[0;34m(\u001b[0m\u001b[0mnp\u001b[0m\u001b[0;34m.\u001b[0m\u001b[0mdiff\u001b[0m\u001b[0;34m(\u001b[0m\u001b[0mevents\u001b[0m\u001b[0;34m[\u001b[0m\u001b[0;34m:\u001b[0m\u001b[0;34m,\u001b[0m \u001b[0;36m0\u001b[0m\u001b[0;34m]\u001b[0m\u001b[0;34m)\u001b[0m \u001b[0;34m<\u001b[0m \u001b[0mshortest_event\u001b[0m\u001b[0;34m)\u001b[0m\u001b[0;34m\u001b[0m\u001b[0;34m\u001b[0m\u001b[0m\n\u001b[1;32m    722\u001b[0m         \u001b[0;32mif\u001b[0m \u001b[0mn_short_events\u001b[0m \u001b[0;34m>\u001b[0m \u001b[0;36m0\u001b[0m\u001b[0;34m:\u001b[0m\u001b[0;34m\u001b[0m\u001b[0;34m\u001b[0m\u001b[0m\n\u001b[0;32m--> 723\u001b[0;31m             raise ValueError(\"You have %i events shorter than the \"\n\u001b[0m\u001b[1;32m    724\u001b[0m                              \u001b[0;34m\"shortest_event. These are very unusual and you \"\u001b[0m\u001b[0;34m\u001b[0m\u001b[0;34m\u001b[0m\u001b[0m\n\u001b[1;32m    725\u001b[0m                              \u001b[0;34m\"may want to set min_duration to a larger value \"\u001b[0m\u001b[0;34m\u001b[0m\u001b[0;34m\u001b[0m\u001b[0m\n",
      "\u001b[0;31mValueError\u001b[0m: You have 299 events shorter than the shortest_event. These are very unusual and you may want to set min_duration to a larger value e.g. x / raw.info['sfreq']. Where x = 1 sample shorter than the shortest event length."
     ]
    }
   ],
   "source": [
    "#%% HERE PROBLEMS WITH EVENTS START:\n",
    "events = mne.find_events(raw, stim_channel='STI101')\n",
    "\n",
    "#STI101 is stim data in this file. might be different name in another! \n",
    "# (it can be STI 014 in older systems for example). \n",
    "# There can as well be several sti channels, and we need the main one which summs all the others.\n",
    "# HERE WRITE THE CODE THAT WILL AUTOMATICALLY DETECT THE MAIN STI CHANNEL OR allow mne to find it itself\n",
    "# (see long comment below)\n",
    "# ...\n",
    "\n",
    "#now look at events:\n",
    "print(events[:5])  # show the first 5\n",
    "#doesnt work. says smth is wrong with event duration. tried to fix, but no so far:\n",
    "events = mne.find_events(raw, stim_channel='STI101', min_duration=1/raw.info['sfreq']) \n",
    "\n",
    "#try to not use STI101 channel and let mne find events itself - also not:\n",
    "events = mne.find_events(raw)\n",
    "\n",
    "#\"If you don’t provide the name of a STIM channel, find_events will first look for MNE-Python \n",
    "# config variables for variables MNE_STIM_CHANNEL, MNE_STIM_CHANNEL_1, etc. If those are not \n",
    "# found, channels STI 014 and STI101 are tried, followed by the first channel with type “STIM” \n",
    "# present in raw.ch_names. If you regularly work with data from several different MEG systems \n",
    "# with different STIM channel names, setting the MNE_STIM_CHANNEL config variable may not be \n",
    "# very useful, but for researchers whose data is all from a single system it can be a time-saver \n",
    "# to configure that variable once and then forget about it.\"\n",
    "\n",
    "# findevents description:\n",
    "# https://mne.tools/stable/generated/mne.find_events.html#mne.find_events\n",
    "# https://mne.tools/stable/auto_tutorials/intro/20_events_from_raw.html"
   ]
  },
  {
   "cell_type": "code",
   "execution_count": null,
   "metadata": {},
   "outputs": [],
   "source": [
    "#%% EPOCHING DOESNT WORK BECAUSE EVENTS EXTRACTION DOESNT WORK. HOW TO FIX?\n",
    "\n",
    "# Continue working with events - extra features:\n",
    "\n",
    "# How to detect events to then epoch data:\n",
    "#https://mne.tools/stable/auto_tutorials/intro/10_overview.html#sphx-glr-auto-tutorials-intro-10-overview-py\n",
    "\n",
    "\n",
    "#create even dictionary if needed:\n",
    "event_dict = {'auditory/left': 1, 'auditory/right': 2, 'visual/left': 3,\n",
    "              'visual/right': 4, 'smiley': 5, 'buttonpress': 32}\n",
    "\n",
    "#This here would allow to reject particular epochs in data. Values are copid from tutorial.\n",
    "#We would need to first epoch our own data, calcukate std over different epochs and channels \n",
    "# and then decide whic values to put here.\n",
    "\n",
    "reject_criteria = dict(mag=4000e-15,     # 4000 fT\n",
    "                       grad=4000e-13,    # 4000 fT/cm\n",
    "                       eeg=150e-6,       # 150 µV\n",
    "                       eog=250e-6)       # 250 µV\n",
    "\n",
    "\n",
    "epochs = mne.Epochs(raw, events, event_id=event_dict, tmin=-0.2, tmax=0.5,\n",
    "                    reject=reject_criteria, preload=True)\n",
    "\n",
    "#or like this:\n",
    "# Construct Epochs\n",
    "event_id, tmin, tmax = 1, -1., 3.\n",
    "baseline = (None, 0)\n",
    "epochs = mne.Epochs(raw, events, event_id, tmin, tmax, picks=picks,\n",
    "                    baseline=baseline, reject=dict(grad=4000e-13, eog=350e-6),\n",
    "                    preload=True)\n",
    "\n",
    "#once these work - look for further steps in link above.      "
   ]
  }
 ],
 "metadata": {
  "interpreter": {
   "hash": "d401ab1bf6dd7bb97662b0feb1321a641d60d04842bfa92b47f7871360972b5d"
  },
  "kernelspec": {
   "display_name": "Python 3.9.7 64-bit ('mne_new': conda)",
   "language": "python",
   "name": "python3"
  },
  "language_info": {
   "codemirror_mode": {
    "name": "ipython",
    "version": 3
   },
   "file_extension": ".py",
   "mimetype": "text/x-python",
   "name": "python",
   "nbconvert_exporter": "python",
   "pygments_lexer": "ipython3",
   "version": "3.9.7"
  },
  "orig_nbformat": 4
 },
 "nbformat": 4,
 "nbformat_minor": 2
}
